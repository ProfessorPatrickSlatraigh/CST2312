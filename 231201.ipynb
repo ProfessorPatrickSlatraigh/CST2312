{
  "nbformat": 4,
  "nbformat_minor": 0,
  "metadata": {
    "colab": {
      "name": "231201.ipynb",
      "provenance": [],
      "authorship_tag": "ABX9TyMzyDXVefbYl9pS0l+OBku6",
      "include_colab_link": true
    },
    "kernelspec": {
      "name": "python3",
      "display_name": "Python 3"
    },
    "language_info": {
      "name": "python"
    }
  },
  "cells": [
    {
      "cell_type": "markdown",
      "metadata": {
        "id": "view-in-github",
        "colab_type": "text"
      },
      "source": [
        "<a href=\"https://colab.research.google.com/github/ProfessorPatrickSlatraigh/CST2312/blob/main/231201.ipynb\" target=\"_parent\"><img src=\"https://colab.research.google.com/assets/colab-badge.svg\" alt=\"Open In Colab\"/></a>"
      ]
    },
    {
      "cell_type": "markdown",
      "source": [
        "# *First Attempt at Colab*\n",
        "\n",
        "This notebook is our class attempt at creating a new Jupyter notebook in Colab."
      ],
      "metadata": {
        "id": "ykh0zgpQsP76"
      }
    },
    {
      "cell_type": "code",
      "execution_count": 4,
      "metadata": {
        "colab": {
          "base_uri": "https://localhost:8080/"
        },
        "id": "MdAaxLzNprfP",
        "outputId": "772353f1-749f-45ce-f17c-d231d6dc4897"
      },
      "outputs": [
        {
          "output_type": "stream",
          "name": "stdout",
          "text": [
            "Hello World!\n",
            "This line #2 of snippet#1\n"
          ]
        }
      ],
      "source": [
        "print(\"Hello World!\")\n",
        "print(\"This line #2 of snippet#1\")\n",
        "# this notebook is an example from class on 02-Feb-2022"
      ]
    },
    {
      "cell_type": "code",
      "source": [
        "print(\"This is snippet #2\")"
      ],
      "metadata": {
        "colab": {
          "base_uri": "https://localhost:8080/"
        },
        "id": "dP9WE_akq1H2",
        "outputId": "981d7cda-046c-4b2a-d1f1-21f08c749c55"
      },
      "execution_count": 7,
      "outputs": [
        {
          "output_type": "stream",
          "name": "stdout",
          "text": [
            "This is snippet #2\n"
          ]
        }
      ]
    },
    {
      "cell_type": "code",
      "source": [
        "print(\"I inserted this snippet after snippet # 2\")"
      ],
      "metadata": {
        "colab": {
          "base_uri": "https://localhost:8080/"
        },
        "id": "-Gy1r3i5sBDj",
        "outputId": "d21337f6-772d-45ff-ca0a-989b4f6de538"
      },
      "execution_count": 8,
      "outputs": [
        {
          "output_type": "stream",
          "name": "stdout",
          "text": [
            "I inserted this snippet after snippet # 2\n"
          ]
        }
      ]
    }
  ]
}