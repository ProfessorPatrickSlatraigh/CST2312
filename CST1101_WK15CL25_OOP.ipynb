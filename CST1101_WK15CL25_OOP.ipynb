{
  "nbformat": 4,
  "nbformat_minor": 0,
  "metadata": {
    "colab": {
      "name": "CST1101_WK15CL25_OOP.ipynb",
      "provenance": [],
      "collapsed_sections": [
        "6YJx4aYyvjOP",
        "nlWzBnPSC25f",
        "jkLyS9KlQaSU",
        "FBNIzimYUdu3",
        "ttY4LIpTjDsG",
        "X7aRsijWmzZ4",
        "G7SW9EK1sOp8"
      ],
      "include_colab_link": true
    },
    "kernelspec": {
      "name": "python3",
      "display_name": "Python 3"
    },
    "language_info": {
      "name": "python"
    }
  },
  "cells": [
    {
      "cell_type": "markdown",
      "metadata": {
        "id": "view-in-github",
        "colab_type": "text"
      },
      "source": [
        "<a href=\"https://colab.research.google.com/github/ProfessorPatrickSlatraigh/CST2312/blob/main/CST1101_WK15CL25_OOP.ipynb\" target=\"_parent\"><img src=\"https://colab.research.google.com/assets/colab-badge.svg\" alt=\"Open In Colab\"/></a>"
      ]
    },
    {
      "cell_type": "markdown",
      "metadata": {
        "id": "XxcCFPq0Jh3b"
      },
      "source": [
        "# **Object Oriented Programming (OOP)**\n",
        "\n",
        "*CST1101 Week 15, Class 25*\n",
        "\n",
        "This notebook attaches to a Google Drive for access to files.\n",
        "\n",
        "The following Python libraries are used in this notebook: \n",
        "\n",
        "*   sys\n",
        "\n",
        "This notebook includes the Python source code for the following :\n",
        "\n",
        "1.   CST1101_WK15_CL25_my_module.py: \n",
        "https://drive.google.com/file/d/1gwslKw6WBB7fM_ghDmm5ZrF_BoEk2WKB/view?usp=sharing\n",
        "\n",
        "2.   CST1101_WK15_CL25_selected_os_imports.py: \n",
        "https://drive.google.com/file/d/1UMgVl2cSB5L6FhFBa10WFNqdlMGujTAU/view?usp=sharing\n",
        "\n",
        "3.   CST1101_WK15_CL25_my_class.py: \n",
        "https://drive.google.com/file/d/1aiZZaeco6HwF5mxfXGxQF0p0lFC4CRGS/view?usp=sharing\n",
        "\n",
        "4.   CST1101_WK15_CL25_class_Point.py: \n",
        "https://drive.google.com/file/d/1Lmrtjb85_9m2-uIIJjnByRKR2Fc4iElb/view?usp=sharing\n",
        "\n",
        "5.   CST1101_WK15_CL25_class_TalkTo.py: \n",
        "https://drive.google.com/file/d/1wEMyVE1BDGPTB-tHem3dZ_HHjWGS6IXi/view?usp=sharing\n",
        "\n",
        "6.   CST1101_WK15_CL25_class_Account.py: \n",
        "https://drive.google.com/file/d/1NNjP7RERjJ4OqRORlQppP-5RWUYx5BHB/view?usp=sharing\n",
        "\n"
      ]
    },
    {
      "cell_type": "markdown",
      "metadata": {
        "id": "J2IhSkLqvfpi"
      },
      "source": [
        "\n",
        "\n",
        "---\n",
        "\n"
      ]
    },
    {
      "cell_type": "markdown",
      "metadata": {
        "id": "6YJx4aYyvjOP"
      },
      "source": [
        "## **Review:**\n",
        "\n",
        "*   Inspecting and Researching Objects\n",
        "*   Setting Up Colab to Access Files\n",
        "*   Create Your Own Module and Import It"
      ]
    },
    {
      "cell_type": "markdown",
      "metadata": {
        "id": "nlWzBnPSC25f"
      },
      "source": [
        "### **Inspecting and Researching Objects**\n"
      ]
    },
    {
      "cell_type": "markdown",
      "metadata": {
        "id": "8VnorI01vqEK"
      },
      "source": [
        "When you have questions about a variable or object in Python, you can get some good insights by inspecting it with the builtin **dir()** function.\n",
        "\n",
        "Also consider doing some online research when you have questions or run into a problem -- all programmers do!\n",
        "\n",
        "Some good (free) places to look for information to help with Python questions include: \n",
        "\n",
        "*   **StackOverflow** - stackoverflow.com\n",
        "*   **DataCamp** - datacamp.com\n",
        "*   **YouTube** - youtube.com\n",
        "*   **Reddit** - reddit.com/r/Python\n",
        "*   **Discord** - pythondiscord.com and discord.com\n",
        "*   **GitHub** - github.com for sample, open source programs in Python\n",
        "*   **Google** - yes, Google searches and Google dorking at google.com\n",
        "*   **Python.org** - for all the latest updates and documentation\n"
      ]
    },
    {
      "cell_type": "markdown",
      "metadata": {
        "id": "AGmin_oqJrsh"
      },
      "source": [
        "**dir()** is a powerful inbuilt function in Python3, which returns list of the attributes and methods of any object (say functions , modules, strings, lists, dictionaries etc.)\n",
        "\n",
        "```\n",
        "Syntax:  dir(object)\n",
        "\n",
        "Parameter (argument) is optional\n",
        "```\n",
        "\n",
        "**dir() **tries to return a description of attributes of the object passed as an argument to the function.  dir() function behaves differently with different type of objects, trying to produce the most relevant information, rather than the complete information available.  It does not return the object’s value but rather it’s attributes.\n",
        "When no argument is provided, dir() returns a list of known objects\n"
      ]
    },
    {
      "cell_type": "code",
      "metadata": {
        "id": "VLtLVH2hJc4i"
      },
      "source": [
        "dir()"
      ],
      "execution_count": null,
      "outputs": []
    },
    {
      "cell_type": "code",
      "metadata": {
        "id": "-uK2dCldKHuW"
      },
      "source": [
        "x=1"
      ],
      "execution_count": null,
      "outputs": []
    },
    {
      "cell_type": "code",
      "metadata": {
        "id": "YGvEBMOwKEnw"
      },
      "source": [
        "dir()"
      ],
      "execution_count": null,
      "outputs": []
    },
    {
      "cell_type": "code",
      "metadata": {
        "id": "KU9sCacBKQCc"
      },
      "source": [
        "dir(x.__str__)"
      ],
      "execution_count": null,
      "outputs": []
    },
    {
      "cell_type": "code",
      "metadata": {
        "id": "Rn4S9RSXKZPR"
      },
      "source": [
        "x = 1\n",
        "s = x.__str__()\n",
        "print(s)\n"
      ],
      "execution_count": null,
      "outputs": []
    },
    {
      "cell_type": "markdown",
      "metadata": {
        "id": "VipmbxlnKF0C"
      },
      "source": [
        "There is a lot going on when even when we do what seems like a simple task in Python (or any programming language)\n",
        "\n",
        "Remember that eventually our commands and statements need to be translated into machine code at some level for the computer to know what to do.  There can be many levels of abstraction/detail on the way to the binary information our computer needs to do its job.\n"
      ]
    },
    {
      "cell_type": "markdown",
      "metadata": {
        "id": "w5bQuabSCZpq"
      },
      "source": [
        "\n",
        "\n",
        "---\n",
        "\n"
      ]
    },
    {
      "cell_type": "markdown",
      "metadata": {
        "id": "jkLyS9KlQaSU"
      },
      "source": [
        "### **Setting Up Colab to Access Files**"
      ]
    },
    {
      "cell_type": "markdown",
      "metadata": {
        "id": "5HyI6D9dCbAz"
      },
      "source": [
        "**Attaching Your Google Drive**\n",
        "\n",
        "One easy way to access files from Colab is to host the files on your Google Drive account.\n",
        "\n",
        "Before you mount your Google Drive you will see that your Colab session has a /content folder with a /sample_data folder below it.  Those folders are started automatically each time you start a Colab session \n",
        "\n",
        "*When you are in Colab you can click the folder icon on the left side of your browser to see the folders attached to your Colab session.*\n",
        "\n",
        "\n"
      ]
    },
    {
      "cell_type": "markdown",
      "metadata": {
        "id": "r5KINiy1NGcJ"
      },
      "source": [
        "![colab_folders_pptx.png](data:image/png;base64,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)"
      ]
    },
    {
      "cell_type": "markdown",
      "metadata": {
        "id": "xjksT20cNKi-"
      },
      "source": [
        "In addition to the \\sample_data folder and the files that Colab provides there, you can attach your Google Drive and access any folders and files you have on Google Drive.  The process of attaching a drive to your session is called mounting the drive.\n",
        "\n",
        "From Colab, you can use Python to mount your Google Drive.  Mounting your Google Drive in Colab makes the Google Drive folders available to Colab.\n",
        "\n",
        "From Colab, the root of your Google Drive will look like this: \n",
        "\n",
        "```\n",
        "/content/gdrive\n",
        "```\n",
        "\n",
        "**Here are the steps to mount your Google Drive in Colab**\n",
        "\n",
        "1.   Run the following snippet of code you mount your Google Drive\n",
        "2.   Google Drive will want to validate you are the owner of the Google Drive\n",
        "3.   A link will be displayed for you to login to Google Drive\n",
        "4.   Once you successfully login, Google Drive will give you a long code to use\n",
        "5.   Copy that Googe Drive code and paste it into the prompt back in Colab\n",
        "6.   Hit enter at the end of the code you pasted and Colab should attach Google Drive\n",
        "\n"
      ]
    },
    {
      "cell_type": "code",
      "metadata": {
        "colab": {
          "base_uri": "https://localhost:8080/"
        },
        "id": "ZYJHtbvPOo-m",
        "outputId": "e08dfcf5-4dbd-46da-883f-e2c7e98b3659"
      },
      "source": [
        "from google.colab import drive\n",
        "\n",
        "drive.mount('/content/gdrive')"
      ],
      "execution_count": 1,
      "outputs": [
        {
          "output_type": "stream",
          "name": "stdout",
          "text": [
            "Mounted at /content/gdrive\n"
          ]
        }
      ]
    },
    {
      "cell_type": "code",
      "metadata": {
        "id": "5yrQ9QGeXfZw"
      },
      "source": [
        "dir('/content/gdrive/MyDrive/scripts/my_module.py')"
      ],
      "execution_count": null,
      "outputs": []
    },
    {
      "cell_type": "markdown",
      "metadata": {
        "id": "ptTRwMNROyWH"
      },
      "source": [
        "If your Google Drive was succesfully mounted to your Colab session, then you should receive the following message in the snippet above: \n",
        "\n",
        "\n",
        "\n",
        "```\n",
        "Mounted at /content/gdrive\n",
        "```\n",
        "You can check that the drive is mounted by looking at the folders in you Colab session using the folder icon on the left of your browser -- *the same icon you used before to look at the folders.* \n",
        "\n",
        "Beneath the /content/gdrive folder you should see a folder named /MyDrive.  That is the root level (top level) of your Google Drive.  If you have folders and sub-folders in your Google Drive they will be underneath the /content/gdrive/MyDrive/ folder in your Colab session.\n",
        "\n",
        "**Now you are ready to impport, read, and even write files to your Google Drive!**\n"
      ]
    },
    {
      "cell_type": "markdown",
      "metadata": {
        "id": "sqlQie5vQjn2"
      },
      "source": [
        "**Adding Your Program Scripts Folder to Colab's Path**\n",
        "\n",
        "There is one more step to have Colab ready to easily access you Python scripts and modules.  That is to add the folder where your program reside on Google Drive to the system path in Colab.\n",
        "\n",
        "To do this we need a module from the standard libary **sys**.  We will use the **path.append()** function from the sys module to show Colab how to find your Python program files on Google Drive.  You can import the **sys** module then invoke **path.append()** with dot notation.  The path.append() function will take a fully-qualified folder name as an argument.  You should use the appropriate argument to direct Colab to the folder on Google Drive which has your Python scripts.\n",
        "\n",
        "*   If your scripts are in the top level of your Google Drive then you can used the folder name '**/content/gdrive/MyDrive**' as the argument to **path.append()**\n",
        "\n",
        "*   My scripts are in a sub-folder of my Google Drive which is named 'scripts' so the example here uses '**/content/gdrive/MyDrive/scripts**' as the argument to **path.append()**\n",
        "\n",
        "*   If you have your Python scripts in a sub-folder or nested in a tree of sub-folders then be sure to use the fully-qualified name of that folder as the argument to **path.append()**\n",
        "\n",
        "*Note: There is an anomaly in Google Drive where for some users the MyDrive root is referred to as 'MyDrive' with no space and for others it is referred to as 'My Drive' with a space between the words My and Drive -- check your folder strucure in Colab to see which nomemclature applies in your situation.*\n",
        "\n"
      ]
    },
    {
      "cell_type": "code",
      "metadata": {
        "id": "N0cyUv61SmFk"
      },
      "source": [
        "import sys\n",
        "\n",
        "sys.path.append('/content/gdrive/MyDrive/scripts')"
      ],
      "execution_count": null,
      "outputs": []
    },
    {
      "cell_type": "markdown",
      "metadata": {
        "id": "fPfa3Si0TQ0i"
      },
      "source": [
        "You will not receive a confirmation message if your call to sys.path.append() worked successfully but you can check that the directory you specified in the argument is included in the list **sys.path**"
      ]
    },
    {
      "cell_type": "code",
      "metadata": {
        "colab": {
          "base_uri": "https://localhost:8080/"
        },
        "id": "WbX9yMlOTKZl",
        "outputId": "50a3c0d4-853a-4d4d-ecf5-979c89b790f3"
      },
      "source": [
        "print(sys.path)"
      ],
      "execution_count": null,
      "outputs": [
        {
          "output_type": "stream",
          "name": "stdout",
          "text": [
            "['', '/content', '/env/python', '/usr/lib/python37.zip', '/usr/lib/python3.7', '/usr/lib/python3.7/lib-dynload', '/usr/local/lib/python3.7/dist-packages', '/usr/lib/python3/dist-packages', '/usr/local/lib/python3.7/dist-packages/IPython/extensions', '/root/.ipython', '/content/gdrive/MyDrive/scripts']\n"
          ]
        }
      ]
    },
    {
      "cell_type": "markdown",
      "metadata": {
        "id": "pFmd6Yt5TlFW"
      },
      "source": [
        "**Now you are ready to import or run code from the folder you appended to sys.path!**"
      ]
    },
    {
      "cell_type": "code",
      "metadata": {
        "id": "Y2vcdv-5TyKr"
      },
      "source": [
        "import my_module\n",
        "dir(my_module)"
      ],
      "execution_count": null,
      "outputs": []
    },
    {
      "cell_type": "markdown",
      "metadata": {
        "id": "DsZz_LI0VFTv"
      },
      "source": [
        "*Note: If you want to create new files in your Python scripts folder on Google Drive be sure to use an IDE or a simple text editor to create any Python scripts.  Do not use the Colab editor to create Python scripts because the Colab editor adds a lot of metadata to files it creates and that will prevent Python from running those files as scripts or importing them as modules.*\n"
      ]
    },
    {
      "cell_type": "markdown",
      "metadata": {
        "id": "v2Ou15pxUcU1"
      },
      "source": [
        "\n",
        "\n",
        "---\n",
        "\n"
      ]
    },
    {
      "cell_type": "markdown",
      "metadata": {
        "id": "FBNIzimYUdu3"
      },
      "source": [
        "### **Create Your Own Module and Import It**\n",
        "\n",
        "Let’s Create A Module With Two Parts (Functions)\n",
        "\n",
        "Save It As my_module.py in the folder on Google Drive where you are storing Python scripts for Colab to import or run. \n",
        "\n",
        "**DO NOT RUN THIS CODE IT YET**\n",
        "\n",
        "**STORE IT TO IMPORT IT LATER**"
      ]
    },
    {
      "cell_type": "code",
      "metadata": {
        "id": "yQRx9RuBZOj6"
      },
      "source": [
        "# CST1101 WK15 CL24 EXAMPLE 29-Nov-2021\n",
        "# my_module of functions and a global variable\n",
        "# by Professor Patrick - emailprofessorpatrick@gmail.com\n",
        "\n",
        "\"\"\"Module with 2 functions and 1 integer variable\"\"\"\n",
        "\n",
        "scale = 2\n",
        "\n",
        "def scaler(arg): \n",
        "    \"\"\"Return the scaled value of the argument.\"\"\"\n",
        "    return scale * arg\n",
        "\n",
        "def reverser(xlist):\n",
        "    \"\"\"Return the reverse of the argument.\"\"\"\n",
        "    # Reverse using a slice with negative increment and default start\n",
        "    # and stop.\n",
        "    return xlist[ : : -1]"
      ],
      "execution_count": null,
      "outputs": []
    },
    {
      "cell_type": "markdown",
      "metadata": {
        "id": "AIuvtAHSZ3Ss"
      },
      "source": [
        "We can import **my_module.py** and call its functions and attributes"
      ]
    },
    {
      "cell_type": "code",
      "metadata": {
        "id": "1QovGpywav6Q",
        "colab": {
          "base_uri": "https://localhost:8080/"
        },
        "outputId": "b79ff27a-cfcf-4b70-a174-4d3bfa76496d"
      },
      "source": [
        "import my_module\n",
        "\n",
        "print(\"The value of 'my_module.scale' is: \", my_module.scale)"
      ],
      "execution_count": null,
      "outputs": [
        {
          "output_type": "stream",
          "name": "stdout",
          "text": [
            "The value of 'my_module.scale' is:  2\n"
          ]
        }
      ]
    },
    {
      "cell_type": "code",
      "metadata": {
        "id": "7W6YDF-ubP1r"
      },
      "source": [
        "my_module.scaler(42.0)"
      ],
      "execution_count": null,
      "outputs": []
    },
    {
      "cell_type": "code",
      "metadata": {
        "id": "BUbRilk-bRKV"
      },
      "source": [
        "my_module.scaler(\"liar\")"
      ],
      "execution_count": null,
      "outputs": []
    },
    {
      "cell_type": "code",
      "metadata": {
        "id": "IymL7_UwbTcF"
      },
      "source": [
        "my_module.reverser(\"!olleH\")"
      ],
      "execution_count": null,
      "outputs": []
    },
    {
      "cell_type": "code",
      "metadata": {
        "id": "cOz3GWMcbVth"
      },
      "source": [
        "my_module.scale = 3  ## Change value of my_module.scale.\n",
        "my_module.scaler(\"La\")  ## See that change affects my_module.scaler()."
      ],
      "execution_count": null,
      "outputs": []
    },
    {
      "cell_type": "code",
      "metadata": {
        "id": "oa-s8CxibhRV"
      },
      "source": [
        "help(my_module)  ## See what help is available for my_module"
      ],
      "execution_count": null,
      "outputs": []
    },
    {
      "cell_type": "markdown",
      "metadata": {
        "id": "4E3bjaT-bidZ"
      },
      "source": [
        "Where in **my_module.py** did each of the above examples reference?\n",
        "\n",
        "1.   Go back to each of the example snippets above and make changes to see their effect\n",
        "2.   Edit your version of **my_module.py** then import your edited version to see what changes you can effect\n"
      ]
    },
    {
      "cell_type": "markdown",
      "metadata": {
        "id": "AYCNSQ_Gbvq3"
      },
      "source": [
        "\n",
        "\n",
        "---\n",
        "\n"
      ]
    },
    {
      "cell_type": "markdown",
      "metadata": {
        "id": "f1dYFUFkcWjG"
      },
      "source": [
        "**Switch to the Class Slides here to discuss OOP**\n",
        " \n",
        "*Until the slide which reads...*\n",
        "\n",
        "```\n",
        "Format of Class Definition\n",
        "\n",
        "note: __init__ creates an instance of the object\n",
        "```\n",
        "then continue here with the **my_class.py** example.\n",
        "\n"
      ]
    },
    {
      "cell_type": "markdown",
      "metadata": {
        "id": "uO-916tUc-WF"
      },
      "source": [
        "Let's create or upload the following Python code in a file stored to the scripts folder you have attached to Colab.\n",
        "\n",
        "If you prefer, you may simply run the following snippet of code here as it is going to be executed, not imported.\n"
      ]
    },
    {
      "cell_type": "code",
      "metadata": {
        "id": "EOUxBcH0dr83"
      },
      "source": [
        "# CST1101 WK15 CL24 EXAMPLE 29-Nov-2021\n",
        "# my_class of functions \n",
        "# by Professor Patrick - emailprofessorpatrick@gmail.com\n",
        "\n",
        "\"\"\"Class with 2 arguments and a method which prints them\"\"\"\n",
        "\n",
        "class ExampleOfClass():\n",
        "    def __init__(self, parameter1, parameter2):\n",
        "        self.parameter1 = parameter1\n",
        "        self.parameter2 = parameter2\n",
        " \n",
        "    def some_method(self):\n",
        "        ## statements which perform an action follow\n",
        "        print(self.parameter1, self.parameter2)\n"
      ],
      "execution_count": null,
      "outputs": []
    },
    {
      "cell_type": "markdown",
      "metadata": {
        "id": "hee-pdhhduDv"
      },
      "source": [
        "\n",
        "**Let’s warm up by testing the type (class) of objects**\n"
      ]
    },
    {
      "cell_type": "code",
      "metadata": {
        "id": "C40i4KHzeJ0J"
      },
      "source": [
        "my_simple_list = [1, 2, 3]\n",
        "my_simple_string = 'ABC'\n",
        "\n",
        "print(\"\\nThe type of my_simple_list is: \", type(my_simple_list))\n",
        "\n",
        "print(\"\\nThe type of my_simple_string is: \", type(my_simple_string))"
      ],
      "execution_count": null,
      "outputs": []
    },
    {
      "cell_type": "markdown",
      "metadata": {
        "id": "S7pJTtiFetT9"
      },
      "source": [
        "Let’s create our own simple class of objects and call it **Simple**"
      ]
    },
    {
      "cell_type": "code",
      "metadata": {
        "id": "C5yjuVZ8exJA"
      },
      "source": [
        "class Simple():\n",
        "    def __init__(self):\n",
        "        pass"
      ],
      "execution_count": null,
      "outputs": []
    },
    {
      "cell_type": "markdown",
      "metadata": {
        "id": "-MZ-yHDpe_TI"
      },
      "source": [
        "We can use our **Simple** class to create a variable (object) we call **my_simple_class**\n",
        "\n",
        "Then let's see what type resturns for **my_simple_class**"
      ]
    },
    {
      "cell_type": "code",
      "metadata": {
        "id": "T4bDDpHAfOZs"
      },
      "source": [
        "my_simple_class = Simple()\n",
        "\n",
        "print(\"\\nThe type of my_simple_class is: \", type(my_simple_class))"
      ],
      "execution_count": null,
      "outputs": []
    },
    {
      "cell_type": "markdown",
      "metadata": {
        "id": "AQWSmw39gFOG"
      },
      "source": [
        "\n",
        "\n",
        "---\n",
        "\n"
      ]
    },
    {
      "cell_type": "markdown",
      "metadata": {
        "id": "upeutmcRgF__"
      },
      "source": [
        "## **OOP For Compound Data Types**\n",
        "\n",
        "*   A class in essence defines a new data type. We have been using several of Python’s built-in types throughout this book, we are now ready to create our own user-defined type: the **Point**.\n",
        "\n",
        "*   Consider the concept of a mathematical point. In two dimensions, a point is two numbers (coordinates) that are treated collectively as a single object. In mathematical notation, points are often written in parentheses with a comma separating the coordinates. For example, (0, 0) represents the origin, and **(x, y)** represents the point x units to the right and y units up from the origin.\n",
        "\n",
        "*   A natural way to represent a point in Python is with two numeric values. The question, then, is how to group these two values into a compound object. The quick and dirty solution is to use a list and for some applications that might be the best choice.\n"
      ]
    },
    {
      "cell_type": "markdown",
      "metadata": {
        "id": "5ulAQgeRgfor"
      },
      "source": [
        "**Creating A New Class Called Point**\n",
        "\n",
        "We can define a new class called **Point**. The pass statement has no effect; it is only necessary because a compound statement must have something in its body. A docstring could serve the same purpose:\n",
        "\n",
        "```\n",
        "class Point():\n",
        "    \"Point class for storing mathematical points.\"\n",
        "```\n",
        "\n",
        "By creating the **Point** class, we created a new type, also called **Point**. The members of this type are called instances of the type or objects.\n",
        "\n",
        "After creating the **Point** class, it is a class or type in Python just at Int, Float, Str, Bool, None, etc. are classes or types. \n",
        " \n"
      ]
    },
    {
      "cell_type": "code",
      "metadata": {
        "id": "ljGTOKLng2V2"
      },
      "source": [
        "class Point():\n",
        "    \"Point class for storing mathematical points.\""
      ],
      "execution_count": 2,
      "outputs": []
    },
    {
      "cell_type": "markdown",
      "metadata": {
        "id": "4jRN75ichkbH"
      },
      "source": [
        "**Creating An Instance (Object) of Point**\n",
        "\n",
        "By creating the **Point** class, we created a new type, also called **Point**. The members of this type are called instances of the type or objects. Creating a new instance is called instantiation and is accomplished by calling the class. Classes, like functions, are callable, and we instantiate a **Point** object by calling the **Point** class:\n"
      ]
    },
    {
      "cell_type": "code",
      "metadata": {
        "colab": {
          "base_uri": "https://localhost:8080/"
        },
        "id": "OQZVsImwiBy7",
        "outputId": "ff5f30ed-95d4-404d-9eff-60cfb42f991f"
      },
      "source": [
        "\n",
        "print(\"\\nThe type of Point is: \", type(Point))"
      ],
      "execution_count": 3,
      "outputs": [
        {
          "output_type": "stream",
          "name": "stdout",
          "text": [
            "\n",
            "The type of Point is:  <class 'type'>\n"
          ]
        }
      ]
    },
    {
      "cell_type": "markdown",
      "metadata": {
        "id": "LrK1mC_2iJtx"
      },
      "source": [
        "The variable p is assigned a reference to a new Point object."
      ]
    },
    {
      "cell_type": "code",
      "metadata": {
        "colab": {
          "base_uri": "https://localhost:8080/"
        },
        "id": "F-dHiNGniK-X",
        "outputId": "efd9b746-8770-48ef-9922-1c42e7f60577"
      },
      "source": [
        "\n",
        "p = Point()\n",
        "\n",
        "print(\"\\nThe type of Point object p is: \", type(p))"
      ],
      "execution_count": 4,
      "outputs": [
        {
          "output_type": "stream",
          "name": "stdout",
          "text": [
            "\n",
            "The type of Point object p is:  <class '__main__.Point'>\n"
          ]
        }
      ]
    },
    {
      "cell_type": "markdown",
      "metadata": {
        "id": "VfxJCZCui9UL"
      },
      "source": [
        "**Classes Are Object Factories**\n",
        "\n",
        "*   It may be helpful to think of a class as a factory for making objects, so our **Point** class is a factory for making points. The class itself isn’t an instance of a point, but it contains the machinery to make point instances.\n",
        "\n",
        "*   You might also think of a class as a kind of cookie-cutter which can create objects instead of cookies.\n"
      ]
    },
    {
      "cell_type": "markdown",
      "metadata": {
        "id": "eC4Pq_jvjGgG"
      },
      "source": [
        "\n",
        "\n",
        "---\n",
        "\n"
      ]
    },
    {
      "cell_type": "markdown",
      "metadata": {
        "id": "ttY4LIpTjDsG"
      },
      "source": [
        "### **Attributes**"
      ]
    },
    {
      "cell_type": "markdown",
      "metadata": {
        "id": "0PzPZPNokLbl"
      },
      "source": [
        "\n",
        "Object Instances Have Form and Function\n",
        "\n",
        "The form consists of data elements contained within the instance.\n",
        "\n",
        "We can add new data elements to an instance using dot notation:\n",
        "\n",
        "\n",
        "```\n",
        "p.x = 3\n",
        "p.y = 4\n",
        "```\n",
        "\n",
        "This syntax is similar to the syntax for selecting a variable or method from a module, such as **math.pi** or **string.uppercase()**. Both modules and instances create their own namespaces, and the syntax for accessing names contained in each, called attributes, is the same. In this case the attribute we are selecting is a data item from an instance.  We use dot notation to reference these.\n",
        "\n",
        "\n",
        "We can read the value of an attribute using the dot notation syntax:\n"
      ]
    },
    {
      "cell_type": "code",
      "metadata": {
        "id": "xI-CPwR5k5A3"
      },
      "source": [
        "print(\"\\nThe value of p.y is: \", p.y)\n",
        "\n",
        "x = p.x * 2\n",
        "\n",
        "print(\"\\nThe value of p.x is: \", p.x)\n",
        "print(\"\\nThe value of x is: \", x)"
      ],
      "execution_count": null,
      "outputs": []
    },
    {
      "cell_type": "markdown",
      "metadata": {
        "id": "eOqKupv1lCNG"
      },
      "source": [
        "We can even test their type, which is consistent with the values that we assigned to them: "
      ]
    },
    {
      "cell_type": "code",
      "metadata": {
        "id": "D02rvuailIxU"
      },
      "source": [
        "print(\"\\nThe type of p.y is: \", type(p.y))\n",
        "\n",
        "print(\"\\nThe type of p.x is: \", type(p.x))\n",
        "\n",
        "print(\"\\nThe type of x is: \", type(x))"
      ],
      "execution_count": null,
      "outputs": []
    },
    {
      "cell_type": "markdown",
      "metadata": {
        "id": "TrjkJoojln4G"
      },
      "source": [
        "The expression **p.x** means, “Go to the object **p** refers to and get the value of **x**”. In this case, we assign that value to a variable named **x**. There is no conflict between the variable **x** and the attribute **x**. The purpose of dot notation is to identify which variable you are referring to unambiguously.\n",
        "\n"
      ]
    },
    {
      "cell_type": "markdown",
      "metadata": {
        "id": "_WUXpLOfmJMW"
      },
      "source": [
        "\n",
        "\n",
        "---\n",
        "\n"
      ]
    },
    {
      "cell_type": "markdown",
      "metadata": {
        "id": "X7aRsijWmzZ4"
      },
      "source": [
        "### **Initialization Method and self**\n",
        "\n"
      ]
    },
    {
      "cell_type": "markdown",
      "metadata": {
        "id": "NU9xoWctm7fI"
      },
      "source": [
        "**Using init Method For Assignments**\n",
        "\n",
        "Since our **Point** class is intended to represent two dimensional mathematical points, all point instances ought to have **x** and **y** attributes, but that is not yet the case with Point objects based on the class we defined.  We need a better definition of the **Point** class. \n",
        "\n",
        "```\n",
        "p2 = Point()\n",
        "p2.x\n",
        "Traceback (most recent call last):\n",
        "  File \"<stdin>\", line 1, in ?\n",
        "AttributeError: Point instance has no attribute 'x'\n",
        "```\n",
        "\n",
        "To solve this problem, we add an initialization method to our class.\n",
        "\n",
        "```\n",
        "class Point():                     # definition of the class Point\n",
        "    def __init__(self, x=0, y=0):  # definition of __init__ function to run at instantiation\n",
        "        self.x = x                 # assignment of attribute .x to the object based on argument x of __init__()\n",
        "        self.y = y                 # assignment of attribute .y to the object based on argument y of __init__()\n",
        "```\n"
      ]
    },
    {
      "cell_type": "code",
      "metadata": {
        "id": "2TD5Tib-oFK5"
      },
      "source": [
        "class Point():                     # definition of the class Point\n",
        "    def __init__(self, a=0, b=0):  # definition of __init__ function to run at instantiation\n",
        "        self.x = a                 # assignment of attribute .x to the object based on argument x of __init__()\n",
        "        self.y = b                 # assignment of attribute .y to the object based on argument y of __init__()"
      ],
      "execution_count": 5,
      "outputs": []
    },
    {
      "cell_type": "markdown",
      "metadata": {
        "id": "oBhrBIq6oLxQ"
      },
      "source": [
        "Let's create a new instance of our **Point** class as the variable **p** -- don't worry, our new variable **p** will overwrite the earlier one we created.\n"
      ]
    },
    {
      "cell_type": "code",
      "metadata": {
        "id": "UBwrlD-LoZ7t",
        "colab": {
          "base_uri": "https://localhost:8080/"
        },
        "outputId": "43a10026-048c-4b5d-f75c-750b80cb38a5"
      },
      "source": [
        "p = Point()\n",
        "\n",
        "print(\"\\nThe type of variable p is: \", type(p))\n",
        "\n",
        "print(dir(p))"
      ],
      "execution_count": 6,
      "outputs": [
        {
          "output_type": "stream",
          "name": "stdout",
          "text": [
            "\n",
            "The type of variable p is:  <class '__main__.Point'>\n",
            "['__class__', '__delattr__', '__dict__', '__dir__', '__doc__', '__eq__', '__format__', '__ge__', '__getattribute__', '__gt__', '__hash__', '__init__', '__init_subclass__', '__le__', '__lt__', '__module__', '__ne__', '__new__', '__reduce__', '__reduce_ex__', '__repr__', '__setattr__', '__sizeof__', '__str__', '__subclasshook__', '__weakref__', 'x', 'y']\n"
          ]
        }
      ]
    },
    {
      "cell_type": "markdown",
      "metadata": {
        "id": "a4ZWK7JXokPU"
      },
      "source": [
        "Now, look at what our improved **Point** class did for us with respect to the attributes **p.x** and **p.y**."
      ]
    },
    {
      "cell_type": "code",
      "metadata": {
        "id": "POmzAoVco3Zo"
      },
      "source": [
        "print(\"\\nThe value of variable p.x is: \", p.x)\n",
        "print(\"\\nThe value of variable p.y is: \", p.y)"
      ],
      "execution_count": null,
      "outputs": []
    },
    {
      "cell_type": "markdown",
      "metadata": {
        "id": "8wk_1D8EpGVd"
      },
      "source": [
        "Those attribute values are the default values which the arguments **x** and **y** take in the definition of the **init()** function for our **Point** class.  The argument values for **x** and **y** are assigned to the attributes **(self).x** and **(self).y** respectively in the code block of the **init(**) function in the class definition. "
      ]
    },
    {
      "cell_type": "markdown",
      "metadata": {
        "id": "IC0QHLbtprEd"
      },
      "source": [
        "Let's create a new instance of the variable **p** using the **Point** class with the arguments 3, and 4 for **x**, and **y** respectively."
      ]
    },
    {
      "cell_type": "code",
      "metadata": {
        "id": "TDsx_f-HqB2p"
      },
      "source": [
        "p = Point(3,4)"
      ],
      "execution_count": 8,
      "outputs": []
    },
    {
      "cell_type": "code",
      "metadata": {
        "id": "cLknZlTOoxzk"
      },
      "source": [
        "dir(p)"
      ],
      "execution_count": null,
      "outputs": []
    },
    {
      "cell_type": "code",
      "metadata": {
        "id": "CZmqQHcjqH5G",
        "colab": {
          "base_uri": "https://localhost:8080/"
        },
        "outputId": "2efa9a73-148c-48af-aed2-79026f56643b"
      },
      "source": [
        "print(\"\\nThe value of variable p.x is: \", p.x)\n",
        "print(\"\\nThe value of variable p.y is: \", p.y)"
      ],
      "execution_count": 10,
      "outputs": [
        {
          "output_type": "stream",
          "name": "stdout",
          "text": [
            "\n",
            "The value of variable p.x is:  3\n",
            "\n",
            "The value of variable p.y is:  4\n"
          ]
        }
      ]
    },
    {
      "cell_type": "markdown",
      "metadata": {
        "id": "pW9JXU3TqoHX"
      },
      "source": [
        "A method behaves like a function, but it is part of an object. Like a data attribute it is accessed using dot notation. The initialization method **init()** is called automatically when the class is called.\n",
        "\n",
        "Let’s add another method, **distance_from_origin()**, to better see how methods work:\n"
      ]
    },
    {
      "cell_type": "code",
      "metadata": {
        "id": "_LIWRLFHrYOl"
      },
      "source": [
        "class Point():\n",
        "    def __init__(self, a=0, b=0):\n",
        "        self.x = a\n",
        "        self.y = b\n",
        "    def distance_from_origin(self):                     # a method which can be invoked for instances of the class Point\n",
        "        return ((self.x ** 2) + (self.y ** 2)) ** 0.5   # this fruiful method returns the distance from the Point to x=0,y=0"
      ],
      "execution_count": 11,
      "outputs": []
    },
    {
      "cell_type": "code",
      "metadata": {
        "colab": {
          "base_uri": "https://localhost:8080/"
        },
        "id": "zhhDnWCXr_hJ",
        "outputId": "218ab220-bcfa-4c8a-c06c-b41c61c82533"
      },
      "source": [
        "125 ** 0.5"
      ],
      "execution_count": 22,
      "outputs": [
        {
          "output_type": "execute_result",
          "data": {
            "text/plain": [
              "11.180339887498949"
            ]
          },
          "metadata": {},
          "execution_count": 22
        }
      ]
    },
    {
      "cell_type": "code",
      "metadata": {
        "id": "v9iHooyJp3Uv"
      },
      "source": [
        "p = Point(3,4)\n"
      ],
      "execution_count": 12,
      "outputs": []
    },
    {
      "cell_type": "code",
      "metadata": {
        "colab": {
          "base_uri": "https://localhost:8080/"
        },
        "id": "Tan83lUqp_Kr",
        "outputId": "1971c042-719b-45f7-d433-907772ff885a"
      },
      "source": [
        "print(p.distance_from_origin())"
      ],
      "execution_count": 13,
      "outputs": [
        {
          "output_type": "stream",
          "name": "stdout",
          "text": [
            "5.0\n"
          ]
        }
      ]
    },
    {
      "cell_type": "code",
      "metadata": {
        "id": "WprKNh1IsBNT"
      },
      "source": [
        "\n",
        "# Examples which use the class Point\n",
        "\n",
        "# p example: creating object p of class Point\n",
        "p = Point(3, 4)\n",
        "print(\"Printing Point object p and it's coordinates and distance\")\n",
        "print(p.x)\n",
        "# 3\n",
        "print(p.y)\n",
        "# 4\n",
        "print(p.distance_from_origin())\n",
        "# 5.0\n",
        "print()\n",
        "\n",
        "# q example: creating object q of class Point\n",
        "q = Point(5, 12)\n",
        "print(\"Printing Point object q and it's coordinates and distance\")\n",
        "print(q.x)\n",
        "# 5\n",
        "print(q.y)\n",
        "# 12\n",
        "print(q.distance_from_origin())\n",
        "# 13.0\n",
        "print()\n",
        "\n",
        "# r example: creating object r of class Point\n",
        "r = Point()\n",
        "print(\"Printing Point object r and it's coordinates and distance\")\n",
        "print(r.x)\n",
        "# 0\n",
        "print(r.y)\n",
        "# 0\n",
        "print(r.distance_from_origin())\n",
        "# 0.0\n",
        "print()"
      ],
      "execution_count": null,
      "outputs": []
    },
    {
      "cell_type": "code",
      "metadata": {
        "id": "lRQ3VwINq3Ov"
      },
      "source": [
        "s = Point(-10, 5)"
      ],
      "execution_count": 15,
      "outputs": []
    },
    {
      "cell_type": "code",
      "metadata": {
        "id": "EyoZtNcnq-qa"
      },
      "source": [
        "dir(s.distance_from_origin)"
      ],
      "execution_count": null,
      "outputs": []
    },
    {
      "cell_type": "code",
      "metadata": {
        "colab": {
          "base_uri": "https://localhost:8080/"
        },
        "id": "1BSht8WnrT_Y",
        "outputId": "c6c16bb6-cb0a-47dd-ebcc-3ed5eb661fac"
      },
      "source": [
        "type(s.distance_from_origin)"
      ],
      "execution_count": 19,
      "outputs": [
        {
          "output_type": "execute_result",
          "data": {
            "text/plain": [
              "method"
            ]
          },
          "metadata": {},
          "execution_count": 19
        }
      ]
    },
    {
      "cell_type": "code",
      "metadata": {
        "colab": {
          "base_uri": "https://localhost:8080/"
        },
        "id": "KWHrIfC8rZHY",
        "outputId": "836db168-283e-4422-b536-ce9ccfa4d1cd"
      },
      "source": [
        "type(s.x)"
      ],
      "execution_count": 20,
      "outputs": [
        {
          "output_type": "execute_result",
          "data": {
            "text/plain": [
              "int"
            ]
          },
          "metadata": {},
          "execution_count": 20
        }
      ]
    },
    {
      "cell_type": "code",
      "metadata": {
        "colab": {
          "base_uri": "https://localhost:8080/"
        },
        "id": "8RevNaxUrgmX",
        "outputId": "97ad113c-be55-4d6b-b083-e60cdcbdc7e1"
      },
      "source": [
        "print(s.distance_from_origin())"
      ],
      "execution_count": 21,
      "outputs": [
        {
          "output_type": "stream",
          "name": "stdout",
          "text": [
            "11.180339887498949\n"
          ]
        }
      ]
    },
    {
      "cell_type": "markdown",
      "metadata": {
        "id": "P91Z3k7iqLAG"
      },
      "source": [
        "Use the simple **Point** class definition above to try different values and see their effect on the variable created.  Don't forget to look at objects with dir() to learn more about them!"
      ]
    },
    {
      "cell_type": "markdown",
      "metadata": {
        "id": "oCgGMA41m4l9"
      },
      "source": [
        "\n",
        "\n",
        "---\n",
        "\n"
      ]
    },
    {
      "cell_type": "markdown",
      "metadata": {
        "id": "30qv5160mKRD"
      },
      "source": [
        "### **Classes, Attributes, and Methods**\n"
      ]
    },
    {
      "cell_type": "markdown",
      "metadata": {
        "id": "8qo17tS07RrC"
      },
      "source": [
        "**Classes are compound objects**\n",
        "\n",
        "They contain:\n",
        "*   Attributes\n",
        "*   Methods\n",
        "\n",
        "Attributes – information accessible inside the name space of an object (instance) of the class – do not use parentheses\n",
        "\n",
        "Methods – functions which operate inside the name space of an object (instance) of the class – method names end with parentheses; they can take arguments or not (pure)\n",
        "\n",
        "*‘self’ is used to refer to the name space*\n",
        "\n",
        "*Dot-notation is used when referring to an attribute or method*\n"
      ]
    },
    {
      "cell_type": "markdown",
      "metadata": {
        "id": "2sSLNW-g7lfj"
      },
      "source": [
        "**What do we mean by 'name space'?**\n",
        "\n",
        "**What name space is the main body of your program in?**"
      ]
    },
    {
      "cell_type": "markdown",
      "metadata": {
        "id": "_peCPhlf7s4W"
      },
      "source": [
        "**Some Special Names**\n",
        "\n",
        "*Remember: These start/end with double-underscores (which are hard to show in Colab)*\n",
        "\n",
        "\n",
        "*   _ _ init _ _()  - Method which is executed at the beginning of any instantiation of a class (creation of an object in that class).  Used to establish assignments and actions before any other methods\n",
        "\n",
        "*   _ _ str _ _()  - Method used to return a standard string of information about the object.  Should be presented in an easy-to-read format with a concise display of as much relevant information as is practical. \n",
        "\n"
      ]
    },
    {
      "cell_type": "markdown",
      "metadata": {
        "id": "0hs5x8sh8Tkc"
      },
      "source": [
        "**What will the following class do?**\n",
        "\n",
        "\n",
        "\n",
        "```\n",
        "class TalkTo():\n",
        "    def __init__(self, n=\"Yourself\"):\n",
        "        self.name = n\n",
        "        self.who = “my friend”\n",
        "    def hello(self):\n",
        "        print(f\"Hello {self.name}!\")\n",
        "    def bye(self):\n",
        "        print(f\"Goobye {self.name}!\")\n",
        "    def meet(self):\n",
        "        print(f\"{self.name} meet {self.who}.\")\n",
        "```\n",
        "\n",
        "*Try it...*"
      ]
    },
    {
      "cell_type": "code",
      "metadata": {
        "id": "mEMy79XX8liO"
      },
      "source": [
        "class TalkTo():\n",
        "    def __init__(self, n=\"Yourself\"):\n",
        "        self.name = n\n",
        "        self.who = \"my friend\"\n",
        "    def hello(self):\n",
        "        print(f\"Hello {self.name}!\")\n",
        "    def bye(self):\n",
        "        print(f\"Goodbye {self.name}!\")\n",
        "    def meet(self):\n",
        "        print(f\"{self.name} meet {self.who}.\")"
      ],
      "execution_count": 29,
      "outputs": []
    },
    {
      "cell_type": "code",
      "metadata": {
        "id": "_eLKXXw2vJC7"
      },
      "source": [
        "dir(TalkTo)"
      ],
      "execution_count": null,
      "outputs": []
    },
    {
      "cell_type": "markdown",
      "metadata": {
        "id": "FB6-pX668oEw"
      },
      "source": [
        "Now use the Class TalkTo which you defined."
      ]
    },
    {
      "cell_type": "code",
      "metadata": {
        "id": "Gmkri0x28tQ4"
      },
      "source": [
        "# your code here\n"
      ],
      "execution_count": null,
      "outputs": []
    },
    {
      "cell_type": "code",
      "metadata": {
        "id": "VbrwAoMf86ns",
        "colab": {
          "base_uri": "https://localhost:8080/"
        },
        "outputId": "0c2190b3-5026-4fa3-913c-687206691841"
      },
      "source": [
        "# try these...\n",
        "say = TalkTo(\"Bob the Builder\")\n",
        "print(\"The value of say.name is: \", say.name)\n",
        "say.hello()\n",
        "say.bye()\n",
        "say.meet()"
      ],
      "execution_count": 30,
      "outputs": [
        {
          "output_type": "stream",
          "name": "stdout",
          "text": [
            "The value of say.name is:  Bob the Builder\n",
            "Hello Bob the Builder!\n",
            "Goodbye Bob the Builder!\n",
            "Bob the Builder meet my friend.\n"
          ]
        }
      ]
    },
    {
      "cell_type": "markdown",
      "metadata": {
        "id": "wrw1h0fY8vB6"
      },
      "source": [
        "### **An OOP Bank Account**"
      ]
    },
    {
      "cell_type": "markdown",
      "metadata": {
        "id": "hbNTDEf49E9k"
      },
      "source": [
        "**What comes to mind when you think about how a bank account works?**"
      ]
    },
    {
      "cell_type": "markdown",
      "metadata": {
        "id": "qEIrhBYl9SEY"
      },
      "source": [
        "Some of the things which come to mind when thinking about a bank account...\n",
        "\n",
        "**Attributes**\n",
        "*   Owner Name\n",
        "*   Balance\n",
        "\n",
        "**Actions (Methods)**\n",
        "*   Depositing\n",
        "*   Withdrawing\n",
        "\n",
        "**Rules**\n",
        "*   Only can withdraw amount up to the balance or NSF\n"
      ]
    },
    {
      "cell_type": "markdown",
      "metadata": {
        "id": "22S_vanB9oVd"
      },
      "source": [
        "**Let's build a practical Class -- a bank account.**\n",
        "\n",
        "\n",
        "Create a bank account class named Account that has two attributes:\n",
        "*   owner (a string with the owner’s name which defaults to “No Name”)\n",
        "*   balance (a dollar value which defaults to zero)\n",
        "\n",
        "and two basic methods:\n",
        "*   deposit()\n",
        "*   withdraw()\n",
        "\n",
        "with a rule:\n",
        "\n",
        "*withdrawals may not exceed the available balance and “NSF” Not Sufficient Funds” is returned if there is an attempt to overdraw the account\n",
        "and an extra method named withdrawal() which simply calls withdraw()*\n",
        "\n",
        "\n",
        "Then we can instantiate an object named account1 of the Account class, make deposits and withdrawals, and test to make sure the account cannot be overdrawn\n",
        "\n"
      ]
    },
    {
      "cell_type": "markdown",
      "metadata": {
        "id": "5b7JAxRy-Pg5"
      },
      "source": [
        "**How would you go about solving this?**\n",
        "\n",
        "*What approach (algorithm) can we use to develop our bank account object?*\n",
        "\n",
        "\n",
        "1.   Create a shell of the class first?\n",
        "2.   Enhance the shell of the class to include the attributes?\n",
        "3.   Add more enhancements for each method, one at a time, and test?\n",
        "4.   Save the most complex method (NSF) for last?\n"
      ]
    },
    {
      "cell_type": "markdown",
      "metadata": {
        "id": "guw56cJR-i81"
      },
      "source": [
        "Step1 - Create a simple shell of the Class\n",
        "\n",
        "Step2 - Add attributes\n",
        "\n",
        "\n",
        "```\n",
        "class Account:\n",
        "    def __init__(self,owner=\"No Name\",balance=0):\n",
        "        self.owner = owner\n",
        "        self.balance = balance\n",
        "    def __str__(self):\n",
        "        return f'Account owner:   {self.owner}\\nAccount balance: ${self.balance}'\n",
        "\n",
        "```\n",
        "\n"
      ]
    },
    {
      "cell_type": "code",
      "metadata": {
        "id": "nHxxEpAx-65Z"
      },
      "source": [
        "class Account:\n",
        "    def __init__(self,a=\"No Name\",b=0):\n",
        "        self.owner = a\n",
        "        self.balance = b\n",
        "    def __str__(self):\n",
        "        return f'Account owner:   {self.owner}\\nAccount balance: ${self.balance}'\n"
      ],
      "execution_count": 31,
      "outputs": []
    },
    {
      "cell_type": "markdown",
      "metadata": {
        "id": "g3chV5---923"
      },
      "source": [
        "*Let's do some rapid proto-typing and test our simple class Account so far...*"
      ]
    },
    {
      "cell_type": "code",
      "metadata": {
        "id": "FgZHWbKv_G1g",
        "colab": {
          "base_uri": "https://localhost:8080/"
        },
        "outputId": "fa4752d0-d766-4a3c-940f-f51991eb3300"
      },
      "source": [
        "account1 = Account(\"Steve Wozniak\", 1000.00)\n",
        "print(account1.owner)\n",
        "# Your Name\n",
        "\n",
        "print(account1.balance)\n",
        "# 1000.0\n",
        "\n",
        "print()\n",
        "\n",
        "print(account1.__str__())\n",
        "# Account owner:   Your Name\n",
        "# Account balance: $1000.0\n",
        "\n",
        "print()\n",
        "\n",
        "print(account1)\n",
        "# Account owner:   Your Name\n",
        "# Account balance: $1000.0\n"
      ],
      "execution_count": 33,
      "outputs": [
        {
          "output_type": "stream",
          "name": "stdout",
          "text": [
            "Steve Wozniak\n",
            "1000.0\n",
            "\n",
            "Account owner:   Steve Wozniak\n",
            "Account balance: $1000.0\n",
            "\n",
            "Account owner:   Steve Wozniak\n",
            "Account balance: $1000.0\n"
          ]
        }
      ]
    },
    {
      "cell_type": "markdown",
      "metadata": {
        "id": "o0egCuy-_T5E"
      },
      "source": [
        "*It seems to work. Now we can add more complexity (Step3 and Step4)...*"
      ]
    },
    {
      "cell_type": "code",
      "metadata": {
        "id": "PqPze2SL_orN"
      },
      "source": [
        "class Account:\n",
        "    def __init__(self,owner=\"No Name\",balance=0):\n",
        "        self.owner = owner\n",
        "        self.balance = balance\n",
        "    def __str__(self):\n",
        "        return f'Account owner:   {self.owner}\\nAccount balance: ${self.balance}'\n",
        "    def deposit(self,deposit_amount=0):\n",
        "        self.balance += deposit_amount\n",
        "        print(f'Deposit of ${deposit_amount} to {self.owner} account processed')\n",
        "    def withdraw(self,withdrawal_amount=0):\n",
        "        if self.balance >= withdrawal_amount:\n",
        "            self.balance -= withdrawal_amount\n",
        "            print(f'Withdrawal of ${withdrawal_amount} from {self.owner} account processed')\n",
        "        else:\n",
        "            print(f'*NSF* Not Sufficient Funds in {self.owner} account!')\n",
        "    def take(self,withdrawal_amount):\n",
        "        self.withdraw(withdrawal_amount)\n",
        "        "
      ],
      "execution_count": 34,
      "outputs": []
    },
    {
      "cell_type": "markdown",
      "metadata": {
        "id": "j8_z6uYA_vRc"
      },
      "source": [
        "*Let's test what we have added...*"
      ]
    },
    {
      "cell_type": "code",
      "metadata": {
        "id": "NHb11ImQ_xyD",
        "colab": {
          "base_uri": "https://localhost:8080/"
        },
        "outputId": "3d400a05-bfa2-4eed-fa17-8cb339eb720b"
      },
      "source": [
        "# Try the following \n",
        "\n",
        "account1=Account(\"Steve Wozniak\", 100)\n",
        "print(\"The balance for account1 is: \", account1.balance)\n",
        "\n",
        "print(\"The owner of account1 is: \", account1.owner)\n",
        "print(\"The balance for account1 is: \", account1.balance)\n",
        "\n",
        "print()\n",
        "\n",
        "# withdraw some money\n",
        "account1.withdraw(12)\n",
        "\n",
        "# deposit some money\n",
        "account1.deposit(23)\n",
        "\n",
        "# look at the balance\n",
        "print(\"The balance for account1 is: \", account1.balance)\n",
        "\n",
        "print()\n",
        "\n",
        "# withdraw more money\n",
        "account1.take(23)\n",
        "\n",
        "# look at the balance\n",
        "print(\"The balance for account1 is: \", account1.balance)\n",
        "\n",
        "print()\n",
        "\n",
        "# withdraw too much money!\n",
        "account1.withdraw(150)\n",
        "\n",
        "\n",
        "## Instantiate another object in the Account class\n",
        "## and use Account methods and attributes on the new object"
      ],
      "execution_count": 36,
      "outputs": [
        {
          "output_type": "stream",
          "name": "stdout",
          "text": [
            "The balance for account1 is:  100\n",
            "The owner of account1 is:  Steve Wozniak\n",
            "The balance for account1 is:  100\n",
            "\n",
            "Withdrawal of $12 from Steve Wozniak account processed\n",
            "Deposit of $23 to Steve Wozniak account processed\n",
            "The balance for account1 is:  111\n",
            "\n",
            "Withdrawal of $23 from Steve Wozniak account processed\n",
            "The balance for account1 is:  88\n",
            "\n",
            "*NSF* Not Sufficient Funds in Steve Wozniak account!\n"
          ]
        }
      ]
    },
    {
      "cell_type": "markdown",
      "metadata": {
        "id": "bAmg-F3kAmdI"
      },
      "source": [
        "**Congratulations!**\n",
        "\n",
        "You are on your way to owning a bank and having millions of customers!"
      ]
    },
    {
      "cell_type": "markdown",
      "metadata": {
        "id": "DQYE4og7BB0x"
      },
      "source": [
        "***What would make the object of a crypto wallet different from our class of Account?***\n",
        "\n",
        "What comes to mind when you think about a cryptocurrency (blockchain coin) wallet versus a bank account?\n",
        "\n",
        "**Attributes**\n",
        "*   Owner Address (no name)\n",
        "*   Balance (currency symbol / coin)\n",
        "*   Private Key / Public Key\n",
        "\n",
        "**Actions (Methods)**\n",
        "*   Depositing (really transferring)\n",
        "*   Withdrawing\n",
        "\n",
        "**Rules**\n",
        "*   Only can withdraw amount up to the balance or NSF\n",
        "*   Only can transfer coin from another account which has enough balance \n"
      ]
    },
    {
      "cell_type": "markdown",
      "metadata": {
        "id": "cgTkE_0XmdF-"
      },
      "source": [
        "\n",
        "\n",
        "---\n",
        "\n"
      ]
    },
    {
      "cell_type": "markdown",
      "metadata": {
        "id": "G7SW9EK1sOp8"
      },
      "source": [
        "## **Glossary**\n",
        "\n",
        "\n",
        "*   **attribute** - One of the named data items that makes up an instance.\n",
        "\n",
        "*   **class** - A user-defined compound type. A class can also be thought of as a template for the objects that are instances of it.\n",
        "\n",
        "*   **instantiate** - To create an instance of a class.\n",
        "\n",
        "*   **instance** - An object that belongs to a class.\n",
        "\n",
        "*   **object** - Compound data type that is often used to model a thing or concept in the real world.\n"
      ]
    },
    {
      "cell_type": "markdown",
      "metadata": {
        "id": "Y-Nv9EJZsp0a"
      },
      "source": [
        "\n",
        "\n",
        "---\n",
        "\n"
      ]
    }
  ]
}