{
  "nbformat": 4,
  "nbformat_minor": 0,
  "metadata": {
    "colab": {
      "name": "CST2312_Assignment05_moby.ipynb",
      "provenance": [],
      "authorship_tag": "ABX9TyNefzB+SSs8mbNp8dc3gjdI",
      "include_colab_link": true
    },
    "kernelspec": {
      "name": "python3",
      "display_name": "Python 3"
    },
    "language_info": {
      "name": "python"
    }
  },
  "cells": [
    {
      "cell_type": "markdown",
      "metadata": {
        "id": "view-in-github",
        "colab_type": "text"
      },
      "source": [
        "<a href=\"https://colab.research.google.com/github/ProfessorPatrickSlatraigh/CST2312/blob/main/CST2312_Assignment05_moby.ipynb\" target=\"_parent\"><img src=\"https://colab.research.google.com/assets/colab-badge.svg\" alt=\"Open In Colab\"/></a>"
      ]
    },
    {
      "cell_type": "markdown",
      "metadata": {
        "id": "q2ng0SDGNJND"
      },
      "source": [
        "# **CST2312 Assignment #05 - Moby Dick and BIP 39**"
      ]
    },
    {
      "cell_type": "markdown",
      "metadata": {
        "id": "1Sm0rzI5ytoe"
      },
      "source": [
        "\n",
        "\n",
        "---\n",
        "\n"
      ]
    },
    {
      "cell_type": "markdown",
      "metadata": {
        "id": "rGFS1_g8zs6a"
      },
      "source": [
        "**Problem Statement:**"
      ]
    },
    {
      "cell_type": "markdown",
      "metadata": {
        "id": "bEmUnO6gzxcR"
      },
      "source": [
        "Write a working Python program which uses a dictionary based on BIP 39 mnemonics to evaluate the text of Herman Melville's novel Moby Dick and count the frequency of the use of each BIP 39 mnemonic in the book.  Reference that dictionary to print a list of the top-20 most used BIP mnemonics in Moby Dick as a tuple of (key, value) in descending order of value (frequency).  Open source, available text files include:\n",
        "\n",
        "\n",
        "1.   Project Guttenberg's Moby Dick project\n",
        "2.   bip-0039.txt\n",
        "\n"
      ]
    },
    {
      "cell_type": "markdown",
      "metadata": {
        "id": "D6TLjBvl1MFG"
      },
      "source": [
        "*The source files for this notebook are available on CUNY CityTech Blackboard for class and on ProfessorPatrickSlatraigh Github repo.* "
      ]
    },
    {
      "cell_type": "markdown",
      "metadata": {
        "id": "wmoc-UmbyndS"
      },
      "source": [
        "# *Mount the drive*"
      ]
    },
    {
      "cell_type": "markdown",
      "metadata": {
        "id": "XZFvqf-TNULn"
      },
      "source": [
        "\n",
        "\n",
        "---\n",
        "\n"
      ]
    },
    {
      "cell_type": "markdown",
      "metadata": {
        "id": "0OOsfmxcjQ5E"
      },
      "source": [
        "First things, first: mounting my Google Drive to the /content/drive area in Colab as 'My Drive' (with a space between My and Drive)."
      ]
    },
    {
      "cell_type": "code",
      "metadata": {
        "id": "vIEnmWPoMkJi"
      },
      "source": [
        "from google.colab import drive\n",
        "drive.mount('/content/drive')"
      ],
      "execution_count": null,
      "outputs": []
    },
    {
      "cell_type": "markdown",
      "metadata": {
        "id": "nRan5v0hlr5U"
      },
      "source": [
        "\n",
        "\n",
        "---\n",
        "\n"
      ]
    },
    {
      "cell_type": "markdown",
      "metadata": {
        "id": "_yVXoRJUyw2n"
      },
      "source": [
        "# *Setup the BIP 39 Dictionary*"
      ]
    },
    {
      "cell_type": "markdown",
      "metadata": {
        "id": "OFdkFCkDkSLL"
      },
      "source": [
        "From the My Drive root of my Google Drive there is a sub-folder named \"crypto\" with a line-by-line list of BIP 39 mnemonics (English language) in alphabetic order in the file \"bip-0039.txt\". "
      ]
    },
    {
      "cell_type": "markdown",
      "metadata": {
        "id": "nvNGQocBmM7U"
      },
      "source": [
        "Open the BIP 39 file with the handle bip_handle."
      ]
    },
    {
      "cell_type": "code",
      "metadata": {
        "id": "HQMj0Z7zl2RQ"
      },
      "source": [
        "## SETUP - OPEN THE FILE BASED ON USER SPECIFIED FILE NAME OR bip-0039.txt\n",
        "file_name = input(\"Enter file:\")\n",
        "if len(file_name) < 1:\n",
        "    name = \"/content/drive/My Drive/crypto/bip-0039.txt\"\n",
        "else:\n",
        "    name = \"/content/drive/My Drive/crypto/\" + file_name\n",
        "try:\n",
        "    bip_handle = open(name)\n",
        "except:\n",
        "    print(\"Could not open \"+name)"
      ],
      "execution_count": null,
      "outputs": []
    },
    {
      "cell_type": "markdown",
      "metadata": {
        "id": "rFKB_n_KlOMP"
      },
      "source": [
        "Open a the handle bip_handle file of BIP 39 mnemonics and read them, line-by-line into a dictionay as keys with an initial value of 0 (integer) for each key/value pair."
      ]
    },
    {
      "cell_type": "code",
      "metadata": {
        "id": "O0iUJiafmebk"
      },
      "source": [
        "## bip_di - create a dictionary of BIP 39 mnemonics \n",
        "## with the mnemonic string as a key and an initial value\n",
        "## use variable x to set initial value for key/value pairs\n",
        "\n",
        "bip_di = dict()\n",
        "x = 0\n",
        "\n",
        "for word in bip_handle :\n",
        "    word = word.rstrip()\n",
        "    bip_di[word] = x\n"
      ],
      "execution_count": null,
      "outputs": []
    },
    {
      "cell_type": "code",
      "metadata": {
        "id": "rcvI9XLfofa_"
      },
      "source": [
        "## peek into the bip_di dictionary to see the first ten pairs\n",
        "\n",
        "i = 0\n",
        "\n",
        "for word in bip_di:\n",
        "    if i < 10:\n",
        "        print(word, bip_di[word])\n",
        "        i = i + 1\n"
      ],
      "execution_count": null,
      "outputs": []
    },
    {
      "cell_type": "markdown",
      "metadata": {
        "id": "PmTOJ1l_zCIz"
      },
      "source": [
        "\n",
        "\n",
        "---\n",
        "\n"
      ]
    },
    {
      "cell_type": "markdown",
      "metadata": {
        "id": "c5NBzzxry7Jl"
      },
      "source": [
        "# *Process the book files*"
      ]
    },
    {
      "cell_type": "markdown",
      "metadata": {
        "id": "eDI13WQ9lpsY"
      },
      "source": [
        "\n",
        "\n",
        "---\n",
        "\n"
      ]
    },
    {
      "cell_type": "markdown",
      "metadata": {
        "id": "fSEPV7OLVqVN"
      },
      "source": [
        "From the My Drive root of my Google Drive there is a sub-folder named \"moby\" with the Moby Dick novel text in a series of text files. "
      ]
    },
    {
      "cell_type": "markdown",
      "metadata": {
        "id": "JIpOJBrDRiGa"
      },
      "source": [
        "Each file is a flat, plain-text file with rows delimited with a new line \"/n\" character. "
      ]
    },
    {
      "cell_type": "markdown",
      "metadata": {
        "id": "cHxItj97YwGB"
      },
      "source": [
        "The collection includes the following types of files:\n",
        "\n",
        "\n",
        "\n",
        "*   a file \"moby-000.txt\" which contains some prelinary information about the origin of the version of the book contained in this collection\n",
        "*   chapter files of Moby Dick named from \"moby-001.txt\" to \"moby-0134.txt\", which combined in sequence form the text of the novel\n",
        "*   there is a \"Moby-README.txt\" file with notes from Guttenberg Press\n",
        "*   there is a \"15.txt\" file which has information about the collection including original title, publication date, author, copyright, and a table of contents with associated text file names (moby-001.txt - moby-0134.txt)\n",
        "*   there is \"pg15.txt\" file which has the same informatuin about the collection of as \"15.txt\" plus more detail on the Project Guttenberg\n",
        "\n",
        "\n",
        "\n"
      ]
    },
    {
      "cell_type": "markdown",
      "metadata": {
        "id": "K-hRatGrTXIl"
      },
      "source": [
        "When reading the novel's text files, the following special lines exist:  \n",
        "\n",
        "*   each \"moby-nnnn.txt\" file may include a leading series of characters with \".. <p\" followed by a page number\n",
        "*    each \"moby-nnnn.txt\" file begins with a header line which starts with the string \".. < chapter \" followed by a chapter number and chapter title\n",
        "\n",
        "\n"
      ]
    },
    {
      "cell_type": "markdown",
      "metadata": {
        "id": "Gz8ZhdmIVhgU"
      },
      "source": [
        "To access the raw content, lines beginning with \".. \" can be ignored."
      ]
    },
    {
      "cell_type": "markdown",
      "metadata": {
        "id": "P9WlzlYaqGbQ"
      },
      "source": [
        "\n",
        "\n",
        "---\n",
        "\n"
      ]
    },
    {
      "cell_type": "markdown",
      "metadata": {
        "id": "U5YQZQZJvYqH"
      },
      "source": [
        "**Processing One File from the Collection**"
      ]
    },
    {
      "cell_type": "markdown",
      "metadata": {
        "id": "Pwq0ZaRJqHs9"
      },
      "source": [
        "Open a file from the collection using user input file name or open Moby.README.TXT"
      ]
    },
    {
      "cell_type": "code",
      "metadata": {
        "colab": {
          "base_uri": "https://localhost:8080/"
        },
        "id": "jGT-uN0fRgPd",
        "outputId": "751e5e8c-b7c3-414e-f5b5-344932f72fae"
      },
      "source": [
        "## SETUP - OPEN THE FILE BASED ON USER SPECIFIED FILE NAME OR Moby-README.TXT\n",
        "file_name = input(\"Enter file:\")\n",
        "if len(file_name) < 1:\n",
        "    name = \"/content/drive/My Drive/moby/Moby-README.TXT\"\n",
        "else:\n",
        "    name = \"/content/drive/My Drive/moby/\" + file_name\n",
        "try:\n",
        "    moby_handle = open(name)\n",
        "except:\n",
        "    print(\"Could not open \"+name)"
      ],
      "execution_count": null,
      "outputs": [
        {
          "name": "stdout",
          "output_type": "stream",
          "text": [
            "Enter file:\n"
          ]
        }
      ]
    },
    {
      "cell_type": "markdown",
      "metadata": {
        "id": "ZXhdfep9fSxr"
      },
      "source": [
        "Read each line of the file, strip off /n and whitespace on the right of each line, then print that line, and proceed to process the next line."
      ]
    },
    {
      "cell_type": "code",
      "metadata": {
        "id": "f1J__jW9dNiU"
      },
      "source": [
        "for line in moby_handle :\n",
        "    if line[:2] != \"..\" :\n",
        "        line = line.rstrip()\n",
        "        print(line)\n"
      ],
      "execution_count": null,
      "outputs": []
    },
    {
      "cell_type": "markdown",
      "metadata": {
        "id": "nk3SlFISqC5J"
      },
      "source": [
        "... or, instead of just reading and printing each line from the file, split the line into lower case words and check for each word in the bpi_di dictionary created earlier.  Each time a word matches a mnemonic string (key) in the dictionary increase the integer counter (value) of that key/value pair."
      ]
    },
    {
      "cell_type": "code",
      "metadata": {
        "id": "DPaZSAhirVY-"
      },
      "source": [
        "for line in moby_handle :\n",
        "    if line[:2] != \"..\" :\n",
        "        line = line.rstrip()\n",
        "        # print(line)\n",
        "        # input(\"Type enter to continue\")\n",
        "        words = line.split()\n",
        "        for word in words :\n",
        "            word = word.lower()\n",
        "            # idiom retrieve/create/update counter\n",
        "            bip_di[word] = bip_di.get(word, 0) + 1\n"
      ],
      "execution_count": null,
      "outputs": []
    },
    {
      "cell_type": "code",
      "metadata": {
        "id": "L_F2hPDese6Q"
      },
      "source": [
        "## Find the words (keys) of the most frequently used mnemonics in the bpi_di dictionary\n",
        "# We can create a list of the words (keys) which is sorted in descending order of frequency\n",
        "most_to_least = sorted(bip_di, key=bip_di.get, reverse=True)\n",
        "print(most_to_least[:10])"
      ],
      "execution_count": null,
      "outputs": []
    },
    {
      "cell_type": "markdown",
      "metadata": {
        "id": "-Skj6kkGtXmg"
      },
      "source": [
        "One line of scaffolding follows to peek at the dictonary"
      ]
    },
    {
      "cell_type": "code",
      "metadata": {
        "id": "ig0sd2lvsto2"
      },
      "source": [
        "print(bip_di)"
      ],
      "execution_count": null,
      "outputs": []
    },
    {
      "cell_type": "code",
      "metadata": {
        "id": "Z_s2eZhfuHDJ"
      },
      "source": [
        "## Find the words (keys) of the most frequently used mnemonics in the bip_di dictionary\n",
        "# We can use the list of words (keys) by descending frequency to access dictionary pairs\n",
        "# Print the mnemonic and its related count line-by-line\n",
        "for frequent_word in most_to_least[:10] :\n",
        "    print(frequent_word, bip_di[frequent_word])"
      ],
      "execution_count": null,
      "outputs": []
    },
    {
      "cell_type": "code",
      "metadata": {
        "id": "EPrm_-kLtc6Q"
      },
      "source": [
        "## Find the words (keys) of the most frequently used mnemonics in the bip_di dictionary\n",
        "# We can use the list of words (keys) by descending frequency to access dictionary pairs\n",
        "# Print the mnemonic and its related count as a key/value pair tuple\n",
        "for frequent_word in most_to_least[:10] :\n",
        "    print((frequent_word, bip_di[frequent_word]))"
      ],
      "execution_count": null,
      "outputs": []
    },
    {
      "cell_type": "markdown",
      "metadata": {
        "id": "v1r2lAdFuXgy"
      },
      "source": [
        "\n",
        "\n",
        "---\n",
        "\n"
      ]
    },
    {
      "cell_type": "markdown",
      "metadata": {
        "id": "GPEpvaGavspi"
      },
      "source": [
        "**Processing a Range of Files from the Collection**"
      ]
    },
    {
      "cell_type": "markdown",
      "metadata": {
        "id": "UHFmipB-uauX"
      },
      "source": [
        "Let's reset the bip_di dictionary values to zero so we can loop through all of the text files in the collection and count the BIP 39 mnemonics in the entire novel. "
      ]
    },
    {
      "cell_type": "markdown",
      "metadata": {
        "id": "khS24x5_wCn3"
      },
      "source": [
        "*note: we do not need to read in the raw bip-0039.txt file again, just reset the counters in the dictionary.*"
      ]
    },
    {
      "cell_type": "code",
      "metadata": {
        "id": "uwvG8dkVupoW"
      },
      "source": [
        "for word in bip_di :\n",
        "    bip_di[word] = 0"
      ],
      "execution_count": null,
      "outputs": []
    },
    {
      "cell_type": "markdown",
      "metadata": {
        "id": "Aaj1QTHcvyLi"
      },
      "source": [
        "We can peek at the reset bip_di dictionary"
      ]
    },
    {
      "cell_type": "code",
      "metadata": {
        "id": "eAmUMtxnvLOj"
      },
      "source": [
        "print(bip_di)\n"
      ],
      "execution_count": null,
      "outputs": []
    },
    {
      "cell_type": "markdown",
      "metadata": {
        "id": "PgHYwq-HhEAo"
      },
      "source": [
        "\n",
        "\n",
        "---\n",
        "\n"
      ]
    },
    {
      "cell_type": "markdown",
      "metadata": {
        "id": "bT7cJLoVhJJz"
      },
      "source": [
        "Mount Google Drive as 'My Drive' in the /content/drive area of Colab"
      ]
    },
    {
      "cell_type": "code",
      "metadata": {
        "colab": {
          "base_uri": "https://localhost:8080/"
        },
        "id": "FPhB3hC0hQia",
        "outputId": "774572a1-26ec-460a-c5bf-93f041a9797f"
      },
      "source": [
        "from google.colab import drive\n",
        "drive.mount('/content/drive')"
      ],
      "execution_count": 17,
      "outputs": [
        {
          "output_type": "stream",
          "name": "stdout",
          "text": [
            "Mounted at /content/drive\n"
          ]
        }
      ]
    },
    {
      "cell_type": "markdown",
      "metadata": {
        "id": "CO9bt9tahCJO"
      },
      "source": [
        "\n",
        "\n",
        "---\n",
        "\n"
      ]
    },
    {
      "cell_type": "markdown",
      "metadata": {
        "id": "vIkIystgOdqb"
      },
      "source": [
        "Use a for loop to open a range of files as a test of the overarching flow control of the code required to search the full book or at least multiple text files from the book."
      ]
    },
    {
      "cell_type": "code",
      "metadata": {
        "id": "vs8vYTn_OyaE"
      },
      "source": [
        "## SETUP - OPEN A RANGE OF FILES BASED ON USER SPECIFIED START/FINISH\n",
        "## OR JUST OPEN A SINGLE FILE (IF series_start == series_end)\n",
        "## IF ANY ERROR, PRINT A MESSAGE AND STOP PROCESSING\n",
        "\n",
        "# initiate a Boolean to control process flow\n",
        "proceed = True\n",
        "\n",
        "print(\"Let's open one or more files in the Moby Dick series.\")\n",
        "print(\"You will be prompted to enter a start and end value.\")\n",
        "print(\"Both values must be integers between 0 and 134, inclusive.\")\n",
        "input_start = input(\"Enter Moby Dick text file start sequence: \")\n",
        "input_end = input(\"Enter Moby Dick text file end sequence: \")\n",
        "\n",
        "# attempt to convert inputs to integer values\n",
        "try: \n",
        "    series_start = int(input_start)\n",
        "    series_end = int(input_end)\n",
        "except:\n",
        "    print(\"Your inputs: \", input_start, \"/\", input_end, \" are not valid.\")\n",
        "    proceed = False\n",
        "\n",
        "# code to execute if inputs are valid integers\n",
        "if proceed:\n",
        "\n",
        "    # test integer values in range (0 and 134, inclusive) and logical\n",
        "    if series_start > series_end:\n",
        "        print(\"We cannot start at \", series_start, \"and end at \", series_end, \".\")\n",
        "    elif not 0 <= series_start <= 134:\n",
        "        print(\"The start value of \", series_start, \"is invalid.\")\n",
        "    elif not 0 <= series_end <= 134: \n",
        "        print(\"The end value of \", series_start, \"is invalid.\")\n",
        "\n"
      ],
      "execution_count": null,
      "outputs": []
    },
    {
      "cell_type": "markdown",
      "metadata": {
        "id": "D3U8E0iVqBEs"
      },
      "source": [
        "\n",
        "\n",
        "---\n",
        "\n"
      ]
    },
    {
      "cell_type": "markdown",
      "metadata": {
        "id": "PzRqTrk8TyeW"
      },
      "source": [
        "Some scaffolding to peek at the state of our variables."
      ]
    },
    {
      "cell_type": "code",
      "metadata": {
        "id": "_aD9BZLdSdgq"
      },
      "source": [
        "print(\"Input start: \", input_start, \" / type: \", type(input_start))\n",
        "print(\"Input end: \", input_end, \" / type: \", type(input_end))\n",
        "print(\"Series start: \", series_start, \" / type: \", type(series_start))\n",
        "print(\"Series end: \",series_end, \" / type: \", type(series_end))\n",
        "print(\"Proceed: \", proceed, \" / type: \", type(proceed))"
      ],
      "execution_count": null,
      "outputs": []
    },
    {
      "cell_type": "markdown",
      "metadata": {
        "id": "qKISOUcQUNYi"
      },
      "source": [
        "Time to work the range of files and open a handle for each one.  We will use the same handle which seems counterintuitive at this point, but it will help us later to have used the same handle.  (You will see!)"
      ]
    },
    {
      "cell_type": "markdown",
      "metadata": {
        "id": "ri8-TR9iiOxb"
      },
      "source": [
        "The following snippet works through the series of desired file numbers, builds up a fully qualified name for each file, opens the file to the moby_handle, and then prints some debugging details.  We are testing the logic of this process flow before we add in our code from earlier to aggregate counts of BIP 39 mnemonic words in the bip_di dictionary."
      ]
    },
    {
      "cell_type": "code",
      "metadata": {
        "id": "J14ElQ04X6Yv"
      },
      "source": [
        "# Set variables for the file qualifers (path and ext)\n",
        "qualifier_pre = \"/content/drive/My Drive/moby/moby-\"\n",
        "qualifier_post = \".txt\"\n",
        "\n",
        "# work through the range of files to be processed\n",
        "for series_file in range(series_start, series_end+1):\n",
        "\n",
        "    # Build up three-character strings for series_file_str\n",
        "    if len(str(series_file)) > 3 or  len(str(series_file)) < 1:\n",
        "        print(\"Something is wrong with the series value \", series_file)\n",
        "        input(\"Escape/Break now or hit enter to continue.\") \n",
        "    elif len(str(series_file)) == 3 :\n",
        "        series_file_str = str(series_file)\n",
        "    elif len(str(series_file)) == 2 :\n",
        "        series_file_str = \"0\" + str(series_file)\n",
        "    elif len(str(series_file)) == 1 :\n",
        "        series_file_str = \"00\" + str(series_file)\n",
        "    print(\"Series file number \", series_file, \" / Series string: \", series_file_str)\n",
        "    input(\"Type enter to continue.\")\n",
        "\n",
        "    # build up a fully qualified file name for the current file in sequence\n",
        "    qualified_file = qualifier_pre + series_file_str + qualifier_post\n",
        "\n",
        "    # open the fully qualified file name with moby_handle\n",
        "    # attempt some elegant escape if no file to open, etc.\n",
        "    try:\n",
        "        moby_handle = open(qualified_file)\n",
        "    except:\n",
        "        print(\"Could not open \" + qualified_file)\n",
        "        print(\"Something went wrong with the series value \", series_file)\n",
        "        input(\"Escape/Break now or hit enter to continue.\") \n",
        "\n",
        "    # some scaffolding to peek at the current file handle\n",
        "    print(\"File: \", qualified_file)\n",
        "    print(\"Handle: \", moby_handle)\n",
        "    input(\"Type enter to continue.\")\n",
        "\n"
      ],
      "execution_count": null,
      "outputs": []
    },
    {
      "cell_type": "markdown",
      "metadata": {
        "id": "ES12qSqOzLCB"
      },
      "source": [
        "\n",
        "\n",
        "---\n",
        "\n"
      ]
    },
    {
      "cell_type": "markdown",
      "metadata": {
        "id": "sOCaC7i1zMqi"
      },
      "source": [
        "## **Put It All Together**"
      ]
    },
    {
      "cell_type": "markdown",
      "metadata": {
        "id": "Jg54xwIaizb3"
      },
      "source": [
        "We now have all of the working pieces we need to:\n",
        "\n",
        "1.   Ask the user for input regarding a range of files\n",
        "2.   Process each file in range with the moby_handle\n",
        "1.   Process each word on each line of each file opened \n",
        "2.   Keep a count of BIP 39 mnemonics found with persistence of running totals across file/handle opens \n",
        "\n",
        "\n"
      ]
    },
    {
      "cell_type": "markdown",
      "metadata": {
        "id": "JJi4TcWkjjJl"
      },
      "source": [
        "One script which executes the process from start to finish and leaves the bip_di dictionary with key/value pairs that have counts of each mnemonic (key) as integer values."
      ]
    },
    {
      "cell_type": "code",
      "metadata": {
        "id": "O0-uQcTrjyux"
      },
      "source": [
        "\n",
        "\n",
        "## SETUP DICTIONARY OF BIP 39 MNEMONICS\n",
        "\n",
        "# open the dictionary source file based on user input or bip-0039.txt\n",
        "file_name = input(\"Enter BIP 39 file name or hit Enter:\")\n",
        "print()\n",
        "if len(file_name) < 1:\n",
        "    name = \"/content/drive/My Drive/crypto/bip-0039.txt\"\n",
        "else:\n",
        "    name = \"/content/drive/My Drive/crypto/\" + file_name\n",
        "try:\n",
        "    bip_handle = open(name)\n",
        "except:\n",
        "    print(\"Could not open \"+name)\n",
        "\n",
        "\n",
        "# bip_di - create a dictionary of BIP 39 mnemonics \n",
        "# with the mnemonic string as a key and an initial value\n",
        "# use variable x to set initial value for key/value pairs\n",
        "\n",
        "bip_di = dict()\n",
        "x = 0\n",
        "\n",
        "for word in bip_handle :\n",
        "    word = word.rstrip()\n",
        "    bip_di[word] = x\n",
        "\n",
        "\n",
        "## SETUP FILES - OPEN A RANGE OF FILES BASED ON USER SPECIFIED START/FINISH\n",
        "## OR JUST OPEN A SINGLE FILE (IF series_start == series_end)\n",
        "## IF ANY ERROR, PRINT A MESSAGE AND STOP PROCESSING\n",
        "\n",
        "# initiate a Boolean to control process flow\n",
        "proceed = True\n",
        "\n",
        "print(\"Let's open one or more files in the Moby Dick series.\")\n",
        "print(\"You will be prompted to enter a start and end value.\")\n",
        "print(\"Both values must be integers between 0 and 134, inclusive.\")\n",
        "input_start = input(\"Enter Moby Dick text file start sequence: \")\n",
        "input_end = input(\"Enter Moby Dick text file end sequence: \")\n",
        "print()\n",
        "\n",
        "\n",
        "# attempt to convert inputs to integer values\n",
        "try: \n",
        "    series_start = int(input_start)\n",
        "    series_end = int(input_end)\n",
        "except:\n",
        "    print(\"Your inputs: \", input_start, \"/\", input_end, \" are not valid.\")\n",
        "    proceed = False\n",
        "\n",
        "# code to execute if inputs are valid integers\n",
        "if proceed:\n",
        "\n",
        "    # test integer values in range (0 and 134, inclusive) and logical\n",
        "    if series_start > series_end:\n",
        "        print(\"We cannot start at \", series_start, \"and end at \", series_end, \".\")\n",
        "    elif not 0 <= series_start <= 134:\n",
        "        print(\"The start value of \", series_start, \"is invalid.\")\n",
        "    elif not 0 <= series_end <= 134: \n",
        "        print(\"The end value of \", series_start, \"is invalid.\")\n",
        "\n",
        "\n",
        "## LOOPING - USE A FOR LOOP TO PROCESS EVERY FILE IN RANGE\n",
        "## OPEN EACH FILE WITH THE SAME HANDLE (moby_handle) AND\n",
        "## PROCESS EVERY NON-TRIVIAL LINE IN EACH FILE\n",
        "## CHECK EACH WORD ON EACH NON-TRIVIAL LINE\n",
        "## AND INCREASE THE COUNTERS FOR BIP 39 MNEMONIC WORDS\n",
        "\n",
        "# initiate a list of problem files not processed\n",
        "problem_files = list()\n",
        "# initiate a counter of problems detected\n",
        "problems = 0\n",
        "\n",
        "# Set variables for the file qualifers (path and extension)\n",
        "qualifier_pre = \"/content/drive/My Drive/moby/moby-\"\n",
        "qualifier_post = \".txt\"\n",
        "\n",
        "# work through the range of files to be processed\n",
        "for series_file in range(series_start, series_end+1):\n",
        "\n",
        "    # Build up three-character strings for series_file_str\n",
        "    if len(str(series_file)) > 3 or  len(str(series_file)) < 1:\n",
        "        print(\"Something is wrong with the series value \", series_file)\n",
        "        input(\"Escape/Break now or hit enter to continue.\") \n",
        "    elif len(str(series_file)) == 3 :\n",
        "        series_file_str = str(series_file)\n",
        "    elif len(str(series_file)) == 2 :\n",
        "        series_file_str = \"0\" + str(series_file)\n",
        "    elif len(str(series_file)) == 1 :\n",
        "        series_file_str = \"00\" + str(series_file)\n",
        "\n",
        "    # scaffolding to peek at the processing of the file name range\n",
        "    # print(\"Series file number \", series_file, \" / Series string: \", series_file_str)\n",
        "    # input(\"Type enter to continue.\")\n",
        "\n",
        "    # build up a fully qualified file name for the current file in sequence\n",
        "    qualified_file = qualifier_pre + series_file_str + qualifier_post\n",
        "\n",
        "    # open the fully qualified file name with moby_handle\n",
        "    # attempt some elegant escape if no file to open, etc.\n",
        "    try:\n",
        "        moby_handle = open(qualified_file)\n",
        "    except:\n",
        "        if not problems :\n",
        "            print()\n",
        "            print(\"There were one or problems with files in range.\")\n",
        "        problems += 1\n",
        "        problem_files.append(qualified_file)\n",
        "        print(\"Could not open \" + qualified_file)\n",
        "        print(\"Something went wrong with the series value \", series_file)\n",
        "        input(\"Escape/Break now or hit enter to continue.\") \n",
        "\n",
        "    # process lines and words on lines within this file in the series\n",
        "    for line in moby_handle :\n",
        "        if line[:2] != \"..\" :\n",
        "            line = line.rstrip()\n",
        "            # print(line)\n",
        "            # input(\"Type enter to continue\")\n",
        "            words = line.split()\n",
        "            for word in words :\n",
        "                word = word.lower()\n",
        "                # idiom retrieve/create/update counter\n",
        "                if word in bip_di :\n",
        "                    bip_di[word] = bip_di.get(word, 0) + 1\n",
        "    \n",
        "    # scaffolding to display summary info on the file processes\n",
        "    # print(\"File \", qualified_file, \" processed.\")\n",
        "    # input(\"Type Enter to continue.\")\n",
        "\n",
        "\n",
        "## Report on the results in the dictionary bip_di\n",
        "## Find the words (keys) of the most frequently used mnemonics in the bip_di dictionary\n",
        "## Present an advisory message about any problems encountered\n",
        "## Print the desired list of top-20 BIP 39 mnemonics in Moby Dick in descending order\n",
        "\n",
        "# We can create a list of the words (keys) which is sorted in descending order of frequency\n",
        "most_to_least = sorted(bip_di, key=bip_di.get, reverse=True)\n",
        "\n",
        "# We can use the list of words (keys) by descending frequency to access dictionary pairs\n",
        "# Print the mnemonic and its related count as a key/value pair tuple\n",
        "print()\n",
        "print()\n",
        "print(\"Here are the top 20 BIP 39 Mnemonics used in the Moby Dick files you selected.\")\n",
        "print(\"You chose Moby Dick text file \" + \n",
        "      str(series_start) + \" to \" + str(series_end) + \".\")\n",
        "if problems:\n",
        "    print(\"The following files were not able to be processed.\")\n",
        "    for problem_file in problem_files:\n",
        "        print(problem_file)\n",
        "print()\n",
        "print(\"(BIP 39 Word, Count)\")\n",
        "print(\" -----------  ----- \")\n",
        "\n",
        "for frequent_word in most_to_least[:20] :\n",
        "    print((frequent_word, bip_di[frequent_word]))\n"
      ],
      "execution_count": null,
      "outputs": []
    },
    {
      "cell_type": "markdown",
      "metadata": {
        "id": "YEB8KaXlzWTy"
      },
      "source": [
        "*Assignment #5 files are available on Github and on Blackboard.*"
      ]
    }
  ]
}