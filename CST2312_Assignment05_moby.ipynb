{
  "nbformat": 4,
  "nbformat_minor": 0,
  "metadata": {
    "colab": {
      "name": "CST2312_Assignment05_moby.ipynb",
      "provenance": [],
      "authorship_tag": "ABX9TyNgA9QbPzF9MpayCd6Y2TRu",
      "include_colab_link": true
    },
    "kernelspec": {
      "name": "python3",
      "display_name": "Python 3"
    },
    "language_info": {
      "name": "python"
    }
  },
  "cells": [
    {
      "cell_type": "markdown",
      "metadata": {
        "id": "view-in-github",
        "colab_type": "text"
      },
      "source": [
        "<a href=\"https://colab.research.google.com/github/ProfessorPatrickSlatraigh/CST2312/blob/main/CST2312_Assignment05_moby.ipynb\" target=\"_parent\"><img src=\"https://colab.research.google.com/assets/colab-badge.svg\" alt=\"Open In Colab\"/></a>"
      ]
    },
    {
      "cell_type": "markdown",
      "metadata": {
        "id": "q2ng0SDGNJND"
      },
      "source": [
        "# **CST2312 Assignment #05 - Moby Dick and BIP 39**"
      ]
    },
    {
      "cell_type": "markdown",
      "metadata": {
        "id": "XZFvqf-TNULn"
      },
      "source": [
        "\n",
        "\n",
        "---\n",
        "\n"
      ]
    },
    {
      "cell_type": "markdown",
      "metadata": {
        "id": "0OOsfmxcjQ5E"
      },
      "source": [
        "First things, first: mounting my Google Drive to the /content/drive area in Colab as 'My Drive' (with a space between My and Drive)."
      ]
    },
    {
      "cell_type": "code",
      "metadata": {
        "colab": {
          "base_uri": "https://localhost:8080/"
        },
        "id": "vIEnmWPoMkJi",
        "outputId": "3a19c000-2711-4fd4-a3a9-51495f7971f6"
      },
      "source": [
        "from google.colab import drive\n",
        "drive.mount('/content/drive')"
      ],
      "execution_count": 1,
      "outputs": [
        {
          "output_type": "stream",
          "name": "stdout",
          "text": [
            "Mounted at /content/drive\n"
          ]
        }
      ]
    },
    {
      "cell_type": "markdown",
      "metadata": {
        "id": "nRan5v0hlr5U"
      },
      "source": [
        "\n",
        "\n",
        "---\n",
        "\n"
      ]
    },
    {
      "cell_type": "markdown",
      "metadata": {
        "id": "OFdkFCkDkSLL"
      },
      "source": [
        "From the My Drive root of my Google Drive there is a sub-folder named \"crypto\" with a line-by-line list of BIP 39 mnemonics (English language) in alphabetic order in the file \"bip-0039.txt\". "
      ]
    },
    {
      "cell_type": "markdown",
      "metadata": {
        "id": "nvNGQocBmM7U"
      },
      "source": [
        "Open the BIP 39 file with the handle bip_handle."
      ]
    },
    {
      "cell_type": "code",
      "metadata": {
        "colab": {
          "base_uri": "https://localhost:8080/"
        },
        "id": "HQMj0Z7zl2RQ",
        "outputId": "391610fc-acd4-4446-cd53-41167e55d239"
      },
      "source": [
        "## SETUP - OPEN THE FILE BASED ON USER SPECIFIED FILE NAME OR bip-0039.txt\n",
        "file_name = input(\"Enter file:\")\n",
        "if len(file_name) < 1:\n",
        "    name = \"/content/drive/My Drive/crypto/bip-0039.txt\"\n",
        "else:\n",
        "    name = \"/content/drive/My Drive/crypto/\" + file_name\n",
        "try:\n",
        "    bip_handle = open(name)\n",
        "except:\n",
        "    print(\"Could not open \"+name)"
      ],
      "execution_count": 14,
      "outputs": [
        {
          "name": "stdout",
          "output_type": "stream",
          "text": [
            "Enter file:\n"
          ]
        }
      ]
    },
    {
      "cell_type": "markdown",
      "metadata": {
        "id": "rFKB_n_KlOMP"
      },
      "source": [
        "Open a the handle bip_handle file of BIP 39 mnemonics and read them, line-by-line into a dictionay as keys with an initial value of 0 (integer) for each key/value pair."
      ]
    },
    {
      "cell_type": "code",
      "metadata": {
        "id": "O0iUJiafmebk"
      },
      "source": [
        "## bip_di - create a dictionary of BIP 39 mnemonics \n",
        "## with the mnemonic string as a key and an initial value\n",
        "## use variable x to set initial value for key/value pairs\n",
        "\n",
        "bip_di = dict()\n",
        "x = 0\n",
        "\n",
        "for word in bip_handle :\n",
        "    word = word.rstrip()\n",
        "    bip_di[word] = x\n"
      ],
      "execution_count": 18,
      "outputs": []
    },
    {
      "cell_type": "code",
      "metadata": {
        "id": "rcvI9XLfofa_"
      },
      "source": [
        "## peek into the bip_di dictionary to see the first ten pairs\n",
        "\n",
        "i = 0\n",
        "\n",
        "for word in bip_di:\n",
        "    if i < 10:\n",
        "        print(word, bip_di[word])\n",
        "        i = i + 1\n"
      ],
      "execution_count": null,
      "outputs": []
    },
    {
      "cell_type": "markdown",
      "metadata": {
        "id": "eDI13WQ9lpsY"
      },
      "source": [
        "\n",
        "\n",
        "---\n",
        "\n"
      ]
    },
    {
      "cell_type": "markdown",
      "metadata": {
        "id": "fSEPV7OLVqVN"
      },
      "source": [
        "From the My Drive root of my Google Drive there is a sub-folder named \"moby\" with the Moby Dick novel text in a series of text files. "
      ]
    },
    {
      "cell_type": "markdown",
      "metadata": {
        "id": "JIpOJBrDRiGa"
      },
      "source": [
        "Each file is a flat, plain-text file with rows delimited with a new line \"/n\" character. "
      ]
    },
    {
      "cell_type": "markdown",
      "metadata": {
        "id": "cHxItj97YwGB"
      },
      "source": [
        "The collection includes the following types of files:\n",
        "\n",
        "\n",
        "\n",
        "*   a file \"moby-000.txt\" which contains some prelinary information about the origin of the version of the book contained in this collection\n",
        "*   chapter files of Moby Dick named from \"moby-001.txt\" to \"moby-0134.txt\", which combined in sequence form the text of the novel\n",
        "*   there is a \"Moby-README.txt\" file with notes from Gutenburg Press\n",
        "*   there is a \"15.txt\" file which has information about the collection including original title, publication date, author, copyright, and a table of contents with associated text file names (moby-001.txt - moby-0134.txt)\n",
        "*   there is \"pg15.txt\" file which has the same informatuin about the collection of as \"15.txt\" plus more detail on the Project Gutenburg\n",
        "\n",
        "\n",
        "\n"
      ]
    },
    {
      "cell_type": "markdown",
      "metadata": {
        "id": "K-hRatGrTXIl"
      },
      "source": [
        "When reading the novel's text files, the following special lines exist:  \n",
        "\n",
        "*   each \"moby-nnnn.txt\" file may include a leading series of characters with \".. <p\" followed by a page number\n",
        "*    each \"moby-nnnn.txt\" file begins with a header line which starts with the string \".. < chapter \" followed by a chapter number and chapter title\n",
        "\n",
        "\n"
      ]
    },
    {
      "cell_type": "markdown",
      "metadata": {
        "id": "Gz8ZhdmIVhgU"
      },
      "source": [
        "To access the raw content, lines beginning with \".. \" can be ignored."
      ]
    },
    {
      "cell_type": "markdown",
      "metadata": {
        "id": "P9WlzlYaqGbQ"
      },
      "source": [
        "\n",
        "\n",
        "---\n",
        "\n"
      ]
    },
    {
      "cell_type": "markdown",
      "metadata": {
        "id": "U5YQZQZJvYqH"
      },
      "source": [
        "**Processing One File from the Collection**"
      ]
    },
    {
      "cell_type": "markdown",
      "metadata": {
        "id": "Pwq0ZaRJqHs9"
      },
      "source": [
        "Open a file from the collection using user input file name or open Moby.README.TXT"
      ]
    },
    {
      "cell_type": "code",
      "metadata": {
        "colab": {
          "base_uri": "https://localhost:8080/"
        },
        "id": "jGT-uN0fRgPd",
        "outputId": "751e5e8c-b7c3-414e-f5b5-344932f72fae"
      },
      "source": [
        "## SETUP - OPEN THE FILE BASED ON USER SPECIFIED FILE NAME OR Moby-README.TXT\n",
        "file_name = input(\"Enter file:\")\n",
        "if len(file_name) < 1:\n",
        "    name = \"/content/drive/My Drive/moby/Moby-README.TXT\"\n",
        "else:\n",
        "    name = \"/content/drive/My Drive/moby/\" + file_name\n",
        "try:\n",
        "    moby_handle = open(name)\n",
        "except:\n",
        "    print(\"Could not open \"+name)"
      ],
      "execution_count": 30,
      "outputs": [
        {
          "name": "stdout",
          "output_type": "stream",
          "text": [
            "Enter file:\n"
          ]
        }
      ]
    },
    {
      "cell_type": "markdown",
      "metadata": {
        "id": "ZXhdfep9fSxr"
      },
      "source": [
        "Read each line of the file, strip off /n and whitespace on the right of each line, then print that line, and proceed to process the next line."
      ]
    },
    {
      "cell_type": "code",
      "metadata": {
        "id": "f1J__jW9dNiU"
      },
      "source": [
        "for line in moby_handle :\n",
        "    if line[:2] != \"..\" :\n",
        "        line = line.rstrip()\n",
        "        print(line)\n"
      ],
      "execution_count": null,
      "outputs": []
    },
    {
      "cell_type": "markdown",
      "metadata": {
        "id": "nk3SlFISqC5J"
      },
      "source": [
        "... or, instead of just reading and printing each line from the file, split the line into lower case words and check for each word in the bpi_di dictionary created earlier.  Each time a word matches a mnemonic string (key) in the dictionary increase the integer counter (value) of that key/value pair."
      ]
    },
    {
      "cell_type": "code",
      "metadata": {
        "id": "DPaZSAhirVY-"
      },
      "source": [
        "for line in moby_handle :\n",
        "    if line[:2] != \"..\" :\n",
        "        line = line.rstrip()\n",
        "        # print(line)\n",
        "        # input(\"Type enter to continue\")\n",
        "        words = line.split()\n",
        "        for word in words :\n",
        "            word = word.lower()\n",
        "            # idiom retrieve/create/update counter\n",
        "            bip_di[word] = bip_di.get(word, 0) + 1\n"
      ],
      "execution_count": 31,
      "outputs": []
    },
    {
      "cell_type": "code",
      "metadata": {
        "colab": {
          "base_uri": "https://localhost:8080/"
        },
        "id": "L_F2hPDese6Q",
        "outputId": "47170423-85ef-4457-c437-7b5538e56a2c"
      },
      "source": [
        "## Find the words (keys) of the most frequently used mnemonics in the bpi_di dictionary\n",
        "# We can create a list of the words (keys) which is sorted in descending order of frequency\n",
        "most_to_least = sorted(bip_di, key=bip_di.get, reverse=True)\n",
        "print(most_to_least[:10])"
      ],
      "execution_count": 32,
      "outputs": [
        {
          "output_type": "stream",
          "name": "stdout",
          "text": [
            "['the', 'and', 'of', 'a', 'in', 'was', 'to', 'it', 'that', 'his']\n"
          ]
        }
      ]
    },
    {
      "cell_type": "markdown",
      "metadata": {
        "id": "-Skj6kkGtXmg"
      },
      "source": [
        "One line of scaffolding follows to peek at the dictonary"
      ]
    },
    {
      "cell_type": "code",
      "metadata": {
        "id": "ig0sd2lvsto2"
      },
      "source": [
        "print(bip_di)"
      ],
      "execution_count": null,
      "outputs": []
    },
    {
      "cell_type": "code",
      "metadata": {
        "colab": {
          "base_uri": "https://localhost:8080/"
        },
        "id": "Z_s2eZhfuHDJ",
        "outputId": "34be558b-c690-4ccb-8432-91322cc57cb9"
      },
      "source": [
        "## Find the words (keys) of the most frequently used mnemonics in the bip_di dictionary\n",
        "# We can use the list of words (keys) by descending frequency to access dictionary pairs\n",
        "# Print the mnemonic and its related count line-by-line\n",
        "for frequent_word in most_to_least[:10] :\n",
        "    print(frequent_word, bip_di[frequent_word])"
      ],
      "execution_count": 36,
      "outputs": [
        {
          "output_type": "stream",
          "name": "stdout",
          "text": [
            "the 184\n",
            "and 39\n",
            "of 37\n",
            "a 29\n",
            "in 27\n",
            "was 20\n",
            "to 17\n",
            "it 14\n",
            "that 12\n",
            "his 11\n"
          ]
        }
      ]
    },
    {
      "cell_type": "code",
      "metadata": {
        "colab": {
          "base_uri": "https://localhost:8080/"
        },
        "id": "EPrm_-kLtc6Q",
        "outputId": "6c71d7a4-b820-4405-f6e0-7ba93306e303"
      },
      "source": [
        "## Find the words (keys) of the most frequently used mnemonics in the bip_di dictionary\n",
        "# We can use the list of words (keys) by descending frequency to access dictionary pairs\n",
        "# Print the mnemonic and its related count as a key/value pair tuple\n",
        "for frequent_word in most_to_least[:10] :\n",
        "    print((frequent_word, bip_di[frequent_word]))"
      ],
      "execution_count": 35,
      "outputs": [
        {
          "output_type": "stream",
          "name": "stdout",
          "text": [
            "('the', 184)\n",
            "('and', 39)\n",
            "('of', 37)\n",
            "('a', 29)\n",
            "('in', 27)\n",
            "('was', 20)\n",
            "('to', 17)\n",
            "('it', 14)\n",
            "('that', 12)\n",
            "('his', 11)\n"
          ]
        }
      ]
    },
    {
      "cell_type": "markdown",
      "metadata": {
        "id": "v1r2lAdFuXgy"
      },
      "source": [
        "\n",
        "\n",
        "---\n",
        "\n"
      ]
    },
    {
      "cell_type": "markdown",
      "metadata": {
        "id": "GPEpvaGavspi"
      },
      "source": [
        "**Processing a Range of Files from the Collection**"
      ]
    },
    {
      "cell_type": "markdown",
      "metadata": {
        "id": "UHFmipB-uauX"
      },
      "source": [
        "Let's reset the bip_di dictionary values to zero so we can loop through all of the text files in the collection and count the BIP 39 mnemonics in the entire novel. "
      ]
    },
    {
      "cell_type": "markdown",
      "metadata": {
        "id": "khS24x5_wCn3"
      },
      "source": [
        "*note: we do not need to read in the raw bip-0039.txt file again, just reset the counters in the dictionary.*"
      ]
    },
    {
      "cell_type": "code",
      "metadata": {
        "id": "uwvG8dkVupoW"
      },
      "source": [
        "for word in bip_di :\n",
        "    bip_di[word] = 0"
      ],
      "execution_count": 37,
      "outputs": []
    },
    {
      "cell_type": "markdown",
      "metadata": {
        "id": "Aaj1QTHcvyLi"
      },
      "source": [
        "We can peek at the reset bip_di dictionary"
      ]
    },
    {
      "cell_type": "code",
      "metadata": {
        "id": "eAmUMtxnvLOj"
      },
      "source": [
        "print(bip_di)\n"
      ],
      "execution_count": null,
      "outputs": []
    },
    {
      "cell_type": "markdown",
      "metadata": {
        "id": "D3U8E0iVqBEs"
      },
      "source": [
        "\n",
        "\n",
        "---\n",
        "\n"
      ]
    }
  ]
}