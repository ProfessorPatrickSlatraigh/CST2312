{
  "nbformat": 4,
  "nbformat_minor": 0,
  "metadata": {
    "colab": {
      "provenance": [],
      "authorship_tag": "ABX9TyMzyDXVefbYl9pS0l+OBku6",
      "include_colab_link": true
    },
    "kernelspec": {
      "name": "python3",
      "display_name": "Python 3"
    },
    "language_info": {
      "name": "python"
    }
  },
  "cells": [
    {
      "cell_type": "markdown",
      "metadata": {
        "id": "view-in-github",
        "colab_type": "text"
      },
      "source": [
        "<a href=\"https://colab.research.google.com/github/ProfessorPatrickSlatraigh/CST2312/blob/main/CST2312_Class01_HelloWorld_Colab.ipynb\" target=\"_parent\"><img src=\"https://colab.research.google.com/assets/colab-badge.svg\" alt=\"Open In Colab\"/></a>"
      ]
    },
    {
      "cell_type": "markdown",
      "source": [
        "# *First Attempt at Colab*\n",
        "\n",
        "This notebook is our class attempt at creating a new Jupyter notebook in Colab."
      ],
      "metadata": {
        "id": "ykh0zgpQsP76"
      }
    },
    {
      "cell_type": "code",
      "execution_count": null,
      "metadata": {
        "id": "MdAaxLzNprfP"
      },
      "outputs": [],
      "source": [
        "print(\"Hello World!\")\n",
        "print(\"This line #2 of snippet#1\")\n",
        "# this notebook is an example from class on 02-Feb-2022"
      ]
    },
    {
      "cell_type": "code",
      "source": [
        "print(\"This is snippet #2\")"
      ],
      "metadata": {
        "id": "dP9WE_akq1H2"
      },
      "execution_count": null,
      "outputs": []
    },
    {
      "cell_type": "code",
      "source": [
        "print(\"I inserted this snippet after snippet # 2\")"
      ],
      "metadata": {
        "id": "-Gy1r3i5sBDj"
      },
      "execution_count": null,
      "outputs": []
    }
  ]
}