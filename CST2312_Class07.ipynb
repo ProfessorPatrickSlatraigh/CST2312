{
  "nbformat": 4,
  "nbformat_minor": 0,
  "metadata": {
    "colab": {
      "name": "CST2312_Class07.ipynb",
      "provenance": [],
      "authorship_tag": "ABX9TyMktG2wXaVFLEIA4p7UR48Y",
      "include_colab_link": true
    },
    "kernelspec": {
      "name": "python3",
      "display_name": "Python 3"
    },
    "language_info": {
      "name": "python"
    }
  },
  "cells": [
    {
      "cell_type": "markdown",
      "metadata": {
        "id": "view-in-github",
        "colab_type": "text"
      },
      "source": [
        "<a href=\"https://colab.research.google.com/github/ProfessorPatrickSlatraigh/CST2312/blob/main/CST2312_Class07.ipynb\" target=\"_parent\"><img src=\"https://colab.research.google.com/assets/colab-badge.svg\" alt=\"Open In Colab\"/></a>"
      ]
    },
    {
      "cell_type": "markdown",
      "metadata": {
        "id": "WTXExnfnurjJ"
      },
      "source": [
        "CST2312 - Class #07, follow-up on reading files in Google Colab\n",
        "by Professor Patrick, 27-Sep-2021. \n",
        "This notebook works with a Github repository in ProfessorPatrickSlatraigh/CST2312. \n",
        "That repository includes the files \"mbox-short.txt\" and \"mbox.txt\". \n",
        "The repo can be cloned to be used in Google Colab \n",
        " or   \n",
        " A URL for a file in the Github repo can be used to open a Python handle.\n",
        "\n"
      ]
    },
    {
      "cell_type": "code",
      "metadata": {
        "id": "0O0HiewLxiKU"
      },
      "source": [
        "# let's import pandas as pd so that we have it available\n",
        "import pandas as pd\n"
      ],
      "execution_count": 3,
      "outputs": []
    },
    {
      "cell_type": "markdown",
      "metadata": {
        "id": "k0CvFDYJ75yp"
      },
      "source": [
        "## **UPLOADING TO COLAB EVERY TIME**"
      ]
    },
    {
      "cell_type": "markdown",
      "metadata": {
        "id": "OQ0h2ndg1yi2"
      },
      "source": [
        "The first example reads \"mbox-short.txt\" from the Google Colab content folder \"sample_data\".  In order to do that, the \"mbox-short.txt\" file needs to be uploaded to the \"sample_data\" folder.  That upload is temporary for the Google Colab session - the \"mbox-short.txt\" file will go away after you finish with your active Colab notebook.  Note that this method does not require pandas.\n"
      ]
    },
    {
      "cell_type": "markdown",
      "metadata": {
        "id": "ICw2gpL72jWh"
      },
      "source": [
        "Use the panel on the left of your Colab session to navigate to the content area and the \"sample_data\" folder.  Then use the three vertical dots to the right of the name \"sample_data\" to choose 'Upload' and navigate to the \"mbox_short.txt\" file on your computer.\n"
      ]
    },
    {
      "cell_type": "markdown",
      "metadata": {
        "id": "atdHRQxq3L6j"
      },
      "source": [
        "Use the three vertical dots to your uploaded \"mbox_short.txt\" file in the \"sample_data\" content folder to choose \"Copy path\" and that will put the full path (URL) in your clipboard.  If the path is not the same as in the following call to the open() command then replace the string for the file name with the URL from your clipboard - paste it in as the argument to open()."
      ]
    },
    {
      "cell_type": "code",
      "metadata": {
        "id": "ycr3eAH-ulWy"
      },
      "source": [
        "colab_handle = open(\"/content/sample_data/mbox-short.txt\")"
      ],
      "execution_count": 13,
      "outputs": []
    },
    {
      "cell_type": "markdown",
      "metadata": {
        "id": "QO_ySoup3xxp"
      },
      "source": [
        "Now you can use the print function to see the attributes of the new colab_handle you created to the \"mbox-short.txt\" file in the content folder \"sample_data\" on Google Colab.\n"
      ]
    },
    {
      "cell_type": "code",
      "metadata": {
        "id": "DdVHbqrYwd0_"
      },
      "source": [
        "print(colab_handle)"
      ],
      "execution_count": null,
      "outputs": []
    },
    {
      "cell_type": "markdown",
      "metadata": {
        "id": "IWvYtdPR4FWg"
      },
      "source": [
        "You can use a for loop to print the contents of \"mbox_short.txt\""
      ]
    },
    {
      "cell_type": "code",
      "metadata": {
        "id": "3IGLcShb4PFR"
      },
      "source": [
        "for line in colab_handle :\n",
        "    print(line)\n"
      ],
      "execution_count": null,
      "outputs": []
    },
    {
      "cell_type": "markdown",
      "metadata": {
        "id": "OhXCcpar8JW0"
      },
      "source": [
        "# **READING FILES FROM GITHUB**"
      ]
    },
    {
      "cell_type": "markdown",
      "metadata": {
        "id": "RIM3KiFX42h8"
      },
      "source": [
        "Now let's try reading the same file from a Github repository (repo).  We will use the CST2312 repo in the ProfessorPatrickSlatraigh account on Github.  The file \"mbox_short.txt\" was uploaded to that repo.  "
      ]
    },
    {
      "cell_type": "markdown",
      "metadata": {
        "id": "GKU8fZ7m5KPB"
      },
      "source": [
        "From Github we navigated to the \"mbox_short.txt\" file and viewed it in it's raw format using the \"raw\" button to the right of the file name.  While in raw viewing mode in a browser, we copied the URL from the browser to the clipboard.  Please note that this works with open repos, not private repos.\n"
      ]
    },
    {
      "cell_type": "code",
      "metadata": {
        "id": "t8tQhmd-5sOI"
      },
      "source": [
        "git_handle = pd.read_fwf(\"https://raw.githubusercontent.com/ProfessorPatrickSlatraigh/CST2312/main/mbox-short.txt\")"
      ],
      "execution_count": 17,
      "outputs": []
    },
    {
      "cell_type": "code",
      "metadata": {
        "id": "s9i2BihH6gVq"
      },
      "source": [
        "print(git_handle)"
      ],
      "execution_count": null,
      "outputs": []
    },
    {
      "cell_type": "markdown",
      "metadata": {
        "id": "mtMb0lof7DbV"
      },
      "source": [
        "Storing files in Github gives us persistence.  That is, when we are done with our Google Colab session the files on Github remain and can be used again.  And our Google Colab notebooks should work each time we open them without the need for use to upload files to the content area on Google Colab for every session."
      ]
    },
    {
      "cell_type": "markdown",
      "metadata": {
        "id": "Ua1ElAyX9NfR"
      },
      "source": [
        "# **READING FILES FROM GOOGLE DRIVE**"
      ]
    },
    {
      "cell_type": "markdown",
      "metadata": {
        "id": "D7PS3mc99dJm"
      },
      "source": [
        "We can also have persistent files stored in Google Drive.  To read files from Google Drive we will need to import the drive module from google.colab.  We will also need to have Google Drive give stream access to Google Colab.  If the files are on a different Google Drive account from the Google Colab account then be sure to have permission of the Google Drive owner for access to the file."
      ]
    },
    {
      "cell_type": "markdown",
      "metadata": {
        "id": "LGdJZ8ua-EV_"
      },
      "source": [
        "You can use the drive module from google.colab to mount your entire Google Drive to Colab by:\n",
        "\n",
        "1. Executing the below code which will provide you with an authentication link"
      ]
    },
    {
      "cell_type": "code",
      "metadata": {
        "colab": {
          "base_uri": "https://localhost:8080/"
        },
        "id": "KEXi3F2F-Ows",
        "outputId": "a4fbe40f-dfaa-40ad-b247-23c799d03488"
      },
      "source": [
        "from google.colab import drive\n",
        "drive.mount('/content/gdrive')"
      ],
      "execution_count": 29,
      "outputs": [
        {
          "output_type": "stream",
          "name": "stdout",
          "text": [
            "Mounted at /content/gdrive\n"
          ]
        }
      ]
    },
    {
      "cell_type": "markdown",
      "metadata": {
        "id": "DM8kUpGh-T1A"
      },
      "source": [
        "2. Open the link\n",
        "\n",
        "3. Choose the Google account whose Drive you want to mount\n",
        "\n",
        "4. Allow Google Drive Stream access to your Google Account\n",
        "\n",
        "5. Copy the code displayed, paste it in the text box as shown below, and press Enter"
      ]
    },
    {
      "cell_type": "markdown",
      "metadata": {
        "id": "7DBRkyFa-k4G"
      },
      "source": [
        "Once the Drive is mounted, you’ll get the message “Mounted at /content/gdrive”, and you’ll be able to browse through the contents of your Drive from the file-explorer pane."
      ]
    },
    {
      "cell_type": "markdown",
      "metadata": {
        "id": "pUf2blkN-u0l"
      },
      "source": [
        "You can even write directly to Google Drive from Colab using the usual file/directory operations."
      ]
    },
    {
      "cell_type": "code",
      "metadata": {
        "id": "kdzlvDgR-a0Q"
      },
      "source": [
        "!touch \"/content/gdrive/My Drive/sample_file.txt\""
      ],
      "execution_count": 30,
      "outputs": []
    },
    {
      "cell_type": "markdown",
      "metadata": {
        "id": "QM6okRJs-0rL"
      },
      "source": [
        "This will create a file in your Google Drive, and will be visible in the file-explorer pane once you refresh it.  Notice that the path within the content area is different from the \"sample_data\" folder we used earlier for fles uploaded directly to Google Colab.  The content area will have a \"gdrive\" folder after you have authenticated with Google Drive.  Within the \"gdrive\" folder there should be a folder structure according to your Google Drive folders."
      ]
    },
    {
      "cell_type": "markdown",
      "metadata": {
        "id": "qvpxW4XI_6iK"
      },
      "source": [
        "If your Google Drive folder had the file \"mbox_short.txt\" within the \"My Drive\" folder then you would be able to open that file with the following code:"
      ]
    },
    {
      "cell_type": "code",
      "metadata": {
        "id": "JL-5khF1AUJn"
      },
      "source": [
        "gdrive_handle = open(\"/content/gdrive/My Drive/mbox-short.txt\")"
      ],
      "execution_count": 31,
      "outputs": []
    },
    {
      "cell_type": "markdown",
      "metadata": {
        "id": "MPLSoz45Au8C"
      },
      "source": [
        "Now you can use the print function to see the attributes of the new gdrive_handle you created to the \"mbox-short.txt\" file in the content folder \"gdrive/My Drive/\" on Google Drive.\n"
      ]
    },
    {
      "cell_type": "code",
      "metadata": {
        "id": "oSWMlGdSAu8D"
      },
      "source": [
        "print(gdrive_handle)"
      ],
      "execution_count": null,
      "outputs": []
    },
    {
      "cell_type": "markdown",
      "metadata": {
        "id": "At6KzL_LAu8D"
      },
      "source": [
        "As in the earlier Google Colab example, you can now use a for loop to print the contents of \"mbox_short.txt\" in Google Drive"
      ]
    },
    {
      "cell_type": "code",
      "metadata": {
        "id": "I5sednyGAu8D"
      },
      "source": [
        "for line in gdrive_handle :\n",
        "    print(line)\n"
      ],
      "execution_count": null,
      "outputs": []
    },
    {
      "cell_type": "markdown",
      "metadata": {
        "id": "mPsUG3qd833a"
      },
      "source": [
        "\n",
        "\n",
        "---\n",
        "\n"
      ]
    },
    {
      "cell_type": "markdown",
      "metadata": {
        "id": "AYk6CJa78qHo"
      },
      "source": [
        "*With thanks to this reference article:  \n",
        "Neptune.ai blogs - How to Deal with Files in Google Colab: Everything You Need to Know, https://neptune.ai/blog/google-colab-dealing-with-files-2*\n",
        "\n",
        "---\n",
        "\n"
      ]
    }
  ]
}