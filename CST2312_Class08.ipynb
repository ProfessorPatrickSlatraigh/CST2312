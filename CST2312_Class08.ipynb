{
  "nbformat": 4,
  "nbformat_minor": 0,
  "metadata": {
    "colab": {
      "provenance": [],
      "authorship_tag": "ABX9TyM4kXIzF0nqPdW16HX+DHsv",
      "include_colab_link": true
    },
    "kernelspec": {
      "name": "python3",
      "display_name": "Python 3"
    },
    "language_info": {
      "name": "python"
    }
  },
  "cells": [
    {
      "cell_type": "markdown",
      "metadata": {
        "id": "view-in-github",
        "colab_type": "text"
      },
      "source": [
        "<a href=\"https://colab.research.google.com/github/ProfessorPatrickSlatraigh/CST2312/blob/main/CST2312_Class08.ipynb\" target=\"_parent\"><img src=\"https://colab.research.google.com/assets/colab-badge.svg\" alt=\"Open In Colab\"/></a>"
      ]
    },
    {
      "cell_type": "markdown",
      "metadata": {
        "id": "PTnxGIV8p3Jr"
      },
      "source": [
        "# **CST2312 Class 08 - Dictionaries and Tuples**\n",
        "\n",
        "updated 27-Feb-2022 | 22-Feb-2023 by Professor Patrick \n",
        "\n",
        "*examples from Python for Everybody by Charles Severence at py4e.com*"
      ]
    },
    {
      "cell_type": "markdown",
      "metadata": {
        "id": "YDEasnKj0tBD"
      },
      "source": [
        "\n",
        "\n",
        "---\n",
        "\n"
      ]
    },
    {
      "cell_type": "markdown",
      "source": [
        "# **10: Dictionaries**        \n",
        "**Examples** from: \n",
        "# Lesson 10 (Dictionaries)    \n",
        "*was old lesson 9*    \n",
        "of Python For Everybody (p4e.com/lessons)"
      ],
      "metadata": {
        "id": "z-PGRHdIw3Cc"
      }
    },
    {
      "cell_type": "markdown",
      "source": [
        "A dictionary is like a list, but more general. In a list, the index positions have to be integers; in a dictionary, the indices can be (almost) any type.\n",
        "\n",
        "You can think of a dictionary as a mapping between a set of indices (which are called keys) and a set of values. Each key maps to a value. The association of a key and a value is called a *key-value pair* or sometimes an item.\n",
        "\n",
        "As an example, we’ll build a dictionary that maps from English to Spanish words, so the keys and the values are all strings.\n",
        "\n",
        "The function dict creates a new dictionary with no items. Because dict is the name of a built-in function, you should avoid using it as a variable name."
      ],
      "metadata": {
        "id": "eHEXayawiB2T"
      }
    },
    {
      "cell_type": "markdown",
      "metadata": {
        "id": "WvaqYfIGz4P4"
      },
      "source": [
        "## **Introduction to Dictionaries**   "
      ]
    },
    {
      "cell_type": "code",
      "execution_count": null,
      "metadata": {
        "id": "UXFMVeTPz4P4"
      },
      "outputs": [],
      "source": [
        "# Built-in dict() creates a new dictionary with no items.\n",
        "eng2sp = dict()\n",
        "print(eng2sp)         # curly brackets, {}, represent an empty dictionary"
      ]
    },
    {
      "cell_type": "code",
      "execution_count": null,
      "metadata": {
        "id": "JWl_Ng8Jz4P5"
      },
      "outputs": [],
      "source": [
        "# add items to the dictionary,you can use square brackets\n",
        "eng2sp['one'] = 'uno'\n",
        "\n",
        "# key-value pair"
      ]
    },
    {
      "cell_type": "code",
      "execution_count": null,
      "metadata": {
        "id": "bbrYkPG5z4P6"
      },
      "outputs": [],
      "source": [
        "print(eng2sp)"
      ]
    },
    {
      "cell_type": "code",
      "execution_count": null,
      "metadata": {
        "id": "dPNsXiR-z4P6"
      },
      "outputs": [],
      "source": [
        "eng2sp = {'one': 'uno', 'two': 'dos', 'three': 'tres'}\n",
        "print(eng2sp)"
      ]
    },
    {
      "cell_type": "code",
      "source": [
        "eng2int =        # add the required dictionary assignment for integer values\n",
        "print(eng2int)   "
      ],
      "metadata": {
        "id": "zkaczY9bMMq3"
      },
      "execution_count": null,
      "outputs": []
    },
    {
      "cell_type": "code",
      "source": [
        "# complete the print statement to display the integer of 'one'\n",
        "print()"
      ],
      "metadata": {
        "id": "Md7l5w5bNKIC"
      },
      "execution_count": null,
      "outputs": []
    },
    {
      "cell_type": "markdown",
      "source": [
        "### (hidden) Here is the answer "
      ],
      "metadata": {
        "id": "POTJmh5bMzln"
      }
    },
    {
      "cell_type": "code",
      "source": [
        "eng2int = {\n",
        "    'one': 1,\n",
        "    \"two\":2,\n",
        "    '''three''':3\n",
        "}\n",
        "\n",
        "print(eng2int)"
      ],
      "metadata": {
        "id": "VA8rxfXWM3If"
      },
      "execution_count": null,
      "outputs": []
    },
    {
      "cell_type": "code",
      "source": [
        "print(eng2int[\"one\"])"
      ],
      "metadata": {
        "id": "LE1o6UiENRQw"
      },
      "execution_count": null,
      "outputs": []
    },
    {
      "cell_type": "markdown",
      "source": [
        "##Looking up values with keys     "
      ],
      "metadata": {
        "id": "yhWWYFJCNW8F"
      }
    },
    {
      "cell_type": "code",
      "execution_count": null,
      "metadata": {
        "id": "qmVVAP8Nz4P6"
      },
      "outputs": [],
      "source": [
        "# use the keys to look up the corresponding values\n",
        "print(eng2sp['two'])"
      ]
    },
    {
      "cell_type": "code",
      "execution_count": null,
      "metadata": {
        "id": "N5YfAhChz4P6"
      },
      "outputs": [],
      "source": [
        "print(eng2sp['four'])\n",
        "# key isn’t in the dictionary, you get an exception"
      ]
    },
    {
      "cell_type": "code",
      "execution_count": null,
      "metadata": {
        "id": "mDIewVwzz4QB"
      },
      "outputs": [],
      "source": [
        "len(eng2sp)\n",
        "# returns the number of key-value pairs"
      ]
    },
    {
      "cell_type": "code",
      "execution_count": null,
      "metadata": {
        "id": "vQQIvm7Tz4QB"
      },
      "outputs": [],
      "source": [
        "# tells you whether something appears as a key in the dictionary\n",
        "'one' in eng2sp"
      ]
    },
    {
      "cell_type": "code",
      "execution_count": null,
      "metadata": {
        "id": "EW0BxLegz4QB"
      },
      "outputs": [],
      "source": [
        "'uno' in eng2sp"
      ]
    },
    {
      "cell_type": "code",
      "execution_count": null,
      "metadata": {
        "id": "fy2WtZ5Zz4QC"
      },
      "outputs": [],
      "source": [
        "# use the method values(), which returns the values as a list, and then use the in operator\n",
        "values_lst = list(eng2sp.values())\n",
        "'uno' in values_lst"
      ]
    },
    {
      "cell_type": "code",
      "source": [
        "print(values_lst)"
      ],
      "metadata": {
        "id": "7A-craYmOn1P"
      },
      "execution_count": null,
      "outputs": []
    },
    {
      "cell_type": "code",
      "execution_count": null,
      "metadata": {
        "id": "sUPf92Mvz4QC"
      },
      "outputs": [],
      "source": [
        "'one' in values_lst"
      ]
    },
    {
      "cell_type": "code",
      "source": [
        "dir(eng2sp)"
      ],
      "metadata": {
        "id": "U_to7iuSO2xr"
      },
      "execution_count": null,
      "outputs": []
    },
    {
      "cell_type": "code",
      "source": [
        "# use the method keys(), which returns the keys as a list, and then use the in operator\n",
        "keys_lst = list(eng2sp.keys())\n",
        "'one' in keys_lst"
      ],
      "metadata": {
        "id": "CtUtx9RQOsrB"
      },
      "execution_count": null,
      "outputs": []
    },
    {
      "cell_type": "code",
      "source": [
        "'uno' in keys_lst"
      ],
      "metadata": {
        "id": "UaRGgocBPC-J"
      },
      "execution_count": null,
      "outputs": []
    },
    {
      "cell_type": "markdown",
      "metadata": {
        "id": "hvnTV61WxGSb"
      },
      "source": [
        "You can get a list of keys, values, or items (both) from a dictionary.  When we have multiple values together as an object, we refer to that object as a tuple."
      ]
    },
    {
      "cell_type": "code",
      "source": [
        "jjj = { 'chuck' : 1 , 'fred' : 42, 'jan': 100}\n",
        "print(list(jjj))\n",
        "\n",
        "print(list(jjj.keys()))\n",
        "\n",
        "print(list(jjj.values()))\n",
        "\n",
        "print(list(jjj.items()))"
      ],
      "metadata": {
        "id": "pSaNYKSXvvAY"
      },
      "execution_count": null,
      "outputs": []
    },
    {
      "cell_type": "markdown",
      "source": [
        "##Assigning values to keys    "
      ],
      "metadata": {
        "id": "dxItLyDOR_sg"
      }
    },
    {
      "cell_type": "markdown",
      "source": [
        "Just as we can lookup a value in a key:value pair, we can also assign a value to a key:value pairs using the key as an index.    "
      ],
      "metadata": {
        "id": "fsCW9iO9SGul"
      }
    },
    {
      "cell_type": "code",
      "source": [
        "print(eng2sp)"
      ],
      "metadata": {
        "id": "Pp5_2zT-Sm0b"
      },
      "execution_count": null,
      "outputs": []
    },
    {
      "cell_type": "code",
      "source": [
        "eng2sp['four'] = 'cuatro'   # adding a 4th key:value pair"
      ],
      "metadata": {
        "id": "YR7I4wsHSQx6"
      },
      "execution_count": null,
      "outputs": []
    },
    {
      "cell_type": "code",
      "source": [
        "print(eng2sp)"
      ],
      "metadata": {
        "id": "vyhMUrurTE9z"
      },
      "execution_count": null,
      "outputs": []
    },
    {
      "cell_type": "markdown",
      "source": [
        "## Dictionaries as Reference Tools    "
      ],
      "metadata": {
        "id": "PYZIZ1vht1d0"
      }
    },
    {
      "cell_type": "markdown",
      "metadata": {
        "id": "ru_tZlDtqBFM"
      },
      "source": [
        "Lists index their entries based on the position in the list\n",
        "Dictionaries are like bags - no order\n",
        "So we index the things we put in the dictionary with a “lookup tag” called the \"key\".  Each key is unique.  Each key is associated with a value, which can be any data type, including lists, or other dictionaries.  Values in a dictionary need not be unique.\n"
      ]
    },
    {
      "cell_type": "code",
      "source": [
        "# create and print an empty dictionary\n",
        "choco = dict()\n",
        "print(choco)"
      ],
      "metadata": {
        "id": "HmSJNYRy6DNn"
      },
      "execution_count": null,
      "outputs": []
    },
    {
      "cell_type": "code",
      "source": [
        "choco['Hershey'] = 2\n",
        "choco['Godiva'] = 3\n",
        "choco['Kinder'] = 1\n",
        "\n",
        "print(choco)"
      ],
      "metadata": {
        "id": "04p00mrE6T2N"
      },
      "execution_count": null,
      "outputs": []
    },
    {
      "cell_type": "code",
      "source": [
        "# How many Godiva do we have?\n",
        "print(choco['Godiva'])"
      ],
      "metadata": {
        "id": "GBk_hJHT6oi_"
      },
      "execution_count": null,
      "outputs": []
    },
    {
      "cell_type": "code",
      "source": [
        "# give one Godiva choco away\n",
        "choco['Godiva'] = choco['Godiva'] - 1\n",
        "\n",
        "# How many Godiva do we have?\n",
        "print(choco['Godiva'])"
      ],
      "metadata": {
        "id": "osDZk6JC69ct"
      },
      "execution_count": null,
      "outputs": []
    },
    {
      "cell_type": "code",
      "metadata": {
        "id": "q2ZdVpggpzH0"
      },
      "source": [
        "# first create an empty dictionary\n",
        "purse = dict()\n",
        "\n",
        "# then add key:value pairs - akin to SQL INSERTs\n",
        "purse['money'] = 12   # add a k:v pair of 12 moneys (coins)\n",
        "purse['candy'] = 3    # add a k:v pair of 3 candy\n",
        "purse['tissues'] = 75 # add a k:v pair of 75 tissues"
      ],
      "execution_count": null,
      "outputs": []
    },
    {
      "cell_type": "code",
      "source": [
        "# what type is the variable purse we just created?\n",
        "type(purse)"
      ],
      "metadata": {
        "id": "Ru7PwXHH41Ao"
      },
      "execution_count": null,
      "outputs": []
    },
    {
      "cell_type": "markdown",
      "metadata": {
        "id": "8dVvHfYPqwSm"
      },
      "source": [
        "After creating an empty dictionary we can add key|value pairs to that dictionary.  Then we can process the dictionary with Python statements and expressions."
      ]
    },
    {
      "cell_type": "code",
      "metadata": {
        "id": "TjcAj0tkq8_L"
      },
      "source": [
        "print(purse)"
      ],
      "execution_count": null,
      "outputs": []
    },
    {
      "cell_type": "code",
      "source": [
        "# print the value for the key 'candy'\n",
        "print(purse['candy'])"
      ],
      "metadata": {
        "id": "f4aiRPj95Hh6"
      },
      "execution_count": null,
      "outputs": []
    },
    {
      "cell_type": "code",
      "source": [
        "# print the full dictionary\n",
        "print(\"Here are the purse dictionary key|value pairs: \", purse)"
      ],
      "metadata": {
        "id": "TLzOjVUy5yCs"
      },
      "execution_count": null,
      "outputs": []
    },
    {
      "cell_type": "code",
      "source": [
        "# print(purse['candy'])\n",
        "print(\"Here is the value of 'candy' in purse: \", purse['candy'])"
      ],
      "metadata": {
        "id": "m7QMu_nt4-yS"
      },
      "execution_count": null,
      "outputs": []
    },
    {
      "cell_type": "markdown",
      "metadata": {
        "id": "7z2jF2nzsyiH"
      },
      "source": [
        "One common use of dictionaries is counting how often we “see” something.  We use the category item as a key and keep an integer counter as the value."
      ]
    },
    {
      "cell_type": "code",
      "source": [
        "# make a dictionary counting shirts by size\n",
        "shirts = dict()\n",
        "\n",
        "# add k:v pairs with an inventory of shirts on hand\n",
        "shirts['XS'] = 4\n",
        "shirts['S'] = 2\n",
        "shirts['M'] = 8\n",
        "shirts['L'] = 12\n",
        "shirts['XL'] = 6\n",
        "shirts['XXL'] = 3\n",
        "\n",
        "# how many shirts do we have by size?\n",
        "print(shirts)"
      ],
      "metadata": {
        "id": "bhbz4FsD9o_D"
      },
      "execution_count": null,
      "outputs": []
    },
    {
      "cell_type": "code",
      "source": [
        "# Dictionary values can be used in expressions\n",
        "# sell a medium shirt\n",
        "shirts['M'] = shirts['M'] - 1\n",
        "\n",
        "# how many shirts do we have by size?\n",
        "print(shirts)"
      ],
      "metadata": {
        "id": "ToFw7sht-Y7a"
      },
      "execution_count": null,
      "outputs": []
    },
    {
      "cell_type": "markdown",
      "metadata": {
        "id": "5ja1KXxQz4QC"
      },
      "source": [
        "## 10(9).1 Dictionary as a set of counters"
      ]
    },
    {
      "cell_type": "markdown",
      "source": [
        "Suppose you are given a string and you want to count how many times each letter appears. There are several ways you could do it:\n",
        "\n",
        "1. You could create 26 variables, one for each letter of the alphabet. Then you could traverse the string and, for each character, increment the corresponding counter, probably using a chained conditional.\n",
        "\n",
        "2. You could create a list with 26 elements. Then you could convert each character to a number (using the built-in function ord), use the number as an index into the list, and increment the appropriate counter.\n",
        "\n",
        "3. You could create a dictionary with characters as keys and counters as the corresponding values. The first time you see a character, you would add an item to the dictionary. After that you would increment the value of an existing item.\n",
        "\n",
        "\n",
        "Each of these options performs the same computation, but each of them implements that computation in a different way.\n",
        "\n",
        "An implementation is a way of performing a computation; some implementations are better than others. For example, an advantage of the dictionary implementation is that we don’t have to know ahead of time which letters appear in the string and we only have to make room for the letters that do appear.\n",
        "\n",
        "Here is what the code might look like:"
      ],
      "metadata": {
        "id": "DNxzhXKwiSRQ"
      }
    },
    {
      "cell_type": "code",
      "execution_count": null,
      "metadata": {
        "id": "3RdpX9Qaz4QC"
      },
      "outputs": [],
      "source": [
        "# example code to count characters in a string  \n",
        "# USING A FOR LOOP AND EMBEDDED IF/ELSE\n",
        "# word_str   -- a string with a word as its value\n",
        "# histo_dict -- a histogram dictionary of counts of letters\n",
        "# char_str   -- an individual character as a string\n",
        "\n",
        "# store a word in a string variable\n",
        "word_str = 'brontosaurus'\n",
        "# try with a different string assignment later\n",
        "# word_str = 'tyranosaurus'\n",
        "word_str = 'tyranosaurus are not the content of bronto burgers'\n",
        "\n",
        "# initialize an empty histogram dictionary\n",
        "histo_dict = dict()\n",
        "\n",
        "# loop through each character in the word and\n",
        "# add a count of 1 to each letter found\n",
        "for char_str in word_str:\n",
        "    if char_str not in histo_dict:\n",
        "        histo_dict[char_str] = 1\n",
        "    else:\n",
        "        histo_dict[char_str] = histo_dict[char_str] + 1\n",
        "\n",
        "# print the histogram dictionary of counts of letters\n",
        "print(histo_dict)"
      ]
    },
    {
      "cell_type": "code",
      "source": [
        "# lookup the frequency of a letter used in the string\n",
        "print(histo_dict['n'])"
      ],
      "metadata": {
        "id": "7B8elFsyTuMZ"
      },
      "execution_count": null,
      "outputs": []
    },
    {
      "cell_type": "code",
      "source": [
        "# try the code above with a multi-line docstring instead of a string  \n",
        "# place your code here \n"
      ],
      "metadata": {
        "id": "AVB3tIo2TbD8"
      },
      "execution_count": null,
      "outputs": []
    },
    {
      "cell_type": "code",
      "source": [
        "# trying it with 'Big for Your Boots' by Stormzy    \n",
        "\n",
        "# example code to count characters in a string  \n",
        "# USING A FOR LOOP AND EMBEDDED IF/ELSE\n",
        "# word_str   -- a string with a word as its value\n",
        "# histo_dict -- a histogram dictionary of counts of letters\n",
        "# char_str   -- an individual character as a string\n",
        "\n",
        "# store a word in a string variable\n",
        "word_str = \"\"\"\n",
        "You're getting way too big for your boots\n",
        "You're never too big for the boot\n",
        "I've got the big size twelves on my feet\n",
        "Your face ain't big for my boot\n",
        "Kick up the yout\n",
        "Man know that I kick up the yout\n",
        "Dem boy dere tried twist up the truth\n",
        "How dare you twist up the truth, look\n",
        "You're getting way too big for your boots\n",
        "You're never too big for the boot\n",
        "I got the big size twelves on my feet\n",
        "Your face ain't big for my boot\n",
        "Kick up the yout\n",
        "Man know that I kick up the yout\n",
        "Dem boy dere tried twist up the truth\n",
        "How dare you twist up the truth\n",
        "\n",
        "Wanna come round here like a badboy? Do it\n",
        "Bun all the talking, go on then, do it\n",
        "Running through the party, bottle of BACARDÍ\n",
        "Bro's in my ear saying \"Stormz, don't do it\"\n",
        "Devil on my shoulder, I don't lack\n",
        "Hit 'em with a crowbar, I don't scrap\n",
        "Even when I'm sober, I'm so gassed\n",
        "Say you ride but there's no car and no mash (what you talking 'bout?)\n",
        "Clown, stand down\n",
        "Never had a MAC-10 or a trey pound\n",
        "You were never bad then, you ain't bad now\n",
        "Never had the MAC then, little nigga, back down\n",
        "Wait, I saw bare kicks, saw bare clothes\n",
        "Said ffcc that, I can't wear those\n",
        "I don't like them, they're not my ting\n",
        "They went silent, they're all weirdos\n",
        "Like yeah, Stormz gone clear\n",
        "Never had a Tom Ford or a Moncler\n",
        "Mandem are calm, but you see my don there?\n",
        "ffccries, tell 'em don't do it, don't dare\n",
        "Don't care who you know from my block\n",
        "You're not Al Capone, you'll get boxed\n",
        "They can take my car and my creps\n",
        "I'll still do the road in my socks\n",
        "Like who's gonna stop me? You? Him?\n",
        "Weed in a cigarette, blue slims\n",
        "Don't be an idiot, move smart\n",
        "I've been killing it, new king\n",
        "Niggas ain't ready for my new stuff\n",
        "You're a prick by yourself, go and group up\n",
        "And when Krept went States for the BETs\n",
        "I was covering Krept like a bootcut\n",
        "Ith mad, that's a family ting, straight family ting\n",
        "Dem man are broke, no salary ting\n",
        "Had a peng ting called Amy\n",
        "Telling me to come round hers on a Valerie ting\n",
        "#Merky, academy ting\n",
        "Coming like art in a gallery ting\n",
        "Dem boy dere wanna chat about bars\n",
        "Wanna chat about crud but, but, but\n",
        "\n",
        "You're getting way too big for your boots\n",
        "You're never too big for the boot\n",
        "I got the big size twelves on my feet\n",
        "Your face ain't big for my boot\n",
        "Kick up the yout\n",
        "Man know that I kick up the yout\n",
        "Dem boy dere tried twist up the truth\n",
        "How dare you twist up the truth, look\n",
        "\n",
        "I'm too hot\n",
        "Drug money in my shoebox\n",
        "I'm the man of the house and my shows sold out\n",
        "Like the brudda from the Boondocks\n",
        "Beats 1 in my boombox\n",
        "Still steal meat from the stew pot\n",
        "Mandem go sick when my tune drops\n",
        "Little man, that's a Hublot, not a Hublot\n",
        "What? Pronounce it right, you prick\n",
        "I go mad, yeah, I'm down to die for this\n",
        "I don't care, bro, I'm down to pipe your chick\n",
        "Mad stressed so I'm bound to light my spliffs\n",
        "Wait, I'm bound to ride for Flipz\n",
        "Real Gs gonna ride around to this\n",
        "Man, I've got no time to write a diss\n",
        "I never left my 9 to 5 for this\n",
        "Wasteman ting\n",
        "I don't care what rave man's in\n",
        "I came here to relax but if it gets mad\n",
        "Mek a young boy take man's tings\n",
        "Try tell me I'm way too big to rebel?\n",
        "Nah, man, you're never too big to rebel\n",
        "I was in the O2 singing my lungs out\n",
        "Rudeboy, you're never too big for Adele\n",
        "Leave my yard, blow a kiss to my girl\n",
        "Salute to my sister as well\n",
        "Gotta keep trophies down at my mum's bit\n",
        "Man, I'm getting way too big for my shelf\n",
        "Man, I see bare MCs wanna sideline\n",
        "But I still got a couple bangers in the pipeline\n",
        "Man, I've got grown men @ing me bullsstt\n",
        "You're getting way too old for the timeline\n",
        "You're getting way too old for a diss\n",
        "Should've looked after your kids\n",
        "Get out the booth, go home to your son\n",
        "It's never too late to commit\n",
        "It's like man love put my name in a bar\n",
        "Random flight, get a plane to Qatar\n",
        "This year, I learnt how to take care of business\n",
        "Next year, I'll learn how to play the guitar\n",
        "\n",
        "You're getting way too big for your boots\n",
        "You're never too big for the boot\n",
        "I got the big size twelves on my feet\n",
        "Your face ain't big for my boot\n",
        "Kick up the yout\n",
        "Man know that I kick up the yout\n",
        "Dem boy dere tried twist up the truth\n",
        "How dare you twist up the truth, look\n",
        "You're getting way too big for your boots\n",
        "You're never too big for the boot\n",
        "I got the big size twelves on my feet\n",
        "Your face ain't big for my boot\n",
        "Kick up the yout\n",
        "Man know that I kick up the yout\n",
        "Dem boy dere tried twist up the truth\n",
        "How dare you twist up the truth\n",
        "\"\"\"\n",
        "\n",
        "# initialize an empty histogram dictionary\n",
        "histo_dict = dict()\n",
        "\n",
        "# loop through each character in the word and\n",
        "# add a count of 1 to each letter found\n",
        "for char_str in word_str:\n",
        "    if char_str not in histo_dict:\n",
        "        histo_dict[char_str] = 1\n",
        "    else:\n",
        "        histo_dict[char_str] = histo_dict[char_str] + 1\n",
        "\n",
        "# print the histogram dictionary of counts of letters\n",
        "print(histo_dict)"
      ],
      "metadata": {
        "id": "ZLwAcqnUUl22"
      },
      "execution_count": null,
      "outputs": []
    },
    {
      "cell_type": "markdown",
      "source": [
        "We are effectively computing a histogram, which is a statistical term for a set of counters (or frequencies).\n",
        "\n",
        "The for loop traverses the string. Each time through the loop, if the character `char_str` is not in the dictionary, we create a new item with key of `char_str` and the initial value `1` (since we have seen this letter once). If `char_str` is already in the dictionary we increment `histo_dict[char_str]`.  The histogram indicates that the letters “a” and “b” appear once; “o” appears twice, and so on."
      ],
      "metadata": {
        "id": "6vsIYm3KijIq"
      }
    },
    {
      "cell_type": "markdown",
      "source": [
        "Dictionaries have a method called `get` that takes a `key` and a default value. If the `key` appears in the dictionary, then `get` returns the corresponding value; otherwise it returns the default value.     \n",
        "\n",
        "For example:    "
      ],
      "metadata": {
        "id": "3_jgpyjMirQ7"
      }
    },
    {
      "cell_type": "code",
      "execution_count": null,
      "metadata": {
        "id": "Gqqc-ofUz4QC"
      },
      "outputs": [],
      "source": [
        "# get method that takes a key and a default value. If the key appears in the dictionary, get returns the corresponding value; otherwise it returns the default value\n",
        "counts_dict = { 'chuck' : 1 , 'annie' : 42, 'jan': 100}\n",
        "print(counts_dict.get('jan', 0))"
      ]
    },
    {
      "cell_type": "markdown",
      "source": [
        "What if the `get` methods does not find the `key` given as an argument?   "
      ],
      "metadata": {
        "id": "PVC_I7xZiyBs"
      }
    },
    {
      "cell_type": "code",
      "source": [
        "print(counts_dict['tim'])"
      ],
      "metadata": {
        "id": "wVtUZ2zaqFEs"
      },
      "execution_count": null,
      "outputs": []
    },
    {
      "cell_type": "code",
      "execution_count": null,
      "metadata": {
        "id": "bMaE55bhz4QD"
      },
      "outputs": [],
      "source": [
        "print(counts_dict.get('tim', 0))"
      ]
    },
    {
      "cell_type": "markdown",
      "metadata": {
        "id": "JO-RKyeatYta"
      },
      "source": [
        "The pattern of checking to see if a key is already in a dictionary and assuming a default value if the key is not there is so common that there is a method called `get()` that does this for us.  Let's setup a dictionary first, then check for a key with get.\n"
      ]
    },
    {
      "cell_type": "code",
      "source": [
        "# create an empty dictionary to use in counting a categorical\n",
        "inventory = dict()\n",
        "\n",
        "# create a list of categorical string values to process\n",
        "shirt_list = ['XS', 'S', 'XXL', 'M', 'M', 'XS', 'M', 'L', 'S', 'XL', 'XL', 'L', 'M', 'M', 'XXL']\n",
        "\n",
        "# iterate through the list and add new keys with a value of 1 or\n",
        "# increase the value of an existing key by 1\n",
        "for shirt in shirt_list :\n",
        "    if shirt not in inventory : \n",
        "        inventory[shirt] = 1\n",
        "    else :\n",
        "        inventory[shirt] = inventory[shirt] + 1\n",
        "\n",
        "print(inventory)"
      ],
      "metadata": {
        "id": "X59C1cAVA48D"
      },
      "execution_count": null,
      "outputs": []
    },
    {
      "cell_type": "markdown",
      "source": [
        "We can use `get` to write our histogram loop more concisely. Because the `get` method automatically handles the case where a `key` is not in a dictionary, we can reduce four lines down to one and eliminate the if statement."
      ],
      "metadata": {
        "id": "bYQbK2FxjJV5"
      }
    },
    {
      "cell_type": "code",
      "execution_count": null,
      "metadata": {
        "id": "g5j7C4wBz4QD"
      },
      "outputs": [],
      "source": [
        "# example code to count characters in a string \n",
        "# USING THE .GET METHOD  \n",
        "# word_str   -- a string with a word as its value\n",
        "# histo_dict -- a histogram dictionary of counts of letters\n",
        "# char_str   -- an individual character as a string\n",
        "\n",
        "# store a word in a string variable\n",
        "word_str = 'brontosaurus'\n",
        "\n",
        "# initialize an empty histogram dictionary\n",
        "histo_dict = dict()\n",
        "# or, initialize a dictionary with some k-v pairs\n",
        "# histo_dict = {'x' : 1, 'y' : 1,'z' : 1, 'b' : 90, 'u' : 80}\n",
        "\n",
        "# use a for loop\n",
        "for char_str in word_str:\n",
        "    histo_dict[char_str] = histo_dict.get(char_str, 0) + 1\n",
        "# try using a different value for the second argument to .get() \n",
        "#    histo_dict[char_str] = histo_dict.get(char_str, 100) + 1\n",
        "# the following attempt would return a key error on 'b'\n",
        "#    histo_dict[char_str] = histo_dict[char_str] + 1\n",
        "\n",
        "# print the histogram dictionary of counts of letters\n",
        "print(histo_dict)"
      ]
    },
    {
      "cell_type": "markdown",
      "source": [
        "The use of the `get` method to simplify this counting loop ends up being a very commonly used *idiom* in Python and we will use it many times in the rest of the class. So you should take a moment and compare the loop using the `if` statement and `in` operator with the loop using the `get` method. They do exactly the same thing, but one is more succinct."
      ],
      "metadata": {
        "id": "-pjOagu3jOvz"
      }
    },
    {
      "cell_type": "markdown",
      "source": [
        "Taking it to the next level, we can count words instead of characters.  To do a good job of counting words we will want to eliminate the confusion caused by differences in upper and lower case, and we will want to remove the noise created by punctuation and `\\n` characters.     "
      ],
      "metadata": {
        "id": "ODZccB5-dnEC"
      }
    },
    {
      "cell_type": "markdown",
      "source": [
        "Let's import the `string` module to access its string of punctuation characters, `string.punctuation`.    "
      ],
      "metadata": {
        "id": "zlLheLy8d8qy"
      }
    },
    {
      "cell_type": "code",
      "source": [
        "# import string library to access a list of punctuation\n",
        "import string\n",
        "print('Using the following list of punctuation ', string.punctuation, '\\n')"
      ],
      "metadata": {
        "id": "_B1MCQOfeGPc"
      },
      "execution_count": null,
      "outputs": []
    },
    {
      "cell_type": "code",
      "source": [
        "# how we can count words in a string, instead of characters:    \n",
        "\n",
        "# example code to count words in a string \n",
        "# USING THE .GET METHOD  \n",
        "# text_str   -- a string with words \n",
        "# word_lst   -- a list of words from text_str\n",
        "# word_str   -- an individual word as a string\n",
        "# histo_dict -- a histogram dictionary of counts of letters\n",
        "\n",
        "# import string library to access a list of punctuation\n",
        "import string\n",
        "print('Using the following list of punctuation ', string.punctuation, '\\n')\n",
        "\n",
        "# store text in a string variable\n",
        "text_str = \"\"\"\n",
        "Brontosaurus are not good burgers.\n",
        "Perhaps I will just have the fries.\n",
        "Are they as good as you say they are?\n",
        "\"\"\"\n",
        "\n",
        "# clean up (wrangle) text_str to: \n",
        "# transform to lower case    \n",
        "# remove \\n and punctuation\n",
        "# text_str.lower().replace(\"\\n\", \" \").split(\" \")\n",
        "\n",
        "# create a list of words in the text string\n",
        "word_lst = text_str.lower().replace(\"\\n\", \" \").split(\" \") \n",
        "\n",
        "# initialize an empty histogram dictionary\n",
        "histo_dict = dict()\n",
        "\n",
        "# use a for loop\n",
        "for word_str in word_lst:\n",
        "    # word_str = word_str.replace('.', '')\n",
        "    for character in string.punctuation:\n",
        "        word_str = word_str.replace(character, '')\n",
        "    histo_dict[word_str] = histo_dict.get(word_str, 0) + 1\n",
        "\n",
        "# print the histogram dictionary of counts of words\n",
        "print(histo_dict)"
      ],
      "metadata": {
        "id": "NcITFCMzYnIj"
      },
      "execution_count": null,
      "outputs": []
    },
    {
      "cell_type": "markdown",
      "source": [
        "Now, try counting the words in the Stormy song Too Big for Your Boots.    "
      ],
      "metadata": {
        "id": "91T4hk6Mel_K"
      }
    },
    {
      "cell_type": "code",
      "source": [
        "# how we can count words in a string, instead of characters:    \n",
        "\n",
        "# example code to count words in a string \n",
        "# USING THE .GET METHOD  \n",
        "# text_str   -- a string with words \n",
        "# word_lst   -- a list of words from text_str\n",
        "# word_str   -- an individual word as a string\n",
        "# histo_dict -- a histogram dictionary of counts of letters\n",
        "\n",
        "# import string library to access a list of punctuation\n",
        "import string\n",
        "print('Using the following list of punctuation ', string.punctuation, '\\n')\n",
        "\n",
        "# store text in a string variable\n",
        "text_str = \"\"\"\n",
        "You're getting way too big for your boots\n",
        "You're never too big for the boot\n",
        "I've got the big size twelves on my feet\n",
        "Your face ain't big for my boot\n",
        "Kick up the yout\n",
        "Man know that I kick up the yout\n",
        "Dem boy dere tried twist up the truth\n",
        "How dare you twist up the truth, look\n",
        "You're getting way too big for your boots\n",
        "You're never too big for the boot\n",
        "I got the big size twelves on my feet\n",
        "Your face ain't big for my boot\n",
        "Kick up the yout\n",
        "Man know that I kick up the yout\n",
        "Dem boy dere tried twist up the truth\n",
        "How dare you twist up the truth\n",
        "\n",
        "Wanna come round here like a badboy? Do it\n",
        "Bun all the talking, go on then, do it\n",
        "Running through the party, bottle of BACARDÍ\n",
        "Bro's in my ear saying \"Stormz, don't do it\"\n",
        "Devil on my shoulder, I don't lack\n",
        "Hit 'em with a crowbar, I don't scrap\n",
        "Even when I'm sober, I'm so gassed\n",
        "Say you ride but there's no car and no mash (what you talking 'bout?)\n",
        "Clown, stand down\n",
        "Never had a MAC-10 or a trey pound\n",
        "You were never bad then, you ain't bad now\n",
        "Never had the MAC then, little nigga, back down\n",
        "Wait, I saw bare kicks, saw bare clothes\n",
        "Said ffcc that, I can't wear those\n",
        "I don't like them, they're not my ting\n",
        "They went silent, they're all weirdos\n",
        "Like yeah, Stormz gone clear\n",
        "Never had a Tom Ford or a Moncler\n",
        "Mandem are calm, but you see my don there?\n",
        "ffccries, tell 'em don't do it, don't dare\n",
        "Don't care who you know from my block\n",
        "You're not Al Capone, you'll get boxed\n",
        "They can take my car and my creps\n",
        "I'll still do the road in my socks\n",
        "Like who's gonna stop me? You? Him?\n",
        "Weed in a cigarette, blue slims\n",
        "Don't be an idiot, move smart\n",
        "I've been killing it, new king\n",
        "Niggas ain't ready for my new stuff\n",
        "You're a prick by yourself, go and group up\n",
        "And when Krept went States for the BETs\n",
        "I was covering Krept like a bootcut\n",
        "Ith mad, that's a family ting, straight family ting\n",
        "Dem man are broke, no salary ting\n",
        "Had a peng ting called Amy\n",
        "Telling me to come round hers on a Valerie ting\n",
        "#Merky, academy ting\n",
        "Coming like art in a gallery ting\n",
        "Dem boy dere wanna chat about bars\n",
        "Wanna chat about crud but, but, but\n",
        "\n",
        "You're getting way too big for your boots\n",
        "You're never too big for the boot\n",
        "I got the big size twelves on my feet\n",
        "Your face ain't big for my boot\n",
        "Kick up the yout\n",
        "Man know that I kick up the yout\n",
        "Dem boy dere tried twist up the truth\n",
        "How dare you twist up the truth, look\n",
        "\n",
        "I'm too hot\n",
        "Drug money in my shoebox\n",
        "I'm the man of the house and my shows sold out\n",
        "Like the brudda from the Boondocks\n",
        "Beats 1 in my boombox\n",
        "Still steal meat from the stew pot\n",
        "Mandem go sick when my tune drops\n",
        "Little man, that's a Hublot, not a Hublot\n",
        "What? Pronounce it right, you prick\n",
        "I go mad, yeah, I'm down to die for this\n",
        "I don't care, bro, I'm down to pipe your chick\n",
        "Mad stressed so I'm bound to light my spliffs\n",
        "Wait, I'm bound to ride for Flipz\n",
        "Real Gs gonna ride around to this\n",
        "Man, I've got no time to write a diss\n",
        "I never left my 9 to 5 for this\n",
        "Wasteman ting\n",
        "I don't care what rave man's in\n",
        "I came here to relax but if it gets mad\n",
        "Mek a young boy take man's tings\n",
        "Try tell me I'm way too big to rebel?\n",
        "Nah, man, you're never too big to rebel\n",
        "I was in the O2 singing my lungs out\n",
        "Rudeboy, you're never too big for Adele\n",
        "Leave my yard, blow a kiss to my girl\n",
        "Salute to my sister as well\n",
        "Gotta keep trophies down at my mum's bit\n",
        "Man, I'm getting way too big for my shelf\n",
        "Man, I see bare MCs wanna sideline\n",
        "But I still got a couple bangers in the pipeline\n",
        "Man, I've got grown men @ing me bullsstt\n",
        "You're getting way too old for the timeline\n",
        "You're getting way too old for a diss\n",
        "Should've looked after your kids\n",
        "Get out the booth, go home to your son\n",
        "It's never too late to commit\n",
        "It's like man love put my name in a bar\n",
        "Random flight, get a plane to Qatar\n",
        "This year, I learnt how to take care of business\n",
        "Next year, I'll learn how to play the guitar\n",
        "\n",
        "You're getting way too big for your boots\n",
        "You're never too big for the boot\n",
        "I got the big size twelves on my feet\n",
        "Your face ain't big for my boot\n",
        "Kick up the yout\n",
        "Man know that I kick up the yout\n",
        "Dem boy dere tried twist up the truth\n",
        "How dare you twist up the truth, look\n",
        "You're getting way too big for your boots\n",
        "You're never too big for the boot\n",
        "I got the big size twelves on my feet\n",
        "Your face ain't big for my boot\n",
        "Kick up the yout\n",
        "Man know that I kick up the yout\n",
        "Dem boy dere tried twist up the truth\n",
        "How dare you twist up the truth\n",
        "\"\"\"\n",
        "\n",
        "# clean up (wrangle) text_str to: \n",
        "# transform to lower case    \n",
        "# remove \\n and punctuation\n",
        "# text_str.lower().replace(\"\\n\", \" \").split(\" \")\n",
        "\n",
        "# create a list of words in the text string\n",
        "word_lst = text_str.lower().replace(\"\\n\", \" \").split(\" \") \n",
        "\n",
        "# initialize an empty histogram dictionary\n",
        "histo_dict = dict()\n",
        "\n",
        "# use a for loop\n",
        "for word_str in word_lst:\n",
        "    # word_str = word_str.replace('.', '')\n",
        "    for character in string.punctuation:\n",
        "        word_str = word_str.replace(character, '')\n",
        "    histo_dict[word_str] = histo_dict.get(word_str, 0) + 1\n",
        "\n",
        "# print the histogram dictionary of counts of words\n",
        "print(histo_dict)"
      ],
      "metadata": {
        "id": "iGvU--cketeB"
      },
      "execution_count": null,
      "outputs": []
    },
    {
      "cell_type": "markdown",
      "metadata": {
        "id": "t45WPLt_z4QD"
      },
      "source": [
        "## 10(9).2 Dictionaries and files      \n",
        "\n",
        "For a copy of the Py4E.com file **romeo.txt** on Google Drive:    \n",
        " `https://bit.ly/romeo-short`\n",
        "\n",
        "For a copy of the Py4E.com file **romeo-full.txt** on Google Drive:    \n",
        " `https://bit.ly/romeo-full`"
      ]
    },
    {
      "cell_type": "markdown",
      "source": [
        "One of the common uses of a dictionary is to count the occurrence of words in a file with some written text.     \n",
        "\n",
        "Let’s start with a very simple file of words taken from the text of **Romeo and Juliet**.\n",
        "\n",
        "For the first set of examples, we will use a shortened and simplified version of the text with no punctuation. Later we will work with the text of the scene with punctuation included."
      ],
      "metadata": {
        "id": "Pt2FTde4jXbB"
      }
    },
    {
      "cell_type": "markdown",
      "source": [
        "~~~\n",
        "But soft what light through yonder window breaks\n",
        "It is the east and Juliet is the sun\n",
        "Arise fair sun and kill the envious moon\n",
        "Who is already sick and pale with grief\n",
        "~~~"
      ],
      "metadata": {
        "id": "v9Dr0RTKjYOm"
      }
    },
    {
      "cell_type": "markdown",
      "source": [
        "We will write a Python program to read through the lines of the file, break each line into a list of words, and then loop through each of the words in the line and count each word using a dictionary.\n",
        "\n",
        "You will see that we have two `for` loops. The outer loop is reading the lines of the file and the inner loop is iterating through each of the words on that particular line. This is an example of a pattern called nested loops because one of the loops is the outer loop and the other loop is the inner loop.\n",
        "\n",
        "Because the inner loop executes all of its iterations each time the outer loop makes a single iteration, we think of the inner loop as iterating “more quickly” and the outer loop as iterating more slowly.\n",
        "\n",
        "The combination of the two nested loops ensures that we will count every word on every line of the input file."
      ],
      "metadata": {
        "id": "eQmmaID1jbsj"
      }
    },
    {
      "cell_type": "markdown",
      "source": [
        "**Upload the Py4E exercise file \"words.txt\" to your Colab content area then enter the file name \"words.txt\" when prompted by the following code.  You may download the file here [words.txt](https://bit.ly/py4e-words), then upload it to your current working directory.**   \n",
        "\n",
        "\n",
        "**Or, download [romeo.txt](https://bit.ly/romeo-short), upload it to your current working directory, and enter the file name \"romeo.txt\" when prompted by the following code.**  "
      ],
      "metadata": {
        "id": "UGRlEVU1jjco"
      }
    },
    {
      "cell_type": "code",
      "execution_count": null,
      "metadata": {
        "id": "vHQxBNkzz4QD"
      },
      "outputs": [],
      "source": [
        "fname = input('Enter the file name: ')\n",
        "try:\n",
        "    fhand = open(fname)\n",
        "except:\n",
        "    print('File cannot be opened:', fname)\n",
        "    exit()\n",
        "\n",
        "counts = dict()\n",
        "for line in fhand:\n",
        "    words = line.split()\n",
        "    for word in words:\n",
        "        if word not in counts:\n",
        "            counts[word] = 1\n",
        "        else:\n",
        "            counts[word] += 1\n",
        "\n",
        "print(counts)\n",
        "\n",
        "# Code: http://www.py4e.com/code3/count1.py"
      ]
    },
    {
      "cell_type": "markdown",
      "source": [
        "The following is a slightly more elegant version of that last script.    \n",
        "Can you see what is different?    \n"
      ],
      "metadata": {
        "id": "J0KgPptYj3qv"
      }
    },
    {
      "cell_type": "code",
      "source": [
        "fname = input('Enter the file name: ')\n",
        "try:\n",
        "    fhand = open(fname)\n",
        "except:\n",
        "    print('File cannot be opened:', fname)\n",
        "    exit()\n",
        "\n",
        "counts = dict()\n",
        "for line in fhand:\n",
        "    words = line.lower().split()\n",
        "    for word in words:\n",
        "        counts[word] = counts.get(word, 0) + 1\n",
        "#        if word not in counts:\n",
        "#            counts[word] = 1\n",
        "#        else:\n",
        "#            counts[word] += 1\n",
        "\n",
        "print(counts)"
      ],
      "metadata": {
        "id": "UJq7ygxBkA16"
      },
      "execution_count": null,
      "outputs": []
    },
    {
      "cell_type": "markdown",
      "source": [
        "In our else statement, we use the more compact alternative for incrementing a variable.     \n",
        "\n",
        "`counts[word] += 1` *is equivalent to*         \n",
        "`counts[word] = counts[word] + 1`.      \n",
        "\n",
        "Either method can be used to change the value of a variable by any desired amount. Similar alternatives exist for `-=`, `*=`, and `/=`.\n",
        "\n",
        "When we run the program, we see a raw dump of all of the counts in unsorted hash order. (the **romeo.txt** file is available at **www.py4e.com/code3/romeo.txt** or using the link **[romeo.txt](https://bit.ly/romeo-short)**)"
      ],
      "metadata": {
        "id": "n8rw2BwZkH2W"
      }
    },
    {
      "cell_type": "markdown",
      "source": [
        "**Upload the Py4E exercise file \"romeo-full.txt\" to your Colab content area then enter the file name \"romeo-full.txt\" when prompted by rerunning the code above.**     \n",
        "\n",
        "**You can find the file here: [romeo-full.txt](https://bit.ly/romeo-full)**"
      ],
      "metadata": {
        "id": "9HSWKAn6kIwT"
      }
    },
    {
      "cell_type": "markdown",
      "source": [
        "It is a bit inconvenient to look through the dictionary to find the most common words and their counts, so we need to add some more Python code to get us the output that will be more helpful."
      ],
      "metadata": {
        "id": "fuXqUBeVkM7o"
      }
    },
    {
      "cell_type": "markdown",
      "metadata": {
        "id": "mWW3-Tp_z4QD"
      },
      "source": [
        "## 10(9).3 Looping and dictionaries"
      ]
    },
    {
      "cell_type": "markdown",
      "source": [
        "If you use a dictionary as the sequence in a for statement, it traverses the keys of the dictionary. This loop prints each key and the corresponding value:"
      ],
      "metadata": {
        "id": "1NJJsytBkWgo"
      }
    },
    {
      "cell_type": "code",
      "execution_count": null,
      "metadata": {
        "id": "9RAngYeNz4QD"
      },
      "outputs": [],
      "source": [
        "counts = { 'chuck' : 1 , 'annie' : 42, 'jan': 100}\n",
        "for key in counts:\n",
        "    print(key, counts[key])"
      ]
    },
    {
      "cell_type": "markdown",
      "source": [
        "Again, the keys are in the order in which `key-value pairs` were entered into the dictionary.\n",
        "\n",
        "We can use this pattern to implement the various loop idioms that we have described earlier. For example if we wanted to find all the entries in a dictionary with a value above ten, we could write the following code:"
      ],
      "metadata": {
        "id": "w-Eyei1gkZil"
      }
    },
    {
      "cell_type": "code",
      "source": [
        "# to find all the entries in a dictionary with a value above ten\n",
        "counts_dict = { 'chuck' : 1 , 'annie' : 42, 'jan': 100}\n",
        "for key in counts_dict:\n",
        "    if counts_dict[key] > 10 :\n",
        "        print(key, counts_dict[key])"
      ],
      "metadata": {
        "id": "uG8p75drkkRI"
      },
      "execution_count": null,
      "outputs": []
    },
    {
      "cell_type": "code",
      "source": [
        "# The same logic applied to the counts dict from word counting \n",
        "for key in counts:\n",
        "    if counts[key] > 20 :\n",
        "        print(key, counts[key])"
      ],
      "metadata": {
        "id": "3Lj3k9awkvXv"
      },
      "execution_count": null,
      "outputs": []
    },
    {
      "cell_type": "markdown",
      "source": [
        "The for loop iterates through the keys of the dictionary, so we must use the index operator to retrieve the corresponding value for each key. We see only the entries with a value above 10."
      ],
      "metadata": {
        "id": "vfQL20ddkxz-"
      }
    },
    {
      "cell_type": "markdown",
      "source": [
        "If you want to print the keys in alphabetical order, you first make a list of the keys in the dictionary using the keys method available in dictionary objects, and then sort that list and loop through the sorted list, looking up each key and printing out key-value pairs in sorted order as follows:"
      ],
      "metadata": {
        "id": "DPASRq0jk1CQ"
      }
    },
    {
      "cell_type": "code",
      "execution_count": null,
      "metadata": {
        "id": "fyrmXBdLz4QE"
      },
      "outputs": [],
      "source": [
        "counts_dict = { 'chuck' : 1 , 'annie' : 42, 'jan': 100}\n",
        "key_lst = list(counts_dict.keys())\n",
        "print(key_lst)\n",
        "key_lst.sort()\n",
        "for key in key_lst:\n",
        "    print(key, counts_dict[key])"
      ]
    },
    {
      "cell_type": "code",
      "source": [
        "# using the word count dictionary from earlier\n",
        "key_lst = list(counts.keys())\n",
        "# print(key_lst)\n",
        "key_lst.sort()\n",
        "for key in key_lst:\n",
        "    if counts[key] > 2 :\n",
        "        print(key, counts[key])"
      ],
      "metadata": {
        "id": "qi7CxuQVk9ze"
      },
      "execution_count": null,
      "outputs": []
    },
    {
      "cell_type": "markdown",
      "source": [
        "First you see the list of `keys` in unsorted order that we get from the `.keys()` method. Then we see the `key-value pairs` in order from the for loop."
      ],
      "metadata": {
        "id": "1FOll0z4k-vk"
      }
    },
    {
      "cell_type": "markdown",
      "metadata": {
        "id": "-U6J7twgz4QE"
      },
      "source": [
        "## 10(9).4 Advanced text parsing"
      ]
    },
    {
      "cell_type": "markdown",
      "source": [
        "In the above example using the file **romeo.txt**, we made the file as simple as possible by removing all punctuation by hand. The actual text has lots of punctuation, as shown below."
      ],
      "metadata": {
        "id": "O7vj9L1vlODg"
      }
    },
    {
      "cell_type": "markdown",
      "source": [
        "```\n",
        "But, soft! what light through yonder window breaks?\n",
        "\n",
        "It is the east, and Juliet is the sun.\n",
        "\n",
        "Arise, fair sun, and kill the envious moon,\n",
        "\n",
        "Who is already sick and pale with grief,\n",
        "```"
      ],
      "metadata": {
        "id": "oBcW96VclTcG"
      }
    },
    {
      "cell_type": "markdown",
      "source": [
        "Since the Python `.split()` function looks for spaces and treats words as tokens separated by spaces, we would treat the words “soft!” and “soft” as different words and create a separate dictionary entry for each word.\n",
        "\n",
        "Also since the file has capitalization, we would treat “who” and “Who” as different words with different counts.\n",
        "\n",
        "We can solve both these problems by using the string methods `.lower()`, `.punctuation()`, and `.translate()`. The `.translate()` is the most subtle of the methods. "
      ],
      "metadata": {
        "id": "F3aVjoHPlj2w"
      }
    },
    {
      "cell_type": "code",
      "source": [
        "# line.translate(str.maketrans(from_str, to_str, delete_str))"
      ],
      "metadata": {
        "id": "FWo1E7_Vlo9p"
      },
      "execution_count": null,
      "outputs": []
    },
    {
      "cell_type": "markdown",
      "source": [
        "Replace the characters in `from_str` with the character in the same position in `to_str` and delete all characters that are in `delete_str`. The `from_str` and `to_str` can be empty strings and the `delete_str` parameter can be omitted.\n",
        "\n",
        "We will not specify the `to_str` but we will use the `delete_str` parameter to delete all of the punctuation. We will even let Python tell us the list of characters that it considers “punctuation”:"
      ],
      "metadata": {
        "id": "We_9ZJaMlsX2"
      }
    },
    {
      "cell_type": "code",
      "execution_count": null,
      "metadata": {
        "id": "12sNFCJFz4QE"
      },
      "outputs": [],
      "source": [
        "import string\n",
        "string.punctuation"
      ]
    },
    {
      "cell_type": "markdown",
      "source": [
        "The parameters used by translate were different in Python 2.0.\n",
        "\n",
        "We make the following modifications to our program:"
      ],
      "metadata": {
        "id": "pNBsPNpNlwXd"
      }
    },
    {
      "cell_type": "code",
      "execution_count": null,
      "metadata": {
        "id": "iM7r5kRFz4QE"
      },
      "outputs": [],
      "source": [
        "import string\n",
        "\n",
        "fname = input('Enter the file name: ')\n",
        "try:\n",
        "    fhand = open(fname)\n",
        "except:\n",
        "    print('File cannot be opened:', fname)\n",
        "    exit()\n",
        "\n",
        "counts = dict()\n",
        "for line in fhand:\n",
        "    line = line.rstrip()\n",
        "    line = line.translate(line.maketrans('', '', string.punctuation))\n",
        "    line = line.lower()\n",
        "    words = line.split()\n",
        "    for word in words:\n",
        "        if word not in counts:\n",
        "            counts[word] = 1\n",
        "        else:\n",
        "            counts[word] += 1\n",
        "\n",
        "print(counts)\n",
        "\n",
        "# Code: http://www.py4e.com/code3/count2.py"
      ]
    },
    {
      "cell_type": "markdown",
      "source": [
        "Part of learning the “Art of Python” or “Thinking Pythonically” is realizing that Python often has built-in capabilities for many common data analysis problems. Over time, you will see enough example code and read enough of the documentation to know where to look to see if someone has already written something that makes your job much easier."
      ],
      "metadata": {
        "id": "9BgRhlchl491"
      }
    },
    {
      "cell_type": "markdown",
      "metadata": {
        "id": "V3GrKjAUh4co"
      },
      "source": [
        "## Accessing the Files from Github    \n",
        "    \n",
        "    o words.txt   \n",
        "    o romeo.txt       \n",
        " \n",
        "Original files are from Dr. Charles Severance's Python for Everybody (py4e.com)    \n"
      ]
    },
    {
      "cell_type": "code",
      "metadata": {
        "id": "0O0HiewLxiKU"
      },
      "source": [
        "# let's import pandas as pd so that we have it available\n",
        "import pandas as pd"
      ],
      "execution_count": null,
      "outputs": []
    },
    {
      "cell_type": "markdown",
      "metadata": {
        "id": "f7iJcKksYkVb"
      },
      "source": [
        "Let's read the \"words.txt\" file from the Github repo using pandas read_fwf()"
      ]
    },
    {
      "cell_type": "code",
      "metadata": {
        "id": "fIaaQ_nvwcBr"
      },
      "source": [
        "py4e_words = pd.read_fwf(\"https://github.com/ProfessorPatrickSlatraigh/CST2312/blob/f3c537a0a3353ab0919d2861c89a1dfd755aea4e/words.txt\")"
      ],
      "execution_count": null,
      "outputs": []
    },
    {
      "cell_type": "code",
      "metadata": {
        "id": "5TXBcSHxhpZk"
      },
      "source": [
        "print(py4e_words)"
      ],
      "execution_count": null,
      "outputs": []
    },
    {
      "cell_type": "markdown",
      "metadata": {
        "id": "O3PFOiw4XpH0"
      },
      "source": [
        "Let's read the \"romeo.txt\" file from the Github repo using pandas read_fwf()"
      ]
    },
    {
      "cell_type": "code",
      "metadata": {
        "id": "r9_xJqvkhdXz"
      },
      "source": [
        "py4e_romeo = pd.read_fwf(\"https://github.com/ProfessorPatrickSlatraigh/CST2312/blob/d09aa970683d6ba60abfbb2c3ab83d5eaec5c050/romeo.txt\")"
      ],
      "execution_count": null,
      "outputs": []
    },
    {
      "cell_type": "code",
      "metadata": {
        "id": "XbhDCMQPhw6w"
      },
      "source": [
        "print(py4e_romeo)"
      ],
      "execution_count": null,
      "outputs": []
    },
    {
      "cell_type": "markdown",
      "metadata": {
        "id": "rz8i7wox0qqE"
      },
      "source": [
        "\n",
        "\n",
        "---\n",
        "\n"
      ]
    },
    {
      "cell_type": "markdown",
      "metadata": {
        "id": "ya0hHNH00vJs"
      },
      "source": [
        "# **11: Tuples**    \n",
        "\n",
        "**Examples** from: \n",
        "# Lesson 11 (Tuples)    \n",
        "*was old lesson 10*    \n",
        "of Python For Everybody (p4e.com/lessons)"
      ]
    },
    {
      "cell_type": "markdown",
      "metadata": {
        "id": "suPAtThG04Al"
      },
      "source": [
        "Tuples are like lists. Tuples are another kind of sequence that functions much like a list - they have elements which are indexed starting at 0.\n"
      ]
    },
    {
      "cell_type": "code",
      "metadata": {
        "id": "jEGLQS7n1lRv"
      },
      "source": [
        "# Create a list and print an element of the list\n",
        "x = ('Glenn', 'Sally', 'Joseph')\n",
        "print(x[2])\n",
        "\n",
        "# Create a tuple\n",
        "y = ( 1, 9, 2 )\n",
        "#Print the tuple\n",
        "print(y)\n",
        "# Print the max of the tuple\n",
        "print(max(y))"
      ],
      "execution_count": null,
      "outputs": []
    },
    {
      "cell_type": "markdown",
      "metadata": {
        "id": "LwszTDkb2OaD"
      },
      "source": [
        "Tuples and Assignment: We can also put a tuple on the left-hand side of an assignment statement.  We can even omit the parentheses."
      ]
    },
    {
      "cell_type": "code",
      "metadata": {
        "id": "x-dCsae32Qor"
      },
      "source": [
        "(x, y) = (4, 'fred')\n",
        "print(y)\n",
        "\n",
        "(a, b) = (99, 98)\n",
        "print(a)"
      ],
      "execution_count": null,
      "outputs": []
    },
    {
      "cell_type": "markdown",
      "metadata": {
        "id": "li2O4MV72rR7"
      },
      "source": [
        "Tuples and Dictionaries: The items() method in dictionaries returns a list of (key, value) tuples."
      ]
    },
    {
      "cell_type": "code",
      "metadata": {
        "id": "P_hHdzz-2sv5"
      },
      "source": [
        "d = dict()\n",
        "d['csev'] = 2\n",
        "d['cwen'] = 4\n",
        "for (k,v) in d.items(): \n",
        "    print(k, v)\n",
        "\n",
        "tups = d.items()\n",
        "print(tups)"
      ],
      "execution_count": null,
      "outputs": []
    },
    {
      "cell_type": "markdown",
      "metadata": {
        "id": "_mkK6tZLLxFy"
      },
      "source": [
        "Tuples are Comparable: The comparison operators work with tuples and other sequences. If the first item is equal, Python goes on to the next element,  and so on, until it finds elements that differ.\n",
        "\n"
      ]
    },
    {
      "cell_type": "code",
      "metadata": {
        "id": "tKO_yDbOLyNa"
      },
      "source": [
        "print(\"Result #1: \", (0, 1, 2) < (5, 1, 2))\n",
        "print(\"Result #2: \", (0, 1, 2000000) < (0, 3, 4))\n",
        "print(\"Result #3: \", ( 'Jones', 'Sally' ) < ('Jones', 'Sam'))\n",
        "print(\"Result #4: \", ( 'Jones', 'Sally') > ('Adams', 'Sam'))"
      ],
      "execution_count": null,
      "outputs": []
    },
    {
      "cell_type": "markdown",
      "metadata": {
        "id": "rtNt7PwqL7Yd"
      },
      "source": [
        "Sorting Lists of Tuples: \n",
        "We can take advantage of the ability to sort a list of tuples to get a sorted version of a dictionary.  \n",
        "First we sort the dictionary by the key using the items() method and sorted() function.  \n",
        "\n"
      ]
    },
    {
      "cell_type": "code",
      "metadata": {
        "id": "9t6UOxitMPng"
      },
      "source": [
        "d = {'a':10, 'b':1, 'c':22}\n",
        "d.items()\n",
        "\n",
        "sorted(d.items())"
      ],
      "execution_count": null,
      "outputs": []
    },
    {
      "cell_type": "markdown",
      "metadata": {
        "id": "cflmRtqtM-6_"
      },
      "source": [
        "Using sorted(): \n",
        "We can do this even more directly using the built-in function sorted that takes a sequence as a parameter and returns a sorted sequence.\n",
        "\n"
      ]
    },
    {
      "cell_type": "code",
      "metadata": {
        "id": "ZALdKhEuNAU4"
      },
      "source": [
        "d = {'a':10, 'b':1, 'c':22}\n",
        "t = sorted(d.items())\n",
        "print(t)\n",
        "for k, v in sorted(d.items()):\n",
        "    print(k, v)"
      ],
      "execution_count": null,
      "outputs": []
    },
    {
      "cell_type": "markdown",
      "metadata": {
        "id": "VvJIZ9rANFE_"
      },
      "source": [
        "Sort by Values Instead of Key: \n",
        "If we could construct a list of tuples of the form (value, key) we could sort by value.\n",
        "We do this with a for loop that creates a list of tuples.\n"
      ]
    },
    {
      "cell_type": "code",
      "metadata": {
        "id": "ZZx4I_hnNYRv"
      },
      "source": [
        "c = {'a':10, 'b':1, 'c':22}\n",
        "tmp = list()\n",
        "for k, v in c.items() :\n",
        "    tmp.append( (v, k) )\n",
        "print(tmp)\n",
        "\n",
        "tmp = sorted(tmp, reverse=True)\n",
        "print(tmp)"
      ],
      "execution_count": null,
      "outputs": []
    },
    {
      "cell_type": "markdown",
      "metadata": {
        "id": "E6Ut7UaNNmIG"
      },
      "source": [
        "Finding the top 10 most common words."
      ]
    },
    {
      "cell_type": "markdown",
      "metadata": {
        "id": "F489pubeOWB7"
      },
      "source": [
        "First, be sure to have access to the file romeo.txt."
      ]
    },
    {
      "cell_type": "code",
      "metadata": {
        "id": "KEXi3F2F-Ows"
      },
      "source": [
        "from google.colab import drive\n",
        "drive.mount('/content/gdrive')"
      ],
      "execution_count": null,
      "outputs": []
    },
    {
      "cell_type": "markdown",
      "metadata": {
        "id": "L5j4lCRSOaO-"
      },
      "source": [
        "Then open romeo.txt with the handle fhand and follow the Python for Everybody example."
      ]
    },
    {
      "cell_type": "code",
      "metadata": {
        "id": "WhLRrz26OIab"
      },
      "source": [
        "fhand = open(\"/content/gdrive/My Drive/romeo.txt\")"
      ],
      "execution_count": null,
      "outputs": []
    },
    {
      "cell_type": "code",
      "metadata": {
        "id": "9HMAVJDHNnYa"
      },
      "source": [
        "# fhand = open('romeo.txt') -->> see the Google Drive open above\n",
        "counts = {}\n",
        "for line in fhand:\n",
        "    words = line.split()\n",
        "    for word in words:\n",
        "        counts[word] = counts.get(word, 0 ) + 1\n",
        "\n",
        "lst = []\n",
        "for key, val in counts.items():\n",
        "    newtup = (val, key) \n",
        "    lst.append(newtup)\n",
        "\n",
        "lst = sorted(lst, reverse=True)\n",
        "\n",
        "for val, key in lst[:10] :\n",
        "    print(key, val)"
      ],
      "execution_count": null,
      "outputs": []
    },
    {
      "cell_type": "markdown",
      "metadata": {
        "id": "AmSpCzwCPrjS"
      },
      "source": [
        "... an even shorter version ..."
      ]
    },
    {
      "cell_type": "code",
      "metadata": {
        "id": "yhloDh3FPvYg"
      },
      "source": [
        "c = {'a':10, 'b':1, 'c':22}\n",
        "print( sorted( [ (v,k) for k,v in c.items() ] ) )"
      ],
      "execution_count": null,
      "outputs": []
    },
    {
      "cell_type": "markdown",
      "metadata": {
        "id": "1quOGK1WP5nk"
      },
      "source": [
        "List comprehension creates a dynamic list.  In the exanple above, we make a list of reversed tuples and then sort it.\n",
        "http://wiki.python.org/moin/HowTo/Sorting\n"
      ]
    },
    {
      "cell_type": "markdown",
      "source": [
        "# **EXERCISE: Tuple vs. Dictionary**    \n",
        "\n",
        "Based on what we have learned about dictionaries and tuples use a comma-separated values listing of the following fields based on 2020 data for U.S.A. states:      \n",
        "    \n",
        "  - ST -state abbreviation    \n",
        "  - State - state name    \n",
        "  - GDP - Gross Domestic Product ($ millions)     \n",
        "  - UnemploymentRate - unemployment rate \n",
        "\n",
        "Produce the following two objects and code which prompts a user for a state abbreviation the displays the GDP and UnemploymentRate for the state abbreviation provided:\n",
        "    \n",
        "    1. Using a list of tuples \n",
        "    2. Using a dictionary    \n",
        "    \n",
        "When displaying the selected GDP and UnemploymentRate, provide a label for each value to describe it. \n",
        "\n"
      ],
      "metadata": {
        "id": "AMeEXl4jEc4X"
      }
    },
    {
      "cell_type": "markdown",
      "source": [
        "If you prefer to work with the source data as a `.CSV` file, execute the following statement to read  `ST_GDP_UnemploymentRate_2020.csv`."
      ],
      "metadata": {
        "id": "nuwkMB_hF-xR"
      }
    },
    {
      "cell_type": "code",
      "source": [
        "!curl \"https://raw.githubusercontent.com/ProfessorPatrickSlatraigh/data/main/ST-GDP-UnemploymentRate_2020.csv\" -o ST_GDP_UnemploymentRate_2020.csv"
      ],
      "metadata": {
        "id": "oSG-u2AeGX2d"
      },
      "execution_count": null,
      "outputs": []
    },
    {
      "cell_type": "markdown",
      "source": [
        "If you prefer to copy the date as text to use in a docstring in your code then copy the following data:     \n",
        "    \n",
        "    \n",
        "```\n",
        "ST,State,GDP,UnemploymentRate   \n",
        "AL,Alabama,201848,5.8\n",
        "AK,Alaska,45395,7.8\n",
        "AZ,Arizona,347806,6.7\n",
        "AR,Arkansas,124302,7.3\n",
        "CA,California,3200908,9.0\n",
        "CO,Colorado,324940,6.2\n",
        "CT,Connecticut,276149,8.3\n",
        "DE,Delaware,74586,7.9\n",
        "FL,Florida,1121426,7.6\n",
        "GA,Georgia,562209,6.1\n",
        "HI,Hawaii,57113,13.9\n",
        "ID,Idaho,75331,4.8\n",
        "IL,Illinois,848227,9.3\n",
        "IN,Indiana,363713,5.9\n",
        "IA,Iowa,191257,3.8\n",
        "KS,Kansas,150676,5.2\n",
        "KY,Kentucky,196054,6.6\n",
        "LA,Louisiana,232224,8.1\n",
        "ME,Maine,60755,6.0\n",
        "MD,Maryland,417343,7.8\n",
        "MA,Massachusetts,596741,8.2\n",
        "MI,Michigan,504820,9.4\n",
        "MN,Minnesota,358502,4.1\n",
        "MS,Mississippi,105360,8.5\n",
        "MO,Missouri,293993,5.1\n",
        "MT,Montana,56696,5.5\n",
        "NE,Nebraska,132657,3.2\n",
        "NV,Nevada,173615,11.6\n",
        "NH,New Hampshire,83726,5.5\n",
        "NJ,New Jersey,585005,9.6\n",
        "NM,New Mexico,80538,8.4\n",
        "NY,New York,1547168,10.6\n",
        "NC,North Carolina,567716,7.1\n",
        "ND,North Dakota,57775,4.0\n",
        "OH,Ohio,616198,8.1\n",
        "OK,Oklahoma,177394,5.3\n",
        "OR,Oregon,242068,7.6\n",
        "PA,Pennsylvania,735193,8.1\n",
        "RI,Rhode Island,61176,9.0\n",
        "SC,South Carolina,221441,6.2\n",
        "SD,South Dakota,56150,3.0\n",
        "TN,Tennessee,368217,7.3\n",
        "TX,Texas,1758694,7.3\n",
        "UT,Utah,170174,4.0\n",
        "VT,Vermont,33752,4.1\n",
        "VA,Virginia,544956,6.0\n",
        "WA,Washington,624641,7.4\n",
        "WV,West Virginia,56703,8.1\n",
        "WI,Wisconsin,309506,5.5\n",
        "WY,Wyoming,38969,7.4    \n",
        "```\n",
        "\n"
      ],
      "metadata": {
        "id": "TSsO547mGl4J"
      }
    },
    {
      "cell_type": "code",
      "source": [
        "# provide your code using a list of tuples here    \n"
      ],
      "metadata": {
        "id": "xtQ9_UlOF10n"
      },
      "execution_count": null,
      "outputs": []
    },
    {
      "cell_type": "code",
      "source": [
        "# provide your code using a dictionary here    \n",
        " "
      ],
      "metadata": {
        "id": "olk6ibAjF63r"
      },
      "execution_count": null,
      "outputs": []
    },
    {
      "cell_type": "markdown",
      "metadata": {
        "id": "eZ7ksr9iQMv3"
      },
      "source": [
        "\n",
        "\n",
        "---\n",
        "\n"
      ]
    },
    {
      "cell_type": "markdown",
      "metadata": {
        "id": "Me7uOgaXhPvi"
      },
      "source": [
        "# **Debugging**"
      ]
    },
    {
      "cell_type": "markdown",
      "metadata": {
        "id": "Vh0x2zJDh--8"
      },
      "source": [
        "As you work with bigger datasets it can become unwieldy to debug by printing and checking data by hand. Here are some suggestions for debugging large datasets:\n",
        "\n",
        "**Scale down the input**\n",
        "If possible, reduce the size of the dataset. For example if the program reads a text file, start with just the first 10 lines, or with the smallest example you can find. You can either edit the files themselves, or (better) modify the program so it reads only the first n lines.\n",
        "\n",
        "If there is an error, you can reduce n to the smallest value that manifests the error, and then increase it gradually as you find and correct errors.\n",
        "\n",
        "**Check summaries and types**\n",
        "Instead of printing and checking the entire dataset, consider printing summaries of the data: for example, the number of items in a dictionary or the total of a list of numbers.\n",
        "\n",
        "A common cause of runtime errors is a value that is not the right type. For debugging this kind of error, it is often enough to print the type of a value.\n",
        "\n",
        "**Write self-checks**\n",
        "Sometimes you can write code to check for errors automatically. For example, if you are computing the average of a list of numbers, you could check that the result is not greater than the largest element in the list or less than the smallest. This is called a “sanity check” because it detects results that are “completely illogical”.\n",
        "\n",
        "Another kind of check compares the results of two different computations to see if they are consistent. This is called a “consistency check”.\n",
        "\n",
        "**Pretty print the output**\n",
        "Formatting debugging output can make it easier to spot an error.\n",
        "Again, time you spend building scaffolding can reduce the time you spend debugging."
      ]
    },
    {
      "cell_type": "markdown",
      "source": [
        "\n",
        "---\n"
      ],
      "metadata": {
        "id": "kIHnU7IUit9u"
      }
    },
    {
      "cell_type": "markdown",
      "metadata": {
        "id": "-xyPTyugQOL0"
      },
      "source": [
        "*Thanks for Charles Severance and his work Python for Everybody (py4e.com)*"
      ]
    }
  ]
}