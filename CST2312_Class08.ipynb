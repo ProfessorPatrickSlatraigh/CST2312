{
  "nbformat": 4,
  "nbformat_minor": 0,
  "metadata": {
    "colab": {
      "name": "CST2312_Class08.ipynb",
      "provenance": [],
      "collapsed_sections": [],
      "authorship_tag": "ABX9TyMIYiR1bNSjI9U2ZNgyRgxa",
      "include_colab_link": true
    },
    "kernelspec": {
      "name": "python3",
      "display_name": "Python 3"
    },
    "language_info": {
      "name": "python"
    }
  },
  "cells": [
    {
      "cell_type": "markdown",
      "metadata": {
        "id": "view-in-github",
        "colab_type": "text"
      },
      "source": [
        "<a href=\"https://colab.research.google.com/github/ProfessorPatrickSlatraigh/CST2312/blob/main/CST2312_Class08.ipynb\" target=\"_parent\"><img src=\"https://colab.research.google.com/assets/colab-badge.svg\" alt=\"Open In Colab\"/></a>"
      ]
    },
    {
      "cell_type": "markdown",
      "metadata": {
        "id": "PTnxGIV8p3Jr"
      },
      "source": [
        "# **CST2312 Class 08 - Dictionaries and Tuples**\n",
        "\n",
        "updated 27-Feb-2022 by Professor Patrick \n",
        "\n",
        "*examples from Python for Everybody by Charles Severence at py4e.com*"
      ]
    },
    {
      "cell_type": "markdown",
      "metadata": {
        "id": "YDEasnKj0tBD"
      },
      "source": [
        "\n",
        "\n",
        "---\n",
        "\n"
      ]
    },
    {
      "cell_type": "markdown",
      "metadata": {
        "id": "awdSPVruxjX-"
      },
      "source": [
        "# **10: Dictionaries**"
      ]
    },
    {
      "cell_type": "markdown",
      "metadata": {
        "id": "ru_tZlDtqBFM"
      },
      "source": [
        "Lists index their entries based on the position in the list\n",
        "Dictionaries are like bags - no order\n",
        "So we index the things we put in the dictionary with a “lookup tag” called the \"key\".  Each key is unique.  Each key is associated with a value, which can be any data type, including lists, or other dictionaries.  Values in a dictionary need not be unique.\n"
      ]
    },
    {
      "cell_type": "code",
      "source": [
        "# create and print an empty dictionary\n",
        "choco = dict()\n",
        "print(choco)"
      ],
      "metadata": {
        "colab": {
          "base_uri": "https://localhost:8080/"
        },
        "id": "HmSJNYRy6DNn",
        "outputId": "38b8c957-71ab-4798-95de-6bd38efedfec"
      },
      "execution_count": 6,
      "outputs": [
        {
          "output_type": "stream",
          "name": "stdout",
          "text": [
            "{}\n"
          ]
        }
      ]
    },
    {
      "cell_type": "code",
      "source": [
        "choco['Hershey'] = 2\n",
        "choco['Godiva'] = 3\n",
        "choco['Kinder'] = 1\n",
        "\n",
        "print(choco)"
      ],
      "metadata": {
        "colab": {
          "base_uri": "https://localhost:8080/"
        },
        "id": "04p00mrE6T2N",
        "outputId": "8b724da9-2c51-404c-91ae-d05c4c218ab8"
      },
      "execution_count": 7,
      "outputs": [
        {
          "output_type": "stream",
          "name": "stdout",
          "text": [
            "{'Hershey': 2, 'Godiva': 3, 'Kinder': 1}\n"
          ]
        }
      ]
    },
    {
      "cell_type": "code",
      "source": [
        "# How many Godiva do we have?\n",
        "print(choco['Godiva'])"
      ],
      "metadata": {
        "colab": {
          "base_uri": "https://localhost:8080/"
        },
        "id": "GBk_hJHT6oi_",
        "outputId": "77409629-108f-4344-96fc-f772e8678631"
      },
      "execution_count": 10,
      "outputs": [
        {
          "output_type": "stream",
          "name": "stdout",
          "text": [
            "3\n"
          ]
        }
      ]
    },
    {
      "cell_type": "code",
      "source": [
        "# give one Godiva choco away\n",
        "choco['Godiva'] = choco['Godiva'] - 1\n",
        "\n",
        "# How many Godiva do we have?\n",
        "print(choco['Godiva'])\n"
      ],
      "metadata": {
        "colab": {
          "base_uri": "https://localhost:8080/"
        },
        "id": "osDZk6JC69ct",
        "outputId": "6119dd6c-b45d-4cdb-b87f-621ca33f3e3c"
      },
      "execution_count": 11,
      "outputs": [
        {
          "output_type": "stream",
          "name": "stdout",
          "text": [
            "2\n"
          ]
        }
      ]
    },
    {
      "cell_type": "code",
      "metadata": {
        "id": "q2ZdVpggpzH0"
      },
      "source": [
        "# first create an empty dictionary\n",
        "purse = dict()\n",
        "\n",
        "# then add key:value pairs - akin to SQL INSERTs\n",
        "purse['money'] = 12   # add a k:v pair of 12 moneys (coins)\n",
        "purse['candy'] = 3    # add a k:v pair of 3 candy\n",
        "purse['tissues'] = 75 # add a k:v pair of 75 tissues"
      ],
      "execution_count": 1,
      "outputs": []
    },
    {
      "cell_type": "code",
      "source": [
        "# what type is the variable purse we just created?\n",
        "type(purse)"
      ],
      "metadata": {
        "colab": {
          "base_uri": "https://localhost:8080/"
        },
        "id": "Ru7PwXHH41Ao",
        "outputId": "852b41aa-27ce-42a5-f32c-f60c13ab629b"
      },
      "execution_count": 2,
      "outputs": [
        {
          "output_type": "execute_result",
          "data": {
            "text/plain": [
              "dict"
            ]
          },
          "metadata": {},
          "execution_count": 2
        }
      ]
    },
    {
      "cell_type": "markdown",
      "metadata": {
        "id": "8dVvHfYPqwSm"
      },
      "source": [
        "After creating an empty dictionary we can add key|value pairs to that dictionary.  Then we can process the dictionary with Python statements and expressions."
      ]
    },
    {
      "cell_type": "code",
      "metadata": {
        "id": "TjcAj0tkq8_L",
        "colab": {
          "base_uri": "https://localhost:8080/"
        },
        "outputId": "5829ec1a-38f6-48e8-bd7d-3a9aa435b3af"
      },
      "source": [
        "print(purse)\n"
      ],
      "execution_count": 3,
      "outputs": [
        {
          "output_type": "stream",
          "name": "stdout",
          "text": [
            "{'money': 12, 'candy': 3, 'tissues': 75}\n"
          ]
        }
      ]
    },
    {
      "cell_type": "code",
      "source": [
        "# print the value for the key 'candy'\n",
        "print(purse['candy'])\n"
      ],
      "metadata": {
        "colab": {
          "base_uri": "https://localhost:8080/"
        },
        "id": "f4aiRPj95Hh6",
        "outputId": "ef6735ff-335b-4c65-aabb-981cb96445cb"
      },
      "execution_count": 4,
      "outputs": [
        {
          "output_type": "stream",
          "name": "stdout",
          "text": [
            "3\n"
          ]
        }
      ]
    },
    {
      "cell_type": "code",
      "source": [
        "# print the full dictionary\n",
        "print(\"Here are the purse dictionary key|value pairs: \", purse)"
      ],
      "metadata": {
        "colab": {
          "base_uri": "https://localhost:8080/"
        },
        "id": "TLzOjVUy5yCs",
        "outputId": "c4548ac7-caf1-44ca-c99f-4fb1252beb8f"
      },
      "execution_count": 5,
      "outputs": [
        {
          "output_type": "stream",
          "name": "stdout",
          "text": [
            "Here are the purse dictionary key|value pairs:  {'money': 12, 'candy': 3, 'tissues': 75}\n"
          ]
        }
      ]
    },
    {
      "cell_type": "code",
      "source": [
        "# print(purse['candy'])\n",
        "print(\"Here is the value of 'candy' in purse: \", purse['candy'])"
      ],
      "metadata": {
        "colab": {
          "base_uri": "https://localhost:8080/"
        },
        "id": "m7QMu_nt4-yS",
        "outputId": "20563b0b-6054-4f92-f501-094a18a28bb6"
      },
      "execution_count": 13,
      "outputs": [
        {
          "output_type": "stream",
          "name": "stdout",
          "text": [
            "Here is the value of 'candy' in purse:  3\n"
          ]
        }
      ]
    },
    {
      "cell_type": "markdown",
      "metadata": {
        "id": "x5gKYn2SsREc"
      },
      "source": [
        "Dictionary literals use curly braces and have a list of key : value pairs\n",
        "You can make an empty dictionary using empty curly braces\n"
      ]
    },
    {
      "cell_type": "code",
      "metadata": {
        "id": "vli0QdJksT4q",
        "colab": {
          "base_uri": "https://localhost:8080/"
        },
        "outputId": "35d7911e-b777-4f7e-c394-98c337aacf37"
      },
      "source": [
        "# Dictionary jjj with strings as keys\n",
        "jjj = { 'chuck' : 1 , 'fred' : 42, 'jan': 100}\n",
        "print(jjj)\n"
      ],
      "execution_count": 14,
      "outputs": [
        {
          "output_type": "stream",
          "name": "stdout",
          "text": [
            "{'chuck': 1, 'fred': 42, 'jan': 100}\n"
          ]
        }
      ]
    },
    {
      "cell_type": "code",
      "source": [
        "# Empty dictionary ooo\n",
        "ooo = { }\n",
        "print(ooo)"
      ],
      "metadata": {
        "colab": {
          "base_uri": "https://localhost:8080/"
        },
        "id": "oTXBGj-99Dd-",
        "outputId": "d424f9ec-7163-401f-8633-6f52384062a1"
      },
      "execution_count": 15,
      "outputs": [
        {
          "output_type": "stream",
          "name": "stdout",
          "text": [
            "{}\n"
          ]
        }
      ]
    },
    {
      "cell_type": "markdown",
      "metadata": {
        "id": "7z2jF2nzsyiH"
      },
      "source": [
        "One common use of dictionaries is counting how often we “see” something.  We use the category item as a key and keep an integer counter as the value."
      ]
    },
    {
      "cell_type": "code",
      "source": [
        "# make a dictionary counting shirts by size\n",
        "shirts = dict()\n",
        "\n",
        "# add k:v pairs with an inventory of shirts on hand\n",
        "shirts['XS'] = 4\n",
        "shirts['S'] = 2\n",
        "shirts['M'] = 8\n",
        "shirts['L'] = 12\n",
        "shirts['XL'] = 6\n",
        "shirts['XXL'] = 3\n",
        "\n",
        "# how many shirts do we have by size?\n",
        "print(shirts)\n"
      ],
      "metadata": {
        "colab": {
          "base_uri": "https://localhost:8080/"
        },
        "id": "bhbz4FsD9o_D",
        "outputId": "512229de-0788-420e-95c6-99e96294e280"
      },
      "execution_count": 16,
      "outputs": [
        {
          "output_type": "stream",
          "name": "stdout",
          "text": [
            "{'XS': 4, 'S': 2, 'M': 8, 'L': 12, 'XL': 6, 'XXL': 3}\n"
          ]
        }
      ]
    },
    {
      "cell_type": "code",
      "source": [
        "# Dictionary values can be used in expressions\n",
        "# sell a medium shirt\n",
        "shirts['M'] = shirts['M'] - 1\n",
        "\n",
        "# how many shirts do we have by size?\n",
        "print(shirts)"
      ],
      "metadata": {
        "colab": {
          "base_uri": "https://localhost:8080/"
        },
        "id": "ToFw7sht-Y7a",
        "outputId": "ae867796-3283-479f-d9c3-b1c97f293dbe"
      },
      "execution_count": 17,
      "outputs": [
        {
          "output_type": "stream",
          "name": "stdout",
          "text": [
            "{'XS': 4, 'S': 2, 'M': 7, 'L': 12, 'XL': 6, 'XXL': 3}\n"
          ]
        }
      ]
    },
    {
      "cell_type": "code",
      "metadata": {
        "id": "6duVrQa6s0MP",
        "colab": {
          "base_uri": "https://localhost:8080/"
        },
        "outputId": "9e73f8c6-be64-44b6-8d31-07eba5fb2493"
      },
      "source": [
        "ccc = dict()\n",
        "ccc['csev'] = 1\n",
        "ccc['cwen'] = 1\n",
        "print(ccc)\n",
        "\n",
        "# Dictionary values can be used in expressions\n",
        "ccc['cwen'] = ccc['cwen'] + 1\n",
        "print(ccc)"
      ],
      "execution_count": 18,
      "outputs": [
        {
          "output_type": "stream",
          "name": "stdout",
          "text": [
            "{'csev': 1, 'cwen': 1}\n",
            "{'csev': 1, 'cwen': 2}\n"
          ]
        }
      ]
    },
    {
      "cell_type": "markdown",
      "metadata": {
        "id": "JO-RKyeatYta"
      },
      "source": [
        "The pattern of checking to see if a key is already in a dictionary and assuming a default value if the key is not there is so common that there is a method called get() that does this for us.  Let's setup a dictionary first, then check for a key with get.\n"
      ]
    },
    {
      "cell_type": "code",
      "source": [
        "# create an empty dictionary to use in counting a categorical\n",
        "inventory = dict()\n",
        "\n",
        "# create a list of categorical string values to process\n",
        "shirt_list = ['XS', 'S', 'XXL', 'M', 'M', 'XS', 'M', 'L', 'S', 'XL', 'XL', 'L', 'M', 'M', 'XXL']\n",
        "\n",
        "# iterate through the list and add new keys with a value of 1 or\n",
        "# increase the value of an existing key by 1\n",
        "for shirt in shirt_list :\n",
        "    if shirt not in inventory : \n",
        "        inventory[shirt] = 1\n",
        "    else :\n",
        "        inventory[shirt] = inventory[shirt] + 1\n",
        "\n",
        "print(inventory)\n"
      ],
      "metadata": {
        "colab": {
          "base_uri": "https://localhost:8080/"
        },
        "id": "X59C1cAVA48D",
        "outputId": "b1695d25-4ea4-424e-f17a-62d9593f9983"
      },
      "execution_count": 23,
      "outputs": [
        {
          "output_type": "stream",
          "name": "stdout",
          "text": [
            "{'XS': 2, 'S': 2, 'XXL': 2, 'M': 5, 'L': 2, 'XL': 2}\n"
          ]
        }
      ]
    },
    {
      "cell_type": "code",
      "metadata": {
        "id": "1ylILH2NuZTV",
        "colab": {
          "base_uri": "https://localhost:8080/"
        },
        "outputId": "4d4a2932-b668-447b-801a-e7d80cde4407"
      },
      "source": [
        "# create an empty dictionary to use in counting a categorical\n",
        "counts = dict()\n",
        "\n",
        "# create a list of categorical string values to process\n",
        "name_list = ['csev', 'cwen', 'csev', 'zqian', 'cwen']\n",
        "\n",
        "# iterate through the list and add new keys with a value of 1 or\n",
        "# increase the value of an existing key by 1\n",
        "for name in name_list :\n",
        "    if name not in counts : \n",
        "        counts[name] = 1\n",
        "    else :\n",
        "        counts[name] = counts[name] + 1\n",
        "\n",
        "print(counts)\n"
      ],
      "execution_count": 24,
      "outputs": [
        {
          "output_type": "stream",
          "name": "stdout",
          "text": [
            "{'csev': 2, 'cwen': 2, 'zqian': 1}\n"
          ]
        }
      ]
    },
    {
      "cell_type": "markdown",
      "metadata": {
        "id": "0gaDhqemudmF"
      },
      "source": [
        "Using the counts dictionary, let's create a function which uses the get statement then we can call the function and print the result in the variable x."
      ]
    },
    {
      "cell_type": "code",
      "metadata": {
        "id": "bj_AUUuitaWW",
        "colab": {
          "base_uri": "https://localhost:8080/"
        },
        "outputId": "9d9bea24-e38f-45c2-a035-ca58305e989e"
      },
      "source": [
        "# Create a function using dictionary get to check for a key\n",
        "if name in counts:\n",
        "    x = counts[name]\n",
        "else :\n",
        "    x = 0\n",
        "# Call the function with a key as an argument\n",
        "x = counts.get(name, 0)\n",
        "# Print the resulting value returned and stored in x\n",
        "print(x)\n",
        "print(counts)"
      ],
      "execution_count": 25,
      "outputs": [
        {
          "output_type": "stream",
          "name": "stdout",
          "text": [
            "2\n",
            "{'csev': 2, 'cwen': 2, 'zqian': 1}\n"
          ]
        }
      ]
    },
    {
      "cell_type": "markdown",
      "metadata": {
        "id": "HESCxVhLvQU3"
      },
      "source": [
        "Simplified Counting: We can use get() and provide a default value of zero when the key is not yet in the dictionary - and then just add one to keep a count of instances of each key in a list.  Did we just create a word-count function?"
      ]
    },
    {
      "cell_type": "code",
      "metadata": {
        "id": "BSVjSCCCvWmi",
        "colab": {
          "base_uri": "https://localhost:8080/"
        },
        "outputId": "fde39fab-1794-4123-ca96-523841ef03fa"
      },
      "source": [
        "counts = dict()\n",
        "names = ['csev', 'cwen', 'csev', 'zqian', 'cwen']\n",
        "for name in names :\n",
        "    counts[name] = counts.get(name, 0) + 1\n",
        "print(counts)"
      ],
      "execution_count": 26,
      "outputs": [
        {
          "output_type": "stream",
          "name": "stdout",
          "text": [
            "{'csev': 2, 'cwen': 2, 'zqian': 1}\n"
          ]
        }
      ]
    },
    {
      "cell_type": "code",
      "source": [
        "inventory = dict()\n",
        "shirt_list = ['XS', 'S', 'XXL', 'M', 'M', 'XS', 'M', 'L', 'S', 'XL', 'XL', 'L', 'M', 'M', 'XXL']\n",
        "for shirt in shirt_list :\n",
        "    inventory[shirt] = inventory.get(shirt, 0) + 1\n",
        "print(inventory)"
      ],
      "metadata": {
        "colab": {
          "base_uri": "https://localhost:8080/"
        },
        "id": "2iNHtYqNDWpW",
        "outputId": "0075ef1a-7c08-4575-d057-9744151eb2b3"
      },
      "execution_count": 27,
      "outputs": [
        {
          "output_type": "stream",
          "name": "stdout",
          "text": [
            "{'XS': 2, 'S': 2, 'XXL': 2, 'M': 5, 'L': 2, 'XL': 2}\n"
          ]
        }
      ]
    },
    {
      "cell_type": "markdown",
      "metadata": {
        "id": "udMpbGOKv2rw"
      },
      "source": [
        "Let's create a means of counting words entered by the user.  The general pattern to count the words in a line of text is to split the line into words, then loop through the words and use a dictionary to track the count of each word independently.  (Please note that the following example is case-sensitive.)\n"
      ]
    },
    {
      "cell_type": "code",
      "metadata": {
        "id": "0c7g8ywxwSzr"
      },
      "source": [
        "counts = dict()\n",
        "print('Enter a line of text:')\n",
        "line = input('')\n",
        "\n",
        "words = line.split()\n",
        "\n",
        "print('Words:', words)\n",
        "\n",
        "print('Counting...')\n",
        "for word in words:\n",
        "    counts[word] = counts.get(word,0) + 1\n",
        "    # The following line is scaffolding to peek inside the loop\n",
        "    # print(word,\":\", counts[word])\n",
        "print('Counts', counts)\n"
      ],
      "execution_count": null,
      "outputs": []
    },
    {
      "cell_type": "markdown",
      "metadata": {
        "id": "RxV4BoTOwvij"
      },
      "source": [
        "Definite Loops and Dictionaries: Even though dictionaries are not stored in order, we can write a for loop that goes through all the entries in a dictionary - actually it goes through all of the keys in the dictionary and looks up the values."
      ]
    },
    {
      "cell_type": "code",
      "metadata": {
        "id": "Ev8EqY5Hw3Iy"
      },
      "source": [
        "counts = { 'chuck' : 1 , 'fred' : 42, 'jan': 100}\n",
        "for key in counts:\n",
        "    print(key, counts[key])"
      ],
      "execution_count": null,
      "outputs": []
    },
    {
      "cell_type": "markdown",
      "metadata": {
        "id": "hvnTV61WxGSb"
      },
      "source": [
        "You can get a list of keys, values, or items (both) from a dictionary.  When we have multiple values together as an object, we refer to that object as a tuple."
      ]
    },
    {
      "cell_type": "code",
      "metadata": {
        "id": "E2G3miIVxH9L"
      },
      "source": [
        "jjj = { 'chuck' : 1 , 'fred' : 42, 'jan': 100}\n",
        "print(list(jjj))\n",
        "\n",
        "print(list(jjj.keys()))\n",
        "\n",
        "print(list(jjj.values()))\n",
        "\n",
        "print(list(jjj.items()))\n"
      ],
      "execution_count": null,
      "outputs": []
    },
    {
      "cell_type": "markdown",
      "metadata": {
        "id": "rz8i7wox0qqE"
      },
      "source": [
        "\n",
        "\n",
        "---\n",
        "\n"
      ]
    },
    {
      "cell_type": "markdown",
      "metadata": {
        "id": "ya0hHNH00vJs"
      },
      "source": [
        "# **11: Tuples**"
      ]
    },
    {
      "cell_type": "markdown",
      "metadata": {
        "id": "suPAtThG04Al"
      },
      "source": [
        "Tuples are like lists. Tuples are another kind of sequence that functions much like a list - they have elements which are indexed starting at 0.\n"
      ]
    },
    {
      "cell_type": "code",
      "metadata": {
        "id": "jEGLQS7n1lRv"
      },
      "source": [
        "# Create a list and print an element of the list\n",
        "x = ('Glenn', 'Sally', 'Joseph')\n",
        "print(x[2])\n",
        "\n",
        "# Create a tuple\n",
        "y = ( 1, 9, 2 )\n",
        "#Print the tuple\n",
        "print(y)\n",
        "# Print the max of the tuple\n",
        "print(max(y))\n"
      ],
      "execution_count": null,
      "outputs": []
    },
    {
      "cell_type": "markdown",
      "metadata": {
        "id": "LwszTDkb2OaD"
      },
      "source": [
        "Tuples and Assignment: We can also put a tuple on the left-hand side of an assignment statement.  We can even omit the parentheses."
      ]
    },
    {
      "cell_type": "code",
      "metadata": {
        "id": "x-dCsae32Qor"
      },
      "source": [
        "(x, y) = (4, 'fred')\n",
        "print(y)\n",
        "\n",
        "(a, b) = (99, 98)\n",
        "print(a)\n"
      ],
      "execution_count": null,
      "outputs": []
    },
    {
      "cell_type": "markdown",
      "metadata": {
        "id": "li2O4MV72rR7"
      },
      "source": [
        "Tuples and Dictionaries: The items() method in dictionaries returns a list of (key, value) tuples."
      ]
    },
    {
      "cell_type": "code",
      "metadata": {
        "id": "P_hHdzz-2sv5"
      },
      "source": [
        "d = dict()\n",
        "d['csev'] = 2\n",
        "d['cwen'] = 4\n",
        "for (k,v) in d.items(): \n",
        "    print(k, v)\n",
        "\n",
        "tups = d.items()\n",
        "print(tups)"
      ],
      "execution_count": null,
      "outputs": []
    },
    {
      "cell_type": "markdown",
      "metadata": {
        "id": "_mkK6tZLLxFy"
      },
      "source": [
        "Tuples are Comparable: The comparison operators work with tuples and other sequences. If the first item is equal, Python goes on to the next element,  and so on, until it finds elements that differ.\n",
        "\n"
      ]
    },
    {
      "cell_type": "code",
      "metadata": {
        "id": "tKO_yDbOLyNa"
      },
      "source": [
        "print(\"Result #1: \", (0, 1, 2) < (5, 1, 2))\n",
        "print(\"Result #2: \", (0, 1, 2000000) < (0, 3, 4))\n",
        "print(\"Result #3: \", ( 'Jones', 'Sally' ) < ('Jones', 'Sam'))\n",
        "print(\"Result #4: \", ( 'Jones', 'Sally') > ('Adams', 'Sam'))"
      ],
      "execution_count": null,
      "outputs": []
    },
    {
      "cell_type": "markdown",
      "metadata": {
        "id": "rtNt7PwqL7Yd"
      },
      "source": [
        "Sorting Lists of Tuples: \n",
        "We can take advantage of the ability to sort a list of tuples to get a sorted version of a dictionary.  \n",
        "First we sort the dictionary by the key using the items() method and sorted() function.  \n",
        "\n"
      ]
    },
    {
      "cell_type": "code",
      "metadata": {
        "id": "9t6UOxitMPng"
      },
      "source": [
        "d = {'a':10, 'b':1, 'c':22}\n",
        "d.items()\n",
        "\n",
        "sorted(d.items())"
      ],
      "execution_count": null,
      "outputs": []
    },
    {
      "cell_type": "markdown",
      "metadata": {
        "id": "cflmRtqtM-6_"
      },
      "source": [
        "Using sorted(): \n",
        "We can do this even more directly using the built-in function sorted that takes a sequence as a parameter and returns a sorted sequence.\n",
        "\n"
      ]
    },
    {
      "cell_type": "code",
      "metadata": {
        "id": "ZALdKhEuNAU4"
      },
      "source": [
        "d = {'a':10, 'b':1, 'c':22}\n",
        "t = sorted(d.items())\n",
        "print(t)\n",
        "for k, v in sorted(d.items()):\n",
        "    print(k, v)\n"
      ],
      "execution_count": null,
      "outputs": []
    },
    {
      "cell_type": "markdown",
      "metadata": {
        "id": "VvJIZ9rANFE_"
      },
      "source": [
        "Sort by Values Instead of Key: \n",
        "If we could construct a list of tuples of the form (value, key) we could sort by value.\n",
        "We do this with a for loop that creates a list of tuples.\n"
      ]
    },
    {
      "cell_type": "code",
      "metadata": {
        "id": "ZZx4I_hnNYRv"
      },
      "source": [
        "c = {'a':10, 'b':1, 'c':22}\n",
        "tmp = list()\n",
        "for k, v in c.items() :\n",
        "    tmp.append( (v, k) )\n",
        "print(tmp)\n",
        "\n",
        "tmp = sorted(tmp, reverse=True)\n",
        "print(tmp)"
      ],
      "execution_count": null,
      "outputs": []
    },
    {
      "cell_type": "markdown",
      "metadata": {
        "id": "E6Ut7UaNNmIG"
      },
      "source": [
        "Finding the top 10 most common words."
      ]
    },
    {
      "cell_type": "markdown",
      "metadata": {
        "id": "F489pubeOWB7"
      },
      "source": [
        "First, be sure to have access to the file romeo.txt."
      ]
    },
    {
      "cell_type": "code",
      "metadata": {
        "id": "KEXi3F2F-Ows"
      },
      "source": [
        "from google.colab import drive\n",
        "drive.mount('/content/gdrive')"
      ],
      "execution_count": null,
      "outputs": []
    },
    {
      "cell_type": "markdown",
      "metadata": {
        "id": "L5j4lCRSOaO-"
      },
      "source": [
        "Then open romeo.txt with the handle fhand and follow the Python for Everybody example."
      ]
    },
    {
      "cell_type": "code",
      "metadata": {
        "id": "WhLRrz26OIab"
      },
      "source": [
        "fhand = open(\"/content/gdrive/My Drive/romeo.txt\")"
      ],
      "execution_count": null,
      "outputs": []
    },
    {
      "cell_type": "code",
      "metadata": {
        "id": "9HMAVJDHNnYa"
      },
      "source": [
        "# fhand = open('romeo.txt') -->> see the Google Drive open above\n",
        "counts = {}\n",
        "for line in fhand:\n",
        "    words = line.split()\n",
        "    for word in words:\n",
        "        counts[word] = counts.get(word, 0 ) + 1\n",
        "\n",
        "lst = []\n",
        "for key, val in counts.items():\n",
        "    newtup = (val, key) \n",
        "    lst.append(newtup)\n",
        "\n",
        "lst = sorted(lst, reverse=True)\n",
        "\n",
        "for val, key in lst[:10] :\n",
        "    print(key, val)"
      ],
      "execution_count": null,
      "outputs": []
    },
    {
      "cell_type": "markdown",
      "metadata": {
        "id": "AmSpCzwCPrjS"
      },
      "source": [
        "... an even shorter version ..."
      ]
    },
    {
      "cell_type": "code",
      "metadata": {
        "id": "yhloDh3FPvYg"
      },
      "source": [
        "c = {'a':10, 'b':1, 'c':22}\n",
        "print( sorted( [ (v,k) for k,v in c.items() ] ) )"
      ],
      "execution_count": null,
      "outputs": []
    },
    {
      "cell_type": "markdown",
      "metadata": {
        "id": "1quOGK1WP5nk"
      },
      "source": [
        "List comprehension creates a dynamic list.  In the exanple above, we make a list of reversed tuples and then sort it.\n",
        "http://wiki.python.org/moin/HowTo/Sorting\n"
      ]
    },
    {
      "cell_type": "markdown",
      "metadata": {
        "id": "eZ7ksr9iQMv3"
      },
      "source": [
        "\n",
        "\n",
        "---\n",
        "\n"
      ]
    },
    {
      "cell_type": "markdown",
      "metadata": {
        "id": "-xyPTyugQOL0"
      },
      "source": [
        "*Thanks for Charles Severance and his work Python for Everybody (py4e.com)*"
      ]
    }
  ]
}