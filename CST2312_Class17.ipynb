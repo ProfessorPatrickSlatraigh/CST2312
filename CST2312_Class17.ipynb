{
  "nbformat": 4,
  "nbformat_minor": 0,
  "metadata": {
    "colab": {
      "name": "CST2312_Class17.ipynb",
      "provenance": [],
      "collapsed_sections": [],
      "include_colab_link": true
    },
    "kernelspec": {
      "name": "python3",
      "display_name": "Python 3"
    },
    "language_info": {
      "name": "python"
    }
  },
  "cells": [
    {
      "cell_type": "markdown",
      "metadata": {
        "id": "view-in-github",
        "colab_type": "text"
      },
      "source": [
        "<a href=\"https://colab.research.google.com/github/ProfessorPatrickSlatraigh/CST2312/blob/main/CST2312_Class17.ipynb\" target=\"_parent\"><img src=\"https://colab.research.google.com/assets/colab-badge.svg\" alt=\"Open In Colab\"/></a>"
      ]
    },
    {
      "cell_type": "markdown",
      "metadata": {
        "id": "Sivi2IUlD10N"
      },
      "source": [
        "# **CST2312 WK11CL17 - Regex and APIs**"
      ]
    },
    {
      "cell_type": "markdown",
      "metadata": {
        "id": "XtosZlQIczc0"
      },
      "source": [
        "*This notebook includes CST2312 homework Assignment #6 which includes four exercises to be completed ⚪ 6.1,  ⚪ 6.2, ⚪ 6.3, and  ⚪ 6.4.*"
      ]
    },
    {
      "cell_type": "markdown",
      "metadata": {
        "id": "o7fP5obdEAS3"
      },
      "source": [
        "\n",
        "\n",
        "---\n",
        "\n"
      ]
    },
    {
      "cell_type": "markdown",
      "metadata": {
        "id": "_1eYdhLSHUn_"
      },
      "source": [
        "# ***Regular Expressions***\n",
        "***Regex***"
      ]
    },
    {
      "cell_type": "markdown",
      "metadata": {
        "id": "RtDi8NbS6zaP"
      },
      "source": [
        "**Reading** from the required textbook: ( [https://www.py4e.com/lessons/](https://www.py4e.com/lessons/))\n",
        "\n",
        "* [Regular Expressions](https://www.py4e.com/lessons/regex) (Chapter 12)\n",
        "* [Data Science Cheat Sheet Python Regular Expressions](https://www.dataquest.io/wp-content/uploads/2019/03/python-regular-expressions-cheat-sheet.pdf)\n",
        "\n"
      ]
    },
    {
      "cell_type": "markdown",
      "metadata": {
        "id": "_sVm6Xw17i6F"
      },
      "source": [
        "So far we have been using methods like `split` and `find` to extract portions of strings or to answer a question of whether a particular item / string is part of a list-set-tuple-dictionary / longer string.\n",
        "\n",
        "Regular Expressions\n",
        "-------------------\n",
        "\n",
        "Regular expressions (regexes or re’s) constitute an extremely powerful, flexible and concise language for matching elements in text ranging from a few characters to complex patterns. While mastering the syntax of the regular expression language does require climbing a learning curve, this learning curve is not particularly steep, and a newcomer can find herself performing useful tasks with regular expressions almost immediately. Efforts spent learning regular expressions quickly pay off--tasks that are well suited for regular expressions abound. Indeed, regular expressions are one of the most useful computer skills, and an absolutely critical tool for data scientists.\n",
        "\n",
        "This document will present basic regular expression syntax and cover common use cases for regular expressions: pattern matching, filtering, data extraction, and string replacement. \n",
        "\n",
        "We will present examples using python’s standard [re regular expression library](http://docs.python.org/library/re.html).\n",
        "\n",
        "We will discuss Python libraries in detail later.\n",
        "\n",
        "Many examples from from this [Google tutorial](https://developers.google.com/edu/python/regular-expressions). Pay attention that tutorial itself uses a 2.x version of Python, thus, several statements (for example, print()) look differently than in the later versions of Python. In this notebook, the examples from the Google tutorial are converted to the current Python version. "
      ]
    },
    {
      "cell_type": "markdown",
      "metadata": {
        "id": "VJbxGwbs-c10"
      },
      "source": [
        "### Searching strings using regexes"
      ]
    },
    {
      "cell_type": "markdown",
      "metadata": {
        "id": "tt-2u13P6f-L"
      },
      "source": [
        "The regular expression library `re` must be imported into your program before you can use it. The simplest use of the regular expression library is the `search()` function. "
      ]
    },
    {
      "cell_type": "code",
      "metadata": {
        "id": "LwA_bTfx4_PZ"
      },
      "source": [
        "# first import the library\n",
        "import re"
      ],
      "execution_count": 1,
      "outputs": []
    },
    {
      "cell_type": "code",
      "metadata": {
        "id": "ZifTlTpG481G",
        "colab": {
          "base_uri": "https://localhost:8080/"
        },
        "outputId": "653def8c-c969-4dd5-cfc1-ce7580d15fb6"
      },
      "source": [
        "inputStr = 'an example word:cat!!'\n",
        "if re.search(r'cat', inputStr):\n",
        "  print(inputStr)\n",
        "\n",
        "print (\"Done with the example\")"
      ],
      "execution_count": 5,
      "outputs": [
        {
          "output_type": "stream",
          "name": "stdout",
          "text": [
            "an example word:cat!!\n",
            "Done with the example\n"
          ]
        }
      ]
    },
    {
      "cell_type": "code",
      "metadata": {
        "id": "3Z60qReo5JIk",
        "colab": {
          "base_uri": "https://localhost:8080/"
        },
        "outputId": "eef44245-6706-4ace-f3f9-d9f06d86d7b4"
      },
      "source": [
        "inputStr = 'an example word: cat!!'\n",
        "if re.search(r'dog', inputStr):\n",
        "  print(inputStr)\n",
        "\n",
        "print (\"Done with the example\")"
      ],
      "execution_count": 6,
      "outputs": [
        {
          "output_type": "stream",
          "name": "stdout",
          "text": [
            "Done with the example\n"
          ]
        }
      ]
    },
    {
      "cell_type": "code",
      "metadata": {
        "colab": {
          "base_uri": "https://localhost:8080/"
        },
        "id": "-yiq_EXBlBGT",
        "outputId": "1e5dc3ab-407d-45cc-a98e-8f31afc06453"
      },
      "source": [
        "inputStr = 'an example word: cat!!'\n",
        "if re.search(r'word: \\w\\w\\w', inputStr):\n",
        "  print(inputStr)\n",
        "  \n",
        "print (\"Done with the example\")"
      ],
      "execution_count": 7,
      "outputs": [
        {
          "output_type": "stream",
          "name": "stdout",
          "text": [
            "an example word: cat!!\n",
            "Done with the example\n"
          ]
        }
      ]
    },
    {
      "cell_type": "code",
      "metadata": {
        "id": "1HdCJTqlm78v"
      },
      "source": [
        "inputStr = 'an example word:dog, anda, cat!!'\n",
        "if re.search(r'word:\\w\\w\\w', inputStr):\n",
        "  print(inputStr)\n",
        "\n",
        "print (\"Done with the example\")"
      ],
      "execution_count": null,
      "outputs": []
    },
    {
      "cell_type": "code",
      "metadata": {
        "id": "g-42g9JIncRw"
      },
      "source": [
        "the_text = 'there are many words here some with three characters and also this phrase \"stuffH dog\", plus cat!!'\n",
        "if re.search(r'stuffH \\w\\w\\w', the_text):\n",
        "  print(\"I found the pattern you asked about.\")\n",
        "\n",
        "print (\"Done with the example\")"
      ],
      "execution_count": null,
      "outputs": []
    },
    {
      "cell_type": "markdown",
      "metadata": {
        "id": "BkMWHgyN-z0Z"
      },
      "source": [
        "#### We can store the result of `re.search(pat, str)` in a variable.\n",
        "\n",
        "In Python a regular expression search is typically written as:\n",
        "\n",
        "`match = re.search(pat, str)`\n",
        "\n",
        "The code `match = re.search(pat, str)` stores the search result in a variable named \"match\". \n",
        "\n",
        "The `re.search()` method takes a regular expression pattern and a string and searches for that pattern within the string. If the search is successful, `search()` returns a match object or `None` otherwise.\n",
        "\n",
        "Then the `if`-statement tests the match -- if `True` the search succeeded and `match.group()` is the matching text (e.g. 'word: cat'). Otherwise if the match is `False` (`None` to be more specific), then the search did not succeed, and there is no matching text.\n",
        "\n",
        "The 'r' at the start of the pattern string designates a python \"raw\" string which passes through backslashes without change which is very handy for regular expressions. It is recommended that you always write pattern strings with the 'r' just as a habit.\n",
        "\n",
        " "
      ]
    },
    {
      "cell_type": "code",
      "metadata": {
        "id": "CxmiuzbN_IAx",
        "colab": {
          "base_uri": "https://localhost:8080/"
        },
        "outputId": "4e35138d-b47b-456f-c9b0-0a061d8d4787"
      },
      "source": [
        "inputStr = 'an example word: cat!!'\n",
        "match = re.search(r'word: \\w\\w\\w', inputStr) ## both 'cat' and 'dog' are 3-letter words\n",
        "match"
      ],
      "execution_count": 16,
      "outputs": [
        {
          "output_type": "execute_result",
          "data": {
            "text/plain": [
              "<re.Match object; span=(11, 20), match='word: cat'>"
            ]
          },
          "metadata": {},
          "execution_count": 16
        }
      ]
    },
    {
      "cell_type": "markdown",
      "metadata": {
        "id": "CvatBIwDAiv-"
      },
      "source": [
        "The `re.match()` function returns a match object on success, `None` on failure. We use `group(num)` function of match object to get matched expression.\n",
        "\n",
        "`group(num=0)`: This method returns entire match (or specific subgroup num)"
      ]
    },
    {
      "cell_type": "code",
      "metadata": {
        "id": "p97V3tIJ5mHU",
        "colab": {
          "base_uri": "https://localhost:8080/"
        },
        "outputId": "7626d715-4f31-407f-c920-8020f70b85ce"
      },
      "source": [
        "inputStr = 'an example word: cat!!'\n",
        "# If-statement after search() tests if it succeeded\n",
        "if re.search(r'word: \\w\\w\\w', inputStr):\n",
        "  print ('found', match.group()) ## 'found word:cat'\n",
        "else:\n",
        "  print ('did not find')\n",
        "print (\"Done with the example\")"
      ],
      "execution_count": 17,
      "outputs": [
        {
          "output_type": "stream",
          "name": "stdout",
          "text": [
            "found word: cat\n",
            "Done with the example\n"
          ]
        }
      ]
    },
    {
      "cell_type": "markdown",
      "metadata": {
        "id": "TBwxQCVO4csM"
      },
      "source": [
        "\n",
        "\n",
        "---\n",
        "\n"
      ]
    },
    {
      "cell_type": "markdown",
      "metadata": {
        "id": "WOJRnM0r38sB"
      },
      "source": [
        "See Geeks for Geeks on the use of arguments in the group() function for re.search() at ▶ https://www.geeksforgeeks.org/re-matchobject-group-function-in-python-regex/"
      ]
    },
    {
      "cell_type": "markdown",
      "metadata": {
        "id": "Dv9L7z164UFY"
      },
      "source": [
        "*Here is the example used by Geeks for Geeks*"
      ]
    },
    {
      "cell_type": "code",
      "metadata": {
        "id": "3cJlwMjT4dxl",
        "colab": {
          "base_uri": "https://localhost:8080/"
        },
        "outputId": "0ef9d32d-58ca-4000-d733-8dbb4ba2c2fe"
      },
      "source": [
        "\"\"\"We create a re.MatchObject and store it in\n",
        "   match_object variable\n",
        "   the '()' parenthesis are used to define a\n",
        "   specific group\"\"\"\n",
        " \n",
        "match_object = re.match(r'(\\w+)@(\\w+)\\.(\\w+)', 'username@geekforgeeks.org')\n",
        " \n",
        "\"\"\" w in above pattern stands for alphabetical character\n",
        "    + is used to match a consecutive set of characters\n",
        "    satisfying a given condition\n",
        "    so w+ will match a consecutive set of alphabetical characters\"\"\"\n",
        " \n",
        "# for entire match\n",
        "print(match_object.group())\n",
        "# also print(match_object.group(0)) can be used\n",
        " \n",
        "# for the first parenthesized subgroup\n",
        "print(match_object.group(1))\n",
        " \n",
        "# for the second parenthesized subgroup\n",
        "print(match_object.group(2))\n",
        " \n",
        "# for the third parenthesized subgroup\n",
        "print(match_object.group(3))\n",
        " \n",
        "# for a tuple of all matched subgroups\n",
        "print(match_object.group(1, 2, 3)) \n"
      ],
      "execution_count": 18,
      "outputs": [
        {
          "output_type": "stream",
          "name": "stdout",
          "text": [
            "username@geekforgeeks.org\n",
            "username\n",
            "geekforgeeks\n",
            "org\n",
            "('username', 'geekforgeeks', 'org')\n"
          ]
        }
      ]
    },
    {
      "cell_type": "markdown",
      "metadata": {
        "id": "AIQF2X_64bEm"
      },
      "source": [
        "\n",
        "\n",
        "---\n",
        "\n"
      ]
    },
    {
      "cell_type": "code",
      "metadata": {
        "id": "Oi6e3mO4_brB",
        "colab": {
          "base_uri": "https://localhost:8080/"
        },
        "outputId": "9ef7a06c-0f36-4811-b6c8-3f49c53bd324"
      },
      "source": [
        "inputStr = 'an example word: dog!!'\n",
        "match = re.search(r'word: \\w\\w\\w', inputStr)\n",
        "# If-statement after search() tests if it succeeded\n",
        "if match:\n",
        "  print ('found', match.group()) ## 'found word:cat'\n",
        "else:\n",
        "  print ('did not find')\n",
        "print (\"Done with the example\")"
      ],
      "execution_count": 19,
      "outputs": [
        {
          "output_type": "stream",
          "name": "stdout",
          "text": [
            "found word: dog\n",
            "Done with the example\n"
          ]
        }
      ]
    },
    {
      "cell_type": "code",
      "metadata": {
        "id": "N5HdipxzA_8q",
        "colab": {
          "base_uri": "https://localhost:8080/"
        },
        "outputId": "5937b53b-5175-4c37-a87b-2652f6cf91fb"
      },
      "source": [
        "line = \"Cats are smarter than dogs\"\n",
        "\n",
        "matchObj = re.match( r'(.*) are (.*?) .*', line) # regExs within a regEx\n",
        "\n",
        "if matchObj:\n",
        "   print (\"matchObj.group() : \", matchObj.group(0))\n",
        "   print (\"matchObj.group(0) : \", matchObj.group(0))\n",
        "   print (\"matchObj.group(1) : \", matchObj.group(1))\n",
        "   print (\"matchObj.group(2) : \", matchObj.group(2))\n",
        "else:\n",
        "   print (\"No match!!\")"
      ],
      "execution_count": 20,
      "outputs": [
        {
          "output_type": "stream",
          "name": "stdout",
          "text": [
            "matchObj.group() :  Cats are smarter than dogs\n",
            "matchObj.group(0) :  Cats are smarter than dogs\n",
            "matchObj.group(1) :  Cats\n",
            "matchObj.group(2) :  smarter\n"
          ]
        }
      ]
    },
    {
      "cell_type": "markdown",
      "metadata": {
        "id": "RrlqI5ic756E"
      },
      "source": [
        "### Basic Patterns\n",
        "\n",
        "see [Python Documentation](https://docs.python.org/3/library/re.html)\n",
        "\n",
        "The power of regular expressions is that they can specify patterns, not just fixed characters. Here are the most basic patterns which match single chars:\n",
        "\n",
        "* a, X, 9, < -- ordinary characters just match themselves exactly. The meta-characters which do not match themselves because they have special meanings are: . ^ $ * + ? { [ ] \\ | ( ) (details below)\n",
        "\n",
        "* . (a period) -- matches any single character except newline '\\n'\n",
        "\n",
        "* \\w -- (lowercase w) matches a \"word\" character: a letter or digit or underbar [a-zA-Z0-9_]. Note that although \"word\" is the mnemonic for this, it only matches a single word char, not a whole word. \\W (upper case W) matches any non-word character.\n",
        "\n",
        "* \\b -- boundary between word and non-word\n",
        "\n",
        "* \\s -- (lowercase s) matches a single whitespace character -- space, newline, return, tab, form [ \\n\\r\\t\\f]. \\S (upper case S) matches any non-whitespace character.\n",
        "\n",
        "* \\t, \\n, \\r -- tab, newline, return\n",
        "\n",
        "* \\d -- decimal digit [0-9] (some older regex utilities do not support but \\d, but they all support \\w and \\s)\n",
        "\n",
        "* ^ = start, $ = end -- match the start or end of the string\n",
        "\n",
        "* \\ -- inhibit the \"specialness\" of a character. So, for example, use \\. to match a period or \\\\ to match a slash. If you are unsure if a character has special meaning, such as '@', you can put a slash in front of it, \\@, to make sure it is treated just as a character."
      ]
    },
    {
      "cell_type": "markdown",
      "metadata": {
        "id": "0ovwt0pk8mxV"
      },
      "source": [
        "### Basic Examples\n",
        "\n",
        "\n",
        "The basic rules of regular expression search for a pattern within a string are:\n",
        "\n",
        "* The search proceeds through the string from start to end, stopping at the first match found\n",
        "\n",
        "* All of the pattern must be matched, but not all of the string\n",
        "\n",
        "* If `match = re.search(pat, str)` is successful, match is not `None` and in particular `match.group()` is the matching text"
      ]
    },
    {
      "cell_type": "code",
      "metadata": {
        "id": "wy7UrExh82C7"
      },
      "source": [
        "## Search for pattern 'iii' in string 'piiig'.\n",
        "## All of the pattern must match, but it may appear anywhere.\n",
        "## On success, match.group() is matched text.\n",
        "\n",
        "matched_string = re.search(r'iii', 'piiig')\n",
        "if matched_string:\n",
        "  print ('found, matched_string.group() == \"iii\"')\n",
        "  print (matched_string.group())"
      ],
      "execution_count": null,
      "outputs": []
    },
    {
      "cell_type": "code",
      "metadata": {
        "id": "omfUFmXw-e92"
      },
      "source": [
        "match = re.search(r'igs', 'piiig')\n",
        "if not match:  \n",
        "  print ('not found, match == None')\n",
        "  print (re.search(r'igs', 'piiig'))\n",
        "\n"
      ],
      "execution_count": null,
      "outputs": []
    },
    {
      "cell_type": "code",
      "metadata": {
        "id": "5U4-w19E-gZD"
      },
      "source": [
        "## . = any char but \\n\n",
        "match = re.search(r'..g', 'piiig') \n",
        "if match:\n",
        "  print ('found, match.group() == \"iig\"')\n",
        "  print (match.group())\n",
        "\n",
        "print(\"All done.\")"
      ],
      "execution_count": null,
      "outputs": []
    },
    {
      "cell_type": "code",
      "metadata": {
        "id": "mw6Av_MR-h8b"
      },
      "source": [
        "## \\d = digit char, \\w = word char\n",
        "match = re.search(r'\\d\\d\\d', 'p123g')\n",
        "if match:\n",
        "  print ('found, match.group() == \"123\"')\n",
        "  print (match.group())\n",
        "\n"
      ],
      "execution_count": null,
      "outputs": []
    },
    {
      "cell_type": "code",
      "metadata": {
        "id": "EYlaYcHc-i_L"
      },
      "source": [
        "match = re.search(r'\\w\\w\\w', '@@abcd!!')\n",
        "if match:\n",
        "  print ('found, match.group() == \"abc\"')\n",
        "  print (match.group())"
      ],
      "execution_count": null,
      "outputs": []
    },
    {
      "cell_type": "markdown",
      "metadata": {
        "id": "wXTGhHS4DtMT"
      },
      "source": [
        "### Email Example 1\n",
        "\n",
        "Extract the account name and the domain from the email address\n"
      ]
    },
    {
      "cell_type": "code",
      "metadata": {
        "id": "eIOXAv3UDz0b"
      },
      "source": [
        "email = 'my-email@citytech.edu'\n",
        "\n",
        "# your code here"
      ],
      "execution_count": null,
      "outputs": []
    },
    {
      "cell_type": "markdown",
      "metadata": {
        "id": "9nHpUMglP5v_"
      },
      "source": [
        "### ***don't look here***"
      ]
    },
    {
      "cell_type": "markdown",
      "metadata": {
        "id": "1yuTLA9KP-b0"
      },
      "source": [
        "\n",
        "\n",
        "```\n",
        "# a solution to exercise #1 \n",
        "email_match=re.search(r'\\S+@\\S+', email)\n",
        "print('found email address ' + email_match.group(0))\n",
        "match_list=re.split(r\"@\", email_match.group(0))\n",
        "print('the name and domain are: ', match_list)\n",
        "```\n",
        "\n"
      ]
    },
    {
      "cell_type": "code",
      "metadata": {
        "id": "6Bmjl0kOQvhj"
      },
      "source": [
        ""
      ],
      "execution_count": null,
      "outputs": []
    },
    {
      "cell_type": "markdown",
      "metadata": {
        "id": "sX_ibTqpEUGm"
      },
      "source": [
        "### Email Example 2\n",
        "\n",
        "Suppose you want to find the email address inside the string 'xyz myemail@citytech.edu data  science'. \n",
        "\n",
        "Here's an attempt using the pattern r'\\w+@\\w+':"
      ]
    },
    {
      "cell_type": "code",
      "metadata": {
        "id": "vXQlEEMJEo30"
      },
      "source": [
        "emailText = 'xyz my-email@citytech.edu data science'\n",
        "match = re.search(r'\\w+@\\w+', emailText)\n",
        "if match:\n",
        "  print (match.group())"
      ],
      "execution_count": null,
      "outputs": []
    },
    {
      "cell_type": "markdown",
      "metadata": {
        "id": "6Uaq36yTFH2f"
      },
      "source": [
        "The search does not get the whole email address in this case because the `\\w` does not match the `'-'` or `'.'` in the address. We'll fix this using the regular expression features below.\n",
        "\n",
        "**Square Brackets**\n",
        "\n",
        "Square brackets can be used to indicate a set of chars, so `[abc]` matches `'a'` or `'b'` or `'c'`. The codes `\\w`, `\\s` etc. work inside square brackets too with the one exception that dot (`.`) just means a literal dot. For the emails problem, the square brackets are an easy way to add `'.'` and `'-'` to the set of chars which can appear around the `@` with the pattern `r'[\\w.-]+@[\\w.-]+'` to get the whole email address:"
      ]
    },
    {
      "cell_type": "code",
      "metadata": {
        "id": "sOBiEa0EFhdl"
      },
      "source": [
        "emailText = 'xyz my-email@citytech.edu data science'\n",
        "match = re.search(r'[\\w.-]+@[\\w.-]+', emailText)\n",
        "if match:\n",
        "  print (match.group())"
      ],
      "execution_count": null,
      "outputs": []
    },
    {
      "cell_type": "markdown",
      "metadata": {
        "id": "bOUs28DRFw_k"
      },
      "source": [
        "We will use `group()` function to extract the account name and the domain from the email address\n"
      ]
    },
    {
      "cell_type": "code",
      "metadata": {
        "id": "YxbaItTOF62U"
      },
      "source": [
        "emailText = 'xyz my-email@citytech.edu data science'\n",
        "match = re.search(r'([\\w.-]+)@([\\w.-]+)', emailText)\n",
        "if match:\n",
        "  print (\"email address:\\t\", match.group())\n",
        "  print (\"email account:\\t\", match.group(1))\n",
        "  print (\"email domain:\\t\", match.group(2))"
      ],
      "execution_count": null,
      "outputs": []
    },
    {
      "cell_type": "markdown",
      "metadata": {
        "id": "3KY5kXfVHDCs"
      },
      "source": [
        "### Iteration using regular expressions\n",
        "\n",
        "If we want to extract data from a string in Python we can use the `findall()` or `finditer()` methods to extract all of the substrings which match a regular expression. \n",
        "\n",
        "These two methods produce resutls of different types. \n",
        "\n",
        "Let’s use the example of wanting to extract anything that looks like an email address from any line regardless of format. For example, we want to pull the email addresses from each of the following lines:"
      ]
    },
    {
      "cell_type": "code",
      "metadata": {
        "id": "sZA9bmgTH0zc"
      },
      "source": [
        "emailText = '''xyz my-email@citytech.edu data science or \n",
        "your_email@citytech.edu, also we can mention their.email@citytech.edu'''"
      ],
      "execution_count": null,
      "outputs": []
    },
    {
      "cell_type": "code",
      "metadata": {
        "id": "BuSqSvWZIFhk"
      },
      "source": [
        "match = re.search(r'([\\w.-]+)@([\\w.-]+)', emailText)\n",
        "if match:\n",
        "  print (\"email address:\\t\", match.group())\n",
        "  print (\"email account:\\t\", match.group(1))\n",
        "  print (\"email domain:\\t\", match.group(2))"
      ],
      "execution_count": null,
      "outputs": []
    },
    {
      "cell_type": "code",
      "metadata": {
        "id": "Fo6nki2PIOrr"
      },
      "source": [
        "matches = re.finditer(r'[\\w.-]+@[\\w.-]+', emailText)\n",
        "for match in matches:\n",
        "    print(match.group())"
      ],
      "execution_count": null,
      "outputs": []
    },
    {
      "cell_type": "code",
      "metadata": {
        "id": "5BfpoPMSJYR8"
      },
      "source": [
        "matches = re.finditer(r'([\\w.-]+)@([\\w.-]+)', emailText)\n",
        "for match in matches:\n",
        "    print(match.group(),\"\\t\", match.group(1),\"\\t\", match.group(2))"
      ],
      "execution_count": null,
      "outputs": []
    },
    {
      "cell_type": "code",
      "metadata": {
        "id": "nBwGT4TlKvzH"
      },
      "source": [
        "print (matches)  "
      ],
      "execution_count": null,
      "outputs": []
    },
    {
      "cell_type": "code",
      "metadata": {
        "id": "HJnNIOERJ1_s"
      },
      "source": [
        "matches = re.findall(r'([\\w\\.-]+)@([\\w\\.-]+)', emailText)\n",
        "print (matches)  \n",
        "for match in matches:\n",
        "  print (match[0])  ## username\n",
        "  print (match[1])  ## host"
      ],
      "execution_count": null,
      "outputs": []
    },
    {
      "cell_type": "code",
      "metadata": {
        "id": "s_DEQvNXL56z"
      },
      "source": [
        "matches = re.findall(r'[\\w\\.-]+@[\\w\\.-]+', emailText)\n",
        "print (matches)  \n",
        "for match in matches:\n",
        "  print (match)"
      ],
      "execution_count": null,
      "outputs": []
    },
    {
      "cell_type": "markdown",
      "metadata": {
        "id": "Zy-R_yeOT4YD"
      },
      "source": [
        "\n",
        "\n",
        "---\n",
        "\n"
      ]
    },
    {
      "cell_type": "markdown",
      "metadata": {
        "id": "aWR8uv4XVEiE"
      },
      "source": [
        "Additional reading on an 'almost perfect' regular expression approach to finding email addresses ▶ [Almost Perfect Email Regex](https://emailregex.com/) "
      ]
    },
    {
      "cell_type": "markdown",
      "metadata": {
        "id": "Tq4j2Ad0TWH1"
      },
      "source": [
        "Additional reading on the complexities of thorough regex rules for email addresses ▶ [O'Relly Regular Expressions Cookbook 4.1, Validate Email Addresses](https://www.oreilly.com/library/view/regular-expressions-cookbook/9781449327453/ch04s01.html) by Jan Goyvaerts and Steven Levithan."
      ]
    },
    {
      "cell_type": "markdown",
      "metadata": {
        "id": "Hhpc5YrHTVOD"
      },
      "source": [
        "\n",
        "\n",
        "---\n",
        "\n"
      ]
    },
    {
      "cell_type": "markdown",
      "metadata": {
        "id": "qvPV8WkbLNoz"
      },
      "source": [
        "### Create a variable containing regular expression\n",
        "\n",
        "`re.compile()` method."
      ]
    },
    {
      "cell_type": "code",
      "metadata": {
        "id": "1Qt9zt4WHmZW"
      },
      "source": [
        "# We are looking for binary numbers\n",
        "regex = re.compile(r'[10]+')\n",
        "text = \"asddf1101110100011abd1111panos0000\"\n",
        "matches = regex.finditer(text)\n",
        "for match in matches:\n",
        "    print(match.group())"
      ],
      "execution_count": null,
      "outputs": []
    },
    {
      "cell_type": "code",
      "metadata": {
        "id": "8VSV85viMa79"
      },
      "source": [
        "emailText = '''xyz my-email@citytech.edu data science or \n",
        "your_email@citytech.edu, also we can mention their.email@citytech.edu'''"
      ],
      "execution_count": null,
      "outputs": []
    },
    {
      "cell_type": "code",
      "metadata": {
        "id": "bP7Lv4eRMep1"
      },
      "source": [
        "# We are looking for email addresses\n",
        "regex = re.compile(r'[\\w\\.-]+@[\\w\\.-]+')\n",
        "matches = regex.finditer(emailText)\n",
        "for match in matches:\n",
        "    print(match.group())"
      ],
      "execution_count": null,
      "outputs": []
    },
    {
      "cell_type": "code",
      "metadata": {
        "id": "Vldk9f7JMrsE"
      },
      "source": [
        "# We look for money figures, either integers, or with 1 or 2 decimal\n",
        "# digits\n",
        "regex = re.compile(r'\\$\\d+(\\.\\d\\d?)?')\n",
        "text = '$1200.23 is the price today. $1400 was the price yesterday'\n",
        "matches = regex.finditer(text)\n",
        "for match in matches:\n",
        "    print(match.group())"
      ],
      "execution_count": null,
      "outputs": []
    },
    {
      "cell_type": "code",
      "metadata": {
        "id": "Rh2Mm3Q2MzQW"
      },
      "source": [
        "# This code is going to generate no matches\n",
        "regex = re.compile(r'Ra*nd.*m R[egex]')\n",
        "text = \"CUNY, Citytech, Information and Data Management, my-email@citytech.edu\"\n",
        "matches = regex.finditer(text)\n",
        "for match in matches:\n",
        "    print(match.group())\n",
        "\n",
        "print (\"The end\")"
      ],
      "execution_count": null,
      "outputs": []
    },
    {
      "cell_type": "markdown",
      "metadata": {
        "id": "-2fn-7EQN32V"
      },
      "source": [
        "Regular expressions are typically case-sensitive. "
      ]
    },
    {
      "cell_type": "code",
      "metadata": {
        "id": "oQjelG9xN4nu"
      },
      "source": [
        "# Regular expressions are compiled into pattern objects\n",
        "# Regular expressions are case-sensitive\n",
        "regex = re.compile(r'in.*on')\n",
        "text = \"CUNY, Citytech, Information and Data Management, my-email@citytech.edu\"\n",
        "matches = regex.finditer(text)\n",
        "for match in matches:\n",
        "    print(match.group())\n",
        "    \n",
        "print('The end')"
      ],
      "execution_count": null,
      "outputs": []
    },
    {
      "cell_type": "markdown",
      "metadata": {
        "id": "bs83uPtYONxr"
      },
      "source": [
        "But we can specify that they are case-insensitive, using the flag re.IGNORECASE"
      ]
    },
    {
      "cell_type": "code",
      "metadata": {
        "id": "LzkhDrbxOORo"
      },
      "source": [
        "# Unless we specify that they are case-insensitive, using the flag re.IGNORECASE\n",
        "regex = re.compile('in.*on',re.IGNORECASE)\n",
        "text = \"CUNY, Citytech, Information and Data Management, my-email@citytech.edu\"\n",
        "matches = regex.finditer(text)\n",
        "for match in matches:\n",
        "    print(match.group())\n",
        "    \n",
        "print('The end')"
      ],
      "execution_count": null,
      "outputs": []
    },
    {
      "cell_type": "markdown",
      "metadata": {
        "id": "i3DRYsWSPANf"
      },
      "source": [
        "### Greedy vs. Non-Greedy\n",
        "\n",
        "Suppose you have text with tags in it: `<b>foo</b> and <i>so on</i>`\n",
        "\n",
        "Suppose you are trying to match each tag with the pattern '(<.*>)' -- what does it match first?\n",
        "\n"
      ]
    },
    {
      "cell_type": "code",
      "metadata": {
        "id": "8Nsr845IPPCX"
      },
      "source": [
        "text = \"<b>foo</b> and <i>so on</i>\"\n",
        "regex = re.compile(r'(<.*>)')\n",
        "match = regex.search(text)\n",
        "print (match.group())\n",
        "\n",
        "print('The end')"
      ],
      "execution_count": null,
      "outputs": []
    },
    {
      "cell_type": "markdown",
      "metadata": {
        "id": "0htAJHaNPOTe"
      },
      "source": [
        "\n",
        "\n",
        "The result is a little surprising, but the greedy aspect of the `.*` causes it to match the whole `<b>foo</b> and <i>so on</i>` as one big match. The problem is that the `.*` goes as far as is it can, instead of stopping at the first `>` (aka it is \"greedy\").\n",
        "\n",
        "There is an extension to regular expression where you add a `?` at the end, such as `.*?` or `.+?`, changing them to be non-greedy. Now they stop as soon as they can. So the pattern `'(<.*?>)'` will get just `'<b>'` as the first match, and `'</b>'` as the second match, and so on getting each <..> pair in turn. The style is typically that you use a `.*?`, and then immediately its right look for some concrete marker (> in this case) that forces the end of the `.*?` run.\n",
        "\n"
      ]
    },
    {
      "cell_type": "code",
      "metadata": {
        "id": "2JgchHdgQBZV"
      },
      "source": [
        "text = \"<b>foo</b> and <i>so on</i>\"\n",
        "regex = re.compile(r'(<.?>)')\n",
        "match = regex.search(text)\n",
        "print (match.group())\n",
        "\n",
        "print('The end')"
      ],
      "execution_count": null,
      "outputs": []
    },
    {
      "cell_type": "code",
      "metadata": {
        "id": "B2Tgx8slQcC7"
      },
      "source": [
        "text = \"<b>foo</b> and <i>so on</i>\"\n",
        "regex = re.compile(r'(<.?>)')\n",
        "matches = regex.finditer(text)\n",
        "for match in matches:\n",
        "    print(match.group())\n",
        "\n",
        "print('The end')"
      ],
      "execution_count": null,
      "outputs": []
    },
    {
      "cell_type": "code",
      "metadata": {
        "id": "MtCUEs2tQnSV"
      },
      "source": [
        "text = \"<b>foo</b> and <i>so on</i>\"\n",
        "regex = re.compile(r'(<.+?>)')\n",
        "matches = regex.finditer(text)\n",
        "for match in matches:\n",
        "    print(match.group())\n",
        "\n",
        "print('The end')"
      ],
      "execution_count": null,
      "outputs": []
    },
    {
      "cell_type": "markdown",
      "metadata": {
        "id": "PAG0l22y-IQ3"
      },
      "source": [
        "\n",
        "\n",
        "---\n",
        "\n"
      ]
    },
    {
      "cell_type": "markdown",
      "metadata": {
        "id": "0iydTuaGQIff"
      },
      "source": [
        "## Regular Expression Functions"
      ]
    },
    {
      "cell_type": "markdown",
      "metadata": {
        "id": "CH3R8eSqmcHm"
      },
      "source": [
        "### Analyzing\n",
        "\n",
        "* `.match()`\n",
        "* `.search()`\n",
        "* `.finditer()`\n",
        "* `.findall()`\n",
        "* `.compile()`\n",
        "\n",
        "[https://docs.python.org/3/library/re.html](https://docs.python.org/3/library/re.html)\n",
        "\n",
        "Let me separate these functions into three groups: \n",
        "1. `.compile()`\n",
        "2. `.finditer()`, `.findall()`\n",
        "3. `.match()`, `.search()`\n"
      ]
    },
    {
      "cell_type": "markdown",
      "metadata": {
        "id": "CMBvZfaI0rrI"
      },
      "source": [
        "# 1. `re.compile()`"
      ]
    },
    {
      "cell_type": "markdown",
      "metadata": {
        "id": "FA5hhPSE0k3h"
      },
      "source": [
        "## Regular expression compilation\n",
        "\n",
        "Regular expression compilation produces a Python object that can be used to do all sort of regular expression operations. What is the benefit of that as long as we can use `re.match` and `re.search` directly? This technique is convenient in case we want to use a regular expression more than once. It makes our code efficient and more readable."
      ]
    },
    {
      "cell_type": "markdown",
      "metadata": {
        "id": "Q9473vr9ulue"
      },
      "source": [
        "### `re.compile(pattern, flags=0)`\n",
        "\n",
        "Compile a regular expression pattern into a regular expression object, which can be used for matching using its `match()`, `search()` and other methods.\n"
      ]
    },
    {
      "cell_type": "markdown",
      "metadata": {
        "id": "Ok50l3tBut3p"
      },
      "source": [
        "This sequence"
      ]
    },
    {
      "cell_type": "code",
      "metadata": {
        "id": "U18fGIBzulHM"
      },
      "source": [
        "inStr = 'This is my 123 example string'\n",
        "prog = re.compile(r'\\d+')\n",
        "result = prog.search(inStr)\n",
        "result"
      ],
      "execution_count": null,
      "outputs": []
    },
    {
      "cell_type": "markdown",
      "metadata": {
        "id": "jTUkorhlvI2i"
      },
      "source": [
        "is equivalent to"
      ]
    },
    {
      "cell_type": "code",
      "metadata": {
        "id": "HzvtP8zuvJ1R"
      },
      "source": [
        "result = re.search(r'\\d+', inStr)\n",
        "result"
      ],
      "execution_count": null,
      "outputs": []
    },
    {
      "cell_type": "markdown",
      "metadata": {
        "id": "PoDqB-suvSuq"
      },
      "source": [
        "By using `re.compile()` and saving the resulting regular expression object for reuse you can make your code more efficient when the expression will be used several times in a single program."
      ]
    },
    {
      "cell_type": "markdown",
      "metadata": {
        "id": "K_skVuSN0yX6"
      },
      "source": [
        "# 2. `re.finditer()`, `re.findall()`"
      ]
    },
    {
      "cell_type": "markdown",
      "metadata": {
        "id": "bl5llsl1vtpq"
      },
      "source": [
        "## `.finditer()` VS `.findall()`\n",
        "\n",
        "* `.findall()` returns a **list** of all matches of a regex in a string.\n",
        "* `.finditer()` returns an iterator that yields regex matches.\n",
        "\n",
        "https://realpython.com/regex-python/\n",
        "\n",
        "https://realpython.com/regex-python-part-2/\n",
        "\n",
        "https://www.8bitavenue.com/difference-between-re-search-and-re-match-in-python/"
      ]
    },
    {
      "cell_type": "markdown",
      "metadata": {
        "id": "_mJASvSowOeo"
      },
      "source": [
        "`re.findall(<regex>, <string>)` returns a list of all non-overlapping matches of `<regex>` in `<string>`. It scans the search string from left to right and returns all matches in the order found:"
      ]
    },
    {
      "cell_type": "code",
      "metadata": {
        "id": "Vwnf2o3awM-q"
      },
      "source": [
        "re.findall(r'#(\\w+)#', '#foo#.#bar#.#baz#')"
      ],
      "execution_count": null,
      "outputs": []
    },
    {
      "cell_type": "markdown",
      "metadata": {
        "id": "7wVRRzgfwhsB"
      },
      "source": [
        "In this case, the specified regex is `#(\\w+)#`. The matching strings are `'#foo#'`, `'#bar#'`, and `'#baz#'`. But the hash (`#`) characters don’t appear in the return list because they’re outside the grouping parentheses.\n",
        "\n",
        "If `<regex>` contains more than one capturing group, then `re.findall()` returns a list of tuples containing the captured groups. The length of each tuple is equal to the number of groups specified:"
      ]
    },
    {
      "cell_type": "code",
      "metadata": {
        "id": "C-lRBhI9wtkp"
      },
      "source": [
        "re.findall(r'(\\w+),(\\w+)', 'foo,bar,baz,qux,quux,corge')"
      ],
      "execution_count": null,
      "outputs": []
    },
    {
      "cell_type": "code",
      "metadata": {
        "id": "y4bh8fYbwtrh"
      },
      "source": [
        "re.findall(r'(\\w+),(\\w+),(\\w+)', 'foo,bar,baz,qux,quux,corge')"
      ],
      "execution_count": null,
      "outputs": []
    },
    {
      "cell_type": "markdown",
      "metadata": {
        "id": "aUSkRmG2w9YT"
      },
      "source": [
        "`re.finditer(<regex>, <string>)` scans `<string>` for non-overlapping matches of `<regex>` and returns an iterator that yields the match objects from any it finds. It scans the search string from left to right and returns matches in the order it finds them:"
      ]
    },
    {
      "cell_type": "code",
      "metadata": {
        "id": "qaAC7w5ExD7y"
      },
      "source": [
        "it = re.finditer(r'\\w+', '...foo,,,,bar:%$baz//|')\n",
        "it"
      ],
      "execution_count": null,
      "outputs": []
    },
    {
      "cell_type": "code",
      "metadata": {
        "id": "EQyoAGdCxKQR"
      },
      "source": [
        "for i in re.finditer(r'\\w+', '...foo,,,,bar:%$baz//|'):\n",
        "  print(i.group())"
      ],
      "execution_count": null,
      "outputs": []
    },
    {
      "cell_type": "markdown",
      "metadata": {
        "id": "v6eCGt8_xW3Y"
      },
      "source": [
        "`re.findall()` and `re.finditer()` are very similar, but they differ in two respects:\n",
        "\n",
        "1. `re.findall()` returns a **list**, whereas `re.finditer()` returns an **iterator**.\n",
        "\n",
        "The items in the list that `re.findall()` returns are the actual matching strings, whereas the items yielded by the iterator that `re.finditer()` returns are match objects.\n",
        "\n",
        "Any task that you could accomplish with one, you could probably also manage with the other. Which one you choose will depend on the circumstances. However, a lot of useful information can be obtained from a match object. If you need that information, then `re.finditer()` will probably be the better choice. For example, you can use the `.group()` method to return Match object."
      ]
    },
    {
      "cell_type": "markdown",
      "metadata": {
        "id": "dwQIPGaR1k8Y"
      },
      "source": [
        "## Match objects\n",
        "\n",
        "If a match is found when using `re.finditer()`, `re.match` or `re.search`, we can use some useful methods provided by the match object. Here is a short list of such methods, you may check the reference section for more details…\n",
        "\n",
        "* `group()` returns the part of the string matched by the entire regular expression\n",
        "* `group(1)` returns the text matched by the second capturing group\n",
        "* `start()` and `end()` return the indices of the start and end of the substring matched by the capturing group."
      ]
    },
    {
      "cell_type": "markdown",
      "metadata": {
        "id": "WkAB3LTD04aZ"
      },
      "source": [
        "# 3. `re.match()`, `re.search()`"
      ]
    },
    {
      "cell_type": "markdown",
      "metadata": {
        "id": "H7RAlurEymnz"
      },
      "source": [
        "### .match() VS .search()\n",
        "\n",
        "This is the trickiest part. A good explanation is provided in this tutorial: https://www.8bitavenue.com/difference-between-re-search-and-re-match-in-python/ which is paraphrased here.\n",
        "\n",
        "Additional information can also be found at ▶\n",
        "\n",
        "https://realpython.com/regex-python/\n",
        "\n",
        "https://realpython.com/regex-python-part-2/\n",
        "\n"
      ]
    },
    {
      "cell_type": "markdown",
      "metadata": {
        "id": "S6O9JkmGzUik"
      },
      "source": [
        "When searching or matching, regular expression operations can take optional flags or modifiers. The following two modifiers are the most used ones…\n",
        "\n",
        "* `re.M multiline`\n",
        "* `re.I ignore case`"
      ]
    },
    {
      "cell_type": "markdown",
      "metadata": {
        "id": "u4wv04VDz7T5"
      },
      "source": [
        "## .match()\n",
        "\n",
        "`re.match` matches an expression at the beginning of a string. If a match is found, a match object is returned, otherwise `None` is returned. If the input is a multiline string (i.e. starts and ends with three double quotes) that does not change the behavior of the match operation. `re.match` always tries to match the beginning of the string. In regular expressions syntax, the control character (^) is used to match the beginning of a string. If this character is used with re.match, it has no effect. The syntax for `re.match` operation is as follows…\n",
        "\n"
      ]
    },
    {
      "cell_type": "markdown",
      "metadata": {
        "id": "SGnNFm3-zmGh"
      },
      "source": [
        "`mobj = re.match(pat, str, flag)`\n",
        "\n",
        "* pat: regular expression pattern to match\n",
        "* str: string in which to search for the pattern\n",
        "* flags: one or more modifiers, for example re.M|re.I"
      ]
    },
    {
      "cell_type": "markdown",
      "metadata": {
        "id": "ZP9xW7SU1N0h"
      },
      "source": [
        "### `.match(pattern, string, flags=0)`\n",
        "\n",
        "Looks for a regex match at the beginning of a string.\n",
        "\n",
        "If zero or more characters at the beginning of *string* match the regular expression *pattern*, return a corresponding match object. Return `None` if the string does not match the pattern; note that this is different from a zero-length match.\n",
        "\n",
        "This is identical to `re.search()`, except that `re.search()` returns a match if the regular expression *pattern* matches anywhere in *string*, whereas `re.match()` returns a match only if the regular expression *pattern* matches at the beginning of *string*."
      ]
    },
    {
      "cell_type": "markdown",
      "metadata": {
        "id": "6nVQbwzm0K2J"
      },
      "source": [
        "## .search()\n",
        "\n",
        "`re.search` attempts to find the first occurrence of the pattern anywhere in the input string as opposed to the beginning. If the search is successful, `re.search` returns a match object, otherwise it returns `None`. The syntax for re.search operation is as follows…"
      ]
    },
    {
      "cell_type": "markdown",
      "metadata": {
        "id": "K8FxcVyzzvyp"
      },
      "source": [
        "`mobj = re.search(pat, str, flag)`\n",
        "\n",
        "* pat: regular expression pattern to search for\n",
        "* str: string in which to search for the pattern\n",
        "* flags: one or more modifiers, for example re.M|re.I"
      ]
    },
    {
      "cell_type": "markdown",
      "metadata": {
        "id": "95Sya9XM1IQ5"
      },
      "source": [
        "### `.search(pattern, string, flags=0)`\n",
        "\n",
        "Scans a string for a regex match.\n",
        "\n",
        "Scan through *string* looking for the **first** location where the regular expression *pattern* produces a match, and return a corresponding match object. Return `None` if no position in the string matches the pattern.\n",
        "\n",
        "\n",
        "You can use this function in a Boolean context like a conditional statement that checkes if a pattern is found in the input string (`True`) or not (`False`)."
      ]
    },
    {
      "cell_type": "markdown",
      "metadata": {
        "id": "-ZzlwiubQvsG"
      },
      "source": [
        "### Substitution \n",
        "\n",
        "The `re.sub(pat, replacement, str)` function searches for all the instances of pattern in the given string, and replaces them. The replacement string can include `'\\1'`, `'\\2'` which refer to the text from `group(1)`, `group(2)`, and so on from the original matching text.\n",
        "\n",
        "Here's an example which searches for all the email addresses, and changes them to keep the user `(\\1)` but have `nyc.gov` as the host."
      ]
    },
    {
      "cell_type": "code",
      "metadata": {
        "id": "g2SL4hCNRAee"
      },
      "source": [
        "text = '''xyz my-email@citytech.edu data science or \n",
        "your_email@citytech.edu, also we can mention their.email@citytech.edu'''\n",
        "## re.sub(pat, replacement, str) -- returns new string with all replacements,\n",
        "## \\1 is group(1), \\2 group(2) in the replacement\n",
        "print (re.sub(r'([\\w\\.-]+)@([\\w\\.-]+)', r'\\1@nyc.gov', text))\n"
      ],
      "execution_count": null,
      "outputs": []
    },
    {
      "cell_type": "markdown",
      "metadata": {
        "id": "dB9dAxl_64_Q"
      },
      "source": [
        "\n",
        "\n",
        "---\n",
        "\n"
      ]
    },
    {
      "cell_type": "markdown",
      "metadata": {
        "id": "ZIs2W3Y666Uf"
      },
      "source": [
        "Another explanation of the basics of regular expressions with examples of different functions and their uses as well as descriptions of pattern-matching can be found at Geeks for Geeks post on Regular Expressions for Python here ▶ https://www.geeksforgeeks.org/regular-expression-python-examples-set-1/"
      ]
    },
    {
      "cell_type": "markdown",
      "metadata": {
        "id": "tkYUWY4b64Ku"
      },
      "source": [
        "\n",
        "\n",
        "---\n",
        "\n"
      ]
    },
    {
      "cell_type": "markdown",
      "metadata": {
        "id": "g8OL7Qq0SPl7"
      },
      "source": [
        "### CST2312 - Homework Assignment 6.1\n",
        "\n",
        "Imagine we want to conceal all phone numbers in a document.\n",
        "Read the below multiline string and substitute all phone numbers with \n",
        "\n",
        "'XXX-XXX-XXXX'"
      ]
    },
    {
      "cell_type": "code",
      "metadata": {
        "id": "hcUe9JdTSmT1"
      },
      "source": [
        "raw_text = \"\"\"512-234-5234\n",
        "foo\n",
        "bar\n",
        "124-512-5555\n",
        "biz\n",
        "125-555-5785\n",
        "679-397-5255\n",
        "2126660921\n",
        "212-998-0902\n",
        "888-888-2222\n",
        "801-555-1211\n",
        "802 555 1212\n",
        "803.555.1213\n",
        "(804) 555-1214\n",
        "1-805-555-1215\n",
        "1(806)555-1216\n",
        "807-555-1217-1234\n",
        "808-555-1218x1234\n",
        "809-555-1219 ext. 1234\n",
        "work 1-(810) 555.1220 #1234\n",
        "\"\"\""
      ],
      "execution_count": null,
      "outputs": []
    },
    {
      "cell_type": "markdown",
      "metadata": {
        "id": "pmWzw10LSqf8"
      },
      "source": [
        "### Solution for Assignment 6.1"
      ]
    },
    {
      "cell_type": "code",
      "metadata": {
        "id": "H_qzFur0SsOe"
      },
      "source": [
        "## your solution here"
      ],
      "execution_count": null,
      "outputs": []
    },
    {
      "cell_type": "markdown",
      "metadata": {
        "id": "4r0_zm3Kcsnl"
      },
      "source": [
        "*solution provided after assignments are submitted*"
      ]
    },
    {
      "cell_type": "markdown",
      "metadata": {
        "id": "6ioYbAlua1Ul"
      },
      "source": [
        "\n",
        "\n",
        "---\n",
        "\n"
      ]
    },
    {
      "cell_type": "markdown",
      "metadata": {
        "id": "t59IHzLHaUfK"
      },
      "source": [
        "# **Web APIs**"
      ]
    },
    {
      "cell_type": "markdown",
      "metadata": {
        "id": "2wgLycGMses1"
      },
      "source": [
        "\n",
        "\n",
        "---\n",
        "\n"
      ]
    },
    {
      "cell_type": "markdown",
      "metadata": {
        "id": "A-1M7TtWi3zZ"
      },
      "source": [
        "### **Reading** from the required textbook: ( [https://www.py4e.com/lessons/](https://www.py4e.com/lessons/))\n",
        "\n",
        "* [Web APIs](https://www.py4e.com/lessons/servces) (Chapter 14)"
      ]
    },
    {
      "cell_type": "markdown",
      "metadata": {
        "id": "Nlh32HK45oDw"
      },
      "source": [
        "## Interacting with Web APIs\n",
        "\n"
      ]
    },
    {
      "cell_type": "markdown",
      "metadata": {
        "id": "q4ukP5Z95oDx"
      },
      "source": [
        "We are going to examine now the concept of a Web API. A web API is similar to a function call, but the \"function\" that we call is located in another machine, and we submit the parameters of the function through the web.\n",
        "\n"
      ]
    },
    {
      "cell_type": "markdown",
      "metadata": {
        "id": "eOYdO1hBsgSx"
      },
      "source": [
        "\n",
        "\n",
        "---\n",
        "\n"
      ]
    },
    {
      "cell_type": "markdown",
      "metadata": {
        "id": "Bb_fMB4B5oDy"
      },
      "source": [
        "## First Example: GeoIP resolution"
      ]
    },
    {
      "cell_type": "markdown",
      "metadata": {
        "id": "IvtQkI6J5oDy"
      },
      "source": [
        "We will start with an example that is doing a \"geoIP\" resolution: it takes the IP of a computer and returns back its location.\n",
        "\n",
        "## Students, you will need to get an API here from here: https://ipstack.com/"
      ]
    },
    {
      "cell_type": "code",
      "metadata": {
        "id": "1JNhzmLo5oD2"
      },
      "source": [
        "# We first import the requests library\n",
        "import requests\n",
        "api_key = \"?\"  # replace with ? for general users\n",
        "url = 'http://api.ipstack.com/check?access_key='+api_key\n",
        "resp = requests.get(url)"
      ],
      "execution_count": 33,
      "outputs": []
    },
    {
      "cell_type": "code",
      "metadata": {
        "id": "1oJEpTBB3nAX"
      },
      "source": [
        "print(resp)"
      ],
      "execution_count": null,
      "outputs": []
    },
    {
      "cell_type": "code",
      "metadata": {
        "id": "RBmdw6ae1rAZ"
      },
      "source": [
        "# the straightforward version of the last snippet\n",
        "import requests\n",
        "response = requests.get('http://api.ipstack.com/check?access_key=95b375e4a1fde01c2b4520270c8cdf64')"
      ],
      "execution_count": 31,
      "outputs": []
    },
    {
      "cell_type": "code",
      "metadata": {
        "id": "PLiyFK0-3FFJ"
      },
      "source": [
        "print(response)"
      ],
      "execution_count": null,
      "outputs": []
    },
    {
      "cell_type": "code",
      "metadata": {
        "id": "cBepBZer5oD4"
      },
      "source": [
        "# The resp object encapsulates the \"response\" of the server\n",
        "# Notice the status code that is displayed. \n",
        "# Code 200 means that things went fine\n",
        "# Code 404 means that the URL was not found\n",
        "# Codes 5xx mean that something went wrong\n",
        "resp"
      ],
      "execution_count": null,
      "outputs": []
    },
    {
      "cell_type": "code",
      "metadata": {
        "id": "YFUqUmiI5oD6"
      },
      "source": [
        "if (resp.status_code == 200):\n",
        "    print(\"Everything was ok:\", resp.status_code)\n",
        "else:\n",
        "    print(\"There was a problem:\", resp.status_code)"
      ],
      "execution_count": null,
      "outputs": []
    },
    {
      "cell_type": "code",
      "metadata": {
        "id": "uU9KIJMG5oD9"
      },
      "source": [
        "# Let's see the content of the response\n",
        "# As you can see, it contain the JSON response\n",
        "data = resp.text\n",
        "data"
      ],
      "execution_count": null,
      "outputs": []
    },
    {
      "cell_type": "code",
      "metadata": {
        "id": "_lmUJli55oD_"
      },
      "source": [
        "# We want to transform the JSON file into a Python dictionary object\n",
        "# We use the response.json() command to get back a dictionary\n",
        "data = resp.json()"
      ],
      "execution_count": 37,
      "outputs": []
    },
    {
      "cell_type": "code",
      "metadata": {
        "id": "NHlDhRrg5oEC"
      },
      "source": [
        "# Now data is a Python dictionary\n",
        "data"
      ],
      "execution_count": null,
      "outputs": []
    },
    {
      "cell_type": "code",
      "metadata": {
        "id": "YPvH0mir5oEE"
      },
      "source": [
        "# And we can access the fields of the JSON as we normally access Python dictionary entries\n",
        "print(\"Lon:\", data[\"longitude\"], \"Lat:\", data[\"latitude\"])"
      ],
      "execution_count": null,
      "outputs": []
    },
    {
      "cell_type": "code",
      "metadata": {
        "id": "0gKDg7BH5Uk7"
      },
      "source": [
        "other_data = response.json()"
      ],
      "execution_count": 40,
      "outputs": []
    },
    {
      "cell_type": "code",
      "metadata": {
        "id": "pOXvm2Ey5dZH"
      },
      "source": [
        "other_data"
      ],
      "execution_count": null,
      "outputs": []
    },
    {
      "cell_type": "markdown",
      "metadata": {
        "id": "zUCBtp7i5oEG"
      },
      "source": [
        "And in one piece:"
      ]
    },
    {
      "cell_type": "code",
      "metadata": {
        "id": "pbjZuT8K5oEH"
      },
      "source": [
        "import requests\n",
        "api_key=\"?\"  # replace the ? with your API key\n",
        "url = 'http://api.ipstack.com/check?access_key='+api_key\n",
        "resp = requests.get(url)\n",
        "data = resp.json()\n",
        "print(\"Lon:\", data[\"longitude\"], \"Lat:\", data[\"latitude\"])"
      ],
      "execution_count": null,
      "outputs": []
    },
    {
      "cell_type": "markdown",
      "metadata": {
        "id": "0RsH81Ve5oEJ"
      },
      "source": [
        "## Using Parameters with API Calls\n"
      ]
    },
    {
      "cell_type": "markdown",
      "metadata": {
        "id": "xMIDu1UO5oEK"
      },
      "source": [
        "\n",
        "The first API call that we tried was very simple. We just fetched a URL. Now let's see a URL that accepts as input a set of **parameters**. We have already seen this concept with functions; the parameters of the API calls are the exact equivalent but for Web APIs, which are, at their core, functions that we call over the web. "
      ]
    },
    {
      "cell_type": "markdown",
      "metadata": {
        "id": "GMB-uDOS5oEK"
      },
      "source": [
        "### Example: OpenWeatherMap"
      ]
    },
    {
      "cell_type": "markdown",
      "metadata": {
        "id": "PhGVVXZZ5oEK"
      },
      "source": [
        "Let's try to query OpenWeatherMap now, to get data about the weather. [Documentation](http://openweathermap.org/current#geo). Below you can find the URL that you can copy and paste in your browser, to get the weather for New York. You will notice that it contains parameters as part of the URL, including an `appid` which is a key that is used to limit the number of calls that can be issued by a single application. \n",
        "\n",
        "Try the URL in your browser. Also try to change the query parameter `q` and change it from `New%20York,NY` to something different. (Note: The `%20` is a transformation for the space (` `) character in URLs.)\n",
        "\n",
        "## Students, you will need to get an API key from here: https://openweathermap.org/price"
      ]
    },
    {
      "cell_type": "markdown",
      "metadata": {
        "id": "eixD0Nt15oEL"
      },
      "source": [
        "Below you can find the same code, but now we have a Python dictionary to organize and list the parameters."
      ]
    },
    {
      "cell_type": "code",
      "metadata": {
        "id": "WV29M-qn5oEM"
      },
      "source": [
        "import requests\n",
        "\n",
        "openweathermap_url = \"http://api.openweathermap.org/data/2.5/weather\"\n",
        "parameters = {\n",
        "    'q'     : 'New York, NY, USA',\n",
        "    'units' : 'metric',\n",
        "    'mode'  : 'json',\n",
        "    'appid' : API_key\n",
        "}\n",
        "resp = requests.get(openweathermap_url, params=parameters)\n",
        "data = resp.json()\n",
        "data"
      ],
      "execution_count": null,
      "outputs": []
    },
    {
      "cell_type": "code",
      "metadata": {
        "id": "1N3YVzrr0u3y"
      },
      "source": [
        "resp = requests.get(\"http://api.openweathermap.org/data/2.5/weather?q=New%20York,NY,USA&units=imperial&mode=json&appid=\"+API_key\")\n",
        "data = resp.json()\n",
        "data"
      ],
      "execution_count": null,
      "outputs": []
    },
    {
      "cell_type": "markdown",
      "metadata": {
        "id": "Z9dRT8qD5oEO"
      },
      "source": [
        "### CST2312 - Homework Assignment 6.2"
      ]
    },
    {
      "cell_type": "markdown",
      "metadata": {
        "id": "ekPCIVjw5oEP"
      },
      "source": [
        "\n",
        "a. Extract the current temperature from the returned JSON response.\n"
      ]
    },
    {
      "cell_type": "code",
      "metadata": {
        "id": "SY28R1Y75oEP"
      },
      "source": [
        "# your code here\n",
        "data['main']['feels_like'] "
      ],
      "execution_count": null,
      "outputs": []
    },
    {
      "cell_type": "markdown",
      "metadata": {
        "id": "nfwlbmry5oES"
      },
      "source": [
        "b. Extract the description of the current weather"
      ]
    },
    {
      "cell_type": "code",
      "metadata": {
        "id": "Vbdw_5P45oES"
      },
      "source": [
        "# your code here\n",
        "data['weather'][0]['description']"
      ],
      "execution_count": null,
      "outputs": []
    },
    {
      "cell_type": "markdown",
      "metadata": {
        "id": "_sawiHGJ5oEU"
      },
      "source": [
        "c. Try to change the units to `metric` and repeat\n"
      ]
    },
    {
      "cell_type": "code",
      "metadata": {
        "id": "rqf09h-45oEV"
      },
      "source": [
        "# your code here"
      ],
      "execution_count": null,
      "outputs": []
    },
    {
      "cell_type": "markdown",
      "metadata": {
        "id": "PGfhbHOx5oEX"
      },
      "source": [
        "d. Get the weather for San Francisco, CA\n",
        "\n"
      ]
    },
    {
      "cell_type": "markdown",
      "metadata": {
        "solution2": "hidden",
        "solution2_first": true,
        "id": "T86ZQN7_5oEa"
      },
      "source": [
        "### Solution for Assignment 6.2"
      ]
    },
    {
      "cell_type": "code",
      "metadata": {
        "id": "l3dE9net5oEY"
      },
      "source": [
        "# your code here"
      ],
      "execution_count": null,
      "outputs": []
    },
    {
      "cell_type": "markdown",
      "metadata": {
        "id": "BUi_PTUjs55i"
      },
      "source": [
        "*solution provided after assignments are submitted*"
      ]
    },
    {
      "cell_type": "markdown",
      "metadata": {
        "id": "WPeS6UP75oEi"
      },
      "source": [
        "### CST2312 - Homework Assignment 6.3\n"
      ]
    },
    {
      "cell_type": "markdown",
      "metadata": {
        "id": "1XrRy0Nm5oEj"
      },
      "source": [
        "* Study the documentation of the API ([Documentation](http://openweathermap.org/current#geo)). Change the API call to use the longitute and latitude."
      ]
    },
    {
      "cell_type": "markdown",
      "metadata": {
        "solution2": "hidden",
        "solution2_first": true,
        "id": "60HrzpCx5oEl"
      },
      "source": [
        "### Solution for Assignment 6.3"
      ]
    },
    {
      "cell_type": "code",
      "metadata": {
        "id": "9GnrllAp5oEj"
      },
      "source": [
        "# your code here"
      ],
      "execution_count": null,
      "outputs": []
    },
    {
      "cell_type": "markdown",
      "metadata": {
        "id": "5iiH3mDDtE9r"
      },
      "source": [
        "*solution provided after assignments are submitted*"
      ]
    },
    {
      "cell_type": "markdown",
      "metadata": {
        "id": "eqp-2T7M5oEn"
      },
      "source": [
        "### CST2312 - Homework Assignment 6.4\n",
        "\n"
      ]
    },
    {
      "cell_type": "markdown",
      "metadata": {
        "id": "kjTTJcSi5oEo"
      },
      "source": [
        "Read the location of your computer using the GeoIP API. Then use the OpenWeatherMap to query the API and fetch the temperature for the location returned by the GeoIP API. For this exercise, you will need to learn to read variables from a Web API (geoip) and use them as input in another (openweathermap)"
      ]
    },
    {
      "cell_type": "markdown",
      "metadata": {
        "solution2": "hidden",
        "solution2_first": true,
        "id": "-FoO_rKL5oEr"
      },
      "source": [
        "### Solution for Assignment 6.4"
      ]
    },
    {
      "cell_type": "code",
      "metadata": {
        "id": "h4NRMpCm5oEo"
      },
      "source": [
        "#your code here"
      ],
      "execution_count": null,
      "outputs": []
    },
    {
      "cell_type": "markdown",
      "metadata": {
        "id": "jTUpljI2tHnf"
      },
      "source": [
        "*solution provided after assignments are submitted*\n"
      ]
    },
    {
      "cell_type": "markdown",
      "metadata": {
        "id": "CPksCu_htJPE"
      },
      "source": [
        "\n",
        "\n",
        "---\n",
        "\n"
      ]
    },
    {
      "cell_type": "markdown",
      "metadata": {
        "id": "3npHRrrxtKf-"
      },
      "source": [
        "*Submit your solutions to the assignment on BlackBoard.  Please download your entire Colab notebook and submit the file downloaded.  The assignment on blackboard will have more details. Please be sure to successfully complete each of assignments 6.1, 6.2, 6.3, and 6.4.*"
      ]
    },
    {
      "cell_type": "markdown",
      "metadata": {
        "id": "_LoLDugAtdq_"
      },
      "source": [
        "\n",
        "\n",
        "---\n",
        "\n"
      ]
    }
  ]
}