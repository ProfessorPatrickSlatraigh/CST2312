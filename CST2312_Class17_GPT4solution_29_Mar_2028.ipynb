{
  "nbformat": 4,
  "nbformat_minor": 0,
  "metadata": {
    "colab": {
      "provenance": []
    },
    "kernelspec": {
      "name": "python3",
      "display_name": "Python 3"
    },
    "language_info": {
      "name": "python"
    }
  },
  "cells": [
    {
      "cell_type": "code",
      "source": [
        "# run this cell to ensure that nbformat, nbconvert are current for syncing with GitHub   \n",
        "!pip install --upgrade nbformat nbconvert\n"
      ],
      "metadata": {
        "id": "3hWxapYxghOd"
      },
      "execution_count": null,
      "outputs": []
    },
    {
      "cell_type": "markdown",
      "source": [
        "#CST2312 Class 17    \n",
        "<b>Conceal Phone Numbers Assignment     \n",
        "[GPT4 Solution](https://chat.openai.com/chat?model=gpt-4)</b>    \n",
        "    \n",
        "*The information and explanations in this notebook were provided by OpenAI's GPT-4 AI language model.*    \n",
        "   \n",
        "with Professor Patrick on 28-Mar-2023    "
      ],
      "metadata": {
        "id": "fK79NWj55hbt"
      }
    },
    {
      "cell_type": "markdown",
      "source": [
        "<h3><center><u>Abstract</u></center></h3> \n",
        "\n",
        "This notebook provides a dialog with the GPT4 model from Open AI in the development of a solution to a **Regular Expressions** (`regex`) assignment that was given to students in a university data science class.  The assignment was to take a long string of text that included phone numbers in various formats and to mask any phone number details using **Regular Expressions**.     \n",
        "\n",
        "The dialog with the model is presented chronologically with sections separated between requests from Professor Patrick and response from GPT4.    \n",
        "\n",
        "Outline for the dialog:\n",
        "1. Problem Presentation\n",
        "2. Initial Solution\n",
        "3. Error Resolution\n",
        "4. Final Solution\n",
        "5. `regex` Pattern Components     \n",
        "6. Reference Sources\n",
        "7. Wrap-up    \n",
        "    \n",
        "\n"
      ],
      "metadata": {
        "id": "Yt5SwL40EvPt"
      }
    },
    {
      "cell_type": "markdown",
      "source": [
        "\n",
        "\n",
        "---\n",
        "\n"
      ],
      "metadata": {
        "id": "vURQ7kvBL3Dr"
      }
    },
    {
      "cell_type": "markdown",
      "source": [
        "##1. Problem Presentation    \n"
      ],
      "metadata": {
        "id": "fxQTK14qL4ps"
      }
    },
    {
      "cell_type": "markdown",
      "source": [
        "#####<u>Prof Patrick request</u>    "
      ],
      "metadata": {
        "id": "NQ-0Litl58w4"
      }
    },
    {
      "cell_type": "markdown",
      "source": [
        "Write a Python script that uses `regular expressions` (`regex`) to conceal all phone numbers in a docstring. Read the below multiline docstring and substitute all phone numbers with `XXX-XXX-XXXX`; that is three X's, a hyphen, three X's, a hyphen, and four X's.   "
      ],
      "metadata": {
        "id": "wjlJukQb6B-K"
      }
    },
    {
      "cell_type": "markdown",
      "source": [
        "\n",
        "```\n",
        "docstring_text = \"\"\"512-234-5234\n",
        "foo\n",
        "bar\n",
        "124-512-5555\n",
        "biz\n",
        "125-555-5785\n",
        "679-397-5255\n",
        "2126660921\n",
        "212-998-0902\n",
        "888-888-2222\n",
        "801-555-1211\n",
        "802 555 1212\n",
        "803.555.1213\n",
        "(804) 555-1214\n",
        "1-805-555-1215\n",
        "1(806)555-1216\n",
        "807-555-1217-1234\n",
        "808-555-1218x1234\n",
        "809-555-1219 ext. 1234\n",
        "work 1-(810) 555.1220 #1234\n",
        "\"\"\"\n",
        "```\n",
        "\n"
      ],
      "metadata": {
        "id": "Hr5J1tTk6Qdh"
      }
    },
    {
      "cell_type": "markdown",
      "source": [
        "\n",
        "\n",
        "---\n",
        "\n"
      ],
      "metadata": {
        "id": "H25xoyZmN03i"
      }
    },
    {
      "cell_type": "markdown",
      "source": [
        "##2. Initial Solution    "
      ],
      "metadata": {
        "id": "gEaqoqFgM8ro"
      }
    },
    {
      "cell_type": "markdown",
      "source": [
        "#####<u>GPT4 response</u>    "
      ],
      "metadata": {
        "id": "ZsoD-Y_06YR9"
      }
    },
    {
      "cell_type": "code",
      "source": [
        "import re\n",
        "\n",
        "def conceal_phone_numbers(docstring_text):\n",
        "# Match different phone number formats\n",
        "    phone_regex = re.compile(r'(\\d{1,2}\\s*[-.]?\\s*)?(?\\d3?\\d3?[-.\\s]?)\\d{3}[-.]?\\d{4}(\\s*(ext|x|X|EXT|#).?\\s*\\d{1,5})?')"
      ],
      "metadata": {
        "id": "bDZj_wWF0ajj"
      },
      "execution_count": null,
      "outputs": []
    },
    {
      "cell_type": "code",
      "source": [
        "docstring_text = \"\"\"512-234-5234\n",
        "foo\n",
        "bar\n",
        "124-512-5555\n",
        "biz\n",
        "125-555-5785\n",
        "679-397-5255\n",
        "2126660921\n",
        "212-998-0902\n",
        "888-888-2222\n",
        "801-555-1211\n",
        "802 555 1212\n",
        "803.555.1213\n",
        "(804) 555-1214\n",
        "1-805-555-1215\n",
        "1(806)555-1216\n",
        "807-555-1217-1234\n",
        "808-555-1218x1234\n",
        "809-555-1219 ext. 1234\n",
        "work 1-(810) 555.1220 #1234\n",
        "\"\"\"\n"
      ],
      "metadata": {
        "id": "RfGT5prj7zwR"
      },
      "execution_count": null,
      "outputs": []
    },
    {
      "cell_type": "code",
      "source": [
        "concealed_docstring = conceal_phone_numbers(docstring_text)"
      ],
      "metadata": {
        "id": "QPp7fOCS7_qu"
      },
      "execution_count": null,
      "outputs": []
    },
    {
      "cell_type": "markdown",
      "source": [
        "*The statement above blows up with an error message.*  \n",
        "\n",
        "*In the following cell, I peek at the characters in positions 20 through 29 of the `regex` pattern to investigate the error.*    "
      ],
      "metadata": {
        "id": "iWvXnDb0NKCY"
      }
    },
    {
      "cell_type": "code",
      "source": [
        "peek_rstr = r'(\\d{1,2}\\s*[-.]?\\s*)?(?\\d3?\\d3?[-.\\s]?)\\d{3}[-.]?\\d{4}(\\s*(ext|x|X|EXT|#).?\\s*\\d{1,5})?'\n",
        "print(peek_rstr[20:30],'\\n^^^^^^^^^^','\\n0123456789')"
      ],
      "metadata": {
        "id": "Big5iDaM99pr"
      },
      "execution_count": null,
      "outputs": []
    },
    {
      "cell_type": "markdown",
      "source": [
        "*Because of the error, the following line of code from `GPT4` was not executed:*    \n",
        "\n",
        "```\n",
        "print(concealed_docstring)    \n",
        "```    "
      ],
      "metadata": {
        "id": "7b6nYzySNlVG"
      }
    },
    {
      "cell_type": "markdown",
      "source": [
        "\n",
        "\n",
        "---\n",
        "\n"
      ],
      "metadata": {
        "id": "XzrIHwwwNvjM"
      }
    },
    {
      "cell_type": "markdown",
      "source": [
        "##3. Error Resolution    "
      ],
      "metadata": {
        "id": "BSJXLY7zNGLA"
      }
    },
    {
      "cell_type": "markdown",
      "source": [
        "*I decided to tell `GPT4` about the error and to ask it to provide a solution.*  "
      ],
      "metadata": {
        "id": "nZZH1uQMN6Rx"
      }
    },
    {
      "cell_type": "markdown",
      "source": [
        "#####Prof Patrick request"
      ],
      "metadata": {
        "id": "I4GbIislOGGO"
      }
    },
    {
      "cell_type": "markdown",
      "source": [
        "The Python code you provided results in an error when the statement `concealed_docstring = conceal_phone_numbers(docstring_text)` is executed.  Explain the following error message and how to correct the code you provided.  Here is the error message.    \n",
        "\n",
        "\n",
        "\n",
        "```        ---------------------------------------------------------------------------\n",
        "error                                     Traceback (most recent call last)\n",
        "<ipython-input-27-56785831cbf1> in <module>\n",
        "----> 1 concealed_docstring = conceal_phone_numbers(docstring_text)\n",
        "\n",
        "6 frames\n",
        "/usr/lib/python3.9/sre_parse.py in _parse(source, state, verbose, nested, first)\n",
        "    828                     group = None\n",
        "    829                 else:\n",
        "--> 830                     raise source.error(\"unknown extension ?\" + char,\n",
        "    831                                        len(char) + 1)\n",
        "    832 \n",
        "\n",
        "error: unknown extension ?\\d at position 22\n",
        "```    \n",
        "</indent>\n"
      ],
      "metadata": {
        "id": "VvZRVnroOS15"
      }
    },
    {
      "cell_type": "markdown",
      "source": [
        "\n",
        "\n",
        "---\n",
        "\n"
      ],
      "metadata": {
        "id": "TYrU5qLvf49F"
      }
    },
    {
      "cell_type": "markdown",
      "source": [
        "##4. Final Solution     "
      ],
      "metadata": {
        "id": "fScQU9lIPP31"
      }
    },
    {
      "cell_type": "markdown",
      "source": [
        "#####GPT4 response    "
      ],
      "metadata": {
        "id": "qXRSny0TPZTF"
      }
    },
    {
      "cell_type": "markdown",
      "source": [
        "Apologies for the confusion. The error occurs because there is a question mark (?) in the regular expression, which is being misinterpreted as an extension. To fix this issue, I will update the `phone_regex` pattern to properly escape the question mark.    \n",
        "    \n",
        "Here's the corrected code:    "
      ],
      "metadata": {
        "id": "mu0gArBBPb_S"
      }
    },
    {
      "cell_type": "code",
      "source": [
        "import re\n",
        "\n",
        "def conceal_phone_numbers(docstring_text):\n",
        "    # Match different phone number formats\n",
        "    phone_regex = re.compile(r'(\\d{1,2}\\s*[\\-\\.]?\\s*)?(\\(?\\d{3}\\)?[\\-\\.\\s]?)\\d{3}[\\-\\.]?\\d{4}(\\s*(ext|x|X|EXT|#)\\.?\\s*\\d{1,5})?')\n",
        "\n",
        "    # Substitute all phone numbers with 'XXX-XXX-XXXX'\n",
        "    concealed_text = phone_regex.sub('XXX-XXX-XXXX', docstring_text)\n",
        "\n",
        "    return concealed_text\n",
        "\n",
        "docstring_text = \"\"\"512-234-5234\n",
        "foo\n",
        "bar\n",
        "124-512-5555\n",
        "biz\n",
        "125-555-5785\n",
        "679-397-5255\n",
        "2126660921\n",
        "212-998-0902\n",
        "888-888-2222\n",
        "801-555-1211\n",
        "802 555 1212\n",
        "803.555.1213\n",
        "(804) 555-1214\n",
        "1-805-555-1215\n",
        "1(806)555-1216\n",
        "807-555-1217-1234\n",
        "808-555-1218x1234\n",
        "809-555-1219 ext. 1234\n",
        "work 1-(810) 555.1220 #1234\n",
        "\"\"\"\n",
        "\n",
        "concealed_docstring = conceal_phone_numbers(docstring_text)\n",
        "print(concealed_docstring)\n"
      ],
      "metadata": {
        "id": "9kv1JNciRKwR"
      },
      "execution_count": null,
      "outputs": []
    },
    {
      "cell_type": "markdown",
      "source": [
        "Please note that the error message you provided does not match the code I initially provided. The error message suggests there is an unescaped question mark in the regex pattern, which was not present in the initial code. Nonetheless, the corrected code above should work as expected.\n",
        "\n"
      ],
      "metadata": {
        "id": "vr2I5TuzRsWW"
      }
    },
    {
      "cell_type": "markdown",
      "source": [
        "#####Prof Patrick reply"
      ],
      "metadata": {
        "id": "aZiTcQVNTXwD"
      }
    },
    {
      "cell_type": "markdown",
      "source": [
        "Thank you."
      ],
      "metadata": {
        "id": "h0ZW3IdLTb6S"
      }
    },
    {
      "cell_type": "markdown",
      "source": [
        "#####GPT4 response    "
      ],
      "metadata": {
        "id": "MkqUHjZ7TryD"
      }
    },
    {
      "cell_type": "markdown",
      "source": [
        "You're welcome! If you have any more questions or need further assistance, please don't hesitate to ask."
      ],
      "metadata": {
        "id": "7wqndupNWRB1"
      }
    },
    {
      "cell_type": "markdown",
      "source": [
        "\n",
        "\n",
        "---\n",
        "\n"
      ],
      "metadata": {
        "id": "Uq4cmGS_f8CT"
      }
    },
    {
      "cell_type": "markdown",
      "source": [
        "##5. `regex` Pattern Components     "
      ],
      "metadata": {
        "id": "unVloyjhWrYB"
      }
    },
    {
      "cell_type": "markdown",
      "source": [
        "#####Prof Patrick request    "
      ],
      "metadata": {
        "id": "wii4joomWuiW"
      }
    },
    {
      "cell_type": "markdown",
      "source": [
        "Please provide an explanation breaking down each component of the `regex` pattern you used.  Provide an explanation in a way that could be easily presented to students in a university data science class."
      ],
      "metadata": {
        "id": "tBXxme02WxGZ"
      }
    },
    {
      "cell_type": "markdown",
      "source": [
        "##### GPT4 response    "
      ],
      "metadata": {
        "id": "6KXoKbxFXKdb"
      }
    },
    {
      "cell_type": "markdown",
      "source": [
        "I'll break down each component of the regular expression pattern used in the <b>`conceal_phone_numbers`</b> function and provide an explanation for each part."
      ],
      "metadata": {
        "id": "-YAAtiBtXNRz"
      }
    },
    {
      "cell_type": "markdown",
      "source": [
        "\n",
        "\n",
        "```\n",
        "(\\d{1,2}\\s*[\\-\\.]?\\s*)?(\\(?\\d{3}\\)?[\\-\\.\\s]?)\\d{3}[\\-\\.]?\\d{4}(\\s*(ext|x|X|EXT|#)\\.?\\s*\\d{1,5})?\n",
        "\n",
        "```\n",
        "\n"
      ],
      "metadata": {
        "id": "7LtDSseNXenz"
      }
    },
    {
      "cell_type": "markdown",
      "source": [
        "1. `<b>(\\d{1,2}\\s*[\\-\\.]?\\s*)?</b>: This part of the regex pattern captures the optional country code or area code prefix. The country code can be 1 or 2 digits long.    \n",
        "\n",
        "  - <b>\\d{1,2}</b>: Matches 1 or 2 digits.\n",
        "  - <b>\\s*</b>: Matches zero or more whitespace characters.\n",
        "  - <b>[\\-\\.]?</b>: Matches an optional hyphen (-) or dot (.).\n",
        "  - <b>\\s*</b>: Matches zero or more whitespace characters.\n",
        "  - <b>()?</b>: Wraps the entire expression in a non-capturing group and makes it optional.    \n",
        "\n",
        "2. <b>(\\(?\\d{3}\\)?[\\-\\.\\s]?)</b>: This part of the pattern captures the area code.\n",
        "\n",
        "  - <b>\\(?\\d{3}\\)?</b>: Matches exactly 3 digits, which may or may not be wrapped in parentheses.    \n",
        "    - <b>\\(?</b>: Matches an optional opening parenthesis.    \n",
        "    - <b>\\d{3}</b>: Matches exactly 3 digits.    \n",
        "    - <b>\\)?</b>: Matches an optional closing parenthesis.    \n",
        "  - <b>[\\-\\.\\s]?</b>: Matches an optional hyphen (-), dot (.), or whitespace character.    \n",
        "\n",
        "3. <b>\\d{3}</b>: This part of the pattern captures the first 3 digits of the local number.    \n",
        "    \n",
        "4. <b>[\\-\\.]?</b>: This part of the pattern matches an optional hyphen (-) or dot (.) as a separator between the first and second parts of the local number.    \n",
        "    \n",
        "5. <b>\\d{4}</b>: This part of the pattern captures the last 4 digits of the local number.    \n",
        "    \n",
        "6. <b>(\\s*(ext|x|X|EXT|#)\\.?\\s*\\d{1,5})?</b>: This part of the pattern captures an optional extension number.    \n",
        "    \n",
        "  - <b>\\s*</b>: Matches zero or more whitespace characters.    \n",
        "  - <b>(ext|x|X|EXT|#)</b>: Matches one of the following: \"ext\", \"x\", \"X\", \"EXT\", or \"#\".    \n",
        "  - <b>\\.?</b>: Matches an optional dot (.).    \n",
        "  - <b>\\s*</b>: Matches zero or more whitespace characters.    \n",
        "  - <b>\\d{1,5}</b>: Matches 1 to 5 digits for the extension number.    \n",
        "  - <b>()?</b>: Wraps the entire expression in a non-capturing group and makes it optional.    \n",
        "      "
      ],
      "metadata": {
        "id": "iWuCFno_XhkB"
      }
    },
    {
      "cell_type": "markdown",
      "source": [
        "This regex pattern is designed to match various phone number formats, including optional country and area code prefixes, parentheses around the area code, and optional extension numbers. The pattern accommodates different separators, such as hyphens, dots, and whitespace characters.    "
      ],
      "metadata": {
        "id": "BPVRVURLaV_Q"
      }
    },
    {
      "cell_type": "markdown",
      "source": [
        "#####Prof Patrick    "
      ],
      "metadata": {
        "id": "wVvQ6lULooti"
      }
    },
    {
      "cell_type": "markdown",
      "source": [
        "*Note: GPT4 is erroneously assuming that telephone number country codes are one or two digits long when, in fact, there are many three-digit telephone country codes.* "
      ],
      "metadata": {
        "id": "iOXiIdFWorvp"
      }
    },
    {
      "cell_type": "markdown",
      "source": [
        "\n",
        "\n",
        "---\n",
        "\n"
      ],
      "metadata": {
        "id": "JoJ0Yf7sacQC"
      }
    },
    {
      "cell_type": "markdown",
      "source": [
        "##6. Reference Sources    "
      ],
      "metadata": {
        "id": "W4BI1bO2adDL"
      }
    },
    {
      "cell_type": "markdown",
      "source": [
        "#####Prof Patrick request   "
      ],
      "metadata": {
        "id": "dWfaWfkhah1M"
      }
    },
    {
      "cell_type": "markdown",
      "source": [
        "Is there a common source for that type of phone number matching regex pattern and if there is, what are the most frequent or most reliable sources of that regex pattern?"
      ],
      "metadata": {
        "id": "VMTxWy53akNQ"
      }
    },
    {
      "cell_type": "markdown",
      "source": [
        "#####GPT4 response"
      ],
      "metadata": {
        "id": "ZrFaW7y0aoDo"
      }
    },
    {
      "cell_type": "markdown",
      "source": [
        "There is no single common source for a phone number matching regex pattern, as phone number formats vary across countries and regions. However, there are several resources and references that can provide guidance on constructing regex patterns for phone numbers. Some of the most frequent or reliable sources include:    \n",
        "    \n",
        "1. Official documentation or standards: For example, the International Telecommunication Union (ITU) and the North American Numbering Plan Administration (NANPA) provide guidelines and specifications for international and regional phone number formats.    \n",
        "    \n",
        "2. Online regex communities: Websites like Stack Overflow, GitHub, and Reddit have numerous discussions and examples of regex patterns for phone numbers. You can find patterns that others have shared and tested, but it's essential to verify their accuracy and adapt them to your specific use case.    \n",
        "    \n",
        "3. Regex libraries and tools: Many programming languages have libraries or tools that offer pre-built regex patterns for common tasks, such as phone number validation. For example, Python has the phonenumbers library, which can parse, format, and validate phone numbers using Google's libphonenumber library.    \n",
        "    \n",
        "4. Online regex pattern repositories: Websites like regex101.com, regexlib.com, and regular-expressions.info provide a collection of regex patterns, including phone number patterns, that have been contributed and tested by the community. These patterns can be a helpful starting point, but it's essential to ensure that they meet your specific requirements.    \n",
        "    "
      ],
      "metadata": {
        "id": "HW_cU9M4aqdz"
      }
    },
    {
      "cell_type": "markdown",
      "source": [
        "Keep in mind that phone number formats can vary significantly between countries, so it is essential to tailor your regex pattern to the specific formats you expect to encounter in your data. It may be necessary to create multiple regex patterns or use a combination of regex and other validation methods to ensure accurate phone number matching."
      ],
      "metadata": {
        "id": "ozz_oH74a7ZH"
      }
    },
    {
      "cell_type": "markdown",
      "source": [
        "\n",
        "\n",
        "---\n",
        "\n"
      ],
      "metadata": {
        "id": "rZs-Rb-EbJRZ"
      }
    },
    {
      "cell_type": "markdown",
      "source": [
        "##7. Wrap-up    "
      ],
      "metadata": {
        "id": "7pstbiDjbCpZ"
      }
    },
    {
      "cell_type": "markdown",
      "source": [
        "#### Attribution    "
      ],
      "metadata": {
        "id": "sNTB-M4WhMjE"
      }
    },
    {
      "cell_type": "markdown",
      "source": [
        "#####Prof Patrick request    "
      ],
      "metadata": {
        "id": "81xIylnMbFMI"
      }
    },
    {
      "cell_type": "markdown",
      "source": [
        "I would like to share this information in a brief article for medium.com.  Is that okay?  Is there any citation or attribution that I should consider including? "
      ],
      "metadata": {
        "id": "zxUC2bfzbM6c"
      }
    },
    {
      "cell_type": "markdown",
      "source": [
        "#####GPT4 response    "
      ],
      "metadata": {
        "id": "KGJjc0j-bOJU"
      }
    },
    {
      "cell_type": "markdown",
      "source": [
        "As an AI language model, I'm here to help you with any information or assistance you need. You are welcome to use the information I've provided in your Medium article or any other form of sharing. Since the information comes from a public AI model and not a specific individual, there is no strict requirement for citation or attribution.    \n",
        "    \n",
        "However, if you would like to mention the source of the information, you can attribute it to OpenAI's GPT-4 model or simply mention that you received assistance from an AI language model. This could help your readers understand where the information originated and provide context for any limitations that might arise due to the knowledge cutoff date (September 2021) of the AI model.    \n",
        "    \n",
        "For example, you could include a statement like this in your article:    \n",
        "    \n",
        "\"*The information and explanations in this article were provided by OpenAI's GPT-4 AI language model.*\"    \n",
        "    \n",
        "This type of attribution can help create transparency and give proper credit to the source of the information.    \n",
        "    "
      ],
      "metadata": {
        "id": "QBvfHMMxbQns"
      }
    },
    {
      "cell_type": "markdown",
      "source": [
        "#####Prof Patrick reply    "
      ],
      "metadata": {
        "id": "ASzdXS69bopt"
      }
    },
    {
      "cell_type": "markdown",
      "source": [
        "Thank you"
      ],
      "metadata": {
        "id": "tF9_XSDjbrdV"
      }
    },
    {
      "cell_type": "markdown",
      "source": [
        "#####GPT4 response    "
      ],
      "metadata": {
        "id": "XYN7Caj5buaL"
      }
    },
    {
      "cell_type": "markdown",
      "source": [
        "You're welcome! If you have any more questions or need further assistance, please don't hesitate to ask. Good luck with your Medium article!    \n"
      ],
      "metadata": {
        "id": "Ss7YY1NwbwxV"
      }
    },
    {
      "cell_type": "markdown",
      "source": [
        "####Errata    "
      ],
      "metadata": {
        "id": "Iz83aeGihSvu"
      }
    },
    {
      "cell_type": "markdown",
      "source": [
        "#####Prof Patrick request    "
      ],
      "metadata": {
        "id": "JrwW1M3uhVDj"
      }
    },
    {
      "cell_type": "markdown",
      "source": [
        "Let's go back to the first regular expression pattern that you used.  Am I correct in assuming that the first regular expression pattern was:    \n",
        "```\n",
        "r'(\\d{1,2}\\s*[-.]?\\s*)?(?\\d3?\\d3?[-.\\s]?)\\d{3}[-.]?\\d{4}(\\s*(ext|x|X|EXT|#).?\\s*\\d{1,5})?'  \n",
        "```    "
      ],
      "metadata": {
        "id": "4TIgxHBfhZmj"
      }
    },
    {
      "cell_type": "markdown",
      "source": [
        "#####GPT4 response    "
      ],
      "metadata": {
        "id": "0yNWO5XrhjCm"
      }
    },
    {
      "cell_type": "markdown",
      "source": [
        "Apologies for any confusion earlier. The first regular expression pattern I provided in the original response was:    "
      ],
      "metadata": {
        "id": "XzA_saLrhppX"
      }
    },
    {
      "cell_type": "markdown",
      "source": [
        "```    \n",
        "(\\d{1,2}\\s*[\\-\\.]?\\s*)?(\\(?\\d{3}\\)?[\\-\\.\\s]?)\\d{3}[\\-\\.]?\\d{4}(\\s*(ext|x|X|EXT|#)\\.?\\s*\\d{1,5})?\n",
        "\n",
        "```    "
      ],
      "metadata": {
        "id": "7cM8IKD1htLl"
      }
    },
    {
      "cell_type": "markdown",
      "source": [
        "I'll break it down for you again:    \n",
        "    \n",
        "1. <b>(\\d{1,2}\\s*[\\-\\.]?\\s*)?</b>: Optional country or area code prefix (1 or 2 digits).    \n",
        "2. <b>(\\(?\\d{3}\\)?[\\-\\.\\s]?)</b>: Area code (3 digits) with optional parentheses and followed by an optional hyphen, dot, or whitespace.    \n",
        "3. <b>\\d{3}</b>: First 3 digits of the local number.    \n",
        "4. <b>[\\-\\.]?</b>: Optional hyphen or dot separator.    \n",
        "5. <b>\\d{4}</b>: Last 4 digits of the local number.    \n",
        "6. <b>(\\s*(ext|x|X|EXT|#)\\.?\\s*\\d{1,5})?</b>: Optional extension number with varying notations.    "
      ],
      "metadata": {
        "id": "-aSEFyechzWa"
      }
    },
    {
      "cell_type": "markdown",
      "source": [
        "Please note that the regex pattern you mentioned in the question contains a typo (a missing backslash before the question mark), which might have caused the confusion. The correct pattern is provided above."
      ],
      "metadata": {
        "id": "AULaoI9diSWt"
      }
    },
    {
      "cell_type": "markdown",
      "source": [
        "#####Prof Patrick     "
      ],
      "metadata": {
        "id": "YqidPKnZiW36"
      }
    },
    {
      "cell_type": "markdown",
      "source": [
        "*It seems that GPT4 had it right from the start.  What appears to have happened is some formatting glitch in sending the first solution to my browser.  While GPT4's second solution was displayed in a code window with a button to copy the code, the first attempt presented a solution as `HTML` text in my browser.  I copied and pasted that text to this notebook but it appears that some characters were lost in the process as the following comparison of `str1` (the first `regex` pattern I used) with `str2` (the second attempt) demonstrates.*    \n",
        "          "
      ],
      "metadata": {
        "id": "W8TqAcEFiZ16"
      }
    },
    {
      "cell_type": "code",
      "source": [
        "# str1 with the first `regex` pattern used (from a GPT4 text window copy/paste)\n",
        "str1 = \"(\\d{1,2}\\s*[-.]?\\s*)?(?\\d3?\\d3?[-.\\s]?)\\d{3}[-.]?\\d{4}(\\s*(ext|x|X|EXT|#).?\\s*\\d{1,5})?\"\n",
        "# str2 with the final `regex` pattern used (using the `copy` button on a code window in GPT4)\n",
        "str2 = \"(\\d{1,2}\\s*[\\-\\.]?\\s*)?(\\(?\\d{3}\\)?[\\-\\.\\s]?)\\d{3}[\\-\\.]?\\d{4}(\\s*(ext|x|X|EXT|#)\\.?\\s*\\d{1,5})?\"\n",
        "\n",
        "if str1 == str2: \n",
        "    print('Same string')\n",
        "else:\n",
        "    print('Not the same string')"
      ],
      "metadata": {
        "colab": {
          "base_uri": "https://localhost:8080/"
        },
        "id": "qVyd2M-riz-6",
        "outputId": "73eb56e8-5008-422f-fcac-e9f7dbaba3c5"
      },
      "execution_count": null,
      "outputs": [
        {
          "output_type": "stream",
          "name": "stdout",
          "text": [
            "Not the same string\n"
          ]
        }
      ]
    },
    {
      "cell_type": "markdown",
      "source": [
        "\n",
        "\n",
        "---\n",
        "\n"
      ],
      "metadata": {
        "id": "B0a24HG2bz0K"
      }
    }
  ]
}