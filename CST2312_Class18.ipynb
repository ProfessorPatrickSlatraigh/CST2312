{
  "nbformat": 4,
  "nbformat_minor": 0,
  "metadata": {
    "colab": {
      "name": "CST2312_Class18.ipynb",
      "provenance": [],
      "collapsed_sections": [],
      "include_colab_link": true
    },
    "kernelspec": {
      "name": "python3",
      "display_name": "Python 3"
    },
    "language_info": {
      "name": "python"
    }
  },
  "cells": [
    {
      "cell_type": "markdown",
      "metadata": {
        "id": "view-in-github",
        "colab_type": "text"
      },
      "source": [
        "<a href=\"https://colab.research.google.com/github/ProfessorPatrickSlatraigh/CST2312/blob/main/CST2312_Class18.ipynb\" target=\"_parent\"><img src=\"https://colab.research.google.com/assets/colab-badge.svg\" alt=\"Open In Colab\"/></a>"
      ]
    },
    {
      "cell_type": "markdown",
      "metadata": {
        "id": "Sivi2IUlD10N"
      },
      "source": [
        "# **CST2312 WK12CL18 - REGEX, XML and APIs**"
      ]
    },
    {
      "cell_type": "markdown",
      "metadata": {
        "id": "o7fP5obdEAS3"
      },
      "source": [
        "\n",
        "\n",
        "---\n",
        "\n"
      ]
    },
    {
      "cell_type": "markdown",
      "metadata": {
        "id": "_1eYdhLSHUn_"
      },
      "source": [
        "# ***Regular Expressions***\n",
        "***Regex***"
      ]
    },
    {
      "cell_type": "markdown",
      "metadata": {
        "id": "RtDi8NbS6zaP"
      },
      "source": [
        "**Reading** from the required textbook: ( [https://www.py4e.com/lessons/](https://www.py4e.com/lessons/))\n",
        "\n",
        "* [Regular Expressions](https://www.py4e.com/lessons/regex) (Chapter 12)\n",
        "* [Data Science Cheat Sheet Python Regular Expressions](https://www.dataquest.io/wp-content/uploads/2019/03/python-regular-expressions-cheat-sheet.pdf)\n",
        "\n"
      ]
    },
    {
      "cell_type": "markdown",
      "metadata": {
        "id": "_sVm6Xw17i6F"
      },
      "source": [
        "So far we have been using methods like `split` and `find` to extract portions of strings or to answer a question of whether a particular item / string is part of a list-set-tuple-dictionary / longer string.\n",
        "\n",
        "Regular Expressions\n",
        "-------------------\n",
        "\n",
        "Regular expressions (regexes or re’s) constitute an extremely powerful, flexible and concise language for matching elements in text ranging from a few characters to complex patterns. While mastering the syntax of the regular expression language does require climbing a learning curve, this learning curve is not particularly steep, and a newcomer can find herself performing useful tasks with regular expressions almost immediately. Efforts spent learning regular expressions quickly pay off--tasks that are well suited for regular expressions abound. Indeed, regular expressions are one of the most useful computer skills, and an absolutely critical tool for data scientists.\n",
        "\n",
        "This document will present basic regular expression syntax and cover common use cases for regular expressions: pattern matching, filtering, data extraction, and string replacement. \n",
        "\n",
        "We will present examples using python’s standard [re regular expression library](http://docs.python.org/library/re.html).\n",
        "\n",
        "We will discuss Python libraries in detail later.\n",
        "\n",
        "Many examples from from this [Google tutorial](https://developers.google.com/edu/python/regular-expressions). Pay attention that tutorial itself uses a 2.x version of Python, thus, several statements (for example, print()) look differently than in the later versions of Python. In this notebook, the examples from the Google tutorial are converted to the current Python version. "
      ]
    },
    {
      "cell_type": "markdown",
      "metadata": {
        "id": "VJbxGwbs-c10"
      },
      "source": [
        "### Searching strings using regexes"
      ]
    },
    {
      "cell_type": "markdown",
      "metadata": {
        "id": "tt-2u13P6f-L"
      },
      "source": [
        "The regular expression library `re` must be imported into your program before you can use it. The simplest use of the regular expression library is the `search()` function. "
      ]
    },
    {
      "cell_type": "code",
      "metadata": {
        "id": "LwA_bTfx4_PZ"
      },
      "source": [
        "# first import the library\n",
        "import re"
      ],
      "execution_count": null,
      "outputs": []
    },
    {
      "cell_type": "code",
      "metadata": {
        "id": "ZifTlTpG481G",
        "colab": {
          "base_uri": "https://localhost:8080/"
        },
        "outputId": "653def8c-c969-4dd5-cfc1-ce7580d15fb6"
      },
      "source": [
        "inputStr = 'an example word:cat!!'\n",
        "if re.search(r'cat', inputStr):\n",
        "  print(inputStr)\n",
        "\n",
        "print (\"Done with the example\")"
      ],
      "execution_count": null,
      "outputs": [
        {
          "output_type": "stream",
          "name": "stdout",
          "text": [
            "an example word:cat!!\n",
            "Done with the example\n"
          ]
        }
      ]
    },
    {
      "cell_type": "code",
      "metadata": {
        "id": "3Z60qReo5JIk",
        "colab": {
          "base_uri": "https://localhost:8080/"
        },
        "outputId": "eef44245-6706-4ace-f3f9-d9f06d86d7b4"
      },
      "source": [
        "inputStr = 'an example word: cat!!'\n",
        "if re.search(r'dog', inputStr):\n",
        "  print(inputStr)\n",
        "\n",
        "print (\"Done with the example\")"
      ],
      "execution_count": null,
      "outputs": [
        {
          "output_type": "stream",
          "name": "stdout",
          "text": [
            "Done with the example\n"
          ]
        }
      ]
    },
    {
      "cell_type": "code",
      "metadata": {
        "colab": {
          "base_uri": "https://localhost:8080/"
        },
        "id": "-yiq_EXBlBGT",
        "outputId": "1e5dc3ab-407d-45cc-a98e-8f31afc06453"
      },
      "source": [
        "inputStr = 'an example word: cat!!'\n",
        "if re.search(r'word: \\w\\w\\w', inputStr):\n",
        "  print(inputStr)\n",
        "  \n",
        "print (\"Done with the example\")"
      ],
      "execution_count": null,
      "outputs": [
        {
          "output_type": "stream",
          "name": "stdout",
          "text": [
            "an example word: cat!!\n",
            "Done with the example\n"
          ]
        }
      ]
    },
    {
      "cell_type": "code",
      "metadata": {
        "id": "1HdCJTqlm78v"
      },
      "source": [
        "inputStr = 'an example word:dog, anda, cat!!'\n",
        "if re.search(r'word:\\w\\w\\w', inputStr):\n",
        "  print(inputStr)\n",
        "\n",
        "print (\"Done with the example\")"
      ],
      "execution_count": null,
      "outputs": []
    },
    {
      "cell_type": "code",
      "metadata": {
        "id": "g-42g9JIncRw"
      },
      "source": [
        "the_text = 'there are many words here some with three characters and also this phrase \"stuffH dog\", plus cat!!'\n",
        "if re.search(r'stuffH \\w\\w\\w', the_text):\n",
        "  print(\"I found the pattern you asked about.\")\n",
        "\n",
        "print (\"Done with the example\")"
      ],
      "execution_count": null,
      "outputs": []
    },
    {
      "cell_type": "markdown",
      "metadata": {
        "id": "BkMWHgyN-z0Z"
      },
      "source": [
        "#### We can store the result of `re.search(pat, str)` in a variable.\n",
        "\n",
        "In Python a regular expression search is typically written as:\n",
        "\n",
        "`match = re.search(pat, str)`\n",
        "\n",
        "The code `match = re.search(pat, str)` stores the search result in a variable named \"match\". \n",
        "\n",
        "The `re.search()` method takes a regular expression pattern and a string and searches for that pattern within the string. If the search is successful, `search()` returns a match object or `None` otherwise.\n",
        "\n",
        "Then the `if`-statement tests the match -- if `True` the search succeeded and `match.group()` is the matching text (e.g. 'word: cat'). Otherwise if the match is `False` (`None` to be more specific), then the search did not succeed, and there is no matching text.\n",
        "\n",
        "The 'r' at the start of the pattern string designates a python \"raw\" string which passes through backslashes without change which is very handy for regular expressions. It is recommended that you always write pattern strings with the 'r' just as a habit.\n",
        "\n",
        " "
      ]
    },
    {
      "cell_type": "code",
      "metadata": {
        "id": "CxmiuzbN_IAx",
        "colab": {
          "base_uri": "https://localhost:8080/"
        },
        "outputId": "4e35138d-b47b-456f-c9b0-0a061d8d4787"
      },
      "source": [
        "inputStr = 'an example word: cat!!'\n",
        "match = re.search(r'word: \\w\\w\\w', inputStr) ## both 'cat' and 'dog' are 3-letter words\n",
        "match"
      ],
      "execution_count": null,
      "outputs": [
        {
          "output_type": "execute_result",
          "data": {
            "text/plain": [
              "<re.Match object; span=(11, 20), match='word: cat'>"
            ]
          },
          "metadata": {},
          "execution_count": 16
        }
      ]
    },
    {
      "cell_type": "markdown",
      "metadata": {
        "id": "CvatBIwDAiv-"
      },
      "source": [
        "The `re.match()` function returns a match object on success, `None` on failure. We use `group(num)` function of match object to get matched expression.\n",
        "\n",
        "`group(num=0)`: This method returns entire match (or specific subgroup num)"
      ]
    },
    {
      "cell_type": "code",
      "metadata": {
        "id": "p97V3tIJ5mHU",
        "colab": {
          "base_uri": "https://localhost:8080/"
        },
        "outputId": "7626d715-4f31-407f-c920-8020f70b85ce"
      },
      "source": [
        "inputStr = 'an example word: cat!!'\n",
        "# If-statement after search() tests if it succeeded\n",
        "if re.search(r'word: \\w\\w\\w', inputStr):\n",
        "  print ('found', match.group()) ## 'found word:cat'\n",
        "else:\n",
        "  print ('did not find')\n",
        "print (\"Done with the example\")"
      ],
      "execution_count": null,
      "outputs": [
        {
          "output_type": "stream",
          "name": "stdout",
          "text": [
            "found word: cat\n",
            "Done with the example\n"
          ]
        }
      ]
    },
    {
      "cell_type": "markdown",
      "metadata": {
        "id": "TBwxQCVO4csM"
      },
      "source": [
        "\n",
        "\n",
        "---\n",
        "\n"
      ]
    },
    {
      "cell_type": "markdown",
      "metadata": {
        "id": "WOJRnM0r38sB"
      },
      "source": [
        "See Geeks for Geeks on the use of arguments in the group() function for re.search() at ▶ https://www.geeksforgeeks.org/re-matchobject-group-function-in-python-regex/"
      ]
    },
    {
      "cell_type": "markdown",
      "metadata": {
        "id": "Dv9L7z164UFY"
      },
      "source": [
        "*Here is the example used by Geeks for Geeks*"
      ]
    },
    {
      "cell_type": "code",
      "metadata": {
        "id": "3cJlwMjT4dxl",
        "colab": {
          "base_uri": "https://localhost:8080/"
        },
        "outputId": "0ef9d32d-58ca-4000-d733-8dbb4ba2c2fe"
      },
      "source": [
        "\"\"\"We create a re.MatchObject and store it in\n",
        "   match_object variable\n",
        "   the '()' parenthesis are used to define a\n",
        "   specific group\"\"\"\n",
        " \n",
        "match_object = re.match(r'(\\w+)@(\\w+)\\.(\\w+)', 'username@geekforgeeks.org')\n",
        " \n",
        "\"\"\" w in above pattern stands for alphabetical character\n",
        "    + is used to match a consecutive set of characters\n",
        "    satisfying a given condition\n",
        "    so w+ will match a consecutive set of alphabetical characters\"\"\"\n",
        " \n",
        "# for entire match\n",
        "print(match_object.group())\n",
        "# also print(match_object.group(0)) can be used\n",
        " \n",
        "# for the first parenthesized subgroup\n",
        "print(match_object.group(1))\n",
        " \n",
        "# for the second parenthesized subgroup\n",
        "print(match_object.group(2))\n",
        " \n",
        "# for the third parenthesized subgroup\n",
        "print(match_object.group(3))\n",
        " \n",
        "# for a tuple of all matched subgroups\n",
        "print(match_object.group(1, 2, 3)) \n"
      ],
      "execution_count": null,
      "outputs": [
        {
          "output_type": "stream",
          "name": "stdout",
          "text": [
            "username@geekforgeeks.org\n",
            "username\n",
            "geekforgeeks\n",
            "org\n",
            "('username', 'geekforgeeks', 'org')\n"
          ]
        }
      ]
    },
    {
      "cell_type": "markdown",
      "metadata": {
        "id": "AIQF2X_64bEm"
      },
      "source": [
        "\n",
        "\n",
        "---\n",
        "\n"
      ]
    },
    {
      "cell_type": "code",
      "metadata": {
        "id": "Oi6e3mO4_brB",
        "colab": {
          "base_uri": "https://localhost:8080/"
        },
        "outputId": "9ef7a06c-0f36-4811-b6c8-3f49c53bd324"
      },
      "source": [
        "inputStr = 'an example word: dog!!'\n",
        "match = re.search(r'word: \\w\\w\\w', inputStr)\n",
        "# If-statement after search() tests if it succeeded\n",
        "if match:\n",
        "  print ('found', match.group()) ## 'found word:cat'\n",
        "else:\n",
        "  print ('did not find')\n",
        "print (\"Done with the example\")"
      ],
      "execution_count": null,
      "outputs": [
        {
          "output_type": "stream",
          "name": "stdout",
          "text": [
            "found word: dog\n",
            "Done with the example\n"
          ]
        }
      ]
    },
    {
      "cell_type": "code",
      "metadata": {
        "id": "N5HdipxzA_8q",
        "colab": {
          "base_uri": "https://localhost:8080/"
        },
        "outputId": "5937b53b-5175-4c37-a87b-2652f6cf91fb"
      },
      "source": [
        "line = \"Cats are smarter than dogs\"\n",
        "\n",
        "matchObj = re.match( r'(.*) are (.*?) .*', line) # regExs within a regEx\n",
        "\n",
        "if matchObj:\n",
        "   print (\"matchObj.group() : \", matchObj.group(0))\n",
        "   print (\"matchObj.group(0) : \", matchObj.group(0))\n",
        "   print (\"matchObj.group(1) : \", matchObj.group(1))\n",
        "   print (\"matchObj.group(2) : \", matchObj.group(2))\n",
        "else:\n",
        "   print (\"No match!!\")"
      ],
      "execution_count": null,
      "outputs": [
        {
          "output_type": "stream",
          "name": "stdout",
          "text": [
            "matchObj.group() :  Cats are smarter than dogs\n",
            "matchObj.group(0) :  Cats are smarter than dogs\n",
            "matchObj.group(1) :  Cats\n",
            "matchObj.group(2) :  smarter\n"
          ]
        }
      ]
    },
    {
      "cell_type": "markdown",
      "metadata": {
        "id": "RrlqI5ic756E"
      },
      "source": [
        "### Basic Patterns\n",
        "\n",
        "see [Python Documentation](https://docs.python.org/3/library/re.html)\n",
        "\n",
        "The power of regular expressions is that they can specify patterns, not just fixed characters. Here are the most basic patterns which match single chars:\n",
        "\n",
        "* a, X, 9, < -- ordinary characters just match themselves exactly. The meta-characters which do not match themselves because they have special meanings are: . ^ $ * + ? { [ ] \\ | ( ) (details below)\n",
        "\n",
        "* . (a period) -- matches any single character except newline '\\n'\n",
        "\n",
        "* \\w -- (lowercase w) matches a \"word\" character: a letter or digit or underbar [a-zA-Z0-9_]. Note that although \"word\" is the mnemonic for this, it only matches a single word char, not a whole word. \\W (upper case W) matches any non-word character.\n",
        "\n",
        "* \\b -- boundary between word and non-word\n",
        "\n",
        "* \\s -- (lowercase s) matches a single whitespace character -- space, newline, return, tab, form [ \\n\\r\\t\\f]. \\S (upper case S) matches any non-whitespace character.\n",
        "\n",
        "* \\t, \\n, \\r -- tab, newline, return\n",
        "\n",
        "* \\d -- decimal digit [0-9] (some older regex utilities do not support but \\d, but they all support \\w and \\s)\n",
        "\n",
        "* ^ = start, $ = end -- match the start or end of the string\n",
        "\n",
        "* \\ -- inhibit the \"specialness\" of a character. So, for example, use \\. to match a period or \\\\ to match a slash. If you are unsure if a character has special meaning, such as '@', you can put a slash in front of it, \\@, to make sure it is treated just as a character."
      ]
    },
    {
      "cell_type": "markdown",
      "metadata": {
        "id": "0ovwt0pk8mxV"
      },
      "source": [
        "### Basic Examples\n",
        "\n",
        "\n",
        "The basic rules of regular expression search for a pattern within a string are:\n",
        "\n",
        "* The search proceeds through the string from start to end, stopping at the first match found\n",
        "\n",
        "* All of the pattern must be matched, but not all of the string\n",
        "\n",
        "* If `match = re.search(pat, str)` is successful, match is not `None` and in particular `match.group()` is the matching text"
      ]
    },
    {
      "cell_type": "code",
      "metadata": {
        "id": "wy7UrExh82C7"
      },
      "source": [
        "## Search for pattern 'iii' in string 'piiig'.\n",
        "## All of the pattern must match, but it may appear anywhere.\n",
        "## On success, match.group() is matched text.\n",
        "\n",
        "matched_string = re.search(r'iii', 'piiig')\n",
        "if matched_string:\n",
        "  print ('found, matched_string.group() == \"iii\"')\n",
        "  print (matched_string.group())"
      ],
      "execution_count": null,
      "outputs": []
    },
    {
      "cell_type": "code",
      "metadata": {
        "id": "omfUFmXw-e92"
      },
      "source": [
        "match = re.search(r'igs', 'piiig')\n",
        "if not match:  \n",
        "  print ('not found, match == None')\n",
        "  print (re.search(r'igs', 'piiig'))\n",
        "\n"
      ],
      "execution_count": null,
      "outputs": []
    },
    {
      "cell_type": "code",
      "metadata": {
        "id": "5U4-w19E-gZD"
      },
      "source": [
        "## . = any char but \\n\n",
        "match = re.search(r'..g', 'piiig') \n",
        "if match:\n",
        "  print ('found, match.group() == \"iig\"')\n",
        "  print (match.group())\n",
        "\n",
        "print(\"All done.\")"
      ],
      "execution_count": null,
      "outputs": []
    },
    {
      "cell_type": "code",
      "metadata": {
        "id": "mw6Av_MR-h8b"
      },
      "source": [
        "## \\d = digit char, \\w = word char\n",
        "match = re.search(r'\\d\\d\\d', 'p123g')\n",
        "if match:\n",
        "  print ('found, match.group() == \"123\"')\n",
        "  print (match.group())\n",
        "\n"
      ],
      "execution_count": null,
      "outputs": []
    },
    {
      "cell_type": "code",
      "metadata": {
        "id": "EYlaYcHc-i_L"
      },
      "source": [
        "match = re.search(r'\\w\\w\\w', '@@abcd!!')\n",
        "if match:\n",
        "  print ('found, match.group() == \"abc\"')\n",
        "  print (match.group())"
      ],
      "execution_count": null,
      "outputs": []
    },
    {
      "cell_type": "markdown",
      "metadata": {
        "id": "wXTGhHS4DtMT"
      },
      "source": [
        "### Email Example 1\n",
        "\n",
        "Extract the account name and the domain from the email address\n"
      ]
    },
    {
      "cell_type": "code",
      "metadata": {
        "id": "eIOXAv3UDz0b"
      },
      "source": [
        "email = 'my-email@citytech.edu'\n",
        "\n",
        "# your code here"
      ],
      "execution_count": null,
      "outputs": []
    },
    {
      "cell_type": "markdown",
      "metadata": {
        "id": "9nHpUMglP5v_"
      },
      "source": [
        "### ***don't look here***"
      ]
    },
    {
      "cell_type": "markdown",
      "metadata": {
        "id": "1yuTLA9KP-b0"
      },
      "source": [
        "\n",
        "\n",
        "```\n",
        "# a solution to exercise #1 \n",
        "email_match=re.search(r'\\S+@\\S+', email)\n",
        "print('found email address ' + email_match.group(0))\n",
        "match_list=re.split(r\"@\", email_match.group(0))\n",
        "print('the name and domain are: ', match_list)\n",
        "```\n",
        "\n"
      ]
    },
    {
      "cell_type": "code",
      "metadata": {
        "id": "6Bmjl0kOQvhj"
      },
      "source": [
        ""
      ],
      "execution_count": null,
      "outputs": []
    },
    {
      "cell_type": "markdown",
      "metadata": {
        "id": "sX_ibTqpEUGm"
      },
      "source": [
        "### Email Example 2\n",
        "\n",
        "Suppose you want to find the email address inside the string 'xyz myemail@citytech.edu data  science'. \n",
        "\n",
        "Here's an attempt using the pattern r'\\w+@\\w+':"
      ]
    },
    {
      "cell_type": "code",
      "metadata": {
        "id": "vXQlEEMJEo30"
      },
      "source": [
        "emailText = 'xyz my-email@citytech.edu data science'\n",
        "match = re.search(r'\\w+@\\w+', emailText)\n",
        "if match:\n",
        "  print (match.group())"
      ],
      "execution_count": null,
      "outputs": []
    },
    {
      "cell_type": "markdown",
      "metadata": {
        "id": "6Uaq36yTFH2f"
      },
      "source": [
        "The search does not get the whole email address in this case because the `\\w` does not match the `'-'` or `'.'` in the address. We'll fix this using the regular expression features below.\n",
        "\n",
        "**Square Brackets**\n",
        "\n",
        "Square brackets can be used to indicate a set of chars, so `[abc]` matches `'a'` or `'b'` or `'c'`. The codes `\\w`, `\\s` etc. work inside square brackets too with the one exception that dot (`.`) just means a literal dot. For the emails problem, the square brackets are an easy way to add `'.'` and `'-'` to the set of chars which can appear around the `@` with the pattern `r'[\\w.-]+@[\\w.-]+'` to get the whole email address:"
      ]
    },
    {
      "cell_type": "code",
      "metadata": {
        "id": "sOBiEa0EFhdl"
      },
      "source": [
        "emailText = 'xyz my-email@citytech.edu data science'\n",
        "match = re.search(r'[\\w.-]+@[\\w.-]+', emailText)\n",
        "if match:\n",
        "  print (match.group())"
      ],
      "execution_count": null,
      "outputs": []
    },
    {
      "cell_type": "markdown",
      "metadata": {
        "id": "bOUs28DRFw_k"
      },
      "source": [
        "We will use `group()` function to extract the account name and the domain from the email address\n"
      ]
    },
    {
      "cell_type": "code",
      "metadata": {
        "id": "YxbaItTOF62U"
      },
      "source": [
        "emailText = 'xyz my-email@citytech.edu data science'\n",
        "match = re.search(r'([\\w.-]+)@([\\w.-]+)', emailText)\n",
        "if match:\n",
        "  print (\"email address:\\t\", match.group())\n",
        "  print (\"email account:\\t\", match.group(1))\n",
        "  print (\"email domain:\\t\", match.group(2))"
      ],
      "execution_count": null,
      "outputs": []
    },
    {
      "cell_type": "markdown",
      "metadata": {
        "id": "3KY5kXfVHDCs"
      },
      "source": [
        "### Iteration using regular expressions\n",
        "\n",
        "If we want to extract data from a string in Python we can use the `findall()` or `finditer()` methods to extract all of the substrings which match a regular expression. \n",
        "\n",
        "These two methods produce resutls of different types. \n",
        "\n",
        "Let’s use the example of wanting to extract anything that looks like an email address from any line regardless of format. For example, we want to pull the email addresses from each of the following lines:"
      ]
    },
    {
      "cell_type": "code",
      "metadata": {
        "id": "sZA9bmgTH0zc"
      },
      "source": [
        "emailText = '''xyz my-email@citytech.edu data science or \n",
        "your_email@citytech.edu, also we can mention their.email@citytech.edu'''"
      ],
      "execution_count": null,
      "outputs": []
    },
    {
      "cell_type": "code",
      "metadata": {
        "id": "BuSqSvWZIFhk"
      },
      "source": [
        "match = re.search(r'([\\w.-]+)@([\\w.-]+)', emailText)\n",
        "if match:\n",
        "  print (\"email address:\\t\", match.group())\n",
        "  print (\"email account:\\t\", match.group(1))\n",
        "  print (\"email domain:\\t\", match.group(2))"
      ],
      "execution_count": null,
      "outputs": []
    },
    {
      "cell_type": "code",
      "metadata": {
        "id": "Fo6nki2PIOrr"
      },
      "source": [
        "matches = re.finditer(r'[\\w.-]+@[\\w.-]+', emailText)\n",
        "for match in matches:\n",
        "    print(match.group())"
      ],
      "execution_count": null,
      "outputs": []
    },
    {
      "cell_type": "code",
      "metadata": {
        "id": "5BfpoPMSJYR8"
      },
      "source": [
        "matches = re.finditer(r'([\\w.-]+)@([\\w.-]+)', emailText)\n",
        "for match in matches:\n",
        "    print(match.group(),\"\\t\", match.group(1),\"\\t\", match.group(2))"
      ],
      "execution_count": null,
      "outputs": []
    },
    {
      "cell_type": "code",
      "metadata": {
        "id": "nBwGT4TlKvzH"
      },
      "source": [
        "print (matches)  "
      ],
      "execution_count": null,
      "outputs": []
    },
    {
      "cell_type": "code",
      "metadata": {
        "id": "HJnNIOERJ1_s"
      },
      "source": [
        "matches = re.findall(r'([\\w\\.-]+)@([\\w\\.-]+)', emailText)\n",
        "print (matches)  \n",
        "for match in matches:\n",
        "  print (match[0])  ## username\n",
        "  print (match[1])  ## host"
      ],
      "execution_count": null,
      "outputs": []
    },
    {
      "cell_type": "code",
      "metadata": {
        "id": "s_DEQvNXL56z"
      },
      "source": [
        "matches = re.findall(r'[\\w\\.-]+@[\\w\\.-]+', emailText)\n",
        "print (matches)  \n",
        "for match in matches:\n",
        "  print (match)"
      ],
      "execution_count": null,
      "outputs": []
    },
    {
      "cell_type": "markdown",
      "metadata": {
        "id": "Zy-R_yeOT4YD"
      },
      "source": [
        "\n",
        "\n",
        "---\n",
        "\n"
      ]
    },
    {
      "cell_type": "markdown",
      "metadata": {
        "id": "aWR8uv4XVEiE"
      },
      "source": [
        "Additional reading on an 'almost perfect' regular expression approach to finding email addresses ▶ [Almost Perfect Email Regex](https://emailregex.com/) "
      ]
    },
    {
      "cell_type": "markdown",
      "metadata": {
        "id": "Tq4j2Ad0TWH1"
      },
      "source": [
        "Additional reading on the complexities of thorough regex rules for email addresses ▶ [O'Relly Regular Expressions Cookbook 4.1, Validate Email Addresses](https://www.oreilly.com/library/view/regular-expressions-cookbook/9781449327453/ch04s01.html) by Jan Goyvaerts and Steven Levithan."
      ]
    },
    {
      "cell_type": "markdown",
      "metadata": {
        "id": "Hhpc5YrHTVOD"
      },
      "source": [
        "\n",
        "\n",
        "---\n",
        "\n"
      ]
    },
    {
      "cell_type": "markdown",
      "metadata": {
        "id": "qvPV8WkbLNoz"
      },
      "source": [
        "### Create a variable containing regular expression\n",
        "\n",
        "`re.compile()` method."
      ]
    },
    {
      "cell_type": "code",
      "metadata": {
        "id": "1Qt9zt4WHmZW"
      },
      "source": [
        "# We are looking for binary numbers\n",
        "regex = re.compile(r'[10]+')\n",
        "text = \"asddf1101110100011abd1111panos0000\"\n",
        "matches = regex.finditer(text)\n",
        "for match in matches:\n",
        "    print(match.group())"
      ],
      "execution_count": null,
      "outputs": []
    },
    {
      "cell_type": "code",
      "metadata": {
        "id": "8VSV85viMa79"
      },
      "source": [
        "emailText = '''xyz my-email@citytech.edu data science or \n",
        "your_email@citytech.edu, also we can mention their.email@citytech.edu'''"
      ],
      "execution_count": null,
      "outputs": []
    },
    {
      "cell_type": "code",
      "metadata": {
        "id": "bP7Lv4eRMep1"
      },
      "source": [
        "# We are looking for email addresses\n",
        "regex = re.compile(r'[\\w\\.-]+@[\\w\\.-]+')\n",
        "matches = regex.finditer(emailText)\n",
        "for match in matches:\n",
        "    print(match.group())"
      ],
      "execution_count": null,
      "outputs": []
    },
    {
      "cell_type": "code",
      "metadata": {
        "id": "Vldk9f7JMrsE"
      },
      "source": [
        "# We look for money figures, either integers, or with 1 or 2 decimal\n",
        "# digits\n",
        "regex = re.compile(r'\\$\\d+(\\.\\d\\d?)?')\n",
        "text = '$1200.23 is the price today. $1400 was the price yesterday'\n",
        "matches = regex.finditer(text)\n",
        "for match in matches:\n",
        "    print(match.group())"
      ],
      "execution_count": null,
      "outputs": []
    },
    {
      "cell_type": "code",
      "metadata": {
        "id": "Rh2Mm3Q2MzQW"
      },
      "source": [
        "# This code is going to generate no matches\n",
        "regex = re.compile(r'Ra*nd.*m R[egex]')\n",
        "text = \"CUNY, Citytech, Information and Data Management, my-email@citytech.edu\"\n",
        "matches = regex.finditer(text)\n",
        "for match in matches:\n",
        "    print(match.group())\n",
        "\n",
        "print (\"The end\")"
      ],
      "execution_count": null,
      "outputs": []
    },
    {
      "cell_type": "markdown",
      "metadata": {
        "id": "-2fn-7EQN32V"
      },
      "source": [
        "Regular expressions are typically case-sensitive. "
      ]
    },
    {
      "cell_type": "code",
      "metadata": {
        "id": "oQjelG9xN4nu"
      },
      "source": [
        "# Regular expressions are compiled into pattern objects\n",
        "# Regular expressions are case-sensitive\n",
        "regex = re.compile(r'in.*on')\n",
        "text = \"CUNY, Citytech, Information and Data Management, my-email@citytech.edu\"\n",
        "matches = regex.finditer(text)\n",
        "for match in matches:\n",
        "    print(match.group())\n",
        "    \n",
        "print('The end')"
      ],
      "execution_count": null,
      "outputs": []
    },
    {
      "cell_type": "markdown",
      "metadata": {
        "id": "bs83uPtYONxr"
      },
      "source": [
        "But we can specify that they are case-insensitive, using the flag re.IGNORECASE"
      ]
    },
    {
      "cell_type": "code",
      "metadata": {
        "id": "LzkhDrbxOORo"
      },
      "source": [
        "# Unless we specify that they are case-insensitive, using the flag re.IGNORECASE\n",
        "regex = re.compile('in.*on',re.IGNORECASE)\n",
        "text = \"CUNY, Citytech, Information and Data Management, my-email@citytech.edu\"\n",
        "matches = regex.finditer(text)\n",
        "for match in matches:\n",
        "    print(match.group())\n",
        "    \n",
        "print('The end')"
      ],
      "execution_count": null,
      "outputs": []
    },
    {
      "cell_type": "markdown",
      "metadata": {
        "id": "i3DRYsWSPANf"
      },
      "source": [
        "### Greedy vs. Non-Greedy\n",
        "\n",
        "Suppose you have text with tags in it: `<b>foo</b> and <i>so on</i>`\n",
        "\n",
        "Suppose you are trying to match each tag with the pattern '(<.*>)' -- what does it match first?\n",
        "\n"
      ]
    },
    {
      "cell_type": "code",
      "metadata": {
        "id": "8Nsr845IPPCX"
      },
      "source": [
        "text = \"<b>foo</b> and <i>so on</i>\"\n",
        "regex = re.compile(r'(<.*>)')\n",
        "match = regex.search(text)\n",
        "print (match.group())\n",
        "\n",
        "print('The end')"
      ],
      "execution_count": null,
      "outputs": []
    },
    {
      "cell_type": "markdown",
      "metadata": {
        "id": "0htAJHaNPOTe"
      },
      "source": [
        "\n",
        "\n",
        "The result is a little surprising, but the greedy aspect of the `.*` causes it to match the whole `<b>foo</b> and <i>so on</i>` as one big match. The problem is that the `.*` goes as far as is it can, instead of stopping at the first `>` (aka it is \"greedy\").\n",
        "\n",
        "There is an extension to regular expression where you add a `?` at the end, such as `.*?` or `.+?`, changing them to be non-greedy. Now they stop as soon as they can. So the pattern `'(<.*?>)'` will get just `'<b>'` as the first match, and `'</b>'` as the second match, and so on getting each <..> pair in turn. The style is typically that you use a `.*?`, and then immediately its right look for some concrete marker (> in this case) that forces the end of the `.*?` run.\n",
        "\n"
      ]
    },
    {
      "cell_type": "code",
      "metadata": {
        "id": "2JgchHdgQBZV"
      },
      "source": [
        "text = \"<b>foo</b> and <i>so on</i>\"\n",
        "regex = re.compile(r'(<.?>)')\n",
        "match = regex.search(text)\n",
        "print (match.group())\n",
        "\n",
        "print('The end')"
      ],
      "execution_count": null,
      "outputs": []
    },
    {
      "cell_type": "code",
      "metadata": {
        "id": "B2Tgx8slQcC7"
      },
      "source": [
        "text = \"<b>foo</b> and <i>so on</i>\"\n",
        "regex = re.compile(r'(<.?>)')\n",
        "matches = regex.finditer(text)\n",
        "for match in matches:\n",
        "    print(match.group())\n",
        "\n",
        "print('The end')"
      ],
      "execution_count": null,
      "outputs": []
    },
    {
      "cell_type": "code",
      "metadata": {
        "id": "MtCUEs2tQnSV"
      },
      "source": [
        "text = \"<b>foo</b> and <i>so on</i>\"\n",
        "regex = re.compile(r'(<.+?>)')\n",
        "matches = regex.finditer(text)\n",
        "for match in matches:\n",
        "    print(match.group())\n",
        "\n",
        "print('The end')"
      ],
      "execution_count": null,
      "outputs": []
    },
    {
      "cell_type": "markdown",
      "metadata": {
        "id": "PAG0l22y-IQ3"
      },
      "source": [
        "\n",
        "\n",
        "---\n",
        "\n"
      ]
    },
    {
      "cell_type": "markdown",
      "metadata": {
        "id": "0iydTuaGQIff"
      },
      "source": [
        "## Regular Expression Functions"
      ]
    },
    {
      "cell_type": "markdown",
      "metadata": {
        "id": "CH3R8eSqmcHm"
      },
      "source": [
        "### Analyzing\n",
        "\n",
        "* `.match()`\n",
        "* `.search()`\n",
        "* `.finditer()`\n",
        "* `.findall()`\n",
        "* `.compile()`\n",
        "\n",
        "[https://docs.python.org/3/library/re.html](https://docs.python.org/3/library/re.html)\n",
        "\n",
        "Let me separate these functions into three groups: \n",
        "1. `.compile()`\n",
        "2. `.finditer()`, `.findall()`\n",
        "3. `.match()`, `.search()`\n"
      ]
    },
    {
      "cell_type": "markdown",
      "metadata": {
        "id": "CMBvZfaI0rrI"
      },
      "source": [
        "## 1. `re.compile()`"
      ]
    },
    {
      "cell_type": "markdown",
      "metadata": {
        "id": "FA5hhPSE0k3h"
      },
      "source": [
        "## Regular expression compilation\n",
        "\n",
        "Regular expression compilation produces a Python object that can be used to do all sort of regular expression operations. What is the benefit of that as long as we can use `re.match` and `re.search` directly? This technique is convenient in case we want to use a regular expression more than once. It makes our code efficient and more readable."
      ]
    },
    {
      "cell_type": "markdown",
      "metadata": {
        "id": "Q9473vr9ulue"
      },
      "source": [
        "### `re.compile(pattern, flags=0)`\n",
        "\n",
        "Compile a regular expression pattern into a regular expression object, which can be used for matching using its `match()`, `search()` and other methods.\n"
      ]
    },
    {
      "cell_type": "markdown",
      "metadata": {
        "id": "Ok50l3tBut3p"
      },
      "source": [
        "This sequence"
      ]
    },
    {
      "cell_type": "code",
      "metadata": {
        "id": "U18fGIBzulHM"
      },
      "source": [
        "inStr = 'This is my 123 example string'\n",
        "prog = re.compile(r'\\d+')\n",
        "result = prog.search(inStr)\n",
        "result"
      ],
      "execution_count": null,
      "outputs": []
    },
    {
      "cell_type": "markdown",
      "metadata": {
        "id": "jTUkorhlvI2i"
      },
      "source": [
        "is equivalent to"
      ]
    },
    {
      "cell_type": "code",
      "metadata": {
        "id": "HzvtP8zuvJ1R"
      },
      "source": [
        "result = re.search(r'\\d+', inStr)\n",
        "result"
      ],
      "execution_count": null,
      "outputs": []
    },
    {
      "cell_type": "markdown",
      "metadata": {
        "id": "PoDqB-suvSuq"
      },
      "source": [
        "By using `re.compile()` and saving the resulting regular expression object for reuse you can make your code more efficient when the expression will be used several times in a single program."
      ]
    },
    {
      "cell_type": "markdown",
      "metadata": {
        "id": "K_skVuSN0yX6"
      },
      "source": [
        "## 2. `re.finditer()`, `re.findall()`\n",
        "\n",
        "---\n",
        "\n"
      ]
    },
    {
      "cell_type": "markdown",
      "metadata": {
        "id": "bl5llsl1vtpq"
      },
      "source": [
        "## `.finditer()` VS `.findall()`\n",
        "\n",
        "* `.findall()` returns a **list** of all matches of a regex in a string.\n",
        "* `.finditer()` returns an iterator that yields regex matches.\n",
        "\n",
        "https://realpython.com/regex-python/\n",
        "\n",
        "https://realpython.com/regex-python-part-2/\n",
        "\n",
        "https://www.8bitavenue.com/difference-between-re-search-and-re-match-in-python/"
      ]
    },
    {
      "cell_type": "markdown",
      "metadata": {
        "id": "_mJASvSowOeo"
      },
      "source": [
        "`re.findall(<regex>, <string>)` returns a list of all non-overlapping matches of `<regex>` in `<string>`. It scans the search string from left to right and returns all matches in the order found:"
      ]
    },
    {
      "cell_type": "code",
      "metadata": {
        "id": "Vwnf2o3awM-q"
      },
      "source": [
        "re.findall(r'#(\\w+)#', '#foo#.#bar#.#baz#')"
      ],
      "execution_count": null,
      "outputs": []
    },
    {
      "cell_type": "markdown",
      "metadata": {
        "id": "7wVRRzgfwhsB"
      },
      "source": [
        "In this case, the specified regex is `#(\\w+)#`. The matching strings are `'#foo#'`, `'#bar#'`, and `'#baz#'`. But the hash (`#`) characters don’t appear in the return list because they’re outside the grouping parentheses.\n",
        "\n",
        "If `<regex>` contains more than one capturing group, then `re.findall()` returns a list of tuples containing the captured groups. The length of each tuple is equal to the number of groups specified:"
      ]
    },
    {
      "cell_type": "code",
      "metadata": {
        "id": "C-lRBhI9wtkp"
      },
      "source": [
        "re.findall(r'(\\w+),(\\w+)', 'foo,bar,baz,qux,quux,corge')"
      ],
      "execution_count": null,
      "outputs": []
    },
    {
      "cell_type": "code",
      "metadata": {
        "id": "y4bh8fYbwtrh"
      },
      "source": [
        "re.findall(r'(\\w+),(\\w+),(\\w+)', 'foo,bar,baz,qux,quux,corge')"
      ],
      "execution_count": null,
      "outputs": []
    },
    {
      "cell_type": "markdown",
      "metadata": {
        "id": "aUSkRmG2w9YT"
      },
      "source": [
        "`re.finditer(<regex>, <string>)` scans `<string>` for non-overlapping matches of `<regex>` and returns an iterator that yields the match objects from any it finds. It scans the search string from left to right and returns matches in the order it finds them:"
      ]
    },
    {
      "cell_type": "code",
      "metadata": {
        "id": "qaAC7w5ExD7y"
      },
      "source": [
        "it = re.finditer(r'\\w+', '...foo,,,,bar:%$baz//|')\n",
        "it"
      ],
      "execution_count": null,
      "outputs": []
    },
    {
      "cell_type": "code",
      "metadata": {
        "id": "EQyoAGdCxKQR"
      },
      "source": [
        "for i in re.finditer(r'\\w+', '...foo,,,,bar:%$baz//|'):\n",
        "  print(i.group())"
      ],
      "execution_count": null,
      "outputs": []
    },
    {
      "cell_type": "markdown",
      "metadata": {
        "id": "v6eCGt8_xW3Y"
      },
      "source": [
        "`re.findall()` and `re.finditer()` are very similar, but they differ in two respects:\n",
        "\n",
        "1. `re.findall()` returns a **list**, whereas `re.finditer()` returns an **iterator**.\n",
        "\n",
        "The items in the list that `re.findall()` returns are the actual matching strings, whereas the items yielded by the iterator that `re.finditer()` returns are match objects.\n",
        "\n",
        "Any task that you could accomplish with one, you could probably also manage with the other. Which one you choose will depend on the circumstances. However, a lot of useful information can be obtained from a match object. If you need that information, then `re.finditer()` will probably be the better choice. For example, you can use the `.group()` method to return Match object."
      ]
    },
    {
      "cell_type": "markdown",
      "metadata": {
        "id": "dwQIPGaR1k8Y"
      },
      "source": [
        "## Match objects\n",
        "\n",
        "If a match is found when using `re.finditer()`, `re.match` or `re.search`, we can use some useful methods provided by the match object. Here is a short list of such methods, you may check the reference section for more details…\n",
        "\n",
        "* `group()` returns the part of the string matched by the entire regular expression\n",
        "* `group(1)` returns the text matched by the second capturing group\n",
        "* `start()` and `end()` return the indices of the start and end of the substring matched by the capturing group."
      ]
    },
    {
      "cell_type": "markdown",
      "metadata": {
        "id": "WkAB3LTD04aZ"
      },
      "source": [
        "## 3. `re.match()`, `re.search()`"
      ]
    },
    {
      "cell_type": "markdown",
      "metadata": {
        "id": "H7RAlurEymnz"
      },
      "source": [
        "### .match() VS .search()\n",
        "\n",
        "This is the trickiest part. A good explanation is provided in this tutorial: https://www.8bitavenue.com/difference-between-re-search-and-re-match-in-python/ which is paraphrased here.\n",
        "\n",
        "Additional information can also be found at ▶\n",
        "\n",
        "https://realpython.com/regex-python/\n",
        "\n",
        "https://realpython.com/regex-python-part-2/\n",
        "\n"
      ]
    },
    {
      "cell_type": "markdown",
      "metadata": {
        "id": "S6O9JkmGzUik"
      },
      "source": [
        "When searching or matching, regular expression operations can take optional flags or modifiers. The following two modifiers are the most used ones…\n",
        "\n",
        "* `re.M multiline`\n",
        "* `re.I ignore case`"
      ]
    },
    {
      "cell_type": "markdown",
      "metadata": {
        "id": "u4wv04VDz7T5"
      },
      "source": [
        "## .match()\n",
        "\n",
        "`re.match` matches an expression at the beginning of a string. If a match is found, a match object is returned, otherwise `None` is returned. If the input is a multiline string (i.e. starts and ends with three double quotes) that does not change the behavior of the match operation. `re.match` always tries to match the beginning of the string. In regular expressions syntax, the control character (^) is used to match the beginning of a string. If this character is used with re.match, it has no effect. The syntax for `re.match` operation is as follows…\n",
        "\n"
      ]
    },
    {
      "cell_type": "markdown",
      "metadata": {
        "id": "SGnNFm3-zmGh"
      },
      "source": [
        "`mobj = re.match(pat, str, flag)`\n",
        "\n",
        "* pat: regular expression pattern to match\n",
        "* str: string in which to search for the pattern\n",
        "* flags: one or more modifiers, for example re.M|re.I"
      ]
    },
    {
      "cell_type": "markdown",
      "metadata": {
        "id": "ZP9xW7SU1N0h"
      },
      "source": [
        "### `.match(pattern, string, flags=0)`\n",
        "\n",
        "Looks for a regex match at the beginning of a string.\n",
        "\n",
        "If zero or more characters at the beginning of *string* match the regular expression *pattern*, return a corresponding match object. Return `None` if the string does not match the pattern; note that this is different from a zero-length match.\n",
        "\n",
        "This is identical to `re.search()`, except that `re.search()` returns a match if the regular expression *pattern* matches anywhere in *string*, whereas `re.match()` returns a match only if the regular expression *pattern* matches at the beginning of *string*."
      ]
    },
    {
      "cell_type": "markdown",
      "metadata": {
        "id": "6nVQbwzm0K2J"
      },
      "source": [
        "## .search()\n",
        "\n",
        "`re.search` attempts to find the first occurrence of the pattern anywhere in the input string as opposed to the beginning. If the search is successful, `re.search` returns a match object, otherwise it returns `None`. The syntax for re.search operation is as follows…"
      ]
    },
    {
      "cell_type": "markdown",
      "metadata": {
        "id": "K8FxcVyzzvyp"
      },
      "source": [
        "`mobj = re.search(pat, str, flag)`\n",
        "\n",
        "* pat: regular expression pattern to search for\n",
        "* str: string in which to search for the pattern\n",
        "* flags: one or more modifiers, for example re.M|re.I"
      ]
    },
    {
      "cell_type": "markdown",
      "metadata": {
        "id": "95Sya9XM1IQ5"
      },
      "source": [
        "### `.search(pattern, string, flags=0)`\n",
        "\n",
        "Scans a string for a regex match.\n",
        "\n",
        "Scan through *string* looking for the **first** location where the regular expression *pattern* produces a match, and return a corresponding match object. Return `None` if no position in the string matches the pattern.\n",
        "\n",
        "\n",
        "You can use this function in a Boolean context like a conditional statement that checkes if a pattern is found in the input string (`True`) or not (`False`)."
      ]
    },
    {
      "cell_type": "markdown",
      "metadata": {
        "id": "-ZzlwiubQvsG"
      },
      "source": [
        "### Substitution \n",
        "\n",
        "The `re.sub(pat, replacement, str)` function searches for all the instances of pattern in the given string, and replaces them. The replacement string can include `'\\1'`, `'\\2'` which refer to the text from `group(1)`, `group(2)`, and so on from the original matching text.\n",
        "\n",
        "Here's an example which searches for all the email addresses, and changes them to keep the user `(\\1)` but have `nyc.gov` as the host."
      ]
    },
    {
      "cell_type": "code",
      "metadata": {
        "id": "g2SL4hCNRAee"
      },
      "source": [
        "text = '''xyz my-email@citytech.edu data science or \n",
        "your_email@citytech.edu, also we can mention their.email@citytech.edu'''\n",
        "## re.sub(pat, replacement, str) -- returns new string with all replacements,\n",
        "## \\1 is group(1), \\2 group(2) in the replacement\n",
        "print (re.sub(r'([\\w\\.-]+)@([\\w\\.-]+)', r'\\1@nyc.gov', text))\n"
      ],
      "execution_count": null,
      "outputs": []
    },
    {
      "cell_type": "markdown",
      "metadata": {
        "id": "dB9dAxl_64_Q"
      },
      "source": [
        "\n",
        "\n",
        "---\n",
        "\n"
      ]
    },
    {
      "cell_type": "markdown",
      "metadata": {
        "id": "ZIs2W3Y666Uf"
      },
      "source": [
        "Another explanation of the basics of regular expressions with examples of different functions and their uses as well as descriptions of pattern-matching can be found at Geeks for Geeks post on Regular Expressions for Python here ▶ https://www.geeksforgeeks.org/regular-expression-python-examples-set-1/"
      ]
    },
    {
      "cell_type": "markdown",
      "metadata": {
        "id": "tkYUWY4b64Ku"
      },
      "source": [
        "\n",
        "\n",
        "---\n",
        "\n"
      ]
    },
    {
      "cell_type": "markdown",
      "metadata": {
        "id": "g8OL7Qq0SPl7"
      },
      "source": [
        "### CST2312 - Homework Assignment 6.1\n",
        "\n",
        "Imagine we want to conceal all phone numbers in a document.\n",
        "Read the below multiline string and substitute all phone numbers with \n",
        "\n",
        "'XXX-XXX-XXXX'"
      ]
    },
    {
      "cell_type": "code",
      "metadata": {
        "id": "hcUe9JdTSmT1"
      },
      "source": [
        "raw_text = \"\"\"512-234-5234\n",
        "foo\n",
        "bar\n",
        "124-512-5555\n",
        "biz\n",
        "125-555-5785\n",
        "679-397-5255\n",
        "2126660921\n",
        "212-998-0902\n",
        "888-888-2222\n",
        "801-555-1211\n",
        "802 555 1212\n",
        "803.555.1213\n",
        "(804) 555-1214\n",
        "1-805-555-1215\n",
        "1(806)555-1216\n",
        "807-555-1217-1234\n",
        "808-555-1218x1234\n",
        "809-555-1219 ext. 1234\n",
        "work 1-(810) 555.1220 #1234\n",
        "\"\"\""
      ],
      "execution_count": null,
      "outputs": []
    },
    {
      "cell_type": "markdown",
      "metadata": {
        "id": "pmWzw10LSqf8"
      },
      "source": [
        "### Solution for Assignment 6.1"
      ]
    },
    {
      "cell_type": "code",
      "metadata": {
        "id": "H_qzFur0SsOe"
      },
      "source": [
        "## your solution here"
      ],
      "execution_count": null,
      "outputs": []
    },
    {
      "cell_type": "markdown",
      "metadata": {
        "id": "4r0_zm3Kcsnl"
      },
      "source": [
        "*solution provided after assignments are submitted*"
      ]
    },
    {
      "cell_type": "markdown",
      "metadata": {
        "id": "6ioYbAlua1Ul"
      },
      "source": [
        "\n",
        "\n",
        "---\n",
        "\n"
      ]
    },
    {
      "cell_type": "markdown",
      "metadata": {
        "id": "t59IHzLHaUfK"
      },
      "source": [
        "# **Web APIs**"
      ]
    },
    {
      "cell_type": "markdown",
      "metadata": {
        "id": "2wgLycGMses1"
      },
      "source": [
        "\n",
        "\n",
        "---\n",
        "\n"
      ]
    },
    {
      "cell_type": "markdown",
      "metadata": {
        "id": "A-1M7TtWi3zZ"
      },
      "source": [
        "### **Reading** from the required textbook: ( [https://www.py4e.com/lessons/](https://www.py4e.com/lessons/))\n",
        "\n",
        "* [Web APIs](https://www.py4e.com/lessons/servces) (Chapter 14)"
      ]
    },
    {
      "cell_type": "markdown",
      "metadata": {
        "id": "Nlh32HK45oDw"
      },
      "source": [
        "## Interacting with Web APIs\n",
        "\n"
      ]
    },
    {
      "cell_type": "markdown",
      "metadata": {
        "id": "q4ukP5Z95oDx"
      },
      "source": [
        "We are going to examine now the concept of a Web API. A web API is similar to a function call, but the \"function\" that we call is located in another machine, and we submit the parameters of the function through the web.\n",
        "\n"
      ]
    },
    {
      "cell_type": "markdown",
      "metadata": {
        "id": "eOYdO1hBsgSx"
      },
      "source": [
        "\n",
        "\n",
        "---\n",
        "\n"
      ]
    },
    {
      "cell_type": "markdown",
      "metadata": {
        "id": "Bb_fMB4B5oDy"
      },
      "source": [
        "## First Example: GeoIP resolution"
      ]
    },
    {
      "cell_type": "markdown",
      "metadata": {
        "id": "IvtQkI6J5oDy"
      },
      "source": [
        "We will start with an example that is doing a \"geoIP\" resolution: it takes the IP of a computer and returns back its location.\n",
        "\n",
        "## Students, you will need to get an API here from here: https://ipstack.com/"
      ]
    },
    {
      "cell_type": "code",
      "metadata": {
        "id": "1JNhzmLo5oD2"
      },
      "source": [
        "# We first import the requests library\n",
        "import requests\n",
        "api_key = \"?\"  # replace with ? for general users\n",
        "url = 'http://api.ipstack.com/check?access_key='+api_key\n",
        "resp = requests.get(url)"
      ],
      "execution_count": null,
      "outputs": []
    },
    {
      "cell_type": "code",
      "metadata": {
        "id": "1oJEpTBB3nAX"
      },
      "source": [
        "print(resp)"
      ],
      "execution_count": null,
      "outputs": []
    },
    {
      "cell_type": "code",
      "metadata": {
        "id": "RBmdw6ae1rAZ"
      },
      "source": [
        "# the straightforward version of the last snippet\n",
        "import requests\n",
        "response = requests.get('http://api.ipstack.com/check?access_key=95b375e4a1fde01c2b4520270c8cdf64')"
      ],
      "execution_count": null,
      "outputs": []
    },
    {
      "cell_type": "code",
      "metadata": {
        "id": "PLiyFK0-3FFJ"
      },
      "source": [
        "print(response)"
      ],
      "execution_count": null,
      "outputs": []
    },
    {
      "cell_type": "code",
      "metadata": {
        "id": "cBepBZer5oD4"
      },
      "source": [
        "# The resp object encapsulates the \"response\" of the server\n",
        "# Notice the status code that is displayed. \n",
        "# Code 200 means that things went fine\n",
        "# Code 404 means that the URL was not found\n",
        "# Codes 5xx mean that something went wrong\n",
        "resp"
      ],
      "execution_count": null,
      "outputs": []
    },
    {
      "cell_type": "code",
      "metadata": {
        "id": "YFUqUmiI5oD6"
      },
      "source": [
        "if (resp.status_code == 200):\n",
        "    print(\"Everything was ok:\", resp.status_code)\n",
        "else:\n",
        "    print(\"There was a problem:\", resp.status_code)"
      ],
      "execution_count": null,
      "outputs": []
    },
    {
      "cell_type": "code",
      "metadata": {
        "id": "uU9KIJMG5oD9"
      },
      "source": [
        "# Let's see the content of the response\n",
        "# As you can see, it contain the JSON response\n",
        "data = resp.text\n",
        "data"
      ],
      "execution_count": null,
      "outputs": []
    },
    {
      "cell_type": "code",
      "metadata": {
        "id": "_lmUJli55oD_"
      },
      "source": [
        "# We want to transform the JSON file into a Python dictionary object\n",
        "# We use the response.json() command to get back a dictionary\n",
        "data = resp.json()"
      ],
      "execution_count": null,
      "outputs": []
    },
    {
      "cell_type": "code",
      "metadata": {
        "id": "NHlDhRrg5oEC"
      },
      "source": [
        "# Now data is a Python dictionary\n",
        "data"
      ],
      "execution_count": null,
      "outputs": []
    },
    {
      "cell_type": "code",
      "metadata": {
        "id": "YPvH0mir5oEE"
      },
      "source": [
        "# And we can access the fields of the JSON as we normally access Python dictionary entries\n",
        "print(\"Lon:\", data[\"longitude\"], \"Lat:\", data[\"latitude\"])"
      ],
      "execution_count": null,
      "outputs": []
    },
    {
      "cell_type": "code",
      "metadata": {
        "id": "0gKDg7BH5Uk7"
      },
      "source": [
        "other_data = response.json()"
      ],
      "execution_count": null,
      "outputs": []
    },
    {
      "cell_type": "code",
      "metadata": {
        "id": "pOXvm2Ey5dZH"
      },
      "source": [
        "other_data"
      ],
      "execution_count": null,
      "outputs": []
    },
    {
      "cell_type": "markdown",
      "metadata": {
        "id": "zUCBtp7i5oEG"
      },
      "source": [
        "And in one piece:"
      ]
    },
    {
      "cell_type": "code",
      "metadata": {
        "id": "pbjZuT8K5oEH"
      },
      "source": [
        "import requests\n",
        "api_key=\"?\"  # replace the ? with your API key\n",
        "url = 'http://api.ipstack.com/check?access_key='+api_key\n",
        "resp = requests.get(url)\n",
        "data = resp.json()\n",
        "print(\"Lon:\", data[\"longitude\"], \"Lat:\", data[\"latitude\"])"
      ],
      "execution_count": null,
      "outputs": []
    },
    {
      "cell_type": "markdown",
      "metadata": {
        "id": "0RsH81Ve5oEJ"
      },
      "source": [
        "## Using Parameters with API Calls\n"
      ]
    },
    {
      "cell_type": "markdown",
      "metadata": {
        "id": "xMIDu1UO5oEK"
      },
      "source": [
        "\n",
        "The first API call that we tried was very simple. We just fetched a URL. Now let's see a URL that accepts as input a set of **parameters**. We have already seen this concept with functions; the parameters of the API calls are the exact equivalent but for Web APIs, which are, at their core, functions that we call over the web. "
      ]
    },
    {
      "cell_type": "markdown",
      "metadata": {
        "id": "GMB-uDOS5oEK"
      },
      "source": [
        "### Example: OpenWeatherMap"
      ]
    },
    {
      "cell_type": "markdown",
      "metadata": {
        "id": "PhGVVXZZ5oEK"
      },
      "source": [
        "Let's try to query OpenWeatherMap now, to get data about the weather. [Documentation](http://openweathermap.org/current#geo). Below you can find the URL that you can copy and paste in your browser, to get the weather for New York. You will notice that it contains parameters as part of the URL, including an `appid` which is a key that is used to limit the number of calls that can be issued by a single application. \n",
        "\n",
        "Try the URL in your browser. Also try to change the query parameter `q` and change it from `New%20York,NY` to something different. (Note: The `%20` is a transformation for the space (` `) character in URLs.)\n",
        "\n",
        "## Students, you will need to get an API key from here: https://openweathermap.org/price"
      ]
    },
    {
      "cell_type": "markdown",
      "metadata": {
        "id": "eixD0Nt15oEL"
      },
      "source": [
        "Below you can find the same code, but now we have a Python dictionary to organize and list the parameters."
      ]
    },
    {
      "cell_type": "code",
      "metadata": {
        "id": "WV29M-qn5oEM"
      },
      "source": [
        "import requests\n",
        "\n",
        "openweathermap_url = \"http://api.openweathermap.org/data/2.5/weather\"\n",
        "parameters = {\n",
        "    'q'     : 'New York, NY, USA',\n",
        "    'units' : 'metric',\n",
        "    'mode'  : 'json',\n",
        "    'appid' : API_key\n",
        "}\n",
        "resp = requests.get(openweathermap_url, params=parameters)\n",
        "data = resp.json()\n",
        "data"
      ],
      "execution_count": null,
      "outputs": []
    },
    {
      "cell_type": "code",
      "metadata": {
        "id": "1N3YVzrr0u3y"
      },
      "source": [
        "resp = requests.get(\"http://api.openweathermap.org/data/2.5/weather?q=New%20York,NY,USA&units=imperial&mode=json&appid=\"+API_key\")\n",
        "data = resp.json()\n",
        "data"
      ],
      "execution_count": null,
      "outputs": []
    },
    {
      "cell_type": "markdown",
      "metadata": {
        "id": "Z9dRT8qD5oEO"
      },
      "source": [
        "### CST2312 - Homework Assignment 6.2"
      ]
    },
    {
      "cell_type": "markdown",
      "metadata": {
        "id": "ekPCIVjw5oEP"
      },
      "source": [
        "\n",
        "a. Extract the current temperature from the returned JSON response.\n"
      ]
    },
    {
      "cell_type": "code",
      "metadata": {
        "id": "SY28R1Y75oEP"
      },
      "source": [
        "# your code here\n",
        "data['main']['feels_like'] "
      ],
      "execution_count": null,
      "outputs": []
    },
    {
      "cell_type": "markdown",
      "metadata": {
        "id": "nfwlbmry5oES"
      },
      "source": [
        "b. Extract the description of the current weather"
      ]
    },
    {
      "cell_type": "code",
      "metadata": {
        "id": "Vbdw_5P45oES"
      },
      "source": [
        "# your code here\n",
        "data['weather'][0]['description']"
      ],
      "execution_count": null,
      "outputs": []
    },
    {
      "cell_type": "markdown",
      "metadata": {
        "id": "_sawiHGJ5oEU"
      },
      "source": [
        "c. Try to change the units to `metric` and repeat\n"
      ]
    },
    {
      "cell_type": "code",
      "metadata": {
        "id": "rqf09h-45oEV"
      },
      "source": [
        "# your code here"
      ],
      "execution_count": null,
      "outputs": []
    },
    {
      "cell_type": "markdown",
      "metadata": {
        "id": "PGfhbHOx5oEX"
      },
      "source": [
        "d. Get the weather for San Francisco, CA\n",
        "\n"
      ]
    },
    {
      "cell_type": "markdown",
      "metadata": {
        "solution2": "hidden",
        "solution2_first": true,
        "id": "T86ZQN7_5oEa"
      },
      "source": [
        "### Solution for Assignment 6.2"
      ]
    },
    {
      "cell_type": "code",
      "metadata": {
        "id": "l3dE9net5oEY"
      },
      "source": [
        "# your code here"
      ],
      "execution_count": null,
      "outputs": []
    },
    {
      "cell_type": "markdown",
      "metadata": {
        "id": "BUi_PTUjs55i"
      },
      "source": [
        "*solution provided after assignments are submitted*"
      ]
    },
    {
      "cell_type": "markdown",
      "metadata": {
        "id": "WPeS6UP75oEi"
      },
      "source": [
        "### CST2312 - Homework Assignment 6.3\n"
      ]
    },
    {
      "cell_type": "markdown",
      "metadata": {
        "id": "1XrRy0Nm5oEj"
      },
      "source": [
        "* Study the documentation of the API ([Documentation](http://openweathermap.org/current#geo)). Change the API call to use the longitute and latitude."
      ]
    },
    {
      "cell_type": "markdown",
      "metadata": {
        "solution2": "hidden",
        "solution2_first": true,
        "id": "60HrzpCx5oEl"
      },
      "source": [
        "### Solution for Assignment 6.3"
      ]
    },
    {
      "cell_type": "code",
      "metadata": {
        "id": "9GnrllAp5oEj"
      },
      "source": [
        "# your code here"
      ],
      "execution_count": null,
      "outputs": []
    },
    {
      "cell_type": "markdown",
      "metadata": {
        "id": "5iiH3mDDtE9r"
      },
      "source": [
        "*solution provided after assignments are submitted*"
      ]
    },
    {
      "cell_type": "markdown",
      "metadata": {
        "id": "eqp-2T7M5oEn"
      },
      "source": [
        "### CST2312 - Homework Assignment 6.4\n",
        "\n"
      ]
    },
    {
      "cell_type": "markdown",
      "metadata": {
        "id": "kjTTJcSi5oEo"
      },
      "source": [
        "Read the location of your computer using the GeoIP API. Then use the OpenWeatherMap to query the API and fetch the temperature for the location returned by the GeoIP API. For this exercise, you will need to learn to read variables from a Web API (geoip) and use them as input in another (openweathermap)"
      ]
    },
    {
      "cell_type": "markdown",
      "metadata": {
        "solution2": "hidden",
        "solution2_first": true,
        "id": "-FoO_rKL5oEr"
      },
      "source": [
        "### Solution for Assignment 6.4"
      ]
    },
    {
      "cell_type": "code",
      "metadata": {
        "id": "h4NRMpCm5oEo"
      },
      "source": [
        "#your code here"
      ],
      "execution_count": null,
      "outputs": []
    },
    {
      "cell_type": "markdown",
      "metadata": {
        "id": "jTUpljI2tHnf"
      },
      "source": [
        "*solution provided after assignments are submitted*\n"
      ]
    },
    {
      "cell_type": "markdown",
      "metadata": {
        "id": "CPksCu_htJPE"
      },
      "source": [
        "\n",
        "\n",
        "---\n",
        "\n"
      ]
    },
    {
      "cell_type": "markdown",
      "metadata": {
        "id": "3npHRrrxtKf-"
      },
      "source": [
        "*Submit your solutions to the assignment on BlackBoard.  Please download your entire Colab notebook and submit the file downloaded.  The assignment on blackboard will have more details. Please be sure to successfully complete each of assignments 6.1, 6.2, 6.3, and 6.4.*"
      ]
    },
    {
      "cell_type": "markdown",
      "metadata": {
        "id": "_LoLDugAtdq_"
      },
      "source": [
        "\n",
        "\n",
        "---\n",
        "\n"
      ]
    },
    {
      "cell_type": "markdown",
      "metadata": {
        "id": "OT9VWK3qX9GB"
      },
      "source": [
        "# **eXtensible Markup Language - XML**"
      ]
    },
    {
      "cell_type": "markdown",
      "metadata": {
        "id": "z4vOf_zlX7au"
      },
      "source": [
        "\n",
        "\n",
        "---\n",
        "\n"
      ]
    },
    {
      "cell_type": "markdown",
      "metadata": {
        "id": "kCzi_3O8YVYw"
      },
      "source": [
        "## **Data on the Web**\n",
        "\n",
        "With the HTTP Request/Response well understood and well supported, there was a natural move toward exchanging data between programs using these protocols\n",
        "\n",
        "We needed to come up with an agreed way to represent data going between applications and across networks\n",
        "\n",
        "There are two commonly used formats: **XML** and **JSON**\n",
        "\n",
        "*We sometimes refer to data in transit across the web as 'data on the wire' which refers to an outadated technical term 'wire protocol'*"
      ]
    },
    {
      "cell_type": "markdown",
      "metadata": {
        "id": "hnrYQ9zEZMe3"
      },
      "source": [
        "To move data across a network, we must agree on a protocol or 'wire protocol' as Severance refers to it.  \n",
        "\n",
        "The protocol sets the format and rules for structuring data in motion from a source system which much serialize its data for transmission to a recipient which must de-serialize incoming data to store.\n",
        "\n",
        "Two popular protocols for data transmission are **XML** and **JSON**:\n",
        "*   **XML** moves metadata with data and has greater discipline\n",
        "*   **JSON** is easier for may web use cases, though less disciplined\n"
      ]
    },
    {
      "cell_type": "markdown",
      "metadata": {
        "id": "jfmUuygMlp-I"
      },
      "source": [
        "More about **XML**: http://en.wikipedia.org/wiki/XML\n",
        " "
      ]
    },
    {
      "cell_type": "markdown",
      "metadata": {
        "id": "DqHwabwTaJC7"
      },
      "source": [
        "Example of XML formatted data in transit:\n",
        "\n",
        "\n"
      ]
    },
    {
      "cell_type": "markdown",
      "metadata": {
        "id": "kcy_2ns1ZjIK"
      },
      "source": [
        "![PPT-single-slide_for-colab.png](data:image/png;base64,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)"
      ]
    },
    {
      "cell_type": "markdown",
      "metadata": {
        "id": "RHGFt2oJYjtG"
      },
      "source": [
        "Line ends do not matter.  White space is generally discarded on text elements.  We indent only to be readable.\n",
        "\n",
        "Some important considerations :\n",
        "*   While **XML** may look like **HTML**, the **tags** in **XML** can be used-defined, though a **schema** may impose specific constraints on **tag** names (*hold that thought*).\n",
        "*   **Attributes** are expressed as **key value pairs** -- there is no **:** between the **key name** and the **value**, which is always expressed as a string in double quotes.\n",
        "*   **Self-closing tags** are short tags with all of their content enclosed in one pair of angled brackets (< and >).\n",
        "\n",
        "\n",
        "We can envision the hierarchical structure of an XML data transfer as a tree.\n"
      ]
    },
    {
      "cell_type": "markdown",
      "metadata": {
        "id": "s6VhrSzapFMC"
      },
      "source": [
        "![PPT-single-slide_for-colab.png](data:image/png;base64,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)"
      ]
    },
    {
      "cell_type": "markdown",
      "metadata": {
        "id": "5URWQbaOops5"
      },
      "source": [
        "**XML Terminology**\n",
        "\n",
        "*   **Tags** - indicate the beginning and ending of elements\n",
        "\n",
        "*   **Attributes** - Keyword/value pairs on the opening tag of XML\n",
        "\n",
        "*   **Serialize / De-Serialize** - Convert data in one program into a common format that can be stored and/or transmitted between systems in a programming language-independent manner\n",
        "\n",
        "\n",
        "http://en.wikipedia.org/wiki/Serialization\n",
        "\n",
        "\n"
      ]
    },
    {
      "cell_type": "markdown",
      "metadata": {
        "id": "ipuh5nSmpIi9"
      },
      "source": [
        "![PPT-single-slide_for-colab.png](data:image/png;base64,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)"
      ]
    },
    {
      "cell_type": "markdown",
      "metadata": {
        "id": "I4dvJ0FBqB4a"
      },
      "source": [
        "The branches of an XML structure's tree lead down to attributes or text nodes. "
      ]
    },
    {
      "cell_type": "markdown",
      "metadata": {
        "id": "O2lZoD3tqU8_"
      },
      "source": [
        "![PPT-single-slide_for-colab.png](data:image/png;base64,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)"
      ]
    },
    {
      "cell_type": "markdown",
      "metadata": {
        "id": "NpE2MXsf2hx5"
      },
      "source": [
        "Try this example which uses a string variable **data** to present **XML** data which might be received from a web service."
      ]
    },
    {
      "cell_type": "code",
      "metadata": {
        "id": "hYv46DLb4-9v"
      },
      "source": [
        "# from Charles Severance, Python for Everyone\n",
        "# Web Services lesson, xml1.py example program\n",
        "\n",
        "# try to import xml module\n",
        "try:\n",
        "    import xml.etree.ElementTree as ET\n",
        "except:\n",
        "    raise Exception(\"Unable to import xml module.\")\n",
        "\n",
        "\n",
        "# assign xml text to the string variable data \n",
        "data = '''<person>\n",
        "  <name>Chuck</name>\n",
        "  <phone type=\"intl\">\n",
        "     +1 734 303 4456\n",
        "   </phone>\n",
        "   <email hide=\"yes\"/>\n",
        "</person>'''\n",
        "\n",
        "# create instance of ElementTree (ET) as tree with data\n",
        "tree = ET.fromstring(data)\n",
        "\n",
        "# print using find() method in the element tree\n",
        "print('Name:',tree.find('name').text)          # finds text\n",
        "print('Attr:',tree.find('email').get('hide'))  # gets attribute\n"
      ],
      "execution_count": null,
      "outputs": []
    },
    {
      "cell_type": "markdown",
      "metadata": {
        "id": "rOLIH1Sa5A5H"
      },
      "source": [
        "Try this example which uses a string variable **input** to present **XML** data for one or more **user** elements in the tree **stuff**. "
      ]
    },
    {
      "cell_type": "code",
      "metadata": {
        "id": "4v0hOmFK65bu",
        "colab": {
          "base_uri": "https://localhost:8080/"
        },
        "outputId": "9b6d21d7-b553-4a89-a59d-5b8190a1c010"
      },
      "source": [
        "# from Charles Severance, Python for Everyone\n",
        "# Web Services lesson, xml2.py example program\n",
        "\n",
        "# try to import xml module\n",
        "try:\n",
        "    import xml.etree.ElementTree as ET\n",
        "except:\n",
        "    raise Exception(\"Unable to import xml module.\")\n",
        "\n",
        "# assign xml text to the string variable input \n",
        "input = '''<stuff>\n",
        "    <users>\n",
        "        <user x=\"2\">\n",
        "            <id>001</id>\n",
        "            <name>Chuck</name>\n",
        "        </user>\n",
        "        <user x=\"7\">\n",
        "            <id>009</id>\n",
        "            <name>Brent</name>\n",
        "        </user>\n",
        "    </users>\n",
        "</stuff>'''\n",
        "\n",
        "# create instance of ElementTree (ET) as stuff with data\n",
        "stuff = ET.fromstring(input)\n",
        "\n",
        "# create the list lst by finding elements for each user in stuff\n",
        "lst = stuff.findall('users/user')\n",
        "# check how many users were added to the list lst\n",
        "print('User count:', len(lst), \"\\n\")\n",
        "print('User list: ', lst, \"\\n\")\n",
        "\n",
        "\n",
        "# use a for loop to process the list (lst) of user data and print elements\n",
        "for item in lst:\n",
        "    print('Processing item: ', item)\n",
        "    print('Name', item.find('name').text)\n",
        "    print('Id', item.find('id').text)\n",
        "    print('Attribute', item.get(\"x\"))\n",
        "    print()\n"
      ],
      "execution_count": 7,
      "outputs": [
        {
          "output_type": "stream",
          "name": "stdout",
          "text": [
            "User count: 2 \n",
            "\n",
            "User list:  [<Element 'user' at 0x7f357091a0b0>, <Element 'user' at 0x7f3570962bf0>] \n",
            "\n",
            "Processing item:  <Element 'user' at 0x7f357091a0b0>\n",
            "Name Chuck\n",
            "Id 001\n",
            "Attribute 2\n",
            "\n",
            "Processing item:  <Element 'user' at 0x7f3570962bf0>\n",
            "Name Brent\n",
            "Id 009\n",
            "Attribute 7\n",
            "\n"
          ]
        }
      ]
    },
    {
      "cell_type": "markdown",
      "metadata": {
        "id": "feIck4McrDnF"
      },
      "source": [
        "\n",
        "\n",
        "---\n",
        "\n"
      ]
    },
    {
      "cell_type": "markdown",
      "metadata": {
        "id": "ALwlp_N6qszG"
      },
      "source": [
        "### **XML Schema**\n",
        "\n",
        "Describing a “contract” or specification as to what is acceptable **XML**\n",
        "\n",
        "*   Description of the legal format of an XML document\n",
        "*   Expressed in terms of constraints on the structure and content of documents\n",
        "*   Often used to specify a “contract” between systems - “My system will only accept XML that conforms to this particular Schema.”\n",
        "*   If a particular piece of XML meets the specification of the Schema - it is said to “validate”\n",
        "\n",
        "\n",
        "http://en.wikipedia.org/wiki/Xml_schema\n",
        "\n",
        "http://en.wikibooks.org/wiki/XML_Schema\n",
        " \n"
      ]
    },
    {
      "cell_type": "markdown",
      "metadata": {
        "id": "7geE_oDWqji1"
      },
      "source": [
        "The **XML** validation process includes a **validator** which takes both an **XML document** and an **XML schema** as input.  If the **validator** finds that the **document** met the requirements of the **schema**, then the **document** is **validated**. \n"
      ]
    },
    {
      "cell_type": "markdown",
      "metadata": {
        "id": "RQFkaxmMsyL0"
      },
      "source": [
        "![PPT-single-slide_for-colab.png](data:image/png;base64,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)"
      ]
    },
    {
      "cell_type": "markdown",
      "metadata": {
        "id": "iWllHUw8If31"
      },
      "source": [
        "The WorldWide Web Consortium (W3C) supports an online validor for different standards of markup language supported by the W3C :\n",
        "\n",
        "https://validator.w3.org/ "
      ]
    },
    {
      "cell_type": "markdown",
      "metadata": {
        "id": "UUCc1fqjtGDP"
      },
      "source": [
        "There are many XML schema languages\n",
        "\n",
        "Some examples:\n",
        "\n",
        "*   Document Type Definition (**DTD**) - http://en.wikipedia.org/wiki/Document_Type_Definition\n",
        "*   Standard Generalized Markup Language (**ISO 8879:1986 SGML**) - http://en.wikipedia.org/wiki/SGML\n",
        "*   XML Schema from W3C (**XSD**) - http://en.wikipedia.org/wiki/XML_Schema_(W3C)\n",
        "*   Supply-Chain Markup Language (**SCML**) - http://hkilter.com/index.php?title=Supply_Chain_Markup_Language_(SCML) \n",
        "*   eXtensible Business Reporting Language (**XBRL**) - https://en.wikipedia.org/wiki/XBRL \n",
        "*   **Recipe** Schema (yes, a schema for cooking recipes) - https://schema.org/Recipe\n",
        "*   ... plus, many more...\n",
        "\n"
      ]
    },
    {
      "cell_type": "markdown",
      "metadata": {
        "id": "qMxTxbBxwk6F"
      },
      "source": [
        "### **XSD XML Schema**\n",
        "\n",
        "*(W3C specification)*\n",
        "\n",
        "*   We will focus on the World Wide Web Consortium (W3C) version\n",
        "*   It is often called “W3C Schema” because “Schema” is considered generic\n",
        "*   More commonly it is called XSD because the file names end in .xsd\n",
        "\n"
      ]
    },
    {
      "cell_type": "markdown",
      "metadata": {
        "id": "Fcyb0mWZwsZ9"
      },
      "source": [
        "![PPT-single-slide_for-colab.png](data:image/png;base64,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)"
      ]
    },
    {
      "cell_type": "markdown",
      "metadata": {
        "id": "oQYqq2puw8Mi"
      },
      "source": [
        "The XSD schema imposes certain constraints.\n",
        "\n",
        "See these references for details on the schema specification:\n",
        "\n",
        "\n",
        "*   http://www.w3.org/XML/Schema\n",
        "\n",
        "*   http://en.wikipedia.org/wiki/XML_Schema_(W3C)\n",
        "\n",
        "*   http://www.w3schools.com/Schema/schema_complex_indicators.asp\n",
        "\n",
        "*   http://www.w3schools.com/Schema/schema_dtypes_numeric.asp\n"
      ]
    },
    {
      "cell_type": "markdown",
      "metadata": {
        "id": "HdLZ1xG9xpSN"
      },
      "source": [
        "![PPT-single-slide_for-colab.png](data:image/png;base64,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)"
      ]
    },
    {
      "cell_type": "markdown",
      "metadata": {
        "id": "cDUVR76SzEsN"
      },
      "source": [
        "![PPT-single-slide_for-colab.png](data:image/png;base64,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)"
      ]
    },
    {
      "cell_type": "markdown",
      "metadata": {
        "id": "aKrvMhYvTMrO"
      },
      "source": [
        "\n",
        "\n",
        "---\n",
        "\n"
      ]
    },
    {
      "cell_type": "markdown",
      "metadata": {
        "id": "u8SeIJqhbQvu"
      },
      "source": [
        "### ***XSD Schema Validator Example***\n",
        "*from Kite.com*"
      ]
    },
    {
      "cell_type": "markdown",
      "metadata": {
        "id": "IqSyK2RGZ1HK"
      },
      "source": [
        "For the following example Python validator code, two files were uploaded to a /data subfolder of my Google Drive \n",
        "\n",
        "*   **sample.xml**\n",
        "*   **schema.xsd**\n",
        "\n",
        "These files contained examples from *Kite.com* which are presented in the next two cells of this notebook."
      ]
    },
    {
      "cell_type": "markdown",
      "metadata": {
        "id": "SLrTHAefaayv"
      },
      "source": [
        "**file - sample.xml**\n",
        "\n"
      ]
    },
    {
      "cell_type": "code",
      "metadata": {
        "id": "A5J3YdzraqKH"
      },
      "source": [
        "<?xml version=\"1.0\"?>\n",
        "<country name=\"Afghanistan\">\n",
        "  <population>32225560</population>\n",
        "  <area>652000</area>\n",
        "  <capital>Kabul</capital>\n",
        "</country>"
      ],
      "execution_count": null,
      "outputs": []
    },
    {
      "cell_type": "markdown",
      "metadata": {
        "id": "XaaKr-zqaadd"
      },
      "source": [
        "**file - schema.xsd**"
      ]
    },
    {
      "cell_type": "code",
      "metadata": {
        "id": "McxsXFZGaxM1"
      },
      "source": [
        "<?xml version=\"1.0\"?>\n",
        "<xs:schema xmlns:xs=\"http://www.w3.org/2001/XMLSchema\">\n",
        "\n",
        "<xs:element name=\"country\">\n",
        "  <xs:complexType>\n",
        "    <xs:sequence>\n",
        "      <xs:element name=\"population\" type=\"xs:integer\"/>\n",
        "      <xs:element name=\"area\" type=\"xs:integer\"/>\n",
        "      <xs:element name=\"capital\" type=\"xs:string\"/>\n",
        "    </xs:sequence>\n",
        "    <xs:attribute name=\"name\" type=\"xs:string\"/>\n",
        "  </xs:complexType>\n",
        "</xs:element>\n",
        "\n",
        "</xs:schema>"
      ],
      "execution_count": null,
      "outputs": []
    },
    {
      "cell_type": "markdown",
      "metadata": {
        "id": "CZZkd-u3UuQS"
      },
      "source": [
        "First, if it is not already mounted, mount Google Drive"
      ]
    },
    {
      "cell_type": "code",
      "metadata": {
        "colab": {
          "base_uri": "https://localhost:8080/"
        },
        "id": "MNc_kKlSUtAW",
        "outputId": "b848fcdb-b874-4f8a-ae32-e7bf67d91c30"
      },
      "source": [
        "from google.colab import drive\n",
        "drive.mount('/content/gdrive')"
      ],
      "execution_count": 8,
      "outputs": [
        {
          "output_type": "stream",
          "name": "stdout",
          "text": [
            "Mounted at /content/gdrive\n"
          ]
        }
      ]
    },
    {
      "cell_type": "markdown",
      "metadata": {
        "id": "j3t--gKMVC-3"
      },
      "source": [
        "Open handles for the **XML** file and the **XSD** file, respectively as **xml_handle** and **xsd_handle**"
      ]
    },
    {
      "cell_type": "code",
      "metadata": {
        "id": "etQKTwdEVICG"
      },
      "source": [
        "xml_handle = open(\"/content/gdrive/My Drive/data/sample.xml\")\n",
        "xsd_handle = open(\"/content/gdrive/My Drive/data/schema.xsd\")"
      ],
      "execution_count": 9,
      "outputs": []
    },
    {
      "cell_type": "markdown",
      "metadata": {
        "id": "rpI16yqxVnyb"
      },
      "source": [
        "Use **etree** to validate the **sample.xml** using **schema.xsd**"
      ]
    },
    {
      "cell_type": "code",
      "metadata": {
        "id": "dzTuzF4wV9n3"
      },
      "source": [
        "# from Kite.com\n",
        "# How to validate an XML file with an XML schema in Python\n",
        "# updated for Colab by Professor Patrick, 07-Nov-2021\n",
        "\n",
        "# try to import xml module\n",
        "try:\n",
        "    from lxml import etree\n",
        "except:\n",
        "    raise Exception(\"Unable to import lxml module.\")\n",
        "\n",
        "# reset the files to their beginning\n",
        "xml_handle.seek(0)\n",
        "xsd_handle.seek(0)\n",
        "\n",
        "# create the object xml_file using etree to parse xml_handle\n",
        "xml_file = lxml.etree.parse(xml_handle) \n",
        "\n",
        "# create the object xml_validator using etree XMLSchema \n",
        "xml_validator = lxml.etree.XMLSchema(file=xsd_handle) \n",
        "\n",
        "# create a Boolean variable for the validate*( result)\n",
        "is_valid = xml_validator.validate(xml_file)\n",
        "\n",
        "# print the Boolean result\n",
        "print(\"The results of validating XML file: \\n\", xml_handle.name, \"\\n using XSD schema: \\n\", xsd_handle.name, \"\\n is: \", is_valid)"
      ],
      "execution_count": null,
      "outputs": []
    },
    {
      "cell_type": "markdown",
      "metadata": {
        "id": "FiCQcXpciSX1"
      },
      "source": [
        "### ***XSD Schema Validator w/ PY4E Files***\n",
        "\n",
        "*using code from Kite.com*"
      ]
    },
    {
      "cell_type": "markdown",
      "metadata": {
        "id": "R8Cn8ZsmjyT6"
      },
      "source": [
        "For the following example Python validator code, two files were uploaded to a /data subfolder of my Google Drive \n",
        "\n",
        "*   **py4e_sample.xml**\n",
        "*   **py4e_schema.xsd**\n",
        "\n",
        "These files contained examples from the Python for Everyone site by Chales Severance at *py4e.com* which are presented in the next two cells of this notebook."
      ]
    },
    {
      "cell_type": "markdown",
      "metadata": {
        "id": "hP7w599TjyT7"
      },
      "source": [
        "**file - py4e_sample.xml**\n",
        "\n"
      ]
    },
    {
      "cell_type": "code",
      "metadata": {
        "id": "PlCTy9KojyT7"
      },
      "source": [
        "<?xml version=\"1.0\"?>\n",
        "<person>\n",
        "  <full_name>Tove Refsnes</full_name>\n",
        "  <child_name>Hege</child_name>\n",
        "  <child_name>Stale</child_name>\n",
        "  <child_name>Jim</child_name>\n",
        "  <child_name>Borge</child_name>\n",
        "</person>"
      ],
      "execution_count": null,
      "outputs": []
    },
    {
      "cell_type": "markdown",
      "metadata": {
        "id": "cMP9dvDXjyT7"
      },
      "source": [
        "**file - py4e_schema.xsd**"
      ]
    },
    {
      "cell_type": "code",
      "metadata": {
        "id": "7JbQhTa-jyT7"
      },
      "source": [
        "<?xml version=\"1.0\"?>\n",
        "<xs:schema xmlns:xs=\"http://www.w3.org/2001/XMLSchema\">\n",
        "\n",
        "<xs:element name=\"person\">\n",
        "  <xs:complexType>\n",
        "    <xs:sequence>\n",
        "      <xs:element name=\"full_name\" type=\"xs:string\"  \n",
        "          minOccurs=\"1\" maxOccurs=\"1\" />\n",
        "      <xs:element name=\"child_name\" type=\"xs:string\" \n",
        "            minOccurs=\"0\" maxOccurs=\"10\" />\n",
        "    </xs:sequence>\n",
        "  </xs:complexType>\n",
        "</xs:element>\n",
        "\n",
        "\n",
        "</xs:schema>"
      ],
      "execution_count": null,
      "outputs": []
    },
    {
      "cell_type": "markdown",
      "metadata": {
        "id": "DVzdtjgXjyT7"
      },
      "source": [
        "First, if it is not already mounted, mount Google Drive"
      ]
    },
    {
      "cell_type": "code",
      "metadata": {
        "colab": {
          "base_uri": "https://localhost:8080/"
        },
        "id": "VcUBb2fojyT7",
        "outputId": "65202b75-ce68-4ec0-c38f-ef0de041e968"
      },
      "source": [
        "from google.colab import drive\n",
        "drive.mount('/content/gdrive')"
      ],
      "execution_count": 18,
      "outputs": [
        {
          "output_type": "stream",
          "name": "stdout",
          "text": [
            "Drive already mounted at /content/gdrive; to attempt to forcibly remount, call drive.mount(\"/content/gdrive\", force_remount=True).\n"
          ]
        }
      ]
    },
    {
      "cell_type": "markdown",
      "metadata": {
        "id": "jX0VTcF0jyT7"
      },
      "source": [
        "Open handles for the **XML** file and the **XSD** file, respectively as **xml_handle** and **xsd_handle**"
      ]
    },
    {
      "cell_type": "code",
      "metadata": {
        "id": "8NNdV1GJjyT8"
      },
      "source": [
        "xml_handle = open(\"/content/gdrive/My Drive/data/py4e_sample.xml\")\n",
        "xsd_handle = open(\"/content/gdrive/My Drive/data/py4e_schema.xsd\")"
      ],
      "execution_count": 19,
      "outputs": []
    },
    {
      "cell_type": "markdown",
      "metadata": {
        "id": "mfvkBRbDjyT8"
      },
      "source": [
        "Use **etree** to validate the **py4e_sample.xml** using **py4e_schema.xsd**"
      ]
    },
    {
      "cell_type": "code",
      "metadata": {
        "id": "sj2nCaAdjyT8"
      },
      "source": [
        "# from Kite.com\n",
        "# How to validate an XML file with an XML schema in Python\n",
        "# updated for Colab by Professor Patrick, 07-Nov-2021\n",
        "\n",
        "# try to import xml module\n",
        "try:\n",
        "    from lxml import etree\n",
        "except:\n",
        "    raise Exception(\"Unable to import lxml module.\")\n",
        "\n",
        "# reset the files to their beginning\n",
        "xml_handle.seek(0)\n",
        "xsd_handle.seek(0)\n",
        "\n",
        "# create the object xml_file using etree to parse xml_handle\n",
        "xml_file = lxml.etree.parse(xml_handle) \n",
        "\n",
        "# create the object xml_validator using etree XMLSchema \n",
        "xml_validator = lxml.etree.XMLSchema(file=xsd_handle) \n",
        "\n",
        "# create a Boolean variable for the validate*( result)\n",
        "is_valid = xml_validator.validate(xml_file)\n",
        "\n",
        "# print the Boolean result\n",
        "print(\"The results of validating XML file: \\n\", xml_handle.name, \"\\n using XSD schema: \\n\", xsd_handle.name, \"\\n is: \", is_valid)"
      ],
      "execution_count": null,
      "outputs": []
    },
    {
      "cell_type": "markdown",
      "metadata": {
        "id": "vyDT0Fwulv5k"
      },
      "source": [
        "We can try it with a bad **XML** file..."
      ]
    },
    {
      "cell_type": "code",
      "metadata": {
        "id": "ih1aIH85lwew"
      },
      "source": [
        "xml_handle = open(\"/content/gdrive/My Drive/data/bad_sample.xml\")\n",
        "xsd_handle = open(\"/content/gdrive/My Drive/data/py4e_schema.xsd\")"
      ],
      "execution_count": 21,
      "outputs": []
    },
    {
      "cell_type": "markdown",
      "metadata": {
        "id": "Fh5mYlHemYXc"
      },
      "source": [
        "The file **bad_sample.xml** has the following contents..."
      ]
    },
    {
      "cell_type": "code",
      "metadata": {
        "id": "wyeHDI_rmf6a"
      },
      "source": [
        "<?xml version=\"1.0\"?>\n",
        "<person>\n",
        "  <full_name>Tove Refsnes</full_name>\n",
        "  <child_name>Hege</child_name>\n",
        "  <child_name>Stale</child_name>\n",
        "  <neighbor_name>YourFriend</neighbor_name> ### NOT IN THE SCHEMA ###\n",
        "  <child_name>Jim</child_name>\n",
        "  <child_name>Borge</child_name>\n",
        "</person>\n"
      ],
      "execution_count": null,
      "outputs": []
    },
    {
      "cell_type": "markdown",
      "metadata": {
        "id": "iwyWisw4lwew"
      },
      "source": [
        "Use **etree** to validate the **bad_sample.xml** using **py4e_schema.xsd**"
      ]
    },
    {
      "cell_type": "code",
      "metadata": {
        "id": "XoDlRU5Flwex"
      },
      "source": [
        "# from Kite.com\n",
        "# How to validate an XML file with an XML schema in Python\n",
        "# updated for Colab by Professor Patrick, 07-Nov-2021\n",
        "\n",
        "# try to import xml module\n",
        "try:\n",
        "    from lxml import etree\n",
        "except:\n",
        "    raise Exception(\"Unable to import lxml module.\")\n",
        "\n",
        "# reset the files to their beginning\n",
        "xml_handle.seek(0)\n",
        "xsd_handle.seek(0)\n",
        "\n",
        "# create the object xml_file using etree to parse xml_handle\n",
        "xml_file = lxml.etree.parse(xml_handle) \n",
        "\n",
        "# create the object xml_validator using etree XMLSchema \n",
        "xml_validator = lxml.etree.XMLSchema(file=xsd_handle) \n",
        "\n",
        "# create a Boolean variable for the validate*( result)\n",
        "is_valid = xml_validator.validate(xml_file)\n",
        "\n",
        "# print the Boolean result\n",
        "print(\"The results of validating XML file: \\n\", xml_handle.name, \"\\n using XSD schema: \\n\", xsd_handle.name, \"\\n is: \", is_valid)"
      ],
      "execution_count": null,
      "outputs": []
    },
    {
      "cell_type": "markdown",
      "metadata": {
        "id": "E0fdyFuZTNmd"
      },
      "source": [
        "\n",
        "\n",
        "---\n",
        "\n"
      ]
    },
    {
      "cell_type": "markdown",
      "metadata": {
        "id": "WOMzzCtlx51x"
      },
      "source": [
        "Data types are specified for elements.\n",
        "\n",
        "Notice that date/time is often reference using Greenwich Mean Time (**GMT**) to avoid localization confusion. \n",
        "\n",
        "The **ISO 8601 date/time format** is commonly used because of its clarity, precision, and ability to sort in chronological order. \n"
      ]
    },
    {
      "cell_type": "markdown",
      "metadata": {
        "id": "_bXqxprNzHxI"
      },
      "source": [
        "### **ISO 8601 Date/Time Format**\n",
        "\n",
        "\n",
        "**2021-11-08T17:00:00Z**\n",
        "\n",
        "**YYYY-MO-DDTHH:MI:SSZ**\n",
        "\n",
        "*   **YYYY** = four-digit year\n",
        "*   **MO** = two-digit month (use leading zero!)\n",
        "*   **DD** = two-digit day (use leading zero!)\n",
        "*   **T** = divider between date and time\n",
        "*   **HH** = two-digit hour (use 24hr time and leading zero!)\n",
        "*   **:** = hours/minutes or minutes/seconds divider\n",
        "*   **MI** = two-digit minutes (use leading zero!)\n",
        "*   **SS** = two-digit seconds (use leading zero!)\n",
        "*   **Z** = time zone\n",
        "\n",
        "\n",
        "https://time.is/GMT\n",
        "\n",
        "https://en.wikipedia.org/wiki/Greenwich_Mean_Time\n",
        "\n",
        "http://en.wikipedia.org/wiki/Coordinated_Universal_Time\n",
        "\n",
        "http://en.wikipedia.org/wiki/ISO_8601"
      ]
    },
    {
      "cell_type": "markdown",
      "metadata": {
        "id": "LGGwgpn_1BTT"
      },
      "source": [
        "![PPT-single-slide_for-colab.png](data:image/png;base64,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)"
      ]
    },
    {
      "cell_type": "markdown",
      "metadata": {
        "id": "J9pI3kP21tj2"
      },
      "source": [
        "**Example Shipping Order Schema**\n",
        "\n",
        "*from W3C School*\n",
        "\n",
        "![PPT-single-slide_for-colab.png](data:image/png;base64,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)\n"
      ]
    },
    {
      "cell_type": "markdown",
      "metadata": {
        "id": "rk25LGXrDLFX"
      },
      "source": [
        "\n",
        "\n",
        "---\n",
        "\n"
      ]
    },
    {
      "cell_type": "markdown",
      "metadata": {
        "id": "Ldf9VZ8hYqfW"
      },
      "source": [
        "A file object has a lot of attributes. \n",
        "\n",
        "You can see a list of all methods and attributes of the file object here: \n",
        "\n",
        "https://docs.python.org/2.4/lib/bltin-file-objects.html. \n",
        "\n",
        "Following are some of the most used file object methods −\n",
        "\n",
        "*   **close()** - Close the file.\n",
        "\n",
        "*   **next()** - When a file is used as an iterator, typically in a for loop (for example, for line in f: print line), the next() method is called repeatedly. This method returns the next input line, or raises StopIteration when EOF is hit.\n",
        "\n",
        "*   **read([size])** - Read at most size bytes from the file.\n",
        "\n",
        "*   **readline([size])** - Read one entire line from the file.\n",
        "\n",
        "*   **seek(offset[, whence])** - Set the file's current position, like stdio's fseek(). The whence argument is optional and defaults to 0 (absolute file positioning); other values are 1 (seek relative to the current position) and 2 (seek relative to the file's end).\n",
        "\n",
        "*   **tell()** - Return the file's current position, like stdio's ftell().\n",
        "\n",
        "*   **write(str)** - Write a string to the file.\n",
        "\n",
        "*   **writelines(sequence)** - Write a sequence of strings to the file.\n",
        "\n",
        "\n",
        "Following are file object's most used attributes −\n",
        "\n",
        "*   **closed** - bool indicating the current state of the file object.\n",
        "\n",
        "*   **encoding** - The encoding that this file uses.\n",
        "\n",
        "*   **mode**- The I/O mode for the file.\n",
        "\n",
        "*   **name** - If the file object was created using open(), the name of the file. Otherwise, some string that indicates the source of the file object"
      ]
    },
    {
      "cell_type": "markdown",
      "metadata": {
        "id": "jrSqzlqWoWAT"
      },
      "source": [
        "\n",
        "\n",
        "---\n",
        "\n"
      ]
    }
  ]
}