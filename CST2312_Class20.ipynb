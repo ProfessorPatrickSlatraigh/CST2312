{
  "nbformat": 4,
  "nbformat_minor": 0,
  "metadata": {
    "colab": {
      "name": "CST2312_Class20.ipynb",
      "provenance": [],
      "collapsed_sections": [],
      "include_colab_link": true
    },
    "kernelspec": {
      "name": "python3",
      "display_name": "Python 3"
    },
    "language_info": {
      "name": "python"
    }
  },
  "cells": [
    {
      "cell_type": "markdown",
      "metadata": {
        "id": "view-in-github",
        "colab_type": "text"
      },
      "source": [
        "<a href=\"https://colab.research.google.com/github/ProfessorPatrickSlatraigh/CST2312/blob/main/CST2312_Class20.ipynb\" target=\"_parent\"><img src=\"https://colab.research.google.com/assets/colab-badge.svg\" alt=\"Open In Colab\"/></a>"
      ]
    },
    {
      "cell_type": "markdown",
      "metadata": {
        "id": "Sivi2IUlD10N"
      },
      "source": [
        "# **CST2312 WK13CL20 - Network Programming**"
      ]
    },
    {
      "cell_type": "markdown",
      "metadata": {
        "id": "o7fP5obdEAS3"
      },
      "source": [
        "\n",
        "\n",
        "---\n",
        "\n"
      ]
    },
    {
      "cell_type": "markdown",
      "metadata": {
        "id": "_1eYdhLSHUn_"
      },
      "source": [
        "## **Level2**\n"
      ]
    },
    {
      "cell_type": "markdown",
      "metadata": {
        "id": "RtDi8NbS6zaP"
      },
      "source": [
        "**Reading** from the required textbook: ( [https://www.py4e.com/lessons/](https://www.py4e.com/lessons/))\n",
        "\n",
        "* [Network Programming](https://www.py4e.com/lessons/network) (Chapter 13)\n",
        "\n"
      ]
    },
    {
      "cell_type": "markdown",
      "metadata": {
        "id": "_sVm6Xw17i6F"
      },
      "source": [
        "Loerm ipsum...\n",
        "\n",
        "Network Programming\n",
        "-------------------\n",
        "\n",
        "Lorem ipsum..."
      ]
    },
    {
      "cell_type": "markdown",
      "metadata": {
        "id": "qJ1NmaOJ9ePB"
      },
      "source": [
        "## Networks and Packets"
      ]
    },
    {
      "cell_type": "markdown",
      "metadata": {
        "id": "bitaml2q3UkX"
      },
      "source": [
        "**Transport Control Protocol (TCP)**\n",
        "\n",
        "*   Built on top of IP (Internet Protocol)\n",
        "\n",
        "*   Assumes IP might lose some data - stores and retransmits data if it seems to be lost\n",
        "\n",
        "*   Handles “flow control” using a transmit window\n",
        "\n",
        "*   Provides a nice reliable pipe\n",
        "\n",
        "*Two-way communication channel is established for a session.*\n",
        "\n",
        "Reference: http://en.wikipedia.org/wiki/Internet_Protocol_Suite\n",
        "\n",
        "Analogies: http://en.wikipedia.org/wiki/Tin_can_telephone ; http://www.flickr.com/photos/kitcowan/2103850699/\n",
        " \n",
        "\n",
        "\n"
      ]
    },
    {
      "cell_type": "markdown",
      "metadata": {
        "id": "-Mr9wfiH3z77"
      },
      "source": [
        "**TCP Connections / Sockets**\n",
        "\n",
        "“In computer networking, an Internet socket or network socket is an endpoint of a bidirectional inter-process communication flow across an Internet Protocol-based computer network, such as the Internet.”\n",
        "\n",
        "\n",
        "Source: http://en.wikipedia.org/wiki/Internet_socket\n"
      ]
    },
    {
      "cell_type": "markdown",
      "metadata": {
        "id": "PlJkayOU3gro"
      },
      "source": [
        "**TCP Port Numbers**\n",
        "\n",
        "*   A port is an application-specific or process-specific software communications endpoint\n",
        "\n",
        "*   It allows multiple networked applications to coexist on the same server\n",
        "\n",
        "*There is a list of well-known TCP port numbers*\n",
        "\n",
        "Reference: http://en.wikipedia.org/wiki/TCP_and_UDP_port \n",
        "\n",
        "Example: http://www.clker.com/search/networksym/1\n",
        "\n"
      ]
    },
    {
      "cell_type": "markdown",
      "metadata": {
        "id": "VYlSiWLH59c8"
      },
      "source": [
        "**Common TCP Ports**\n",
        "\n",
        "*   HTTP – Port 80\n",
        "\n",
        "*   HTTPS – 443\n",
        "\n",
        "*   FTP – 21\n",
        "\n",
        "*   FTPS / SSH – 22\n",
        "\n",
        "*   POP3 – 110\n",
        "\n",
        "*   POP3 SSL – 995\n",
        "\n",
        "*   IMAP – 143\n",
        "\n",
        "*   IMAP SSL – 993\n",
        "\n",
        "*   SMTP – 25 (Alternate: 26)\n",
        "\n",
        "*   SMTP SSL – 587\n",
        "\n",
        "*   MySQL – 3306\n",
        "\n",
        "*   cPanel – 2082\n",
        "\n",
        "*   cPanel SSL – 2083\n",
        "\n",
        "*   WHM (Webhost Manager) – 2086\n",
        "\n",
        "*   WHM (Webhost Manager) SSL – 2087\n",
        "\n",
        "*   Webmail – 2095\n",
        "\n",
        "*   Webmail SSL – 2096\n",
        "\n",
        "*   WebDAV/WebDisk – 2077\n",
        "\n",
        "*   WebDAV/WebDisk SSL – 2078\n"
      ]
    },
    {
      "cell_type": "markdown",
      "metadata": {
        "id": "cIvZsTFx83se"
      },
      "source": [
        "\n",
        "\n",
        "---\n",
        "\n"
      ]
    },
    {
      "cell_type": "markdown",
      "metadata": {
        "id": "-tc25W1X6iZw"
      },
      "source": [
        "*Sometimes we see the port number in the URL if the web server is running on a “non-standard” port.*\n",
        "\n",
        "Example: www.lasi-asia.org:8080/wp/"
      ]
    },
    {
      "cell_type": "markdown",
      "metadata": {
        "id": "C-jGLVLW5Mq4"
      },
      "source": [
        "*Python has built-in support for TCP Sockets:*\n",
        "\n",
        "Reference: http://docs.python.org/library/socket.html\n",
        "\n",
        "\n",
        "The following example opens a socket to Charles Severance's web server at pr4e.org and the unsecured HTML service there (port 80)..."
      ]
    },
    {
      "cell_type": "code",
      "metadata": {
        "id": "Mv3ilq5q7h6u"
      },
      "source": [
        "# import the socket module for its methods and tools\n",
        "import socket\n",
        "\n",
        "# establish a socket on your end:\n",
        "#  - tell the socket() method that it will be an internet socket\n",
        "#  - tell the socket() method whether it will stream or block data\n",
        "mysock = socket.socket(socket.AF_INET, socket.SOCK_STREAM)\n",
        "# the socket opened is similar to a file handle, but only one end of the channel\n",
        "\n",
        "# invoke the connect() method on the socket\n",
        "#  - tell the invoke() method what internet address to try\n",
        "#  - tell the invoke() method what service to try on that address\n",
        "mysock.connect( ('data.pr4e.org', 80) )\n",
        "# the server called is Charles Severance's Programming for All\n",
        "# the service called is unsecured HTML (port 80)"
      ],
      "execution_count": 1,
      "outputs": []
    },
    {
      "cell_type": "markdown",
      "metadata": {
        "id": "UBnKXdjz87FG"
      },
      "source": [
        "## Application Protocols\n",
        "\n",
        "Since TCP (and Python) gives us a reliable socket, what do we want to do with the socket?\n",
        "\n",
        "What problem do we want to solve?\n",
        "\n",
        "**Application Protocols**\n",
        "\n",
        "*   Mail\n",
        "*   World Wide Web\n",
        "\n",
        "Source: http://en.wikipedia.org/wiki/Internet_Protocol_Suite \n"
      ]
    },
    {
      "cell_type": "markdown",
      "metadata": {
        "id": "r2HYT0w--DvB"
      },
      "source": [
        "**HTTP - Hypertext Transfer Protocol**\n",
        "\n",
        "The dominant Application Layer Protocol on the Internet\n",
        "\n",
        "Invented for the Web - to Retrieve HTML,  Images, Documents, etc.\n",
        "\n",
        "Extended to retrieve data in addition to documents - RSS, Web Services, etc.\n",
        "\n",
        "The HyperText Transfer Protocol is the set of rules to allow browsers to retrieve web documents from servers over the Internet\n",
        "\n",
        "*Basic Concept:*\n",
        "\n",
        "1.   Make a Connection\n",
        "2.   Request a Document\n",
        "3.   Retrieve the Document\n",
        "4.   Close the Connection\n",
        "\n",
        "\n",
        "http://en.wikipedia.org/wiki/Http \n",
        "\n"
      ]
    },
    {
      "cell_type": "markdown",
      "metadata": {
        "id": "XcqD--ATAsf9"
      },
      "source": [
        "**What is a Protocol?**\n",
        "\n",
        "A set of rules that all parties follow so we can predict each other’s behavior\n",
        "And not bump into each other, or cause each other problems.\n",
        "\n",
        "*   On two-way roads in USA, drive on the right-hand side of the road\n",
        "*   On two-way roads in the UK, drive on the left-hand side of the road\n",
        "\n",
        "Reference: http://www.dr-chuck.com/page1.htm\n",
        "\n",
        "\n",
        "*Watch an explanation of protocols by Robert Cailliau of CERN (see 1:17 to 2:29 in the video)*\n",
        "\n",
        "Video: http://www.youtube.com/watch?v=x2GylLq59rI\n",
        "\n"
      ]
    },
    {
      "cell_type": "markdown",
      "metadata": {
        "id": "ezCLw5QdR0SN"
      },
      "source": [
        "**Getting Data From The Server**\n",
        "\n",
        "Each time the user clicks on an anchor tag with an **href=** value to switch to a new page, the browser makes a connection to the web server and issues a “**GET**” request - to GET the content of the page at the specified **URL**\n",
        "\n",
        "The server returns the HTML document to the browser, which formats and displays the document to the user\n",
        "\n",
        "\n",
        "**Anchor Tag Definition**\n",
        "\n",
        "The **<a>** tag defines a hyperlink, which is used to link from one page to another.\n",
        "\n",
        "The most important attribute of the **<a>** element is the **href** attribute, which indicates the link's destination.\n",
        "\n",
        "By default, links will appear as follows in all browsers:\n",
        "\n",
        "*   An unvisited link is underlined and blue\n",
        "*   A visited link is underlined and purple\n",
        "*   An active link is underlined and red\n",
        "\n"
      ]
    },
    {
      "cell_type": "markdown",
      "metadata": {
        "id": "-8rW4CkUSEtB"
      },
      "source": [
        "*How To Use an Image As a Link*"
      ]
    },
    {
      "cell_type": "code",
      "metadata": {
        "id": "xYZxAZepSHXG"
      },
      "source": [
        "# this is an html example and would need to be used with a web browser, not Colab or Python\n",
        "<a href=\"https://www.w3schools.com\">\n",
        "<img border=\"0\" alt=\"W3Schools\" src=\"logo_w3s.gif\" width=\"100\" height=\"100\">\n",
        "</a>"
      ],
      "execution_count": null,
      "outputs": []
    },
    {
      "cell_type": "markdown",
      "metadata": {
        "id": "ZFSi2K62SJ8a"
      },
      "source": [
        "*How To Open a Link In a New Browser WIndow*"
      ]
    },
    {
      "cell_type": "code",
      "metadata": {
        "id": "7OpbOMENSMnk"
      },
      "source": [
        "# this is an html example and would need to be used with a web browser, not Colab or Python\n",
        "<a href=\"https://www.w3schools.com\" target=\"_blank\">Visit W3Schools.com!</a>"
      ],
      "execution_count": null,
      "outputs": []
    },
    {
      "cell_type": "markdown",
      "metadata": {
        "id": "x2BacM9bSO-d"
      },
      "source": [
        "*How To Link To an Email Address*"
      ]
    },
    {
      "cell_type": "code",
      "metadata": {
        "id": "jLT1bvPrSRLw"
      },
      "source": [
        "# this is an html example and would need to be used with a web browser, not Colab or Python\n",
        "<a href=\"mailto:someone@example.com\">Send email</a>"
      ],
      "execution_count": null,
      "outputs": []
    },
    {
      "cell_type": "markdown",
      "metadata": {
        "id": "53KsJG4BSUMC"
      },
      "source": [
        "*How To Linke To a Phone Number*"
      ]
    },
    {
      "cell_type": "code",
      "metadata": {
        "id": "nzA4_4n2SWgq"
      },
      "source": [
        "# this is an html example and would need to be used with a web browser, not Colab or Python\n",
        "<a href=\"tel:+4733378901\">+47 333 78 901</a>"
      ],
      "execution_count": null,
      "outputs": []
    },
    {
      "cell_type": "markdown",
      "metadata": {
        "id": "9fC0J0PTSYdW"
      },
      "source": [
        "*How To Link To Another Section In the Same Page*"
      ]
    },
    {
      "cell_type": "code",
      "metadata": {
        "id": "Pjl9K4nmSakh"
      },
      "source": [
        "# this is an html example and would need to be used with a web browser, not Colab or Python\n",
        "    <a href=\"#section2\">Go to Section 2</a>"
      ],
      "execution_count": null,
      "outputs": []
    },
    {
      "cell_type": "markdown",
      "metadata": {
        "id": "RdHlcjwuTGnx"
      },
      "source": [
        "**Example HTML Session from Charles Severance**"
      ]
    },
    {
      "cell_type": "markdown",
      "metadata": {
        "id": "7yYYFwojTd1B"
      },
      "source": [
        "Start from this web page and find the link to the second page:\n",
        "\n",
        "http://www.dr-chuck.com/page1.htm\n",
        "\n",
        "The page at the link above brings you to a simple web site which says \"**The First Page**\" in large, bold print.  Then, on the next line, it says \"If you like, you can switch to the **Second Page**.\"  The phrase \"**Second Page**\" is in blue because it has an anchor tag with an unused href attribute.  \n",
        "\n",
        "That href is pointing to the URL www.dr-chuck.com/page2.htm\n",
        "\n",
        "Clicking on the anchor with the href (which reads \"Second Page\") will initiate the following HTML GET command...\n"
      ]
    },
    {
      "cell_type": "code",
      "metadata": {
        "id": "cu-nUOv9TaBN"
      },
      "source": [
        "# this is an html example and would need to be used with a web browser, not Colab or Python\n",
        "GET http://www.dr-chuck.com/page2.htm"
      ],
      "execution_count": null,
      "outputs": []
    },
    {
      "cell_type": "markdown",
      "metadata": {
        "id": "q79ZfvDfU8-8"
      },
      "source": [
        "The browser makes a connection to the web page at **dr-chuck.com** which may seem confusing because the same URL is at both ends of the connection/session.  The same URL is hosting both the client socket and the host socket of the connection.  \n",
        "\n",
        "*   The client socket is a browser.  \n",
        "*   The server socket is a web server.  \n",
        "\n",
        "The browser HTML process tries to contact a web server on **dr-chuck.com** at **port 80** (the dafault port for unsecured HTML requests) with the GET request above.  In this example, the web server recognizes the GET request and forms a simple web page which it sends back to the client socket (the browser).  That simple web page looks like the following cell without the first line of comment.\n"
      ]
    },
    {
      "cell_type": "code",
      "metadata": {
        "id": "qGcqWhLf84RQ"
      },
      "source": [
        "# this is an html example and would need to be used with a web browser, not Colab or Python\n",
        "<h1>The Second Page</h1>\n",
        "<p>If you like, you can switch back to the <a href=\"page1.htm\">First Page</a>.</p>"
      ],
      "execution_count": null,
      "outputs": []
    },
    {
      "cell_type": "markdown",
      "metadata": {
        "id": "RL37GvN9W8vi"
      },
      "source": [
        "The web browser has replied with a web page, which coincidentally includes a link back to the first page.  Remember infinite loops?"
      ]
    },
    {
      "cell_type": "markdown",
      "metadata": {
        "id": "vqZeO-PxYaO-"
      },
      "source": [
        "Internet Standards\n",
        "**bold text**\n",
        "The standards for all of the Internet protocols (inner workings) are developed by an organization\n",
        "Internet Engineering Task Force (IETF)\n",
        "\n",
        "Reference: www.ietf.org\n",
        "\n",
        "Standards are called “RFCs” - “Request for Comments”\n",
        "\n",
        "You can see a catalog of the IETF internet protocol standards at this link as well:\n",
        "\n",
        "https://www.rfc-editor.org/standards.php?sortkey=Date&sorting=ASC&sort_number=1&showRET=N&showOBS=N\n",
        "\n",
        "*If you sort the internet protocol standards by date, you can see a standard STD 80 which was authored by **V.G. Cerf in 1969**.  Remember our discussion about **Vint Cerf** and how he regretted that they made email free?*\n",
        "\n",
        "The protocol for HTML is available at: \n",
        "http://www.w3.org/Protocols/rfc2616/rfc2616.txt\n",
        "\n"
      ]
    },
    {
      "cell_type": "markdown",
      "metadata": {
        "id": "HzmyPhQlYovt"
      },
      "source": [
        "![PPT-single-slide_for-colab.png](data:image/png;base64,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)"
      ]
    },
    {
      "cell_type": "markdown",
      "metadata": {
        "id": "H4qYGymzZYjH"
      },
      "source": [
        "\n",
        "**Making an HTTP request**\n",
        "\n",
        "Connect to the server like \"www.dr-chuck.com\"\n",
        "Request a document (or the default document)\n",
        "*   GET http://www.dr-chuck.com/page1.htm HTTP/1.0\n",
        "*   GET http://www.mlive.com/ann-arbor/ HTTP/1.0\n",
        "*   GET http://www.reddit.com HTTP/1.0\n"
      ]
    },
    {
      "cell_type": "markdown",
      "metadata": {
        "id": "yqWctmoEZ0po"
      },
      "source": [
        "Example of a session which issues a GET request to www.dr-chuck.com/page1.htm using a telnet client instead of a web browser\n",
        "\n",
        "\n",
        "\n",
        "```\n",
        "\n",
        "# first, open a telnet client session to port 80 on the desired web server\n",
        "\n",
        "$ telnet www.dr-chuck.com 80\n",
        "Trying 74.208.28.177...\n",
        "Connected to www.dr-chuck.com.Escape character is '^]'.\n",
        "\n",
        "\n",
        "# second, the telnet client makes a GET request to the web server\n",
        "\n",
        "GET http://www.dr-chuck.com/page1.htm HTTP/1.0\n",
        "\n",
        "\n",
        "# third, the web server responds to the client with an HTML document\n",
        "\n",
        "HTTP/1.1 200 OK\n",
        "Date: Thu, 08 Jan 2015 01:57:52 GMT\n",
        "Last-Modified: Sun, 19 Jan 2014 14:25:43 GMT\n",
        "Connection: close\n",
        "Content-Type: text/html\n",
        "\n",
        "<h1>The First Page</h1>\n",
        "<p>If you like, you can switch to \n",
        "the <a href=\"http://www.dr-chuck.com/page2.htm\">Second \u000bPage</a>.</p>\n",
        "\n",
        "\n",
        "```\n",
        "\n"
      ]
    },
    {
      "cell_type": "markdown",
      "metadata": {
        "id": "KYRS8dQFbb6O"
      },
      "source": [
        "**Accurate Hacking - In the Movies, and Beyond**\n",
        "\n",
        "Link to the use of port mapping tool **nmap** in the movies: http://nmap.org/movies.html \n",
        "\n",
        "You can download a free copy of **nmap** to run on **Linux or Mac** operating systems at this link:  https://nmap.org/download.html  -- Be carful not to click on the ads and accidently download something you do not want.  Also, be very wary of web sites offering **nmap** for **Windows** or operating systems other than Linux or Map -- they may be fraudulent. "
      ]
    },
    {
      "cell_type": "markdown",
      "metadata": {
        "id": "6rrkZyJwc1bq"
      },
      "source": [
        "**Write a Web Browser!**  \n",
        "*a very simple one*\n",
        "\n",
        "We can use Python to generate and respond to HTML requests just the way hackers' tools do.  For our puposes, we will create a very simple web page using Python.\n"
      ]
    },
    {
      "cell_type": "markdown",
      "metadata": {
        "id": "bZO_hMoWchE7"
      },
      "source": [
        "\n",
        "**An HTTP Request in Python**\n",
        "\n",
        "Here is Python code which connects to a web server, asks for an HTML page then decodes the HTML returned by the host web server and prints it. \n",
        "\n",
        "1.   It begins by opening a socket which attempts to connect with a server at '**data.pr4e.org**' on **port 80**.\n",
        "\n",
        "2.   The code then initalizes a string variable called **cmd** with a **GET** request according to internet protocol standards.\n",
        "\n",
        "3.   The **send()** method is invoked on the open socket with the **cmd** string as its argument.\n",
        "\n",
        "4.   A while loop is used to scan for received HTML and the loop is exited when a blank line is received.\n",
        "\n",
        "5.   Until the loop is exited, any HTML lines received are decoded by applying the **decode()** method.\n",
        "\n",
        "6.   The decoded HTML received is printed as a line and the loop continues.\n",
        "\n",
        "7.   At the end of the program, the socket is closed, terminating the session with the host web server.\n"
      ]
    },
    {
      "cell_type": "code",
      "metadata": {
        "id": "V3NtcP-TfYqP"
      },
      "source": [
        "# if socket is not already imported, then un-comment the next line\n",
        "# import socket \n",
        "\n",
        "# initiate a client socket to use on the internet for stream processing\n",
        "mysock = socket.socket(socket.AF_INET, socket.SOCK_STREAM)\n",
        "\n",
        "# connect the socket to the web server at port 80 -- session initiation!\n",
        "mysock.connect(('data.pr4e.org', 80))\n",
        "\n",
        "# initialize a string with a valid HTML GET request\n",
        "cmd = 'GET http://data.pr4e.org/romeo.txt HTTP/1.0\\r\\n\\r\\n'.encode()\n",
        "\n",
        "# use the string variable as an argument to send over the open socket\n",
        "mysock.send(cmd)\n",
        "\n",
        "# form a while loop to process until a break statement is encountered\n",
        "while True:\n",
        "    # invoke the recv() method and store the value it returns to a variable\n",
        "    # because the response is a stream, we set a block size to manage content\n",
        "    data = mysock.recv(512)\n",
        "    # test for the receipt of a no stream data then break out of the loop\n",
        "    if (len(data) < 1):\n",
        "        break\n",
        "    # as long as non-blank lines are received from the host web server\n",
        "    # invoke the decode() method to decode the HTML and print the result\n",
        "    print(data.decode(),end='')\n",
        "\n",
        "# housekeeping: after processing has completed, close the open socket    \n",
        "mysock.close()"
      ],
      "execution_count": null,
      "outputs": []
    },
    {
      "cell_type": "markdown",
      "metadata": {
        "id": "GdjJrl2igoXu"
      },
      "source": [
        "The HTML response begins with a dictionary of metadata followed by one blank line, then the actual content.\n",
        "\n",
        "You can use a browser to do what the snippet of code above did by going to this link: http://data.pr4e.org/romeo.txt "
      ]
    },
    {
      "cell_type": "markdown",
      "metadata": {
        "id": "_p1P49Tmh8p6"
      },
      "source": [
        "\n",
        "**About Characters and Strings: ASCII**\n",
        "\n",
        "**ASCII** is the American Standard Code for Information Interchange.  It is one of several standards for storing characters as numeric values for a computer to process.  It's use was codified in the early 1960s but it was used prior to that time in teletype (typewriters connected by telephones) communications.\n",
        "\n",
        "**ASCII** includes definitions for 128 characters: 33 are non-printing control characters (now mostly obsolete) that affect how text and space is processed; 94 are printable characters, and the space is considered an invisible graphic. The most commonly used character encoding on the World Wide Web was **US-ASCII** until 2008, when it was surpassed by **UTF-8**.\n",
        "\n",
        "\n",
        "More about the history of ASCII: https://www.historyofinformation.com/detail.php?id=803\n",
        "\n",
        "\n",
        "\n",
        "References: https://en.wikipedia.org/wiki/ASCII, http://www.catonmat.net/download/ascii-cheat-sheet.png\n",
        "\n",
        "\n",
        "**Representing Simple Strings With ASCII**\n",
        "\n",
        "In ASCII Each character is represented by a number between 0 and 256 stored in 8 bits of memory.  We refer to \"8 bits of memory as a \"byte\" of memory – (i.e. my disk drive contains 3 Terabytes of memory).\n",
        "\n",
        "In Python, the **ord()** function tells us the numeric value of a simple ASCII character.\n"
      ]
    },
    {
      "cell_type": "code",
      "metadata": {
        "id": "w28QZWNLkeDK"
      },
      "source": [
        "# print the ordinal value of the ASCII code for the letter 'H' (upper case)\n",
        "print(\"\\nASCII value for 'H': \")\n",
        "print(ord('H'))\n",
        "\n",
        "# print the ordinal value of the ASCII code for the letter 'e' (lower case)\n",
        "print(\"\\nASCII value for 'e': \")\n",
        "print(ord('e'))\n",
        "\n",
        "# print the ordinal value of the ASCII code for a newline character \n",
        "print(\"\\nASCII value for '\\n': \")\n",
        "print(ord('\\n'))\n",
        "\n",
        "# print the ordinal value of the ASCII code for the string \"Hello World\"\n",
        "print(\"\\nASCII values for 'Hello World': \")\n",
        "for char in range(len(\"Hello World\")):\n",
        "    print(ord(\"Hello World\"[char]))\n",
        "\n",
        "# print the binary value of the ASCII code for the string \"Hello World\"\n",
        "print(\"\\nASCII values as binary for 'Hello World': \")\n",
        "for char in range(len(\"Hello World\")):\n",
        "    print(bin(ord(\"Hello World\"[char])))\n",
        "\n",
        "# print the hexadecimal value of the ASCII code for the string \"Hello World\"\n",
        "print(\"\\nASCII values as hexadecimal for 'Hello World': \")\n",
        "for char in range(len(\"Hello World\")):\n",
        "    print(hex(ord(\"Hello World\"[char])))\n"
      ],
      "execution_count": null,
      "outputs": []
    },
    {
      "cell_type": "markdown",
      "metadata": {
        "id": "8l5yJfjSoLPw"
      },
      "source": [
        "**About Characters and Strings: Unicode (UTF)**\n",
        "\n",
        "ASCII characters are English-language based and not adaptable to other character sets.  Over time, the predominance of ASCII has been replaced by **Unicode (UTF)**, which is often reference by its version number such as **UTF-8** or **UTF-9**.\n",
        "\n",
        "Python has built in capabilities for processing **UTF**. Today’s programs need to be able to handle a wide variety of characters. Applications are often internationalized to display messages and output in a variety of user-selectable languages; the same program might need to output an error message in English, French, Japanese, Hebrew, or Russian. Web content can be written in any of these languages and can also include a variety of emoji symbols. Python’s string type uses the Unicode Standard for representing characters, which lets Python programs work with all these different possible characters.\n",
        "\n",
        "Unicode characters map to same ordinal values for characters in the ASCII character set.\n",
        "\n",
        "\n",
        "**Unicode** (https://www.unicode.org/) is a specification that aims to list every character used by human languages and give each character its own unique code. The **Unicode** specifications are continually revised and updated to add new languages and symbols.\n",
        "\n",
        "Reference: https://en.wikipedia.org/wiki/Unicode, http://unicode.org/charts/, https://docs.python.org/3/howto/unicode.html\n",
        "\n"
      ]
    },
    {
      "cell_type": "markdown",
      "metadata": {
        "id": "77m1eruOrUoo"
      },
      "source": [
        "**Multi-Byte Characters**\n",
        "\n",
        "To represent the wide range of characters computers must handle we represent characters with more than one byte\n",
        "1.   UTF-16 – Fixed length - Two bytes\n",
        "2.   UTF-32 – Fixed Length - Four Bytes\n",
        "3. UTF-8 – 1-4 bytes\n",
        "    -  Upwards compatible with ASCII\n",
        "    -  Automatic detection between ASCII and UTF-8\n",
        "    -  UTF-8 is recommended practice for encoding data to be exchanged between systems\n",
        "\n",
        "*Here is an old chart showing how UTF overtook ASCII on the internet...*\n"
      ]
    },
    {
      "cell_type": "markdown",
      "metadata": {
        "id": "biAiJ0uTrfEh"
      },
      "source": [
        "![PPT-single-slide_for-colab.png](data:image/png;base64,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)"
      ]
    },
    {
      "cell_type": "markdown",
      "metadata": {
        "id": "Qc_v0JfEr6zp"
      },
      "source": [
        "Working with string variables in Python programs and reading data from files usually \"just works\"\n",
        "\n",
        "When we talk to a network resource using sockets or talk to a database we have to encode and decode data (usually to **UTF-8**)\n",
        "\n",
        "In Python 3.0 and above, all strings internally are **Unicode**.  They will show as **class str**, regardless of whether they are in the range of ASCII characters or not.  In older versions of Python, strings were limited to ASCII characters and any variable which contained other characters would be **class unicode**.  That distinction is now moot. "
      ]
    },
    {
      "cell_type": "code",
      "metadata": {
        "id": "uT4knUNMoa-K"
      },
      "source": [
        "print(\"\\nProcessing a binary value.\")\n",
        "x = b'abc'\n",
        "print(type(x))\n",
        "\n",
        "print(\"\\nProcessing a real string.\")\n",
        "x = r'a\\nbc'\n",
        "print(type(x))\n",
        "\n",
        "print(\"\\nProcessing a string.\")\n",
        "x = '이광춘'\n",
        "print(type(x))\n",
        "\n",
        "print(\"\\nProcessing a Unicode string.\")\n",
        "x = u'이광춘'\n",
        "print(type(x))\n"
      ],
      "execution_count": null,
      "outputs": []
    },
    {
      "cell_type": "markdown",
      "metadata": {
        "id": "VYtiWbLeueJC"
      },
      "source": [
        "**Python Strings to Bytes**\n",
        "\n",
        "*   When we talk (send data) to an external resource like a network socket we send bytes, so we need to encode Python 3 strings into a given character encoding.\n",
        "\n",
        "*   When we read data from an external resource, we must decode it based on the character set so it is properly represented in Python 3 as a string.\n",
        "\n",
        "\n",
        "\n",
        "```\n",
        "while True:\n",
        "    data = mysock.recv(512)\n",
        "    if ( len(data) < 1 ) :\n",
        "        break\n",
        "    mystring = data.decode()\n",
        "    print(mystring)\n",
        "```\n",
        "\n",
        "\n"
      ]
    },
    {
      "cell_type": "markdown",
      "metadata": {
        "id": "G13XHSYdut0E"
      },
      "source": [
        "**bytes.decode(encoding='utf-8', errors='strict')**\n",
        "\n",
        "**bytearray.decode(encoding='utf-8', errors='strict')**\n",
        "\n",
        "Return a string decoded from the given bytes. Default encoding is '**utf-8**'. errors may be given to set a different error handling scheme. The default for errors is 'strict', meaning that encoding errors raise a UnicodeError. Other possible values are 'ignore', 'replace' and any other name registered via codecs.register_error(), see section Error Handlers. For a list of possible encodings, see section Standard Encodings.\n",
        "\n",
        "By default, the errors argument is not checked for best performances, but only used at the first decoding error. Enable the Python Development Mode, or use a debug build to check errors.\n",
        "\n",
        "Note: Passing the encoding argument to str allows decoding any bytes-like object directly, without needing to make a temporary bytes or bytearray object.\n",
        "*italicized text*\n",
        "\n",
        "Reference: https://docs.python.org/3/library/stdtypes.html#bytes.decode"
      ]
    },
    {
      "cell_type": "markdown",
      "metadata": {
        "id": "Dl2r6rVLvdzW"
      },
      "source": [
        "**str.encode(encoding='utf-8', errors='strict')**\n",
        "\n",
        "Return an encoded version of the string as a bytes object. Default encoding is '**utf-8**'. errors may be given to set a different error handling scheme. The default for errors is 'strict', meaning that encoding errors raise a UnicodeError. Other possible values are 'ignore', 'replace', 'xmlcharrefreplace', 'backslashreplace' and any other name registered via codecs.register_error(), see section Error Handlers. For a list of possible encodings, see section Standard Encodings.\n",
        "\n",
        "By default, the errors argument is not checked for best performances, but only used at the first encoding error. Enable the Python Development Mode, or use a debug build to check errors.\n",
        "\n",
        "\n",
        "Reference: https://docs.python.org/3/library/stdtypes.html#str.encode\n",
        "\n"
      ]
    },
    {
      "cell_type": "markdown",
      "metadata": {
        "id": "mKpei8oZwA3k"
      },
      "source": [
        "The following graphic depicts the use of **encode()** and **decode()** in sessions between sockets."
      ]
    },
    {
      "cell_type": "markdown",
      "metadata": {
        "id": "6FjSw98jv7uv"
      },
      "source": [
        "![PPT-single-slide_for-colab.png](data:image/png;base64,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)"
      ]
    },
    {
      "cell_type": "code",
      "metadata": {
        "id": "4reeSb5kc3r_"
      },
      "source": [
        ""
      ],
      "execution_count": null,
      "outputs": []
    }
  ]
}