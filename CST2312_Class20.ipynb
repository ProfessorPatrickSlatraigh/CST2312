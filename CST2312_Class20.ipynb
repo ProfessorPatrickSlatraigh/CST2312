{
  "nbformat": 4,
  "nbformat_minor": 0,
  "metadata": {
    "colab": {
      "name": "CST2312_Class20.ipynb",
      "provenance": [],
      "collapsed_sections": [],
      "include_colab_link": true
    },
    "kernelspec": {
      "name": "python3",
      "display_name": "Python 3"
    },
    "language_info": {
      "name": "python"
    }
  },
  "cells": [
    {
      "cell_type": "markdown",
      "metadata": {
        "id": "view-in-github",
        "colab_type": "text"
      },
      "source": [
        "<a href=\"https://colab.research.google.com/github/ProfessorPatrickSlatraigh/CST2312/blob/main/CST2312_Class20.ipynb\" target=\"_parent\"><img src=\"https://colab.research.google.com/assets/colab-badge.svg\" alt=\"Open In Colab\"/></a>"
      ]
    },
    {
      "cell_type": "markdown",
      "metadata": {
        "id": "Sivi2IUlD10N"
      },
      "source": [
        "# **CST2312 WK13CL20 - Network Programming**"
      ]
    },
    {
      "cell_type": "markdown",
      "metadata": {
        "id": "o7fP5obdEAS3"
      },
      "source": [
        "\n",
        "\n",
        "---\n",
        "\n"
      ]
    },
    {
      "cell_type": "markdown",
      "metadata": {
        "id": "_1eYdhLSHUn_"
      },
      "source": [
        "## **Level2**\n"
      ]
    },
    {
      "cell_type": "markdown",
      "metadata": {
        "id": "RtDi8NbS6zaP"
      },
      "source": [
        "**Reading** from the required textbook: ( [https://www.py4e.com/lessons/](https://www.py4e.com/lessons/))\n",
        "\n",
        "* [Network Programming](https://www.py4e.com/lessons/network) (Chapter 13)\n",
        "\n"
      ]
    },
    {
      "cell_type": "markdown",
      "metadata": {
        "id": "_sVm6Xw17i6F"
      },
      "source": [
        "Loerm ipsum...\n",
        "\n",
        "Network Programming\n",
        "-------------------\n",
        "\n",
        "Lorem ipsum..."
      ]
    },
    {
      "cell_type": "markdown",
      "metadata": {
        "id": "qJ1NmaOJ9ePB"
      },
      "source": [
        "## Networks and Packets"
      ]
    },
    {
      "cell_type": "markdown",
      "metadata": {
        "id": "bitaml2q3UkX"
      },
      "source": [
        "**Transport Control Protocol (TCP)**\n",
        "\n",
        "*   Built on top of IP (Internet Protocol)\n",
        "\n",
        "*   Assumes IP might lose some data - stores and retransmits data if it seems to be lost\n",
        "\n",
        "*   Handles “flow control” using a transmit window\n",
        "\n",
        "*   Provides a nice reliable pipe\n",
        "\n",
        "*Two-way communication channel is established for a session.*\n",
        "\n",
        "Reference: http://en.wikipedia.org/wiki/Internet_Protocol_Suite\n",
        "\n",
        "Analogies: http://en.wikipedia.org/wiki/Tin_can_telephone ; http://www.flickr.com/photos/kitcowan/2103850699/\n",
        " \n",
        "\n",
        "\n"
      ]
    },
    {
      "cell_type": "markdown",
      "metadata": {
        "id": "-Mr9wfiH3z77"
      },
      "source": [
        "**TCP Connections / Sockets**\n",
        "\n",
        "“In computer networking, an Internet socket or network socket is an endpoint of a bidirectional inter-process communication flow across an Internet Protocol-based computer network, such as the Internet.”\n",
        "\n",
        "\n",
        "Source: http://en.wikipedia.org/wiki/Internet_socket\n"
      ]
    },
    {
      "cell_type": "markdown",
      "metadata": {
        "id": "PlJkayOU3gro"
      },
      "source": [
        "**TCP Port Numbers**\n",
        "\n",
        "*   A port is an application-specific or process-specific software communications endpoint\n",
        "\n",
        "*   It allows multiple networked applications to coexist on the same server\n",
        "\n",
        "*There is a list of well-known TCP port numbers*\n",
        "\n",
        "Reference: http://en.wikipedia.org/wiki/TCP_and_UDP_port \n",
        "\n",
        "Example: http://www.clker.com/search/networksym/1\n",
        "\n"
      ]
    },
    {
      "cell_type": "markdown",
      "metadata": {
        "id": "VYlSiWLH59c8"
      },
      "source": [
        "**Common TCP Ports**\n",
        "\n",
        "*   HTTP – Port 80\n",
        "\n",
        "*   HTTPS – 443\n",
        "\n",
        "*   FTP – 21\n",
        "\n",
        "*   FTPS / SSH – 22\n",
        "\n",
        "*   POP3 – 110\n",
        "\n",
        "*   POP3 SSL – 995\n",
        "\n",
        "*   IMAP – 143\n",
        "\n",
        "*   IMAP SSL – 993\n",
        "\n",
        "*   SMTP – 25 (Alternate: 26)\n",
        "\n",
        "*   SMTP SSL – 587\n",
        "\n",
        "*   MySQL – 3306\n",
        "\n",
        "*   cPanel – 2082\n",
        "\n",
        "*   cPanel SSL – 2083\n",
        "\n",
        "*   WHM (Webhost Manager) – 2086\n",
        "\n",
        "*   WHM (Webhost Manager) SSL – 2087\n",
        "\n",
        "*   Webmail – 2095\n",
        "\n",
        "*   Webmail SSL – 2096\n",
        "\n",
        "*   WebDAV/WebDisk – 2077\n",
        "\n",
        "*   WebDAV/WebDisk SSL – 2078\n"
      ]
    },
    {
      "cell_type": "markdown",
      "metadata": {
        "id": "cIvZsTFx83se"
      },
      "source": [
        "\n",
        "\n",
        "---\n",
        "\n"
      ]
    },
    {
      "cell_type": "markdown",
      "metadata": {
        "id": "-tc25W1X6iZw"
      },
      "source": [
        "*Sometimes we see the port number in the URL if the web server is running on a “non-standard” port.*\n",
        "\n",
        "Example: www.lasi-asia.org:8080/wp/"
      ]
    },
    {
      "cell_type": "markdown",
      "metadata": {
        "id": "C-jGLVLW5Mq4"
      },
      "source": [
        "*Python has built-in support for TCP Sockets:*\n",
        "\n",
        "Reference: http://docs.python.org/library/socket.html\n",
        "\n",
        "\n",
        "The following example opens a socket to Charles Severance's web server at pr4e.org and the unsecured HTML service there (port 80)..."
      ]
    },
    {
      "cell_type": "code",
      "metadata": {
        "id": "Mv3ilq5q7h6u"
      },
      "source": [
        "# import the socket module for its methods and tools\n",
        "import socket\n",
        "\n",
        "# establish a socket on your end:\n",
        "#  - tell the socket() method that it will be an internet socket\n",
        "#  - tell the socket() method whether it will stream or block data\n",
        "mysock = socket.socket(socket.AF_INET, socket.SOCK_STREAM)\n",
        "# the socket opened is similar to a file handle, but only one end of the channel\n",
        "\n",
        "# invoke the connect() method on the socket\n",
        "#  - tell the invoke() method what internet address to try\n",
        "#  - tell the invoke() method what service to try on that address\n",
        "mysock.connect( ('data.pr4e.org', 80) )\n",
        "# the server called is Charles Severance's Programming for All\n",
        "# the service called is unsecured HTML (port 80)"
      ],
      "execution_count": 1,
      "outputs": []
    },
    {
      "cell_type": "markdown",
      "metadata": {
        "id": "UBnKXdjz87FG"
      },
      "source": [
        "## Application Protocols\n",
        "\n",
        "Since TCP (and Python) gives us a reliable socket, what do we want to do with the socket?\n",
        "\n",
        "What problem do we want to solve?\n",
        "\n",
        "**Application Protocols**\n",
        "\n",
        "*   Mail\n",
        "*   World Wide Web\n",
        "\n",
        "Source: http://en.wikipedia.org/wiki/Internet_Protocol_Suite \n"
      ]
    },
    {
      "cell_type": "markdown",
      "metadata": {
        "id": "r2HYT0w--DvB"
      },
      "source": [
        "**HTTP - Hypertext Transfer Protocol**\n",
        "\n",
        "The dominant Application Layer Protocol on the Internet\n",
        "\n",
        "Invented for the Web - to Retrieve HTML,  Images, Documents, etc.\n",
        "\n",
        "Extended to retrieve data in addition to documents - RSS, Web Services, etc.\n",
        "\n",
        "The HyperText Transfer Protocol is the set of rules to allow browsers to retrieve web documents from servers over the Internet\n",
        "\n",
        "*Basic Concept:*\n",
        "\n",
        "1.   Make a Connection\n",
        "2.   Request a Document\n",
        "3.   Retrieve the Document\n",
        "4.   Close the Connection\n",
        "\n",
        "\n",
        "http://en.wikipedia.org/wiki/Http \n",
        "\n"
      ]
    },
    {
      "cell_type": "markdown",
      "metadata": {
        "id": "XcqD--ATAsf9"
      },
      "source": [
        "**What is a Protocol?**\n",
        "\n",
        "A set of rules that all parties follow so we can predict each other’s behavior\n",
        "And not bump into each other, or cause each other problems.\n",
        "\n",
        "*   On two-way roads in USA, drive on the right-hand side of the road\n",
        "*   On two-way roads in the UK, drive on the left-hand side of the road\n",
        "\n",
        "Reference: http://www.dr-chuck.com/page1.htm\n",
        "\n",
        "\n",
        "*Watch an explanation of protocols by Robert Cailliau of CERN (see 1:17 to 2:29 in the video)*\n",
        "\n",
        "Video: http://www.youtube.com/watch?v=x2GylLq59rI\n",
        "\n"
      ]
    },
    {
      "cell_type": "code",
      "metadata": {
        "id": "qGcqWhLf84RQ"
      },
      "source": [
        ""
      ],
      "execution_count": null,
      "outputs": []
    }
  ]
}