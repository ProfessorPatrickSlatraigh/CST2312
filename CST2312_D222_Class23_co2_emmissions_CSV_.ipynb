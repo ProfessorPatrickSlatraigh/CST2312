{
  "nbformat": 4,
  "nbformat_minor": 0,
  "metadata": {
    "colab": {
      "provenance": [],
      "collapsed_sections": [
        "WME7ZMJPBkyx",
        "y8ojxCgvBBYF"
      ],
      "authorship_tag": "ABX9TyOj08xZ/tLbhlA09CwNzWL9",
      "include_colab_link": true
    },
    "kernelspec": {
      "name": "python3",
      "display_name": "Python 3"
    },
    "language_info": {
      "name": "python"
    }
  },
  "cells": [
    {
      "cell_type": "markdown",
      "metadata": {
        "id": "view-in-github",
        "colab_type": "text"
      },
      "source": [
        "<a href=\"https://colab.research.google.com/github/ProfessorPatrickSlatraigh/CST2312/blob/main/CST2312_D222_Class23_co2_emmissions_CSV_.ipynb\" target=\"_parent\"><img src=\"https://colab.research.google.com/assets/colab-badge.svg\" alt=\"Open In Colab\"/></a>"
      ]
    },
    {
      "cell_type": "markdown",
      "source": [
        "#co2 Data from OWID    \n",
        "\n",
        "Read a `.csv` file `annual-co2-emissions-per-country.csv` from the current working directory and select/aggregate data by country.\n",
        "\n",
        " - Print the aggregate co2 emissions by country (ISO code)  \n",
        "\n",
        " - Print the aggregate co2 emissions for a list of countries (ISO code)    \n",
        "\n",
        " - Write a .csv file of aggregate emissions for a list of countries (ISO code)\n",
        "\n",
        "\n",
        "*this notebook reads a .csv file which distilled data from the OWID file available [online](https://github.com/owid/co2-data).*\n",
        "\n",
        "*the source file read: [annual-co2-emissions-per-country.csv](https://drive.google.com/file/d/1BzgiANIXNqRHnU85vzB3gHTGBesHuz4F/view?usp=sharing)*    \n"
      ],
      "metadata": {
        "id": "y1ktsy_921e1"
      }
    },
    {
      "cell_type": "markdown",
      "source": [
        "---"
      ],
      "metadata": {
        "id": "V3tr0tBY5xrn"
      }
    },
    {
      "cell_type": "markdown",
      "source": [
        "## Houskeeping / Imports"
      ],
      "metadata": {
        "id": "o5utEKMg51dO"
      }
    },
    {
      "cell_type": "code",
      "source": [
        "# import the csv library\n",
        "import csv"
      ],
      "metadata": {
        "id": "GkMlaoL1825f"
      },
      "execution_count": null,
      "outputs": []
    },
    {
      "cell_type": "markdown",
      "source": [
        "###*The following import of the `Pandas` library is only needed for creating and using dataframes.*    \n"
      ],
      "metadata": {
        "id": "WME7ZMJPBkyx"
      }
    },
    {
      "cell_type": "code",
      "source": [
        "#import Pandas \n",
        "import pandas as pd"
      ],
      "metadata": {
        "id": "OrNkhd3LBtwJ"
      },
      "execution_count": null,
      "outputs": []
    },
    {
      "cell_type": "markdown",
      "source": [
        "---"
      ],
      "metadata": {
        "id": "BDR_erRQ2fs7"
      }
    },
    {
      "cell_type": "markdown",
      "source": [
        "## Create Dictionaries"
      ],
      "metadata": {
        "id": "AlH30QMV54sm"
      }
    },
    {
      "cell_type": "code",
      "source": [
        "# create a dictionary to store key:value pairs of countries and case counts\n",
        "data_dict = dict()"
      ],
      "metadata": {
        "id": "DFcVJDEK7k7r"
      },
      "execution_count": null,
      "outputs": []
    },
    {
      "cell_type": "code",
      "source": [
        "# create a dictionary of the desired ISO codes with their country names\n",
        "iso_dict = {'CRI' : 'Costa Rica', 'DEU' : 'Germany', 'USA' : 'United States' }"
      ],
      "metadata": {
        "id": "sOKYgq8_47NW"
      },
      "execution_count": null,
      "outputs": []
    },
    {
      "cell_type": "markdown",
      "source": [
        "---"
      ],
      "metadata": {
        "id": "Q6sKKKwd37Ts"
      }
    },
    {
      "cell_type": "markdown",
      "source": [
        "## Source File\n",
        "\n",
        "**Be sure to put a copy of `annual-co2-emissions-per-country.csv` in the current working directory before running the rest of the code.**     \n",
        "\n",
        "*the source file read: [annual-co2-emissions-per-country.csv](https://drive.google.com/file/d/1BzgiANIXNqRHnU85vzB3gHTGBesHuz4F/view?usp=sharing)*     \n"
      ],
      "metadata": {
        "id": "Hu91X0GjMCM3"
      }
    },
    {
      "cell_type": "code",
      "source": [
        "# check that the source file is in the current working directory\n",
        "# !touch annual-co2-emissions-per-country.csv"
      ],
      "metadata": {
        "id": "b70tvldzN3dF"
      },
      "execution_count": null,
      "outputs": []
    },
    {
      "cell_type": "markdown",
      "source": [
        "###*The next snippet of code may be run to read the source file into a dataframe.*    \n",
        "*There is no need to run the next snippet of code to only read the `.csv` file.*   "
      ],
      "metadata": {
        "id": "y8ojxCgvBBYF"
      }
    },
    {
      "cell_type": "code",
      "source": [
        "# the following code reads the `annual-co2-emissions-per-country.csv` file into a `df` dataframe\n",
        "url='https://drive.google.com/file/d/1BzgiANIXNqRHnU85vzB3gHTGBesHuz4F/view?usp=sharing'\n",
        "file_id=url.split('/')[-2]\n",
        "dwn_url='https://drive.google.com/uc?id=' + file_id\n",
        "df = pd.read_csv(dwn_url)\n",
        "print(df.head())"
      ],
      "metadata": {
        "id": "AR6hyPN5AlcE"
      },
      "execution_count": null,
      "outputs": []
    },
    {
      "cell_type": "markdown",
      "source": [
        "## Read Source File"
      ],
      "metadata": {
        "id": "B7XLNz-v5_w3"
      }
    },
    {
      "cell_type": "code",
      "execution_count": null,
      "metadata": {
        "id": "L8RuMYsP2xDk"
      },
      "outputs": [],
      "source": [
        "# create a file handle to read the .csv file\n",
        "# skip the header row (the column headings)\n",
        "# then read through the file in a for loop\n",
        "\n",
        "with open('annual-co2-emissions-per-country.csv', mode ='r') as data_file:\n",
        "   \n",
        "    # reading the .csv file\n",
        "    data_csv_handle = csv.reader(data_file)\n",
        " \n",
        "    # The next function will call the next values of the iterator\n",
        "    # which are the header values. By ignoring the, returned values\n",
        "    # we effectively skip the header row\n",
        "    next(data_csv_handle, None)\n",
        "\n",
        "    # displaying the contents of the CSV file\n",
        "    for line in data_csv_handle:\n",
        "        iso = line[1]\n",
        "        if '_' in iso:\n",
        "            continue\n",
        "        # print(line[3])\n",
        "        # wait = input('paused')\n",
        "        try:\n",
        "            emissions = float(line[3])\n",
        "        except:\n",
        "            continue\n",
        "        data_dict[iso] = data_dict.get(iso, 0) + emissions\n"
      ]
    },
    {
      "cell_type": "markdown",
      "source": [
        "---"
      ],
      "metadata": {
        "id": "dGhLJxmf6Df3"
      }
    },
    {
      "cell_type": "markdown",
      "source": [
        "## Review Results with Print "
      ],
      "metadata": {
        "id": "svfUtcG16GTH"
      }
    },
    {
      "cell_type": "code",
      "source": [
        "# print them all if you like\n",
        "for key in data_dict:\n",
        "    print(key, data_dict[key])"
      ],
      "metadata": {
        "id": "wx0HLJOp9OLi"
      },
      "execution_count": null,
      "outputs": []
    },
    {
      "cell_type": "code",
      "source": [
        "# print the total of emissions for a selected ISO code\n",
        "which_iso = input('What is the 3-letter ISO code you would like? ')\n",
        "print(data_dict[which_iso.upper()])"
      ],
      "metadata": {
        "id": "6nSFp_3qK-q9"
      },
      "execution_count": null,
      "outputs": []
    },
    {
      "cell_type": "code",
      "source": [
        "# print the total emissions for the desired countries\n",
        "for key in data_dict: \n",
        "    if key not in iso_dict:\n",
        "        continue\n",
        "    print(iso_dict[key], '\\t', data_dict[key])"
      ],
      "metadata": {
        "id": "IVfdKQEM4c2F"
      },
      "execution_count": null,
      "outputs": []
    },
    {
      "cell_type": "markdown",
      "source": [
        "---"
      ],
      "metadata": {
        "id": "sDD6k8-KLyGi"
      }
    },
    {
      "cell_type": "markdown",
      "source": [
        "## Write Results to a .CSV File    "
      ],
      "metadata": {
        "id": "rVC6RP699ync"
      }
    },
    {
      "cell_type": "code",
      "source": [
        "with open('total-co2-emissions-selected-countries.csv', mode ='w') as total_emissions_file:\n",
        "    # create a file handle for writing the .csv file\n",
        "    output_csv_handle = csv.writer(total_emissions_file)\n",
        "\n",
        "    # write a header row to the output file\n",
        "    output_csv_handle.writerow([\"country\", \"total_emissions\"])\n",
        "\n",
        "    # write each data record to the output file\n",
        "    for key in data_dict: \n",
        "        if key not in iso_dict:\n",
        "            continue\n",
        "        output_csv_handle.writerow([iso_dict[key], data_dict[key]])\n",
        "\n"
      ],
      "metadata": {
        "id": "quf-A33y92zl"
      },
      "execution_count": null,
      "outputs": []
    },
    {
      "cell_type": "code",
      "source": [
        "# close the files\n",
        "data_file.close()\n",
        "total_emissions_file.close()"
      ],
      "metadata": {
        "id": "dbaW8McqFLLc"
      },
      "execution_count": null,
      "outputs": []
    },
    {
      "cell_type": "markdown",
      "source": [
        "\n",
        "\n",
        "---\n",
        "\n"
      ],
      "metadata": {
        "id": "AxBWFKhA4w2-"
      }
    }
  ]
}