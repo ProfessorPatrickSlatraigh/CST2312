{
  "nbformat": 4,
  "nbformat_minor": 0,
  "metadata": {
    "colab": {
      "provenance": [],
      "collapsed_sections": [],
      "authorship_tag": "ABX9TyMeim5hC/n1Dna31SkPVp14",
      "include_colab_link": true
    },
    "kernelspec": {
      "name": "python3",
      "display_name": "Python 3"
    },
    "language_info": {
      "name": "python"
    }
  },
  "cells": [
    {
      "cell_type": "markdown",
      "metadata": {
        "id": "view-in-github",
        "colab_type": "text"
      },
      "source": [
        "<a href=\"https://colab.research.google.com/github/ProfessorPatrickSlatraigh/CST2312/blob/main/CST2312_D222_Fall2022_Class17_RegexPractice.ipynb\" target=\"_parent\"><img src=\"https://colab.research.google.com/assets/colab-badge.svg\" alt=\"Open In Colab\"/></a>"
      ]
    },
    {
      "cell_type": "markdown",
      "source": [
        "# **CST2312 Class 17**   \n",
        "**Regex Practice** \n",
        "\n",
        "Read text data to find the times of high tides for you to fish at Battery Park in NYC.   \n",
        "\n",
        "*This notebook uses text captured from a snapshot of the NOAA data on tides at Battery, New York as of 01-Nov-2022.*\n",
        "\n",
        "\n",
        "[A current snapshot of the NOAA tide data for Battery, NYC](https://tidesandcurrents.noaa.gov/map/index.html?id=8518750)  \n"
      ],
      "metadata": {
        "id": "S1x8MHmXizSs"
      }
    },
    {
      "cell_type": "markdown",
      "source": [
        "**References**  \n",
        "\n",
        "Review material from [Class 12 on Regex](https://bit.ly/cst2312cl12)      \n",
        "\n",
        "Use the [Regex Cheat Sheet](https://bit.ly/cst2312regex)        \n",
        "\n",
        "Practice use cases from [Class 15 Lab Exercises](https://bit.ly/cst2312cl15)    "
      ],
      "metadata": {
        "id": "d9VXmymRzt2J"
      }
    },
    {
      "cell_type": "markdown",
      "source": [
        "**Resources** \n",
        "\n",
        "The following provide interactive tools for developing and testing regular expressions:    \n",
        "\n",
        " - https://regexr.com/     \n",
        "\n",
        " - https://regexlearn.com/playground    \n",
        "\n",
        " - https://regex101.com/    \n",
        " \n"
      ],
      "metadata": {
        "id": "W4C7d8l51Jy8"
      }
    },
    {
      "cell_type": "markdown",
      "source": [
        "---"
      ],
      "metadata": {
        "id": "t9jCCFrh1IqI"
      }
    },
    {
      "cell_type": "markdown",
      "source": [
        "## Housekeeping   "
      ],
      "metadata": {
        "id": "eeSfW3y8i73f"
      }
    },
    {
      "cell_type": "markdown",
      "source": [
        "###Import libraries"
      ],
      "metadata": {
        "id": "R50lIG6yjCq_"
      }
    },
    {
      "cell_type": "code",
      "execution_count": 73,
      "metadata": {
        "id": "psVd8doAiqjf"
      },
      "outputs": [],
      "source": [
        "import re\n"
      ]
    },
    {
      "cell_type": "markdown",
      "source": [
        "###Acess text file(s)   "
      ],
      "metadata": {
        "id": "x5R9bxEdjGze"
      }
    },
    {
      "cell_type": "code",
      "source": [
        "!curl \"https://raw.githubusercontent.com/ProfessorPatrickSlatraigh/data/680aa4214a98cff5b62ccf432d3a6029809b322c/battery-nyc-tides.txt\" -o tide-data.txt"
      ],
      "metadata": {
        "id": "Td8rorsBjKte"
      },
      "execution_count": null,
      "outputs": []
    },
    {
      "cell_type": "markdown",
      "source": [
        "##Read the file into a string variable  "
      ],
      "metadata": {
        "id": "Ww5qgB2cs678"
      }
    },
    {
      "cell_type": "code",
      "source": [
        "with open(\"tide-data.txt\", \"r\") as file:\n",
        " text_str = str(file.read())\n",
        "\n",
        "print(text_str)"
      ],
      "metadata": {
        "id": "g6Y6limynVMe"
      },
      "execution_count": null,
      "outputs": []
    },
    {
      "cell_type": "markdown",
      "source": [
        "---"
      ],
      "metadata": {
        "id": "tIzUlq_ps6Ej"
      }
    },
    {
      "cell_type": "markdown",
      "source": [
        "##Search the string variable with `re.search()` "
      ],
      "metadata": {
        "id": "68q6wGuRkdon"
      }
    },
    {
      "cell_type": "code",
      "source": [
        "# 1 - grab a substring of text and search for it\n",
        "re_searched = re.search(r'2:33 AM\thigh\t4\\.19 ft', text_str)"
      ],
      "metadata": {
        "id": "sVwCZ3rGqSUM"
      },
      "execution_count": 56,
      "outputs": []
    },
    {
      "cell_type": "code",
      "source": [
        "print(re_searched)"
      ],
      "metadata": {
        "id": "J0Y1wvOo13AK"
      },
      "execution_count": null,
      "outputs": []
    },
    {
      "cell_type": "code",
      "source": [
        "# 2 - use an even smaller substring of text and search for it\n",
        "re_searched = re.search(r'2:33 AM', text_str)"
      ],
      "metadata": {
        "id": "pGcRC9O0qB8Q"
      },
      "execution_count": 48,
      "outputs": []
    },
    {
      "cell_type": "code",
      "source": [
        "print(re_searched)"
      ],
      "metadata": {
        "id": "6lI6F6_m13vR"
      },
      "execution_count": null,
      "outputs": []
    },
    {
      "cell_type": "code",
      "source": [
        "# 3 - try a regex pattern for time and search for it\n",
        "re_searched = re.search(r'(\\d+:\\d+ \\wM)', text_str)"
      ],
      "metadata": {
        "id": "W2o3n4vFqu1c"
      },
      "execution_count": 50,
      "outputs": []
    },
    {
      "cell_type": "code",
      "source": [
        "print(re_searched)"
      ],
      "metadata": {
        "id": "TPlh5-OR14YI"
      },
      "execution_count": null,
      "outputs": []
    },
    {
      "cell_type": "code",
      "source": [
        "# 4 - try a regex pattern for time followd by a space then 'high'\n",
        "re_searched = re.search(r'(\\d+:\\d+ \\wM high)', text_str)"
      ],
      "metadata": {
        "id": "SQcE1AJjstAO"
      },
      "execution_count": 60,
      "outputs": []
    },
    {
      "cell_type": "code",
      "source": [
        "print(re_searched)"
      ],
      "metadata": {
        "id": "iFlj8bmP15E0"
      },
      "execution_count": null,
      "outputs": []
    },
    {
      "cell_type": "code",
      "source": [
        "# 5 - what went wrong with the #4 search?\n",
        "re_searched = re.search(r'(\\d+:\\d+ \\wM.high)', text_str)"
      ],
      "metadata": {
        "id": "NUqkx0vEseZG"
      },
      "execution_count": 67,
      "outputs": []
    },
    {
      "cell_type": "code",
      "source": [
        "print(re_searched)"
      ],
      "metadata": {
        "id": "oy6ZSZrQqLQ4"
      },
      "execution_count": null,
      "outputs": []
    },
    {
      "cell_type": "markdown",
      "source": [
        "---"
      ],
      "metadata": {
        "id": "FTU7ZRBas3rw"
      }
    },
    {
      "cell_type": "markdown",
      "source": [
        "## Search the string for matches with `re.findall` to find all high tides  "
      ],
      "metadata": {
        "id": "DF872ko5tXye"
      }
    },
    {
      "cell_type": "code",
      "source": [
        "print(text_str)"
      ],
      "metadata": {
        "id": "ly3S8aifud9z"
      },
      "execution_count": null,
      "outputs": []
    },
    {
      "cell_type": "code",
      "source": [
        "matches = re.findall(r'\\d+:\\d+ \\wM.high', text_str)\n",
        "print (matches)  \n",
        "for match in matches:\n",
        "  print (match)"
      ],
      "metadata": {
        "id": "w5ClBQrqvwyK"
      },
      "execution_count": null,
      "outputs": []
    },
    {
      "cell_type": "markdown",
      "source": [
        "---"
      ],
      "metadata": {
        "id": "SLFKnnt_oB2Q"
      }
    },
    {
      "cell_type": "markdown",
      "source": [
        "##Your turn:     \n",
        "\n",
        "**What other `regex` searches could you perform to extract data from the text in the file?**   "
      ],
      "metadata": {
        "id": "61mwTE641dwx"
      }
    },
    {
      "cell_type": "code",
      "source": [],
      "metadata": {
        "id": "ygLv2IJl1qQH"
      },
      "execution_count": null,
      "outputs": []
    },
    {
      "cell_type": "markdown",
      "source": [
        "---"
      ],
      "metadata": {
        "id": "0FVAy9AL1ql3"
      }
    }
  ]
}