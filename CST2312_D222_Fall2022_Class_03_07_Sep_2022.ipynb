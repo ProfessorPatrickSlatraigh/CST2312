{
  "nbformat": 4,
  "nbformat_minor": 0,
  "metadata": {
    "colab": {
      "provenance": [],
      "collapsed_sections": [],
      "include_colab_link": true
    },
    "kernelspec": {
      "name": "python3",
      "display_name": "Python 3"
    },
    "language_info": {
      "name": "python"
    }
  },
  "cells": [
    {
      "cell_type": "markdown",
      "metadata": {
        "id": "view-in-github",
        "colab_type": "text"
      },
      "source": [
        "<a href=\"https://colab.research.google.com/github/ProfessorPatrickSlatraigh/CST2312/blob/main/CST2312_D222_Fall2022_Class_03_07_Sep_2022.ipynb\" target=\"_parent\"><img src=\"https://colab.research.google.com/assets/colab-badge.svg\" alt=\"Open In Colab\"/></a>"
      ]
    },
    {
      "cell_type": "markdown",
      "source": [
        "# **CST2312 - Class 03**"
      ],
      "metadata": {
        "id": "20K1shWcuLx7"
      }
    },
    {
      "cell_type": "markdown",
      "metadata": {
        "id": "fj3lPXhb1kPD"
      },
      "source": [
        "**Examples** from: \n",
        "# Lesson 6 (Loops and Iteration)\n",
        "\n",
        "```\n",
        "# This is formatted as code\n",
        "```\n",
        "\n",
        "\n",
        "*was old lesson5*    \n",
        "of Python For Everybody (p4e.com/lessons)"
      ]
    },
    {
      "cell_type": "markdown",
      "metadata": {
        "id": "Feq3LmYJu3kT"
      },
      "source": [
        "### 6(5).1 Updating variables"
      ]
    },
    {
      "cell_type": "code",
      "execution_count": null,
      "metadata": {
        "id": "qG4m1aW-u3kU"
      },
      "outputs": [],
      "source": [
        "x = 0\n",
        "x = x + 1"
      ]
    },
    {
      "cell_type": "code",
      "execution_count": null,
      "metadata": {
        "id": "UEZEb3aju3kU"
      },
      "outputs": [],
      "source": [
        "print(x)"
      ]
    },
    {
      "cell_type": "markdown",
      "metadata": {
        "id": "TtfnAR54u3kV"
      },
      "source": [
        "### 6(5).2 The while statement"
      ]
    },
    {
      "cell_type": "code",
      "execution_count": null,
      "metadata": {
        "id": "1HSheppfu3kV"
      },
      "outputs": [],
      "source": [
        "n = 5\n",
        "while n > 0:\n",
        "    print(n)\n",
        "    n = n - 1\n",
        "print('Blastoff!')"
      ]
    },
    {
      "cell_type": "markdown",
      "metadata": {
        "id": "2oJytF_Qu3kV"
      },
      "source": [
        "### 6(5).4 “Infinite loops” and break"
      ]
    },
    {
      "cell_type": "code",
      "execution_count": null,
      "metadata": {
        "id": "mYuOSAZ7u3kb"
      },
      "outputs": [],
      "source": [
        "n = 10\n",
        "while True:\n",
        "    print(n, end=' ')\n",
        "    n = n - 1\n",
        "print('Done!')"
      ]
    },
    {
      "cell_type": "code",
      "execution_count": null,
      "metadata": {
        "id": "XODF1PLzu3kb"
      },
      "outputs": [],
      "source": [
        "while True:\n",
        "    line = input('> ')\n",
        "    if line == 'done':\n",
        "        break\n",
        "    print(line)\n",
        "print('Done!')"
      ]
    },
    {
      "cell_type": "markdown",
      "metadata": {
        "id": "S3pqf-EQu3kb"
      },
      "source": [
        "### 6(5).5 Finishing iterations with continue"
      ]
    },
    {
      "cell_type": "code",
      "execution_count": null,
      "metadata": {
        "id": "nbkXZXp-u3kb"
      },
      "outputs": [],
      "source": [
        "while True:\n",
        "    line = input('> ')\n",
        "    if line[0] == '#':\n",
        "        continue\n",
        "    if line == 'done':\n",
        "        break\n",
        "    print(line)\n",
        "print('Done!')"
      ]
    },
    {
      "cell_type": "markdown",
      "metadata": {
        "id": "bRl7SeaJu3kc"
      },
      "source": [
        "### 6(5).6 Definite loops using for"
      ]
    },
    {
      "cell_type": "code",
      "execution_count": null,
      "metadata": {
        "id": "azXkRkFJu3kc"
      },
      "outputs": [],
      "source": [
        "friends = ['Joseph', 'Glenn', 'Sally']\n",
        "for friend in friends:\n",
        "    print('Happy New Year:', friend)\n",
        "print('Done!')"
      ]
    },
    {
      "cell_type": "markdown",
      "metadata": {
        "id": "vJJVO1POu3kc"
      },
      "source": [
        "### 6(5).7 Loop patterns\n",
        "#### 6(5).7.1 Counting and summing loops"
      ]
    },
    {
      "cell_type": "code",
      "execution_count": null,
      "metadata": {
        "id": "kB5GVkafu3kc"
      },
      "outputs": [],
      "source": [
        "count = 0\n",
        "for itervar in [3, 41, 12, 9, 74, 15]:\n",
        "    count = count + 1\n",
        "print('Count: ', count)"
      ]
    },
    {
      "cell_type": "code",
      "execution_count": null,
      "metadata": {
        "id": "WvL5LIOCu3kc"
      },
      "outputs": [],
      "source": [
        "total = 0\n",
        "for itervar in [3, 41, 12, 9, 74, 15]:\n",
        "    total = total + itervar\n",
        "print('Total: ', total)"
      ]
    },
    {
      "cell_type": "markdown",
      "metadata": {
        "id": "snQdxBV2u3kc"
      },
      "source": [
        "#### 6(5).7.2 Maximum and minimum loops"
      ]
    },
    {
      "cell_type": "code",
      "execution_count": null,
      "metadata": {
        "id": "VPX1Xzimu3kd"
      },
      "outputs": [],
      "source": [
        "largest = None\n",
        "print('Before:', largest)\n",
        "for itervar in [3, 41, 12, 9, 74, 15]:\n",
        "    if largest is None or itervar > largest :\n",
        "        largest = itervar\n",
        "    print('Loop:', itervar, largest)\n",
        "print('Largest:', largest)"
      ]
    },
    {
      "cell_type": "code",
      "execution_count": null,
      "metadata": {
        "id": "gH1FGM2Qu3kd"
      },
      "outputs": [],
      "source": [
        "smallest = None\n",
        "print('Before:', smallest)\n",
        "for itervar in [3, 41, 12, 9, 74, 15]:\n",
        "    if smallest is None or itervar < smallest:\n",
        "        smallest = itervar\n",
        "    print('Loop:', itervar, smallest)\n",
        "print('Smallest:', smallest)"
      ]
    },
    {
      "cell_type": "markdown",
      "source": [
        "**See the class notes on Blackboard and the Charles Severance lectures on py4e.com for more information.**"
      ],
      "metadata": {
        "id": "YkqnFf09tryC"
      }
    },
    {
      "cell_type": "markdown",
      "source": [
        "\n",
        "\n",
        "---\n",
        "\n"
      ],
      "metadata": {
        "id": "vJ-ohtvJjW1S"
      }
    },
    {
      "cell_type": "markdown",
      "source": [
        "**Examples** from: \n",
        "# Lesson 9 (Lists)    \n",
        "*was old lesson 8*    \n",
        "of Python For Everybody (p4e.com/lessons)"
      ],
      "metadata": {
        "id": "QEjSkVXX0e-A"
      }
    },
    {
      "cell_type": "markdown",
      "metadata": {
        "id": "KRKrVShTxTZK"
      },
      "source": [
        "### 9(8).1 A list is a sequence"
      ]
    },
    {
      "cell_type": "code",
      "execution_count": null,
      "metadata": {
        "id": "QgZ2fyQuxTZK"
      },
      "outputs": [],
      "source": [
        "# There are several ways to create a new list; the simplest is to enclose the elements in square brackets ([ and ]):\n",
        "[10, 20, 30, 40]"
      ]
    },
    {
      "cell_type": "code",
      "execution_count": null,
      "metadata": {
        "id": "GZB8Od6AxTZL"
      },
      "outputs": [],
      "source": [
        "['crunchy frog', 'ram bladder', 'lark vomit']"
      ]
    },
    {
      "cell_type": "code",
      "execution_count": null,
      "metadata": {
        "id": "d6Dqv9OExTZM"
      },
      "outputs": [],
      "source": [
        "# list contains a string, a float, an integer, and (lo!) another list:\n",
        "['spam', 2.0, 5, [10, 20]]"
      ]
    },
    {
      "cell_type": "code",
      "execution_count": null,
      "metadata": {
        "id": "MQ9zFiYexTZM"
      },
      "outputs": [],
      "source": [
        "cheeses = ['Cheddar', 'Edam', 'Gouda']\n",
        "numbers = [17, 123]\n",
        "empty = []\n",
        "print(cheeses, numbers, empty)"
      ]
    },
    {
      "cell_type": "markdown",
      "metadata": {
        "id": "0ZSqNBD0xTZM"
      },
      "source": [
        "### 9(8).2 Lists are mutable"
      ]
    },
    {
      "cell_type": "code",
      "execution_count": null,
      "metadata": {
        "id": "xKeRM9nKxTZN"
      },
      "outputs": [],
      "source": [
        "# the indices start at 0:\n",
        "print(cheeses[0])"
      ]
    },
    {
      "cell_type": "code",
      "execution_count": null,
      "metadata": {
        "id": "uL5ld96FxTZN"
      },
      "outputs": [],
      "source": [
        "numbers = [17, 123]\n",
        "numbers[1] = 5\n",
        "print(numbers)"
      ]
    },
    {
      "cell_type": "code",
      "execution_count": null,
      "metadata": {
        "id": "2ax1sML1xTZN"
      },
      "outputs": [],
      "source": [
        "cheeses = ['Cheddar', 'Edam', 'Gouda']\n",
        "'Edam' in cheeses"
      ]
    },
    {
      "cell_type": "code",
      "execution_count": null,
      "metadata": {
        "id": "zGVBT6EqxTZO"
      },
      "outputs": [],
      "source": [
        "'Brie' in cheeses"
      ]
    },
    {
      "cell_type": "markdown",
      "metadata": {
        "id": "XY0SxhrWxTZO"
      },
      "source": [
        "### 9(8).3 Traversing a list"
      ]
    },
    {
      "cell_type": "code",
      "execution_count": null,
      "metadata": {
        "id": "MvVrSr_ExTZO"
      },
      "outputs": [],
      "source": [
        "for cheese in cheeses:\n",
        "    print(cheese)"
      ]
    },
    {
      "cell_type": "code",
      "execution_count": null,
      "metadata": {
        "id": "V7unrJ-UxTZO"
      },
      "outputs": [],
      "source": [
        "for i in range(len(numbers)):\n",
        "    numbers[i] = numbers[i] * 2\n",
        "    print(numbers[i])"
      ]
    },
    {
      "cell_type": "code",
      "execution_count": null,
      "metadata": {
        "id": "k_frJDmGxTZP"
      },
      "outputs": [],
      "source": [
        "# A for loop over an empty list never executes the body\n",
        "for x in empty:\n",
        "    print('This never happens.')"
      ]
    },
    {
      "cell_type": "code",
      "execution_count": null,
      "metadata": {
        "id": "WX1Xo3B9xTZP"
      },
      "outputs": [],
      "source": [
        "# Although a list can contain another list, the nested list still counts as a single element. The length of this list is\n",
        "t = ['spam', 1, ['Brie', 'Roquefort', 'Pol le Veq'], [1, 2, 3]]\n",
        "len(t)"
      ]
    },
    {
      "cell_type": "markdown",
      "metadata": {
        "id": "EayxS854xTZP"
      },
      "source": [
        "### 9(8).4 List operations"
      ]
    },
    {
      "cell_type": "code",
      "execution_count": null,
      "metadata": {
        "id": "Wzmx1VMpxTZP"
      },
      "outputs": [],
      "source": [
        "# The + operator concatenates lists:\n",
        "a = [1, 2, 3]\n",
        "b = [4, 5, 6]\n",
        "c = a + b\n",
        "print(c)"
      ]
    },
    {
      "cell_type": "code",
      "execution_count": null,
      "metadata": {
        "id": "VPZrBucRxTZQ"
      },
      "outputs": [],
      "source": [
        "# the * operator repeats a list a given number of times:\n",
        "[0] * 4"
      ]
    },
    {
      "cell_type": "code",
      "execution_count": null,
      "metadata": {
        "id": "uZvWh8HlxTZQ"
      },
      "outputs": [],
      "source": [
        "[1, 2, 3] * 3"
      ]
    },
    {
      "cell_type": "markdown",
      "metadata": {
        "id": "Y8TebY7bxTZQ"
      },
      "source": [
        "### 9(8).5 List slices"
      ]
    },
    {
      "cell_type": "code",
      "execution_count": null,
      "metadata": {
        "id": "dhV5AAyIxTZQ"
      },
      "outputs": [],
      "source": [
        "t = ['a', 'b', 'c', 'd', 'e', 'f']\n",
        "t[1:3]"
      ]
    },
    {
      "cell_type": "code",
      "execution_count": null,
      "metadata": {
        "id": "6XTdBU5AxTZQ"
      },
      "outputs": [],
      "source": [
        "t[:4]"
      ]
    },
    {
      "cell_type": "code",
      "execution_count": null,
      "metadata": {
        "id": "bGJx4whwxTZR"
      },
      "outputs": [],
      "source": [
        "t[3:]"
      ]
    },
    {
      "cell_type": "code",
      "execution_count": null,
      "metadata": {
        "id": "nus1kNiexTZR"
      },
      "outputs": [],
      "source": [
        "t[:]"
      ]
    },
    {
      "cell_type": "code",
      "execution_count": null,
      "metadata": {
        "id": "aH65GChOxTZR"
      },
      "outputs": [],
      "source": [
        "# A slice operator on the left side of an assignment can update multiple elements:\n",
        "t = ['a', 'b', 'c', 'd', 'e', 'f']\n",
        "t[1:3] = ['x', 'y']\n",
        "print(t)"
      ]
    },
    {
      "cell_type": "markdown",
      "metadata": {
        "id": "FfqVWKmxxTZR"
      },
      "source": [
        "### 9(8).6 List methods"
      ]
    },
    {
      "cell_type": "code",
      "execution_count": null,
      "metadata": {
        "id": "D23uj0JgxTZR"
      },
      "outputs": [],
      "source": [
        "t = ['a', 'b', 'c']\n",
        "t.append('d')\n",
        "print(t)"
      ]
    },
    {
      "cell_type": "code",
      "execution_count": null,
      "metadata": {
        "id": "iR1mFuIRxTZR"
      },
      "outputs": [],
      "source": [
        "t1 = ['a', 'b', 'c']\n",
        "t2 = ['d', 'e']\n",
        "t1.extend(t2)\n",
        "print(t1)"
      ]
    },
    {
      "cell_type": "code",
      "execution_count": null,
      "metadata": {
        "id": "i61b8ERCxTZR"
      },
      "outputs": [],
      "source": [
        "t = ['d', 'c', 'e', 'b', 'a']\n",
        "t.sort()\n",
        "print(t)"
      ]
    },
    {
      "cell_type": "markdown",
      "metadata": {
        "id": "wQGgO9PQxTZS"
      },
      "source": [
        "### 9(8).7 Deleting elements"
      ]
    },
    {
      "cell_type": "code",
      "execution_count": null,
      "metadata": {
        "id": "-NPsUrv5xTZS"
      },
      "outputs": [],
      "source": [
        "t = ['a', 'b', 'c']\n",
        "x = t.pop(1)\n",
        "print(t)\n",
        "print(x)"
      ]
    },
    {
      "cell_type": "code",
      "execution_count": null,
      "metadata": {
        "id": "R9mGLJdzxTZS"
      },
      "outputs": [],
      "source": [
        "# If you don’t need the removed value, you can use the del operator:\n",
        "t = ['a', 'b', 'c']\n",
        "del t[1]\n",
        "print(t)"
      ]
    },
    {
      "cell_type": "code",
      "execution_count": null,
      "metadata": {
        "id": "CpMZkf5GxTZX"
      },
      "outputs": [],
      "source": [
        "# If you know the element you want to remove (but not the index), you can use remove:\n",
        "t = ['a', 'b', 'c']\n",
        "t.remove('b')\n",
        "print(t)"
      ]
    },
    {
      "cell_type": "code",
      "execution_count": null,
      "metadata": {
        "id": "aqqh9-cOxTZX"
      },
      "outputs": [],
      "source": [
        "# To remove more than one element, you can use del with a slice index:\n",
        "t = ['a', 'b', 'c', 'd', 'e', 'f']\n",
        "del t[1:5]\n",
        "print(t)"
      ]
    },
    {
      "cell_type": "markdown",
      "metadata": {
        "id": "A66aNvySxTZX"
      },
      "source": [
        "### 9(8).8 Lists and functions"
      ]
    },
    {
      "cell_type": "code",
      "execution_count": null,
      "metadata": {
        "id": "RVOGqYqFxTZX"
      },
      "outputs": [],
      "source": [
        "nums = [3, 41, 12, 9, 74, 15]"
      ]
    },
    {
      "cell_type": "code",
      "execution_count": null,
      "metadata": {
        "id": "AF-MaMJExTZX"
      },
      "outputs": [],
      "source": [
        "len(nums)"
      ]
    },
    {
      "cell_type": "code",
      "execution_count": null,
      "metadata": {
        "id": "iQcY3Z3sxTZX"
      },
      "outputs": [],
      "source": [
        "max(nums)"
      ]
    },
    {
      "cell_type": "code",
      "execution_count": null,
      "metadata": {
        "id": "uiKyhm5OxTZY"
      },
      "outputs": [],
      "source": [
        "min(nums)"
      ]
    },
    {
      "cell_type": "code",
      "execution_count": null,
      "metadata": {
        "id": "gJ1l_ln4xTZY"
      },
      "outputs": [],
      "source": [
        "sum(nums)"
      ]
    },
    {
      "cell_type": "code",
      "execution_count": null,
      "metadata": {
        "id": "Ny3eVNKdxTZY"
      },
      "outputs": [],
      "source": [
        "sum(nums)/len(nums)"
      ]
    },
    {
      "cell_type": "code",
      "execution_count": null,
      "metadata": {
        "id": "2Qr623ZLxTZY"
      },
      "outputs": [],
      "source": [
        "# To compute an average without a list:\n",
        "total = 0\n",
        "count = 0\n",
        "while (True):\n",
        "    inp = input('Enter a number: ')\n",
        "    if inp == 'done': break\n",
        "    value = float(inp)\n",
        "    total = total + value\n",
        "    count = count + 1\n",
        "\n",
        "average = total / count\n",
        "print('Average:', average)"
      ]
    },
    {
      "cell_type": "code",
      "execution_count": null,
      "metadata": {
        "id": "KAfOdQPAxTZY"
      },
      "outputs": [],
      "source": [
        "# Use built-in functions to compute the sum and count at the end\n",
        "numlist = list()\n",
        "while (True):\n",
        "    inp = input('Enter a number: ')\n",
        "    if inp == 'done': break\n",
        "    value = float(inp)\n",
        "    numlist.append(value)\n",
        "\n",
        "average = sum(numlist) / len(numlist)\n",
        "print('Average:', average)"
      ]
    },
    {
      "cell_type": "markdown",
      "metadata": {
        "id": "OfhbhXMcxTZY"
      },
      "source": [
        "### 9(8).9 Lists and strings"
      ]
    },
    {
      "cell_type": "code",
      "execution_count": null,
      "metadata": {
        "id": "0RjvqUpKxTZY"
      },
      "outputs": [],
      "source": [
        "# convert dtring to list using built in function\n",
        "s = 'spam'\n",
        "t = list(s)\n",
        "print(t)"
      ]
    },
    {
      "cell_type": "code",
      "execution_count": null,
      "metadata": {
        "id": "feF5wRsKxTZY"
      },
      "outputs": [],
      "source": [
        "# To break a string into words, use the split method\n",
        "s = 'pining for the fjords'\n",
        "t = s.split()\n",
        "print(t)"
      ]
    },
    {
      "cell_type": "code",
      "execution_count": null,
      "metadata": {
        "id": "pb-7j2laxTZZ"
      },
      "outputs": [],
      "source": [
        "print(t[2])"
      ]
    },
    {
      "cell_type": "code",
      "execution_count": null,
      "metadata": {
        "id": "5bpUfqFJxTZZ"
      },
      "outputs": [],
      "source": [
        "# split with an optional argument called a delimiter\n",
        "s = 'spam-spam-spam'\n",
        "delimiter = '-'\n",
        "s.split(delimiter)"
      ]
    },
    {
      "cell_type": "code",
      "execution_count": null,
      "metadata": {
        "id": "HHYU5SO3xTZZ"
      },
      "outputs": [],
      "source": [
        "# join is the inverse of split\n",
        "t = ['pining', 'for', 'the', 'fjords']\n",
        "delimiter = ' '\n",
        "delimiter.join(t)"
      ]
    },
    {
      "cell_type": "markdown",
      "metadata": {
        "id": "Dn9I0hXVxTZZ"
      },
      "source": [
        "### 9(8).10 Parsing lines"
      ]
    },
    {
      "cell_type": "markdown",
      "source": [
        "Upload the exercise file `mbox-short.txt` to the current working directory before executing the next code.  For Google Colab sessions the initial current working directory is `\\content\\`"
      ],
      "metadata": {
        "id": "50rszgCHyBYn"
      }
    },
    {
      "cell_type": "markdown",
      "source": [
        "Here is a shareable link to `mbox-short.txt` on Professor Patrick's Google Drive:      \n",
        "\n",
        "https://bit.ly/mboxshorttxt "
      ],
      "metadata": {
        "id": "4ht7AnLCyZBo"
      }
    },
    {
      "cell_type": "code",
      "execution_count": null,
      "metadata": {
        "id": "Nef3F6HixTZZ"
      },
      "outputs": [],
      "source": [
        "fhand = open('mbox-short.txt')\n",
        "for line in fhand:\n",
        "    line = line.rstrip()\n",
        "    if not line.startswith('From '): continue\n",
        "    words = line.split()\n",
        "    print(words[2])"
      ]
    },
    {
      "cell_type": "markdown",
      "metadata": {
        "id": "f31Vj2RZxTZZ"
      },
      "source": [
        "### 9(8).11 Objects and values"
      ]
    },
    {
      "cell_type": "code",
      "execution_count": null,
      "metadata": {
        "id": "_O2YpJshxTZZ"
      },
      "outputs": [],
      "source": [
        "a = 'banana'\n",
        "b = 'banana'\n",
        "# To check whether two variables refer to the same object, use the 'is' operator.\n",
        "a is b"
      ]
    },
    {
      "cell_type": "code",
      "execution_count": null,
      "metadata": {
        "id": "7qEJxddOxTZa"
      },
      "outputs": [],
      "source": [
        "a = [1, 2, 3]\n",
        "b = [1, 2, 3]\n",
        "# two lists are equivalent, because they have the same elements, but not identical, because they are not the same object\n",
        "a is b"
      ]
    },
    {
      "cell_type": "markdown",
      "metadata": {
        "id": "Jw9lXTjkxTZa"
      },
      "source": [
        "### 9(8).12 Aliasing"
      ]
    },
    {
      "cell_type": "code",
      "execution_count": null,
      "metadata": {
        "id": "OyOg2bsKxTZa"
      },
      "outputs": [],
      "source": [
        "a = [1, 2, 3]\n",
        "b = a\n",
        "b is a\n",
        "\n",
        "# The association of a variable with an object is called a reference. In this example,\n",
        "# there are two references to the same object.\n",
        "# An object with more than one reference has more than one name, so we say that\n",
        "# the object is aliased."
      ]
    },
    {
      "cell_type": "code",
      "execution_count": null,
      "metadata": {
        "id": "OjZgggWFxTZa"
      },
      "outputs": [],
      "source": [
        "b[0] = 17\n",
        "print(a)\n",
        "\n",
        "# If the aliased object is mutable, changes made with one alias affect the other"
      ]
    },
    {
      "cell_type": "markdown",
      "metadata": {
        "id": "TcaNLcEexTZa"
      },
      "source": [
        "### 9(8).13 List arguments"
      ]
    },
    {
      "cell_type": "code",
      "execution_count": null,
      "metadata": {
        "id": "ETqyn8QMxTZa"
      },
      "outputs": [],
      "source": [
        "def delete_head(t):\n",
        "    del t[0]"
      ]
    },
    {
      "cell_type": "code",
      "execution_count": null,
      "metadata": {
        "id": "uwLAZbrPxTZa"
      },
      "outputs": [],
      "source": [
        "letters = ['a', 'b', 'c']\n",
        "delete_head(letters)\n",
        "print(letters)"
      ]
    },
    {
      "cell_type": "code",
      "execution_count": null,
      "metadata": {
        "id": "jkG4mxpixTZb"
      },
      "outputs": [],
      "source": [
        "# The append method modifies a list, but the + operator creates a new list:\n",
        "t1 = [1, 2]\n",
        "t2 = t1.append(3)\n",
        "print(t1)"
      ]
    },
    {
      "cell_type": "code",
      "execution_count": null,
      "metadata": {
        "id": "MIzmKn5mxTZb"
      },
      "outputs": [],
      "source": [
        "print(t2)"
      ]
    },
    {
      "cell_type": "code",
      "execution_count": null,
      "metadata": {
        "id": "jTGvuSUhxTZb"
      },
      "outputs": [],
      "source": [
        "t3 = t1 + [3]\n",
        "print(t3)"
      ]
    },
    {
      "cell_type": "code",
      "execution_count": null,
      "metadata": {
        "id": "tUw4IvX2xTZb"
      },
      "outputs": [],
      "source": [
        "t2 is t3"
      ]
    },
    {
      "cell_type": "code",
      "execution_count": null,
      "metadata": {
        "id": "ubbx9CftxTZb"
      },
      "outputs": [],
      "source": [
        "# this function does not delete the head of a list:\n",
        "def bad_delete_head(t):\n",
        "    t = t[1:]"
      ]
    },
    {
      "cell_type": "code",
      "execution_count": null,
      "metadata": {
        "id": "E0sVr4vIxTZb"
      },
      "outputs": [],
      "source": [
        "# tail returns all but the first element of a list:\n",
        "def tail(t):\n",
        "    return t[1:]"
      ]
    },
    {
      "cell_type": "code",
      "execution_count": null,
      "metadata": {
        "id": "chHgAJDUxTZb"
      },
      "outputs": [],
      "source": [
        "letters = ['a', 'b', 'c']\n",
        "rest = tail(letters)\n",
        "print(rest)"
      ]
    },
    {
      "cell_type": "markdown",
      "source": [
        "\n",
        "\n",
        "---\n",
        "\n"
      ],
      "metadata": {
        "id": "NPkz1lO8KKQF"
      }
    },
    {
      "cell_type": "markdown",
      "source": [
        "**See the class notes on Blackboard and the Charles Severance lectures on py4e.com for more information.**"
      ],
      "metadata": {
        "id": "dQiGP6-AzP5H"
      }
    },
    {
      "cell_type": "markdown",
      "source": [
        "\n",
        "\n",
        "---\n",
        "\n"
      ],
      "metadata": {
        "id": "aWZZ-ZJozP5I"
      }
    }
  ]
}