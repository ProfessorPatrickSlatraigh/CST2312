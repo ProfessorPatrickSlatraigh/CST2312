{
  "nbformat": 4,
  "nbformat_minor": 0,
  "metadata": {
    "colab": {
      "provenance": [],
      "collapsed_sections": [
        "QEjSkVXX0e-A",
        "qWiMNwGe3tnu",
        "fj3lPXhb1kPD",
        "iv07BnAYzGal",
        "gHy1r1EPi9ra",
        "IGD6E7WRi9rd",
        "jVdS6Cm1i9rn",
        "jJ3ZfUfoi9rp",
        "kNOkKAKci9rq",
        "LHcoQD8vi9rr",
        "OI-HJ7YNi9rs",
        "4yh0waqM94ca",
        "Fulb7Lqd9_9Z",
        "qzJ3pI_o_Ik_",
        "gXpSLtf6FEZu",
        "2HpUz6qrBcBE",
        "cFQWkHB5FO1N",
        "_CmGjooTGZdR",
        "x1UdnyzVLObr",
        "y7p3g3QtRKCJ",
        "M2MJRxMQRsKT",
        "Y35JfQnQSYlj",
        "-OFyfH504xtR",
        "CnRvcNTK4xtR",
        "PaMtHN9L4xtR",
        "QG4dX7_v4xtS",
        "9_XH96-N4xtT",
        "lJL2NDK84xtU"
      ],
      "include_colab_link": true
    },
    "kernelspec": {
      "name": "python3",
      "display_name": "Python 3"
    },
    "language_info": {
      "name": "python"
    }
  },
  "cells": [
    {
      "cell_type": "markdown",
      "metadata": {
        "id": "view-in-github",
        "colab_type": "text"
      },
      "source": [
        "<a href=\"https://colab.research.google.com/github/ProfessorPatrickSlatraigh/CST2312/blob/main/CST2312_D222_Fall2022_Class_05_14_Sep_2022.ipynb\" target=\"_parent\"><img src=\"https://colab.research.google.com/assets/colab-badge.svg\" alt=\"Open In Colab\"/></a>"
      ]
    },
    {
      "cell_type": "markdown",
      "source": [
        "# **CST2312 - Class 05**"
      ],
      "metadata": {
        "id": "20K1shWcuLx7"
      }
    },
    {
      "cell_type": "markdown",
      "source": [
        "**Examples** from: \n",
        "# Review Lesson 9 (Lists)    \n",
        "*was old lesson 8*    \n",
        "of Python For Everybody (p4e.com/lessons)"
      ],
      "metadata": {
        "id": "QEjSkVXX0e-A"
      }
    },
    {
      "cell_type": "markdown",
      "metadata": {
        "id": "KRKrVShTxTZK"
      },
      "source": [
        "## 9(8).1 A list is a sequence"
      ]
    },
    {
      "cell_type": "code",
      "execution_count": null,
      "metadata": {
        "id": "QgZ2fyQuxTZK"
      },
      "outputs": [],
      "source": [
        "# There are several ways to create a new list; the simplest is to enclose the elements in square brackets ([ and ]):\n",
        "[10, 20, 30, 40]"
      ]
    },
    {
      "cell_type": "code",
      "execution_count": null,
      "metadata": {
        "id": "GZB8Od6AxTZL"
      },
      "outputs": [],
      "source": [
        "['crunchy frog', 'ram bladder', 'lark vomit']"
      ]
    },
    {
      "cell_type": "code",
      "execution_count": null,
      "metadata": {
        "id": "d6Dqv9OExTZM"
      },
      "outputs": [],
      "source": [
        "# list contains a string, a float, an integer, and (lo!) another list:\n",
        "['spam', 2.0, 5, [10, 20]]"
      ]
    },
    {
      "cell_type": "code",
      "execution_count": null,
      "metadata": {
        "id": "MQ9zFiYexTZM"
      },
      "outputs": [],
      "source": [
        "cheeses = ['Cheddar', 'Edam', 'Gouda']\n",
        "numbers = [17, 123]\n",
        "empty = []\n",
        "print(cheeses, numbers, empty)"
      ]
    },
    {
      "cell_type": "markdown",
      "metadata": {
        "id": "0ZSqNBD0xTZM"
      },
      "source": [
        "## 9(8).2 Lists are mutable"
      ]
    },
    {
      "cell_type": "code",
      "execution_count": null,
      "metadata": {
        "id": "xKeRM9nKxTZN"
      },
      "outputs": [],
      "source": [
        "# the indices start at 0:\n",
        "print(cheeses[0])"
      ]
    },
    {
      "cell_type": "code",
      "execution_count": null,
      "metadata": {
        "id": "uL5ld96FxTZN"
      },
      "outputs": [],
      "source": [
        "numbers = [17, 123]\n",
        "numbers[1] = 5\n",
        "print(numbers)"
      ]
    },
    {
      "cell_type": "code",
      "execution_count": null,
      "metadata": {
        "id": "2ax1sML1xTZN"
      },
      "outputs": [],
      "source": [
        "cheeses = ['Cheddar', 'Edam', 'Gouda']\n",
        "'Edam' in cheeses"
      ]
    },
    {
      "cell_type": "code",
      "execution_count": null,
      "metadata": {
        "id": "zGVBT6EqxTZO"
      },
      "outputs": [],
      "source": [
        "'Brie' in cheeses"
      ]
    },
    {
      "cell_type": "markdown",
      "metadata": {
        "id": "XY0SxhrWxTZO"
      },
      "source": [
        "## 9(8).3 Traversing a list"
      ]
    },
    {
      "cell_type": "code",
      "execution_count": null,
      "metadata": {
        "id": "MvVrSr_ExTZO"
      },
      "outputs": [],
      "source": [
        "for cheese in cheeses:\n",
        "    print(cheese)"
      ]
    },
    {
      "cell_type": "code",
      "execution_count": null,
      "metadata": {
        "id": "V7unrJ-UxTZO"
      },
      "outputs": [],
      "source": [
        "for i in range(len(numbers)):\n",
        "    numbers[i] = numbers[i] * 2\n",
        "    print(numbers[i])"
      ]
    },
    {
      "cell_type": "code",
      "execution_count": null,
      "metadata": {
        "id": "k_frJDmGxTZP"
      },
      "outputs": [],
      "source": [
        "# A for loop over an empty list never executes the body\n",
        "for x in empty:\n",
        "    print('This never happens.')"
      ]
    },
    {
      "cell_type": "code",
      "execution_count": null,
      "metadata": {
        "id": "WX1Xo3B9xTZP"
      },
      "outputs": [],
      "source": [
        "# Although a list can contain another list, the nested list still counts as a single element. The length of this list is\n",
        "t = ['spam', 1, ['Brie', 'Roquefort', 'Pol le Veq'], [1, 2, 3]]\n",
        "len(t)"
      ]
    },
    {
      "cell_type": "markdown",
      "metadata": {
        "id": "EayxS854xTZP"
      },
      "source": [
        "## 9(8).4 List operations"
      ]
    },
    {
      "cell_type": "code",
      "execution_count": null,
      "metadata": {
        "id": "Wzmx1VMpxTZP"
      },
      "outputs": [],
      "source": [
        "# The + operator concatenates lists:\n",
        "a = [1, 2, 3]\n",
        "b = [4, 5, 6]\n",
        "c = a + b\n",
        "print(c)"
      ]
    },
    {
      "cell_type": "code",
      "execution_count": null,
      "metadata": {
        "id": "VPZrBucRxTZQ"
      },
      "outputs": [],
      "source": [
        "# the * operator repeats a list a given number of times:\n",
        "[0] * 4"
      ]
    },
    {
      "cell_type": "code",
      "execution_count": null,
      "metadata": {
        "id": "uZvWh8HlxTZQ"
      },
      "outputs": [],
      "source": [
        "[1, 2, 3] * 3"
      ]
    },
    {
      "cell_type": "markdown",
      "metadata": {
        "id": "Y8TebY7bxTZQ"
      },
      "source": [
        "## 9(8).5 List slices"
      ]
    },
    {
      "cell_type": "code",
      "execution_count": null,
      "metadata": {
        "id": "dhV5AAyIxTZQ"
      },
      "outputs": [],
      "source": [
        "t = ['a', 'b', 'c', 'd', 'e', 'f']\n",
        "t[1:3]"
      ]
    },
    {
      "cell_type": "code",
      "execution_count": null,
      "metadata": {
        "id": "6XTdBU5AxTZQ"
      },
      "outputs": [],
      "source": [
        "t[:4]"
      ]
    },
    {
      "cell_type": "code",
      "execution_count": null,
      "metadata": {
        "id": "bGJx4whwxTZR"
      },
      "outputs": [],
      "source": [
        "t[3:]"
      ]
    },
    {
      "cell_type": "code",
      "execution_count": null,
      "metadata": {
        "id": "nus1kNiexTZR"
      },
      "outputs": [],
      "source": [
        "t[:]"
      ]
    },
    {
      "cell_type": "code",
      "execution_count": null,
      "metadata": {
        "id": "aH65GChOxTZR"
      },
      "outputs": [],
      "source": [
        "# A slice operator on the left side of an assignment can update multiple elements:\n",
        "t = ['a', 'b', 'c', 'd', 'e', 'f']\n",
        "t[1:3] = ['x', 'y']\n",
        "print(t)"
      ]
    },
    {
      "cell_type": "markdown",
      "metadata": {
        "id": "FfqVWKmxxTZR"
      },
      "source": [
        "## 9(8).6 List methods"
      ]
    },
    {
      "cell_type": "code",
      "execution_count": null,
      "metadata": {
        "id": "D23uj0JgxTZR"
      },
      "outputs": [],
      "source": [
        "t = ['a', 'b', 'c']\n",
        "t.append('d')\n",
        "print(t)"
      ]
    },
    {
      "cell_type": "code",
      "execution_count": null,
      "metadata": {
        "id": "iR1mFuIRxTZR"
      },
      "outputs": [],
      "source": [
        "t1 = ['a', 'b', 'c']\n",
        "t2 = ['d', 'e']\n",
        "t1.extend(t2)\n",
        "print(t1)"
      ]
    },
    {
      "cell_type": "code",
      "execution_count": null,
      "metadata": {
        "id": "i61b8ERCxTZR"
      },
      "outputs": [],
      "source": [
        "t = ['d', 'c', 'e', 'b', 'a']\n",
        "t.sort()\n",
        "print(t)"
      ]
    },
    {
      "cell_type": "markdown",
      "metadata": {
        "id": "wQGgO9PQxTZS"
      },
      "source": [
        "## 9(8).7 Deleting elements"
      ]
    },
    {
      "cell_type": "code",
      "execution_count": null,
      "metadata": {
        "id": "-NPsUrv5xTZS"
      },
      "outputs": [],
      "source": [
        "t = ['a', 'b', 'c']\n",
        "x = t.pop(1)\n",
        "print(t)\n",
        "print(x)"
      ]
    },
    {
      "cell_type": "code",
      "execution_count": null,
      "metadata": {
        "id": "R9mGLJdzxTZS"
      },
      "outputs": [],
      "source": [
        "# If you don’t need the removed value, you can use the del operator:\n",
        "t = ['a', 'b', 'c']\n",
        "del t[1]\n",
        "print(t)"
      ]
    },
    {
      "cell_type": "code",
      "execution_count": null,
      "metadata": {
        "id": "CpMZkf5GxTZX"
      },
      "outputs": [],
      "source": [
        "# If you know the element you want to remove (but not the index), you can use remove:\n",
        "t = ['a', 'b', 'c']\n",
        "t.remove('b')\n",
        "print(t)"
      ]
    },
    {
      "cell_type": "code",
      "execution_count": null,
      "metadata": {
        "id": "aqqh9-cOxTZX"
      },
      "outputs": [],
      "source": [
        "# To remove more than one element, you can use del with a slice index:\n",
        "t = ['a', 'b', 'c', 'd', 'e', 'f']\n",
        "del t[1:5]\n",
        "print(t)"
      ]
    },
    {
      "cell_type": "markdown",
      "metadata": {
        "id": "A66aNvySxTZX"
      },
      "source": [
        "## 9(8).8 Lists and functions"
      ]
    },
    {
      "cell_type": "code",
      "execution_count": null,
      "metadata": {
        "id": "RVOGqYqFxTZX"
      },
      "outputs": [],
      "source": [
        "nums = [3, 41, 12, 9, 74, 15]"
      ]
    },
    {
      "cell_type": "code",
      "execution_count": null,
      "metadata": {
        "id": "AF-MaMJExTZX"
      },
      "outputs": [],
      "source": [
        "len(nums)"
      ]
    },
    {
      "cell_type": "code",
      "execution_count": null,
      "metadata": {
        "id": "iQcY3Z3sxTZX"
      },
      "outputs": [],
      "source": [
        "max(nums)"
      ]
    },
    {
      "cell_type": "code",
      "execution_count": null,
      "metadata": {
        "id": "uiKyhm5OxTZY"
      },
      "outputs": [],
      "source": [
        "min(nums)"
      ]
    },
    {
      "cell_type": "code",
      "execution_count": null,
      "metadata": {
        "id": "gJ1l_ln4xTZY"
      },
      "outputs": [],
      "source": [
        "sum(nums)"
      ]
    },
    {
      "cell_type": "code",
      "execution_count": null,
      "metadata": {
        "id": "Ny3eVNKdxTZY"
      },
      "outputs": [],
      "source": [
        "sum(nums)/len(nums)"
      ]
    },
    {
      "cell_type": "code",
      "execution_count": null,
      "metadata": {
        "id": "2Qr623ZLxTZY"
      },
      "outputs": [],
      "source": [
        "# To compute an average without a list:\n",
        "total = 0\n",
        "count = 0\n",
        "while (True):\n",
        "    inp = input('Enter a number: ')\n",
        "    if inp == 'done': break\n",
        "    value = float(inp)\n",
        "    total = total + value\n",
        "    count = count + 1\n",
        "\n",
        "average = total / count\n",
        "print('Average:', average)"
      ]
    },
    {
      "cell_type": "code",
      "execution_count": null,
      "metadata": {
        "id": "KAfOdQPAxTZY"
      },
      "outputs": [],
      "source": [
        "# Use built-in functions to compute the sum and count at the end\n",
        "numlist = list()\n",
        "while (True):\n",
        "    inp = input('Enter a number: ')\n",
        "    if inp == 'done': break\n",
        "    value = float(inp)\n",
        "    numlist.append(value)\n",
        "\n",
        "average = sum(numlist) / len(numlist)\n",
        "print('Average:', average)"
      ]
    },
    {
      "cell_type": "markdown",
      "metadata": {
        "id": "OfhbhXMcxTZY"
      },
      "source": [
        "## 9(8).9 Lists and strings"
      ]
    },
    {
      "cell_type": "code",
      "execution_count": null,
      "metadata": {
        "id": "0RjvqUpKxTZY"
      },
      "outputs": [],
      "source": [
        "# convert dtring to list using built in function\n",
        "s = 'spam'\n",
        "t = list(s)\n",
        "print(t)"
      ]
    },
    {
      "cell_type": "code",
      "execution_count": null,
      "metadata": {
        "id": "feF5wRsKxTZY"
      },
      "outputs": [],
      "source": [
        "# To break a string into words, use the split method\n",
        "s = 'pining for the fjords'\n",
        "t = s.split()\n",
        "print(t)"
      ]
    },
    {
      "cell_type": "code",
      "execution_count": null,
      "metadata": {
        "id": "pb-7j2laxTZZ"
      },
      "outputs": [],
      "source": [
        "print(t[2])"
      ]
    },
    {
      "cell_type": "code",
      "execution_count": null,
      "metadata": {
        "id": "5bpUfqFJxTZZ"
      },
      "outputs": [],
      "source": [
        "# split with an optional argument called a delimiter\n",
        "s = 'spam-spam-spam'\n",
        "delimiter = '-'\n",
        "s.split(delimiter)"
      ]
    },
    {
      "cell_type": "code",
      "execution_count": null,
      "metadata": {
        "id": "HHYU5SO3xTZZ"
      },
      "outputs": [],
      "source": [
        "# join is the inverse of split\n",
        "t = ['pining', 'for', 'the', 'fjords']\n",
        "delimiter = ' '\n",
        "delimiter.join(t)"
      ]
    },
    {
      "cell_type": "markdown",
      "metadata": {
        "id": "Dn9I0hXVxTZZ"
      },
      "source": [
        "## 9(8).10 Parsing lines"
      ]
    },
    {
      "cell_type": "markdown",
      "source": [
        "Upload the exercise file `mbox-short.txt` to the current working directory before executing the next code.  For Google Colab sessions the initial current working directory is `\\content\\`"
      ],
      "metadata": {
        "id": "50rszgCHyBYn"
      }
    },
    {
      "cell_type": "markdown",
      "source": [
        "Here is a shareable link to `mbox-short.txt` on Professor Patrick's Google Drive:      \n",
        "\n",
        "https://bit.ly/mboxshorttxt "
      ],
      "metadata": {
        "id": "4ht7AnLCyZBo"
      }
    },
    {
      "cell_type": "code",
      "execution_count": null,
      "metadata": {
        "id": "Nef3F6HixTZZ"
      },
      "outputs": [],
      "source": [
        "fhand = open('mbox-short.txt')\n",
        "for line in fhand:\n",
        "    line = line.rstrip()\n",
        "    if not line.startswith('From '): continue\n",
        "    words = line.split()\n",
        "    print(words[2])"
      ]
    },
    {
      "cell_type": "markdown",
      "metadata": {
        "id": "f31Vj2RZxTZZ"
      },
      "source": [
        "## 9(8).11 Objects and values"
      ]
    },
    {
      "cell_type": "code",
      "execution_count": null,
      "metadata": {
        "id": "_O2YpJshxTZZ"
      },
      "outputs": [],
      "source": [
        "a = 'banana'\n",
        "b = 'banana'\n",
        "# To check whether two variables refer to the same object, use the 'is' operator.\n",
        "a is b"
      ]
    },
    {
      "cell_type": "code",
      "execution_count": null,
      "metadata": {
        "id": "7qEJxddOxTZa"
      },
      "outputs": [],
      "source": [
        "a = [1, 2, 3]\n",
        "b = [1, 2, 3]\n",
        "# two lists are equivalent, because they have the same elements, but not identical, because they are not the same object\n",
        "a is b"
      ]
    },
    {
      "cell_type": "markdown",
      "metadata": {
        "id": "Jw9lXTjkxTZa"
      },
      "source": [
        "## 9(8).12 Aliasing"
      ]
    },
    {
      "cell_type": "code",
      "execution_count": null,
      "metadata": {
        "id": "OyOg2bsKxTZa"
      },
      "outputs": [],
      "source": [
        "a = [1, 2, 3]\n",
        "b = a\n",
        "b is a\n",
        "\n",
        "# The association of a variable with an object is called a reference. In this example,\n",
        "# there are two references to the same object.\n",
        "# An object with more than one reference has more than one name, so we say that\n",
        "# the object is aliased."
      ]
    },
    {
      "cell_type": "code",
      "execution_count": null,
      "metadata": {
        "id": "OjZgggWFxTZa"
      },
      "outputs": [],
      "source": [
        "b[0] = 17\n",
        "print(a)\n",
        "\n",
        "# If the aliased object is mutable, changes made with one alias affect the other"
      ]
    },
    {
      "cell_type": "markdown",
      "metadata": {
        "id": "TcaNLcEexTZa"
      },
      "source": [
        "## 9(8).13 List arguments"
      ]
    },
    {
      "cell_type": "code",
      "execution_count": null,
      "metadata": {
        "id": "ETqyn8QMxTZa"
      },
      "outputs": [],
      "source": [
        "def delete_head(t):\n",
        "    del t[0]"
      ]
    },
    {
      "cell_type": "code",
      "execution_count": null,
      "metadata": {
        "id": "uwLAZbrPxTZa"
      },
      "outputs": [],
      "source": [
        "letters = ['a', 'b', 'c']\n",
        "delete_head(letters)\n",
        "print(letters)"
      ]
    },
    {
      "cell_type": "code",
      "execution_count": null,
      "metadata": {
        "id": "jkG4mxpixTZb"
      },
      "outputs": [],
      "source": [
        "# The append method modifies a list, but the + operator creates a new list:\n",
        "t1 = [1, 2]\n",
        "t2 = t1.append(3)\n",
        "print(t1)"
      ]
    },
    {
      "cell_type": "code",
      "execution_count": null,
      "metadata": {
        "id": "MIzmKn5mxTZb"
      },
      "outputs": [],
      "source": [
        "print(t2)"
      ]
    },
    {
      "cell_type": "code",
      "execution_count": null,
      "metadata": {
        "id": "jTGvuSUhxTZb"
      },
      "outputs": [],
      "source": [
        "t3 = t1 + [3]\n",
        "print(t3)"
      ]
    },
    {
      "cell_type": "code",
      "execution_count": null,
      "metadata": {
        "id": "tUw4IvX2xTZb"
      },
      "outputs": [],
      "source": [
        "t2 is t3"
      ]
    },
    {
      "cell_type": "code",
      "execution_count": null,
      "metadata": {
        "id": "ubbx9CftxTZb"
      },
      "outputs": [],
      "source": [
        "# this function does not delete the head of a list:\n",
        "def bad_delete_head(t):\n",
        "    t = t[1:]"
      ]
    },
    {
      "cell_type": "code",
      "execution_count": null,
      "metadata": {
        "id": "E0sVr4vIxTZb"
      },
      "outputs": [],
      "source": [
        "# tail returns all but the first element of a list:\n",
        "def tail(t):\n",
        "    return t[1:]"
      ]
    },
    {
      "cell_type": "code",
      "execution_count": null,
      "metadata": {
        "id": "chHgAJDUxTZb"
      },
      "outputs": [],
      "source": [
        "letters = ['a', 'b', 'c']\n",
        "rest = tail(letters)\n",
        "print(rest)"
      ]
    },
    {
      "cell_type": "markdown",
      "source": [
        "\n",
        "\n",
        "---\n",
        "\n"
      ],
      "metadata": {
        "id": "NPkz1lO8KKQF"
      }
    },
    {
      "cell_type": "markdown",
      "source": [
        "**See the class notes on Blackboard and the Charles Severance lectures on py4e.com for more information.**"
      ],
      "metadata": {
        "id": "dQiGP6-AzP5H"
      }
    },
    {
      "cell_type": "markdown",
      "source": [
        "\n",
        "\n",
        "---\n",
        "\n"
      ],
      "metadata": {
        "id": "lMVj0WF91ZHE"
      }
    },
    {
      "cell_type": "markdown",
      "source": [
        "\n",
        "\n",
        "---\n",
        "\n"
      ],
      "metadata": {
        "id": "pFVSU-es2OM6"
      }
    },
    {
      "cell_type": "markdown",
      "metadata": {
        "id": "qWiMNwGe3tnu"
      },
      "source": [
        "# Strings as Lists    \n"
      ]
    },
    {
      "cell_type": "markdown",
      "metadata": {
        "id": "Zm1ey-Og6IgI"
      },
      "source": [
        "    What about strings?\n",
        "\n",
        "Assign a string value to the variable **s**:\n",
        "\n",
        "`s = 'Hello'`\n",
        "\n",
        "Try it.  What type is the variable **s**?\n",
        "\n",
        "What does Python return when you print **s**[0]?\n",
        "\n",
        "What does Python return when you print **s**[2:]?\n",
        "\n",
        "What does Python return when you print **s**[:2]?\n",
        "\n"
      ]
    },
    {
      "cell_type": "code",
      "source": [
        "# Quick examples of docstrings\n",
        "doc_string = \"\"\"Hello \n",
        "Hello again\"\"\"\n",
        "doc_string = '''Hello \n",
        "Hello again'''"
      ],
      "metadata": {
        "id": "fWmsJfgwTaKw"
      },
      "execution_count": null,
      "outputs": []
    },
    {
      "cell_type": "code",
      "metadata": {
        "id": "ZvRZNRHhB_dm"
      },
      "source": [
        "type(doc_string)"
      ],
      "execution_count": null,
      "outputs": []
    },
    {
      "cell_type": "code",
      "source": [
        "print(doc_string)"
      ],
      "metadata": {
        "id": "lIZ2bSMaT8kJ"
      },
      "execution_count": null,
      "outputs": []
    },
    {
      "cell_type": "code",
      "source": [
        "# docstrings are what give us the `help()` content of functions\n",
        "print(help(type))"
      ],
      "metadata": {
        "id": "CjHGwL2CVAJX"
      },
      "execution_count": null,
      "outputs": []
    },
    {
      "cell_type": "code",
      "metadata": {
        "id": "sS_wtXleBo9U"
      },
      "source": [
        "s = 'Hello'\n",
        "s = \"Hello\""
      ],
      "execution_count": null,
      "outputs": []
    },
    {
      "cell_type": "code",
      "source": [
        "type(s)"
      ],
      "metadata": {
        "id": "U1GoWUf_Tdc9"
      },
      "execution_count": null,
      "outputs": []
    },
    {
      "cell_type": "code",
      "metadata": {
        "id": "pd-10QoLBqiJ"
      },
      "source": [
        "print(s[0])\n",
        "print(s[2:])\n",
        "print(s[:2])"
      ],
      "execution_count": null,
      "outputs": []
    },
    {
      "cell_type": "markdown",
      "metadata": {
        "id": "tdsyVjCr6_IF"
      },
      "source": [
        "The string **s** is a form of a list where each character is an element in the list."
      ]
    },
    {
      "cell_type": "markdown",
      "metadata": {
        "id": "1Onzxr-D7Epr"
      },
      "source": [
        "![PPT-single-slide_for-colab.png](data:image/png;base64,iVBORw0KGgoAAAANSUhEUgAAAqAAAAEgCAIAAADkBlbXAAAAAXNSR0IArs4c6QAAAARnQU1BAACxjwv8YQUAAAAJcEhZcwAADsMAAA7DAcdvqGQAAFh2SURBVHhe7b0HdBtXnqfLmTnz9p2Z3T69O/N2ztvZfX0m9EzPTNvd47YtK1uSFex2VLvbsd2SZUlUDhSTcrSyLFk5UFSmJFIklShmEgRJAAxgzjnnnCPer1AlCioSlwBEQIXC/zu/w4MqFIqsy1v3u7cSnHQEQRAEQcgOEjxBEARByBASPEEQBEHIEBI8QRAEQcgQEjxBEARByBASPEEQBEHIEBI8QRAEQcgQEjxBEARByBASPEEQBEHIEBI8QRAEQcgQEjxBEARByBASPEEQBEHIEBI8QRAEQcgQEjxBEARByBASPEEQBEHIEBI8QRAEQcgQEjxBEARByBASPEEQBEHIEBI8QRAEQcgQEjxBEARByBASPEEQBEHIEBI8QRAEQcgQEjxBEARByBAS/EQyMDDY53gMDg4J289kaGhY+IBD0T8wPCyUABuqPAz0ladf+Izj0N9vYuUhiDEhwU8kK/Y8+MQt6KONAQ6TwIXuwYcuK4TtZ+ITlPqJ2xN8ZNRKZJtPNj361OVuS1uXUARM1h98vJArH/FK5Buu8uw+FylsP5MHUdncnuXiUJXn4UfrfOqb2oUiIAjzIcFPJAtd/N/bnjPfPdlR4qF9b2u2+w9hwvYzOX9XvcAzbYFHingl8s17W7Kmfedb39gqFAGTr7c8cKzK4659b1vO2oPBwvYzufEQlS1lgWfqqJXINu9tzZzy3b3KmkahCAjCfEjw5hFX0rb8XvEfb+b98UaOEJ/CrY9L+oe4Q2mfe9yH897ZGOsocYlDS7T1ZARfOGwu3UuYu0k91yVevBL5Zr5b0pwV9xqa2oQiYLJ4xyPHqjwb47C9LkdDhe1n4hOU8o5L/NxNqlErkW3muyXOWOZXVdskFAFhhN6BIY+HRWiHn7XJN/Oc75XEl5i038kbErwZwOL/uEfttD3XyUPr5Jni5JnKZUuGk0dyfkMPFiDBMyDBsyHBMyDBE8bIrOl0ckvi2mG+QUbLjPZ5e+4/7dH0DTr6JQxyE3x9fVNmdlWkpjAkLg+JTijKzqlqamoR3n4xGjv7/2ZLnJNLvNP6KKeNSidXNRf3pL/YqChv6cUCJHgGJHg2JHgGJHjCGCVNPX/posAoS2iQ0TKjfXaJ/5vNcWixhYUcFTkIvqur67Ei95SP6tjVmHN31bcep4arixXaCiRUVXTjYcrZ23hLefaOKlJVMDAwIHzMfJq6Bv7nVr3g3RLfPZ+uKGzlUtyeUtnBL0CCZ0CCZ0OCZ0CCJwwZfv7uArTAaIf5Bnn26VS0z2il/+fW+KYuErw9U1pae/6u5siV2CfxJa3dwkxj1LcN+UfkHrmi9A5IwkBfmGsOzwTvkbLsbr4w1wASPAMSPBsSPAMSPGEiX9/IRvtMguexV8F3d3efvaM+cVNVWscdGzeL7LKOw97KywFJwrTJGAheu+hWrjDXABI8AxI8GxI8AxI8YSKfXc3izsGT4PXYpeDjEwp3nY3MKesUpi1CndWw+1xkfn61MG0CJHhxSPDMkOCZIcGzQoK3DBK8IfYn+NtBKT9cj5+QiyO7B3T7vWJCYnKE6fEgwYtDgmeGBM8MCZ4VEvyYiM6+j4YEb4idCf5KQOLVhxnCxARx4qbaPyxdmGBCgheHBM8MCZ4ZEjwrJHjLIMEbYk+C9wtOvfYoU5iYUI7fUEWpxrhoTgQJXhwSPDMkeGZI8KyQ4C2DBG+I3Qg+NaPs2LV4YcIK7DkfVVHRIEwYgQQvDgmeGRI8MyR4VkjwlkGCN8Q+BN/b27vtZKhVH0rU2afbeWqctoYELw4JnhkSPDMkeFZI8JZBgjfEPgR/8a46u1R4mIz1iEyqCgxnneAnwYtDgmeGBM8MCZ4VErxlkOANsQPBNzW1HbgUJUxYmV1nwxiPuiPBi0OCZ4YEzwwJnhUSvGWQ4A2xA8HfeJCcW2714TtPeEJ5aOwY5uaRrODnbIh9e51y9nqlaL7VYw+Cn7VOOX1NzMy1MXNGvWXtSF/wszcoUTIz1sS8hMpjJ4Lndy4EL0RvWTUkeMsgwRtiB4K32fAd9A/qjl6JESZGIUHBz90YC3tNW61430M13zXOxm2QlAU/1yUW6nprRfS7bvFf7kn8ZKt6ykoF5mC+aEnrReKCn7wieuZa5afbNZ/tTMAkysrwXevHDgSPHQr713tu8e+5x9u4D0SCtwwSvCFSF3xtbdMFX40wYROOXVF0dIz9jDwJCn6SczQa6LCk+vqWXr/oqikro206TpWw4Geui0HJPIiraWzrGxwabm7vf6yu/dBTBaWJlrReJCt4VBL0dXZ4Z+eVdwwP6wYGhwsqO/dczZ22Oka0pDVjB4JHp+dGWHltc29tU+/BW3lvrVCIFrBeSPCWQYI3ROqCj9IUJuaMc/faxOIfkZ2QUiJMPI/UBI+B++6ruf0DQ/xvV6Q0TCbBP83ry6PuRlXi97Z09Ld3CddVhCTUTV6psFkRSVbwb69Tvu+hgtfR74lOaajTf9kxWLQ/2YaOl7rgsTctP5Ii/AU63fXQ8jeW2e4gBwneMkjwhkhd8H6h6XWtgsDMZujpB8d7uqEh6YUt/uFjP05HUoKfsyF26ipFbllHYk7LE00tfnt4Uj0JfiQQ1Tav7H3Xc+e5xH3gocqv4C7jqGzomesSN8tWx1qlO4LfEPuee7znhax33eJ/vSTyyz2Jvf3czoL+4iRnmzlM0oKfrd+/0grbunsHE3Ka8TdcDip9czkJXuqQ4A2RuuC9AxJ7B4XX4wORX7+uW7hQ9+WXus2bdfn5uk2bdEuX6goLhQVMoKqp/+r9ZGHieaQ2gkcz/cXuxNe+izzpX4TfToI3zFwX7uzpWyuiMVqFwyK19fgbiqo6Z6+33dWIEj8H/6ZzNCrPK4sjlhzUDg5yneCVP6ROWWWzo9DSFfxcFM7yqB3e3LdUnL1ffPlxKV6Q4O0CErwhUhf8mdsq4ZWJtLbq3nhD5+Sk+4//0HV3c7IPD382lDeB5k7dRb+xz/pL8Bz8jLUxv/ku8uIj7pwCCX7MTFut+HCzqrGtD3/DjdByWE20gPUiZcG/vS7mDzsTboRV3I+tqW/p6+weOOVfNGWl7c4xS1nw6BTiZ3VjT0tH/7RVitsR3LkeErxdQII3ROqCP3dHZfYD7LKzdX/5l5zjP/5YFxYmzDSZpo5hOxI88sayKBK8scxar0T5BKm5UxjVTT3ve8TPXGu768ikLHiM1DFeF343Osad/ZcelWK+zc5fSFnw6AWef8DtU9u8sv/fT4JuR1Tg9bn7xa8ujrDZXRgkeMsgwRsidcFfe5DcbfTBM8ZxduYE/9Of6vrN/geX1/filwoTz0OCF0fagp+zQfn6sqhL+uOrnT2DSw+nvLUimm6T44N6Ms8l7ovdiV/uTjx6p6BPfw7+dmSlDW+Wk6jgMXz/rXt8a0d/c0e/5/mstSfS4jI4y4Ym1qGsZukH9zYICd4ySPCGSF3wARGZVY3m/5MqKnR/9mec448fF+aYTHJuw4OoLGHieSQoeDRGGFVgbIHfHppQ99rSSP7ooo0ibcG/sTzquC93+UVbZ7/z0ZRXFoVPWx0ze4PtykeygkcvByP1N5dHTXKOnrxC8S9fh8WkNeJvKKzsRP2xVRFJVPDT18R8sTtB+MXPk1PaPmWlwjZPmyDBWwYJ3hCpCz4uuTgmpUqYMJ3793UzZnCC/7u/487Km8OtoLS0zHJh4nmkJng0xB9tVn3gofLRH0KMTW/8ZKv6A0+V7RwmYcGjId7mlY3fOzysO3e/5Pc7NBjBLzmkfdeGjwOSrOBnrlV+vTfpuF/hZ7u4R9wsOaitbuzB3xCb0cQJbNTy1olEBY/dZ4Fr3JHbBacDis8EFh+7U5BWyLUh6uzm9SfTbXaKhwRvGSR4Q6Qu+JaWtlO34oQJEwkO1m3fruvo0P3t33KOX7NGmG8aB72i+vq4C7JGIynBw1KTVypUmeL9P4q7G95GgwzJCh6bj7FpasEYfbsd3jk2OwotWcHD4quenoBv7RQaQbxYdjhlKl1Fr68/bzpHv7E8Cvn5lyH+MdwYw+tx6b9/E07n4CUOCd4QqQseHLgUZcZ1dhERumnTdPv26crKdB99xF1L/+qruqAg4d3x6OjVHb8eK0yMQlqC3xg7Y03MCb/CJ5rah/E192OrH8TV4DVGHtPX2Oq56xIewaMQDtzM05dMzaN4fVQ1j1W13x3W4i3RwlaKZAUPgSH7b+TFpjcWVHamFrbeDCv/fFcC7G7DaxSkK3jDoEx2X82NSWv0uJBpw94PCd5CSPCG2IHgA8LSVZncTcwm0dSk6+rSdXZyI/ieHt3goK63V9fSIrw7Hn7hOWrt2I+xA1I7RD9X3/pgPIrRKh+8nrpagfmiJa0VCQseohIVziS81t8Wb8NBmIQvstvAPYd18sromWtjUGdQPjbr9zyNfQgetQUlM3mlAv1pG/Z+SPAWQoI3xA4E39vbu+uM2Xe7WcDAsG7XGVZzI8GL7F5ypH2R3UuPlAU/ktn60bxopk1iH4LnY9ObU/QhwVsGCd4QOxA88AtJi9aaf6mdmVx/nBGXxD0SzhgkeHFI8MzYheBfXuxJ8LYPCd4ySPCG2Ifgwc7ToW3cdb7Woryh77DXON9LS4IXhwTPDAmeGRI8KyR4yyDBG2I3gq+tbd5xOlyYmGj6h3VbT4Z2dXUJ00YgwYtDgmeGBM8MCZ4VErxlkOANsRvBgwRtydFr8cLEhLLnQlRRUY0wYRwSvDgkeGZI8MyQ4FkhwVsGCd4QexI8iFHnH/JWChMTQfeAbs/5qKws7kEx40KCF4cEzwwJnhkSPCskeMsgwRtiZ4IHydqS3eciLf+SeAMKq7q3nw4vLh5/7M5DgheHBM8MCZ4ZEjwrJHjLIMEbYn+CB/X1zfsuRD1QmPEt7yKGdbqrD9KOXFGOe97dEBK8OCR4ZkjwzJDgWSHBWwYJ3hC7FDzP/cis/V6KiMQKs75PtndI90BRsP+SQqE2u39gIPiUZXfzhbkGkOAZkODZkOAZkOAJE/n6RjbaZxI8jx0LHgwNDQVGZh+8rDjvm5CS38z4b7b36DRZ9ad9VIe8Y4KVecJcM3kmeLeE+efSowpaIvKbw/Jaksrb+QVI8AxI8GxI8AxI8ASDhLJ2tMNojdEmv30qBe0zCZ7HvgU/Qmlp/Z3g9JO34k/ciDtzO/6Cr/qiXwJy/q767B318evKM7fV/uGZVVUNwgcsorGz/39sjuUEvz7aaUOMk0uc0ybIPvH/2hRT0dqLBUjwDEjwbEjwDEjwhDGKG3v+0kXBSR2tMdpktMxon13i/8fmOLTYwkKOikwEb0hnZ2dNTQNcjtTWNnZ3dwtvvDD9g8P/vFfjtD3PyTOFy+ZULlsynTy0efXcbyHBMyDBsyHBMyDBE8bIqu1yck9y2popNMh847w97+f7NH2DZp2/lSEyFLxV0ZS1uz0u3xhY6HK/iM/GB6X7w8vgfrxLgmdAgmdDgmdAgieM0Tc4hBZ4w/2SZ21yYKF7UIWmzKT9Tt6Q4CcSTvCeaIniHCWb4tFGmyN4DddGi1Yi36D3Y57gHaryuMRje80RvGquq3rUSmSb+e5JJHjiBSHBTyS/XXP3ve25aNYdJR7a97blbDwcLGw/k9M+8Qs2py/wSBGvRL55b0vW5MV36xpbhSJg8nvXe45Vedy12F7nvY+E7Wdy9X7SfM/UBZ6po1Yi27y3JXPqssDKmkahCAjCfEjwE8mJG3E7ziq3nY50nOw8F3c3JF3YfibRiUU7zseKPi7vbD8TvedcZEcXdwHmuJy7q3G0yrPjXOzNRynC9jNRp5VhYdHH5R1Unh1nwlvbJ+wSIsIBIcETBEEQhAwhwRMEQRCEDCHBEwRBEIQMIcETBEEQhAwhwRMEQRCEDCHBEwRBEIQMIcETBEEQhAwhwRMEQRCEDCHBEwRBEIQMIcETBEEQhAwhwU8kBWUNGXlV6XmVjpOM/OqKWpOetd7d24+FRR+Xeyoy8mvaOk16VG1huSNWntKqZmH7mfT1Dzpe5UH51LS29whFYISG5s6MghrRB2WfrIKagcEhoQgI45DgJ5JP1t95e03EdOeHjpIVj2atiXQ/ZtKXzWTkV01e4jtj5RPxSuSbGSuCpjs/ClflCUXA5EsPP8eqPM6P3l4bufbAY2H7mRSVN7z1p5szVwWPWolsM2PFY+wsgREZQhEY4ZKfZubqMCws+riMM3NV6JQ/XW1oaheKgDAOCX4i+cz9/rtbMua5ahwlbgnvbk7fYtrXxWbkVaLBWuCRIl6JfDPfXTtnozI8PlcoAiaLtj9yrMrjmoDt3Wja18UWldVNWxa4wDN11Epkm/nuSXM3qe5HjiN4r3uJ3LfPuSWKPi7joM2Z7ezfaNq3MDs4JHgz6B8c3h9e9ocbBZ96Z33qnalP1qc3im4m1/ELcN8H76F9Z2Oso0T/lecmfh88BI/eN/ZP8Urkm7mb1LPWRUWYNoLnvg/eoSrPxjhsr4nfBw/BT/3uHjqUo1Yi28DuczYoH0RlCkVghMv+iahmc13iRR+XceZuSpi7KqChSTgzmFje/tmNQoM2OfPTq7lrA4rrOvr5BRwZErwZBOc0OW3JcPJMcfJI5n7y2VU46QctvwAJngEJng0JngEJ3hgOKPh5rgnvrPRveDqCd3tQ5LSn9FmDjMYZ2VXk+aiYX8CRkZXgi4trQ+LyfEPSrwQmXfDTXPDVXL2f5BeaEa4qrKpqEBZ6AS7EVzt5aJ3WR3PZEOO0Qem0Uenkmfr7K1n8AiR4BiR4NiR4BiR4Yzig4Oe7Jc1ZcW9E8KeUVZzX0RTz4dtnD+3SOybtd/JGDoJP0Jae9lEduaL08k9QaCvzyjvq2wabO3VIXctAdmlbuKb0vK/msLfi4r2EjMwK4WPm46WucXJPdtqgcHJVn1BUJJS1J5S3q0rb6zr6+AVI8AxI8GxI8AxI8MYgwfcMDKEd1qA1Lmt/ktP039xjnTbGQvArfPP5BRwZ+xZ8YETWAa/oaw9Tq5sHhFlMSmp7vPyTDnnHhMZa0rl7Jni3xJiiMe4NI8EzIMGzIcEzIMEbgwRvSGff4H/fHOvkEkeC57FXwaemle27GB2sKhWmzaF/WHcnJHv/peiSklphlmkYCD4hOKdJmGsACZ4BCZ4NCZ4BCd4YJHhDatv7fupJgn+GXQr+op/m+A1V34s956ClS3fwstIvJF2YNgESvDgkeGZI8MyQ4FkhwRsLCd507E/wBy9FhyVYfh5dhE9w9ulb8cLEeJDgxSHBM0OCZ4YEzwoJ3lhI8KZjZ4Lfdy4iJb9FmJggIhKrjl1RCBNMSPDikOCZIcEzQ4JnhQRvLCR407EnwUPD2om2O09oQoWXn0aYMA4JXhwSPDMkeGZI8KyQ4I2FBG86diN4/9C0wOhCYcIKnPdLViYWCRNGIMGLQ4JnhgTPDAmeFRK8sZDgTcc+BF9V1fj9xWhhwmpsPxXW2dklTIwFCV4cEjwzJHhmSPCskOCNhQRvOvYh+ENeUY0dw8KE1civ7LpwVy1MjAUJXhwSPDMkeGZI8KyQ4I2FBG86diD4gsKas3fGP0E+Iey/GNnaavRbCEnw4pDgmSHBM0OCZ4UEbywkeNOxA8Gfua2qazXpQXUvTnpRy52gFGFiFJIV/Oz1yimrFNNXx4jmWz0SE/wsfTm8tSJ66ioFykT07kieLbZaMWeD+N0JjPQFP3OtcspKriimWbkoxspLEzy/v0wz2F9mrI1BCYiCApm7MRY/sSSKCAU1c63RXWykUuEno+6ZHskKfvYGpaigsO0oKNFi1gsJ3nSkLvihoaGDl6KECZtwyMvoyX5pCn7ySsWcjbFrTqR9e1CLfU/0rnUjGcHPdYmF1Oe7xq36IXXzxawVx1LRLqPHg/mixdAeoTFCcW29lL3scMqMNTFvr7NW8yRxwaPmfLRFveFUuueFrG8PJk+3ZlGMlZcjeHgauwm/v/B9Gvj4s50JSw5qDbP4QPK7rnEQP4pl0f7kzReyNpzK+GSrGoVmuDYElQpSX6Cve9u8srFmrBCfEtU9cyNNwaPEsKUoOsOy+sBTZcuWhwRvOlIXfGFRzc1HqcKETTh5M7aurlmYeB4JCh7NzXeHtOlFXF0vrOpEA21Tx0tG8NC227nMyoZu4ZfpdGmFrX/YkQB/P79YzOe7ErJKnp2FCU+qR/cIQxDDxSYqUhY8iuLY3cLu3kH+tw8P6yK1DfM3xVmpKMbKSxA89pdvDySnFHBfJIH9BbrCLoNxeV55B/+LDNl4Kh0fScx9dmtuU3vfnmu56EoarhN1z+N8ZlVjj7CQTpda2Pq7bRp0DgwXMzfSFPwk5+hdV3KE3/2UM4HFbyyPFi1pvZDgTUfqgg+JzcsqHeMfaT1CVcXR6gJh4nmkJni0VgduPpNHYaXjCh7tiyqreXBwOCqlIfOpv0MT695aEQ1/88ugNYfv0fjirdj0xuO+hc3t3NcAnrtf/KazVZonyQp+tr4o8is6MkvaUA6PVDX833DIJx8tuGhhq8XWgsf+8v2N5/YXVIlZesHfDKtIzmuByzXZzXwNAcuPpmA43tM36BtdedyvsKSGu8Wmsa3vXbc4fGpktag8mpzmgcFh9JBG+o4P42pesCSlKfg3l0cducM1j6W1XdjjknJbEPRvpjzf6bFqSPCmI3XB33mS1txp8vXzAwO6piZdb6+up0fXrB+Ft7To2tqE16aRV95+JzhNmHgeqQke9roTWfkwvuaofpcrcGDBY8NX/pD61Z7E15dFvb1WibYbvzGrtB1tN2TGL4OBF5pszMc4bIFr3D99EfqDL/dkhdzyjplrUW7P1jZRkfIIHvlidyLK59dLIn6zNIovsZth5TYcitla8NhffMIrHhnsLxA8f758+mruUDx+vrI4gu80l9V1Y/5vPVQLt6lRqX7+ZajbWc61EPlnO587MgTZr/oh9cvdia8vjcLaiqu5kswobsMIHusfWczcSFbw6AXi9+65lvsvX4ehSKeuVsxc96LnI8wKCd50pC74S/c0/abfHweXf/ml7mc/0/3DP+jOn+fmJCfrXntNd+gQdwjSNGpbBi4HJAoTzyPBQ/TzXGJf/TZi09kM/HZHFrz+5HoMml14Gi1OThl3xFWZ3jh5xbNrxzDS2q9vu7X5LdNWKfDW6uNcT665vf+jzSoU3cjaJioSFzyUhk7PlJWK5UdS2ru461jdz2WOPsdstbyEQ/SoJ9hfXM4I+8uI4OfoD/CgDsDW/Ej9dEAR+jpcddJfjofcja7EfFQtfIT/1Mg6p61WcHVvPXf1GX+0Pzql4S2DumdBJC748w9LPtqi/sBThbE7tp0EL02kLvjTPqZ+E4xAfr7uz/9c5+Sku3GDmxwc1H3+OTeON5mWLt0F37Hvhpeg4KHzSc7RWy5l4bc7suD5oJV5Y1nUxtPpQ0Ncf26bVzZGGCPvQvBnA4sxPy6jCa0SGu4lh7SY7O4d/MPOFz1jOmakLHhUlY82qxNzm4uruwaHhnv7h076F6H0RItZMy9B8Pz+svmisL+MCJ4P3tp+ORtvtXcPfLJVPXMtd/H83mu5+RUddS29mJ9b3vH7HRp0iUb77GndyxjSjyW2XMyabFD3LIg0BY9t5I978aBzrEhtWLhVjc6iaEnrhQRvOlIX/EU/jXAVkOksWcIJfto07nVcnO6HH/RzTaW+bejSvQRh4nkkKHgEbRAJHkELC2e/7xFfVsddaheaWIeG2HAIBcFffFiCtxSpjZNXcrfSfXuQE3xX7yBabccTfMzHm9UZxW3VjT19/VyHKKWgdfnRFAxVRUtaLS9B8Aj2lzEFj9dTVyvS9Cfg/WOq31jO9XWw8IGbeZX13Y2t3OUa8NmdyEoM90V7Geoeuowjde+Jpnby83XPgkhT8NPWxDgfTXkQV+MTUYFdbGCQ681ospux+1jjJNeYIcGbjtQFf/ORtoPrOpuDVssJHsnK0p05w02aAwY0tx6PfSs8CV4c6Ryi159GxU/+hoLUwlbMnLlWKAoUCwLBn/DjBh/q7Gb+0PSyw/pT8m19H3iqIDx+4QmMlAWPoKqgWGauU/5uu4a/OqywqlN0/NmakZbgMeBe92M65g8NDS85qEUN4efPWq9EMJrffyOPP8932Cd/0opofBAzsQbYHb0i1D30lvBuakErZo7UPYsjTcFjY+Fy9H6QXy4K33s9F38DSuyrPYk2G8ST4E1H6oJ/GJ1TXPPs3idTmTOHEzx+7ttn+tl3nvj0mmAlV2tHIzXBY2dDE4PdzOUM1zDllXe8viwKY1PRYlaMlC6yQ4OryuKupsR4Ytpqxa++jUBTDoehdX7fQ4XRFQpnqxd3ALa8rhuN0b/9MXyHN3fDT1Zp24w1L3Q9lLFIXPAYdKKZxljzn74I9Xpcir+hs2eQPzQtWtI6sbXgR/aXjaeF/WWSc/TIgXS8jk5pwHz0//jxN5yNyoP5yGtLI1FnMILHAv4xVb9ZGomPLNyqRq1D3YOJUevwVnxm07O692KPf5Gm4BF0fVAg+PnLRRFrTnBXsWAc/+XuRMMLD60aErzpSF3wKZnlj5Vj37TG4sEDYRAfECDMMRmvewmFRcJdQyKkJni0LOg4Yx+7HMS1zlUNPS6nM5yPpVjDVWNHMoJHi4xmF78FivrhbqHnhaw913J3eufM3xT3+a6Emqbeqsaehds0H3ioevqGsNiZwOLFB7S5+uuhznK3yVnl3LNkBf/2euXHW9ThyfUYlX57MBnFVaO/jTuzpN1KNxSMFVsLHvvLl/r9xevp/uJ6NtP5KLe/QFeL9ifzB5xRGhAYlkelOngrP1BZjY8sPpB8N4q7yA6gXv16SeQjVW1LR/+xuwWvLo64H1uN+ah7R+8U8HVv15WcDzxVL/JQAQkKHgWFXA0uO+ST/+1B7bqT6fyBn/Qi7pYBOkQvQaQu+N7e3iNXFMKE6QwMcNfS/+3fcvfLmcmBS1HDRgb9UhM8hqSB+pbFEAwyMGwdOfBo3UhD8Nwoar2yon6MIz1LDnFP2uJfLz+SgqHVj/ee+1JgbX4LBnaGtzVPYKQr+HXKd93i4Sfhd+spr+tGWWEAKlrYarG14F9fHu0fI95fUAjcW8uighPqMFlW28Ufk8dMaJ6/oc6Q+7E1GKpOXx1TVsvVt3uKqv9cEmn4lJsR0C1AF2Hkt5sbCQoeDQs2nO8Wj4D9Dn2jqbarNiR4M5C64MGRKzE9FjyKfvdunbOz8Npkqpv7z981+sU2UhM8es3Lj6ac9C867ld43JcLXm+/nA3h2WgQL6VD9BiNQd5cOaA0/ApP+BVidPXhZhXe5YrIt3AeRL5eibHahlPpt8IqMCDD+GyeS5z1bvKRrOARlNhnOxNQLH7RVTfCyvddz3vPPR6FY6WiGCu2Fjy3vxwR7y87vLMx9ERpYMc5HVCEHQoO45fnB6wbT2fcCC1HKV14WLL6eOqUVdyj12eujcH8S49Lv96bBLe5nx+j7n20Bf99WY3gERTU57sSsYG+0VV3Iiv338z7wFNl22pDgjcDOxC8MqEwINKkJpKjq0tXre+ke3vrVCr9LDM4e0dTVFQrTIxCgufgp6+JeXN51JvLo5+GO6UqWsyKkdJFdmh5ny+K6DeduXPwc/Q372ISjTV/TnTKSv2S+nOraKxf5EQpO1IWPLYaPRsUAvLG8igUBdpu0TJWzks4B29sf8FbqBUoh2mrn3MV6gwW4GsL3oXJ+K4zlsFrjPthenQchRr1bLX6uifHc/DYcPSTRjaTrzbW24PGDAnedOxA8GDn6VDuxKkpfPyx7ic/0WVn6/bu5W6CN4fmruGDlyKFibGQmuBffiQjeGlGyoKXQGwtePuKZC+ye+khwZuOfQg+Prn4cqDRb3F9ju++E66fT04W5pjM4SuxpaX1wsRYkODFIcEzQ4JnhgTPCgneWEjwpmMfggcnrsXwzx8dB4zaY2O559mZSUxa7bXAJGHCCCR4cUjwzJDgmSHBs0KCNxYSvOnYjeAHBwe3/RjSav4t8aZQ0dC/91y4MGEcErw4JHhmSPDMkOBZIcEbCwnedOxG8KCxsXXnmfB2cx9sNx41LYNYbY8JN9SR4MUhwTNDgmeGBM8KCd5YSPCmY0+CB3V1TTtPh9c0m/18emPklHfC7t3dJh0ZIMGLQ4JnhgTPDAmeFRK8sZDgTcfOBA/a29v3no+MShY/sMIC7kXkH7wUPWjyxfYkeHFI8MyQ4JkhwbNCgjcWErzp2J/geS4HJB69FlfTYuFQvrim54BXjG8I90hq0yHBi0OCZ4YEzwwJnhUSvLGQ4E3HXgUPysvrTtyIO+WjLqw249K7jOK2H67Hn7mtbm4240vieQwEnxhfMkb1IsEzIMGzIcEzIMEbgwRvSN/A0H8nwRtgx4LnKS2tu3Qv8fAV5eWA5OTcxtZuneg58hjjN3fq1Jl1F/wSDnnHXH2grasbY/BtCpdU1YLgN8W7PSi6kVTHRduU9/Qp6CR4BiR4NiR4BiR4Y5Dgm7oGbmnrbyTXozU+raz6K7cYp41KEjyP3Qt+hNzc6nvhmRf9Ek/dijt2NeboVSWXK4rTPqpL9xIeRGUznkFrIhdVNU4eKU7ro53WRzm5JaAOcdmZ/+554VA/CZ4BCZ4NCZ4BCd4YJPj94WVOOwuE1pgfgKGJ9khZesek/U7eyEfwNkBR2MrVoS0ZTp6pz7KraOqPwlP2SPAMSPBsSPAMSPDGIMFvfVzstKf0uTZ5cxqUvyeU+1JgB4cEbwbDw7pbyXXbQiq3BZVuCyoRElodmtvML0CCZ0CCZ0OCZ0CCNwYJvqChe1tw+bYnBm1ycPnxmKqO3gm7m9p+IcFPJJ97PliwOQ17pqPEVb3AM9V0wc9Y8Xi+e5J4JfLNPLfE2esVJgv+sWNVnk1qbK/pgp+2NGC+R/Kolcg2+t5MnCmCRzVDv1n0cRlngUfKOyv9x7zIjhBBgp9I3lvlM889Gf1uRwl60+7ajYeeCNvPJDWnYsbKJ2jWxSuRb95xUc1eHxOszBGKgMmnLr7z3LWiNcg6sfM8tM57Hgrbz6SgtG7asvtzXTWjViLbvOMSP2djvF9omlAERjh7G/1srisg+riMM881cdKfbtY3kuDHhwQ/kUSoCwIjswLCMxwn9yNzkrIqhe1n0tLeHRjhWIWDoHxqGtqFImCiSCwKjMwWfVzewfaq08qE7WfS0dUXEJEROGoN8k5gVE55TatQBEbIL224H5Ur+qC8ExiR+Sg6u6+fjsCPDwmeIAiCIGQICZ4gCIIgZAgJniAIgiBkCAmeIAiCIGQICZ4gCIIgZAgJniAIgiBkCAmeIAiCIGQICZ4gCIIgZAgJniAIgiBkCAmeIAiCIGQICX4iqapru/Yw9er9JEdK8rUH2vrmTqEImMSnlF1/mDZqDXLOtQcpAeHjfF8IT21jBxZGeYrWIO9gf8FeIxQBk8TMiuuP0kUfl3ewZ/mFpg8ODQtFQBBmQoKfSCLV+bP134Ug+vojGWeeW9LbayMS0k366mX3H0IWeKbPdVWLViLjLPBMfWf5zeHh8dtoVWrJrLWRKE/RGmQc7Cmz18dEafKFImCy+1zkfM/UuQ71tWmeqdOXXO/p6RWKgCDMhARvHvUd/UG5rQHpDYEZQvwzmjOqhfGrMqkQbfR8CN4l3kEy3z1p5qon2qxyvgTY7D4XtcAjhWu8Rq1HrsH2fup63xTBJ2aUvr0qmPs63VErkWuwp8xaExGbXCgUAZMjV2PnuyfP03/3uYNkgUfqhy6Bvb0keBb9g0MhOU3+hm1yeoOisJWOfAASvBm0dA/86z6Nk2eqk6vmWbak/3yfpm9wCAtA8G+vCUcb9M7GWAfJPFfNjJVBpgsebfQ7LnGilcg42N5PXQNNFPzMlU9QnqI1yDjYU95eHWa64Oe5cV1n0UpkHFSeDzcGkODZhOc3O3londwSn7XJbglOm9M23S8SlnBgSPBmkFLZ4bRJ7bRR6bQ+mqtGnilctuX8xCO2q58EPz4keAYkeDYkeGJM/NLqnXbkc+MuvkHeGMu1z+5Jrx1JFpZwYOQj+Ly86oDwzIt+CWduq0/7xB+/rjxxIxYvMHnZP/FRdE5paZ2wqKVoK9q52rMhxsklfvqPKRsDC9f5F6wOKDkXV80vQIJnQ4JnQIJnQ4InxqSuo9/1YfFa/8L1AVyD/P9sjeNaabeEN49phSUcGLsXfHV1w9X72gNe0VB7Uk5Dc6duUHhHYECnq28bik2rPntHfcg7xicorbm5RXjPTLgRPC94z5QzT6VuCAmeDQmeAQmeDQmeMIXXjyU5uSZA8JN+IMHbs+CrqupP3Ig7cSM+u7RdmGUC2rzmo1fjzt5Wt7SYrflngvfQHomqEOYaQIJnQ4JnQIJnQ4InTOE/j0Dw3Gl4EjywV8FfvZ905GpcVRPG55aQX9H1/SXFvbAMYdo0SPCjQ4JnhwTPCAmeHRK8BZDgDbE/wXd2du45FxmWMIZfzeVuWO4R75ihIe76OFMgwY8OCZ4dEjwjJHh2SPAWQII3xM4EX1/fvO1kWGWjhQP30WSVtu88Hd7V1SVMMyHBjw4Jnh0SPCMkeHZI8BZAgjfEngTf2Niy9cfQ1m5hcqKobOzf8mOIKXsRCX50SPDskOAZIcGzQ4K3ABK8IXYj+KGhoe0nQ0175LnZlNb17jsfLkwYhwQ/OiR4dkjwjJDg2SHBWwAJ3hC7EfzJG8qsEjOuljeXaG31jQfjPBiBBD86JHh2SPCMkODZIcFbAAneEPsQfGJqyYV7Vn8s0SFvZVlZgzAxFiT40SHBs0OCZ4QEzw4J3gJI8IbYh+B3ngkdGL+FfFFauoYPekUJE2NBgh8dEjw7JHhGSPDskOAtgARviB0IPi6p+F5ErjBhZU75qBhPtLWB4KeviZm2OkY006xgDcjo14xgmamrFHM2iOebEmsLfu7G2FnrlVNWKWZvUIremsBMXz12QaFM8O+YufZZeZpbUCR4Rkjw7JDgLYAEb4gdCP7YVWVXv/Da2lQ29l3ySxAmRmFVwc914fzx9d7EFcdSMDl5peKN5VGz1ikxn3t3Y+wU/Zy3n84xlm/2Jf1xbxIvIe71viTDd0dn9nrlN98nrTiWOm9TnAWOt7bgsb3zXePW/pj2W/f43yyNmuQcPUc/nxf/m8ujEWwCJvnl31qBOVFmbQjKEyXw9V5xQeEXoUwW7U/+/Q4Nuhf4dXxBYXnT128XgkfVQqHNWBPDrloTnpclePz7sH9xm7yW22REX5eisH8ZBsXC/a83xqJXx9U0Z66ycR8ZtUIEa+DqHpZxjsaLCemPkuAtgARviNQFj8p91FshTNiEA5eijDXHVhX8tNWK323TtHcPRGnr0Y54nM86drfg0+0aGA5NDEzvejYDcz7bmYA5os/yQdPzh50JPX2DzR198zfFLdyq7u4dbO3o/3CzythH0CotcI2raujBH7/ux3S0aKIFxo1VBY+GGEYPTazr6x9ackh7yCd/z7Vcfj7+8vc94g/75CNwPxyPUpq9IXaHdw5K6bce3BzDVRkLrPb5zgQUVFN738dbVCODdQTN+urjqf0Dw9qCVrx+1y2urplrajFzyipTC0rKgoeosPlvOUe7nMk46V+EEkYVEi1j1dhe8NjkaatjUM89L2T9eK8IvTf8x1GXPt6iPnK7ADXHMJvOZGDHQRGhV3f+Qcmt8Ipjd7hdEruqqCeExdAX3Hwx60pwmfeTsi2XsjDH2E5nekjwFkCCN0Tqgk/NLH+oyBcmbMJFP01xca0w8TzWEzyMhXYnPrMJK3E+moIRQEU9d7//9svZk/SjAbQyeRXcPYL7b+RB/4YfRPjXWObLPYlYpqd/ENr+/XYNXvf2D320RT3zaVuDhWHBkY+gDYIdWzu5IyTOR1OhMX6+6bGq4FEO272y8cHbkZWf7xKOrGAYjRYW4t97TThxw5WSczQ2/7Ony/xuu4Z3lWh7+YxM4gWK/as9idBvd9/g77aqRwSPT01eodh4inuYcW55B0oG/YmePu6hh8sOa6euloPgZ65VfuCpeqwSavvloLLXl0aJlrFqbC94/H8XbtNEauv5dZ4JLH5jOQbcCrdzmfwcQ7APvr4s6nJQqTCtp66l9+u9SYYndLATve+hKqjsEJbQE5ZUj/kvOI4nwVsACd4QqQv+kSKnuGaiH23DRJlaFawc+5S/9QSPIQWGC1hDQWUnXIIhRX4F115svZTFH+5Dw5RW1IY5sBpkhgEEN/ZaEY35MBnmoDXB6y92Jw4ND3f2DEDwGGoMDg139QzygsdKsBjUiGadFyTmTF6pWHMiDatNymvBCkUiNCXWEzwKAX9PaQ33kMFVx9NQROV1XE3Yez0Pf/wby6MClcIX+t1TVKHTg57Q1ktcb0Cb3wJtYwSP8kFh6reXKyKsEOXGbzVKAKNwlNhbKxVf7k4cGBzu6B5YuFX99jrujLu+YJW//jYSnR6sMKu0HQ392h+5glJnN6NxN72gJCt4lMY8l9jqRu7gDd/DO3e/5I1lchY89pH3nnZn27u5p2Ge8Ct80zkae8cfdiZcelTq9bj00uPSk/5FOWXcHbn4X7/2XSQ6QIGx1RjE776a297FfepuZCWq38hqUR8WfZ+MtwKU1UduF6A7iGXA+pOWHBIzDAneAkjwhkhd8DceatvNqt5DQzqtVhcaqgsL06nVuuRknUqlq6wU3jWB4uruW0Fcsz4a6wkew4hT/kVYA1oH2GVE8LD+LxeFT1oR9fqySG1BK+ZA8G9xno753TaNf0xVVUNPcXXX9dDyd93i8UFjgsfy8NYhn3yIHOOSpNyWo3cKeJOlF7VBb5/tTJhq0cV91hM8/rxPtqr5D648lvrK4oggNTfWvKeohm7RWPNFBHLLOjCJmTfDuH8KmunfLI3CJqOsNDnN2F5tfiuKlx+vY52R2gYUxe6rOXnlHd/fyPtos3pE8JNXRn/oqUKPoaiqE4sd9+Xck1nShoLKLGnv7R/6/Y4ErET0pzIiZcFj3OkbXfWn/cnBGq5gZS/4WeuU+O/7Kaq+2pOozuKOlvGCF87B60+fw+j4//LHz2B0/N/nusRB5//5XeS/fhWWkNOM+Y9VNYaCR73C3of9EZ3If/8mHF7n/lydbs9Vri8+spgFIcFbAAneEKkL/oKvWvT97uPQ2Kj7h3/QeXjo7t3TffihzsmJi4Y7WG0i9W1DXv5jX2dnPcFDZl/tTYSZPC9kTcfoc4Ngr8tBpauOp7qcyUCrUVTNjWUhLbRBH3iq+OEsRqtF1dyh+/jMJjRGn+9KGEPwm1UY4PrHCONd/oPAJ6ISbRkGLq5nMzGoHfPSoXFjPcHzo+Rjdwsgnt+6x8PfkDFWkl3aji1FjwRWLq7ubGzr6x8YwoajzU3R94HWnUx/dXHE1RDhTyqrFb5oAP0DrOSP+5LwGsXCz0Rz/1t3FS/4j7eoMeRC74d/CyXJv0AfCH/JxUclLqczzC0oyQqeDzqLv14SyR+ylr3gEVQqSBfd5eQ87r/MC95wAdQivleHrjMvfgR70MJtmu1e2diz0MnbcEo8NMdqsQvjBSoYugX6v1e39LB2mvnnvAxDgrcAErwhUhf8aZ944ZWJlJbqzp3jXnR16f73/+bsvnq1/g1TaelCr2LsDoH1BI+mZOY6bgwxlbsLizucjsGlsNLngeB/8ccwdAXw+kZo+f/3h2A00PwRxSUHtVDUaMHP3xT37YFkLNDVO+h8NPU3SyN3eGfDOHgXXsTQBL8Uf4DoTzIx1hM8H7gcxYICmb4mBm7G39zTN4Qt8jjPnTQ9/6AkLJG7rdH9fCbKDRvY3jWAIddn+o5O/+AwlPza0kjXsxkDg9zp8y92J6JYevWn0qNTGr49qMUk31eA4FFoK49xB286uwecj6bMd41TpjdiMrO47e11SjT9FhSUxAUPM6HL4jiCR7DJ01YrxhQ8XI5aVKrvEV54UAJbz16vnL8plh/QA1Q/VLnXlo59m8bMtdyFdTll3J4bl9mE3zLmYqaHBG8BJHhDpC54DKbNe8TN4KCOb0y//pqz+//6X7oWYUBmIrUtA5cDuEvVRmM9wRsGbcqI4DFAf6yqDUmoC9bUNrdz5w73XM19ZXEEf6hQldV0J7LydkQlf3X3Tu+c9z1UowWPZuvInQJ+ebRZM9bGoBmq0p98hSYnr3yho4jWFvxIUCzYEP5wxfIjKV76S5+gYX685f2kbNF+rhMTl9H4yz+Fo5TwOqukHVuH7YWY+fLcdDbjoy1quL67dxCdod8sjUIH4qs9wjn4dzbEHrnNFRS8joJCz4D3fVZpO0oM/xTRn2RKSPCMSE3wGNzv8M7B/M6eQew+/FUp6NJdDip9FF+TVsgdH2rrHPjxXtHo2yhQOd9YHh2gvy6kobXv020as07ljBkSvAWQ4A2RuuBvP0lt6TLL8HqiooSD8zdvCnNMJq+8/U4wdznVaGwpeP4Q/cbT6f/2TdjryyL/c0mENp9rX3ZfzcWYO11/wV11Yw+EhwFHdml7cn4LDLdwq2ZMwZ+9X4zlw5Pr9feIK+G8oirOlPxFfKI/wKzYTPAI/nj/mCqsByrS5DTDyu+5xa/QO1id3YTGGi9OBxT9y9dhx+5yntZkN/NPyJm2SsGXHprvDz3RB9K1dgzgxcy13PNtRi6yQ2vOrwQ9KrT1MB+/chK8lSIpwWP+1NUKfs96GP/sLDv+9fqj+lEIX/3QO1y4VY2dCLULq9J/ljvA4x1UhndRkdABxUcsO+dlGBK8BZDgDZG64J8o87JKuV3ODAYGdK++ytl9zhxhTrdwhM0UwhNKo9ScHkZje8GPvop+z7Xc//hTeEwad+gYw81/+Dzkte8if/VtxK+XRE5ZqfhyzxgX2WGF+BSWL6zsRJP0y0URGLxijII5Sw5q+RbK4thS8Gg0d3pz18kXVnViu3LKMEBXvO+hausaQPirlzGmf/XbCP5y+pqmHrTaryyKmLcpDoMq/l00zRA8xmEoBJHg0SLv1A/g8is6J6+I/rc/hh3y4W7RzCqRreDfXB79b9+EhyRwF9n94Fv4z1+EokAsPl9jbmwv+Dn6C1p/uSgcnT+s88DNvJ9/FYaROjYZdWmd/vo4/K+WHUnhz7JjPjqR2Afh73/5KhRjdyyA3Qp1BgW15kQalsT+hc+eCuDeqmvu/eb7pF/8MQwfwb72go4nwVsACd4QqQs+v7D61uOxx9NGOXqUs/t//a+6Qn3DERGhe/xY/4ZJnLoVW1vL7fyjsaXgIWOscJvXM8FnFHMn2vddz/33b8L4y82a2vrwYvXxtMM++fdjq6Ex/kZwjDAg+N9v18AqPb1DaKE+2arm7+F+FF+z5VIWfx1ZSkErmrbZL3aa0JaCx1/7+a6E/gFuQ8DdqEoMqtAQ8ycsQG1z7/xNcdNWx3zgqWrp4M5oYGy65WJWrP5UOroFGKLxjwro6OIO0fOC/2p34tAQd9ndbz1Uf9iZMAT/c1dK145cppdVwp2Dl5ng0fXBz1P+RVeDy/jrLlEfvINK1/6YNv2Fjy2bGBsLHv9BVI9z90uuhZTxZ7WwI3g/KVtxLBWbDEnz/eakvBa4GeUzaz13W11eeUdIYt2R2/kYoKMXiAVSC1vh+1XHuaM76Bp+tEW9WH+NC8DCt8IrHsbXYEc7drcAtUv0N5gVErwFkOANkbrgh4aG2F8AIyYjQzg4//HHutRU3enTup/8hDtibzIHjP86mwkeLQs/gt98IZMXPNzGj+B3X8nBEARm8ovmjhaOgDYan8KoHa8heP5Jdpzg+4Y+3KyCCLdfzm5s40axPGjNIbMXbIAQWwqeP7nAXyoPPM5zhYMx6OkA7gQEQMP6lv6IKxpr17MZ8D0/H2SXtmNo9cayqBHBo1h4waPTAP9C8FA+Cup0YPHQUx8HqWtbO/oLKjtmrpWb4NFlQSXhu0Fg5A+8HlKOQhAtbKXYWPD4d3+0WdXbL3QQRzb5bGDxq4sjFu3nbq8AnhezJulrEf7jKKXo1Oe+YTI+s+mznQm/WRq17kduuD84OPyBh2rDKeHWOEMyitpQD/mOlGUhwVsACd4QqQsenLoV39Bu8r1yCQm6Q4d0P/6ou3xZd/asbu9e3ZEjulZBCeOSVdrm8zhFmBiFbQSPoGX50/dJa09wD2DnR9iw/h/3cXPe91DBc3A5Rq6L9idD27uu5Kw+nophOv/geuejKcuOpPDNynL9a7yYo3cexvHu5zN3X83F4ANrwEj3xQ/G2lLwCBrc323XoBywaZjEZs5eH7vANQ5bxBcOtotfEuUDhbud47YXb2HOVP2FUfNc4jBiW3pYy31cvwah0A5zK0TJYzG8u9M7BzPxeslBLcZnltkdkazgEWw7KhVqyHeHtHzwGpUElU20pJViY8HzwZ6F/7XhJvPPcv7AU7XuZDr+6fhfj1gZRYG3vj2oxY62+WIWagJ6hCNHOFYfT0NVwX433zUO9QSvDVeLjuMLliQJ3gJI8IbYgeDzC2rO+459WfuEc9ArqrnZ6Cl/mwkeQTsCRRk2ECNz+BN7kBMMjSEsMmWVgrO7fj6cxJtM9BrBCGby0+UnqhG3seCxjdgKlAO2i2+FMQfbgi3CzJFC4DNznXLyyqfl83R7UW5csRhceSDMMSioaasV+BT/K/D6RQ5ZS1nwCCoVXxpCVingM8MytGpeiuBHbzLqBjp58LphvRoJ5vP1AcGLkXfxAvWKv4SFryei1c4w8rU0pocEbwEkeEPsQPBg/8XIVuFpJVakoLLr/B2VMDEWthS8vcTGgre7SFzwLzcvRfB2FBK8BZDgDbEPwVdUNB7wsvp3ym0/FdrRwV3aZgwS/OiQ4NkhwTNCgmeHBG8BJHhD7EPwwC849UEMdyOKlbjor402cnfcCCT40SHBs0OCZ4QEzw4J3gJI8IbYjeDBUe/o9GIz74k3jajk6ku+wveaMCDBjw4Jnh0SPCMkeHZI8BZAgjfEngQPDlyK4m8Hn0BiUmtOXFcKE0xI8KNDgmeHBM8ICZ4dErwFkOANsTPBg8OXoyOTnrsF/EW4G5Z76lacMDEeJPjRIcGzQ4JnhATPDgneAkjwhtif4MFFX82JmyrumVIvQHuv7uBlJeOu99GQ4EeHBM8OCZ4REjw7JHgLIMEbYpeCB0naku8vKsI0JnlFxJBOdy8i98AlRWGh8BXpJmIo+GPRJHguJHh2SPCMkODZIcFbwGtHSfDPsFfB8/iHZx68HHM3NLu+TXj8JJuqpgHvQO2hyzHBSu5Z7uZiKPhDkeWDQ8NcDJpuEjwbEjwDEjwbEjxhDOxfaIf5BvnXhxNJ8CPYt+B5YjSFZ26rj16JvRyQFJtaXVjZ2dg+3NKlQyD+vPIORXLFpXuJR64oz93VJKZw3yNuGckV7U4ucZzgN8T8zZa4f9yj5nIg7Q9XsvRfUEKCHwcSPAMSPBsSPDEm6dWdvziY8o97E/gG+b9sQvusgODfOEaCl4XgR8jPrwmOzfcJSrnopznvy+WCr/pOcFpofH5paZ2w0AuQXdul7xsmOm1SObknOXmmcNmW83+7xnTqv6uNBM+GBM+ABM+GBE+MiY+23mlnkZNnqtAgo4lG+7w1i0bwQFaCtzb9g0MrffN/fiD1X/ZpRvJP+1M+u4oRPNeCk+DZkOAZkODZkOCJMcEI/j8Opfx8X8JIm/zPezWvHsvwS60XlnBgSPBm0z84bJi+p19PDkjwbEjwDEjwbEjwhDEwvnquTR7EjPH3OEeABD+RxCQWzF6veNcjZZ5bgoPkXc/Ut9eEJWeWCUXAZNfZqHe3ZMxzTxStRMZ5d0vmwk0mCT4hvWTWmnCUp2gNMg72lNnropVJ4zwimufQFeWCzWnz3ZNEK5FxUHne30CCJyyHBD+RKJOLpyzxnbbUf+p3fg6SacsCJi/2ScmuFIqAye6zkTNXBE397p5oJTLODOdHCzfcMWkEn1k+efFtlKdoDTIO9hTsL7HaYqEImBy5qpyx4vE0x6o8D99f49Pb1y8UAUGYCQl+Iunu7S+taiqpqC+paHCY1GOT+/oHhSJg0tjSVVrZ6FjlU9lQWdsibD+T3r4Bx6w8PX0mPbOqua3L4cpHX3noYDNhMSR4giAIgpAhJHiCIAiCkCEkeIIgCIKQISR4giAIgpAhJHiCIAiCkCEkeIIgCIKQISR4giAIgpAhJHiCIAiCkCEkeIIgCIKQISR4giAIgpAhJHiCIAiCkCGOK/iCgoLu7m5hYizKysq0Wq0wIW1qamqysrLYm+Ow9Pf319XVCRPE8wwNDZWUlOTl5eGFMIt4Sm9vL0qmuNik78JxWJqamhobG4UJQmI4qOCHh4fDwsKam5uF6bGA3e/cuSNMSBj8nefPnw8MDMTPlhaTvtfEcSgsLDx79uzFixeFaeJ5FArFzZs3r169eu3aNfSEhLmETjc4OBgUFITdCpXn0aNHwlzieTo7O/fv348qJEwTEsNxR/BVVVUYtXR0dGD4m5ubm5SU1NfXx7+FycTERKVS+fDhQ35ORkYG5mBh7PZ4l58phXHPwMAABFZbW4vX/v7+oaGh/HwCoBuXlpaG/+yVK1eEWcTztLe38y9OnjxZWlrKvyYAdm2+QUCn+fDhw9jR+PmEISEhIT4+Pr6+vsI0ITEcVPDYey9dugRhFxUVYe+Niory8/ODIPEWfIChcHR0NJo8vueOShweHg7HX79+vbu728vLi+8BoFobfs/3gwcP3rMJ+EuEX6nTNTQ0XLhwge9n8H8SP59n69atwmccg4ULF44+KoPez+XLl4WJp6C9XrRokfAxRyIhIUEoAgNgsjNnzoiK7vvvvxc+4xi8//776OsLG68HO3tOTg6ahcjISGHWU5YtWyZ8zGH45JNPmpqahO3XU1JSEhAQgJ+jR/A//PCD8DFrkpWVJfw+wgiOK/irV69C8Pn5+dA25mAoA69jvre3N3/WTaPRYASPtu/EiRPZ2dnoCqARxKi9ra3t+PHj0LzonDdmOtkEhUIh/Er9cYgRe2m12tu3b/OveebPny98xjH467/+a1EbDSorK0cLvr+//2c/+5nwMUfi8ePHQhEYgL7p6GM/n376qfAZx+Av/uIvsI8LG68HOxd6zGfPnsUAgO9Dj/CLX/xC+JjD8Fd/9VcoEGH79V3kO3fuoNnEzFu3bglzn7J48WLhY9ZEqVQKv48wgqMLHsK+d+8e5mD4AmcPDg5CBvwRb3QP0Rp2dXVB8BjWY+iDoXNnZyc+e/DgQYyb9Wt6BnxfZxMMz5Xiz0YDxLc+8fHxgYGB/HyelpYW4TOOQX19vaghBvhvotMmTBjQ2NgofMyRGDkPNQKqzZjXmrS2tgqfcQxQebD7Cxv/PKdOnRJdaoexrPAxh0G0c6FADhw4gK7hlStX9u/fn5ycLLyhB+IXPmZN6KqRcXHoQ/SohRia+/j4YA72WAzQ8QK+f/LkCdSIiuvv7z88PIwlUZvxEcxEvxUSRZvo5+cXHR2tX9nLBH/VuXPn1Go1/jb0OeiYlQj8i1NTU0+ePInmiU6jjiY2Nvbo0aPV1dUoH7oLw5Cenh40DhgDoHBQf/hOPzFCb29vRUVFUVFRVFTUjz/+iPojvEFICQcVPH8VPVo01FH+OA/25ODgYMyHEjCgAZGRkRi4463Kysq7d+/6+vpiAXQb+RPzGDpD/1LoQtbU1Fy/fh3dEWhemEU8BQLjLxFHN45u5hnNw4cPUXnQW0UR5eTkCHMJ/XUJjx8/vqEnMzNTmEuMAl0fKQx1iDFxUMFbgLHDdxLB8HI/giAmhNFnfAjCjiDBEwRBEIQMIcETBEEQhAwhwRMEQRCEDCHBEwRBEIQMIcETBEEQhAwhwU8YlbUtf9zsv2hH0J+2P7R6tpmURdsfiT84ocH6F+8KjtWWCEXAJDAy69vdYYtGrWTiM6ocjEb0wYnOt7tDD3g9e+wgg7qm9j9tdcDKExKmyheKgEloXN7i3aHW/pO4jCoHoxF9cKKzeEfQ4m0BDc0dQhEY4UGUrXYrPqJCMBKr/qcW73yybNf9to4eoQgI45DgJ4y8kpoZK5+8uzVzvofWQbJgc9o896TA8GfPxmdw9o56web0BZ6popXIOL/dnrtkp/B9RWxKKxumLbv/7tYs0RpkHFSe+R4pNx4+9wQ0Y1x7kDTfM1X/EfF65Jrfbs2aujSgonqchzecv6txuN1qa/bkxbfrG1uFIiCMQ4KfMApKa6cu9Z/nlvDOxlgHydxNqjkbYh5Fm/T4vEv3EuZuUs91iRetRMZBY7Rq/xNh+5mUVzdOX+o3zy1RtAYZB5XnnY1xd56kCkXAxCco5R2XeP1HxOuRa+a7Jc5Y5ldV+9z3u4zmsn+iw+1WbklzVtxraGoTioAwDgl+wiDBsyHBMyDBsyHBG8NhBd/WRoIfH1kJvqamKT6p+GF0jk9Q6vWHyTcfaQMissJV+UVFtdZ40FtTZ39SRUdJk3AqiATPhgTPgATPhgRvDAcU/DzXxHdW+o85gq9q7U2u6Kho6RWmHR45CF6VVHzurubYtdgLvgkPFXnJuQ3F1V0ltd1IZnFLuKbUOyDpxI24k7dUjxS5E/WNGonl7X+/O9lpc9q759P5OSR4NiR4BiR4NiR4Yzig4GdtiP/ILWS04H2S6366Pdlpo/K/bUs+rqgQ5jo29i14v9CMQ97KW0HpNc3jf1FYR68uTFN++IryvG9CY2OzMNciegeGfnkwEXZ38tD6pgpfo0SCZ0OCZ0CCZ0OCN4ZjCv7TLZGjBf/hxQynLZlOG2KcPFPf+sGkizdlj70KXqEu+P6iIjKpUpg2h/zKrsPesTcepgjT5uP5sMjJM83JLfHXhxKHnh78J8GzIcEzIMGzIcEbgw7Rj/DBpQwnj2Sn9dFO7olvn7K8eZcTdin4kzfjLvhxX+T6IkQlV+85F1lTY/ZXiKpL2/7cVeW0MRaV6ba2TphLgh8PEjwDEjwbErwxHPYiu8ZRgv9oRPAeKV/foO8+5rAzwXd3d+89F5mU+0IH2Edo7tLtPheZmVkuTJtA78DQK4eSnNyTnFw1v/he0z/47No9EjwbEjwDEjwbErwxHFbwo0fwv72QLgjeM+VKQq0w17GxJ8F3dnZuOxlaXt8nTE8EQzrd/kuKtAxTHb/9SQl36l3fSfRSVwtz9ZDg2ZDgGZDg2ZDgjUGC56lo7f3p5njuwKqb5me71B199EX+HPYk+B2nQiob+4WJCWXP+ajycuFaOQZFjT3/xTXWySXOyVX1r98ndPc/V4dI8GxI8AxI8GxI8MYgwfO43i908kx1Wq9wck+6l9YgzHV47EbwZ2/FpRZMzJH50fQM6LafDBkYGOdS/D0hpU+H79qvrmcLc59CgmdDgmdAgmdDgjcGCR7UtPf9xDOOG3p5pn5+1aTmyEGwD8FrUkou+Vv3tofsso6zPvHChBGeXaXpkfzZqGpEgmdDgmdAgmdDgjcGCR5sfVzMDd83qf9uu7q+wypHee0U+xD89lMhE/8gulGcuBlfVPzsqvjRvHVc6+SWyAv+91dI8CT4cUKCZ4QEzw4J3lhEgm/o6P+bLfFOrmon9yTflPHPtDoUdiD4EGVOiLpMmLAmLZ3DR6/ECBNjMRmC35bD1aQd+d/cFN+GQYJnQ4Jn8HIFP2fUHBvEXgT/UgoHIcEbi0jwrveLnLbnOW3PoYPzo7EDwR+4FGWD4TvP8evKujqjZ/qf5DRPOZ39b4dS3jmfnVbVKcx9iu0F//Y65az1SsM5s0bNsWpI8OzYheCnrlJMXqlAXZrrIn7LqpG+4FEg2KFQOFNWKURv2SAkeGMRCf6La9n/eixnoXdOU9f4zzN1NKQu+Jqapgu+CcKE9ckobvN5PM4jkAxufX8OGwt+zobY99zjF7jG4cXInHfd4t81mGPtkODZkbjgMTadsTbm4sOS6NSGbw9qp6+JES1g1Uhf8Cicr/YkonBuhJaj32yz3YoPCd5YRp+DHxiy2RjQzpC64B8rciBdYcL6QN5HryiECTOxpeCnr4755vuk6sae3LKODz1VGH6hMfp8V0JlfXdJTdfCbeqZa20xjucFH6wU31AwJt4BjtcSeWjXHDBJ8LX1zS9B8Bs4hxXqj0Vt88qe5BwtWsCq4QV/L1T4riY2viFpthf85BWKjWcy8NtrmnrQGZptw2NjCC/4hsYWvgSMcTUwiQRPGEPqgr/op7HxEwuOX1P29VnyLB1bCn7qKsWKo9zQp69/6NPtmplrY6atjvn2gJb/S77YnTDDJqMxTvDrFbeD0xo7+ho7epnp+9FHNdcFsWlLBIehrKCut1ZEz1xn0wYame+evGxv0KiiGJ2+9ILqlyX49CKuofS8kIUiEi1g1XC23hDrFZBkSuW5FJCE3oCNBT9lpWLdSa7/gT7QSxH89KW+WUW1zPLpO3Ubdrf1bjVrvRKFw+9WtmlqDEOCNx2pC97i8bSu+empdDO/CR4DzZIS1rX0xrCx4Jcf4U4ltHcNLNymwT42dVXMn/ZzdxL2DQxhKG8zwc90Dnpj9Z23toW/tTWUlW1hrzvfmrUq1GYt0dyNsTA6ymHV8dTDPvlbL2V/uFk1ZZXCpmea18e+8d3NSVtDxKUhyrbQ110CpyzxnbdJLV6DNfPSBf/2iuDXV/qYUHnCsRgWdijBozKgSqBioHqIC2Qk3G5106a7lUssxhKoORtOpR+8lb/dK/sPOxMmr7TpNQokeNORuuB3nwsXXplOcbHu0091K1fqvvlGt26duYIPiMhOSCkVJszhpQi+rXPgPbf4N5ZHvfZdFLyOOTYX/ONfrbjzq80Rv/IIZWVz+K+XQfAhNmuJMMiA46NSnj3Tqqapx/loCopOtKQVs175myU3X/UIEZeGKJ5hr6x3TME/+ZWzjwmVJ+JXyyH4Jw4o+FfW30f1EBfISGy+W8HuMDpfZ3g6uge+v5FnS8eT4E1H6oLfctykU5jPMWOG7qc/5V6EhupeeUXX26ufayqh6pJoTaEwYQ4vRfCDQ8OZJe0pBa1IblkH5vT0DdpY8K8uv/Wqe8irrkGsuAf/aukNW7ZEk5yjrwZzd1eGJNR9tFl17C73P80r74DSZtvsaikI/tsbr7g+FpeGKG5Pfrn2nmMK/tVlN02oPCFYzDEFj4qB6iEukJHYdrdChZm+JiY5j7ssQJPdvPFUxt0o7gu7BwaHv9qTaLOLNEnwpiN5wZ8wU/CDg7q//3vdn/2Zbtky7nVcnK61VXjLNILji2IS7Ebwo+nuJcFzw3f8rGzoQYG4n898zz3+j/uS2rsGhnW6z3baqHC4kOCNhwTPjgQFj+H74gPcecDOnsFPtqpfWRzxpnN0VglXf47dLXjTOUq0vJVCgjcdqQt+3/kI4ZXpbNigc3Li8uqruoICYabJ+IZkJKda8lydlyL4zu6BZYdTPt2uWbhVgw415rykQ/SRv/IIY2VzxK+X+9isJZq5VvnxFjWMjgLB8AI/+fto+vqHvrThUOPpIfpQcWmI4hn+yob7jin4XznfNqHyRGIxxxQ8Kgaqh7hARmLb3Qo1xP1cJgqkqKoTfejZG5STnKMfq7kvZr0cVPbGchK85JC64I9dZT1azihLlwqO/z//R1dv3sMLL/ppqqsbhQlzeFkX2X3gqZq8IvqN5dFf7UnEHFsLfkXQW2vuzNgVOWNHGCu7Iiat9Jm12kZXA0HwH3qq2jo5we++muN8NGX9yfSVP6R+sy9JtKR1syF20tKb03eEiktDlJ3hU9wfOKLgVwZPWn3bhMoTicWwsAMKHhUD1UNcICOx7W41eaVi42muQLj7BvWH63+zNEqZzrWWP94repMELz2kLvgrgUkdZp1D7+3VqdXcCy8v3U9+wjk+KEj/hqkcvRozODgoTJjDyxL877YJt8ktehlX0c9Zr/ALS+/oGRg3Z+7Y7n4ejC1QApn6Jyic9C969dtItETzN8V9sTsRDZNoYetlvkey874gUTmMmZySOse8Te7ag2RRUYyZK/cd8Ta5Gcv88krrREUhyrm7GpvtVqgtv9+h6dV/TfaBm3mTVkSvOp7W2c11o9EcoVESLW+lkOBNR+qCj1IVqDLNuWltaEg3e7YuMpJ7vW4dJ/gsMx5Q3DOgO349VpgwE1sKHk3PymPCI8D4++Cnro759qBwH/yXtrwPfkPMkxiTHnRj40duYbThfi6Tv4WiqrGnoLJzcGg4u7Sdv8lHtLCVon/QTbB+68ehurbpZQm+6KU+6MYvJI0vATZ3g1NfzoNuTusfdNPc+7IEX98wzoNurgTY9EE3b61QeAUJNxk1tgrPC7mnqJqySoEiEi1spZDgTUfqgm9r6zhhrnG//lo3a5Zu82bdW2/p9u8XZppGbFrNoygLv7HAloKfuVaJrnSwptYvuupdt/hZ65Vvr1N+skX9WF17P7bmAw/VLJs81IUXvGQfVcuNwH5MRynB7vkVHSEJdetPpqMzJFrMepH6o2o3oCLFnA0sDk2s+/ZAMj2qVhT0kr/ck4hq4x1UBrvP2fASBC+1R9XO3qBEPdl3PVeZ3lhU3Rmf2bT/Zh66ifxlrbYJCd50pC54cNg7Wn8QyDQwZOvv55KYqCsvF2aazP6Lkd3d3cKEmdhS8NzXYKxXTlrBPUmKH4/O1Y8w+GdLYSc0XNh6kbjgETgeBYIGCI01CmeqbR90YxdfNoOxF4qIvmxmdLi9bJ0ShYNaJHrLBpGm4BE0OHyZYJiByoPdymYNDh8SvOnYgeATUktvPObOhFmbgqqui74aYcJ8bCl4iUT6gueDJonvBtk4diH4lxXpC/7lRrKC54MdavbL2q1I8CZjB4IHe8+Ft3O3NFuXPeciWlvbhQnzIcGzoW+TY0CCZ0OCNwZ9mxzBwD4EX1HRsP+SpQ+lN40QdXlA2AsdJyDBsyHBMyDBsyHBG4METzCwD8ED2PduWK4wMdGU1fV+f8H8J+o8DwmeDQmeAQmeDQneGCR4goHdCB6cuBYTra0WJiaOxo7hLSeCLfuKWENI8GxI8AxI8GxI8MYgwRMM7Enw4MT12IhE7usNJorq5sEdp8NbWsx7Xv2YkODZkOAZkODZkOCNQYInGNiZ4MHZ26rLgSY1CuOiyW7cfTais5N70MeLQ4JnQ4JnQIJnQ4I3BgmeYGB/ggePIrP2XoiuaOgXps2nZ1B35k7CGR+VMD0RkODZkOAZkODZkOCNQYInGNil4EFDQ/Px67GnfNRVTaY/BIejd1DnG5Zz8HJMcorwwMWJggTPhgTPgATPhgRvDBI8wcBeBc+Tl1d12kf9w7W4UHVZS5cwc0z6hnTa/ObTt7mFI1Vmf4esKZDg2ZDgGZDg2ZDgjUGCJxjYt+B5Ojs7g2Jyz95R/3A99uxdzZXAJN/QTL+wLOTa/eSLfgknrseevBnnE5RaVmbO99aYCQmeDQmeAQmeDQneGCR4goEcBG9Ie3t7QUFNckppcipSlpVVWV/fLLxnZUjwbEjwDEjwbEjwxiDBEwzkJviXCAmeDQmeAQmeDQneGCR4ggEJfsLgBL8sYL57EnY2B8k8Vw32N9MFP881YZ6+MXKQLPBMNUPwy+7Nd08WrUHGQeWZ66IyXfDQmP4j4vXINQvck2csv2eK4B1ut3LXzlnpT4I3BRL8hJFXXDN9RRAGbXM3aRwkGHHOddX4m/YM/1O34ud7pKAxEq1ExlmwJeObrQHC9jMprWyYuiwQ5SNag4yDyjPPLena/SShCJhcCUyc557M1bdR65FrFnikTPnOv7JmHMGf8XG83cojdfLi2/WNJPjxIcFPGC1t3Rikevkn4qfj5HJgSmF5o1AETFJzqy8Hpoo+Lu+gcJ4oTfoChfbOHgzFHLDyZBeZdN1rVmEtFhZ9XN7x8k/yDkjs7B7nEdppeQ63W6Fkrj3Q9vSad4O0Y0KCJwiCIAgZQoInCIIgCBlCgicIgiAIGUKCJwiCIAgZQoInCIIgCBlCgicIgiAIGUKCJwiCIAgZQoInCIIgCBlCgicIgiAIGUKCJwiCIAgZQoInCIIgCBlCgicIgiAIGUKCJwiCIAgZQoInCIIgCBlCgicIgiAIGUKCJwiCIAgZQoInCIIgCBlCgicIgiAIGUKCJwiCIAgZQoInCIIgCBlCgicIgiAIGUKCJwiCIAgZQoInCIIgCBlCgicIgiAIGUKCJwiCIAgZQoInCIIgCBlCgicIgiAIGUKCJwiCIAgZQoInCIIgCBlCgicIgiAIGUKCJwiCIAgZQoInCIIgCBlCgicIgiAI2aHT/f+1knxostXOdAAAAABJRU5ErkJggg==)"
      ]
    },
    {
      "cell_type": "markdown",
      "metadata": {
        "id": "qoZSydUW7Ki6"
      },
      "source": [
        "What if we assigned a single character to the second element of the string **s**?"
      ]
    },
    {
      "cell_type": "code",
      "metadata": {
        "id": "T2_cu0WKCxRB"
      },
      "source": [
        "s[1] = 'o' # trying to replace the letter 'e' with the letter 'o'"
      ],
      "execution_count": null,
      "outputs": []
    },
    {
      "cell_type": "markdown",
      "metadata": {
        "id": "4LbYAQ4Q8rn6"
      },
      "source": [
        "What about using the **:** wildcard character to refer to slices of a string?"
      ]
    },
    {
      "cell_type": "code",
      "metadata": {
        "id": "Ar6zsEdzDFpq"
      },
      "source": [
        "print(s[::])\n",
        "print(s[:])\n",
        "print(s[0:])"
      ],
      "execution_count": null,
      "outputs": []
    },
    {
      "cell_type": "markdown",
      "metadata": {
        "id": "KzPI001k8Bin"
      },
      "source": [
        "We learn that strings are a special form of lists.\n",
        "\n",
        "*   Strings are sequences of elements\n",
        "*   Elements in a string are each individual character\n",
        "*   String elements are referred to by their index in square brackets []\n",
        "*   The colon : is a special index value used to identify the start or end\n",
        "*   Strings are objects which can be assigned to other objects\n",
        "*   Individual elements in a string cannot be assigned with new values – that is, lists are immutable (they cannot be changed)\n",
        "\n"
      ]
    },
    {
      "cell_type": "markdown",
      "metadata": {
        "id": "U4at4t22FFR_"
      },
      "source": [
        "Here are some terms to remember:\n",
        "\n",
        "*   **Sequences** are ordered arrangements of elements\n",
        "*   **Lists** are a form of **Sequence** with individual elements which may be of different types or classes\n",
        "*   **Strings** are **Sequences** of elements called **Characters**\n",
        "*   **Elements** are separate members of a **Sequence**\n",
        "*   **Indices** (index numbers) are values which indicate the position of an **element** in a **sequence** (**List** or **String**)\n",
        "*   **Elements** are referred to by their index in Square Brackets **[]**\n",
        "*   The **Colon :** is a special index value used to identify the start or end\n",
        "*   Lists are **mutable**\n",
        "*   Strings are **immutable**\n"
      ]
    },
    {
      "cell_type": "markdown",
      "source": [
        "\n",
        "\n",
        "---\n",
        "\n"
      ],
      "metadata": {
        "id": "F4j7_bH828ek"
      }
    },
    {
      "cell_type": "markdown",
      "metadata": {
        "id": "fj3lPXhb1kPD"
      },
      "source": [
        "**Examples** from: \n",
        "# REVIEW: Lesson 7 (Strings)\n",
        "*was old lesson6*    \n",
        "of Python For Everybody (p4e.com/lessons)"
      ]
    },
    {
      "cell_type": "markdown",
      "metadata": {
        "id": "qaKrHtZ20cqY"
      },
      "source": [
        "### 7(6).1 A string is a sequence"
      ]
    },
    {
      "cell_type": "code",
      "execution_count": null,
      "metadata": {
        "id": "W4wRng1N0cqY"
      },
      "outputs": [],
      "source": [
        "fruit = 'banana'"
      ]
    },
    {
      "cell_type": "code",
      "execution_count": null,
      "metadata": {
        "id": "fTZfsV2f0cqZ"
      },
      "outputs": [],
      "source": [
        "letter = fruit[0]\n",
        "print(letter)"
      ]
    },
    {
      "cell_type": "code",
      "execution_count": null,
      "metadata": {
        "id": "VJEU1Z5u0cqa"
      },
      "outputs": [],
      "source": [
        "letter = fruit[1]\n",
        "print(letter)"
      ]
    },
    {
      "cell_type": "code",
      "execution_count": null,
      "metadata": {
        "id": "94YEUBvk0cqa"
      },
      "outputs": [],
      "source": [
        "letter = fruit[1.5]"
      ]
    },
    {
      "cell_type": "markdown",
      "metadata": {
        "id": "FPYNa4SD0cqa"
      },
      "source": [
        "#### String Indexes\n",
        "\n",
        "b  -  a  -  n  -  a  -  n  -  a\n",
        "\n",
        "[0] - [1] - [2] - [3] - [4] - [5]"
      ]
    },
    {
      "cell_type": "markdown",
      "metadata": {
        "id": "EpZjPezJ0cqa"
      },
      "source": [
        "### 7(6).2 Getting the length of a string using len"
      ]
    },
    {
      "cell_type": "code",
      "execution_count": null,
      "metadata": {
        "id": "bxzZug8m0cqb"
      },
      "outputs": [],
      "source": [
        "fruit = 'banana'\n",
        "len(fruit)"
      ]
    },
    {
      "cell_type": "code",
      "execution_count": null,
      "metadata": {
        "id": "ldrRUMmS0cqb"
      },
      "outputs": [],
      "source": [
        "length = len(fruit)\n",
        "last = fruit[length]\n",
        "# To get the last character, you have to subtract 1 from length"
      ]
    },
    {
      "cell_type": "code",
      "execution_count": null,
      "metadata": {
        "id": "eeICxbIs0cqb"
      },
      "outputs": [],
      "source": [
        "last = fruit[length-1]\n",
        "print(last)"
      ]
    },
    {
      "cell_type": "markdown",
      "metadata": {
        "id": "erLJrv8l0cqc"
      },
      "source": [
        "### 7(6).3 Traversal through a string with a loop"
      ]
    },
    {
      "cell_type": "code",
      "execution_count": null,
      "metadata": {
        "id": "Z937VuWj0cqc"
      },
      "outputs": [],
      "source": [
        "# using while loop\n",
        "\n",
        "index = 0\n",
        "while index < len(fruit):\n",
        "    letter = fruit[index]\n",
        "    print(letter)\n",
        "    index = index + 1"
      ]
    },
    {
      "cell_type": "code",
      "execution_count": null,
      "metadata": {
        "id": "-PQWAwHr0cqc"
      },
      "outputs": [],
      "source": [
        "# using for loop\n",
        "\n",
        "for char in fruit:\n",
        "    print(char)"
      ]
    },
    {
      "cell_type": "markdown",
      "metadata": {
        "id": "mgCKeY7W0cqc"
      },
      "source": [
        "### 7(6).4 String slices"
      ]
    },
    {
      "cell_type": "code",
      "execution_count": null,
      "metadata": {
        "id": "vUOyf-il0cqc"
      },
      "outputs": [],
      "source": [
        "s = 'Monty Python'"
      ]
    },
    {
      "cell_type": "code",
      "execution_count": null,
      "metadata": {
        "id": "8nOhMNXl0cqd"
      },
      "outputs": [],
      "source": [
        "print(s[0:5])"
      ]
    },
    {
      "cell_type": "code",
      "execution_count": null,
      "metadata": {
        "id": "Ci7gvz5b0cqd"
      },
      "outputs": [],
      "source": [
        "print(s[6:12])"
      ]
    },
    {
      "cell_type": "code",
      "execution_count": null,
      "metadata": {
        "id": "Fe8reIQm0cqd"
      },
      "outputs": [],
      "source": [
        "fruit = 'banana'"
      ]
    },
    {
      "cell_type": "code",
      "execution_count": null,
      "metadata": {
        "id": "jUPaFOA90cqd"
      },
      "outputs": [],
      "source": [
        "fruit[:3]"
      ]
    },
    {
      "cell_type": "code",
      "execution_count": null,
      "metadata": {
        "id": "se6-UB090cqe"
      },
      "outputs": [],
      "source": [
        "fruit[3:]"
      ]
    },
    {
      "cell_type": "code",
      "execution_count": null,
      "metadata": {
        "id": "AvlNFel30cqe"
      },
      "outputs": [],
      "source": [
        "fruit[3:3]"
      ]
    },
    {
      "cell_type": "code",
      "execution_count": null,
      "metadata": {
        "id": "7wE5_pGw0cqe"
      },
      "outputs": [],
      "source": [
        "fruit[:]"
      ]
    },
    {
      "cell_type": "markdown",
      "metadata": {
        "id": "6DAbxKeE0cqe"
      },
      "source": [
        "### 7(6).5 Strings are immutable"
      ]
    },
    {
      "cell_type": "code",
      "execution_count": null,
      "metadata": {
        "id": "-d-_Cwfj0cqe"
      },
      "outputs": [],
      "source": [
        "greeting = 'Hello, world!'"
      ]
    },
    {
      "cell_type": "code",
      "execution_count": null,
      "metadata": {
        "id": "zecguYYP0cqf"
      },
      "outputs": [],
      "source": [
        "greeting[0] = 'J'"
      ]
    },
    {
      "cell_type": "code",
      "execution_count": null,
      "metadata": {
        "id": "6Xo_babH0cqf"
      },
      "outputs": [],
      "source": [
        "new_greeting = 'J' + greeting[1:]\n",
        "print(new_greeting)\n",
        "\n",
        "# This concatenates a new first letter onto a slice of greeting. It has no effect on the original string"
      ]
    },
    {
      "cell_type": "markdown",
      "metadata": {
        "id": "RUy-KS7-0cqf"
      },
      "source": [
        "### 7(6).6 Looping and counting"
      ]
    },
    {
      "cell_type": "code",
      "execution_count": null,
      "metadata": {
        "id": "LYKNQICg0cqf"
      },
      "outputs": [],
      "source": [
        "# The following counts the number of times the letter \" a \" appears in a string\n",
        "\n",
        "word = 'banana'\n",
        "count = 0\n",
        "for letter in word:\n",
        "    if letter == 'a':\n",
        "        count = count + 1\n",
        "print(count)"
      ]
    },
    {
      "cell_type": "markdown",
      "metadata": {
        "id": "9uVHsysh0cqf"
      },
      "source": [
        "### 7(6).7 The in operator"
      ]
    },
    {
      "cell_type": "code",
      "execution_count": null,
      "metadata": {
        "id": "19nFApco0cqf",
        "outputId": "d59ad460-094c-4421-8a83-2d1b3a1c71f8"
      },
      "outputs": [
        {
          "data": {
            "text/plain": [
              "True"
            ]
          },
          "execution_count": 22,
          "metadata": {},
          "output_type": "execute_result"
        }
      ],
      "source": [
        "'a' in 'banana'"
      ]
    },
    {
      "cell_type": "code",
      "execution_count": null,
      "metadata": {
        "id": "UhGmjLRA0cqf"
      },
      "outputs": [],
      "source": [
        "'seed' in 'banana'"
      ]
    },
    {
      "cell_type": "markdown",
      "metadata": {
        "id": "PsSX3jnA0cqf"
      },
      "source": [
        "### 7(6).8 String comparison"
      ]
    },
    {
      "cell_type": "code",
      "execution_count": null,
      "metadata": {
        "id": "cS3CpDdC0cqg"
      },
      "outputs": [],
      "source": [
        "word = 'banana'\n",
        "if word == 'banana':\n",
        "    print('All right, bananas.')"
      ]
    },
    {
      "cell_type": "code",
      "execution_count": null,
      "metadata": {
        "id": "9VMedP5a0cqg"
      },
      "outputs": [],
      "source": [
        "word = 'Banana'    # Comparision done letter by letter, considering the ASCII values\n",
        "if word < 'banana':\n",
        "    print('Your word, ' + word + ', comes before banana.')\n",
        "elif word > 'banana':\n",
        "    print('Your word, ' + word + ', comes after banana.')\n",
        "else:\n",
        "    print('All right, bananas.')"
      ]
    },
    {
      "cell_type": "code",
      "execution_count": null,
      "metadata": {
        "id": "SXgmrM9b0cqg"
      },
      "outputs": [],
      "source": [
        "word = 'pineapple'    # Comparision done letter by letter, considering the ASCII values\n",
        "if word < 'banana':\n",
        "    print('Your word, ' + word + ', comes before banana.')\n",
        "elif word > 'banana':\n",
        "    print('Your word, ' + word + ', comes after banana.')\n",
        "else:\n",
        "    print('All right, bananas.')"
      ]
    },
    {
      "cell_type": "code",
      "execution_count": null,
      "metadata": {
        "id": "SVOXsGx20cqg"
      },
      "outputs": [],
      "source": [
        "word = 'Pineapple'    # Comparision done letter by letter, considering the ASCII values\n",
        "if word < 'banana':\n",
        "    print('Your word, ' + word + ', comes before banana.')\n",
        "elif word > 'banana':\n",
        "    print('Your word, ' + word + ', comes after banana.')\n",
        "else:\n",
        "    print('All right, bananas.')"
      ]
    },
    {
      "cell_type": "markdown",
      "metadata": {
        "id": "YVHhr7FU0cqg"
      },
      "source": [
        "### 7(6).9 string methods"
      ]
    },
    {
      "cell_type": "code",
      "execution_count": null,
      "metadata": {
        "id": "D_nX25nJ0cqh"
      },
      "outputs": [],
      "source": [
        "stuff = 'Hello world'"
      ]
    },
    {
      "cell_type": "code",
      "execution_count": null,
      "metadata": {
        "id": "PRbSyp9z0cqh"
      },
      "outputs": [],
      "source": [
        "type(stuff)"
      ]
    },
    {
      "cell_type": "code",
      "execution_count": null,
      "metadata": {
        "id": "5aYxVfQl0cqh"
      },
      "outputs": [],
      "source": [
        "dir(stuff)     # built in functions for a string "
      ]
    },
    {
      "cell_type": "code",
      "execution_count": null,
      "metadata": {
        "id": "vfr1Jz-C0cqh"
      },
      "outputs": [],
      "source": [
        "help(str.capitalize)"
      ]
    },
    {
      "cell_type": "code",
      "execution_count": null,
      "metadata": {
        "id": "DNa80MQM0cqh"
      },
      "outputs": [],
      "source": [
        "word = 'banana'\n",
        "new_word = word.upper()\n",
        "print(new_word)"
      ]
    },
    {
      "cell_type": "code",
      "execution_count": null,
      "metadata": {
        "id": "iEIyluVZ0cqh"
      },
      "outputs": [],
      "source": [
        "word = 'banana'\n",
        "index = word.find('a')\n",
        "print(index)"
      ]
    },
    {
      "cell_type": "code",
      "execution_count": null,
      "metadata": {
        "id": "K9lejfOT0cqh"
      },
      "outputs": [],
      "source": [
        "word.find('na')  # find method can find substrings as well as characters"
      ]
    },
    {
      "cell_type": "code",
      "execution_count": null,
      "metadata": {
        "id": "PFE6D8Eu0cqh"
      },
      "outputs": [],
      "source": [
        "word.find('na', 3)  # can take as a second argument the index where it should start"
      ]
    },
    {
      "cell_type": "code",
      "execution_count": null,
      "metadata": {
        "id": "zRxlH9DR0cqi"
      },
      "outputs": [],
      "source": [
        "# remove white space (spaces, tabs, or newlines) from the beginning and end of a string using the strip method\n",
        "line = ' Here we go '\n",
        "line.strip()"
      ]
    },
    {
      "cell_type": "code",
      "execution_count": null,
      "metadata": {
        "id": "sJqNZ9X40cqi"
      },
      "outputs": [],
      "source": [
        "line = 'Have a nice day'\n",
        "line.startswith('Have')"
      ]
    },
    {
      "cell_type": "code",
      "execution_count": null,
      "metadata": {
        "id": "ETElbhHM0cqi"
      },
      "outputs": [],
      "source": [
        "line.startswith('h')"
      ]
    },
    {
      "cell_type": "code",
      "execution_count": null,
      "metadata": {
        "id": "LuWav9MK0cqi"
      },
      "outputs": [],
      "source": [
        "line.lower()"
      ]
    },
    {
      "cell_type": "code",
      "execution_count": null,
      "metadata": {
        "id": "bOFaEVAB0cqi"
      },
      "outputs": [],
      "source": [
        "line.lower().startswith('h')"
      ]
    },
    {
      "cell_type": "markdown",
      "metadata": {
        "id": "iPn4efrm0cqi"
      },
      "source": [
        "### 7(6).10 Parsing strings"
      ]
    },
    {
      "cell_type": "code",
      "execution_count": null,
      "metadata": {
        "id": "GA39TSNE0cqi"
      },
      "outputs": [],
      "source": [
        "data = 'From stephen.marquard@uct.ac.za Sat Jan 5 09:14:16 2008'\n",
        "atpos = data.find('@')\n",
        "print(atpos)"
      ]
    },
    {
      "cell_type": "code",
      "execution_count": null,
      "metadata": {
        "id": "OPrWR4Z60cqi"
      },
      "outputs": [],
      "source": [
        "sppos = data.find(' ',atpos)\n",
        "print(sppos)"
      ]
    },
    {
      "cell_type": "code",
      "execution_count": null,
      "metadata": {
        "id": "5LzHMBD50cqj"
      },
      "outputs": [],
      "source": [
        "host = data[atpos+1:sppos]\n",
        "print(host)"
      ]
    },
    {
      "cell_type": "markdown",
      "metadata": {
        "id": "A-cSd47C0cqj"
      },
      "source": [
        "### 7(6).11 Format operator"
      ]
    },
    {
      "cell_type": "code",
      "execution_count": null,
      "metadata": {
        "id": "Nse3LWok0cqj"
      },
      "outputs": [],
      "source": [
        "camels = 42\n",
        "'%d' % camels"
      ]
    },
    {
      "cell_type": "code",
      "execution_count": null,
      "metadata": {
        "id": "L3qJaYsH0cqj"
      },
      "outputs": [],
      "source": [
        "camels = 42\n",
        "'I have spotted %d camels.' % camels"
      ]
    },
    {
      "cell_type": "code",
      "execution_count": null,
      "metadata": {
        "id": "iKSrhgJr0cqj"
      },
      "outputs": [],
      "source": [
        "'In %d years I have spotted %g %s.' % (3, 0.1, 'camels')"
      ]
    },
    {
      "cell_type": "code",
      "execution_count": null,
      "metadata": {
        "id": "ekMSZnuz0cqj"
      },
      "outputs": [],
      "source": [
        "'%d %d %d' % (1, 2)"
      ]
    },
    {
      "cell_type": "code",
      "execution_count": null,
      "metadata": {
        "id": "DajuezGY0cqj"
      },
      "outputs": [],
      "source": [
        "'%d' % 'dollars'"
      ]
    },
    {
      "cell_type": "markdown",
      "metadata": {
        "id": "2ONjZyvM0cqk"
      },
      "source": [
        "### 7(6).12 Debugging"
      ]
    },
    {
      "cell_type": "code",
      "execution_count": null,
      "metadata": {
        "id": "jUG2qkBn0cqk"
      },
      "outputs": [],
      "source": [
        "while True:\n",
        "    line = input('> ')\n",
        "    if line[0] == '#':\n",
        "        continue\n",
        "    if line == 'done':\n",
        "        break\n",
        "    print(line)\n",
        "print('Done!')"
      ]
    },
    {
      "cell_type": "markdown",
      "source": [
        "\n",
        "\n",
        "---\n",
        "\n"
      ],
      "metadata": {
        "id": "yAaUDJbu1T4h"
      }
    },
    {
      "cell_type": "markdown",
      "source": [
        "**See the class notes on Blackboard and the Charles Severance lectures on py4e.com for more information.**"
      ],
      "metadata": {
        "id": "EPcYmV-b2EmQ"
      }
    },
    {
      "cell_type": "markdown",
      "source": [
        "\n",
        "\n",
        "---\n",
        "\n"
      ],
      "metadata": {
        "id": "S_w4sbTi2H-E"
      }
    },
    {
      "cell_type": "markdown",
      "source": [
        "**Examples** from: \n",
        "# Lesson 5 (Functions)    \n",
        "*was old lesson 4*    \n",
        "of Python For Everybody (p4e.com/lessons)"
      ],
      "metadata": {
        "id": "iv07BnAYzGal"
      }
    },
    {
      "cell_type": "markdown",
      "metadata": {
        "id": "gHy1r1EPi9ra"
      },
      "source": [
        "## 5(4).2 Built-in functions"
      ]
    },
    {
      "cell_type": "markdown",
      "metadata": {
        "id": "e-pUsPvbi9ra"
      },
      "source": [
        "The max and min functions give us the largest and smallest values in a list, respectively:"
      ]
    },
    {
      "cell_type": "code",
      "execution_count": null,
      "metadata": {
        "id": "oUpz4Fn-i9rb"
      },
      "outputs": [],
      "source": [
        "max('Hello world')"
      ]
    },
    {
      "cell_type": "code",
      "execution_count": null,
      "metadata": {
        "id": "fqWjMea7i9rc"
      },
      "outputs": [],
      "source": [
        "min('Hello world')"
      ]
    },
    {
      "cell_type": "code",
      "execution_count": null,
      "metadata": {
        "id": "sdxJOGLsi9rc"
      },
      "outputs": [],
      "source": [
        "len('Hello world')"
      ]
    },
    {
      "cell_type": "code",
      "execution_count": null,
      "metadata": {
        "id": "vZtU8Zp6i9rd"
      },
      "outputs": [],
      "source": [
        "dir(str)   # Built-in functions for a string"
      ]
    },
    {
      "cell_type": "markdown",
      "metadata": {
        "id": "IGD6E7WRi9rd"
      },
      "source": [
        "## 5(4).3 Type conversion functions"
      ]
    },
    {
      "cell_type": "code",
      "execution_count": null,
      "metadata": {
        "id": "F577HDJzi9rd"
      },
      "outputs": [],
      "source": [
        "int('32')"
      ]
    },
    {
      "cell_type": "code",
      "execution_count": null,
      "metadata": {
        "id": "jQhAHyGHi9rd"
      },
      "outputs": [],
      "source": [
        "int('Hello')"
      ]
    },
    {
      "cell_type": "markdown",
      "metadata": {
        "id": "ABcKmN5-i9re"
      },
      "source": [
        "int can convert floating-point values to integers, but it doesn’t round off; it chops\n",
        "off the fraction part:"
      ]
    },
    {
      "cell_type": "code",
      "execution_count": null,
      "metadata": {
        "id": "14uQtPPRi9rl"
      },
      "outputs": [],
      "source": [
        "int(3.99999)"
      ]
    },
    {
      "cell_type": "code",
      "execution_count": null,
      "metadata": {
        "id": "CIgMZQgri9rl"
      },
      "outputs": [],
      "source": [
        "int(-2.3)"
      ]
    },
    {
      "cell_type": "markdown",
      "metadata": {
        "id": "V2QOxwHdi9rl"
      },
      "source": [
        "float converts integers and strings to floating-point numbers:"
      ]
    },
    {
      "cell_type": "code",
      "execution_count": null,
      "metadata": {
        "id": "Kzo7Bfovi9rm"
      },
      "outputs": [],
      "source": [
        "float(32)"
      ]
    },
    {
      "cell_type": "code",
      "execution_count": null,
      "metadata": {
        "id": "Y7X6FYvPi9rm"
      },
      "outputs": [],
      "source": [
        "float('3.14159')"
      ]
    },
    {
      "cell_type": "markdown",
      "metadata": {
        "id": "BHcto0Mai9rm"
      },
      "source": [
        "Finally, str converts its argument to a string:"
      ]
    },
    {
      "cell_type": "code",
      "execution_count": null,
      "metadata": {
        "id": "nR4lbT7-i9rm"
      },
      "outputs": [],
      "source": [
        "str(32)"
      ]
    },
    {
      "cell_type": "code",
      "execution_count": null,
      "metadata": {
        "id": "ihAiHjkni9rn"
      },
      "outputs": [],
      "source": [
        "str(3.14159)"
      ]
    },
    {
      "cell_type": "markdown",
      "metadata": {
        "id": "jVdS6Cm1i9rn"
      },
      "source": [
        "## 5(4).4 Random numbers"
      ]
    },
    {
      "cell_type": "code",
      "execution_count": null,
      "metadata": {
        "id": "vjnb7mFMi9rn"
      },
      "outputs": [],
      "source": [
        "import random\n",
        "\n",
        "for i in range(10):\n",
        "    x = random.random()\n",
        "    print(x)"
      ]
    },
    {
      "cell_type": "markdown",
      "metadata": {
        "id": "9-YULupEi9rn"
      },
      "source": [
        "The function randint takes the parameters low and high, and returns an integer\n",
        "between low and high (including both)."
      ]
    },
    {
      "cell_type": "code",
      "execution_count": null,
      "metadata": {
        "id": "e93GmwP3i9ro"
      },
      "outputs": [],
      "source": [
        "random.randint(5, 10)"
      ]
    },
    {
      "cell_type": "code",
      "execution_count": null,
      "metadata": {
        "id": "olqXRdVIi9ro"
      },
      "outputs": [],
      "source": [
        "random.randint(5, 10)"
      ]
    },
    {
      "cell_type": "markdown",
      "metadata": {
        "id": "iHSwnADai9ro"
      },
      "source": [
        "To choose an element from a sequence at random, you can use choice:"
      ]
    },
    {
      "cell_type": "code",
      "execution_count": null,
      "metadata": {
        "id": "vW4GuiMXi9ro"
      },
      "outputs": [],
      "source": [
        "t = [1, 2, 3]\n",
        "random.choice(t)"
      ]
    },
    {
      "cell_type": "code",
      "execution_count": null,
      "metadata": {
        "id": "6bqzru4Bi9rp"
      },
      "outputs": [],
      "source": [
        "random.choice(t)"
      ]
    },
    {
      "cell_type": "markdown",
      "metadata": {
        "id": "jJ3ZfUfoi9rp"
      },
      "source": [
        "## 5(4).5 Math functions"
      ]
    },
    {
      "cell_type": "code",
      "execution_count": null,
      "metadata": {
        "id": "1ZY6IXa_i9rp"
      },
      "outputs": [],
      "source": [
        "import math"
      ]
    },
    {
      "cell_type": "code",
      "execution_count": null,
      "metadata": {
        "id": "HgKpDq6zi9rp"
      },
      "outputs": [],
      "source": [
        "print(math)"
      ]
    },
    {
      "cell_type": "code",
      "execution_count": null,
      "metadata": {
        "id": "Dr_b2Rlzi9rp"
      },
      "outputs": [],
      "source": [
        "degrees = 45\n",
        "radians = degrees / 360.0 * 2 * math.pi\n",
        "math.sin(radians)"
      ]
    },
    {
      "cell_type": "code",
      "execution_count": null,
      "metadata": {
        "id": "UIbBZrnwi9rq"
      },
      "outputs": [],
      "source": [
        "math.sqrt(2) / 2.0"
      ]
    },
    {
      "cell_type": "markdown",
      "metadata": {
        "id": "kNOkKAKci9rq"
      },
      "source": [
        "## 5(4).6 Adding new functions"
      ]
    },
    {
      "cell_type": "code",
      "execution_count": null,
      "metadata": {
        "id": "fKwemv6qi9rq"
      },
      "outputs": [],
      "source": [
        "def print_lyrics():\n",
        "    print(\"I'm a lumberjack, and I'm okay.\")\n",
        "    print('I sleep all night and I work all day.')"
      ]
    },
    {
      "cell_type": "code",
      "execution_count": null,
      "metadata": {
        "id": "-9MBrqMhi9rq"
      },
      "outputs": [],
      "source": [
        "print(print_lyrics)"
      ]
    },
    {
      "cell_type": "code",
      "execution_count": null,
      "metadata": {
        "id": "rJBbyD4Oi9rq"
      },
      "outputs": [],
      "source": [
        "print(type(print_lyrics))"
      ]
    },
    {
      "cell_type": "code",
      "execution_count": null,
      "metadata": {
        "id": "b1-b4rL7i9rr"
      },
      "outputs": [],
      "source": [
        "print_lyrics()"
      ]
    },
    {
      "cell_type": "code",
      "execution_count": null,
      "metadata": {
        "id": "JcQugFW8i9rr"
      },
      "outputs": [],
      "source": [
        "def repeat_lyrics():\n",
        "    print_lyrics()\n",
        "    print_lyrics()"
      ]
    },
    {
      "cell_type": "code",
      "execution_count": null,
      "metadata": {
        "id": "Gr2mADyxi9rr"
      },
      "outputs": [],
      "source": [
        "repeat_lyrics()"
      ]
    },
    {
      "cell_type": "markdown",
      "metadata": {
        "id": "LHcoQD8vi9rr"
      },
      "source": [
        "## 5(4).9 Parameters and arguments"
      ]
    },
    {
      "cell_type": "code",
      "execution_count": null,
      "metadata": {
        "id": "MtBbkOjGi9rr"
      },
      "outputs": [],
      "source": [
        "def print_twice(bruce):\n",
        "    print(bruce)\n",
        "    print(bruce)"
      ]
    },
    {
      "cell_type": "code",
      "execution_count": null,
      "metadata": {
        "id": "svIaBfBHi9rs"
      },
      "outputs": [],
      "source": [
        "print_twice('Spam')"
      ]
    },
    {
      "cell_type": "code",
      "execution_count": null,
      "metadata": {
        "id": "ImmVFUxui9rs"
      },
      "outputs": [],
      "source": [
        "print_twice(17)"
      ]
    },
    {
      "cell_type": "code",
      "execution_count": null,
      "metadata": {
        "id": "o8nzEMqzi9rs"
      },
      "outputs": [],
      "source": [
        "import math\n",
        "print_twice(math.pi)"
      ]
    },
    {
      "cell_type": "code",
      "execution_count": null,
      "metadata": {
        "id": "xlFXZMUii9rs"
      },
      "outputs": [],
      "source": [
        "print_twice('Spam '*4)"
      ]
    },
    {
      "cell_type": "markdown",
      "metadata": {
        "id": "OI-HJ7YNi9rs"
      },
      "source": [
        "## 5(4).10 Fruitful functions and void functions"
      ]
    },
    {
      "cell_type": "code",
      "execution_count": null,
      "metadata": {
        "id": "wGBJig0oi9rt"
      },
      "outputs": [],
      "source": [
        "result = print_twice('Bing')"
      ]
    },
    {
      "cell_type": "code",
      "execution_count": null,
      "metadata": {
        "id": "D_OofGLbi9rt"
      },
      "outputs": [],
      "source": [
        "print(result)"
      ]
    },
    {
      "cell_type": "code",
      "execution_count": null,
      "metadata": {
        "id": "876nVZODi9rt"
      },
      "outputs": [],
      "source": [
        "print(type(None))"
      ]
    },
    {
      "cell_type": "code",
      "execution_count": null,
      "metadata": {
        "id": "QcF5S4K-i9rt"
      },
      "outputs": [],
      "source": [
        "def addtwo(a, b):\n",
        "    added = a + b\n",
        "    return added\n",
        "\n",
        "x = addtwo(3, 5)\n",
        "print(x)"
      ]
    },
    {
      "cell_type": "markdown",
      "source": [
        "\n",
        "\n",
        "---\n",
        "\n"
      ],
      "metadata": {
        "id": "FzDCdBFe3P5Y"
      }
    },
    {
      "cell_type": "markdown",
      "source": [
        "#APPENDIX    \n"
      ],
      "metadata": {
        "id": "3yiWZZIG3NT6"
      }
    },
    {
      "cell_type": "markdown",
      "metadata": {
        "id": "4yh0waqM94ca"
      },
      "source": [
        "## **Working With Lists**    \n",
        "\n",
        "o List Values    \n",
        "o Acessing List Elements    \n",
        "o List Membership    \n",
        "o List Operations     \n",
        "o Slice Operations on Lists    \n",
        "o Range Function    \n",
        "o Lists Are Mutable     \n",
        "o Lists and FOR Loops    \n",
        "o Traversing Lists    \n",
        "o Enumerating Lists     \n",
        "o Join Function    \n",
        "o Split Function    \n"
      ]
    },
    {
      "cell_type": "markdown",
      "metadata": {
        "id": "Fulb7Lqd9_9Z"
      },
      "source": [
        "### List Values"
      ]
    },
    {
      "cell_type": "markdown",
      "metadata": {
        "id": "dKTsCCXm-GiM"
      },
      "source": [
        "There are several ways to create a new list; the simplest is to enclose the elements in square brackets ( [ and ]):\n",
        "\n",
        "`[10, 20, 30, 40]`\n",
        "\n",
        "`[\"spam\", \"bungee\", \"swallow\"]`\n",
        "\n",
        "The first example is a list of four integers. The second is a list of three strings. The elements of a list don’t have to be the same type. The following list contains a string, a float, an integer, and (a list within a list!) another list:\n",
        "\n",
        "`[\"hello\", 2.0, 5, [10, 20]]`\n",
        "\n",
        "A list within another list is said to be nested.\n",
        "\n",
        "Finally, there is a special list that contains no elements. It is called the empty list and is denoted **[]**.\n"
      ]
    },
    {
      "cell_type": "markdown",
      "metadata": {
        "id": "NUWAYJ9q-GNm"
      },
      "source": [
        "Like numeric 0 values and the empty string, the empty list is false in a Boolean expression:\n"
      ]
    },
    {
      "cell_type": "code",
      "metadata": {
        "id": "cVTPcJe9-l0e"
      },
      "source": [
        "if []:\n",
        "    print('This is true.')\n",
        "else:\n",
        "    print('This is false.')"
      ],
      "execution_count": null,
      "outputs": []
    },
    {
      "cell_type": "markdown",
      "metadata": {
        "id": "L0dNO6VX-GKK"
      },
      "source": [
        "With all these ways to create lists, it would be disappointing if we could not assign list values to variables or pass lists as parameters to functions.\n",
        "\n",
        "We can:\n"
      ]
    },
    {
      "cell_type": "code",
      "metadata": {
        "id": "j-wxDGojFG-K"
      },
      "source": [
        " vocabulary = [\"ameliorate\", \"castigate\", \"defenestrate\"]"
      ],
      "execution_count": null,
      "outputs": []
    },
    {
      "cell_type": "code",
      "metadata": {
        "id": "jCzZw9AcFKS5"
      },
      "source": [
        " numbers = [17, 123]"
      ],
      "execution_count": null,
      "outputs": []
    },
    {
      "cell_type": "code",
      "metadata": {
        "id": "eCwIy6PTFOyR"
      },
      "source": [
        "empty = []"
      ],
      "execution_count": null,
      "outputs": []
    },
    {
      "cell_type": "code",
      "metadata": {
        "id": "CpRH8b-FFUye"
      },
      "source": [
        "print(vocabulary, numbers, empty)"
      ],
      "execution_count": null,
      "outputs": []
    },
    {
      "cell_type": "code",
      "metadata": {
        "id": "-LVyjZFkFoaU"
      },
      "source": [
        "all = [vocabulary, numbers, empty]"
      ],
      "execution_count": null,
      "outputs": []
    },
    {
      "cell_type": "code",
      "metadata": {
        "id": "X-R6aPovFxUt"
      },
      "source": [
        "type(all)"
      ],
      "execution_count": null,
      "outputs": []
    },
    {
      "cell_type": "code",
      "metadata": {
        "id": "TbSo8E1eFpuG"
      },
      "source": [
        "print(all)"
      ],
      "execution_count": null,
      "outputs": []
    },
    {
      "cell_type": "markdown",
      "source": [
        "\n",
        "\n",
        "---\n",
        "\n"
      ],
      "metadata": {
        "id": "IiuO46u36ouZ"
      }
    },
    {
      "cell_type": "markdown",
      "metadata": {
        "id": "qzJ3pI_o_Ik_"
      },
      "source": [
        "### Accessing List Elements"
      ]
    },
    {
      "cell_type": "markdown",
      "metadata": {
        "id": "B3ctbiUd_W_E"
      },
      "source": [
        "The syntax for accessing the elements of a list is the same as the syntax for accessing the characters of a string—the bracket operator ( [] – not to be confused with an empty list). The expression inside the brackets specifies the index. \n",
        "\n",
        "Remember that the indices start at 0\n"
      ]
    },
    {
      "cell_type": "code",
      "metadata": {
        "id": "2PKnErJ1GR0n"
      },
      "source": [
        "print(numbers[0])\n",
        "\n",
        "print(numbers[9-8])\n"
      ],
      "execution_count": null,
      "outputs": []
    },
    {
      "cell_type": "markdown",
      "metadata": {
        "id": "GWWQneAe_f50"
      },
      "source": [
        "We can use negative index values to count backwards from the end of a list"
      ]
    },
    {
      "cell_type": "code",
      "metadata": {
        "id": "tgDJd_RlGrq7"
      },
      "source": [
        "print(numbers[-1])\n",
        "print(numbers[-2])"
      ],
      "execution_count": null,
      "outputs": []
    },
    {
      "cell_type": "markdown",
      "metadata": {
        "id": "bRci43ST_pN_"
      },
      "source": [
        "We must use integers or expressions which evaluate to integers as the index number value for an element in a list."
      ]
    },
    {
      "cell_type": "code",
      "metadata": {
        "id": "MpkzPZGA_yPC"
      },
      "source": [
        "numbers[1.0]"
      ],
      "execution_count": null,
      "outputs": []
    },
    {
      "cell_type": "markdown",
      "metadata": {
        "id": "vNbI5NfiAO7v"
      },
      "source": [
        "If you use an index number for a non-existent element, you will get a syntax error"
      ]
    },
    {
      "cell_type": "code",
      "metadata": {
        "id": "IDKskWl-AW_4"
      },
      "source": [
        "numbers[2]"
      ],
      "execution_count": null,
      "outputs": []
    },
    {
      "cell_type": "markdown",
      "metadata": {
        "id": "G_z5NX1x_o-Z"
      },
      "source": [
        "It is common to use a loop variable as a list index"
      ]
    },
    {
      "cell_type": "code",
      "metadata": {
        "id": "9WF0IksMHNAD"
      },
      "source": [
        "horsemen = [\"war\", \"famine\", \"pestilence\", \"death\"]\n",
        "print(horsemen)"
      ],
      "execution_count": null,
      "outputs": []
    },
    {
      "cell_type": "code",
      "metadata": {
        "id": "xgtGkrnXHXdA"
      },
      "source": [
        "i = 0\n",
        "while i < 4 :\n",
        "    print(horsemen[i])\n",
        "    i += 1"
      ],
      "execution_count": null,
      "outputs": []
    },
    {
      "cell_type": "markdown",
      "metadata": {
        "id": "uISRRuvmAwZG"
      },
      "source": [
        "The len() function could be used to avoid having to hard-code the length of a list in a script"
      ]
    },
    {
      "cell_type": "code",
      "metadata": {
        "id": "NI_gPRK4IgmC"
      },
      "source": [
        "len(horsemen)"
      ],
      "execution_count": null,
      "outputs": []
    },
    {
      "cell_type": "code",
      "metadata": {
        "id": "UtqihRLyI8An"
      },
      "source": [
        "i = 0\n",
        "num = len(horsemen)\n",
        "while i < num :\n",
        "    print(horsemen[i])\n",
        "    i += 1"
      ],
      "execution_count": null,
      "outputs": []
    },
    {
      "cell_type": "markdown",
      "metadata": {
        "id": "oSJ5rvKkE2Vz"
      },
      "source": [
        "Although a list can contain another list, the nested list still counts as a single element. \n",
        "\n",
        "The length of this list is 4:\n",
        "\n",
        "`['spam!', 1, ['Brie', 'Roquefort', 'Pol le Veq'], [1, 2, 3]]`\n",
        "\n",
        "\n"
      ]
    },
    {
      "cell_type": "code",
      "metadata": {
        "id": "K7BOb3t5E58e"
      },
      "source": [
        "len(['spam!', 1, ['Brie', 'Roquefort', 'Pol le Veq'], [1, 2, 3]])"
      ],
      "execution_count": null,
      "outputs": []
    },
    {
      "cell_type": "markdown",
      "source": [
        "\n",
        "\n",
        "---\n",
        "\n"
      ],
      "metadata": {
        "id": "zq7F8Ncy6rs2"
      }
    },
    {
      "cell_type": "markdown",
      "metadata": {
        "id": "gXpSLtf6FEZu"
      },
      "source": [
        "### List Membership"
      ]
    },
    {
      "cell_type": "markdown",
      "metadata": {
        "id": "T-b2K9K4KQeP"
      },
      "source": [
        "There are a number of statements and functions which work with the elements/members of a list.  The **in** statement tests to see if a value is an element of a list and evaluates to **True** if the value is in the list, otherwise **in** evaluates to **False**."
      ]
    },
    {
      "cell_type": "markdown",
      "metadata": {
        "id": "Be-NKoZKA2cW"
      },
      "source": [
        "horsemen = [\"war\", \"famine\", \"pestilence\", \"death\"]"
      ]
    },
    {
      "cell_type": "code",
      "metadata": {
        "id": "zPLTb7JxN5Db"
      },
      "source": [
        "horsemen = [\"war\", \"famine\", \"pestilence\", \"death\"]"
      ],
      "execution_count": null,
      "outputs": []
    },
    {
      "cell_type": "code",
      "metadata": {
        "id": "Z5hyBb4SNoFS"
      },
      "source": [
        " 'pestilence' in horsemen"
      ],
      "execution_count": null,
      "outputs": []
    },
    {
      "cell_type": "code",
      "metadata": {
        "id": "TNWMOTZMNvGC"
      },
      "source": [
        " 'debauchery' in horsemen"
      ],
      "execution_count": null,
      "outputs": []
    },
    {
      "cell_type": "code",
      "metadata": {
        "id": "dMcTy72lOD9E"
      },
      "source": [
        "'debauchery' not in horsemen"
      ],
      "execution_count": null,
      "outputs": []
    },
    {
      "cell_type": "markdown",
      "source": [
        "\n",
        "\n",
        "---\n",
        "\n"
      ],
      "metadata": {
        "id": "wpYTdlKl6wH9"
      }
    },
    {
      "cell_type": "markdown",
      "metadata": {
        "id": "2HpUz6qrBcBE"
      },
      "source": [
        "### List Operations"
      ]
    },
    {
      "cell_type": "markdown",
      "metadata": {
        "id": "q06YpVE1FWdB"
      },
      "source": [
        "The + operator concatenates lists:\n"
      ]
    },
    {
      "cell_type": "code",
      "metadata": {
        "id": "g-Tu0cJpFksp"
      },
      "source": [
        "a = [1, 2, 3]\n",
        "b = [4, 5, 6]\n",
        "c = a + b\n",
        "\n",
        "print(c)"
      ],
      "execution_count": null,
      "outputs": []
    },
    {
      "cell_type": "markdown",
      "metadata": {
        "id": "qA51VCKqF1f2"
      },
      "source": [
        "Similarly, the * operator repeats a list a given number of times:"
      ]
    },
    {
      "cell_type": "code",
      "metadata": {
        "id": "8A1FhPsPF2sQ"
      },
      "source": [
        "print([0] * 4)\n",
        "\n",
        "print([1, 2, 3] * 3)\n"
      ],
      "execution_count": null,
      "outputs": []
    },
    {
      "cell_type": "markdown",
      "metadata": {
        "id": "ckQpA0x7GCQa"
      },
      "source": [
        "The first example repeats [0] four times. \n",
        "\n",
        "The second example repeats the list [1, 2, 3] three times."
      ]
    },
    {
      "cell_type": "markdown",
      "source": [
        "\n",
        "\n",
        "---\n",
        "\n"
      ],
      "metadata": {
        "id": "SJEdNk7j6yE8"
      }
    },
    {
      "cell_type": "markdown",
      "metadata": {
        "id": "cFQWkHB5FO1N"
      },
      "source": [
        "### Slice Operations on Lists"
      ]
    },
    {
      "cell_type": "markdown",
      "metadata": {
        "id": "DjTMkroTGXzm"
      },
      "source": [
        "The slice operations we saw with strings also work on lists:"
      ]
    },
    {
      "cell_type": "code",
      "metadata": {
        "id": "0w-aZzzcPxjC"
      },
      "source": [
        " a_list = ['a', 'b', 'c', 'd', 'e', 'f']"
      ],
      "execution_count": null,
      "outputs": []
    },
    {
      "cell_type": "code",
      "metadata": {
        "id": "r8clZ_PiPyRz"
      },
      "source": [
        "print(a_list[1:3])"
      ],
      "execution_count": null,
      "outputs": []
    },
    {
      "cell_type": "code",
      "metadata": {
        "id": "h-Za-1o-QNys"
      },
      "source": [
        " a_list[:4]"
      ],
      "execution_count": null,
      "outputs": []
    },
    {
      "cell_type": "code",
      "metadata": {
        "id": "xKuVZpqlQROq"
      },
      "source": [
        "a_list[3:]"
      ],
      "execution_count": null,
      "outputs": []
    },
    {
      "cell_type": "code",
      "metadata": {
        "id": "RI45c76sQVed"
      },
      "source": [
        " a_list[:]"
      ],
      "execution_count": null,
      "outputs": []
    },
    {
      "cell_type": "markdown",
      "metadata": {
        "id": "AK-tggFUQnVv"
      },
      "source": [
        "\n",
        "\n",
        "---\n",
        "\n"
      ]
    },
    {
      "cell_type": "markdown",
      "metadata": {
        "id": "_CmGjooTGZdR"
      },
      "source": [
        "### Range Function"
      ]
    },
    {
      "cell_type": "markdown",
      "metadata": {
        "id": "5u7sMDmNGwSY"
      },
      "source": [
        "Lists that contain consecutive integers are common, so Python provides a simple way to create them: \n",
        "\n",
        "*   The range function takes two arguments and returns a list that contains all the integers from the first to before the second.  \n",
        "*   The range includes the first argument, but the range does not include the second argument.\n",
        "*   Indexing for the range begins with index #0 and continues until the range is complete.\n"
      ]
    },
    {
      "cell_type": "markdown",
      "metadata": {
        "id": "c_RJSa4oG7wm"
      },
      "source": [
        "`r = range(1,5)`\n",
        "\n",
        "![PPT-single-slide_for-colab.png](data:image/png;base64,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)"
      ]
    },
    {
      "cell_type": "markdown",
      "source": [
        "\n",
        "\n",
        "---\n",
        "\n"
      ],
      "metadata": {
        "id": "KCJrVZw-61xD"
      }
    },
    {
      "cell_type": "code",
      "metadata": {
        "id": "2pbEmWzwQoA7"
      },
      "source": [
        " r = range(1,5)"
      ],
      "execution_count": null,
      "outputs": []
    },
    {
      "cell_type": "code",
      "metadata": {
        "id": "j16n3JIHQ30Z"
      },
      "source": [
        "print(r)"
      ],
      "execution_count": null,
      "outputs": []
    },
    {
      "cell_type": "code",
      "metadata": {
        "id": "Dx8-GB6cRHyq"
      },
      "source": [
        "print(r[2])"
      ],
      "execution_count": null,
      "outputs": []
    },
    {
      "cell_type": "code",
      "metadata": {
        "id": "gfDqEpZhRQds"
      },
      "source": [
        "print(r[:])"
      ],
      "execution_count": null,
      "outputs": []
    },
    {
      "cell_type": "markdown",
      "metadata": {
        "id": "HkxVBkg9Hbwl"
      },
      "source": [
        "If the **range()** function is given only one argument (parameter) then it assumes that value is the 'up to but not including' end of a series of integers beginning with the value 1 (one)."
      ]
    },
    {
      "cell_type": "code",
      "metadata": {
        "id": "5Twrm-X0R7BH"
      },
      "source": [
        "r = range(10)"
      ],
      "execution_count": null,
      "outputs": []
    },
    {
      "cell_type": "code",
      "metadata": {
        "id": "3GgsfSd5R9E1"
      },
      "source": [
        "print(r)"
      ],
      "execution_count": null,
      "outputs": []
    },
    {
      "cell_type": "markdown",
      "metadata": {
        "id": "zKWVEIHsI8fo"
      },
      "source": [
        "![PPT-single-slide_for-colab.png](data:image/png;base64,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)"
      ]
    },
    {
      "cell_type": "code",
      "metadata": {
        "id": "CTy_iJmdSRzn"
      },
      "source": [
        "print(r[0])\n",
        "print(r[1])\n",
        "print(r[4])\n",
        "print(r[9])\n"
      ],
      "execution_count": null,
      "outputs": []
    },
    {
      "cell_type": "markdown",
      "metadata": {
        "id": "qSlBZyulHtDg"
      },
      "source": [
        "When the range() function is given three arguments (parameters) then each of those are interpreted in the order presented as \n",
        "\n",
        "*   the starting value of the series\n",
        "*   the 'up to, but not including' end of the series\n",
        "*   the step, or amount to increase for each new element in the series\n",
        "\n",
        "\n",
        "*note: all three arguments must be integers and must describe a possible series of values -*\n",
        "\n",
        "*- we will discuss examples which break this rule soon*"
      ]
    },
    {
      "cell_type": "markdown",
      "metadata": {
        "id": "gKR5SaGmJ8ew"
      },
      "source": [
        "If there is a third argument, it specifies the space between successive values, which is called the step size. \n",
        "\n",
        "This example counts from 1 to 10 by steps of 2:\n"
      ]
    },
    {
      "cell_type": "code",
      "metadata": {
        "id": "hWSmKfqbTWcx"
      },
      "source": [
        "r = range(1, 10, 2)"
      ],
      "execution_count": null,
      "outputs": []
    },
    {
      "cell_type": "code",
      "metadata": {
        "id": "TAHNG7ckTg0O"
      },
      "source": [
        "print(r)"
      ],
      "execution_count": null,
      "outputs": []
    },
    {
      "cell_type": "markdown",
      "metadata": {
        "id": "D3nnhYTxJdLY"
      },
      "source": [
        "![PPT-single-slide_for-colab.png](data:image/png;base64,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)"
      ]
    },
    {
      "cell_type": "code",
      "metadata": {
        "id": "fDyrJHfKTZ5G"
      },
      "source": [
        "print(r[0])\n",
        "print(r[1])\n",
        "print(r[2])\n",
        "print(r[3])\n",
        "print(r[4])"
      ],
      "execution_count": null,
      "outputs": []
    },
    {
      "cell_type": "markdown",
      "metadata": {
        "id": "ZBw_RPR9KDcW"
      },
      "source": [
        "If the step size is negative, then start value must be greater than stop value."
      ]
    },
    {
      "cell_type": "code",
      "metadata": {
        "id": "AVzasfkzUbfl"
      },
      "source": [
        " r = range(20, 4, -5)"
      ],
      "execution_count": null,
      "outputs": []
    },
    {
      "cell_type": "code",
      "metadata": {
        "id": "H0qsHyPgUugv"
      },
      "source": [
        "print(r)"
      ],
      "execution_count": null,
      "outputs": []
    },
    {
      "cell_type": "markdown",
      "metadata": {
        "id": "P7F7EnUkJnVJ"
      },
      "source": [
        "![PPT-single-slide_for-colab.png](data:image/png;base64,iVBORw0KGgoAAAANSUhEUgAAAqAAAAEgCAIAAADkBlbXAAAAAXNSR0IArs4c6QAAAARnQU1BAACxjwv8YQUAAAAJcEhZcwAADsMAAA7DAcdvqGQAACZ6SURBVHhe7d3vs1XVnedx/oB54h/Qj/IP5EGeTvX8qrJmKlWdnp5ppnuqLacxiRgkgiIKgmASo9xuEwUBNRiDKCIIRiTGXwlCCBqjEZLYdiNJ14xmpjGpGIek7HSmmA/nu1iuu/Y+Z/+4d++zz1rvV62izj7n7Av3e/Zen7XW2eew5AIAAEgOAQ8AQIIIeAAAEkTAAwCQIAIeAIAEEfAAACSIgAcAIEEEPAAACSLgAQBIEAEPAECCCHgAABJEwAMAkCACHgCABBHwAAAkiIAHACBBBDwAAAki4AEASBABDwBAggh4AAASRMADAJAgAh4AgAQR8AAAJIiABwAgQQQ8AAAJIuABAEgQAQ8AQIIIeAAAEkTAAwCQIAIeAIAEEfAAACSIgAcAIEEEPAAACSLgAQBIEAEPAECCCHgAABJEwAMAkCACHgCABBHwAAAkiIAHACBBBDwAAAki4AEASBABDwBAggh4AAASRMADAJAgAh4AgAQR8AAAJIiABwAgQQQ8AAAJIuABAEgQAQ8AQIIIeAAAEkTAAwCQIAIeAIAEEfAAACSIgAcAIEEEPAAACSLgAQBIEAEPAECCCHgAABJEwAMAkCACHgCABBHwAAAkiIAHACBBBDwAAAki4AEASBABDwBAggh4AAASRMADAJAgAh4AgAQR8AAAJIiABwAgQQQ8AAAJIuABAEgQAQ8AQIIIeAAAEkTAAwCQIAIeAIAEEfAAACSIgAcAIEEEPAAACSLgAQBIEAEPAECCCHgAABJEwAMAkCACHgCABBHwAAAkiIAHACBBBDwAAAki4AEASBABDwBAggh4AAASRMA3s+L2p5eueTzz9icrH3nrZ+dcRarceNdz0e4ZNlXs1R//L1eRKpu2vxjtnmebe+i4q0iV7fteifbNs62/5wVXkfF0HF53x1O0LQ8edRVJGgHfzJ+t3vcfVn8v8/bvlh+qH1fqd6LdM2z/+urD3/zOT11Fqlyx/kC0e57tT697xFWkigaR/3bli9HuGTb1Tq4i433nlbfrH4oJU8a7W0kj4Jsh4NUI+KaNgG/RCPimjYCvj4BHCQJejYBv2gj4Fo2Ab9oI+PoI+GH54PyHam/97JwOUKWL2rv/9Bv3WI8IeDUCvmkj4Fs0Ar5pI+DrI+CnT4muw3HD1mfV7LIItT2HX9cBuuOxk7qt+5dt2K+HdOei5P2n9/39kuuOlrZdL/9vPYGAVyPgmzYCvkUj4Js2Ar6+KOCPnX0/6vB9++Otb7gnzaCBBrzyY9nGi8mtY/Gtn1dfsK2jVnlvz3d3tRK9tGFT9usJBLwaAd+0EfAtGgHftBHw9UUBr/lb1OGH7eDp99zzZs3gAv5itG/Yrxm5pu/uria0o3bfue+k224oel3DtvrJt/UEAl6NgG/aCPgWjYBv2gj4+hoFvC3fzqIBBbwSfcPWZ1tHe0hH8LKN++t/VtsLX9RPPvBjzdp9e/u93+kJBLwaAd+0EfAtGgHftBHw9UUBL5rChR1+mAUE/EIpMFTxOqvxNWmUoB+o4YLbrqfyRSXg1Qj4po2Ab9EI+KaNgK+vGPCRyiyYCYMIeMXwlgePLnziXmTX4rmNGipfVAJejYBv2gj4Fo2Ab9oI+PoI+J4o3RXDbqMDNnpwG1UqX1QCXo2Ab9oI+BaNgG/aCPj6CPg+6GhTuncxdw8p42uu1Ve+qAS8GgHftBHwLRoB37QR8PUR8J1Tri/bsL/rdDd6Oetcc1f5ohLwagR800bAt2gEfNNGwNdHwHdu576XX/1J3ZxYIA0j/vz6PW5jvMoXlYBXI+CbNgK+RSPgmzYCvj4Cvls6zhpd/rZwdY7syheVgFcj4Js2Ar5FI+CbNgK+PgK+W6pv/18mXzmJr3xRewv4//6FV7//k1+de/+f7e/VjYef+5/hE764+62zvzhvj/7m/L/oyeGjnbbBBvyTx3/xzujrCiSqicpl94dUQP+ETtuQA37VttNv/uMH9lffe+hs+JAOQj304T//Pz2kP3Vb94RP6LTNRMBbcUK6J3pOb42Ar4+A79AHo++0cRs92vLg0cmjisoXtbeA9+Ed8hmvuCr2LK//w6/97p22YQb8Cz8sucbC10TR5e4KEPCqj/tbR8KAV5b78aWne/wTum4zEfDuXxAg4GcCAd8hHWE6ztxGjyoHFpUvap8BrwmoOlk1H/aantqjNk/VJFXTr/AJ2vQ/obs2zIBXuTTFtArotvvrL1ywR33A22bPbbABr79ORXvy+C/srw4D3tfQ7vSberJ/TqdthgI+rNsUGwFfHwHfIaXsVP6zV1m2cb+7VabyRe0t4MPmw8kCXhlmm76r9U/op/Odiffg3V9PwNdovjhhUGn4qHsU//4ee054T6eNgG/aCPj6CPgOVRa3xNKlF5Ysce3AgQtf+Yq7/dpr7gn1LNsw8wFf2h3bPZpm+Xu6awR80zaLAW/3hEeUrRv5ZaSuGwHftBHw9RHwHZo8jR7LZ7xuqP3RH128raRvYlaW6MOmOZP97S/88Jw2o7VTa3YPAW/Nrzn7d9l9hpmeLxmbuYD39xDwk5v7F1yi4+2Lu9+KntNbI+DrI+A71PIKuzDgxSbxDWfw+qsnfLVO5Yvaf8D7y79/c/5fLJAI+MlNVbLlZfG9bRTwprdLxgj4Fm12L7Lr51KYYiPg6yPgO7TQGfyBA+6e5ia/rpUvas8Br6yyq+X1p88qAn5ysxyScVckqJL++vB+rlog4Fu0mQh43xTqfqWtt8sUokbA10fAd6iyuOUyC3ilu8+h8EPwum13EvDF5jvZyR8aLA2w7trMBbyOPbuHgG/U7N/TW4miRsDXR8B3qPLz6OUWI+Bn6D14608lmmX6RXt/v78n+jKcjtpgA15pZH9p5RTKR5pd1tB1m8WL7GzpKKyk3dPb1y3MbsD7Kz96bgR8fQR8h3SQ1fzv3eZZcMC/9fNzO/e97DbKVL6ovQW8n4mWriHbe8ya32umpWafg1f/Gz2tozbMgFeh7G8sTXeVSFmuWul2uETfz9ulsxjwdgT694b84Mk2e2jDD3jVRMMdO4TCJfp+3vcpNgK+PgK+W21W6Rcc8DseOzn5/5SrfFF7C3j39xVYF+xX6UO9dSvDDHi/4BGxRebSR/uZvqsNNuDdXzmfTUCVWDZlD5UOnjpqMxHw7l8QmNb0XY2Ar4+A71bjVXqf7tYafjpOPjj/4cJf1N4Cvti3Gj/HUsb7aahu9LM4b22YAW/LGEUW8Jq7K5z81fV6cp8Vm8WAV9Nk3VdVpbNK9tZmYoleNQlPw96GjKWNgK+PgO+W0r3NJH4B9hx+vfJ9gcoXtbeAH3Ib8kV2w2wDX6IfZpvF9+Cn2wj4+gj4zmkSr6PNbXRM44k6H76vfFEJeDUCvmkj4Fs0Ar5pI+DrI+D78OerK/7/1sWil3Pyu++m8kUl4NUI+KaNgG/RCPimjYCvj4Dvg3Ji8pfDLwrN3Wse05UvKgGvRsA3bQR8i0bAN20EfH0EfE+6zvgdj52sf0BXvqgEvBoB37QR8C0aAd+0EfD1EfD9sYyf8BXx7egHbnnwaKMP3Fe+qAS8GgHftBHwLRoB37QR8PUR8L1662fnlm3cr4PPbS/YWz8/p0FD0x9Y+aIS8GoEfNNGwLdoBHzTRsDXR8BPgSbcLb/FNmATd71+LZYEKl9UAl6NgG/aCPgWjYBv2gj4+gj46dBUfsPWZ9vFvHaxaK8fP5HKF3WxAv7yG1/4k82P/Ocv7orun4k2lYBXxf5y7qFVu794xd1fjR4afptiwFvd/tPNT0f3D79NMeBVtKV/87czVzQCvj4Cfpos5vUaKLBf/cmkLNE0XU/Y8djJZRv26/l1Pgs3QeWLusCA9yn1hcM3zT2/+saDfxk9YSZanwH/yQ1PXLntjhv3r7jrhVt2nbhz23dvX7X3mug5w2/9B7zqppGQ6nbHs6vufWnj1Q/eHD1h+K3/gNeY+3Nfm1t38Fqdm3e9eP3MDSUJ+PoI+EFQkOw5/PqyjfvV9JKo2fze4t/azn0vK9cX5Rq9yhe1XcCHva2l1G3f3HztN9Zddf/aWZxadR3wtryx6ht/qyrdd+yOR17Z9qVnVql6Vz/02WsfXr324LKZK1o/Ae/rduuTa61uOt6sbp/Z9fnoycNv/QS8ivbfvvyYxtw62O757oZvvDy36enP3LDvc6oYAV/H737/f8+8d+rQqR3PvPmwu2sWKDjcrTEqs2AmDD3gi979p9+oLUqcF1W+qPUDfkJvq5S65cmVXz+x9diZZ67afne04/BbRwEfLW+ot731qc+vfGT58oeuW/XI9Srjo688+M77Z0+/e2LmitZpwEd103xdddMxplm7r9t937t15kZFnQa8iqb8vuGxG257+rq7v3uDDjadkhpzf/aBzSqaKnngtYf0ULTXwFufAa9cP3rm0K6Tm7a9tEZNN2575gr32Cwg4HNU+aJWBnyd3lYppR+lM+T0O69ff+Avop8w/La4AW+L8OsOXusX4S8ubzy8+qr7117/+F9/+VvrnnvzwK9++3/0o1Qx3Z57dr164eiHDLx1EfD+zYt5y0Lz6+aPNE1MZ24+2kXAh4vwKpoOOZ2SKprm67pTNdSYW+XSz1TpdPL+1zvujX7CkFsPAa/JumbqFuqP/vBvlOu+zb1wjZ2nM4GAz1Hlizo54D+98846va2llM3mNT2duanV4gb8mr0bNL8MF+FteUOjH+tq1adoVGSzeRsnrd7/FxpIRT9nyG3RA15Tz+KbF5PrptFA9EMG3hY34HXArD24LFqEX7XnFp2nKprOTRVNTUV76MTXLqb+aDb/V1s3Rj9nyK2jgLeyHDq1w4Jcua4st1m7bqvpIRXw9LsnNKd3+wweAZ+jyhf1kyv2/PvrXhrXlt7+6JoDf32xt9296pZD1379xD3ze9tdtz61cuWe5VfvumnVI6tHs/ldGg7/1Vfvin7OwFvTgI92j9qffuGBsCB+GKTS3f/SVy92tbtXXXXfjdc//j+2PLveZvOaZv2XL2+Nfs6QW9OAj3YvthUP3qYDafTmRXndbvvmpqhu+vM/3vRU9HOG3BoF/L9Z8Vy0e7Gt3Hvliodu/sz9m1S0Lxy+af9rX/dF+8HPj6totxy80ap68xMr7jv2ZR1mNx+6KvohQ241A37P4dc/OP9hZTv3/q+e++n++79369ajN2x9ac3Xvr/pnqM37H55y+Ov3as7Hzix6ZmfPvzRUffuiSfe2KH7ox8y2EbA56jyRZ176PiK258e16698+BNB658/NWv+eP+J++89vXvfeVLh9esfeza63ev1qN3PX/z82/u92tZes6mQ6ujnzP8Vv/TCrsOvhrtGzUVbcuz1/lFeBVHJdpwcPmqR5apaCrdwyfvVhn1kP1A0e1b9q2Nfs7AW/0h0b5vn472LbaVW++5/VsrVSt/pEV12/zUiqhux898a+W9c9HPGXLTuWb/8koaPEX7lraV9228+zvrVQeriUp3+PQ3VMabHv/sjXtu0BG15citdvL6oj3++vZr5x6Nfs5g26btL9o/ewL7gFKd9qUn1+08vnHrd9ffcWTN+v2fX7t3xeanPnf/sdvDAj7/d/vveObz65/47PrH1mx+4qYNB69ev31/9HOG2bY8eNQKMk5lFswEAn6ehb+ou05u1tF/9MzBXSc3bTu2Rk336M9Dp3ZqEu87jpCe6W7lau7Fa9wbe8cuvrE3em9vs+6x9Co198JydytLOpB02OiICuumok2o22iXzW4jS5plqjhWNJVitLa8c3SGbhpXNN2pc9ltZObMuVN2MqpZfXQIqYUFVAsLOFqlT6RcC8+CISDg51n4i6pDvE5vG3rlH59TcxtZ0q+viinm1VPodukwKKLCqgNyG1myA8zXTR1r5SVOGgq4W7lSxUaBdPFPla7OwabyuluZUWU0jLbuS7dPv/v90dvwkwqo23rIbcy4hWfBEBDw8yz8RbWzok5v62kXnSpuI0tWgbCnqKQnf/vNPW4jSzrGVLRxy0KlGBXpmNGs3Saj7q4qKnL9czkxSmsdM+HSmppNWsYVUGNNd2vGLTwLhoCAnyd8UT/5wI8/ve/vfXv7vd+5J1VpMeTPdpbgtVhyz7xo6mE1o3Ib9WgXddBuI0st1pBTWnZuSr975bsYEc3p1dzGTAl7e7UwCwj4RIQvatRWP1n3P6bTKdF0yK+eOttZgmlVtMa7JIZRUVMa4jSdYo52yfTaBf3umr7rT7ddw4wOIhXhUYcfNgI+EdHrGjaN6dyTqpw5d6rpkF9D42xnCYapVQsMJVtokdbJLDu3kMl6JAGfhWhlJmyNXmOmVk0xtWqBUVEL+vVVBLdRz+wuOy9cJoPIY2ff/1drj0d9vrU/3vqGe9IMIuA78WjzC3Na7JIYdSWNFgNFRWu6S0raLYdmPipqUbR2dU5DixHhmfcaL2GiIwR8JyacFUeOHFm3bt0bb8SjQqZW4+ZJv/zlL/fu3bt8ecmiSM5TKzNuiDOhaNol86HkuNWys2fP7ty5884773TbgZwX2Fp8ujLz9cjhIOA7oT43XHBWx6HedunSpUuWLPnEJz7xsY99TPe4xy4Z7cLU6qN5ksZA6m1VLiva5Zdf7h4I5Dy1MtEQp07RGBVFy87Hjx/XmFtn5WWXXaY/SwM+52sXWowIGUQOBAHfFUtr9R3qZ33HoXmV7lQvrDtHz5on52t5jA38FVEql6huR44csYd0p3phux1qcblDSvxQsn7RGEr61bLly5erXDoZVTe/qKaBuC+gl/OyM+uRs4uA74omSTrKdegr47WpHsTuN+pTipN4plY2tVLFVDfVJ5yAamwU1dDw5S02KmpUNL7SzsaFyidbXQtn7bqz9K2NbJed/SDSWMVYj5wJBHxXotVjnQk2ztXJYOuBdn8o2iVDqoAC225bOPk1D+VWaberXTL/Srtvj75f3W7XLBqjonANWYmuuPK3VUAFmG2Gcl52Zj1yRhHwHQqH/DoNdGJozCvqc4tjXsPFKeGSu/pZq5hK5zuUosyLpiFO+JV2dYrGUDJaQ9YpaUUbl+6S87KzfnHWI2cRAd+hcR8h1cmg86S05+V7SMYVzXcuReN2yce4CxFs3d5tzMeoaNwUc1zRRrtkuuwcjQhZj5wVBHyHil9pp7Pi8ssv19TK/iz2I3yEtDhPslVTUbcixYFRzlMrUxziaO6uA0zlUt1KV+kZShbTurJoOS87sx45iwj4bkVTK3UcO3futNs6SbRpt0NMraIretSV+Lm7qlfseXOeWploiLN3716llO92ly5dWlx2ZlSkX19FcBv1ipbzsnOrpbXcB5FTR8B3K7owRz2IuzUSXvDs5Xwtj1FXosy22+o7og96jSua3yVD0XKoZqJHgg96qYa6x20EMh8VtShatEtWWiytsR45dQR8t6KzIjwN1INobmq3Q0ytwnmSZlRhoqvP9Rc8h3KeWplwiKOppw8nHW+qmF83CmmXzIeS4WpZzaLlvMAWfrqyztKasEo/XQR8t9TnhgvONuZVYinpw9MjNNqFqdVH8yTN4FUuFc3mCn4RNZTz1MpEQxyrmOgwKx0SCaOiaNm5TtH4Sju7rb6r5tJa5oPI6SLgOxeltfJJo12L9jfeeKO4riV8hDQa+KtQKpr+1O3SUZHwlXbRYaPRpGalNh5iKFmqdNnZiqYT0463CF9pZ7dVojDRxy2tsR45XQR85zRJ0lHuNkYnhoW6fbxErAsOMbWKpla+q9Ucy9hmiC9vKY6K7IYrWVnR+Eq7aFxoRdMpqUm8KhZNUk22y87RILLm0lrmg8jpIuA7F60ea6hr0ymdEkp6zRj8O39etEuGVAH/lXZicwWVy1JKPUtxSqpd+Eo7/5V2UqdojIqiNWQrms5Ki3YrXSTnZecorTUe8ktr+tOmLhHWI6eIgO9DOORXnKv70I0lSy4WX30u1/KUCqdW6nbVd6hW1v+qhn56Gsq8aBrihF9pV6doDCWjNWRLdNVKdINl54h+cdYjZwgB34dwwVkngK1oFfuO8NzgI6Rh0TQksu4jGgypc7H+xUQL+xkKR0U1i8aoqLjsfFnhS6jCc3O0S6bLztGIUMMgWxZS0XRQsR45NAR8H6KvtFNnobPCd7K6LeqFbaZl+AhpNE9Sh6sq2W3rSlRGDZLCDiXnqZUpXrtQWTSGklFaq2I+3VUu+7qb6DMvOS87sx45Qwj4nkTX8qi3Vcehrtau5Qn7Do+pVdSNqre1YZB6E5VOm+6BS3KeWpniEKeyaIyK9OuHy86igPdT+dKPd+e87FxnPVL9m7gNBpHTQ8D3JLwwR92H9bb+U0w2Co7kfC2PUVeizLbbSinrbVUr6zvGFc3vkqFoObRm0TIfFUVF04mp0PLXJKpuxfF3tEtWohGhejDVx44u/akDTPeohuEqEeuR00LA92TCPElnhQ2Bo7kCU6sJ8yR1IoouFS1aEsx5amUmDHHGFU27ZD6UnLBaplG4Tk/x6/Ym5wW26NOVOq4mrxLJtmO5fyBzKgj4nqjPjRaclev+rLCAj06M0S5MrebNk1Qiv3aqaZZmCTZ18HKeWpniEKeyaIyKipdnalaqAbfKJapbceWDr7Sz2zVXiRhETgUB358wrXUmhGeFumD1v+6xAB8hDedJ6nNVNL92qqmVbttDIb7SLjxs6hSNoWS0WqYxkHJd0WWzdjtP7SGPr7RzG/OpN7PpCuuRQ0DA90eTJB3ldruY6NrUnepQrCM2TK3CqVUUTupK1Avrhjpflc7uFL68JRwV1SwaX2kXjgujRNdti6vorY1sV+mjQaTouGI9coAI+P5Eq8fqeXVW2G31IDo3dI+EF6dEu2RIFQi/0s73sCqdaqWsUj+iAAu7Y+3CV9qFX2lXp2iMisI1ZNXHF0e3VUAbFekkDXMr52Vn1iNnAgHfq3DIrzNBHYeGuhrzquPQ7bDv8HK+lseEUyuVSAMgdR/qUFQ6xZXK6B4LZF40DXHCr7SrUzSGktEa8vHR/5amXJfSJXrJedlZvzjrkcNHwPcq+gipOo5xEeXxEdKwaOpno6lnqeI1U7mJvtKuTtEYFYVTTA2JJLpyPjLaJdNl52hEGPZjOtJYjxwIAr5X0VfaGQ1ylfQ6JcKTweMjpKXzpMlFy3lqZUqHOOpwNYNX0UrDnqFkMa1tmU0VU91Kwz7nZWfWI4ePgO9bdI23LQPqfFBi6fTQpnsgwNQq6kYri5bz1MoUhzifGP3Pnsp4pbtuFzOeUZF+fb/sLIoo/9ay6qZDrhhaOS87sx45fAR836ILc9SDhKeEOhF3K5DztTxGXYky223ULlq4S26i5VCNhJTubmPUHYebXuajoqhoF9fog/WhaMHZRLtkpcXSGuuRPSPg+xadFdHFKaVZxdQqmifVKVrOUysTDnHU7YbrHOMCXrtkPpQMV8sUUeE6R2nAS84LbNGnK+usR/KVdn0i4PumPjdccNZo184HdSXqc3VWuAcCo12YWn00T6pZtGynVqY4KlK5VDRbbVYB3QMBRkXRsrOKpoqJov2ywv8ha/hKO7fBeuTwEPBTEKa1zgfFlU4MBVVpn2v4CGl0RU+dovGVduFho3DSSEhF05/hxDTEUDJaLVOhlPEKKh1v466o5yvt3AbrkcNDwE+BJkk6yt3GfOpQ1q1bV+xKmFqN++Sbwl5TUvW/bjvAl7eMWz3W3FQDo9IFZ77Sbty4cELRsl2ljwaRNZfWMh9E9omAn4Jo9VgdhyJKJ4N9y6OGvbrHPXZJtIun+5VhOSx56TcNv9JOYyB1JSqXFU29iXsgoF2KX2mnWmkCse3YmhyKFn2lnXpee5dU83j9WZpV40ZFKqbqlkPRojXkOkUbt+z8zq/fTn62ynrkkBHw0xEO+TXaVbor4+3tK0VXtNJlwl2st9WppVPl5qf+TJvugaSFUyv1s+pK/FKzepPSK3qsaKqPQkthr1xXX6wMO3RqbO+TEv3i4Vfa6TAL14dK1+q1SziU9HXTzD6TiVe0hlynaOEu/mBTGVW05L81Wb946XrkhKU11iN7Q8BPx7gFZ6OJgrsVUE+ts8KnlGZm6kpOv/t9zdLcM1I3oWhnx1wWrl1UKyWTQv2d98+qYrpTo6IcZqJmwoUI6n/HLTgroqx0vm46/DQfdc9Imn7ZCVPM0qJpF52VyjkVTfv6ounAs0MuYfoFwxFhzaW1cBejO1VA3Z/JYdYPAn461IEW1+5szKtTonQGry4jTCnRjRx6EC+aWhl7Z1RDotIZvIqjirmNkdGQKKP/iqZ0VKReWOW6rOy/OReNI1XnsG4aTWZVtNK1islF07mpuoUno2pYPFyTFC4uNlpaE8W5pih+aS2TVaLeEPBTE06tlFIKdfUdtlbv7q2i7iOrla7RgOajqZU6EeW6qEM5HvyfFpPpJ+QzJJJoVKT+V4eZDjZ1u8VLPcbJrWiqWLjs3KJoKpdCK5OitVpa22FLRPrTT1qYvi86An5qdDT7s0Jz9/oRZXRKZDjaVXfgO031Hf6d0Zpym76LyqUjzW2MpqH1c91QtBZFswm920hdi6U1dX3R0tqZ906FNceiIOCnpvSsqE89yJn8PgOmTrN1v2lDIj8+yIf6zda/dbZFC5edm7KiuY08hJ+ubL20ls+VMb0h4KfmnV+/HS44N6IzIbfRrjpNf+WXu6shDacWMqKaUarbtxcwm8y2aDrMWudNhoPvsFwsrQ0HAd8rSykdytuOrVFWhZ9RbuTQqR2Z9CCq2OnRtbWaEqnfjJb16tPPyWomakfaAuumH5LPG8mi3/TSwXbxSvh2AZ/h4FsWuB6Z20UevSHg+7Aova2XQw+i31H9hdJFZ75utOtqQ5lMqqK6LfBIU9FyeCM5vJBbv+8Ck0Y/JLcrxfT7arrS+l0Jpu/dIeA7p/5CR/9tz1yhQa67a2Ey+USyulr1uYsSMHoJWvc+M0TprsNs7oXlizIZyqRoOpVUNJ1Ti1K0M+9dfBfJbSRN5bLFSA1o9CtrKNmugHaYLUrxUUTA90T9yOhM+OhrxdrJpwcxmoZqMrrAmM9k+m5Uq7kXr1n4wCiroi3KYSb6IQtfbRoyJXH4LsYCl4hElVdzG1hsBHyvFPOalS4k5pPvQUqpC9DEtF1vonKpP3Ib2Rgl1ubWiZVt0VofZpLJUrMOqkVcWtOPYvreHQJ+CjQEbjfHyvzNKps3NB3fZPKORqnWiaVS5zN9Dyls2h1mor3yyarRCHIRltYWZaCAcQj4qWkxx8qqBynl3+mo2f/m9o5GKVWgUWJpQJB50ZoeZpLn4Hshax7qynK4yGO6CPgpszOkTszrOfn8vzKT1b+god1ULD0qwqhik/6LI4+imfqHmWVVnoNv/daqUotjJquLPKaFgB8Exfy2lyb9D+U59yDjqHe47ZkrVDq3XcDHbyJ1EutMZv+vTKXKw0z06OQnJK/pmoeepue7DXSGgB8KGwirlZ4hvFk1jsoy7pIf3tEopb7YPhjmtuejaKUmHGYMvr36ax56jp7sNtAZAn5Y/BkS9hfWg7gNlNH8SckU9r9M3ydTrYpXelK0yYqHmWjwvVhfcZGGyjUProzpDQE/RIr50afp3DmgHuTttl9qmxX1KXbJz2hIxEy0WphYFK0mf5jpNoPvcXRQjV9a29z0DXu0Q8APl6ZTcy9cc/TMId6sakTl2vbS4nxONxM6xnSkHTq1QzfcXZhIua7DTOMhFU3zUXcvCkYjyHmfFTr97gnNWNwGOkbAD536XHqQppgftKBul+l7I5rEMySqw0aQtubBKlGfCHgAQLdszWPbS2uYvveJgAcA9MGuj3Eb6B4BDwBAgrIO+B/84Afbt293GwAAJCTNgFdsHzxY/cVSMxfwZ8+evfWS559/3t2LiVQrhnGNzM3NcYzVp67GyqW6ubtQD0XrGjP4Bl3/pz71qSU9+tGPfuT+4kt0Mlifq3+5zg3lvd0vV155pdstV5s2bXK1uMSqpIoVX+VDhw653fKmQ9pV5BKVKzzG7M7Qxz/+cbdzllwVAv7o0g0rXUiHpdszV+qaXC3mU7l2795dGvC99WbFPjYxaQa8jhs703QM+fG1n9P7e/Q0f3KGsxabKFt82k+w50w34PXvCU8GH/aGgC8GvFGV/KvsEfCmGPAhfxaECPhxdEpqVOQ2LiHgSwNeZ6W6X5WLgO9U+gFvnbtltm6E8xL/qP70Z6YOOD1Zoa47i9nw6x794Q9/cH/rSHQy2D/PbVy48Nvf/tbtlqsPP/zQ1WK+0oD//e9/73bL2/nz511FClS30s73gw8+cDtnyVUh4CcM4fno6bB0e+ZKXZOrRcA64XEB32dv5v7KRKUf8MXk1qN2jx6yrt/OT8920fN1uziDmZbJAY9xSgMelQZ18M8EHWa+b8EEvn8eF/BYLAS8C/hiX2YB73efuuhk0O3h/NuGjIBvQUcXw8emONJqsq415B7AYssu4LXpjyc9aiek/vRvtBsbB+iHhJk6dfqX2+8V/haYjG63EZ0jOrQYO9akQvmuQz2G2G3UoeoNqoNNT3YBrxt6VF2YhF2/3WPC+NQThnPS2j/M+N8L44TlkmgMh1L+7DAUrZKfjzKObEpnKAHfqTQDHgCAzBHwAAAkiIAHACBBBDwAAAki4AEASBABDwBAggh4AAASRMADAJAgAh4AgAQR8AAAJIiABwAgQQQ8AAAJIuABAEgQAQ8AQIIIeAAAEkTAAwCQIAIeAIAEEfAAACSIgAcAIEEEPAAACSLgAQBIEAEPAECCCHgAABJEwAMAkCACHgCABBHwAAAkiIAHACBBBDwAAAki4AEASBABDwBAggh4AAASRMADAJAgAh4AgAQR8AAAJIiABwAgQQQ8AAAJIuABAEgQAQ8AQIIIeAAAEkTAAwCQIAIeAIAEEfAAACSIgAcAIEEEPAAACSLgAQBIEAEPAECCCHgAABJEwAMAkCACHgCABBHwAAAkiIAHACBBBDwAAAki4AEASBABDwBAggh4AAASRMADAJAgAh4AgAQR8AAAJIiABwAgQQQ8AAAJIuABAEgQAQ8AQIIIeAAAEkTAAwCQIAIeAIAEEfAAACSIgAcAIEEEPAAACSLgAQBIEAEPAECCCHgAABJEwAMAkCACHgCABBHwAAAkiIAHACBBBDwAAMm5cOH/A3zgZgw30K+lAAAAAElFTkSuQmCC)"
      ]
    },
    {
      "cell_type": "code",
      "metadata": {
        "id": "8ryELyjaUovV"
      },
      "source": [
        "print(r[0])\n",
        "print(r[1])\n",
        "print(r[2])\n",
        "print(r[3])"
      ],
      "execution_count": null,
      "outputs": []
    },
    {
      "cell_type": "code",
      "metadata": {
        "id": "eMeDIoyPUuV7"
      },
      "source": [
        "print(len(r))"
      ],
      "execution_count": null,
      "outputs": []
    },
    {
      "cell_type": "markdown",
      "metadata": {
        "id": "U4XIqv-CKVjt"
      },
      "source": [
        "If the step size is negative, then start must be greater than stop or the result will be an empty list.\n",
        "\n",
        "`r = range(10, 20, -5)`\n"
      ]
    },
    {
      "cell_type": "code",
      "metadata": {
        "id": "4fI2hXAiVRtF"
      },
      "source": [
        " r = range(10, 20, -5)"
      ],
      "execution_count": null,
      "outputs": []
    },
    {
      "cell_type": "code",
      "metadata": {
        "id": "57pCVLKOVTBI"
      },
      "source": [
        "print(r)"
      ],
      "execution_count": null,
      "outputs": []
    },
    {
      "cell_type": "markdown",
      "metadata": {
        "id": "mWvYUUVcKZga"
      },
      "source": [
        "![PPT-single-slide_for-colab.png](data:image/png;base64,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)"
      ]
    },
    {
      "cell_type": "code",
      "metadata": {
        "id": "pu6AQUKmVWxq"
      },
      "source": [
        "print(r[0])"
      ],
      "execution_count": null,
      "outputs": []
    },
    {
      "cell_type": "code",
      "metadata": {
        "id": "Rtaj8OXuVpYu"
      },
      "source": [
        "len(r)"
      ],
      "execution_count": null,
      "outputs": []
    },
    {
      "cell_type": "markdown",
      "metadata": {
        "id": "B_ncutoLLMUV"
      },
      "source": [
        "\n",
        "\n",
        "---\n",
        "\n"
      ]
    },
    {
      "cell_type": "markdown",
      "metadata": {
        "id": "x1UdnyzVLObr"
      },
      "source": [
        "### Lists Are Mutable"
      ]
    },
    {
      "cell_type": "markdown",
      "metadata": {
        "id": "655B4RbbWAW2"
      },
      "source": [
        "Unlike strings, lists are mutable, which means we can change their elements. \n",
        "Using the bracket operator on the left side of an assignment, we can update one of the elements:\n"
      ]
    },
    {
      "cell_type": "code",
      "metadata": {
        "id": "U9wjxAtMWB3B"
      },
      "source": [
        " fruit = [\"banana\", \"apple\", \"quince\"]"
      ],
      "execution_count": null,
      "outputs": []
    },
    {
      "cell_type": "code",
      "metadata": {
        "id": "14twZb43WQqy"
      },
      "source": [
        " fruit[0] = \"pear\""
      ],
      "execution_count": null,
      "outputs": []
    },
    {
      "cell_type": "code",
      "metadata": {
        "id": "1GiParKgWYW7"
      },
      "source": [
        " fruit[-1] = \"orange\""
      ],
      "execution_count": null,
      "outputs": []
    },
    {
      "cell_type": "code",
      "metadata": {
        "id": "gOdKVxDrWZoO"
      },
      "source": [
        "print(fruit)"
      ],
      "execution_count": null,
      "outputs": []
    },
    {
      "cell_type": "markdown",
      "metadata": {
        "id": "osPSh8TWQZjG"
      },
      "source": [
        "The bracket operator applied to a list can appear anywhere in an expression. When it appears on the left side of an assignment, it changes one of the elements in the list, so the first element of fruit has been changed from 'banana' to 'pear', and the last from 'quince' to 'orange'. \n",
        "\n",
        "An assignment to an element of a list is called item assignment. \n"
      ]
    },
    {
      "cell_type": "markdown",
      "metadata": {
        "id": "2WiPPzTsQ1II"
      },
      "source": [
        "Item assignment does not work for strings:"
      ]
    },
    {
      "cell_type": "code",
      "metadata": {
        "id": "12wuwOS_QlfA"
      },
      "source": [
        "my_string = 'TEST'"
      ],
      "execution_count": null,
      "outputs": []
    },
    {
      "cell_type": "code",
      "metadata": {
        "id": "PgQXgxCYQ13P"
      },
      "source": [
        "my_string[2] = 'X'  # trying to assign a new value to an element of a string"
      ],
      "execution_count": null,
      "outputs": []
    },
    {
      "cell_type": "markdown",
      "metadata": {
        "id": "RoyVvkoUQh7J"
      },
      "source": [
        " ... but it does for lists:\n"
      ]
    },
    {
      "cell_type": "code",
      "metadata": {
        "id": "UY9QsQqMW0FS"
      },
      "source": [
        "my_list = ['T', 'E', 'S', 'T']"
      ],
      "execution_count": null,
      "outputs": []
    },
    {
      "cell_type": "code",
      "metadata": {
        "id": "IsqZ3wl6W7b1"
      },
      "source": [
        "my_list[2] = 'X'"
      ],
      "execution_count": null,
      "outputs": []
    },
    {
      "cell_type": "code",
      "metadata": {
        "id": "3vD0dejSW_1_"
      },
      "source": [
        "print(my_list)"
      ],
      "execution_count": null,
      "outputs": []
    },
    {
      "cell_type": "markdown",
      "metadata": {
        "id": "yJMpuY07XNIM"
      },
      "source": [
        "\n",
        "\n",
        "---\n",
        "\n"
      ]
    },
    {
      "cell_type": "markdown",
      "metadata": {
        "id": "y7p3g3QtRKCJ"
      },
      "source": [
        "#### Slice Operator for Lists"
      ]
    },
    {
      "cell_type": "markdown",
      "metadata": {
        "id": "aDLLhqgRRNxn"
      },
      "source": [
        "With the slice operator we can update several elements at once:"
      ]
    },
    {
      "cell_type": "code",
      "metadata": {
        "id": "sQ8wWjhEXN8G"
      },
      "source": [
        " a_list = ['a', 'b', 'c', 'd', 'e', 'f']"
      ],
      "execution_count": null,
      "outputs": []
    },
    {
      "cell_type": "code",
      "metadata": {
        "id": "A-pU0VNMXRfP"
      },
      "source": [
        " a_list[1:3] = ['x', 'y']"
      ],
      "execution_count": null,
      "outputs": []
    },
    {
      "cell_type": "code",
      "metadata": {
        "id": "-Jk-2fM1XZn9"
      },
      "source": [
        "print(a_list)"
      ],
      "execution_count": null,
      "outputs": []
    },
    {
      "cell_type": "markdown",
      "metadata": {
        "id": "Uxhtd6NARWcV"
      },
      "source": [
        "We can also remove elements from a list by assigning the empty list **[]** to them:"
      ]
    },
    {
      "cell_type": "code",
      "metadata": {
        "id": "tmdVhdk2X1Nk"
      },
      "source": [
        " a_list[1:3] = []"
      ],
      "execution_count": null,
      "outputs": []
    },
    {
      "cell_type": "code",
      "metadata": {
        "id": "sUYXQCjVX3xY"
      },
      "source": [
        "print(a_list)"
      ],
      "execution_count": null,
      "outputs": []
    },
    {
      "cell_type": "markdown",
      "metadata": {
        "id": "Vd5IekgLYY7g"
      },
      "source": [
        "\n",
        "\n",
        "---\n",
        "\n"
      ]
    },
    {
      "cell_type": "markdown",
      "metadata": {
        "id": "pg__KTT5Rh09"
      },
      "source": [
        "And we can add elements to a list by squeezing them into an empty slice at the desired location:\n"
      ]
    },
    {
      "cell_type": "code",
      "metadata": {
        "id": "s4tugQ69YaGM"
      },
      "source": [
        " a_list = ['a', 'd', 'f']"
      ],
      "execution_count": null,
      "outputs": []
    },
    {
      "cell_type": "code",
      "metadata": {
        "id": "_ZfUtOIhYgm6"
      },
      "source": [
        " a_list[1:1] = ['b', 'c']"
      ],
      "execution_count": null,
      "outputs": []
    },
    {
      "cell_type": "code",
      "metadata": {
        "id": "julHR7o-YiQm"
      },
      "source": [
        "print(a_list)"
      ],
      "execution_count": null,
      "outputs": []
    },
    {
      "cell_type": "code",
      "metadata": {
        "id": "F54pS1eJYr7n"
      },
      "source": [
        " a_list[4:4] = ['e']"
      ],
      "execution_count": null,
      "outputs": []
    },
    {
      "cell_type": "code",
      "metadata": {
        "id": "LIzFz2XYYtFC"
      },
      "source": [
        "print(a_list)"
      ],
      "execution_count": null,
      "outputs": []
    },
    {
      "cell_type": "markdown",
      "metadata": {
        "id": "Em6VyyjOZX3v"
      },
      "source": [
        "\n",
        "\n",
        "---\n",
        "\n"
      ]
    },
    {
      "cell_type": "markdown",
      "metadata": {
        "id": "M2MJRxMQRsKT"
      },
      "source": [
        "#### List Deletion"
      ]
    },
    {
      "cell_type": "markdown",
      "metadata": {
        "id": "q90VjVTzRy7k"
      },
      "source": [
        "Using slices to delete list elements can be awkward, and therefore error-prone. \n",
        "\n",
        "Python provides an alternative that is more readable.\n",
        "\n",
        "**del** removes an element from a list:\n"
      ]
    },
    {
      "cell_type": "code",
      "metadata": {
        "id": "Qcs-bwJyZY5s"
      },
      "source": [
        " a = ['one', 'two', 'three']"
      ],
      "execution_count": null,
      "outputs": []
    },
    {
      "cell_type": "code",
      "metadata": {
        "id": "BvtY6REsZbVX"
      },
      "source": [
        " del a[1]"
      ],
      "execution_count": null,
      "outputs": []
    },
    {
      "cell_type": "code",
      "metadata": {
        "id": "i3XfYlEaZcrI"
      },
      "source": [
        "print(a)"
      ],
      "execution_count": null,
      "outputs": []
    },
    {
      "cell_type": "markdown",
      "metadata": {
        "id": "ObGaxughR9RS"
      },
      "source": [
        "You can use a slice as an index for **del**:\n",
        "\n",
        "As usual, slices select all the elements up to, but not including, the second index.\n"
      ]
    },
    {
      "cell_type": "code",
      "metadata": {
        "id": "iIeTPc5cSLI2"
      },
      "source": [
        "a_list = ['a', 'b', 'c', 'd', 'e', 'f']\n",
        "del a_list[1:5]\n",
        "print(a_list)\n"
      ],
      "execution_count": null,
      "outputs": []
    },
    {
      "cell_type": "markdown",
      "metadata": {
        "id": "Y35JfQnQSYlj"
      },
      "source": [
        "#### Cloning/Copying Lists"
      ]
    },
    {
      "cell_type": "markdown",
      "metadata": {
        "id": "HK0k98LkSb5Z"
      },
      "source": [
        "To modify a list and also keep a copy of the original, we need to be able to make a copy or clone of the list.\n",
        "\n",
        "The easiest way to clone a list is to use the slice operator:"
      ]
    },
    {
      "cell_type": "code",
      "metadata": {
        "id": "SUnDOZf7Slvx"
      },
      "source": [
        "a = [1, 2, 3]\n",
        "b = a[:]\n",
        "print(b)"
      ],
      "execution_count": null,
      "outputs": []
    },
    {
      "cell_type": "markdown",
      "metadata": {
        "id": "4emyZQmySnqj"
      },
      "source": [
        "Taking any slice of a list creates a new list. In this case the slice happens to consist of the whole list.\n",
        "\n",
        "Now we are free to make changes to b without worrying about a:\n"
      ]
    },
    {
      "cell_type": "code",
      "metadata": {
        "id": "pAl_hm7YSqGk"
      },
      "source": [
        "b[0] = 5\n",
        "print(a)"
      ],
      "execution_count": null,
      "outputs": []
    },
    {
      "cell_type": "markdown",
      "metadata": {
        "id": "VMien9TlS6ts"
      },
      "source": [
        "\n",
        "\n",
        "---\n",
        "\n"
      ]
    },
    {
      "cell_type": "markdown",
      "metadata": {
        "id": "9SH1saCmZl51"
      },
      "source": [
        "\n",
        "\n",
        "---\n",
        "\n"
      ]
    },
    {
      "cell_type": "markdown",
      "metadata": {
        "id": "6sZqooEgTRBO"
      },
      "source": [
        "The for loop also works with lists. The generalized syntax of a for loop is:\n",
        "\n",
        "\n",
        "```\n",
        "### for VARIABLE in LIST:\n",
        "> ### BODY\n",
        "\n",
        "```\n",
        "\n",
        "\n",
        "\n",
        "\n",
        "This statement is equivalent to:\n",
        "\n",
        "`i = 0`\n",
        "\n",
        "`while i < len(LIST):`\n",
        "\n",
        "`    VARIABLE = LIST[i]`\n",
        "\n",
        "`    <BODY>`\n",
        "\n",
        "`    i += 1`\n",
        "\n",
        "\n",
        "\n",
        "The for loop is more concise because we can eliminate the loop variable, **i**."
      ]
    },
    {
      "cell_type": "markdown",
      "metadata": {
        "id": "-OFyfH504xtR"
      },
      "source": [
        "### Lists and For Loops"
      ]
    },
    {
      "cell_type": "markdown",
      "metadata": {
        "id": "RhEWp1VE4xtR"
      },
      "source": [
        "The for loop also works with lists. The generalized syntax of a for loop is:\n",
        "\n",
        "\n",
        "```\n",
        "### for VARIABLE in LIST:\n",
        "> ### BODY\n",
        "```\n",
        "\n",
        "\n",
        "\n",
        "This statement is equivalent to:\n",
        "\n",
        "`i = 0`\n",
        "\n",
        "`while i < len(LIST):`\n",
        "\n",
        "`    VARIABLE = LIST[i]`\n",
        "\n",
        "`    <BODY>`\n",
        "\n",
        "`    i += 1`\n",
        "\n",
        "\n",
        "\n",
        "The for loop is more concise because we can eliminate the loop variable, **i**."
      ]
    },
    {
      "cell_type": "markdown",
      "metadata": {
        "id": "Qw_qiPRt4xtR"
      },
      "source": [
        "Here is an equivalent to the while loop from the [Accessing List Elements](https://colab.research.google.com/drive/1hTI12zztVylqkR-zcwjesi17uGyrI6LO#scrollTo=qzJ3pI_o_Ik_&line=1&uniqifier=1) section written with a for loop.\n",
        "\n",
        "`for horseman in horsemen:`\n",
        "\n",
        "> `    print(horseman)`\n",
        "\n",
        "\n",
        "\n",
        "It almost reads like English: \n",
        "\n",
        "For (every) horseman in (the list of) horsemen, \u000bprint (the name of the) horseman.\n"
      ]
    },
    {
      "cell_type": "code",
      "metadata": {
        "id": "PBvn6Us14xtR"
      },
      "source": [
        "for horseman in horsemen:\n",
        "    print(horseman)"
      ],
      "execution_count": null,
      "outputs": []
    },
    {
      "cell_type": "markdown",
      "metadata": {
        "id": "CnRvcNTK4xtR"
      },
      "source": [
        "#### *Examples of For Loops with Lists*"
      ]
    },
    {
      "cell_type": "markdown",
      "metadata": {
        "id": "QJxUdjk54xtR"
      },
      "source": [
        "Any list expression can be used in a for loop:\n"
      ]
    },
    {
      "cell_type": "code",
      "metadata": {
        "id": "hcvOiKdi4xtR"
      },
      "source": [
        "for number in range(20):\n",
        "    if number % 3 == 0:\n",
        "        print (number)"
      ],
      "execution_count": null,
      "outputs": []
    },
    {
      "cell_type": "markdown",
      "metadata": {
        "id": "N1ZRKT4d4xtR"
      },
      "source": [
        "The example above prints all the multiples of 3 between 0 and 19. \n",
        "\n",
        "The next example expresses enthusiasm for various fruits.\n"
      ]
    },
    {
      "cell_type": "code",
      "metadata": {
        "id": "xJ1GOxfY4xtR"
      },
      "source": [
        "for fruit in [\"banana\", \"apple\", \"quince\"]:\n",
        "    print(\"I like to eat \" + fruit + \"s!\")"
      ],
      "execution_count": null,
      "outputs": []
    },
    {
      "cell_type": "markdown",
      "source": [
        "\n",
        "\n",
        "---\n",
        "\n"
      ],
      "metadata": {
        "id": "M4UcC9el673H"
      }
    },
    {
      "cell_type": "markdown",
      "metadata": {
        "id": "PaMtHN9L4xtR"
      },
      "source": [
        "### Traversing Lists"
      ]
    },
    {
      "cell_type": "markdown",
      "metadata": {
        "id": "RufVQ3ut4xtS"
      },
      "source": [
        "Since lists are mutable, it is often desirable to traverse a list, modifying each of its elements. \n",
        "\n",
        "The following squares all the numbers from 1 to 5:"
      ]
    },
    {
      "cell_type": "code",
      "metadata": {
        "id": "9bIXo9rn4xtS"
      },
      "source": [
        "numbers = [1, 2, 3, 4, 5]\n",
        "print(\"The list numbers: \", numbers) # print the list before processing the for loop\n",
        "for index in range(len(numbers)):\n",
        "    numbers[index] = numbers[index]**2\n",
        "print(\"The list numbers:\", numbers) # print the list after processing the for loop"
      ],
      "execution_count": null,
      "outputs": []
    },
    {
      "cell_type": "markdown",
      "metadata": {
        "id": "6P64zm0l4xtS"
      },
      "source": [
        "Take a moment to think about **range(len(numbers))** until you understand how it works. \n",
        "\n",
        "We are interested here in both the **value** and its **index** within the list, so that we can assign a new value to it.\n"
      ]
    },
    {
      "cell_type": "markdown",
      "source": [
        "\n",
        "\n",
        "---\n",
        "\n"
      ],
      "metadata": {
        "id": "L44iInqA6-B9"
      }
    },
    {
      "cell_type": "markdown",
      "metadata": {
        "id": "QG4dX7_v4xtS"
      },
      "source": [
        "### Enumerating Lists"
      ]
    },
    {
      "cell_type": "markdown",
      "metadata": {
        "id": "xbzIJ6x54xtS"
      },
      "source": [
        "Thinking about **range(len(numbers))** and understanding how it works and can be applied to many uses cases in processing lists, we can learn another way to solve the same problem. \n",
        "\n",
        "We are interested here in both the **value** and its **index** within the list, so that we can assign a new value to it.\n",
        "\n",
        "This pattern is common enough that Python provides a nicer way to implement it:\n",
        "\n",
        "`numbers = [1, 2, 3, 4, 5]`\n",
        "\n",
        "`for index, value in enumerate(numbers):`\n",
        "\n",
        "> `numbers[index] = value**2`\n",
        "\n"
      ]
    },
    {
      "cell_type": "code",
      "metadata": {
        "id": "AFoN_2s34xtS"
      },
      "source": [
        "numbers = [1, 2, 3, 4, 5]\n",
        "print(\"The list numbers: \", numbers) # print the list before processing the for loop\n",
        "for index, value in enumerate(numbers):\n",
        "    numbers[index] = value**2\n",
        "print(\"The list numbers:\", numbers) # print the list after processing the for loop"
      ],
      "execution_count": null,
      "outputs": []
    },
    {
      "cell_type": "markdown",
      "metadata": {
        "id": "yVV-8TNA4xtS"
      },
      "source": [
        "**enumerate** generates both the index and the value associated with it during the list traversal. \n",
        "\n",
        "Try this next example to see more clearly how enumerate works:\n"
      ]
    },
    {
      "cell_type": "code",
      "metadata": {
        "id": "lW85G7XF4xtS"
      },
      "source": [
        "for index, value in enumerate(['banana', 'apple', 'pear', 'quince']):\n",
        "    print(index, value)"
      ],
      "execution_count": null,
      "outputs": []
    },
    {
      "cell_type": "markdown",
      "metadata": {
        "id": "O9T4VwA_4xtS"
      },
      "source": [
        "\n",
        "\n",
        "---\n",
        "\n"
      ]
    },
    {
      "cell_type": "markdown",
      "metadata": {
        "id": "9_XH96-N4xtT"
      },
      "source": [
        "### Join() Function\n",
        "\n"
      ]
    },
    {
      "cell_type": "markdown",
      "metadata": {
        "id": "OsIwBl4I4xtT"
      },
      "source": [
        "*note: In the Elkner text, which is written based on Python 2.0, the join() function is referenced as a method imported from the string module -- that is no longer the case in Python 3.0 and beyond.*\n",
        "\n"
      ]
    },
    {
      "cell_type": "markdown",
      "metadata": {
        "id": "KOP9r1ea4xtT"
      },
      "source": [
        "As we can see from the last example, str can’t be used to join a list of characters together. To do this we could use the **join()** method which works on string objects:\n",
        "\n",
        "\n",
        "`char_list = list(\"Frog\")`\n",
        "\n",
        "`char_list`\n",
        "\n",
        "['F', 'r', 'o', 'g']\n",
        "\n",
        "`s = \"\"`\n",
        "\n",
        "`joined_characters = s.join(char_list, '')`\n",
        "\n",
        "'Frog'\n",
        "\n"
      ]
    },
    {
      "cell_type": "code",
      "metadata": {
        "id": "E1wkSb2M4xtT"
      },
      "source": [
        "char_list = list(\"Frog\")\n",
        "\n",
        "char_list\n",
        "\n",
        "print(\"Character list: \", char_list)"
      ],
      "execution_count": null,
      "outputs": []
    },
    {
      "cell_type": "markdown",
      "metadata": {
        "id": "Zi6GvBkW4xtT"
      },
      "source": [
        "We create an empty string **s** to apply the join() method to, and we give the **join()** method a list of characters to be joined using the string **s** as a separator.  In this example we want no separator so we create **s** as an empty string."
      ]
    },
    {
      "cell_type": "code",
      "metadata": {
        "id": "BQcD-hIx4xtU"
      },
      "source": [
        "s = \"\"\n",
        "joined_characters = s.join(char_list)\n",
        "print(\"Character list: \", char_list)\n",
        "print(\"Joined characters: \", joined_characters)"
      ],
      "execution_count": null,
      "outputs": []
    },
    {
      "cell_type": "markdown",
      "metadata": {
        "id": "3DycaaXN4xtU"
      },
      "source": [
        "If we had wanted the list of characters to be separated by a hyphen, we would create the string **s** with the assignment of a hyphen as \n",
        "\n",
        "`s = '-'`\n",
        "\n",
        "Then apply the join method to the string **s** (the separator), with the list of characters to join as the argument."
      ]
    },
    {
      "cell_type": "code",
      "metadata": {
        "id": "V53nqrsQ4xtU"
      },
      "source": [
        "s = \"-\"\n",
        "joined_characters = s.join(char_list)\n",
        "print(\"Character list: \", char_list)\n",
        "print(\"Joined characters: \", joined_characters)"
      ],
      "execution_count": null,
      "outputs": []
    },
    {
      "cell_type": "markdown",
      "metadata": {
        "id": "6DXTQJ364xtU"
      },
      "source": [
        "Suppose we wanted to join together the strings in a list of three digit numbers and have each element from the list separated by a hyphen \"-\". \n",
        "\n",
        " If our list of three digit numbers was:\n",
        "\n",
        "`three_digit_numbers =  [\"718\", \"212\", \"917\", \"201\", \"914\", \"516\"]`\n"
      ]
    },
    {
      "cell_type": "code",
      "metadata": {
        "id": "pMT6WTXi4xtU"
      },
      "source": [
        "three_digit_numbers = [\"718\", \"212\", \"917\", \"201\", \"914\", \"516\"]\n",
        "s = \"-\"\n",
        "joined_number_string = s.join(three_digit_numbers)\n",
        "print(\"Three digit number list: \", three_digit_numbers)\n",
        "print(\"Joined number string: \", joined_number_string)"
      ],
      "execution_count": null,
      "outputs": []
    },
    {
      "cell_type": "markdown",
      "metadata": {
        "id": "3fWMWl624xtU"
      },
      "source": [
        "The variable name of the separator does not have to be **s**. \n",
        "\n",
        "In a more tangible example, we may have the four components of an IP address in a list variable **ip_elements** and want to combine them with a dot \"**.**\" as a separator to have a fully-qualified IPv4 address in a string variable **ip_address**. \n",
        "\n",
        "`ip_elements = [\"192\", \"168\", \"0\", \"1\"]`\n"
      ]
    },
    {
      "cell_type": "code",
      "metadata": {
        "id": "8l5vQ7Gb4xtU"
      },
      "source": [
        "ip_elements = [\"192\", \"168\", \"0\", \"1\"]\n",
        "s = \".\"\n",
        "ip_address = s.join(ip_elements)\n",
        "print(\"IPv4 address elements: \", ip_elements)\n",
        "print(\"IPv4 address: \", ip_address)"
      ],
      "execution_count": null,
      "outputs": []
    },
    {
      "cell_type": "markdown",
      "source": [
        "\n",
        "\n",
        "---\n",
        "\n"
      ],
      "metadata": {
        "id": "kMoNQWpB7CBH"
      }
    },
    {
      "cell_type": "markdown",
      "metadata": {
        "id": "lJL2NDK84xtU"
      },
      "source": [
        "### Split() Function"
      ]
    },
    {
      "cell_type": "markdown",
      "metadata": {
        "id": "pA3yLp664xtU"
      },
      "source": [
        "*note: In the Elkner text, which is written based on Python 2.0, the split() function is referenced as a method imported from the string module -- that is no longer the case in Python 3.0 and beyond.*"
      ]
    },
    {
      "cell_type": "markdown",
      "metadata": {
        "id": "w3ylJnJ34xtU"
      },
      "source": [
        "The split function breaks a string into a list of words. \n",
        "\n",
        "This string method is used extensively in data science, especially when reading data to be scrubbed from raw input files.\n",
        "\n",
        "By default, any number of whitespace characters is considered a word boundary:\n"
      ]
    },
    {
      "cell_type": "code",
      "metadata": {
        "id": "51xah7Q94xtV"
      },
      "source": [
        "song = \"The rain in Spain...\"\n",
        "s = song.split()\n",
        "print(s)"
      ],
      "execution_count": null,
      "outputs": []
    },
    {
      "cell_type": "markdown",
      "metadata": {
        "id": "2V-2f4y94xtV"
      },
      "source": [
        "An optional argument called a delimiter can be used to specify which characters to use as word boundaries. The following example uses the string ai as the delimiter:\n"
      ]
    },
    {
      "cell_type": "code",
      "metadata": {
        "colab": {
          "base_uri": "https://localhost:8080/"
        },
        "outputId": "b52ce4e5-efdc-435c-d490-ca445fc1f5a5",
        "id": "4SesKAoF4xtV"
      },
      "source": [
        "song = \"The rain in Spain...\"\n",
        "s = song.split('ai')\n",
        "print(s)"
      ],
      "execution_count": null,
      "outputs": [
        {
          "output_type": "stream",
          "name": "stdout",
          "text": [
            "['The r', 'n in Sp', 'n...']\n"
          ]
        }
      ]
    },
    {
      "cell_type": "markdown",
      "metadata": {
        "id": "aglz5Jy64xtV"
      },
      "source": [
        "What happened in that last bit of code?\n",
        "\n",
        "Why did **s** have that list of strings assigned?"
      ]
    },
    {
      "cell_type": "markdown",
      "metadata": {
        "id": "ViWR5OjM4xtV"
      },
      "source": [
        "Let's break apart that IPv4 address from earlier.  To make sure that we do not cheat or stumble on some lucky value from before, we will start by assigning the value **None** to each variable."
      ]
    },
    {
      "cell_type": "code",
      "metadata": {
        "id": "FGs6wue-4xtV"
      },
      "source": [
        "ip_elements = None  # just so that there is no sleight of hand \n",
        "ip_address = None   # just so that there is no sleight of hand \n",
        "ip_address = \"192.168.0.1\"\n",
        "ip_elements = ip_address.split(\".\")\n",
        "print(\"IPv4 address: \", ip_address)\n",
        "print(\"IPv4 address elements: \", ip_elements)"
      ],
      "execution_count": null,
      "outputs": []
    },
    {
      "cell_type": "markdown",
      "metadata": {
        "id": "wv5b1mW44xtV"
      },
      "source": [
        "\n",
        "\n",
        "---\n",
        "\n"
      ]
    },
    {
      "cell_type": "markdown",
      "metadata": {
        "id": "KCuu6MR64xtV"
      },
      "source": [
        "The join() method is the inverse of the string() method. \n",
        "\n",
        "It takes a list of strings as an argument and applies it to a separator string variable which will be placed between each element in the list in the resultant string.  "
      ]
    },
    {
      "cell_type": "code",
      "metadata": {
        "id": "aAQCVz2u4xtW"
      },
      "source": [
        "words = ['crunchy', 'raw', 'unboned', 'real', 'dead', 'frog']\n",
        "s = \" \"\n",
        "joined_string = s.join(words)\n",
        "print(\"Original list of words: \", words)\n",
        "print(\"Joined string: \", joined_string)"
      ],
      "execution_count": null,
      "outputs": []
    },
    {
      "cell_type": "code",
      "metadata": {
        "id": "G2ss97VO4xtW"
      },
      "source": [
        "words = ['crunchy', 'raw', 'unboned', 'real', 'dead', 'frog']\n",
        "s = \"*!*\"\n",
        "joined_string = s.join(words)\n",
        "print(\"Original list of  words: \", words)\n",
        "print(\"Joined string: \", joined_string)"
      ],
      "execution_count": null,
      "outputs": []
    },
    {
      "cell_type": "code",
      "metadata": {
        "id": "09sr-SNg4xtW"
      },
      "source": [
        "words_retrieved = joined_string.split(\"*!*\")\n",
        "print(\"Original list of words: \", words)\n",
        "print(\"Joined string s: \", joined_string)\n",
        "print(\"Words retrieved: \", words_retrieved)"
      ],
      "execution_count": null,
      "outputs": []
    },
    {
      "cell_type": "markdown",
      "metadata": {
        "id": "7OGnVBLp4xtW"
      },
      "source": [
        "\n",
        "\n",
        "---\n",
        "\n"
      ]
    },
    {
      "cell_type": "markdown",
      "metadata": {
        "id": "CIXOoqny4xtW"
      },
      "source": [
        "*As was mentioned earlier, please make note of books or other references which were written prior to Python version 3.0 because there will be differences in some of the operations mentioned.*"
      ]
    },
    {
      "cell_type": "markdown",
      "metadata": {
        "id": "3VrBsJLDd5sx"
      },
      "source": [
        "\n",
        "\n",
        "---\n",
        "\n"
      ]
    }
  ]
}