{
  "nbformat": 4,
  "nbformat_minor": 0,
  "metadata": {
    "colab": {
      "provenance": [],
      "collapsed_sections": [],
      "authorship_tag": "ABX9TyNmKuWdoMz186rCgQLsoskr",
      "include_colab_link": true
    },
    "kernelspec": {
      "name": "python3",
      "display_name": "Python 3"
    },
    "language_info": {
      "name": "python"
    }
  },
  "cells": [
    {
      "cell_type": "markdown",
      "metadata": {
        "id": "view-in-github",
        "colab_type": "text"
      },
      "source": [
        "<a href=\"https://colab.research.google.com/github/ProfessorPatrickSlatraigh/CST2312/blob/main/CST2312_D222_Fall2022_Class_08_28_Sep_2022.ipynb\" target=\"_parent\"><img src=\"https://colab.research.google.com/assets/colab-badge.svg\" alt=\"Open In Colab\"/></a>"
      ]
    },
    {
      "cell_type": "markdown",
      "source": [
        "# CST2312 - Class #08,     \n",
        "**Dictionaries (from Py4E.com, lesson 10 - former lesson 9)**   \n",
        "**Tuples (from Py4E.com, lesson 11 - former lesson 10)**    \n",
        "\n",
        "by Professor Patrick, 28-Sep-2022    \n",
        "\n",
        "\n",
        "This notebook on Colab at `https://bit.ly/cst2312cl08`    "
      ],
      "metadata": {
        "id": "Tba3cwe-lYOJ"
      }
    },
    {
      "cell_type": "markdown",
      "metadata": {
        "id": "fZ5nHFyywfGy"
      },
      "source": [
        "This notebook works with shared links to the following files on Google Drive:    \n",
        "\n",
        " o [words.txt](https://bit.ly/py4e-words)     \n",
        " o [romeo.txt](https://bit.ly/romeo-short)    \n",
        " o [romeo-full.txt](https://bit.ly/romeo-full)    \n"
      ]
    },
    {
      "cell_type": "markdown",
      "source": [
        "\n",
        "\n",
        "---\n",
        "\n"
      ],
      "metadata": {
        "id": "TYQiihxPmsVp"
      }
    },
    {
      "cell_type": "markdown",
      "metadata": {
        "id": "tklQ7H2uYeZ8"
      },
      "source": [
        "# **Dictionaries**\n",
        "**(from Py4E.com, lesson 10 - former lesson 9)**  "
      ]
    },
    {
      "cell_type": "markdown",
      "metadata": {
        "id": "X3DAb80uYyLA"
      },
      "source": [
        "A dictionary is like a list, but more general. In a list, the index positions have to be integers; in a dictionary, the indices can be (almost) any type.\n",
        "\n",
        "You can think of a dictionary as a mapping between a set of indices (which are called keys) and a set of values. Each key maps to a value. The association of a key and a value is called a *key-value pair* or sometimes an item.\n",
        "\n",
        "As an example, we’ll build a dictionary that maps from English to Spanish words, so the keys and the values are all strings.\n",
        "\n",
        "The function dict creates a new dictionary with no items. Because dict is the name of a built-in function, you should avoid using it as a variable name."
      ]
    },
    {
      "cell_type": "code",
      "metadata": {
        "id": "bd1MxOwVYzt8"
      },
      "source": [
        "eng2sp = dict()\n",
        "print(eng2sp)\n"
      ],
      "execution_count": null,
      "outputs": []
    },
    {
      "cell_type": "markdown",
      "metadata": {
        "id": "Wgio9b0CZCAy"
      },
      "source": [
        "The curly brackets, {}, represent an empty dictionary. To add items to the dictionary, you can use square brackets:"
      ]
    },
    {
      "cell_type": "code",
      "source": [
        "# create a string and refer to an index position in the string\n",
        "\n",
        "our_str = 'hello there'\n",
        "\n",
        "print(our_str[6])"
      ],
      "metadata": {
        "id": "T5at57VzfyJv"
      },
      "execution_count": null,
      "outputs": []
    },
    {
      "cell_type": "code",
      "metadata": {
        "id": "G8wUGZpDZG93"
      },
      "source": [
        "eng2sp['one'] = 'uno'"
      ],
      "execution_count": null,
      "outputs": []
    },
    {
      "cell_type": "markdown",
      "metadata": {
        "id": "KwdHm6DOZOCm"
      },
      "source": [
        "This statement above creates an dictionary entry that maps from the key `one` to the value `'uno'`. If we print the dictionary again, we see a *key-value pair* with a colon between the key and value:"
      ]
    },
    {
      "cell_type": "code",
      "metadata": {
        "id": "QsCXpbDEZPWB"
      },
      "source": [
        "print(eng2sp)"
      ],
      "execution_count": null,
      "outputs": []
    },
    {
      "cell_type": "code",
      "source": [
        "eng2sp['two'] = 'segundo'"
      ],
      "metadata": {
        "id": "zzjS3ymRgq41"
      },
      "execution_count": null,
      "outputs": []
    },
    {
      "cell_type": "code",
      "source": [
        "print(eng2sp)"
      ],
      "metadata": {
        "id": "uBYOHKdog0JD"
      },
      "execution_count": null,
      "outputs": []
    },
    {
      "cell_type": "code",
      "source": [
        "eng2fr = {'one': 'un', 'two': 'deux'}"
      ],
      "metadata": {
        "id": "cEp7Q2flhS2q"
      },
      "execution_count": null,
      "outputs": []
    },
    {
      "cell_type": "code",
      "source": [
        "print(eng2fr)"
      ],
      "metadata": {
        "id": "LC6_gckUh1vS"
      },
      "execution_count": null,
      "outputs": []
    },
    {
      "cell_type": "markdown",
      "metadata": {
        "id": "nXDRcYzbZTeh"
      },
      "source": [
        "This output format is also an input format. For example, you can create a new dictionary with three items. But if you were to print `eng2sp` in versions of Python before Python 3.0, you might be surprised to see the output in what appeared to be a random order.  That was because of the way keys were hashed and stored. "
      ]
    },
    {
      "cell_type": "code",
      "metadata": {
        "id": "FM8DWSz0ZXI9"
      },
      "source": [
        "eng2sp = {'one': 'uno', 'two': 'dos', 'three': 'tres'}\n",
        "print(eng2sp)"
      ],
      "execution_count": null,
      "outputs": []
    },
    {
      "cell_type": "markdown",
      "metadata": {
        "id": "_aB1s0IoZpVN"
      },
      "source": [
        "Since Python 3.0, dictionary entries are printed (returned) in the order in which the *key-value pairs* were entered into the dictionary.   \n",
        "\n",
        "But that’s not a problem because the elements of a dictionary are never indexed with integer indices. Instead, you use the keys to look up the corresponding values:"
      ]
    },
    {
      "cell_type": "code",
      "metadata": {
        "id": "HfwYOL6QZtbf"
      },
      "source": [
        "print(eng2sp['two'])"
      ],
      "execution_count": null,
      "outputs": []
    },
    {
      "cell_type": "markdown",
      "metadata": {
        "id": "ncJ7pRgUZxZh"
      },
      "source": [
        "The key 'two' always maps to the value “dos” so the order of the items doesn’t matter.\n",
        "\n",
        "If the key isn’t in the dictionary, you get an exception:"
      ]
    },
    {
      "cell_type": "code",
      "metadata": {
        "id": "F1Jd0n86Z0tr"
      },
      "source": [
        "print(eng2sp['four'])"
      ],
      "execution_count": null,
      "outputs": []
    },
    {
      "cell_type": "markdown",
      "metadata": {
        "id": "UBt9vp8qZ8xl"
      },
      "source": [
        "The `len` function works on dictionaries; it returns the number of *key-value pairs*:"
      ]
    },
    {
      "cell_type": "code",
      "metadata": {
        "id": "Vb2C9_RHaBVS"
      },
      "source": [
        "len(eng2sp)"
      ],
      "execution_count": null,
      "outputs": []
    },
    {
      "cell_type": "markdown",
      "metadata": {
        "id": "BlNVkIouaFVz"
      },
      "source": [
        "The `in` operator works on dictionaries; it tells you whether something appears as a *key* in the dictionary (appearing as a *value* does not satisfy the `in` operator and returns a Bool of False unless a *key* in the dictionary contains the search argument)."
      ]
    },
    {
      "cell_type": "code",
      "metadata": {
        "id": "M_ggDznxaEqb"
      },
      "source": [
        "'one' in eng2sp"
      ],
      "execution_count": null,
      "outputs": []
    },
    {
      "cell_type": "code",
      "metadata": {
        "id": "y86WXHeDaUpb"
      },
      "source": [
        "'uno' in eng2sp"
      ],
      "execution_count": null,
      "outputs": []
    },
    {
      "cell_type": "code",
      "source": [
        "'uno' not in eng2sp"
      ],
      "metadata": {
        "id": "zsUKA8ftksj3"
      },
      "execution_count": null,
      "outputs": []
    },
    {
      "cell_type": "markdown",
      "metadata": {
        "id": "tbgnEkfEZFgS"
      },
      "source": [
        "To see whether something appears as a value in a dictionary, you can use the method `values`, which returns the values as a type that can be converted to a list, and then use the `in` operator:"
      ]
    },
    {
      "cell_type": "code",
      "metadata": {
        "id": "riPsjqzrajxy"
      },
      "source": [
        "vals = list(eng2sp.values())\n",
        "print(len(vals))\n",
        "print(vals)"
      ],
      "execution_count": null,
      "outputs": []
    },
    {
      "cell_type": "code",
      "source": [
        "'uno' in vals"
      ],
      "metadata": {
        "id": "js0-HCO4k_K_"
      },
      "execution_count": null,
      "outputs": []
    },
    {
      "cell_type": "markdown",
      "metadata": {
        "id": "DUzk6W4baxCx"
      },
      "source": [
        "The `in` operator uses different algorithms for lists and dictionaries. For lists, it uses a linear search algorithm. As the list gets longer, the search time gets longer in direct proportion to the length of the list. For dictionaries, Python uses an algorithm called a hash table that has a remarkable property: the in operator takes about the same amount of time no matter how many items there are in a dictionary. I won’t explain why hash functions are so magical, but you can read more about it at [**Wikipedia.org on Hash tables**](wikipedia.org/wiki/Hash_table)."
      ]
    },
    {
      "cell_type": "markdown",
      "metadata": {
        "id": "6MGrCfHyayhc"
      },
      "source": [
        "**Exercise 1: Download a copy of the file www.py4e.com/code3/words.txt**    \n",
        "    \n",
        "**You may also access the file here [words.txt](https://bit.ly/py4e-words)**    \n",
        "\n",
        "**Write a program that reads the words in words.txt and stores them as keys in a dictionary. It doesn’t matter what the values are. Then you can use the in operator as a fast way to check whether a string is in the dictionary.**"
      ]
    },
    {
      "cell_type": "markdown",
      "metadata": {
        "id": "MKvHFuL8bMAw"
      },
      "source": [
        "## **Dictionary as a set of counters**"
      ]
    },
    {
      "cell_type": "markdown",
      "metadata": {
        "id": "PXIWNjXjbVa-"
      },
      "source": [
        "Suppose you are given a string and you want to count how many times each letter appears. There are several ways you could do it:\n",
        "\n",
        "1. You could create 26 variables, one for each letter of the alphabet. Then you could traverse the string and, for each character, increment the corresponding counter, probably using a chained conditional.\n",
        "\n",
        "2. You could create a list with 26 elements. Then you could convert each character to a number (using the built-in function ord), use the number as an index into the list, and increment the appropriate counter.\n",
        "\n",
        "3. You could create a dictionary with characters as keys and counters as the corresponding values. The first time you see a character, you would add an item to the dictionary. After that you would increment the value of an existing item.\n",
        "\n",
        "\n",
        "Each of these options performs the same computation, but each of them implements that computation in a different way.\n",
        "\n",
        "An implementation is a way of performing a computation; some implementations are better than others. For example, an advantage of the dictionary implementation is that we don’t have to know ahead of time which letters appear in the string and we only have to make room for the letters that do appear.\n",
        "\n",
        "Here is what the code might look like:"
      ]
    },
    {
      "cell_type": "code",
      "metadata": {
        "id": "1tpspqvEb3nD"
      },
      "source": [
        "# example code to count characters in a string  \n",
        "# USING A FOR LOOP AND EMBEDDED IF/ELSE\n",
        "# word_str   -- a string with a word as its value\n",
        "# histo_dict -- a histogram dictionary of counts of letters\n",
        "# char_str   -- an individual character as a string\n",
        "\n",
        "# store a word in a string variable\n",
        "word_str = 'brontosaurus'\n",
        "# try with a different string assignment later\n",
        "# word_str = 'tyranosaurus'\n",
        "# word_str = 'tyranosaurus are not the content of bronto burgers'\n",
        "\n",
        "# initialize an empty histogram dictionary\n",
        "histo_dict = dict()\n",
        "\n",
        "# loop through each character in the word and\n",
        "# add a count of 1 to each letter found\n",
        "for char_str in word_str:\n",
        "    if char_str not in histo_dict:\n",
        "        histo_dict[char_str] = 1\n",
        "    else:\n",
        "        histo_dict[char_str] = histo_dict[char_str] + 1\n",
        "\n",
        "# print the histogram dictionary of counts of letters\n",
        "print(histo_dict)"
      ],
      "execution_count": null,
      "outputs": []
    },
    {
      "cell_type": "markdown",
      "metadata": {
        "id": "Fktbu-zScCkZ"
      },
      "source": [
        "We are effectively computing a histogram, which is a statistical term for a set of counters (or frequencies).\n",
        "\n",
        "The for loop traverses the string. Each time through the loop, if the character `char_str` is not in the dictionary, we create a new item with key of `char_str` and the initial value `1` (since we have seen this letter once). If `char_str` is already in the dictionary we increment `histo_dict[char_str]`.  The histogram indicates that the letters “a” and “b” appear once; “o” appears twice, and so on."
      ]
    },
    {
      "cell_type": "markdown",
      "metadata": {
        "id": "CM-_5MescMvn"
      },
      "source": [
        "Dictionaries have a method called `get` that takes a `key` and a default value. If the `key` appears in the dictionary, then `get` returns the corresponding value; otherwise it returns the default value.     \n",
        "\n",
        "For example:    "
      ]
    },
    {
      "cell_type": "code",
      "metadata": {
        "id": "xxNgzyKgcK_H"
      },
      "source": [
        "counts = { 'chuck' : 1 , 'annie' : 42, 'jan': 100}"
      ],
      "execution_count": null,
      "outputs": []
    },
    {
      "cell_type": "code",
      "source": [
        "print(type(counts))\n",
        "print(counts)"
      ],
      "metadata": {
        "id": "Pg7NrUjVpwWv"
      },
      "execution_count": null,
      "outputs": []
    },
    {
      "cell_type": "code",
      "source": [
        "print(counts['jan'])"
      ],
      "metadata": {
        "id": "ECf1gXuZpdcT"
      },
      "execution_count": null,
      "outputs": []
    },
    {
      "cell_type": "code",
      "source": [
        "print(counts.get('jan', 0))"
      ],
      "metadata": {
        "id": "mwATDyQRpbF0"
      },
      "execution_count": null,
      "outputs": []
    },
    {
      "cell_type": "markdown",
      "source": [
        "What if the `get` methods does not find the `key` given as an argument?   "
      ],
      "metadata": {
        "id": "S81qL_ijSVwV"
      }
    },
    {
      "cell_type": "code",
      "source": [
        "print(counts['tim'])"
      ],
      "metadata": {
        "id": "wVtUZ2zaqFEs"
      },
      "execution_count": null,
      "outputs": []
    },
    {
      "cell_type": "code",
      "source": [
        "print(counts.get('tim', 0))"
      ],
      "metadata": {
        "id": "8zsTBED2SSFi"
      },
      "execution_count": null,
      "outputs": []
    },
    {
      "cell_type": "markdown",
      "metadata": {
        "id": "SHh7vRNOce3j"
      },
      "source": [
        "We can use `get` to write our histogram loop more concisely. Because the `get` method automatically handles the case where a `key` is not in a dictionary, we can reduce four lines down to one and eliminate the if statement."
      ]
    },
    {
      "cell_type": "code",
      "metadata": {
        "id": "8EOVdiddcgLk"
      },
      "source": [
        "# example code to count characters in a string \n",
        "# USING THE .GET METHOD  \n",
        "# word_str   -- a string with a word as its value\n",
        "# histo_dict -- a histogram dictionary of counts of letters\n",
        "# char_str   -- an individual character as a string\n",
        "\n",
        "# store a word in a string variable\n",
        "word_str = 'brontosaurus'\n",
        "\n",
        "# initialize an empty histogram dictionary\n",
        "histo_dict = dict()\n",
        "# or, initialize a dictionary with some k-v pairs\n",
        "# histo_dict = {'x' : 1, 'y' : 1,'z' : 1, 'b' : 90, 'u' : 80}\n",
        "\n",
        "# use a for loop\n",
        "for char_str in word_str:\n",
        "    histo_dict[char_str] = histo_dict.get(char_str, 0) + 1\n",
        "# try using a different value for the second argument to .get() \n",
        "#    histo_dict[char_str] = histo_dict.get(char_str, 100) + 1\n",
        "# the following attempt would return a key error on 'b'\n",
        "#    histo_dict[char_str] = histo_dict[char_str] + 1\n",
        "\n",
        "# print the histogram dictionary of counts of letters\n",
        "print(histo_dict)"
      ],
      "execution_count": null,
      "outputs": []
    },
    {
      "cell_type": "markdown",
      "metadata": {
        "id": "Xwi7q2QGcm8x"
      },
      "source": [
        "The use of the `get` method to simplify this counting loop ends up being a very commonly used *idiom* in Python and we will use it many times in the rest of the class. So you should take a moment and compare the loop using the `if` statement and `in` operator with the loop using the `get` method. They do exactly the same thing, but one is more succinct."
      ]
    },
    {
      "cell_type": "markdown",
      "metadata": {
        "id": "Gi4Jk5t5coTY"
      },
      "source": [
        "## **Dictionaries and files**"
      ]
    },
    {
      "cell_type": "markdown",
      "metadata": {
        "id": "GKrtfv9dcwZo"
      },
      "source": [
        "One of the common uses of a dictionary is to count the occurrence of words in a file with some written text.     \n",
        "\n",
        "Let’s start with a very simple file of words taken from the text of **Romeo and Juliet**.\n",
        "\n",
        "For the first set of examples, we will use a shortened and simplified version of the text with no punctuation. Later we will work with the text of the scene with punctuation included."
      ]
    },
    {
      "cell_type": "markdown",
      "metadata": {
        "id": "-QDZQmNScxqT"
      },
      "source": [
        "~~~\n",
        "But soft what light through yonder window breaks\n",
        "It is the east and Juliet is the sun\n",
        "Arise fair sun and kill the envious moon\n",
        "Who is already sick and pale with grief\n",
        "~~~"
      ]
    },
    {
      "cell_type": "markdown",
      "metadata": {
        "id": "niLr0xXac3NI"
      },
      "source": [
        "We will write a Python program to read through the lines of the file, break each line into a list of words, and then loop through each of the words in the line and count each word using a dictionary.\n",
        "\n",
        "You will see that we have two `for` loops. The outer loop is reading the lines of the file and the inner loop is iterating through each of the words on that particular line. This is an example of a pattern called nested loops because one of the loops is the outer loop and the other loop is the inner loop.\n",
        "\n",
        "Because the inner loop executes all of its iterations each time the outer loop makes a single iteration, we think of the inner loop as iterating “more quickly” and the outer loop as iterating more slowly.\n",
        "\n",
        "The combination of the two nested loops ensures that we will count every word on every line of the input file."
      ]
    },
    {
      "cell_type": "markdown",
      "metadata": {
        "id": "vryIL4bRdJkI"
      },
      "source": [
        "**Upload the Py4E exercise file \"words.txt\" to your Colab content area then enter the file name \"words.txt\" when prompted by the following code.  You may download the file here [words.txt](https://bit.ly/py4e-words), then upload it to your current working directory.**   \n",
        "\n",
        "\n",
        "**Or, download [romeo.txt](https://bit.ly/romeo-short), upload it to your current working directory, and enter the file name \"romeo.txt\" when prompted by the following code.**  "
      ]
    },
    {
      "cell_type": "code",
      "metadata": {
        "id": "a_yHwhsWc4so"
      },
      "source": [
        "fname = input('Enter the file name: ')\n",
        "try:\n",
        "    fhand = open(fname)\n",
        "except:\n",
        "    print('File cannot be opened:', fname)\n",
        "    exit()\n",
        "\n",
        "counts = dict()\n",
        "for line in fhand:\n",
        "    words = line.split()\n",
        "    for word in words:\n",
        "        if word not in counts:\n",
        "            counts[word] = 1\n",
        "        else:\n",
        "            counts[word] += 1\n",
        "\n",
        "print(counts)\n",
        "\n",
        "# Code: http://www.py4e.com/code3/count1.py"
      ],
      "execution_count": null,
      "outputs": []
    },
    {
      "cell_type": "markdown",
      "metadata": {
        "id": "ZiIbGCNJdjFW"
      },
      "source": [
        "In our else statement, we use the more compact alternative for incrementing a variable.     \n",
        "\n",
        "`counts[word] += 1` *is equivalent to*         \n",
        "`counts[word] = counts[word] + 1`.      \n",
        "\n",
        "Either method can be used to change the value of a variable by any desired amount. Similar alternatives exist for `-=`, `*=`, and `/=`.\n",
        "\n",
        "When we run the program, we see a raw dump of all of the counts in unsorted hash order. (the **romeo.txt** file is available at **www.py4e.com/code3/romeo.txt** or using the link **[romeo.txt](https://bit.ly/romeo-short)**)"
      ]
    },
    {
      "cell_type": "markdown",
      "metadata": {
        "id": "gx4w0uFoeEAW"
      },
      "source": [
        "**Upload the Py4E exercise file \"romeo-full.txt\" to your Colab content area then enter the file name \"romeo-full.txt\" when prompted by rerunning the code above.**     \n",
        "\n",
        "**You can find the file here: [romeo-full.txt](https://bit.ly/romeo-full)**"
      ]
    },
    {
      "cell_type": "markdown",
      "metadata": {
        "id": "E245ZbUhe4ai"
      },
      "source": [
        "It is a bit inconvenient to look through the dictionary to find the most common words and their counts, so we need to add some more Python code to get us the output that will be more helpful."
      ]
    },
    {
      "cell_type": "markdown",
      "metadata": {
        "id": "gsLA2yAre95E"
      },
      "source": [
        "## **Looping and dictionaries**"
      ]
    },
    {
      "cell_type": "markdown",
      "metadata": {
        "id": "25bM5xyRfCYu"
      },
      "source": [
        "If you use a dictionary as the sequence in a for statement, it traverses the keys of the dictionary. This loop prints each key and the corresponding value:"
      ]
    },
    {
      "cell_type": "code",
      "metadata": {
        "id": "VXlIa_WufGjw"
      },
      "source": [
        "counts_dict = { 'chuck' : 1 , 'annie' : 42, 'jan': 100}\n",
        "for key in counts_dict:\n",
        "    print(key, counts_dict[key])"
      ],
      "execution_count": null,
      "outputs": []
    },
    {
      "cell_type": "markdown",
      "metadata": {
        "id": "yjj72zoIfN8s"
      },
      "source": [
        "Again, the keys are in the order in which `key-value pairs` were entered into the dictionary.\n",
        "\n",
        "We can use this pattern to implement the various loop idioms that we have described earlier. For example if we wanted to find all the entries in a dictionary with a value above ten, we could write the following code:"
      ]
    },
    {
      "cell_type": "code",
      "metadata": {
        "id": "sjdp6sPXeTeF"
      },
      "source": [
        "counts_dict = { 'chuck' : 1 , 'annie' : 42, 'jan': 100}\n",
        "for key in counts_dict:\n",
        "    if counts_dict[key] > 10 :\n",
        "        print(key, counts_dict[key])"
      ],
      "execution_count": null,
      "outputs": []
    },
    {
      "cell_type": "code",
      "source": [
        "# The same logic applied to the counts dict from word counting \n",
        "for key in counts:\n",
        "    if counts[key] > 20 :\n",
        "        print(key, counts[key])"
      ],
      "metadata": {
        "id": "4yrolEslu0Qs"
      },
      "execution_count": null,
      "outputs": []
    },
    {
      "cell_type": "markdown",
      "metadata": {
        "id": "ZxrmwPT7fbOJ"
      },
      "source": [
        "The for loop iterates through the keys of the dictionary, so we must use the index operator to retrieve the corresponding value for each key. We see only the entries with a value above 10."
      ]
    },
    {
      "cell_type": "markdown",
      "metadata": {
        "id": "RdaxJPGifie6"
      },
      "source": [
        "If you want to print the keys in alphabetical order, you first make a list of the keys in the dictionary using the keys method available in dictionary objects, and then sort that list and loop through the sorted list, looking up each key and printing out key-value pairs in sorted order as follows:"
      ]
    },
    {
      "cell_type": "code",
      "metadata": {
        "id": "6YB81Puifjy5"
      },
      "source": [
        "counts_dict = { 'chuck' : 1 , 'annie' : 42, 'jan': 100}\n",
        "key_lst = list(counts_dict.keys())\n",
        "print(key_lst)\n",
        "key_lst.sort()\n",
        "for key in key_lst:\n",
        "    print(key, counts_dict[key])"
      ],
      "execution_count": null,
      "outputs": []
    },
    {
      "cell_type": "code",
      "source": [
        "# using the word count dictionary from earlier\n",
        "key_lst = list(counts.keys())\n",
        "# print(key_lst)\n",
        "key_lst.sort()\n",
        "for key in key_lst:\n",
        "    if counts[key] > 20 :\n",
        "        print(key, counts[key])"
      ],
      "metadata": {
        "id": "MjIpOsJLvcJn"
      },
      "execution_count": null,
      "outputs": []
    },
    {
      "cell_type": "markdown",
      "metadata": {
        "id": "b0ELnDG2fsXg"
      },
      "source": [
        "First you see the list of `keys` in unsorted order that we get from the `.keys()` method. Then we see the `key-value pairs` in order from the for loop."
      ]
    },
    {
      "cell_type": "markdown",
      "source": [
        "\n",
        "\n",
        "---\n",
        "\n"
      ],
      "metadata": {
        "id": "NxA2BgbNooYg"
      }
    },
    {
      "cell_type": "markdown",
      "source": [
        "# **Tuples**     \n",
        "**(from All you need to know about Tuples in Python. 13-Sep-2021.  By Andreas Soularidis on Medium.com)**    \n"
      ],
      "metadata": {
        "id": "za4ZzTmGfU1R"
      }
    },
    {
      "cell_type": "markdown",
      "source": [
        "##Introduction     \n",
        "\n",
        "First of all, let’s talk about Python Tuples in general. Tuples are used to store data of multiple types like str, int, float, boolean, etc in a single variable. Lists and tuples have a lot in common and lots of differences as well. First of all, in both data types, the elements are ordered, so the items have a defined order, that will not change. Also, both are dynamic in size data types. So we don’t need to define the size of the tuple in advance, as Python takes care of that. Moreover, in both data types duplicate values are allowed. On the other hand, the big difference between lists and tuples is that a tuple is immutable data type, so we cannot add, update or delete the elements of a tuple after its declaration\n"
      ],
      "metadata": {
        "id": "PZgFP4K3mtXB"
      }
    },
    {
      "cell_type": "markdown",
      "source": [
        "## When to use tuples    \n",
        "\n",
        "The question is when to use a list and when to use a tuple in my code. A general guide is to use tuples only if you are absolutely sure that the data will not change during the execution of the program. For example, if you want to store the days of the week you can store them in a tuple.    \n"
      ],
      "metadata": {
        "id": "y9FPQZy1gNgK"
      }
    },
    {
      "cell_type": "markdown",
      "source": [
        "## Create a tuple    \n",
        "\n",
        "To create a tuple we use round brackets (parentheses), or we can use the constructor tuple() like below:    "
      ],
      "metadata": {
        "id": "2gHck3D4gWBK"
      }
    },
    {
      "cell_type": "code",
      "source": [
        "first_tuple = ('dog', 4.5, True, 7, 'apple')\n",
        "print(first_tuple)"
      ],
      "metadata": {
        "id": "dArq-hVFgdm9"
      },
      "execution_count": null,
      "outputs": []
    },
    {
      "cell_type": "code",
      "source": [
        "second_tuple = tuple(['dog', 4.5, True, 7, 'apple'])\n",
        "print(second_tuple)"
      ],
      "metadata": {
        "id": "JG9J0B28g3TC"
      },
      "execution_count": null,
      "outputs": []
    },
    {
      "cell_type": "markdown",
      "source": [
        "\n",
        "Notice that, in the second example the constructor `tuple()` takes as a parameter a list and turns it into a tuple. This syntax would be extremely useful later.    \n",
        "\n",
        "To create a single element tuple we use a comma after the element, so that Python recognizes that as a tuple and not as a simple expression with parenthesis. Look at the example below:    "
      ],
      "metadata": {
        "id": "tXzMxgc8heWy"
      }
    },
    {
      "cell_type": "code",
      "source": [
        "solo_tuple = (1,)\n",
        "print(solo_tuple)\n",
        "print(type(solo_tuple))"
      ],
      "metadata": {
        "id": "TYnpLZnMhg41"
      },
      "execution_count": null,
      "outputs": []
    },
    {
      "cell_type": "code",
      "source": [
        "not_tuple = (1)\n",
        "print(not_tuple)\n",
        "print(type(not_tuple))"
      ],
      "metadata": {
        "id": "QWx9o2w7hxKj"
      },
      "execution_count": null,
      "outputs": []
    },
    {
      "cell_type": "markdown",
      "source": [
        "## Access in tuple items    \n",
        "\n",
        "Tuples, like lists, are zero-index data types, so the first element of a tuple has `index[0]`, the second has `index[1]`, and so on. Also, we have the reversed index that starts from `-1` and represents the last element of a tuple. So, using the reversed index the last element has `index[-1]` the second to last element has `index[-2]`, etc. So, using the index we can have access to specific tuple values as following:    "
      ],
      "metadata": {
        "id": "5yr9aabCiHE6"
      }
    },
    {
      "cell_type": "code",
      "source": [
        "print(first_tuple[1])"
      ],
      "metadata": {
        "id": "Zdh9EVTciQps"
      },
      "execution_count": null,
      "outputs": []
    },
    {
      "cell_type": "code",
      "source": [
        "print(first_tuple[-5])"
      ],
      "metadata": {
        "id": "nQhzb0clioEa"
      },
      "execution_count": null,
      "outputs": []
    },
    {
      "cell_type": "markdown",
      "source": [
        "## Slicing    \n",
        "\n",
        "Like lists, we can have access to a specific range of a tuple using the following syntax\n",
        "\n",
        "```\n",
        "tuple[start_index : end_index : pace]\n",
        "```\n",
        "This expression returns a new tuple from start_index to end_index-1 according to pace. By default, the pace has a value of 1. If we omit the start_index the default value is 0. Similarly, if we omit the end_index the default value is the last index of the tuple. Last, if we omit both indexes we get a copy of the tuple.     \n",
        "\n",
        "Let’s see some examples below:"
      ],
      "metadata": {
        "id": "JzqpzBjviwGK"
      }
    },
    {
      "cell_type": "code",
      "source": [
        "print(first_tuple[1:3])"
      ],
      "metadata": {
        "id": "6cSzkgv-i6Wq"
      },
      "execution_count": null,
      "outputs": []
    },
    {
      "cell_type": "code",
      "source": [
        "print(first_tuple[::2])"
      ],
      "metadata": {
        "id": "uynjWaJGjIQj"
      },
      "execution_count": null,
      "outputs": []
    },
    {
      "cell_type": "code",
      "source": [
        "print(first_tuple[:4])"
      ],
      "metadata": {
        "id": "_q4jiunvjOH7"
      },
      "execution_count": null,
      "outputs": []
    },
    {
      "cell_type": "code",
      "source": [
        "print(first_tuple[:])"
      ],
      "metadata": {
        "id": "RR5KJGLEjRhr"
      },
      "execution_count": null,
      "outputs": []
    },
    {
      "cell_type": "markdown",
      "source": [
        "## Modifying tuple content     "
      ],
      "metadata": {
        "id": "DOO3LWaYqB6g"
      }
    },
    {
      "cell_type": "markdown",
      "source": [
        "### Add elements to tuples    \n",
        "\n",
        "As we mentioned earlier, tuples are immutable data types, so we can not add, update or delete elements after the tuple has been created. In lists, we have the method `append()` to add new elements in an existing list, but in tuples, we don’t have this method. So how can we add elements to an existing tuple?     \n",
        "\n",
        "To do this, we make a three-step trick.     \n",
        "\n",
        "1. First, we convert our tuple to a list. We can do this using the constructor `list()`. At this point, we have a list with the same elements as our tuple, so now we can use the `append()` method.     \n",
        "\n",
        "2. The second step is to use the `append()` method to add the element to our list. At this point, we have all the elements we want on a list.     \n",
        "\n",
        "3. The third and last step is to convert our list into a tuple, using the constructor `tuple()`. Now, we have all elements we want in a tuple.    \n",
        "\n",
        "*We can use the `id()` function to determine whether the tuple we begin with and the final tuple are unique objects.*   \n",
        "\n",
        "Let’s see an example below:    "
      ],
      "metadata": {
        "id": "UDHmG1J7jgp0"
      }
    },
    {
      "cell_type": "code",
      "source": [
        "# check the tuple contents and object id\n",
        "print(first_tuple)\n",
        "print(id(first_tuple))"
      ],
      "metadata": {
        "id": "b7W4QdrtkA0t"
      },
      "execution_count": null,
      "outputs": []
    },
    {
      "cell_type": "code",
      "source": [
        "# step 1 - create a list from the tuple\n",
        "first_list = list(first_tuple)\n",
        "print(first_list)"
      ],
      "metadata": {
        "id": "wQqd2GUWkgd1"
      },
      "execution_count": null,
      "outputs": []
    },
    {
      "cell_type": "code",
      "source": [
        "# step 2 - append to the new list\n",
        "first_list.append('banana')\n",
        "print(first_list)"
      ],
      "metadata": {
        "id": "aD_ssMEnlS4r"
      },
      "execution_count": null,
      "outputs": []
    },
    {
      "cell_type": "code",
      "source": [
        "# step 3 - replace the tuple with a tuple of the new list\n",
        "first_tuple = tuple(first_list)"
      ],
      "metadata": {
        "id": "FTDwZG-Mkmc7"
      },
      "execution_count": 17,
      "outputs": []
    },
    {
      "cell_type": "code",
      "source": [
        "# check the tuple contents and object id\n",
        "print(first_tuple)\n",
        "print(id(first_tuple))"
      ],
      "metadata": {
        "id": "Bvniw39NlBtb"
      },
      "execution_count": null,
      "outputs": []
    },
    {
      "cell_type": "markdown",
      "source": [
        "Be careful, that our initial tuple is not the same as the final tuple despite the fact that both have the same name `my_tuple`. We can easily check this by noticing the difference in `id` values."
      ],
      "metadata": {
        "id": "TWcgB3U5l71K"
      }
    },
    {
      "cell_type": "markdown",
      "source": [
        "### Change tuple elements    \n",
        "\n",
        "If we try to update the value of an element in tuples we will get an error, because tuples are immutable data types, like below:"
      ],
      "metadata": {
        "id": "taCVSCG6l_-E"
      }
    },
    {
      "cell_type": "code",
      "source": [
        "print(second_tuple)"
      ],
      "metadata": {
        "id": "WnK69CmGmFyL"
      },
      "execution_count": null,
      "outputs": []
    },
    {
      "cell_type": "code",
      "source": [
        "second_tuple[0] = 'cat'"
      ],
      "metadata": {
        "id": "hbqD-GdWmMtU"
      },
      "execution_count": null,
      "outputs": []
    },
    {
      "cell_type": "markdown",
      "source": [
        "*Before we go further, let's create a `third_tuple` with the same element values.*      \n",
        "\n",
        "*We will use this later:*    "
      ],
      "metadata": {
        "id": "99aMeV6pnvg7"
      }
    },
    {
      "cell_type": "code",
      "source": [
        "third_tuple = second_tuple[:] "
      ],
      "metadata": {
        "id": "POCdjpEtn7r8"
      },
      "execution_count": 26,
      "outputs": []
    },
    {
      "cell_type": "markdown",
      "source": [
        "*Why don't we just use the following statement to create the third tuple?*     \n",
        "\n",
        "```\n",
        "third_tuple = second_tuple \n",
        "```\n"
      ],
      "metadata": {
        "id": "E_XEyf-woCMD"
      }
    },
    {
      "cell_type": "markdown",
      "source": [
        "To update the value of an element in a tuple we will use the same trick as above.     \n",
        "\n",
        "1. First, convert our tuple into a list.     \n",
        "\n",
        "2. Then, we update the elements we want using the index.     \n",
        "\n",
        "3. Then, we convert our list into a tuple. Now our tuple has the updated values.     \n",
        "\n",
        "Let’s see the code below:"
      ],
      "metadata": {
        "id": "B8LQDOQemTVz"
      }
    },
    {
      "cell_type": "code",
      "source": [
        "# check the tuple contents and object id\n",
        "print(second_tuple)\n",
        "print(id(second_tuple))"
      ],
      "metadata": {
        "id": "zYvyZao7mo4o"
      },
      "execution_count": null,
      "outputs": []
    },
    {
      "cell_type": "code",
      "source": [
        "# step 1 - create a list from the tuple\n",
        "second_list = list(second_tuple)\n",
        "print(second_list)"
      ],
      "metadata": {
        "id": "1UZPwGQKmo4o"
      },
      "execution_count": null,
      "outputs": []
    },
    {
      "cell_type": "code",
      "source": [
        "# step 2 - replace a list member using index\n",
        "second_list[0] = 'cat'\n",
        "print(second_list)"
      ],
      "metadata": {
        "id": "87BctUpamo4p"
      },
      "execution_count": null,
      "outputs": []
    },
    {
      "cell_type": "code",
      "source": [
        "# step 3 - replace the tuple with a tuple of the new list\n",
        "second_tuple = tuple(second_list)"
      ],
      "metadata": {
        "id": "D28uTDCymo4p"
      },
      "execution_count": 24,
      "outputs": []
    },
    {
      "cell_type": "code",
      "source": [
        "# check the tuple contents and object id\n",
        "print(second_tuple)\n",
        "print(id(second_tuple))"
      ],
      "metadata": {
        "id": "v3Lf8iUamo4q"
      },
      "execution_count": null,
      "outputs": []
    },
    {
      "cell_type": "markdown",
      "source": [
        "### Delete tuple elements    \n",
        "\n",
        "As you can guess, we cannot remove elements in a tuple. So we use the same trick as above and take advantage of the `.remove()` method of the list data type to remove element(s).     \n",
        "\n",
        "Let’s see the code below:"
      ],
      "metadata": {
        "id": "kHvSFZkEf_YK"
      }
    },
    {
      "cell_type": "code",
      "source": [
        "# check the tuple contents and object id\n",
        "print(third_tuple)\n",
        "print(id(third_tuple))"
      ],
      "metadata": {
        "id": "l1_H77qRojUs"
      },
      "execution_count": null,
      "outputs": []
    },
    {
      "cell_type": "code",
      "source": [
        "# step 1 - create a list from the tuple\n",
        "third_list = list(third_tuple)\n",
        "print(third_list)"
      ],
      "metadata": {
        "id": "-7vR_mv1ojUt"
      },
      "execution_count": null,
      "outputs": []
    },
    {
      "cell_type": "code",
      "source": [
        "# step 2 - remove from the new list\n",
        "third_list.remove(True)\n",
        "print(third_list)"
      ],
      "metadata": {
        "id": "ClinKMZ3ojUt"
      },
      "execution_count": null,
      "outputs": []
    },
    {
      "cell_type": "code",
      "source": [
        "# step 3 - replace the tuple with a tuple of the new list\n",
        "third_tuple = tuple(third_list)"
      ],
      "metadata": {
        "id": "iWhWj_eEojUt"
      },
      "execution_count": 30,
      "outputs": []
    },
    {
      "cell_type": "code",
      "source": [
        "# check the tuple contents and object id\n",
        "print(third_tuple)\n",
        "print(id(third_tuple))"
      ],
      "metadata": {
        "id": "DYwhwhwpojUt"
      },
      "execution_count": null,
      "outputs": []
    },
    {
      "cell_type": "markdown",
      "source": [
        "## Loops in tuples    \n",
        "\n",
        "One of the most common actions in iterables like lists and tuples is the iteration. We have a couple of ways to look at the elements of a tuple. The most common is using a `for` loop.     \n",
        "\n",
        "The syntax of the loop is the following:\n",
        "```\n",
        "for element in my_tuple:\n",
        "   do something with the element\n",
        "```"
      ],
      "metadata": {
        "id": "jYEpPbZ4pHl9"
      }
    },
    {
      "cell_type": "code",
      "source": [
        "for element in first_tuple:\n",
        "    print(element)"
      ],
      "metadata": {
        "id": "drSt3mj1qToR"
      },
      "execution_count": null,
      "outputs": []
    },
    {
      "cell_type": "code",
      "source": [
        "for element in second_tuple:\n",
        "    print(element)"
      ],
      "metadata": {
        "id": "cQlOJSRCqph0"
      },
      "execution_count": null,
      "outputs": []
    },
    {
      "cell_type": "code",
      "source": [
        "for element in third_tuple:\n",
        "    print(element)"
      ],
      "metadata": {
        "id": "tlxheUvbqsg7"
      },
      "execution_count": null,
      "outputs": []
    },
    {
      "cell_type": "markdown",
      "source": [
        "As in lists, we can use the index number to iterate the elements of a tuple. To do this, we use the for loop with `len()` and `range()` functions.\n",
        "```\n",
        "for index in range(len(my_tuple)):\n",
        "   do something with my_tuple[index]\n",
        "```"
      ],
      "metadata": {
        "id": "9nCkfqpZq3L1"
      }
    },
    {
      "cell_type": "code",
      "source": [
        "for index in range(len(first_tuple)):\n",
        "    print(first_tuple[index])"
      ],
      "metadata": {
        "id": "mBByZobtq9st"
      },
      "execution_count": null,
      "outputs": []
    },
    {
      "cell_type": "markdown",
      "source": [
        "#Tuple into a tuple    \n",
        "\n",
        "As mentioned earlier, in tuple we can store data of different types.   We can store a tuple into a tuple.      \n",
        "\n",
        "We can have access to inner tuple elements using the index of the inner tuple and the index of the specific element.      \n",
        "\n",
        "Let’s see the code below:"
      ],
      "metadata": {
        "id": "5X_ScmIrrSxG"
      }
    },
    {
      "cell_type": "code",
      "source": [
        "fourth_tuple = ('dog', 4.5, True, 7, 'apple', (1, 2, 3))\n",
        "print(fourth_tuple)"
      ],
      "metadata": {
        "id": "7wRqiItXrdre"
      },
      "execution_count": null,
      "outputs": []
    },
    {
      "cell_type": "code",
      "source": [
        "print(fourth_tuple[-1][0])"
      ],
      "metadata": {
        "id": "aKV3BEH6r2Ua"
      },
      "execution_count": null,
      "outputs": []
    },
    {
      "cell_type": "markdown",
      "source": [
        "*We should consider the position of nested iterables when using more than one index.*   "
      ],
      "metadata": {
        "id": "AXAa8E9XscIf"
      }
    },
    {
      "cell_type": "code",
      "source": [
        "print(fourth_tuple[1][0])"
      ],
      "metadata": {
        "id": "Do12WEIwsC2c"
      },
      "execution_count": null,
      "outputs": []
    },
    {
      "cell_type": "markdown",
      "source": [
        "# Unpacking Tuples    \n",
        "Whenever we create a tuple we “pack” elements into it. Python allows us to extract elements of a tuple and stores these elements into variables.     \n",
        "\n",
        "Let’s see an example below:    "
      ],
      "metadata": {
        "id": "zwjxPuChsoeG"
      }
    },
    {
      "cell_type": "code",
      "source": [
        "fifth_tuple = (12, 34, 2, 6, 24)   \n",
        "\n",
        "first, second, third, fourth, fifth = fifth_tuple   \n",
        "\n",
        "print(fifth_tuple)\n",
        "\n",
        "print(first, second, third, fourth, fifth)"
      ],
      "metadata": {
        "id": "esQaGYLjs1jR"
      },
      "execution_count": null,
      "outputs": []
    },
    {
      "cell_type": "markdown",
      "source": [
        "In the example above, we have a tuple of numbers and we extract those numbers in variables. Be careful that the number of elements in the tuple must be exactly the same as the number of variables, otherwise, we will get an error. In case we are interested in only some of the elements of the tuple, we can use the asterisk * syntax as above"
      ],
      "metadata": {
        "id": "U1pnqR2ptWKD"
      }
    },
    {
      "cell_type": "code",
      "source": [
        "primary, secondary, *rest = fifth_tuple  \n",
        "\n",
        "print(primary, secondary, rest)\n",
        "\n",
        "print('Type of `primary` is', type(primary))\n",
        "print('Type of `secondary` is', type(secondary))\n",
        "print('Type of `rest` is', type(rest))"
      ],
      "metadata": {
        "id": "KWywZi9HtetT"
      },
      "execution_count": null,
      "outputs": []
    },
    {
      "cell_type": "markdown",
      "source": [
        "*Bear in mind that a variable which uses an asterisk to take values from a tuple will itself be a list.*    \n",
        "\n",
        "As we can notice, in the case above, Python returns a list that includes the rest of the elements of the tuple.     \n",
        "\n",
        "The following is another interesting, valid syntax:     \n"
      ],
      "metadata": {
        "id": "UD9bXY_4t95m"
      }
    },
    {
      "cell_type": "code",
      "source": [
        "alpha, *medio, omega = fifth_tuple\n",
        "\n",
        "print(alpha, medio, omega)\n",
        "\n",
        "print('Type of `alpha` is', type(alpha))\n",
        "print('Type of `medio` is', type(medio))\n",
        "print('Type of `omega` is', type(omega))"
      ],
      "metadata": {
        "id": "Jz9iqL5Kuhkz"
      },
      "execution_count": null,
      "outputs": []
    },
    {
      "cell_type": "markdown",
      "source": [
        "##Tuple Methods    \n"
      ],
      "metadata": {
        "id": "sh7gGBaevDAr"
      }
    },
    {
      "cell_type": "markdown",
      "source": [
        "Let's create one more example tuple to demonstrate the two tuple methods:    \n",
        "1. `.count()`    \n",
        "2. `.index()`    "
      ],
      "metadata": {
        "id": "eEfaUPykv9mA"
      }
    },
    {
      "cell_type": "code",
      "source": [
        "sixth_tuple = (12, 34,2, 6, 24, 34)"
      ],
      "metadata": {
        "id": "7RfJU7FJwKlo"
      },
      "execution_count": 46,
      "outputs": []
    },
    {
      "cell_type": "markdown",
      "source": [
        "## `tuple.count()`     \n",
        "\n",
        "Returns the number of times the given value appears in a tuple.    "
      ],
      "metadata": {
        "id": "6CmCYd53vFiD"
      }
    },
    {
      "cell_type": "code",
      "source": [
        "print(sixth_tuple.count(34))"
      ],
      "metadata": {
        "colab": {
          "base_uri": "https://localhost:8080/"
        },
        "id": "c4R7yRULv4BX",
        "outputId": "c6566225-bd42-40c1-aa03-9279a191c8ab"
      },
      "execution_count": 47,
      "outputs": [
        {
          "output_type": "stream",
          "name": "stdout",
          "text": [
            "2\n"
          ]
        }
      ]
    },
    {
      "cell_type": "markdown",
      "source": [
        "## `tuple.index()`     \n",
        "\n",
        "Returns the index of the first appearance of the given element. Be careful that if the given number doesn’t exist, it raises a *ValueError* exception.   "
      ],
      "metadata": {
        "id": "FE1sxy13veNG"
      }
    },
    {
      "cell_type": "code",
      "source": [
        "print(sixth_tuple.index(34))"
      ],
      "metadata": {
        "colab": {
          "base_uri": "https://localhost:8080/"
        },
        "id": "3kPgKwQVv4gv",
        "outputId": "7dba64fe-02ae-43c0-fb8e-455f301f8ffd"
      },
      "execution_count": 48,
      "outputs": [
        {
          "output_type": "stream",
          "name": "stdout",
          "text": [
            "1\n"
          ]
        }
      ]
    },
    {
      "cell_type": "code",
      "source": [
        "print(sixth_tuple.index(7))"
      ],
      "metadata": {
        "id": "UM3zLh5qwih6"
      },
      "execution_count": null,
      "outputs": []
    },
    {
      "cell_type": "markdown",
      "source": [
        "\n",
        "\n",
        "---\n",
        "\n"
      ],
      "metadata": {
        "id": "_0j6nFjpfTYx"
      }
    },
    {
      "cell_type": "markdown",
      "source": [
        "# **Tuples**\n",
        "**(from Py4E.com, lesson 11 - former lesson 10)**  "
      ],
      "metadata": {
        "id": "5ubA_kw2nLQk"
      }
    },
    {
      "cell_type": "markdown",
      "metadata": {
        "id": "s6iMChRAJ6Tj"
      },
      "source": [
        "## 11(10).1 Tuples are immutable"
      ]
    },
    {
      "cell_type": "code",
      "execution_count": null,
      "metadata": {
        "id": "rqS9n2t1J6Tk"
      },
      "outputs": [],
      "source": [
        "# Syntactically, a tuple is a comma-separated list of values:\n",
        "t = 'a', 'b', 'c', 'd', 'e'"
      ]
    },
    {
      "cell_type": "code",
      "execution_count": null,
      "metadata": {
        "id": "p6I8X0X_J6Tl"
      },
      "outputs": [],
      "source": [
        "# enclose tuples in parentheses to identify easily\n",
        "t = ('a', 'b', 'c', 'd', 'e')"
      ]
    },
    {
      "cell_type": "code",
      "execution_count": null,
      "metadata": {
        "id": "7qt1Dgr-J6Tl"
      },
      "outputs": [],
      "source": [
        "# create a tuple with a single element\n",
        "t1 = ('a',)  # End a element by ','\n",
        "type(t1)"
      ]
    },
    {
      "cell_type": "code",
      "execution_count": null,
      "metadata": {
        "id": "8Ia5ZYrzJ6Tn"
      },
      "outputs": [],
      "source": [
        "t2 = ('a')\n",
        "type(t2)"
      ]
    },
    {
      "cell_type": "code",
      "execution_count": null,
      "metadata": {
        "id": "nCkRvHJCJ6To"
      },
      "outputs": [],
      "source": [
        "# built-in function tuple\n",
        "t = tuple()\n",
        "print(t)"
      ]
    },
    {
      "cell_type": "code",
      "execution_count": null,
      "metadata": {
        "id": "1ihqmSs0J6To"
      },
      "outputs": [],
      "source": [
        "built-in function tuple with string as argument\n",
        "t = tuple('lupins')\n",
        "print(t)"
      ]
    },
    {
      "cell_type": "code",
      "execution_count": null,
      "metadata": {
        "id": "jLKuxKe4J6Tp"
      },
      "outputs": [],
      "source": [
        "t = ('a', 'b', 'c', 'd', 'e')\n",
        "print(t[0]) # bracket operator indexes an element"
      ]
    },
    {
      "cell_type": "code",
      "execution_count": null,
      "metadata": {
        "id": "q9pLFkL4J6Tp"
      },
      "outputs": [],
      "source": [
        "print(t[1:3]) # slice operator selects a range of elements"
      ]
    },
    {
      "cell_type": "code",
      "execution_count": null,
      "metadata": {
        "id": "h5S2YNcLJ6Tp"
      },
      "outputs": [],
      "source": [
        "t[0] = 'A'"
      ]
    },
    {
      "cell_type": "code",
      "execution_count": null,
      "metadata": {
        "id": "S0-Qc4YPJ6Tq"
      },
      "outputs": [],
      "source": [
        "# can’t modify the elements of a tuple, but can replace one tuple with another\n",
        "t = ('A',) + t[1:]\n",
        "print(t)"
      ]
    },
    {
      "cell_type": "markdown",
      "metadata": {
        "id": "MhadYzFKJ6Tq"
      },
      "source": [
        "## 11(10).2 Comparing tuples"
      ]
    },
    {
      "cell_type": "code",
      "execution_count": null,
      "metadata": {
        "id": "9BMY3cL6J6Tr"
      },
      "outputs": [],
      "source": [
        "(0, 1, 2) < (0, 3, 4) # comparing with respective sequence elements"
      ]
    },
    {
      "cell_type": "code",
      "execution_count": null,
      "metadata": {
        "id": "KWiLQEp3J6Tr"
      },
      "outputs": [],
      "source": [
        "(0, 1, 2000000) < (0, 3, 4)"
      ]
    },
    {
      "cell_type": "code",
      "execution_count": null,
      "metadata": {
        "id": "-5LUOyYMJ6Tr"
      },
      "outputs": [],
      "source": [
        "# you have a list of words and you want to sort them from longest to shortest:\n",
        "txt = 'but soft what light in yonder window breaks'\n",
        "words = txt.split()\n",
        "t = list()\n",
        "for word in words:\n",
        "    t.append((len(word), word))\n",
        "\n",
        "t.sort(reverse=True)\n",
        "\n",
        "res = list()\n",
        "for length, word in t:\n",
        "    res.append(word)\n",
        "\n",
        "print(res)"
      ]
    },
    {
      "cell_type": "markdown",
      "metadata": {
        "id": "7knbylylJ6Ts"
      },
      "source": [
        "## 11(10).3 Tuple assignment"
      ]
    },
    {
      "cell_type": "code",
      "execution_count": null,
      "metadata": {
        "id": "2_UiYfAcJ6Ts"
      },
      "outputs": [],
      "source": [
        "# 1st Way\n",
        "\n",
        "# unique syntactic features of the Python language is the ability to have a tuple on the left side of an assignment statement.\n",
        "m = [ 'have', 'fun' ]\n",
        "x, y = m"
      ]
    },
    {
      "cell_type": "code",
      "execution_count": null,
      "metadata": {
        "id": "Hfp5SdHMJ6Ts"
      },
      "outputs": [],
      "source": [
        "x"
      ]
    },
    {
      "cell_type": "code",
      "execution_count": null,
      "metadata": {
        "id": "henhLmppJ6Tt"
      },
      "outputs": [],
      "source": [
        "y"
      ]
    },
    {
      "cell_type": "code",
      "execution_count": null,
      "metadata": {
        "id": "1Z8HCjlDJ6Tt"
      },
      "outputs": [],
      "source": [
        "# 2nd Way\n",
        "\n",
        "m = [ 'have', 'fun' ]\n",
        "x = m[0]\n",
        "y = m[1]"
      ]
    },
    {
      "cell_type": "code",
      "execution_count": null,
      "metadata": {
        "id": "0qklmeWYJ6Tt"
      },
      "outputs": [],
      "source": [
        "x"
      ]
    },
    {
      "cell_type": "code",
      "execution_count": null,
      "metadata": {
        "id": "mgjex7blJ6Tt"
      },
      "outputs": [],
      "source": [
        "y"
      ]
    },
    {
      "cell_type": "code",
      "execution_count": null,
      "metadata": {
        "id": "y_YR36psJ6Tu"
      },
      "outputs": [],
      "source": [
        "# 3rd Way\n",
        "\n",
        "m = [ 'have', 'fun' ]\n",
        "(x, y) = m"
      ]
    },
    {
      "cell_type": "code",
      "execution_count": null,
      "metadata": {
        "id": "prqhof7KJ6Tu"
      },
      "outputs": [],
      "source": [
        "x"
      ]
    },
    {
      "cell_type": "code",
      "execution_count": null,
      "metadata": {
        "id": "mYU3ZnEJJ6Tu"
      },
      "outputs": [],
      "source": [
        "y"
      ]
    },
    {
      "cell_type": "code",
      "execution_count": null,
      "metadata": {
        "id": "qinj0E3NJ6Tu"
      },
      "outputs": [],
      "source": [
        "# application of tuple assignment allows us to swap the values of two variables in a single statement\n",
        "x, y = y, x"
      ]
    },
    {
      "cell_type": "code",
      "execution_count": null,
      "metadata": {
        "id": "ODhFqFUdJ6Tv"
      },
      "outputs": [],
      "source": [
        "a, b = 1, 2, 3"
      ]
    },
    {
      "cell_type": "code",
      "execution_count": null,
      "metadata": {
        "id": "BzSagz3EJ6Tv"
      },
      "outputs": [],
      "source": [
        "addr = 'monty@python.org'\n",
        "uname, domain = addr.split('@')"
      ]
    },
    {
      "cell_type": "code",
      "execution_count": null,
      "metadata": {
        "id": "n8V98zcDJ6Tv"
      },
      "outputs": [],
      "source": [
        "print(uname)"
      ]
    },
    {
      "cell_type": "code",
      "execution_count": null,
      "metadata": {
        "id": "qYvM01m3J6Tv"
      },
      "outputs": [],
      "source": [
        "print(domain)"
      ]
    },
    {
      "cell_type": "markdown",
      "metadata": {
        "id": "dIulHEFhJ6Tv"
      },
      "source": [
        "## 11(10).4 Dictionaries and tuples"
      ]
    },
    {
      "cell_type": "code",
      "execution_count": null,
      "metadata": {
        "id": "QaJm67LTJ6Tw",
        "outputId": "8cd2e9a7-8cc5-4f4c-c10f-d87b7214f73f"
      },
      "outputs": [
        {
          "name": "stdout",
          "output_type": "stream",
          "text": [
            "[('a', 10), ('b', 1), ('c', 22)]\n"
          ]
        }
      ],
      "source": [
        "d = {'a':10, 'b':1, 'c':22}\n",
        "t = list(d.items())\n",
        "print(t)\n",
        "# Here each tuple is a key-value pair:"
      ]
    },
    {
      "cell_type": "code",
      "execution_count": null,
      "metadata": {
        "id": "VhVWRl0cJ6Tw",
        "outputId": "8582b6a7-829c-4322-9977-2549c3433ffd"
      },
      "outputs": [
        {
          "data": {
            "text/plain": [
              "[('a', 10), ('b', 1), ('c', 22)]"
            ]
          },
          "execution_count": 29,
          "metadata": {},
          "output_type": "execute_result"
        }
      ],
      "source": [
        "t"
      ]
    },
    {
      "cell_type": "code",
      "execution_count": null,
      "metadata": {
        "id": "ZhYt-PSIJ6Tw"
      },
      "outputs": [],
      "source": [
        "t.sort()"
      ]
    },
    {
      "cell_type": "code",
      "execution_count": null,
      "metadata": {
        "id": "TnBb8dFIJ6Tw",
        "outputId": "66f8b217-b855-4443-be4a-2c9e656eb287"
      },
      "outputs": [
        {
          "data": {
            "text/plain": [
              "[('a', 10), ('b', 1), ('c', 22)]"
            ]
          },
          "execution_count": 31,
          "metadata": {},
          "output_type": "execute_result"
        }
      ],
      "source": [
        "t"
      ]
    },
    {
      "cell_type": "markdown",
      "metadata": {
        "id": "zaz8LNv1J6Tw"
      },
      "source": [
        "## 11(10).5 Multiple assignment with dictionaries"
      ]
    },
    {
      "cell_type": "code",
      "execution_count": null,
      "metadata": {
        "id": "IVexHkxbJ6Tx"
      },
      "outputs": [],
      "source": [
        "for key, val in list(d.items()):\n",
        "    print(val, key)"
      ]
    },
    {
      "cell_type": "code",
      "execution_count": null,
      "metadata": {
        "id": "e05yGXlsJ6Tx"
      },
      "outputs": [],
      "source": [
        "d = {'a':10, 'b':1, 'c':22}\n",
        "l = list()\n",
        "for key, val in d.items() :\n",
        "    l.append( (val, key) )"
      ]
    },
    {
      "cell_type": "code",
      "execution_count": null,
      "metadata": {
        "id": "0NzSUCsdJ6Tx"
      },
      "outputs": [],
      "source": [
        "l"
      ]
    },
    {
      "cell_type": "code",
      "execution_count": null,
      "metadata": {
        "id": "9oQ_6bDKJ6Tx"
      },
      "outputs": [],
      "source": [
        "l.sort(reverse=True)\n",
        "l"
      ]
    },
    {
      "cell_type": "markdown",
      "metadata": {
        "id": "FBwZ6JgsJ6Tx"
      },
      "source": [
        "## 11(10).6 The most common words"
      ]
    },
    {
      "cell_type": "markdown",
      "source": [
        "**Upload the Py4E exercise file \"romeo-full.txt\" to your Colab content area.**     \n",
        "\n",
        "**You can find the file here: [romeo-full.txt](https://bit.ly/romeo-full)**"
      ],
      "metadata": {
        "id": "X7eiJ38snxtG"
      }
    },
    {
      "cell_type": "code",
      "execution_count": null,
      "metadata": {
        "id": "onwclN96J6Tx"
      },
      "outputs": [],
      "source": [
        "import string\n",
        "fhand = open('romeo-full.txt')\n",
        "counts = dict()\n",
        "for line in fhand:\n",
        "    line = line.translate(str.maketrans('', '', string.punctuation))\n",
        "    line = line.lower()\n",
        "    words = line.split()\n",
        "    for word in words:\n",
        "        if word not in counts:\n",
        "            counts[word] = 1\n",
        "        else:\n",
        "            counts[word] += 1\n",
        "\n",
        "# Sort the dictionary by value\n",
        "lst = list()\n",
        "for key, val in list(counts.items()):\n",
        "    lst.append((val, key))\n",
        "\n",
        "lst.sort(reverse=True)\n",
        "\n",
        "for key, val in lst[:10]:\n",
        "    print(key, val)"
      ]
    },
    {
      "cell_type": "markdown",
      "source": [
        "\n",
        "\n",
        "---\n",
        "\n"
      ],
      "metadata": {
        "id": "kj8srYVjniU9"
      }
    },
    {
      "cell_type": "markdown",
      "metadata": {
        "id": "83QzM0f_ftUF"
      },
      "source": [
        "# **Advanced text parsing**"
      ]
    },
    {
      "cell_type": "markdown",
      "metadata": {
        "id": "IbmMNPxOfxji"
      },
      "source": [
        "In the above example using the file **romeo.txt**, we made the file as simple as possible by removing all punctuation by hand. The actual text has lots of punctuation, as shown below."
      ]
    },
    {
      "cell_type": "markdown",
      "metadata": {
        "id": "AGrPCtKKgH63"
      },
      "source": [
        "```\n",
        "But, soft! what light through yonder window breaks?\n",
        "\n",
        "It is the east, and Juliet is the sun.\n",
        "\n",
        "Arise, fair sun, and kill the envious moon,\n",
        "\n",
        "Who is already sick and pale with grief,\n",
        "```"
      ]
    },
    {
      "cell_type": "markdown",
      "metadata": {
        "id": "CphdajwtgXtH"
      },
      "source": [
        "Since the Python `.split()` function looks for spaces and treats words as tokens separated by spaces, we would treat the words “soft!” and “soft” as different words and create a separate dictionary entry for each word.\n",
        "\n",
        "Also since the file has capitalization, we would treat “who” and “Who” as different words with different counts.\n",
        "\n",
        "We can solve both these problems by using the string methods `.lower()`, `.punctuation()`, and `.translate()`. The `.translate()` is the most subtle of the methods. "
      ]
    },
    {
      "cell_type": "code",
      "metadata": {
        "id": "WfRetBNYgZTg"
      },
      "source": [
        "# line.translate(str.maketrans(from_str, to_str, delete_str))"
      ],
      "execution_count": null,
      "outputs": []
    },
    {
      "cell_type": "markdown",
      "metadata": {
        "id": "hj82lF52gu7j"
      },
      "source": [
        "Replace the characters in `from_str` with the character in the same position in `to_str` and delete all characters that are in `delete_str`. The `from_str` and `to_str` can be empty strings and the `delete_str` parameter can be omitted.\n",
        "\n",
        "We will not specify the `to_str` but we will use the `delete_str` parameter to delete all of the punctuation. We will even let Python tell us the list of characters that it considers “punctuation”:"
      ]
    },
    {
      "cell_type": "code",
      "metadata": {
        "id": "kzKVojVkgEqp"
      },
      "source": [
        "import string\n",
        "string.punctuation"
      ],
      "execution_count": null,
      "outputs": []
    },
    {
      "cell_type": "markdown",
      "metadata": {
        "id": "JNzDLQ0Yg-BH"
      },
      "source": [
        "The parameters used by translate were different in Python 2.0.\n",
        "\n",
        "We make the following modifications to our program:"
      ]
    },
    {
      "cell_type": "code",
      "metadata": {
        "id": "_9-0l3TIg_e0"
      },
      "source": [
        "import string\n",
        "\n",
        "fname = input('Enter the file name: ')\n",
        "try:\n",
        "    fhand = open(fname)\n",
        "except:\n",
        "    print('File cannot be opened:', fname)\n",
        "    exit()\n",
        "\n",
        "counts = dict()\n",
        "for line in fhand:\n",
        "    line = line.rstrip()\n",
        "    line = line.translate(line.maketrans('', '', string.punctuation))\n",
        "    line = line.lower()\n",
        "    words = line.split()\n",
        "    for word in words:\n",
        "        if word not in counts:\n",
        "            counts[word] = 1\n",
        "        else:\n",
        "            counts[word] += 1\n",
        "\n",
        "print(counts)\n",
        "\n",
        "# Code: http://www.py4e.com/code3/count2.py"
      ],
      "execution_count": null,
      "outputs": []
    },
    {
      "cell_type": "markdown",
      "metadata": {
        "id": "rSbT9MRpZFKH"
      },
      "source": [
        "Part of learning the “Art of Python” or “Thinking Pythonically” is realizing that Python often has built-in capabilities for many common data analysis problems. Over time, you will see enough example code and read enough of the documentation to know where to look to see if someone has already written something that makes your job much easier."
      ]
    },
    {
      "cell_type": "markdown",
      "source": [
        "\n",
        "\n",
        "---\n",
        "\n"
      ],
      "metadata": {
        "id": "art-YS4soGbv"
      }
    },
    {
      "cell_type": "markdown",
      "metadata": {
        "id": "Me7uOgaXhPvi"
      },
      "source": [
        "# **Debugging**"
      ]
    },
    {
      "cell_type": "markdown",
      "metadata": {
        "id": "Vh0x2zJDh--8"
      },
      "source": [
        "As you work with bigger datasets it can become unwieldy to debug by printing and checking data by hand. Here are some suggestions for debugging large datasets:\n",
        "\n",
        "**Scale down the input**\n",
        "If possible, reduce the size of the dataset. For example if the program reads a text file, start with just the first 10 lines, or with the smallest example you can find. You can either edit the files themselves, or (better) modify the program so it reads only the first n lines.\n",
        "\n",
        "If there is an error, you can reduce n to the smallest value that manifests the error, and then increase it gradually as you find and correct errors.\n",
        "\n",
        "**Check summaries and types**\n",
        "Instead of printing and checking the entire dataset, consider printing summaries of the data: for example, the number of items in a dictionary or the total of a list of numbers.\n",
        "\n",
        "A common cause of runtime errors is a value that is not the right type. For debugging this kind of error, it is often enough to print the type of a value.\n",
        "\n",
        "**Write self-checks**\n",
        "Sometimes you can write code to check for errors automatically. For example, if you are computing the average of a list of numbers, you could check that the result is not greater than the largest element in the list or less than the smallest. This is called a “sanity check” because it detects results that are “completely illogical”.\n",
        "\n",
        "Another kind of check compares the results of two different computations to see if they are consistent. This is called a “consistency check”.\n",
        "\n",
        "**Pretty print the output**\n",
        "Formatting debugging output can make it easier to spot an error.\n",
        "Again, time you spend building scaffolding can reduce the time you spend debugging."
      ]
    },
    {
      "cell_type": "markdown",
      "source": [
        "\n",
        "---\n"
      ],
      "metadata": {
        "id": "kIHnU7IUit9u"
      }
    }
  ]
}