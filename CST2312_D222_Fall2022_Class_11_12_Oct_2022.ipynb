{
  "nbformat": 4,
  "nbformat_minor": 0,
  "metadata": {
    "colab": {
      "provenance": [],
      "collapsed_sections": [
        "za4ZzTmGfU1R",
        "2gHck3D4gWBK",
        "5yr9aabCiHE6"
      ],
      "authorship_tag": "ABX9TyPfwY+JA3NLafpeSsfZf2kS",
      "include_colab_link": true
    },
    "kernelspec": {
      "name": "python3",
      "display_name": "Python 3"
    },
    "language_info": {
      "name": "python"
    }
  },
  "cells": [
    {
      "cell_type": "markdown",
      "metadata": {
        "id": "view-in-github",
        "colab_type": "text"
      },
      "source": [
        "<a href=\"https://colab.research.google.com/github/ProfessorPatrickSlatraigh/CST2312/blob/main/CST2312_D222_Fall2022_Class_11_12_Oct_2022.ipynb\" target=\"_parent\"><img src=\"https://colab.research.google.com/assets/colab-badge.svg\" alt=\"Open In Colab\"/></a>"
      ]
    },
    {
      "cell_type": "markdown",
      "source": [
        "# CST2312 - Class #11,     \n",
        "**[Introducton to Dictionaries](https://medium.com/analytics-vidhya/an-introduction-to-python-dictionary-520302924ef8) (from Indhumathy Chelliah on Medium.com)**   \n",
        "    \n",
        "\n",
        "by Professor Patrick, 12-Oct-2022    \n",
        "\n",
        "\n",
        "This notebook on Colab at `https://bit.ly/cst2312cl11`    "
      ],
      "metadata": {
        "id": "Tba3cwe-lYOJ"
      }
    },
    {
      "cell_type": "markdown",
      "metadata": {
        "id": "fZ5nHFyywfGy"
      },
      "source": [
        "This notebook works with shared links to the following files on Google Drive:    \n",
        "\n",
        "  \n"
      ]
    },
    {
      "cell_type": "markdown",
      "source": [
        "\n",
        "\n",
        "---\n",
        "\n"
      ],
      "metadata": {
        "id": "TYQiihxPmsVp"
      }
    },
    {
      "cell_type": "markdown",
      "metadata": {
        "id": "tklQ7H2uYeZ8"
      },
      "source": [
        "# **Introduction to (More on) Dictionaries**\n",
        "**(from Indhumathy Chelliah on Medium.com)**  "
      ]
    },
    {
      "cell_type": "markdown",
      "source": [
        "## Different ways of creating a dictionary using dict() constructor    \n",
        "\n",
        "\n",
        "\n",
        "```\n",
        "dict(**kwarg)\n",
        "dict(mapping, **kwarg)\n",
        "dict(iterable, **kwarg)\n",
        "```    \n",
        "\n",
        "**kwarg-arbitary number of keyword arguments\n",
        "\n"
      ],
      "metadata": {
        "id": "SgIgw0kSlNoq"
      }
    },
    {
      "cell_type": "markdown",
      "source": [
        "### Creating a dictionary from keyword arguments:    \n",
        "\n",
        "\n",
        "```\n",
        "dict(**kwarg)\n",
        "```\n",
        "\n",
        "\n"
      ],
      "metadata": {
        "id": "Y9J2U5A3lfeC"
      }
    },
    {
      "cell_type": "code",
      "source": [
        "d=dict(red=1,blue=2,green=3)\n",
        "print (d) \n",
        "#Output:{'red': 1, 'blue': 2, 'green': 3}"
      ],
      "metadata": {
        "id": "neErwKIFlIkD"
      },
      "execution_count": null,
      "outputs": []
    },
    {
      "cell_type": "markdown",
      "source": [
        "### Creating a dictionary using mapping:\n",
        "\n",
        "~~~\n",
        "dict(mapping,**kwarg)\n",
        "~~~\n"
      ],
      "metadata": {
        "id": "oul3qmMOlxOv"
      }
    },
    {
      "cell_type": "code",
      "source": [
        "#creating dictionary by using dict()constructor - mapping\n",
        "d=dict({'red':1,'blue':2,'green':3})\n",
        "print (d) #Output:{'red': 1, 'blue': 2, 'green': 3}\n",
        "\n",
        "\n",
        "#creating dictionary by using dict()constructor - mapping. keyword arguments can also be passed.\n",
        "d=dict({'red':1,'blue':2},green=3)\n",
        "print (d) #Output:{'red': 1, 'blue': 2, 'green': 3}\n",
        "\n",
        "\n",
        "#without dict() constructor\n",
        "d={'red':1,'blue':2,'green':3}\n",
        "print (d)#Output:{'red': 1, 'blue': 2, 'green': 3}"
      ],
      "metadata": {
        "id": "JmBn-IBAl2gH"
      },
      "execution_count": null,
      "outputs": []
    },
    {
      "cell_type": "markdown",
      "source": [
        "### Creating dictionary using an iterable.\n",
        "\n",
        "~~~\n",
        "dict(iterable,**kwarg)\n",
        "~~~\n",
        "\n"
      ],
      "metadata": {
        "id": "YFnr4Z_Rl772"
      }
    },
    {
      "cell_type": "code",
      "source": [
        "#creating dictionary by using iterables\n",
        "d=dict([('red',1),('blue',2),('green',3)])\n",
        "print (d)#Output:{'red': 1, 'blue': 2, 'green': 3}\n",
        "\n",
        "\n",
        "#creating dictionary using iterables and keyword arguments\n",
        "d=dict([('red',1),('blue',2)],green=3)\n",
        "print (d)#Output:{'red': 1, 'blue': 2, 'green': 3}\n",
        "\n",
        "\n",
        "#creating dictionary by using zip().zip() also creates iterbales\n",
        "d=dict(zip(['red','green','blue'],[1,2,3]))\n",
        "print (d)#Output:{'red': 1, 'green': 2, 'blue': 3}"
      ],
      "metadata": {
        "id": "nIuleNWPmCqB"
      },
      "execution_count": null,
      "outputs": []
    },
    {
      "cell_type": "markdown",
      "source": [
        "## Dictionary methods.\n",
        "\n",
        "~~~    \n",
        "keys()\n",
        "Return a new view of dictionary’s keys.\n",
        "values()\n",
        "Return a new view of a dictionary’s values.\n",
        "items()\n",
        "Return a new view of dictionary’s items (key,value)pairs.\n",
        "~~~ "
      ],
      "metadata": {
        "id": "vfFwS1rOmFyz"
      }
    },
    {
      "cell_type": "code",
      "source": [
        "#creating dictionary:\n",
        "\n",
        "d={'name':'karthi',\n",
        "   'age':7,\n",
        "   'city':'chennai',\n",
        "    }\n",
        "\n",
        "#print only keys\n",
        "print (d.keys())  #Output: dict_keys(['name', 'age', 'city'])\n",
        "\n",
        "#print (key,value) pair.\n",
        "print (d.items()) #Output: dict_items([('name', 'karthi'), ('age', 7), ('city', 'chennai')])\n",
        "\n",
        "#print only values\n",
        "print (d.values()) #Output: dict_values(['karthi', 7, 'chennai'])"
      ],
      "metadata": {
        "id": "TTsQQgAOmU4H"
      },
      "execution_count": null,
      "outputs": []
    },
    {
      "cell_type": "markdown",
      "source": [
        "### Accessing the values from a dictionary\n",
        "We can access the values by using the get method and also by indexing. If the key doesn’t exist in a dictionary means, get method returns None.\n",
        "But when we use indexing, it will raise `KeyError`.\n",
        "\n",
        "~~~\n",
        "get()\n",
        "get(key,default)\n",
        "~~~    \n",
        "\n",
        "Returns the value of that specified key. If the key doesn’t exist in a dictionary means returns None. If the default is specified, it will return the default value if the key doesn’t exist."
      ],
      "metadata": {
        "id": "WU7ZAhbsmWRe"
      }
    },
    {
      "cell_type": "code",
      "source": [
        "d={'name':'karthi',\n",
        "   'age':7,\n",
        "   'city':'chennai',\n",
        "    }\n",
        "\n",
        "#get(accessing using get method)\n",
        "print(d.get(\"name\")) # Output: karthi\n",
        "\n",
        "\n",
        "#If key doesn't exists in a dictionary means ,returns None\n",
        "print (d.get('rollno')) # Output: None\n",
        "\n",
        "\n",
        "#default is mentioned.\n",
        "print (d.get('rollno',\"Not Available\"))#Output:Not Available"
      ],
      "metadata": {
        "id": "vinSnK5bmk_B"
      },
      "execution_count": null,
      "outputs": []
    },
    {
      "cell_type": "markdown",
      "source": [
        "### Using indexing\n",
        "\n",
        "~~~\n",
        "d[key]\n",
        "~~~\n",
        "\n",
        "Returns the value of the key. If the key doesn’t exist in a dictionary means it will raise `KeyError`."
      ],
      "metadata": {
        "id": "1nyS_WmxmscV"
      }
    },
    {
      "cell_type": "code",
      "source": [
        "d={'name':'karthi',\n",
        "   'age':7,\n",
        "   'city':'chennai',\n",
        "    }\n",
        "\n",
        "#accessing using index\n",
        "print (d['name']) #Output: karthi\n",
        "\n",
        "\n",
        "# If key doesn't exists in a dictionary means and if we use index, then it will raise KeyError\n",
        "print (d['rollno']) # Output: KeyError: 'rollno'"
      ],
      "metadata": {
        "id": "AfCR20nVmxd3"
      },
      "execution_count": null,
      "outputs": []
    },
    {
      "cell_type": "markdown",
      "source": [
        "### Assigning /Updating values\n",
        "~~~\n",
        "d[key]=value\n",
        "~~~\n",
        "\n",
        "Set `d[key]` to value. If the key already exists in a dictionary means, it will update the value. If the key doesn’t exist in a dictionary means, it will add that key, value pair."
      ],
      "metadata": {
        "id": "xXlV6RLMm0ey"
      }
    },
    {
      "cell_type": "code",
      "source": [
        "d={'name':'karthi',\n",
        "   'age':7,\n",
        "   'city':'chennai',\n",
        "    }\n",
        "print (d)#Output:{'name': 'karthi', 'age': 7, 'city': 'chennai'}\n",
        "\n",
        "\n",
        "#Assigning values. If key already exists in a dictionary means,it will update value.\n",
        "d['age']=8\n",
        "print (d)#Output:{'name': 'karthi', 'age': 8, 'city': 'chennai'}\n",
        "\n",
        "\n",
        "#Assigning values.If key doesn't exists in a dictionary means,it will add that key.\n",
        "d['rollno']=12\n",
        "print (d)#Output:{'name': 'karthi', 'age': 8, 'city': 'chennai', 'rollno': 12}"
      ],
      "metadata": {
        "id": "DveFOOS6m8ar"
      },
      "execution_count": null,
      "outputs": []
    },
    {
      "cell_type": "markdown",
      "source": [
        "### iter()\n",
        "\n",
        "~~~\n",
        "iter(d)\n",
        "~~~\n",
        "\n",
        "Return an iterator over the keys in a dictionary."
      ],
      "metadata": {
        "id": "tAg6J8LKm_ND"
      }
    },
    {
      "cell_type": "code",
      "source": [
        "d={'name':'karthi',\n",
        "   'age':7,\n",
        "   'city':'chennai',\n",
        "  }\n",
        "\n",
        "#Return an iterator containing  keys\n",
        "i=iter(d)\n",
        "print (i)#Output:<dict_keyiterator object at 0x00D13BE0>\n",
        "\n",
        "\n",
        "#converting iterator to list object\n",
        "print (list(i))#Output:['name', 'age', 'city']"
      ],
      "metadata": {
        "id": "4R_hQ4bGnGDI"
      },
      "execution_count": null,
      "outputs": []
    },
    {
      "cell_type": "markdown",
      "source": [
        "### fromkeys()\n",
        "Create a new dictionary with keys from iterable and values set to value.\n",
        "`fromkeys()` is a class method that returns a new dictionary. value defaults to `None`.\n",
        "~~~\n",
        "fromkeys(iterable,value)\n",
        "~~~"
      ],
      "metadata": {
        "id": "XlFEnStZnJF_"
      }
    },
    {
      "cell_type": "code",
      "source": [
        "#fromkeys()\n",
        "#fromkeys() method returns a dictionary with the specified keys and the specified value.\n",
        "a={'a','e','i','o','u'}\n",
        "b='vowels'\n",
        "d1=dict.fromkeys(a,b)\n",
        "print(d1)\n",
        "#Output: {'o': 'vowels', 'u': 'vowels', 'e': 'vowels', 'i': 'vowels', 'a': 'vowels'}\n",
        "#dictionary is unordered.\n",
        "\n",
        "\n",
        "#if value is not mentioned,it defaults to None.\n",
        "d2=dict.fromkeys(a)\n",
        "print (d2)#Output:{'e': None, 'a': None, 'u': None, 'i': None, 'o': None}"
      ],
      "metadata": {
        "id": "FhmYjBJPnQb9"
      },
      "execution_count": null,
      "outputs": []
    },
    {
      "cell_type": "markdown",
      "source": [
        "### setdefault()\n",
        "`setdefault()` method returns the value of a key (if the key is in a dictionary).\n",
        "If not, it inserts a key with a value to a dictionary. If the key is only mentioned, it will insert key with value as `None`.    \n",
        "~~~\n",
        "setdefault(key,default)\n",
        "~~~"
      ],
      "metadata": {
        "id": "eBkBIdC4nTvr"
      }
    },
    {
      "cell_type": "code",
      "source": [
        "#setdefault - if key is not there , will add the key with value none\n",
        "person = {'name': 'karthi', 'age': 7}\n",
        "city = person.setdefault('city')\n",
        "print(person)\n",
        "#Output:{'name': 'karthi', 'age': 7, 'city': None}\n",
        "\n",
        "\n",
        "#setdefault- if key  is not  there , will add key and value specified\n",
        "person = {'name': 'karthi', 'age': 7}\n",
        "city = person.setdefault('city','chennai')\n",
        "print(person)\n",
        "#Output:{'name': 'karthi', 'age': 7, 'city': 'chennai'}\n",
        "\n",
        "\n",
        "#setdefault-> if key exists, returns the value of that specified key\n",
        "person = {'name': 'karthi', 'age': 7}\n",
        "age=person.setdefault('age',10)\n",
        "print(person.setdefault('age',10)) #Output:7\n",
        "print (person)\n",
        "#Output:{'name': 'karthi', 'age': 7}"
      ],
      "metadata": {
        "id": "vB1k3A2Bnet2"
      },
      "execution_count": null,
      "outputs": []
    },
    {
      "cell_type": "markdown",
      "source": [
        "## Updating the items in a dictionary "
      ],
      "metadata": {
        "id": "UqGWBniAnrfW"
      }
    },
    {
      "cell_type": "markdown",
      "source": [
        "**`update()`**    \n",
        "\n",
        "`update()` method is used to merge the second dictionary into the first dictionary. It will update the value of the first dictionary.\n",
        "It won’t create a new dictionary. It is used for merging two dictionaries.    \n",
        "\n",
        "`update()` method adds elements to a dictionary if the key is not in that dictionary. If the key is in a dictionary means, it will update the new `value.Update()` function won’t return any value.    \n",
        "\n",
        "`update(other)`\n",
        "\n",
        "`other` argument can be another dictionary object or an iterable of key/value pairs (as tuples or other iterables of length two). If keyword arguments are specified, a dictionary is then updated with those key/value pairs.   \n"
      ],
      "metadata": {
        "id": "iRdWWAodntSf"
      }
    },
    {
      "cell_type": "code",
      "source": [
        "#update() - combining - merging both dictionaries and updating first - dictionary\n",
        "first={'name':'karthi',\n",
        "   'age':7,\n",
        "   'city':'chennai',\n",
        "    }\n",
        "\n",
        "second={'name':'sarvesh',\n",
        "'age':3}  \n",
        "\n",
        "#update () function won't return any value.\n",
        "print(first.update(second))\n",
        "#Output: None\n",
        "\n",
        "print(first)\n",
        "#Output:{'name': 'sarvesh', 'age': 3, 'city': 'chennai'}"
      ],
      "metadata": {
        "id": "FQ64Gt45oKCO"
      },
      "execution_count": null,
      "outputs": []
    },
    {
      "cell_type": "markdown",
      "source": [
        "## Removing items from a dictionary"
      ],
      "metadata": {
        "id": "1WqFU55OoNKo"
      }
    },
    {
      "cell_type": "markdown",
      "source": [
        "**`popitem()`**    \n",
        "\n",
        "Remove and return a (key, value) pair from a dictionary. Pairs are returned in LIFO order. If a dictionary is empty, calling popitem() raises a KeyError. — python docs\n",
        "\n",
        "**`pop()`**    \n",
        "\n",
        "If the key is in a dictionary, remove it and return its value, else return default. If the default is not given and the key is not in a dictionary, a `KeyError` is raised.    \n",
        "\n",
        "\n",
        "**`pop(key,default)`**    \n"
      ],
      "metadata": {
        "id": "0u_wvqsroQtz"
      }
    },
    {
      "cell_type": "code",
      "source": [
        "d1 = {'name': 'karthi',\n",
        "      'age': 7,\n",
        "      'city': 'chennai',\n",
        "      }\n",
        "\n",
        "# popitem\n",
        "# The popitem() method removes and returns the last element (key, value) pair inserted into a dictionary.\n",
        "print(d1.popitem())  # Output:('city', 'chennai')\n",
        "print (type(d1.popitem()))#Output:<class 'tuple'>\n",
        "print(d1)  # Output:{'name': 'karthi', 'age': 7}\n",
        "\n",
        "\n",
        "# pop\n",
        "# pop() method removes and returns a value from a dictionary for  the given key.\n",
        "print(d1.pop('name'))  # Output:Karthi\n",
        "print(d1)  # Output: {'age': 7}\n",
        "\n",
        "\n",
        "# If key is not in dictionary and value is given as default argument means,it will return the default value.\n",
        "print(d1.pop(\"city\", \"Not found\"))  # Output: Not found\n",
        "\n",
        "\n",
        "# if key is not in dictionary  and default value not given means it will raise KeyError\n",
        "# print (d1.pop('rollno')) #Output: KeyError: 'rollno'"
      ],
      "metadata": {
        "id": "CF0N07CXohLq"
      },
      "execution_count": null,
      "outputs": []
    },
    {
      "cell_type": "markdown",
      "source": [
        "**`clear()`**    \n",
        "\n",
        "`clear()` will empty a dictionary.   Its return value is `None`.    \n",
        "\n",
        "**`del`** keyword is used to delete a dictionary itself.    \n",
        "\n",
        "We can also delete the key from a dictionary by using del keyword. If the key is not in a dictionary means, then it will raise `KeyError`.    \n"
      ],
      "metadata": {
        "id": "VoOdqTbBolGi"
      }
    },
    {
      "cell_type": "code",
      "source": [
        "d = {'name': 'karthi',\n",
        "      'age': 7,\n",
        "      'city': 'chennai',\n",
        "      }\n",
        "\n",
        "\n",
        "# If key is in dictionary means, it is removed from a dictionary.\n",
        "del d['name']\n",
        "print(d)  # Output: {'age': 7, 'city': 'chennai'}\n",
        "\n",
        "\n",
        "# If key is not in dictionary means KeyError is thrown.\n",
        "del d['state']# Output:KeyError: 'state'\n",
        "\n",
        "\n",
        "# clear - it will empty a dictionary.\n",
        "d.clear()\n",
        "# clear() method will return None.It will clear the original dictionary\n",
        "print(d.clear())  # Output: None.\n",
        "print(d)  # Output: {}\n",
        "\n",
        "# del - del keyword is used to delete a dictionary itself.\n",
        "del d\n",
        "# d1 is deleted and is not available.\n",
        "print (d) #Output: NameError: name 'd' is not defined"
      ],
      "metadata": {
        "id": "5Dj1Uhhpo4-H"
      },
      "execution_count": null,
      "outputs": []
    },
    {
      "cell_type": "markdown",
      "source": [
        "## **copy() vs deepcopy()**"
      ],
      "metadata": {
        "id": "Sr4c64Lqo83f"
      }
    },
    {
      "cell_type": "markdown",
      "source": [
        "**`copy()`** method returns the shallow copy of the existing dictionary. A shallow copy means a new dictionary value is updated with references to objects in the existing dictionary.  Akin to an alias.    \n",
        "\n",
        "If we change the value of immutable data types in the original dictionary, it is not reflected in the copied dictionary. But if we change the value of mutable datatypes like list means changes are reflected in the copied dictionary also.    \n",
        "\n",
        "To avoid this, we can use a `deep copy()`. In `deepcopy()`, if we change either mutable or immutable data types of the original dictionary, changes are not reflected in a deep copied dictionary.    \n"
      ],
      "metadata": {
        "id": "b1x2hTUJpDsf"
      }
    },
    {
      "cell_type": "code",
      "source": [
        "import copy   \n",
        "d={'Name':'karthi',\n",
        "   'Rollno':12,\n",
        "   'Marks':[100,90]\n",
        "    }\n",
        "\n",
        "d1=d.copy()\n",
        "print (d1) #Output: {'Name': 'karthi', 'Rollno': 12, 'Marks': [100, 90]}\n",
        "\n",
        "#modifying immutable data types\n",
        "d['Rollno']=5\n",
        "print (d) #Output: {'Name': 'karthi', 'Rollno': 5, 'Marks': [100, 90]}\n",
        "#changes are not reflected in copied dictionary.\n",
        "print (d1) #Output: {'Name': 'karthi', 'Rollno': 12, 'Marks': [100, 90]}\n",
        "\n",
        "# modifying mutable datatypes\n",
        "d['Marks'].append(99)\n",
        "print (d) #Output: {'Name': 'karthi', 'Rollno': 5, 'Marks': [100, 90, 99]}\n",
        "#changes are reflected in copied dictionary also.\n",
        "print (d1)#Output: {'Name': 'karthi', 'Rollno': 12, 'Marks': [100, 90, 99]}\n",
        "\n",
        "d2=copy.deepcopy(d1)\n",
        "print (d2) #Output: {'Name': 'karthi', 'Rollno': 12, 'Marks': [100, 90, 99]}\n",
        "\n",
        "#modifying immutabe data types\n",
        "d1['Rollno']=15\n",
        "print (d1) #Output:{'Name': 'karthi', 'Rollno': 15, 'Marks': [100, 90, 99]}\n",
        "#changes are not reflected in copied dictionary.\n",
        "print (d2) #Output: {'Name': 'karthi', 'Rollno': 12, 'Marks': [100, 90, 99]}\n",
        "\n",
        "# modifying mutable datatypes\n",
        "d1['Marks'].append(101)\n",
        "print (d1) #Output: {'Name': 'karthi', 'Rollno': 15, 'Marks': [100, 90, 99, 101]}\n",
        "#changes are not reflected in deep copied dictionary.\n",
        "print (d2)#Output:{'Name': 'karthi', 'Rollno': 12, 'Marks': [100, 90, 99]}"
      ],
      "metadata": {
        "id": "_VpTiR9opY-1"
      },
      "execution_count": null,
      "outputs": []
    },
    {
      "cell_type": "markdown",
      "source": [
        "## Dictionary view objects"
      ],
      "metadata": {
        "id": "WBS7c-Bepc-R"
      }
    },
    {
      "cell_type": "markdown",
      "source": [
        "The objects returned by:\n",
        " - `dict.keys()`\n",
        " - `dict.values()`\n",
        " - `dict.items()`     \n",
        " are view objects. They provide a dynamic view of a dictionary’s entries, which means that when a dictionary changes, the view reflects these changes.-python docs\n",
        "\n",
        "Dictionary views can be iterated over to yield their respective data and support membership tests.    \n",
        "\n",
        "\n",
        "**`iter(dictview)`**    \n",
        "\n",
        "Return an iterator over the keys, values, or items in a dictionary"
      ],
      "metadata": {
        "id": "a9hYx7_LpgPd"
      }
    },
    {
      "cell_type": "code",
      "source": [
        "# creating dictionary\n",
        "\n",
        "d = {'name': 'karthi',\n",
        "     'age': 7,\n",
        "     'city': 'chennai',\n",
        "     }\n",
        "\n",
        "#Returns key iterator object\n",
        "k=d.keys()\n",
        "print (iter(k))#Output:<dict_keyiterator object at 0x00A1E028>\n",
        "#converting iterator to list object\n",
        "print (list(iter(k)))#Output:['name', 'age', 'city']\n",
        "\n",
        "\n",
        "#Returns items iterator object\n",
        "i=d.items()\n",
        "print (iter(i))#Output:<dict_itemiterator object at 0x00A1E028>\n",
        "#looping through the iterator\n",
        "for i in iter(i):\n",
        "    print (i)\n",
        "'''\n",
        "('name', 'karthi')\n",
        "('age', 7)\n",
        "('city', 'chennai')\n",
        "'''\n",
        "\n",
        "\n",
        "#Return values iterator object\n",
        "v=d.values()\n",
        "print (iter(v))#Output:<dict_valueiterator object at 0x00A1E028>\n",
        "#converting iterator to list object\n",
        "print (list(iter(v)))#Output:['karthi', 7, 'chennai']"
      ],
      "metadata": {
        "id": "Amqo1Eqpp3Tk"
      },
      "execution_count": null,
      "outputs": []
    },
    {
      "cell_type": "markdown",
      "source": [
        "**`reversed(dictview)`**\n",
        "\n",
        "Return a reverse iterator over the keys, values, or items of a dictionary. The view will be iterated in reverse order of the insertion.-python docs"
      ],
      "metadata": {
        "id": "7HFQYFN0p-GW"
      }
    },
    {
      "cell_type": "code",
      "source": [
        "# creating dictionary\n",
        "\n",
        "d = {'name': 'karthi',\n",
        "     'age': 7,\n",
        "     'city': 'chennai',\n",
        "     }\n",
        "\n",
        "#Returns reversed key iterator object\n",
        "k=d.keys()\n",
        "print (reversed(k))#Output:<dict_reversekeyiterator object at 0x010C3BB8>\n",
        "#converting iterator to list object\n",
        "print (list(reversed(k)))#Output:['city', 'age', 'name']\n",
        "\n",
        "\n",
        "#Returns reversed items iterator object\n",
        "i=d.items()\n",
        "print (reversed(i))#Output:<dict_itemiterator object at 0x00A1E028>\n",
        "\n",
        "#looping through the iterator\n",
        "for i in  reversed(i):\n",
        "    print (i)\n",
        "'''\n",
        "('city', 'chennai')\n",
        "('age', 7)\n",
        "('name', 'karthi')\n",
        "'''\n",
        "\n",
        "\n",
        "#Return reversed values iterator object\n",
        "v=d.values()\n",
        "print (reversed(v))#Output:<dict_reversevalueiterator object at 0x01143BE0>\n",
        "#converting iterator to list object\n",
        "print (list(reversed(v)))#Output:['chennai', 7, 'karthi']\n"
      ],
      "metadata": {
        "id": "Y11C6QvCqIhd"
      },
      "execution_count": null,
      "outputs": []
    },
    {
      "cell_type": "markdown",
      "source": [
        "## Looping through a dictionary\n"
      ],
      "metadata": {
        "id": "9cZ2cyuDqNNw"
      }
    },
    {
      "cell_type": "code",
      "source": [
        "#creating dictionary\n",
        "\n",
        "d={'name':'karthi',\n",
        "   'age':7,\n",
        "   'city':'chennai',\n",
        "    }\n",
        "    \n",
        "#Print only the keys\n",
        "\n",
        "for i in d:\n",
        "    print (i)\n",
        "'''    \n",
        "Output:  \n",
        "name\n",
        "age\n",
        "city\n",
        "'''\n",
        "\n",
        "#will print the (key,value) as a tuple   \n",
        "for i in d.items():\n",
        "    print (i)\n",
        "    \n",
        "'''\n",
        "Output:\n",
        "('name', 'karthi')\n",
        "('age', 7)\n",
        "('city', 'chennai')\n",
        "'''\n",
        "\n",
        "#will print the key,value in the format specified\n",
        "for i,j in d.items():\n",
        "    print(i,j)\n",
        "'''\n",
        "Output:\n",
        "name karthi\n",
        "age 7\n",
        "city chennai\n",
        "'''\n",
        "\n",
        "#will print only the keys    \n",
        "for i in d.keys():\n",
        "    print(i)\n",
        "'''\n",
        "Output:\n",
        "name\n",
        "age\n",
        "city\n",
        "'''\n",
        "    \n",
        "#will print only the values    \n",
        "for i in d.values():\n",
        "    print(i)\n",
        "    \n",
        "'''\n",
        "Output:\n",
        "karthi\n",
        "7\n",
        "chennai\n",
        "'''\n",
        "    "
      ],
      "metadata": {
        "id": "R2q1wA8PsR3s"
      },
      "execution_count": null,
      "outputs": []
    },
    {
      "cell_type": "markdown",
      "source": [
        "## Dictionary Operations"
      ],
      "metadata": {
        "id": "IKoWGwYOqXI6"
      }
    },
    {
      "cell_type": "markdown",
      "source": [
        "### Membership Test\n",
        "**in, not in**\n",
        "\n",
        "`in` — Returns True if the key is present in a dictionary. Checks only key and not values."
      ],
      "metadata": {
        "id": "eoztcO_UqYhp"
      }
    },
    {
      "cell_type": "code",
      "source": [
        "d=dict([('red',1),('blue',2),('green',3)])\n",
        "print (d)#Output:{'red': 1, 'blue': 2, 'green': 3}\n",
        "\n",
        "\n",
        "#Checking whether the particular key is in dictionary or not.\n",
        "if 'red' in d:\n",
        "    print (\"True\")#Output:True\n",
        "\n",
        "\n",
        "if 'yellow' in d:\n",
        "    print (\"True\")\n",
        "else:\n",
        "    print (\"False\") #Output:False\n",
        "\n",
        "\n",
        "if \"yellow\" not in d:\n",
        "    print (\"True\")#Output:True"
      ],
      "metadata": {
        "id": "2w1RIQPJqiHu"
      },
      "execution_count": null,
      "outputs": []
    },
    {
      "cell_type": "markdown",
      "source": [
        "## Dictionary built-in functions   "
      ],
      "metadata": {
        "id": "h0WE7nRQqlxu"
      }
    },
    {
      "cell_type": "markdown",
      "source": [
        "1. `len()` — Returns the length (no of items) of a dictionary.    \n",
        "2. `list()`-Returns the list of all keys in a dictionary    \n",
        "3. `sorted()`-Returns the sorted list of keys in a dictionary.    \n",
        "4. `reversed()`-Return a reversed iterator over the keys of a dictionary.    "
      ],
      "metadata": {
        "id": "RFFyCgRZqp-i"
      }
    },
    {
      "cell_type": "code",
      "source": [
        "#creating dictionary by using iterables\n",
        "d=dict([('red',1),('blue',2),('green',3)])\n",
        "print (d)#Output:{'red': 1, 'blue': 2, 'green': 3}\n",
        "\n",
        "\n",
        "#Returns the length(number of keys)of dictionary\n",
        "print (len(d))#Output:3\n",
        "\n",
        "\n",
        "#Returns the list of keys in a dictionary\n",
        "print(list(d))#Output:['red', 'blue', 'green']\n",
        "\n",
        "\n",
        "#Returns the sorted list of keys in a dictionary(by default ascending order)\n",
        "print (sorted(d))#Output:['blue', 'green', 'red']\n",
        "\n",
        "\n",
        "#Returns the sorted list of keys in a dictionary in descending order.\n",
        "print (sorted(d,reverse=True))#Output:['red', 'green', 'blue']\n",
        "\n",
        "\n",
        "#Returns the reversed list of keys in a dictionary.Returns an iterator object.\n",
        "print (reversed(d))#Output:<dict_reversekeyiterator object at 0x005DEB90>\n",
        "#Iterator object is converted to list object\n",
        "print (list(reversed(d)))#Output:['green', 'blue', 'red']\n"
      ],
      "metadata": {
        "id": "4DjHPqJ-q4Vi"
      },
      "execution_count": null,
      "outputs": []
    },
    {
      "cell_type": "markdown",
      "source": [
        "4. `all()`: Returns True if all keys(not values) in a dictionary is `True` or if a dictionary is empty."
      ],
      "metadata": {
        "id": "cefxu_kQq5wb"
      }
    },
    {
      "cell_type": "markdown",
      "source": [
        "5. `any()`:Returns `True` if any `key`(not values) in a dictionary is `True`. If dictionary is empty returns `False`.  "
      ],
      "metadata": {
        "id": "1tK2Wg7HrDM8"
      }
    },
    {
      "cell_type": "code",
      "source": [
        "#Creating dictionary in which all keys are True.\n",
        "d={1:'apple',2:'orange',3:'banana'}\n",
        "print (all(d)) #Output:True\n",
        "print (any(d))#Output: True\n",
        "\n",
        "\n",
        "#Empty dictionary\n",
        "d1={}\n",
        "print (all(d1))#Output: True\n",
        "print (any(d1))#Output:False\n",
        "\n",
        "\n",
        "#Creating dictionary in which one key is False\n",
        "d2={0:'grapes',1:'apple',2:'orange',3:'banana'}\n",
        "print (all(d2))#Output:False\n",
        "print (any(d2))#Output:True\n",
        "\n",
        "\n",
        "#Creating dictionary in which all keys are False\n",
        "d3={0:'hello'}\n",
        "print (all(d3))#Output:False\n",
        "print (any(d3))#Output:False\n"
      ],
      "metadata": {
        "id": "4Qw__67xrAqy"
      },
      "execution_count": null,
      "outputs": []
    },
    {
      "cell_type": "markdown",
      "source": [
        "**Conclusion**     \n",
        "\n",
        "- Return type is view object    \n",
        "`keys()`    \n",
        "`values()`    \n",
        "`items()`    \n",
        "\n",
        "- Return type is List    \n",
        "`list(d)`,`sorted(d)`    \n",
        "\n",
        "- Return type is iterator    \n",
        "`iter(d)`, `reversed(d)`, `iter(dictview)`    \n",
        "\n",
        "- Return type is dictionary    \n",
        "`copy()`, `deepcopy()`, `fromkeys()`    \n",
        "\n",
        "- Return type is tuple    \n",
        "`popitem()`     \n",
        "\n",
        "- Return type is None    \n",
        "`clear()`- Doesn’t return anything. It will clear the original dictionary.    \n",
        "`update()`-Doesn’t return anything.It will update the original dictionary.   \n",
        " \n",
        "\n",
        "- Return type is integer    \n",
        "len()    \n",
        "\n",
        "- Return type is Boolean\n",
        "any(),all()    \n",
        "reversed(d)- supported from Python version 3.8     \n"
      ],
      "metadata": {
        "id": "VFo2QOPOrQjg"
      }
    },
    {
      "cell_type": "markdown",
      "source": [
        "\n",
        "\n",
        "---\n",
        "\n"
      ],
      "metadata": {
        "id": "NxA2BgbNooYg"
      }
    },
    {
      "cell_type": "markdown",
      "source": [
        "# **Tuples**     \n",
        "**(from All you need to know about Tuples in Python. 13-Sep-2021.  By Andreas Soularidis on Medium.com)**    \n"
      ],
      "metadata": {
        "id": "za4ZzTmGfU1R"
      }
    },
    {
      "cell_type": "markdown",
      "source": [
        "##Introduction     \n",
        "\n",
        "First of all, let’s talk about Python Tuples in general. Tuples are used to store data of multiple types like str, int, float, boolean, etc in a single variable. Lists and tuples have a lot in common and lots of differences as well. First of all, in both data types, the elements are ordered, so the items have a defined order, that will not change. Also, both are dynamic in size data types. So we don’t need to define the size of the tuple in advance, as Python takes care of that. Moreover, in both data types duplicate values are allowed. On the other hand, the big difference between lists and tuples is that a tuple is immutable data type, so we cannot add, update or delete the elements of a tuple after its declaration\n"
      ],
      "metadata": {
        "id": "PZgFP4K3mtXB"
      }
    },
    {
      "cell_type": "markdown",
      "source": [
        "## When to use tuples    \n",
        "\n",
        "The question is when to use a list and when to use a tuple in my code. A general guide is to use tuples only if you are absolutely sure that the data will not change during the execution of the program. For example, if you want to store the days of the week you can store them in a tuple.    \n"
      ],
      "metadata": {
        "id": "y9FPQZy1gNgK"
      }
    },
    {
      "cell_type": "markdown",
      "source": [
        "## Create a tuple    \n",
        "\n",
        "To create a tuple we use round brackets (parentheses), or we can use the constructor tuple() like below:    "
      ],
      "metadata": {
        "id": "2gHck3D4gWBK"
      }
    },
    {
      "cell_type": "code",
      "source": [
        "first_tuple = ('dog', 4.5, True, 7, 'apple')\n",
        "print(first_tuple)\n",
        "print(type(first_tuple))"
      ],
      "metadata": {
        "id": "dArq-hVFgdm9",
        "colab": {
          "base_uri": "https://localhost:8080/"
        },
        "outputId": "64348be4-dabb-477f-e31d-48d4f2cfc95d"
      },
      "execution_count": null,
      "outputs": [
        {
          "output_type": "stream",
          "name": "stdout",
          "text": [
            "('dog', 4.5, True, 7, 'apple')\n",
            "<class 'tuple'>\n"
          ]
        }
      ]
    },
    {
      "cell_type": "code",
      "source": [
        "second_tuple = tuple(['dog', 4.5, True, 7, 'apple'])\n",
        "print(second_tuple)\n",
        "print(type(second_tuple))"
      ],
      "metadata": {
        "id": "JG9J0B28g3TC",
        "colab": {
          "base_uri": "https://localhost:8080/"
        },
        "outputId": "e7f34108-2557-4a60-95e6-b6f3664efe06"
      },
      "execution_count": null,
      "outputs": [
        {
          "output_type": "stream",
          "name": "stdout",
          "text": [
            "('dog', 4.5, True, 7, 'apple')\n",
            "<class 'tuple'>\n"
          ]
        }
      ]
    },
    {
      "cell_type": "markdown",
      "source": [
        "Let's try a new function `id()` to see what it tells us about `first_tuple` and `second_tuple`:     \n"
      ],
      "metadata": {
        "id": "qKJGfoOsq5gs"
      }
    },
    {
      "cell_type": "code",
      "source": [
        "print('The ID of the first_tuple is: ', id(first_tuple))\n",
        "print('The ID of the second_tuple is: ', id(second_tuple))"
      ],
      "metadata": {
        "colab": {
          "base_uri": "https://localhost:8080/"
        },
        "id": "Qg7_V-c7rDqu",
        "outputId": "d6e1b89a-65e1-4a3e-f28c-e0a931a7d97a"
      },
      "execution_count": null,
      "outputs": [
        {
          "output_type": "stream",
          "name": "stdout",
          "text": [
            "The ID of the first_tuple is:  139691746585968\n",
            "The ID of the second_tuple is:  139691746756752\n"
          ]
        }
      ]
    },
    {
      "cell_type": "markdown",
      "source": [
        "\n",
        "Notice that, in the second example the constructor `tuple()` takes as a parameter a list and turns it into a tuple. This syntax would be extremely useful later.    \n",
        "\n",
        "To create a single element tuple we use a comma after the element, so that Python recognizes that as a tuple and not as a simple expression with parenthesis. Look at the example below:    "
      ],
      "metadata": {
        "id": "tXzMxgc8heWy"
      }
    },
    {
      "cell_type": "code",
      "source": [
        "solo_tuple = (1,)\n",
        "print(solo_tuple)\n",
        "print(type(solo_tuple))"
      ],
      "metadata": {
        "id": "TYnpLZnMhg41",
        "colab": {
          "base_uri": "https://localhost:8080/"
        },
        "outputId": "a8f9d547-6e9c-401f-be14-b52659e6e859"
      },
      "execution_count": null,
      "outputs": [
        {
          "output_type": "stream",
          "name": "stdout",
          "text": [
            "(1,)\n",
            "<class 'tuple'>\n"
          ]
        }
      ]
    },
    {
      "cell_type": "code",
      "source": [
        "not_tuple = (1)\n",
        "print(not_tuple)\n",
        "print(type(not_tuple))"
      ],
      "metadata": {
        "id": "QWx9o2w7hxKj",
        "colab": {
          "base_uri": "https://localhost:8080/"
        },
        "outputId": "1422c57c-d7aa-41eb-a8d7-3abe677dcfc6"
      },
      "execution_count": null,
      "outputs": [
        {
          "output_type": "stream",
          "name": "stdout",
          "text": [
            "1\n",
            "<class 'int'>\n"
          ]
        }
      ]
    },
    {
      "cell_type": "code",
      "source": [
        "uno_tuple = tuple([1])\n",
        "print(uno_tuple)\n",
        "print(type(uno_tuple))"
      ],
      "metadata": {
        "colab": {
          "base_uri": "https://localhost:8080/"
        },
        "id": "uzePnndssWSb",
        "outputId": "8e1e1d1b-1614-441b-b5f3-8ce2df59c4d8"
      },
      "execution_count": null,
      "outputs": [
        {
          "output_type": "stream",
          "name": "stdout",
          "text": [
            "(1,)\n",
            "<class 'tuple'>\n"
          ]
        }
      ]
    },
    {
      "cell_type": "code",
      "source": [
        "# remember that the argument to tuple() needs to be an interable\n",
        "uno_tuple = tuple(1)\n",
        "print(uno_tuple)\n",
        "print(type(uno_tuple))"
      ],
      "metadata": {
        "id": "B31ZwiGGs3wd"
      },
      "execution_count": null,
      "outputs": []
    },
    {
      "cell_type": "markdown",
      "source": [
        "## Access in tuple items    \n",
        "\n",
        "Tuples, like lists, are zero-index data types, so the first element of a tuple has `index[0]`, the second has `index[1]`, and so on. Also, we have the reversed index that starts from `-1` and represents the last element of a tuple. So, using the reversed index the last element has `index[-1]` the second to last element has `index[-2]`, etc. So, using the index we can have access to specific tuple values as following:    "
      ],
      "metadata": {
        "id": "5yr9aabCiHE6"
      }
    },
    {
      "cell_type": "code",
      "source": [
        "print(first_tuple)"
      ],
      "metadata": {
        "colab": {
          "base_uri": "https://localhost:8080/"
        },
        "id": "7I0izWg2tJCS",
        "outputId": "0ff62101-ed7b-4e5c-8ee9-5fbf9da5596f"
      },
      "execution_count": null,
      "outputs": [
        {
          "output_type": "stream",
          "name": "stdout",
          "text": [
            "('dog', 4.5, True, 7, 'apple')\n"
          ]
        }
      ]
    },
    {
      "cell_type": "code",
      "source": [
        "print(first_tuple[1])"
      ],
      "metadata": {
        "id": "Zdh9EVTciQps",
        "colab": {
          "base_uri": "https://localhost:8080/"
        },
        "outputId": "12f10ef9-d6f7-4265-b840-645781fb2988"
      },
      "execution_count": null,
      "outputs": [
        {
          "output_type": "stream",
          "name": "stdout",
          "text": [
            "4.5\n"
          ]
        }
      ]
    },
    {
      "cell_type": "code",
      "source": [
        "print(first_tuple[0])"
      ],
      "metadata": {
        "colab": {
          "base_uri": "https://localhost:8080/"
        },
        "id": "5UmZqbMKtfS3",
        "outputId": "8fbdb1e2-1559-45f9-a91b-256405ecb247"
      },
      "execution_count": null,
      "outputs": [
        {
          "output_type": "stream",
          "name": "stdout",
          "text": [
            "dog\n"
          ]
        }
      ]
    },
    {
      "cell_type": "code",
      "source": [
        "print(first_tuple[-5])"
      ],
      "metadata": {
        "id": "nQhzb0clioEa",
        "colab": {
          "base_uri": "https://localhost:8080/"
        },
        "outputId": "e070d48f-a6b8-4b14-a7c5-1ded852235e5"
      },
      "execution_count": null,
      "outputs": [
        {
          "output_type": "stream",
          "name": "stdout",
          "text": [
            "dog\n"
          ]
        }
      ]
    },
    {
      "cell_type": "code",
      "source": [
        "print(first_tuple[2+2])"
      ],
      "metadata": {
        "colab": {
          "base_uri": "https://localhost:8080/"
        },
        "id": "0qj0uhOot3aa",
        "outputId": "55f8124b-2ac1-4f16-e126-22b931d2c0a8"
      },
      "execution_count": null,
      "outputs": [
        {
          "output_type": "stream",
          "name": "stdout",
          "text": [
            "apple\n"
          ]
        }
      ]
    },
    {
      "cell_type": "code",
      "source": [
        "this_one_int = +10 +17 -30\n",
        "print(first_tuple[this_one_int])"
      ],
      "metadata": {
        "colab": {
          "base_uri": "https://localhost:8080/"
        },
        "id": "F1r7MnDzuCvs",
        "outputId": "a4172c01-5909-4256-98a0-346d4df346c9"
      },
      "execution_count": null,
      "outputs": [
        {
          "output_type": "stream",
          "name": "stdout",
          "text": [
            "True\n"
          ]
        }
      ]
    },
    {
      "cell_type": "code",
      "source": [
        "wrong_one_int = +20 +17 -30\n",
        "print(first_tuple[wrong_one_int])"
      ],
      "metadata": {
        "id": "77ZCqC65uyfr"
      },
      "execution_count": null,
      "outputs": []
    },
    {
      "cell_type": "markdown",
      "source": [
        "## Slicing    \n",
        "\n",
        "Like lists, we can have access to a specific range of a tuple using the following syntax\n",
        "\n",
        "```\n",
        "tuple[start_index : end_index : pace]\n",
        "```\n",
        "also described as: \n",
        "```\n",
        "tuple[start_index : end_index : step]\n",
        "```\n",
        "\n",
        "This expression returns a new tuple from start_index to end_index-1 according to pace. By default, the pace has a value of 1. If we omit the start_index the default value is 0. Similarly, if we omit the end_index the default value is the last index of the tuple. Last, if we omit both indexes we get a copy of the tuple.     \n",
        "\n",
        "Let’s see some examples below:"
      ],
      "metadata": {
        "id": "JzqpzBjviwGK"
      }
    },
    {
      "cell_type": "code",
      "source": [
        "print(first_tuple)"
      ],
      "metadata": {
        "colab": {
          "base_uri": "https://localhost:8080/"
        },
        "id": "cAL6pBb8vjiC",
        "outputId": "7a3b122a-2042-4ac5-b4cf-246bb6140e4a"
      },
      "execution_count": null,
      "outputs": [
        {
          "output_type": "stream",
          "name": "stdout",
          "text": [
            "('dog', 4.5, True, 7, 'apple')\n"
          ]
        }
      ]
    },
    {
      "cell_type": "code",
      "source": [
        "print(first_tuple[1:3])"
      ],
      "metadata": {
        "id": "6cSzkgv-i6Wq",
        "colab": {
          "base_uri": "https://localhost:8080/"
        },
        "outputId": "0d044bac-9b3b-4465-8ffa-556bb6fbea40"
      },
      "execution_count": null,
      "outputs": [
        {
          "output_type": "stream",
          "name": "stdout",
          "text": [
            "(4.5, True)\n"
          ]
        }
      ]
    },
    {
      "cell_type": "code",
      "source": [
        "print(first_tuple[:4])"
      ],
      "metadata": {
        "id": "_q4jiunvjOH7",
        "colab": {
          "base_uri": "https://localhost:8080/"
        },
        "outputId": "3b64e3d4-ca01-423d-bda2-457a5e515eb0"
      },
      "execution_count": null,
      "outputs": [
        {
          "output_type": "stream",
          "name": "stdout",
          "text": [
            "('dog', 4.5, True, 7)\n"
          ]
        }
      ]
    },
    {
      "cell_type": "code",
      "source": [
        "print(first_tuple[:2])"
      ],
      "metadata": {
        "colab": {
          "base_uri": "https://localhost:8080/"
        },
        "id": "5nXHpkPRwUK8",
        "outputId": "ef899565-5808-4949-82e7-512f3b38807c"
      },
      "execution_count": null,
      "outputs": [
        {
          "output_type": "stream",
          "name": "stdout",
          "text": [
            "('dog', 4.5)\n"
          ]
        }
      ]
    },
    {
      "cell_type": "code",
      "source": [
        "print(first_tuple[::2])"
      ],
      "metadata": {
        "id": "uynjWaJGjIQj",
        "colab": {
          "base_uri": "https://localhost:8080/"
        },
        "outputId": "9921c3a7-df92-4bf5-e03a-4ebd486ef681"
      },
      "execution_count": null,
      "outputs": [
        {
          "output_type": "stream",
          "name": "stdout",
          "text": [
            "('dog', True, 'apple')\n"
          ]
        }
      ]
    },
    {
      "cell_type": "code",
      "source": [
        "print(first_tuple[:])"
      ],
      "metadata": {
        "id": "RR5KJGLEjRhr",
        "colab": {
          "base_uri": "https://localhost:8080/"
        },
        "outputId": "a7314c9a-fe80-4455-91f5-0169cea7e558"
      },
      "execution_count": null,
      "outputs": [
        {
          "output_type": "stream",
          "name": "stdout",
          "text": [
            "('dog', 4.5, True, 7, 'apple')\n"
          ]
        }
      ]
    },
    {
      "cell_type": "markdown",
      "source": [
        "## Modifying tuple content     "
      ],
      "metadata": {
        "id": "DOO3LWaYqB6g"
      }
    },
    {
      "cell_type": "markdown",
      "source": [
        "### Add elements to tuples    \n",
        "\n",
        "As we mentioned earlier, tuples are immutable data types, so we can not add, update or delete elements after the tuple has been created. In lists, we have the method `append()` to add new elements in an existing list, but in tuples, we don’t have this method. So how can we add elements to an existing tuple?     \n",
        "\n",
        "To do this, we make a three-step trick.     \n",
        "\n",
        "1. First, we convert our tuple to a list. We can do this using the constructor `list()`. At this point, we have a list with the same elements as our tuple, so now we can use the `append()` method.     \n",
        "\n",
        "2. The second step is to use the `append()` method to add the element to our list. At this point, we have all the elements we want on a list.     \n",
        "\n",
        "3. The third and last step is to convert our list into a tuple, using the constructor `tuple()`. Now, we have all elements we want in a tuple.    \n",
        "\n",
        "*We can use the `id()` function to determine whether the tuple we begin with and the final tuple are unique objects.*   \n",
        "\n",
        "Let’s see an example below:    "
      ],
      "metadata": {
        "id": "UDHmG1J7jgp0"
      }
    },
    {
      "cell_type": "code",
      "source": [
        "# check the tuple contents and object id\n",
        "print(first_tuple)\n",
        "print(id(first_tuple))"
      ],
      "metadata": {
        "id": "b7W4QdrtkA0t",
        "colab": {
          "base_uri": "https://localhost:8080/"
        },
        "outputId": "da944903-0910-4da3-c55d-29079d59d50b"
      },
      "execution_count": null,
      "outputs": [
        {
          "output_type": "stream",
          "name": "stdout",
          "text": [
            "('dog', 4.5, True, 7, 'apple')\n",
            "139691746585968\n"
          ]
        }
      ]
    },
    {
      "cell_type": "code",
      "source": [
        "# step 1 - create a list from the tuple\n",
        "first_list = list(first_tuple)\n",
        "print(first_list)"
      ],
      "metadata": {
        "id": "wQqd2GUWkgd1",
        "colab": {
          "base_uri": "https://localhost:8080/"
        },
        "outputId": "b080c651-53ed-4ac1-bb56-f3eeb4e2c150"
      },
      "execution_count": null,
      "outputs": [
        {
          "output_type": "stream",
          "name": "stdout",
          "text": [
            "['dog', 4.5, True, 7, 'apple']\n"
          ]
        }
      ]
    },
    {
      "cell_type": "code",
      "source": [
        "# step 2 - append to the new list\n",
        "first_list.append('banana')\n",
        "print(first_list)"
      ],
      "metadata": {
        "id": "aD_ssMEnlS4r",
        "colab": {
          "base_uri": "https://localhost:8080/"
        },
        "outputId": "1133ecfa-3ff3-45e2-d3de-526b9f674f93"
      },
      "execution_count": null,
      "outputs": [
        {
          "output_type": "stream",
          "name": "stdout",
          "text": [
            "['dog', 4.5, True, 7, 'apple', 'banana']\n"
          ]
        }
      ]
    },
    {
      "cell_type": "code",
      "source": [
        "# step 3 - replace the tuple with a tuple of the new list\n",
        "first_tuple = tuple(first_list)"
      ],
      "metadata": {
        "id": "FTDwZG-Mkmc7"
      },
      "execution_count": null,
      "outputs": []
    },
    {
      "cell_type": "code",
      "source": [
        "# check the tuple contents and object id\n",
        "print(first_tuple)\n",
        "print(type(first_tuple))\n",
        "print(id(first_tuple))"
      ],
      "metadata": {
        "id": "Bvniw39NlBtb",
        "colab": {
          "base_uri": "https://localhost:8080/"
        },
        "outputId": "e423dc6d-338b-4846-f107-5d13198bd9e0"
      },
      "execution_count": null,
      "outputs": [
        {
          "output_type": "stream",
          "name": "stdout",
          "text": [
            "('dog', 4.5, True, 7, 'apple', 'banana')\n",
            "<class 'tuple'>\n",
            "139691752315824\n"
          ]
        }
      ]
    },
    {
      "cell_type": "markdown",
      "source": [
        "Be careful, that our initial tuple is not the same as the final tuple despite the fact that both have the same name `my_tuple`. We can easily check this by noticing the difference in `id` values."
      ],
      "metadata": {
        "id": "TWcgB3U5l71K"
      }
    },
    {
      "cell_type": "markdown",
      "source": [
        "### Change tuple elements    \n",
        "\n",
        "If we try to update the value of an element in tuples we will get an error, because tuples are immutable data types, like below:"
      ],
      "metadata": {
        "id": "taCVSCG6l_-E"
      }
    },
    {
      "cell_type": "code",
      "source": [
        "print(second_tuple)"
      ],
      "metadata": {
        "id": "WnK69CmGmFyL",
        "colab": {
          "base_uri": "https://localhost:8080/"
        },
        "outputId": "63756529-696c-4a08-95c3-aff8a9e46fdc"
      },
      "execution_count": null,
      "outputs": [
        {
          "output_type": "stream",
          "name": "stdout",
          "text": [
            "('dog', 4.5, True, 7, 'apple')\n"
          ]
        }
      ]
    },
    {
      "cell_type": "code",
      "source": [
        "second_tuple[0] = 'cat'"
      ],
      "metadata": {
        "id": "hbqD-GdWmMtU"
      },
      "execution_count": null,
      "outputs": []
    },
    {
      "cell_type": "markdown",
      "source": [
        "*Before we go further, let's create a `third_tuple` with the same element values.*      \n",
        "\n",
        "*We will use this later:*    "
      ],
      "metadata": {
        "id": "99aMeV6pnvg7"
      }
    },
    {
      "cell_type": "code",
      "source": [
        "third_tuple = second_tuple[:] "
      ],
      "metadata": {
        "id": "POCdjpEtn7r8"
      },
      "execution_count": null,
      "outputs": []
    },
    {
      "cell_type": "code",
      "source": [
        "print(third_tuple)\n",
        "print(type(third_tuple))"
      ],
      "metadata": {
        "colab": {
          "base_uri": "https://localhost:8080/"
        },
        "id": "20MmJLPNzVgV",
        "outputId": "c77e2e58-ab59-4ddf-cdcb-7465f61af335"
      },
      "execution_count": null,
      "outputs": [
        {
          "output_type": "stream",
          "name": "stdout",
          "text": [
            "('dog', 4.5, True, 7, 'apple')\n",
            "<class 'tuple'>\n"
          ]
        }
      ]
    },
    {
      "cell_type": "markdown",
      "source": [
        "*Why don't we just use the following statement to create the third tuple?*     \n",
        "\n",
        "```\n",
        "third_tuple = second_tuple \n",
        "```\n"
      ],
      "metadata": {
        "id": "E_XEyf-woCMD"
      }
    },
    {
      "cell_type": "markdown",
      "source": [
        "To update the value of an element in a tuple we will use the same trick as above.     \n",
        "\n",
        "1. First, convert our tuple into a list.     \n",
        "\n",
        "2. Then, we update the elements we want using the index.     \n",
        "\n",
        "3. Then, we convert our list into a tuple. Now our tuple has the updated values.     \n",
        "\n",
        "Let’s see the code below:"
      ],
      "metadata": {
        "id": "B8LQDOQemTVz"
      }
    },
    {
      "cell_type": "code",
      "source": [
        "# check the tuple contents and object id\n",
        "print(second_tuple)\n",
        "print(id(second_tuple))"
      ],
      "metadata": {
        "id": "zYvyZao7mo4o",
        "colab": {
          "base_uri": "https://localhost:8080/"
        },
        "outputId": "22d20499-8e3c-4449-cb49-aedaa9c41f72"
      },
      "execution_count": null,
      "outputs": [
        {
          "output_type": "stream",
          "name": "stdout",
          "text": [
            "('dog', 4.5, True, 7, 'apple')\n",
            "139691746756752\n"
          ]
        }
      ]
    },
    {
      "cell_type": "code",
      "source": [
        "# step 1 - create a list from the tuple\n",
        "second_list = list(second_tuple)\n",
        "print(second_list)\n",
        "print(type(second_list))"
      ],
      "metadata": {
        "id": "1UZPwGQKmo4o",
        "colab": {
          "base_uri": "https://localhost:8080/"
        },
        "outputId": "e6f81031-9cf3-4f76-baea-e2a835fe6bf0"
      },
      "execution_count": null,
      "outputs": [
        {
          "output_type": "stream",
          "name": "stdout",
          "text": [
            "['dog', 4.5, True, 7, 'apple']\n",
            "<class 'list'>\n"
          ]
        }
      ]
    },
    {
      "cell_type": "code",
      "source": [
        "# step 2 - replace a list member using index\n",
        "second_list[0] = 'cat'\n",
        "print(second_list)"
      ],
      "metadata": {
        "id": "87BctUpamo4p",
        "colab": {
          "base_uri": "https://localhost:8080/"
        },
        "outputId": "0d6ed113-0fd0-4d15-ca96-8980a0b42a89"
      },
      "execution_count": null,
      "outputs": [
        {
          "output_type": "stream",
          "name": "stdout",
          "text": [
            "['cat', 4.5, True, 7, 'apple']\n"
          ]
        }
      ]
    },
    {
      "cell_type": "code",
      "source": [
        "# step 3 - replace the tuple with a tuple of the new list\n",
        "second_tuple = tuple(second_list)"
      ],
      "metadata": {
        "id": "D28uTDCymo4p"
      },
      "execution_count": null,
      "outputs": []
    },
    {
      "cell_type": "code",
      "source": [
        "# check the tuple contents and object id\n",
        "print(second_tuple)\n",
        "print(type(second_tuple))\n",
        "print(id(second_tuple))"
      ],
      "metadata": {
        "id": "v3Lf8iUamo4q",
        "colab": {
          "base_uri": "https://localhost:8080/"
        },
        "outputId": "2cd81ce1-8472-4d64-de0d-6ab6a9bb457f"
      },
      "execution_count": null,
      "outputs": [
        {
          "output_type": "stream",
          "name": "stdout",
          "text": [
            "('cat', 4.5, True, 7, 'apple')\n",
            "<class 'tuple'>\n",
            "139691746585968\n"
          ]
        }
      ]
    },
    {
      "cell_type": "markdown",
      "source": [
        "### Delete tuple elements    \n",
        "\n",
        "As you can guess, we cannot remove elements in a tuple. So we use the same trick as above and take advantage of the `.remove()` method of the list data type to remove element(s).     \n",
        "\n",
        "Let’s see the code below:"
      ],
      "metadata": {
        "id": "kHvSFZkEf_YK"
      }
    },
    {
      "cell_type": "code",
      "source": [
        "# check the tuple contents and object id\n",
        "print(third_tuple)\n",
        "print(id(third_tuple))"
      ],
      "metadata": {
        "id": "l1_H77qRojUs",
        "colab": {
          "base_uri": "https://localhost:8080/"
        },
        "outputId": "8bab0946-edd7-4656-e99e-8c0471f44c2d"
      },
      "execution_count": null,
      "outputs": [
        {
          "output_type": "stream",
          "name": "stdout",
          "text": [
            "('dog', 4.5, True, 7, 'apple')\n",
            "139691746756752\n"
          ]
        }
      ]
    },
    {
      "cell_type": "code",
      "source": [
        "# step 1 - create a list from the tuple\n",
        "third_list = list(third_tuple)\n",
        "print(type(third_list))\n",
        "print(third_list)"
      ],
      "metadata": {
        "id": "-7vR_mv1ojUt",
        "colab": {
          "base_uri": "https://localhost:8080/"
        },
        "outputId": "36a74e3b-fe4e-43b1-e304-6860548bb6ce"
      },
      "execution_count": null,
      "outputs": [
        {
          "output_type": "stream",
          "name": "stdout",
          "text": [
            "<class 'list'>\n",
            "['dog', 4.5, True, 7, 'apple']\n"
          ]
        }
      ]
    },
    {
      "cell_type": "code",
      "source": [
        "# step 2 - remove from the new list\n",
        "third_list.remove(True)\n",
        "print(third_list)"
      ],
      "metadata": {
        "id": "ClinKMZ3ojUt",
        "colab": {
          "base_uri": "https://localhost:8080/"
        },
        "outputId": "24da03eb-499a-4787-bf89-a3f3264cfa75"
      },
      "execution_count": null,
      "outputs": [
        {
          "output_type": "stream",
          "name": "stdout",
          "text": [
            "['dog', 4.5, 7, 'apple']\n"
          ]
        }
      ]
    },
    {
      "cell_type": "code",
      "source": [
        "# step 3 - replace the tuple with a tuple of the new list\n",
        "third_tuple = tuple(third_list)"
      ],
      "metadata": {
        "id": "iWhWj_eEojUt"
      },
      "execution_count": null,
      "outputs": []
    },
    {
      "cell_type": "code",
      "source": [
        "# check the tuple contents and object id\n",
        "print(third_tuple)\n",
        "print(type(third_tuple))\n",
        "print(id(third_tuple))"
      ],
      "metadata": {
        "id": "DYwhwhwpojUt",
        "colab": {
          "base_uri": "https://localhost:8080/"
        },
        "outputId": "b4b4769a-b516-4d10-e329-a402a4659747"
      },
      "execution_count": null,
      "outputs": [
        {
          "output_type": "stream",
          "name": "stdout",
          "text": [
            "('dog', 4.5, 7, 'apple')\n",
            "<class 'tuple'>\n",
            "139691673546576\n"
          ]
        }
      ]
    },
    {
      "cell_type": "markdown",
      "source": [
        "## Loops in tuples    \n",
        "\n",
        "One of the most common actions in iterables like lists and tuples is the iteration. We have a couple of ways to look at the elements of a tuple. The most common is using a `for` loop.     \n",
        "\n",
        "The syntax of the loop is the following:\n",
        "```\n",
        "for element in my_tuple:\n",
        "   do something with the element\n",
        "```"
      ],
      "metadata": {
        "id": "jYEpPbZ4pHl9"
      }
    },
    {
      "cell_type": "code",
      "source": [
        "for element in first_tuple:\n",
        "    print(element)"
      ],
      "metadata": {
        "id": "drSt3mj1qToR",
        "colab": {
          "base_uri": "https://localhost:8080/"
        },
        "outputId": "a3ccd3a7-1c10-4200-cc40-654dd889e5e5"
      },
      "execution_count": null,
      "outputs": [
        {
          "output_type": "stream",
          "name": "stdout",
          "text": [
            "dog\n",
            "4.5\n",
            "True\n",
            "7\n",
            "apple\n",
            "banana\n"
          ]
        }
      ]
    },
    {
      "cell_type": "code",
      "source": [
        "for value in second_tuple:\n",
        "    print(value)"
      ],
      "metadata": {
        "id": "cQlOJSRCqph0",
        "colab": {
          "base_uri": "https://localhost:8080/"
        },
        "outputId": "78732eec-e5cd-498b-bd90-f1f66b76dddd"
      },
      "execution_count": null,
      "outputs": [
        {
          "output_type": "stream",
          "name": "stdout",
          "text": [
            "cat\n",
            "4.5\n",
            "True\n",
            "7\n",
            "apple\n"
          ]
        }
      ]
    },
    {
      "cell_type": "code",
      "source": [
        "for any_name_you_like in third_tuple:\n",
        "    print(any_name_you_like)"
      ],
      "metadata": {
        "id": "tlxheUvbqsg7",
        "colab": {
          "base_uri": "https://localhost:8080/"
        },
        "outputId": "e965e49a-a687-4dc8-c004-3b723cd41890"
      },
      "execution_count": null,
      "outputs": [
        {
          "output_type": "stream",
          "name": "stdout",
          "text": [
            "dog\n",
            "4.5\n",
            "7\n",
            "apple\n"
          ]
        }
      ]
    },
    {
      "cell_type": "markdown",
      "source": [
        "As in lists, we can use the index number to iterate the elements of a tuple. To do this, we use the for loop with `len()` and `range()` functions.\n",
        "```\n",
        "for index in range(len(my_tuple)):\n",
        "   do something with my_tuple[index]\n",
        "```"
      ],
      "metadata": {
        "id": "9nCkfqpZq3L1"
      }
    },
    {
      "cell_type": "code",
      "source": [
        "for index in range(len(first_tuple)):\n",
        "    print('Index position: ', index, ' has value: ', first_tuple[index])"
      ],
      "metadata": {
        "id": "mBByZobtq9st",
        "colab": {
          "base_uri": "https://localhost:8080/"
        },
        "outputId": "8df94924-264f-4e64-9000-ddb80a4589e2"
      },
      "execution_count": null,
      "outputs": [
        {
          "output_type": "stream",
          "name": "stdout",
          "text": [
            "Index position:  0  has value:  dog\n",
            "Index position:  1  has value:  4.5\n",
            "Index position:  2  has value:  True\n",
            "Index position:  3  has value:  7\n",
            "Index position:  4  has value:  apple\n",
            "Index position:  5  has value:  banana\n"
          ]
        }
      ]
    },
    {
      "cell_type": "markdown",
      "source": [
        "##Tuple into a tuple    \n",
        "\n",
        "As mentioned earlier, in tuple we can store data of different types.   We can store a tuple into a tuple.      \n",
        "\n",
        "We can have access to inner tuple elements using the index of the inner tuple and the index of the specific element.      \n",
        "\n",
        "Let’s see the code below:"
      ],
      "metadata": {
        "id": "5X_ScmIrrSxG"
      }
    },
    {
      "cell_type": "code",
      "source": [
        "fourth_tuple = ('dog', 4.5, True, 7, 'apple', (10, 20, 30))\n",
        "print(fourth_tuple)\n",
        "print(type(fourth_tuple))"
      ],
      "metadata": {
        "id": "7wRqiItXrdre",
        "colab": {
          "base_uri": "https://localhost:8080/"
        },
        "outputId": "9651ee42-01ea-4643-88fb-c2fa30bc5b19"
      },
      "execution_count": null,
      "outputs": [
        {
          "output_type": "stream",
          "name": "stdout",
          "text": [
            "('dog', 4.5, True, 7, 'apple', (10, 20, 30))\n",
            "<class 'tuple'>\n"
          ]
        }
      ]
    },
    {
      "cell_type": "code",
      "source": [
        "print(type(fourth_tuple[5]))"
      ],
      "metadata": {
        "colab": {
          "base_uri": "https://localhost:8080/"
        },
        "id": "N_wPY3ME3GOC",
        "outputId": "bdf9d91f-df7a-463a-8954-f92e4709b012"
      },
      "execution_count": null,
      "outputs": [
        {
          "output_type": "stream",
          "name": "stdout",
          "text": [
            "<class 'tuple'>\n"
          ]
        }
      ]
    },
    {
      "cell_type": "code",
      "source": [
        "print(fourth_tuple[5])\n",
        "print(fourth_tuple[-1])"
      ],
      "metadata": {
        "colab": {
          "base_uri": "https://localhost:8080/"
        },
        "id": "UU4R_wG93da4",
        "outputId": "96755dcd-0101-45bd-d18d-61660ffe40e5"
      },
      "execution_count": null,
      "outputs": [
        {
          "output_type": "stream",
          "name": "stdout",
          "text": [
            "(10, 20, 30)\n",
            "(10, 20, 30)\n"
          ]
        }
      ]
    },
    {
      "cell_type": "code",
      "source": [
        "print(fourth_tuple[-1][0])"
      ],
      "metadata": {
        "id": "aKV3BEH6r2Ua",
        "colab": {
          "base_uri": "https://localhost:8080/"
        },
        "outputId": "342cdfc1-4bd2-42c8-c87e-336999d18aaf"
      },
      "execution_count": null,
      "outputs": [
        {
          "output_type": "stream",
          "name": "stdout",
          "text": [
            "10\n"
          ]
        }
      ]
    },
    {
      "cell_type": "markdown",
      "source": [
        "*We should consider the position of nested iterables when using more than one index.*   "
      ],
      "metadata": {
        "id": "AXAa8E9XscIf"
      }
    },
    {
      "cell_type": "code",
      "source": [
        "print(fourth_tuple[1][0])"
      ],
      "metadata": {
        "id": "Do12WEIwsC2c"
      },
      "execution_count": null,
      "outputs": []
    },
    {
      "cell_type": "markdown",
      "source": [
        "## Unpacking Tuples    \n",
        "Whenever we create a tuple we “pack” elements into it. Python allows us to extract elements of a tuple and stores these elements into variables.     \n",
        "\n",
        "Let’s see an example below:    "
      ],
      "metadata": {
        "id": "zwjxPuChsoeG"
      }
    },
    {
      "cell_type": "code",
      "source": [
        "fifth_tuple = (12, 34, 2, 6, 24)   \n",
        "print(fifth_tuple)\n",
        "print(type(fifth_tuple))"
      ],
      "metadata": {
        "id": "esQaGYLjs1jR",
        "colab": {
          "base_uri": "https://localhost:8080/"
        },
        "outputId": "e885a9c8-8aff-4618-bb80-45edc69a1f96"
      },
      "execution_count": null,
      "outputs": [
        {
          "output_type": "stream",
          "name": "stdout",
          "text": [
            "(12, 34, 2, 6, 24)\n",
            "<class 'tuple'>\n"
          ]
        }
      ]
    },
    {
      "cell_type": "code",
      "source": [
        "first, second, third, fourth, fifth = fifth_tuple   \n",
        "\n",
        "print('Value of `first` is ', (first))\n",
        "print('Value of `second` is ', (second))\n",
        "print('Value of `third` is ', (third))\n",
        "print('Value of `fourth` is ', (fourth))\n",
        "print('Value of `fifth` is ', (fifth))\n",
        "print()\n",
        "print('Type of `first` is ', type(first))\n",
        "print('Type of `second` is ', type(second))\n",
        "print('Type of `third` is ', type(third))\n",
        "print('Type of `fourth` is ', type(fourth))\n",
        "print('Type of `fifth` is ', type(fifth))"
      ],
      "metadata": {
        "colab": {
          "base_uri": "https://localhost:8080/"
        },
        "id": "3LRGMNQu4Zqa",
        "outputId": "999a76be-229d-4625-d8b5-4b769fd9eb51"
      },
      "execution_count": null,
      "outputs": [
        {
          "output_type": "stream",
          "name": "stdout",
          "text": [
            "Value of `first` is  12\n",
            "Value of `second` is  34\n",
            "Value of `third` is  2\n",
            "Value of `fourth` is  6\n",
            "Value of `fifth` is  24\n",
            "\n",
            "Type of `first` is  <class 'int'>\n",
            "Type of `second` is  <class 'int'>\n",
            "Type of `third` is  <class 'int'>\n",
            "Type of `fourth` is  <class 'int'>\n",
            "Type of `fifth` is  <class 'int'>\n"
          ]
        }
      ]
    },
    {
      "cell_type": "markdown",
      "source": [
        "In the example above, we have a tuple of numbers and we extract those numbers in variables. Be careful that the number of elements in the tuple must be exactly the same as the number of variables, otherwise, we will get an error. In case we are interested in only some of the elements of the tuple, we can use the asterisk * syntax as above"
      ],
      "metadata": {
        "id": "U1pnqR2ptWKD"
      }
    },
    {
      "cell_type": "code",
      "source": [
        "primary, secondary, *something = fifth_tuple  \n",
        "\n",
        "print(primary, secondary, rest)\n",
        "\n",
        "print('Type of `primary` is', type(primary))\n",
        "print('Type of `secondary` is', type(secondary))\n",
        "print('Type of `something` is', type(something))"
      ],
      "metadata": {
        "id": "KWywZi9HtetT",
        "colab": {
          "base_uri": "https://localhost:8080/"
        },
        "outputId": "71b460fa-9958-4ff2-9a04-6a7a8859810c"
      },
      "execution_count": null,
      "outputs": [
        {
          "output_type": "stream",
          "name": "stdout",
          "text": [
            "12 34 [2, 6, 24]\n",
            "Type of `primary` is <class 'int'>\n",
            "Type of `secondary` is <class 'int'>\n",
            "Type of `something` is <class 'list'>\n"
          ]
        }
      ]
    },
    {
      "cell_type": "markdown",
      "source": [
        "*Bear in mind that a variable which uses an asterisk to take values from a tuple will itself be a list.*    \n",
        "\n",
        "As we can notice, in the case above, Python returns a list that includes the rest of the elements of the tuple.     \n",
        "\n",
        "The following is another interesting, valid syntax:     \n"
      ],
      "metadata": {
        "id": "UD9bXY_4t95m"
      }
    },
    {
      "cell_type": "code",
      "source": [
        "alpha, *medio, omega = fifth_tuple\n",
        "\n",
        "print(alpha, medio, omega)\n",
        "\n",
        "print('Type of `alpha` is', type(alpha))\n",
        "print('Type of `medio` is', type(medio))\n",
        "print('Type of `omega` is', type(omega))"
      ],
      "metadata": {
        "id": "Jz9iqL5Kuhkz",
        "colab": {
          "base_uri": "https://localhost:8080/"
        },
        "outputId": "a2092c84-937e-45e2-b80c-0cdbaacbe11d"
      },
      "execution_count": null,
      "outputs": [
        {
          "output_type": "stream",
          "name": "stdout",
          "text": [
            "12 [34, 2, 6] 24\n",
            "Type of `alpha` is <class 'int'>\n",
            "Type of `medio` is <class 'list'>\n",
            "Type of `omega` is <class 'int'>\n"
          ]
        }
      ]
    },
    {
      "cell_type": "markdown",
      "source": [
        "##Tuple Methods    \n"
      ],
      "metadata": {
        "id": "sh7gGBaevDAr"
      }
    },
    {
      "cell_type": "markdown",
      "source": [
        "Let's create one more example tuple to demonstrate the two tuple methods:    \n",
        "1. `.count()`    \n",
        "2. `.index()`    "
      ],
      "metadata": {
        "id": "eEfaUPykv9mA"
      }
    },
    {
      "cell_type": "code",
      "source": [
        "sixth_tuple = (12, 34,2, 6, 24, 34)"
      ],
      "metadata": {
        "id": "7RfJU7FJwKlo"
      },
      "execution_count": null,
      "outputs": []
    },
    {
      "cell_type": "markdown",
      "source": [
        "## `tuple.count()`     \n",
        "\n",
        "Returns the number of times the given value appears in a tuple.    "
      ],
      "metadata": {
        "id": "6CmCYd53vFiD"
      }
    },
    {
      "cell_type": "code",
      "source": [
        "print(sixth_tuple.count(34))"
      ],
      "metadata": {
        "colab": {
          "base_uri": "https://localhost:8080/"
        },
        "id": "c4R7yRULv4BX",
        "outputId": "c6566225-bd42-40c1-aa03-9279a191c8ab"
      },
      "execution_count": null,
      "outputs": [
        {
          "output_type": "stream",
          "name": "stdout",
          "text": [
            "2\n"
          ]
        }
      ]
    },
    {
      "cell_type": "markdown",
      "source": [
        "## `tuple.index()`     \n",
        "\n",
        "Returns the index of the first appearance of the given element. Be careful that if the given number doesn’t exist, it raises a *ValueError* exception.   "
      ],
      "metadata": {
        "id": "FE1sxy13veNG"
      }
    },
    {
      "cell_type": "code",
      "source": [
        "print(sixth_tuple.index(34))"
      ],
      "metadata": {
        "colab": {
          "base_uri": "https://localhost:8080/"
        },
        "id": "3kPgKwQVv4gv",
        "outputId": "7dba64fe-02ae-43c0-fb8e-455f301f8ffd"
      },
      "execution_count": null,
      "outputs": [
        {
          "output_type": "stream",
          "name": "stdout",
          "text": [
            "1\n"
          ]
        }
      ]
    },
    {
      "cell_type": "code",
      "source": [
        "print(sixth_tuple.index(7))"
      ],
      "metadata": {
        "id": "UM3zLh5qwih6"
      },
      "execution_count": null,
      "outputs": []
    },
    {
      "cell_type": "markdown",
      "source": [
        "\n",
        "\n",
        "---\n",
        "\n"
      ],
      "metadata": {
        "id": "_0j6nFjpfTYx"
      }
    },
    {
      "cell_type": "markdown",
      "source": [
        "# **Tuples**\n",
        "**(from Py4E.com, lesson 11 - former lesson 10)**  "
      ],
      "metadata": {
        "id": "5ubA_kw2nLQk"
      }
    },
    {
      "cell_type": "markdown",
      "metadata": {
        "id": "s6iMChRAJ6Tj"
      },
      "source": [
        "## 11(10).1 Tuples are immutable"
      ]
    },
    {
      "cell_type": "code",
      "execution_count": null,
      "metadata": {
        "id": "rqS9n2t1J6Tk"
      },
      "outputs": [],
      "source": [
        "# Syntactically, a tuple is a comma-separated list of values:\n",
        "t = 'a', 'b', 'c', 'd', 'e'"
      ]
    },
    {
      "cell_type": "code",
      "source": [
        "print(type(t))"
      ],
      "metadata": {
        "colab": {
          "base_uri": "https://localhost:8080/"
        },
        "id": "4KBd1ClRQVRK",
        "outputId": "c2f66c46-fcac-4b9c-a471-cb96a1f188d6"
      },
      "execution_count": null,
      "outputs": [
        {
          "output_type": "stream",
          "name": "stdout",
          "text": [
            "<class 'tuple'>\n"
          ]
        }
      ]
    },
    {
      "cell_type": "code",
      "execution_count": null,
      "metadata": {
        "id": "p6I8X0X_J6Tl"
      },
      "outputs": [],
      "source": [
        "# enclose tuples in parentheses to identify easily\n",
        "t = ('a', 'b', 'c', 'd', 'e')"
      ]
    },
    {
      "cell_type": "code",
      "execution_count": null,
      "metadata": {
        "id": "7qt1Dgr-J6Tl",
        "colab": {
          "base_uri": "https://localhost:8080/"
        },
        "outputId": "2577e6fe-aa94-4518-c7d7-39945613529a"
      },
      "outputs": [
        {
          "output_type": "execute_result",
          "data": {
            "text/plain": [
              "tuple"
            ]
          },
          "metadata": {},
          "execution_count": 10
        }
      ],
      "source": [
        "# create a tuple with a single element\n",
        "t1 = ('a',)  # End a element by ','\n",
        "type(t1)"
      ]
    },
    {
      "cell_type": "code",
      "execution_count": null,
      "metadata": {
        "id": "8Ia5ZYrzJ6Tn",
        "colab": {
          "base_uri": "https://localhost:8080/"
        },
        "outputId": "71556bdb-c9b1-43f6-f653-4a7b61d553e6"
      },
      "outputs": [
        {
          "output_type": "execute_result",
          "data": {
            "text/plain": [
              "str"
            ]
          },
          "metadata": {},
          "execution_count": 11
        }
      ],
      "source": [
        "t2 = ('a')\n",
        "type(t2)"
      ]
    },
    {
      "cell_type": "code",
      "source": [
        "t_not_3 = (1) * (2*3)\n",
        "type(t_not_3)"
      ],
      "metadata": {
        "colab": {
          "base_uri": "https://localhost:8080/"
        },
        "id": "_71FGf5mQ0b1",
        "outputId": "4e7aff03-8fae-4231-c5d7-df020b79a16a"
      },
      "execution_count": null,
      "outputs": [
        {
          "output_type": "execute_result",
          "data": {
            "text/plain": [
              "int"
            ]
          },
          "metadata": {},
          "execution_count": 13
        }
      ]
    },
    {
      "cell_type": "code",
      "execution_count": null,
      "metadata": {
        "id": "nCkRvHJCJ6To"
      },
      "outputs": [],
      "source": [
        "# built-in function tuple\n",
        "t = tuple()\n",
        "print(t)"
      ]
    },
    {
      "cell_type": "code",
      "execution_count": null,
      "metadata": {
        "id": "1ihqmSs0J6To",
        "colab": {
          "base_uri": "https://localhost:8080/"
        },
        "outputId": "23f02972-5f30-4451-e18a-d49b7d195645"
      },
      "outputs": [
        {
          "output_type": "stream",
          "name": "stdout",
          "text": [
            "('l', 'u', 'p', 'i', 'n', 's')\n"
          ]
        }
      ],
      "source": [
        "# built-in function tuple with string as argument\n",
        "t = tuple('lupins')\n",
        "# t_lst = list('lupins')\n",
        "print(t)\n",
        "# print(t_lst)"
      ]
    },
    {
      "cell_type": "code",
      "execution_count": null,
      "metadata": {
        "id": "jLKuxKe4J6Tp"
      },
      "outputs": [],
      "source": [
        "t = ('a', 'b', 'c', 'd', 'e')\n",
        "print(t[0]) # bracket operator indexes an element"
      ]
    },
    {
      "cell_type": "code",
      "execution_count": null,
      "metadata": {
        "id": "q9pLFkL4J6Tp"
      },
      "outputs": [],
      "source": [
        "print(t[1:3]) # slice operator selects a range of elements"
      ]
    },
    {
      "cell_type": "code",
      "execution_count": null,
      "metadata": {
        "id": "h5S2YNcLJ6Tp"
      },
      "outputs": [],
      "source": [
        "t[0] = 'A'"
      ]
    },
    {
      "cell_type": "code",
      "execution_count": null,
      "metadata": {
        "id": "S0-Qc4YPJ6Tq"
      },
      "outputs": [],
      "source": [
        "# can’t modify the elements of a tuple, but can replace one tuple with another\n",
        "t = ('A',) + t[1:]\n",
        "print(t)"
      ]
    },
    {
      "cell_type": "markdown",
      "metadata": {
        "id": "MhadYzFKJ6Tq"
      },
      "source": [
        "## 11(10).2 Comparing tuples"
      ]
    },
    {
      "cell_type": "code",
      "source": [
        "(0, 1, 2) == (0, 1, 2) # comparing with respective sequence elements"
      ],
      "metadata": {
        "colab": {
          "base_uri": "https://localhost:8080/"
        },
        "id": "vIhK8DFwSQRO",
        "outputId": "5dba7fa5-2cb1-4520-f56d-4b390dd55aa9"
      },
      "execution_count": null,
      "outputs": [
        {
          "output_type": "execute_result",
          "data": {
            "text/plain": [
              "True"
            ]
          },
          "metadata": {},
          "execution_count": 23
        }
      ]
    },
    {
      "cell_type": "code",
      "source": [
        "(0, 1, 2) >= (0, 1, 2) # comparing with respective sequence elements"
      ],
      "metadata": {
        "colab": {
          "base_uri": "https://localhost:8080/"
        },
        "id": "9jdq5M-hSbNG",
        "outputId": "40c6f39a-2399-4b02-a42b-1b109ea0b1b9"
      },
      "execution_count": null,
      "outputs": [
        {
          "output_type": "execute_result",
          "data": {
            "text/plain": [
              "True"
            ]
          },
          "metadata": {},
          "execution_count": 27
        }
      ]
    },
    {
      "cell_type": "code",
      "execution_count": null,
      "metadata": {
        "id": "9BMY3cL6J6Tr",
        "colab": {
          "base_uri": "https://localhost:8080/"
        },
        "outputId": "e3fc9996-1dd7-475f-c42d-7085d8cab2d5"
      },
      "outputs": [
        {
          "output_type": "execute_result",
          "data": {
            "text/plain": [
              "True"
            ]
          },
          "metadata": {},
          "execution_count": 28
        }
      ],
      "source": [
        "(0, 1, 2) < (0, 3, 4) # comparing with respective sequence elements"
      ]
    },
    {
      "cell_type": "code",
      "execution_count": null,
      "metadata": {
        "id": "KWiLQEp3J6Tr",
        "colab": {
          "base_uri": "https://localhost:8080/"
        },
        "outputId": "d56d82f6-4e0d-4e82-a02c-d8a68fd736f1"
      },
      "outputs": [
        {
          "output_type": "execute_result",
          "data": {
            "text/plain": [
              "True"
            ]
          },
          "metadata": {},
          "execution_count": 29
        }
      ],
      "source": [
        "(0, 1, 2000000) < (0, 3, 4)"
      ]
    },
    {
      "cell_type": "code",
      "execution_count": null,
      "metadata": {
        "id": "-5LUOyYMJ6Tr",
        "colab": {
          "base_uri": "https://localhost:8080/"
        },
        "outputId": "e14c9cab-0225-484e-c3ac-80f462542c45"
      },
      "outputs": [
        {
          "output_type": "stream",
          "name": "stdout",
          "text": [
            "['yonder', 'window', 'breaks', 'light', 'what', 'soft', 'but', 'in']\n"
          ]
        }
      ],
      "source": [
        "# you have a list of words and you want to sort them from longest to shortest:\n",
        "txt = 'but soft what light in yonder window breaks'\n",
        "words = txt.split()\n",
        "t = list()\n",
        "for word in words:\n",
        "    t.append((len(word), word))\n",
        "\n",
        "t.sort(reverse=True)\n",
        "\n",
        "res = list()\n",
        "for length, word in t:\n",
        "    res.append(word)\n",
        "\n",
        "print(res)"
      ]
    },
    {
      "cell_type": "markdown",
      "metadata": {
        "id": "7knbylylJ6Ts"
      },
      "source": [
        "## 11(10).3 Tuple assignment"
      ]
    },
    {
      "cell_type": "code",
      "execution_count": null,
      "metadata": {
        "id": "2_UiYfAcJ6Ts"
      },
      "outputs": [],
      "source": [
        "# 1st Way\n",
        "\n",
        "# unique syntactic features of the Python language is the ability to have a tuple on the left side of an assignment statement.\n",
        "m = [ 'have', 'fun' ] # create an iterable list of strings \n",
        "x, y = m              # assiging iterable elements to individual variables"
      ]
    },
    {
      "cell_type": "code",
      "execution_count": null,
      "metadata": {
        "id": "Hfp5SdHMJ6Ts",
        "colab": {
          "base_uri": "https://localhost:8080/",
          "height": 36
        },
        "outputId": "10a10294-70d4-40f9-e569-4e2aaf32d58e"
      },
      "outputs": [
        {
          "output_type": "execute_result",
          "data": {
            "text/plain": [
              "'have'"
            ],
            "application/vnd.google.colaboratory.intrinsic+json": {
              "type": "string"
            }
          },
          "metadata": {},
          "execution_count": 32
        }
      ],
      "source": [
        "x"
      ]
    },
    {
      "cell_type": "code",
      "execution_count": null,
      "metadata": {
        "id": "henhLmppJ6Tt",
        "colab": {
          "base_uri": "https://localhost:8080/",
          "height": 36
        },
        "outputId": "d78e0654-3685-40a4-a055-b37ca291aade"
      },
      "outputs": [
        {
          "output_type": "execute_result",
          "data": {
            "text/plain": [
              "'fun'"
            ],
            "application/vnd.google.colaboratory.intrinsic+json": {
              "type": "string"
            }
          },
          "metadata": {},
          "execution_count": 33
        }
      ],
      "source": [
        "y"
      ]
    },
    {
      "cell_type": "code",
      "execution_count": null,
      "metadata": {
        "id": "1Z8HCjlDJ6Tt"
      },
      "outputs": [],
      "source": [
        "# 2nd Way\n",
        "\n",
        "m = [ 'have', 'fun' ]\n",
        "x = m[0]\n",
        "y = m[1]"
      ]
    },
    {
      "cell_type": "code",
      "execution_count": null,
      "metadata": {
        "id": "0qklmeWYJ6Tt",
        "colab": {
          "base_uri": "https://localhost:8080/",
          "height": 36
        },
        "outputId": "40570b93-bdb8-4cf8-e33d-6048a8f4d155"
      },
      "outputs": [
        {
          "output_type": "execute_result",
          "data": {
            "text/plain": [
              "'have'"
            ],
            "application/vnd.google.colaboratory.intrinsic+json": {
              "type": "string"
            }
          },
          "metadata": {},
          "execution_count": 37
        }
      ],
      "source": [
        "x"
      ]
    },
    {
      "cell_type": "code",
      "execution_count": null,
      "metadata": {
        "id": "mgjex7blJ6Tt",
        "colab": {
          "base_uri": "https://localhost:8080/",
          "height": 36
        },
        "outputId": "87647e18-001b-4a84-bd39-80a27e2a409b"
      },
      "outputs": [
        {
          "output_type": "execute_result",
          "data": {
            "text/plain": [
              "'fun'"
            ],
            "application/vnd.google.colaboratory.intrinsic+json": {
              "type": "string"
            }
          },
          "metadata": {},
          "execution_count": 38
        }
      ],
      "source": [
        "y"
      ]
    },
    {
      "cell_type": "code",
      "execution_count": null,
      "metadata": {
        "id": "y_YR36psJ6Tu"
      },
      "outputs": [],
      "source": [
        "# 3rd Way\n",
        "\n",
        "m = [ 'have', 'fun' ]   # create an iterable list of strings\n",
        "(x, y) = m              # assiging iterable elements to tuple elements"
      ]
    },
    {
      "cell_type": "code",
      "execution_count": null,
      "metadata": {
        "id": "prqhof7KJ6Tu",
        "colab": {
          "base_uri": "https://localhost:8080/",
          "height": 36
        },
        "outputId": "16b959df-aa13-4463-be13-775fe968250f"
      },
      "outputs": [
        {
          "output_type": "execute_result",
          "data": {
            "text/plain": [
              "'have'"
            ],
            "application/vnd.google.colaboratory.intrinsic+json": {
              "type": "string"
            }
          },
          "metadata": {},
          "execution_count": 40
        }
      ],
      "source": [
        "x"
      ]
    },
    {
      "cell_type": "code",
      "execution_count": null,
      "metadata": {
        "id": "mYU3ZnEJJ6Tu",
        "colab": {
          "base_uri": "https://localhost:8080/",
          "height": 36
        },
        "outputId": "9115ac29-a7c0-4a47-bc04-b3611fb941d5"
      },
      "outputs": [
        {
          "output_type": "execute_result",
          "data": {
            "text/plain": [
              "'fun'"
            ],
            "application/vnd.google.colaboratory.intrinsic+json": {
              "type": "string"
            }
          },
          "metadata": {},
          "execution_count": 41
        }
      ],
      "source": [
        "y"
      ]
    },
    {
      "cell_type": "code",
      "execution_count": null,
      "metadata": {
        "id": "qinj0E3NJ6Tu",
        "colab": {
          "base_uri": "https://localhost:8080/"
        },
        "outputId": "9f37b269-b9e3-4676-b7ad-b0e0e8f80951"
      },
      "outputs": [
        {
          "output_type": "stream",
          "name": "stdout",
          "text": [
            "fun have\n"
          ]
        }
      ],
      "source": [
        "# application of tuple assignment allows us to swap the values of two variables in a single statement\n",
        "print(x, y)\n",
        "x, y = y, x"
      ]
    },
    {
      "cell_type": "code",
      "source": [
        "print(x, y)"
      ],
      "metadata": {
        "colab": {
          "base_uri": "https://localhost:8080/"
        },
        "id": "nSWPl3eQVbIg",
        "outputId": "0d3a61fa-f3ce-45ba-fb80-58300e2780f1"
      },
      "execution_count": null,
      "outputs": [
        {
          "output_type": "stream",
          "name": "stdout",
          "text": [
            "have fun\n"
          ]
        }
      ]
    },
    {
      "cell_type": "code",
      "execution_count": null,
      "metadata": {
        "id": "ODhFqFUdJ6Tv"
      },
      "outputs": [],
      "source": [
        "a, b = 1, 2, 3\n",
        "# *a, b = 1, 2, 3   # remember that wildcards can help in this situation\n",
        "# a, *b = 1, 2, 3   # remember that wildcards can help in this situation"
      ]
    },
    {
      "cell_type": "code",
      "source": [
        "print('`a` is ', a)\n",
        "print('`b` is ', b)\n",
        "\n",
        "print('type of `a` is ', type(a))\n",
        "print('type of `b` is ', type(b))"
      ],
      "metadata": {
        "colab": {
          "base_uri": "https://localhost:8080/"
        },
        "id": "M91eO9PkV6jp",
        "outputId": "65c21fc3-60d8-42cb-d4b0-385345edc09a"
      },
      "execution_count": null,
      "outputs": [
        {
          "output_type": "stream",
          "name": "stdout",
          "text": [
            "`a` is  [1, 2]\n",
            "`b` is  3\n",
            "type of `a` is  <class 'list'>\n",
            "type of `b` is  <class 'int'>\n"
          ]
        }
      ]
    },
    {
      "cell_type": "code",
      "execution_count": null,
      "metadata": {
        "id": "BzSagz3EJ6Tv"
      },
      "outputs": [],
      "source": [
        "addr = 'monty@python.org'\n",
        "uname, domain = addr.split('@')"
      ]
    },
    {
      "cell_type": "code",
      "execution_count": null,
      "metadata": {
        "id": "n8V98zcDJ6Tv",
        "colab": {
          "base_uri": "https://localhost:8080/"
        },
        "outputId": "5d48fb4f-be9b-4ca2-db32-b1753cb7f311"
      },
      "outputs": [
        {
          "output_type": "stream",
          "name": "stdout",
          "text": [
            "monty\n",
            "<class 'str'>\n"
          ]
        }
      ],
      "source": [
        "print(uname)\n",
        "print(type(uname))"
      ]
    },
    {
      "cell_type": "code",
      "execution_count": null,
      "metadata": {
        "id": "qYvM01m3J6Tv",
        "colab": {
          "base_uri": "https://localhost:8080/"
        },
        "outputId": "412df2c4-57f6-46bc-cfe6-30d14f872434"
      },
      "outputs": [
        {
          "output_type": "stream",
          "name": "stdout",
          "text": [
            "python.org\n",
            "<class 'str'>\n"
          ]
        }
      ],
      "source": [
        "print(domain)\n",
        "print(type(domain))"
      ]
    },
    {
      "cell_type": "markdown",
      "metadata": {
        "id": "dIulHEFhJ6Tv"
      },
      "source": [
        "## 11(10).4 Dictionaries and tuples"
      ]
    },
    {
      "cell_type": "code",
      "execution_count": null,
      "metadata": {
        "id": "QaJm67LTJ6Tw",
        "outputId": "7fa6dd62-df40-42e5-a60a-1921d877db35",
        "colab": {
          "base_uri": "https://localhost:8080/"
        }
      },
      "outputs": [
        {
          "output_type": "stream",
          "name": "stdout",
          "text": [
            "[('z', 12), ('c', 22), ('b', 1), ('a', 10)]\n",
            "<class 'list'>\n"
          ]
        }
      ],
      "source": [
        "# d = {'a':10, 'b':1, 'c':22}       # original Charles Severance code\n",
        "d = {'z':12, 'c':22, 'b':1, 'a':10} # original Charles Severance code\n",
        "t = list(d.items())                 # items() method returns a tuple \n",
        "print(t)\n",
        "print(type(t))\n",
        "# Here each tuple is a key-value pair:"
      ]
    },
    {
      "cell_type": "code",
      "execution_count": null,
      "metadata": {
        "id": "VhVWRl0cJ6Tw"
      },
      "outputs": [],
      "source": [
        "t"
      ]
    },
    {
      "cell_type": "code",
      "execution_count": null,
      "metadata": {
        "id": "ZhYt-PSIJ6Tw"
      },
      "outputs": [],
      "source": [
        "t.sort()"
      ]
    },
    {
      "cell_type": "code",
      "execution_count": null,
      "metadata": {
        "id": "TnBb8dFIJ6Tw",
        "outputId": "89add1e8-52ac-4b23-d040-e80f02038751",
        "colab": {
          "base_uri": "https://localhost:8080/"
        }
      },
      "outputs": [
        {
          "output_type": "execute_result",
          "data": {
            "text/plain": [
              "[('a', 10), ('b', 1), ('c', 22), ('z', 12)]"
            ]
          },
          "metadata": {},
          "execution_count": 60
        }
      ],
      "source": [
        "t"
      ]
    },
    {
      "cell_type": "markdown",
      "metadata": {
        "id": "zaz8LNv1J6Tw"
      },
      "source": [
        "## 11(10).5 Multiple assignment with dictionaries"
      ]
    },
    {
      "cell_type": "code",
      "execution_count": null,
      "metadata": {
        "id": "IVexHkxbJ6Tx"
      },
      "outputs": [],
      "source": [
        "for key, val in list(d.items()):\n",
        "    print(val, key)"
      ]
    },
    {
      "cell_type": "code",
      "execution_count": null,
      "metadata": {
        "id": "e05yGXlsJ6Tx"
      },
      "outputs": [],
      "source": [
        "# d = {'a':10, 'b':1, 'c':22}       # original Charles Severance code\n",
        "d = {'z':12, 'c':22, 'b':1, 'a':10} # original Charles Severance code\n",
        "l = list()\n",
        "for key, val in d.items() :\n",
        "    l.append( (val, key) )"
      ]
    },
    {
      "cell_type": "code",
      "execution_count": null,
      "metadata": {
        "id": "0NzSUCsdJ6Tx",
        "colab": {
          "base_uri": "https://localhost:8080/"
        },
        "outputId": "d56779dc-0288-4908-b20d-c688752ec56a"
      },
      "outputs": [
        {
          "output_type": "execute_result",
          "data": {
            "text/plain": [
              "[(12, 'z'), (22, 'c'), (1, 'b'), (10, 'a')]"
            ]
          },
          "metadata": {},
          "execution_count": 62
        }
      ],
      "source": [
        "l"
      ]
    },
    {
      "cell_type": "code",
      "execution_count": null,
      "metadata": {
        "id": "9oQ_6bDKJ6Tx",
        "colab": {
          "base_uri": "https://localhost:8080/"
        },
        "outputId": "bd5cc42c-db56-4ba0-b486-23118806b8eb"
      },
      "outputs": [
        {
          "output_type": "execute_result",
          "data": {
            "text/plain": [
              "[(22, 'c'), (12, 'z'), (10, 'a'), (1, 'b')]"
            ]
          },
          "metadata": {},
          "execution_count": 63
        }
      ],
      "source": [
        "l.sort(reverse=True)\n",
        "l"
      ]
    },
    {
      "cell_type": "markdown",
      "metadata": {
        "id": "FBwZ6JgsJ6Tx"
      },
      "source": [
        "## 11(10).6 The most common words"
      ]
    },
    {
      "cell_type": "markdown",
      "source": [
        "**Upload the Py4E exercise file \"romeo-full.txt\" to your Colab content area.**     \n",
        "\n",
        "**You can find the file here: [romeo-full.txt](https://bit.ly/romeo-full)**"
      ],
      "metadata": {
        "id": "X7eiJ38snxtG"
      }
    },
    {
      "cell_type": "code",
      "execution_count": null,
      "metadata": {
        "id": "onwclN96J6Tx",
        "colab": {
          "base_uri": "https://localhost:8080/"
        },
        "outputId": "3c164b41-8b7d-48c9-e889-a6a33db2bbc6"
      },
      "outputs": [
        {
          "output_type": "stream",
          "name": "stdout",
          "text": [
            "Word Frequency\n",
            "---- ---------\n",
            "61 i\n",
            "42 and\n",
            "40 romeo\n",
            "34 to\n",
            "34 the\n",
            "32 thou\n",
            "32 juliet\n",
            "30 that\n",
            "29 my\n",
            "24 thee\n",
            "24 love\n",
            "24 a\n",
            "22 it\n",
            "21 is\n",
            "20 thy\n",
            "20 of\n",
            "18 not\n",
            "18 me\n",
            "18 but\n",
            "16 would\n"
          ]
        }
      ],
      "source": [
        "import string\n",
        "fhand = open('romeo-full.txt')\n",
        "counts = dict()\n",
        "for line in fhand:\n",
        "    line = line.translate(str.maketrans('', '', string.punctuation))\n",
        "    line = line.lower()\n",
        "    words = line.split()\n",
        "    for word in words:\n",
        "        if word not in counts:\n",
        "            counts[word] = 1\n",
        "        else:\n",
        "            counts[word] += 1\n",
        "\n",
        "# Sort a dictionary by value\n",
        "lst = list()\n",
        "for key, val in list(counts.items()):\n",
        "    lst.append((val, key))\n",
        "\n",
        "lst.sort(reverse=True)\n",
        "\n",
        "print('Word', 'Frequency')\n",
        "print('----', '---------')\n",
        "for key, val in lst[:20]:\n",
        "    print(key, val)"
      ]
    },
    {
      "cell_type": "markdown",
      "source": [
        "\n",
        "\n",
        "---\n",
        "\n"
      ],
      "metadata": {
        "id": "kj8srYVjniU9"
      }
    },
    {
      "cell_type": "markdown",
      "metadata": {
        "id": "83QzM0f_ftUF"
      },
      "source": [
        "# **Advanced text parsing**"
      ]
    },
    {
      "cell_type": "markdown",
      "metadata": {
        "id": "IbmMNPxOfxji"
      },
      "source": [
        "In the above example using the file **romeo.txt**, we made the file as simple as possible by removing all punctuation by hand. The actual text has lots of punctuation, as shown below."
      ]
    },
    {
      "cell_type": "markdown",
      "metadata": {
        "id": "AGrPCtKKgH63"
      },
      "source": [
        "```\n",
        "But, soft! what light through yonder window breaks?\n",
        "\n",
        "It is the east, and Juliet is the sun.\n",
        "\n",
        "Arise, fair sun, and kill the envious moon,\n",
        "\n",
        "Who is already sick and pale with grief,\n",
        "```"
      ]
    },
    {
      "cell_type": "markdown",
      "metadata": {
        "id": "CphdajwtgXtH"
      },
      "source": [
        "Since the Python `.split()` function looks for spaces and treats words as tokens separated by spaces, we would treat the words “soft!” and “soft” as different words and create a separate dictionary entry for each word.\n",
        "\n",
        "Also since the file has capitalization, we would treat “who” and “Who” as different words with different counts.\n",
        "\n",
        "We can solve both these problems by using the string methods `.lower()`, `.punctuation()`, and `.translate()`. The `.translate()` is the most subtle of the methods. "
      ]
    },
    {
      "cell_type": "code",
      "metadata": {
        "id": "WfRetBNYgZTg"
      },
      "source": [
        "# line.translate(str.maketrans(from_str, to_str, delete_str))"
      ],
      "execution_count": null,
      "outputs": []
    },
    {
      "cell_type": "markdown",
      "metadata": {
        "id": "hj82lF52gu7j"
      },
      "source": [
        "Replace the characters in `from_str` with the character in the same position in `to_str` and delete all characters that are in `delete_str`. The `from_str` and `to_str` can be empty strings and the `delete_str` parameter can be omitted.\n",
        "\n",
        "We will not specify the `to_str` but we will use the `delete_str` parameter to delete all of the punctuation. We will even let Python tell us the list of characters that it considers “punctuation”:"
      ]
    },
    {
      "cell_type": "code",
      "metadata": {
        "id": "kzKVojVkgEqp",
        "colab": {
          "base_uri": "https://localhost:8080/",
          "height": 36
        },
        "outputId": "d9082357-0a20-48d6-a4d9-cba856da3942"
      },
      "source": [
        "import string\n",
        "string.punctuation"
      ],
      "execution_count": null,
      "outputs": [
        {
          "output_type": "execute_result",
          "data": {
            "text/plain": [
              "'!\"#$%&\\'()*+,-./:;<=>?@[\\\\]^_`{|}~'"
            ],
            "application/vnd.google.colaboratory.intrinsic+json": {
              "type": "string"
            }
          },
          "metadata": {},
          "execution_count": 67
        }
      ]
    },
    {
      "cell_type": "markdown",
      "metadata": {
        "id": "JNzDLQ0Yg-BH"
      },
      "source": [
        "The parameters used by translate were different in Python 2.0.\n",
        "\n",
        "We make the following modifications to our program:"
      ]
    },
    {
      "cell_type": "code",
      "metadata": {
        "id": "_9-0l3TIg_e0"
      },
      "source": [
        "import string\n",
        "\n",
        "fname = input('Enter the file name: ')\n",
        "try:\n",
        "    fhand = open(fname)\n",
        "except:\n",
        "    print('File cannot be opened:', fname)\n",
        "    exit()\n",
        "\n",
        "counts = dict()\n",
        "for line in fhand:\n",
        "    line = line.rstrip()\n",
        "    line = line.translate(line.maketrans('', '', string.punctuation))\n",
        "    line = line.lower()\n",
        "    words = line.split()\n",
        "    for word in words:\n",
        "        if word not in counts:\n",
        "            counts[word] = 1\n",
        "        else:\n",
        "            counts[word] += 1\n",
        "\n",
        "print(counts)\n",
        "\n",
        "# Code: http://www.py4e.com/code3/count2.py"
      ],
      "execution_count": null,
      "outputs": []
    },
    {
      "cell_type": "markdown",
      "metadata": {
        "id": "rSbT9MRpZFKH"
      },
      "source": [
        "Part of learning the “Art of Python” or “Thinking Pythonically” is realizing that Python often has built-in capabilities for many common data analysis problems. Over time, you will see enough example code and read enough of the documentation to know where to look to see if someone has already written something that makes your job much easier."
      ]
    },
    {
      "cell_type": "markdown",
      "source": [
        "\n",
        "\n",
        "---\n",
        "\n"
      ],
      "metadata": {
        "id": "art-YS4soGbv"
      }
    },
    {
      "cell_type": "markdown",
      "metadata": {
        "id": "Me7uOgaXhPvi"
      },
      "source": [
        "# **Debugging**"
      ]
    },
    {
      "cell_type": "markdown",
      "metadata": {
        "id": "Vh0x2zJDh--8"
      },
      "source": [
        "As you work with bigger datasets it can become unwieldy to debug by printing and checking data by hand. Here are some suggestions for debugging large datasets:\n",
        "\n",
        "**Scale down the input**\n",
        "If possible, reduce the size of the dataset. For example if the program reads a text file, start with just the first 10 lines, or with the smallest example you can find. You can either edit the files themselves, or (better) modify the program so it reads only the first n lines.\n",
        "\n",
        "If there is an error, you can reduce n to the smallest value that manifests the error, and then increase it gradually as you find and correct errors.\n",
        "\n",
        "**Check summaries and types**\n",
        "Instead of printing and checking the entire dataset, consider printing summaries of the data: for example, the number of items in a dictionary or the total of a list of numbers.\n",
        "\n",
        "A common cause of runtime errors is a value that is not the right type. For debugging this kind of error, it is often enough to print the type of a value.\n",
        "\n",
        "**Write self-checks**\n",
        "Sometimes you can write code to check for errors automatically. For example, if you are computing the average of a list of numbers, you could check that the result is not greater than the largest element in the list or less than the smallest. This is called a “sanity check” because it detects results that are “completely illogical”.\n",
        "\n",
        "Another kind of check compares the results of two different computations to see if they are consistent. This is called a “consistency check”.\n",
        "\n",
        "**Pretty print the output**\n",
        "Formatting debugging output can make it easier to spot an error.\n",
        "Again, time you spend building scaffolding can reduce the time you spend debugging."
      ]
    },
    {
      "cell_type": "markdown",
      "source": [
        "\n",
        "---\n"
      ],
      "metadata": {
        "id": "kIHnU7IUit9u"
      }
    }
  ]
}