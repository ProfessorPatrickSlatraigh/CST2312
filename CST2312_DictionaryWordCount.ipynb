{
  "nbformat": 4,
  "nbformat_minor": 0,
  "metadata": {
    "colab": {
      "name": "CST2312_DictionaryWordCount.ipynb",
      "provenance": [],
      "collapsed_sections": [],
      "authorship_tag": "ABX9TyMvshyGgukxUT4bGUwyfGg6",
      "include_colab_link": true
    },
    "kernelspec": {
      "name": "python3",
      "display_name": "Python 3"
    },
    "language_info": {
      "name": "python"
    }
  },
  "cells": [
    {
      "cell_type": "markdown",
      "metadata": {
        "id": "view-in-github",
        "colab_type": "text"
      },
      "source": [
        "<a href=\"https://colab.research.google.com/github/ProfessorPatrickSlatraigh/CST2312/blob/main/CST2312_DictionaryWordCount.ipynb\" target=\"_parent\"><img src=\"https://colab.research.google.com/assets/colab-badge.svg\" alt=\"Open In Colab\"/></a>"
      ]
    },
    {
      "cell_type": "markdown",
      "source": [
        "# CST2312 Dictionary Word Count\n",
        "**Exercise**\n",
        "\n",
        "*from Python for Everybody by Charles Severance*"
      ],
      "metadata": {
        "id": "ias-XXTQn3YQ"
      }
    },
    {
      "cell_type": "markdown",
      "source": [
        "## Text for Input"
      ],
      "metadata": {
        "id": "eJ84MwvYoEw9"
      }
    },
    {
      "cell_type": "markdown",
      "source": [
        "\n",
        "\n",
        "```\n",
        "Writing programs (or programming) is a very creative and rewarding activity.  You can write programs for many reasons ranging from making your living to solving a difficult data analysis problem to having fun to helping someone else solve a problem.  This book assumes that everyone needs to know how to program and that once you know how to program, you will figure out what you want to do with your newfound skills.\n",
        "```\n",
        "\n"
      ],
      "metadata": {
        "id": "K7yzkda0oIvf"
      }
    },
    {
      "cell_type": "markdown",
      "source": [
        "\n",
        "\n",
        "```\n",
        "We are surrounded in our daily lives with computers ranging from laptops to cell phones.  We can think of these computers as our “personal assistants” who can take care of many things on our behalf.  The hardware in our current-day computers is essentially built to continuously ask us the question, “What would you like me to do next?”\n",
        "```\n",
        "\n"
      ],
      "metadata": {
        "id": "EE4Ivc7BoSJ7"
      }
    },
    {
      "cell_type": "markdown",
      "source": [
        "\n",
        "\n",
        "```\n",
        "Our computers are fast and have vast amounts of memory and could be very helpful to us if we only knew the language to speak to explain to the computer what we would like it to do next.  If we knew this language we could tell the computer to do tasks on our behalf that were repetitive. Interestingly, the kinds of things computers can do best are often the kinds of things that we humans find boring and mind-numbing.\n",
        "```\n",
        "\n"
      ],
      "metadata": {
        "id": "OXDxo0FXoWBK"
      }
    },
    {
      "cell_type": "code",
      "execution_count": null,
      "metadata": {
        "id": "y6yu_jgnnqo8"
      },
      "outputs": [],
      "source": [
        "counts = dict()\n",
        "print('Enter a line of text:')\n",
        "line = input('')\n",
        "\n",
        "words = line.split()\n",
        "\n",
        "print('Words:', words)\n",
        "\n",
        "print('Counting...')\n",
        "for word in words:\n",
        "    counts[word] = counts.get(word,0) + 1\n",
        "print('Counts', counts)\n"
      ]
    },
    {
      "cell_type": "markdown",
      "source": [
        "\n",
        "\n",
        "---\n",
        "\n"
      ],
      "metadata": {
        "id": "OuSnOvKW-YEz"
      }
    },
    {
      "cell_type": "markdown",
      "source": [
        "## Tuples in Dictionaries"
      ],
      "metadata": {
        "id": "6mW1RsAUuRlE"
      }
    },
    {
      "cell_type": "code",
      "source": [
        "e = {(0):9, (1):8, (2):7}\n"
      ],
      "metadata": {
        "id": "mzYto5s_uR6k"
      },
      "execution_count": 2,
      "outputs": []
    },
    {
      "cell_type": "code",
      "source": [
        "e[(2)] = 6"
      ],
      "metadata": {
        "id": "g7JQOMO4uUJu"
      },
      "execution_count": 3,
      "outputs": []
    },
    {
      "cell_type": "code",
      "source": [
        "print(e)"
      ],
      "metadata": {
        "id": "PZQYlxy8uZzl"
      },
      "execution_count": null,
      "outputs": []
    }
  ]
}