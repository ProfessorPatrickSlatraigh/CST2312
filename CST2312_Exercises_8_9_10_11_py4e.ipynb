{
  "nbformat": 4,
  "nbformat_minor": 0,
  "metadata": {
    "colab": {
      "name": "CST2312_Exercises-8-9-10-11_py4e.ipynb",
      "provenance": [],
      "include_colab_link": true
    },
    "kernelspec": {
      "name": "python3",
      "display_name": "Python 3"
    },
    "language_info": {
      "name": "python"
    }
  },
  "cells": [
    {
      "cell_type": "markdown",
      "metadata": {
        "id": "view-in-github",
        "colab_type": "text"
      },
      "source": [
        "<a href=\"https://colab.research.google.com/github/ProfessorPatrickSlatraigh/CST2312/blob/main/CST2312_Exercises_8_9_10_11_py4e.ipynb\" target=\"_parent\"><img src=\"https://colab.research.google.com/assets/colab-badge.svg\" alt=\"Open In Colab\"/></a>"
      ]
    },
    {
      "cell_type": "markdown",
      "metadata": {
        "id": "PTnxGIV8p3Jr"
      },
      "source": [
        "# **CST2312 Exercises - 8. Files, 9. Lists, 10. Dictionaries, and 11. Tuples**"
      ]
    },
    {
      "cell_type": "markdown",
      "metadata": {
        "id": "1KxrAWQ2jZqO"
      },
      "source": [
        "# **8: Files - Exercises**"
      ]
    },
    {
      "cell_type": "markdown",
      "metadata": {
        "id": "0WgxmP9KjdHG"
      },
      "source": [
        "**Exercise 7.1 (in Lesson 8, Files)**"
      ]
    },
    {
      "cell_type": "markdown",
      "metadata": {
        "id": "17vox9iejnua"
      },
      "source": [
        "If you are programming in an IDE which interprets code locally on your machine then you can open files using code similar to the code used in examples and exercises in Python for Everybody.  Please understand that if you attempt to read a file without a specified directory path (folder hierarchy) in the file name then that file must be saved in the current working directory where you Python interpreter is running.  See our Supplemental Notebook on Accessing Files for more information.  "
      ]
    },
    {
      "cell_type": "code",
      "metadata": {
        "id": "4lWZoE-cjSrS"
      },
      "source": [
        "# This code should work if:\n",
        "#  1. Your IDE is running Python locally\n",
        "#  2. The file mbox-short.txt is in the CWD\n",
        "#  * CWD is the current working directory\n",
        "\n",
        "fh = open('mbox-short.txt')\n",
        "\n",
        "for lx in fh:          # process each row of the file\n",
        "    ly = lx.rstrip()   # create a string without the /n at the end\n",
        "    print(ly)          # print each line without the extra /n"
      ],
      "execution_count": null,
      "outputs": []
    },
    {
      "cell_type": "markdown",
      "metadata": {
        "id": "MR8eFECKlUZx"
      },
      "source": [
        "The code above^ does not work here in a Colab notebook because Colab is running in the Cloud and not on your local machine.  You see what Colab is doing through a browser on your machine but Colab is doing what it does on Google computers, not on yours. "
      ]
    },
    {
      "cell_type": "markdown",
      "metadata": {
        "id": "-DGVeDPzlnoD"
      },
      "source": [
        "To approximate the code in Exercise 7.1 in Colab, we will use Google Drive and mount it to Colab so that Colab can access  the My Drive folder and its contents.  That would work as follows:"
      ]
    },
    {
      "cell_type": "markdown",
      "metadata": {
        "id": "NgTsJ5J4l7LZ"
      },
      "source": [
        "First, we will want Google Drive mounted for access to the My Drive directory."
      ]
    },
    {
      "cell_type": "code",
      "metadata": {
        "id": "GV1Xd7SomAYq"
      },
      "source": [
        "from google.colab import drive\n",
        "drive.mount('/content/drive')"
      ],
      "execution_count": null,
      "outputs": []
    },
    {
      "cell_type": "markdown",
      "metadata": {
        "id": "CGYswBo3mCmF"
      },
      "source": [
        "Then we can open the mbox-short file in the My Drive folder which we mounted to the /content/drive folder in Colab as follows:"
      ]
    },
    {
      "cell_type": "code",
      "metadata": {
        "id": "m52L60KHmPal"
      },
      "source": [
        "# This code should work if:\n",
        "#  1. Your IDE is Colab and you have Google Drive\n",
        "#  2. The file mbox-short.txt is in the My Drive folder\n",
        "#  * My Drive is the root of your Google Drive\n",
        "\n",
        "fh = open('/content/drive/My Drive/mbox-short.txt')\n",
        "\n",
        "for lx in fh:          # process each row of the file\n",
        "    ly = lx.rstrip()   # create a string without the /n at the end\n",
        "    print(ly)          # print each line without the extra /n"
      ],
      "execution_count": null,
      "outputs": []
    },
    {
      "cell_type": "markdown",
      "metadata": {
        "id": "Eo_Ximagn59X"
      },
      "source": [
        "\n",
        "\n",
        "---\n",
        "\n"
      ]
    },
    {
      "cell_type": "markdown",
      "metadata": {
        "id": "MkfngML7n7CB"
      },
      "source": [
        "**Exercise 7.2 (in Lesson 8, Files)**"
      ]
    },
    {
      "cell_type": "markdown",
      "metadata": {
        "id": "trsv-7RcoCFT"
      },
      "source": [
        "Write a program that prompts for a file name, then opens that file and reads through the file, looking for lines of the form:\n",
        "X-DSPAM-Confidence:    0.8475\n",
        "Count these lines and extract the floating point values from each of the lines and compute the average of those values and produce an output as shown below. Do not use the sum() function or a variable named sum in your solution.\n",
        "You can download the sample data at http://www.py4e.com/code3/mbox-short.txt when you are testing below enter mbox-short.txt as the file name."
      ]
    },
    {
      "cell_type": "markdown",
      "metadata": {
        "id": "5ll7xH1ToLZR"
      },
      "source": [
        "The intended result from is the output: Average spam confidence: 0.7507185185185187"
      ]
    },
    {
      "cell_type": "markdown",
      "metadata": {
        "id": "8ftQGJJboYF9"
      },
      "source": [
        "*Initial Code from Py4E Exercise 7.2*"
      ]
    },
    {
      "cell_type": "code",
      "metadata": {
        "id": "j-me5QGzoi2h"
      },
      "source": [
        "# Use the file name mbox-short.txt as the file name\n",
        "fname = input(\"Enter file name: \")\n",
        "count = 0\n",
        "tot_fpv = 0\n",
        "try:\n",
        "    fh = open(fname)\n",
        "except:\n",
        "    print(\"Unable to open file: \", fname)\n",
        "    \n",
        "for line in fh:\n",
        "    if line.startswith(\"X-DSPAM-Confidence:\"):\n",
        "        count += 1\n",
        "    # print(line)\n",
        "print(\"Count: \", count)\n"
      ],
      "execution_count": null,
      "outputs": []
    },
    {
      "cell_type": "markdown",
      "metadata": {
        "id": "sshA2QIDorv5"
      },
      "source": [
        "The initial code uses try/except to gracefully respond to errors in the file name or the availability of the file.  We can adapt the initial code to work in a Colab environment where the file mbox-short.txt is stored in the root directory of our Google Drive (My Drive folder). "
      ]
    },
    {
      "cell_type": "markdown",
      "metadata": {
        "id": "G-2Id2mipLGs"
      },
      "source": [
        "If we do not have it mounted from earlier, we will want Google Drive mounted for access to the My Drive directory."
      ]
    },
    {
      "cell_type": "code",
      "metadata": {
        "id": "m41fI7OxpSgz"
      },
      "source": [
        "from google.colab import drive\n",
        "drive.mount('/content/drive')"
      ],
      "execution_count": null,
      "outputs": []
    },
    {
      "cell_type": "markdown",
      "metadata": {
        "id": "5iRLdtDrpXXW"
      },
      "source": [
        "Then we can adapt the code to work with the /content/drive and it's sub-folder My Drive."
      ]
    },
    {
      "cell_type": "code",
      "metadata": {
        "id": "g43ycJEHpssz"
      },
      "source": [
        "## SETUP - OPEN THE FILE USING MBOX-SHORT.TXT IN GOOGLE DRIVE\n",
        "file_name = \"mbox-short.txt\"\n",
        "# 'borrowing' the following code, though it is overkill\n",
        "if len(file_name) < 1:\n",
        "    name = \"/content/drive/My Drive/mbox-short.txt\"\n",
        "else:\n",
        "    name = \"/content/drive/My Drive/\" + file_name\n",
        "try:\n",
        "    exercise_handle = open(name)\n",
        "except:\n",
        "    print(\"Could not open \"+name)"
      ],
      "execution_count": 13,
      "outputs": []
    },
    {
      "cell_type": "markdown",
      "metadata": {
        "id": "cB_aj6m7p8Oj"
      },
      "source": [
        "Now we can extract the lines of the original code which were not part of opening the file handle and adjust them."
      ]
    },
    {
      "cell_type": "markdown",
      "metadata": {
        "id": "oyyu8RF7qZoE"
      },
      "source": [
        "Some differences between opening a file locally and opening a file on Colab but once we have established an open file handle, the rest of our program can work in a similar fashion. "
      ]
    },
    {
      "cell_type": "code",
      "metadata": {
        "id": "LI0rUD9vqLjS"
      },
      "source": [
        "count = 0     # initialize a counter\n",
        "tot_fpv = 0   # initialize a counter\n",
        "for line in exercise_handle:       # we are using a different handle\n",
        "    if line.startswith(\"X-DSPAM-Confidence:\"):\n",
        "        count += 1\n",
        "    # print(line)\n",
        "print(\"Count: \", count)"
      ],
      "execution_count": null,
      "outputs": []
    },
    {
      "cell_type": "markdown",
      "metadata": {
        "id": "eg-ER7efqvMP"
      },
      "source": [
        "It works but all we have done so far is count the number of lines which begin with the string we are testing. Let's add more logic to achieve the intended result. "
      ]
    },
    {
      "cell_type": "code",
      "metadata": {
        "id": "ckZNhBqYrnTK"
      },
      "source": [
        "count = 0     # initialize a counter\n",
        "tot_fpv = 0   # initialize a counter\n",
        "for line in exercise_handle:       # we are using a different handle\n",
        "    if line.startswith(\"X-DSPAM-Confidence:\"):\n",
        "        count += 1\n",
        "        colpos = line.find(':')\n",
        "        number = line[colpos+1:].strip()    # Removes all text except number\n",
        "        SPAM_C = float(number)\n",
        "        tot_fpv = tot_fpv + SPAM_C\n",
        "\n",
        "average = tot_fpv / count\n",
        "print('Average spam confidence: ', average)\n"
      ],
      "execution_count": null,
      "outputs": []
    },
    {
      "cell_type": "markdown",
      "metadata": {
        "id": "8-a8QSaxtHIG"
      },
      "source": [
        "Here is a verbose version of the program in exercise 8.5 which uses scaffolding to be able to watch what is happening in the flow of execution.  The following program is written to open a file locally in the current working directory.  See if you can modify it to work in Colabl for you. "
      ]
    },
    {
      "cell_type": "code",
      "metadata": {
        "id": "6cgWqiPcteNZ"
      },
      "source": [
        "\n",
        "## Read a file and extract float of scores\n",
        "## from Python for Everybody, Lesson 8 - \n",
        "## CST2312 WK06CL07, Professor Patrick 27-Sep-2021\n",
        "## Using Charles Severance's example ex_08_05\n",
        "\n",
        "\n",
        "# Use the file name mbox-short.txt as the file name\n",
        "fname = input(\"Enter file name: \")\n",
        "if len(fname) < 1:\n",
        "    fname = \"mbox-short.txt\"\n",
        "\n",
        "# open the file\n",
        "try:\n",
        "    local_handle = open(fname)\n",
        "except:\n",
        "    print(\"Unable to open file: \", fname)\n",
        "\n",
        "# initialize a counter, buckets, and element list\n",
        "count = 0              # line counter\n",
        "total_confidence = 0.0 # aggregator for confidence\n",
        "avg_confidence = 0.0   # total_confidence / count\n",
        "parsed = list()        # split elements of line\n",
        "\n",
        "# Some scaffolding to check the variable/object setups\n",
        "print()\n",
        "print(\"I - Initialzed variables/objects now.\")\n",
        "print(\"File name (fname): \", fname)\n",
        "print(\"Counter (count): \", count)\n",
        "print(\"Aggregator (total_confidence): \", total_confidence)\n",
        "print(\"Avg. confidence (avg_confidence): \", avg_confidence)\n",
        "print(\"Parsed line elements (parsed): \", parsed)\n",
        "go = input(\"Hit enter to proceed.\")\n",
        "print()\n",
        "\n",
        "\n",
        "# some scaffolding to articulate flow of control\n",
        "print()\n",
        "print(\"II - Going into the line-by-line processing now.\")\n",
        "# use a for loop to read each line, strip \\n, print\n",
        "for line_read in local_handle:\n",
        "    line_stripped = line_read.rstrip()\n",
        "    # Following is a remant from a prior program -- kill it\n",
        "    # print(line_stripped.upper())\n",
        "    if not line_stripped.startswith(\"X-DSPAM-Confidence:\"):\n",
        "        continue\n",
        "    # scaffolding to peek at each line processed\n",
        "    print(\"Rstripped line processed (line_stripped): \", line_stripped)\n",
        "    count += 1\n",
        "    parsed = line_stripped.split()\n",
        "    total_confidence += float(parsed[1])\n",
        "    # scaffolding to peek at count and parsed list after ea. line\n",
        "    print(\"Counter (count): \", count)\n",
        "    print(\"Parsed line elements (parsed): \", parsed)\n",
        "    print(\"Aggregator (total_confidence): \", total_confidence)\n",
        "    go = input(\"Hit enter to proceed.\")\n",
        "    print()\n",
        "\n",
        "# housekeeping to calculate the average confidence\n",
        "# using total_confidence / count\n",
        "avg_confidence = total_confidence / count\n",
        "\n",
        "\n",
        "# All done -- peek at everything\n",
        "print()\n",
        "print(\"III - Out of the line-by-line processing now.\")\n",
        "print(\"File name (fname): \", fname)\n",
        "print(\"Counter (count): \", count)\n",
        "print(\"Aggregator (total_confidence): \", total_confidence)\n",
        "print(\"Avg. confidence (avg_confidence): \", avg_confidence)\n",
        "print(\"Parsed last-line elements (parsed): \", parsed)\n",
        "go = input(\"Hit enter to proceed.\")\n",
        "print()\n",
        "print(\"Done\")\n"
      ],
      "execution_count": null,
      "outputs": []
    },
    {
      "cell_type": "markdown",
      "metadata": {
        "id": "IA_mRByQte4G"
      },
      "source": [
        "\n",
        "\n",
        "---\n",
        "\n"
      ]
    },
    {
      "cell_type": "markdown",
      "metadata": {
        "id": "NYeEKoJBXGxN"
      },
      "source": [
        "# **9: Lists - Exercises**"
      ]
    },
    {
      "cell_type": "markdown",
      "metadata": {
        "id": "mxAoU6sPXLaq"
      },
      "source": [
        "**Exercise 8.4 (in Lesson 9, Lists)**"
      ]
    },
    {
      "cell_type": "markdown",
      "metadata": {
        "id": "Jpr9pSzwZGn6"
      },
      "source": [
        "Open the file romeo.txt and read it line by line. For each line, split the line into a list of words using the split() method. The program should build a list of words. For each word on each line check to see if the word is already in the list and if not append it to the list. When the program completes, sort and print the resulting words in alphabetical order.\n",
        "You can download the sample data at  http://www.py4e.com/code3/romeo.txt "
      ]
    },
    {
      "cell_type": "markdown",
      "metadata": {
        "id": "b1OaiNRmbgOG"
      },
      "source": [
        "The intended result from the program is the following output: ['Arise', 'But', 'It', 'Juliet', 'Who', 'already', 'and', 'breaks', 'east', 'envious', 'fair', 'grief', 'is', 'kill', 'light', 'moon', 'pale', 'sick', 'soft', 'sun', 'the', 'through', 'what', 'window', 'with', 'yonder']"
      ]
    },
    {
      "cell_type": "markdown",
      "metadata": {
        "id": "jQUZXA-JaCAa"
      },
      "source": [
        "First, we will want Google Drive mounted for access to the My Drive directory.\n",
        "\n"
      ]
    },
    {
      "cell_type": "code",
      "metadata": {
        "id": "k927xGPKaLLk"
      },
      "source": [
        "from google.colab import drive\n",
        "drive.mount('/content/drive')"
      ],
      "execution_count": null,
      "outputs": []
    },
    {
      "cell_type": "markdown",
      "metadata": {
        "id": "6uJIADJ5ZO74"
      },
      "source": [
        "Then, we will open \"romeo.txt\" in the My Drive folder of Google Drive.  No need to prompt the user about this."
      ]
    },
    {
      "cell_type": "code",
      "metadata": {
        "id": "AkWUnPNyZmLv"
      },
      "source": [
        "## SETUP - OPEN THE FILE USING ROMEO.TXT IN GOOGLE DRIVE\n",
        "file_name = \"romeo.txt\"\n",
        "# 'borrowing' the following code, though it is overkill\n",
        "if len(file_name) < 1:\n",
        "    name = \"/content/drive/My Drive/romeo.txt\"\n",
        "else:\n",
        "    name = \"/content/drive/My Drive/\" + file_name\n",
        "try:\n",
        "    exercise_handle = open(name)\n",
        "except:\n",
        "    print(\"Could not open \"+name)\n"
      ],
      "execution_count": null,
      "outputs": []
    },
    {
      "cell_type": "markdown",
      "metadata": {
        "id": "upxHLzDWaWOS"
      },
      "source": [
        "*Initial Code from Py4E Exercise 8.4*"
      ]
    },
    {
      "cell_type": "code",
      "metadata": {
        "id": "JSSMrtyPaZB1"
      },
      "source": [
        "# fname = input(\"Enter file name: \")   # no need for this - we hard-coded\n",
        "# fh = open(fname)  # no need for this because we opened exercise_handle\n",
        "lst = list()\n",
        "# for line in fh:    # replacing this with the following line\n",
        "for line in exercise_handle:    # using our exercise_handle instead of fh\n",
        "    print(line.rstrip())    # this line need to be indented into the for block"
      ],
      "execution_count": null,
      "outputs": []
    },
    {
      "cell_type": "markdown",
      "metadata": {
        "id": "fqt9J1khbLIi"
      },
      "source": [
        "We cleaned it up a bit to get it to work here in our notebook then indented the print() line to put it in the for block.  So far, we have a program which reads the file, strips off extra /n characters and prints each line of the file.  This has not broken the file down into a sorted list of words though."
      ]
    },
    {
      "cell_type": "code",
      "metadata": {
        "id": "PAphXJACcBnS"
      },
      "source": [
        "my_list = []                            # initialize an empty list\n",
        "for line in exercise_handle:\n",
        "    words = line.split()                # splits a line into a list of words\n",
        "    for word in words:\n",
        "        if word in my_list:\n",
        "            continue                    # we do not want duplicates\n",
        "        my_list.append(word)            # add a new word to the list\n",
        "print(sorted(my_list))                  # sort in (sort of) alphabetical order"
      ],
      "execution_count": null,
      "outputs": []
    },
    {
      "cell_type": "markdown",
      "metadata": {
        "id": "KIHKWz98cuMU"
      },
      "source": [
        "What if we do not want to count upper case words as different from lower case words?"
      ]
    },
    {
      "cell_type": "code",
      "metadata": {
        "id": "nob9J0FVc2an"
      },
      "source": [
        "my_list = []                            # initialize an empty list\n",
        "for line in exercise_handle:\n",
        "    words = line.split()                # splits a line into a list of words\n",
        "    for word in words:\n",
        "        word = word.lower()             # remove redundancy from capitalization\n",
        "        if word in my_list:\n",
        "            continue                    # we do not want duplicates\n",
        "        my_list.append(word)            # add a new word to the list\n",
        "print(sorted(my_list))                  # sort in (better) alphabetical order"
      ],
      "execution_count": null,
      "outputs": []
    },
    {
      "cell_type": "markdown",
      "metadata": {
        "id": "QXw53YVIepRj"
      },
      "source": [
        "**Exercise 8.5 (in Lesson 9, Lists)**"
      ]
    },
    {
      "cell_type": "markdown",
      "metadata": {
        "id": "K2T4EGPAes95"
      },
      "source": [
        "Open the file mbox-short.txt and read it line by line. When you find a line that starts with 'From ' like the following line:\n",
        "From stephen.marquard@uct.ac.za Sat Jan  5 09:14:16 2008\n",
        "You will parse the From line using split() and print out the second word in the line (i.e. the entire address of the person who sent the message). Then print out a count at the end.\n",
        "Hint: make sure not to include the lines that start with 'From:'. Also look at the last line of the sample output to see how to print the count.\n",
        "\n",
        "You can download the sample data at http://www.py4e.com/code3/mbox-short.txt"
      ]
    },
    {
      "cell_type": "markdown",
      "metadata": {
        "id": "J9kdihl2exoZ"
      },
      "source": [
        "The intended result from the program should be the output: stephen.marquard@uct.ac.za\n",
        "louis@media.berkeley.edu\n",
        "zqian@umich.edu\n",
        "rjlowe@iupui.edu\n",
        "zqian@umich.edu\n",
        "rjlowe@iupui.edu\n",
        "cwen@iupui.edu\n",
        "cwen@iupui.edu\n",
        "gsilver@umich.edu\n",
        "gsilver@umich.edu\n",
        "zqian@umich.edu\n",
        "gsilver@umich.edu\n",
        "wagnermr@iupui.edu\n",
        "zqian@umich.edu\n",
        "antranig@caret.cam.ac.uk\n",
        "gopal.ramasammycook@gmail.com\n",
        "david.horwitz@uct.ac.za\n",
        "david.horwitz@uct.ac.za\n",
        "david.horwitz@uct.ac.za\n",
        "david.horwitz@uct.ac.za\n",
        "stephen.marquard@uct.ac.za\n",
        "louis@media.berkeley.edu\n",
        "louis@media.berkeley.edu\n",
        "ray@media.berkeley.edu\n",
        "cwen@iupui.edu\n",
        "cwen@iupui.edu\n",
        "cwen@iupui.edu\n",
        "There were 27 lines in the file with From as the first word"
      ]
    },
    {
      "cell_type": "markdown",
      "metadata": {
        "id": "Da1mmr_NfSfY"
      },
      "source": [
        "If we do not have it mounted from earlier, we will want Google Drive mounted for access to the My Drive directory."
      ]
    },
    {
      "cell_type": "code",
      "metadata": {
        "id": "BRCJlGnGfeq2"
      },
      "source": [
        "from google.colab import drive\n",
        "drive.mount('/content/drive')"
      ],
      "execution_count": null,
      "outputs": []
    },
    {
      "cell_type": "markdown",
      "metadata": {
        "id": "snbltMHSfX9C"
      },
      "source": [
        "Then, we will open \"mbox-short.txt\" in the My Drive folder of Google Drive. No need to prompt the user about this."
      ]
    },
    {
      "cell_type": "code",
      "metadata": {
        "id": "cKpVuUpSfq7O"
      },
      "source": [
        "## SETUP - OPEN THE FILE USING MBOX-SHORT.TXT IN GOOGLE DRIVE\n",
        "file_name = \"mbox-short.txt\"\n",
        "# 'borrowing' the following code, though it is overkill\n",
        "if len(file_name) < 1:\n",
        "    name = \"/content/drive/My Drive/romeo.txt\"\n",
        "else:\n",
        "    name = \"/content/drive/My Drive/\" + file_name\n",
        "try:\n",
        "    exercise_handle = open(name)\n",
        "except:\n",
        "    print(\"Could not open \"+name)"
      ],
      "execution_count": 5,
      "outputs": []
    },
    {
      "cell_type": "markdown",
      "metadata": {
        "id": "NAynS6j3e-HA"
      },
      "source": [
        "*Initial code from Py4E Exercise 8.5*"
      ]
    },
    {
      "cell_type": "code",
      "metadata": {
        "id": "60BGv1pSfGuD"
      },
      "source": [
        "# fname = input(\"Enter file name: \")   # no need for this - we hard-coded\n",
        "# if len(fname) < 1:                   # no need for this - we hard-coded\n",
        "#     fname = \"mbox-short.txt\"         # no need for this - we hard-coded\n",
        "\n",
        "# fh = open(fname)      # no need for this because we opened exercise_handle\n",
        "count = 0\n",
        "\n",
        "\n",
        "print(\"There were\", count, \"lines in the file with From as the first word\")\n"
      ],
      "execution_count": null,
      "outputs": []
    },
    {
      "cell_type": "markdown",
      "metadata": {
        "id": "j5vB3m2ygiUC"
      },
      "source": [
        "Well, that^ did not do much.  It is pretty much a 'Hello World' program with an integer value in the print. "
      ]
    },
    {
      "cell_type": "code",
      "metadata": {
        "id": "-mRnKHAWg0TE"
      },
      "source": [
        "for line in exercise_handle:\n",
        "    words = line.split()\n",
        "    if len(words) < 3 or words[0] != 'From':\n",
        "        continue\n",
        "    print(words[1])\n",
        "    count += 1\n",
        "print('There were %d lines in the file with From as the first word' % count)"
      ],
      "execution_count": null,
      "outputs": []
    },
    {
      "cell_type": "markdown",
      "metadata": {
        "id": "asn7kWpthGjR"
      },
      "source": [
        "What further functionality could we add to this^ program?"
      ]
    },
    {
      "cell_type": "markdown",
      "metadata": {
        "id": "JLlDr-79dL0j"
      },
      "source": [
        "\n",
        "\n",
        "---\n",
        "\n"
      ]
    },
    {
      "cell_type": "markdown",
      "metadata": {
        "id": "YDEasnKj0tBD"
      },
      "source": [
        "\n",
        "\n",
        "---\n",
        "\n"
      ]
    },
    {
      "cell_type": "markdown",
      "metadata": {
        "id": "W83ANpsrQWCv"
      },
      "source": [
        "# **10: Dictionaries - Exercises**"
      ]
    },
    {
      "cell_type": "markdown",
      "metadata": {
        "id": "woHJqkdVHp4u"
      },
      "source": [
        "**Dictionary Exercise - Frequency of Words In a File (Lesson 10)**"
      ]
    },
    {
      "cell_type": "markdown",
      "metadata": {
        "id": "CenSBp1iQcOb"
      },
      "source": [
        "Here is a slightly revised version of the Python for Everybody exercise which uses a dictionary to count the frequency of words in a text file.  This version of the program will read file from Google My Drive and uses a string for the file path so that only the actual file name needs to be entered.  If the specified file is not in the My Drive directory then the file \"romeo.txt\" is used."
      ]
    },
    {
      "cell_type": "markdown",
      "metadata": {
        "id": "P7cy9ZMIH6C4"
      },
      "source": [
        "First: if it is not already mounted, mount \"My Drive\" Google drive so that the file romeo.txt may be referred to with the path and name \"/content/drive/My Drive/romeo.txt\""
      ]
    },
    {
      "cell_type": "code",
      "metadata": {
        "id": "Zuo_GZlrH2wE"
      },
      "source": [
        "from google.colab import drive\n",
        "drive.mount('/content/drive')"
      ],
      "execution_count": null,
      "outputs": []
    },
    {
      "cell_type": "markdown",
      "metadata": {
        "id": "XqgJf578IIHz"
      },
      "source": [
        "The following two options solve the problem through code to initialize missing keys or using the get method to do the same."
      ]
    },
    {
      "cell_type": "code",
      "metadata": {
        "id": "hhBu0XaaIZUq"
      },
      "source": [
        "## SETUP - OPEN THE FILE BASED ON USER SPECIFIED FILE NAME OR ROMEO.TXT\n",
        "file_name = input(\"Enter file:\")\n",
        "if len(file_name) < 1:\n",
        "    name = \"/content/drive/My Drive/romeo.txt\"\n",
        "else:\n",
        "    name = \"/content/drive/My Drive/\" + file_name\n",
        "try:\n",
        "    words_handle = open(name)\n",
        "except:\n",
        "    print(\"Could not open \"+name)\n"
      ],
      "execution_count": null,
      "outputs": []
    },
    {
      "cell_type": "code",
      "metadata": {
        "id": "yC2Fi0wvMH3k"
      },
      "source": [
        "## OPTION 1 WHICH INITIALIZES MISSING KEY|VALUE PAIRS THEN COUNTS\n",
        "\n",
        "words_di = dict()\n",
        "for line in words_handle :\n",
        "    line = line.rstrip()\n",
        "    # print(line)    # scaffolding to peek at line\n",
        "    words = line.split()\n",
        "    for word in words :\n",
        "        # print(words)   # scaffolding to peek at words\n",
        "        # idiom retrieve/create/update counter\n",
        "        if word in words_di :\n",
        "            words_di[word] = words_di[word] + 1\n",
        "            # print('**Existing**')  # scaffolding to see flow\n",
        "        else :\n",
        "            words_di[word] = 1\n",
        "            # print('**New**')  # scaffolding to see flow\n",
        "\n",
        "        # print(word, \"updated\", words_di[word]) # scaffolding\n",
        "\n",
        "# input(\"Type enter to continue\")    # Scaffolding to pause flow\n",
        "print(words_di)        # scaffolding to peek at word_di"
      ],
      "execution_count": null,
      "outputs": []
    },
    {
      "cell_type": "code",
      "metadata": {
        "id": "0mfc0gaPJ8nQ"
      },
      "source": [
        "## OPTION 2 WHICH USES THE GET METHOD\n",
        "words_di = dict()\n",
        "for line in words_handle :\n",
        "    line = line.rstrip()\n",
        "    # print(line)    # scaffolding to peek at line\n",
        "    words = line.split()\n",
        "    # print(words)   # scaffolding to peek at words\n",
        "    for word in words :\n",
        "        # idiom retrieve/create/update counter\n",
        "        words_di[word] = words_di.get(word, 0) + 1\n",
        "        # print(word, \"updated\", words_di[word]) # Scaffolding\n",
        "\n",
        "# input(\"Type enter to continue\")    # scaffolding to pause flow\n",
        "print(words_di)     # scaffolding to peek at word_di"
      ],
      "execution_count": null,
      "outputs": []
    },
    {
      "cell_type": "markdown",
      "metadata": {
        "id": "rfyynYEGMPjN"
      },
      "source": [
        "What if we wanted to know the top-five most frequently used words in the file read? "
      ]
    },
    {
      "cell_type": "code",
      "metadata": {
        "id": "fWBXJLkLPLS6"
      },
      "source": [
        "## Find the words (keys) of the most frequently used words in the words_di dictionary\n",
        "print(max(words_di, key=words_di.get))\n",
        "# Using the max function^ only gives us one result"
      ],
      "execution_count": null,
      "outputs": []
    },
    {
      "cell_type": "code",
      "metadata": {
        "id": "zpdYkm00Q5P2"
      },
      "source": [
        "## Find the words (keys) of the most frequently used words in the words_di dictionary\n",
        "# We can create a list of the words (keys) which is sorted in descending order of frequency\n",
        "most_to_least = sorted(words_di, key=words_di.get, reverse=True)\n",
        "print(most_to_least[:5])\n",
        "# Printing the first five elements of that list^ only gives us the keys"
      ],
      "execution_count": null,
      "outputs": []
    },
    {
      "cell_type": "code",
      "metadata": {
        "id": "RYx_vEh4RbtW"
      },
      "source": [
        "## Find the words (keys) of the most frequently used words in the words_di dictionary\n",
        "print(most_to_least)    # scaffolding to look at the most_to_least list (not a dictionary)"
      ],
      "execution_count": null,
      "outputs": []
    },
    {
      "cell_type": "code",
      "metadata": {
        "id": "XCZakUsKRt3S"
      },
      "source": [
        "## Find the words (keys) of the most frequently used words in the words_di dictionary\n",
        "# We can use the list of words (keys) by descending frequency to access dictionary pairs\n",
        "for frequent_word in most_to_least[:5] :\n",
        "    print(frequent_word, words_di[frequent_word])\n"
      ],
      "execution_count": null,
      "outputs": []
    },
    {
      "cell_type": "markdown",
      "metadata": {
        "id": "p5lxMSK2HoLt"
      },
      "source": [
        "\n",
        "\n",
        "---\n",
        "\n"
      ]
    },
    {
      "cell_type": "markdown",
      "metadata": {
        "id": "8ddFf1b6AzBM"
      },
      "source": [
        "*Tip: Here is a routine to find the maximum value in a dictionary and print the associated key and value.*"
      ]
    },
    {
      "cell_type": "code",
      "metadata": {
        "id": "SoHzL_dPA9K2"
      },
      "source": [
        "a_dictionary = {\"a\": 1, \"b\": 2, \"c\": 3}\n",
        "\n",
        "max_key = max(a_dictionary, key=a_dictionary.get) # get key with max value\n",
        "\n",
        "# print(max_key)    # scaffolding to peek at the integer value max_key\n",
        "print(max_key, a_dictionary[max_key])\n"
      ],
      "execution_count": null,
      "outputs": []
    },
    {
      "cell_type": "markdown",
      "metadata": {
        "id": "HKk5wor0RJB5"
      },
      "source": [
        "**Exercise 9.4 (in Lesson 10, Dictionaries)**"
      ]
    },
    {
      "cell_type": "markdown",
      "metadata": {
        "id": "UfSLno_YRO4o"
      },
      "source": [
        "Write a program to read through the mbox-short.txt and figure out who has sent the greatest number of mail messages. The program looks for 'From ' lines and takes the second word of those lines as the person who sent the mail. The program creates a Python dictionary that maps the sender's mail address to a count of the number of times they appear in the file. After the dictionary is produced, the program reads through the dictionary using a maximum loop to find the most prolific committer."
      ]
    },
    {
      "cell_type": "markdown",
      "metadata": {
        "id": "c2z8LiGLRT3C"
      },
      "source": [
        "Desired output: cwen@iupui.edu 5"
      ]
    },
    {
      "cell_type": "markdown",
      "metadata": {
        "id": "QwX3thYXSm-7"
      },
      "source": [
        "First: mount \"My Drive\" Google drive so that the file mbox-short.txt may be referred to with the path and name \"/content/drive/My Drive/mbox-short.txt\"\n"
      ]
    },
    {
      "cell_type": "code",
      "metadata": {
        "id": "5eU_s-_ARu_0"
      },
      "source": [
        "from google.colab import drive\n",
        "drive.mount('/content/drive')"
      ],
      "execution_count": null,
      "outputs": []
    },
    {
      "cell_type": "markdown",
      "metadata": {
        "id": "_Nl89wItRcRx"
      },
      "source": [
        "*Initial Code from Py4E Exercise 9.4*"
      ]
    },
    {
      "cell_type": "code",
      "metadata": {
        "id": "kMry-d_xRZE8"
      },
      "source": [
        "name = input(\"Enter file:\")\n",
        "if len(name) < 1:\n",
        "    name = \"/content/drive/My Drive/mbox-short.txt\"\n",
        "mail_handle = open(name)\n"
      ],
      "execution_count": null,
      "outputs": []
    },
    {
      "cell_type": "markdown",
      "metadata": {
        "id": "kh42n4gyS4vU"
      },
      "source": [
        "Now, complete the exercise with the required code.  The following two options solve the problem through code to initialize missing keys or using the get method to do the same."
      ]
    },
    {
      "cell_type": "code",
      "metadata": {
        "id": "BHKyJiAQS99K"
      },
      "source": [
        "## STARTUP - USE A FOR LOOP TO PROCESS LINES AS A STRING OF ELEMENTS\n",
        "from_counts = dict()\n",
        "for mail_line in mail_handle:\n",
        "    line_elements = mail_line.split()\n",
        "    # print(line_elements)   # scaffolding to peek at line_elements\n",
        "    # input(\"Type enter to continue\")  # scaffolding to pause flow\n",
        "\n",
        "\n",
        "## OPTION 1 WHICH INITIALIZES MISSING KEY|VALUE PAIRS THEN COUNTS\n",
        "    if len(line_elements) < 2 or line_elements[0] != 'From':\n",
        "        continue\n",
        "\n",
        "    if line_elements[1] not in from_counts:\n",
        "        from_counts[line_elements[1]] = 1      # First entry\n",
        "    else:\n",
        "        from_counts[line_elements[1]] += 1     # Additional counts\n",
        "\n",
        "    # print(from_counts)   # scaffolding to peek at from_counts\n",
        "    # input(\"Press enter to continue\")  # scaffolding to pause flow\n",
        "\n",
        "\n",
        "\n",
        "## WRAP-UP - FIND THE MAXIMUM VALUE AND PRINT ITS KEY|VALUE PAIRS\n",
        "max_key = max(from_counts, key=from_counts.get) # get key with max value\n",
        "print(max_key, from_counts[max_key])\n"
      ],
      "execution_count": null,
      "outputs": []
    },
    {
      "cell_type": "code",
      "metadata": {
        "id": "xVpTzCoMDvfN"
      },
      "source": [
        "from_counts = dict()\n",
        "## STARTUP - USE A FOR LOOP TO PROCESS LINES AS A STRING OF ELEMENTS\n",
        "for mail_line in mail_handle:\n",
        "    line_elements = mail_line.split()\n",
        "    # print(line_elements)   # scaffolding to peek at line_elements\n",
        "    # input(\"Type enter to continue\")  # scaffolding to pause flow\n",
        "\n",
        "## OPTION 2 WHICH USES THE GET METHOD\n",
        "    try: \n",
        "        if line_elements[0] == \"From\" :\n",
        "            sender = line_elements[1]\n",
        "            from_counts[sender] = from_counts.get(sender, 0) + 1\n",
        "    except:\n",
        "        continue\n",
        "\n",
        "    # print(from_counts)   # scaffolding to peek at from_counts\n",
        "    # input(\"Press enter to continue\")  # scaffolding to pause flow\n",
        "\n",
        "\n",
        "## WRAP-UP - FIND THE MAXIMUM VALUE AND PRINT ITS KEY|VALUE PAIRS\n",
        "max_key = max(from_counts, key=from_counts.get) # get key with max value\n",
        "print(max_key, from_counts[max_key])\n"
      ],
      "execution_count": null,
      "outputs": []
    },
    {
      "cell_type": "code",
      "metadata": {
        "id": "zTbKl7_9eQ68"
      },
      "source": [
        "print(from_counts)  # a little hip-pocket scaffolding to peek at the dictionary\n"
      ],
      "execution_count": null,
      "outputs": []
    },
    {
      "cell_type": "markdown",
      "metadata": {
        "id": "rQVck4POa3GB"
      },
      "source": [
        "\n",
        "\n",
        "---\n",
        "\n"
      ]
    },
    {
      "cell_type": "markdown",
      "metadata": {
        "id": "gmXQK4s-7GWT"
      },
      "source": [
        "# **11. Tuples - Exercises**"
      ]
    },
    {
      "cell_type": "markdown",
      "metadata": {
        "id": "yH0miMjrBU8u"
      },
      "source": [
        "**Exercise 10.5 (in Lesson 11. Tuples)**"
      ]
    },
    {
      "cell_type": "markdown",
      "metadata": {
        "id": "VyGwH6FIBe4j"
      },
      "source": [
        "The following simple exercise demonstrates the use of the dictionary method items to return a list of tuples which are each comprised of the key and value of each key|value pair. "
      ]
    },
    {
      "cell_type": "code",
      "metadata": {
        "id": "5rvjPVZrBt2z"
      },
      "source": [
        "d = {'a':10, 'b':1, 'c':22}\n",
        "\n",
        "for key, val in list(d.items()):\n",
        "    print(val, key)"
      ],
      "execution_count": null,
      "outputs": []
    },
    {
      "cell_type": "markdown",
      "metadata": {
        "id": "Vy4VdF5CB8cG"
      },
      "source": [
        "We can print out the contents of a dictionary sorted by the value stored in each key-value pair in descending order.\n",
        "\n",
        "To do this, we first make a list of tuples where each tuple is (value, key). The items method would give us a list of (key, value) tuples, but this time we want to sort by value, not key. Once we have constructed the list with the value-key tuples, it is a simple matter to sort the list in reverse order and print out the new, sorted list."
      ]
    },
    {
      "cell_type": "code",
      "metadata": {
        "id": "6SuPXLlxCEKS"
      },
      "source": [
        "my_dictionary = {'a':10, 'b':1, 'c':22}\n",
        "my_list = list()\n",
        "\n",
        "# the following for loop processes each key|value pair\n",
        "# they are added as the tuple (value, key) to my_list\n",
        "for the_key, the_val in my_dictionary.items() :\n",
        "    my_list.append( (the_val, the_key) )\n",
        "\n",
        "print(\"Printing the list of tuples before sorting\")\n",
        "print(my_list)\n",
        "print()\n",
        "my_list.sort(reverse=True)    # sort in descending order\n",
        "print(\"Printing the list of tuples after sorting\")\n",
        "print(my_list)\n",
        "print()"
      ],
      "execution_count": null,
      "outputs": []
    },
    {
      "cell_type": "markdown",
      "metadata": {
        "id": "ohF_RAZH_okg"
      },
      "source": [
        "**Exercise 10.6 (in Lesson 11, Tuples)**"
      ]
    },
    {
      "cell_type": "markdown",
      "metadata": {
        "id": "_WGAzuiy7Sms"
      },
      "source": [
        "First: if it is not already mounted, mount \"My Drive\" Google drive so that the file romeo-full.txt may be referred to with the path and name \"/content/drive/My Drive/romeo-full.txt\""
      ]
    },
    {
      "cell_type": "code",
      "metadata": {
        "id": "qWPBR6D7_HPV"
      },
      "source": [
        "from google.colab import drive\n",
        "drive.mount('/content/drive')"
      ],
      "execution_count": null,
      "outputs": []
    },
    {
      "cell_type": "markdown",
      "metadata": {
        "id": "q2ptivO7_Muh"
      },
      "source": [
        "Now we can open a handle to the file romeo-full.txt in /content/drive/My Drive."
      ]
    },
    {
      "cell_type": "code",
      "metadata": {
        "id": "wZpxkqRM_WLm",
        "outputId": "a29425de-debb-474e-eb88-610c35de9048",
        "colab": {
          "base_uri": "https://localhost:8080/"
        }
      },
      "source": [
        "## SETUP - OPEN THE FILE BASED ON USER SPECIFIED FILE NAME OR ROMEO-FULL.TXT\n",
        "file_name = input(\"Enter file:\")\n",
        "if len(file_name) < 1:\n",
        "    name = \"/content/drive/My Drive/romeo-full.txt\"\n",
        "else:\n",
        "    name = \"/content/drive/My Drive/\" + file_name\n",
        "try:\n",
        "    txt_handle = open(name)\n",
        "except:\n",
        "    print(\"Could not open \"+name)"
      ],
      "execution_count": 25,
      "outputs": [
        {
          "name": "stdout",
          "output_type": "stream",
          "text": [
            "Enter file:\n"
          ]
        }
      ]
    },
    {
      "cell_type": "markdown",
      "metadata": {
        "id": "h_7Q0EYz_k9i"
      },
      "source": [
        "We can use the following code to process the file and count words using tuples."
      ]
    },
    {
      "cell_type": "code",
      "metadata": {
        "id": "dwAg9DHy_6U-"
      },
      "source": [
        "# this code uses objects from the string module\n",
        "import string\n",
        "# fhand = open('romeo-full.txt')   # we already have txt_handle open\n",
        "counts = dict()\n",
        "for line in txt_handle:\n",
        "    line = line.translate(str.maketrans('', '', string.punctuation))\n",
        "    line = line.lower()\n",
        "    words = line.split()\n",
        "    for word in words:\n",
        "        if word not in counts:\n",
        "            counts[word] = 1\n",
        "        else:\n",
        "            counts[word] += 1\n",
        "\n",
        "# Use dictionary items to buld a list of tuples as in exercise 10.5 earlier\n",
        "lst = list()\n",
        "for key, val in list(counts.items()):\n",
        "    lst.append((val, key))\n",
        "\n",
        "# Sort the dictionary by decreasing value as in exercise 10.5 earlier\n",
        "lst.sort(reverse=True)\n",
        "\n",
        "# Use a for loop to print the first ten tuple values\n",
        "for key, val in lst[:10]:\n",
        "    print(key, val)"
      ],
      "execution_count": null,
      "outputs": []
    },
    {
      "cell_type": "markdown",
      "metadata": {
        "id": "AbjMYlFWayUa"
      },
      "source": [
        "# *scratchpad follows*"
      ]
    },
    {
      "cell_type": "markdown",
      "metadata": {
        "id": "jDNjUZP2a06O"
      },
      "source": [
        "\n",
        "\n",
        "---\n",
        "\n"
      ]
    },
    {
      "cell_type": "markdown",
      "metadata": {
        "id": "awdSPVruxjX-"
      },
      "source": [
        "# **10: Dictionaries - Review Material**"
      ]
    },
    {
      "cell_type": "markdown",
      "metadata": {
        "id": "ru_tZlDtqBFM"
      },
      "source": [
        "Lists index their entries based on the position in the list\n",
        "Dictionaries are like bags - no order\n",
        "So we index the things we put in the dictionary with a “lookup tag” called the \"key\".  Each key is unique.  Each key is associated with a value, which can be any data type, including lists, or other dictionaries.  Values in a dictionary need not be unique.\n"
      ]
    },
    {
      "cell_type": "code",
      "metadata": {
        "id": "q2ZdVpggpzH0"
      },
      "source": [
        "purse = dict()\n",
        "purse['money'] = 12\n",
        "purse['candy'] = 3\n",
        "purse['tissues'] = 75"
      ],
      "execution_count": null,
      "outputs": []
    },
    {
      "cell_type": "markdown",
      "metadata": {
        "id": "8dVvHfYPqwSm"
      },
      "source": [
        "After creating an empty dictionary we can add key|value pairs to that dictionary.  Then we can process the dictionary with Python statements and expressions."
      ]
    },
    {
      "cell_type": "code",
      "metadata": {
        "id": "TjcAj0tkq8_L"
      },
      "source": [
        "print(purse)\n",
        "print(purse['candy'])\n",
        "print(\"Here are the purse dictionary key|value pairs: \", purse)"
      ],
      "execution_count": null,
      "outputs": []
    },
    {
      "cell_type": "markdown",
      "metadata": {
        "id": "x5gKYn2SsREc"
      },
      "source": [
        "Dictionary literals use curly braces and have a list of key : value pairs\n",
        "You can make an empty dictionary using empty curly braces\n"
      ]
    },
    {
      "cell_type": "code",
      "metadata": {
        "id": "vli0QdJksT4q"
      },
      "source": [
        "# Dictionary jjj with strings as keys\n",
        "jjj = { 'chuck' : 1 , 'fred' : 42, 'jan': 100}\n",
        "print(jjj)\n",
        "# Empty dictionary ooo\n",
        "ooo = { }\n",
        "print(ooo)"
      ],
      "execution_count": null,
      "outputs": []
    },
    {
      "cell_type": "markdown",
      "metadata": {
        "id": "7z2jF2nzsyiH"
      },
      "source": [
        "One common use of dictionaries is counting how often we “see” something.  We use the category item as a key and keep an integer counter as the value."
      ]
    },
    {
      "cell_type": "code",
      "metadata": {
        "id": "6duVrQa6s0MP"
      },
      "source": [
        "ccc = dict()\n",
        "ccc['csev'] = 1\n",
        "ccc['cwen'] = 1\n",
        "print(ccc)\n",
        "# Dictionary values can be used in expressions\n",
        "ccc['cwen'] = ccc['cwen'] + 1\n",
        "print(ccc)"
      ],
      "execution_count": null,
      "outputs": []
    },
    {
      "cell_type": "markdown",
      "metadata": {
        "id": "JO-RKyeatYta"
      },
      "source": [
        "The pattern of checking to see if a key is already in a dictionary and assuming a default value if the key is not there is so common that there is a method called get() that does this for us.  Let's setup a dictionary first, then check for a key with get.\n"
      ]
    },
    {
      "cell_type": "code",
      "metadata": {
        "colab": {
          "base_uri": "https://localhost:8080/"
        },
        "id": "1ylILH2NuZTV",
        "outputId": "57e2cd9e-a122-4f6b-db6c-3b537f054734"
      },
      "source": [
        "counts = dict()\n",
        "names = ['csev', 'cwen', 'csev', 'zqian', 'cwen']\n",
        "for name in names :\n",
        "    if name not in counts: \n",
        "        counts[name] = 1\n",
        "    else :\n",
        "        counts[name] = counts[name] + 1\n",
        "print(counts)\n"
      ],
      "execution_count": null,
      "outputs": [
        {
          "output_type": "stream",
          "name": "stdout",
          "text": [
            "{'csev': 2, 'cwen': 2, 'zqian': 1}\n"
          ]
        }
      ]
    },
    {
      "cell_type": "markdown",
      "metadata": {
        "id": "0gaDhqemudmF"
      },
      "source": [
        "Using the counts dictionary, let's create a function which uses the get statement then we can call the function and print the result in the variable x."
      ]
    },
    {
      "cell_type": "code",
      "metadata": {
        "id": "bj_AUUuitaWW"
      },
      "source": [
        "# Create a function using dictionary get to check for a key\n",
        "if name in counts:\n",
        "    x = counts[name]\n",
        "else :\n",
        "    x = 0\n",
        "# Call the function with a key as an argument\n",
        "x = counts.get(name, 0)\n",
        "# Print the resulting value returned and stored in x\n",
        "print(x)\n",
        "print(counts)"
      ],
      "execution_count": null,
      "outputs": []
    },
    {
      "cell_type": "markdown",
      "metadata": {
        "id": "HESCxVhLvQU3"
      },
      "source": [
        "Simplified Counting: We can use get() and provide a default value of zero when the key is not yet in the dictionary - and then just add one to keep a count of instances of each key in a list.  Did we just create a word-count function?"
      ]
    },
    {
      "cell_type": "code",
      "metadata": {
        "id": "BSVjSCCCvWmi"
      },
      "source": [
        "counts = dict()\n",
        "names = ['csev', 'cwen', 'csev', 'zqian', 'cwen']\n",
        "for name in names :\n",
        "    counts[name] = counts.get(name, 0) + 1\n",
        "print(counts)"
      ],
      "execution_count": null,
      "outputs": []
    },
    {
      "cell_type": "markdown",
      "metadata": {
        "id": "udMpbGOKv2rw"
      },
      "source": [
        "Let's create a means of counting words entered by the user.  The general pattern to count the words in a line of text is to split the line into words, then loop through the words and use a dictionary to track the count of each word independently.  (Please note that the following example is case-sensitive.)\n"
      ]
    },
    {
      "cell_type": "code",
      "metadata": {
        "id": "0c7g8ywxwSzr"
      },
      "source": [
        "counts = dict()\n",
        "print('Enter a line of text:')\n",
        "line = input('')\n",
        "\n",
        "words = line.split()\n",
        "\n",
        "print('Words:', words)\n",
        "\n",
        "print('Counting...')\n",
        "for word in words:\n",
        "    counts[word] = counts.get(word,0) + 1\n",
        "print('Counts', counts)\n"
      ],
      "execution_count": null,
      "outputs": []
    },
    {
      "cell_type": "markdown",
      "metadata": {
        "id": "RxV4BoTOwvij"
      },
      "source": [
        "Definite Loops and Dictionaries: Even though dictionaries are not stored in order, we can write a for loop that goes through all the entries in a dictionary - actually it goes through all of the keys in the dictionary and looks up the values."
      ]
    },
    {
      "cell_type": "code",
      "metadata": {
        "colab": {
          "base_uri": "https://localhost:8080/"
        },
        "id": "Ev8EqY5Hw3Iy",
        "outputId": "a77f0e21-a1b2-4ac9-f3b3-062651277267"
      },
      "source": [
        "counts = { 'chuck' : 1 , 'fred' : 42, 'jan': 100}\n",
        "for key in counts:\n",
        "    print(key, counts[key])"
      ],
      "execution_count": null,
      "outputs": [
        {
          "output_type": "stream",
          "name": "stdout",
          "text": [
            "chuck 1\n",
            "fred 42\n",
            "jan 100\n"
          ]
        }
      ]
    },
    {
      "cell_type": "markdown",
      "metadata": {
        "id": "hvnTV61WxGSb"
      },
      "source": [
        "You can get a list of keys, values, or items (both) from a dictionary.  When we have multiple values together as an object, we refer to that object as a tuple."
      ]
    },
    {
      "cell_type": "code",
      "metadata": {
        "colab": {
          "base_uri": "https://localhost:8080/"
        },
        "id": "E2G3miIVxH9L",
        "outputId": "ea043659-f269-42a5-af68-ae1289e251fb"
      },
      "source": [
        "jjj = { 'chuck' : 1 , 'fred' : 42, 'jan': 100}\n",
        "print(list(jjj))\n",
        "\n",
        "print(list(jjj.keys()))\n",
        "\n",
        "print(list(jjj.values()))\n",
        "\n",
        "print(list(jjj.items()))\n"
      ],
      "execution_count": null,
      "outputs": [
        {
          "output_type": "stream",
          "name": "stdout",
          "text": [
            "['chuck', 'fred', 'jan']\n",
            "['chuck', 'fred', 'jan']\n",
            "[1, 42, 100]\n",
            "[('chuck', 1), ('fred', 42), ('jan', 100)]\n"
          ]
        }
      ]
    },
    {
      "cell_type": "markdown",
      "metadata": {
        "id": "rz8i7wox0qqE"
      },
      "source": [
        "\n",
        "\n",
        "---\n",
        "\n"
      ]
    },
    {
      "cell_type": "markdown",
      "metadata": {
        "id": "ya0hHNH00vJs"
      },
      "source": [
        "# **11: Tuples - Review Material**"
      ]
    },
    {
      "cell_type": "markdown",
      "metadata": {
        "id": "suPAtThG04Al"
      },
      "source": [
        "Tuples are like lists. Tuples are another kind of sequence that functions much like a list - they have elements which are indexed starting at 0.\n"
      ]
    },
    {
      "cell_type": "code",
      "metadata": {
        "id": "jEGLQS7n1lRv"
      },
      "source": [
        "# Create a list and print an element of the list\n",
        "x = ('Glenn', 'Sally', 'Joseph')\n",
        "print(x[2])\n",
        "\n",
        "# Create a tuple\n",
        "y = ( 1, 9, 2 )\n",
        "#Print the tuple\n",
        "print(y)\n",
        "# Print the max of the tuple\n",
        "print(max(y))\n"
      ],
      "execution_count": null,
      "outputs": []
    },
    {
      "cell_type": "markdown",
      "metadata": {
        "id": "LwszTDkb2OaD"
      },
      "source": [
        "Tuples and Assignment: We can also put a tuple on the left-hand side of an assignment statement.  We can even omit the parentheses."
      ]
    },
    {
      "cell_type": "code",
      "metadata": {
        "id": "x-dCsae32Qor"
      },
      "source": [
        "(x, y) = (4, 'fred')\n",
        "print(y)\n",
        "\n",
        "(a, b) = (99, 98)\n",
        "print(a)\n"
      ],
      "execution_count": null,
      "outputs": []
    },
    {
      "cell_type": "markdown",
      "metadata": {
        "id": "li2O4MV72rR7"
      },
      "source": [
        "Tuples and Dictionaries: The items() method in dictionaries returns a list of (key, value) tuples."
      ]
    },
    {
      "cell_type": "code",
      "metadata": {
        "id": "P_hHdzz-2sv5"
      },
      "source": [
        "d = dict()\n",
        "d['csev'] = 2\n",
        "d['cwen'] = 4\n",
        "for (k,v) in d.items(): \n",
        "    print(k, v)\n",
        "\n",
        "tups = d.items()\n",
        "print(tups)"
      ],
      "execution_count": null,
      "outputs": []
    },
    {
      "cell_type": "markdown",
      "metadata": {
        "id": "_mkK6tZLLxFy"
      },
      "source": [
        "Tuples are Comparable: The comparison operators work with tuples and other sequences. If the first item is equal, Python goes on to the next element,  and so on, until it finds elements that differ.\n",
        "\n"
      ]
    },
    {
      "cell_type": "code",
      "metadata": {
        "id": "tKO_yDbOLyNa"
      },
      "source": [
        "print(\"Result #1: \", (0, 1, 2) < (5, 1, 2))\n",
        "print(\"Result #2: \", (0, 1, 2000000) < (0, 3, 4))\n",
        "print(\"Result #3: \", ( 'Jones', 'Sally' ) < ('Jones', 'Sam'))\n",
        "print(\"Result #4: \", ( 'Jones', 'Sally') > ('Adams', 'Sam'))"
      ],
      "execution_count": null,
      "outputs": []
    },
    {
      "cell_type": "markdown",
      "metadata": {
        "id": "rtNt7PwqL7Yd"
      },
      "source": [
        "Sorting Lists of Tuples: \n",
        "We can take advantage of the ability to sort a list of tuples to get a sorted version of a dictionary.  \n",
        "First we sort the dictionary by the key using the items() method and sorted() function.  \n",
        "\n"
      ]
    },
    {
      "cell_type": "code",
      "metadata": {
        "colab": {
          "base_uri": "https://localhost:8080/"
        },
        "id": "9t6UOxitMPng",
        "outputId": "0dd2452a-4275-4266-a251-e5437305eddb"
      },
      "source": [
        "d = {'a':10, 'b':1, 'c':22}\n",
        "d.items()\n",
        "\n",
        "sorted(d.items())"
      ],
      "execution_count": null,
      "outputs": [
        {
          "output_type": "execute_result",
          "data": {
            "text/plain": [
              "[('a', 10), ('b', 1), ('c', 22)]"
            ]
          },
          "metadata": {},
          "execution_count": 26
        }
      ]
    },
    {
      "cell_type": "markdown",
      "metadata": {
        "id": "cflmRtqtM-6_"
      },
      "source": [
        "Using sorted(): \n",
        "We can do this even more directly using the built-in function sorted that takes a sequence as a parameter and returns a sorted sequence.\n",
        "\n"
      ]
    },
    {
      "cell_type": "code",
      "metadata": {
        "colab": {
          "base_uri": "https://localhost:8080/"
        },
        "id": "ZALdKhEuNAU4",
        "outputId": "d98c7d31-6f1c-4895-b4dd-edbb96fcfaba"
      },
      "source": [
        "d = {'a':10, 'b':1, 'c':22}\n",
        "t = sorted(d.items())\n",
        "print(t)\n",
        "for k, v in sorted(d.items()):\n",
        "    print(k, v)\n"
      ],
      "execution_count": null,
      "outputs": [
        {
          "output_type": "stream",
          "name": "stdout",
          "text": [
            "[('a', 10), ('b', 1), ('c', 22)]\n",
            "a 10\n",
            "b 1\n",
            "c 22\n"
          ]
        }
      ]
    },
    {
      "cell_type": "markdown",
      "metadata": {
        "id": "VvJIZ9rANFE_"
      },
      "source": [
        "Sort by Values Instead of Key: \n",
        "If we could construct a list of tuples of the form (value, key) we could sort by value.\n",
        "We do this with a for loop that creates a list of tuples.\n"
      ]
    },
    {
      "cell_type": "code",
      "metadata": {
        "colab": {
          "base_uri": "https://localhost:8080/"
        },
        "id": "ZZx4I_hnNYRv",
        "outputId": "5f3cb635-ecd7-46fd-844c-20b970dc20a4"
      },
      "source": [
        "c = {'a':10, 'b':1, 'c':22}\n",
        "tmp = list()\n",
        "for k, v in c.items() :\n",
        "    tmp.append( (v, k) )\n",
        "print(tmp)\n",
        "\n",
        "tmp = sorted(tmp, reverse=True)\n",
        "print(tmp)"
      ],
      "execution_count": null,
      "outputs": [
        {
          "output_type": "stream",
          "name": "stdout",
          "text": [
            "[(10, 'a'), (1, 'b'), (22, 'c')]\n",
            "[(22, 'c'), (10, 'a'), (1, 'b')]\n"
          ]
        }
      ]
    },
    {
      "cell_type": "markdown",
      "metadata": {
        "id": "E6Ut7UaNNmIG"
      },
      "source": [
        "Finding the top 10 most common words."
      ]
    },
    {
      "cell_type": "markdown",
      "metadata": {
        "id": "F489pubeOWB7"
      },
      "source": [
        "First, be sure to have access to the file romeo.txt."
      ]
    },
    {
      "cell_type": "code",
      "metadata": {
        "colab": {
          "base_uri": "https://localhost:8080/"
        },
        "id": "KEXi3F2F-Ows",
        "outputId": "f9f28e8a-ea7f-41c9-ae5a-29b83268ebb7"
      },
      "source": [
        "from google.colab import drive\n",
        "drive.mount('/content/gdrive')"
      ],
      "execution_count": null,
      "outputs": [
        {
          "output_type": "stream",
          "name": "stdout",
          "text": [
            "Mounted at /content/gdrive\n"
          ]
        }
      ]
    },
    {
      "cell_type": "markdown",
      "metadata": {
        "id": "L5j4lCRSOaO-"
      },
      "source": [
        "Then open romeo.txt with the handle fhand and follow the Python for Everybody example."
      ]
    },
    {
      "cell_type": "code",
      "metadata": {
        "id": "WhLRrz26OIab"
      },
      "source": [
        "fhand = open(\"/content/gdrive/My Drive/romeo.txt\")"
      ],
      "execution_count": null,
      "outputs": []
    },
    {
      "cell_type": "code",
      "metadata": {
        "id": "9HMAVJDHNnYa"
      },
      "source": [
        "# fhand = open('romeo.txt') -->> see the Google Drive open above\n",
        "counts = {}\n",
        "for line in fhand:\n",
        "    words = line.split()\n",
        "    for word in words:\n",
        "        counts[word] = counts.get(word, 0 ) + 1\n",
        "\n",
        "lst = []\n",
        "for key, val in counts.items():\n",
        "    newtup = (val, key) \n",
        "    lst.append(newtup)\n",
        "\n",
        "lst = sorted(lst, reverse=True)\n",
        "\n",
        "for val, key in lst[:10] :\n",
        "    print(key, val)"
      ],
      "execution_count": null,
      "outputs": []
    },
    {
      "cell_type": "markdown",
      "metadata": {
        "id": "AmSpCzwCPrjS"
      },
      "source": [
        "... an even shorter version ..."
      ]
    },
    {
      "cell_type": "code",
      "metadata": {
        "id": "yhloDh3FPvYg"
      },
      "source": [
        "c = {'a':10, 'b':1, 'c':22}\n",
        "print( sorted( [ (v,k) for k,v in c.items() ] ) )"
      ],
      "execution_count": null,
      "outputs": []
    },
    {
      "cell_type": "markdown",
      "metadata": {
        "id": "1quOGK1WP5nk"
      },
      "source": [
        "List comprehension creates a dynamic list.  In the exanple above, we make a list of reversed tuples and then sort it.\n",
        "http://wiki.python.org/moin/HowTo/Sorting\n"
      ]
    },
    {
      "cell_type": "markdown",
      "metadata": {
        "id": "eZ7ksr9iQMv3"
      },
      "source": [
        "\n",
        "\n",
        "---\n",
        "\n"
      ]
    },
    {
      "cell_type": "markdown",
      "metadata": {
        "id": "-xyPTyugQOL0"
      },
      "source": [
        "*Thanks for Charles Severance and his work Python for Everybody (py4e.com)*"
      ]
    }
  ]
}