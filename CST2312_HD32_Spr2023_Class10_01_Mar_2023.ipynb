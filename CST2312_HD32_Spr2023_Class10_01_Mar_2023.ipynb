{
  "nbformat": 4,
  "nbformat_minor": 0,
  "metadata": {
    "colab": {
      "provenance": [],
      "collapsed_sections": [
        "SgIgw0kSlNoq",
        "YFnr4Z_Rl772",
        "SANnfHS3RvH8",
        "1KxrAWQ2jZqO",
        "NYeEKoJBXGxN",
        "mxAoU6sPXLaq",
        "W83ANpsrQWCv",
        "woHJqkdVHp4u",
        "HKk5wor0RJB5",
        "gmXQK4s-7GWT",
        "yH0miMjrBU8u",
        "OJW0nbSgMlS9",
        "awdSPVruxjX-",
        "ya0hHNH00vJs",
        "s6iMChRAJ6Tj",
        "MhadYzFKJ6Tq",
        "7knbylylJ6Ts",
        "dIulHEFhJ6Tv",
        "zaz8LNv1J6Tw"
      ],
      "include_colab_link": true
    },
    "kernelspec": {
      "name": "python3",
      "display_name": "Python 3"
    },
    "language_info": {
      "name": "python"
    }
  },
  "cells": [
    {
      "cell_type": "markdown",
      "metadata": {
        "id": "view-in-github",
        "colab_type": "text"
      },
      "source": [
        "<a href=\"https://colab.research.google.com/github/ProfessorPatrickSlatraigh/CST2312/blob/main/CST2312_HD32_Spr2023_Class10_01_Mar_2023.ipynb\" target=\"_parent\"><img src=\"https://colab.research.google.com/assets/colab-badge.svg\" alt=\"Open In Colab\"/></a>"
      ]
    },
    {
      "cell_type": "markdown",
      "metadata": {
        "id": "PTnxGIV8p3Jr"
      },
      "source": [
        "# **CST2312 Class 10 - Putting It All Together**        \n",
        "**PY4E: 8. Files, 9. Lists, 10. Dictionaries, and 11. Tuples**  \n",
        "\n",
        "*By Professor Patrick: 12-Oct-2022 | 28-Feb-2022 | updated: 28-Feb-2023 by Professor Patrick*    "
      ]
    },
    {
      "cell_type": "markdown",
      "source": [
        "## **First: More About Dictionaries (Ch.10)**         \n"
      ],
      "metadata": {
        "id": "JN31g2YDW5ot"
      }
    },
    {
      "cell_type": "markdown",
      "source": [
        " \n",
        "**[Introducton to Dictionaries](https://medium.com/analytics-vidhya/an-introduction-to-python-dictionary-520302924ef8) (from Indhumathy Chelliah on Medium.com)**   \n",
        "     \n",
        "  "
      ],
      "metadata": {
        "id": "Tba3cwe-lYOJ"
      }
    },
    {
      "cell_type": "markdown",
      "source": [
        "### Different ways of creating a dictionary using dict() constructor    \n",
        "\n",
        "\n",
        "```\n",
        "dict(**kwarg)\n",
        "dict(mapping, **kwarg)\n",
        "dict(iterable, **kwarg)\n",
        "dict(zip(iterables), **kwarg)    \n",
        "```    \n",
        "\n",
        "**kwarg-arbitary number of keyword arguments\n",
        "\n"
      ],
      "metadata": {
        "id": "SgIgw0kSlNoq"
      }
    },
    {
      "cell_type": "markdown",
      "source": [
        "#### Creating a dictionary from keyword arguments:    \n",
        "\n",
        "\n",
        "```\n",
        "dict(**kwarg)\n",
        "```\n",
        "\n",
        "\n"
      ],
      "metadata": {
        "id": "Y9J2U5A3lfeC"
      }
    },
    {
      "cell_type": "code",
      "source": [
        "d=dict(red=1,blue=2,green=3)\n",
        "print (d) \n",
        "#Output:{'red': 1, 'blue': 2, 'green': 3}"
      ],
      "metadata": {
        "id": "neErwKIFlIkD"
      },
      "execution_count": null,
      "outputs": []
    },
    {
      "cell_type": "markdown",
      "source": [
        "#### Creating a dictionary using mapping:\n",
        "\n",
        "~~~\n",
        "dict(mapping,**kwarg)\n",
        "~~~\n"
      ],
      "metadata": {
        "id": "oul3qmMOlxOv"
      }
    },
    {
      "cell_type": "code",
      "source": [
        "#creating dictionary by using dict()constructor - mapping\n",
        "d=dict({'red':1,'blue':2,'green':3})\n",
        "print (d) #Output:{'red': 1, 'blue': 2, 'green': 3}\n",
        "\n",
        "\n",
        "#creating dictionary by using dict()constructor - mapping. keyword arguments can also be passed.\n",
        "d=dict({'red':1,'blue':2},green=3)\n",
        "print (d) #Output:{'red': 1, 'blue': 2, 'green': 3}\n",
        "\n",
        "\n",
        "#without dict() constructor\n",
        "d={'red':1,'blue':2,'green':3}\n",
        "print (d)#Output:{'red': 1, 'blue': 2, 'green': 3}"
      ],
      "metadata": {
        "id": "JmBn-IBAl2gH"
      },
      "execution_count": null,
      "outputs": []
    },
    {
      "cell_type": "markdown",
      "source": [
        "#### Creating dictionary using an iterable.\n",
        "\n",
        "~~~\n",
        "dict(iterable,**kwarg)\n",
        "~~~\n",
        "\n"
      ],
      "metadata": {
        "id": "YFnr4Z_Rl772"
      }
    },
    {
      "cell_type": "code",
      "source": [
        "#creating dictionary by using iterables\n",
        "d=dict([('red',1),('blue',2),('green',3)])\n",
        "print (d)#Output:{'red': 1, 'blue': 2, 'green': 3}"
      ],
      "metadata": {
        "id": "nIuleNWPmCqB"
      },
      "execution_count": null,
      "outputs": []
    },
    {
      "cell_type": "code",
      "source": [
        "#creating dictionary using iterables and keyword arguments\n",
        "d=dict([('red',1),('blue',2)],green=3)\n",
        "print (d)#Output:{'red': 1, 'blue': 2, 'green': 3}"
      ],
      "metadata": {
        "id": "uN2JjAIrveig"
      },
      "execution_count": null,
      "outputs": []
    },
    {
      "cell_type": "code",
      "source": [
        "pair_zip = zip(['red','green','blue'],[1,2,3])"
      ],
      "metadata": {
        "id": "7G4Y5wsVQ6_W"
      },
      "execution_count": null,
      "outputs": []
    },
    {
      "cell_type": "code",
      "source": [
        "for pair in pair_zip: \n",
        "    print(pair)"
      ],
      "metadata": {
        "id": "7nUdc4GDRFb7"
      },
      "execution_count": null,
      "outputs": []
    },
    {
      "cell_type": "code",
      "source": [
        "#creating dictionary by using zip().zip() also creates iterables\n",
        "d=dict(zip(['red','green','blue'],[1,2,3]))\n",
        "print (d)#Output:{'red': 1, 'green': 2, 'blue': 3}"
      ],
      "metadata": {
        "id": "a70fmyMpvcMH"
      },
      "execution_count": null,
      "outputs": []
    },
    {
      "cell_type": "markdown",
      "source": [
        "\n",
        "---\n"
      ],
      "metadata": {
        "id": "HdVoCRZrvseY"
      }
    },
    {
      "cell_type": "markdown",
      "source": [
        "#### Zip two lists as `key : value` pairs for `dict()`    "
      ],
      "metadata": {
        "id": "SANnfHS3RvH8"
      }
    },
    {
      "cell_type": "code",
      "source": [
        "st_abbr_lst = [\"AL\",\n",
        "\"AK\",\n",
        "\"AZ\",\n",
        "\"AR\",\n",
        "\"CA\",\n",
        "\"CO\",\n",
        "\"CT\",\n",
        "\"DE\",\n",
        "\"FL\",\n",
        "\"GA\",\n",
        "\"HI\",\n",
        "\"ID\",\n",
        "\"IL\",\n",
        "\"IN\",\n",
        "\"IA\",\n",
        "\"KS\",\n",
        "\"KY\",\n",
        "\"LA\",\n",
        "\"ME\",\n",
        "\"MD\",\n",
        "\"MA\",\n",
        "\"MI\",\n",
        "\"MN\",\n",
        "\"MS\",\n",
        "\"MO\",\n",
        "\"MT\",\n",
        "\"NE\",\n",
        "\"NV\",\n",
        "\"NH\",\n",
        "\"NJ\",\n",
        "\"NM\",\n",
        "\"NY\",\n",
        "\"NC\",\n",
        "\"ND\",\n",
        "\"OH\",\n",
        "\"OK\",\n",
        "\"OR\",\n",
        "\"PA\",\n",
        "\"RI\",\n",
        "\"SC\",\n",
        "\"SD\",\n",
        "\"TN\",\n",
        "\"TX\",\n",
        "\"UT\",\n",
        "\"VT\",\n",
        "\"VA\",\n",
        "\"WA\",\n",
        "\"WV\",\n",
        "\"WI\",\n",
        "\"WY\"] "
      ],
      "metadata": {
        "id": "vyOQFFmwR6J6"
      },
      "execution_count": null,
      "outputs": []
    },
    {
      "cell_type": "code",
      "source": [
        "print(len(st_abbr_lst))"
      ],
      "metadata": {
        "id": "SD3oRxF785Gf"
      },
      "execution_count": null,
      "outputs": []
    },
    {
      "cell_type": "code",
      "source": [
        "st_name_lst = [\"Alabama\",\n",
        "\"Alaska\",\n",
        "\"Arizona\",\n",
        "\"Arkansas\",\n",
        "\"California\",\n",
        "\"Colorado\",\n",
        "\"Connecticut\",\n",
        "\"Delaware\",\n",
        "\"Florida\",\n",
        "\"Georgia\",\n",
        "\"Hawaii\",\n",
        "\"Idaho\",\n",
        "\"Illinois\",\n",
        "\"Indiana\",\n",
        "\"Iowa\",\n",
        "\"Kansas\",\n",
        "\"Kentucky\",\n",
        "\"Louisiana\",\n",
        "\"Maine\",\n",
        "\"Maryland\",\n",
        "\"Massachusetts\",\n",
        "\"Michigan\",\n",
        "\"Minnesota\",\n",
        "\"Mississippi\",\n",
        "\"Missouri\",\n",
        "\"Montana\",\n",
        "\"Nebraska\",\n",
        "\"Nevada\",\n",
        "\"New Hampshire\",\n",
        "\"New Jersey\",\n",
        "\"New Mexico\",\n",
        "\"New York\",\n",
        "\"North Carolina\",\n",
        "\"North Dakota\",\n",
        "\"Ohio\",\n",
        "\"Oklahoma\",\n",
        "\"Oregon\",\n",
        "\"Pennsylvania\",\n",
        "\"Rhode Island\",\n",
        "\"South Carolina\",\n",
        "\"South Dakota\",\n",
        "\"Tennessee\",\n",
        "\"Texas\",\n",
        "\"Utah\",\n",
        "\"Vermont\",\n",
        "\"Virginia\",\n",
        "\"Washington\",\n",
        "\"West Virginia\",\n",
        "\"Wisconsin\",\n",
        "\"Wyoming\"] "
      ],
      "metadata": {
        "id": "HqP7-EOySOaQ"
      },
      "execution_count": null,
      "outputs": []
    },
    {
      "cell_type": "code",
      "source": [
        "print(len(st_name_lst))"
      ],
      "metadata": {
        "id": "C70OO-cB_rVO"
      },
      "execution_count": null,
      "outputs": []
    },
    {
      "cell_type": "code",
      "source": [
        "# using `zip()` to pass tuple pairs to `dict()` and create a dictionary \n",
        "st_ab2name_dict = dict(zip(st_abbr_lst, st_name_lst))"
      ],
      "metadata": {
        "id": "k8hWILjmSQER"
      },
      "execution_count": null,
      "outputs": []
    },
    {
      "cell_type": "markdown",
      "source": [
        "How would you use that new `st_ab2name_dict` to print the name of the state with the two-letter abbreviation **'CT'**?   "
      ],
      "metadata": {
        "id": "FXQNtuPBSvtr"
      }
    },
    {
      "cell_type": "code",
      "source": [
        "st_ab2name_dict['CT']"
      ],
      "metadata": {
        "id": "_WoFOf-JSvSK"
      },
      "execution_count": null,
      "outputs": []
    },
    {
      "cell_type": "code",
      "source": [
        "# using that lookup based on user input\n",
        "find_st_str = input(\"Enter a two-letter state abbreviation: \") \n",
        "try:\n",
        "    find_st_str = find_st_str.upper()\n",
        "    print(f'The state name for \"{find_st_str}\" is', st_ab2name_dict[find_st_str])\n",
        "except:\n",
        "    print('Unable to find a two-letter state abbreviation for: ', find_st_str)"
      ],
      "metadata": {
        "id": "ySyVjy_o-bMd"
      },
      "execution_count": null,
      "outputs": []
    },
    {
      "cell_type": "markdown",
      "source": [
        "\n",
        "\n",
        "---\n",
        "\n"
      ],
      "metadata": {
        "id": "fhWDfn2kSasF"
      }
    },
    {
      "cell_type": "markdown",
      "source": [
        "### Dictionary methods.\n",
        "\n",
        "~~~    \n",
        "keys()\n",
        "Return a new view of dictionary’s keys.\n",
        "values()\n",
        "Return a new view of a dictionary’s values.\n",
        "items()\n",
        "Return a new view of dictionary’s items (key,value)pairs.\n",
        "~~~ "
      ],
      "metadata": {
        "id": "vfFwS1rOmFyz"
      }
    },
    {
      "cell_type": "code",
      "source": [
        "#creating dictionary:\n",
        "\n",
        "d={'name':'karthi',\n",
        "   'age':7,\n",
        "   'city':'chennai',\n",
        "    }\n",
        "\n",
        "#print only keys\n",
        "print (d.keys())  #Output: dict_keys(['name', 'age', 'city'])\n",
        "\n",
        "#print (key,value) pair.\n",
        "print (d.items()) #Output: dict_items([('name', 'karthi'), ('age', 7), ('city', 'chennai')])\n",
        "\n",
        "#print only values\n",
        "print (d.values()) #Output: dict_values(['karthi', 7, 'chennai'])"
      ],
      "metadata": {
        "id": "TTsQQgAOmU4H"
      },
      "execution_count": null,
      "outputs": []
    },
    {
      "cell_type": "markdown",
      "source": [
        "#### Accessing the values from a dictionary\n",
        "We can access the values by using the get method and also by indexing. If the key doesn’t exist in a dictionary means, get method returns None.\n",
        "But when we use indexing, it will raise `KeyError`.\n",
        "\n",
        "~~~\n",
        "get()\n",
        "get(key,default)\n",
        "~~~    \n",
        "\n",
        "Returns the value of that specified key. If the key doesn’t exist in a dictionary means returns None. If the default is specified, it will return the default value if the key doesn’t exist."
      ],
      "metadata": {
        "id": "WU7ZAhbsmWRe"
      }
    },
    {
      "cell_type": "code",
      "source": [
        "d={'name':'karthi',\n",
        "   'age':7,\n",
        "   'city':'chennai',\n",
        "    }\n",
        "\n",
        "#get(accessing using get method)\n",
        "print(d.get(\"name\")) # Output: karthi\n",
        "\n",
        "\n",
        "#If key doesn't exists in a dictionary means ,returns None\n",
        "print (d.get('rollno')) # Output: None\n",
        "\n",
        "\n",
        "#default is mentioned.\n",
        "print (d.get('rollno',\"Not Available\"))#Output:Not Available"
      ],
      "metadata": {
        "id": "vinSnK5bmk_B"
      },
      "execution_count": null,
      "outputs": []
    },
    {
      "cell_type": "markdown",
      "source": [
        "#### Using indexing\n",
        "\n",
        "~~~\n",
        "d[key]\n",
        "~~~\n",
        "\n",
        "Returns the value of the key. If the key doesn’t exist in a dictionary means it will raise `KeyError`."
      ],
      "metadata": {
        "id": "1nyS_WmxmscV"
      }
    },
    {
      "cell_type": "code",
      "source": [
        "d={'name':'karthi',\n",
        "   'age':7,\n",
        "   'city':'chennai',\n",
        "    }\n",
        "\n",
        "#accessing using index\n",
        "print (d['name']) #Output: karthi\n"
      ],
      "metadata": {
        "id": "AfCR20nVmxd3"
      },
      "execution_count": null,
      "outputs": []
    },
    {
      "cell_type": "code",
      "source": [
        "# If key doesn't exists in a dictionary means and if we use index, then it will raise KeyError\n",
        "print (d['rollno']) # Output: KeyError: 'rollno'"
      ],
      "metadata": {
        "id": "XcOg5whhwtiC"
      },
      "execution_count": null,
      "outputs": []
    },
    {
      "cell_type": "markdown",
      "source": [
        "\n",
        "---\n"
      ],
      "metadata": {
        "id": "pJ2GzbG6wz6q"
      }
    },
    {
      "cell_type": "markdown",
      "source": [
        "#### Assigning /Updating values\n",
        "~~~\n",
        "d[key]=value\n",
        "~~~\n",
        "\n",
        "Set `d[key]` to value. If the key already exists in a dictionary means, it will update the value. If the key doesn’t exist in a dictionary means, it will add that key, value pair."
      ],
      "metadata": {
        "id": "xXlV6RLMm0ey"
      }
    },
    {
      "cell_type": "code",
      "source": [
        "d={'name':'karthi',\n",
        "   'age':7,\n",
        "   'city':'chennai',\n",
        "    }\n",
        "print (d)#Output:{'name': 'karthi', 'age': 7, 'city': 'chennai'}\n",
        "\n",
        "\n",
        "#Assigning values. If key already exists in a dictionary means,it will update value.\n",
        "d['age']=8\n",
        "print (d)#Output:{'name': 'karthi', 'age': 8, 'city': 'chennai'}\n"
      ],
      "metadata": {
        "id": "DveFOOS6m8ar"
      },
      "execution_count": null,
      "outputs": []
    },
    {
      "cell_type": "code",
      "source": [
        "#Assigning values.If key doesn't exists in a dictionary means,it will add that key.\n",
        "d['rollno']=12\n",
        "print (d)#Output:{'name': 'karthi', 'age': 8, 'city': 'chennai', 'rollno': 12}"
      ],
      "metadata": {
        "id": "_jI-Jwmqw7PE"
      },
      "execution_count": null,
      "outputs": []
    },
    {
      "cell_type": "markdown",
      "source": [
        "\n",
        "---\n"
      ],
      "metadata": {
        "id": "nOmMxg3bxDYk"
      }
    },
    {
      "cell_type": "markdown",
      "source": [
        "#### iter()\n",
        "\n",
        "~~~\n",
        "iter(d)\n",
        "~~~\n",
        "\n",
        "Return an iterator over the keys in a dictionary."
      ],
      "metadata": {
        "id": "tAg6J8LKm_ND"
      }
    },
    {
      "cell_type": "code",
      "source": [
        "d={'name':'karthi',\n",
        "   'age':7,\n",
        "   'city':'chennai',\n",
        "  }\n",
        "\n",
        "#Return an iterator containing  keys\n",
        "i=iter(d)\n",
        "print (i)#Output:<dict_keyiterator object at 0x00D13BE0>"
      ],
      "metadata": {
        "id": "4R_hQ4bGnGDI"
      },
      "execution_count": null,
      "outputs": []
    },
    {
      "cell_type": "code",
      "source": [
        "#converting iterator to list object\n",
        "print (list(i))#Output:['name', 'age', 'city']"
      ],
      "metadata": {
        "id": "SKk16f1Rxapl"
      },
      "execution_count": null,
      "outputs": []
    },
    {
      "cell_type": "markdown",
      "source": [
        "\n",
        "---\n"
      ],
      "metadata": {
        "id": "jFZUU4h0xlz3"
      }
    },
    {
      "cell_type": "markdown",
      "source": [
        "#### fromkeys()\n",
        "Create a new dictionary with keys from iterable and values set to value.\n",
        "`fromkeys()` is a class method that returns a new dictionary. value defaults to `None`.\n",
        "~~~\n",
        "fromkeys(iterable,value)\n",
        "~~~"
      ],
      "metadata": {
        "id": "XlFEnStZnJF_"
      }
    },
    {
      "cell_type": "code",
      "source": [
        "#fromkeys()\n",
        "#fromkeys() method returns a dictionary with the specified keys and the specified value.\n",
        "a={'a','e','i','o','u'}\n",
        "b='vowels'\n",
        "d1=dict.fromkeys(a,b)\n",
        "print(d1)\n",
        "#Output: {'o': 'vowels', 'u': 'vowels', 'e': 'vowels', 'i': 'vowels', 'a': 'vowels'}\n",
        "#dictionary is unordered.\n",
        "\n",
        "#if value is not mentioned,it defaults to None.\n",
        "d2=dict.fromkeys(a)\n",
        "print (d2)#Output:{'e': None, 'a': None, 'u': None, 'i': None, 'o': None}"
      ],
      "metadata": {
        "id": "FhmYjBJPnQb9"
      },
      "execution_count": null,
      "outputs": []
    },
    {
      "cell_type": "markdown",
      "source": [
        "#### setdefault()\n",
        "`setdefault()` method returns the value of a key (if the key is in a dictionary).\n",
        "If not, it inserts a key with a value to a dictionary. If the key is only mentioned, it will insert key with value as `None`.    \n",
        "~~~\n",
        "setdefault(key,default)\n",
        "~~~"
      ],
      "metadata": {
        "id": "eBkBIdC4nTvr"
      }
    },
    {
      "cell_type": "code",
      "source": [
        "#setdefault - if key is not there , will add the key with value none\n",
        "person = {'name': 'karthi', 'age': 7}\n",
        "city = person.setdefault('city')\n",
        "print(person)\n",
        "#Output:{'name': 'karthi', 'age': 7, 'city': None}\n",
        "\n",
        "\n",
        "#setdefault- if key  is not  there , will add key and value specified\n",
        "person = {'name': 'karthi', 'age': 7}\n",
        "city = person.setdefault('city','chennai')\n",
        "print(person)\n",
        "#Output:{'name': 'karthi', 'age': 7, 'city': 'chennai'}\n",
        "\n",
        "#setdefault-> if key exists, returns the value of that specified key\n",
        "person = {'name': 'karthi', 'age': 7}\n",
        "age=person.setdefault('age',10)\n",
        "print(person.setdefault('age',10)) #Output:7\n",
        "print (person)\n",
        "#Output:{'name': 'karthi', 'age': 7}"
      ],
      "metadata": {
        "id": "vB1k3A2Bnet2"
      },
      "execution_count": null,
      "outputs": []
    },
    {
      "cell_type": "markdown",
      "source": [
        "### Updating the items in a dictionary "
      ],
      "metadata": {
        "id": "UqGWBniAnrfW"
      }
    },
    {
      "cell_type": "markdown",
      "source": [
        "**`update()`**    \n",
        "\n",
        "`update()` method is used to merge the second dictionary into the first dictionary. It will update the value of the first dictionary.\n",
        "It won’t create a new dictionary. It is used for merging two dictionaries.    \n",
        "\n",
        "`update()` method adds elements to a dictionary if the key is not in that dictionary. If the key is in a dictionary means, it will update the new `value.Update()` function won’t return any value.    \n",
        "\n",
        "`update(other)`\n",
        "\n",
        "`other` argument can be another dictionary object or an iterable of key/value pairs (as tuples or other iterables of length two). If keyword arguments are specified, a dictionary is then updated with those key/value pairs.   \n"
      ],
      "metadata": {
        "id": "iRdWWAodntSf"
      }
    },
    {
      "cell_type": "code",
      "source": [
        "#update() - combining - merging both dictionaries and updating first - dictionary\n",
        "first={'name':'karthi',\n",
        "   'age':7,\n",
        "   'city':'chennai',\n",
        "    }\n",
        "\n",
        "second={'name':'sarvesh',\n",
        "'age':3}  \n",
        "\n",
        "#update () function won't return any value.\n",
        "print(first.update(second))\n",
        "#Output: None\n",
        "\n",
        "print(first)\n",
        "#Output:{'name': 'sarvesh', 'age': 3, 'city': 'chennai'}"
      ],
      "metadata": {
        "id": "FQ64Gt45oKCO"
      },
      "execution_count": null,
      "outputs": []
    },
    {
      "cell_type": "markdown",
      "source": [
        "### Removing items from a dictionary"
      ],
      "metadata": {
        "id": "1WqFU55OoNKo"
      }
    },
    {
      "cell_type": "markdown",
      "source": [
        "**`popitem()`**    \n",
        "\n",
        "Remove and return a (key, value) pair from a dictionary. Pairs are returned in LIFO order. If a dictionary is empty, calling popitem() raises a KeyError. — python docs\n",
        "\n",
        "**`pop()`**    \n",
        "\n",
        "If the key is in a dictionary, remove it and return its value, else return default. If the default is not given and the key is not in a dictionary, a `KeyError` is raised.    \n",
        "\n",
        "\n",
        "**`pop(key,default)`**    \n"
      ],
      "metadata": {
        "id": "0u_wvqsroQtz"
      }
    },
    {
      "cell_type": "code",
      "source": [
        "d1 = {'name': 'karthi',\n",
        "      'age': 7,\n",
        "      'city': 'chennai',\n",
        "      }\n",
        "\n",
        "# popitem\n",
        "# The popitem() method removes and returns the last element (key, value) pair inserted into a dictionary.\n",
        "print(d1.popitem())  # Output:('city', 'chennai')\n",
        "print (type(d1.popitem()))#Output:<class 'tuple'>\n",
        "print(d1)  # Output:{'name': 'karthi', 'age': 7}\n",
        "\n",
        "\n",
        "# pop\n",
        "# pop() method removes and returns a value from a dictionary for  the given key.\n",
        "print(d1.pop('name'))  # Output:Karthi\n",
        "print(d1)  # Output: {'age': 7}\n",
        "\n",
        "\n",
        "# If key is not in dictionary and value is given as default argument means,it will return the default value.\n",
        "print(d1.pop(\"city\", \"Not found\"))  # Output: Not found\n",
        "\n",
        "\n",
        "# if key is not in dictionary  and default value not given means it will raise KeyError\n",
        "# print (d1.pop('rollno')) #Output: KeyError: 'rollno'"
      ],
      "metadata": {
        "id": "CF0N07CXohLq"
      },
      "execution_count": null,
      "outputs": []
    },
    {
      "cell_type": "markdown",
      "source": [
        "**`clear()`**    \n",
        "\n",
        "`clear()` will empty a dictionary.   Its return value is `None`.    \n",
        "\n",
        "**`del`** keyword is used to delete a dictionary itself.    \n",
        "\n",
        "We can also delete the key from a dictionary by using del keyword. If the key is not in a dictionary means, then it will raise `KeyError`.    \n"
      ],
      "metadata": {
        "id": "VoOdqTbBolGi"
      }
    },
    {
      "cell_type": "code",
      "source": [
        "d = {'name': 'karthi',\n",
        "      'age': 7,\n",
        "      'city': 'chennai',\n",
        "      }\n",
        "\n",
        "\n",
        "# If key is in dictionary means, it is removed from a dictionary.\n",
        "del d['name']\n",
        "print(d)  # Output: {'age': 7, 'city': 'chennai'}\n",
        "\n",
        "\n",
        "# If key is not in dictionary means KeyError is thrown.\n",
        "del d['state']# Output:KeyError: 'state'\n",
        "\n",
        "\n",
        "# clear - it will empty a dictionary.\n",
        "d.clear()\n",
        "# clear() method will return None.It will clear the original dictionary\n",
        "print(d.clear())  # Output: None.\n",
        "print(d)  # Output: {}\n",
        "\n",
        "# del - del keyword is used to delete a dictionary itself.\n",
        "del d\n",
        "# d1 is deleted and is not available.\n",
        "print (d) #Output: NameError: name 'd' is not defined"
      ],
      "metadata": {
        "id": "5Dj1Uhhpo4-H"
      },
      "execution_count": null,
      "outputs": []
    },
    {
      "cell_type": "markdown",
      "source": [
        "### **copy() vs deepcopy()**"
      ],
      "metadata": {
        "id": "Sr4c64Lqo83f"
      }
    },
    {
      "cell_type": "markdown",
      "source": [
        "**`copy()`** method returns the shallow copy of the existing dictionary. A shallow copy means a new dictionary value is updated with references to objects in the existing dictionary.  Akin to an alias.    \n",
        "\n",
        "If we change the value of immutable data types in the original dictionary, it is not reflected in the copied dictionary. But if we change the value of mutable datatypes like list means changes are reflected in the copied dictionary also.    \n",
        "\n",
        "To avoid this, we can use a `deep copy()`. In `deepcopy()`, if we change either mutable or immutable data types of the original dictionary, changes are not reflected in a deep copied dictionary.    \n"
      ],
      "metadata": {
        "id": "b1x2hTUJpDsf"
      }
    },
    {
      "cell_type": "code",
      "source": [
        "import copy   \n",
        "d={'Name':'karthi',\n",
        "   'Rollno':12,\n",
        "   'Marks':[100,90]\n",
        "    }\n",
        "\n",
        "d1=d.copy()\n",
        "print (d1) #Output: {'Name': 'karthi', 'Rollno': 12, 'Marks': [100, 90]}\n",
        "\n",
        "#modifying immutable data types\n",
        "d['Rollno']=5\n",
        "print (d) #Output: {'Name': 'karthi', 'Rollno': 5, 'Marks': [100, 90]}\n",
        "#changes are not reflected in copied dictionary.\n",
        "print (d1) #Output: {'Name': 'karthi', 'Rollno': 12, 'Marks': [100, 90]}\n",
        "\n",
        "# modifying mutable datatypes\n",
        "d['Marks'].append(99)\n",
        "print (d) #Output: {'Name': 'karthi', 'Rollno': 5, 'Marks': [100, 90, 99]}\n",
        "#changes are reflected in copied dictionary also.\n",
        "print (d1)#Output: {'Name': 'karthi', 'Rollno': 12, 'Marks': [100, 90, 99]}\n",
        "\n",
        "d2=copy.deepcopy(d1)\n",
        "print (d2) #Output: {'Name': 'karthi', 'Rollno': 12, 'Marks': [100, 90, 99]}\n",
        "\n",
        "#modifying immutabe data types\n",
        "d1['Rollno']=15\n",
        "print (d1) #Output:{'Name': 'karthi', 'Rollno': 15, 'Marks': [100, 90, 99]}\n",
        "#changes are not reflected in copied dictionary.\n",
        "print (d2) #Output: {'Name': 'karthi', 'Rollno': 12, 'Marks': [100, 90, 99]}\n",
        "\n",
        "# modifying mutable datatypes\n",
        "d1['Marks'].append(101)\n",
        "print (d1) #Output: {'Name': 'karthi', 'Rollno': 15, 'Marks': [100, 90, 99, 101]}\n",
        "#changes are not reflected in deep copied dictionary.\n",
        "print (d2)#Output:{'Name': 'karthi', 'Rollno': 12, 'Marks': [100, 90, 99]}"
      ],
      "metadata": {
        "id": "_VpTiR9opY-1"
      },
      "execution_count": null,
      "outputs": []
    },
    {
      "cell_type": "markdown",
      "source": [
        "### Dictionary view objects"
      ],
      "metadata": {
        "id": "WBS7c-Bepc-R"
      }
    },
    {
      "cell_type": "markdown",
      "source": [
        "The objects returned by:\n",
        " - `dict.keys()`\n",
        " - `dict.values()`\n",
        " - `dict.items()`     \n",
        " are view objects. They provide a dynamic view of a dictionary’s entries, which means that when a dictionary changes, the view reflects these changes.-python docs\n",
        "\n",
        "Dictionary views can be iterated over to yield their respective data and support membership tests.    \n",
        "\n",
        "\n",
        "**`iter(dictview)`**    \n",
        "\n",
        "Return an iterator over the keys, values, or items in a dictionary"
      ],
      "metadata": {
        "id": "a9hYx7_LpgPd"
      }
    },
    {
      "cell_type": "code",
      "source": [
        "# creating dictionary\n",
        "\n",
        "d = {'name': 'karthi',\n",
        "     'age': 7,\n",
        "     'city': 'chennai',\n",
        "     }\n",
        "\n",
        "#Returns key iterator object\n",
        "k=d.keys()\n",
        "print (iter(k))#Output:<dict_keyiterator object at 0x00A1E028>\n",
        "#converting iterator to list object\n",
        "print (list(iter(k)))#Output:['name', 'age', 'city']\n",
        "\n",
        "\n",
        "#Returns items iterator object\n",
        "i=d.items()\n",
        "print (iter(i))#Output:<dict_itemiterator object at 0x00A1E028>\n",
        "#looping through the iterator\n",
        "for i in iter(i):\n",
        "    print (i)\n",
        "'''\n",
        "('name', 'karthi')\n",
        "('age', 7)\n",
        "('city', 'chennai')\n",
        "'''\n",
        "\n",
        "\n",
        "#Return values iterator object\n",
        "v=d.values()\n",
        "print (iter(v))#Output:<dict_valueiterator object at 0x00A1E028>\n",
        "#converting iterator to list object\n",
        "print (list(iter(v)))#Output:['karthi', 7, 'chennai']"
      ],
      "metadata": {
        "id": "Amqo1Eqpp3Tk"
      },
      "execution_count": null,
      "outputs": []
    },
    {
      "cell_type": "markdown",
      "source": [
        "**`reversed(dictview)`**\n",
        "\n",
        "Return a reverse iterator over the keys, values, or items of a dictionary. The view will be iterated in reverse order of the insertion.-python docs"
      ],
      "metadata": {
        "id": "7HFQYFN0p-GW"
      }
    },
    {
      "cell_type": "code",
      "source": [
        "i = 7\n",
        "print (i)"
      ],
      "metadata": {
        "id": "R5jU3n4rAtkw"
      },
      "execution_count": null,
      "outputs": []
    },
    {
      "cell_type": "code",
      "source": [
        "# creating dictionary\n",
        "\n",
        "d = {'name': 'karthi',\n",
        "     'age': 7,\n",
        "     'city': 'chennai',\n",
        "     }\n",
        "\n",
        "#Returns reversed key iterator object\n",
        "k=d.keys()\n",
        "print (reversed(k))#Output:<dict_reversekeyiterator object at 0x010C3BB8>\n",
        "#converting iterator to list object\n",
        "print (list(reversed(k)))#Output:['city', 'age', 'name']\n",
        "\n",
        "\n",
        "#Returns reversed items iterator object\n",
        "i=d.items()\n",
        "print (reversed(i))#Output:<dict_itemiterator object at 0x00A1E028>\n",
        "\n",
        "#looping through the iterator\n",
        "for i in  reversed(i):\n",
        "    print (i)\n",
        "'''\n",
        "('city', 'chennai')\n",
        "('age', 7)\n",
        "('name', 'karthi')\n",
        "'''\n",
        "\n",
        "\n",
        "#Return reversed values iterator object\n",
        "v=d.values()\n",
        "print (reversed(v))#Output:<dict_reversevalueiterator object at 0x01143BE0>\n",
        "#converting iterator to list object\n",
        "print (list(reversed(v)))#Output:['chennai', 7, 'karthi']\n"
      ],
      "metadata": {
        "id": "Y11C6QvCqIhd"
      },
      "execution_count": null,
      "outputs": []
    },
    {
      "cell_type": "markdown",
      "source": [
        "### Looping through a dictionary\n"
      ],
      "metadata": {
        "id": "9cZ2cyuDqNNw"
      }
    },
    {
      "cell_type": "code",
      "source": [
        "#creating dictionary\n",
        "\n",
        "d={'name':'karthi',\n",
        "   'age':7,\n",
        "   'city':'chennai',\n",
        "    }\n",
        "    \n",
        "#Print only the keys\n",
        "\n",
        "for i in d:\n",
        "    print (i)\n",
        "'''    \n",
        "Output:  \n",
        "name\n",
        "age\n",
        "city\n",
        "'''\n",
        "\n",
        "#will print the (key,value) as a tuple   \n",
        "for i in d.items():\n",
        "    print (i)\n",
        "    \n",
        "'''\n",
        "Output:\n",
        "('name', 'karthi')\n",
        "('age', 7)\n",
        "('city', 'chennai')\n",
        "'''\n",
        "\n",
        "#will print the key,value in the format specified\n",
        "for i,j in d.items():\n",
        "    print(i,j)\n",
        "'''\n",
        "Output:\n",
        "name karthi\n",
        "age 7\n",
        "city chennai\n",
        "'''\n",
        "\n",
        "#will print only the keys    \n",
        "for i in d.keys():\n",
        "    print(i)\n",
        "'''\n",
        "Output:\n",
        "name\n",
        "age\n",
        "city\n",
        "'''\n",
        "    \n",
        "#will print only the values    \n",
        "for i in d.values():\n",
        "    print(i)\n",
        "    \n",
        "'''\n",
        "Output:\n",
        "karthi\n",
        "7\n",
        "chennai\n",
        "'''\n",
        "    "
      ],
      "metadata": {
        "id": "R2q1wA8PsR3s"
      },
      "execution_count": null,
      "outputs": []
    },
    {
      "cell_type": "markdown",
      "source": [
        "### Dictionary Operations"
      ],
      "metadata": {
        "id": "IKoWGwYOqXI6"
      }
    },
    {
      "cell_type": "markdown",
      "source": [
        "#### Membership Test\n",
        "**in, not in**\n",
        "\n",
        "`in` — Returns True if the key is present in a dictionary. Checks only key and not values."
      ],
      "metadata": {
        "id": "eoztcO_UqYhp"
      }
    },
    {
      "cell_type": "code",
      "source": [
        "d=dict([('red',1),('blue',2),('green',3)])\n",
        "print (d)#Output:{'red': 1, 'blue': 2, 'green': 3}\n",
        "\n",
        "\n",
        "#Checking whether the particular key is in dictionary or not.\n",
        "if 'red' in d:\n",
        "    print (\"True\")#Output:True\n",
        "\n",
        "\n",
        "if 'yellow' in d:\n",
        "    print (\"True\")\n",
        "else:\n",
        "    print (\"False\") #Output:False\n",
        "\n",
        "\n",
        "if \"yellow\" not in d:\n",
        "    print (\"True\")#Output:True"
      ],
      "metadata": {
        "id": "2w1RIQPJqiHu"
      },
      "execution_count": null,
      "outputs": []
    },
    {
      "cell_type": "markdown",
      "source": [
        "### Dictionary built-in functions   "
      ],
      "metadata": {
        "id": "h0WE7nRQqlxu"
      }
    },
    {
      "cell_type": "markdown",
      "source": [
        "1. `len()` — Returns the length (no of items) of a dictionary.    \n",
        "2. `list()`-Returns the list of all keys in a dictionary    \n",
        "3. `sorted()`-Returns the sorted list of keys in a dictionary.    \n",
        "4. `reversed()`-Return a reversed iterator over the keys of a dictionary.    "
      ],
      "metadata": {
        "id": "RFFyCgRZqp-i"
      }
    },
    {
      "cell_type": "code",
      "source": [
        "#creating dictionary by using iterables\n",
        "d=dict([('red',1),('blue',2),('green',3)])\n",
        "print (d)#Output:{'red': 1, 'blue': 2, 'green': 3}\n",
        "\n",
        "\n",
        "#Returns the length(number of keys)of dictionary\n",
        "print (len(d))#Output:3\n",
        "\n",
        "\n",
        "#Returns the list of keys in a dictionary\n",
        "print(list(d))#Output:['red', 'blue', 'green']\n",
        "\n",
        "\n",
        "#Returns the sorted list of keys in a dictionary(by default ascending order)\n",
        "print (sorted(d))#Output:['blue', 'green', 'red']\n",
        "\n",
        "\n",
        "#Returns the sorted list of keys in a dictionary in descending order.\n",
        "print (sorted(d,reverse=True))#Output:['red', 'green', 'blue']\n",
        "\n",
        "\n",
        "#Returns the reversed list of keys in a dictionary.Returns an iterator object.\n",
        "print (reversed(d))#Output:<dict_reversekeyiterator object at 0x005DEB90>\n",
        "#Iterator object is converted to list object\n",
        "print (list(reversed(d)))#Output:['green', 'blue', 'red']"
      ],
      "metadata": {
        "id": "4DjHPqJ-q4Vi"
      },
      "execution_count": null,
      "outputs": []
    },
    {
      "cell_type": "markdown",
      "source": [
        "4. `all()`: Returns True if all keys(not values) in a dictionary is `True` or if a dictionary is empty."
      ],
      "metadata": {
        "id": "cefxu_kQq5wb"
      }
    },
    {
      "cell_type": "markdown",
      "source": [
        "5. `any()`:Returns `True` if any `key`(not values) in a dictionary is `True`. If dictionary is empty returns `False`.  "
      ],
      "metadata": {
        "id": "1tK2Wg7HrDM8"
      }
    },
    {
      "cell_type": "code",
      "source": [
        "#Creating dictionary in which all keys are True.\n",
        "d={1:'apple',2:'orange',3:'banana'}\n",
        "print (all(d)) #Output:True\n",
        "print (any(d))#Output: True\n",
        "\n",
        "#Empty dictionary\n",
        "d1={}\n",
        "print (all(d1))#Output: True\n",
        "print (any(d1))#Output:False\n",
        "\n",
        "#Creating dictionary in which one key is False\n",
        "d2={0:'grapes',1:'apple',2:'orange',3:'banana'}\n",
        "print (all(d2))#Output:False\n",
        "print (any(d2))#Output:True\n",
        "\n",
        "#Creating dictionary in which all keys are False\n",
        "d3={0:'hello'}\n",
        "print (all(d3))#Output:False\n",
        "print (any(d3))#Output:False"
      ],
      "metadata": {
        "id": "4Qw__67xrAqy"
      },
      "execution_count": null,
      "outputs": []
    },
    {
      "cell_type": "markdown",
      "source": [
        "**Conclusion**     \n",
        "\n",
        "- Return type is view object    \n",
        "`keys()`    \n",
        "`values()`    \n",
        "`items()`    \n",
        "\n",
        "- Return type is List    \n",
        "`list(d)`,`sorted(d)`    \n",
        "\n",
        "- Return type is iterator    \n",
        "`iter(d)`, `reversed(d)`, `iter(dictview)`    \n",
        "\n",
        "- Return type is dictionary    \n",
        "`copy()`, `deepcopy()`, `fromkeys()`    \n",
        "\n",
        "- Return type is tuple    \n",
        "`popitem()`     \n",
        "\n",
        "- Return type is None    \n",
        "`clear()`- Doesn’t return anything. It will clear the original dictionary.    \n",
        "`update()`-Doesn’t return anything.It will update the original dictionary.   \n",
        " \n",
        "\n",
        "- Return type is integer    \n",
        "len()    \n",
        "\n",
        "- Return type is Boolean\n",
        "any(),all()    \n",
        "reversed(d)- supported from Python version 3.8     \n"
      ],
      "metadata": {
        "id": "VFo2QOPOrQjg"
      }
    },
    {
      "cell_type": "markdown",
      "metadata": {
        "id": "1KxrAWQ2jZqO"
      },
      "source": [
        "## **8: Files - Exercises**"
      ]
    },
    {
      "cell_type": "markdown",
      "metadata": {
        "id": "0WgxmP9KjdHG"
      },
      "source": [
        "###**Exercise 7.1 (in Lesson 8, Files)**"
      ]
    },
    {
      "cell_type": "markdown",
      "metadata": {
        "id": "17vox9iejnua"
      },
      "source": [
        "If you are programming in an IDE which interprets code locally on your machine then you can open files using code similar to the code used in examples and exercises in Python for Everybody.  Please understand that if you attempt to read a file without a specified directory path (folder hierarchy) in the file name then that file must be saved in the current working directory where you Python interpreter is running.  See our Supplemental Notebook on Accessing Files for more information.  "
      ]
    },
    {
      "cell_type": "code",
      "metadata": {
        "id": "4lWZoE-cjSrS"
      },
      "source": [
        "# This code should work if:\n",
        "#  1. Your IDE is running Python locally\n",
        "#  2. The file mbox-short.txt is in the CWD\n",
        "#  * CWD is the current working directory\n",
        "\n",
        "fh = open('mbox-short.txt')\n",
        "\n",
        "for lx in fh:          # process each row of the file\n",
        "    ly = lx.rstrip()   # create a string without the /n at the end\n",
        "    print(ly)          # print each line without the extra /n"
      ],
      "execution_count": null,
      "outputs": []
    },
    {
      "cell_type": "markdown",
      "metadata": {
        "id": "MR8eFECKlUZx"
      },
      "source": [
        "The code above^ does not work here in a Colab notebook because Colab is running in the Cloud and not on your local machine.  You see what Colab is doing through a browser on your machine but Colab is doing what it does on Google computers, not on yours. "
      ]
    },
    {
      "cell_type": "markdown",
      "metadata": {
        "id": "-DGVeDPzlnoD"
      },
      "source": [
        "To approximate the code in Exercise 7.1 in Colab, we will use Google Drive and mount it to Colab so that Colab can access  the My Drive folder and its contents.  That would work as follows:"
      ]
    },
    {
      "cell_type": "markdown",
      "metadata": {
        "id": "NgTsJ5J4l7LZ"
      },
      "source": [
        "First, we will want Google Drive mounted for access to the My Drive directory."
      ]
    },
    {
      "cell_type": "code",
      "metadata": {
        "id": "GV1Xd7SomAYq"
      },
      "source": [
        "from google.colab import drive\n",
        "drive.mount('/content/drive')"
      ],
      "execution_count": null,
      "outputs": []
    },
    {
      "cell_type": "markdown",
      "metadata": {
        "id": "CGYswBo3mCmF"
      },
      "source": [
        "Then we can open the mbox-short file in the My Drive folder which we mounted to the /content/drive folder in Colab as follows:"
      ]
    },
    {
      "cell_type": "code",
      "metadata": {
        "id": "m52L60KHmPal"
      },
      "source": [
        "# This code should work if:\n",
        "#  1. Your IDE is Colab and you have Google Drive\n",
        "#  2. The file mbox-short.txt is in the My Drive folder\n",
        "#  * My Drive is the root of your Google Drive\n",
        "\n",
        "fh = open('/content/drive/My Drive/mbox-short.txt')\n",
        "\n",
        "for lx in fh:          # process each row of the file\n",
        "    ly = lx.rstrip()   # create a string without the /n at the end\n",
        "    print(ly)          # print each line without the extra /n"
      ],
      "execution_count": null,
      "outputs": []
    },
    {
      "cell_type": "markdown",
      "metadata": {
        "id": "Eo_Ximagn59X"
      },
      "source": [
        "\n",
        "\n",
        "---\n",
        "\n"
      ]
    },
    {
      "cell_type": "markdown",
      "metadata": {
        "id": "MkfngML7n7CB"
      },
      "source": [
        "###**Exercise 7.2 (in Lesson 8, Files)**"
      ]
    },
    {
      "cell_type": "markdown",
      "metadata": {
        "id": "trsv-7RcoCFT"
      },
      "source": [
        "Write a program that prompts for a file name, then opens that file and reads through the file, looking for lines of the form:\n",
        "X-DSPAM-Confidence:    0.8475\n",
        "Count these lines and extract the floating point values from each of the lines and compute the average of those values and produce an output as shown below. Do not use the sum() function or a variable named sum in your solution.\n",
        "You can download the sample data at http://www.py4e.com/code3/mbox-short.txt when you are testing below enter mbox-short.txt as the file name."
      ]
    },
    {
      "cell_type": "markdown",
      "metadata": {
        "id": "5ll7xH1ToLZR"
      },
      "source": [
        "The intended result from is the output: Average spam confidence: 0.7507185185185187"
      ]
    },
    {
      "cell_type": "markdown",
      "metadata": {
        "id": "8ftQGJJboYF9"
      },
      "source": [
        "*Initial Code from Py4E Exercise 7.2*"
      ]
    },
    {
      "cell_type": "code",
      "metadata": {
        "id": "j-me5QGzoi2h"
      },
      "source": [
        "# Use the file name mbox-short.txt as the file name\n",
        "fname = input(\"Enter file name: \")\n",
        "count = 0\n",
        "tot_fpv = 0\n",
        "try:\n",
        "    fh = open(fname)\n",
        "except:\n",
        "    print(\"Unable to open file: \", fname)\n",
        "    \n",
        "for line in fh:\n",
        "    if line.startswith(\"X-DSPAM-Confidence:\"):\n",
        "        count += 1\n",
        "    # print(line)\n",
        "print(\"Count: \", count)\n"
      ],
      "execution_count": null,
      "outputs": []
    },
    {
      "cell_type": "markdown",
      "metadata": {
        "id": "sshA2QIDorv5"
      },
      "source": [
        "The initial code uses try/except to gracefully respond to errors in the file name or the availability of the file.  We can adapt the initial code to work in a Colab environment where the file mbox-short.txt is stored in the root directory of our Google Drive (My Drive folder). "
      ]
    },
    {
      "cell_type": "markdown",
      "metadata": {
        "id": "G-2Id2mipLGs"
      },
      "source": [
        "If we do not have it mounted from earlier, we will want Google Drive mounted for access to the My Drive directory."
      ]
    },
    {
      "cell_type": "code",
      "metadata": {
        "id": "m41fI7OxpSgz"
      },
      "source": [
        "from google.colab import drive\n",
        "drive.mount('/content/drive')"
      ],
      "execution_count": null,
      "outputs": []
    },
    {
      "cell_type": "markdown",
      "metadata": {
        "id": "5iRLdtDrpXXW"
      },
      "source": [
        "Then we can adapt the code to work with the /content/drive and it's sub-folder My Drive."
      ]
    },
    {
      "cell_type": "code",
      "metadata": {
        "id": "g43ycJEHpssz"
      },
      "source": [
        "## SETUP - OPEN THE FILE USING MBOX-SHORT.TXT IN GOOGLE DRIVE\n",
        "file_name = \"mbox-short.txt\"\n",
        "# 'borrowing' the following code, though it is overkill\n",
        "if len(file_name) < 1:\n",
        "    name = \"/content/drive/My Drive/mbox-short.txt\"\n",
        "else:\n",
        "    name = \"/content/drive/My Drive/\" + file_name\n",
        "try:\n",
        "    exercise_handle = open(name)\n",
        "except:\n",
        "    print(\"Could not open \"+name)"
      ],
      "execution_count": null,
      "outputs": []
    },
    {
      "cell_type": "markdown",
      "metadata": {
        "id": "cB_aj6m7p8Oj"
      },
      "source": [
        "Now we can extract the lines of the original code which were not part of opening the file handle and adjust them."
      ]
    },
    {
      "cell_type": "markdown",
      "metadata": {
        "id": "oyyu8RF7qZoE"
      },
      "source": [
        "Some differences between opening a file locally and opening a file on Colab but once we have established an open file handle, the rest of our program can work in a similar fashion. "
      ]
    },
    {
      "cell_type": "code",
      "metadata": {
        "id": "LI0rUD9vqLjS"
      },
      "source": [
        "count = 0     # initialize a counter\n",
        "line_no = 0\n",
        "tot_fpv = 0   # initialize a counter\n",
        "for line in exercise_handle:       # we are using a different handle\n",
        "    line_no += 1\n",
        "    if line.startswith(\"X-DSPAM-Confidence:\"):\n",
        "        count += 1\n",
        "        # print(line.strip())\n",
        "print(\"Count: \", count)"
      ],
      "execution_count": null,
      "outputs": []
    },
    {
      "cell_type": "markdown",
      "metadata": {
        "id": "eg-ER7efqvMP"
      },
      "source": [
        "It works but all we have done so far is count the number of lines which begin with the string we are testing. Let's add more logic to achieve the intended result. "
      ]
    },
    {
      "cell_type": "code",
      "metadata": {
        "id": "ckZNhBqYrnTK"
      },
      "source": [
        "count = 0     # initialize a counter\n",
        "tot_fpv = 0   # initialize a counter\n",
        "for line in exercise_handle:       # we are using a different handle\n",
        "    if line.startswith(\"X-DSPAM-Confidence:\"):\n",
        "        count += 1\n",
        "        colpos = line.find(':')\n",
        "        number = line[colpos+1:].strip()    # Removes all text except number\n",
        "        SPAM_C = float(number)\n",
        "        tot_fpv = tot_fpv + SPAM_C\n",
        "\n",
        "average = tot_fpv / count\n",
        "print('Average spam confidence: ', average)\n"
      ],
      "execution_count": null,
      "outputs": []
    },
    {
      "cell_type": "markdown",
      "metadata": {
        "id": "8-a8QSaxtHIG"
      },
      "source": [
        "Here is a verbose version of the program in exercise 8.5 which uses scaffolding to be able to watch what is happening in the flow of execution.  The following program is written to open a file locally in the current working directory.  See if you can modify it to work in Colabl for you. "
      ]
    },
    {
      "cell_type": "code",
      "metadata": {
        "id": "6cgWqiPcteNZ"
      },
      "source": [
        "## Read a file and extract float of scores\n",
        "## from Python for Everybody, Lesson 8 - \n",
        "## CST2312 WK06CL07, Professor Patrick 27-Sep-2021\n",
        "## Using Charles Severance's example ex_08_05\n",
        "\n",
        "\n",
        "# Use the file name mbox-short.txt as the file name\n",
        "fname = input(\"Enter file name: \")\n",
        "if len(fname) < 1:\n",
        "    fname = \"mbox-short.txt\"\n",
        "\n",
        "# open the file\n",
        "try:\n",
        "    local_handle = open(fname)\n",
        "except:\n",
        "    print(\"Unable to open file: \", fname)\n",
        "\n",
        "# initialize a counter, buckets, and element list\n",
        "count = 0              # line counter\n",
        "total_confidence = 0.0 # aggregator for confidence\n",
        "avg_confidence = 0.0   # total_confidence / count\n",
        "parsed = list()        # split elements of line\n",
        "\n",
        "# Some scaffolding to check the variable/object setups\n",
        "print()\n",
        "print(\"I - Initialzed variables/objects now.\")\n",
        "print(\"File name (fname): \", fname)\n",
        "print(\"Counter (count): \", count)\n",
        "print(\"Aggregator (total_confidence): \", total_confidence)\n",
        "print(\"Avg. confidence (avg_confidence): \", avg_confidence)\n",
        "print(\"Parsed line elements (parsed): \", parsed)\n",
        "go = input(\"Hit enter to proceed.\")\n",
        "print()\n",
        "\n",
        "\n",
        "# some scaffolding to articulate flow of control\n",
        "print()\n",
        "print(\"II - Going into the line-by-line processing now.\")\n",
        "# use a for loop to read each line, strip \\n, print\n",
        "for line_read in local_handle:\n",
        "    line_stripped = line_read.rstrip()\n",
        "    # Following is a remant from a prior program -- kill it\n",
        "    # print(line_stripped.upper())\n",
        "    if not line_stripped.startswith(\"X-DSPAM-Confidence:\"):\n",
        "        continue\n",
        "    # scaffolding to peek at each line processed\n",
        "    print(\"Rstripped line processed (line_stripped): \", line_stripped)\n",
        "    count += 1\n",
        "    parsed = line_stripped.split()\n",
        "    total_confidence += float(parsed[1])\n",
        "    # scaffolding to peek at count and parsed list after ea. line\n",
        "    print(\"Counter (count): \", count)\n",
        "    print(\"Parsed line elements (parsed): \", parsed)\n",
        "    print(\"Aggregator (total_confidence): \", total_confidence)\n",
        "    go = input(\"Hit enter to proceed.\")\n",
        "    print()\n",
        "\n",
        "# housekeeping to calculate the average confidence\n",
        "# using total_confidence / count\n",
        "avg_confidence = total_confidence / count\n",
        "\n",
        "\n",
        "# All done -- peek at everything\n",
        "print()\n",
        "print(\"III - Out of the line-by-line processing now.\")\n",
        "print(\"File name (fname): \", fname)\n",
        "print(\"Counter (count): \", count)\n",
        "print(\"Aggregator (total_confidence): \", total_confidence)\n",
        "print(\"Avg. confidence (avg_confidence): \", avg_confidence)\n",
        "print(\"Parsed last-line elements (parsed): \", parsed)\n",
        "go = input(\"Hit enter to proceed.\")\n",
        "print()\n",
        "print(\"Done\")\n"
      ],
      "execution_count": null,
      "outputs": []
    },
    {
      "cell_type": "markdown",
      "metadata": {
        "id": "IA_mRByQte4G"
      },
      "source": [
        "\n",
        "\n",
        "---\n",
        "\n"
      ]
    },
    {
      "cell_type": "markdown",
      "metadata": {
        "id": "NYeEKoJBXGxN"
      },
      "source": [
        "## **9: Lists - Exercises**"
      ]
    },
    {
      "cell_type": "markdown",
      "metadata": {
        "id": "mxAoU6sPXLaq"
      },
      "source": [
        "###**Exercise 8.4 (in Lesson 9, Lists)**"
      ]
    },
    {
      "cell_type": "markdown",
      "metadata": {
        "id": "Jpr9pSzwZGn6"
      },
      "source": [
        "Open the file romeo.txt and read it line by line. For each line, split the line into a list of words using the split() method. The program should build a list of words. For each word on each line check to see if the word is already in the list and if not append it to the list. When the program completes, sort and print the resulting words in alphabetical order.\n",
        "You can download the sample data at  http://www.py4e.com/code3/romeo.txt "
      ]
    },
    {
      "cell_type": "markdown",
      "metadata": {
        "id": "b1OaiNRmbgOG"
      },
      "source": [
        "The intended result from the program is the following output: ['Arise', 'But', 'It', 'Juliet', 'Who', 'already', 'and', 'breaks', 'east', 'envious', 'fair', 'grief', 'is', 'kill', 'light', 'moon', 'pale', 'sick', 'soft', 'sun', 'the', 'through', 'what', 'window', 'with', 'yonder']"
      ]
    },
    {
      "cell_type": "markdown",
      "metadata": {
        "id": "jQUZXA-JaCAa"
      },
      "source": [
        "First, we will want Google Drive mounted for access to the My Drive directory.\n",
        "\n"
      ]
    },
    {
      "cell_type": "code",
      "metadata": {
        "id": "k927xGPKaLLk"
      },
      "source": [
        "from google.colab import drive\n",
        "drive.mount('/content/drive')"
      ],
      "execution_count": null,
      "outputs": []
    },
    {
      "cell_type": "markdown",
      "metadata": {
        "id": "6uJIADJ5ZO74"
      },
      "source": [
        "Then, we will open \"romeo.txt\" in the My Drive folder of Google Drive.  No need to prompt the user about this."
      ]
    },
    {
      "cell_type": "code",
      "metadata": {
        "id": "AkWUnPNyZmLv"
      },
      "source": [
        "## SETUP - OPEN THE FILE USING ROMEO.TXT IN GOOGLE DRIVE\n",
        "file_name = \"romeo.txt\"\n",
        "# 'borrowing' the following code, though it is overkill\n",
        "if len(file_name) < 1:\n",
        "    name = \"/content/drive/My Drive/romeo.txt\"\n",
        "else:\n",
        "    name = \"/content/drive/My Drive/\" + file_name\n",
        "try:\n",
        "    exercise_handle = open(name)\n",
        "except:\n",
        "    print(\"Could not open \"+name)\n"
      ],
      "execution_count": null,
      "outputs": []
    },
    {
      "cell_type": "markdown",
      "metadata": {
        "id": "upxHLzDWaWOS"
      },
      "source": [
        "*Initial Code from Py4E Exercise 8.4*"
      ]
    },
    {
      "cell_type": "code",
      "metadata": {
        "id": "JSSMrtyPaZB1"
      },
      "source": [
        "# fname = input(\"Enter file name: \")   # no need for this - we hard-coded\n",
        "# fh = open(fname)  # no need for this because we opened exercise_handle\n",
        "lst = list()\n",
        "# for line in fh:    # replacing this with the following line\n",
        "for line in exercise_handle:    # using our exercise_handle instead of fh\n",
        "    print(line.rstrip())    # this line need to be indented into the for block"
      ],
      "execution_count": null,
      "outputs": []
    },
    {
      "cell_type": "markdown",
      "metadata": {
        "id": "fqt9J1khbLIi"
      },
      "source": [
        "We cleaned it up a bit to get it to work here in our notebook then indented the print() line to put it in the for block.  So far, we have a program which reads the file, strips off extra /n characters and prints each line of the file.  This has not broken the file down into a sorted list of words though."
      ]
    },
    {
      "cell_type": "code",
      "metadata": {
        "id": "PAphXJACcBnS"
      },
      "source": [
        "my_list = []                            # initialize an empty list\n",
        "for line in exercise_handle:\n",
        "    words = line.split()                # splits a line into a list of words\n",
        "    # print (\"The list words has:\", words)  # print the split into words\n",
        "    # go = input(\"Type enter to continue\")  # pause to look at print\n",
        "    for word in words:\n",
        "        if word in my_list:\n",
        "            continue                    # we do not want duplicates\n",
        "        my_list.append(word)            # add a new word to the list\n",
        "print(sorted(my_list))                  # sort in (sort of) alphabetical order"
      ],
      "execution_count": null,
      "outputs": []
    },
    {
      "cell_type": "markdown",
      "metadata": {
        "id": "KIHKWz98cuMU"
      },
      "source": [
        "What if we do not want to count upper case words as different from lower case words?"
      ]
    },
    {
      "cell_type": "code",
      "metadata": {
        "id": "nob9J0FVc2an"
      },
      "source": [
        "my_list = []                            # initialize an empty list\n",
        "for line in exercise_handle:\n",
        "    words = line.split()                # splits a line into a list of words\n",
        "    for word in words:\n",
        "        word = word.lower()             # remove redundancy from capitalization\n",
        "        if word in my_list:\n",
        "            continue                    # we do not want duplicates\n",
        "        my_list.append(word)            # add a new word to the list\n",
        "print(sorted(my_list, reverse=True))                  # sort in (better) alphabetical order"
      ],
      "execution_count": null,
      "outputs": []
    },
    {
      "cell_type": "markdown",
      "metadata": {
        "id": "QXw53YVIepRj"
      },
      "source": [
        "###**Exercise 8.5 (in Lesson 9, Lists)**"
      ]
    },
    {
      "cell_type": "markdown",
      "metadata": {
        "id": "K2T4EGPAes95"
      },
      "source": [
        "Open the file mbox-short.txt and read it line by line. When you find a line that starts with 'From ' like the following line:\n",
        "From stephen.marquard@uct.ac.za Sat Jan  5 09:14:16 2008\n",
        "You will parse the From line using split() and print out the second word in the line (i.e. the entire address of the person who sent the message). Then print out a count at the end.\n",
        "Hint: make sure not to include the lines that start with 'From:'. Also look at the last line of the sample output to see how to print the count.\n",
        "\n",
        "You can download the sample data at http://www.py4e.com/code3/mbox-short.txt"
      ]
    },
    {
      "cell_type": "markdown",
      "metadata": {
        "id": "J9kdihl2exoZ"
      },
      "source": [
        "The intended result from the program should be the output: stephen.marquard@uct.ac.za\n",
        "louis@media.berkeley.edu\n",
        "zqian@umich.edu\n",
        "rjlowe@iupui.edu\n",
        "zqian@umich.edu\n",
        "rjlowe@iupui.edu\n",
        "cwen@iupui.edu\n",
        "cwen@iupui.edu\n",
        "gsilver@umich.edu\n",
        "gsilver@umich.edu\n",
        "zqian@umich.edu\n",
        "gsilver@umich.edu\n",
        "wagnermr@iupui.edu\n",
        "zqian@umich.edu\n",
        "antranig@caret.cam.ac.uk\n",
        "gopal.ramasammycook@gmail.com\n",
        "david.horwitz@uct.ac.za\n",
        "david.horwitz@uct.ac.za\n",
        "david.horwitz@uct.ac.za\n",
        "david.horwitz@uct.ac.za\n",
        "stephen.marquard@uct.ac.za\n",
        "louis@media.berkeley.edu\n",
        "louis@media.berkeley.edu\n",
        "ray@media.berkeley.edu\n",
        "cwen@iupui.edu\n",
        "cwen@iupui.edu\n",
        "cwen@iupui.edu\n",
        "There were 27 lines in the file with From as the first word"
      ]
    },
    {
      "cell_type": "markdown",
      "metadata": {
        "id": "Da1mmr_NfSfY"
      },
      "source": [
        "If we do not have it mounted from earlier, we will want Google Drive mounted for access to the My Drive directory."
      ]
    },
    {
      "cell_type": "code",
      "metadata": {
        "id": "BRCJlGnGfeq2"
      },
      "source": [
        "from google.colab import drive\n",
        "drive.mount('/content/drive')"
      ],
      "execution_count": null,
      "outputs": []
    },
    {
      "cell_type": "markdown",
      "metadata": {
        "id": "snbltMHSfX9C"
      },
      "source": [
        "Then, we will open \"mbox-short.txt\" in the My Drive folder of Google Drive. No need to prompt the user about this."
      ]
    },
    {
      "cell_type": "code",
      "metadata": {
        "id": "cKpVuUpSfq7O"
      },
      "source": [
        "## SETUP - OPEN THE FILE USING MBOX-SHORT.TXT IN GOOGLE DRIVE\n",
        "file_name = \"mbox-short.txt\"\n",
        "# 'borrowing' the following code, though it is overkill\n",
        "if len(file_name) < 1:\n",
        "    name = \"/content/drive/My Drive/romeo.txt\"\n",
        "else:\n",
        "    name = \"/content/drive/My Drive/\" + file_name\n",
        "try:\n",
        "    exercise_handle = open(name)\n",
        "except:\n",
        "    print(\"Could not open \"+name)"
      ],
      "execution_count": null,
      "outputs": []
    },
    {
      "cell_type": "markdown",
      "metadata": {
        "id": "NAynS6j3e-HA"
      },
      "source": [
        "*Initial code from Py4E Exercise 8.5*"
      ]
    },
    {
      "cell_type": "code",
      "metadata": {
        "id": "60BGv1pSfGuD"
      },
      "source": [
        "# fname = input(\"Enter file name: \")   # no need for this - we hard-coded\n",
        "# if len(fname) < 1:                   # no need for this - we hard-coded\n",
        "#     fname = \"mbox-short.txt\"         # no need for this - we hard-coded\n",
        "\n",
        "# fh = open(fname)      # no need for this because we opened exercise_handle\n",
        "count = 0\n",
        "\n",
        "\n",
        "print(\"There were\", count, \"lines in the file with From as the first word\")\n"
      ],
      "execution_count": null,
      "outputs": []
    },
    {
      "cell_type": "markdown",
      "metadata": {
        "id": "j5vB3m2ygiUC"
      },
      "source": [
        "Well, that^ did not do much.  It is pretty much a 'Hello World' program with an integer value in the print. "
      ]
    },
    {
      "cell_type": "code",
      "metadata": {
        "id": "-mRnKHAWg0TE"
      },
      "source": [
        "count=0\n",
        "for line in exercise_handle:\n",
        "    words = line.split()\n",
        "    # print(words)\n",
        "    if len(words) < 3 or words[0] != 'From':\n",
        "        continue\n",
        "    # print(words)   # peek at the list words for From lines\n",
        "    print(words[1])\n",
        "    count += 1\n",
        "print('There were %d lines in the file with From as the first word' % count)"
      ],
      "execution_count": null,
      "outputs": []
    },
    {
      "cell_type": "markdown",
      "metadata": {
        "id": "asn7kWpthGjR"
      },
      "source": [
        "What further functionality could we add to this^ program?"
      ]
    },
    {
      "cell_type": "markdown",
      "metadata": {
        "id": "YDEasnKj0tBD"
      },
      "source": [
        "\n",
        "\n",
        "---\n",
        "\n"
      ]
    },
    {
      "cell_type": "markdown",
      "metadata": {
        "id": "W83ANpsrQWCv"
      },
      "source": [
        "## **10: Dictionaries - Exercises**"
      ]
    },
    {
      "cell_type": "markdown",
      "metadata": {
        "id": "woHJqkdVHp4u"
      },
      "source": [
        "### **Dictionary Exercise - Frequency of Words In a File (Lesson 10)**"
      ]
    },
    {
      "cell_type": "markdown",
      "source": [
        "Try the code in this section with one of the following files:    \n",
        "\n",
        "1. **Upload the Py4E exercise file \"romeo.txt\" to your Colab content area.  You can find the file here: [romeo.txt](https://bit.ly/romeo-txt)**            \n",
        "2. **Upload the Py4E exercise file \"romeo-full.txt\" to your Colab content area.  You can find the file here: [romeo-full.txt](https://bit.ly/romeo-full)**"
      ],
      "metadata": {
        "id": "cMu8t1I3R8yy"
      }
    },
    {
      "cell_type": "markdown",
      "metadata": {
        "id": "CenSBp1iQcOb"
      },
      "source": [
        "Here is a slightly revised version of the Python for Everybody exercise which uses a dictionary to count the frequency of words in a text file.  This version of the program will read file from Google My Drive and uses a string for the file path so that only the actual file name needs to be entered.  If the specified file is not in the My Drive directory then the file \"romeo.txt\" is used."
      ]
    },
    {
      "cell_type": "markdown",
      "metadata": {
        "id": "P7cy9ZMIH6C4"
      },
      "source": [
        "First: if it is not already mounted, mount \"My Drive\" Google drive so that the file romeo.txt may be referred to with the path and name \"/content/drive/My Drive/romeo.txt\""
      ]
    },
    {
      "cell_type": "code",
      "metadata": {
        "id": "Zuo_GZlrH2wE"
      },
      "source": [
        "from google.colab import drive\n",
        "drive.mount('/content/drive')"
      ],
      "execution_count": null,
      "outputs": []
    },
    {
      "cell_type": "markdown",
      "metadata": {
        "id": "XqgJf578IIHz"
      },
      "source": [
        "The following two options solve the problem through code to initialize missing keys or using the get method to do the same."
      ]
    },
    {
      "cell_type": "code",
      "metadata": {
        "id": "hhBu0XaaIZUq"
      },
      "source": [
        "## SETUP - OPEN THE FILE BASED ON USER SPECIFIED FILE NAME OR ROMEO.TXT\n",
        "file_name = input(\"Enter file:\")\n",
        "if len(file_name) < 1:\n",
        "    name = \"/content/drive/My Drive/romeo.txt\"\n",
        "    ## name = \"/content/drive/My Drive/romeo-full.txt\"\n",
        "else:\n",
        "    name = \"/content/drive/My Drive/\" + file_name\n",
        "try:\n",
        "    words_handle = open(name)\n",
        "except:\n",
        "    print(\"Could not open \"+name)\n"
      ],
      "execution_count": null,
      "outputs": []
    },
    {
      "cell_type": "code",
      "metadata": {
        "id": "yC2Fi0wvMH3k"
      },
      "source": [
        "## OPTION 1 WHICH INITIALIZES MISSING KEY|VALUE PAIRS THEN COUNTS\n",
        "\n",
        "words_di = dict()\n",
        "for line in words_handle :\n",
        "    line = line.rstrip()\n",
        "    # print(line)    # scaffolding to peek at line\n",
        "    words = line.split()\n",
        "    for word in words :\n",
        "        # print(words)   # scaffolding to peek at words\n",
        "        # idiom retrieve/create/update counter\n",
        "        if word in words_di :\n",
        "            words_di[word] = words_di[word] + 1\n",
        "            # print('**Existing**')  # scaffolding to see flow\n",
        "        else :\n",
        "            words_di[word] = 1\n",
        "            # print('**New**')  # scaffolding to see flow\n",
        "\n",
        "        # print(word, \"updated\", words_di[word]) # scaffolding\n",
        "\n",
        "# go = input(\"Type enter to continue\")    # Scaffolding to pause flow\n",
        "print(words_di)        # scaffolding to peek at word_di"
      ],
      "execution_count": null,
      "outputs": []
    },
    {
      "cell_type": "code",
      "metadata": {
        "id": "0mfc0gaPJ8nQ"
      },
      "source": [
        "## OPTION 2 WHICH USES THE GET METHOD\n",
        "words_di = dict()\n",
        "for line in words_handle :\n",
        "    line = line.rstrip()\n",
        "    # print(line)    # scaffolding to peek at line\n",
        "    words = line.split()\n",
        "    # print(words)   # scaffolding to peek at words\n",
        "    for word in words :\n",
        "        word = word.lower()\n",
        "        # idiom retrieve/create/update counter\n",
        "        words_di[word] = words_di.get(word, 0) + 1\n",
        "        # print(word, \"updated\", words_di[word]) # Scaffolding\n",
        "\n",
        "# input(\"Type enter to continue\")    # scaffolding to pause flow\n",
        "print(words_di)     # scaffolding to peek at word_di"
      ],
      "execution_count": null,
      "outputs": []
    },
    {
      "cell_type": "markdown",
      "metadata": {
        "id": "rfyynYEGMPjN"
      },
      "source": [
        "What if we wanted to know the top-five most frequently used words in the file read? "
      ]
    },
    {
      "cell_type": "code",
      "metadata": {
        "id": "fWBXJLkLPLS6"
      },
      "source": [
        "## Find the words (keys) of the most frequently used words in the words_di dictionary\n",
        "print(max(words_di, key=words_di.get))\n",
        "# Using the max function^ only gives us one result"
      ],
      "execution_count": null,
      "outputs": []
    },
    {
      "cell_type": "code",
      "metadata": {
        "id": "zpdYkm00Q5P2"
      },
      "source": [
        "## Find the words (keys) of the most frequently used words in the words_di dictionary\n",
        "# We can create a list of the words (keys) which is sorted in descending order of frequency\n",
        "most_to_least = sorted(words_di, key=words_di.get, reverse=True)\n",
        "print(most_to_least[:5])\n",
        "# Printing the first five elements of that list^ only gives us the keys"
      ],
      "execution_count": null,
      "outputs": []
    },
    {
      "cell_type": "code",
      "metadata": {
        "id": "RYx_vEh4RbtW"
      },
      "source": [
        "## Find the words (keys) of the most frequently used words in the words_di dictionary\n",
        "print(most_to_least)    # scaffolding to look at the most_to_least list (not a dictionary)"
      ],
      "execution_count": null,
      "outputs": []
    },
    {
      "cell_type": "code",
      "metadata": {
        "id": "XCZakUsKRt3S"
      },
      "source": [
        "## Find the words (keys) of the most frequently used words in the words_di dictionary\n",
        "# We can use the list of words (keys) by descending frequency to access dictionary pairs\n",
        "for frequent_word in most_to_least[:5] :\n",
        "    print(frequent_word, words_di[frequent_word])\n"
      ],
      "execution_count": null,
      "outputs": []
    },
    {
      "cell_type": "markdown",
      "metadata": {
        "id": "p5lxMSK2HoLt"
      },
      "source": [
        "\n",
        "\n",
        "---\n",
        "\n"
      ]
    },
    {
      "cell_type": "markdown",
      "metadata": {
        "id": "8ddFf1b6AzBM"
      },
      "source": [
        "*Tip: Here is a routine to find the maximum value in a dictionary and print the associated key and value.*"
      ]
    },
    {
      "cell_type": "code",
      "metadata": {
        "id": "SoHzL_dPA9K2"
      },
      "source": [
        "a_dictionary = {\"a\": (9, 1, 5), 99: (2, 5, 7), \"c\": (9, 9)}\n",
        "\n",
        "max_key = max(a_dictionary, key=a_dictionary.get) # get key with max value\n",
        "\n",
        "# print(max_key)    # scaffolding to peek at the integer value max_key\n",
        "print(max_key, a_dictionary[max_key])\n"
      ],
      "execution_count": null,
      "outputs": []
    },
    {
      "cell_type": "markdown",
      "metadata": {
        "id": "HqxfyT9ry2AA"
      },
      "source": [
        "Same concept but with mixed classes for keys and tuples for values"
      ]
    },
    {
      "cell_type": "code",
      "metadata": {
        "id": "N2tn9KUQyy0A"
      },
      "source": [
        "a_dictionary = {\"a\": (9, 1, 5), 99: (2, 5, 7), \"c\": (9, 9)}\n",
        "\n",
        "max_key = max(a_dictionary, key=a_dictionary.get) # get key with max value\n",
        "\n",
        "# print(max_key)    # scaffolding to peek at the integer value max_key\n",
        "print(max_key, a_dictionary[max_key])\n"
      ],
      "execution_count": null,
      "outputs": []
    },
    {
      "cell_type": "markdown",
      "metadata": {
        "id": "HKk5wor0RJB5"
      },
      "source": [
        "###**Exercise 9.4 (in Lesson 10, Dictionaries)**"
      ]
    },
    {
      "cell_type": "markdown",
      "metadata": {
        "id": "UfSLno_YRO4o"
      },
      "source": [
        "Write a program to read through the **mbox-short.txt** and figure out who has sent the greatest number of mail messages. The program looks for `From ` lines and takes the second word of those lines as the person who sent the mail. The program creates a Python dictionary that maps the sender's mail address to a count of the number of times they appear in the file. After the dictionary is produced, the program reads through the dictionary using a maximum loop to find the most prolific committer."
      ]
    },
    {
      "cell_type": "markdown",
      "metadata": {
        "id": "c2z8LiGLRT3C"
      },
      "source": [
        "Desired output: cwen@iupui.edu 5"
      ]
    },
    {
      "cell_type": "markdown",
      "metadata": {
        "id": "QwX3thYXSm-7"
      },
      "source": [
        "First: mount \"My Drive\" Google drive so that the file mbox-short.txt may be referred to with the path and name \"/content/drive/My Drive/mbox-short.txt\"\n"
      ]
    },
    {
      "cell_type": "code",
      "metadata": {
        "id": "5eU_s-_ARu_0"
      },
      "source": [
        "from google.colab import drive\n",
        "drive.mount('/content/drive')"
      ],
      "execution_count": null,
      "outputs": []
    },
    {
      "cell_type": "markdown",
      "metadata": {
        "id": "_Nl89wItRcRx"
      },
      "source": [
        "*Initial Code from Py4E Exercise 9.4*"
      ]
    },
    {
      "cell_type": "code",
      "metadata": {
        "id": "kMry-d_xRZE8"
      },
      "source": [
        "name = input(\"Enter file:\")\n",
        "if len(name) < 1:\n",
        "    name = \"/content/drive/My Drive/mbox-short.txt\"\n",
        "mail_handle = open(name)"
      ],
      "execution_count": null,
      "outputs": []
    },
    {
      "cell_type": "markdown",
      "metadata": {
        "id": "kh42n4gyS4vU"
      },
      "source": [
        "Now, complete the exercise with the required code.  The following two options solve the problem through code to initialize missing keys or using the get method to do the same."
      ]
    },
    {
      "cell_type": "code",
      "metadata": {
        "id": "BHKyJiAQS99K"
      },
      "source": [
        "## STARTUP - USE A FOR LOOP TO PROCESS LINES AS A STRING OF ELEMENTS\n",
        "from_counts = dict()\n",
        "for mail_line in mail_handle:\n",
        "    line_elements = mail_line.split()\n",
        "    # print(line_elements)   # scaffolding to peek at line_elements\n",
        "    # input(\"Type enter to continue\")  # scaffolding to pause flow\n",
        "\n",
        "\n",
        "## OPTION 1 WHICH INITIALIZES MISSING KEY|VALUE PAIRS THEN COUNTS\n",
        "    if len(line_elements) < 2 or line_elements[0] != 'From':\n",
        "        continue\n",
        "\n",
        "    if line_elements[1] not in from_counts:\n",
        "        from_counts[line_elements[1]] = 1       # First entry\n",
        "              \n",
        "    else:\n",
        "        from_counts[line_elements[1]] += 1     # Additional counts\n",
        "\n",
        "    # print(from_counts)   # scaffolding to peek at from_counts\n",
        "    # input(\"Press enter to continue\")  # scaffolding to pause flow\n",
        "\n",
        "\n",
        "\n",
        "## WRAP-UP - FIND THE MAXIMUM VALUE AND PRINT ITS KEY|VALUE PAIRS\n",
        "max_key = max(from_counts, key=from_counts.get) # get key with max value\n",
        "print(max_key, from_counts[max_key])"
      ],
      "execution_count": null,
      "outputs": []
    },
    {
      "cell_type": "markdown",
      "metadata": {
        "id": "DSw9DOFFyWuA"
      },
      "source": [
        "Print each key/value pair in the dictionary."
      ]
    },
    {
      "cell_type": "code",
      "metadata": {
        "id": "TAgjrmHLqysa"
      },
      "source": [
        "for key in from_counts:\n",
        "    print(key, from_counts[key])"
      ],
      "execution_count": null,
      "outputs": []
    },
    {
      "cell_type": "markdown",
      "metadata": {
        "id": "rmYCYLdxygk1"
      },
      "source": [
        "Approach the same problem using the get method"
      ]
    },
    {
      "cell_type": "code",
      "metadata": {
        "id": "xVpTzCoMDvfN"
      },
      "source": [
        "from_counts = dict()\n",
        "## STARTUP - USE A FOR LOOP TO PROCESS LINES AS A STRING OF ELEMENTS\n",
        "for mail_line in mail_handle:\n",
        "    line_elements = mail_line.split()\n",
        "    # print(line_elements)   # scaffolding to peek at line_elements\n",
        "    # input(\"Type enter to continue\")  # scaffolding to pause flow\n",
        "\n",
        "## OPTION 2 WHICH USES THE GET METHOD\n",
        "    try: \n",
        "        if line_elements[0] == \"From\" :\n",
        "            sender = line_elements[1]\n",
        "            from_counts[sender] = from_counts.get(sender, 0) + 1\n",
        "    except:\n",
        "        continue\n",
        "\n",
        "    # print(from_counts)   # scaffolding to peek at from_counts\n",
        "    # input(\"Press enter to continue\")  # scaffolding to pause flow\n",
        "\n",
        "\n",
        "## WRAP-UP - FIND THE MAXIMUM VALUE AND PRINT ITS KEY|VALUE PAIRS\n",
        "max_key = max(from_counts, key=from_counts.get) # get key with max value\n",
        "print(max_key, from_counts[max_key])"
      ],
      "execution_count": null,
      "outputs": []
    },
    {
      "cell_type": "code",
      "metadata": {
        "id": "zTbKl7_9eQ68"
      },
      "source": [
        "print(from_counts)  # a little hip-pocket scaffolding to peek at the dictionary"
      ],
      "execution_count": null,
      "outputs": []
    },
    {
      "cell_type": "markdown",
      "metadata": {
        "id": "rQVck4POa3GB"
      },
      "source": [
        "\n",
        "\n",
        "---\n",
        "\n"
      ]
    },
    {
      "cell_type": "markdown",
      "metadata": {
        "id": "gmXQK4s-7GWT"
      },
      "source": [
        "## **11. Tuples - Exercises**"
      ]
    },
    {
      "cell_type": "markdown",
      "metadata": {
        "id": "yH0miMjrBU8u"
      },
      "source": [
        "###**Exercise 10.5 (in Lesson 11. Tuples)**"
      ]
    },
    {
      "cell_type": "markdown",
      "metadata": {
        "id": "VyGwH6FIBe4j"
      },
      "source": [
        "The following simple exercise demonstrates the use of the dictionary method items to return a list of tuples which are each comprised of the key and value of each key|value pair. "
      ]
    },
    {
      "cell_type": "code",
      "metadata": {
        "id": "5rvjPVZrBt2z"
      },
      "source": [
        "d = {'a':10, 'b':1, 'c':22}\n",
        "\n",
        "for key, val in list(d.items()):\n",
        "    print(val, key)"
      ],
      "execution_count": null,
      "outputs": []
    },
    {
      "cell_type": "markdown",
      "metadata": {
        "id": "Vy4VdF5CB8cG"
      },
      "source": [
        "We can print out the contents of a dictionary sorted by the value stored in each key-value pair in descending order.\n",
        "\n",
        "To do this, we first make a list of tuples where each tuple is (value, key). The items method would give us a list of (key, value) tuples, but this time we want to sort by value, not key. Once we have constructed the list with the value-key tuples, it is a simple matter to sort the list in reverse order and print out the new, sorted list."
      ]
    },
    {
      "cell_type": "code",
      "metadata": {
        "id": "6SuPXLlxCEKS"
      },
      "source": [
        "my_dictionary = {'a':10, 'b':1, 'c':22}\n",
        "my_list = list()\n",
        "\n",
        "# the following for loop processes each key|value pair\n",
        "# they are added as the tuple (value, key) to my_list\n",
        "for the_key, the_val in my_dictionary.items() :\n",
        "    my_list.append( (the_val, the_key) )\n",
        "\n",
        "print(\"Printing the list of tuples before sorting\")\n",
        "print(my_list)\n",
        "print()\n",
        "my_list.sort(reverse=True)    # sort in descending order\n",
        "print(\"Printing the list of tuples after sorting\")\n",
        "print(my_list)\n",
        "print()"
      ],
      "execution_count": null,
      "outputs": []
    },
    {
      "cell_type": "markdown",
      "metadata": {
        "id": "ohF_RAZH_okg"
      },
      "source": [
        "###**Exercise 10.6 (in Lesson 11, Tuples)**"
      ]
    },
    {
      "cell_type": "markdown",
      "metadata": {
        "id": "_WGAzuiy7Sms"
      },
      "source": [
        "First: if it is not already mounted, mount \"My Drive\" Google drive so that the file romeo-full.txt may be referred to with the path and name \"/content/drive/My Drive/romeo-full.txt\""
      ]
    },
    {
      "cell_type": "code",
      "metadata": {
        "id": "qWPBR6D7_HPV"
      },
      "source": [
        "from google.colab import drive\n",
        "drive.mount('/content/drive')"
      ],
      "execution_count": null,
      "outputs": []
    },
    {
      "cell_type": "markdown",
      "metadata": {
        "id": "q2ptivO7_Muh"
      },
      "source": [
        "Now we can open a handle to the file romeo-full.txt in /content/drive/My Drive."
      ]
    },
    {
      "cell_type": "code",
      "metadata": {
        "id": "wZpxkqRM_WLm"
      },
      "source": [
        "## SETUP - OPEN THE FILE BASED ON USER SPECIFIED FILE NAME OR ROMEO-FULL.TXT\n",
        "file_name = input(\"Enter file:\")\n",
        "if len(file_name) < 1:\n",
        "    name = \"/content/drive/My Drive/romeo-full.txt\"\n",
        "else:\n",
        "    name = \"/content/drive/My Drive/\" + file_name\n",
        "try:\n",
        "    txt_handle = open(name)\n",
        "except:\n",
        "    print(\"Could not open \"+name)"
      ],
      "execution_count": null,
      "outputs": []
    },
    {
      "cell_type": "markdown",
      "metadata": {
        "id": "h_7Q0EYz_k9i"
      },
      "source": [
        "We can use the following code to process the file and count words using tuples."
      ]
    },
    {
      "cell_type": "code",
      "metadata": {
        "id": "dwAg9DHy_6U-"
      },
      "source": [
        "# this code uses objects from the string module\n",
        "import string\n",
        "# fhand = open('romeo-full.txt')   # we already have txt_handle open\n",
        "counts = dict()\n",
        "for line in txt_handle:\n",
        "    line = line.translate(str.maketrans('', '', string.punctuation))\n",
        "    line = line.lower()\n",
        "    words = line.split()\n",
        "    for word in words:\n",
        "        if word not in counts:\n",
        "            counts[word] = 1\n",
        "        else:\n",
        "            counts[word] += 1\n",
        "\n",
        "# Use dictionary items to buld a list of tuples as in exercise 10.5 earlier\n",
        "lst = list()\n",
        "for key, val in list(counts.items()):\n",
        "    lst.append((val, key))\n",
        "\n",
        "# Sort the dictionary by decreasing value as in exercise 10.5 earlier\n",
        "lst.sort(reverse=True)\n",
        "\n",
        "# Use a for loop to print the first ten tuple values\n",
        "for key, val in lst[:10]:\n",
        "    print(key, val)"
      ],
      "execution_count": null,
      "outputs": []
    },
    {
      "cell_type": "markdown",
      "metadata": {
        "id": "GTxmZ0FxGHom"
      },
      "source": [
        "###**Exercise 10.2 (from Lesson 11, Tuples)**\n",
        "\n",
        "\n"
      ]
    },
    {
      "cell_type": "markdown",
      "metadata": {
        "id": "aAKAiYNKGN0f"
      },
      "source": [
        "*Exercises 10.5, and 10.6 above are examples used in the lesson.  The following exercise 10.2 is the chapter assignment for Lesson 11, Tuples.*"
      ]
    },
    {
      "cell_type": "markdown",
      "metadata": {
        "id": "-ZjhPhISGe8k"
      },
      "source": [
        "Write a program to read through the mbox-short.txt and figure out the distribution by hour of the day for each of the messages. You can pull the hour out from the 'From ' line by finding the time and then splitting the string a second time using a colon.\n",
        "From stephen.marquard@uct.ac.za Sat Jan  5 09:14:16 2008\n",
        "Once you have accumulated the counts for each hour, print out the counts, sorted by hour as shown below."
      ]
    },
    {
      "cell_type": "markdown",
      "metadata": {
        "id": "ece3EStsGqna"
      },
      "source": [
        "The intended result is output of the following list of tuples: (04, 3),\n",
        "(06, 1),\n",
        "(07, 1),\n",
        "(09, 2),\n",
        "(10, 3),\n",
        "(11, 6),\n",
        "(14, 1),\n",
        "(15, 2),\n",
        "(16, 4),\n",
        "(17, 2),\n",
        "(18, 1),\n",
        "(19, 1); but each tuple should print unformatted as one integer followed by the other integer then a new line before the next tuple in the list. "
      ]
    },
    {
      "cell_type": "markdown",
      "metadata": {
        "id": "r5TdvvucHd2I"
      },
      "source": [
        "*Initial code from Py4E exercise 10.2*"
      ]
    },
    {
      "cell_type": "code",
      "metadata": {
        "id": "kefR_FujHiqh"
      },
      "source": [
        "name = input(\"Enter file:\")\n",
        "if len(name) < 1:\n",
        "    name = \"mbox-short.txt\"\n",
        "handle = open(name)"
      ],
      "execution_count": null,
      "outputs": []
    },
    {
      "cell_type": "markdown",
      "metadata": {
        "id": "FBEpJvWhHoFc"
      },
      "source": [
        "Well, we know that we do not need to start with any of the initial code if we are going to work in Colab with a file from My Drive in Google Drive.  Let's start with mounting Google Drive then opening a handle f or the mbox-short.txt file."
      ]
    },
    {
      "cell_type": "code",
      "metadata": {
        "id": "p2z1ZRDUIA4J"
      },
      "source": [
        "from google.colab import drive\n",
        "drive.mount('/content/drive')"
      ],
      "execution_count": null,
      "outputs": []
    },
    {
      "cell_type": "code",
      "metadata": {
        "id": "bbSYU1Z9IB6a"
      },
      "source": [
        "name = input(\"Enter file:\")\n",
        "if len(name) < 1:\n",
        "    name = \"/content/drive/My Drive/mbox-short.txt\"\n",
        "mail_handle = open(name)"
      ],
      "execution_count": null,
      "outputs": []
    },
    {
      "cell_type": "markdown",
      "metadata": {
        "id": "ILpSyqNFIIbb"
      },
      "source": [
        "Next, we need to process each desired line (\"From\" lines) and extract the hour of the day using the split string method.  Then populate a list of the dictionary items as tuples and sort that list for printing."
      ]
    },
    {
      "cell_type": "code",
      "metadata": {
        "id": "2vPqkRYZKcJ-"
      },
      "source": [
        "# initialize a dictionary and a list (for the tuples)\n",
        "dictionary_hours = dict()\n",
        "lst = list()\n",
        "\n",
        "for line in mail_handle:\n",
        "    words = line.split()\n",
        "    if len(words) < 2 or words[0] != 'From':\n",
        "        continue\n",
        "\n",
        "    col_pos = words[5].find(':')\n",
        "    hour = words[5][:col_pos]\n",
        "    if hour not in dictionary_hours:\n",
        "        dictionary_hours[hour] = 1      # First entry\n",
        "    else:\n",
        "        dictionary_hours[hour] += 1     # Additional counts\n",
        "\n",
        "for key, val in list(dictionary_hours.items()):\n",
        "    lst.append((key, val))              # Fills list with hour, count of dict\n",
        "\n",
        "lst.sort()                              # Sorts by hour\n",
        "\n",
        "for key, val in lst:\n",
        "    print(key, val)"
      ],
      "execution_count": null,
      "outputs": []
    },
    {
      "cell_type": "markdown",
      "metadata": {
        "id": "Whzk190eNQsd"
      },
      "source": [
        "\n",
        "\n",
        "---\n",
        "\n"
      ]
    },
    {
      "cell_type": "markdown",
      "metadata": {
        "id": "AbjMYlFWayUa"
      },
      "source": [
        "# <center><font color=\"blue\"><u>*Review Material Follows*</u></font></center>   "
      ]
    },
    {
      "cell_type": "markdown",
      "metadata": {
        "id": "jDNjUZP2a06O"
      },
      "source": [
        "\n",
        "\n",
        "---\n",
        "\n"
      ]
    },
    {
      "cell_type": "markdown",
      "source": [
        "## <font color=\"blue\">**9. Lists - Review Material**</font>       "
      ],
      "metadata": {
        "id": "OJW0nbSgMlS9"
      }
    },
    {
      "cell_type": "markdown",
      "metadata": {
        "id": "E6Ut7UaNNmIG"
      },
      "source": [
        "### Most Common Words in a File (Using a List)    \n",
        "**Finding the top 10 most common words.**    "
      ]
    },
    {
      "cell_type": "markdown",
      "metadata": {
        "id": "F489pubeOWB7"
      },
      "source": [
        "First, be sure to have access to the file romeo.txt."
      ]
    },
    {
      "cell_type": "code",
      "metadata": {
        "id": "KEXi3F2F-Ows"
      },
      "source": [
        "from google.colab import drive\n",
        "drive.mount('/content/gdrive')"
      ],
      "execution_count": null,
      "outputs": []
    },
    {
      "cell_type": "markdown",
      "metadata": {
        "id": "L5j4lCRSOaO-"
      },
      "source": [
        "Then open romeo.txt with the handle fhand and follow the Python for Everybody example."
      ]
    },
    {
      "cell_type": "code",
      "metadata": {
        "id": "WhLRrz26OIab"
      },
      "source": [
        "fhand = open(\"/content/gdrive/My Drive/romeo.txt\")"
      ],
      "execution_count": null,
      "outputs": []
    },
    {
      "cell_type": "code",
      "metadata": {
        "id": "9HMAVJDHNnYa"
      },
      "source": [
        "# fhand = open('romeo.txt') -->> see the Google Drive open above\n",
        "counts = {}\n",
        "for line in fhand:\n",
        "    words = line.split()\n",
        "    for word in words:\n",
        "        counts[word] = counts.get(word, 0 ) + 1\n",
        "\n",
        "lst = []\n",
        "for key, val in counts.items():\n",
        "    newtup = (val, key) \n",
        "    lst.append(newtup)\n",
        "\n",
        "lst = sorted(lst, reverse=True)\n",
        "\n",
        "for val, key in lst[:10] :\n",
        "    print(key, val)"
      ],
      "execution_count": null,
      "outputs": []
    },
    {
      "cell_type": "markdown",
      "source": [
        "#### With List Comprehension    "
      ],
      "metadata": {
        "id": "ElFanbn8MZNo"
      }
    },
    {
      "cell_type": "markdown",
      "metadata": {
        "id": "AmSpCzwCPrjS"
      },
      "source": [
        "... an even shorter version ..."
      ]
    },
    {
      "cell_type": "code",
      "metadata": {
        "id": "yhloDh3FPvYg"
      },
      "source": [
        "c = {'a':10, 'b':1, 'c':22}\n",
        "print( sorted( [ (v,k) for k,v in c.items() ] ) )"
      ],
      "execution_count": null,
      "outputs": []
    },
    {
      "cell_type": "markdown",
      "metadata": {
        "id": "1quOGK1WP5nk"
      },
      "source": [
        "List comprehension creates a dynamic list.  In the exanple above, we make a list of reversed tuples and then sort it.\n",
        "http://wiki.python.org/moin/HowTo/Sorting\n"
      ]
    },
    {
      "cell_type": "markdown",
      "metadata": {
        "id": "eZ7ksr9iQMv3"
      },
      "source": [
        "\n",
        "\n",
        "---\n",
        "\n"
      ]
    },
    {
      "cell_type": "markdown",
      "metadata": {
        "id": "-xyPTyugQOL0"
      },
      "source": [
        "*Thanks for Charles Severance and his work Python for Everybody (py4e.com)*"
      ]
    },
    {
      "cell_type": "markdown",
      "source": [
        "\n",
        "\n",
        "---\n",
        "\n"
      ],
      "metadata": {
        "id": "CD8X31SQKmVz"
      }
    },
    {
      "cell_type": "markdown",
      "metadata": {
        "id": "awdSPVruxjX-"
      },
      "source": [
        "## <font color=\"blue\">**10: Dictionaries - Review Material**</font>"
      ]
    },
    {
      "cell_type": "markdown",
      "metadata": {
        "id": "ru_tZlDtqBFM"
      },
      "source": [
        "Lists index their entries based on the position in the list\n",
        "Dictionaries are like bags - no order\n",
        "So we index the things we put in the dictionary with a “lookup tag” called the \"key\".  Each key is unique.  Each key is associated with a value, which can be any data type, including lists, or other dictionaries.  Values in a dictionary need not be unique.\n"
      ]
    },
    {
      "cell_type": "code",
      "metadata": {
        "id": "q2ZdVpggpzH0"
      },
      "source": [
        "purse = dict()\n",
        "purse['money'] = 12\n",
        "purse['candy'] = 3\n",
        "purse['tissues'] = 75"
      ],
      "execution_count": null,
      "outputs": []
    },
    {
      "cell_type": "markdown",
      "metadata": {
        "id": "8dVvHfYPqwSm"
      },
      "source": [
        "After creating an empty dictionary we can add key|value pairs to that dictionary.  Then we can process the dictionary with Python statements and expressions."
      ]
    },
    {
      "cell_type": "code",
      "metadata": {
        "id": "TjcAj0tkq8_L"
      },
      "source": [
        "print(purse)\n",
        "print(purse['candy'])\n",
        "print(\"Here are the purse dictionary key|value pairs: \", purse)"
      ],
      "execution_count": null,
      "outputs": []
    },
    {
      "cell_type": "markdown",
      "metadata": {
        "id": "x5gKYn2SsREc"
      },
      "source": [
        "Dictionary literals use curly braces and have a list of key : value pairs\n",
        "You can make an empty dictionary using empty curly braces\n"
      ]
    },
    {
      "cell_type": "code",
      "metadata": {
        "id": "vli0QdJksT4q"
      },
      "source": [
        "# Dictionary jjj with strings as keys\n",
        "jjj = { 'chuck' : 1 , 'fred' : 42, 'jan': 100}\n",
        "print(jjj)\n",
        "# Empty dictionary ooo\n",
        "ooo = { }\n",
        "print(ooo)"
      ],
      "execution_count": null,
      "outputs": []
    },
    {
      "cell_type": "markdown",
      "metadata": {
        "id": "7z2jF2nzsyiH"
      },
      "source": [
        "One common use of dictionaries is counting how often we “see” something.  We use the category item as a key and keep an integer counter as the value."
      ]
    },
    {
      "cell_type": "code",
      "metadata": {
        "id": "6duVrQa6s0MP"
      },
      "source": [
        "ccc = dict()\n",
        "ccc['csev'] = 1\n",
        "ccc['cwen'] = 1\n",
        "print(ccc)\n",
        "# Dictionary values can be used in expressions\n",
        "ccc['cwen'] = ccc['cwen'] + 1\n",
        "print(ccc)"
      ],
      "execution_count": null,
      "outputs": []
    },
    {
      "cell_type": "markdown",
      "metadata": {
        "id": "JO-RKyeatYta"
      },
      "source": [
        "The pattern of checking to see if a key is already in a dictionary and assuming a default value if the key is not there is so common that there is a method called get() that does this for us.  Let's setup a dictionary first, then check for a key with get.\n"
      ]
    },
    {
      "cell_type": "code",
      "metadata": {
        "id": "1ylILH2NuZTV"
      },
      "source": [
        "counts = dict()\n",
        "names = ['csev', 'cwen', 'csev', 'zqian', 'cwen']\n",
        "for name in names :\n",
        "    if name not in counts: \n",
        "        counts[name] = 1\n",
        "    else :\n",
        "        counts[name] = counts[name] + 1\n",
        "print(counts)\n"
      ],
      "execution_count": null,
      "outputs": []
    },
    {
      "cell_type": "markdown",
      "metadata": {
        "id": "0gaDhqemudmF"
      },
      "source": [
        "Using the counts dictionary, let's create a function which uses the get statement then we can call the function and print the result in the variable x."
      ]
    },
    {
      "cell_type": "code",
      "metadata": {
        "id": "bj_AUUuitaWW"
      },
      "source": [
        "# Create a function using dictionary get to check for a key\n",
        "if name in counts:\n",
        "    x = counts[name]\n",
        "else :\n",
        "    x = 0\n",
        "# Call the function with a key as an argument\n",
        "x = counts.get(name, 0)\n",
        "# Print the resulting value returned and stored in x\n",
        "print(x)\n",
        "print(counts)"
      ],
      "execution_count": null,
      "outputs": []
    },
    {
      "cell_type": "markdown",
      "metadata": {
        "id": "HESCxVhLvQU3"
      },
      "source": [
        "Simplified Counting: We can use get() and provide a default value of zero when the key is not yet in the dictionary - and then just add one to keep a count of instances of each key in a list.  Did we just create a word-count function?"
      ]
    },
    {
      "cell_type": "code",
      "metadata": {
        "id": "BSVjSCCCvWmi"
      },
      "source": [
        "counts = dict()\n",
        "names = ['csev', 'cwen', 'csev', 'zqian', 'cwen']\n",
        "for name in names :\n",
        "    counts[name] = counts.get(name, 0) + 1\n",
        "print(counts)"
      ],
      "execution_count": null,
      "outputs": []
    },
    {
      "cell_type": "markdown",
      "metadata": {
        "id": "udMpbGOKv2rw"
      },
      "source": [
        "Let's create a means of counting words entered by the user.  The general pattern to count the words in a line of text is to split the line into words, then loop through the words and use a dictionary to track the count of each word independently.  (Please note that the following example is case-sensitive.)\n"
      ]
    },
    {
      "cell_type": "code",
      "metadata": {
        "id": "0c7g8ywxwSzr"
      },
      "source": [
        "counts = dict()\n",
        "print('Enter a line of text:')\n",
        "line = input('')\n",
        "\n",
        "words = line.split()\n",
        "\n",
        "print('Words:', words)\n",
        "\n",
        "print('Counting...')\n",
        "for word in words:\n",
        "    counts[word] = counts.get(word,0) + 1\n",
        "print('Counts', counts)"
      ],
      "execution_count": null,
      "outputs": []
    },
    {
      "cell_type": "markdown",
      "metadata": {
        "id": "RxV4BoTOwvij"
      },
      "source": [
        "Definite Loops and Dictionaries: Even though dictionaries are not stored in order, we can write a for loop that goes through all the entries in a dictionary - actually it goes through all of the keys in the dictionary and looks up the values."
      ]
    },
    {
      "cell_type": "code",
      "metadata": {
        "id": "Ev8EqY5Hw3Iy"
      },
      "source": [
        "counts = { 'chuck' : 1 , 'fred' : 42, 'jan': 100}\n",
        "for key in counts:\n",
        "    print(key, counts[key])"
      ],
      "execution_count": null,
      "outputs": []
    },
    {
      "cell_type": "markdown",
      "metadata": {
        "id": "hvnTV61WxGSb"
      },
      "source": [
        "You can get a list of keys, values, or items (both) from a dictionary.  When we have multiple values together as an object, we refer to that object as a tuple."
      ]
    },
    {
      "cell_type": "code",
      "metadata": {
        "id": "E2G3miIVxH9L"
      },
      "source": [
        "jjj = { 'chuck' : 1 , 'fred' : 42, 'jan': 100}\n",
        "print(list(jjj))\n",
        "\n",
        "print(list(jjj.keys()))\n",
        "print(list(jjj.values()))\n",
        "print(list(jjj.items()))"
      ],
      "execution_count": null,
      "outputs": []
    },
    {
      "cell_type": "markdown",
      "metadata": {
        "id": "rz8i7wox0qqE"
      },
      "source": [
        "\n",
        "\n",
        "---\n",
        "\n"
      ]
    },
    {
      "cell_type": "markdown",
      "metadata": {
        "id": "ya0hHNH00vJs"
      },
      "source": [
        "## <font color=\"blue\">**11: Tuples - Review Material**</font>"
      ]
    },
    {
      "cell_type": "markdown",
      "metadata": {
        "id": "suPAtThG04Al"
      },
      "source": [
        "Tuples are like lists. Tuples are another kind of sequence that functions much like a list - they have elements which are indexed starting at 0.\n"
      ]
    },
    {
      "cell_type": "code",
      "metadata": {
        "id": "jEGLQS7n1lRv"
      },
      "source": [
        "# Create a list and print an element of the list\n",
        "x = ('Glenn', 'Sally', 'Joseph')\n",
        "print(x[2])\n",
        "\n",
        "# Create a tuple\n",
        "y = ( 1, 9, 2 )\n",
        "#Print the tuple\n",
        "print(y)\n",
        "# Print the max of the tuple\n",
        "print(max(y))"
      ],
      "execution_count": null,
      "outputs": []
    },
    {
      "cell_type": "markdown",
      "metadata": {
        "id": "s6iMChRAJ6Tj"
      },
      "source": [
        "### 11(10).1 Tuples are immutable"
      ]
    },
    {
      "cell_type": "code",
      "execution_count": null,
      "metadata": {
        "id": "rqS9n2t1J6Tk"
      },
      "outputs": [],
      "source": [
        "# Syntactically, a tuple is a comma-separated list of values:\n",
        "t = 'a', 'b', 'c', 'd', 'e'"
      ]
    },
    {
      "cell_type": "code",
      "source": [
        "print(type(t))"
      ],
      "metadata": {
        "id": "4KBd1ClRQVRK"
      },
      "execution_count": null,
      "outputs": []
    },
    {
      "cell_type": "code",
      "execution_count": null,
      "metadata": {
        "id": "p6I8X0X_J6Tl"
      },
      "outputs": [],
      "source": [
        "# enclose tuples in parentheses to identify easily\n",
        "t = ('a', 'b', 'c', 'd', 'e')"
      ]
    },
    {
      "cell_type": "code",
      "execution_count": null,
      "metadata": {
        "id": "7qt1Dgr-J6Tl"
      },
      "outputs": [],
      "source": [
        "# create a tuple with a single element\n",
        "t1 = ('a',)  # End a element by ','\n",
        "type(t1)"
      ]
    },
    {
      "cell_type": "code",
      "execution_count": null,
      "metadata": {
        "id": "8Ia5ZYrzJ6Tn"
      },
      "outputs": [],
      "source": [
        "t2 = ('a')\n",
        "type(t2)"
      ]
    },
    {
      "cell_type": "code",
      "source": [
        "t_not_3 = (1) * (2*3)\n",
        "type(t_not_3)"
      ],
      "metadata": {
        "id": "_71FGf5mQ0b1"
      },
      "execution_count": null,
      "outputs": []
    },
    {
      "cell_type": "code",
      "execution_count": null,
      "metadata": {
        "id": "nCkRvHJCJ6To"
      },
      "outputs": [],
      "source": [
        "# built-in function tuple\n",
        "t = tuple()\n",
        "print(t)"
      ]
    },
    {
      "cell_type": "code",
      "execution_count": null,
      "metadata": {
        "id": "1ihqmSs0J6To"
      },
      "outputs": [],
      "source": [
        "# built-in function tuple with string as argument\n",
        "t = tuple('lupins')\n",
        "# t_lst = list('lupins')\n",
        "print(t)\n",
        "# print(t_lst)"
      ]
    },
    {
      "cell_type": "code",
      "execution_count": null,
      "metadata": {
        "id": "jLKuxKe4J6Tp"
      },
      "outputs": [],
      "source": [
        "t = ('a', 'b', 'c', 'd', 'e')\n",
        "print(t[0]) # bracket operator indexes an element"
      ]
    },
    {
      "cell_type": "code",
      "execution_count": null,
      "metadata": {
        "id": "q9pLFkL4J6Tp"
      },
      "outputs": [],
      "source": [
        "print(t[1:3]) # slice operator selects a range of elements"
      ]
    },
    {
      "cell_type": "code",
      "execution_count": null,
      "metadata": {
        "id": "h5S2YNcLJ6Tp"
      },
      "outputs": [],
      "source": [
        "t[0] = 'A'"
      ]
    },
    {
      "cell_type": "code",
      "execution_count": null,
      "metadata": {
        "id": "S0-Qc4YPJ6Tq"
      },
      "outputs": [],
      "source": [
        "# can’t modify the elements of a tuple, but can replace one tuple with another\n",
        "t = ('A',) + t[1:]\n",
        "print(t)"
      ]
    },
    {
      "cell_type": "markdown",
      "metadata": {
        "id": "MhadYzFKJ6Tq"
      },
      "source": [
        "### 11(10).2 Comparing tuples"
      ]
    },
    {
      "cell_type": "code",
      "source": [
        "(0, 1, 2) == (0, 1, 2) # comparing with respective sequence elements"
      ],
      "metadata": {
        "id": "vIhK8DFwSQRO"
      },
      "execution_count": null,
      "outputs": []
    },
    {
      "cell_type": "code",
      "source": [
        "(0, 1, 2) >= (0, 1, 2) # comparing with respective sequence elements"
      ],
      "metadata": {
        "id": "9jdq5M-hSbNG"
      },
      "execution_count": null,
      "outputs": []
    },
    {
      "cell_type": "code",
      "execution_count": null,
      "metadata": {
        "id": "9BMY3cL6J6Tr"
      },
      "outputs": [],
      "source": [
        "(0, 1, 2) < (0, 3, 4) # comparing with respective sequence elements"
      ]
    },
    {
      "cell_type": "code",
      "execution_count": null,
      "metadata": {
        "id": "KWiLQEp3J6Tr"
      },
      "outputs": [],
      "source": [
        "(0, 1, 2000000) < (0, 3, 4)"
      ]
    },
    {
      "cell_type": "code",
      "execution_count": null,
      "metadata": {
        "id": "-5LUOyYMJ6Tr"
      },
      "outputs": [],
      "source": [
        "# you have a list of words and you want to sort them from longest to shortest:\n",
        "txt = 'but soft what light in yonder window breaks'\n",
        "words = txt.split()\n",
        "t = list()\n",
        "for word in words:\n",
        "    t.append((len(word), word))\n",
        "\n",
        "t.sort(reverse=True)\n",
        "\n",
        "res = list()\n",
        "for length, word in t:\n",
        "    res.append(word)\n",
        "\n",
        "print(res)"
      ]
    },
    {
      "cell_type": "markdown",
      "metadata": {
        "id": "7knbylylJ6Ts"
      },
      "source": [
        "### 11(10).3 Tuple assignment"
      ]
    },
    {
      "cell_type": "code",
      "execution_count": null,
      "metadata": {
        "id": "2_UiYfAcJ6Ts"
      },
      "outputs": [],
      "source": [
        "# 1st Way\n",
        "\n",
        "# unique syntactic features of the Python language is the ability to have a tuple on the left side of an assignment statement.\n",
        "m = [ 'have', 'fun' ] # create an iterable list of strings \n",
        "x, y = m              # assiging iterable elements to individual variables"
      ]
    },
    {
      "cell_type": "code",
      "execution_count": null,
      "metadata": {
        "id": "Hfp5SdHMJ6Ts"
      },
      "outputs": [],
      "source": [
        "x"
      ]
    },
    {
      "cell_type": "code",
      "execution_count": null,
      "metadata": {
        "id": "henhLmppJ6Tt"
      },
      "outputs": [],
      "source": [
        "y"
      ]
    },
    {
      "cell_type": "code",
      "execution_count": null,
      "metadata": {
        "id": "1Z8HCjlDJ6Tt"
      },
      "outputs": [],
      "source": [
        "# 2nd Way\n",
        "\n",
        "m = [ 'have', 'fun' ]\n",
        "x = m[0]\n",
        "y = m[1]"
      ]
    },
    {
      "cell_type": "code",
      "execution_count": null,
      "metadata": {
        "id": "0qklmeWYJ6Tt"
      },
      "outputs": [],
      "source": [
        "x"
      ]
    },
    {
      "cell_type": "code",
      "execution_count": null,
      "metadata": {
        "id": "mgjex7blJ6Tt"
      },
      "outputs": [],
      "source": [
        "y"
      ]
    },
    {
      "cell_type": "code",
      "execution_count": null,
      "metadata": {
        "id": "y_YR36psJ6Tu"
      },
      "outputs": [],
      "source": [
        "# 3rd Way\n",
        "\n",
        "m = [ 'have', 'fun' ]   # create an iterable list of strings\n",
        "(x, y) = m              # assiging iterable elements to tuple elements"
      ]
    },
    {
      "cell_type": "code",
      "execution_count": null,
      "metadata": {
        "id": "prqhof7KJ6Tu"
      },
      "outputs": [],
      "source": [
        "x"
      ]
    },
    {
      "cell_type": "code",
      "execution_count": null,
      "metadata": {
        "id": "mYU3ZnEJJ6Tu"
      },
      "outputs": [],
      "source": [
        "y"
      ]
    },
    {
      "cell_type": "code",
      "execution_count": null,
      "metadata": {
        "id": "qinj0E3NJ6Tu"
      },
      "outputs": [],
      "source": [
        "# application of tuple assignment allows us to swap the values of two variables in a single statement\n",
        "print(x, y)\n",
        "x, y = y, x"
      ]
    },
    {
      "cell_type": "code",
      "source": [
        "print(x, y)"
      ],
      "metadata": {
        "id": "nSWPl3eQVbIg"
      },
      "execution_count": null,
      "outputs": []
    },
    {
      "cell_type": "code",
      "execution_count": null,
      "metadata": {
        "id": "ODhFqFUdJ6Tv"
      },
      "outputs": [],
      "source": [
        "a, b = 1, 2, 3\n",
        "# *a, b = 1, 2, 3   # remember that wildcards can help in this situation\n",
        "# a, *b = 1, 2, 3   # remember that wildcards can help in this situation"
      ]
    },
    {
      "cell_type": "code",
      "source": [
        "print('`a` is ', a)\n",
        "print('`b` is ', b)\n",
        "\n",
        "print('type of `a` is ', type(a))\n",
        "print('type of `b` is ', type(b))"
      ],
      "metadata": {
        "id": "M91eO9PkV6jp"
      },
      "execution_count": null,
      "outputs": []
    },
    {
      "cell_type": "code",
      "execution_count": null,
      "metadata": {
        "id": "BzSagz3EJ6Tv"
      },
      "outputs": [],
      "source": [
        "addr = 'monty@python.org'\n",
        "uname, domain = addr.split('@')"
      ]
    },
    {
      "cell_type": "code",
      "execution_count": null,
      "metadata": {
        "id": "n8V98zcDJ6Tv"
      },
      "outputs": [],
      "source": [
        "print(uname)\n",
        "print(type(uname))"
      ]
    },
    {
      "cell_type": "code",
      "execution_count": null,
      "metadata": {
        "id": "qYvM01m3J6Tv"
      },
      "outputs": [],
      "source": [
        "print(domain)\n",
        "print(type(domain))"
      ]
    },
    {
      "cell_type": "markdown",
      "metadata": {
        "id": "LwszTDkb2OaD"
      },
      "source": [
        "Tuples and Assignment: We can also put a tuple on the left-hand side of an assignment statement.  We can even omit the parentheses."
      ]
    },
    {
      "cell_type": "code",
      "metadata": {
        "id": "x-dCsae32Qor"
      },
      "source": [
        "(x, y) = (4, 'fred')\n",
        "print(y)\n",
        "\n",
        "(a, b) = (99, 98)\n",
        "print(a)"
      ],
      "execution_count": null,
      "outputs": []
    },
    {
      "cell_type": "markdown",
      "metadata": {
        "id": "dIulHEFhJ6Tv"
      },
      "source": [
        "### 11(10).4 Dictionaries and tuples"
      ]
    },
    {
      "cell_type": "code",
      "execution_count": null,
      "metadata": {
        "id": "QaJm67LTJ6Tw"
      },
      "outputs": [],
      "source": [
        "# d = {'a':10, 'b':1, 'c':22}       # original Charles Severance code\n",
        "d = {'z':12, 'c':22, 'b':1, 'a':10} # original Charles Severance code\n",
        "t = list(d.items())                 # items() method returns a tuple \n",
        "print(t)\n",
        "print(type(t))\n",
        "# Here each tuple is a key-value pair:"
      ]
    },
    {
      "cell_type": "code",
      "execution_count": null,
      "metadata": {
        "id": "VhVWRl0cJ6Tw"
      },
      "outputs": [],
      "source": [
        "t"
      ]
    },
    {
      "cell_type": "code",
      "execution_count": null,
      "metadata": {
        "id": "ZhYt-PSIJ6Tw"
      },
      "outputs": [],
      "source": [
        "t.sort()"
      ]
    },
    {
      "cell_type": "code",
      "execution_count": null,
      "metadata": {
        "id": "TnBb8dFIJ6Tw"
      },
      "outputs": [],
      "source": [
        "t"
      ]
    },
    {
      "cell_type": "markdown",
      "metadata": {
        "id": "li2O4MV72rR7"
      },
      "source": [
        "Tuples and Dictionaries: The items() method in dictionaries returns a list of (key, value) tuples."
      ]
    },
    {
      "cell_type": "code",
      "metadata": {
        "id": "P_hHdzz-2sv5"
      },
      "source": [
        "d = dict()\n",
        "d['csev'] = 2\n",
        "d['cwen'] = 4\n",
        "for (k,v) in d.items(): \n",
        "    print(k, v)\n",
        "\n",
        "tups = d.items()\n",
        "print(tups)"
      ],
      "execution_count": null,
      "outputs": []
    },
    {
      "cell_type": "markdown",
      "metadata": {
        "id": "zaz8LNv1J6Tw"
      },
      "source": [
        "### 11(10).5 Multiple assignment with dictionaries"
      ]
    },
    {
      "cell_type": "code",
      "execution_count": null,
      "metadata": {
        "id": "IVexHkxbJ6Tx"
      },
      "outputs": [],
      "source": [
        "for key, val in list(d.items()):\n",
        "    print(val, key)"
      ]
    },
    {
      "cell_type": "code",
      "execution_count": null,
      "metadata": {
        "id": "e05yGXlsJ6Tx"
      },
      "outputs": [],
      "source": [
        "# d = {'a':10, 'b':1, 'c':22}       # original Charles Severance code\n",
        "d = {'z':12, 'c':22, 'b':1, 'a':10} # original Charles Severance code\n",
        "l = list()\n",
        "for key, val in d.items() :\n",
        "    l.append( (val, key) )"
      ]
    },
    {
      "cell_type": "code",
      "execution_count": null,
      "metadata": {
        "id": "0NzSUCsdJ6Tx"
      },
      "outputs": [],
      "source": [
        "l"
      ]
    },
    {
      "cell_type": "code",
      "execution_count": null,
      "metadata": {
        "id": "9oQ_6bDKJ6Tx"
      },
      "outputs": [],
      "source": [
        "l.sort(reverse=True)\n",
        "l"
      ]
    },
    {
      "cell_type": "markdown",
      "metadata": {
        "id": "_mkK6tZLLxFy"
      },
      "source": [
        "Tuples are Comparable: The comparison operators work with tuples and other sequences. If the first item is equal, Python goes on to the next element,  and so on, until it finds elements that differ.\n",
        "\n"
      ]
    },
    {
      "cell_type": "code",
      "metadata": {
        "id": "tKO_yDbOLyNa"
      },
      "source": [
        "print(\"Result #1: \", (0, 1, 2) < (5, 1, 2))\n",
        "print(\"Result #2: \", (0, 1, 2000000) < (0, 3, 4))\n",
        "print(\"Result #3: \", ( 'Jones', 'Sally' ) < ('Jones', 'Sam'))\n",
        "print(\"Result #4: \", ( 'Jones', 'Sally') > ('Adams', 'Sam'))"
      ],
      "execution_count": null,
      "outputs": []
    },
    {
      "cell_type": "code",
      "source": [
        "### ###"
      ],
      "metadata": {
        "id": "dZbnM_ioRt2e"
      },
      "execution_count": null,
      "outputs": []
    },
    {
      "cell_type": "markdown",
      "metadata": {
        "id": "rtNt7PwqL7Yd"
      },
      "source": [
        "Sorting Lists of Tuples: \n",
        "We can take advantage of the ability to sort a list of tuples to get a sorted version of a dictionary.  \n",
        "First we sort the dictionary by the key using the items() method and sorted() function.  \n",
        "\n"
      ]
    },
    {
      "cell_type": "code",
      "metadata": {
        "id": "9t6UOxitMPng"
      },
      "source": [
        "d = {'a':10, 'b':1, 'c':22}\n",
        "d.items()\n",
        "\n",
        "sorted(d.items())"
      ],
      "execution_count": null,
      "outputs": []
    },
    {
      "cell_type": "markdown",
      "metadata": {
        "id": "cflmRtqtM-6_"
      },
      "source": [
        "Using sorted(): \n",
        "We can do this even more directly using the built-in function sorted that takes a sequence as a parameter and returns a sorted sequence.\n",
        "\n"
      ]
    },
    {
      "cell_type": "code",
      "metadata": {
        "id": "ZALdKhEuNAU4"
      },
      "source": [
        "d = {'a':10, 'b':1, 'c':22}\n",
        "t = sorted(d.items())\n",
        "print(t)\n",
        "for k, v in sorted(d.items()):\n",
        "    print(k, v)"
      ],
      "execution_count": null,
      "outputs": []
    },
    {
      "cell_type": "markdown",
      "metadata": {
        "id": "VvJIZ9rANFE_"
      },
      "source": [
        "Sort by Values Instead of Key: \n",
        "If we could construct a list of tuples of the form (value, key) we could sort by value.\n",
        "We do this with a for loop that creates a list of tuples.\n"
      ]
    },
    {
      "cell_type": "code",
      "metadata": {
        "id": "ZZx4I_hnNYRv"
      },
      "source": [
        "c = {'a':10, 'b':1, 'c':22}\n",
        "tmp = list()\n",
        "for k, v in c.items() :\n",
        "    tmp.append( (v, k) )\n",
        "print(tmp)\n",
        "\n",
        "tmp = sorted(tmp, reverse=True)\n",
        "print(tmp)"
      ],
      "execution_count": null,
      "outputs": []
    },
    {
      "cell_type": "markdown",
      "source": [
        "\n",
        "\n",
        "---\n",
        "\n"
      ],
      "metadata": {
        "id": "YVMor41GUEo0"
      }
    }
  ]
}