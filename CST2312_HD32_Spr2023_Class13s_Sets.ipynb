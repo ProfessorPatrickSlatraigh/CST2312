{
  "nbformat": 4,
  "nbformat_minor": 0,
  "metadata": {
    "colab": {
      "provenance": [],
      "collapsed_sections": [
        "C7Vysi3vu0Io",
        "KBeRQRu_wohz",
        "PVefhSPOU23F",
        "q5Ahy-JYVg7_",
        "edtD5Vs-VppF",
        "wTo-g_m1Wtcb",
        "GgI7pK8TXgwo",
        "TqCFljuqq-_r"
      ],
      "include_colab_link": true
    },
    "kernelspec": {
      "name": "python3",
      "display_name": "Python 3"
    },
    "language_info": {
      "name": "python"
    }
  },
  "cells": [
    {
      "cell_type": "markdown",
      "metadata": {
        "id": "view-in-github",
        "colab_type": "text"
      },
      "source": [
        "<a href=\"https://colab.research.google.com/github/ProfessorPatrickSlatraigh/CST2312/blob/main/CST2312_HD32_Spr2023_Class13s_Sets.ipynb\" target=\"_parent\"><img src=\"https://colab.research.google.com/assets/colab-badge.svg\" alt=\"Open In Colab\"/></a>"
      ]
    },
    {
      "cell_type": "markdown",
      "metadata": {
        "id": "zQVqGgEEHXUB"
      },
      "source": [
        "# **CST2312 Class 13 - Sets**    \n",
        "**Complex Data Structures: Sets**    "
      ]
    },
    {
      "cell_type": "markdown",
      "metadata": {
        "id": "hY7hJbpqHfjb"
      },
      "source": [
        "\n",
        "\n",
        "---\n",
        "\n"
      ]
    },
    {
      "cell_type": "markdown",
      "metadata": {
        "id": "REcbnaVdp8Ar"
      },
      "source": [
        "A set is a data structure where all elements are unique. While they are similar \n",
        "to lists, in sets there is **no order** among the items in a set, and sets do **not** support indexing. Sets are ideal for membership queries, i.e., checking if an items appears in the set or not."
      ]
    },
    {
      "cell_type": "markdown",
      "metadata": {
        "id": "7SfL2S5DrwRO"
      },
      "source": [
        " **Reading** \n",
        "\n",
        "This lesson is not a part of the Python for Everybody (py4e.com) lesson set.  You can read about **Sets** at the following link from the book \"Think Python 2020\": \n",
        "\n",
        "[Sets](https://greenteapress.com/thinkpython2/html/thinkpython2020.html#sec227) "
      ]
    },
    {
      "cell_type": "markdown",
      "metadata": {
        "id": "gMrBzzoNIMuh"
      },
      "source": [
        "\n",
        "\n",
        "---\n",
        "\n"
      ]
    },
    {
      "cell_type": "markdown",
      "metadata": {
        "id": "5GfzItlBuP0a"
      },
      "source": [
        "## Creating Sets"
      ]
    },
    {
      "cell_type": "markdown",
      "metadata": {
        "id": "1R3cNucEuRgw"
      },
      "source": [
        "Sets are specified by curly braces, `{ }`, containing one or more comma separated values. To specify an empty list, you can use the alternative construct, `set()`.  Note that creating sets using curly braces differs from creating dictionaries with curly braces as the elements separated by commas are not key:value pairs."
      ]
    },
    {
      "cell_type": "code",
      "metadata": {
        "id": "bBVvkjpsuO7Z"
      },
      "source": [
        "# creating sets\n",
        "one_set = {4, 2, 1, 3}\n",
        "print(one_set)"
      ],
      "execution_count": null,
      "outputs": []
    },
    {
      "cell_type": "code",
      "source": [
        "type(one_set)"
      ],
      "metadata": {
        "id": "ywZwD__tHSxs"
      },
      "execution_count": null,
      "outputs": []
    },
    {
      "cell_type": "code",
      "metadata": {
        "id": "hOjTaSeep7ew"
      },
      "source": [
        "two_set = {6, 5, 4, -2}\n",
        "print(two_set)"
      ],
      "execution_count": null,
      "outputs": []
    },
    {
      "cell_type": "code",
      "metadata": {
        "id": "P-ku1DVOuar4"
      },
      "source": [
        "three_set = {5, 0, -3, 4, 4, 4, 4}\n",
        "print(three_set)"
      ],
      "execution_count": null,
      "outputs": []
    },
    {
      "cell_type": "code",
      "metadata": {
        "id": "46bOXpp1udj4"
      },
      "source": [
        "# creating an empty set; notice that we do *not* use the \"empty set = {}\" command\n",
        "# as someone would expect based on the way that we create an empty list\n",
        "empty_set = set()\n",
        "print(empty_set)"
      ],
      "execution_count": null,
      "outputs": []
    },
    {
      "cell_type": "code",
      "source": [
        "type(empty_set)"
      ],
      "metadata": {
        "id": "AUXfzqD4HnIV"
      },
      "execution_count": null,
      "outputs": []
    },
    {
      "cell_type": "markdown",
      "metadata": {
        "id": "dQHsGAyiukzx"
      },
      "source": [
        "We can also create a set from a list:"
      ]
    },
    {
      "cell_type": "code",
      "metadata": {
        "id": "_ZjEvwNbumF4"
      },
      "source": [
        "my_list = [1, 2, 3, 0, 5, 10, 11, 1, 5]\n",
        "my_set = set(my_list)\n",
        "print(my_list)\n",
        "print(my_set)"
      ],
      "execution_count": null,
      "outputs": []
    },
    {
      "cell_type": "markdown",
      "metadata": {
        "id": "Y6QWytY0un9I"
      },
      "source": [
        "**As expected, the set created from a list does not contain any duplicate elements.**"
      ]
    },
    {
      "cell_type": "markdown",
      "metadata": {
        "id": "C16P90MHIqK6"
      },
      "source": [
        "This is a fast, easy, and reliable way to prepare to analyze membership in a list or lists, and to evaluate like subsets (intersections) or differences between lists. "
      ]
    },
    {
      "cell_type": "code",
      "metadata": {
        "id": "zeWd_iSWurph"
      },
      "source": [
        "print(\"Length of list:\", len(my_list))\n",
        "print(\"Length of set:\", len(my_set))"
      ],
      "execution_count": null,
      "outputs": []
    },
    {
      "cell_type": "markdown",
      "metadata": {
        "id": "w3JZ1aZuuvnn"
      },
      "source": [
        "As seen above, we can use **len()** to get the number of elements in a list. Similarly, we can use the other functions **min()**, **max()**, **sum()**, **sorted()** etc., that we also used for lists."
      ]
    },
    {
      "cell_type": "markdown",
      "metadata": {
        "id": "C7Vysi3vu0Io"
      },
      "source": [
        "###**Exercise:**  Disctinct Word Count with Sets\n",
        "\n",
        "What is the number of _distinct_ words in the `nyt` variable?\n",
        "\n",
        "Text from: [New York Times](https://www.nytimes.com/2020/09/06/us/colleges-coronavirus-students.html)"
      ]
    },
    {
      "cell_type": "code",
      "metadata": {
        "id": "jx8ojUVnuu1R"
      },
      "source": [
        "nyt = \"\"\"Last month, facing a budget shortfall of at least $75 million because of the pandemic, the University of Iowa welcomed thousands of students back to its campus — and into the surrounding community.\n",
        "Iowa City braced, cautious optimism mixing with rising panic. The university had taken precautions, and only about a quarter of classes would be delivered in person. But each fresh face in town could also carry the virus, and more than 26,000 area residents were university employees.\n",
        "\"Covid has a way of coming in,\" said Bruce Teague, the city's mayor, \"even when youre doing all the right things.\"\n",
        "Within days, students were complaining that they couldn’t get coronavirus tests or were bumping into people who were supposed to be in isolation. Undergraduates were jamming sidewalks and downtown bars, masks hanging below their chins, never mind the city’s mask mandate.\n",
        "Now, Iowa City is a full-blown pandemic hot spot — one of about 100 college communities around the country where infections have spiked in recent weeks as students have returned for the fall semester. Though the rate of infection has bent downward in the Northeast, where the virus first peaked in the U.S., it continues to remain high across many states in the Midwest and South — and evidence suggests that students returning to big campuses are a major factor.\n",
        "In a New York Times review of 203 counties in the country where students comprise at least 10 percent of the population, about half experienced their worst weeks of the pandemic since Aug. 1. In about half of those, figures showed the number of new infections is peaking right now.\n",
        "Despite the surge in cases, there has been no uptick in deaths in college communities, data shows. This suggests that most of the infections are stemming from campuses, since young people who contract the virus are far less likely to die than older people. However, leaders fear that young people who are infected will contribute to a spread of the virus throughout the community.\n",
        "The surge in infections reported by county health departments comes as many college administrations are also disclosing clusters on their campuses.\n",
        "Brazos County, Tex., home to Texas A&M University, added 742 new coronavirus cases during the last week of August, the county’s worst week so far, as the university reported hundreds of new cases.\n",
        "Pitt County, N.C., site of East Carolina University, saw its coronavirus cases rise above 800 in a single week at the end of August. The Times has identified at least 846 infections involving students, faculty and staff since mid-August.\n",
        "In South Dakota’s Clay and Brookings counties, ballooning infections in the past two weeks have reflected outbreaks at the state’s major universities. In McLean County, Ill., the virus has been spreading as more than 1,200 people have contracted the virus at Illinois State University.\n",
        "At Washington State University and the University of Idaho, about eight miles apart, combined coronavirus cases have risen since early July to more than 300 infections. In the surrounding communities — rural Whitman County, Wash., and Latah County, Idaho — cases per week have climbed from low single-digits in the first three months of the pandemic, to double-digits in July, to more than 300 cases in the last week of August.\n",
        "The Times has collected infection data from both state and local health departments and individual colleges. Academic institutions generally report cases involving students, faculty and staff, while the countywide data includes infections for all residents of the county.\n",
        "It's unclear precisely how the figures overlap and how many infections in a community outside of campus are definitively tied to campus outbreaks. But epidemiologists have warned that, even with exceptional contact tracing, it would be difficult to completely contain the virus on a campus when students shop, eat and drink in town, and local residents work at the college.\n",
        "The potential spread of the virus beyond campus greens has deeply affected the workplaces, schools, governments and other institutions of local communities. The result often is an exacerbation of traditional town-and-gown tensions as college towns have tried to balance economic dependence on universities with visceral public health fears.\n",
        "In Story County, Iowa, a local outcry following a burst of new Iowa State University cases pressured the university on Wednesday to reverse plans to welcome 25,000 football fans for its Sept. 12 opener against the University of Louisiana at Lafayette. In Monroe County, Indiana, the health department quarantined 30 Indiana University fraternity and sorority houses, prompting the university to publicly recommend that members shut them down and move elsewhere.\n",
        "In Johnson County, where the University of Iowa is located, cases have more than doubled since the start of August, to more than 4,000. Over the past two weeks, Iowa City’s metro area added the fourth-most cases per capita in the country. The university has recorded more than 1,400 cases for the semester.\n",
        "With a population of roughly 75,000, Iowa City relies on the university as an economic engine. The University of Iowa is by far the community’s largest employer, and its approximately 30,000 students are a critical market. Hawkeye football alone brings $120 million a year into the community, said Nancy Bird, executive director of the Iowa City Downtown District.\n",
        "When the pandemic first hit in March, the university sent students home and pivoted to remote instruction, like most of the country’s approximately 5,000 colleges and universities. That exodus, heightened by health restrictions, has been an existential challenge for many downtown businesses, Ms. Bird said.\n",
        "Jim Rinella, who owns The Airliner bar and restaurant, said the 76-year-old landmark across the street from campus “had zero revenue the whole month of April.” May was almost as scant, he said, and in June, he shut down after a couple of employees became infected.\n",
        "By the time he reopened after July 4, too few students were in town to come close to making up the losses. He and his wife, Sherry, had hoped the campus reopening in August might be a lifeline.\n",
        "But the photos taken by the local press from outside his establishment and others were damning. In an open letter, the university president lashed out, saying he was “exceedingly disappointed” in the failure of local businesses to keep students masked and socially distanced. Days later, the governor cited high infection rates among young people as she closed bars and restricted restaurants in Johnson County and five other counties with high concentrations of students.\n",
        "Now The Airliner — where a booth is named for the University of Iowa's most famous dropout, Tom Brokaw, and a modeling scout is said to have discovered Ashton Kutcher — has to close at 10 p.m. as well as require customers to buy a meal and sit far apart if they want to drink there.\n",
        "\"I'm at a pain point,\" Mr. Rinella said. \"If my grandfather hadn't started the place, I'd question whether I want to be in the restaurant business.\" A recent lunch hour visit found one customer at the bar drinking a beer.\"\"\""
      ],
      "execution_count": null,
      "outputs": []
    },
    {
      "cell_type": "markdown",
      "metadata": {
        "id": "KBeRQRu_wohz"
      },
      "source": [
        "#### Solution  *(do not open this section before completing the exercise)*  "
      ]
    },
    {
      "cell_type": "code",
      "metadata": {
        "id": "RcXwbkB5wiY6",
        "colab": {
          "base_uri": "https://localhost:8080/"
        },
        "outputId": "ea17a603-1e12-4e43-d33a-cceb0d6132f4"
      },
      "source": [
        "# your code here\n",
        "\n",
        "import string\n",
        "\n",
        "## Three-step approach \n",
        "nyt = nyt.lower()\n",
        "nyt_list = nyt.split()\n",
        "# nyt_set = set(nyt_list)\n",
        "\n",
        "## One-step approach\n",
        "nyt_set = set(nyt.split())\n",
        "\n",
        "print(\"Length of NYT list:\", len(nyt_list))\n",
        "print(\"Length of NYT set:\", len(nyt_set))"
      ],
      "execution_count": null,
      "outputs": [
        {
          "output_type": "stream",
          "name": "stdout",
          "text": [
            "Length of NYT list: 1168\n",
            "Length of NYT set: 590\n"
          ]
        }
      ]
    },
    {
      "cell_type": "code",
      "metadata": {
        "id": "CG8zcEQePqQc"
      },
      "source": [
        "print(min(nyt_set))"
      ],
      "execution_count": null,
      "outputs": []
    },
    {
      "cell_type": "code",
      "metadata": {
        "id": "aThYCffCRFlp"
      },
      "source": [
        "print(max(nyt_set))"
      ],
      "execution_count": null,
      "outputs": []
    },
    {
      "cell_type": "markdown",
      "metadata": {
        "id": "PG4NU6-9LpX6"
      },
      "source": [
        "We can print the **nyt_set** to scan it for any redundant words..."
      ]
    },
    {
      "cell_type": "code",
      "metadata": {
        "id": "-eJI29-3LGuW"
      },
      "source": [
        "print(sorted(nyt_set))"
      ],
      "execution_count": null,
      "outputs": []
    },
    {
      "cell_type": "markdown",
      "metadata": {
        "id": "8LV4poDpL6UW"
      },
      "source": [
        "How would we resolve the different treatment of capitalized words vs. the same word in all lower case?"
      ]
    },
    {
      "cell_type": "markdown",
      "metadata": {
        "id": "PVefhSPOU23F"
      },
      "source": [
        "#### Checking for membership in a set\n",
        "\n",
        "For sets, we can only check if an item appears within the set or not. We achieve this using the `in` operator:"
      ]
    },
    {
      "cell_type": "code",
      "metadata": {
        "id": "l1vd5mgZU9EV"
      },
      "source": [
        "my_set = {1, 2, 3, 4}"
      ],
      "execution_count": null,
      "outputs": []
    },
    {
      "cell_type": "code",
      "metadata": {
        "id": "QRlDHRqxU_JO",
        "colab": {
          "base_uri": "https://localhost:8080/"
        },
        "outputId": "4ec9b1d9-ee61-4d7d-d61f-3383fac3306f"
      },
      "source": [
        "val = 1\n",
        "if val in my_set:\n",
        "    print(\"The value\", val ,\"appears in the set\", my_set)\n",
        "else: \n",
        "    print(\"The value\", val ,\"does not appear in the set\", my_set)"
      ],
      "execution_count": null,
      "outputs": [
        {
          "output_type": "stream",
          "name": "stdout",
          "text": [
            "The value 17 does not appear in the set {1, 2, 3, 4}\n"
          ]
        }
      ]
    },
    {
      "cell_type": "code",
      "metadata": {
        "id": "15lUfaf3VAPN",
        "colab": {
          "base_uri": "https://localhost:8080/"
        },
        "outputId": "f77dda76-3644-4511-9cdd-a995f73e5a1b"
      },
      "source": [
        "val = 0\n",
        "if val in my_set:\n",
        "    print(\"The value\", val ,\"appears in the set\", my_set)\n",
        "else: \n",
        "    print(\"The value\", val ,\"does not appear in the set\", my_set)"
      ],
      "execution_count": null,
      "outputs": [
        {
          "output_type": "stream",
          "name": "stdout",
          "text": [
            "The value 0 does not appear in the set {1, 2, 3, 4}\n"
          ]
        }
      ]
    },
    {
      "cell_type": "markdown",
      "metadata": {
        "id": "LlqFnNvpVEHw"
      },
      "source": [
        "We also have the `not in` operator, which behaves as expected:"
      ]
    },
    {
      "cell_type": "code",
      "metadata": {
        "id": "GROCT4DJVEqc",
        "colab": {
          "base_uri": "https://localhost:8080/"
        },
        "outputId": "6b960fdd-506f-4be1-b05f-2ff92376a31b"
      },
      "source": [
        "if val not in my_set:\n",
        "    print(\"The value\", val ,\"does not appear in the set\", my_set)\n",
        "else: \n",
        "    print(\"The value\", val ,\"appears in the set\", my_set)"
      ],
      "execution_count": null,
      "outputs": [
        {
          "output_type": "stream",
          "name": "stdout",
          "text": [
            "The value 0 does not appear in the set {1, 2, 3, 4}\n"
          ]
        }
      ]
    },
    {
      "cell_type": "markdown",
      "metadata": {
        "id": "BelGHkOPVWUk"
      },
      "source": [
        "### Set operators: **union**, **intersection**, **difference**, **subset**. Plus, Jaccard Similarity"
      ]
    },
    {
      "cell_type": "markdown",
      "metadata": {
        "id": "f25nuCd-M7xs"
      },
      "source": [
        "See this Wikipedia entry for a definition of Jaccard Similarity:\n",
        "https://en.wikipedia.org/wiki/Jaccard_index"
      ]
    },
    {
      "cell_type": "markdown",
      "metadata": {
        "id": "VhPXBd-9VbR_"
      },
      "source": [
        "Sets also support operations that allow us to quickly compute the difference, intersection, and union of two sets. For example:\n",
        "\n",
        "+ `set_a - set_b`: elements in a but not in b. Equivalent to `set_a.difference(set_b)`\n",
        "+ `set_a | set_b`: elements in a or b. Equivalent to `set_a.union(set_b)`\n",
        "+ `set_a & set_b`: elements in both a and b. Equivalent to `set_a.intersection(set_b)`\n",
        "+ `set_a ^ set_b`: elements in a or b but not both. Equivalent to `set_a.symmetric_difference(set_b)` \n",
        "+ `set_a <= set_b`:\ttests whether every element in set_a is in set_b. Equivalent to `set_a.issubset(set_b)`"
      ]
    },
    {
      "cell_type": "markdown",
      "source": [
        "![Symmetric_Difference.jpg](data:image/jpeg;base64,/9j/4AAQSkZJRgABAQEAYABgAAD/2wBDAAMCAgMCAgMDAwMEAwMEBQgFBQQEBQoHBwYIDAoMDAsKCwsNDhIQDQ4RDgsLEBYQERMUFRUVDA8XGBYUGBIUFRT/2wBDAQMEBAUEBQkFBQkUDQsNFBQUFBQUFBQUFBQUFBQUFBQUFBQUFBQUFBQUFBQUFBQUFBQUFBQUFBQUFBQUFBQUFBT/wAARCALQBQADASIAAhEBAxEB/8QAHwAAAQUBAQEBAQEAAAAAAAAAAAECAwQFBgcICQoL/8QAtRAAAgEDAwIEAwUFBAQAAAF9AQIDAAQRBRIhMUEGE1FhByJxFDKBkaEII0KxwRVS0fAkM2JyggkKFhcYGRolJicoKSo0NTY3ODk6Q0RFRkdISUpTVFVWV1hZWmNkZWZnaGlqc3R1dnd4eXqDhIWGh4iJipKTlJWWl5iZmqKjpKWmp6ipqrKztLW2t7i5usLDxMXGx8jJytLT1NXW19jZ2uHi4+Tl5ufo6erx8vP09fb3+Pn6/8QAHwEAAwEBAQEBAQEBAQAAAAAAAAECAwQFBgcICQoL/8QAtREAAgECBAQDBAcFBAQAAQJ3AAECAxEEBSExBhJBUQdhcRMiMoEIFEKRobHBCSMzUvAVYnLRChYkNOEl8RcYGRomJygpKjU2Nzg5OkNERUZHSElKU1RVVldYWVpjZGVmZ2hpanN0dXZ3eHl6goOEhYaHiImKkpOUlZaXmJmaoqOkpaanqKmqsrO0tba3uLm6wsPExcbHyMnK0tPU1dbX2Nna4uPk5ebn6Onq8vP09fb3+Pn6/9oADAMBAAIRAxEAPwD9U6KKKACiiigAooooAKKKKACiiigAooooAKKKKACiiigAooooAKKKKACiiigAooooAKKKKACiiigAooooAKKKKACiiigAooooAKKKKACiiigAooooAKKKKACiiigAooooAKKKKACiiigAooooAKKKKACiiigAooooAKKKKACiiigAooooAKKKKACiiigAooooAKKKKACiiigAooooAKKKKACiiigAooooAKKKKACiiigAooooAKKKKACiiigAooooAKKKKACiiigAooooAKKKKACiiigAooooAKKKKACiiigAooooAKKKKACiiigAooooAKKKKACiiigAooooAKKKKACiiigAooooAKKKKACiiigAooooAKKKKACiiigAooooAKKKKACiiigAooooAKKKKACiiigAooooAKKKKACiiigAooooAKKKKACiiigAooooAKKKKACiiigAooooAKKKKACiiigAooooAKKKKACiiigAooooAKKKKACiiigAooooAKKKKACiiigAooooAKKKKACiiigAooooAKKKKACiiigAooooAKKKKACiiigAooooAKKKKACiiigAooooAKKKKACiiigAooooAKKKKACiiigAooooAKKKKACiiigAooooAKKKKACiiigAooooAKKKKACiiigAooooAKKKKACiiigAooooAKKKKACiiigAooooAKKKKACiiigAooooAKKKKACiiigAooooAKKKKACiiigAooooAKKKKACiiigAooooAKKKKACiiigAooooAKKKKACiiigAooooAKKKKACiiigAooooAKKKKACiiigAooooAKKKKACiiigAooooAKKKKACiiigAooooAKKKKACiiigAooooAKKKKACiiigAooooAKKKKACiiigAooooAKKKKACiiigAooooAKKKKACiiigAooooAKKKKACiiigAooooAKKKKACiiigAooooAKKKKACiiigAooooAKKKKACiiigAooooAKKKKACiiigAooooAKKKKACiiigAooooAKKKKACiiigAooooAKKKKACiiigAooooAKKKKACiiigAooooAKKKKACiiigAooooAKKKKACiiigAooooAKKKKACiiigAooooAKKKKACiiigAooooAKKKKACiiigAooooAKKKKACiiigAooooAKKKKACiiigAooooAKKKKACiiigAooooAKKKKACiiigAooooAKKKKACiiigAooooAKKKKACiiigAooooAKKKKACiiigAooooAKKKKACiiigAooooAKKKKACiiigAooooAKKKKACiiigAooooAKKKKACiiigAooooAKKKKACiiigAooooAKKKKACiiigAooooAKKKKACiiigAooooAKKKKACiiigAooooAKKKKACiiigAooooAKKKKACiiigAooooAKKKKACiiigAooooAKKKKACiiigAooooAKKKKACiiigAooooAKKKKACiiigAooooAKKKKACiiigAooooAKKKKACiiigAooooAKKKKACiiigAooooAKKKKACiiigAooooAKKKKACiiigAooooAKKKKACiiigAooooAKKKKACiiigAooooAKKKKACiiigAooooAKKKKACiiigAooooAKKKKACiiigAooooAKKKKACiiigAooooAKKKKACiiigAooooAKKKKACiiigAooooAKKKKACiiigAooooAKKKKACiiigAooooAKKKKACiiigAooooAKKKKACiiigAooooAKKKKACiiigAooooAKKKKACiiigAooooAKKKKACiiigAooooAKKKKACiiigAooooAKKKKACiiigAooooAKKKKACiiigAooooAKKKKACiiigAooooAKKKKACiiigAooooAKKKKACiiigAooooAKKKKACiiigAooooAKKKKACiiigAooooAKKKKACiiigAooooAKKKKACiiigAooooAKKKKACiiigAooooAKKKKACiiigAooooAKKKKACiiigAooooAKKKKACiiigAooooAKKKKACiiigAooooAKKKKACiiigAooooAKKKKACiiigAooooAKKKKACiiigAooooAKKKKACiiigAooooAKKKKACiiigAooooAKKKKACiiigAooooAKKKKACiiigAooooAKKKKACiiigAooooAKKKKACiiigAooooAKKKKACiiigAooooAKKKKACiiigAooooAKKKKACiiigAooooAKKKKACiiigAooooAKKKKACiiigAooooAKKKKACiiigAooooAKKKKACiiigAooooAKKKKACiiigAooooAKKKKACiiigAooooAKKKKACiiigAooooAKKKKACiiigAooooAKKKKACiiigAooooAKKKKACiiigAooooAKKKKACiiigAooooAKKKKACiiigAooooAKKKKACiiigAooooAKKKKACiiigAooooAKKKKACiiigAooooAKKKKACiiigAooooAKKKKACiiigAooooAKKKKACiiigAooooAKKKKACiiigAooooAKKKKACiiigAooooAKKKKACiiigAooooAKKKKACiiigAooooAKKKKACiiigAooooAKKKKACiiigAooooAKKKKACiiigAooooAKKKKACiiigAooooAKKKKACiiigAooooAKKKKACiiigAooooAKKKKACiiigAooooAKKKKACiiigAooooAKKKKACiiigAooooAKKKKACiiigAooooAKKKKACiiigAooooAKKKKACiiigAooooAKKKKACiiigAooooAKKKKACiiigAooooAKKKKACiiigAooooAKKKKACiiigAooooAKKKKACiiigAooooAKKKKACiiigAooooAKKKKACiiigAooooAKKKKACiiigAooooAKKKKACiiigAooooAKKKKACiiigAooooAKKKKACiiigAooooAKKKKACiiigAooooAKKKKACiiigAooooAKKKKACiiigAooooAKKKKACiiigAooooAKKKKACiivyz/wCCl/8AwUU17wn4q1D4SfC3VH0i5sR5Wv8AiC0YeeJSoJtrdx/qyoPzuPm3fKCu1sgH6C/Ej9o74XfCGdrbxl4/8P8Ah69UBvsN5fxi5weh8kEyEe+3Fec2P/BRT9nLULhYYvippKO3QzwXES/99PGAPzr8wP2df+CWPxV/aG0O28X+ItUt/A+h6oPtMF1q0b3N/do3PnCAEfK2SQZHUtkEAgg17RrH/BDfVILbdpXxgs724/553nh57dO38S3Mh9e1AH6heC/iJ4V+JGmnUPCfiXSfE1iMZuNIvYrpFz0BKMcH2PpXRV/P78Vv2Pv2hP2J9W/4S2BL61sbNvl8WeELyRoYxn/loV2yRKeAfMUKc4ya/Yr9hn4veIfjt+yz4H8Z+Kikuv30VxDdXEcQjW4aG5lgEu0AAFhGCcADcTgAcUAe8UUUUAFFFFABRRRQAUUUUAFFFFABRRRQAUUUUAFFFFABRRRQAUUUUAFFFFABRRRQAUUUUAFFFFABRRRQAUUUUAFFFFABRRXwn8Nf+Crnhn4kftCaf8MLfwFqtnHqGrPpNvq8l9Gx3hiqu0IXgEjnDkjPegD7sooooAKKKKACiiigArE8aeNNC+HfhfUfEfibVbbRNC0+Pzbq/vH2RxLkAZPqSQABySQBkmtuvmv/AIKIfB3xV8cv2WfEnhnwbanUdd+0Wt5HYLKsbXSRSqzoCxAJxlgCRkqAOcAgHffCH9qj4T/HrVbzTPAXjbT/ABDqVpD9oms4hJFMI8hS4SRVLKCVBIBALDOMivVq/JL/AIJhfscfF34XftG/8Jj4y8I3nhXQtP0u5gMuoPGrXEsoVVjRASx7sTgAbeuSAf1toAKKKKACiiigAooooAKKKKACsHxh498M/DzSxqXirxFpPhnTi2wXmsX0VpCW9N8jAZ9s1vV+SP8AwXCvp28ZfCmzMrG1Swv5Viz8odpIQWx64UD8KAP0Z/4ax+CH/RZPh/8A+FRY/wDx2pLf9qj4LXkyQwfF/wABzzOcLHH4msmY/QCWvx3/AGev+CXHj79oz4P6B8Q9E8WeG9M0zWPtHk2t+bjzk8m4kgbdsjK8tESMHoRXoU3/AARN+K6wuYvHHg15QDtV5LtVJ7AkQHA/A0Afrv4e+IPhbxdIqaF4l0fWnZd4XT7+KclfXCMePeugr8KvGv8AwSb/AGifh3Guo6TZaP4pkgPmB/DWqkTR453KJ1hYkf7OTWH8Lf28v2hv2UvF0uheItR1XWIbJxFeeGPGwlkeMDsjyHzYTjptO3kEqwoA/fGivBP2TP2yvA/7W3hI32gy/wBleI7RAdT8OXUoNxaHpuU8ebET0kAHYEKeK97oAK8t+MH7UHws+Ad/YWPj7xpYeHL6+iM1vazLJJK8YJG/ZGrELkEBiACQQOhr1Kvyb/4Kj/sf/Fz4r/tC2fjDwZ4UvfFeh3Wj29oHsHRmtpYmk3RshIIB3BgeQdx5yCKAP1G8C+PPD3xM8K6f4l8K6xa69oN+he2v7KTfHIASrDPYhgVKnBBBBAIrer5i/wCCcvwX8V/Af9l7RvDnjSy/szXZr26v5NPaVZGtkkcbEYqSNxChiATjdg4IIH07QAmccngV+TP7XH/BXTxLH4y1Hwp8Els7LTbGdrZvFFxbpdTXkikqWt42BjEeejMrFhg4XpX3V+3p8Q7n4X/sh/E3XbKYwXp0z+z4JF+8j3UiW25fcecSD2xmvzV/4I4/BPRfiN8bPEvi7XNPh1KPwhZQSWMdwoZIryd28ubB4LKsMu3PQkEcgEAHNj44ft5rbjX/AC/iZ9kZSfO/4RdzBtAB37Ps+0Lj+LGOvPWvvP8A4Jk/tbePP2mvDXjjTPiHDBLr3hS4tIzqMVoLV7hZxNlZY1wokRoGztVRhhxkZP2xVeCwtbW4uJ4baGKe4IaaWNArSkDALEcnA45oA534pfEzQPg38Pdd8aeJ7v7HoejWxubiRQC7cgKiDIy7sVVRnlmAr8ePiV/wVO+P3xt8bHSPhVZyeGLOeQpY6TommrqOpXCjkF2aNyWwMkRqoA455J+iv+C2nxDudH+F3w98GQTGOLXNTuNQuVXq6WsaKqn23XIOPVB6V1X/AAR5+Cei+Fv2eW+Ir6fC/iTxPe3Ma6g6gyJZwyeUIUP8KmSORjj7x25ztGAD4uvP2mP24/hDD/bevN470/TIyJpZvEHhrda4IztdpYMKMdQCCPY1+tv7Ifxo1L9oX9nHwV8QNYsYdP1XV7eYXUFsrLF5kVxLAzICSQrGLcAScBgMmvYGUMpBGQeCDUNlY22m2sdtaW8VrbRjCQwoERR6ADgUAT0UUUAFFFFABRRRQAUUUUAFFFFABRRRQAUUUUAFFFFABRRRQAUUUUAFFFFABRRRQAUUUUAFFFFABRRRQAUUUUAFFFFABRRRQAUUUUAFFFFABRRRQAUUUUAFFFFABRRRQAUUUUAFFFFABRRRQAUUUUAFFFFABRRRQAUUUUAFFFFABRRRQAUUUUAFFFFABRRRQAUUUUAFFFFABRRRQAUUUUAVtSvl0zTbu8dSyW8Tyso6kKpOP0r+dv8AZR8Nr+0F+2V4JtfFIj1Ma74gbU9US4+5dbS9zMrZPIfYwI77sV/RTPClzDJDKu+ORSjKe4IwRX840yeIv2Kf2scvbO2reCNf3pHN8ovLdX+U5xws0LAg+kmaAP6PFUKoAGAOABS1wvwX+NPhP4+/D/TfGHg7U49R0u8Qb0BHm2suAWhmXPySLnBB9iMggnuqAGyRrLGyOodGGGVhkEehqtpek2Wh6fDY6bZ2+n2MI2xW1rEsUcYznCqoAAyT0q3RQAUV+Yn/AAWC8R/FX4XeIfAfi7wd4+8UeGfDN/ay6Vc2eh6tcWcKXcbtKruInXc0iOwBOeIDX0P/AMEy/wBofUf2gv2a7SXxFqcuq+LPD15JpWo3Vy+6a4UYkhlY9STG4UseS0bE0AfWlFFFABRXhv7bHxwk/Z7/AGafGfi6ynFvra232HSm4JF5OfLjcA8EpuMmD2jNfAP/AASb8cfGD4z/AB61zV/EnxG8Wa/4T0DTHe7s9V1e4u7aW4nbZAnlyOVBwsrggZHlgdDQB+uFFFfij+zN+0x8VNc/4KC6VpGsfEnxNfeH7nxJqFvcaXeatM9j5IE+F8hm8tVXaMYUbcDGMUAftdRX5cftgf8ABVjVrjxNN8Pf2fojfX/n/ZJPFEVuLtriXOPLsYcMHGePMYHdztXGHPhJ/Y1/bc+JVm3iPVJfEjXVx+9SHVvFaRXLBhn/AFbT/u/TY20jpgUAft7RX4NeAf2z/wBpD9i/4gHw74xutZ1GG2dGvPC/jJ5J90RPWCVyXjBGdrRsUJ5Kt0r9ivhv+1F8P/iN8BoPi7FrMWkeERbtLezakwjaxdDtkilAz84bgAZ3ZXbncMgHrdFfj58dv+CmXxa/aM8dnwH+z1pWp6Tp1wzQwXFha+bq9+vQyZwRbIOuVwyjlnHQef6n+xD+2tDp7eIbh/EVzfqPNaGPxekt6MYwRi4O446AMT8p4zjIB+4dFfiB+zf/AMFMPi5+zz44Tw18VJ9V8W+HLe4FpqNjrit/a2nYOHZJHw7OveOUkHGAUJzX7VeFfFGl+NvDOleINEvI9Q0fVLWO8s7qL7ssMihkYfUEdeaANWiivkr/AIKifEDxL8Nv2TdV1bwpr2oeG9VbU7K3+36XcNb3Cxs5LKsiEMucDOCDjjoTQB9a0V+Yn/BPv9s9vAP7LPxD8b/GTxxrHiCDS9dW3sP7UvHvb64d7dGFtAZWLMSQTgttUbmJUAmvDfGH7XX7UH7eHjPUNB+EenaxoXh2M5XTPDc4tzEnODdX7FMFvQuiHoFPUgH7W0V+FPjX9kr9sn4N6XL4rebxXJHaKZprrw/4le5uYBjczFIpfMIGDkqCBjk17h+wp/wVQ8RXXjDSfAPxmvo9VsNRkjs9P8UNEsc9vMxCot0VwrxsSB5mAynliwJKgH6zUV89/tfftpeC/wBkXwolxq5/tnxXfRk6Z4ctpQs0/UeZIefKiBGC5BJOQoYg4/MX/hYn7ZH7f99eX3hX+2bbwxFKyrBodyNH0uHOQY/OZ0M7AHkM8jDPQZoA/b6ivwY+IXwl/a+/ZDgHivUNT8WaXpULjzNW0nXGvbVOcDz1SRgFPH+tUKdwHXivt7/gnd/wUiuvj5rEHw2+JIt4fG7QltM1e3QRx6qEUs6SIOEmCqW+UBWAbhSAGAP0JooooAKK87+PHx58Ifs4/Du+8Y+M9Q+x6dAfLggjAae8nIJSGFM/M7YPsACSQASPyF+JX/BRb9on9qjxqfDfwut9S8MWdxuFtofhKJpr90H8ctyF8wEA8snlqB1HGaAP2+or8O0/YX/bV161/tK6TXjcOm4R3vjGHz2GMgHNycHthiMd8Vgf8L8/a6/Yl8S2cPivUfE1pbSS7xYeK2OpafeAH5kSZmcY458mRSM5yM0AfvHRXzZ+xb+254X/AGvvCUzW8K6F400xAdU0B5d5VScCeFiBviJIHTKk7W6qzfSEwdoZBEwWQqdrMMgHHBNAD6/ns/ZZ/wCUgHgr/scz/wCj3r17VPCv/BQSDU7uOW4+JDyLKwZrXU90ROTkoUk2lfTbxjpXx/4Ft/HE3xY02HwqdSHxAbUttmbKQrd/bNx+62eH3Z5zQB/TrRX4gf8ACNf8FAf+e3xQ/wDBi/8A8cr6s/4J06B+1VZfF/Wrr4zXPin/AIQ1dHkRI/Et4Jg92ZYjH5SliwIQS5YDGODyRQB+idFFfin8ev2lPivov/BRTUdD0/4j+J7HQbfxhZWUej2+qzJYiDzIVMZtw3llSCcgqc5Oc5oA/ayivzR/4KGf8FLr/wCHuu6h8LfhFdKPElu/2fV/EkarL9jk6NbW4IIMo6M5zsOVA3AlfjeP9n39snxdp58VvpHxHu/MHn/aLvVJku2/iDCJ5RKTzkYX6UAfvtRXw1/wSp8V/FvXPh9440z4rT+JZ7rSNThgsf8AhKYphdRgxkyR75hvYAheCTtz2zXvX7aXirWPA/7KvxM1zQNRuNI1iz0iR7a+tHKSwsSq7kYcq2CcEcjqOaAPa6K/Kv8A4I+/G34hfEz4p+PNN8YeOfEXiuxg0aO4hh1zVJr0RSeeq7k81m2nBI4xmv1UoAKKK/MX9tj/AIKyS+Dde1HwP8F/sl3f2bPbX/iy5jE0UUoJDJaxn5XKkf6xwVJBwrDDUAfp1RX4ReH/AIU/tq/tRWcXiKGTxxqemXJV4rrVNaGmWzI3IkhilljDJg5zGpHpUWtfDL9tX9mGE6/MfHmk2NsDJJcadrH9p2qLnlpUhllQLwP9YuOlAH7xUV+YP7EH/BVzVPHvjLRfh98Xre1a/wBUmjstO8T2MIhElw7BUS5iHyjexCh0CgEjK4JYfp9QAUUUUAFfkX/wXB/5H74Wf9gy9/8ARsdfrpX5F/8ABcH/AJH74Wf9gy9/9Gx0AfZX/BLj/kxP4Zf9xP8A9Ol3X1VXyr/wS4/5MT+GX/cT/wDTpd19VUAFeLftPfsm+Bf2qvBU+jeKLCO31eOM/wBm+ILeJftlhJzgq3BZMn5oydrexAYe00UAfzjzx/EL9gv9pxlR/sXinwrffKwyLfULZun+9DNGenUBuzLx/QD8EvizpHx0+FHhjx5oZxp2uWa3IiLbmgkyVlhY92SRXQ+6mvgT/gtV8F7fU/Avg74pWkSrqGl3f9iX7KOZLeUNJCzH0SRHA/670n/BEv4pT6p4H+IHw/u7lnTSLuDVbGJ2ztjnVklC+ih4kOOmZCe5oA/TOiivy1/4LDfG34g/DPx98PNN8H+N/EHhOyuNMuLieLQ9SmsvOk80KC5iZS2AOASQOcdTQB+pVFeFfsNeK9Z8cfsmfDXXPEGp3Ws6xeaaWuL+9lMs0zCWRQzueWOFHJ5OK5//AIKBab8YdU+AqR/BObU4vFSavbyXX9jzCK6azCSBxGxIP+sMJIU5IB7ZoA47/grRcPD+xV4mRT8suo6ejfT7SjfzUV4D/wAEN7dV8P8Axgn/AInutLQ8dlS6I/8AQjXx/wDH3Rf2tLH4b3cvxck8cN4KE8InGuXjSW3mbh5eVLnndjHHWuX/AGY9L/aI1Cx18/A1/FSWiyQ/2r/wjdyYV34fyvMwwycb8fjQB/RZRX4hJ4X/AOCgLsqib4ngscDdqbAfmZOK+lf21fDv7X80nwtb4e3fiZ44vCdrDr//AAjd4kZOsDP2lpNjjdn5Np+7w2O9AHm//BcK4dvG3wpgJ/dpp1+4+rSwg/8AoIr7W/4Jq262v7EPwuRehtbt+ndr24Y/qa/Fv9prTvjpp+raEPji/iR9QaCQ6Z/wkdwZn8vcvmeXljgZ25/CvTPg3oX7ZF18NNDl+G0vj5fBDRv/AGYNJvmjtdnmNu8tQ4wN+/t1zQB++VFfkd+zL4a/bfX4+eBZPF1x46TwpFqsMmr/ANt6hutTZhv3wdXchspuAABOSMc1+uNABRX55/txf8FTbL4K65f+A/hdb2XiDxdalodR1i5Jks9NlHBiRBjzpV5zztQjB3Hcq/GXh7wz+2t+2BAuv2d9401TSLld0d5Nqa6Pp0iE8tFGXijcZ/55qentQB+7NFfhdrX7LH7bHwZgOuWi+MvLt8TPL4e8Sfa5AVyeYYpi7cZ/gIwcd8V6n+yX/wAFbPFfhbxJaeFfji39taJJN9nbxGLcRX2nHO3M0aKBKikc/KJBycuRtoA/X6iq2m6laaxp1rf2FzDe2N1Es9vc27h45Y2AZXVhwVIIII6g1ZoAKK/LX/gsN8bPiD8M/iB8PNO8H+N/EHhOyuNMuLieLQ9SmsvOk80KGcxMpbAHGSQOcdTXe+LP+CiA/Z5/Yz+FN9e3J8YfFjxJ4dhnt4b6UuVG0qby6IO4ruGAMhpGDcjDMAD9DaK/AfTNF/a+/a3abxdp7eOfEtlO7NHeR3jWNhwcEQKXjiwDkYjHHPvX0p/wTkuf2jPAX7UFr4J+Io8cWvheXTLqSex8RC4mtFKLmN4nkyq/PgZjODnHNAH6yUUV+ef7cX/BU2y+CuuX/gP4XW9l4g8XWpaHUdYuSZLPTZRwYkQY86Vec87UIwdx3KoB+hlFfhN4e8M/trftgQLr9nfeNNU0i5XdHeTamuj6dIhPLRRl4o3Gf+eanp7VY1r9lj9tj4MwHXLRfGXl2+Jnl8PeJPtcgK5PMMUxduM/wEYOO+KAP3Ror8gf2S/+Ctnivwt4ktPCvxxb+2tEkm+zt4jFuIr7TjnbmaNFAlRSOflEg5OXI21+uum6laaxp1rf2FzDe2N1Es9vc27h45Y2AZXVhwVIIII6g0AWaKK/LX/gsN8bPiD8M/iB8PNO8H+N/EHhOyuNMuLieLQ9SmsvOk80KGcxMpbAHGSQOcdTQB+pVFfA1z/wUP0X9nj9j34War4lvZvG3xO1zw9BcQ6W9wDPKdpH2m6k5KISPvEFnIOM4Zl+Nrbxd+2h+3lcXGreHpdfTw2JW2JpF0ui6VGDkFFdnTz9vIOWkYZ560AfuFRX4P8Ajz4Dftifst2Mviy5vvFtnplofMn1TQ9fe8ijVcjdMkchITB6uu3B5719W/8ABP3/AIKfar8TPFmm/DT4uTW0ms6gwg0jxLHGsP2qcn5YLhFAQO3RXUKCcKRk5oA/TOiiigAorh/jR8ZvCnwC+Hmp+NPGWofYNGsQAdi75Z5G4SKJP4nY9B9SSACR+PHxd/4KUfHv9pbxoPDnwuh1Lwrp9zI0djo3haFptUuF67pJlBfcACf3WxQOucZoA/b+ivwxX9if9trXof7VnsfFEtxIEdTeeMbdbh8jqQ91uBGBkNg8jjrWVZ/tMftbfsX+IrS08V33iSC2L7l0zxnG99Z3S91jlck4/wCuMg+tAH7x0V84fsT/ALaGhftheBr29t7FtD8VaMY49Y0ln3ohcNslif8AijfY/XlSpB7M30fQAUV4l+1Z+1l4O/ZL8A/294kkN9qt3uj0nQreQLcX8qgZAODsjXI3SEELkcFiqn8nPEf7Zn7VH7Z3i680XwC+tafZMMjQ/BMbQLbRE4DTXQxJg9CzyKhOcAZxQB+6FFfh7J+wj+2ssZ1MrrjXwPm7B4zgNxuz13facZ7/AHv1rH8L/tlftR/sZ+MrXRPHFxrl7axfM+geNkedbiL1iuGzJgZ4aNyoPUHGKAP3aorxv9lv9qTwj+1d8OY/E/hmQ2t5AVh1TRp3DXGnzkZ2NjG5DglXAwwB6EMo9koAKKKKACiiigAooooAKKKKACiiigAooooAKKKKACiiigAooooAKKKKACiiigAooooAKKKKACiiigAooooAKKKKACiiigAooooAKKKKACiiigAooooAKKKKACvkH9vD/gn/AKP+1npcWv6JcweH/iNp8Bit76VT5F/GOVguMDIwc7ZACV3EEMMAfX1FAH85Ok698bf2D/itKkX9reBPEUTYmtbhN1pqESnupzHcRHnDDIGcqQea/Rz9nT/gsh4N8ZNaaR8V9HbwTqr4T+2dPD3Gmu3qycyw5P8A10A6lgK+7/iR8KvCHxg8Ny6D408Oaf4k0mTn7Pfwh9jYxuRvvI3+0pBHrX5rftK/8EZ1SG81v4K607yLuk/4RbXJR83fbBcnGPQLL+MlAH6g+HPE2keMNFtdY0HVLPWtJuk3wX2nzrPDKvqrqSCPoa06/nX+Dvx6+MH7CXxQu7OCK+0O6glC6v4T1qN1trocY3xnGCRgrKnOCMEqSD+5X7Lv7S3hr9qj4VWXjHw9m1m3fZtS0uVw0thdAAtExwNwwQytgblIOAcgAHM/t7/BM/Hj9lnxpoNtB5+s2Nv/AGxpagZY3NuC4Rf9p08yP/tpX5l/8Ee/jR/wgH7R154Mu5/L0vxpYtbopOF+2QBpYSfqnnp7l1r9uK/nt/aq8C6j+x9+2pq7+H0+xR6XrEPiPQSBhBC7ieJB6qjboj6+WaAP6EqK574e+NtO+JXgPw94s0l9+ma3YQahbknJCSoHAPuM4PuDW9NMlvE8srrHEilmdzgKByST2FAH5N/8FsPjN9t17wP8LLOfMdjE2v6iitkea+6K3U+jKgnOPSVa+pP+CVvwU/4VL+yno2qXdv5Ws+MJW124LD5hA4C2y5/u+UqyD3lavyz8QTX37d/7eEsdq8rWnizxCLeB1zug0yL5Q4HYpbRFj7g+tf0C6Xptroum2mn2MCWtlaQpBBBGMLHGqhVUD0AAH4UAWq/mV8YaZrGufHTxHpfh+C7utZ1DXryytbaxDGad5Z3j8tQvJ3BiuO4JFf01V/Pt+zd/ykU8Lf8AY8yf+lD0AfqP+wP+wNon7Lfhm28R+IYINU+KGoQf6XenDppqMObe3PY44eQcscgHbwfsKiigD4h/4Kz/AADsvih+zbd+Mba1iHiPwXIt9Hc7QJJLNiEuIc/3RuWX6xcdTn8i/gr4d+Jfx2utN+C3g27vLvTNV1P+030nzCtnFMECNdzYHCpGBknPQAAsQD+/v7V+mxat+y/8XLWYfI/hPVD9GW0kZT+BAP4V+Sv/AARt/wCTuLz/ALFm9/8ARtvQB+p37KH7JPg39k3wGmi+HoFvdbulVtX1+aMC4vpQPx2Rgk7YwcDOTliWPuNFFAH5U/8ABaj4DWdrD4R+LmmWsUFzPP8A2FrDxqA07FGktpGx1IWOZCx7eWOwr2f/AII6/E658afsw3vhu9maWbwprEtpBuOSLWVVmQfg7zAegArd/wCCu1jFd/saarLIMva6xYTR+zGQp/J2rwv/AIIbzM2h/GGI/cW40ph9St2D/IUAfqNXxV/wV5/5M21H/sNWH/obV9q18Vf8Fef+TNtR/wCw1Yf+htQB+V/7G/7KPij9rr4hQeHLOe50/wAH6ZILvWdV5MVmj4BCA/KZpBGFUf7OTwhr98/hH8IvCnwN8B6d4P8ABulRaRolivyxpy8rnG6WR+ryNjlj7DoAB+fv/BD7/kQfin/2E7L/ANFSV+mlABX4R/8ABVX4CWfwX/aYm1XRbWKy0LxfbDV4beBdqQ3AbZcKB2y4Enp+9wOmK/dyvyr/AOC5WmxD/hTl+Bic/wBrQN7qPsjD8iW/OgDx/wDYq/ZF8Wft2/EW6+J3xb1PU9R8GWkiRT3t1Kwn1iWNVVbaNuNsSKAHdcY+6vzEsn7SeH/D+meFNEsdG0awt9L0qxhW3tbK0jEcUMajCqqjgACvk/8A4JP/APJkvhD/AK/dR/8ASuWvsCgCrqemWmtabdafqFrDe2F3E0FxbXCB45Y2BVkZTwQQSCD61/O78dfB2o/sb/tiaxY6HI0UnhXXYdU0ht5/49yUuLdWPf8Aduit64b6V/RZX4Xf8FfLGK0/bHvpYxh7rRLGaT3YKyfyRaAP3C0HWbfxHoenataHdaX9tHdQse6OoZf0Iq/XnH7NczXH7Onwslf78nhTSmOPU2cRrrPG3iA+E/Bev64EWQ6Zp9xehG6N5cbPg+3y0AfiF/wUf+Oes/tNftVSeCfD0supaL4fvh4e0bT4DkXF6zrHNIB3Z5v3YPdY0x1NfrJ+yH+yj4Z/ZR+F9noWlwQXXiK5jSXW9bCfvL24xyATyIlOQidAOT8xYn8NP2T/AIgeGvB/7Ufgvxr8QtRktdD07U31W9vFged/OVHkjOxAWJM2zoOM57V+v/8Aw9g/Zt/6G/UP/BJd/wDxugD7ArlPil8LvDPxm8C6p4R8XaXDq2h6jEY5YZVGUP8ADIjdUdTyrDkEZr5q/wCHsH7Nv/Q36h/4JLv/AON0f8PYP2bf+hv1D/wSXf8A8boA/Kjw/qWv/wDBP79tdoZLqZ/+EV1kWt6Yxg3+mSbScr0/eW7q4BztYqeqiv6E7e4juoI5oXWWGRQ6OpyGUjIIPpiv58f+Chnxj8FfHr9pLUPGXgO+k1HRrzTrSOSeW1kt2M0aFGBVwCcKqc4/lX7kfsz6nNrX7N/wp1C4dpLi78J6TcSMxySz2cTEn3yaAPSq/ns/ZZ/5SAeCv+xzP/o96/oTr+ez9ln/AJSAeCv+xzP/AKPegD+hOiiigAr+d/8Abp1K60b9tr4nahYzva3trr/nwTxnDRyKEZWB7EEA/hX9EFfz4ftiWkOoft+eObW5jWa3n8UxRSRsOGVmjBB9iDQB9t/8Erf2Ibew0ez+OPxAsft2u6kTceHbO+Xf9niJz9uYN1lkOShPRcOMlwV/TSora2hs7eK3t4kggiQRxxRqFVFAwFAHAAHapaACvn/9vz/kzb4sf9gZ/wD0NK+gK+f/ANvz/kzb4sf9gZ//AENKAPz2/wCCI/8AyWj4h/8AYvx/+lKV+xNfjt/wRH/5LR8Q/wDsX4//AEpSv2JoA+R/+CnH7RFz8Av2a76HRruSz8UeKZv7HsJ4SQ8CMpa4lB7ERgqCOQ0ikdK+HP8Agkl+yTpPxd8Xar8TvF1hHqXh/wAM3CW2mWU67op9Qwshd1IwwiRkO09WkU/w4PR/8FvvFU9z8R/hl4bL/wCjWWk3OohB3eaYRkn8LcY+pr7O/wCCYHhOHwp+xT4BKKon1T7XqU7KMbmkuZApPuI1jH/AaAPqnpwOBS0UUAfKHxQ/4Jv/AAv+IPxs8M/E3TVn8Ia1pmqQanf2ukRottqbxSLIC6EYjcso3On3gWyCx3D6voooAKKKKACvyL/4Lg/8j98LP+wZe/8Ao2Ov10r8i/8AguD/AMj98LP+wZe/+jY6APsr/glx/wAmJ/DL/uJ/+nS7r6qr5V/4Jcf8mJ/DL/uJ/wDp0u6+qqACiiigD5j/AOClehRa/wDsS/EyKSMSPb21teRkjJRo7uF8j04DD6E1+d//AARb1U2f7UniKzLHZeeE7kBf9pbq1YH8t351+i//AAUi1T+yf2JfilPu277K3t+uP9ZdwR46/wC3X5z/APBFvTftf7U3iK6I+W18JXTA/wC011aKP0LUAftbX5Af8FvP+SqfDT/sC3H/AKPFfr/X5Af8FvP+SqfDT/sC3H/o8UAfev8AwTx/5Mt+FX/YMb/0fLX0VXzr/wAE8f8Aky34Vf8AYMb/ANHy19FUAfGv/BWz/ky3xB/2E9P/APR4rwr/AIIc/wDIq/Fv/r903/0XcV7r/wAFbP8Aky3xB/2E9P8A/R4rwr/ghz/yKvxb/wCv3Tf/AEXcUAfp/RRRQB+Rf/BcH/kfvhZ/2DL3/wBGx19v/wDBN7/kyX4W/wDXlcf+lc9fEH/BcH/kfvhZ/wBgy9/9Gx19v/8ABN7/AJMl+Fv/AF5XH/pXPQB9K180/wDBQn9oqf8AZu/Zt1vWNKuvsvinV3XSNGkX70c8gJeUehjjWRgem4ID1r6Wr8mP+C4Hi64l8S/C3wurbbSC0vNSdQfvu7xxqT9BG2P980AeZf8ABLP9j7T/ANobx5q3xA8b2n9p+EvDdwiR2dyC0epagw37ZCfvJGu12U/eMkYORuB/bGKJIY0jjRY40AVUUYCgdAB6V+WH/BPj9uL4Ffs4fs16V4W8UeJLux8TTX93f6hbw6VczKjvJtT50Qq37qOI8HvjtX0l/wAPYP2bf+hv1D/wSXf/AMboA+wK/L//AILB/so6QfCcPxt8OadFZapa3Mdp4jFugVbqKQhIbl8fxrIUjJ6sJFz9yvoD/h7B+zb/ANDfqH/gku//AI3XkP7XP/BRP4BfGT9m3x/4N0TxLeXus6rpxjsoJtHuUV5ldXQFmQBfmQck8UAbH/BHH47XnxA+Cuu+ANWuXub3wbcxmyeRsn7DcBjHGO52SRyj2V0HAAr9Bq/GH/gifqc0X7SHjPT1dhb3HhOW4dc8Fo7y1VT9QJW/M1+z1AH5Af8ABbz/AJKp8NP+wLcf+jxXmH/BOv8AZDvP2t/iN/wlHjlrm9+HvhVYLWVZmbF9LGi+TZKe0aoAz46KVHBfcPT/APgt5/yVT4af9gW4/wDR4r7r/wCCcOl2el/sW/DEWdtFbfaLKW4m8tAvmSNcSFnb1J45PoPSgD6MsLC20qxt7KytobOzt41hht7dAkcSKMKqqOAAAAAOBirFFFAHzT/wUJ/aKn/Zu/Zt1vWNKuvsvinV3XSNGkX70c8gJeUehjjWRgem4ID1r84f+CWf7H2n/tDePNW+IHje0/tPwl4buESOzuQWj1LUGG/bIT95I12uyn7xkjByNwPpv/BcDxdcS+Jfhb4XVttpBaXmpOoP33d441J+gjbH++a1f+CfH7cXwK/Zw/Zr0rwt4o8SXdj4mmv7u/1C3h0q5mVHeTanzohVv3UcR4PfHagD9T4okhjSONFjjQBVRRgKB0AHpT6+P/8Ah7B+zb/0N+of+CS7/wDjdH/D2D9m3/ob9Q/8El3/APG6APn/AP4LB/so6QfCcPxt8OadFZapa3Mdp4jFugVbqKQhIbl8fxrIUjJ6sJFz9yu6/wCCOPx2vPiB8Fdd8Aatcvc3vg25jNk8jZP2G4DGOMdzskjlHsroOABWP+1z/wAFE/gF8ZP2bfH/AIN0TxLeXus6rpxjsoJtHuUV5ldXQFmQBfmQck8V8/8A/BE/U5ov2kPGenq7C3uPCctw654LR3lqqn6gSt+ZoA/Z6vyA/wCC3n/JVPhp/wBgW4/9Hiv1/r8gP+C3n/JVPhp/2Bbj/wBHigDl/wDgnR/wT/m/aIvIPiR8S4bp/AFmVi06xmdg2sPF8gXPUW8e3acY3EbQQFav2e03TbTRdOtbDT7WGxsbWJYYLW3jEccUajCoqjhVAAAA4GK+fv8Agnj/AMmW/Cr/ALBjf+j5a+iqAGyRpNG0ciq6MCrKwyCD1BFfz7/8FBfgYv7Mv7VesWfh9f7L0bUvL8Q6ItofL+yxyO2UTH3PLmjlVQOiqlf0FV+QX/Bb6ySP4ofDO7AXzJdHuYicc4ScEc/8DP60Afp5+z78RZPi58DfAfjKcKLrWtGtby5VPurO0a+aB7B9w/CvQa+bP+CcUjTfsT/CxnO4/YZ1/AXUwH6CvpOgD8Sf+Cun7RF18S/j0Ph5p13IfDfg1RFLApISbUXXdLIR32KyxjI4Ikxw1foz+wP+yTpH7L/wb003FhH/AMJ7rVvHda7fuuZVdhuW2UkZVIwQuB1YM3cY/Hr4bxn45ft66LLqZWdPEHj4Xl0rcq8bXplkUexXIH4V/RFQAVz/AI8+H/hz4oeFb7w34s0az1/Q71Nk9lexh0b0I7qw6hlIIPIINdBRQB84fso/sP8AhL9kbxJ441Lwtq+pahbeJHgEVnqG0/YYojIRGHAy/Mh+ZucKo5OSfou4uI7WCSeaRYoY1LvI5wqqBkknsAKkrxf9tDxdceBv2UfiprFo2y6j0C5gifOCjTL5IYe4MmR7igD8YvjJ408S/wDBQf8AbQi0/SLmSS11fUxo+gJIpMdlpyMx80p1ACB5375Le1fuD8B/gP4S/Z0+HWneD/B+npaWVuoae5YDz72bHzzTN/E7H8AMAYAAH4df8E6fi94B+BP7RUfjX4h6lLpemafpV0lnLDaSXLNdSbIwNsakgeW83PTjHev1J/4ewfs2/wDQ36h/4JLv/wCN0AfYFeVftLfs7eGP2mvhXqng/wAR2sRlkjZ9N1IxhpdPutp2TRnqMHG4A/MuVPWvFP8Ah7B+zb/0N+of+CS7/wDjdH/D2D9m3/ob9Q/8El3/APG6APzP/YH+KGufsu/tnab4b1d5LK11HVH8Ja/Y7vkEplMKMe2Y7gKd393eP4jX74V/N5+0x8StC8YftTeMvHfgq6kn0a91v+1bG58loHZiVcttYZB37uo96/pDoAKKKKACiiigAooooAKKKKACiiigAooooAKKKKACiiigAooooAKKKKACiiigAooooAKKKKACiiigAooooAKKKKACiiigAooooAKKKKACiiigAooooAKKKKACiiigAooooA+L/wDgqB+y5oPxm+AuveOYbNYPGvg3T5NQttQjwrTWcX7yeCXj5lCeY691YcEBmB+HP+CN3xKvfDH7TOoeEhMx0vxPpEwkt92F+0W/72OTHchPPX/toa/Tv9un4i6b8M/2S/idqOozLE19otzpFohIDSXF1G0EaqO5BfcR/dVj2r8sf+CPfgm58SftbJraQ7rTw7o13dyzHorSgW6L/vESsceit6UAfuNX5m/8Fqfgl/bHgnwh8U7G33XOjznRtSdRybaUl4GY/wB1JQ6/WcV+mVcB8fPhTZ/HD4MeMfAt6FEet6dLbRSOMiKfG6GT/gEqo3/AaAPkb/gjr8aP+E8/Z31DwPeT+ZqXgy+McSscn7FcFpYj68SCdfYKo9q9b/4KQfGYfBf9kvxhdQT+Rq+vRjw/p+DhvMuAyyEHsVhEzAjuor8u/wDgmX8U7v4C/tjaf4e1kPYW3iFpfDGo28px5VyXHk5H94ToqewkavVv+C0XxmPiT4teFvhrZT7rTw3ZG/vo1PBu7nGxWHqsKow/67mgDc/4Ip/BL+0vFXjL4q31vug0yIaHpjsMjz5Aslww9GWMRL9JzX6314Z+xN8E/wDhQH7M3gnwrPB5Grm0GoaoCMN9sn/eSK3qU3CP6Rivc6ACv59v2bv+Uinhb/seZP8A0oev6Ca/n2/Zu/5SKeFv+x5k/wDSh6AP6CaKKKAPNP2mv+Tbfiv/ANilq3/pHLX5F/8ABG3/AJO4vP8AsWb3/wBG29frp+01/wAm2/Ff/sUtW/8ASOWvyL/4I2/8ncXn/Ys3v/o23oA/b+iiigD41/4K2f8AJlviD/sJ6f8A+jxXz/8A8ENf+QV8ZP8ArtpP/oN5X0B/wVs/5Mt8Qf8AYT0//wBHivn/AP4Ia/8AIK+Mn/XbSf8A0G8oA/Uqvir/AIK8/wDJm2o/9hqw/wDQ2r7Vr4q/4K8/8mbaj/2GrD/0NqAPIP8Agh9/yIPxT/7Cdl/6Kkr9NK/Mv/gh9/yIPxT/AOwnZf8AoqSv00oAK/LX/guV/wAgr4N/9dtW/wDQbOv1Kr8tf+C5X/IK+Df/AF21b/0GzoA+iv8Agk//AMmS+EP+v3Uf/SuWvsCvj/8A4JP/APJkvhD/AK/dR/8ASuWvsCgAr8Nv+Cwv/J4D/wDYv2P85a/cmvw2/wCCwv8AyeA//Yv2P85aAP1+/Zl/5Nt+FH/YpaT/AOkcVafx0s21H4I/EK0Th5/D2oRL9WtpAP51mfsy/wDJtvwo/wCxS0n/ANI4q9HuLeK8t5YJ41lhlUo8bjIZSMEEehFAH85H7Fvwi8OfHj9pfwd4D8WSXkWhawbtJnsJhFMGjtJpY9rFWHLxqOnQmv1R/wCHNvwE/wCfzxh/4NIv/jFfl3oEl5+xz+2hZnUopEHgrxSEnU5LS2ay4Zl9d8Dbgf8AaHHav6JNL1S01zS7PUdPuY7ywvIUuLe5hYMksbqGV1I6gggg+9AHw/8A8ObfgJ/z+eMP/BpF/wDGKP8Ahzb8BP8An88Yf+DSL/4xX3VRQB8N2f8AwR0+ANrdQzSSeK7uNGDNBNqqBJAP4WKxK2D7EH3r7V0DQbDwtoOm6LpVqljpenW0dnaWsedsMMahEQZ7BQB+FX6KACv57P2Wf+UgHgr/ALHM/wDo96/oTr+en9nqQeHf+Cg3g+Oc8xePltDnj5mvDEP1YUAf0LUUUUAFfz7ftc/8pCPGf/Y2w/8AoUVf0E1/Pt+1z/ykI8Z/9jbD/wChRUAf0E0UUUAFfP8A+35/yZt8WP8AsDP/AOhpX0BXz/8At+f8mbfFj/sDP/6GlAH57f8ABEf/AJLR8Q/+xfj/APSlK/Ymvx2/4Ij/APJaPiH/ANi/H/6UpX7E0AfjD/wWwt5F/aR8GzliYn8Jwoq9gVvLok/+PD8q/Rj/AIJ73kd9+xj8KZIiCq6V5Rwc/Mk0iH9VNfIP/Bbv4bz3Wh/DXx5bW5aCznudGvZgM48wLLAD7fu5/wASK9F/4I3/ABis/Fv7POoeAZZ0XV/CWoSvHb7vmazuWMquB/11M4OOny+tAH3/AEUUUAFFRT3MNqqGaVIg7iNTIwXLE4CjPcntUtABRRRQAV+Rf/BcH/kfvhZ/2DL3/wBGx1+ulfkX/wAFwf8AkfvhZ/2DL3/0bHQB9lf8EuP+TE/hl/3E/wD06XdfVVfKv/BLj/kxP4Zf9xP/ANOl3X1VQAUUVkeLPF2i+A/DeoeIPEWp2ujaLp8Rnur68kEcUSDuSfyA6kkAcmgD4U/4LOfEy38N/s66F4OS4C6l4m1lJDBnlrW2UvI34Stb/n7V55/wRD+HDQaH8SvHs8DYubi20W0mIwMRqZpwD3yZIP8Avmvjr9rT45a/+3b+07AvhbTri8s3lTQ/DGlouJHi3nEjg8K0jMXYn7q4BOEzX7b/ALMHwQs/2dfgX4T8B2vlyT6baBr64j6XF25LzyZwCQXZtueQoUdqAPU6/ID/AILef8lU+Gn/AGBbj/0eK/X+vyA/4Lef8lU+Gn/YFuP/AEeKAPvX/gnj/wAmW/Cr/sGN/wCj5a+iq+df+CeP/Jlvwq/7Bjf+j5a+iqAPjX/grZ/yZb4g/wCwnp//AKPFeFf8EOf+RV+Lf/X7pv8A6LuK91/4K2f8mW+IP+wnp/8A6PFeFf8ABDn/AJFX4t/9fum/+i7igD9P6KKKAPyL/wCC4P8AyP3ws/7Bl7/6Njr7f/4Jvf8AJkvwt/68rj/0rnr4g/4Lg/8AI/fCz/sGXv8A6Njr7f8A+Cb3/Jkvwt/68rj/ANK56APpWvxz/wCC29m0fxu+H92fuS+HmiH1W5kJ/wDQxX7GV+bn/Ba74XXGu/CvwN48tLfzB4f1CawvJEHKQ3SoUZv9kSQqvsZR60AcN+xP/wAE2fg9+0P+zR4R8eeI7rxJHrupG8S7Sw1COOFWiu5ol2qYiRlEQ9TyTXuX/Dm34Cf8/njD/wAGkX/xiuP/AOCLvxis9e+DviX4cXFwi6xoGotqNvAW+Z7OcLkgdwsqvkjp5qevP6NUAfCv/Dm34Cf8/njD/wAGkX/xij/hzb8BP+fzxh/4NIv/AIxX3VRQB4D+zT+w/wDC/wDZT1PVNU8F2eoS6xqMH2WbUdVu/PlEG4MYlwqqqllUn5ckqOeK9+oooA/ID/gt5/yVT4af9gW4/wDR4r71/wCCeP8AyZb8Kv8AsGN/6Plr4K/4Lef8lU+Gn/YFuP8A0eK+9f8Agnj/AMmW/Cr/ALBjf+j5aAPoqiiigD8c/wDgtvZtH8bvh/dn7kvh5oh9VuZCf/QxXYfsT/8ABNn4PftD/s0eEfHniO68SR67qRvEu0sNQjjhVoruaJdqmIkZREPU8k13P/Ba74XXGu/CvwN48tLfzB4f1CawvJEHKQ3SoUZv9kSQqvsZR61Z/wCCLvxis9e+DviX4cXFwi6xoGotqNvAW+Z7OcLkgdwsqvkjp5qevIB2H/Dm34Cf8/njD/waRf8Axij/AIc2/AT/AJ/PGH/g0i/+MV91UUAfCv8Aw5t+An/P54w/8GkX/wAYr2z9mn9h/wCF/wCynqeqap4Ls9Ql1jUYPss2o6rd+fKINwYxLhVVVLKpPy5JUc8V79RQAV+QH/Bbz/kqnw0/7Atx/wCjxX6/1+QH/Bbz/kqnw0/7Atx/6PFAH3r/AME8f+TLfhV/2DG/9Hy19FV86/8ABPH/AJMt+FX/AGDG/wDR8tfRVABX5F/8Fwf+R++Fn/YMvf8A0bHX66V+Rf8AwXB/5H74Wf8AYMvf/RsdAH2//wAE3v8AkyX4W/8AXlcf+lc9fStfNX/BN7/kyX4W/wDXlcf+lc9fStAH87f7E0n9i/ts/DJLltzx+JEt2ZiOXZmQfjuIr+iSv52f2i9F1H9mj9trxRLb2vkTaB4rGu6bE3CmEzrd22D6bGQfgfSv6CfAvjTSviN4L0TxTodyt3pGsWcV7azKQcxuoYA46EZwR2II7UAbtFFFABXzl/wUTs2vv2K/irGnBXTY5fwS4ic/opr6IS5hknkhWVGmjCl41YFlBzgkds4OPoa5X4weA4/ij8KPGPg+XZt13SLrTg0nRWliZFb2wSDntigD8K/+CdX7N/gz9qP43ax4Q8bS6lDp9voE+pW7aXcLDIZkuLdACWRgRslc9Owr9Gf+HNvwE/5/PGH/AINIv/jFfm3+wT8TB+zr+2P4Yn8S/wDEptTdT+H9XFydn2bzQYvnPQBJhGWzwAp+tf0HUAfCv/Dm34Cf8/njD/waRf8Axij/AIc2/AT/AJ/PGH/g0i/+MV91UUAfFPhf/gkT8AfDev2OqSW/iLWRayrMLLUtTVreUg5AcJGjEZ7bsHvxX2tRRQAUUUUAFFFFABRRRQAUUUUAFFFFABRRRQAUUUUAFFFFABRRRQAUUUUAFFFFABRRRQAUUUUAFFFFABRRRQAUUUUAFFFFABRRRQAUUUUAFFFFABRRRQAUUUUAfOn/AAUI+HPif4rfsj+O/D3hC3uL7XJI7e4jsbUnzLqOK4jlkiUDliURiFH3iAO9flP+zv8A8FL/AIxfs1qnhnWQPGfh6xfyDo/iIul3aBTgxxT/AH0xjG1w6rjAUV+8deSfGX9k/wCEvx/bzfHPgfTdYvgu0akga2vAOw8+Iq5A7Akj2oA+Y/Bn/BZj4K65p6vr2k+J/DN+FBkha0juot3cJJG+WHuyLU/iz/gsl8DtF0t5tGsPE/iK/IPl2sVglum7HG95JBtU+qhj7VleJf8Agix8HdSmml0fxT4w0UyFisLXFtcQx+gUGEPge7k+9M8L/wDBFf4RaXdQza14r8Wa2iD5rdJre2jkOe+IiwGOwYH37UAfn/8AtHftU/FL9v34iaPoNpo04sFuCNF8H6KHnxIQQZJGwDLIFzmQhVVd2AoLZ/Wf9gH9j2P9kv4TyW+qm3uvHGuul1rN1BysWB+7tUb+JY8tz3Z2PTFeqfBf9mn4Zfs96e1t4B8IafoMkibJr5VMt3MvBw87lpGGRnaWwOwFem0AFFFFAH4Vf8FRvhJdfA/9rm48U6MHsbLxQI/ENlcQjHlXitifB/veaol/7aisb9lXQNY/bc/b0sNf8Twpcxz6k/ibWkRSYkt4CrJDg/8ALMt5EPX7rV9f/wDBbbxF4Zi+Hfw80S5s0uPGE2oz3VlcbyGtbNYws+QD0kcwAZ/55tjpWj/wRd+Cn/CN/CrxR8TL6323niS7Gn2DsORaW5O9lPo8zMp/64CgD9HqKKKACv59v2bv+Uinhb/seZP/AEoev6Ca+T/B3/BM/wCEHgf43wfFHTpfER1y31FtVhsZtQRrOO4ZmbIURByAW4Bcjge+QD6wooooA80/aa/5Nt+K/wD2KWrf+kctfkX/AMEbf+TuLz/sWb3/ANG29ftT4t8MWHjbwrrPh3VY2l0vV7KbT7uNGKM0MsbRuAw5BKsea+e/2bP+Ce/wv/ZZ8dXni7wlca/e6xcWklkG1e9jlSKJ2RmCqkSd415bJ60AfTVFFFAHxr/wVs/5Mt8Qf9hPT/8A0eK+f/8Aghr/AMgr4yf9dtJ/9BvK/Qn47/A3wz+0V8NtQ8D+Lluzo15JFK7WM3lTI8bh1ZWII6juDwTXHfst/se+BP2RtJ1yy8FTavdtrUkMl7daxcpNK/lBwgGxEUAeY/Red30oA9yr4q/4K8/8mbaj/wBhqw/9DavtWvOfj98BfC/7SXw3u/BPi4Xg0i4miuPM0+YRTJJG2VZWII9eCCOaAPhH/gh9/wAiD8U/+wnZf+ipK/TSvFP2X/2SfBH7JPh3V9I8FzatdJqs6XF3c6xcpNK7IpVQNiIoABPRe/0x7XQAV+Wv/Bcr/kFfBv8A67at/wCg2dfqVXhv7Un7HvgT9rnStCsvGs2r2jaLJNJZ3Oj3KQyJ5oQSA70dSD5adVyMfWgDzH/gk/8A8mS+EP8Ar91H/wBK5a+wK4H4GfBPw3+zz8NNM8DeE1uhountK8bX03mzM0kjSOWbAH3mPQAV31ABX4bf8Fhf+TwH/wCxfsf5y1+5NfMX7SH/AATy+Fv7UXj628YeLLjxBZaxFbR2jnSL2OKOaNCxUOrxPz855XB4FAHqX7Mv/Jtvwo/7FLSf/SOKvS6yfCXhiw8E+FdG8O6VG0Wl6RZQ6faRuxdlhijWNAWPJIVRzWtQB+b/APwVO/YT1T4rY+Lfw+02TUfE9nbiHXNJtxulvreNcJPEv8UqKNpUcsoXHK4b5h/Yt/4Kga/+zfoVr4I8baVc+LvBNqdto8EgXUNNTvGm8hZIweiMVK5OGwAtft9Xz18cv2B/gn+0FqU+reJfCKWfiCYHzNZ0WZrO5cnqz7Pklb/akVj70AcPoH/BV39mzWLFJ7vxlfaFKyhja6hod40ik5ypMMUi5Hs2OeCa57xp/wAFgPgF4bspZNHuNf8AFlyOI4dP0xoAx5xlpzHgfgTz0rhNS/4Ik/DKW4U6f4+8WW0O/JS5W1mYr6bhEnPvj8K6bwn/AMEZ/gfod0k+rar4t8SbTzbXV/FBCw9xFCr/AJPQB4z4S/4K0fEb43ftEfD/AMJ+DfBenaH4c1TXbSyu7WXffXs9u8yrKxkAVYwse5+EO3aSWIBr9Wa82+EX7N/wx+A0Dx+AvBWl+HZJE8uS7giMl1Iv9155C0jD2LGvSaACv5+v29vhjrn7Ov7ZHifUbVZbKLUdV/4SnRL9Vwp82XzsofWObemP9gHoRX9AtedfG79n3wD+0V4WXQPHvh+DW7ONjJbylmjuLVyMb4pVIZD0yAcHAyCKAPmH4S/8Fdvgj4q8HWF1421K78E+JBADe2Dadc3cPnDgiKSFHyp6jdggHB6V3/7Pf/BQz4e/tNfGa/8AAPgvTdadbXTJNSGsX0CwwzbJI0Kqm4uB+9BBYL0Ix0z4vqX/AARR+EdxfSy2fjHxlZ27HKQNNaybPbd5AyPrz9etfRP7MX7DPww/ZPur7UfB9rqN7r17B9ln1nWLkTXBhLBjGoRURVLKpO1QTtGScUAfQdfz7ftc/wDKQjxn/wBjbD/6FFX9BNfJ/wAQv+CZ/wAIPiV8arn4m6tL4iTWrq9TULiztdQRLSWZSpBKmIuAdnIVx1PTjAB9YUUUUAFfP/7fn/Jm3xY/7Az/APoaV9AVy/xQ+HOjfF74fa94N8QpM+i61ataXQt5PLk2HurdiCAR9KAPye/4Ij/8lo+If/Yvx/8ApSlfsTXzv+y/+wr8Of2S9a1rV/Btxrl7qGrQC1mm1m7jm2RB9+1AkaAc45IJ+Uc9c/RFAHm/7RHwQ0f9or4O+I/AWtEw2+qQfuLpRlrW4Qh4Zh67XCkjuMjoa/B7RdW+K/8AwTv/AGjGd7f+yfE2lkxT28oL2eq2bsCRnjzIZNoIYYIKj7rLx/RTXn/xk+AfgD9oDw6uiePvDNn4hsoyWheYMk9ux6tFMhDxk4GdrDPQ5FAHyl8L/wDgsP8ABPxZo9u/i6PWPAurYUXEE1m97bhj1MckIZmUerIp9qi+KX/BYv4MeFNGnbwdbax451gqfIhS0axtt3bzJZgGUd/ljY/TtkeKv+CK/wAI9Uu5p9D8V+K9CWQ5W3eWC6ij56LujDYx6sT79q2vA3/BG74HeGb2O61y+8T+Ltp5tL6/S3t2+ogjST/yJQB8O+Fvip8dP+Cin7UHg5yZv7M0XVrXURZaYHi0zRII5VZp2OT8+FOHYl2Pyr2UfujXNfD74a+FfhT4bg8P+D9A0/w5o0PK2mnwLEpbuzY5Zj3ZiSe5NdLQAUUUUAFfkX/wXB/5H74WHt/Zl7/6Njr9dK8e/aJ/ZN+G/wC1JYaTb+PdImvJtJaRrK8s7l7eeEPt8xQynBVti5DA9OMUAfnt+xn/AMFQPhZ+zt+zZ4P+HviTQPGF7rWj/bPPn0uztZLdvNvJ512M9yjHCyqDlRyD1HJ9kvP+C13wZjhzaeEPHU0ufuzWdlGuPqLpv5V2P/Dob9nn/oHeIP8AwcP/AIU6P/gkR+zwsisdL19wDkq2sPg+xwM0AeE+N/8AguBYJbvH4P8AhdczTknbca5qaxqvPBMcSMWyO28Y9TXyR4y+Ln7Rv/BRbxcuh21rqHiGzjmEsegaHD9n0uxJyFeVidoxkgSTOTyQDziv1j8G/wDBNX9nLwVeLd2/w3tdTuFOQdZvLi9T6eVLIYyPqvevojw34V0XwbpaaboGj2Gh6dGcpZ6bapbwr24RAAOg7dqAPkX9g3/gnbo37LdvF4t8TzQ698TLiAxtPHk2ulo4+aODI+ZyOGlIyRlVABbd9n0UUAFfkB/wW8/5Kp8NP+wLcf8Ao8V+v9fPf7UP7Dvw7/a21LQ9Q8Zz63ZX2kRPBbz6Ndxwlo2YMVYPG4IyOoAPJ56YAIf+CeP/ACZb8Kv+wY3/AKPlr6Krk/hR8MdE+DPw60HwV4cWddF0W3FtbfapfMlK5LEs2BkkkngAc8ACusoA+Nf+Ctn/ACZb4g/7Cen/APo8V4V/wQ5/5FX4t/8AX7pv/ou4r79+PHwN8M/tF/Da/wDA/i5bs6NeSRTM1jN5UyPG4dSrEEdR3B4Jrkv2Xf2QvA37I+ia1pvgubV7v+2Jopry51i5SaVzGrBANiIoA3N0Xv8ATAB7fRRRQB+Rf/BcH/kfvhZ/2DL3/wBGx19v/wDBN7/kyX4W/wDXlcf+lc9av7UX7Efw8/a3udCuvGc+tWV5oySRW1xo12kLFHZWZWDxupGU9AeTz0x6h8IfhXoXwR+G+heB/DS3C6Jo0JgtvtcvmykF2dmZsDJLMx4AHPAAoA7CuU+K3wz0P4yfDnX/AAV4kt2uNF1q1a1uFQ4dc4Kup7MjBWU9iorq6KAP57vHPgL4uf8ABN39oa01C1lksru1ld9K1lIy1jrFpkBkYZwQRgPETuUkEfwMf0I+Dv8AwWY+F/ifSYIviFo+q+C9aVP30tpCb6xdh3Rk/ejPXaUIHTcetfdHjz4e+Gfih4bufD/i3QrDxFo1wP3lnqECypnBAYZ+6wzwwwR2Ir418c/8EcfgX4nvDc6LdeJvCAJ/49dP1BZ4APpcJI//AI/QB22pf8FVP2aLGDzIfHtxqL8/urbQr8N0/wCmkCj9a8E+Lf8AwWw8K6ZDcWvw38D6jrl3grHqHiCRbS3U9mEUZd3X2LRn6Vr6X/wRJ+GMMudR8e+LbqPdnbai1gO30y0T8++Pwr2v4af8Ev8A9nr4ayw3B8HyeKr6LBW58S3b3YP1hG2E/jHQBP8A8E6f2h/Hf7TXwR1bxd49tLWC8XXri0sZbG1a3hltlihb5QSdwWR5F3ZP3cHkGvqeq+n6fa6TYwWVjbQ2VnboI4be3jEccaAYCqoGAAOwqxQB+QH/AAW8/wCSqfDT/sC3H/o8V96/8E8f+TLfhV/2DG/9Hy1N+1D+w78O/wBrbUtD1DxnPrdlfaRE8FvPo13HCWjZgxVg8bgjI6gA8nnpj1j4UfDHRPgz8OtB8FeHFnXRdFtxbW32qXzJSuSxLNgZJJJ4AHPAAoA6yiiigDlPit8M9D+Mnw51/wAFeJLdrjRdatWtbhUOHXOCrqezIwVlPYqK/Bnxz4C+Ln/BN39oa01C1lksru1ld9K1lIy1jrFpkBkYZwQRgPETuUkEfwMf6Ea57x58PfDPxQ8N3Ph/xboVh4i0a4H7yz1CBZUzggMM/dYZ4YYI7EUAfC/wd/4LMfC/xPpMEXxC0fVfBetKn76W0hN9Yuw7oyfvRnrtKEDpuPWvVNS/4Kqfs0WMHmQ+PbjUX5/dW2hX4bp/00gUfrXE+Of+COPwL8T3hudFuvE3hAE/8eun6gs8AH0uEkf/AMfrkdL/AOCJPwxhlzqPj3xbdR7s7bUWsB2+mWifn3x+FAGR8W/+C2HhXTIbi1+G/gfUdcu8FY9Q8QSLaW6nswijLu6+xaM/Svon/gnT+0P47/aa+COreLvHtpawXi69cWljLY2rW8MtssULfKCTuCyPIu7J+7g8g1B8NP8Agl/+z18NZYbg+D5PFV9Fgrc+Jbt7sH6wjbCfxjr6m0/T7XSbGCysbaGys7dBHDb28YjjjQDAVVAwAB2FAFivyA/4Lef8lU+Gn/YFuP8A0eK/X+vnv9qH9h34d/tbaloeoeM59bsr7SIngt59Gu44S0bMGKsHjcEZHUAHk89MAEP/AATx/wCTLfhV/wBgxv8A0fLX0VXJ/Cj4Y6J8Gfh1oPgrw4s66LotuLa2+1S+ZKVyWJZsDJJJPAA54AFdZQAV+Rf/AAXB/wCR++Fn/YMvf/RsdfrpXz/+1F+xH8PP2t7nQrrxnPrVleaMkkVtcaNdpCxR2VmVg8bqRlPQHk89MAGV/wAE3v8AkyX4W/8AXlcf+lc9fStcf8IfhXoXwR+G+heB/DS3C6Jo0JgtvtcvmykF2dmZsDJLMx4AHPAArsKAPzw/4KsfsU6n8ZNFtPil4H097/xVolqbfVdNgGZb2yUlleNR96SMlvl6srYGSig/Hn7DP/BSLWf2WbD/AIQ/xRp1z4o+HzStLDBbOovNMZiWcwbiFdGJJMbFRkkhhlg37pV80fHf/gnb8Ef2gtWutZ1rw5LoniG65m1jw9P9kmlb++6YaJ3/ANpkLHuTQByen/8ABWT9m+809bmbxXqVhMQpNncaJdGUZ6jKIyZHf5u/Ga+bv2kP+CzcU+n3Gj/BfQZ4bmRGRvEniCJQYs8boLcMwJ7hpDgEcxmu6P8AwRJ+Gf24OPH3iz7Ht5h22vmZz13+XjGO22vcPg7/AMEy/gJ8G9QttSg8MTeLNXt23w33ii4F5sI6HyQqw5BwQTHkEDBFAHgH/BIbwD8SbvU/iJ8WfG76m9l4sit47a91aRzNqkiO7NOA3LIoYKr9DuIXgGv0ppFUIoVQFUDAA6CloA/Iv/gqd+wjqul+KNU+NHgLTJL/AEXUN114ksLZS0lnP/Hdqo5MT/efH3W3MflY7cz9kf8A4K63/wAM/DOn+EPizpN94o0uxjEFp4g01la/SMcKkyOyrLgcb9ytgchzzX7DdeDyK+W/jL/wTT+A3xo1G61S78Ly+GNZujmXUPDNx9jLN/eMJDQ7s8lvLyT1JoAztP8A+Cqn7NF5Z+dN49uLCT/n3uNCvy/QHqkLL7de3pzXD+Pv+Cx3wQ8NWbHw7aeIfGF6R8kdvZC0hzj+J5irAfRG+lcjcf8ABEn4ateRtD8QPFUdqPvxSJbM5+jiMAf98mu28E/8EdfgN4ZuEn1eTxN4uIxut9T1JYYSfYW8cTgf8DNAHmX7Lf8AwUv+Jf7T/wC1r4Y8I23hbS9D8DXkd295Z26PdXMMaW8jrLJcHAGJBGuQig7sdSK/TOuL+GHwX8C/BbSX03wN4U0vwxaSYMo0+3VHmI6GST70hHqxJrtKACiiigAooooAKKKKACiiigAooooAKKKKACiiigAooooAKKKKACiiigAooooAKKKKACiiigAooooAKKKKACiiigAooooAKKKKACiiigAooooAKKKKACiiigAooooAKKKKACiiigAoorkfi5p/ibVvhb4tsfBk1vbeLLrSrmDSp7pykcdy0bLGxYA4wxBzjqBQB+FX7dnxUv8A9qb9sfV7XQC2pWsF7F4W0CGM5EoSTywV9RJO8jA+jrX7ofBn4Z2Pwb+FHhPwRp21rXQtOhsvMUY811UeZIR6u+5j7sa/Nn9hL/gmT8Rfhj8f9J8dfE200yw0rw60lxZ2kN6l1Jd3RUrE+EyFVC3mZYg7lXjrj9WaACiiigAooooAKKKKACiiigAooooAKKKKACiiigAooooAKKKKACiiigAooooAKKKKACiiigAooooAKKKKACiiigAooooAKKKKACiiigAooooAKKKKACiiigAooooAKKKKACiiigAooooAKKKKACiiigAooooAKKKKACiiigAooooAKKKKACiiigAooooAKKKKACiiigAooooAKKKKACiiigAooooAKKKKACiiigAooooAKKKKACiiigAooooAKKKKACiiigAooooAKKKKACiiigAooooAKKKKACiiigAooooAKKKKACiiigAooooAKKKKACiiigAooooAKKKKACiiigAooooAKKKKACiiigAooooAKKKKACiiigAooooAKKKKACiiigAooooAKKKKACiiigAooooAKKKKACiiigAooooAKKKKACiiigAooooAKKKKACiiigAooooAKKKKACiiigAooooAKKKKACiiigAooooAKKKKACiiigAooooAKKKKACiiigAooooAKKKKACiiigAooooAKKKKACiiigAooooAKKKKACiiigAooooAKKKKACiiigAooooAKKKKACiiigAooooAKKKKACiiigAooooAKKKKACiiigAooooAKKKKACiiigAooooAKKKKACiiigAooooAKKKKACiiigAooooAKKKKACiiigAooooAKKKKACiiigAooooAKKKKACiiigAooooAKKKKACiiigAooooAKKKKACiiigAooooAKKKKACiiigAooooAKKKKACiiigAooooAKKKKACiiigAooooAKKKKACiiigAooooAKKKKACiiigAooooAKKKKACiiigAooooAKKKKACiiigAooooAKKKKACiiigAooooAKKKKACiiigAooooAKKKKACiiigAooooAKKKKACiiigAooooAKKKKACiiigAooooAKKKKACiiigAooooAKKKKACiiigAooooAKKKKACiiigAooooAKKKKACiiigAooooAKKKKACiiigAooooAKKKKACiiigAooooAKKKKACiiigAooooAKKKKACiiigAooooAKKKKACiiigAooooAKKKKACiiigAooooAKKKKACiiigAooooAKKKKACiiigAooooAKKKKACiiigAooooAKKKKACiiigAooooAKKKKACiiigAooooAKKKKACiiigAooooAKKKKACiiigAooooAKKKKACiiigAooooAKKKKACiiigAooooAKKKKACiiigAooooAKKKKACiiigAooooAKKKKACiiigAooooAKKKKACiiigAooooAKKKKACiiigAooooAKKKKACiiigAooooAKKKKACiiigAooooAKKKKACiiigAooooAKKKKACiiigAooooAKKKKACiiigAooooAKKKKACiiigAooooAKKKKACiiigAooooAKKKKACiiigAooooAKKKKACiiigAooooAKKKKACiiigAooooAKKKKACiiigAooooAKKKKACiiigAooooAKKKp6xrOn+H9MuNR1S+ttN0+3XfNd3kyxRRL6s7EBR7k0AXKKpaLrmneJNLt9S0m/tdU064XfDeWUyzQyr6q6kgj6GrtABRRRQAUUVk2vizQ77Vp9KttZ0+41S3/ANdZRXUbTR/7yA7h+IoA1qKKKACiiigAooooAKKKKACiiigAooooAKKKKACisfxV4w0HwLo8mreJNb03w9pUZAe+1W7jtoFJ6Au5Cj862KACiiigAooooAKKKKACiiigAooooAKKKKACiiigAooooAKKKKACiiigAooooAKKKKACiiigAooooAKKKKACiiigAooooAKKKKACiiigAooooAKKKKACiiigAooooAKKKKACiiigAooooAKKKKACiiigAooooAKKKKACiiigAooooAKKKKACiiigAooooAKKKKACiiigAooooAKKKKACiiigAooooAKKKKACiiigAooooAKKKKACiiigAooooAKKKKACiiigAooooAKKKKACiiigAooooAKKKKACiiigAooooAKKKKACiiigAooooAKKKKACiiigAooooAKKKKACiiigAooooAK8B+OP7RmpeEfGFp4F8EaSmv8AjW5i89bWQ4QJjqTXv1fFPijXLT4O/tpReIPFhFloN1p7LHq8wJRGKnC5oA9J+E/7SniDVPEl74T8f6FH4d8VJGz21vGcpNgZwDXUfAD4/D4vWPiP+0LRdKvdGvHt5YWOCVXPzV4V4k8Taf8AHz9qzwRqfgiUajpmgt/p99ADtdT2J7iuS/ae8Rah+zZ8cNR1LTrWQaD4usfsUccKnAunGN3HuaAPojwn+1NbapqHj271S0Wx8NeHH2Rah2nOfWvPbz9rD4iw2U3iqPwzpjeBIWMkl60/7zyf72M1j+NPgfr0H7B994ftLdpfEt8q3VyyD53y24/+O1wXg6z+C2o/B+z0TxR4zl0m7jtFtb3S5JCMuBgjH1oA+ifih+2DpXgn4c+HPGWnWv8AaWl6yo8rbydx7V5/8SPi94z+Jv7P3xJm1jw2uk6C2kF7a553PnB5/KsD4zeG/D3h3wD8NdN8OR/afDiMn2YOu4EZ617z+0vHHD+yP4wEUSxr/YS4SNcdk7UAcl8GfE3iPwj+xb4H1DwppkWr6utiqpbzHCnLNyTWB4f/AGuPG/hXxroWjfEzQdL0iHWZRDbPY3Adt3uM15vrXxC17wT+yD8KrfT7k6XpF3bKl7qDA/u03H8uprz/AOLukfCZfF3wxvvCHiC58S6/Jdo1w3mtIqHjJwRxzmgD6y+On7U2r/DX4waL4B0TQl1a/wBUtfOiYk/e7Cs74c/tUeLLP4lWng74peGofDF9qb7dNaEkib0rz74weMNC8C/t0eAtW8SXkVhp66Jj7ROMgNtpvxe8V6V+0b+0h8K5PAc661aeHLwzX97bg7VUkHGaAPumvm/wL8RNIl/aA8d2TaclvNpil5rpR8z45r6Qr4w+GE0Nv+1h8V3u4me0Kssvy9VPWgC7B+1d8SviFqOqXfw58Jafrfh7TrhreaaSX97levGa+ofAOuah4j8J6fqGqWf2C/mTMtv/AHG9K+AfG1n4F+F9v4k1j4QfEaLR9Y8yS5fR5mP72frtA96+y/2YvGXiHx98FfDut+Kbf7NrdxEfPTGOh4OPegDG/ah/aIH7O+g6Hqb2P26O/vPszKOqjjkfnXP+EP2lPEF9Nc6z4g8PrpPg5Yy8V8+Qx4yAc1yH/BQZVkh+GKPF50ba8oKFcg/d616N+1V4IvvGH7PF/pWhW+242RSiKBcfKqkkDFAHmOoftcfED7Hd+K9P8NabL4DtXbzLx58S+WCBkDPvXb/Fj9rux8E/BzQvHWkWa6pHqjKkcOejHtXzh8O7P4N6l8LhpPi3xfJoV2B5N1pMjkZYYzx7mum/aF8O+HPDvwU8HWfhgG60MahD5DMNwK5HNAHTax+2Z8QPh3faRqHjfwVFp3hjVlU2t1CSXJYcAjPvVvVf2wPH3gnXtK1PxV4OhsPAOrXCW9nqSsfMYsflyM1e/bBhim8G/D5JIFljDxEIVyB8q9qx/wBt4Iv7OvgIeVlF1WzIVVzj8KAPXfjx+0W/w3k0LRfD1gus+KddUGxsyflOemcdK5j4Z/tLeLY/HCeEfid4ch8N6zdR77TyWykhPQZrzv4p3ifDH46/DrxX4gjJ8PTW8Ia+dSVtflHPtTfjF480f4/fGTwhYeAbmPWJLCVLmfULUHCqDkrnFAHvHwd/aA/4WR4+8Y+FbyyFhfeH2G7/AG1J6iqWj/tKQ6p8SPEunC1UeFNDtWmuNVXnDgcrXgv7X+uXv7MvxS0H4gaHZvJY6tH9l1URKfmY/KCcV1fw/wDhHqVn+yZ46kghafWPEsM19CuPnKvyq/kTQBPeftWfEHXobjxF4S8N6ZqHgqNyReTT4kKA/McZ9K9Hu/2sfDEfwdi8bQSrO058iG3U533HTYPxr5N+AOm/C3Sfg9aaF418XTeGtbgEkV5p0rsOpPGK2PjJ8PdA8K/Bj4a3vgFZL3wbpGt/br+TBIK7slj7UAcb+3F8WvjD42/Zh1h/E3gq20bwveSxul0rEvjJ25GeM1+oNfnn/wAFCv2kPh/8SP2R9SsPC+tQalcXUsW23gBzFtzkEY4xmv0MoAKKKKACiiigAooooAKKKKACiiigAooooAKKKKACiiigAooooAKKKKACiiigAooooAKKKKACiiigAooooAKKKKACiiigAooooAKKKKACiiigAooooAKKKKACiiigAooooAKKKKACiiigAooooAKKKKACiiigAooooAKKKKACiiigAooooAKKKKACiiigAooooAKKKKACiiigAooooAKKKKACiiigAooooAKKKKACiiigAooooAKKKKACiiigAooooAKKKKACiiigAooooAKKKKACiiigAooooAKKKKACiiigAooooAKKKKACiiigAooooAKKKKACiiigAooooAKKKKACiiigArnfGXw78N/EKyW08R6Na6vbqchLlM4roqKAOY8F/DHwt8O45U8N6HaaQsv3/s6Y3fWrXibwPoHjP7L/AG5pNtqf2WQSw/aE3eWw6EVu0UAM8lPJ8rYPL27duOMYxivN9S/Zs+GGsX0l5e+CtLuLmRt7SPEck+vWvS6KAOffwD4dk0+ysX0i1a0sxi3hKfLF9K0tS0Wx1jSZtMvbWO50+ZPKkt5BlGX0I9KvUUAc1qfw28L6z4Wj8N3uiWlzoUY2pYOn7tR7D8a5/RP2d/hv4cuIp9O8H6ZazxHKSJFyp9ua9FooA+XPij+zPefEr9qzw54t1bTbTVPBVjpxt5befr5mDjj0r3jwX8KfCPw5aY+GvD9lozTf6w2qYLUz4ifFbwv8LNM+3eJNVh0+E8KGOWY+gFeDaD+0J48+L/j2ys/C3hq403wpHJmTWJQds657fhQB9T1iw+C9Dt9RvL+PS7dL28GLiYL80g9zWvCrLEgc7nA5PqafQB5o37NvwxfUm1BvBelteM/mGUxnJb1616JZ2cGn2sdtbRLBBGNqRoMBR6Cp6KAMnXvCej+KPs39radBf/ZpPNh85c7G9R71p+Wvl+XtBTG3b2x6U+igDzbVv2b/AIZa5fyXt94L0u5upG3PK8RyT69a6eX4d+GptJtdLk0a1fT7Ugw27JlY8dMV0VFAGTq3hXSNeht4tQ0+C7jt8eUsq5CY9KZrfg7RPEmnwWGp6Zb31nAweOGZcqrDoRWzRQBheJvA+geMtKXTdb0q21KwUYEE6ZUDpWb4L+Efg74dyvL4b8PWWkSOMM9umCR6V19FAGN4m8HaJ4zsxaa5plvqdsrBhHcJuAI71p2lnBY2kVrbxLFbxIESNRwqgYAFTUUAeda9+zx8NvE+pS6hqng7TL28lO55pIzlj6nmult/APh208Mv4eh0i1TRGXY1iE/dkemK6CigDzC2/Zj+FdnbyQReB9JWGQ5aPyiQT+den0UUAFFFFABRRRQAUUUUAFFFFABRRRQAUUUUAFFFFABRRRQAUUUUAFFFFABRRRQAUUUUAFFFFABRRRQAUUUUAFFFFABRRRQAUUUUAFFFFABRRRQAUUUUAFFFFABRRRQAUUUUAFFFFABRRRQAUUUUAFFFFABRRRQAUUUUAFFFFABRRRQAUUUUAFFFFABRRRQAUUUUAFFFFABRRRQAUUUUAFFFFABRRRQAUUUUAFFFFABRRRQAUUUUAFFFFABRRRQAUUUUAFFFFABRRRQAUUUUAFFFFABRRRQAUUUUAFFFFABRRRQAUUUUAFFFFABRRRQAUUUUAFFFFABRRRQAUUUUAFFFFABRRRQAUUUUAFFFFABRRRQAUUVgeNvHWi/Dvw/c6zrt7HZWMC7mZjyfYDvQBtXN1FZ28k88iwwxjc8jnCqPUmvmn4l/tYXGoa5N4Q+F9g2v+JC2xbzbutVPT71cXda38Rf2wtSe20Uz+EPACNtN22Qb6PJzj619LfCr4N+GvhBoEWmaDYpFjBkncbpHbHJ3HmgDxb4Z/slXOsaovin4qag+v6xK29tKkbfaxH2Ga+ltJ0iy0OxistPto7O0iGEhiXCr9BVyigAooooAKKKKACiiigAooooAKKKKACiiigAooooAKKKKACiiigAooooAKKKKACiiigAooooAKKKKACiiigAooooAKKKKACiiigAooooAKKKKACiiigAooooAKKKKACiiigAooooAKKKKACiiigAooooAKKKKACiiigAooooAKKKKACiiigAooooAKKKKACiiigAooooAKKKKACiiigAooooAKKKKACiiigAooooAKKKKACiiigAooooAKKKKACiiigAooooAKKKKACiiigAooooAKKKKACiiigAooooAKKKKACiiigAooooAKKKKACiiigAooooAKKKKACiiigAooooAKKKKACiiigAooooAKKKKACiiigAooooAKKKKACiiigAooooAKKKKACiiigAooooAKKK4b4v/ABa0j4P+ErjWNTlUyBSLa2z800nZQKAE+L3xg0L4O+GJtW1iceZjEFqp/eTN2AH1r5y8F/C/xZ+1Nr0Hi34iNJp/hSF/M0/R0+XzRwRvX0qz8JfhDr3x+8WRfEn4jiRdPDeZpmiyZCxrk4JFfXUEEdrCkMSLHFGoVVUYAA6CgCvpOk2ehafDY6fbR2dnCu2OGFdqqPQCrlFFABRRRQAUUUUAFFFFABRRRQAUUUUAFFFFABRRRQAUUUUAFFFFABRRRQAUUUUAFFFFABRRRQAUUUUAFFFFABRRRQAUUUUAFFFFABRRRQAUUUUAFFFFABRRRQAUUUUAFFFFABRRRQAUUUUAFFRT3UNqu6aVIl9ZGCj9a4HxL8cvDPh64e1+0NdXY4VIlypP1ppN6ID0OkZgqkk4A6k14Nc/GDxrrDMlhoK21o/C3BPOPWsiTw74s1qQz3niee3VutuCcV1wwlWfSxPMj3q+8WaNpuftWpW8H++4rKm+KvhSEf8AIbtZD6I2a8fj+GtpN/yEbh7/ANdzHmrUPw18MW5zHpoB/wB411rL5dWTzHpEnxm8MLnF6H+lNT40eGm63RX6iuDXwToUf3bBR+NObwbojdbJfzq/7O/vBzno0Pxa8KzY3avDF/10OK0bTx54dvmxb6xaSn/ZkFePzfDvw3cf6zTg3/AqqSfDHRY+bCJrJv7ysah5fLow5j6GhuIrhN8UiyL6qc1JXza/gnX7UhtP8UT2oX+AE81oWvj7x/4ZURLYDWo16vIefrXNLB1Y9LlcyPoKivJdF/aE0nMdtrsMmmXzcFApZc16Zput2OrwpLaXUUysMgKwz+VccouLs0UXqKKKkAooooAKKKKACiiq15qVrp8Ze5uI4FAyfMcCgCzRXl2vftAeH7GWS008yX9+OFjVCFz9a5G6+J3jzXw0MekLpkDdJlPOK3hRqVPhQro98klSFSzsEUd2OKx7zxtoOnki51a1hI/vSCvCf+EQ8SX7ebf+KbiRW6w5OBU0fwz0ub/kIbr499zGuyOAqPd2J5keuz/FjwpD01m3lP8A0zbNUn+M/hpel3u+ledQ/Djw1b/6vTQv/AqtDwXoa9LFfzrZZd3kLnO7T4z+GW63e361dh+K/hSbrrNvGf8Apo2K82bwXob/AHrFT+NVpvhv4ZuP9Zpob/gVDy7tIOY9msfGmhakQLXVbWYn+7IK2I5FlUMjBlPdTmvnaT4a6bCP+JczWJ7bWNQf8Il4m01/NsfFM4VefIycGsZYCotncfMj6SorwG3+KXjvQtsc2jLqNun3pmODj1rsPD/x+8O6nNHaXryWN+eGjZTtB+tcU6NSn8SKumenUVXtdQtr5A9vcRzqRn92wNWKxGFFFFABRRRQAUUUUAFFFFABRRRQAUUUUAFFFFABRRRQAUUUUAFFFFABRRRQAUUUUAFFFFABRRRQAUUUUAFFFFABRRRQAUUUUAFFFFABRRRQAUUUUAFFFFABRRVS+1W002F5Lm4jhVRk7mANAFuivLtc+PWjwl7fR1fUb5Tjy9pC/nXLXPxC8ceIkMY05dIjPR1OT9a2hRnU+FCuj3aa4itk3yyLGvqxxWNceOvD9oxWbV7SNh2aQV4iPCev3x36j4lnuFb/AJZk4A9qmT4b6LJzeQG6f+8zGuyOAqy30J5kes3HxS8Mw526pDKf+mbZqhJ8ZPDqdJy30rz+HwF4ft8eXYBfxqyvhTSE6Wa/nWyy6XWQuY7yP4v+HJMZu9n+9V23+J3hif8A5jFtGfSR8V5m3g/RpM7rMfnVab4e+HLj/WaeG/4EaTy6XSQcx7Na+MNEvmAg1S2lJ/uyA1rK6yKGUhlPQivnpvh3p0PNiWsz2KseKYvh3xRprb7TxPOY16QnpWMsDVjtqPmR9FUV4TZ/FLxjoG2K70hb+3XrcZwcV2Gg/HPw7q00drPK9petwY3U7c/WuOdOdP4kVc9GoqG3u4bpQ0MySqRnKMDU1ZDCiiigAooooAKKKZLKkMbySMEjUFmZjgADvQBjeNPGGmeA/Dd7rmr3KWtjaoWZ3OBnsPqa+T/hr4N1n9q/4gHx94tikt/BlhKRpemyceaw6Pj0ql8TPFw/ab+KzeGIr3yPAHh+bOqsj8XJB7ete4x/GPRtD0e20jwdp7XsVnGIY49pRQAMYqlFydkgPZIII7WFIoUWOJBhUUYAHoKbdXkFnHvnlSJfVzivBrvxV448V8Ov9hKenlnpVNfBus3X/IT8RTXynqrE11xwdaXSxPMj2ybx74dt2Il1m0Q+hkFUJvip4ZiYganFJ7ocivKF+G2gvzc2puG/vFjVuLwJoEK4SwAH1rpWXz6sXMegSfGTw7GcC4L/AEp8fxg8OSEA3Wz61waeE9Hj6WYH401vCGjN1sx+dX/Zz/mFzHp0HxM8MTjjWbVD/dd8GtSz8TaVqGPs2oW83+44NeJTfDrw5Py2ngt67jUDfD+GE5sLp7P02seKyeX1Fsx8yPoYEMMg5FLXztDpvi7Qn8628QzXiDkQN0rZtfjF4q0uVU1PQVa0XhrhTzj1xXLPC1YbofMj3CiuH8N/GLw34llWCG7MNx0KTLtAP1NdrFNHMu6N1kX1UgiuUofRRRQAUUUUAFFFFABRRRQAUUUUAFFFFABRRRQAUUUUAFFFFABRRRQAUUUUAFFFFABRRRQAUUUUAFFFFABRRRQAUUUUAFFFFABRRRQAUUUUAFFFcd4/+J+k+A7TNxJ516/EdtHyxbtn0ppN6IDq7q7hsbd57iVYYUGWdzgCvKfFXx9s7W5ay0C0k1ec/KJ4hlFNcVft4o+KEqz6tO2kaaDlbaI4Ei+9dJougaf4dtxFYW6w/wB5uu4+terRwMpa1NCHLscxeaD4m8eTLN4l1Jo7LrHDbNtIHoa39J8IaVosQSK2W4I6STDc1bFJXs06MKatFGd7iq3lrtT5V7KOlFJRWwgooooAKKKKACiiigAp29v7xptFAFS+0aw1GNluLSJ2b+PaN1cu3w+m0S4N94d1Ce3vRyqyOdn5V2dFZzpxqK0kMxtB+NuteGZxY+KrB7n5sfbIBhQPevY9A8TaZ4otPtGmXcd1H32HlfY15lcW8N7A0NxGssLDBVhXG3ng3UPDd1/aXhW8e0dTuNip+R/rXkVsB1plqXc+k6K8p+H/AMbItXuRpPiGIaXrCnBDcI3416orqyhlIKkZBB4rx5RcXZmg6qWraxZaHZtdX9zHawL1eQ4FcP8AEL4xWHhFhYWIGo6xJxHDHyoPuRXmM2g674+vF1DxNdNBDnP9nKfkrejh51npsJux1PiH48zalPJp/hjT5Z5CdqXzDMf1rlW8E6v4quPtfizU5JZM5VLd8KPauv0/T7XSbdbeygW3hA+6oqevco4OnT1erMnJsz9O8O6bpcapDaRMy/8ALRlG7860t7Yxk49KbRXfZIkKKKKYBRRRQAUUUUAFFFFADtxK4JyPSsvUvDWmatEyTWkaFusiKA351pUUmkwOLj8H6x4Rka58KalIknUpcNkfSun8L/HqWzuI9O8UWMlrKp2tfAYjNXar6lplprNuYL6BZ4j/AAkVwVsHTqarRlKTR63pmq2ms2iXVlcJcwN0kjORVuvmoaL4h8A3n9oeGbt7m3BydOc/IBXqnw8+L2neMl+y3OLDVo+JIJOBn2zXh1sPOi9djVO56DRRRXMMKKKKACiiigAooooAKKKKACiiigAooooAKKKKACiiigAooooAKKKKACiiigAooooAKKKKACiiigAooooAKKKKACiiigAooooAKKKQkKCScCgBaz9a16w8PWhudQuo7WEfxSHGa4Xx58YrXw/OdN0iMalq5OFjXlQfcivPB4b1TxddC/8AE907qTuFhn5Frpo4edZ+6tBNpHRa98bNQ1uWSx8MWEiyZwt5MMofpXO/8ITe6/cC98SajNNdddsLkJ+VdXa2sGnwLDbRLDEowFAqSvco4KnT1lqzJybKdjothp6BYbWMMP49o3fnV7e3TPFNorvskSFFFFMAooooAKKKKAClpKKAFZty4b5l9DWZqXhvTdViKS20cZP/AC0jXDfnWlRScU9GByFv4d13wfIZvDOpPsHLR3Lbs+1dh4X+OkfnJYeIrV9PnX5WumGI2NFVNU0my1uHyr63WdO2e1ebWwMJ6x0Zakz2Cx1C21O2S4tJkuIG+7IhyDVivnOC28Q/D67N5oVw17ZZybFz8qj2r1bwD8UtM8aQeUXFrqMfEtvJxz7Z614lWjOi7SRonc7aimySJDGXdlRF5LMcAV5J4y+NTtdPpfha3/tC9BKPKfup7isoxcnZIZ6H4i8YaV4Vh36jeRwMR8kbH5m9gK+Pf2pP2ptd1K3g8D+CLSSDWdWb7NLuHzrE3BcenFehatpNroel3vijxlfNdrAhfbK3yxNjgD8a8l/Zr8MXPxB8aav8Tdet/LmWRrawjYcGHsw/CvRhg3opvVkcx3Hwa/Z1074Z+FLS1vLiW51Rx5tzMG/1jHkhvWvV7bT7SzUCC1iix3VcGrDHcc0le7TpQpq0UZ3HFiepzTaKK1EFFFFABRRRQAUUUUALnFDYkXa43r/dbkUlFAGNq3g/S9YQq8Itif4oBtNZlnb+KfAbb9DvftOnLy8NwdzEe1dZSg4rmqYenV+JDTaL3hH45adrEy2mrQPo9193Nxwrn2r0yGZJ41kjYOjDIZTkGvE9Y8O6fr6Yu4FeQfck6FfesXTdY8UfDOdnglbWdJ6sshyY19q8Wtgp09Yao0Urn0TRXOeDfHmleNrBbixnHmdHhfhlPpiujrzSwooooAKKKKACiiigAooooAKKKKACiiigAooooAKKKKACiiigAooooAKKKKACiiigAooooAKKKKACiiigAooooAKKKKACik6cmvF/id8UrzUdSbwx4XPmXTfLcXS9Ix35q4xc3yxA0PiV8YW027Og+HF+26vJ8rypysHua4/w/wCBzFeHVddm/tHVn5LMcqPwq/4V8I23he3Jz9ov5OZrl+WY9xW5X0WHwsaSu9zFyuL7Dgdh2pKKK9AkKKKKACiiigAooooAKKKKACiiigAooooAKKKKAClBI6cUlJJIkELyysEiQbmY+lAGR4m8Lad4is2N2BA6DIuE+Vh+NeRS/HfxboczeF7aU3OmBvKGr4JWJf7pNdFq+sal8UNVfSdHZrfR4jia6XjPrg13Fj4H0ex0E6OLZJLdlw7sOWP9761xVKMa71WxSdip4N8J6dptmuoJKNRurgbnuHO7k+ldOST1ryYNqfwg1XBL3nh2dvvHkxZr1KxvrfVLOK7tZBLBIu4FTnFdFOyXKlYkmooorUAooooAKKKKACiiigAooooAKKKKACiiigAooooAXJFc34o8E22vYubY/YtSj5jli+Xn3ro6KmUVJWYFD4f/ABevdHv08P8Ai793PnbDfH7snpXtcciyorowZGGQw6GvEPEXhuz8UWJtrtcOP9XMPvIfaqPgH4haj8PdVj8PeJHaXTnbbbXjdvQGvn8VhHT96GxrGVz3+imRSpNGskbB0YZDKcgin15hYUUUUAFFFFABRRRQAUUUUAFFFFABRRRQAUUUUAFFFFABRRRQAUUUUAFFFFABRRRQAUUUUAFFFFABRRRQAUUUUAFFFQ3d3DY20k88ixRRgszMcAAUALc3MVnbvNM6xxIMszHAArxHxh8TtT8ZXsuj+FyYbUHZNfHoR3xWd4q8X6l8VtUfT9MdrXw/C2HnHBlx2+lbmk6Ta6HZra2kYRB1YdW969PDYR1PensRKVih4c8JWfhuMlB590/LzScnPsa2iSevNJRX0EYqKsjIKKKKoAooooAKKKKACiiigAooooAKKKKACiiigAooooAUEiuU8ZeHbJbc6vFONNvYPmSRDtDH39a6DVtWttDsZLu6fbGoyF7t9KyfBvgm/wDidqS6vrAe30aM5gtunmDsSK4cVWp042krlRTZxa/EzxT4wtrfSNXkbTtPkbYbrkeeB6GvRdB8P2WgWiQ2UYO4f6w8s3416N4l+Huj+JNB/suS2SGNBiF4xgxn1FeHahr198Go9Qh8Q5ksLOJpoLo9GUdifWvNwdanBuLWpckzyv8Aak8RXHjDxJ4c+GWmu0ttrEg/tBozzEAe9e/eGvDlv4O8OadodqqrDYwrCCo+9gda+fP2Y9Hk8eeNfEvxPvQZbHVHK2Kyf8s8HtX0ozFiSetevSXM3NmYlFFFdIgooooAKKKKACiiigAooooAKKKKACiiigApeGUqw3KeqnpSUUAcnrHhC4s74av4enNjqCHcVBwjfhXofw2+K8Xib/iWaqv2HWYvlaOTjzPcVk1z/ijwmmt7Lu1c2mqQndHOnBJHavMxODVRc0Ny4yse+0V5V8L/AIoTahcHQdfAttVh+VWbgS16rXz0ouLszUKKKKQBRRRQAUUUUAFFFFABRRRQAUUUUAFFFFABRRRQAUUUUAFFFFABRRRQAUUUUAFFFFABRRRQAUUUUAFFFcR8VviBF4G0FmiIk1G4+SCEfeOeM4ppNuyA5j4v/Eye2m/4Rjw+fN1a4+WaRf8Algp71h+EvCsPhexK586+m+aeduSzfWqfgfwzLpsMmqaifO1a8PmPI3JAPauor6XC4dUY3e5jJ3Ciiiu8kKKKKACiiigAooooAKKKKACiiigAooooAKKKKACiil68UAH1OB3Jry7xPrt58QNaPh3RWKWUbYurteg9RWn8S/Fk0PleH9KJfULw7HKdYwe9dD4L8Jw+D9HS2QA3TjM8ndm9ayb5nZAXdA0G08M6XHY2UYREHzN3Y9zV+iitErAQ39hb6tZyWl3GJYJBggivL7G5u/hHr/2K6LTaBdP+7kPIQntXq1Z/iDQbbxNpM1hdIGVwQjH+E+oqZRvqgL8ciTRpJEweNhkMKWvNfh/r1x4Z1WXwrq7thG/0SZ/4xXpbDaxFOMuZAJRRRVAFFFFABRRRQAUUUUAFFFFABRRRQAUUUUAFFFFABWf4g0C18S6a9pcrzj93J3VvWtCik0nowMn4U+P7vwvqy+EvEDnbnbZ3T9HHpmvdK8E8ZeGE8TabhD5d7D80Mw+8uPSut+DPxEfxFYto+pny9YshsKt1dR/FXzmLw/sZc0dmaxlc9OooorziwooooAKKKKACiiigAooooAKKKKACiiigAooooAKKKKACiiigAooooAKKKKACiiigAooooAKKKKACiiigBskixRs7kKqjJJ7V4L4+8X3nxG1x9B0p2i0mBsXM6nhiPeug+MXjycOvhjRm3X1z8s7qeY0NZfh3QYfDelx2sXMmMySd3Pqa9HCYf2suaWyIlKxa03TYNHso7W2QJGgwcDqfWrFFFfRpWVkZBRRRTAKKKKACiiigAooooAKKKKACiiigAooooAKKKKACo7q6hsLaS4nYJFGMkmpQM98Vx5s5/ih4pj0a1Zk0e3bN1KvcjtXPWrKjDmY0rlrwb4Zuvitrg1O9DR6Dat+5jPAkINe/W1vFZwJDCgjiQYVVHAqHStLttFsIbO0iWGCJQqqox+NW6+WqVJVJOUjbYK+Yv28tYT/hWNnoMEYn1DVrxLUIv31RuC30r6dr5G1gP8Vv2yLGEf6V4b0my/eKeVE4H+NZjLvwm8Py/BfRdN8DaiuyJY1ltrjHEhYcivT2G04rqviZ4Bi8aaGUiAjv7cbreTupHavL/Bmvy3scul36mLUrM+WyvwWx3r38FiOZezluZSXU6WilpK9YgKKKKACiiigAooooAKKKKACiiigAooooAKKKKAClpKKAMDxZ4X/tyFLm1f7Nqlv80My8dPWu1+E/xK/4SaFtJ1MfZ9atRtaNuPMA/iFZXSuU8YaPPa3MXiHSiY7+1O6Tb1dR2rzMZhlUXPHcuLsfRFFc14A8aW3jfQIb2FgJsYli7o3vXS186ahRRRQAUUUUAFFFFABRRRQAUUUUAFFFFABRRRQAUUUUAFFFFABRRRQAUUUUAFFFFABRRRQAUUUUAVtS1CDSbCe8uXEcEKF3Y9gK+c9Nlm+I/jK68RXwJs7VitkrdGX1xXV/HbxNcahdWfhXTHzNMwa7Uf8APM0/S9Mg0XToLK3GIolwK9fA0OZ+0ZnJ9C0xzSUUV7xmFFFFABRRRQAUUUUAFFFFABRRRQAUUUUAFFFFABRRRQAVmeJ9fg8MaHcX9w20AFU/3u1airuYAV5br0jfEHx3BpcR36RZH/Sl7bhUSdloBo/C7w9NM1x4l1RM6jdE7Q/OE7EV6DTUjSCJIYxiOMbV+gpacY8qAKKKKoAooooA474meFW17S1v7JdurWfzRSLwcDrV7wD4oTxV4fjkz/pNv+6mB67h1NdIO4PQjBryzUYz8NvHkd7ENmkagdnljpvPespe67jPUqKU9iDkMAfzpK1EFFFFABRRRQAUUUUAFFFFABRRRQAUUUUAFFFFABRRRQAtcT4zs7nw5rFp4q0nMdxAw+1be8ffiu1pk9vHeW8lvMN0Mo2uD3FZ1IKpFxYz0vwr4jtvFeg2up2jbop1z9D3Fa1eB/CLXJPBXjK68M3jkWl426yXsvPSvfK+SqQdOTizZahRRRWYwooooAKKKKACiiigAooooAKKKKACiiigAooooAKKox65p82oPYx3kL3ifegDjePwq9QAUVl+IfE2meFLD7bq15HZWu4L5kpwMnoKv2t1Fe20VxC4khlUOjr0IIyDQBLRRRQAUUUUAFFFFABRRRQAVznj7xdB4L8N3OozEFlG1F7lj0roiccngV4B421RviH8QDYKxOm6U2JU/hc5rWnTdSaihPQg8EaROfP1vUT5uo3jFwzdkPQV1VIFCKqKMIowo9BRX1lOCpxUUYBRRRWgBRRRQAUUUUAFFFFABRRRQAUUUUAFFFFABRRRQAUUU2aZbeGSVztVFLc+1AHOeN9bks7WHTbPLX983lR7eqk969W+GvgmHwX4eigKg3so33Endmrzn4Q6C3jDxJdeKrtN1qjGO3jfsw7ivc6+XxVb2s9NkbRVkFFFFcRRm+JNct/Deh3mpXThILeMuxNfNn7Eeh3NxH428SaipkmvtVZrWVuvlHPSu3/bG1l9N+A/iK3tpNl/dxiKAA8k7hXTfs66KND+C/hSFowlw1kjzcclyOTQB6RXjPxo8Jz6VfQ+LNKjzPHhLhV4+Tu1ezVX1Cxi1KxntZ13RTIUYexqoycWpIDx/StTh1nTobyBt0cg/XvVquR0u3k8DeML7w/cZWykbNlnvnrXXsNpINfWUaqqwUkYNWEooorcQUUUUAFFFFABRRRQAUUUUAFFFFABRRRQAUUUUAFLx0YZXuKSigDlNK1Bvhj46juULLo+ot/pJ7Ie1fQsE6XMKSxMHjdQysO4NeK+INFh8QaRPZzDgjcp75HStv4HeLZtQ0uXRdRf/iYWTFVU9fLHQ187jaPs5c62ZrFnqdFFFeYWFFFFABRRRQAUUUUAFFFFABRRRQAUUUUAFFFFABRRRQAUUUUAFFFFABRRRQAUUUUAFU9X1KLSNNuLuZwkcSFsn6Vcryb9oPXPL8OxaFbyFb7UHGwDrgGqjFyaSA4XwQ0/ijXtS8VXqlbiRzDGrf3B0NdrVPRLFdN0ezt1XayxjeP9rFXK+upQVOCijDcKKKK1EFFFFABRRRQAUUUUAFFFFABRRRQAUUUUAFFFFABRRSjkgUAYnjTXR4d8O3dyGxclCIR6tWL8KdCbTtDfU5123uokySg9QayPiNI3ibxXpegwHMlrIJpVHda9LEaQoiRjaiqAAPpWS96VwCiiitQCiiigAooooAK53x/4fXxF4buF27rm3XzIPXdXRU6NgrgkZFKSugOR+GXiB9a8Opb3DZv7X5ZweoxXWV5hpIPgv4nT2h4TWDvHoK9RddrEehqYPSwDaKKKsAooooAKKKKACiiigAooooAKKKKACiiigAooooAKKKKAOQ+IunzR29trtkM6jZOuzb1255r3DwX4jh8UeHbO+ikEjMgEmOzgcivPJohcW80TAEOhXn3FUfgDqf8AYeoan4TlYmWJjcLn0NeJmFLaojSL6Ht1FFFeKaBRRRQAV8//ALUH7SN18FL7w3oemacL3V/EMhitmc4RDnGSegr6Ar51/a4i8A6nb6HpXjjTbuSO6ciDU7MEPaHPXcOlACfDrxx8XZNSvbbV9Dtrux+zmSK6hlD/ALzH3eK2PgT+0QfiZL4q0zVLYWGreHWYXUbcdM187/ASTW/Bn7Q8fh/wNqepa74DaDMt1fSGQA/U96579tax8RfBL4pWc/gRWF545nC3ax+m7DUAfQXhX9qbUvFnw78e+NLfS9ul+HvNSHI/1rJXlWn/ALW3xo1/4XWXxEh8DLDo+SwjB/1qZIz+leu+JvhrD4B/Y68SaTp9oftl1pLTzxqOXmYAtXP/AA50+/j/AGFdFtJLaRbtbIqYCPmHzNxQByWo/tWfFzXvAr+OtH8FiHQLCPzZxkndjG4frXoHxM/a2vPCv7Kuk/FTTdKFxqN68Uf9nns7Egr+g/Os3wTp99H+xd4ltHtpFuTbzBYccnJWvIfiloOpy/sB+GbOKwla8XVYGMCr8wG/rQB2Xir9qX4yeBdJ0jxdrPgcQ6JeRI8kGfuBgCD+opvif9q34teG9N0nxrdeDRB4Wvp44lTP/LNj96vSf2n7G8vP2cNKggt3mm+yW+6NRk52JWB8aNPv7j9kTwrbR20ktwot98IHIxmgDvfjF+0qngbQfDC6PbR32u+JFUWVvI+0BiB1PtmuDtP2ivHHwz8S6Vb+OtPtjpOrSLDHPDMHaOVui4BryL9pj4U3+r6H8JPEU9rfzaPppRr9bHIliXjkY6V0Oj+Gfg1e+IvDtxFPr3iC++0pJDa3EjOsD54LA0AcvceKPiXaftd6+dA0pr1ZCjrGWOAp56fSva/jF+1N4x+F/iDSdBtPDI1TWL2NSLb/AGiOlcrr3imT4N/tUTavrVnOukaoqJBcKDtUdADWl8UJJfFH7SPhnVbG1eax8uPbNjjoOaAIfiP8WvGK/BfWda+KfgVbKOO7iS1sA33sng13XxS/aOufh14N8G6d4V0b+1fEOsW0IisAf9QpRcH8Mn8qb+33Y3eo/AOaK0t3uZvtsDeWgyeGry74r2uq/DLxJ8MvH50qfVNONjb29xHEpJt/lUlj6daAPXfhX42+MR8dWml+KfC3l6HcqXk1DP8AqT6V9D15B4R/aW8PeNvGVl4f0m1uLmS4j3tcKPkj9jx1r1+gAooooAKKKKACiiigDkfih4pTwr4VuZd+y4nUxQf75FeXeBdJk03R1uLnm+uSWmY9TVv4vagfFPjiw8Nj/VWuLpiOmfStdscADAAAr28vpaOozOT6CUUUV7RmFFFFABRRRQAUUUUAFFFFABRRRQAUUUUAFFFFABRRRQAVynj67muo7bQ7M4vrxxtx1255rrVxuG44HesH4Z6f/wAJh8RrvVZR8mkt5ceehzXFjKns6btuyoq7PYvCegw+HNBtLKGMR7Ixvx3bHJrYoor5c2CiiigD5T/bG1Sa5+IHwv8ADSAtb6pf7Z1H93I619Q6Vp0Wk6bbWUIxFAgjUewr5Y8Zf8V9+1dpdhjzf7BcS467a+sqACiiigDyr48eGzNpNv4htl3XumkFAo5IJrK0XUF1XSbW5B3M6Av7H0r2HUrKPUbGe2lQOkiFSp+lfPfgpJtB1bU9Buz+/WZpI1PZM8V62Aq8snB9SJLqdfRRRXvmQUUUUAFFFFABRRRQAUUUUAFFFFABRRRQAUUUUAFFFFAC1yOpXUngnxxYa/bLlLxxBOB0C+tdbWT4s07+1PD93GozMqExezVz4imqtNxGtGe4W9wl1CksTB43GVYd6krz/wCC2vjVfB1vaSPvvLIeVN65r0Cvk3pobhRRRSAKKKKACiiigAooooAKKKKACiiigAooooAKKKKACiiigAooooAKKKKACiiigAr558V3Y8ZfFvcvKaMdmO1e96tqC6Xpl1dv92GMufwFfPXw/jN5qut631W/kJDfjXfgoc1W/YmWx2jHcxNNoor6YxCiiigAooooAKKKKACiiigAooooAKKKKACisfXvGnh7wm6JrerQaa7/AHVmYDNVtL+JXhHXrwWmm6/a3l03SKNwSanmV7AdDRSkFTg8GkqgCh28uGV/7iFvyFFYfjjWP7B8L3d2TjI8v8+KT0QHJfDdB4g8Van4lPzHcYMn2r0quR+Fej/2L4VwRg3L+f8AnXW1EFoAUUUVoAUUUUAFFFFABRRRQB578Yrb7DZWniGMf6TaSKikdcE13Wl3H2zSbK4zlpYlc/Uis/xho6694burVhkKpk/Lmsb4S6s2seEyzHmCQwj8Ky2kB2NFLWRrHjLQPDjBNW1WCwc9FlYCtG0tWBrUVzH/AAtbwV/0Mln/AN/BUo+Jng88jxBaf99j/Gp549wOiorGs/HXhrUZBHa61bTOeAquK3PLPlhwQyHoVINUpJgMooopgFFFFABRRRQAUUUUAFFFFABRRRQAoODmuM1S7bwb8RNJ1iLh9QkFu59q7KuV+JFn5mjxah309vNFc+Ih7Sm0Nbn0PS1geA9a/wCEh8IaXqGcmaEE/wAq36+SNwooooAKyPEXhPSPFlr9m1exivoeyyjOK16KAMHwv4F0LwXA0Wi6bDYo3Xyxz+deR+OPgfqXxE+PHhvxZqMgXSNBP7q3PIk5r3DVL4abp1zdkbhDG0hGcZwM15H4P/aMg8Z6F4g1Cw0eeeTSX2NbR/ek57UAev3VjBfWj2s8Sy27rtaNhwR6VBDotjBpq2EdtGtmowIQPlArzzxF8dLPwp8MT4t1XTprN2GItPkOJJG/uivPNF/a6uofh9qPjLxP4Tu9A0qFgsKzHBkJPy/nQB9DR6LYxae9iltGto4w0IHymoJvC+lXGmJp0ljC9kjblhK/KCO+K8q+BPx0134ualeC/wDCN34f05YxLb3FwOJlPII/CvaqAKd5pNnqFqttcW6TQKABGwyABTbjRLG6sUs5bWOS1TG2Jh8oxV6igCpJpVpNp7WL28b2jLtMLDKkVzmi/Cfwn4d1A32n6JbW10TnzFXmuuooAwvE/gjQ/GUcSazp0N+sRynmjlfpU9v4U0m18nyrGJTCNsZxyoFa1FAFPU9Js9Ztfs97bpcwZzskGRkUXej2V/pxsLi2jmtCmzyXXK49KuUUAcz4Z+G/hvwfM82j6TBZSvyXjHNdNRRQAUUUUAFFFFABUV1KIbeWQnAVS2foKlrjfi5rT6D4D1G6jOHACjHvxQB5H4Jlk8Qazq+t3PM6ztEpP93NdjWH4MsRY+H4Gxg3CiVvqa26+uoQ9nTUTB7hRRRW4goqtqWqWWiWcl5qNylnaRjLzSHAArmk+M3gGTy9nimybzTtT5x8x9KlyS0YHXUUiOskayIweNhlWHQilqgCiiigAooooAKKKr32p2WlRiS+uUtYz0aQ4BoAsUVmR+LdBlXKatbsP98Uv/CU6J/0FLf/AL7FTzIDSoqlBr+k3TBIdQhkc9AHFaLQMq7uCvYgg07oCOiiimBmeJ77+z/D19MpxKsZ2fWut+B+irY+DLe+ZdtzfDzJK82+I1wy/wBjWic/arlYmHsTX0Bo+nppOl21pGMJEgUYrwMwneaj2NYl2iiivJLCkJwCT0pap6zcfZdIvZunlwO35KaAPlb4Io+qftmfFK/J8y1SFVhY9jkA19a18t/sm2/9peOvGWvYz9pkKbvXDV9SUAFFFFABXhXxVsT4Z+Ilnrx4iu0Fv7Zr3WvMvj1obar4YtbhR/x5TiY1rSlyTUhMz2GMe4zSVT0W+/tTSba6671x+VXK+vTurmAUVBeaha6bCZry4S2hHV3OBVKPxdoEoymrW7D/AHxRdIDUorN/4SnRP+gpb/8AfYqSHxBpFy22LUYXb0DijmQF6ipDA2wONrKehDA1HTvcAooooAKKKKACiiigAopVUt0rlLr4ueBrG6mtrjxLZw3EBxLGzjKn3qXJR3A6qis/RfEek+JrUXOj38WoW/8Az0iYEVoVSd9gCnJjcMjI702igDH+FN4PDPxA1HTXPGpN5iKe1e7V87a7J/Yvj7RNbPyxQ/I3pzX0LbzC4gjlX7rqGH4jNfK4qHJVZtHYkooorkKCiiigAooooAKKKKACiiigAooooAKKKKACiiigAooooAKKKKACiiigAooooA5b4nXS23gTWMnBkgaNfqa8l+GdubXwLp8bfeyxP512n7QWpNp/hDTkBwLrUo7c+4Mcp/8AZaxNFsxp+k28A4CjOK9rLo/FIzmXKKKK9szCiiigAooooAKKKKACiiigAooooAKkhQOxycAAnn2FR153+0P8RIfhd8HfEOttMIbuO3byATgscdqmcuWLbA/Lb/goh8eLrx78aprHTb2SC10lTbssTYBYHrXi/wABfjHqnw7+K2ga5PqM720FwvmqzkhlJ71y8FvqXxc+JAWNWkv9YvRnuQWbGa1Pjh8IdQ+CXjqbw7fszyRxpIsuMA5Ga+VlOcpOqu5v5H79eHNei8VeGtL1uEgxX8KzLj3FX6+Uv+CcfxiPxK+C40+9mzf6WRbpGx52jjNfV1fTUZqpBSRixK4P40Sef4T/ALPH35pVI/Ou8rzn4lSG48ZaBp/8M3JFVPawju9Di8jQdNj7rAoP5VbpI4/JiSP+4NtLVrRAFFFFMAooooAKKKKACiiigBJl3W06/wB6Nh+ledfCdv7NvdS0rptlaTbXpC/MwHrxXmnhxvsvxs1a0XiLyN1ZS0aYHpkX+sT61+Xf/BUrW9V0nx1p4tL6a3hb+GNiK/UOP/WL9a/L7/grFb7fEmjy4+8SK5cb/CZUdz4u8G/8Jz4+1ZdO0O7vr27IzsRzXpbfAz45xx7vJ1DH/XRv8K9c/wCCVVnFN8ZppZYY5gIiMSLmv1qmt7XzHH2ODG4/wCvOw+G9tDmbZblY/AzXF+Lfw5m8y8l1qx28+aoYqPxxXrX7PP8AwUC8c/C/WreHX7+TXtJdwsn2lssi+or9fvFfgHQfHmg3mj6lpNpJFcxlN3kjcM981+D/AO0x8PbT4W/GjxH4csf+PW0m+T6HmprUp4VqUZAmpH7t+APHWmfErwlYeINJlWa2uow52nO0ntW/Xxh/wSq1+81L4E39pcs0scF4yxsxzgA9K+z69yjP2kFIzejCiiithBRRRQAUUUUAFFFFABRRRQAVl+LLf7Z4X1KDGfMjxitShoRco0TfdYYNJ7AbPwJvlm8C21oOtqfLx6V6LXin7Ol48l14otSfkt7rav617XXx9Rcs2jdbBRRRWYwrI8WeIIfC3h2/1Sf/AFdtEz/UgcVr1keLPD8Xinw7f6XN9y5iZM+hI4NAHw34Y+G/jz9qDR/FHjLVPHupeF7aGWWK10+zJ8towCcnn6VF8D21H4ffAj4graajJLqNpNtF6332561Z8G618VfgLp/iX4fjwTeeIob6eRrLVoQfLiVsgA/nW/8ADP4P+NLX4G+NLDVtPkXWdSk8yOPHLZOaAPP/ANorQ9X+I/7PvgO/uvEVxa3M98il0OMcjmq/7VHwB1jwb+yoLm68e6jrEUtxagQzcKu4nGPpXrHjj4O+KNS+BXgnRbfT5H1CyvUkmixyqgjmuy/a0+GuveO/2Z7bw7o9m91qiz2rGFeuFJzQB5t4o17Vv2S/2f8AQLqbxPfeIZdctYYITKPmgzGp+T6bq8U1b4rXngzS9I8TaF4v8V654hkuIhLpM0DmLBPzfh0r7F+NnwJvvij8FfC9jAVh1zQrSGWCOQZBlWNAVI/4DXm3h343ePdNh07w7dfBky6lCVgl1U2w8o4ON44oAx/2kPiZ478Ra98MbLwvqFxoz615aXcYypBOM1e+Mmo+Jf2N/hJda3c+Kr7xPfardLbkTkkwBupT6ZrsPi58NfE3ir4qfDjW7bTyLezmSW68sYWLpxXdftafBG7+OXw3j03T5kh1CxuVvId4yHK87fxoA+K9a+KbeA9JsfF2h+M/Fuva0jRytpE0DmNy5BK/QZr1744eOPHHjvxV4AstG1e48O/27YRy3UMeVMRYDPHrWxo/xw8d2dvZeHJfguX1CEJbtqZth5JC4G/GK6n4g/DfxJ4g+NHg/wAQRaey2sNqguPLGFjbHIoA8tuPD/jT9l39oHwDYSeOdS8W6P4jkYXcN8TiLB/h56V1fxC1nxZ+0R8errwDoniC68LeHNPtjM+oWZxI7gdK7L9pD4a6/wCMPjR8L9V0yze4sNNkY3ci9EBbvXMfEjwb4x+Bfxym+JHhfR5vE2iXluYZtJtvvhiOTQBa8Raf4h/Yx+EPijxRf+K73xjGCqR/bid0W7gEe9fNWofFMt4Km8bW/jfxY/iLy/tsGkpA5ikYkEJ9K+oNUtPFf7Xnwv8AEXh/xD4cn8HwSMr28N0DlipyB+dcX4f+KnxA+F+gweD7v4P/ANv3lgotYNUjtgYmVeAW454oA+lP2c/HmpfEr4N+G/EGr2kllqV1bgzwzLtZWHqK9Krm/h3d31/4N0y41OxTTr6SINLaou0Rn0xXSUAFFFFABRRRQAV5T8er3dpNnpuf+Pp/u+uDXq1eIfHKQy+OvCUA5XLFh+Na0o804oTLWnx+RptrFjGyMCp6dIoViB0FNr69bGAUoG4gDqaSkluFs7W4u3OEt42lbPoOaG7ID4e/4KifGl/CHgXTvDOk3flX16225VWwQtflda+LtYtZreRNQuMwOJEBkOAQc17L+2v8XD8XPjlrN9DMXsIH8mJM8AgkGuc8e/s8a74H+HukeL7iNv7M1BAysRxzXzGIlKrUlKOyNloj9ef2Jfi0Pi18CdIurmfztWgURzLnJAAr3ivyi/4Jb/GhPCPxAvfC19PmHVFC20bHgN3r9YJozFIyHqK9zC1PaU0zOSsxlFFFdhIUUUUAFfFf/BVbxFq3hn4VeGLjSL+awdrnEjQnBYV9qV8Tf8FYrfzvgzoLY+5PmuPF/wAJ2KjufmRpnxS8f6hcpa2OvanPO5wscT5Jru4tJ+Ok0IlWTXNhGR1/wqx+w7aRXn7QugxzQpOnJKSLkHkV+5C6dp6wwgaZZgbBx5IrycPQdaN+Zlt2PwX1LxV8ZfCcm+6vtftdvPmbWIH44r0P4M/t/fEf4YarC2pajLr9mrAPHdtkgd6/ZnVvB/h/xNZyafqGi2MlvMNj/uFzg+9fi7+3j8EdN+Dfxgu49FQQ6VeNuih/unkmnWo1MMueMgTTP1z+Bfxq0T49+BLfxHo8q5KgXEOeUfuK9BHUV+ZH/BJnxbe/8JLqnh/exsWUy7e2a/Tk8SH616+HqurTUmZtWZy/2Ua98SrDT2+ZbciUD096+guleEfD9fO+ON8/VFs+PrXvFfP4qTlWlc1jsFFFFchQVhePJ/s3gnX5h/yzsJ2/KM1u18wftmfH3UfgHoNzqN1Yte+Gr2yktJNo+7IykZ/WgC1+wfGL/wCEc2snl7q+mXP0avpWvz5/4Jj/AB5vPiR4YuvCGnWbWlno9zJcyXLDiRXOcD9K/QagAooooAK574gW/wBq8F6xFjJa3bH1xXQ1V1S3F1p9zCRkPGR+lAHg3w4lP/CJ2tu5zJFkN+ddLXKeCD5Wpaxa9oZCAPxrq6+uoS5qcWYPc+Tv+ClOtap4f+BL3elXsllIJ1BeI4OM1+Tun/Fbx5dXEdtZ+INSlmkO1I43yWPoK/WT/gpxb7/2aLmXH3bla/Lz9lO3S6/aE8ERSRrKjX6go4yDwa8bGXdZJM0jsbdvpnx0uoRKkmubcZ5z/hWZqXiL4z+FWEtzd+ILcf8APQKxH6Cv3rutL06GTyxplmAoHAhHpVDUPDWh6zZy2l5o1jJDKCrZgXPNb/Um1dSYuY/Fb4R/t4fEz4YavHLfarPrtsrANBeNkgZ5FfrP+zv+0Bov7Q3gmDWdMdVvlQG5twf9WcV+Xf8AwUY+A+jfBj4sRtoEQgsNQj81ox2Y13n/AASn8W3uk+P9Y0uN2NteKN69hxWWHq1KdX2UncGk1c/ViinzKFkYDpmmV7xmFFFFABRRTlUuwUdScUAcJ8dvH0fwv+EviDxC0ixz20DGME4JJHavwW8VfEPWfEniXVNVa/uEe9maVgrkdT0r9Ff+Cq3xoFnpWk+C9NufLnYn7YinqvvXwv8AB39n/W/i9pur6hp6N9l06FpZGA9BXz+MnKpU5I9DWOiufYX/AASx+OUtvr2qeEtYvWmFwo+yLI2TnuBX6ayRmOQqeor+fb4IePZvhL8XNF11WZPsN1tce2cHNfvp4V8QReLvCuk63E4db6BZjg+orrwNTmhyvoTJamnRRRXqkHJfFSJm8KB4x+8WdCD+Ne8eGbhbrw/p0inIMCf+givHfF1qLzQJ0Pb5vyrvfg7qR1LwTbOTny2KflXgZhH31I1idxRRRXklhRRRQAUUUUAFFFFABRRRQAUUUUAFFFFABRRRQAUUUUAFFFFABRRRQAUUUUAeNftQMV8M+FffxDAP/IFxVllCqgH90fyqp+1F/wAiz4T/AOxig/8ARFxVx+if7g/lXvZf8LMpDKKKK9cgKKKKACiiigAooooAKKKKACiiigByKZGCjqTivze/4KtfGcSLpXgaxn2TQNuulVuo9DX6LavqUei6JqOoSuI1tYGlDH1AzX4H/tK/Eyb4sfGLXtdlYsHmMSc8YUkV5mOqcsOXuXHc92/4Jn/CV/Gnxoh1y7t/M0vThkuRkB+1e9f8FWPgqt5pOleMtLtt0lv8t3Io/h6DJr2X/gnP8Hv+FafBJL+5WMXOsYuFfcM4Ne1/Hz4ex/E34QeItAcQvLcQNsLMOCAazp0P9n5XuwvqflH/AME4/jEPht8aoLK9uNmm6gvl7GPG88Cv2Yf+FuzgOPoa/nbYXHw1+JBAYifSL/qp/uNX7wfs+/EaP4sfB/QPEayB5JoVVgD0wKWAqaOm+g5dz0GvNfH3/JXfCPptNelV5t48+X4u+E/dTXqT6GZ6ZN/rX+tMp83+tf60yrWwBRRRTAKKKKACiiigAooooAcn3l+teaQjyPjVeSjq8IBr0tfvD615pL83xgmC9fK5rOe6A9MXiQfWvzR/4K1W+248PTY+85H6Gv0t/wCWg/Cvze/4K3uhtfDCj7wlOfyNcuM/gsqO583/ALCf7Qnhv9n/AOJEmreJ1mOnum3MIyc1+hJ/4KbfBOTfILi8AznBHNflB8Ffgb4h+OXiI6ToMPmTAZJ9K+g4v+CZPxEePLOqN/d215NCpXjG1NaFu3U+m/ih/wAFVPBVnotyngu1ubi+dCqtcIQAfWvzZ1a98S/tBfE6e7S2e91nVZ+VjBbGTXsfjT/gnp8UvC9jJdWultqSRjc4jHOPWvIPhz4+8RfAH4hQ6lbw/ZtSsZQJYJ054PIrOtOpKSVbRDVuh+0P7IPwR/4UL8G7LRZh/pt0BPPkchj1Fe0V5V+zT8fNP/aH+G9tr9rtju4wI7iMf3+/Feq19FR5eRcuxkFFFFbCCiiigAooooAKKKKACiiigAp8P+sFMp8X+sFD2AyP2eR5PiLxan96fd+te23F1DaqGmlSFfWRgB+teJfAH5vFPicjoJTn86T9q74KeLvjZ4RstM8I+KG8LXkMu97hc/MPTivksR/FkbrY9m/tvT/+f62/7+r/AI0f23p//P8AW3/f1f8AGvzp/wCHd/xz/wCizSfm1H/Du/45/wDRZZPzaucZ+i39t6f/AM/1t/39X/Gj+29P/wCf62/7+r/jX50/8O7/AI5/9Flk/NqP+Hd/xz/6LLJ+bUAfot/ben/8/wBbf9/V/wAaP7b0/wD5/rb/AL+r/jX50/8ADu/45/8ARZZPzaj/AId3/HP/AKLLJ+bUAfot/ben/wDP9bf9/V/xo/tvT/8An+tv+/q/41+dP/Du/wCOf/RZZPzaj/h3f8c/+iyyfm1AH6Lf23p//P8AW3/f1f8AGj+29P8A+f62/wC/q/41+dP/AA7v+Of/AEWWT82o/wCHd/xz/wCiyyfm1AH6Lf23p/8Az/W3/f1f8aP7b0//AJ/rb/v6v+NfnT/w7v8Ajn/0WWT82o/4d3/HP/ossn5tQB+i39t6f/z/AFt/39X/ABo/tvT/APn+tv8Av6v+NfnT/wAO7/jn/wBFlk/NqP8Ah3f8c/8Aossn5tQB+i39t6f/AM/1t/39X/Gj+29P/wCf62/7+r/jX50/8O7/AI5/9Flk/NqP+Hd/xz/6LLJ+bUAfot/ben/8/wBbf9/V/wAaP7b0/wD5/rb/AL+r/jX50/8ADu/45/8ARZZPzaj/AId3/HP/AKLLJ+bUAfot/ben/wDP9bf9/V/xo/tvT/8An+tv+/q/41+dP/Du/wCOf/RZZPzaj/h3f8c/+iyyfm1AH2L8fNU8TWHhG51vwDfWlzrtkhkWzllBSRQMnvXxd8Nf+CuQ07WrjSvijoH9j3Vu5jk+zL3HGafqX7BHxn8P6dc6jqHxu+y2duhkkkkdgNo5PWvzN+Nen3d38R761g1VvFckb+X9vt4TiRs47UAfu58J/wBuf4TfF6TZpPiCO1f0vGEf9a9v0nxNpGvZ/s3U7S/x1+zzK/8AI1/PJ8P/ANjX4z+NLWG90Hw1fLbS4/fKzJgevFfe/wCyx+wP8bfh3cW+st8QZtCBIMlhM7Pn1HegD9N68M+KxNx8StGB5Edex6BaXljpFtBqFz9svEQCSbH3j61438S/l+JmnZ79K6cP/FiJ7GxJ/rGptOk++abX1i2MArwr9tb4tj4RfArVr2Cby9RuAYETOCQwxXvEcZkYKK/KX/gqd8YR4m8faf4a0+4P2WyjIuI1PBcetceKqezptlR1Z8i/CnwnP8Uvito+kFWkbUr0eYcZ6nJzX7KftBfs+W/iz9loeC4YVWbR7TzEdRz8q5/pXxP/AMEr/g2nirx9qHibUI0FtYx5t3cj749K/Vue1XUo5raV4/LuF8pssOh4rhwlJezbl1Kk9T+eP4eeKrr4U/E7TtXXdHPpd38w6Hg4Nfvt8OfFkPjrwDoWvRSLK15bLI+DnBIr8Wv25vhevwx+PmuWtsiiwnfzIihBGTkmvur/AIJd/GAeKvhreeF9QuPN1G0kxCrHJ2Cs8HL2VV0mEtVc+26cFB6nFCr+8APrivzj/wCCjH7QHxF+FnxitdL8J6lPZac1qHKxRlgW4r161ZUY8zISufo5tH98UbR/fFfhr/w2X8b/APoP3v8A34ag/tmfG4DnX7wD/rg1cP8AaEOzK5WfuSwx3zXxx/wVKt/tHwT084+5Jmt//gnn8TPFfxQ+G2o3/i25kuryNsI0ilTj8azv+CmzKvwPt93944rarNVKDkuwloz8y/2VviNpHwr+MmkeINbLLp8GQ5TryRX6x2v/AAUB+D95DGU1FxhBnca/FvwV4J1f4g+ILfRtDtWvNQm+5EvU19BWf/BPX4tTRhn0l4sjOMV5GHq1YRtBXRo0up+gXiv/AIKWfCTw3ZSSWc1xeXyjMcajIJr8wf2j/jlqv7SPxMn1f7M+yR9ttbRrk4+ldZr37Avxd0m3aaLw/LeBeWWMc4rxqGPXfhD43gkvLJrLVtPlDmG4TuD0orVas9KisgSXQ/U//gmx+zvf/DLwXN4n162a01S+O6GJhgiM+tfaRP3j7E186fsZftTad+0N4HitpY47HXbBRE9suBvx/EBX0WeAwPoa93DqCprk2Mne+plfCdfN+JWpTHk+SRmvcq8R+D5A8c6mp+9sJr26vmsR/FkbLYKKKKwGFfMX/BRfwXceOP2YPEdla2xubiMecqqMkYB5r6dqrqmm2+safcWV3Es1vOhjdGGQQRigD4l/4JP/AAli8G/AZfEUitHf6rKySIwwRtIr7krB8FeC9L8A6DHpGjwC3so3Z1jUYAJ61vUAFFFFABSdeKWigD508K/L4+8YRfwpPxXW1yXhf/kovjP/AK711tfU4P8AgxMZbnzB/wAFLIfM/ZT1I91uVNfkt+z/AOMtP+H/AMYvC3iHVSy6fYXizTFeu0Zr9cv+Cj23/hlXV93Tza/F/wAL+GdQ8Y6/ZaNpUBudQvJBFDEvVmPavJxl1WTX9alx2P2wT/goT8HtUYTRahIqsAfmPtWF4m/4KSfCDw/ayNFcXFzdAHYkfOTX572n/BPP4uOq+do7wNjJU54qnrX7AHxd023eWHQZLsqMlU61r7fEcukRWRg/tXftIaj+058Rl1T7MYraIeTbQIMlhng49a+4/wDgmP8As66n4H0O+8Y+IbR7WTUFH2WKVcMor8zdT0HX/hT4st01Wwk0/U7OVZRDOvcGv2A/Yd/a1sfj14TGiX8UdhrWmxqhVQAJMDsKzwtpVuao9Ry20PqZm3MSe9G0f3xXnP7Q+val4V+EfiDUtJdotRgtmaNlGSGxX49/8NmfG5ica/edecQNXqVsTGg0miFG5+5W0f3xQVHZga/DX/hsv43/APQfvf8Avw1ep/sx/tUfFvxd8ZtD0rV9YubmwmfEsbxEDHFYxx0JNKzHys/XWoNT1GPRdHv9RlZUS0habLewzU8fzW8Ld2QE181/8FAfit/wrP4D3sdrP5WqXh8lUBwSp4ruqTUIOTJPyk/al+Kknxg+M2u67vZoWlMUa54G0kcV+oX/AAT0+CaeDPgBdR6hADL4ij372HO1u1flR8BfAUnxV+L2haKyh0u7oGYscDGck1+/Hhfw7H4Q8M6VokDRiPT4ViXaw7CvGwcXObqSLl2Pwt/a++FLfCL4265pcUJjsWlMkDYwDk5NfpJ/wTX+MR+IXwdfR7+ffqWnv5UcZPOwV5x/wVc+EceoaBo3iyxWMS2wP2llYZbivmD/AIJ3fGIfC/43WtvdzlbHUR5AjJ43k8VMf9nxNujHuj9oaSnyD7rdnUOPx5plfQLUyINRj8zTbpT/AM8mP6Vqfs7TGbwDk9rmQfrWddnFhdn/AKZN/Krn7N//ACT9s/8AP1J/OvFzH7JpA9WooorxDQKKKKACiiigAooooAKKKKACiiigAooooAKKKKACiiigAooooAKKKKACiiigDx79pqEzeF/DJH/LPXoXP/fif/GnrIJoo3HQqP5VvfG7SxqXgreRn7HcLcj2wrr/AOzVxnhO8/tDw5aT5zuGM17mXP3ZIzmatFFFeyZhRRRQAUUUUAFFFFABRRRQAUUU+KMyOFFAHzX+3/8AFb/hWnwFv47SfytVvD5aLnBKnivxJmma4mklc5d2LE+5Oa+3/wDgqJ8YF8ZfE2z0Cyn/ANG02MpNGp4Lj1rl/wDgn/8Ast6Z+0B4r1GbxFCW0izj3AN0dvSvnMQ3Xrci6GsdEec+D/2yviR4L0G20ix1VzZ267IlZj8o9Kuat+3B8UNWtXgbWZIlYYJRjmv0yb/gnb8HC2RoSAfUUn/Du34Of9ANPzrf6riLW5hcyPxW1LUJ9Wvp7y6kMtxO5eR26knqa/TL/glL8YvtWnat4M1K4+W3XNnGT6jtXL/t5fsP+GvhX8P4fFfgy08hUlCS26c/L3NfJf7KvxOb4U/Grw/rEkzR2gnCTLnAIJxzXLBSw1ZcxXxI/e1lKsQeorzT4gfL8WPCch+6q8mvQ9N1OPXNJsdUhIMN5EJkx6EVwfxVj+z6lpWp9BAwXNfQy1SZiejSndIxHQmmVFZy+fY20v8AfQNUtarYAooooAKKKKACiiigAooooAcn31+teaaeftPxy1GH/nnb5r0rdtVm/ujNea+DVOofFTVdU6gx+Xmsp7oD0teZF+tfmb/wVoud2oaBDn7rn+Rr9M4+ZFHvX5cf8FX7jd4r0mLP3Sa5cb/CZUdzF/4JRztH8XLlVbB2V+sstxJ5r/OfvGvxG/YV+POifAf4mPq2unZZsm3ca/Qsf8FJfhRKC7akqsTnbiubB1YRp2kxyTufWNrcSPMsZO9HOGU9D7V+K/8AwUc0HStF+P2otp8aQSSnMsUYwAa+xfHv/BU7wb4f0qdvD9qNUvSpEfsexr8wfi38TNT+MXj7UfEupbmur2TIj649AKyxlanKPLEcUz7o/wCCSut3p1zVtL3t9hIaTZ23V+mDfeP1r4x/4Jm/BK88A/DGTxHq0DWt/fPuijcYPlnpX2ceTmvQwkXGkrky3EooortJCiiigAooooAKKKKACiiigAqSH/WCo6hvrr7FYz3HTy1zQwKH7ObedrnjByMFbrb+te515B+z1pphs9Zv8f8AH5cbs16/XyFZ3qSZutgooorEYUUUUAFFFFABRRRQAUUUUAFFFFABRRRQAUUUUAFFFFABRRRQB518ZvgzZ/GnQRo+o6ld2Fkf9YLVsFx6H2rB+Hf7Jfww+HGlx2dj4Xsbl1OTcXMIZyfWvY6KAKun6ZaaTarbWVvHawL0jiUKo/CrVFFABXh3xg/0X4keHW/578V7jXivx3tWXxP4Xv8A+C3Zs/nW1F2qRfmJ7F+T/WN9aZQsgmVZB0YZpa+vWxgY/jTxNH4J8G6xr8rBUsIGlOfoa/AD4zeNpPiJ8TPEGvPIXW8umdMnotfq/wD8FKfi4fh58Go9Ks5v9K1YmCSMHnaa/K34D/DCb4v/ABO0jw1Dk/aJAXx/dBGa8HHTc5qmjSPcs/Cv9oLxh8H1kTw/qDwRSdY8nFehS/t5fFKRSv8AapX3DGv0gs/+Cc/wih0+0SfRVe4ESiVvVsc1L/w7s+Dv/QDSiOFxCVlIOZH46ePviNrvxK1htT129e8uW/ic5xXsv7CfxfPwl+Oml3EshFrekWzKT8uSeDX3x8XP+Cc3w5k+HesP4b0tbXWI4i0Lr1yBX5LXdvdeB/F0kLZW80y6wex3I3/1q5alOph5qUilZo/ox8xZY4ZkOVlRZAR7jNYuteBfC/ii4FxregWeq3IGBLcRhmArzf8AZH+KKfFj4F6BqjzCTUFjCTLnlcDFew19HFqpFMxOV/4VB8P/APoTdL/78ij/AIU/8Pv+hN0v/vyK6qin7OPYZR0fw7pHhuAwaPpsGmQN1jt12g18i/8ABUy6+z/BPTRnG+TFfZFfEn/BWafyfg34fXpvuMfrXPivdpOw47nwx+wXKYf2jtAYHacNz+Ir9yvtk3lxfvD90V+BP7LPj7TPhr8YtI13WJfJsICd7+nSv1nt/wDgoF8EZbeIv4oRG2gFcCuHBVIRg1J9SpXufRy3sw/jJB6j1r8xP+Ct3gvRdD1Lwpq9hbRQX98W+0MgwW4PWvpbxJ/wUc+EOh2Ulxp2sLqU8YysIH3vavzK/a0/acvv2kvHB1Boja6Xbki2t8/d96rGVqbpuMdxRTuehf8ABM3X7vR/2hIUgZjHNAVePPB561+yjj5v94fzr8t/+CVHwdvrzxrd+O7qBhpluhgQsuMt6iv1ILZk9s8VtgYtUtQluY3wvk+z/FjUbU9fs5evdK8F8GsLL433Ez8JNa+WPrXvVeLiVatI0WwUUUVzDCiiigAooooAKKKKACmyMI0Zj0AzTqzvEV19h0K+uP8AnnCzfpQB4L4RG/xj4quP+es2f1rra5bwCPOjvL7tcOTn8a6mvq8NHlpRRg9z5f8A+Clswj/ZV1Fc/M1yor8tP2RXMf7R3gRgcEagvP4Gv05/4KdXHl/s23EX965U1+VHwA8WWXgX4xeFtd1KTyrGxvFllf0UZrycXpXi3/WppHY/oY1C8mN258w9B/Kq63k27/WGvnNP+ChHwRu1EknidI2IGVwPSsvxB/wUV+Duk2ck1hri38yjKxgDn2r1VVpKO6Iszwb/AIKv+C9Fh0nTtfhtooNUeQIzKMFhnvXyx/wT91680r9pbwzbW8rLBdyFJUU8EVF+2N+1hdftK+Lkmt7c2Gj2w2xw54cj+KvU/wDgmH8F7vxV8TX8XyQMlppPMcjDAYnrivH5lVxKcC9lqfrZrNha6g1xbXdulzbOSGikGVI9K5T/AIU/8Pu3g3S/X/UiuuuJPNmd/wC8c1HXv8iaVzI5X/hUHw//AOhN0v8A78irFh8MfBWk3S3Vh4W0+zul+7NFEAwroqKPZx7DHxRmRgg9OK/JH/gqJ8Xl8Z/FK00Kxnza6dGUmjU8bx61+pnxE8WR+AvAGueIpGCiwgaTn6V+AXxM8VTfEb4kazrO5pH1G7LJk56nAFeZj6loqC6lRMvwf4w1PwLrtvq+kXDW17Aco6nFe6L+3p8U9oU6qWIGMljmvsv9lz/gn54G134QaZq/jDTRdatdDe27ggHkV6x/w7s+Dv8A0A0rmp4Wvy3jKxXMj8oviR+0t45+KVgbLW9VkltT1i3HBrz3w3rUvh3xBp+qQkrLaTrMpHXg5r9n/wDh3V8HXV1GhoGKkA579q/L/wDa++Av/DP/AMWLrQ4gRZTAzQegXPSsK9CrT9+buNNM/ZH9nH4kR/Fj4M+H/EHmiS4mhVZFzkjAxXpFfnJ/wSl+Me6LV/B2o3GSAPscbH+Vfo66mNip6ivew9T2lNMyejKWsTeRpN03/TNh+lb37P8Ab/ZvAajGN07t+tcb49u/sPhmSTONzhfzr1T4a6Z/Zfg+xjxtLr5n515eYy1jEuJ1NFFFeOaBRRRQAUUUUAFFFFABRRRQAUUUUAFFFFABRRRQAUUUUAFFFFABRRRQAUUUUAc98QLVrzwVrMKLudrZ9o98V4v8LZf+KNtbVz+/gLBx6c19DTRLPE8bjKMMEV84eE1bS/HnijTpBsiSX9yD35r08BK1RruRLY7SilpK+iMgooooAKKKKACiiigAooooAKq6xcXNro17LZDN4sZ8oe+DVqloeqA/Hr4q/sUfFfx58RNc1yS1EpvrlpQzA9Ca/QD9iH4EXPwL+EcNnq0aprsrlpmUdj2r6H8z/ZT/AL5FNJzXFTwsKcnNblOV1YSiiiu0k5P4teB7b4kfDrW9BuUWR57dlg3Do5HBr8j77/gnT8UrXUp/JgiKxyEo4B6A8Gv2cp/mH+6v/fIrkrYaFZpyKTseVfsyWPiTSfhLp2m+KwRqVkiwr/uitv4z2zTeA5niXMyyqRj613DHd2A+gqlrWnpqmkXVvIMr5bN+IFbcvLDlJIfC90l54b010OdsChvritKuC+DGoPd+G7uGc4mhuGRVP90Gu9qou6AKKKKsAooooAKKKKACiiigCO7kEVjdOxwFiY/pXn3wWU3umX+ouMO1wy8/Wtv4o6sdE8GXFwhwzOI/zq34C0ldG8L2qKMeeolP41k9ZAdDG211J7Gvhr9ub9kHxr+0B4us9R8PSwC2j6rLX3HTlYrSq0o1Y8shp2PyEg/4JVfFeZSftOnr9Sf8aWb/AIJUfFeJC32rTm9gT/jX69b29aN7etcf1CkVzM/H+P8A4JY/FeRwvn2Az3JP+Ne/fs8/8EvIfB2sW+r/ABBuY72e3bzI7eE5jJ9xX6BeYfWkLE9TmrjgqUXewuZkNnZ2+mWMFnaRLDbQIERFGAAKloorv2JCiiigAooooAKKKKACiiigAooooAKxfHFx9l8H6pIDh/K+UetbVcZ8Srg+ZolgvK3twI2Uemayqy5YNsaPVvgnam3+HOlSMu15k8xq7uqOi6bHo+k2tlEMJDGEFXq+Qbu7m4UUUUgCiiigAooooAKKKKACiiigAooooAKKKKACiiigAooooAKKKKACiiigAooooAK8z+Plrt8GPfgZa1cH35NemVg+ONDXxF4XvrFhnehIH05pp2dwPNNFm+0aHYS9d8Kn9KuxkLIpPTPNcv8AD3UPt2jTxZz9klMP5V01fYU5KcE0c5+dv7ev7PnxJ+N/xUDaLF5ugQR5iVgcbu9XP2Bv2NPEfwr8fS+LfE0SRyW42Qpiv0IV9oxtU/VRQzbuwH0GK5vqsPae0e5XNpYWRvMkZvU5plFFdpI+NgN4YblZSpB9xivys/aa/wCCfnjHXPi1qeqeGYo5LDUHM5yOFY81+qFOWQqMYB+ornrUI1laQ07Hxf8A8E+fhD49+B7a3pPilf8AiXTD/R1HRT3r7PPWlZt3ZR9BTaulTVKPKgeoUUUVqIK+Vv8Agoj8FfEXxw+Hvh/TfDcYlntZ98qkdq+qacrbewP1GayqU1Ujysa0Pxct/wDgnH8VLhgBbwrn1BqW4/4Ju/FWAAmG3bPpmv2f8w+i/lR5h9F/KuH+z6RXMz8WG/4J0/FRf+XaH8jXqHwg/wCCWHizVtYtrvxfdQ22jKQZI4ThzX6r+Yf7q/lSFyfb6U44GkncOZnN/D34faL8LvCtroGgWyW1lAgX5VwXI7n3ro6SivRSUVZEHJeJLg6D4t0TUF4NxcLEfzr6KU7lBr58+INn52lQXmM/YX876Yr2fwPrQ8Q+FdOvwc+dEDXzmOjy1b9zWOxu0UUV5xYUUUUAFFFFABRRRQAVynxQvksfA+q7mw0sLRp9TXV15D+0LqLrp2kWFu2ZZroeYg/uVUVzNIDn/h/atZ+D7CNx8+CTXQUy3tks7eOFBhVUfyp9fYwXLFI5z5x/bu+E+vfGL4Qto3h9RJdear7T3Ar86rf/AIJz/FS424toV3f3ga/aRW2nOAfqKd5h/ur+VclXCQrS5pFKTR+MM3/BNv4qwpu8m3b2GarN/wAE6Piooz9mh/I1+0/mH0X8qPMP91fyrH+z6Q+Zn5N/Cv8A4JZ+Ndc1a3uPE1zBaaQrDzVjJEhFfpn8KfhVoHwZ8H2nh7w7bLDbwoA8uMM5xzmuwLk+30ptdNHDQo/CS22FFFFdQgooooA+f/22vCvi7xx8Kf7C8IZM15mO4A7rX56fDb/gnj8RbjxtpJ1K3SCyhnSWVsHorA4/Sv2MVtvYH6jNOMn+yo+griqYWNWXNIpSsU9I0+HR9F0+wgQIlvAkZVRxkDFWaKK7UrEig4INfHv/AAUE/Zb1P46aVp+r+Hokk1qFwjbhzsr7BpVbb2B+orKpTVWLjIa0Pym/Zx/Y/wDit8G/i3ofiRolW3t5P3qpn5lPrX6rxzPcW8UsgxK6hnHvUnmZ42r/AN802s6NCNFWiDdzj/icDe6PBpqczSzIwA9M19AaJCbfR7GMjBWBAR/wEV4RDCdc+LeiQqN9rCpMo7Zr6DUBQAOAK8LGy5qtuxrHYWiiiuAoKKKKACiiigAooooAKKKKACiiigAooooAKKKKACiiigAooooAKKKKACiiigArwT4uae/h34jaNqkK7LO6/wCPlu2a97rg/jT4Xk8UeBbyG3H+lRYlRu4A5Na0p+zmpCepz28S4kX7rDI+lJWH4J1pNb8PQMpy1uPJf13Ctyvr4tNXRgFFFFMAooooAKKKKACiiigAooooAKKKKACiiigAooooAKXG7KnowwaSigDzLQ5D4W+KV5p7fJYTJuT0LV6cRivPPi7psixaZq9sNrWcwkmYd1ruNJ1WLXNKttQhOYplGKyjo2gLVFFFagFFFFABRRRQAUtJTZbhLOGS4lO2KIbmPoKAPOfiVcHWvFej+HFO+Cc75MdsetejQwi1t4bdfuwqEH4V5v8ADm3fX/FWs6zcDdCr4tXPcZ7V6WTk5rKGuoCUUUVqAUUUUAFFFFABRRRQAUUUUAFFFFABRRRQAUUUUAFFFFACr156VynhuzHjP4utbSjzLHTVEyN23Vua5qkOj6Rc3U7bE2FQfcjitT9nvw9NYeGZtRvY8Xl3KzBz12dq8zH1OWnyrqXHc9Yooor501CiiigAooooAKKKKACiiigAooooAKKKKACiiigAooooAKKKKACiiigAooooAKKKKACmyL5iMp6MMU6igD53trT/AIQ/4jX+hdILgG5DdiTXV1D8etHkszpuvWceZ0mCTMB0T1pbW6jvrWK4hbdG6jDCvo8DU5qfK+hlJaklFFFekQFFFFABRRRQAUUUUAFFFFABRRRQAUUUUAFFFFABRRRQBX1KzGpabc2h6TIVq98BNcMun6hobcHTZNig+lRK21gRXMabeHwT8TbGZT5en33/AB8Sdt3avLx9PmhzLoXF6n0JRTUcSIrqcqwyDTq+eNQooooAKKKKACiiigBCcDJ6V4D4mvP+Eo+Lcm1vN0+1h2j03ivYvG3iOLwr4ZvdRm+7GmB9TwK8V+HmmyWum3N5cEvLeSmZWPUKe1d+Cp89W/YmWx1RpKKK+mMQooooAKKKKACiiigAooooAKKKKACiiigAooooAKKKKACmy3CWsLzycRxjLU6uc8fal9j0YWSn99qB8hMdQTUTkoRcmBs/AzS5NQ1jWtauF3I0uLdj/dr2iua+HXh9vDHg/TrCQfvo4xvPqTXS18hOTnJyfU6AoooqACiiigAooooAKKKKACiiigAooooAKKKKACiiigAooooAKKKKACiiigAooooAKbJGs0bIwyrAqR7GnUUAfOE2n/8ACuviTdaYQYtIvP3kTN0LntXZMpU4Na/xr8DnxV4b+12wI1DTj58O3q2O1cV4L8Rf8JFoyNL8t9D8txH/AHSK+hwNbmhyPdGUl1N2iiivUICiiigAooooAKKKKACiiigAooooAKKKKACiiigAooooAr6npsetaZc2EoHlzoVNcB8LdTk0q/1Hw5dkoLZ8Wwb+Jc16RXnHxP0efS76z8VacpM9qQrxL/Evcms5ae8M9HPHFJVLQ9Yg8QaTb31uwdXUb8Ho3cVdq07iCiiimAUUUUAFcL8WfED2Ol2+lW3zz6g/kuq9VU967a6uorC1luZmCRRqSWbgV5p4HtZfHHiu78TXan7LETFDE3Tj+IVnN9EB3XhPQU8M+HrTTl5Ma5LdzmtWlzmkq0rKwBRRRTAKKKKACiiigAooooAKKKKACiiigAooooAKKKKACl60lZ3iLWo/D2kT3rkb1X92p/ib0pN2VwOa8VRP4y8WaX4Vgy9rMwkndf4MHvX0XptjHpthb2kQ2xwxqgx7DFeV/AfwfJb2t14lv1P2zUjvRHHMa+1eu18tiavtqja2NoqyCiiiuQoKKKKACiiigAooooAKKKKACiiigAooooAKKKKACiiigAooooAKKKKACiiigAooooAKKKKAMzxJosfiDRLzT5AMTxlAT2z3rwfwPPJpV3f+HLnKvp7lUZv4ua+i68X+NXhuXRdStPFthGdtucXMaD7+T1NdeFrexqJvYmSui1RUGn30eqWMN3CwZZFDHHb2qevqU7q5iFFFFMAooooAKKKKACiiigAooooAKKKKACiiigAooooAKwvG2hnXtCkjjO2eM+YrDrxzW7S+oPQ8GplFSTiwOn+EnjAeLvCcDv8ALcW/7l1PX5eM121fPGj6q/w38fpOSRpWpsItn8KMe9fQsciyxq6MGRhkMOhr5KtTdKbizdO46iiisRhRRRQAUUVg+NvFEHhPw/c30rBXVSIlP8TY4FAHl/xk1xvEXiKw8M2j+Zbhs3gHb0zV6G3W0t4rdPuRLtFcv4G0+e4+1a/fr/p2oMWZW/hHauqr6bB0fZU7vdmMndhRRRXeSFFFFABRRRQAUUUUAFFFFABRRRQAUUUUAFFFFABRRRQAo7k9AMmuc8G6Z/wn3xFe5kUyaRYcoe3mCk8b65LptillZDfqd0dsUfcg9a9S+F/g2PwZ4YhtxzPN++mJ/vHtXjY+tZezRpFdTr6KKK8M0CiiigAooooAKKKKACiiigAooooAKKKKACiiigAooooAKKKKACiiigAooooAKKKKACiiigBCAwwRkV89fEDQpPhh4y/tq1jb+xNQbN1gcKxr6GrN8Q6DaeJNIuNPvIllhmUjDDoexrWnUdKSkhPU8xhnjuoY5omDRyKGUj3p1cPpM118OfEU3hnVixs2bda3L9DnoM13J9jkdjX1dKoqsVJGL0EooorUQUUUUAFFFFABRRRQAUUUUAFFFFABRRRQAUUUUAFMnt0u7eWCVQ0cilCCPWn0UAeWeHbuT4ZeKpNFvCRpF2+beRum49q9UPscj1rB8aeFIfF+ivbMAt0gzBJ3Q1z3w38XyMX8PauTHqFodiNJwZB61kvddmB31FKeKStQClVSzACiuP8AiL40HhuxFlafvdUuv3ccacsue9KT5VcDC+IGty+K9Wi8KaWSyOw+1yof9XivQdH0uHQ9Lt7GBQqxKFJHcjvXPfDvwafDOmm5vP3mq3XzzyHrzXWVEV1YBRRRWgBRRRQAUUUUAFFFFABRRRQAUUUUAFFFFABRRRQAUUUoBbgUAJkKpZjhVGSa4vS9Pl+LfjaO2iDf2Fpz+Y038LMP4aPF2sXWvalD4W0Tc95csBLLHz5Y759K9w8B+DrXwT4fg0+2QB8BpXH8T45NePjcRyr2cdy4rqb8MKW8KRRqEjQbVUDgCn0UV4RqFFFFABRRRQAUUUUAFFFFABRRRQAUUUUAFFFFABRRRQAUUUUAFFFFABRRRQAUUUUAFFFFABRRRQAVW1LT4dUsZrWdA8UqlSGGRVmigD5ys7e4+G/iifQb8n7BOxktrhuhJ/hrsGG2uu+JXgWLxtobRKAt9BmS3k9H7V5R4P8AEEztLouqAw6paHY2/jf7ivewWI5l7OW5lJdTqKKXpSV65AUUUUAFFFFABRRRQAUUUUAFFFFABRRRQAUUUUAFFFFAGd4i0OPxBpUtq3EpH7t/7p9a2Pgv45a4hfw3qbeXqNl8kW88yqO4qGuW8X6JcrcQ69pPyanac4X+JR1rzsZh/ax5o7oqLsfQ1Fcp8OvHVr450OO4ibZdRjbNC33lYe1dXXzZsFFFFADXdY0ZmO1VGSTXz74v1qT4peMRZxMToNg3zYPDSCui+Lnj6e8uR4W0N83U3y3EyH/Viqfh/Q4fD2mx2sQ+fGZG7s3rXpYPD+0lzy2REmaCqEVUUYVRgAUUUV9GZBRRRQAUUUUAFFFFABRRRQAUUUUAFFFFABRRRQAUUUUAFQ319DpdnLdzsFjjXcfepshVLMdqqMkmuPt7Wf4qeKo9MtSyaNatvmmHRyOq1z16yow5mNK5ufCbw3N4w8RSeKdRjJtYTixVhx9a9yqtp2nwaVYw2lrGsUEShVVRwKs18rObqScpG4UUUVABRRRQAUUUUAFFFFABRRRQAUUUUAFFFFABRRRQAUUUUAFFFFABRRRQAUUUUAFFFFABRRRQAUUUUAcn8RPh/Z+PtFe2mAiu0+aC4HVGrxnw1r154f1R/DPiFTFewnbBM3SVfXNfSVcb8RvhrYeP9NKyDyNQjGYLpOGU9hn0rrw+IdCXkS1c5QjHvSVxOk+Ib/wjqh8P+KFMUsZ2xXbcI47c12/DKGU7kbkMOhr6anUjUjzRZlsJRRRWggooooAKKKKACiiigAooooAKKKKACiiigAooooAWuM+IPgf/AISCJdS05vs2s23zJIvG4DtXZUoOKTXMgON+H/jpfEULaffr9l1i2+WSJ+M4712XtXFeOPh6dcddT0hvsmswfMrJwJMdjXKR/Hy30u2bSdRjI8TKfJWH+83Y/Ss+bl0kB3njbxra+D7DJ/f383ywW68liawvAHgy4e6bxFrp8/Up/mjRukantik8H+Abm4vv7f8AEh8/UZfmjhblYwemK9CJz7ChJyd2MM5pKKK1EFFFFABRRRQAUUUUAFFFFABRRRQAUUUUAFFFFABRRShc59B1NABXJ+MPFctrImi6On2rWbn5Qqc+WD/FUfiPxhPPeponh2P7bqsx2b05WP616T8L/hPb+C4TfXzfbNbnG6WZ+dh9FrzcVilSXLHcuMbk3wr+GcXgjTjc3RFzrN0N1xcNyc+grvqKK+dbcndmoUUUUgCiiigAooooAKKKKACiiigAooooAKKKKACiiigAooooAKKKKACiiigAooooAKKKKACiiigAooooAKKKKACvNfiv8Nf+EihGr6V/o+tWo3K68bwOxr0qimm4u6A8C8J+KBrkTWt0v2fU7f5ZYW4PHet+r/xM+E41pv7Y0Q/ZNYh+YbeBJ7GuM8N+Lvt0jadqifYtWhOx45ON59RX0WFxSqrlluZSjY6SilZSvBpK9IgKKKKACiiigAooooAKKKKACiiigAooooAKKKKACl+vI70lFAHIapZ3/gnWh4j0HIXObq2Xo6/SvbfBfjSw8baSl5ZuN+MSw5+aNvQ1wPDKVYblPBU965C607UvAurHXvDx/dA7rm1/hZe5xXjYvCc37yBpGXRn0bXmnxS+Jy6DH/Y+k/6VrVwNoROfLB7muX1L9oq38RaXHZeG42k1mf8Adsrf8sz3qp4Z8KnSHkvb9/tWrTndJK/JU+g9q4MPhpVpa7FOVh3hPwz/AGHE9zdP9o1O4+aaZuTz2repaSvpYxUFyxMQoooqwCiiigAooooAKKKKACiiigAooooAKKKKACiiigApfcnAHUmkdkijaSRhHGvJZugrjZr7UviFqv8AYvh4MlrnE95/CB3waxq1o0Y3kNK47Ury+8dayPDug7tmcXV0vSMfWvcPBvg+x8F6PFY2aDIGZJMcu3c1F4I8Daf4G0pbSzTdIRmWdvvOfc10dfMVq0q0uZmyVgooornGFFFFABRRRQAUUUUAFFFFABRRRQAUUUUAFFFFABRRRQAUUUUAFFFFABRRRQAUUUUAFFFFABRRRQAUUUUAFFFFAHO+MvAuleONPNtqMAdlH7uQfeQ+ua8P1Sx1/wCEN75V+H1TQGPyXQBJjHpX0lUF7Y2+pW7QXUKTwt1SQZBrelWnRd4iauePaXq1nrVqlxZzLJGw6Z5/KrdUvF3wPutNvJdW8IXJt7onc1rI37v8BXM6X8QmtZjZeILOTTbmM7WuJRhGPtX0FHFwq6PRmTi0dlRTLW4hv4RLayrPEeQ6Hin13EhRRRQAUUUUAFFFFABRRRQAUUUUAFFFLtwpY8KOSaAEpJHSGNnkdY0UZJY4rmta+IWmaVmO2zqd108i35YUaP8ADjxJ8TJI7nW5W03RH+ZYFO2XHoa5a2JhRWr1Gk2UL7xdqHia/Oj+E7drucnbLc4wIvfNdFbfsv6Ndaeb3Um8/wATkbl1D+430r1Xwr4N0vwfYra6dbLEAMNJj53+prcr5+tiZ1nfZGqjY+af7X1r4cah/ZfiiN5bPO2HUAM7h2rtLa6hvoUmt5VljYZG05NepazoVh4gtGtr+2juYiCMOuce4rxPxJ8H9a8DzSaj4SuWntvvy2sxycei13YfHW92p95Lj2N6iuU0b4iWl3+51SF9IugcEXHy7j7V1cbLNGJImEkbchl6GvZjOM1eLMwoooqwCiiigAooooAKKKKACiiigAooooAKKSVlgjMkrCOMdWboK5PV/iPaW8n2bSoJNXuWO0fZxkKfeolOMFeTA6i8vINPt3nuZVijQZO44Nccuoa38TL3+zfDUbwadnE2okEY9q3PD/wZ1jxhdx6j4tumjtvvxWsJx+DCvatI0Wy0GzS1sLaO2hUfdjXGfc14uIx3N7tM0Ue5zfw9+GWmeAbQ+Sonv5B++um5ZjXZUUV5DberNAooopAFFFFABRRRQAUUUUAFFFFABRRRQAUUUUAFFFFABRRRQAUUUUAFFFFABRRRQAUUUUAFFFFABRRRQAUUUUAFFFFABRRRQAVwvxB+Fdj4zX7VDiy1aMfu7pOD9DXdUU02tUB85R69qXgu+XSvE8DRrnbDeYyJK66KSO4jWSJ1kRhkFTmvTNe8O6f4ks2tr+2SdCMAsOV9wa8Z174X674DuZb3w7M15pn3pLaQ7n+gr18PjuX3an3mbj2Nuiuc0fx5Y6hiK9VtLus48q44JNdIvzIHX5lPRq9qM4zV4szEoooqwCiiigAooooAKKKKACiiigAooooAKKSaRLaMyzOIoxyWbpXLal48jab7Lo1rJqlwx2iSAZVT71nOpGmryYzpL6/ttLt2nupVijUZOTzXLWba18UL77FoqNZ6QDiW+YYyPSuh8N/BvUPElxFqPi24LbfnjtoTgfRq9i07S7XSbVbezgS3iUYCxjFeHiMc5+7T0Roo9zyHVv2e7TTdLjn8PS/ZdYjG55cf64/0rntK8YzWV6NI8QwNY6ip2qSOH9819E1z/ivwPpXjC0aG+t18w9JlGHX6GuWjiJ0XpsNq5wXDAFWDKecqc0lcxq3hPxN8MpXe2D6vogPyxp80gFXNG8ZadrIVC/2S6P8Ay7S8NXv0cTTrLR6mbTRt0U5lK9RTa6yQooooAKKKKACiiigAooooAKKKKACiiory8t9NiMt3MtvH/ec4ovYCaqOsa5ZaDatPeTKoHRQckn6Vz114yvNYuRY+HLKS6nc7VugMxj6muw8JfBENdx6p4nnN9qA58lTmIfhXnV8ZCnpHVlqLZyejeG9e+LFzvffpWgKc7uhmHpXuHhfwrp3hHTUs9PgWJAPmbux9TWpb28VrCsUMaxRqMBVGAKkrwKlSVV80maJWCiiishhRRRQAUUUUAFFFFABRRRQAUUUUAFFFFABRRRQAUUUUAFFFFABRRRQAUUUUAFFFFABRRRQAUUUUAFFFFABRRRQAUUUUAFFFFABWL4k8H6R4st/I1Syjuk7bhyPxraooA8L1r4H6t4enkvPDWpyPCpyunsePpWDJ4y1zw223xTo7WMY4DxKWz719JVXvNPtdQj2XNvFcL6SIG/nXZTxdWnpe6JcUzxHSfGGk64ga2uQgP/Pb5a11kjk+5Kkn+42a3fEnwN8M+JJC7wSWjHn/AEZtorkdQ+BOr6Lz4Z1fy/QXJzXpQzCL+JE8pp7T6H8qK5xvBPxK01d893DfL6Qrk/lVKXxB4o0pilx4U1m9K9Wt9PlcH8lrqjjKMupPKzr6K4v/AIWJrSnH/CvfEx/7hVx/8RR/wsTWv+ie+Jv/AAVXH/xFX9apfzCsztKXafQ1xqeMfEN8dsPgnxBbE/xS6bOB+q1cj8O/ELWhm0Q6eG6faYymPzqZYuivtD5WdK2E5chB6scVTvtasNNiMk11GQOcIwJqjZ/B7xrqkgTXNbga37iHg10mk/s6+G9NuVuJZLq6l6sJJPlP4VyzzCC+FXHys4KX4lJqMxtvD9nLqF50CMhA/Or2n/Dfxp46bfq0zeHoRyY4zyw9K9x03w7pmjqos7GCAqMBlQbvzrSrz6mMqz0Whaiji/CPwm8P+EWSeCzWa+x89zJyWPrXZ0tFcLberKCiiikAUUUUAcz4s+HOheMk/wCJjYpJMBhZVGGB9a8p1L4R+KfBrNcaFfPq8Ofls5Djb7V75RWtOrOm7xYrXPmz/hYd1oUgh8U6bJp0+cYjQkV0umeItN1iMPb3SKD2kYKa9h1DRbDVFxeWcNz2/eICfzrz/Xv2ffDOuXBmAuLR85AgkwB+FelTzCS0miOUzlZZPuOsg/2Tml2n0P5VkX3wV8U6O23w7rUaRdhccmqUnhP4jaQu65kXUAO1um4n8BXbHHUpb6E8rOkpK46TxX4k075Z/Buu3ZHVodOmYfotM/4WJrX/AET3xN/4Krj/AOIrf61S/mFys7Slriv+Fia1/wBE98Tf+Cq4/wDiKeninxLqR22/g7XLQt0abTplA/NaPrVL+YOVnZbT6H8qRmWP77rH/vHFc6nhH4jasu62mjsAecXCbSPwNXbD4J+JdYbb4k1lJI+/2fg1hLHUo7aj5WP1TxNpmjRl7i6RgOojO41zi/EC+16QxeFdLk1GTofNQgV6ToHwB8MaDcCbbPdt1IuH3A/hXfWOkWWlrttLSG2HT92gWuKpmEnpBFcp4fpPwh8TeLpku9fv30uHPzWUf8XtXrHhb4e6F4PUnTbCOGRh80hGWPvXSUV5s6k6jvJl2sFFFFZDCiiigAooooAKKKKACiiigAooooAKKKKACiiigAooooAKKKKACiiigAooooAKKKKACiiigAooooAKKKKACiiigAooooAKKKKACiiigAooooAKKKKAOV8VfDXQvFu6S7s0F3j5bhRhlPrXmGo/DPxZ4NYvo1w2uRE5EMpxtHpXvNFaQqTpu8WI+c/+E/bSZhb+ILKWxujxtRCRXRWOtWOpRh4bmMA9nYA165qGh6fqqMt3Zwz7hgl0BP51wOrfAHw3qUzTIbi2l6jy5CAD9K9KnmEo6TVyeUzVw/3GDj/ZOaXafQ1mXXwf8W6a+3RdZhSHsJuTVSbw3480dc3CnUMdfs0ZbP5V2xx9J7k8rN6krk28UeIbP5ZfBuu3BH8UWnTEH8lpP+E61r/oQvEf/gsn/wDia3+t0f5hcrOtpa5H/hOtaP8AzIXiP/wWT/8AxNPj17xLqR2weFNZtD/emsJVH6rS+t0f5g5WdXtPoaRmRPvuqf7xxWHH4S+IGqr+4lWxJ/5+E24/Or9j8E9c1P8A5D+rrID18jisJY+mttR8rIdU8TaZo6Fri4VwO0R3H9Kw4/GmoeIG8vwxpkl+54/eqVxXpnh74H+G/D8wlWKW6fqftD7gfwruLTTbSwGLa2ig7fu0C/yriqY+ctIqxXKeL6T8G9c8ROl1r2pyWkZOWsYzx9K9U8M+CdH8Iw+XptnHASMM+Mk/jW7RXmynKbvJ3LCiiioAKKKKAEIDDBGRXDeLvhDoniYvcRRCw1FuRdQjBFd1RTvbYDwDUPA/jTwS3+gk+ILccl5DyBVS3+JFjDMLbUoZrW86Muw7R+NfRVZWpeF9K1aN0ubGB93Vtg3fnXbTxlWnpuTyo8utdStL2MSRXMZB7FhmrK/N907h/s81Z1H9nvQpZnuLOa5tbg8j94Sv5VgT/Cfxtp8mNM1i38gfwydTXoQzCD+JEcprbT6Ulc/PpXjfSVJns5r7HX7PAz5/IVT/AOEu1+1+WTwVr0xH8UenTEf+g11RxlF9RcrOsorkv+E61n/oQvEf/gsn/wDiaP8AhONabj/hAvEQP/YMn/8Aiar63R/mDlZ13NG0+h/KuVi1bxRqjbLfwzq1kT0a4spVH6rV9PAvxE1Fd8V9BZL/AHZlwfyrOWNox63DlZstJHH9+VE/3mArH1bxlpOiqTcTl8f88vm/lWhp/wACrzVefEeqNMT1FuSK6/w58HfDnhtg0Vs1yR0+0Hf/ADrknmC+wiuU8sh8QeI/Epx4d0c3Ns3WWUbSB610ug/A+61KdLzxJqElwjHJsc/KPavYbe1htE2QQpCv92NQB+lS151TE1Km7KUUjN0Pw5p3hu1Fvp1pHbReiitKiiuUoKKKKACiiigAooooAKKKKACiiigAooooAKKKKACiiigAooooAKKKKACiiigAooooAKKKKACiiigAooooAKKKKACiiigAooooAKKKKACiiigAooooAKKKKACiiigAooooAKKKKACiiigAooooAKKKKACiiigAooooAKKKKACiiigAooooAKKKKACiiigAooooAKKKKACiiigAooooAKKKKACiiigAooooAKKKKACiiigAooooAKKKKACiiigAooooAKKKKACiiigAooooAKKKKACiiigAooooAKKKKACiiigAooooAKKKKACiiigAooooAKKKKACiiigAooooAKKKKACiiigAooooAKKKKACiiigAooooAKKKKACiiigAooooAKKKKACiiigAooooAKKKKACiiigAooooAKKKKACiiigAooooAKKKKACiiigAooooAKKKKACiiigAooooAKKKKACiiigAooooAKKKKACiiigAooooAKKKKACiiigAooooAKKKKACiiigAooooAKKKKACiiigAooooAKKKKACiiigAooooAKKKKACiiigAooooAKKKKACiiigAooooAKKKKACiiigAooooAKKKKACiiigAooooAKKKKACiiigAooooAKKKKACiiigAooooAKKKKACiiigAooooAKKKKACiiigAooooAKKKKACiiigAooooAKKKKACiiigAooooAKKKKACiiigAooooAKKKKACiiigAooooAKKKKACiiigAooooAKKKKACiiigAooooAKKKKACiiigAooooAKKKKACiiigAooooAKKKKACiiigAooooAKKKKACiiigAooooAKKKKACiiigAooooAKKKKACiiigAooooAKKKKACiiigAooooAKKKKACiiigAooooAKKKKACiiigAooooAKKKKACiiigAooooAKKKKACiiigAooooAKKKKACiiigAooooAKKKKACiiigAooooAKKKKACiiigAooooAKKKKACiiigAooooAKKKKACiiigAooooAKKKKACiiigAooooAKKKKACiiigAooooAKKKKACiiigAooooAKKKKACiiigAooooAKKKKACiiigAooooAKKKKACiiigAooooAKKKKACiiigAooooAKKKKACiiigAooooAKKKKACiiigAooooAKKKKACiiigAooooAKKKKACiiigAooooAKKKKACiiigAooooAKKKKACiiigAooooAKKKKACiiigAooooAKKKKACiiigAooooAKKKKACiiigAooooAKKKKACiiigAooooAKKKKACiiigAooooAKKKKACiiigAooooAKKKKACiiigAooooAKKKKACiiigAooooAKKKKACiiigAooooAKKKKACiiigAooooAKKKKACiiigAooooAKKKKACiiigAooooAKKKKACiiigAooooAKKKKACiiigAooooAKKKKACiiigAooooAKKKKACiiigAooooAKKKKACiiigAooooAKKKKACiiigAooooAKKKKACiiigAooooAKKKKACiiigAooooAKKKKACiiigAooooAKKKKACiiigAooooAKKKKACiiigAooooAKKKKACiiigAooooAKKKKACiiigAooooAKKKKACiiigAooooAKKKKACiiigAooooAKKKKACiiigAooooAKKKKACiiigAooooAKKKKACiiigAooooAKKKKACiiigAooooAKKKKACiiigAooooAKKKKACiiigAooooAKKKKACiiigAooooAKKKKACiiigAooooAKKKKACiiigAooooAKKKKACiiigAooooAKKKKACiiigAooooAKKKKACiiigAooooAKKKKACiiigAooooAKKKKACiiigAooooAKKKKACiiigAooooAKKKKACiiigAooooAKKKKACiiigAooooAKKKKACiiigAooooAKKKKACiiigAooooAKKKKACiiigAooooAKKKKACiiigAooooAKKKKACiiigAooooAKKKKACiiigAooooAKKKKACiiigAooooAKKKKACiiigAooooAKKKKACiiigAooooAKKKKACiiigAooooAKKKKACiiigAooooAKKKKACiiigAooooAKKKKACiiigAooooAKKKKACiiigAooooAKKKKACiiigAooooAKKKKACiiigAooooAKKKKACiiigAooooAKKKKACiiigAooooAKKKKACiiigAooooAKKKKACiiigAooooAKKKKACiiigAooooAKKKKACiiigAooooAKKKKACiiigAooooAKKKKACiiigAooooAKKKKACiiigAooooAKKKKACiiigAooooAKKKKACiiigAooooAKKKKACiiigAooooAKKKKACiiigAooooAKKKKACiiigAooooAKKKKACiiigAooooAKKKKACiiigAooooAKKKKACiiigAooooAKKKKACiiigAooooAKKKKACiiigAooooAKKKKACiiigAooooAKKKKACiiigAooooAKKKKACiiigAooooAKKKKACiiigAooooAKKKKACiiigAooooAKKKKACiiigAooooAKKKKACiiigAooooAKKKKACiiigAooooAKKKKACiiigAooooAKKKKACiiigAooooAKKKKACiiigAooooAKKKKACiiigAooooAKKKKACiiigAooooAKKKKACiiigAooooAKKKKACiiigAooooAKKKKACiiigAooooAKKKKACiiigAooooAKKKKACiiigAooooAKKKKACiiigAooooAKKKKACiiigAooooAKKKKACiiigAooooAKKKKACiiigAooooAKKKKACiiigAooooAKKKKACiiigAooooAKKKKACiiigAooooAKKKKACiiigAooooAKKKKACiiigAooooAKKKKACiiigAooooAKKKKACiiigAooooAKKKKACiiigAooooAKKKKACiiigAooooAKKKKACiiigAooooAKKKKACiiigAooooAKKKKACiiigAooooAKKKKACiiigAooooAKKKKACiiigAooooAKKKKACiiigAooooAKKKKACiiigAooooAKKKKACiiigAooooAKKKKACiiigAooooAKKKKACiiigAooooAKKKKACiiigAooooAKKKKACiiigAooooAKKKKACiiigAooooAKKKKACiiigAooooAKKKKACiiigAooooAKKKKACiiigAooooAKKKKACiiigAooooAKKKKACiiigAooooAKKKKACiiigAooooAKKKKACiiigAooooAKKKKACiiigAooooAKKKKACiiigAooooAKKKKACiiigAooooAKKKKACiiigAooooAKKKKACiiigAooooAKKKKACiiigAooooAKKKKACiiigAooooAKKKKACiiigAooooAKKKKACiiigD/9k=)"
      ],
      "metadata": {
        "id": "3ElFO3OVyq-N"
      }
    },
    {
      "cell_type": "code",
      "source": [
        "# set_a = set()\n",
        "set_a = {1, 2, 3, 4, 5, 6, 7, 8}\n",
        "print(\"\\nLength of set_a:\")\n",
        "print(len(set_a))\n",
        "\n",
        "# set_b = set()\n",
        "set_b = {11, 12, 13, 14, 15, 16}\n",
        "print(\"\\nLength of set_b:\")\n",
        "print(len(set_b))\n",
        "\n",
        "new_set = set_a - set_b\n",
        "print(\"\\nLength of new_set and its members:\")\n",
        "print(len(new_set))\n",
        "print(new_set)"
      ],
      "metadata": {
        "id": "ZUjTIBDLtoxD"
      },
      "execution_count": null,
      "outputs": []
    },
    {
      "cell_type": "code",
      "source": [
        "next_set = set_b - set_a\n",
        "print(\"\\nLength of next_set and its members:\")\n",
        "print(len(next_set))\n",
        "print(next_set)"
      ],
      "metadata": {
        "id": "RUxNPw4tvR9K"
      },
      "execution_count": null,
      "outputs": []
    },
    {
      "cell_type": "code",
      "source": [
        "united_set = set_a | set_b\n",
        "print(\"\\nLength of united_set and its members:\")\n",
        "print(len(united_set))\n",
        "print(united_set)"
      ],
      "metadata": {
        "id": "Rg4mpIkewnGb"
      },
      "execution_count": null,
      "outputs": []
    },
    {
      "cell_type": "code",
      "source": [
        "cold_set = set_a & set_b\n",
        "print(\"\\nLength of cold_set and its members:\")\n",
        "print(len(cold_set))\n",
        "print(cold_set)"
      ],
      "metadata": {
        "id": "kqsm0RVjw95-"
      },
      "execution_count": null,
      "outputs": []
    },
    {
      "cell_type": "code",
      "source": [
        "# just as if we had an empty list and tested its length\n",
        "empty_list = ()\n",
        "print(len(empty_list))"
      ],
      "metadata": {
        "id": "-qmCMn7rx7qI"
      },
      "execution_count": null,
      "outputs": []
    },
    {
      "cell_type": "code",
      "source": [
        "# set_c = set()\n",
        "set_c = {7, 8, 11, 12}\n",
        "print(len(set_c))\n",
        "print(set_c)"
      ],
      "metadata": {
        "id": "qYwlPdrExkpg"
      },
      "execution_count": null,
      "outputs": []
    },
    {
      "cell_type": "code",
      "source": [
        "warm_set = set_c & set_a\n",
        "print(\"\\nLength of warm_set and its members:\")\n",
        "print(len(warm_set))\n",
        "print(warm_set)"
      ],
      "metadata": {
        "id": "827DNx8OyYbJ"
      },
      "execution_count": null,
      "outputs": []
    },
    {
      "cell_type": "code",
      "source": [
        "mild_set = set_c & set_b\n",
        "print(\"\\nLength of mild_set and its members:\")\n",
        "print(len(mild_set))\n",
        "print(mild_set)"
      ],
      "metadata": {
        "id": "ozSAW8YIyswx"
      },
      "execution_count": null,
      "outputs": []
    },
    {
      "cell_type": "code",
      "source": [
        "# specific difference of set_a and set_c\n",
        "west_set = set_c ^ set_a\n",
        "print(\"\\nLength of west_set and its members:\")\n",
        "print(len(west_set))\n",
        "print(west_set)"
      ],
      "metadata": {
        "id": "W3GMKwF3zUF9"
      },
      "execution_count": null,
      "outputs": []
    },
    {
      "cell_type": "code",
      "source": [
        "# specific difference of set_b and set_c\n",
        "east_set = set_c ^ set_b\n",
        "print(\"\\nLength of east_set and its members:\")\n",
        "print(len(east_set))\n",
        "print(east_set)"
      ],
      "metadata": {
        "id": "dznZUNL6z_kn"
      },
      "execution_count": null,
      "outputs": []
    },
    {
      "cell_type": "code",
      "source": [
        "# set_d = set()\n",
        "set_d = {4, 5, 6}\n",
        "print(len(set_d))\n",
        "print(set_d)"
      ],
      "metadata": {
        "id": "QJQNKgbT1JQq"
      },
      "execution_count": null,
      "outputs": []
    },
    {
      "cell_type": "code",
      "source": [
        "d_sub_a = set_d <= set_a\n",
        "print(d_sub_a)"
      ],
      "metadata": {
        "id": "4KJksG1V1bnD"
      },
      "execution_count": null,
      "outputs": []
    },
    {
      "cell_type": "code",
      "source": [
        "a_sub_d = set_a <= set_d\n",
        "print(a_sub_d)"
      ],
      "metadata": {
        "id": "dm6fsYzD2Bv_"
      },
      "execution_count": null,
      "outputs": []
    },
    {
      "cell_type": "markdown",
      "source": [
        "\n",
        "\n",
        "---\n",
        "\n"
      ],
      "metadata": {
        "id": "FAHT2XWkEOk3"
      }
    },
    {
      "cell_type": "markdown",
      "source": [
        "### Jaccard (Coefficient) Similarity Index of Two Sets    \n",
        "    \n",
        "*from statology.org's article* [<u>A Simple Explanation of the **Jaccard Similarity Index**</u>](https://www.statology.org/jaccard-similarity/)  \n",
        "      \n",
        "The **Jaccard Similarity Index** is a measure of the similarity between two sets of data.  This measure may also be referred to as the **Jaccard Coefficient**.  Developed by Paul Jaccard, the index ranges from `0.0` to `1.0`. The closer to `1.0`, the more similar the two sets of data.    \n",
        "    \n",
        "The **Jaccard Similarity Index** is calculated as:\n",
        "    \n",
        "```    \n",
        "Jaccard Similarity = (number of observations in both sets) / (number in either set)\n",
        "```    \n",
        "Or, written in notation form:    \n",
        "    \n",
        "```\n",
        "J(A, B) = |A∩B| / |A∪B|\n",
        "```\n",
        "    \n",
        "If two datasets share the exact same members, their **Jaccard Similarity Index** will be `1.0`. Conversely, if they have no members in common then their similarity will be `0.0`.\n",
        "\n",
        "The following examples show how to calculate the Jaccard Similarity Index for a few different datasets."
      ],
      "metadata": {
        "id": "dgfjrFrvEPaL"
      }
    },
    {
      "cell_type": "markdown",
      "source": [
        "**Example 1: Jaccard Similarity**    \n",
        "     \n",
        "Suppose we have the following two sets of data:     "
      ],
      "metadata": {
        "id": "Y0iZ0JXkFUWz"
      }
    },
    {
      "cell_type": "code",
      "source": [
        "set_a = {0, 1, 2, 5, 6, 8, 9}\n",
        "set_b = {0, 2, 3, 4, 5, 7, 9}"
      ],
      "metadata": {
        "id": "Zob3FHR_FnCs"
      },
      "execution_count": 1,
      "outputs": []
    },
    {
      "cell_type": "markdown",
      "source": [
        "To calculate the Jaccard Similarity between them, we first find the total number of observations in both sets, then divide by the total number of observations in either set:    \n",
        "    \n",
        "  - Number of observations in both:   `{0, 2, 5, 9} = 4`    \n",
        "  - Number of observations in either: `{0, 1, 2, 3, 4, 5, 6, 7, 8, 9} = 10`    \n",
        "  - Jaccard Similarity:   `4 / 10 = 0.4`    \n",
        "    \n",
        "The Jaccard Similarity Index turns out to be `0.4`.   \n",
        "    \n",
        "Using `set` operators that calculation looks like the following:    "
      ],
      "metadata": {
        "id": "L0EoCnoaFpvO"
      }
    },
    {
      "cell_type": "code",
      "source": [
        "jsi_ab =  len(set_a & set_b) / len(set_a | set_b)\n",
        "print('The Jaccard Similarity Index of set_a and set_b is', jsi_ab)"
      ],
      "metadata": {
        "id": "UYvVH7DrHlqB"
      },
      "execution_count": null,
      "outputs": []
    },
    {
      "cell_type": "markdown",
      "source": [
        "Writing that same calculation with set `.methods()` instead of `set` operators `&` and `|`:    "
      ],
      "metadata": {
        "id": "O_DNv4A6HdDX"
      }
    },
    {
      "cell_type": "code",
      "source": [
        "jsi_ab =  len(set_a.intersection(set_b)) / len(set_a.union(set_b))\n",
        "print('The Jaccard Similarity Index of set_a and set_b is', jsi_ab)"
      ],
      "metadata": {
        "id": "egaqfjtGGJnF"
      },
      "execution_count": null,
      "outputs": []
    },
    {
      "cell_type": "markdown",
      "source": [
        "**Example 2: Jaccard Similarity (0 case)**    \n",
        "    \n",
        "Suppose we have the following two sets of data:    "
      ],
      "metadata": {
        "id": "rC604--EI8mH"
      }
    },
    {
      "cell_type": "code",
      "source": [
        "set_c = {0, 1, 2, 3, 4, 5}\n",
        "set_d = {6, 7, 8, 9, 10}"
      ],
      "metadata": {
        "id": "iFcNtvbZJEqz"
      },
      "execution_count": 11,
      "outputs": []
    },
    {
      "cell_type": "markdown",
      "source": [
        "To calculate the **Jaccard Similarity** between them, we first find the total number of observations in both sets, then divide by the total number of observations in either set:\n",
        "    \n",
        "\n",
        "  - Number of observations in both:  `{} = 0`    \n",
        "  - Number of observations in either: `{0, 1, 2, 3, 4, 5, 6, 7, 8, 9, 10} = 11`    \n",
        "  - Jaccard Similarity:  `0 / 11 = 0`    \n",
        "    \n",
        "The Jaccard Similarity Index turns out to be `0`. This indicates that the two datasets share no common members.    \n"
      ],
      "metadata": {
        "id": "10Wk3JkqJQkO"
      }
    },
    {
      "cell_type": "code",
      "source": [
        "jsi_cd =  len(set_c & set_d) / len(set_c | set_d)\n",
        "print('The Jaccard Similarity Index of set_c and set_d is', jsi_cd)"
      ],
      "metadata": {
        "id": "_kb-g9t1JmtS"
      },
      "execution_count": null,
      "outputs": []
    },
    {
      "cell_type": "markdown",
      "source": [
        "**Example 3: Jaccard Similarity for Characters**    \n",
        "    \n",
        "Note that we can also use the **Jaccard Similarity** index for datasets that contain characters as opposed to numbers.    \n",
        "    \n",
        "For example, suppose we have the following two sets of data:     "
      ],
      "metadata": {
        "id": "uo6IRWuaJ2Bi"
      }
    },
    {
      "cell_type": "code",
      "source": [
        "set_e = {'cat', 'dog', 'hippo', 'monkey'}\n",
        "set_f = {'monkey', 'rhino', 'ostrich', 'salmon'}"
      ],
      "metadata": {
        "id": "L_NeasZ2J-wi"
      },
      "execution_count": 13,
      "outputs": []
    },
    {
      "cell_type": "markdown",
      "source": [
        "To calculate the **Jaccard Similarity** between them, we first find the total number of observations in both sets, then divide by the total number of observations in either set:   \n",
        "    \n",
        "  - Number of observations in both:  `{‘monkey’} = 1`    \n",
        "  - Number of observations in either:  `{‘cat’, ‘dog’, hippo’, ‘monkey’, ‘rhino’, ‘ostrich’, ‘salmon’} = 7`    \n",
        "  - Jaccard Similarity:  `1 / 7= 0.142857`    \n",
        "    \n",
        "The Jaccard Similarity Index turns out to be `0.142857`. Since this number is fairly low, it indicates that the two sets are quite dissimilar.      "
      ],
      "metadata": {
        "id": "xaoX8mzcKgF7"
      }
    },
    {
      "cell_type": "code",
      "source": [
        "jsi_ef =  len(set_e & set_f) / len(set_e | set_f)\n",
        "print('The Jaccard Similarity Index of set_e and set_f is', jsi_ef)"
      ],
      "metadata": {
        "colab": {
          "base_uri": "https://localhost:8080/"
        },
        "id": "xW5gHIuEKufC",
        "outputId": "2a51b36a-d162-4240-e6a4-696ddc50cffe"
      },
      "execution_count": 14,
      "outputs": [
        {
          "output_type": "stream",
          "name": "stdout",
          "text": [
            "The Jaccard Similarity Index of set_e and set_f is 0.14285714285714285\n"
          ]
        }
      ]
    },
    {
      "cell_type": "markdown",
      "source": [
        "#### The **Jaccard Distance**    \n",
        "    \n",
        "The **Jaccard Distance** measures the dissimilarity between two datasets and is calculated as:     \n",
        "    \n",
        "```\n",
        "Jaccard distance = 1 – Jaccard Similarity\n",
        "```    \n",
        "    \n",
        "This measure gives us an idea of the difference between two datasets or the difference between them.    \n",
        "     \n",
        "For example, if two datasets have a **Jaccard Similarity of 80%** then they would have a **Jaccard Distance** of `1 – 0.8 = 0.2 or 20%`."
      ],
      "metadata": {
        "id": "HF3AbDH7LBAC"
      }
    },
    {
      "cell_type": "code",
      "source": [
        "set_g = {1, 2, 3, 4, 5, 6, 7, 8, 9}\n",
        "set_h = {1, 2, 3, 4, 5, 6, 7, 8, 21}"
      ],
      "metadata": {
        "id": "mS6TbY4xLZcP"
      },
      "execution_count": 19,
      "outputs": []
    },
    {
      "cell_type": "code",
      "source": [
        "jsi_gh =  len(set_g & set_h) / len(set_g | set_h)\n",
        "print('The Jaccard Similarity Index of set_g and set_h is', jsi_gh)"
      ],
      "metadata": {
        "id": "sxP0N864LwL-"
      },
      "execution_count": null,
      "outputs": []
    },
    {
      "cell_type": "code",
      "source": [
        "jd_gh =  (1 - len(set_g & set_h) / len(set_g | set_h))\n",
        "print('The Jaccard Distance of set_g and set_h is', jd_gh)"
      ],
      "metadata": {
        "id": "yEP9IQ1DMBp2"
      },
      "execution_count": null,
      "outputs": []
    },
    {
      "cell_type": "markdown",
      "source": [
        "<u>*Additional Jaccard Resources</u>    \n",
        "    \n",
        "The following tutorials explain how to calculate **Jaccard Similarity** using different statistical software:     \n",
        "    \n",
        "  - [How to Calculate Jaccard Similarity in R](https://www.statology.org/jaccard-similarity-in-r/)     \n",
        "  - [How to Calculate Jaccard Similarity in Python](https://www.statology.org/jaccard-similarity-python/)    "
      ],
      "metadata": {
        "id": "yvQ6kcDJMWT_"
      }
    },
    {
      "cell_type": "markdown",
      "source": [
        "\n",
        "\n",
        "---\n",
        "\n"
      ],
      "metadata": {
        "id": "EcxYcqBaMPQ-"
      }
    },
    {
      "cell_type": "markdown",
      "source": [
        "##Set Exercises   "
      ],
      "metadata": {
        "id": "mzsjL1SrrRTA"
      }
    },
    {
      "cell_type": "markdown",
      "metadata": {
        "id": "q5Ahy-JYVg7_"
      },
      "source": [
        "###**Exercise:** set operations\n",
        "\n",
        "Try the above yourself using the `set_A` and `set_B` variables, and compute the difference, union, intersection, and symmetric difference, between the two sets."
      ]
    },
    {
      "cell_type": "code",
      "metadata": {
        "id": "we1PHF8XVl0n"
      },
      "source": [
        "# Your code here\n",
        "set_A = {1, 2, 3, 4, 5}\n",
        "set_B = {4, 5, 6, 7}\n",
        "\n",
        "# Set A\n",
        "# Set B\n",
        "# Difference\n",
        "# Union\n",
        "# Intersection\n",
        "# Symmetric Difference\n"
      ],
      "execution_count": null,
      "outputs": []
    },
    {
      "cell_type": "markdown",
      "metadata": {
        "id": "edtD5Vs-VppF"
      },
      "source": [
        "#### Solution *(do not open this section before completing the exercise)*    "
      ]
    },
    {
      "cell_type": "code",
      "metadata": {
        "id": "zEKW2m-cTYn-"
      },
      "source": [
        "set_A = {1, 2, 3, 4, 5}\n",
        "set_B = {4, 5, 6, 7}\n",
        "\n",
        "# print(\"Set A: \", set_A)\n",
        "# print(\"Set B: \", set_B)\n",
        "# print(\"Difference between Set A and Set B: \", set_A - set_B)\n",
        "# print(\"Union of Set A and Set B: \", set_A | set_B)\n",
        "# print(\"Intersection of Set A and Set B: \", set_A & set_B)\n",
        "# print(\"Symetric Difference between Set A and Set B: \", set_A ^ set_B)"
      ],
      "execution_count": null,
      "outputs": []
    },
    {
      "cell_type": "code",
      "metadata": {
        "id": "ZGb0-maZS20d"
      },
      "source": [
        "set_A ^ set_B   # symmetric difference"
      ],
      "execution_count": null,
      "outputs": []
    },
    {
      "cell_type": "markdown",
      "metadata": {
        "id": "SoumVadyWjuj"
      },
      "source": [
        "### **Exercise:** Jaccard Coefficient Calculation  \n",
        "\n",
        "Now, lets try to use the [Jaccard index similarity](https://en.wikipedia.org/wiki/Jaccard_index) to compute the similarity of the two sets. The Jaccard coefficient is defined as the ratio of the size of the intersection of the two sets, divided by the size of the union of the two sets."
      ]
    },
    {
      "cell_type": "code",
      "source": [
        "set_A = {1, 2, 3, 4, 5}\n",
        "set_B = {4, 5, 6, 7}\n",
        "\n",
        "# Your code here"
      ],
      "metadata": {
        "id": "PTRjPglisBOG"
      },
      "execution_count": null,
      "outputs": []
    },
    {
      "cell_type": "markdown",
      "metadata": {
        "id": "wTo-g_m1Wtcb"
      },
      "source": [
        "#### Solution  *(do not open this section before completing the exercise)*    "
      ]
    },
    {
      "cell_type": "code",
      "metadata": {
        "id": "Y4By2C9YWrnV"
      },
      "source": [
        "set_A = {1, 2, 3, 4, 5}\n",
        "set_B = {4, 5, 6, 7}\n",
        "\n",
        "# Your code here\n",
        "\n",
        "print(\"Jaccard Similarity of Set A and Set B: \", (len(set_A & set_B)) / len((set_A | set_B)))"
      ],
      "execution_count": null,
      "outputs": []
    },
    {
      "cell_type": "code",
      "metadata": {
        "colab": {
          "base_uri": "https://localhost:8080/"
        },
        "id": "r6_dPdg2VNo4",
        "outputId": "601ec190-1302-4820-983d-09c36ba4de10"
      },
      "source": [
        "2 / 7"
      ],
      "execution_count": null,
      "outputs": [
        {
          "output_type": "execute_result",
          "data": {
            "text/plain": [
              "0.2857142857142857"
            ]
          },
          "metadata": {},
          "execution_count": 45
        }
      ]
    },
    {
      "cell_type": "markdown",
      "metadata": {
        "id": "cDHUYOACXVBL"
      },
      "source": [
        "### **Exercise:** Jaccard Similarity of News Stories    \n",
        "\n",
        "Below we have two news articles discussing a security breach at Yahoo. We want to compute the similarity of these articles using the Jaccard similarity. (For the sake of simplicity, we have removed all punctuation from the text.)\n",
        "\n"
      ]
    },
    {
      "cell_type": "code",
      "metadata": {
        "id": "Wh2hbje5Xc-W"
      },
      "source": [
        "wsj = \"\"\"\n",
        "Yahoo Inc  disclosed a massive security breach by a  state sponsored actor  affecting at least 500 million users  potentially the largest such data breach on record and the latest hurdle for the beaten down internet company as it works through the sale of its core business \n",
        "Yahoo said certain user account information including names  email addresses  telephone numbers  dates of birth  hashed passwords and  in some cases  encrypted or unencrypted security questions and answers was stolen from the company s network in late 2014 by what it believes is a state sponsored actor \n",
        "Yahoo said it is notifying potentially affected users and has taken steps to secure their accounts by invalidating unencrypted security questions and answers so they can t be used to access an account and asking potentially affected users to change their passwords \n",
        "Yahoo recommended users who haven t changed their passwords since 2014 do so  It also encouraged users change their passwords as well as security questions and answers for any other accounts on which they use the same or similar information used for their Yahoo account \n",
        "The company  which is working with law enforcement  said the continuing investigation indicates that stolen information didn t include unprotected passwords  payment card data or bank account information \n",
        "With 500 million user accounts affected  this is the largest ever publicly disclosed data breach  according to Paul Stephens  director of policy and advocacy with Privacy Rights Clearing House  a not for profit group that compiles information on data breaches \n",
        "No evidence has been found to suggest the state sponsored actor is currently in Yahoo s network  and Yahoo didn t name the country it suspected was involved  In August  a hacker called  Peace  appeared in online forums  offering to sell 200 million of the company s usernames and passwords for about  1 900 in total  Peace had previously sold data taken from breaches at Myspace and LinkedIn Corp \n",
        "\"\"\"\n",
        "\n",
        "ust = \"\"\"\n",
        "SAN FRANCISCO   Information from at least 500 million Yahoo accounts was stolen from the company in 2014  and the  company said Thursday it believes that a state sponsored actor was behind the hack \n",
        "The information may have included names  email addresses  telephone numbers  dates of birth  and  in some cases  encrypted or unencrypted security questions and answers  Yahoo said \n",
        "Claims surfaced in early August that a hacker using the name  Peace  was trying to sell the usernames  passwords and dates of birth of Yahoo account users on the dark web   a black market of thousands of secret websites \n",
        "The FBI said it was aware of the matter  The compromise of public and private sector systems is something the agency takes very seriously and it said it will continue to investigate and hold accountable all who pose a threat in cyberspace  the agency said in an emailed statement \n",
        "Yahoo recommends that users who haven t changed their passwords since 2014 do so  The company said it was notifying potentially affected users and taking steps to secure their accounts  That included invalidating unencrypted security questions and answers and asking users to change their passwords \n",
        "The announcement comes as Yahoo looks to complete its  4 8  billion sale of its core Internet business to media giant Verizon Communications  which said it was notified of the Yahoo breach  within the last two days  \n",
        " We understand that Yahoo is conducting an active investigation of this matter  but we otherwise have limited information and understanding of the impact   Verizon said \n",
        "Given the unsettled nature of Yahoo s ownership just now   regulators should be concerned with who will take responsibility for the response to this compromise  It can be easy for the  right thing to do  to slip through the cracks in a multi billion dollar transition   said Tim Erlin  senior director of IT security and risk strategy at Tripwire  a computer security firm \n",
        "Yahoo Chief Executive Officer Marissa Mayer has pledged to stay on with the company through the close of the merger  which is being overseen by Verizon s Marni Walden and AOL CEO Tim Armstrong  Yahoo shares  YHOO  were flat Thursday  Verizon  VZ  shares were up 1  at  52 39 \n",
        "\"\"\""
      ],
      "execution_count": null,
      "outputs": []
    },
    {
      "cell_type": "markdown",
      "metadata": {
        "id": "GgI7pK8TXgwo"
      },
      "source": [
        "#### Solution  *(do not open this section before completing the exercise)*  "
      ]
    },
    {
      "cell_type": "code",
      "metadata": {
        "id": "tu5pOcuTXewl",
        "colab": {
          "base_uri": "https://localhost:8080/"
        },
        "outputId": "c8e4653c-3f6c-4d8f-84e3-a634b7507a63"
      },
      "source": [
        "## your code here\n",
        "\n",
        "wsj_set = set(wsj.split())\n",
        "\n",
        "\n",
        "ust_set = set(ust.split())\n",
        "\n",
        "\n",
        "print(\"Jaccard Similarity of WSJ article and UST article: \", (len(wsj_set & ust_set)) / len((wsj_set | ust_set)))"
      ],
      "execution_count": null,
      "outputs": [
        {
          "output_type": "stream",
          "name": "stdout",
          "text": [
            "Jaccard Similarity of WSJ article and UST article:  0.29276315789473684\n"
          ]
        }
      ]
    },
    {
      "cell_type": "code",
      "metadata": {
        "id": "FwBrCZwkV-w2"
      },
      "source": [
        "len(wsj_set & ust_set)"
      ],
      "execution_count": null,
      "outputs": []
    },
    {
      "cell_type": "code",
      "metadata": {
        "id": "JlUBVa4RWDxM"
      },
      "source": [
        "len((wsj_set | ust_set))"
      ],
      "execution_count": null,
      "outputs": []
    },
    {
      "cell_type": "markdown",
      "source": [
        "#<center>__</center>"
      ],
      "metadata": {
        "id": "TqCFljuqq-_r"
      }
    },
    {
      "cell_type": "markdown",
      "metadata": {
        "id": "lFvHmx8PXLIk"
      },
      "source": [
        "\n",
        "\n",
        "---\n",
        "\n"
      ]
    },
    {
      "cell_type": "markdown",
      "metadata": {
        "id": "axq2KerWXMzq"
      },
      "source": [
        "*This lessons notebook files are available on Github and on Blackboard.*"
      ]
    }
  ]
}