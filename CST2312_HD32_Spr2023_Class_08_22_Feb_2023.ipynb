{
  "nbformat": 4,
  "nbformat_minor": 0,
  "metadata": {
    "colab": {
      "provenance": [],
      "collapsed_sections": [
        "WvaqYfIGz4P4",
        "yhWWYFJCNW8F",
        "dxItLyDOR_sg"
      ],
      "authorship_tag": "ABX9TyMiuky5NoUgw5vGdc6I3w1B",
      "include_colab_link": true
    },
    "kernelspec": {
      "name": "python3",
      "display_name": "Python 3"
    },
    "language_info": {
      "name": "python"
    }
  },
  "cells": [
    {
      "cell_type": "markdown",
      "metadata": {
        "id": "view-in-github",
        "colab_type": "text"
      },
      "source": [
        "<a href=\"https://colab.research.google.com/github/ProfessorPatrickSlatraigh/CST2312/blob/main/CST2312_HD32_Spr2023_Class_08_22_Feb_2023.ipynb\" target=\"_parent\"><img src=\"https://colab.research.google.com/assets/colab-badge.svg\" alt=\"Open In Colab\"/></a>"
      ]
    },
    {
      "cell_type": "markdown",
      "source": [
        "# CST2312 - Class #08,     \n",
        "**Dictionaries (from Py4E.com, lesson 10 - former lesson 9)**   \n",
        "**Tuples (from Py4E.com, lesson 11 - former lesson 10)**   \n",
        "\n",
        "**EXERCISE: Using Tuples and Dictionaries**    \n",
        "\n",
        "\n",
        "by Professor Patrick, 28-Sep-2022, updated: 21-Feb-2023 \n",
        "    \n",
        "\n",
        "This notebook on Colab at `https://bit.ly/cst2312cl08`    "
      ],
      "metadata": {
        "id": "Tba3cwe-lYOJ"
      }
    },
    {
      "cell_type": "markdown",
      "metadata": {
        "id": "fZ5nHFyywfGy"
      },
      "source": [
        "This notebook works with shared links to the following files on Google Drive:    \n",
        "\n",
        " o [words.txt](https://bit.ly/py4e-words)     \n",
        " o [romeo.txt](https://bit.ly/romeo-short)    \n",
        " o [romeo-full.txt](https://bit.ly/romeo-full)   \n",
        " o [ST_GDP_UnemploymentRate_US-2020.csv]()     \n"
      ]
    },
    {
      "cell_type": "markdown",
      "source": [
        "\n",
        "\n",
        "---\n",
        "\n"
      ],
      "metadata": {
        "id": "TYQiihxPmsVp"
      }
    },
    {
      "cell_type": "markdown",
      "source": [
        "# **10: Dictionaries**        \n",
        "**Examples** from: \n",
        "# Lesson 10 (Dictionaries)    \n",
        "*was old lesson 9*    \n",
        "of Python For Everybody (p4e.com/lessons)"
      ],
      "metadata": {
        "id": "z-PGRHdIw3Cc"
      }
    },
    {
      "cell_type": "markdown",
      "source": [
        "A dictionary is like a list, but more general. In a list, the index positions have to be integers; in a dictionary, the indices can be (almost) any type.\n",
        "\n",
        "You can think of a dictionary as a mapping between a set of indices (which are called keys) and a set of values. Each key maps to a value. The association of a key and a value is called a *key-value pair* or sometimes an item.\n",
        "\n",
        "As an example, we’ll build a dictionary that maps from English to Spanish words, so the keys and the values are all strings.\n",
        "\n",
        "The function dict creates a new dictionary with no items. Because dict is the name of a built-in function, you should avoid using it as a variable name."
      ],
      "metadata": {
        "id": "eHEXayawiB2T"
      }
    },
    {
      "cell_type": "markdown",
      "metadata": {
        "id": "WvaqYfIGz4P4"
      },
      "source": [
        "## **Introduction to Dictionaries**   "
      ]
    },
    {
      "cell_type": "code",
      "execution_count": null,
      "metadata": {
        "id": "UXFMVeTPz4P4"
      },
      "outputs": [],
      "source": [
        "# Built-in dict() creates a new dictionary with no items.\n",
        "eng2sp = dict()\n",
        "print(eng2sp)         # curly brackets, {}, represent an empty dictionary"
      ]
    },
    {
      "cell_type": "code",
      "execution_count": null,
      "metadata": {
        "id": "JWl_Ng8Jz4P5"
      },
      "outputs": [],
      "source": [
        "# add items to the dictionary,you can use square brackets\n",
        "eng2sp['one'] = 'uno'\n",
        "\n",
        "# key-value pair"
      ]
    },
    {
      "cell_type": "code",
      "execution_count": null,
      "metadata": {
        "id": "bbrYkPG5z4P6"
      },
      "outputs": [],
      "source": [
        "print(eng2sp)"
      ]
    },
    {
      "cell_type": "code",
      "execution_count": null,
      "metadata": {
        "id": "dPNsXiR-z4P6"
      },
      "outputs": [],
      "source": [
        "eng2sp = {'one': 'uno', 'two': 'dos', 'three': 'tres'}\n",
        "print(eng2sp)"
      ]
    },
    {
      "cell_type": "code",
      "source": [
        "eng2int =        # add the required dictionary assignment for integer values\n",
        "print(eng2int)   "
      ],
      "metadata": {
        "id": "zkaczY9bMMq3"
      },
      "execution_count": null,
      "outputs": []
    },
    {
      "cell_type": "code",
      "source": [
        "# complete the print statement to display the integer of 'one'\n",
        "print()"
      ],
      "metadata": {
        "id": "Md7l5w5bNKIC"
      },
      "execution_count": null,
      "outputs": []
    },
    {
      "cell_type": "markdown",
      "source": [
        "### (hidden) Here is the answer "
      ],
      "metadata": {
        "id": "POTJmh5bMzln"
      }
    },
    {
      "cell_type": "code",
      "source": [
        "eng2int = {\n",
        "    'one': 1,\n",
        "    \"two\":2,\n",
        "    '''three''':3\n",
        "}\n",
        "\n",
        "print(eng2int)"
      ],
      "metadata": {
        "id": "VA8rxfXWM3If"
      },
      "execution_count": null,
      "outputs": []
    },
    {
      "cell_type": "code",
      "source": [
        "print(eng2int[\"one\"])"
      ],
      "metadata": {
        "id": "LE1o6UiENRQw"
      },
      "execution_count": null,
      "outputs": []
    },
    {
      "cell_type": "markdown",
      "source": [
        "##Looking up values with keys     "
      ],
      "metadata": {
        "id": "yhWWYFJCNW8F"
      }
    },
    {
      "cell_type": "code",
      "execution_count": null,
      "metadata": {
        "id": "qmVVAP8Nz4P6"
      },
      "outputs": [],
      "source": [
        "# use the keys to look up the corresponding values\n",
        "print(eng2sp['two'])"
      ]
    },
    {
      "cell_type": "code",
      "execution_count": null,
      "metadata": {
        "id": "N5YfAhChz4P6"
      },
      "outputs": [],
      "source": [
        "print(eng2sp['four'])\n",
        "# key isn’t in the dictionary, you get an exception"
      ]
    },
    {
      "cell_type": "code",
      "execution_count": null,
      "metadata": {
        "id": "mDIewVwzz4QB"
      },
      "outputs": [],
      "source": [
        "len(eng2sp)\n",
        "# returns the number of key-value pairs"
      ]
    },
    {
      "cell_type": "code",
      "execution_count": null,
      "metadata": {
        "id": "vQQIvm7Tz4QB"
      },
      "outputs": [],
      "source": [
        "# tells you whether something appears as a key in the dictionary\n",
        "'one' in eng2sp"
      ]
    },
    {
      "cell_type": "code",
      "execution_count": null,
      "metadata": {
        "id": "EW0BxLegz4QB"
      },
      "outputs": [],
      "source": [
        "'uno' in eng2sp"
      ]
    },
    {
      "cell_type": "code",
      "execution_count": null,
      "metadata": {
        "id": "fy2WtZ5Zz4QC"
      },
      "outputs": [],
      "source": [
        "# use the method values(), which returns the values as a list, and then use the in operator\n",
        "values_lst = list(eng2sp.values())\n",
        "'uno' in values_lst"
      ]
    },
    {
      "cell_type": "code",
      "source": [
        "print(values_lst)"
      ],
      "metadata": {
        "id": "7A-craYmOn1P"
      },
      "execution_count": null,
      "outputs": []
    },
    {
      "cell_type": "code",
      "execution_count": null,
      "metadata": {
        "id": "sUPf92Mvz4QC"
      },
      "outputs": [],
      "source": [
        "'one' in values_lst"
      ]
    },
    {
      "cell_type": "code",
      "source": [
        "dir(eng2sp)"
      ],
      "metadata": {
        "id": "U_to7iuSO2xr"
      },
      "execution_count": null,
      "outputs": []
    },
    {
      "cell_type": "code",
      "source": [
        "# use the method keys(), which returns the keys as a list, and then use the in operator\n",
        "keys_lst = list(eng2sp.keys())\n",
        "'one' in keys_lst"
      ],
      "metadata": {
        "id": "CtUtx9RQOsrB"
      },
      "execution_count": null,
      "outputs": []
    },
    {
      "cell_type": "code",
      "source": [
        "'uno' in keys_lst"
      ],
      "metadata": {
        "id": "UaRGgocBPC-J"
      },
      "execution_count": null,
      "outputs": []
    },
    {
      "cell_type": "markdown",
      "metadata": {
        "id": "hvnTV61WxGSb"
      },
      "source": [
        "You can get a list of keys, values, or items (both) from a dictionary.  When we have multiple values together as an object, we refer to that object as a tuple."
      ]
    },
    {
      "cell_type": "code",
      "source": [
        "jjj = { 'chuck' : 1 , 'fred' : 42, 'jan': 100}\n",
        "print(list(jjj))\n",
        "\n",
        "print(list(jjj.keys()))\n",
        "\n",
        "print(list(jjj.values()))\n",
        "\n",
        "print(list(jjj.items()))"
      ],
      "metadata": {
        "id": "pSaNYKSXvvAY"
      },
      "execution_count": null,
      "outputs": []
    },
    {
      "cell_type": "markdown",
      "source": [
        "##Assigning values to keys    "
      ],
      "metadata": {
        "id": "dxItLyDOR_sg"
      }
    },
    {
      "cell_type": "markdown",
      "source": [
        "Just as we can lookup a value in a key:value pair, we can also assign a value to a key:value pairs using the key as an index.    "
      ],
      "metadata": {
        "id": "fsCW9iO9SGul"
      }
    },
    {
      "cell_type": "code",
      "source": [
        "print(eng2sp)"
      ],
      "metadata": {
        "id": "Pp5_2zT-Sm0b"
      },
      "execution_count": null,
      "outputs": []
    },
    {
      "cell_type": "code",
      "source": [
        "eng2sp['four'] = 'cuatro'   # adding a 4th key:value pair"
      ],
      "metadata": {
        "id": "YR7I4wsHSQx6"
      },
      "execution_count": null,
      "outputs": []
    },
    {
      "cell_type": "code",
      "source": [
        "print(eng2sp)"
      ],
      "metadata": {
        "id": "vyhMUrurTE9z"
      },
      "execution_count": null,
      "outputs": []
    },
    {
      "cell_type": "markdown",
      "source": [
        "## Dictionaries as Reference Tools    "
      ],
      "metadata": {
        "id": "PYZIZ1vht1d0"
      }
    },
    {
      "cell_type": "markdown",
      "metadata": {
        "id": "ru_tZlDtqBFM"
      },
      "source": [
        "Lists index their entries based on the position in the list\n",
        "Dictionaries are like bags - no order\n",
        "So we index the things we put in the dictionary with a “lookup tag” called the \"key\".  Each key is unique.  Each key is associated with a value, which can be any data type, including lists, or other dictionaries.  Values in a dictionary need not be unique.\n"
      ]
    },
    {
      "cell_type": "code",
      "source": [
        "# create and print an empty dictionary\n",
        "choco = dict()\n",
        "print(choco)"
      ],
      "metadata": {
        "id": "HmSJNYRy6DNn",
        "colab": {
          "base_uri": "https://localhost:8080/"
        },
        "outputId": "11692225-70b4-45e5-fd82-fa8fa5a36ace"
      },
      "execution_count": null,
      "outputs": [
        {
          "output_type": "stream",
          "name": "stdout",
          "text": [
            "{}\n"
          ]
        }
      ]
    },
    {
      "cell_type": "code",
      "source": [
        "choco['Hershey'] = 2\n",
        "choco['Godiva'] = 3\n",
        "choco['Kinder'] = 1\n",
        "\n",
        "print(choco)"
      ],
      "metadata": {
        "id": "04p00mrE6T2N",
        "colab": {
          "base_uri": "https://localhost:8080/"
        },
        "outputId": "65bd3843-edc6-420e-f0f9-06691c884975"
      },
      "execution_count": null,
      "outputs": [
        {
          "output_type": "stream",
          "name": "stdout",
          "text": [
            "{'Hershey': 2, 'Godiva': 3, 'Kinder': 1}\n"
          ]
        }
      ]
    },
    {
      "cell_type": "code",
      "source": [
        "# How many Godiva do we have?\n",
        "print(choco['Godiva'])"
      ],
      "metadata": {
        "id": "GBk_hJHT6oi_",
        "colab": {
          "base_uri": "https://localhost:8080/"
        },
        "outputId": "1a803310-1a77-4213-c151-c79eb1d9b37a"
      },
      "execution_count": null,
      "outputs": [
        {
          "output_type": "stream",
          "name": "stdout",
          "text": [
            "3\n"
          ]
        }
      ]
    },
    {
      "cell_type": "code",
      "source": [
        "# give one Godiva choco away\n",
        "choco['Godiva'] = choco['Godiva'] - 1\n",
        "\n",
        "# How many Godiva do we have?\n",
        "print(choco['Godiva'])"
      ],
      "metadata": {
        "id": "osDZk6JC69ct"
      },
      "execution_count": null,
      "outputs": []
    },
    {
      "cell_type": "code",
      "metadata": {
        "id": "q2ZdVpggpzH0"
      },
      "source": [
        "# first create an empty dictionary\n",
        "purse = dict()\n",
        "\n",
        "# then add key:value pairs - akin to SQL INSERTs\n",
        "purse['money'] = 12   # add a k:v pair of 12 moneys (coins)\n",
        "purse['candy'] = 3    # add a k:v pair of 3 candy\n",
        "purse['tissues'] = 75 # add a k:v pair of 75 tissues"
      ],
      "execution_count": null,
      "outputs": []
    },
    {
      "cell_type": "code",
      "source": [
        "# what type is the variable purse we just created?\n",
        "type(purse)"
      ],
      "metadata": {
        "id": "Ru7PwXHH41Ao"
      },
      "execution_count": null,
      "outputs": []
    },
    {
      "cell_type": "markdown",
      "metadata": {
        "id": "8dVvHfYPqwSm"
      },
      "source": [
        "After creating an empty dictionary we can add key|value pairs to that dictionary.  Then we can process the dictionary with Python statements and expressions."
      ]
    },
    {
      "cell_type": "code",
      "metadata": {
        "id": "TjcAj0tkq8_L",
        "colab": {
          "base_uri": "https://localhost:8080/"
        },
        "outputId": "e7d62876-ced6-4d6b-ee8f-5101752a8fc1"
      },
      "source": [
        "print(purse)"
      ],
      "execution_count": null,
      "outputs": [
        {
          "output_type": "stream",
          "name": "stdout",
          "text": [
            "{'money': 12, 'candy': 3, 'tissues': 75}\n"
          ]
        }
      ]
    },
    {
      "cell_type": "code",
      "source": [
        "# print the value for the key 'candy'\n",
        "print(purse['candy'])"
      ],
      "metadata": {
        "id": "f4aiRPj95Hh6"
      },
      "execution_count": null,
      "outputs": []
    },
    {
      "cell_type": "code",
      "source": [
        "# print the full dictionary\n",
        "print(\"Here are the purse dictionary key|value pairs: \", purse)"
      ],
      "metadata": {
        "id": "TLzOjVUy5yCs"
      },
      "execution_count": null,
      "outputs": []
    },
    {
      "cell_type": "code",
      "source": [
        "# print(purse['candy'])\n",
        "print(\"Here is the value of 'candy' in purse: \", purse['candy'])"
      ],
      "metadata": {
        "id": "m7QMu_nt4-yS"
      },
      "execution_count": null,
      "outputs": []
    },
    {
      "cell_type": "markdown",
      "metadata": {
        "id": "7z2jF2nzsyiH"
      },
      "source": [
        "One common use of dictionaries is counting how often we “see” something.  We use the category item as a key and keep an integer counter as the value."
      ]
    },
    {
      "cell_type": "code",
      "source": [
        "# make a dictionary counting shirts by size\n",
        "shirts = dict()\n",
        "\n",
        "# add k:v pairs with an inventory of shirts on hand\n",
        "shirts['XS'] = 4\n",
        "shirts['S'] = 2\n",
        "shirts['M'] = 8\n",
        "shirts['L'] = 12\n",
        "shirts['XL'] = 6\n",
        "shirts['XXL'] = 3\n",
        "\n",
        "# how many shirts do we have by size?\n",
        "print(shirts)\n"
      ],
      "metadata": {
        "id": "bhbz4FsD9o_D",
        "colab": {
          "base_uri": "https://localhost:8080/"
        },
        "outputId": "1724df65-b16a-46c5-eb0d-cc0b50f26178"
      },
      "execution_count": null,
      "outputs": [
        {
          "output_type": "stream",
          "name": "stdout",
          "text": [
            "{'XS': 4, 'S': 2, 'M': 8, 'L': 12, 'XL': 6, 'XXL': 3}\n"
          ]
        }
      ]
    },
    {
      "cell_type": "code",
      "source": [
        "# Dictionary values can be used in expressions\n",
        "# sell a medium shirt\n",
        "shirts['M'] = shirts['M'] - 1\n",
        "\n",
        "# how many shirts do we have by size?\n",
        "print(shirts)"
      ],
      "metadata": {
        "id": "ToFw7sht-Y7a",
        "colab": {
          "base_uri": "https://localhost:8080/"
        },
        "outputId": "ca801037-8c70-4018-d193-1fa94bf6744b"
      },
      "execution_count": null,
      "outputs": [
        {
          "output_type": "stream",
          "name": "stdout",
          "text": [
            "{'XS': 4, 'S': 2, 'M': 7, 'L': 12, 'XL': 6, 'XXL': 3}\n"
          ]
        }
      ]
    },
    {
      "cell_type": "markdown",
      "metadata": {
        "id": "5ja1KXxQz4QC"
      },
      "source": [
        "## 10(9).1 Dictionary as a set of counters"
      ]
    },
    {
      "cell_type": "markdown",
      "source": [
        "Suppose you are given a string and you want to count how many times each letter appears. There are several ways you could do it:\n",
        "\n",
        "1. You could create 26 variables, one for each letter of the alphabet. Then you could traverse the string and, for each character, increment the corresponding counter, probably using a chained conditional.\n",
        "\n",
        "2. You could create a list with 26 elements. Then you could convert each character to a number (using the built-in function ord), use the number as an index into the list, and increment the appropriate counter.\n",
        "\n",
        "3. You could create a dictionary with characters as keys and counters as the corresponding values. The first time you see a character, you would add an item to the dictionary. After that you would increment the value of an existing item.\n",
        "\n",
        "\n",
        "Each of these options performs the same computation, but each of them implements that computation in a different way.\n",
        "\n",
        "An implementation is a way of performing a computation; some implementations are better than others. For example, an advantage of the dictionary implementation is that we don’t have to know ahead of time which letters appear in the string and we only have to make room for the letters that do appear.\n",
        "\n",
        "Here is what the code might look like:"
      ],
      "metadata": {
        "id": "DNxzhXKwiSRQ"
      }
    },
    {
      "cell_type": "code",
      "execution_count": null,
      "metadata": {
        "id": "3RdpX9Qaz4QC"
      },
      "outputs": [],
      "source": [
        "# example code to count characters in a string  \n",
        "# USING A FOR LOOP AND EMBEDDED IF/ELSE\n",
        "# word_str   -- a string with a word as its value\n",
        "# histo_dict -- a histogram dictionary of counts of letters\n",
        "# char_str   -- an individual character as a string\n",
        "\n",
        "# store a word in a string variable\n",
        "word_str = 'brontosaurus'\n",
        "# try with a different string assignment later\n",
        "# word_str = 'tyranosaurus'\n",
        "word_str = 'tyranosaurus are not the content of bronto burgers'\n",
        "\n",
        "# initialize an empty histogram dictionary\n",
        "histo_dict = dict()\n",
        "\n",
        "# loop through each character in the word and\n",
        "# add a count of 1 to each letter found\n",
        "for char_str in word_str:\n",
        "    if char_str not in histo_dict:\n",
        "        histo_dict[char_str] = 1\n",
        "    else:\n",
        "        histo_dict[char_str] = histo_dict[char_str] + 1\n",
        "\n",
        "# print the histogram dictionary of counts of letters\n",
        "print(histo_dict)"
      ]
    },
    {
      "cell_type": "code",
      "source": [
        "# lookup the frequency of a letter used in the string\n",
        "print(histo_dict['n'])"
      ],
      "metadata": {
        "id": "7B8elFsyTuMZ"
      },
      "execution_count": null,
      "outputs": []
    },
    {
      "cell_type": "code",
      "source": [
        "# try the code above with a multi-line docstring instead of a string  \n",
        "# place your code here \n"
      ],
      "metadata": {
        "id": "AVB3tIo2TbD8"
      },
      "execution_count": null,
      "outputs": []
    },
    {
      "cell_type": "code",
      "source": [
        "# trying it with 'Big for Your Boots' by Stormzy    \n",
        "\n",
        "# example code to count characters in a string  \n",
        "# USING A FOR LOOP AND EMBEDDED IF/ELSE\n",
        "# word_str   -- a string with a word as its value\n",
        "# histo_dict -- a histogram dictionary of counts of letters\n",
        "# char_str   -- an individual character as a string\n",
        "\n",
        "# store a word in a string variable\n",
        "word_str = \"\"\"\n",
        "You're getting way too big for your boots\n",
        "You're never too big for the boot\n",
        "I've got the big size twelves on my feet\n",
        "Your face ain't big for my boot\n",
        "Kick up the yout\n",
        "Man know that I kick up the yout\n",
        "Dem boy dere tried twist up the truth\n",
        "How dare you twist up the truth, look\n",
        "You're getting way too big for your boots\n",
        "You're never too big for the boot\n",
        "I got the big size twelves on my feet\n",
        "Your face ain't big for my boot\n",
        "Kick up the yout\n",
        "Man know that I kick up the yout\n",
        "Dem boy dere tried twist up the truth\n",
        "How dare you twist up the truth\n",
        "\n",
        "Wanna come round here like a badboy? Do it\n",
        "Bun all the talking, go on then, do it\n",
        "Running through the party, bottle of BACARDÍ\n",
        "Bro's in my ear saying \"Stormz, don't do it\"\n",
        "Devil on my shoulder, I don't lack\n",
        "Hit 'em with a crowbar, I don't scrap\n",
        "Even when I'm sober, I'm so gassed\n",
        "Say you ride but there's no car and no mash (what you talking 'bout?)\n",
        "Clown, stand down\n",
        "Never had a MAC-10 or a trey pound\n",
        "You were never bad then, you ain't bad now\n",
        "Never had the MAC then, little nigga, back down\n",
        "Wait, I saw bare kicks, saw bare clothes\n",
        "Said ffcc that, I can't wear those\n",
        "I don't like them, they're not my ting\n",
        "They went silent, they're all weirdos\n",
        "Like yeah, Stormz gone clear\n",
        "Never had a Tom Ford or a Moncler\n",
        "Mandem are calm, but you see my don there?\n",
        "ffccries, tell 'em don't do it, don't dare\n",
        "Don't care who you know from my block\n",
        "You're not Al Capone, you'll get boxed\n",
        "They can take my car and my creps\n",
        "I'll still do the road in my socks\n",
        "Like who's gonna stop me? You? Him?\n",
        "Weed in a cigarette, blue slims\n",
        "Don't be an idiot, move smart\n",
        "I've been killing it, new king\n",
        "Niggas ain't ready for my new stuff\n",
        "You're a prick by yourself, go and group up\n",
        "And when Krept went States for the BETs\n",
        "I was covering Krept like a bootcut\n",
        "Ith mad, that's a family ting, straight family ting\n",
        "Dem man are broke, no salary ting\n",
        "Had a peng ting called Amy\n",
        "Telling me to come round hers on a Valerie ting\n",
        "#Merky, academy ting\n",
        "Coming like art in a gallery ting\n",
        "Dem boy dere wanna chat about bars\n",
        "Wanna chat about crud but, but, but\n",
        "\n",
        "You're getting way too big for your boots\n",
        "You're never too big for the boot\n",
        "I got the big size twelves on my feet\n",
        "Your face ain't big for my boot\n",
        "Kick up the yout\n",
        "Man know that I kick up the yout\n",
        "Dem boy dere tried twist up the truth\n",
        "How dare you twist up the truth, look\n",
        "\n",
        "I'm too hot\n",
        "Drug money in my shoebox\n",
        "I'm the man of the house and my shows sold out\n",
        "Like the brudda from the Boondocks\n",
        "Beats 1 in my boombox\n",
        "Still steal meat from the stew pot\n",
        "Mandem go sick when my tune drops\n",
        "Little man, that's a Hublot, not a Hublot\n",
        "What? Pronounce it right, you prick\n",
        "I go mad, yeah, I'm down to die for this\n",
        "I don't care, bro, I'm down to pipe your chick\n",
        "Mad stressed so I'm bound to light my spliffs\n",
        "Wait, I'm bound to ride for Flipz\n",
        "Real Gs gonna ride around to this\n",
        "Man, I've got no time to write a diss\n",
        "I never left my 9 to 5 for this\n",
        "Wasteman ting\n",
        "I don't care what rave man's in\n",
        "I came here to relax but if it gets mad\n",
        "Mek a young boy take man's tings\n",
        "Try tell me I'm way too big to rebel?\n",
        "Nah, man, you're never too big to rebel\n",
        "I was in the O2 singing my lungs out\n",
        "Rudeboy, you're never too big for Adele\n",
        "Leave my yard, blow a kiss to my girl\n",
        "Salute to my sister as well\n",
        "Gotta keep trophies down at my mum's bit\n",
        "Man, I'm getting way too big for my shelf\n",
        "Man, I see bare MCs wanna sideline\n",
        "But I still got a couple bangers in the pipeline\n",
        "Man, I've got grown men @ing me bullsstt\n",
        "You're getting way too old for the timeline\n",
        "You're getting way too old for a diss\n",
        "Should've looked after your kids\n",
        "Get out the booth, go home to your son\n",
        "It's never too late to commit\n",
        "It's like man love put my name in a bar\n",
        "Random flight, get a plane to Qatar\n",
        "This year, I learnt how to take care of business\n",
        "Next year, I'll learn how to play the guitar\n",
        "\n",
        "You're getting way too big for your boots\n",
        "You're never too big for the boot\n",
        "I got the big size twelves on my feet\n",
        "Your face ain't big for my boot\n",
        "Kick up the yout\n",
        "Man know that I kick up the yout\n",
        "Dem boy dere tried twist up the truth\n",
        "How dare you twist up the truth, look\n",
        "You're getting way too big for your boots\n",
        "You're never too big for the boot\n",
        "I got the big size twelves on my feet\n",
        "Your face ain't big for my boot\n",
        "Kick up the yout\n",
        "Man know that I kick up the yout\n",
        "Dem boy dere tried twist up the truth\n",
        "How dare you twist up the truth\n",
        "\"\"\"\n",
        "\n",
        "# initialize an empty histogram dictionary\n",
        "histo_dict = dict()\n",
        "\n",
        "# loop through each character in the word and\n",
        "# add a count of 1 to each letter found\n",
        "for char_str in word_str:\n",
        "    if char_str not in histo_dict:\n",
        "        histo_dict[char_str] = 1\n",
        "    else:\n",
        "        histo_dict[char_str] = histo_dict[char_str] + 1\n",
        "\n",
        "# print the histogram dictionary of counts of letters\n",
        "print(histo_dict)"
      ],
      "metadata": {
        "id": "ZLwAcqnUUl22"
      },
      "execution_count": null,
      "outputs": []
    },
    {
      "cell_type": "markdown",
      "source": [
        "We are effectively computing a histogram, which is a statistical term for a set of counters (or frequencies).\n",
        "\n",
        "The for loop traverses the string. Each time through the loop, if the character `char_str` is not in the dictionary, we create a new item with key of `char_str` and the initial value `1` (since we have seen this letter once). If `char_str` is already in the dictionary we increment `histo_dict[char_str]`.  The histogram indicates that the letters “a” and “b” appear once; “o” appears twice, and so on."
      ],
      "metadata": {
        "id": "6vsIYm3KijIq"
      }
    },
    {
      "cell_type": "markdown",
      "source": [
        "Dictionaries have a method called `get` that takes a `key` and a default value. If the `key` appears in the dictionary, then `get` returns the corresponding value; otherwise it returns the default value.     \n",
        "\n",
        "For example:    "
      ],
      "metadata": {
        "id": "3_jgpyjMirQ7"
      }
    },
    {
      "cell_type": "code",
      "execution_count": null,
      "metadata": {
        "id": "Gqqc-ofUz4QC",
        "colab": {
          "base_uri": "https://localhost:8080/"
        },
        "outputId": "26fe55f9-1d6e-470f-bc59-e3ebb18659e3"
      },
      "outputs": [
        {
          "output_type": "stream",
          "name": "stdout",
          "text": [
            "100\n"
          ]
        }
      ],
      "source": [
        "# get method that takes a key and a default value. If the key appears in the dictionary, get returns the corresponding value; otherwise it returns the default value\n",
        "counts_dict = { 'chuck' : 1 , 'annie' : 42, 'jan': 100}\n",
        "print(counts_dict.get('jan', 0))"
      ]
    },
    {
      "cell_type": "markdown",
      "source": [
        "What if the `get` methods does not find the `key` given as an argument?   "
      ],
      "metadata": {
        "id": "PVC_I7xZiyBs"
      }
    },
    {
      "cell_type": "code",
      "source": [
        "print(counts_dict['tim'])"
      ],
      "metadata": {
        "id": "wVtUZ2zaqFEs"
      },
      "execution_count": null,
      "outputs": []
    },
    {
      "cell_type": "code",
      "execution_count": null,
      "metadata": {
        "id": "bMaE55bhz4QD",
        "colab": {
          "base_uri": "https://localhost:8080/"
        },
        "outputId": "eaec7217-8306-44b2-ec15-d8375c8b48f5"
      },
      "outputs": [
        {
          "output_type": "stream",
          "name": "stdout",
          "text": [
            "0\n"
          ]
        }
      ],
      "source": [
        "print(counts_dict.get('tim', 0))"
      ]
    },
    {
      "cell_type": "markdown",
      "metadata": {
        "id": "JO-RKyeatYta"
      },
      "source": [
        "The pattern of checking to see if a key is already in a dictionary and assuming a default value if the key is not there is so common that there is a method called `get()` that does this for us.  Let's setup a dictionary first, then check for a key with get.\n"
      ]
    },
    {
      "cell_type": "code",
      "source": [
        "# create an empty dictionary to use in counting a categorical\n",
        "inventory = dict()\n",
        "\n",
        "# create a list of categorical string values to process\n",
        "shirt_list = ['XS', 'S', 'XXL', 'M', 'M', 'XS', 'M', 'L', 'S', 'XL', 'XL', 'L', 'M', 'M', 'XXL']\n",
        "\n",
        "# iterate through the list and add new keys with a value of 1 or\n",
        "# increase the value of an existing key by 1\n",
        "for shirt in shirt_list :\n",
        "    if shirt not in inventory : \n",
        "        inventory[shirt] = 1\n",
        "    else :\n",
        "        inventory[shirt] = inventory[shirt] + 1\n",
        "\n",
        "print(inventory)"
      ],
      "metadata": {
        "id": "X59C1cAVA48D"
      },
      "execution_count": null,
      "outputs": []
    },
    {
      "cell_type": "markdown",
      "source": [
        "We can use `get` to write our histogram loop more concisely. Because the `get` method automatically handles the case where a `key` is not in a dictionary, we can reduce four lines down to one and eliminate the if statement."
      ],
      "metadata": {
        "id": "bYQbK2FxjJV5"
      }
    },
    {
      "cell_type": "code",
      "execution_count": null,
      "metadata": {
        "id": "g5j7C4wBz4QD"
      },
      "outputs": [],
      "source": [
        "# example code to count characters in a string \n",
        "# USING THE .GET METHOD  \n",
        "# word_str   -- a string with a word as its value\n",
        "# histo_dict -- a histogram dictionary of counts of letters\n",
        "# char_str   -- an individual character as a string\n",
        "\n",
        "# store a word in a string variable\n",
        "word_str = 'brontosaurus'\n",
        "\n",
        "# initialize an empty histogram dictionary\n",
        "histo_dict = dict()\n",
        "# or, initialize a dictionary with some k-v pairs\n",
        "# histo_dict = {'x' : 1, 'y' : 1,'z' : 1, 'b' : 90, 'u' : 80}\n",
        "\n",
        "# use a for loop\n",
        "for char_str in word_str:\n",
        "    histo_dict[char_str] = histo_dict.get(char_str, 0) + 1\n",
        "# try using a different value for the second argument to .get() \n",
        "#    histo_dict[char_str] = histo_dict.get(char_str, 100) + 1\n",
        "# the following attempt would return a key error on 'b'\n",
        "#    histo_dict[char_str] = histo_dict[char_str] + 1\n",
        "\n",
        "# print the histogram dictionary of counts of letters\n",
        "print(histo_dict)"
      ]
    },
    {
      "cell_type": "markdown",
      "source": [
        "The use of the `get` method to simplify this counting loop ends up being a very commonly used *idiom* in Python and we will use it many times in the rest of the class. So you should take a moment and compare the loop using the `if` statement and `in` operator with the loop using the `get` method. They do exactly the same thing, but one is more succinct."
      ],
      "metadata": {
        "id": "-pjOagu3jOvz"
      }
    },
    {
      "cell_type": "markdown",
      "source": [
        "Taking it to the next level, we can count words instead of characters.  To do a good job of counting words we will want to eliminate the confusion caused by differences in upper and lower case, and we will want to remove the noise created by punctuation and `\\n` characters.     "
      ],
      "metadata": {
        "id": "ODZccB5-dnEC"
      }
    },
    {
      "cell_type": "markdown",
      "source": [
        "Let's import the `string` module to access its string of punctuation characters, `string.punctuation`.    "
      ],
      "metadata": {
        "id": "zlLheLy8d8qy"
      }
    },
    {
      "cell_type": "code",
      "source": [
        "# import string library to access a list of punctuation\n",
        "import string\n",
        "print('Using the following list of punctuation ', string.punctuation, '\\n')"
      ],
      "metadata": {
        "id": "_B1MCQOfeGPc"
      },
      "execution_count": null,
      "outputs": []
    },
    {
      "cell_type": "code",
      "source": [
        "# how we can count words in a string, instead of characters:    \n",
        "\n",
        "# example code to count words in a string \n",
        "# USING THE .GET METHOD  \n",
        "# text_str   -- a string with words \n",
        "# word_lst   -- a list of words from text_str\n",
        "# word_str   -- an individual word as a string\n",
        "# histo_dict -- a histogram dictionary of counts of letters\n",
        "\n",
        "# import string library to access a list of punctuation\n",
        "import string\n",
        "print('Using the following list of punctuation ', string.punctuation, '\\n')\n",
        "\n",
        "# store text in a string variable\n",
        "text_str = \"\"\"\n",
        "Brontosaurus are not good burgers.\n",
        "Perhaps I will just have the fries.\n",
        "Are they as good as you say they are?\n",
        "\"\"\"\n",
        "\n",
        "# clean up (wrangle) text_str to: \n",
        "# transform to lower case    \n",
        "# remove \\n and punctuation\n",
        "# text_str.lower().replace(\"\\n\", \" \").split(\" \")\n",
        "\n",
        "# create a list of words in the text string\n",
        "word_lst = text_str.lower().replace(\"\\n\", \" \").split(\" \") \n",
        "\n",
        "# initialize an empty histogram dictionary\n",
        "histo_dict = dict()\n",
        "\n",
        "# use a for loop\n",
        "for word_str in word_lst:\n",
        "    # word_str = word_str.replace('.', '')\n",
        "    for character in string.punctuation:\n",
        "        word_str = word_str.replace(character, '')\n",
        "    histo_dict[word_str] = histo_dict.get(word_str, 0) + 1\n",
        "\n",
        "# print the histogram dictionary of counts of words\n",
        "print(histo_dict)"
      ],
      "metadata": {
        "id": "NcITFCMzYnIj"
      },
      "execution_count": null,
      "outputs": []
    },
    {
      "cell_type": "markdown",
      "source": [
        "The `string` library gives us access to `string.punctuation` which is a list of punctuation characters. \n"
      ],
      "metadata": {
        "id": "Ta2pz5skSeJR"
      }
    },
    {
      "cell_type": "code",
      "source": [
        "import string \n",
        "print(string.punctuation)\n",
        "print(type(string.punctuation))"
      ],
      "metadata": {
        "colab": {
          "base_uri": "https://localhost:8080/"
        },
        "id": "oMZ3dCV4SnLw",
        "outputId": "00b601be-0f03-4352-dc3a-a5abaf404708"
      },
      "execution_count": null,
      "outputs": [
        {
          "output_type": "stream",
          "name": "stdout",
          "text": [
            "!\"#$%&'()*+,-./:;<=>?@[\\]^_`{|}~\n",
            "<class 'str'>\n"
          ]
        }
      ]
    },
    {
      "cell_type": "markdown",
      "source": [
        "Now, try counting the words in the Stormy song Too Big for Your Boots.    "
      ],
      "metadata": {
        "id": "91T4hk6Mel_K"
      }
    },
    {
      "cell_type": "code",
      "source": [
        "# how we can count words in a string, instead of characters:    \n",
        "\n",
        "# example code to count words in a string \n",
        "# USING THE .GET METHOD  \n",
        "# text_str   -- a string with words \n",
        "# word_lst   -- a list of words from text_str\n",
        "# word_str   -- an individual word as a string\n",
        "# histo_dict -- a histogram dictionary of counts of letters\n",
        "\n",
        "# import string library to access a list of punctuation\n",
        "import string\n",
        "print('Using the following list of punctuation ', string.punctuation, '\\n')\n",
        "\n",
        "# store text in a string variable\n",
        "text_str = \"\"\"\n",
        "You're getting way too big for your boots\n",
        "You're never too big for the boot\n",
        "I've got the big size twelves on my feet\n",
        "Your face ain't big for my boot\n",
        "Kick up the yout\n",
        "Man know that I kick up the yout\n",
        "Dem boy dere tried twist up the truth\n",
        "How dare you twist up the truth, look\n",
        "You're getting way too big for your boots\n",
        "You're never too big for the boot\n",
        "I got the big size twelves on my feet\n",
        "Your face ain't big for my boot\n",
        "Kick up the yout\n",
        "Man know that I kick up the yout\n",
        "Dem boy dere tried twist up the truth\n",
        "How dare you twist up the truth\n",
        "\n",
        "Wanna come round here like a badboy? Do it\n",
        "Bun all the talking, go on then, do it\n",
        "Running through the party, bottle of BACARDÍ\n",
        "Bro's in my ear saying \"Stormz, don't do it\"\n",
        "Devil on my shoulder, I don't lack\n",
        "Hit 'em with a crowbar, I don't scrap\n",
        "Even when I'm sober, I'm so gassed\n",
        "Say you ride but there's no car and no mash (what you talking 'bout?)\n",
        "Clown, stand down\n",
        "Never had a MAC-10 or a trey pound\n",
        "You were never bad then, you ain't bad now\n",
        "Never had the MAC then, little nigga, back down\n",
        "Wait, I saw bare kicks, saw bare clothes\n",
        "Said ffcc that, I can't wear those\n",
        "I don't like them, they're not my ting\n",
        "They went silent, they're all weirdos\n",
        "Like yeah, Stormz gone clear\n",
        "Never had a Tom Ford or a Moncler\n",
        "Mandem are calm, but you see my don there?\n",
        "ffccries, tell 'em don't do it, don't dare\n",
        "Don't care who you know from my block\n",
        "You're not Al Capone, you'll get boxed\n",
        "They can take my car and my creps\n",
        "I'll still do the road in my socks\n",
        "Like who's gonna stop me? You? Him?\n",
        "Weed in a cigarette, blue slims\n",
        "Don't be an idiot, move smart\n",
        "I've been killing it, new king\n",
        "Niggas ain't ready for my new stuff\n",
        "You're a prick by yourself, go and group up\n",
        "And when Krept went States for the BETs\n",
        "I was covering Krept like a bootcut\n",
        "Ith mad, that's a family ting, straight family ting\n",
        "Dem man are broke, no salary ting\n",
        "Had a peng ting called Amy\n",
        "Telling me to come round hers on a Valerie ting\n",
        "#Merky, academy ting\n",
        "Coming like art in a gallery ting\n",
        "Dem boy dere wanna chat about bars\n",
        "Wanna chat about crud but, but, but\n",
        "\n",
        "You're getting way too big for your boots\n",
        "You're never too big for the boot\n",
        "I got the big size twelves on my feet\n",
        "Your face ain't big for my boot\n",
        "Kick up the yout\n",
        "Man know that I kick up the yout\n",
        "Dem boy dere tried twist up the truth\n",
        "How dare you twist up the truth, look\n",
        "\n",
        "I'm too hot\n",
        "Drug money in my shoebox\n",
        "I'm the man of the house and my shows sold out\n",
        "Like the brudda from the Boondocks\n",
        "Beats 1 in my boombox\n",
        "Still steal meat from the stew pot\n",
        "Mandem go sick when my tune drops\n",
        "Little man, that's a Hublot, not a Hublot\n",
        "What? Pronounce it right, you prick\n",
        "I go mad, yeah, I'm down to die for this\n",
        "I don't care, bro, I'm down to pipe your chick\n",
        "Mad stressed so I'm bound to light my spliffs\n",
        "Wait, I'm bound to ride for Flipz\n",
        "Real Gs gonna ride around to this\n",
        "Man, I've got no time to write a diss\n",
        "I never left my 9 to 5 for this\n",
        "Wasteman ting\n",
        "I don't care what rave man's in\n",
        "I came here to relax but if it gets mad\n",
        "Mek a young boy take man's tings\n",
        "Try tell me I'm way too big to rebel?\n",
        "Nah, man, you're never too big to rebel\n",
        "I was in the O2 singing my lungs out\n",
        "Rudeboy, you're never too big for Adele\n",
        "Leave my yard, blow a kiss to my girl\n",
        "Salute to my sister as well\n",
        "Gotta keep trophies down at my mum's bit\n",
        "Man, I'm getting way too big for my shelf\n",
        "Man, I see bare MCs wanna sideline\n",
        "But I still got a couple bangers in the pipeline\n",
        "Man, I've got grown men @ing me bullsstt\n",
        "You're getting way too old for the timeline\n",
        "You're getting way too old for a diss\n",
        "Should've looked after your kids\n",
        "Get out the booth, go home to your son\n",
        "It's never too late to commit\n",
        "It's like man love put my name in a bar\n",
        "Random flight, get a plane to Qatar\n",
        "This year, I learnt how to take care of business\n",
        "Next year, I'll learn how to play the guitar\n",
        "\n",
        "You're getting way too big for your boots\n",
        "You're never too big for the boot\n",
        "I got the big size twelves on my feet\n",
        "Your face ain't big for my boot\n",
        "Kick up the yout\n",
        "Man know that I kick up the yout\n",
        "Dem boy dere tried twist up the truth\n",
        "How dare you twist up the truth, look\n",
        "You're getting way too big for your boots\n",
        "You're never too big for the boot\n",
        "I got the big size twelves on my feet\n",
        "Your face ain't big for my boot\n",
        "Kick up the yout\n",
        "Man know that I kick up the yout\n",
        "Dem boy dere tried twist up the truth\n",
        "How dare you twist up the truth\n",
        "\"\"\"\n",
        "\n",
        "# clean up (wrangle) text_str to: \n",
        "# transform to lower case    \n",
        "# remove \\n and punctuation\n",
        "# text_str.lower().replace(\"\\n\", \" \").split(\" \")\n",
        "\n",
        "# create a list of words in the text string\n",
        "word_lst = text_str.lower().replace(\"\\n\", \" \").split(\" \") \n",
        "\n",
        "# initialize an empty histogram dictionary\n",
        "histo_dict = dict()\n",
        "\n",
        "# use a for loop\n",
        "for word_str in word_lst:\n",
        "    # word_str = word_str.replace('.', '')\n",
        "    for character in string.punctuation:\n",
        "        word_str = word_str.replace(character, '')\n",
        "    histo_dict[word_str] = histo_dict.get(word_str, 0) + 1\n",
        "\n",
        "# print the histogram dictionary of counts of words\n",
        "print(histo_dict)"
      ],
      "metadata": {
        "id": "iGvU--cketeB",
        "colab": {
          "base_uri": "https://localhost:8080/"
        },
        "outputId": "c980fbfe-d940-4854-b631-7e87ba7435ea"
      },
      "execution_count": null,
      "outputs": [
        {
          "output_type": "stream",
          "name": "stdout",
          "text": [
            "Using the following list of punctuation  !\"#$%&'()*+,-./:;<=>?@[\\]^_`{|}~ \n",
            "\n",
            "{'': 6, 'youre': 16, 'getting': 8, 'way': 9, 'too': 18, 'big': 24, 'for': 24, 'your': 13, 'boots': 5, 'never': 13, 'the': 45, 'boot': 10, 'ive': 4, 'got': 8, 'size': 5, 'twelves': 5, 'on': 8, 'my': 32, 'feet': 5, 'face': 5, 'aint': 7, 'kick': 10, 'up': 21, 'yout': 10, 'man': 14, 'know': 6, 'that': 6, 'i': 24, 'dem': 7, 'boy': 7, 'dere': 6, 'tried': 5, 'twist': 10, 'truth': 10, 'how': 7, 'dare': 6, 'you': 13, 'look': 3, 'wanna': 4, 'come': 2, 'round': 2, 'here': 2, 'like': 8, 'a': 22, 'badboy': 1, 'do': 5, 'it': 7, 'bun': 1, 'all': 2, 'talking': 2, 'go': 5, 'then': 3, 'running': 1, 'through': 1, 'party': 1, 'bottle': 1, 'of': 3, 'bacardí': 1, 'bros': 1, 'in': 10, 'ear': 1, 'saying': 1, 'stormz': 2, 'dont': 10, 'devil': 1, 'shoulder': 1, 'lack': 1, 'hit': 1, 'em': 2, 'with': 1, 'crowbar': 1, 'scrap': 1, 'even': 1, 'when': 3, 'im': 10, 'sober': 1, 'so': 2, 'gassed': 1, 'say': 1, 'ride': 3, 'but': 7, 'theres': 1, 'no': 4, 'car': 2, 'and': 5, 'mash': 1, 'what': 3, 'bout': 1, 'clown': 1, 'stand': 1, 'down': 5, 'had': 4, 'mac10': 1, 'or': 2, 'trey': 1, 'pound': 1, 'were': 1, 'bad': 2, 'now': 1, 'mac': 1, 'little': 2, 'nigga': 1, 'back': 1, 'wait': 2, 'saw': 2, 'bare': 3, 'kicks': 1, 'clothes': 1, 'said': 1, 'ffcc': 1, 'cant': 1, 'wear': 1, 'those': 1, 'them': 1, 'theyre': 2, 'not': 3, 'ting': 9, 'they': 2, 'went': 2, 'silent': 1, 'weirdos': 1, 'yeah': 2, 'gone': 1, 'clear': 1, 'tom': 1, 'ford': 1, 'moncler': 1, 'mandem': 2, 'are': 2, 'calm': 1, 'see': 2, 'don': 1, 'there': 1, 'ffccries': 1, 'tell': 2, 'care': 4, 'who': 1, 'from': 3, 'block': 1, 'al': 1, 'capone': 1, 'youll': 1, 'get': 3, 'boxed': 1, 'can': 1, 'take': 3, 'creps': 1, 'ill': 2, 'still': 3, 'road': 1, 'socks': 1, 'whos': 1, 'gonna': 2, 'stop': 1, 'me': 4, 'him': 1, 'weed': 1, 'cigarette': 1, 'blue': 1, 'slims': 1, 'be': 1, 'an': 1, 'idiot': 1, 'move': 1, 'smart': 1, 'been': 1, 'killing': 1, 'new': 2, 'king': 1, 'niggas': 1, 'ready': 1, 'stuff': 1, 'prick': 2, 'by': 1, 'yourself': 1, 'group': 1, 'krept': 2, 'states': 1, 'bets': 1, 'was': 2, 'covering': 1, 'bootcut': 1, 'ith': 1, 'mad': 4, 'thats': 2, 'family': 2, 'straight': 1, 'broke': 1, 'salary': 1, 'peng': 1, 'called': 1, 'amy': 1, 'telling': 1, 'to': 18, 'hers': 1, 'valerie': 1, 'merky': 1, 'academy': 1, 'coming': 1, 'art': 1, 'gallery': 1, 'chat': 2, 'about': 2, 'bars': 1, 'crud': 1, 'hot': 1, 'drug': 1, 'money': 1, 'shoebox': 1, 'house': 1, 'shows': 1, 'sold': 1, 'out': 3, 'brudda': 1, 'boondocks': 1, 'beats': 1, '1': 1, 'boombox': 1, 'steal': 1, 'meat': 1, 'stew': 1, 'pot': 1, 'sick': 1, 'tune': 1, 'drops': 1, 'hublot': 2, 'pronounce': 1, 'right': 1, 'die': 1, 'this': 4, 'bro': 1, 'pipe': 1, 'chick': 1, 'stressed': 1, 'bound': 2, 'light': 1, 'spliffs': 1, 'flipz': 1, 'real': 1, 'gs': 1, 'around': 1, 'time': 1, 'write': 1, 'diss': 2, 'left': 1, '9': 1, '5': 1, 'wasteman': 1, 'rave': 1, 'mans': 2, 'came': 1, 'relax': 1, 'if': 1, 'gets': 1, 'mek': 1, 'young': 1, 'tings': 1, 'try': 1, 'rebel': 2, 'nah': 1, 'o2': 1, 'singing': 1, 'lungs': 1, 'rudeboy': 1, 'adele': 1, 'leave': 1, 'yard': 1, 'blow': 1, 'kiss': 1, 'girl': 1, 'salute': 1, 'sister': 1, 'as': 1, 'well': 1, 'gotta': 1, 'keep': 1, 'trophies': 1, 'at': 1, 'mums': 1, 'bit': 1, 'shelf': 1, 'mcs': 1, 'sideline': 1, 'couple': 1, 'bangers': 1, 'pipeline': 1, 'grown': 1, 'men': 1, 'ing': 1, 'bullsstt': 1, 'old': 2, 'timeline': 1, 'shouldve': 1, 'looked': 1, 'after': 1, 'kids': 1, 'booth': 1, 'home': 1, 'son': 1, 'its': 2, 'late': 1, 'commit': 1, 'love': 1, 'put': 1, 'name': 1, 'bar': 1, 'random': 1, 'flight': 1, 'plane': 1, 'qatar': 1, 'year': 2, 'learnt': 1, 'business': 1, 'next': 1, 'learn': 1, 'play': 1, 'guitar': 1}\n"
          ]
        }
      ]
    },
    {
      "cell_type": "markdown",
      "metadata": {
        "id": "t45WPLt_z4QD"
      },
      "source": [
        "## 10(9).2 Dictionaries and files      \n",
        "\n",
        "For a copy of the Py4E.com file **romeo.txt** on Google Drive:    \n",
        " `https://bit.ly/romeo-short`\n",
        "\n",
        "For a copy of the Py4E.com file **romeo-full.txt** on Google Drive:    \n",
        " `https://bit.ly/romeo-full`"
      ]
    },
    {
      "cell_type": "markdown",
      "source": [
        "One of the common uses of a dictionary is to count the occurrence of words in a file with some written text.     \n",
        "\n",
        "Let’s start with a very simple file of words taken from the text of **Romeo and Juliet**.\n",
        "\n",
        "For the first set of examples, we will use a shortened and simplified version of the text with no punctuation. Later we will work with the text of the scene with punctuation included."
      ],
      "metadata": {
        "id": "Pt2FTde4jXbB"
      }
    },
    {
      "cell_type": "markdown",
      "source": [
        "~~~\n",
        "But soft what light through yonder window breaks\n",
        "It is the east and Juliet is the sun\n",
        "Arise fair sun and kill the envious moon\n",
        "Who is already sick and pale with grief\n",
        "~~~"
      ],
      "metadata": {
        "id": "v9Dr0RTKjYOm"
      }
    },
    {
      "cell_type": "markdown",
      "source": [
        "We will write a Python program to read through the lines of the file, break each line into a list of words, and then loop through each of the words in the line and count each word using a dictionary.\n",
        "\n",
        "You will see that we have two `for` loops. The outer loop is reading the lines of the file and the inner loop is iterating through each of the words on that particular line. This is an example of a pattern called nested loops because one of the loops is the outer loop and the other loop is the inner loop.\n",
        "\n",
        "Because the inner loop executes all of its iterations each time the outer loop makes a single iteration, we think of the inner loop as iterating “more quickly” and the outer loop as iterating more slowly.\n",
        "\n",
        "The combination of the two nested loops ensures that we will count every word on every line of the input file."
      ],
      "metadata": {
        "id": "eQmmaID1jbsj"
      }
    },
    {
      "cell_type": "markdown",
      "source": [
        "**Upload the Py4E exercise file \"words.txt\" to your Colab content area then enter the file name \"words.txt\" when prompted by the following code.  You may download the file here [words.txt](https://bit.ly/py4e-words), then upload it to your current working directory.**   \n",
        "\n",
        "\n",
        "**Or, download [romeo.txt](https://bit.ly/romeo-short), upload it to your current working directory, and enter the file name \"romeo.txt\" when prompted by the following code.**  "
      ],
      "metadata": {
        "id": "UGRlEVU1jjco"
      }
    },
    {
      "cell_type": "code",
      "execution_count": null,
      "metadata": {
        "id": "vHQxBNkzz4QD",
        "colab": {
          "base_uri": "https://localhost:8080/"
        },
        "outputId": "2ab8b267-ccbc-49ff-f1a2-cf3bf0008fdd"
      },
      "outputs": [
        {
          "output_type": "stream",
          "name": "stdout",
          "text": [
            "Enter the file name: romeo.txt\n",
            "{'But': 1, 'soft': 1, 'what': 1, 'light': 1, 'through': 1, 'yonder': 1, 'window': 1, 'breaks': 1, 'It': 1, 'is': 3, 'the': 3, 'east': 1, 'and': 3, 'Juliet': 1, 'sun': 2, 'Arise': 1, 'fair': 1, 'kill': 1, 'envious': 1, 'moon': 1, 'Who': 1, 'already': 1, 'sick': 1, 'pale': 1, 'with': 1, 'grief': 1}\n"
          ]
        }
      ],
      "source": [
        "fname = input('Enter the file name: ')\n",
        "try:\n",
        "    fhand = open(fname)\n",
        "except:\n",
        "    print('File cannot be opened:', fname)\n",
        "    exit()\n",
        "\n",
        "counts = dict()\n",
        "for line in fhand:\n",
        "    words = line.split()\n",
        "    for word in words:\n",
        "        if word not in counts:\n",
        "            counts[word] = 1\n",
        "        else:\n",
        "            counts[word] += 1\n",
        "\n",
        "print(counts)\n",
        "\n",
        "# Code: http://www.py4e.com/code3/count1.py"
      ]
    },
    {
      "cell_type": "markdown",
      "source": [
        "The following is a slightly more elegant version of that last script.    \n",
        "Can you see what is different?    \n"
      ],
      "metadata": {
        "id": "J0KgPptYj3qv"
      }
    },
    {
      "cell_type": "code",
      "source": [
        "fname = input('Enter the file name: ')\n",
        "try:\n",
        "    fhand = open(fname)\n",
        "except:\n",
        "    print('File cannot be opened:', fname)\n",
        "    exit()\n",
        "\n",
        "counts = dict()\n",
        "for line in fhand:\n",
        "    words = line.lower().split()\n",
        "    for word in words:\n",
        "        counts[word] = counts.get(word, 0) + 1\n",
        "#        if word not in counts:\n",
        "#            counts[word] = 1\n",
        "#        else:\n",
        "#            counts[word] += 1\n",
        "\n",
        "print(counts)"
      ],
      "metadata": {
        "id": "UJq7ygxBkA16",
        "colab": {
          "base_uri": "https://localhost:8080/"
        },
        "outputId": "0e68b1f0-fe08-4625-e6b0-235b6e788c25"
      },
      "execution_count": null,
      "outputs": [
        {
          "output_type": "stream",
          "name": "stdout",
          "text": [
            "Enter the file name: romeo.txt\n",
            "{'but': 1, 'soft': 1, 'what': 1, 'light': 1, 'through': 1, 'yonder': 1, 'window': 1, 'breaks': 1, 'it': 1, 'is': 3, 'the': 3, 'east': 1, 'and': 3, 'juliet': 1, 'sun': 2, 'arise': 1, 'fair': 1, 'kill': 1, 'envious': 1, 'moon': 1, 'who': 1, 'already': 1, 'sick': 1, 'pale': 1, 'with': 1, 'grief': 1}\n"
          ]
        }
      ]
    },
    {
      "cell_type": "markdown",
      "source": [
        "In our else statement, we use the more compact alternative for incrementing a variable.     \n",
        "\n",
        "`counts[word] += 1` *is equivalent to*         \n",
        "`counts[word] = counts[word] + 1`.      \n",
        "\n",
        "Either method can be used to change the value of a variable by any desired amount. Similar alternatives exist for `-=`, `*=`, and `/=`.\n",
        "\n",
        "When we run the program, we see a raw dump of all of the counts in unsorted hash order. (the **romeo.txt** file is available at **www.py4e.com/code3/romeo.txt** or using the link **[romeo.txt](https://bit.ly/romeo-short)**)"
      ],
      "metadata": {
        "id": "n8rw2BwZkH2W"
      }
    },
    {
      "cell_type": "markdown",
      "source": [
        "**Upload the Py4E exercise file \"romeo-full.txt\" to your Colab content area then enter the file name \"romeo-full.txt\" when prompted by rerunning the code above.**     \n",
        "\n",
        "**You can find the file here: [romeo-full.txt](https://bit.ly/romeo-full)**"
      ],
      "metadata": {
        "id": "9HSWKAn6kIwT"
      }
    },
    {
      "cell_type": "markdown",
      "source": [
        "It is a bit inconvenient to look through the dictionary to find the most common words and their counts, so we need to add some more Python code to get us the output that will be more helpful."
      ],
      "metadata": {
        "id": "fuXqUBeVkM7o"
      }
    },
    {
      "cell_type": "markdown",
      "metadata": {
        "id": "mWW3-Tp_z4QD"
      },
      "source": [
        "## 10(9).3 Looping and dictionaries"
      ]
    },
    {
      "cell_type": "markdown",
      "source": [
        "If you use a dictionary as the sequence in a for statement, it traverses the keys of the dictionary. This loop prints each key and the corresponding value:"
      ],
      "metadata": {
        "id": "1NJJsytBkWgo"
      }
    },
    {
      "cell_type": "code",
      "execution_count": null,
      "metadata": {
        "id": "9RAngYeNz4QD",
        "colab": {
          "base_uri": "https://localhost:8080/"
        },
        "outputId": "4e6e0fde-21b6-4412-cc2a-ed72b6cab59b"
      },
      "outputs": [
        {
          "output_type": "stream",
          "name": "stdout",
          "text": [
            "chuck 1\n",
            "annie 42\n",
            "jan 100\n"
          ]
        }
      ],
      "source": [
        "counts = { 'chuck' : 1 , 'annie' : 42, 'jan': 100}\n",
        "for key in counts:\n",
        "    print(key, counts[key])"
      ]
    },
    {
      "cell_type": "markdown",
      "source": [
        "Again, the keys are in the order in which `key-value pairs` were entered into the dictionary.\n",
        "\n",
        "We can use this pattern to implement the various loop idioms that we have described earlier. For example if we wanted to find all the entries in a dictionary with a value above ten, we could write the following code:"
      ],
      "metadata": {
        "id": "w-Eyei1gkZil"
      }
    },
    {
      "cell_type": "code",
      "source": [
        "# to find all the entries in a dictionary with a value above ten\n",
        "counts_dict = { 'chuck' : 1 , 'annie' : 42, 'jan': 100}\n",
        "for key in counts_dict:\n",
        "    if counts_dict[key] > 10 :\n",
        "        print(key, counts_dict[key])"
      ],
      "metadata": {
        "id": "uG8p75drkkRI",
        "colab": {
          "base_uri": "https://localhost:8080/"
        },
        "outputId": "404915de-cd1f-4f11-e8d3-8bdc7e06abca"
      },
      "execution_count": null,
      "outputs": [
        {
          "output_type": "stream",
          "name": "stdout",
          "text": [
            "annie 42\n",
            "jan 100\n"
          ]
        }
      ]
    },
    {
      "cell_type": "code",
      "source": [
        "# The same logic applied to the counts dict from word counting \n",
        "for key in counts:\n",
        "    if counts[key] > 20 :\n",
        "        print(key, counts[key])"
      ],
      "metadata": {
        "id": "3Lj3k9awkvXv"
      },
      "execution_count": null,
      "outputs": []
    },
    {
      "cell_type": "code",
      "source": [
        "for key in histo_dict:\n",
        "    if histo_dict[key] > 10 :\n",
        "        print(key, histo_dict[key])"
      ],
      "metadata": {
        "colab": {
          "base_uri": "https://localhost:8080/"
        },
        "id": "OI3mHizdVV7J",
        "outputId": "72916442-0a04-4e7c-f39b-a399cac65e06"
      },
      "execution_count": null,
      "outputs": [
        {
          "output_type": "stream",
          "name": "stdout",
          "text": [
            "youre 16\n",
            "too 18\n",
            "big 24\n",
            "for 24\n",
            "your 13\n",
            "never 13\n",
            "the 45\n",
            "my 32\n",
            "up 21\n",
            "man 14\n",
            "i 24\n",
            "you 13\n",
            "a 22\n",
            "to 18\n"
          ]
        }
      ]
    },
    {
      "cell_type": "markdown",
      "source": [
        "The for loop iterates through the keys of the dictionary, so we must use the index operator to retrieve the corresponding value for each key. We see only the entries with a value above 10."
      ],
      "metadata": {
        "id": "vfQL20ddkxz-"
      }
    },
    {
      "cell_type": "markdown",
      "source": [
        "If you want to print the keys in alphabetical order, you first make a list of the keys in the dictionary using the keys method available in dictionary objects, and then sort that list and loop through the sorted list, looking up each key and printing out key-value pairs in sorted order as follows:"
      ],
      "metadata": {
        "id": "DPASRq0jk1CQ"
      }
    },
    {
      "cell_type": "code",
      "execution_count": null,
      "metadata": {
        "id": "fyrmXBdLz4QE",
        "colab": {
          "base_uri": "https://localhost:8080/"
        },
        "outputId": "2ed74cb3-6b46-4eae-a106-8e4437a8b1c0"
      },
      "outputs": [
        {
          "output_type": "stream",
          "name": "stdout",
          "text": [
            "['chuck', 'annie', 'jan']\n",
            "annie 42\n",
            "chuck 1\n",
            "jan 100\n"
          ]
        }
      ],
      "source": [
        "counts_dict = { 'chuck' : 1 , 'annie' : 42, 'jan': 100}\n",
        "key_lst = list(counts_dict.keys())\n",
        "print(key_lst)\n",
        "key_lst.sort()\n",
        "for key in key_lst:\n",
        "    print(key, counts_dict[key])"
      ]
    },
    {
      "cell_type": "code",
      "source": [
        "# using the word count dictionary from earlier\n",
        "key_lst = list(counts.keys())\n",
        "# print(key_lst)\n",
        "key_lst.sort()\n",
        "for key in key_lst:\n",
        "    if counts[key] > 2 :\n",
        "        print(key, counts[key])"
      ],
      "metadata": {
        "id": "qi7CxuQVk9ze"
      },
      "execution_count": null,
      "outputs": []
    },
    {
      "cell_type": "markdown",
      "source": [
        "First you see the list of `keys` in unsorted order that we get from the `.keys()` method. Then we see the `key-value pairs` in order from the for loop."
      ],
      "metadata": {
        "id": "1FOll0z4k-vk"
      }
    },
    {
      "cell_type": "markdown",
      "metadata": {
        "id": "-U6J7twgz4QE"
      },
      "source": [
        "## 10(9).4 Advanced text parsing"
      ]
    },
    {
      "cell_type": "markdown",
      "source": [
        "In the above example using the file **romeo.txt**, we made the file as simple as possible by removing all punctuation by hand. The actual text has lots of punctuation, as shown below."
      ],
      "metadata": {
        "id": "O7vj9L1vlODg"
      }
    },
    {
      "cell_type": "markdown",
      "source": [
        "```\n",
        "But, soft! what light through yonder window breaks?\n",
        "\n",
        "It is the east, and Juliet is the sun.\n",
        "\n",
        "Arise, fair sun, and kill the envious moon,\n",
        "\n",
        "Who is already sick and pale with grief,\n",
        "```"
      ],
      "metadata": {
        "id": "oBcW96VclTcG"
      }
    },
    {
      "cell_type": "markdown",
      "source": [
        "Since the Python `.split()` function looks for spaces and treats words as tokens separated by spaces, we would treat the words “soft!” and “soft” as different words and create a separate dictionary entry for each word.\n",
        "\n",
        "Also since the file has capitalization, we would treat “who” and “Who” as different words with different counts.\n",
        "\n",
        "We can solve both these problems by using the string methods `.lower()`, `.punctuation()`, and `.translate()`. The `.translate()` is the most subtle of the methods. "
      ],
      "metadata": {
        "id": "F3aVjoHPlj2w"
      }
    },
    {
      "cell_type": "code",
      "source": [
        "# line.translate(str.maketrans(from_str, to_str, delete_str))"
      ],
      "metadata": {
        "id": "FWo1E7_Vlo9p"
      },
      "execution_count": null,
      "outputs": []
    },
    {
      "cell_type": "markdown",
      "source": [
        "Replace the characters in `from_str` with the character in the same position in `to_str` and delete all characters that are in `delete_str`. The `from_str` and `to_str` can be empty strings and the `delete_str` parameter can be omitted.\n",
        "\n",
        "We will not specify the `to_str` but we will use the `delete_str` parameter to delete all of the punctuation. We will even let Python tell us the list of characters that it considers “punctuation”:"
      ],
      "metadata": {
        "id": "We_9ZJaMlsX2"
      }
    },
    {
      "cell_type": "code",
      "execution_count": null,
      "metadata": {
        "id": "12sNFCJFz4QE"
      },
      "outputs": [],
      "source": [
        "import string\n",
        "string.punctuation"
      ]
    },
    {
      "cell_type": "markdown",
      "source": [
        "The parameters used by translate were different in Python 2.0.\n",
        "\n",
        "We make the following modifications to our program:"
      ],
      "metadata": {
        "id": "pNBsPNpNlwXd"
      }
    },
    {
      "cell_type": "code",
      "execution_count": null,
      "metadata": {
        "id": "iM7r5kRFz4QE"
      },
      "outputs": [],
      "source": [
        "import string\n",
        "\n",
        "fname = input('Enter the file name: ')\n",
        "try:\n",
        "    fhand = open(fname)\n",
        "except:\n",
        "    print('File cannot be opened:', fname)\n",
        "    exit()\n",
        "\n",
        "counts = dict()\n",
        "for line in fhand:\n",
        "    line = line.rstrip()\n",
        "    line = line.translate(line.maketrans('', '', string.punctuation))\n",
        "    line = line.lower()\n",
        "    words = line.split()\n",
        "    for word in words:\n",
        "        if word not in counts:\n",
        "            counts[word] = 1\n",
        "        else:\n",
        "            counts[word] += 1\n",
        "\n",
        "print(counts)\n",
        "\n",
        "# Code: http://www.py4e.com/code3/count2.py"
      ]
    },
    {
      "cell_type": "markdown",
      "source": [
        "Part of learning the “Art of Python” or “Thinking Pythonically” is realizing that Python often has built-in capabilities for many common data analysis problems. Over time, you will see enough example code and read enough of the documentation to know where to look to see if someone has already written something that makes your job much easier."
      ],
      "metadata": {
        "id": "9BgRhlchl491"
      }
    },
    {
      "cell_type": "markdown",
      "source": [
        "\n",
        "\n",
        "---\n",
        "\n"
      ],
      "metadata": {
        "id": "NxA2BgbNooYg"
      }
    },
    {
      "cell_type": "markdown",
      "source": [
        "# **Tuples**     \n",
        "**(from All you need to know about Tuples in Python. 13-Sep-2021.  By Andreas Soularidis on Medium.com)**    \n"
      ],
      "metadata": {
        "id": "za4ZzTmGfU1R"
      }
    },
    {
      "cell_type": "markdown",
      "source": [
        "##Introduction     \n",
        "\n",
        "First of all, let’s talk about Python Tuples in general. Tuples are used to store data of multiple types like str, int, float, boolean, etc in a single variable. Lists and tuples have a lot in common and lots of differences as well. First of all, in both data types, the elements are ordered, so the items have a defined order, that will not change. Also, both are dynamic in size data types. So we don’t need to define the size of the tuple in advance, as Python takes care of that. Moreover, in both data types duplicate values are allowed. On the other hand, the big difference between lists and tuples is that a tuple is immutable data type, so we cannot add, update or delete the elements of a tuple after its declaration\n"
      ],
      "metadata": {
        "id": "PZgFP4K3mtXB"
      }
    },
    {
      "cell_type": "markdown",
      "source": [
        "## When to use tuples    \n",
        "\n",
        "The question is when to use a list and when to use a tuple in my code. A general guide is to use tuples only if you are absolutely sure that the data will not change during the execution of the program. For example, if you want to store the days of the week you can store them in a tuple.    \n"
      ],
      "metadata": {
        "id": "y9FPQZy1gNgK"
      }
    },
    {
      "cell_type": "markdown",
      "source": [
        "## Create a tuple    \n",
        "\n",
        "To create a tuple we use round brackets (parentheses), or we can use the constructor tuple() like below:    "
      ],
      "metadata": {
        "id": "2gHck3D4gWBK"
      }
    },
    {
      "cell_type": "code",
      "source": [
        "first_list = ['dog', 4.5, True, 7, 'apple']\n",
        "first_tuple = ('dog', 4.5, True, 7, 'apple')\n",
        "print(first_list, '\\n', first_tuple)\n",
        "print(type(first_list))\n",
        "print(type(first_tuple))"
      ],
      "metadata": {
        "id": "dArq-hVFgdm9",
        "colab": {
          "base_uri": "https://localhost:8080/"
        },
        "outputId": "c642d0f6-ca6b-4a50-ee67-57139c71e9c2"
      },
      "execution_count": null,
      "outputs": [
        {
          "output_type": "stream",
          "name": "stdout",
          "text": [
            "['dog', 4.5, True, 7, 'apple'] \n",
            " ('dog', 4.5, True, 7, 'apple')\n",
            "<class 'list'>\n",
            "<class 'tuple'>\n"
          ]
        }
      ]
    },
    {
      "cell_type": "code",
      "source": [
        "second_tuple = tuple(['dog', 4.5, True, 7, 'apple'])\n",
        "print(second_tuple)\n",
        "print(type(second_tuple))"
      ],
      "metadata": {
        "id": "JG9J0B28g3TC",
        "colab": {
          "base_uri": "https://localhost:8080/"
        },
        "outputId": "e3820698-93d8-4423-8077-25d4182a786a"
      },
      "execution_count": null,
      "outputs": [
        {
          "output_type": "stream",
          "name": "stdout",
          "text": [
            "('dog', 4.5, True, 7, 'apple')\n",
            "<class 'tuple'>\n"
          ]
        }
      ]
    },
    {
      "cell_type": "markdown",
      "source": [
        "Let's try a new function `id()` to see what it tells us about `first_tuple` and `second_tuple`:     \n"
      ],
      "metadata": {
        "id": "qKJGfoOsq5gs"
      }
    },
    {
      "cell_type": "code",
      "source": [
        "print('The ID of the first_tuple is: ', id(first_tuple))\n",
        "print('The ID of the second_tuple is: ', id(second_tuple))"
      ],
      "metadata": {
        "colab": {
          "base_uri": "https://localhost:8080/"
        },
        "id": "Qg7_V-c7rDqu",
        "outputId": "62a3ce3a-9d60-4313-898c-5303fb8ed954"
      },
      "execution_count": null,
      "outputs": [
        {
          "output_type": "stream",
          "name": "stdout",
          "text": [
            "The ID of the first_tuple is:  140015355939232\n",
            "The ID of the second_tuple is:  140014873893760\n"
          ]
        }
      ]
    },
    {
      "cell_type": "markdown",
      "source": [
        "\n",
        "Notice that, in the second example the constructor `tuple()` takes as a parameter a list and turns it into a tuple. This syntax would be extremely useful later.    \n",
        "\n",
        "To create a single element tuple we use a comma after the element, so that Python recognizes that as a tuple and not as a simple expression with parenthesis. Look at the example below:    "
      ],
      "metadata": {
        "id": "tXzMxgc8heWy"
      }
    },
    {
      "cell_type": "code",
      "source": [
        "solo_tuple = (1,)\n",
        "print(solo_tuple)\n",
        "print(type(solo_tuple))"
      ],
      "metadata": {
        "id": "TYnpLZnMhg41",
        "colab": {
          "base_uri": "https://localhost:8080/"
        },
        "outputId": "5d875ddd-cf19-4e9f-e65d-693dda84c7dd"
      },
      "execution_count": null,
      "outputs": [
        {
          "output_type": "stream",
          "name": "stdout",
          "text": [
            "(1,)\n",
            "<class 'tuple'>\n"
          ]
        }
      ]
    },
    {
      "cell_type": "code",
      "source": [
        "not_tuple = (1)\n",
        "print(not_tuple)\n",
        "print(type(not_tuple))"
      ],
      "metadata": {
        "id": "QWx9o2w7hxKj",
        "colab": {
          "base_uri": "https://localhost:8080/"
        },
        "outputId": "4074da45-8433-4470-f35d-384a1deb8f42"
      },
      "execution_count": null,
      "outputs": [
        {
          "output_type": "stream",
          "name": "stdout",
          "text": [
            "1\n",
            "<class 'int'>\n"
          ]
        }
      ]
    },
    {
      "cell_type": "code",
      "source": [
        "uno_tuple = tuple([1])\n",
        "print(uno_tuple)\n",
        "print(type(uno_tuple))"
      ],
      "metadata": {
        "id": "uzePnndssWSb"
      },
      "execution_count": null,
      "outputs": []
    },
    {
      "cell_type": "code",
      "source": [
        "# remember that the argument to tuple() needs to be an interable\n",
        "uno_tuple = tuple(1)\n",
        "print(uno_tuple)\n",
        "print(type(uno_tuple))"
      ],
      "metadata": {
        "id": "B31ZwiGGs3wd"
      },
      "execution_count": null,
      "outputs": []
    },
    {
      "cell_type": "markdown",
      "source": [
        "## Access in tuple items    \n",
        "\n",
        "Tuples, like lists, are zero-index data types, so the first element of a tuple has `index[0]`, the second has `index[1]`, and so on. Also, we have the reversed index that starts from `-1` and represents the last element of a tuple. So, using the reversed index the last element has `index[-1]` the second to last element has `index[-2]`, etc. So, using the index we can have access to specific tuple values as following:    "
      ],
      "metadata": {
        "id": "5yr9aabCiHE6"
      }
    },
    {
      "cell_type": "code",
      "source": [
        "print(first_tuple)"
      ],
      "metadata": {
        "colab": {
          "base_uri": "https://localhost:8080/"
        },
        "id": "7I0izWg2tJCS",
        "outputId": "fccfb6f9-37eb-4ab8-802a-b1f52b01152f"
      },
      "execution_count": null,
      "outputs": [
        {
          "output_type": "stream",
          "name": "stdout",
          "text": [
            "('dog', 4.5, True, 7, 'apple')\n"
          ]
        }
      ]
    },
    {
      "cell_type": "code",
      "source": [
        "print(first_tuple[1])"
      ],
      "metadata": {
        "id": "Zdh9EVTciQps",
        "colab": {
          "base_uri": "https://localhost:8080/"
        },
        "outputId": "e4f7b7b3-33d7-48b0-bf0d-1c66b60895c7"
      },
      "execution_count": null,
      "outputs": [
        {
          "output_type": "stream",
          "name": "stdout",
          "text": [
            "4.5\n"
          ]
        }
      ]
    },
    {
      "cell_type": "code",
      "source": [
        "print(first_tuple[0])"
      ],
      "metadata": {
        "colab": {
          "base_uri": "https://localhost:8080/"
        },
        "id": "5UmZqbMKtfS3",
        "outputId": "1878aef6-62c2-4422-c3ba-75f4c630ac80"
      },
      "execution_count": null,
      "outputs": [
        {
          "output_type": "stream",
          "name": "stdout",
          "text": [
            "dog\n"
          ]
        }
      ]
    },
    {
      "cell_type": "code",
      "source": [
        "print(first_tuple[-5])"
      ],
      "metadata": {
        "id": "nQhzb0clioEa",
        "colab": {
          "base_uri": "https://localhost:8080/"
        },
        "outputId": "6adb0b9b-df4c-451e-d103-a4689d5c0fdc"
      },
      "execution_count": null,
      "outputs": [
        {
          "output_type": "stream",
          "name": "stdout",
          "text": [
            "dog\n"
          ]
        }
      ]
    },
    {
      "cell_type": "code",
      "source": [
        "print(first_tuple[2+2])"
      ],
      "metadata": {
        "colab": {
          "base_uri": "https://localhost:8080/"
        },
        "id": "0qj0uhOot3aa",
        "outputId": "a34ecbf5-6733-49dc-d669-0b6ec971d000"
      },
      "execution_count": null,
      "outputs": [
        {
          "output_type": "stream",
          "name": "stdout",
          "text": [
            "apple\n"
          ]
        }
      ]
    },
    {
      "cell_type": "code",
      "source": [
        "this_one_int = +10 +17 -30\n",
        "print(first_tuple[this_one_int])"
      ],
      "metadata": {
        "colab": {
          "base_uri": "https://localhost:8080/"
        },
        "id": "F1r7MnDzuCvs",
        "outputId": "109a2952-482f-4888-cbf2-88578d4a5d94"
      },
      "execution_count": null,
      "outputs": [
        {
          "output_type": "stream",
          "name": "stdout",
          "text": [
            "True\n"
          ]
        }
      ]
    },
    {
      "cell_type": "code",
      "source": [
        "wrong_one_int = +20 +17 -30\n",
        "print(first_tuple[wrong_one_int])"
      ],
      "metadata": {
        "id": "77ZCqC65uyfr"
      },
      "execution_count": null,
      "outputs": []
    },
    {
      "cell_type": "markdown",
      "source": [
        "## Slicing    \n",
        "\n",
        "Like lists, we can have access to a specific range of a tuple using the following syntax\n",
        "\n",
        "```\n",
        "tuple[start_index : end_index : pace]\n",
        "```\n",
        "also described as: \n",
        "```\n",
        "tuple[start_index : end_index : step]\n",
        "```\n",
        "\n",
        "This expression returns a new tuple from start_index to end_index-1 according to pace. By default, the pace has a value of 1. If we omit the start_index the default value is 0. Similarly, if we omit the end_index the default value is the last index of the tuple. Last, if we omit both indexes we get a copy of the tuple.     \n",
        "\n",
        "Let’s see some examples below:"
      ],
      "metadata": {
        "id": "JzqpzBjviwGK"
      }
    },
    {
      "cell_type": "code",
      "source": [
        "print(first_tuple)"
      ],
      "metadata": {
        "id": "cAL6pBb8vjiC"
      },
      "execution_count": null,
      "outputs": []
    },
    {
      "cell_type": "code",
      "source": [
        "print(first_tuple[1:3])"
      ],
      "metadata": {
        "id": "6cSzkgv-i6Wq"
      },
      "execution_count": null,
      "outputs": []
    },
    {
      "cell_type": "code",
      "source": [
        "print(first_tuple[:4])"
      ],
      "metadata": {
        "id": "_q4jiunvjOH7"
      },
      "execution_count": null,
      "outputs": []
    },
    {
      "cell_type": "code",
      "source": [
        "print(first_tuple[:2])"
      ],
      "metadata": {
        "id": "5nXHpkPRwUK8"
      },
      "execution_count": null,
      "outputs": []
    },
    {
      "cell_type": "code",
      "source": [
        "print(first_tuple[::2])"
      ],
      "metadata": {
        "id": "uynjWaJGjIQj"
      },
      "execution_count": null,
      "outputs": []
    },
    {
      "cell_type": "code",
      "source": [
        "print(first_tuple[:])"
      ],
      "metadata": {
        "id": "RR5KJGLEjRhr",
        "colab": {
          "base_uri": "https://localhost:8080/"
        },
        "outputId": "a69141c5-ab5e-40a6-ad6a-e41d8f3f141a"
      },
      "execution_count": null,
      "outputs": [
        {
          "output_type": "stream",
          "name": "stdout",
          "text": [
            "('dog', 4.5, True, 7, 'apple')\n"
          ]
        }
      ]
    },
    {
      "cell_type": "markdown",
      "source": [
        "## Modifying tuple content     "
      ],
      "metadata": {
        "id": "DOO3LWaYqB6g"
      }
    },
    {
      "cell_type": "markdown",
      "source": [
        "### Add elements to tuples    \n",
        "\n",
        "As we mentioned earlier, tuples are immutable data types, so we can not add, update or delete elements after the tuple has been created. In lists, we have the method `append()` to add new elements in an existing list, but in tuples, we don’t have this method. So how can we add elements to an existing tuple?     \n",
        "\n",
        "To do this, we make a three-step trick.     \n",
        "\n",
        "1. First, we convert our tuple to a list. We can do this using the constructor `list()`. At this point, we have a list with the same elements as our tuple, so now we can use the `append()` method.     \n",
        "\n",
        "2. The second step is to use the `append()` method to add the element to our list. At this point, we have all the elements we want on a list.     \n",
        "\n",
        "3. The third and last step is to convert our list into a tuple, using the constructor `tuple()`. Now, we have all elements we want in a tuple.    \n",
        "\n",
        "*We can use the `id()` function to determine whether the tuple we begin with and the final tuple are unique objects.*   \n",
        "\n",
        "Let’s see an example below:    "
      ],
      "metadata": {
        "id": "UDHmG1J7jgp0"
      }
    },
    {
      "cell_type": "code",
      "source": [
        "# check the tuple contents and object id\n",
        "print(first_tuple)\n",
        "print(id(first_tuple))"
      ],
      "metadata": {
        "id": "b7W4QdrtkA0t"
      },
      "execution_count": null,
      "outputs": []
    },
    {
      "cell_type": "code",
      "source": [
        "# step 1 - create a list from the tuple\n",
        "first_list = list(first_tuple)\n",
        "print(first_list)"
      ],
      "metadata": {
        "id": "wQqd2GUWkgd1"
      },
      "execution_count": null,
      "outputs": []
    },
    {
      "cell_type": "code",
      "source": [
        "# step 2 - append to the new list\n",
        "first_list.append('banana')\n",
        "print(first_list)"
      ],
      "metadata": {
        "id": "aD_ssMEnlS4r"
      },
      "execution_count": null,
      "outputs": []
    },
    {
      "cell_type": "code",
      "source": [
        "# step 3 - replace the tuple with a tuple of the new list\n",
        "first_tuple = tuple(first_list)"
      ],
      "metadata": {
        "id": "FTDwZG-Mkmc7"
      },
      "execution_count": null,
      "outputs": []
    },
    {
      "cell_type": "code",
      "source": [
        "# check the tuple contents and object id\n",
        "print(first_tuple)\n",
        "print(type(first_tuple))\n",
        "print(id(first_tuple))"
      ],
      "metadata": {
        "id": "Bvniw39NlBtb"
      },
      "execution_count": null,
      "outputs": []
    },
    {
      "cell_type": "markdown",
      "source": [
        "Be careful, that our initial tuple is not the same as the final tuple despite the fact that both have the same name `my_tuple`. We can easily check this by noticing the difference in `id` values."
      ],
      "metadata": {
        "id": "TWcgB3U5l71K"
      }
    },
    {
      "cell_type": "markdown",
      "source": [
        "### Change tuple elements    \n",
        "\n",
        "If we try to update the value of an element in tuples we will get an error, because tuples are immutable data types, like below:"
      ],
      "metadata": {
        "id": "taCVSCG6l_-E"
      }
    },
    {
      "cell_type": "code",
      "source": [
        "print(second_tuple)"
      ],
      "metadata": {
        "id": "WnK69CmGmFyL"
      },
      "execution_count": null,
      "outputs": []
    },
    {
      "cell_type": "code",
      "source": [
        "second_tuple[0] = 'cat'"
      ],
      "metadata": {
        "id": "hbqD-GdWmMtU"
      },
      "execution_count": null,
      "outputs": []
    },
    {
      "cell_type": "markdown",
      "source": [
        "*Before we go further, let's create a `third_tuple` with the same element values.*      \n",
        "\n",
        "*We will use this later:*    "
      ],
      "metadata": {
        "id": "99aMeV6pnvg7"
      }
    },
    {
      "cell_type": "code",
      "source": [
        "third_tuple = second_tuple[:] "
      ],
      "metadata": {
        "id": "POCdjpEtn7r8"
      },
      "execution_count": null,
      "outputs": []
    },
    {
      "cell_type": "code",
      "source": [
        "print(third_tuple)\n",
        "print(type(third_tuple))"
      ],
      "metadata": {
        "id": "20MmJLPNzVgV"
      },
      "execution_count": null,
      "outputs": []
    },
    {
      "cell_type": "markdown",
      "source": [
        "*Why don't we just use the following statement to create the third tuple?*     \n",
        "\n",
        "```\n",
        "third_tuple = second_tuple \n",
        "```\n"
      ],
      "metadata": {
        "id": "E_XEyf-woCMD"
      }
    },
    {
      "cell_type": "markdown",
      "source": [
        "To update the value of an element in a tuple we will use the same trick as above.     \n",
        "\n",
        "1. First, convert our tuple into a list.     \n",
        "\n",
        "2. Then, we update the elements we want using the index.     \n",
        "\n",
        "3. Then, we convert our list into a tuple. Now our tuple has the updated values.     \n",
        "\n",
        "Let’s see the code below:"
      ],
      "metadata": {
        "id": "B8LQDOQemTVz"
      }
    },
    {
      "cell_type": "code",
      "source": [
        "# check the tuple contents and object id\n",
        "print(second_tuple)\n",
        "print(id(second_tuple))"
      ],
      "metadata": {
        "id": "zYvyZao7mo4o"
      },
      "execution_count": null,
      "outputs": []
    },
    {
      "cell_type": "code",
      "source": [
        "# step 1 - create a list from the tuple\n",
        "second_list = list(second_tuple)\n",
        "print(second_list)\n",
        "print(type(second_list))"
      ],
      "metadata": {
        "id": "1UZPwGQKmo4o"
      },
      "execution_count": null,
      "outputs": []
    },
    {
      "cell_type": "code",
      "source": [
        "# step 2 - replace a list member using index\n",
        "second_list[0] = 'cat'\n",
        "print(second_list)"
      ],
      "metadata": {
        "id": "87BctUpamo4p"
      },
      "execution_count": null,
      "outputs": []
    },
    {
      "cell_type": "code",
      "source": [
        "# step 3 - replace the tuple with a tuple of the new list\n",
        "second_tuple = tuple(second_list)"
      ],
      "metadata": {
        "id": "D28uTDCymo4p"
      },
      "execution_count": null,
      "outputs": []
    },
    {
      "cell_type": "code",
      "source": [
        "# check the tuple contents and object id\n",
        "print(second_tuple)\n",
        "print(type(second_tuple))\n",
        "print(id(second_tuple))"
      ],
      "metadata": {
        "id": "v3Lf8iUamo4q"
      },
      "execution_count": null,
      "outputs": []
    },
    {
      "cell_type": "markdown",
      "source": [
        "### Delete tuple elements    \n",
        "\n",
        "As you can guess, we cannot remove elements in a tuple. So we use the same trick as above and take advantage of the `.remove()` method of the list data type to remove element(s).     \n",
        "\n",
        "Let’s see the code below:"
      ],
      "metadata": {
        "id": "kHvSFZkEf_YK"
      }
    },
    {
      "cell_type": "code",
      "source": [
        "# check the tuple contents and object id\n",
        "print(third_tuple)\n",
        "print(id(third_tuple))"
      ],
      "metadata": {
        "id": "l1_H77qRojUs"
      },
      "execution_count": null,
      "outputs": []
    },
    {
      "cell_type": "code",
      "source": [
        "# step 1 - create a list from the tuple\n",
        "third_list = list(third_tuple)\n",
        "print(type(third_list))\n",
        "print(third_list)"
      ],
      "metadata": {
        "id": "-7vR_mv1ojUt"
      },
      "execution_count": null,
      "outputs": []
    },
    {
      "cell_type": "code",
      "source": [
        "# step 2 - remove from the new list\n",
        "third_list.remove(True)\n",
        "print(third_list)"
      ],
      "metadata": {
        "id": "ClinKMZ3ojUt"
      },
      "execution_count": null,
      "outputs": []
    },
    {
      "cell_type": "code",
      "source": [
        "# step 3 - replace the tuple with a tuple of the new list\n",
        "third_tuple = tuple(third_list)"
      ],
      "metadata": {
        "id": "iWhWj_eEojUt"
      },
      "execution_count": null,
      "outputs": []
    },
    {
      "cell_type": "code",
      "source": [
        "# check the tuple contents and object id\n",
        "print(third_tuple)\n",
        "print(type(third_tuple))\n",
        "print(id(third_tuple))"
      ],
      "metadata": {
        "id": "DYwhwhwpojUt"
      },
      "execution_count": null,
      "outputs": []
    },
    {
      "cell_type": "markdown",
      "source": [
        "## Loops in tuples    \n",
        "\n",
        "One of the most common actions in iterables like lists and tuples is the iteration. We have a couple of ways to look at the elements of a tuple. The most common is using a `for` loop.     \n",
        "\n",
        "The syntax of the loop is the following:\n",
        "```\n",
        "for element in my_tuple:\n",
        "   do something with the element\n",
        "```"
      ],
      "metadata": {
        "id": "jYEpPbZ4pHl9"
      }
    },
    {
      "cell_type": "code",
      "source": [
        "for element in first_tuple:\n",
        "    print(element)"
      ],
      "metadata": {
        "id": "drSt3mj1qToR"
      },
      "execution_count": null,
      "outputs": []
    },
    {
      "cell_type": "code",
      "source": [
        "for value in second_tuple:\n",
        "    print(value)"
      ],
      "metadata": {
        "id": "cQlOJSRCqph0"
      },
      "execution_count": null,
      "outputs": []
    },
    {
      "cell_type": "code",
      "source": [
        "for any_name_you_like in third_tuple:\n",
        "    print(any_name_you_like)"
      ],
      "metadata": {
        "id": "tlxheUvbqsg7"
      },
      "execution_count": null,
      "outputs": []
    },
    {
      "cell_type": "markdown",
      "source": [
        "As in lists, we can use the index number to iterate the elements of a tuple. To do this, we use the for loop with `len()` and `range()` functions.\n",
        "```\n",
        "for index in range(len(my_tuple)):\n",
        "   do something with my_tuple[index]\n",
        "```"
      ],
      "metadata": {
        "id": "9nCkfqpZq3L1"
      }
    },
    {
      "cell_type": "code",
      "source": [
        "for index in range(len(first_tuple)):\n",
        "    print('Index position: ', index, ' has value: ', first_tuple[index])"
      ],
      "metadata": {
        "id": "mBByZobtq9st"
      },
      "execution_count": null,
      "outputs": []
    },
    {
      "cell_type": "markdown",
      "source": [
        "##Tuple into a tuple    \n",
        "\n",
        "As mentioned earlier, in tuple we can store data of different types.   We can store a tuple into a tuple.      \n",
        "\n",
        "We can have access to inner tuple elements using the index of the inner tuple and the index of the specific element.      \n",
        "\n",
        "Let’s see the code below:"
      ],
      "metadata": {
        "id": "5X_ScmIrrSxG"
      }
    },
    {
      "cell_type": "code",
      "source": [
        "fourth_tuple = ('dog', 4.5, True, 7, 'apple', (10, 20, 30))\n",
        "print(fourth_tuple)\n",
        "print(type(fourth_tuple))"
      ],
      "metadata": {
        "id": "7wRqiItXrdre"
      },
      "execution_count": null,
      "outputs": []
    },
    {
      "cell_type": "code",
      "source": [
        "print(type(fourth_tuple[5]))"
      ],
      "metadata": {
        "id": "N_wPY3ME3GOC"
      },
      "execution_count": null,
      "outputs": []
    },
    {
      "cell_type": "code",
      "source": [
        "print(fourth_tuple[5])\n",
        "print(fourth_tuple[-1])"
      ],
      "metadata": {
        "id": "UU4R_wG93da4"
      },
      "execution_count": null,
      "outputs": []
    },
    {
      "cell_type": "code",
      "source": [
        "print(fourth_tuple[-1][0])"
      ],
      "metadata": {
        "id": "aKV3BEH6r2Ua"
      },
      "execution_count": null,
      "outputs": []
    },
    {
      "cell_type": "markdown",
      "source": [
        "*We should consider the position of nested iterables when using more than one index.*   "
      ],
      "metadata": {
        "id": "AXAa8E9XscIf"
      }
    },
    {
      "cell_type": "code",
      "source": [
        "print(fourth_tuple[1][0])"
      ],
      "metadata": {
        "id": "Do12WEIwsC2c"
      },
      "execution_count": null,
      "outputs": []
    },
    {
      "cell_type": "markdown",
      "source": [
        "## Unpacking Tuples    \n",
        "Whenever we create a tuple we “pack” elements into it. Python allows us to extract elements of a tuple and stores these elements into variables.     \n",
        "\n",
        "Let’s see an example below:    "
      ],
      "metadata": {
        "id": "zwjxPuChsoeG"
      }
    },
    {
      "cell_type": "code",
      "source": [
        "fifth_tuple = (12, 34, 2.1, 6, 24)   \n",
        "print(fifth_tuple)\n",
        "print(type(fifth_tuple))"
      ],
      "metadata": {
        "id": "esQaGYLjs1jR",
        "colab": {
          "base_uri": "https://localhost:8080/"
        },
        "outputId": "4bc84e51-cb7a-4481-b971-1a678852347a"
      },
      "execution_count": null,
      "outputs": [
        {
          "output_type": "stream",
          "name": "stdout",
          "text": [
            "(12, 34, 2.1, 6, 24)\n",
            "<class 'tuple'>\n"
          ]
        }
      ]
    },
    {
      "cell_type": "code",
      "source": [
        "first, second, third, fourth, fifth = fifth_tuple   \n",
        "\n",
        "print('Value of `first` is ', (first))\n",
        "print('Value of `second` is ', (second))\n",
        "print('Value of `third` is ', (third))\n",
        "print('Value of `fourth` is ', (fourth))\n",
        "print('Value of `fifth` is ', (fifth))\n",
        "print()\n",
        "print('Type of `first` is ', type(first))\n",
        "print('Type of `second` is ', type(second))\n",
        "print('Type of `third` is ', type(third))\n",
        "print('Type of `fourth` is ', type(fourth))\n",
        "print('Type of `fifth` is ', type(fifth))"
      ],
      "metadata": {
        "colab": {
          "base_uri": "https://localhost:8080/"
        },
        "id": "3LRGMNQu4Zqa",
        "outputId": "778121f5-bea2-428e-810e-2c32a8f1e39c"
      },
      "execution_count": null,
      "outputs": [
        {
          "output_type": "stream",
          "name": "stdout",
          "text": [
            "Value of `first` is  12\n",
            "Value of `second` is  34\n",
            "Value of `third` is  2.1\n",
            "Value of `fourth` is  6\n",
            "Value of `fifth` is  24\n",
            "\n",
            "Type of `first` is  <class 'int'>\n",
            "Type of `second` is  <class 'int'>\n",
            "Type of `third` is  <class 'float'>\n",
            "Type of `fourth` is  <class 'int'>\n",
            "Type of `fifth` is  <class 'int'>\n"
          ]
        }
      ]
    },
    {
      "cell_type": "markdown",
      "source": [
        "In the example above, we have a tuple of numbers and we extract those numbers in variables. Be careful that the number of elements in the tuple must be exactly the same as the number of variables, otherwise, we will get an error. In case we are interested in only some of the elements of the tuple, we can use the asterisk * syntax as above"
      ],
      "metadata": {
        "id": "U1pnqR2ptWKD"
      }
    },
    {
      "cell_type": "code",
      "source": [
        "primary, secondary, *something = fifth_tuple  \n",
        "\n",
        "print(primary, secondary, something)\n",
        "\n",
        "print('Type of `primary` is', type(primary))\n",
        "print('Type of `secondary` is', type(secondary))\n",
        "print('Type of `something` is', type(something))"
      ],
      "metadata": {
        "id": "KWywZi9HtetT",
        "colab": {
          "base_uri": "https://localhost:8080/"
        },
        "outputId": "147a1d7e-fc61-48dc-cae9-0a89083c657f"
      },
      "execution_count": null,
      "outputs": [
        {
          "output_type": "stream",
          "name": "stdout",
          "text": [
            "12 34 [2.1, 6, 24]\n",
            "Type of `primary` is <class 'int'>\n",
            "Type of `secondary` is <class 'int'>\n",
            "Type of `something` is <class 'list'>\n"
          ]
        }
      ]
    },
    {
      "cell_type": "markdown",
      "source": [
        "*Bear in mind that a variable which uses an asterisk to take values from a tuple will itself be a list.*    \n",
        "\n",
        "As we can notice, in the case above, Python returns a list that includes the rest of the elements of the tuple.     \n",
        "\n",
        "The following is another interesting, valid syntax:     \n"
      ],
      "metadata": {
        "id": "UD9bXY_4t95m"
      }
    },
    {
      "cell_type": "code",
      "source": [
        "alpha, *medio, omega = fifth_tuple\n",
        "\n",
        "print(alpha, medio, omega)\n",
        "\n",
        "print('Type of `alpha` is', type(alpha))\n",
        "print('Type of `medio` is', type(medio))\n",
        "print('Type of `omega` is', type(omega))"
      ],
      "metadata": {
        "id": "Jz9iqL5Kuhkz",
        "colab": {
          "base_uri": "https://localhost:8080/"
        },
        "outputId": "42083ccd-12c7-4870-e399-eb7172a4d4de"
      },
      "execution_count": null,
      "outputs": [
        {
          "output_type": "stream",
          "name": "stdout",
          "text": [
            "12 [34, 2.1, 6] 24\n",
            "Type of `alpha` is <class 'int'>\n",
            "Type of `medio` is <class 'list'>\n",
            "Type of `omega` is <class 'int'>\n"
          ]
        }
      ]
    },
    {
      "cell_type": "markdown",
      "source": [
        "##Tuple Methods    \n"
      ],
      "metadata": {
        "id": "sh7gGBaevDAr"
      }
    },
    {
      "cell_type": "markdown",
      "source": [
        "Let's create one more example tuple to demonstrate the two tuple methods:    \n",
        "1. `.count()`    \n",
        "2. `.index()`    "
      ],
      "metadata": {
        "id": "eEfaUPykv9mA"
      }
    },
    {
      "cell_type": "code",
      "source": [
        "sixth_tuple = (12, 34, 2, 6, 24, 34)"
      ],
      "metadata": {
        "id": "7RfJU7FJwKlo"
      },
      "execution_count": null,
      "outputs": []
    },
    {
      "cell_type": "markdown",
      "source": [
        "## `tuple.count()`     \n",
        "\n",
        "Returns the number of times the given value appears in a tuple.    "
      ],
      "metadata": {
        "id": "6CmCYd53vFiD"
      }
    },
    {
      "cell_type": "code",
      "source": [
        "print(sixth_tuple.count(34))"
      ],
      "metadata": {
        "colab": {
          "base_uri": "https://localhost:8080/"
        },
        "id": "c4R7yRULv4BX",
        "outputId": "290c41f4-d8d4-4543-bc19-bc9f47ec8757"
      },
      "execution_count": null,
      "outputs": [
        {
          "output_type": "stream",
          "name": "stdout",
          "text": [
            "2\n"
          ]
        }
      ]
    },
    {
      "cell_type": "markdown",
      "source": [
        "## `tuple.index()`     \n",
        "\n",
        "Returns the index of the first appearance of the given element. Be careful that if the given number doesn’t exist, it raises a *ValueError* exception.   "
      ],
      "metadata": {
        "id": "FE1sxy13veNG"
      }
    },
    {
      "cell_type": "code",
      "source": [
        "print(sixth_tuple.index(34))"
      ],
      "metadata": {
        "colab": {
          "base_uri": "https://localhost:8080/"
        },
        "id": "3kPgKwQVv4gv",
        "outputId": "0ce47d03-b206-4949-bd33-c163581a0e3d"
      },
      "execution_count": null,
      "outputs": [
        {
          "output_type": "stream",
          "name": "stdout",
          "text": [
            "1\n"
          ]
        }
      ]
    },
    {
      "cell_type": "code",
      "source": [
        "print(sixth_tuple.index(7))"
      ],
      "metadata": {
        "id": "UM3zLh5qwih6"
      },
      "execution_count": null,
      "outputs": []
    },
    {
      "cell_type": "markdown",
      "source": [
        "\n",
        "\n",
        "---\n",
        "\n"
      ],
      "metadata": {
        "id": "_0j6nFjpfTYx"
      }
    },
    {
      "cell_type": "markdown",
      "source": [
        "# **Tuples**\n",
        "**(from Py4E.com, lesson 11 - former lesson 10)**  "
      ],
      "metadata": {
        "id": "5ubA_kw2nLQk"
      }
    },
    {
      "cell_type": "markdown",
      "metadata": {
        "id": "s6iMChRAJ6Tj"
      },
      "source": [
        "## 11(10).1 Tuples are immutable"
      ]
    },
    {
      "cell_type": "code",
      "execution_count": null,
      "metadata": {
        "id": "rqS9n2t1J6Tk"
      },
      "outputs": [],
      "source": [
        "# Syntactically, a tuple is a comma-separated list of values:\n",
        "t = 'a', 'b', 'c', 'd', 'e'"
      ]
    },
    {
      "cell_type": "code",
      "source": [
        "print(type(t))"
      ],
      "metadata": {
        "id": "4KBd1ClRQVRK"
      },
      "execution_count": null,
      "outputs": []
    },
    {
      "cell_type": "code",
      "execution_count": null,
      "metadata": {
        "id": "p6I8X0X_J6Tl"
      },
      "outputs": [],
      "source": [
        "# enclose tuples in parentheses to identify easily\n",
        "t = ('a', 'b', 'c', 'd', 'e')"
      ]
    },
    {
      "cell_type": "code",
      "execution_count": null,
      "metadata": {
        "id": "7qt1Dgr-J6Tl"
      },
      "outputs": [],
      "source": [
        "# create a tuple with a single element\n",
        "t1 = ('a',)  # End a element by ','\n",
        "type(t1)"
      ]
    },
    {
      "cell_type": "code",
      "execution_count": null,
      "metadata": {
        "id": "8Ia5ZYrzJ6Tn"
      },
      "outputs": [],
      "source": [
        "t2 = ('a')\n",
        "type(t2)"
      ]
    },
    {
      "cell_type": "code",
      "source": [
        "t_not_3 = (1) * (2*3)\n",
        "type(t_not_3)"
      ],
      "metadata": {
        "id": "_71FGf5mQ0b1"
      },
      "execution_count": null,
      "outputs": []
    },
    {
      "cell_type": "code",
      "execution_count": null,
      "metadata": {
        "id": "nCkRvHJCJ6To"
      },
      "outputs": [],
      "source": [
        "# built-in function tuple\n",
        "t = tuple()\n",
        "print(t)"
      ]
    },
    {
      "cell_type": "code",
      "execution_count": null,
      "metadata": {
        "id": "1ihqmSs0J6To"
      },
      "outputs": [],
      "source": [
        "# built-in function tuple with string as argument\n",
        "t = tuple('lupins')\n",
        "# t_lst = list('lupins')\n",
        "print(t)\n",
        "# print(t_lst)"
      ]
    },
    {
      "cell_type": "code",
      "execution_count": null,
      "metadata": {
        "id": "jLKuxKe4J6Tp"
      },
      "outputs": [],
      "source": [
        "t = ('a', 'b', 'c', 'd', 'e')\n",
        "print(t[0]) # bracket operator indexes an element"
      ]
    },
    {
      "cell_type": "code",
      "execution_count": null,
      "metadata": {
        "id": "q9pLFkL4J6Tp"
      },
      "outputs": [],
      "source": [
        "print(t[1:3]) # slice operator selects a range of elements"
      ]
    },
    {
      "cell_type": "code",
      "execution_count": null,
      "metadata": {
        "id": "h5S2YNcLJ6Tp"
      },
      "outputs": [],
      "source": [
        "t[0] = 'A'"
      ]
    },
    {
      "cell_type": "code",
      "execution_count": null,
      "metadata": {
        "id": "S0-Qc4YPJ6Tq"
      },
      "outputs": [],
      "source": [
        "# can’t modify the elements of a tuple, but can replace one tuple with another\n",
        "t = ('A',) + t[1:]\n",
        "print(t)"
      ]
    },
    {
      "cell_type": "markdown",
      "metadata": {
        "id": "MhadYzFKJ6Tq"
      },
      "source": [
        "## 11(10).2 Comparing tuples"
      ]
    },
    {
      "cell_type": "code",
      "source": [
        "(0, 1, 2) == (0, 1, 2) # comparing with respective sequence elements"
      ],
      "metadata": {
        "id": "vIhK8DFwSQRO"
      },
      "execution_count": null,
      "outputs": []
    },
    {
      "cell_type": "code",
      "source": [
        "(0, 1, 2) >= (0, 1, 2) # comparing with respective sequence elements"
      ],
      "metadata": {
        "id": "9jdq5M-hSbNG"
      },
      "execution_count": null,
      "outputs": []
    },
    {
      "cell_type": "code",
      "execution_count": null,
      "metadata": {
        "id": "9BMY3cL6J6Tr"
      },
      "outputs": [],
      "source": [
        "(0, 1, 2) < (0, 3, 4) # comparing with respective sequence elements"
      ]
    },
    {
      "cell_type": "code",
      "execution_count": null,
      "metadata": {
        "id": "KWiLQEp3J6Tr"
      },
      "outputs": [],
      "source": [
        "(0, 1, 2000000) < (0, 3, 4)"
      ]
    },
    {
      "cell_type": "code",
      "execution_count": null,
      "metadata": {
        "id": "-5LUOyYMJ6Tr"
      },
      "outputs": [],
      "source": [
        "# you have a list of words and you want to sort them from longest to shortest:\n",
        "txt = 'but soft what light in yonder window breaks'\n",
        "words = txt.split()\n",
        "t = list()\n",
        "for word in words:\n",
        "    t.append((len(word), word))\n",
        "\n",
        "t.sort(reverse=True)\n",
        "\n",
        "res = list()\n",
        "for length, word in t:\n",
        "    res.append(word)\n",
        "\n",
        "print(res)"
      ]
    },
    {
      "cell_type": "markdown",
      "metadata": {
        "id": "7knbylylJ6Ts"
      },
      "source": [
        "## 11(10).3 Tuple assignment"
      ]
    },
    {
      "cell_type": "code",
      "execution_count": null,
      "metadata": {
        "id": "2_UiYfAcJ6Ts"
      },
      "outputs": [],
      "source": [
        "# 1st Way\n",
        "\n",
        "# unique syntactic features of the Python language is the ability to have a tuple on the left side of an assignment statement.\n",
        "m = [ 'have', 'fun' ] # create an iterable list of strings \n",
        "x, y = m              # assiging iterable elements to individual variables"
      ]
    },
    {
      "cell_type": "code",
      "execution_count": null,
      "metadata": {
        "id": "Hfp5SdHMJ6Ts"
      },
      "outputs": [],
      "source": [
        "x"
      ]
    },
    {
      "cell_type": "code",
      "execution_count": null,
      "metadata": {
        "id": "henhLmppJ6Tt"
      },
      "outputs": [],
      "source": [
        "y"
      ]
    },
    {
      "cell_type": "code",
      "execution_count": null,
      "metadata": {
        "id": "1Z8HCjlDJ6Tt"
      },
      "outputs": [],
      "source": [
        "# 2nd Way\n",
        "\n",
        "m = [ 'have', 'fun' ]\n",
        "x = m[0]\n",
        "y = m[1]"
      ]
    },
    {
      "cell_type": "code",
      "execution_count": null,
      "metadata": {
        "id": "0qklmeWYJ6Tt"
      },
      "outputs": [],
      "source": [
        "x"
      ]
    },
    {
      "cell_type": "code",
      "execution_count": null,
      "metadata": {
        "id": "mgjex7blJ6Tt"
      },
      "outputs": [],
      "source": [
        "y"
      ]
    },
    {
      "cell_type": "code",
      "execution_count": null,
      "metadata": {
        "id": "y_YR36psJ6Tu"
      },
      "outputs": [],
      "source": [
        "# 3rd Way\n",
        "\n",
        "m = [ 'have', 'fun' ]   # create an iterable list of strings\n",
        "(x, y) = m              # assiging iterable elements to tuple elements"
      ]
    },
    {
      "cell_type": "code",
      "execution_count": null,
      "metadata": {
        "id": "prqhof7KJ6Tu"
      },
      "outputs": [],
      "source": [
        "x"
      ]
    },
    {
      "cell_type": "code",
      "execution_count": null,
      "metadata": {
        "id": "mYU3ZnEJJ6Tu"
      },
      "outputs": [],
      "source": [
        "y"
      ]
    },
    {
      "cell_type": "code",
      "execution_count": null,
      "metadata": {
        "id": "qinj0E3NJ6Tu"
      },
      "outputs": [],
      "source": [
        "# application of tuple assignment allows us to swap the values of two variables in a single statement\n",
        "print(x, y)\n",
        "x, y = y, x"
      ]
    },
    {
      "cell_type": "code",
      "source": [
        "print(x, y)"
      ],
      "metadata": {
        "id": "nSWPl3eQVbIg"
      },
      "execution_count": null,
      "outputs": []
    },
    {
      "cell_type": "code",
      "execution_count": null,
      "metadata": {
        "id": "ODhFqFUdJ6Tv"
      },
      "outputs": [],
      "source": [
        "a, b = 1, 2, 3\n",
        "# *a, b = 1, 2, 3   # remember that wildcards can help in this situation\n",
        "# a, *b = 1, 2, 3   # remember that wildcards can help in this situation"
      ]
    },
    {
      "cell_type": "code",
      "source": [
        "print('`a` is ', a)\n",
        "print('`b` is ', b)\n",
        "\n",
        "print('type of `a` is ', type(a))\n",
        "print('type of `b` is ', type(b))"
      ],
      "metadata": {
        "id": "M91eO9PkV6jp"
      },
      "execution_count": null,
      "outputs": []
    },
    {
      "cell_type": "code",
      "execution_count": null,
      "metadata": {
        "id": "BzSagz3EJ6Tv"
      },
      "outputs": [],
      "source": [
        "addr = 'monty@python.org'\n",
        "uname, domain = addr.split('@')"
      ]
    },
    {
      "cell_type": "code",
      "execution_count": null,
      "metadata": {
        "id": "n8V98zcDJ6Tv"
      },
      "outputs": [],
      "source": [
        "print(uname)\n",
        "print(type(uname))"
      ]
    },
    {
      "cell_type": "code",
      "execution_count": null,
      "metadata": {
        "id": "qYvM01m3J6Tv"
      },
      "outputs": [],
      "source": [
        "print(domain)\n",
        "print(type(domain))"
      ]
    },
    {
      "cell_type": "markdown",
      "metadata": {
        "id": "dIulHEFhJ6Tv"
      },
      "source": [
        "## 11(10).4 Dictionaries and tuples"
      ]
    },
    {
      "cell_type": "code",
      "execution_count": null,
      "metadata": {
        "id": "QaJm67LTJ6Tw"
      },
      "outputs": [],
      "source": [
        "# d = {'a':10, 'b':1, 'c':22}       # original Charles Severance code\n",
        "d = {'z':12, 'c':22, 'b':1, 'a':10} # original Charles Severance code\n",
        "t = list(d.items())                 # items() method returns a tuple \n",
        "print(t)\n",
        "print(type(t))\n",
        "# Here each tuple is a key-value pair:"
      ]
    },
    {
      "cell_type": "code",
      "execution_count": null,
      "metadata": {
        "id": "VhVWRl0cJ6Tw"
      },
      "outputs": [],
      "source": [
        "t"
      ]
    },
    {
      "cell_type": "code",
      "execution_count": null,
      "metadata": {
        "id": "ZhYt-PSIJ6Tw"
      },
      "outputs": [],
      "source": [
        "t.sort()"
      ]
    },
    {
      "cell_type": "code",
      "execution_count": null,
      "metadata": {
        "id": "TnBb8dFIJ6Tw"
      },
      "outputs": [],
      "source": [
        "t"
      ]
    },
    {
      "cell_type": "markdown",
      "metadata": {
        "id": "zaz8LNv1J6Tw"
      },
      "source": [
        "## 11(10).5 Multiple assignment with dictionaries"
      ]
    },
    {
      "cell_type": "code",
      "execution_count": null,
      "metadata": {
        "id": "IVexHkxbJ6Tx"
      },
      "outputs": [],
      "source": [
        "for key, val in list(d.items()):\n",
        "    print(val, key)"
      ]
    },
    {
      "cell_type": "code",
      "execution_count": null,
      "metadata": {
        "id": "e05yGXlsJ6Tx"
      },
      "outputs": [],
      "source": [
        "# d = {'a':10, 'b':1, 'c':22}       # original Charles Severance code\n",
        "d = {'z':12, 'c':22, 'b':1, 'a':10} # original Charles Severance code\n",
        "l = list()\n",
        "for key, val in d.items() :\n",
        "    l.append( (val, key) )"
      ]
    },
    {
      "cell_type": "code",
      "execution_count": null,
      "metadata": {
        "id": "0NzSUCsdJ6Tx"
      },
      "outputs": [],
      "source": [
        "l"
      ]
    },
    {
      "cell_type": "code",
      "execution_count": null,
      "metadata": {
        "id": "9oQ_6bDKJ6Tx"
      },
      "outputs": [],
      "source": [
        "l.sort(reverse=True)\n",
        "l"
      ]
    },
    {
      "cell_type": "markdown",
      "metadata": {
        "id": "FBwZ6JgsJ6Tx"
      },
      "source": [
        "## 11(10).6 The most common words"
      ]
    },
    {
      "cell_type": "markdown",
      "source": [
        "**Upload the Py4E exercise file \"romeo-full.txt\" to your Colab content area.**     \n",
        "\n",
        "**You can find the file here: [romeo-full.txt](https://bit.ly/romeo-full)**"
      ],
      "metadata": {
        "id": "X7eiJ38snxtG"
      }
    },
    {
      "cell_type": "code",
      "execution_count": null,
      "metadata": {
        "id": "onwclN96J6Tx"
      },
      "outputs": [],
      "source": [
        "import string\n",
        "fhand = open('romeo-full.txt')\n",
        "counts = dict()\n",
        "for line in fhand:\n",
        "    line = line.translate(str.maketrans('', '', string.punctuation))\n",
        "    line = line.lower()\n",
        "    words = line.split()\n",
        "    for word in words:\n",
        "        if word not in counts:\n",
        "            counts[word] = 1\n",
        "        else:\n",
        "            counts[word] += 1\n",
        "\n",
        "# Sort the dictionary by value\n",
        "lst = list()\n",
        "for key, val in list(counts.items()):\n",
        "    lst.append((val, key))\n",
        "\n",
        "lst.sort(reverse=True)\n",
        "\n",
        "print('Word', 'Frequency')\n",
        "print('----', '---------')\n",
        "for key, val in lst[:20]:\n",
        "    print(key, val)"
      ]
    },
    {
      "cell_type": "markdown",
      "source": [
        "\n",
        "\n",
        "---\n",
        "\n"
      ],
      "metadata": {
        "id": "kj8srYVjniU9"
      }
    },
    {
      "cell_type": "markdown",
      "metadata": {
        "id": "83QzM0f_ftUF"
      },
      "source": [
        "# **Advanced text parsing**"
      ]
    },
    {
      "cell_type": "markdown",
      "metadata": {
        "id": "IbmMNPxOfxji"
      },
      "source": [
        "In the above example using the file **romeo.txt**, we made the file as simple as possible by removing all punctuation by hand. The actual text has lots of punctuation, as shown below."
      ]
    },
    {
      "cell_type": "markdown",
      "metadata": {
        "id": "AGrPCtKKgH63"
      },
      "source": [
        "```\n",
        "But, soft! what light through yonder window breaks?\n",
        "\n",
        "It is the east, and Juliet is the sun.\n",
        "\n",
        "Arise, fair sun, and kill the envious moon,\n",
        "\n",
        "Who is already sick and pale with grief,\n",
        "```"
      ]
    },
    {
      "cell_type": "markdown",
      "metadata": {
        "id": "CphdajwtgXtH"
      },
      "source": [
        "Since the Python `.split()` function looks for spaces and treats words as tokens separated by spaces, we would treat the words “soft!” and “soft” as different words and create a separate dictionary entry for each word.\n",
        "\n",
        "Also since the file has capitalization, we would treat “who” and “Who” as different words with different counts.\n",
        "\n",
        "We can solve both these problems by using the string methods `.lower()`, `.punctuation()`, and `.translate()`. The `.translate()` is the most subtle of the methods. "
      ]
    },
    {
      "cell_type": "code",
      "metadata": {
        "id": "WfRetBNYgZTg"
      },
      "source": [
        "# line.translate(str.maketrans(from_str, to_str, delete_str))"
      ],
      "execution_count": null,
      "outputs": []
    },
    {
      "cell_type": "markdown",
      "metadata": {
        "id": "hj82lF52gu7j"
      },
      "source": [
        "Replace the characters in `from_str` with the character in the same position in `to_str` and delete all characters that are in `delete_str`. The `from_str` and `to_str` can be empty strings and the `delete_str` parameter can be omitted.\n",
        "\n",
        "We will not specify the `to_str` but we will use the `delete_str` parameter to delete all of the punctuation. We will even let Python tell us the list of characters that it considers “punctuation”:"
      ]
    },
    {
      "cell_type": "code",
      "metadata": {
        "id": "kzKVojVkgEqp"
      },
      "source": [
        "import string\n",
        "string.punctuation"
      ],
      "execution_count": null,
      "outputs": []
    },
    {
      "cell_type": "markdown",
      "metadata": {
        "id": "JNzDLQ0Yg-BH"
      },
      "source": [
        "The parameters used by translate were different in Python 2.0.\n",
        "\n",
        "We make the following modifications to our program:"
      ]
    },
    {
      "cell_type": "code",
      "metadata": {
        "id": "_9-0l3TIg_e0"
      },
      "source": [
        "import string\n",
        "\n",
        "fname = input('Enter the file name: ')\n",
        "try:\n",
        "    fhand = open(fname)\n",
        "except:\n",
        "    print('File cannot be opened:', fname)\n",
        "    exit()\n",
        "\n",
        "counts = dict()\n",
        "for line in fhand:\n",
        "    line = line.rstrip()\n",
        "    line = line.translate(line.maketrans('', '', string.punctuation))\n",
        "    line = line.lower()\n",
        "    words = line.split()\n",
        "    for word in words:\n",
        "        if word not in counts:\n",
        "            counts[word] = 1\n",
        "        else:\n",
        "            counts[word] += 1\n",
        "\n",
        "print(counts)\n",
        "\n",
        "# Code: http://www.py4e.com/code3/count2.py"
      ],
      "execution_count": null,
      "outputs": []
    },
    {
      "cell_type": "markdown",
      "metadata": {
        "id": "rSbT9MRpZFKH"
      },
      "source": [
        "Part of learning the “Art of Python” or “Thinking Pythonically” is realizing that Python often has built-in capabilities for many common data analysis problems. Over time, you will see enough example code and read enough of the documentation to know where to look to see if someone has already written something that makes your job much easier."
      ]
    },
    {
      "cell_type": "markdown",
      "source": [
        "\n",
        "\n",
        "---\n",
        "\n"
      ],
      "metadata": {
        "id": "3xigPQhNJNyU"
      }
    },
    {
      "cell_type": "markdown",
      "source": [
        "# **EXERCISE: Tuple vs. Dictionary**    \n",
        "\n",
        "Based on what we have learned about dictionaries and tuples use a comma-separated values listing of the following fields based on 2020 data for U.S.A. states:      \n",
        "    \n",
        "  - ST -state abbreviation    \n",
        "  - State - state name    \n",
        "  - GDP - Gross Domestic Product ($ millions)     \n",
        "  - UnemploymentRate - unemployment rate \n",
        "\n",
        "Produce the following two objects and code which prompts a user for a state abbreviation then displays the GDP and UnemploymentRate for the state abbreviation provided:\n",
        "    \n",
        "    1. Using a list of tuples \n",
        "    2. Using a dictionary    \n",
        "    \n",
        "When displaying the selected GDP and UnemploymentRate, provide a label for each value to describe it. \n",
        "\n"
      ],
      "metadata": {
        "id": "AMeEXl4jEc4X"
      }
    },
    {
      "cell_type": "markdown",
      "source": [
        "If you prefer to work with the source data as a `.CSV` file, execute the following statement to read  `ST_GDP_UnemploymentRate_2020.csv`."
      ],
      "metadata": {
        "id": "nuwkMB_hF-xR"
      }
    },
    {
      "cell_type": "code",
      "source": [
        "!curl \"https://raw.githubusercontent.com/ProfessorPatrickSlatraigh/data/main/ST-GDP-UnemploymentRate_2020.csv\" -o ST_GDP_UnemploymentRate_2020.csv"
      ],
      "metadata": {
        "id": "oSG-u2AeGX2d"
      },
      "execution_count": null,
      "outputs": []
    },
    {
      "cell_type": "markdown",
      "source": [
        "If you prefer to copy the date as text to use in a docstring in your code then copy the following data:     \n",
        "    \n",
        "    \n",
        "```\n",
        "ST,State,GDP,UnemploymentRate   \n",
        "AL,Alabama,201848,5.8\n",
        "AK,Alaska,45395,7.8\n",
        "AZ,Arizona,347806,6.7\n",
        "AR,Arkansas,124302,7.3\n",
        "CA,California,3200908,9.0\n",
        "CO,Colorado,324940,6.2\n",
        "CT,Connecticut,276149,8.3\n",
        "DE,Delaware,74586,7.9\n",
        "FL,Florida,1121426,7.6\n",
        "GA,Georgia,562209,6.1\n",
        "HI,Hawaii,57113,13.9\n",
        "ID,Idaho,75331,4.8\n",
        "IL,Illinois,848227,9.3\n",
        "IN,Indiana,363713,5.9\n",
        "IA,Iowa,191257,3.8\n",
        "KS,Kansas,150676,5.2\n",
        "KY,Kentucky,196054,6.6\n",
        "LA,Louisiana,232224,8.1\n",
        "ME,Maine,60755,6.0\n",
        "MD,Maryland,417343,7.8\n",
        "MA,Massachusetts,596741,8.2\n",
        "MI,Michigan,504820,9.4\n",
        "MN,Minnesota,358502,4.1\n",
        "MS,Mississippi,105360,8.5\n",
        "MO,Missouri,293993,5.1\n",
        "MT,Montana,56696,5.5\n",
        "NE,Nebraska,132657,3.2\n",
        "NV,Nevada,173615,11.6\n",
        "NH,New Hampshire,83726,5.5\n",
        "NJ,New Jersey,585005,9.6\n",
        "NM,New Mexico,80538,8.4\n",
        "NY,New York,1547168,10.6\n",
        "NC,North Carolina,567716,7.1\n",
        "ND,North Dakota,57775,4.0\n",
        "OH,Ohio,616198,8.1\n",
        "OK,Oklahoma,177394,5.3\n",
        "OR,Oregon,242068,7.6\n",
        "PA,Pennsylvania,735193,8.1\n",
        "RI,Rhode Island,61176,9.0\n",
        "SC,South Carolina,221441,6.2\n",
        "SD,South Dakota,56150,3.0\n",
        "TN,Tennessee,368217,7.3\n",
        "TX,Texas,1758694,7.3\n",
        "UT,Utah,170174,4.0\n",
        "VT,Vermont,33752,4.1\n",
        "VA,Virginia,544956,6.0\n",
        "WA,Washington,624641,7.4\n",
        "WV,West Virginia,56703,8.1\n",
        "WI,Wisconsin,309506,5.5\n",
        "WY,Wyoming,38969,7.4    \n",
        "```\n",
        "\n"
      ],
      "metadata": {
        "id": "TSsO547mGl4J"
      }
    },
    {
      "cell_type": "code",
      "source": [
        "# provide your code using a list of tuples here    \n"
      ],
      "metadata": {
        "id": "xtQ9_UlOF10n"
      },
      "execution_count": null,
      "outputs": []
    },
    {
      "cell_type": "code",
      "source": [
        "# provide your code using a dictionary here    \n",
        " "
      ],
      "metadata": {
        "id": "olk6ibAjF63r"
      },
      "execution_count": null,
      "outputs": []
    },
    {
      "cell_type": "markdown",
      "source": [
        "\n",
        "\n",
        "---\n",
        "\n"
      ],
      "metadata": {
        "id": "art-YS4soGbv"
      }
    },
    {
      "cell_type": "markdown",
      "metadata": {
        "id": "Me7uOgaXhPvi"
      },
      "source": [
        "# **Debugging**"
      ]
    },
    {
      "cell_type": "markdown",
      "metadata": {
        "id": "Vh0x2zJDh--8"
      },
      "source": [
        "As you work with bigger datasets it can become unwieldy to debug by printing and checking data by hand. Here are some suggestions for debugging large datasets:\n",
        "\n",
        "**Scale down the input**\n",
        "If possible, reduce the size of the dataset. For example if the program reads a text file, start with just the first 10 lines, or with the smallest example you can find. You can either edit the files themselves, or (better) modify the program so it reads only the first n lines.\n",
        "\n",
        "If there is an error, you can reduce n to the smallest value that manifests the error, and then increase it gradually as you find and correct errors.\n",
        "\n",
        "**Check summaries and types**\n",
        "Instead of printing and checking the entire dataset, consider printing summaries of the data: for example, the number of items in a dictionary or the total of a list of numbers.\n",
        "\n",
        "A common cause of runtime errors is a value that is not the right type. For debugging this kind of error, it is often enough to print the type of a value.\n",
        "\n",
        "**Write self-checks**\n",
        "Sometimes you can write code to check for errors automatically. For example, if you are computing the average of a list of numbers, you could check that the result is not greater than the largest element in the list or less than the smallest. This is called a “sanity check” because it detects results that are “completely illogical”.\n",
        "\n",
        "Another kind of check compares the results of two different computations to see if they are consistent. This is called a “consistency check”.\n",
        "\n",
        "**Pretty print the output**\n",
        "Formatting debugging output can make it easier to spot an error.\n",
        "Again, time you spend building scaffolding can reduce the time you spend debugging."
      ]
    },
    {
      "cell_type": "markdown",
      "source": [
        "\n",
        "---\n"
      ],
      "metadata": {
        "id": "kIHnU7IUit9u"
      }
    }
  ]
}