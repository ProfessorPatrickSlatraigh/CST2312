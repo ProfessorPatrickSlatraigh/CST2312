{
  "nbformat": 4,
  "nbformat_minor": 0,
  "metadata": {
    "colab": {
      "provenance": [],
      "authorship_tag": "ABX9TyNq86xa8Sw7mrlkzjiHZsRo",
      "include_colab_link": true
    },
    "kernelspec": {
      "name": "python3",
      "display_name": "Python 3"
    },
    "language_info": {
      "name": "python"
    }
  },
  "cells": [
    {
      "cell_type": "markdown",
      "metadata": {
        "id": "view-in-github",
        "colab_type": "text"
      },
      "source": [
        "<a href=\"https://colab.research.google.com/github/ProfessorPatrickSlatraigh/CST2312/blob/main/CST2312_HD32_Spr2023_Class_11_06_Mar_2023.ipynb\" target=\"_parent\"><img src=\"https://colab.research.google.com/assets/colab-badge.svg\" alt=\"Open In Colab\"/></a>"
      ]
    },
    {
      "cell_type": "markdown",
      "source": [
        "# CST2312 Class #11 - Next Level Python\n",
        "\n",
        "from [16 Python Tricks To Learn Before You Write Your Next Code:](https://medium.com/codex/16-python-tricks-to-learn-before-you-write-your-next-code-bb91dd955f1b)     \n",
        "Tricks that will make your life easier as a python developer    \n",
        "*by Anmol Tomar in Medium.com, Feb-2022*     "
      ],
      "metadata": {
        "id": "nDArSZ5fVLsE"
      }
    },
    {
      "cell_type": "markdown",
      "source": [
        "## Introduction    \n",
        "    \n",
        "Python is a versatile and widely-used programming language with a vast array of libraries and frameworks. However, there are some lesser-known Python coding tricks and libraries that can make your life as a developer easier and your code more efficient.    "
      ],
      "metadata": {
        "id": "6FE0T9-IWwj3"
      }
    },
    {
      "cell_type": "markdown",
      "source": [
        "## Ternary operator\n",
        "The ternary operator is a shorthand for an if-else statement. The syntax is ´value_if_true if condition else value_if_false´. It's a one-liner that can replace a multi-line if-else statement, making your code more concise.    "
      ],
      "metadata": {
        "id": "JO0ffouQW6v_"
      }
    },
    {
      "cell_type": "code",
      "execution_count": null,
      "metadata": {
        "id": "VaYPM60zUkjC"
      },
      "outputs": [],
      "source": [
        "a = 5 \n",
        "b = 10 \n",
        "max = a if a > b else b  ## value_if_true if condition else value_if_false\n",
        "\n",
        "print(max)"
      ]
    },
    {
      "cell_type": "markdown",
      "source": [
        "## Enumerate function\n",
        "The enumerate() function adds a counter to an iterable and returns it in a form of enumerate object. This function is useful when you want to iterate over a list and also keep track of the index.    "
      ],
      "metadata": {
        "id": "9ebAoarVYr6S"
      }
    },
    {
      "cell_type": "code",
      "source": [
        "fruits = ['apple', 'banana', 'mango'] \n",
        "for index, fruit in enumerate(fruits): \n",
        "    print(index, fruit)"
      ],
      "metadata": {
        "id": "3A772brAY8hM"
      },
      "execution_count": null,
      "outputs": []
    },
    {
      "cell_type": "markdown",
      "source": [
        "## Zip function    \n",
        "The zip() function aggregates elements from each of the iterables and returns an iterator of tuples. This function is useful when you want to iterate over two or more lists simultaneously.    "
      ],
      "metadata": {
        "id": "sl11e97PZD1k"
      }
    },
    {
      "cell_type": "code",
      "source": [
        "list1 = [1, 2, 3] \n",
        "list2 = ['a', 'b', 'c'] \n",
        "for x, y in zip(list1, list2):\n",
        "    print(x, y)"
      ],
      "metadata": {
        "id": "2rPIo89aZN8F"
      },
      "execution_count": null,
      "outputs": []
    },
    {
      "cell_type": "markdown",
      "source": [
        "## List comprehensions   \n",
        "List comprehensions are a concise way to create a list from an existing list or any iterable. It’s a one-liner that can replace a for loop, making your code more efficient and readable.    "
      ],
      "metadata": {
        "id": "VImwt93fZP71"
      }
    },
    {
      "cell_type": "code",
      "source": [
        "squared_numbers = [x**2 for x in range(1, 6)]\n",
        "\n",
        "print(squared_numbers)"
      ],
      "metadata": {
        "id": "nm9hdVHQZWOH"
      },
      "execution_count": null,
      "outputs": []
    }
  ]
}