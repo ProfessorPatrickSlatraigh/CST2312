{
  "nbformat": 4,
  "nbformat_minor": 0,
  "metadata": {
    "colab": {
      "provenance": [],
      "authorship_tag": "ABX9TyNuOpLFiZYcuaM+5NjaA3Wr",
      "include_colab_link": true
    },
    "kernelspec": {
      "name": "python3",
      "display_name": "Python 3"
    },
    "language_info": {
      "name": "python"
    }
  },
  "cells": [
    {
      "cell_type": "markdown",
      "metadata": {
        "id": "view-in-github",
        "colab_type": "text"
      },
      "source": [
        "<a href=\"https://colab.research.google.com/github/ProfessorPatrickSlatraigh/CST2312/blob/main/CST2312_HD32_Spr2023_Class_11_06_Mar_2023.ipynb\" target=\"_parent\"><img src=\"https://colab.research.google.com/assets/colab-badge.svg\" alt=\"Open In Colab\"/></a>"
      ]
    },
    {
      "cell_type": "markdown",
      "source": [
        "# CST2312 Class #11 - Next Level Python\n",
        "\n",
        "from [16 Python Tricks To Learn Before You Write Your Next Code:](https://medium.com/codex/16-python-tricks-to-learn-before-you-write-your-next-code-bb91dd955f1b)     \n",
        "Tricks that will make your life easier as a python developer    \n",
        "*by Anmol Tomar in Medium.com, Feb-2022*     "
      ],
      "metadata": {
        "id": "nDArSZ5fVLsE"
      }
    },
    {
      "cell_type": "markdown",
      "source": [
        "## Introduction    \n",
        "    \n",
        "Python is a versatile and widely-used programming language with a vast array of libraries and frameworks. However, there are some lesser-known Python coding tricks and libraries that can make your life as a developer easier and your code more efficient.    "
      ],
      "metadata": {
        "id": "6FE0T9-IWwj3"
      }
    },
    {
      "cell_type": "markdown",
      "source": [
        "##1. Ternary operator\n",
        "The ternary operator is a shorthand for an if-else statement. The syntax is ´value_if_true if condition else value_if_false´. It's a one-liner that can replace a multi-line if-else statement, making your code more concise.    "
      ],
      "metadata": {
        "id": "JO0ffouQW6v_"
      }
    },
    {
      "cell_type": "code",
      "execution_count": null,
      "metadata": {
        "id": "VaYPM60zUkjC"
      },
      "outputs": [],
      "source": [
        "a = 5 \n",
        "b = 10 \n",
        "max = a if a > b else b  ## value_if_true if condition else value_if_false\n",
        "\n",
        "print(max)"
      ]
    },
    {
      "cell_type": "markdown",
      "source": [
        "How could we write a comparable script using and`if-else` construct?      "
      ],
      "metadata": {
        "id": "wJJYmzFjS9Kl"
      }
    },
    {
      "cell_type": "code",
      "source": [
        "a = 5\n",
        "b = 10 \n",
        "\n",
        "if a > b: \n",
        "    max = a\n",
        "else:\n",
        "    max = b\n",
        "\n",
        "print(max) "
      ],
      "metadata": {
        "id": "ZT-yZeZ_TF1l"
      },
      "execution_count": null,
      "outputs": []
    },
    {
      "cell_type": "markdown",
      "source": [
        "##2. `enumerate()` function\n",
        "The `enumerate()` function adds a counter to an iterable and returns it in a form of enumerate object. This function is useful when you want to iterate over a list and also keep track of the index.    "
      ],
      "metadata": {
        "id": "9ebAoarVYr6S"
      }
    },
    {
      "cell_type": "code",
      "source": [
        "fruits = ['apple', 'banana', 'mango'] \n",
        "for index, fruit in enumerate(fruits): \n",
        "    print(index, fruit)"
      ],
      "metadata": {
        "id": "3A772brAY8hM"
      },
      "execution_count": null,
      "outputs": []
    },
    {
      "cell_type": "markdown",
      "source": [
        "How could we write a comparable script if we did not use the `enumerate()` function?    "
      ],
      "metadata": {
        "id": "j88qXc_1KqQN"
      }
    },
    {
      "cell_type": "code",
      "source": [
        "fruits = ['apple', 'banana', 'mango'] \n",
        "index = 0\n",
        "for fruit in fruits:\n",
        "    print(index, fruit)\n",
        "    index += 1 "
      ],
      "metadata": {
        "id": "IZ6Q2WRZK0lG"
      },
      "execution_count": null,
      "outputs": []
    },
    {
      "cell_type": "markdown",
      "source": [
        "Another way to do that would be:    "
      ],
      "metadata": {
        "id": "1jfzml7VSWW_"
      }
    },
    {
      "cell_type": "code",
      "source": [
        "fruits = ['apple', 'banana', 'mango'] \n",
        "index = 0\n",
        "for fruit in fruits:\n",
        "    print(index, fruits[index])\n",
        "    index += 1 "
      ],
      "metadata": {
        "id": "o-_s35psSalA"
      },
      "execution_count": null,
      "outputs": []
    },
    {
      "cell_type": "markdown",
      "source": [
        "Or, alternatively:    "
      ],
      "metadata": {
        "id": "mDKpO6OHSh54"
      }
    },
    {
      "cell_type": "code",
      "source": [
        "fruits = ['apple', 'banana', 'mango'] \n",
        "\n",
        "for index in range(len(fruits)):\n",
        "    print(index, fruits[index])"
      ],
      "metadata": {
        "id": "UjeMvJelSlWp"
      },
      "execution_count": null,
      "outputs": []
    },
    {
      "cell_type": "markdown",
      "source": [
        "##3. `zip()` function    \n",
        "The zip() function aggregates elements from each of the iterables and returns an iterator of tuples. This function is useful when you want to iterate over two or more lists simultaneously.    "
      ],
      "metadata": {
        "id": "sl11e97PZD1k"
      }
    },
    {
      "cell_type": "code",
      "source": [
        "list1 = [1, 2, 3] \n",
        "list2 = ['a', 'b', 'c'] \n",
        "for x, y in zip(list1, list2):\n",
        "    print(x, y)"
      ],
      "metadata": {
        "id": "2rPIo89aZN8F"
      },
      "execution_count": null,
      "outputs": []
    },
    {
      "cell_type": "markdown",
      "source": [
        "How could we write a comparable script to produce a list of two-element **tuples** from two lists of **values**?    "
      ],
      "metadata": {
        "id": "6iJBxeBKJGa7"
      }
    },
    {
      "cell_type": "code",
      "source": [
        "list1 = [1, 2, 3] \n",
        "list2 = ['a', 'b', 'c'] \n",
        "list3 = []\n",
        "if len(list1) == len(list2):\n",
        "    for i in range(len(list1)):\n",
        "        # list3.append((list1[i], list2[i]))   # include for a list of tuples\n",
        "        print(list1[i], list2[i])              # replace with next line if you want to\n",
        "    # print(list3)                             # include to print the new list\n",
        "else:\n",
        "    print('This will not work with different length lists')\n"
      ],
      "metadata": {
        "id": "uxLQV3GKJR0S"
      },
      "execution_count": null,
      "outputs": []
    },
    {
      "cell_type": "markdown",
      "source": [
        "What about a script that uses `zip()` to combine the **ISO 3166** country codes with the names of the countries in Latin America?    "
      ],
      "metadata": {
        "id": "gTKhJh8JWBl2"
      }
    },
    {
      "cell_type": "code",
      "source": [
        "country_name = ['Argentina', 'Bolivia', 'Brazil', 'Chile', 'Colombia', 'Costa Rica', 'Cuba', 'Dominican Republic', 'Ecuador', 'El Salvador', 'Guatemala', 'Haiti', 'Honduras', 'Jamaica', 'Mexico', 'Nicaragua', 'Panama', 'Paraguay', 'Peru', 'Puerto Rico', 'Trinidad and Tobago', 'Uruguay', 'Venezuela']\n",
        "country_iso = ['ARG', 'BOL', 'BRA', 'CHL', 'COL', 'CRI', 'CUB', 'DOM', 'ECU', 'SLV', 'GTM', 'HTI', 'HND', 'JAM', 'MEX', 'NIC', 'PAN', 'PRY', 'PER', 'PRI', 'TTO', 'URY', 'VEN']\n",
        "\n",
        "for name, iso in zip(country_name, country_iso):\n",
        "    print(name, iso)"
      ],
      "metadata": {
        "id": "showei9tWPRU"
      },
      "execution_count": null,
      "outputs": []
    },
    {
      "cell_type": "markdown",
      "source": [
        "##4.  List comprehensions   \n",
        "List comprehensions are a concise way to create a list from an existing list or any iterable. It’s a one-liner that can replace a for loop, making your code more efficient and readable.    "
      ],
      "metadata": {
        "id": "VImwt93fZP71"
      }
    },
    {
      "cell_type": "code",
      "source": [
        "squared_numbers_lst = [x**2 for x in range(1, 6)]\n",
        "\n",
        "print(squared_numbers_lst)"
      ],
      "metadata": {
        "id": "nm9hdVHQZWOH"
      },
      "execution_count": null,
      "outputs": []
    },
    {
      "cell_type": "markdown",
      "source": [
        "How could we have written a comparable script with a `for:` loop?    "
      ],
      "metadata": {
        "id": "8spnKuOqH9Z3"
      }
    },
    {
      "cell_type": "code",
      "source": [
        "squared_numbers_lst = []                      # create an empty list\n",
        "for x in range (1,6):\n",
        "    squared_value = x**2                      # calculate each value\n",
        "    squared_numbers_lst.append(squared_value) # append value to list \n",
        "\n",
        "print(squared_numbers_lst)"
      ],
      "metadata": {
        "id": "lGXpDb6jII8w"
      },
      "execution_count": null,
      "outputs": []
    },
    {
      "cell_type": "markdown",
      "source": [
        "##5. Lambda functions    \n",
        "\n",
        "Lambda functions are anonymous functions that are defined using the `lambda` keyword. They are useful when you need to write small, one-time functions, and you don't want to use the `def:` keyword to define a named function."
      ],
      "metadata": {
        "id": "hOUiEGEmG4pc"
      }
    },
    {
      "cell_type": "code",
      "source": [
        "add = lambda x, y: x + y \n",
        "\n",
        "result = add(3, 4)\n",
        "\n",
        "print(result)"
      ],
      "metadata": {
        "id": "3K4A2ElbG-FG"
      },
      "execution_count": null,
      "outputs": []
    },
    {
      "cell_type": "markdown",
      "source": [
        "How could we have written a comparable script using a `def:` statement to define a **function**?    "
      ],
      "metadata": {
        "id": "lzafxPnhHCQr"
      }
    },
    {
      "cell_type": "code",
      "source": [
        "# the lamda function collapsed the following function\n",
        "# into one line \n",
        "def adder(x, y):\n",
        "    add = x + y\n",
        "    return add\n",
        "\n",
        "# then we can call the function as we did when it was a lamda function\n",
        "result = add(3, 4)\n",
        "\n",
        "print(result)"
      ],
      "metadata": {
        "id": "CpOsCOAPHNaM"
      },
      "execution_count": null,
      "outputs": []
    },
    {
      "cell_type": "markdown",
      "source": [
        "##6. `any()` and `all()` functions    \n",
        "The `any()` and `all()` functions return `True` or `False` based on the truthfulness of the elements in an iterable.     \n",
        "\n",
        "  - `any()` function returns `True` if any element in the iterable is true    \n",
        "  - `all()` function returns `True` if all elements in the iterable are true    \n",
        "    \n",
        "The `not` operator can be used to reverse the logic of either the `any()` or the `all()` functions so that:    \n",
        "\n",
        "  - `not any()` function returns `True` if no element in the iterable is true -- it tests to see that all elements are false or empty        \n",
        "  - `not all()` function returns `True` if not all elements in the iterable are true -- which is equivalent to using the `any()` function        "
      ],
      "metadata": {
        "id": "dYfobaGfWxS5"
      }
    },
    {
      "cell_type": "code",
      "source": [
        "numbers =  [1, 2, 3, 0, 4]            # setting up a list with one False\n",
        "letters =  ['a', 'b', 'c', 'd', 'e']  # setting up a list with only True\n",
        "nothings = [False, 0, '', None, []]\n",
        "# our `numbers` list has a value of 0 which will evaluate to False \n",
        "# our `letters` list has only non-empty strings which all evaluate to True \n",
        "# our `nothings` list has elements which all evaluate to False  "
      ],
      "metadata": {
        "id": "jCqUINurXXkp"
      },
      "execution_count": 40,
      "outputs": []
    },
    {
      "cell_type": "code",
      "source": [
        "print('The expression `any(numbers)`  evaluates as:', any(numbers))           # True \n",
        "print('The expression `any(letters)`  evaluates as:', any(letters))           # True \n",
        "print('The expression `any(nothings)` evaluates as:', any(nothings),'\\n')     # False \n",
        "print('The expression `not any(numbers)`  evaluates as:', not any(numbers))   # False\n",
        "print('The expression `not any(letters)`  evaluates as:', not any(letters))   # False\n",
        "print('The expression `not any(nothings)` evaluates as:', not any(nothings))  # True"
      ],
      "metadata": {
        "colab": {
          "base_uri": "https://localhost:8080/"
        },
        "id": "rvUsloLPYQxi",
        "outputId": "eb729a91-60ca-4edc-a60e-ba01c6f4f8b7"
      },
      "execution_count": 43,
      "outputs": [
        {
          "output_type": "stream",
          "name": "stdout",
          "text": [
            "The expression `any(numbers)`  evaluates as: True\n",
            "The expression `any(letters)`  evaluates as: True\n",
            "The expression `any(nothings)` evaluates as: False \n",
            "\n",
            "The expression `not any(numbers)`  evaluates as: False\n",
            "The expression `not any(letters)`  evaluates as: False\n",
            "The expression `not any(nothings)` evaluates as: True\n"
          ]
        }
      ]
    },
    {
      "cell_type": "markdown",
      "source": [
        "*Does that mean the phrase \"Not for nothing\" means something is true?* 😲"
      ],
      "metadata": {
        "id": "Ok1soDhzb6zb"
      }
    },
    {
      "cell_type": "code",
      "source": [
        "print('The expression `all(numbers)` evaluates as:', all(numbers))  # False \n",
        "print('The expression `all(letters)` evaluates as:', all(letters),'\\n')  # True \n",
        "print('The expression `not all(numbers)` evaluates as:', not all(numbers))  # True\n",
        "print('The expression `not all(letters)` evaluates as:', not all(letters))  # False"
      ],
      "metadata": {
        "id": "mWgkJzB3aNm6"
      },
      "execution_count": null,
      "outputs": []
    }
  ]
}