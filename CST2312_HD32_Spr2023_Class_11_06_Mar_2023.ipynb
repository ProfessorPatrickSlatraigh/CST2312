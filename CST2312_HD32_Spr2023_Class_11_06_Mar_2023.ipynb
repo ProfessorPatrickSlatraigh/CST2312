{
  "nbformat": 4,
  "nbformat_minor": 0,
  "metadata": {
    "colab": {
      "provenance": [],
      "authorship_tag": "ABX9TyP7wAtPXpIrvCmTafWbmpy6",
      "include_colab_link": true
    },
    "kernelspec": {
      "name": "python3",
      "display_name": "Python 3"
    },
    "language_info": {
      "name": "python"
    }
  },
  "cells": [
    {
      "cell_type": "markdown",
      "metadata": {
        "id": "view-in-github",
        "colab_type": "text"
      },
      "source": [
        "<a href=\"https://colab.research.google.com/github/ProfessorPatrickSlatraigh/CST2312/blob/main/CST2312_HD32_Spr2023_Class_11_06_Mar_2023.ipynb\" target=\"_parent\"><img src=\"https://colab.research.google.com/assets/colab-badge.svg\" alt=\"Open In Colab\"/></a>"
      ]
    },
    {
      "cell_type": "markdown",
      "source": [
        "# CST2312 Class #11 - Next Level Python\n",
        "\n",
        "from [**16 Python Tricks To Learn Before You Write Your Next Code:**](https://medium.com/codex/16-python-tricks-to-learn-before-you-write-your-next-code-bb91dd955f1b)     \n",
        "**Tricks that will make your life easier as a python developer**    \n",
        "*by Anmol Tomar in Medium.com, Feb-2022*     \n",
        "\n",
        "**Section 9 Decorators** includes examples from ['Decorators with Examples' by Geeks for Geeks](https://pythongeeks.org/python-decorators/)    \n",
        "    \n",
        "**Python.org** documentation references are also included throughout this notebook.    \n",
        "\n",
        "\n",
        "This notebook on Colab at `https://bit.ly/cst2312cl11`   "
      ],
      "metadata": {
        "id": "nDArSZ5fVLsE"
      }
    },
    {
      "cell_type": "markdown",
      "source": [
        "\n",
        "\n",
        "---\n",
        "\n"
      ],
      "metadata": {
        "id": "esafQKxmpMK5"
      }
    },
    {
      "cell_type": "markdown",
      "source": [
        "## Introduction    \n",
        "    \n",
        "Python is a versatile and widely-used programming language with a vast array of libraries and frameworks. However, there are some lesser-known Python coding tricks and libraries that can make your life as a developer easier and your code more efficient.    "
      ],
      "metadata": {
        "id": "6FE0T9-IWwj3"
      }
    },
    {
      "cell_type": "markdown",
      "source": [
        "\n",
        "\n",
        "---\n",
        "\n"
      ],
      "metadata": {
        "id": "riP94cZhiW_F"
      }
    },
    {
      "cell_type": "markdown",
      "source": [
        "##1. Ternary operator\n",
        "The ternary operator is a shorthand for an if-else statement. The syntax is ´value_if_true if condition else value_if_false´. It's a one-liner that can replace a multi-line if-else statement, making your code more concise.    "
      ],
      "metadata": {
        "id": "JO0ffouQW6v_"
      }
    },
    {
      "cell_type": "code",
      "execution_count": null,
      "metadata": {
        "id": "VaYPM60zUkjC"
      },
      "outputs": [],
      "source": [
        "a = 5 \n",
        "b = 10 \n",
        "max = a if a > b else b  ## value_if_true if condition else value_if_false\n",
        "\n",
        "print(max)"
      ]
    },
    {
      "cell_type": "markdown",
      "source": [
        "How could we write a comparable script using and`if-else` construct?      "
      ],
      "metadata": {
        "id": "wJJYmzFjS9Kl"
      }
    },
    {
      "cell_type": "code",
      "source": [
        "a = 5\n",
        "b = 10 \n",
        "\n",
        "if a > b: \n",
        "    max = a\n",
        "else:\n",
        "    max = b\n",
        "\n",
        "print(max) "
      ],
      "metadata": {
        "id": "ZT-yZeZ_TF1l"
      },
      "execution_count": null,
      "outputs": []
    },
    {
      "cell_type": "markdown",
      "source": [
        "\n",
        "\n",
        "---\n",
        "\n"
      ],
      "metadata": {
        "id": "HoRHj-vIiVqT"
      }
    },
    {
      "cell_type": "markdown",
      "source": [
        "##2. `enumerate()` function\n",
        "The `enumerate()` function adds a counter to an iterable and returns it in a form of enumerate object. This function is useful when you want to iterate over a list and also keep track of the index.    "
      ],
      "metadata": {
        "id": "9ebAoarVYr6S"
      }
    },
    {
      "cell_type": "code",
      "source": [
        "fruits = ['apple', 'banana', 'mango'] \n",
        "for index, fruit in enumerate(fruits): \n",
        "    print(index, fruit)"
      ],
      "metadata": {
        "id": "3A772brAY8hM"
      },
      "execution_count": null,
      "outputs": []
    },
    {
      "cell_type": "markdown",
      "source": [
        "How could we write a comparable script if we did not use the `enumerate()` function?    "
      ],
      "metadata": {
        "id": "j88qXc_1KqQN"
      }
    },
    {
      "cell_type": "code",
      "source": [
        "fruits = ['apple', 'banana', 'mango'] \n",
        "index = 0\n",
        "for fruit in fruits:\n",
        "    print(index, fruit)\n",
        "    index += 1 "
      ],
      "metadata": {
        "id": "IZ6Q2WRZK0lG"
      },
      "execution_count": null,
      "outputs": []
    },
    {
      "cell_type": "markdown",
      "source": [
        "Another way to do that would be:    "
      ],
      "metadata": {
        "id": "1jfzml7VSWW_"
      }
    },
    {
      "cell_type": "code",
      "source": [
        "fruits = ['apple', 'banana', 'mango'] \n",
        "index = 0\n",
        "for fruit in fruits:\n",
        "    print(index, fruits[index])\n",
        "    index += 1 "
      ],
      "metadata": {
        "id": "o-_s35psSalA"
      },
      "execution_count": null,
      "outputs": []
    },
    {
      "cell_type": "markdown",
      "source": [
        "Or, alternatively:    "
      ],
      "metadata": {
        "id": "mDKpO6OHSh54"
      }
    },
    {
      "cell_type": "code",
      "source": [
        "fruits = ['apple', 'banana', 'mango'] \n",
        "\n",
        "for index in range(len(fruits)):\n",
        "    print(index, fruits[index])"
      ],
      "metadata": {
        "id": "UjeMvJelSlWp"
      },
      "execution_count": null,
      "outputs": []
    },
    {
      "cell_type": "markdown",
      "source": [
        "\n",
        "\n",
        "---\n",
        "\n"
      ],
      "metadata": {
        "id": "wZZLHyDziTdN"
      }
    },
    {
      "cell_type": "markdown",
      "source": [
        "##3. `zip()` function    \n",
        "The zip() function aggregates elements from each of the iterables and returns an iterator of tuples. This function is useful when you want to iterate over two or more lists simultaneously.    "
      ],
      "metadata": {
        "id": "sl11e97PZD1k"
      }
    },
    {
      "cell_type": "code",
      "source": [
        "list1 = [1, 2, 3] \n",
        "list2 = ['a', 'b', 'c'] \n",
        "for x, y in zip(list1, list2):\n",
        "    print(x, y)"
      ],
      "metadata": {
        "id": "2rPIo89aZN8F"
      },
      "execution_count": null,
      "outputs": []
    },
    {
      "cell_type": "markdown",
      "source": [
        "How could we write a comparable script to produce a list of two-element **tuples** from two lists of **values**?    "
      ],
      "metadata": {
        "id": "6iJBxeBKJGa7"
      }
    },
    {
      "cell_type": "code",
      "source": [
        "list1 = [1, 2, 3] \n",
        "list2 = ['a', 'b', 'c'] \n",
        "list3 = []\n",
        "if len(list1) == len(list2):\n",
        "    for i in range(len(list1)):\n",
        "        # list3.append((list1[i], list2[i]))   # include for a list of tuples\n",
        "        print(list1[i], list2[i])              # replace with next line if you want to\n",
        "    # print(list3)                             # include to print the new list\n",
        "else:\n",
        "    print('This will not work with different length lists')\n"
      ],
      "metadata": {
        "id": "uxLQV3GKJR0S"
      },
      "execution_count": null,
      "outputs": []
    },
    {
      "cell_type": "markdown",
      "source": [
        "What about a script that uses `zip()` to combine the **ISO 3166** country codes with the names of the countries in Latin America?    "
      ],
      "metadata": {
        "id": "gTKhJh8JWBl2"
      }
    },
    {
      "cell_type": "code",
      "source": [
        "country_name = ['Argentina', 'Bolivia', 'Brazil', 'Chile', 'Colombia', 'Costa Rica', 'Cuba', 'Dominican Republic', 'Ecuador', 'El Salvador', 'Guatemala', 'Haiti', 'Honduras', 'Jamaica', 'Mexico', 'Nicaragua', 'Panama', 'Paraguay', 'Peru', 'Puerto Rico', 'Trinidad and Tobago', 'Uruguay', 'Venezuela']\n",
        "country_iso = ['ARG', 'BOL', 'BRA', 'CHL', 'COL', 'CRI', 'CUB', 'DOM', 'ECU', 'SLV', 'GTM', 'HTI', 'HND', 'JAM', 'MEX', 'NIC', 'PAN', 'PRY', 'PER', 'PRI', 'TTO', 'URY', 'VEN']\n",
        "\n",
        "for name, iso in zip(country_name, country_iso):\n",
        "    print(name, iso)"
      ],
      "metadata": {
        "id": "showei9tWPRU"
      },
      "execution_count": null,
      "outputs": []
    },
    {
      "cell_type": "markdown",
      "source": [
        "\n",
        "\n",
        "---\n",
        "\n"
      ],
      "metadata": {
        "id": "1FpMn1XViRoq"
      }
    },
    {
      "cell_type": "markdown",
      "source": [
        "##4.  List comprehensions   \n",
        "List comprehensions are a concise way to create a list from an existing list or any iterable. It’s a one-liner that can replace a for loop, making your code more efficient and readable.    "
      ],
      "metadata": {
        "id": "VImwt93fZP71"
      }
    },
    {
      "cell_type": "code",
      "source": [
        "squared_numbers_lst = [x**2 for x in range(1, 6)]\n",
        "\n",
        "print(squared_numbers_lst)"
      ],
      "metadata": {
        "id": "nm9hdVHQZWOH"
      },
      "execution_count": null,
      "outputs": []
    },
    {
      "cell_type": "markdown",
      "source": [
        "How could we have written a comparable script with a `for:` loop?    "
      ],
      "metadata": {
        "id": "8spnKuOqH9Z3"
      }
    },
    {
      "cell_type": "code",
      "source": [
        "squared_numbers_lst = []                      # create an empty list\n",
        "for x in range (1,6):\n",
        "    squared_value = x**2                      # calculate each value\n",
        "    squared_numbers_lst.append(squared_value) # append value to list \n",
        "\n",
        "print(squared_numbers_lst)"
      ],
      "metadata": {
        "id": "lGXpDb6jII8w"
      },
      "execution_count": null,
      "outputs": []
    },
    {
      "cell_type": "markdown",
      "source": [
        "\n",
        "\n",
        "---\n",
        "\n"
      ],
      "metadata": {
        "id": "YXwS0xfSiPN8"
      }
    },
    {
      "cell_type": "markdown",
      "source": [
        "##5. Lambda functions    \n",
        "\n",
        "Lambda functions are anonymous functions that are defined using the `lambda` keyword. They are useful when you need to write small, one-time functions, and you don't want to use the `def:` keyword to define a named function."
      ],
      "metadata": {
        "id": "hOUiEGEmG4pc"
      }
    },
    {
      "cell_type": "code",
      "source": [
        "add = lambda x, y: x + y \n",
        "\n",
        "result = add(3, 4)\n",
        "\n",
        "print(result)"
      ],
      "metadata": {
        "id": "3K4A2ElbG-FG"
      },
      "execution_count": null,
      "outputs": []
    },
    {
      "cell_type": "markdown",
      "source": [
        "How could we have written a comparable script using a `def:` statement to define a **function**?    "
      ],
      "metadata": {
        "id": "lzafxPnhHCQr"
      }
    },
    {
      "cell_type": "code",
      "source": [
        "# the lamda function collapsed the following function\n",
        "# into one line \n",
        "def adder(x, y):\n",
        "    add = x + y\n",
        "    return add\n",
        "\n",
        "# then we can call the function as we did when it was a lamda function\n",
        "result = add(3, 4)\n",
        "\n",
        "print(result)"
      ],
      "metadata": {
        "id": "CpOsCOAPHNaM"
      },
      "execution_count": null,
      "outputs": []
    },
    {
      "cell_type": "markdown",
      "source": [
        "\n",
        "\n",
        "---\n",
        "\n"
      ],
      "metadata": {
        "id": "l0d2poBliN0E"
      }
    },
    {
      "cell_type": "markdown",
      "source": [
        "##6. `any()` and `all()` functions    \n",
        "The `any()` and `all()` functions return `True` or `False` based on the truthfulness of the elements in an iterable.     \n",
        "\n",
        "  - `any()` function returns `True` if any element in the iterable is true    \n",
        "  - `all()` function returns `True` if all elements in the iterable are true    \n",
        "    \n",
        "The `not` operator can be used to reverse the logic of either the `any()` or the `all()` functions so that:    \n",
        "\n",
        "  - `not any()` function returns `True` if no element in the iterable is true -- it tests to see that all elements are false or empty        \n",
        "  - `not all()` function returns `True` if not all elements in the iterable are true -- which is equivalent to using the `any()` function        "
      ],
      "metadata": {
        "id": "dYfobaGfWxS5"
      }
    },
    {
      "cell_type": "code",
      "source": [
        "numbers =  [1, 2, 3, 0, 4]            # setting up a list with one False\n",
        "\n",
        "letters =  ['a', 'b', 'c', 'd', 'e']  # setting up a list with only True\n",
        "\n",
        "nothings = [False, 0, '', None, {}]   # setting up a list with only False\n",
        "\n",
        "# our `numbers` list has a value of 0 which will evaluate to False \n",
        "# our `letters` list has only non-empty strings which all evaluate to True \n",
        "# our `nothings` list has elements which all evaluate to False  "
      ],
      "metadata": {
        "id": "jCqUINurXXkp"
      },
      "execution_count": null,
      "outputs": []
    },
    {
      "cell_type": "code",
      "source": [
        "print('The expression `any(numbers)`  evaluates as:', any(numbers))          # True \n",
        "print('The expression `any(letters)`  evaluates as:', any(letters))          # True \n",
        "print('The expression `any(nothings)` evaluates as:', any(nothings),'\\n')    # False \n",
        "\n",
        "print('The expression `not any(numbers)`  evaluates as:', not any(numbers))  # False\n",
        "print('The expression `not any(letters)`  evaluates as:', not any(letters))  # False\n",
        "print('The expression `not any(nothings)` evaluates as:', not any(nothings)) # True"
      ],
      "metadata": {
        "id": "rvUsloLPYQxi"
      },
      "execution_count": null,
      "outputs": []
    },
    {
      "cell_type": "markdown",
      "source": [
        "*Does that mean the phrase \"Not for nothing\" means something is true?* 😲"
      ],
      "metadata": {
        "id": "Ok1soDhzb6zb"
      }
    },
    {
      "cell_type": "code",
      "source": [
        "print('The expression `all(numbers)`  evaluates as:', all(numbers))          # False \n",
        "print('The expression `all(letters)`  evaluates as:', all(letters))          # True \n",
        "print('The expression `all(nothings)` evaluates as:', all(nothings),'\\n')    # False \n",
        "\n",
        "print('The expression `not all(numbers)`  evaluates as:', not all(numbers))  # True\n",
        "print('The expression `not all(letters)`  evaluates as:', not all(letters))  # False\n",
        "print('The expression `not all(nothings)` evaluates as:', not all(nothings)) # True"
      ],
      "metadata": {
        "id": "mWgkJzB3aNm6"
      },
      "execution_count": null,
      "outputs": []
    },
    {
      "cell_type": "markdown",
      "source": [
        "\n",
        "\n",
        "---\n",
        "\n"
      ],
      "metadata": {
        "id": "tzfFt3wmiMPW"
      }
    },
    {
      "cell_type": "markdown",
      "source": [
        "##7. Itertools     \n",
        "    \n",
        "The `itertools` module provides a set of functions to work with iterators and is not widely known. Some of the functions in this module are:    \n",
        "    \n",
        " - `chain()` - returns a single iterable with a sequence of the elements from the argument iterable(s)    \n",
        "   o `chain.from_iterable()` - returns the chained elemenst from a single iterable \n",
        " - `product()` -  returns the Cartesian product of the elements in two iterable arguments\n",
        " - `permutations()` - returns an iterable of all of the permutations of elements in the iterable argument(s)       \n",
        "     "
      ],
      "metadata": {
        "id": "HHjr4_t8dQaT"
      }
    },
    {
      "cell_type": "markdown",
      "source": [
        "First, import the `itertools` module and create iterables (lists) we will call `numbers_lst1` and `numbers_lst2` with three integer values in each.    "
      ],
      "metadata": {
        "id": "554Mlv1tfOtQ"
      }
    },
    {
      "cell_type": "code",
      "source": [
        "import itertools \n",
        "numbers_lst1 = [1, 2, 3]\n",
        "numbers_lst2 = [5, 6, 7]"
      ],
      "metadata": {
        "id": "M_kS5r0gd21U"
      },
      "execution_count": null,
      "outputs": []
    },
    {
      "cell_type": "markdown",
      "source": [
        "Let's also create a mixed list of integers and a subordinate list of integers.  This list will be used in the `.chain()` method example.     "
      ],
      "metadata": {
        "id": "EMf2kdcOno8L"
      }
    },
    {
      "cell_type": "code",
      "source": [
        "mixed_lst3 = [8, 9, [10, 11, 12]]"
      ],
      "metadata": {
        "id": "DcMxpflmn1sA"
      },
      "execution_count": null,
      "outputs": []
    },
    {
      "cell_type": "markdown",
      "source": [
        "And, a string which we can use when invoking `.chain.from_iterable()`    "
      ],
      "metadata": {
        "id": "9gyD7VrWsJIJ"
      }
    },
    {
      "cell_type": "code",
      "source": [
        "string_lst4 = ['123', '456'] "
      ],
      "metadata": {
        "id": "iZeverYusT0R"
      },
      "execution_count": null,
      "outputs": []
    },
    {
      "cell_type": "markdown",
      "source": [
        "### `itertools.chain()`    \n",
        "\n",
        "`itertools.chain(*iterables)`    \n",
        "    \n",
        "Make an iterator that returns elements from the first iterable until it is exhausted, then proceeds to the next iterable, until all of the iterables are exhausted. Used for treating consecutive sequences as a single sequence.     \n",
        "\n",
        "Roughly equivalent to:    \n",
        "```\n",
        "def chain(*iterables):\n",
        "    # chain('ABC', 'DEF') --> A B C D E F\n",
        "    for it in iterables:\n",
        "        for element in it:\n",
        "            yield element\n",
        "```    \n",
        "Using `.chain()` to produce an iterable from two iterable arguments:    "
      ],
      "metadata": {
        "id": "2SzS-9hbm2va"
      }
    },
    {
      "cell_type": "code",
      "source": [
        "print('The arguments: ', numbers_lst1, '|', numbers_lst2, '\\n')\n",
        "print('The `.chain()` method returns an iterable: ', itertools.chain(numbers_lst1, numbers_lst2), '\\n')\n",
        "\n",
        "print('The `list()` of the `.chain()` iterable values: ', list(itertools.chain(numbers_lst1, numbers_lst2)))"
      ],
      "metadata": {
        "id": "eaZhhQNAnWcd"
      },
      "execution_count": null,
      "outputs": []
    },
    {
      "cell_type": "markdown",
      "source": [
        "What is we include the mixed list `mixed_lst3` as one of the arguments to `.chain()`?    "
      ],
      "metadata": {
        "id": "nH0gpvPGn8c4"
      }
    },
    {
      "cell_type": "code",
      "source": [
        "print('The arguments: ', numbers_lst1, '|', numbers_lst2, '|', mixed_lst3, '\\n')\n",
        "print('The `.chain()` method returns an iterable: ', itertools.chain(numbers_lst1, numbers_lst2, mixed_lst3), '\\n')\n",
        "\n",
        "print('The `list()` of the `.chain()` iterable values: ', list(itertools.chain(numbers_lst1, numbers_lst2, mixed_lst3)))"
      ],
      "metadata": {
        "id": "e_k8wrwKoFhF"
      },
      "execution_count": null,
      "outputs": []
    },
    {
      "cell_type": "markdown",
      "source": [
        "As the last example demonstrates, `.chain()` is does not process subordinate iterables recursively until it reaches the value level.  It works on the elements in the iterable provide as an argument, regardless of whether any elements in an argument iterable are iterables themselves.    "
      ],
      "metadata": {
        "id": "eMsCilpkoPPO"
      }
    },
    {
      "cell_type": "code",
      "source": [
        "print('The argument: ', string_lst4, '\\n')\n",
        "print('The `.chain.from_iterable()` method returns an iterable: ', itertools.chain.from_iterable(string_lst4), '\\n')\n",
        "\n",
        "print('The `list()` of the `.chain.from_iterable()` iterable values: ', list(itertools.chain.from_iterable(string_lst4)))"
      ],
      "metadata": {
        "id": "kdza7IUCrov_"
      },
      "execution_count": null,
      "outputs": []
    },
    {
      "cell_type": "markdown",
      "source": [
        "Where might we use the `.chain.from_iterable()` method?   Consider an iterable such as a string, which we want to process as individual characters:    \n"
      ],
      "metadata": {
        "id": "s5cXZP_AuEwf"
      }
    },
    {
      "cell_type": "code",
      "source": [
        "alphabet_str = 'ABCDEFGHIJKLMNOPQRSTUVWXYZ'\n",
        "print('The argument: ', alphabet_str, '\\n')\n",
        "print('The `.chain.from_iterable()` method returns an iterable: ', itertools.chain.from_iterable(alphabet_str), '\\n')\n",
        "\n",
        "print('The `list()` of the `.chain.from_iterable()` iterable values: ', list(itertools.chain.from_iterable(alphabet_str)))"
      ],
      "metadata": {
        "id": "uRWH_7jGuUmX"
      },
      "execution_count": null,
      "outputs": []
    },
    {
      "cell_type": "markdown",
      "source": [
        "### `itertools.product()`    \n",
        "    \n",
        "`itertools.product(*iterables, repeat=1)`\n",
        "\n",
        "Roughly equivalent to nested for-loops in a generator expression. For example, `product(A, B)` returns the same as `((x,y) for x in A for y in B)`.\n",
        "\n",
        "The nested loops cycle like an odometer with the rightmost element advancing on every iteration. This pattern creates a lexicographic ordering so that if the input’s iterables are sorted, the product tuples are emitted in sorted order.\n",
        "\n",
        "To compute the product of an iterable with itself, specify the number of repetitions with the optional repeat keyword argument. For example, `product(A, repeat=4)` means the same as `product(A, A, A, A)`.\n",
        "       \n",
        "Using `.product()` to generate an iterable of the values of the Cartesian products of the elements in two iterables:    "
      ],
      "metadata": {
        "id": "aMa15GoRfdfx"
      }
    },
    {
      "cell_type": "code",
      "source": [
        "print('The arguments: ', numbers_lst1, '|', numbers_lst2, '\\n')\n",
        "print('The `.product()` method returns an iterable: ', itertools.product(numbers_lst1, numbers_lst2), '\\n')\n",
        "\n",
        "print('The `list()` of the `.product()` iterable values: ', list(itertools.product(numbers_lst1, numbers_lst2)))"
      ],
      "metadata": {
        "id": "B8MQ7GP7fdfx"
      },
      "execution_count": null,
      "outputs": []
    },
    {
      "cell_type": "markdown",
      "source": [
        "### `itertools.permutation()`    \n",
        "    \n",
        "`itertools.permutations(iterable, r=None)`\n",
        "\n",
        "Return successive `r` length permutations of elements in the iterable.    \n",
        "\n",
        "If `r` is not specified or is `None`, then `r` defaults to the length of the iterable and all possible full-length permutations are generated.\n",
        "\n",
        "The permutation tuples are emitted in lexicographic order according to the order of the input iterable. So, if the input iterable is sorted, the output tuples will be produced in sorted order.\n",
        "\n",
        "Elements are treated as unique based on their position, not on their value. So if the input elements are unique, there will be no repeated values within a permutation.    \n",
        "\n",
        "Using `.permutations()` to generate a list of all of the permutations of elements in an iterable:    "
      ],
      "metadata": {
        "id": "KTLfMg4Md4eg"
      }
    },
    {
      "cell_type": "code",
      "source": [
        "print('The argument: ', numbers_lst1, '\\n')\n",
        "print('The `.permutations()` method returns an iterable: ', itertools.permutations(numbers_lst1), '\\n')\n",
        "\n",
        "print('The `list()` of the `.permutations()` iterable: ', list(itertools.permutations(numbers_lst1)))"
      ],
      "metadata": {
        "id": "Mdpv69-yeAix"
      },
      "execution_count": null,
      "outputs": []
    },
    {
      "cell_type": "markdown",
      "source": [
        "\n",
        "\n",
        "---\n",
        "\n"
      ],
      "metadata": {
        "id": "nGEZTUVViJu2"
      }
    },
    {
      "cell_type": "markdown",
      "source": [
        "##8. Generators     \n",
        "\n",
        "Generators are a type of iterable that generate values on-the-fly, instead of storing them in memory. They are defined using the `yield` keyword and can be used to create custom iterators.    \n",
        "\n",
        "We saw the use of `generators` in the example of the equivalent code for the `.chain()` method in the last section.    \n",
        "\n",
        "Let's define a generator for a *Fibonacci Series*:  "
      ],
      "metadata": {
        "id": "2pQuRxW1u2Op"
      }
    },
    {
      "cell_type": "code",
      "source": [
        "### Generators created using yield keyword \n",
        "def fibonacci_series(n):\n",
        "    a, b = 0, 1\n",
        "    for i in range(n):\n",
        "        yield a\n",
        "        a, b = b, a + b"
      ],
      "metadata": {
        "id": "Ih5x-NQivp5U"
      },
      "execution_count": null,
      "outputs": []
    },
    {
      "cell_type": "markdown",
      "source": [
        "Note that the function definition above does not `break` or `return`, rather it produces values when the `yield` statement executes.  We can invoke `fibonacci_series()` to see how it works:    "
      ],
      "metadata": {
        "id": "x7fQ0aKUvt0u"
      }
    },
    {
      "cell_type": "code",
      "source": [
        "# Driver code to check above generator function \n",
        "for number in fibonacci_series(10):\n",
        "    print(number)"
      ],
      "metadata": {
        "id": "7NeHl9FywDyz"
      },
      "execution_count": null,
      "outputs": []
    },
    {
      "cell_type": "markdown",
      "source": [
        "If we use the `fibonacci_series` generator in an assignment, we can test the `type` and values of the resulting variable.  "
      ],
      "metadata": {
        "id": "LK-oQZQGwVgw"
      }
    },
    {
      "cell_type": "code",
      "source": [
        "f10_result = fibonacci_series(10)"
      ],
      "metadata": {
        "id": "zateRSXFwMU7"
      },
      "execution_count": null,
      "outputs": []
    },
    {
      "cell_type": "code",
      "source": [
        "type(f10_result)"
      ],
      "metadata": {
        "id": "YUKJduFFwRTQ"
      },
      "execution_count": null,
      "outputs": []
    },
    {
      "cell_type": "code",
      "source": [
        "print(f10_result)"
      ],
      "metadata": {
        "id": "WZiHShj9whGr"
      },
      "execution_count": null,
      "outputs": []
    },
    {
      "cell_type": "code",
      "source": [
        "print(list(f10_result))"
      ],
      "metadata": {
        "id": "D-pXAWu-wllP"
      },
      "execution_count": null,
      "outputs": []
    },
    {
      "cell_type": "markdown",
      "source": [
        "\n",
        "\n",
        "---\n",
        "\n"
      ],
      "metadata": {
        "id": "PDMk2RfoUgTj"
      }
    },
    {
      "cell_type": "markdown",
      "source": [
        "##9. Decorators    \n",
        "\n",
        "Decorators are a way to modify the behavior of a **function** or a **class**. They are defined using the `@` symbol and can be used to add functionality to a **function**, such as:    \n",
        "     \n",
        "  - logging    \n",
        "  - timing    \n",
        "  - authentication    \n",
        "      \n",
        "Let's try an example, but first a primer on **functions** and **variables** from *Geeks for Geeks*:    \n",
        "\n",
        "9.1. Functions are Objects in Python    \n",
        "9.2. Assign Functions to Variables in Python    \n",
        "9.3. Passing a Function as an Argument in Python    \n",
        "9.4. Function Returning Another Function in Python    \n",
        "9.5. Nested Functions in Python    \n",
        "9.6. Non-local Variables and Closure in Python     \n",
        "9.7. Decorators in Python: Step-by-Step    "
      ],
      "metadata": {
        "id": "ns2PDPKWw2Ev"
      }
    },
    {
      "cell_type": "markdown",
      "source": [
        "###<u>9.1. Functions are Objects in Python</u>    \n",
        "Functions are first-class objects in Python. As a result, they have all of the attributes of an object, and we may handle them as such by assigning them to variables and passing them as arguments to other functions as arguments.        \n",
        "     "
      ],
      "metadata": {
        "id": "Bgggucu1_rh_"
      }
    },
    {
      "cell_type": "markdown",
      "source": [
        "###<u>9.2. Assigning Functions to Variables in Python</u>    \n",
        "In Python, we can assign a function to a variable. We can later use that variable to call the function,    \n",
        "    \n",
        "Example of assigning function to a variable:    "
      ],
      "metadata": {
        "id": "S-fpx7Gtyp7g"
      }
    },
    {
      "cell_type": "code",
      "source": [
        "# create a `building()` function\n",
        "def building():\n",
        "    print(\"Namm\")\n",
        "\n",
        "# assign the `building()` function to the variable `place`\n",
        "place = building \n",
        "\n",
        "print('Query of the objects `building` and `place`:')\n",
        "print(f\"{building = }\")\n",
        "print(f\"{place = }\")\n",
        "\n",
        "print()\n",
        "\n",
        "print('Invoking `building()` and `place()`: ')\n",
        "building()\n",
        "place()"
      ],
      "metadata": {
        "id": "YZo-IExcy88d"
      },
      "execution_count": null,
      "outputs": []
    },
    {
      "cell_type": "markdown",
      "source": [
        "In the above code example, we assigned the function `building()` to the variable `place`. Then we used the `place` variable to call the function. In this way, we can assign a function to as many variables as we want."
      ],
      "metadata": {
        "id": "E9KRvIFM05SM"
      }
    },
    {
      "cell_type": "markdown",
      "source": [
        "###<u>9.3. Passing a Function as an Argument in Python</u>    \n",
        "Similar to assigning functions to variables, we can also pass functions as arguments to other functions. The functions which accept the arguments are called higher-order functions.    \n",
        "\n",
        "Let's look at an example of a higher-order function accepting another function as its argument:    "
      ],
      "metadata": {
        "id": "ZRqjJEBA2Tbf"
      }
    },
    {
      "cell_type": "code",
      "source": [
        "# defining a `sqrt()` function for square root of an argument\n",
        "def sqrt(num):\n",
        "    return num**0.5\n",
        "\n",
        "# defining a `square()` function for the square of an argument\n",
        "def square(num):\n",
        "    return num**2\n",
        "\n",
        "# higher-order function `math()` \n",
        "def math(argument_function):\n",
        "    print(argument_function(4))\n",
        "\n",
        "print('Invoking the `math()` function with argument `sqrt`: ')\n",
        "math(sqrt)\n",
        "print('Invoking the `math()` function with argument `square`: ')\n",
        "math(square)"
      ],
      "metadata": {
        "id": "-aUZaYdK2gWE"
      },
      "execution_count": null,
      "outputs": []
    },
    {
      "cell_type": "markdown",
      "source": [
        "###<u>9.4. Function Returning Another Function in Python</u>    \n",
        "    \n",
        "Python also allows us to define a function that returns another function.    "
      ],
      "metadata": {
        "id": "h4adiwNd7J6U"
      }
    },
    {
      "cell_type": "code",
      "source": [
        "# define a function that prints a string\n",
        "def str_func():\n",
        "    print(\"Information and Data Management\")\n",
        "\n",
        "# define a function that invokes the string-printing function \n",
        "def higher_func():\n",
        "    return str_func\n",
        "\n",
        "# assign the higher-order function to a variable\n",
        "variable_1 = higher_func()\n",
        "\n",
        "# invoke the variable that has a higher-order function assigned\n",
        "variable_1()"
      ],
      "metadata": {
        "id": "imFbo9rZ7Uz_"
      },
      "execution_count": null,
      "outputs": []
    },
    {
      "cell_type": "markdown",
      "source": [
        "###<u>9.5. Nested Functions in Python</u>    \n",
        "The Python language lets us create a function within another function. These enclosed functions are called nested functions.  Let's look at an example:        "
      ],
      "metadata": {
        "id": "qRLms7tz81cV"
      }
    },
    {
      "cell_type": "code",
      "source": [
        "# defining a fruitful nested function within a void outer function\n",
        "def more_math():\n",
        "    def square_it(arg_num):\n",
        "        return arg_num**2\n",
        "    print(square_it(2))\n",
        "\n",
        "# invoking the outer function\n",
        "more_math()"
      ],
      "metadata": {
        "id": "NKnYnQQo9EDu"
      },
      "execution_count": null,
      "outputs": []
    },
    {
      "cell_type": "code",
      "source": [
        "# testing the outer function for a return value    \n",
        "# note that the print of '4\\n' is a side-effect of the function invoked\n",
        "bool(more_math())"
      ],
      "metadata": {
        "id": "NKw_ZZR_9pgv"
      },
      "execution_count": null,
      "outputs": []
    },
    {
      "cell_type": "markdown",
      "source": [
        "###<u>9.6. Non-local Variables and Closure in Python</u>    \n",
        "    \n",
        "A `nested function` is one that is defined inside another function. The variables of the enclosing scope can be accessed by nested functions. These variables are called `non-local` variables.    \n",
        "\n",
        "By default, `non-local` variables are read-only. To modify them, we need to use a keyword called `nonlocal`.     \n",
        "      \n",
        "`Closure Functions` are nested functions that can access non-local variables.    \n",
        "    \n",
        "Example of `non-local` variable and `closure function` in Python:    \n"
      ],
      "metadata": {
        "id": "s-JphWzR_Qyk"
      }
    },
    {
      "cell_type": "code",
      "source": [
        "# defining a fruitful nested function within a void outer function\n",
        "def more_math():\n",
        "    def square_it(arg_num):\n",
        "        # square's local read-only of non-local `arg_num`\n",
        "        return arg_num**2\n",
        "    print(square_it(2))\n",
        "\n",
        "# invoking the outer function\n",
        "more_math()"
      ],
      "metadata": {
        "id": "c9tBFSKK_84y"
      },
      "execution_count": null,
      "outputs": []
    },
    {
      "cell_type": "markdown",
      "source": [
        "In the above code example, the variable `arg_num` is a `non-local` variable. Although the variable `arg_num` is not in the scope of the function `square()`, it still accessed it. So, the function `square()` is called a closure function."
      ],
      "metadata": {
        "id": "KbenKZ1XASYV"
      }
    },
    {
      "cell_type": "markdown",
      "source": [
        "###<u>9.7. Decorators in Python: Step-by-Step</u>    \n",
        "Creating a Decorator in Python    \n",
        "    \n",
        "Using the concepts that we have reviewed about `functions`, we can create a simple `decorator`.\n",
        "\n",
        "Example of creating a `decorator`:    "
      ],
      "metadata": {
        "id": "X0X6IvfjCZ_F"
      }
    },
    {
      "cell_type": "code",
      "source": [
        "# defining decorator function which takes a function as an argument\n",
        "def my_decor_func(decor_arg_func):\n",
        "    # defining fruitful function `my_wrap` which prints...\n",
        "    # ... then returns the `non-local` argument (function)\n",
        "    def my_wrap_func():\n",
        "        print(\"Decorator Function - my_decor\")\n",
        "        return decor_arg_func()\n",
        "    # returning the result from the my_wrap_func local function\n",
        "    return my_wrap_func"
      ],
      "metadata": {
        "id": "FW4ydsq7Co_b"
      },
      "execution_count": null,
      "outputs": []
    },
    {
      "cell_type": "markdown",
      "source": [
        "In the above code example, we have created a decorator called `my_decor_func`. Let’s have a look at how to use that decorator.   "
      ],
      "metadata": {
        "id": "b4KzSr5EVmN7"
      }
    },
    {
      "cell_type": "markdown",
      "source": [
        "####<u>9.7(a) Using a Decorator in Python</u>    \n",
        "To use a decorator, we need to have a main function which we want to decorate and we need to assign the decorator function to a variable. Oftentimes, the name of the variable will be the same as the function which we want to decorate but in this example we will use a different name.    \n",
        "    \n",
        "Example of using a decorator:    "
      ],
      "metadata": {
        "id": "I5UqSCR2Cwzp"
      }
    },
    {
      "cell_type": "code",
      "source": [
        "# defining a main function which will be decorated \n",
        "def their_function():\n",
        "    print(\"Their Function - the main function\")"
      ],
      "metadata": {
        "id": "8sHKO0wZDB70"
      },
      "execution_count": null,
      "outputs": []
    },
    {
      "cell_type": "code",
      "source": [
        "# assigning the decorator function its argument, the main function to a variable \n",
        "my_variable = my_decor_func(their_function)"
      ],
      "metadata": {
        "id": "gak6C36ROpWL"
      },
      "execution_count": null,
      "outputs": []
    },
    {
      "cell_type": "code",
      "source": [
        "# invoking the variable that has my_decor_func() with the argument their_function assigned to it\n",
        "my_variable()"
      ],
      "metadata": {
        "id": "kqZezhatDjKI"
      },
      "execution_count": null,
      "outputs": []
    },
    {
      "cell_type": "markdown",
      "source": [
        "Here is a diagram of what we created in the last three snippets of code: "
      ],
      "metadata": {
        "id": "h8TSju-iNGx_"
      }
    },
    {
      "cell_type": "markdown",
      "source": [
        "![CST2312_Class11_DecoratorExample.png](data:image/png;base64,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)"
      ],
      "metadata": {
        "id": "9pdA6Jo3NOzv"
      }
    },
    {
      "cell_type": "markdown",
      "source": [
        "####<u>9.7(b) Decorators with Arguments in Python</u>     \n",
        "We can use a decorator even when the function has some arguments. To do so we need to define our decorator a bit differently than before.    \n",
        "    \n",
        "Example of decorator in Python:    \n",
        "\n"
      ],
      "metadata": {
        "id": "mwolHjpRNij0"
      }
    },
    {
      "cell_type": "code",
      "source": [
        "# defining decorator function which takes a function as an argument\n",
        "def my_decor_func(arg_func):\n",
        "    # defining fruitful function `my_wrap` which prints...\n",
        "    # ... then returns the `non-local` argument (function)...\n",
        "    # ... with two string arguments passed to that function <= NEW\n",
        "    def my_wrap_func(arg_str1, arg_str2):\n",
        "        print(\"Decorator Function - my decor\")\n",
        "        return arg_func(arg_str1, arg_str2)               # <= NEW\n",
        "    return my_wrap_func\n",
        "\n",
        "# defining a main function which will be decorated \n",
        "def their_function(arg_str_a, arg_str_b):\n",
        "    print(\"Their Function - the main function\")\n",
        "    print(arg_str_a + \" are \" +  arg_str_b)               # <= NEW"
      ],
      "metadata": {
        "id": "u90PbbFeNofK"
      },
      "execution_count": null,
      "outputs": []
    },
    {
      "cell_type": "code",
      "source": [
        "# assigning the decorator function its argument, the main function to a variable \n",
        "my_variable = my_decor_func(their_function)"
      ],
      "metadata": {
        "id": "FgVIL6jlOffD"
      },
      "execution_count": null,
      "outputs": []
    },
    {
      "cell_type": "code",
      "source": [
        "# invoking the variable that has my_decor_func() with the argument their_function assigned to it\n",
        "my_variable(\"Mangoes\", \"Sweet\")"
      ],
      "metadata": {
        "id": "EZtC1QaDOfS9"
      },
      "execution_count": null,
      "outputs": []
    },
    {
      "cell_type": "markdown",
      "source": [
        "####<u>9.7(c) Using the Decorator Syntax in Python</u>     \n",
        "     \n",
        "Python makes using decorators a lot easier. Instead of assigning the decorator to a variable, we can simply use the `@` sign. This is the most common method of implementing decorators.     \n",
        "\n",
        "Example of an `@` decorator in Python:    "
      ],
      "metadata": {
        "id": "qsHaZ84GR9zu"
      }
    },
    {
      "cell_type": "code",
      "source": [
        "def my_decor_func(arg_func):\n",
        "    def my_wrap_func(*args, **kwargs):\n",
        "        print(\"Decorator Function - my decor\")\n",
        "        return arg_func(*args, **kwargs)\n",
        "    return my_wrap_func"
      ],
      "metadata": {
        "id": "uyHUQRT0SLMK"
      },
      "execution_count": null,
      "outputs": []
    },
    {
      "cell_type": "code",
      "source": [
        "@my_decor_func\n",
        "def their_function(str1, str2):\n",
        "    print(\"Their Function - the main function\")\n",
        "    print(str1 + \" are \" +  str2)"
      ],
      "metadata": {
        "id": "S98oZHEwSYui"
      },
      "execution_count": null,
      "outputs": []
    },
    {
      "cell_type": "code",
      "source": [
        "their_function(\"Mangoes\", \"Delicious\")"
      ],
      "metadata": {
        "id": "3xVU1jLkSqGy"
      },
      "execution_count": null,
      "outputs": []
    },
    {
      "cell_type": "markdown",
      "source": [
        "####<u>9.7(d) Multiple Decorators in Python</u>    \n",
        "    \n",
        "In Python, we can apply several decorators to a single function. The decorators, on the other hand, will be used in the sequence that we’ve designated. This is called chaining decorators.     \n",
        "    \n",
        "Example of multiple decorators in Python:    "
      ],
      "metadata": {
        "id": "HGLcJh0FTaeo"
      }
    },
    {
      "cell_type": "code",
      "source": [
        "# first decorator function  \n",
        "def my_decor_func(arg1_func):\n",
        "    def my_wrap_func(*args, **kwargs):\n",
        "        print(\"Decorator Function 1\")\n",
        "        return arg1_func(*args, **kwargs)\n",
        "    return my_wrap_func\n",
        "\n",
        "# another decorator function \n",
        "def my_another_decor_func(arg2_func):\n",
        "    def my_wrap_func(*args, **kwargs):\n",
        "        print(\"Decorator Function 2\")\n",
        "        return arg2_func(*args, **kwargs)\n",
        "    return my_wrap_func"
      ],
      "metadata": {
        "id": "ysZ5fThGTjZ3"
      },
      "execution_count": null,
      "outputs": []
    },
    {
      "cell_type": "code",
      "source": [
        "@my_decor_func\n",
        "@my_another_decor_func\n",
        "def my_function(str1, str2):\n",
        "    print(\"Main Function\")\n",
        "    print(str1 + \" are \" +  str2)"
      ],
      "metadata": {
        "id": "m_daTik7T43g"
      },
      "execution_count": null,
      "outputs": []
    },
    {
      "cell_type": "code",
      "source": [
        "my_function(\"Mangoes\", \"Delicious\")"
      ],
      "metadata": {
        "id": "2cM_XkIWR9Y4"
      },
      "execution_count": null,
      "outputs": []
    },
    {
      "cell_type": "markdown",
      "source": [
        "####<u>9.7(e) Python Decorators Example from Anmol Tomar</u>     "
      ],
      "metadata": {
        "id": "CuMdCbXkVVHe"
      }
    },
    {
      "cell_type": "markdown",
      "source": [
        "Having reviewed all of those aspects of functions and decorators, we can look at the example provide by Anmol Tomar.  Bear in mind, that Anmol's example allows for multiple `keyword arguments` in the `wrapper` function by using the argument options `*args` and `**kwargs`.    "
      ],
      "metadata": {
        "id": "jwhlX1RLP384"
      }
    },
    {
      "cell_type": "code",
      "source": [
        "def log_function(arg_func):\n",
        "    def wrapper_func(*args, **kwargs):\n",
        "        print(f'Running {arg_func.__name__}')           # side effect displays arg function\n",
        "        result = arg_func(*args, **kwargs)\n",
        "        print(f'{arg_func.__name__} returned {result}') # side effect displays arg_func result\n",
        "        return result                                   # fruitful return of arg_func result\n",
        "    return wrapper_func                                 # return result of wrapper_func"
      ],
      "metadata": {
        "id": "n6U6-7hTxr9X"
      },
      "execution_count": null,
      "outputs": []
    },
    {
      "cell_type": "code",
      "source": [
        "@log_function\n",
        "def add_func(x, y):\n",
        "    return x + y"
      ],
      "metadata": {
        "id": "PTDAOs4eQju9"
      },
      "execution_count": null,
      "outputs": []
    },
    {
      "cell_type": "code",
      "source": [
        "print(add_func(5,7))"
      ],
      "metadata": {
        "id": "y_VAmfhVQk3t"
      },
      "execution_count": null,
      "outputs": []
    },
    {
      "cell_type": "markdown",
      "source": [
        "**Whew!**  😧"
      ],
      "metadata": {
        "id": "x5APQPTgRgP8"
      }
    },
    {
      "cell_type": "markdown",
      "source": [
        "\n",
        "\n",
        "---\n",
        "\n"
      ],
      "metadata": {
        "id": "zWIS-ScYiC4s"
      }
    },
    {
      "cell_type": "markdown",
      "source": [
        "##10. Multiple Function Arguments    \n",
        "\n",
        "*Given that multiple-function arguments were used in the prior section on `decorators` it may be beneficial to review this section before the section on `decorators`.*    \n",
        "\n",
        "In Python, you can use the `*` and `**` operator to handle multiple function arguments.     \n",
        "    \n",
        "  - The `*` operator is used to pass a list of arguments as separate positional arguments    \n",
        "  - The `**` operator is used to pass a dictionary of keyword arguments    \n",
        "   \n",
        "Let's look at an example of using both `*` and `**`:    "
      ],
      "metadata": {
        "id": "hB4MNCh3V4W7"
      }
    },
    {
      "cell_type": "code",
      "source": [
        "def print_arguments(*args, **kwargs):\n",
        "    print('The multiple arguments are: ', args)\n",
        "    print('The keyword arguments are:  ', kwargs)\n",
        "\n",
        "print_arguments(1, 2, 3, name='John', age=30)"
      ],
      "metadata": {
        "id": "DsibNbsJWaWb"
      },
      "execution_count": null,
      "outputs": []
    },
    {
      "cell_type": "markdown",
      "source": [
        "*Note that the non-keyword arguments `args` is a tuple.  That tuple can be broken down into its component elements in an assignment as in the following example:   \n"
      ],
      "metadata": {
        "id": "uYgOomlSWkAN"
      }
    },
    {
      "cell_type": "code",
      "source": [
        "def print_arguments(*args, **kwargs):\n",
        "    arg_1, arg_2, arg_3 = args   # assigning tuple elements to variables \n",
        "    print('The multiple arguments are:  ', args)\n",
        "    print('The first argument is:       ', arg_1)\n",
        "    print('The second argument is:      ', arg_2)\n",
        "    print('The remaining arguments are: ', arg_3)\n",
        "    print('The keyword arguments are:   ', kwargs)\n",
        "\n",
        "print_arguments(1, 2, 3, name='John', age=30)"
      ],
      "metadata": {
        "id": "yQ-lTbiVW5FQ"
      },
      "execution_count": null,
      "outputs": []
    },
    {
      "cell_type": "markdown",
      "source": [
        "\n",
        "\n",
        "---\n",
        "\n"
      ],
      "metadata": {
        "id": "kZp6q77TiBnI"
      }
    },
    {
      "cell_type": "markdown",
      "source": [
        "##11. Dynamic Importing    \n",
        "    \n",
        "You can import a module dynamically using the `importlib` module. This can be useful when you want to import a module based on user input or configuration.   "
      ],
      "metadata": {
        "id": "wCGR2rLVa7w5"
      }
    },
    {
      "cell_type": "code",
      "source": [
        "import importlib\n",
        "\n",
        "module_name = 'math'\n",
        "module = importlib.import_module(module_name)"
      ],
      "metadata": {
        "id": "tNw3X1_TbAQe"
      },
      "execution_count": null,
      "outputs": []
    },
    {
      "cell_type": "code",
      "source": [
        "result = module.sqrt(9)\n",
        "print(result)"
      ],
      "metadata": {
        "id": "SGsFhq3SbHh4"
      },
      "execution_count": null,
      "outputs": []
    },
    {
      "cell_type": "markdown",
      "source": [
        "Try it with a module name that you request then use a method or attribute from the module that you requested.    "
      ],
      "metadata": {
        "id": "GvNCmGPvbLdh"
      }
    },
    {
      "cell_type": "code",
      "source": [
        "import importlib\n",
        "try:\n",
        "    module_name = input('Enter the module name you would like imported:')\n",
        "    module = importlib.import_module(module_name)\n",
        "    print('Imported the module', module_name)\n",
        "except:\n",
        "    print('Sorry. Not able to import', module_name)"
      ],
      "metadata": {
        "id": "9ZOf84v-bVqP"
      },
      "execution_count": null,
      "outputs": []
    },
    {
      "cell_type": "code",
      "source": [
        "# enter your code here using the module you just requested\n",
        "print(math.pi)  # example after importing `math`   "
      ],
      "metadata": {
        "id": "tdeyW15FbwL7"
      },
      "execution_count": null,
      "outputs": []
    },
    {
      "cell_type": "markdown",
      "source": [
        "\n",
        "\n",
        "---\n",
        "\n"
      ],
      "metadata": {
        "id": "IMCzY1Q_iAO1"
      }
    },
    {
      "cell_type": "markdown",
      "source": [
        "##12. Dictionary Comprehensions    \n",
        "Dictionary comprehensions are a concise way to create a dictionary from an existing dictionary or any iterable. It is a one-liner that can replace a `for loop`, making your code more efficient and readable.    \n",
        "\n",
        "Let's try a dictionary comprehension:    \n"
      ],
      "metadata": {
        "id": "xN5Exg9DdJN5"
      }
    },
    {
      "cell_type": "code",
      "source": [
        "squared_numbers = {x: x**2 for x in range(1, 6)}\n",
        "\n",
        "print(squared_numbers)"
      ],
      "metadata": {
        "id": "Yjg8i9WrdUJ5"
      },
      "execution_count": null,
      "outputs": []
    },
    {
      "cell_type": "markdown",
      "source": [
        "\n",
        "\n",
        "---\n",
        "\n"
      ],
      "metadata": {
        "id": "1WS3Azk9h_H7"
      }
    },
    {
      "cell_type": "markdown",
      "source": [
        "##13. Callable Objects    \n",
        "In Python, anything that can be called a function is called a callable object. This includes `functions`, `methods`, `classes`, and even objects that define the `__call__` method.    \n",
        "\n",
        "Let's try callable objects:    \n"
      ],
      "metadata": {
        "id": "2uU9E2h3dcgv"
      }
    },
    {
      "cell_type": "code",
      "source": [
        "# defining a callable class with `__call__` and two arguments  \n",
        "class AdderClass:\n",
        "    def __call__(self, x, y):\n",
        "        return x + y\n",
        "\n",
        "# creating an object based on AdderClass\n",
        "adder_obj = AdderClass()\n",
        "\n",
        "# assigning the result of calling the adder_obj with arguments\n",
        "result = adder_obj(3, 4)\n",
        "\n",
        "print(result)"
      ],
      "metadata": {
        "id": "tIMyk5_DdsWu"
      },
      "execution_count": null,
      "outputs": []
    },
    {
      "cell_type": "markdown",
      "source": [
        "\n",
        "\n",
        "---\n",
        "\n"
      ],
      "metadata": {
        "id": "0nE6JXY0h918"
      }
    },
    {
      "cell_type": "markdown",
      "source": [
        "##14. Separate big numbers/characters with the underscore    \n",
        "    \n",
        "Big numeric numbers are hard to interpret, so python has a great capability to put underscore `_` to make the numbers more readable.    \n",
        "    \n",
        "Let's try assigning a large numeric value with underscore (`_`) separators embedded:   "
      ],
      "metadata": {
        "id": "B7bCwoscfwya"
      }
    },
    {
      "cell_type": "code",
      "source": [
        "num_test = 100_345_405  # this is a single, large number\n",
        "\n",
        "print(num_test)"
      ],
      "metadata": {
        "id": "sD2CeV8PgDo7"
      },
      "execution_count": null,
      "outputs": []
    },
    {
      "cell_type": "markdown",
      "source": [
        "\n",
        "\n",
        "---\n",
        "\n"
      ],
      "metadata": {
        "id": "1Wm0Tkweh8FG"
      }
    },
    {
      "cell_type": "markdown",
      "source": [
        "##15. Merge two (2) dictionaries quickly    \n",
        "    \n",
        "We can quickly merge two dictionaries in python using the `**` prefix as in the following code:     "
      ],
      "metadata": {
        "id": "P3SxG4fDgXyo"
      }
    },
    {
      "cell_type": "code",
      "source": [
        "dictionary_one = {\"a\": 1, \"c\": 3}\n",
        "dictionary_two = {\"b\": 2, \"d\": 4}\n",
        "\n",
        "merged_dict = {**dictionary_one, **dictionary_two}\n",
        "\n",
        "print(merged_dict)  "
      ],
      "metadata": {
        "id": "IQHgzgd5ggqQ"
      },
      "execution_count": null,
      "outputs": []
    },
    {
      "cell_type": "markdown",
      "source": [
        "\n",
        "\n",
        "---\n",
        "\n"
      ],
      "metadata": {
        "id": "nVoFxR4eh589"
      }
    },
    {
      "cell_type": "markdown",
      "source": [
        "##16. `Lists`, `sets`, and `dictionaries` are mutable    \n",
        "Mutable means that we can change or update the object (`list`, `set`, or `dictionary`) without changing the pointer of the object in the memory.     \n",
        "\n",
        "Let’s try that with each `type` in the following examples:    \n"
      ],
      "metadata": {
        "id": "ZuH5FaMOg7Mm"
      }
    },
    {
      "cell_type": "code",
      "source": [
        "# mutating a list and retaining the memory pointer \n",
        "cities_lst = [\"Munich\", \"Zurich\", \"London\"]\n",
        "print(id(cities_lst)) # 2797174365184\n",
        "cities_lst.append(\"Berlin\")\n",
        "print(id(cities_lst)) # 2797174365184"
      ],
      "metadata": {
        "id": "x76JIBj1hSaO"
      },
      "execution_count": null,
      "outputs": []
    },
    {
      "cell_type": "code",
      "source": [
        "# mutating a set and retaining the memory pointer \n",
        "my_set = {1, 2, 3}\n",
        "print(id(my_set))  # 2797172976992\n",
        "my_set.add(4)\n",
        "print(id(my_set))  # 2797172976992"
      ],
      "metadata": {
        "id": "mEP2G4d2hW7o"
      },
      "execution_count": null,
      "outputs": []
    },
    {
      "cell_type": "code",
      "source": [
        "# mutating a dictionary and retaining the memory pointer \n",
        "this_dict = {\n",
        "  \"brand\": \"Ford\",\n",
        "  \"model\": \"Mustang\",\n",
        "  \"year\": 1964\n",
        "}\n",
        "print(id(this_dict))  #2797174128256\n",
        "this_dict[\"engine\"] = \"2500cc\"\n",
        "print(id(this_dict))  #2797174128256"
      ],
      "metadata": {
        "id": "KloMGixOhrQm"
      },
      "execution_count": null,
      "outputs": []
    },
    {
      "cell_type": "markdown",
      "source": [
        "\n",
        "---\n"
      ],
      "metadata": {
        "id": "kIHnU7IUit9u"
      }
    }
  ]
}