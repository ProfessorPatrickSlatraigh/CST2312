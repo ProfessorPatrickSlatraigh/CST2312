{
  "nbformat": 4,
  "nbformat_minor": 0,
  "metadata": {
    "colab": {
      "provenance": [],
      "authorship_tag": "ABX9TyO939RVPQB/1vvCw9CPd8z3",
      "include_colab_link": true
    },
    "kernelspec": {
      "name": "python3",
      "display_name": "Python 3"
    },
    "language_info": {
      "name": "python"
    }
  },
  "cells": [
    {
      "cell_type": "markdown",
      "metadata": {
        "id": "view-in-github",
        "colab_type": "text"
      },
      "source": [
        "<a href=\"https://colab.research.google.com/github/ProfessorPatrickSlatraigh/CST2312/blob/main/CST2312_HD32_Spr2023_Class_11_06_Mar_2023.ipynb\" target=\"_parent\"><img src=\"https://colab.research.google.com/assets/colab-badge.svg\" alt=\"Open In Colab\"/></a>"
      ]
    },
    {
      "cell_type": "markdown",
      "source": [
        "# CST2312 Class #11 - Next Level Python\n",
        "\n",
        "from [16 Python Tricks To Learn Before You Write Your Next Code:](https://medium.com/codex/16-python-tricks-to-learn-before-you-write-your-next-code-bb91dd955f1b)     \n",
        "Tricks that will make your life easier as a python developer    \n",
        "*by Anmol Tomar in Medium.com, Feb-2022*     "
      ],
      "metadata": {
        "id": "nDArSZ5fVLsE"
      }
    },
    {
      "cell_type": "markdown",
      "source": [
        "## Introduction    \n",
        "    \n",
        "Python is a versatile and widely-used programming language with a vast array of libraries and frameworks. However, there are some lesser-known Python coding tricks and libraries that can make your life as a developer easier and your code more efficient.    "
      ],
      "metadata": {
        "id": "6FE0T9-IWwj3"
      }
    },
    {
      "cell_type": "markdown",
      "source": [
        "##1. Ternary operator\n",
        "The ternary operator is a shorthand for an if-else statement. The syntax is ´value_if_true if condition else value_if_false´. It's a one-liner that can replace a multi-line if-else statement, making your code more concise.    "
      ],
      "metadata": {
        "id": "JO0ffouQW6v_"
      }
    },
    {
      "cell_type": "code",
      "execution_count": null,
      "metadata": {
        "id": "VaYPM60zUkjC"
      },
      "outputs": [],
      "source": [
        "a = 5 \n",
        "b = 10 \n",
        "max = a if a > b else b  ## value_if_true if condition else value_if_false\n",
        "\n",
        "print(max)"
      ]
    },
    {
      "cell_type": "markdown",
      "source": [
        "How could we write a comparable script using and`if-else` construct?      "
      ],
      "metadata": {
        "id": "wJJYmzFjS9Kl"
      }
    },
    {
      "cell_type": "code",
      "source": [
        "a = 5\n",
        "b = 10 \n",
        "\n",
        "if a > b: \n",
        "    max = a\n",
        "else:\n",
        "    max = b\n",
        "\n",
        "print(max) "
      ],
      "metadata": {
        "id": "ZT-yZeZ_TF1l"
      },
      "execution_count": null,
      "outputs": []
    },
    {
      "cell_type": "markdown",
      "source": [
        "##2. `enumerate()` function\n",
        "The `enumerate()` function adds a counter to an iterable and returns it in a form of enumerate object. This function is useful when you want to iterate over a list and also keep track of the index.    "
      ],
      "metadata": {
        "id": "9ebAoarVYr6S"
      }
    },
    {
      "cell_type": "code",
      "source": [
        "fruits = ['apple', 'banana', 'mango'] \n",
        "for index, fruit in enumerate(fruits): \n",
        "    print(index, fruit)"
      ],
      "metadata": {
        "id": "3A772brAY8hM"
      },
      "execution_count": null,
      "outputs": []
    },
    {
      "cell_type": "markdown",
      "source": [
        "How could we write a comparable script if we did not use the `enumerate()` function?    "
      ],
      "metadata": {
        "id": "j88qXc_1KqQN"
      }
    },
    {
      "cell_type": "code",
      "source": [
        "fruits = ['apple', 'banana', 'mango'] \n",
        "index = 0\n",
        "for fruit in fruits:\n",
        "    print(index, fruit)\n",
        "    index += 1 "
      ],
      "metadata": {
        "id": "IZ6Q2WRZK0lG"
      },
      "execution_count": null,
      "outputs": []
    },
    {
      "cell_type": "markdown",
      "source": [
        "Another way to do that would be:    "
      ],
      "metadata": {
        "id": "1jfzml7VSWW_"
      }
    },
    {
      "cell_type": "code",
      "source": [
        "fruits = ['apple', 'banana', 'mango'] \n",
        "index = 0\n",
        "for fruit in fruits:\n",
        "    print(index, fruits[index])\n",
        "    index += 1 "
      ],
      "metadata": {
        "id": "o-_s35psSalA"
      },
      "execution_count": null,
      "outputs": []
    },
    {
      "cell_type": "markdown",
      "source": [
        "Or, alternatively:    "
      ],
      "metadata": {
        "id": "mDKpO6OHSh54"
      }
    },
    {
      "cell_type": "code",
      "source": [
        "fruits = ['apple', 'banana', 'mango'] \n",
        "\n",
        "for index in range(len(fruits)):\n",
        "    print(index, fruits[index])"
      ],
      "metadata": {
        "id": "UjeMvJelSlWp"
      },
      "execution_count": null,
      "outputs": []
    },
    {
      "cell_type": "markdown",
      "source": [
        "##3. `zip()` function    \n",
        "The zip() function aggregates elements from each of the iterables and returns an iterator of tuples. This function is useful when you want to iterate over two or more lists simultaneously.    "
      ],
      "metadata": {
        "id": "sl11e97PZD1k"
      }
    },
    {
      "cell_type": "code",
      "source": [
        "list1 = [1, 2, 3] \n",
        "list2 = ['a', 'b', 'c'] \n",
        "for x, y in zip(list1, list2):\n",
        "    print(x, y)"
      ],
      "metadata": {
        "id": "2rPIo89aZN8F"
      },
      "execution_count": null,
      "outputs": []
    },
    {
      "cell_type": "markdown",
      "source": [
        "How could we write a comparable script to produce a list of two-element **tuples** from two lists of **values**?    "
      ],
      "metadata": {
        "id": "6iJBxeBKJGa7"
      }
    },
    {
      "cell_type": "code",
      "source": [
        "list1 = [1, 2, 3] \n",
        "list2 = ['a', 'b', 'c'] \n",
        "list3 = []\n",
        "if len(list1) == len(list2):\n",
        "    for i in range(len(list1)):\n",
        "        # list3.append((list1[i], list2[i]))   # include for a list of tuples\n",
        "        print(list1[i], list2[i])              # replace with next line if you want to\n",
        "    # print(list3)                             # include to print the new list\n",
        "else:\n",
        "    print('This will not work with different length lists')\n"
      ],
      "metadata": {
        "id": "uxLQV3GKJR0S"
      },
      "execution_count": null,
      "outputs": []
    },
    {
      "cell_type": "markdown",
      "source": [
        "What about a script that uses `zip()` to combine the **ISO 3166** country codes with the names of the countries in Latin America?    "
      ],
      "metadata": {
        "id": "gTKhJh8JWBl2"
      }
    },
    {
      "cell_type": "code",
      "source": [
        "country_name = ['Argentina', 'Bolivia', 'Brazil', 'Chile', 'Colombia', 'Costa Rica', 'Cuba', 'Dominican Republic', 'Ecuador', 'El Salvador', 'Guatemala', 'Haiti', 'Honduras', 'Jamaica', 'Mexico', 'Nicaragua', 'Panama', 'Paraguay', 'Peru', 'Puerto Rico', 'Trinidad and Tobago', 'Uruguay', 'Venezuela']\n",
        "country_iso = ['ARG', 'BOL', 'BRA', 'CHL', 'COL', 'CRI', 'CUB', 'DOM', 'ECU', 'SLV', 'GTM', 'HTI', 'HND', 'JAM', 'MEX', 'NIC', 'PAN', 'PRY', 'PER', 'PRI', 'TTO', 'URY', 'VEN']\n",
        "\n",
        "for name, iso in zip(country_name, country_iso):\n",
        "    print(name, iso)"
      ],
      "metadata": {
        "id": "showei9tWPRU"
      },
      "execution_count": null,
      "outputs": []
    },
    {
      "cell_type": "markdown",
      "source": [
        "##4.  List comprehensions   \n",
        "List comprehensions are a concise way to create a list from an existing list or any iterable. It’s a one-liner that can replace a for loop, making your code more efficient and readable.    "
      ],
      "metadata": {
        "id": "VImwt93fZP71"
      }
    },
    {
      "cell_type": "code",
      "source": [
        "squared_numbers_lst = [x**2 for x in range(1, 6)]\n",
        "\n",
        "print(squared_numbers_lst)"
      ],
      "metadata": {
        "id": "nm9hdVHQZWOH"
      },
      "execution_count": null,
      "outputs": []
    },
    {
      "cell_type": "markdown",
      "source": [
        "How could we have written a comparable script with a `for:` loop?    "
      ],
      "metadata": {
        "id": "8spnKuOqH9Z3"
      }
    },
    {
      "cell_type": "code",
      "source": [
        "squared_numbers_lst = []                      # create an empty list\n",
        "for x in range (1,6):\n",
        "    squared_value = x**2                      # calculate each value\n",
        "    squared_numbers_lst.append(squared_value) # append value to list \n",
        "\n",
        "print(squared_numbers_lst)"
      ],
      "metadata": {
        "id": "lGXpDb6jII8w"
      },
      "execution_count": null,
      "outputs": []
    },
    {
      "cell_type": "markdown",
      "source": [
        "##5. Lambda functions    \n",
        "\n",
        "Lambda functions are anonymous functions that are defined using the `lambda` keyword. They are useful when you need to write small, one-time functions, and you don't want to use the `def:` keyword to define a named function."
      ],
      "metadata": {
        "id": "hOUiEGEmG4pc"
      }
    },
    {
      "cell_type": "code",
      "source": [
        "add = lambda x, y: x + y \n",
        "\n",
        "result = add(3, 4)\n",
        "\n",
        "print(result)"
      ],
      "metadata": {
        "id": "3K4A2ElbG-FG"
      },
      "execution_count": null,
      "outputs": []
    },
    {
      "cell_type": "markdown",
      "source": [
        "How could we have written a comparable script using a `def:` statement to define a **function**?    "
      ],
      "metadata": {
        "id": "lzafxPnhHCQr"
      }
    },
    {
      "cell_type": "code",
      "source": [
        "# the lamda function collapsed the following function\n",
        "# into one line \n",
        "def adder(x, y):\n",
        "    add = x + y\n",
        "    return add\n",
        "\n",
        "# then we can call the function as we did when it was a lamda function\n",
        "result = add(3, 4)\n",
        "\n",
        "print(result)"
      ],
      "metadata": {
        "id": "CpOsCOAPHNaM"
      },
      "execution_count": null,
      "outputs": []
    },
    {
      "cell_type": "markdown",
      "source": [
        "##6. `any()` and `all()` functions    \n",
        "The `any()` and `all()` functions return `True` or `False` based on the truthfulness of the elements in an iterable.     \n",
        "\n",
        "  - `any()` function returns `True` if any element in the iterable is true    \n",
        "  - `all()` function returns `True` if all elements in the iterable are true    \n",
        "    \n",
        "The `not` operator can be used to reverse the logic of either the `any()` or the `all()` functions so that:    \n",
        "\n",
        "  - `not any()` function returns `True` if no element in the iterable is true -- it tests to see that all elements are false or empty        \n",
        "  - `not all()` function returns `True` if not all elements in the iterable are true -- which is equivalent to using the `any()` function        "
      ],
      "metadata": {
        "id": "dYfobaGfWxS5"
      }
    },
    {
      "cell_type": "code",
      "source": [
        "numbers =  [1, 2, 3, 0, 4]            # setting up a list with one False\n",
        "\n",
        "letters =  ['a', 'b', 'c', 'd', 'e']  # setting up a list with only True\n",
        "\n",
        "nothings = [False, 0, '', None, {}]   # setting up a list with only False\n",
        "\n",
        "# our `numbers` list has a value of 0 which will evaluate to False \n",
        "# our `letters` list has only non-empty strings which all evaluate to True \n",
        "# our `nothings` list has elements which all evaluate to False  "
      ],
      "metadata": {
        "id": "jCqUINurXXkp"
      },
      "execution_count": 40,
      "outputs": []
    },
    {
      "cell_type": "code",
      "source": [
        "print('The expression `any(numbers)`  evaluates as:', any(numbers))          # True \n",
        "print('The expression `any(letters)`  evaluates as:', any(letters))          # True \n",
        "print('The expression `any(nothings)` evaluates as:', any(nothings),'\\n')    # False \n",
        "\n",
        "print('The expression `not any(numbers)`  evaluates as:', not any(numbers))  # False\n",
        "print('The expression `not any(letters)`  evaluates as:', not any(letters))  # False\n",
        "print('The expression `not any(nothings)` evaluates as:', not any(nothings)) # True"
      ],
      "metadata": {
        "id": "rvUsloLPYQxi"
      },
      "execution_count": null,
      "outputs": []
    },
    {
      "cell_type": "markdown",
      "source": [
        "*Does that mean the phrase \"Not for nothing\" means something is true?* 😲"
      ],
      "metadata": {
        "id": "Ok1soDhzb6zb"
      }
    },
    {
      "cell_type": "code",
      "source": [
        "print('The expression `all(numbers)`  evaluates as:', all(numbers))          # False \n",
        "print('The expression `all(letters)`  evaluates as:', all(letters))          # True \n",
        "print('The expression `all(nothings)` evaluates as:', all(nothings),'\\n')    # False \n",
        "\n",
        "print('The expression `not all(numbers)`  evaluates as:', not all(numbers))  # True\n",
        "print('The expression `not all(letters)`  evaluates as:', not all(letters))  # False\n",
        "print('The expression `not all(nothings)` evaluates as:', not all(nothings)) # True"
      ],
      "metadata": {
        "id": "mWgkJzB3aNm6"
      },
      "execution_count": null,
      "outputs": []
    },
    {
      "cell_type": "markdown",
      "source": [
        "##7. Itertools     \n",
        "    \n",
        "The `itertools` module provides a set of functions to work with iterators and is not widely known. Some of the functions in this module are:    \n",
        "    \n",
        " - `chain()` - returns a single iterable with a sequence of the elements from the argument iterable(s)    \n",
        "   o `chain.from_iterable()` - returns the chained elemenst from a single iterable \n",
        " - `product()` -  returns the Cartesian product of the elements in two iterable arguments\n",
        " - `permutations()` - returns an iterable of all of the permutations of elements in the iterable argument(s)       \n",
        "     "
      ],
      "metadata": {
        "id": "HHjr4_t8dQaT"
      }
    },
    {
      "cell_type": "markdown",
      "source": [
        "First, import the `itertools` module and create iterables (lists) we will call `numbers_lst1` and `numbers_lst2` with three integer values in each.    "
      ],
      "metadata": {
        "id": "554Mlv1tfOtQ"
      }
    },
    {
      "cell_type": "code",
      "source": [
        "import itertools \n",
        "numbers_lst1 = [1, 2, 3]\n",
        "numbers_lst2 = [5, 6, 7]"
      ],
      "metadata": {
        "id": "M_kS5r0gd21U"
      },
      "execution_count": 61,
      "outputs": []
    },
    {
      "cell_type": "markdown",
      "source": [
        "Let's also create a mixed list of integers and a subordinate list of integers.  This list will be used in the `.chain()` method example.     "
      ],
      "metadata": {
        "id": "EMf2kdcOno8L"
      }
    },
    {
      "cell_type": "code",
      "source": [
        "mixed_lst3 = [8, 9, [10, 11, 12]]"
      ],
      "metadata": {
        "id": "DcMxpflmn1sA"
      },
      "execution_count": 63,
      "outputs": []
    },
    {
      "cell_type": "markdown",
      "source": [
        "And, a string which we can use when invoking `.chain.from_iterable()`    "
      ],
      "metadata": {
        "id": "9gyD7VrWsJIJ"
      }
    },
    {
      "cell_type": "code",
      "source": [
        "string_lst4 = ['123', '456'] "
      ],
      "metadata": {
        "id": "iZeverYusT0R"
      },
      "execution_count": 67,
      "outputs": []
    },
    {
      "cell_type": "markdown",
      "source": [
        "### `itertools.chain()`    \n",
        "\n",
        "`itertools.chain(*iterables)`    \n",
        "    \n",
        "Make an iterator that returns elements from the first iterable until it is exhausted, then proceeds to the next iterable, until all of the iterables are exhausted. Used for treating consecutive sequences as a single sequence.     \n",
        "\n",
        "Roughly equivalent to:    \n",
        "```\n",
        "def chain(*iterables):\n",
        "    # chain('ABC', 'DEF') --> A B C D E F\n",
        "    for it in iterables:\n",
        "        for element in it:\n",
        "            yield element\n",
        "```    \n",
        "Using `.chain()` to produce an iterable from two iterable arguments:    "
      ],
      "metadata": {
        "id": "2SzS-9hbm2va"
      }
    },
    {
      "cell_type": "code",
      "source": [
        "print('The arguments: ', numbers_lst1, '|', numbers_lst2, '\\n')\n",
        "print('The `.chain()` method returns an iterable: ', itertools.chain(numbers_lst1, numbers_lst2), '\\n')\n",
        "\n",
        "print('The `list()` of the `.chain()` iterable values: ', list(itertools.chain(numbers_lst1, numbers_lst2)))"
      ],
      "metadata": {
        "id": "eaZhhQNAnWcd"
      },
      "execution_count": null,
      "outputs": []
    },
    {
      "cell_type": "markdown",
      "source": [
        "What is we include the mixed list `mixed_lst3` as one of the arguments to `.chain()`?    "
      ],
      "metadata": {
        "id": "nH0gpvPGn8c4"
      }
    },
    {
      "cell_type": "code",
      "source": [
        "print('The arguments: ', numbers_lst1, '|', numbers_lst2, '|', mixed_lst3, '\\n')\n",
        "print('The `.chain()` method returns an iterable: ', itertools.chain(numbers_lst1, numbers_lst2, mixed_lst3), '\\n')\n",
        "\n",
        "print('The `list()` of the `.chain()` iterable values: ', list(itertools.chain(numbers_lst1, numbers_lst2, mixed_lst3)))"
      ],
      "metadata": {
        "id": "e_k8wrwKoFhF"
      },
      "execution_count": null,
      "outputs": []
    },
    {
      "cell_type": "markdown",
      "source": [
        "As the last example demonstrates, `.chain()` is does not process subordinate iterables recursively until it reaches the value level.  It works on the elements in the iterable provide as an argument, regardless of whether any elements in an argument iterable are iterables themselves.    "
      ],
      "metadata": {
        "id": "eMsCilpkoPPO"
      }
    },
    {
      "cell_type": "code",
      "source": [
        "print('The argument: ', string_lst4, '\\n')\n",
        "print('The `.chain.from_iterable()` method returns an iterable: ', itertools.chain.from_iterable(string_lst4), '\\n')\n",
        "\n",
        "print('The `list()` of the `.chain.from_iterable()` iterable values: ', list(itertools.chain.from_iterable(string_lst4)))"
      ],
      "metadata": {
        "id": "kdza7IUCrov_"
      },
      "execution_count": null,
      "outputs": []
    },
    {
      "cell_type": "markdown",
      "source": [
        "Where might we use the `.chain.from_iterable()` method?   Consider an iterable such as a string, which we want to process as individual characters:    \n"
      ],
      "metadata": {
        "id": "s5cXZP_AuEwf"
      }
    },
    {
      "cell_type": "code",
      "source": [
        "alphabet_str = 'ABCDEFGHIJKLMNOPQRSTUVWXYZ'\n",
        "print('The argument: ', alphabet_str, '\\n')\n",
        "print('The `.chain.from_iterable()` method returns an iterable: ', itertools.chain.from_iterable(alphabet_str), '\\n')\n",
        "\n",
        "print('The `list()` of the `.chain.from_iterable()` iterable values: ', list(itertools.chain.from_iterable(alphabet_str)))"
      ],
      "metadata": {
        "id": "uRWH_7jGuUmX"
      },
      "execution_count": null,
      "outputs": []
    },
    {
      "cell_type": "markdown",
      "source": [
        "### `itertools.product()`    \n",
        "    \n",
        "`itertools.product(*iterables, repeat=1)`\n",
        "\n",
        "Roughly equivalent to nested for-loops in a generator expression. For example, `product(A, B)` returns the same as `((x,y) for x in A for y in B)`.\n",
        "\n",
        "The nested loops cycle like an odometer with the rightmost element advancing on every iteration. This pattern creates a lexicographic ordering so that if the input’s iterables are sorted, the product tuples are emitted in sorted order.\n",
        "\n",
        "To compute the product of an iterable with itself, specify the number of repetitions with the optional repeat keyword argument. For example, `product(A, repeat=4)` means the same as `product(A, A, A, A)`.\n",
        "       \n",
        "Using `.product()` to generate an iterable of the values of the Cartesian products of the elements in two iterables:    "
      ],
      "metadata": {
        "id": "aMa15GoRfdfx"
      }
    },
    {
      "cell_type": "code",
      "source": [
        "print('The arguments: ', numbers_lst1, '|', numbers_lst2, '\\n')\n",
        "print('The `.product()` method returns an iterable: ', itertools.product(numbers_lst1, numbers_lst2), '\\n')\n",
        "\n",
        "print('The `list()` of the `.product()` iterable values: ', list(itertools.product(numbers_lst1, numbers_lst2)))"
      ],
      "metadata": {
        "id": "B8MQ7GP7fdfx"
      },
      "execution_count": null,
      "outputs": []
    },
    {
      "cell_type": "markdown",
      "source": [
        "### `itertools.permutation()`    \n",
        "    \n",
        "`itertools.permutations(iterable, r=None)`\n",
        "\n",
        "Return successive `r` length permutations of elements in the iterable.    \n",
        "\n",
        "If `r` is not specified or is `None`, then `r` defaults to the length of the iterable and all possible full-length permutations are generated.\n",
        "\n",
        "The permutation tuples are emitted in lexicographic order according to the order of the input iterable. So, if the input iterable is sorted, the output tuples will be produced in sorted order.\n",
        "\n",
        "Elements are treated as unique based on their position, not on their value. So if the input elements are unique, there will be no repeated values within a permutation.    \n",
        "\n",
        "Using `.permutations()` to generate a list of all of the permutations of elements in an iterable:    "
      ],
      "metadata": {
        "id": "KTLfMg4Md4eg"
      }
    },
    {
      "cell_type": "code",
      "source": [
        "print('The argument: ', numbers_lst1, '\\n')\n",
        "print('The `.permutations()` method returns an iterable: ', itertools.permutations(numbers_lst1), '\\n')\n",
        "\n",
        "print('The `list()` of the `.permutations()` iterable: ', list(itertools.permutations(numbers_lst1)))"
      ],
      "metadata": {
        "colab": {
          "base_uri": "https://localhost:8080/"
        },
        "id": "Mdpv69-yeAix",
        "outputId": "3009bf83-1737-4924-fa98-f5ee04fa66cd"
      },
      "execution_count": 74,
      "outputs": [
        {
          "output_type": "stream",
          "name": "stdout",
          "text": [
            "The argument:  [1, 2, 3] \n",
            "\n",
            "The `.permutations()` method returns an iterable:  <itertools.permutations object at 0x7f98dab693b0> \n",
            "\n",
            "The `list()` of the `.permutations()` iterable:  [(1, 2, 3), (1, 3, 2), (2, 1, 3), (2, 3, 1), (3, 1, 2), (3, 2, 1)]\n"
          ]
        }
      ]
    },
    {
      "cell_type": "markdown",
      "source": [
        "##8. Generators     \n",
        "\n",
        "Generators are a type of iterable that generate values on-the-fly, instead of storing them in memory. They are defined using the `yield` keyword and can be used to create custom iterators.    \n",
        "\n",
        "We saw the use of `generators` in the example of the equivalent code for the `.chain()` method in the last section.    \n",
        "\n",
        "Let's define a generator for a *Fibonacci Series*:  "
      ],
      "metadata": {
        "id": "2pQuRxW1u2Op"
      }
    },
    {
      "cell_type": "code",
      "source": [
        "### Generators created using yield keyword \n",
        "def fibonacci_series(n):\n",
        "    a, b = 0, 1\n",
        "    for i in range(n):\n",
        "        yield a\n",
        "        a, b = b, a + b"
      ],
      "metadata": {
        "id": "Ih5x-NQivp5U"
      },
      "execution_count": 76,
      "outputs": []
    },
    {
      "cell_type": "markdown",
      "source": [
        "Note that the function definition above does not `break` or `return`, rather it produces values when the `yield` statement executes.  We can invoke `fibonacci_series()` to see how it works:    "
      ],
      "metadata": {
        "id": "x7fQ0aKUvt0u"
      }
    },
    {
      "cell_type": "code",
      "source": [
        "# Driver code to check above generator function \n",
        "for number in fibonacci_series(10):\n",
        "    print(number)"
      ],
      "metadata": {
        "id": "7NeHl9FywDyz"
      },
      "execution_count": null,
      "outputs": []
    },
    {
      "cell_type": "markdown",
      "source": [
        "If we use the `fibonacci_series` generator in an assignment, we can test the `type` and values of the resulting variable.  "
      ],
      "metadata": {
        "id": "LK-oQZQGwVgw"
      }
    },
    {
      "cell_type": "code",
      "source": [
        "f10_result = fibonacci_series(10)"
      ],
      "metadata": {
        "id": "zateRSXFwMU7"
      },
      "execution_count": 78,
      "outputs": []
    },
    {
      "cell_type": "code",
      "source": [
        "type(f10_result)"
      ],
      "metadata": {
        "id": "YUKJduFFwRTQ"
      },
      "execution_count": null,
      "outputs": []
    },
    {
      "cell_type": "code",
      "source": [
        "print(f10_result)"
      ],
      "metadata": {
        "id": "WZiHShj9whGr"
      },
      "execution_count": null,
      "outputs": []
    },
    {
      "cell_type": "code",
      "source": [
        "print(list(f10_result))"
      ],
      "metadata": {
        "id": "D-pXAWu-wllP"
      },
      "execution_count": null,
      "outputs": []
    },
    {
      "cell_type": "markdown",
      "source": [
        "##9. Decorators    \n",
        "\n",
        "Decorators are a way to modify the behavior of a **function** or a **class**. They are defined using the `@` symbol and can be used to add functionality to a **function**, such as:    \n",
        "     \n",
        "  - logging    \n",
        "  - timing    \n",
        "  - authentication    \n",
        "      \n",
        "Let's try an example, but first a primer on **functions** and **variables**:    "
      ],
      "metadata": {
        "id": "ns2PDPKWw2Ev"
      }
    },
    {
      "cell_type": "markdown",
      "source": [
        "<u>1. Functions are Objects in Python</u>    \n",
        "Functions are first-class objects in Python. As a result, they have all of the attributes of an object, and we may handle them as such by assigning them to variables and passing them as arguments to other functions as arguments.        \n",
        "     \n",
        "<u>2. Assigning Functions to Variables in Python</u>    \n",
        "In Python, we can assign a function to a variable. We can later use that variable to call the function,    \n",
        "    \n",
        "Example of assigning function to a variable:    "
      ],
      "metadata": {
        "id": "S-fpx7Gtyp7g"
      }
    },
    {
      "cell_type": "code",
      "source": [
        "# create a `building()` function\n",
        "def building():\n",
        "    print(\"Namm\")\n",
        "\n",
        "# assign the `building()` function to the variable `place`\n",
        "place = building \n",
        "\n",
        "print('Query of the objects `building` and `place`:')\n",
        "print(f\"{building = }\")\n",
        "print(f\"{place = }\")\n",
        "\n",
        "print()\n",
        "\n",
        "print('Invoking `building()` and `place()`: ')\n",
        "building()\n",
        "place()"
      ],
      "metadata": {
        "colab": {
          "base_uri": "https://localhost:8080/"
        },
        "id": "YZo-IExcy88d",
        "outputId": "7acb70e8-e9e8-4622-aec2-10c9ee696f36"
      },
      "execution_count": 96,
      "outputs": [
        {
          "output_type": "stream",
          "name": "stdout",
          "text": [
            "Query of the objects `building` and `place`:\n",
            "building = <function building at 0x7f98dab14e50>\n",
            "place = <function building at 0x7f98dab14e50>\n",
            "\n",
            "Invoking `building()` and `place()`: \n",
            "Namm\n",
            "Namm\n"
          ]
        }
      ]
    },
    {
      "cell_type": "markdown",
      "source": [
        "In the above code example, we assigned the function `building()` to the variable `place`. Then we used the `place` variable to call the function. In this way, we can assign a function to as many variables as we want."
      ],
      "metadata": {
        "id": "E9KRvIFM05SM"
      }
    },
    {
      "cell_type": "markdown",
      "source": [
        "<u>3. Passing Function as an Argument in Python</u>    \n",
        "Similar to assigning functions to variables, we can also pass functions as arguments to other functions. The functions which accept the arguments are called higher-order functions.    \n",
        "\n",
        "Let's look at an example of a higher-order function:    "
      ],
      "metadata": {
        "id": "ZRqjJEBA2Tbf"
      }
    },
    {
      "cell_type": "code",
      "source": [
        "# defining a `sqrt()` function for square root of an argument\n",
        "def sqrt(num):\n",
        "    return num**0.5\n",
        "\n",
        "# defining a `square()` function for the square of an argument\n",
        "def square(num):\n",
        "    return num**2\n",
        "\n",
        "# higher-order function `math()` \n",
        "def math(argument_function):\n",
        "    print(argument_function(4))\n",
        "\n",
        "print('Invoking the `math()` function with argument `sqrt`: ')\n",
        "math(sqrt)\n",
        "print('Invoking the `math()` function with argument `square`: ')\n",
        "math(square)"
      ],
      "metadata": {
        "colab": {
          "base_uri": "https://localhost:8080/"
        },
        "id": "-aUZaYdK2gWE",
        "outputId": "c7f3bdd1-9264-4cf5-d937-b74714d071ea"
      },
      "execution_count": 97,
      "outputs": [
        {
          "output_type": "stream",
          "name": "stdout",
          "text": [
            "2.0\n",
            "16\n"
          ]
        }
      ]
    },
    {
      "cell_type": "code",
      "source": [
        "def log_function(func):\n",
        "    def wrapper(*args, **kwargs):\n",
        "        print(f'Running {func.__name__}')\n",
        "        result = func(*args, **kwargs)\n",
        "        print(f'{func.__name__} returned {result}')\n",
        "        return result\n",
        "    return wrapper"
      ],
      "metadata": {
        "id": "n6U6-7hTxr9X"
      },
      "execution_count": 82,
      "outputs": []
    },
    {
      "cell_type": "code",
      "source": [
        "print(log_function(7))"
      ],
      "metadata": {
        "id": "HA8oIRDfxtPd"
      },
      "execution_count": null,
      "outputs": []
    }
  ]
}