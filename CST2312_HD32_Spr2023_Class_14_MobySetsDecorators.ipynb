{
  "nbformat": 4,
  "nbformat_minor": 0,
  "metadata": {
    "colab": {
      "provenance": [],
      "collapsed_sections": [
        "edtD5Vs-VppF",
        "GgI7pK8TXgwo"
      ],
      "include_colab_link": true
    },
    "kernelspec": {
      "name": "python3",
      "display_name": "Python 3"
    }
  },
  "cells": [
    {
      "cell_type": "markdown",
      "metadata": {
        "id": "view-in-github",
        "colab_type": "text"
      },
      "source": [
        "<a href=\"https://colab.research.google.com/github/ProfessorPatrickSlatraigh/CST2312/blob/main/CST2312_HD32_Spr2023_Class_14_MobySetsDecorators.ipynb\" target=\"_parent\"><img src=\"https://colab.research.google.com/assets/colab-badge.svg\" alt=\"Open In Colab\"/></a>"
      ]
    },
    {
      "cell_type": "markdown",
      "metadata": {
        "id": "geogQir6sKrY"
      },
      "source": [
        "# **CST2312 Sets, Moby with Sets, Decorators**\n",
        "**Spring 2023 - HD32, Class 14**\n",
        "\n",
        "This notebook on Colab at `https://bit.ly/cst2312cl14`\n",
        "\n",
        "Updated content as of 15-Mar-2023   \n",
        "\n",
        "\n",
        "\n",
        "\n",
        "\n"
      ]
    },
    {
      "cell_type": "markdown",
      "metadata": {
        "id": "UHzZNTIlsKM9"
      },
      "source": [
        "\n",
        "\n",
        "---\n",
        "\n"
      ]
    },
    {
      "cell_type": "markdown",
      "source": [
        "#**Sets** <sup>(continued)</sup>     \n",
        "    \n",
        "**Complex Data Structures: Sets**        "
      ],
      "metadata": {
        "id": "aBoR-516NZ1k"
      }
    },
    {
      "cell_type": "markdown",
      "metadata": {
        "id": "REcbnaVdp8Ar"
      },
      "source": [
        "A set is a data structure where all elements are unique. While they are similar \n",
        "to lists, in sets there is **no order** among the items in a set, and sets do **not** support indexing. Sets are ideal for membership queries, i.e., checking if an items appears in the set or not."
      ]
    },
    {
      "cell_type": "markdown",
      "metadata": {
        "id": "7SfL2S5DrwRO"
      },
      "source": [
        " **Reading** \n",
        "\n",
        "This lesson is not a part of the Python for Everybody (py4e.com) lesson set.  You can read about **Sets** at the following link from the book \"Think Python 2020\": \n",
        "\n",
        "[Sets](https://greenteapress.com/thinkpython2/html/thinkpython2020.html#sec227) "
      ]
    },
    {
      "cell_type": "markdown",
      "metadata": {
        "id": "gMrBzzoNIMuh"
      },
      "source": [
        "\n",
        "\n",
        "---\n",
        "\n"
      ]
    },
    {
      "cell_type": "markdown",
      "metadata": {
        "id": "5GfzItlBuP0a"
      },
      "source": [
        "## Creating Sets"
      ]
    },
    {
      "cell_type": "markdown",
      "metadata": {
        "id": "1R3cNucEuRgw"
      },
      "source": [
        "Sets are specified by curly braces, `{ }`, containing one or more comma separated values. To specify an empty list, you can use the alternative construct, `set()`.  Note that creating sets using curly braces differs from creating dictionaries with curly braces as the elements separated by commas are not key:value pairs."
      ]
    },
    {
      "cell_type": "code",
      "metadata": {
        "id": "bBVvkjpsuO7Z"
      },
      "source": [
        "# creating sets\n",
        "one_set = {4, 2, 1, 3}\n",
        "print(one_set)"
      ],
      "execution_count": null,
      "outputs": []
    },
    {
      "cell_type": "code",
      "source": [
        "type(one_set)"
      ],
      "metadata": {
        "id": "ywZwD__tHSxs"
      },
      "execution_count": null,
      "outputs": []
    },
    {
      "cell_type": "code",
      "metadata": {
        "id": "hOjTaSeep7ew"
      },
      "source": [
        "two_set = {6, 5, 4, -2}\n",
        "print(two_set)"
      ],
      "execution_count": null,
      "outputs": []
    },
    {
      "cell_type": "code",
      "metadata": {
        "id": "P-ku1DVOuar4"
      },
      "source": [
        "three_set = {5, 0, -3, 4, 4, 4, 4}\n",
        "print(three_set)"
      ],
      "execution_count": null,
      "outputs": []
    },
    {
      "cell_type": "code",
      "metadata": {
        "id": "46bOXpp1udj4"
      },
      "source": [
        "# creating an empty set; notice that we do *not* use the \"empty set = {}\" command\n",
        "# as someone would expect based on the way that we create an empty list\n",
        "empty_set = set()\n",
        "print(empty_set)"
      ],
      "execution_count": null,
      "outputs": []
    },
    {
      "cell_type": "code",
      "source": [
        "type(empty_set)"
      ],
      "metadata": {
        "id": "AUXfzqD4HnIV"
      },
      "execution_count": null,
      "outputs": []
    },
    {
      "cell_type": "markdown",
      "metadata": {
        "id": "dQHsGAyiukzx"
      },
      "source": [
        "We can also create a set from a list:"
      ]
    },
    {
      "cell_type": "code",
      "metadata": {
        "id": "_ZjEvwNbumF4"
      },
      "source": [
        "my_list = [1, 2, 3, 0, 5, 10, 11, 1, 5]\n",
        "my_set = set(my_list)\n",
        "print(my_list)\n",
        "print(my_set)"
      ],
      "execution_count": null,
      "outputs": []
    },
    {
      "cell_type": "markdown",
      "metadata": {
        "id": "Y6QWytY0un9I"
      },
      "source": [
        "**As expected, the set created from a list does not contain any duplicate elements.**"
      ]
    },
    {
      "cell_type": "markdown",
      "metadata": {
        "id": "C16P90MHIqK6"
      },
      "source": [
        "This is a fast, easy, and reliable way to prepare to analyze membership in a list or lists, and to evaluate like subsets (intersections) or differences between lists. "
      ]
    },
    {
      "cell_type": "code",
      "metadata": {
        "id": "zeWd_iSWurph"
      },
      "source": [
        "print(\"Length of list:\", len(my_list))\n",
        "print(\"Length of set:\", len(my_set))"
      ],
      "execution_count": null,
      "outputs": []
    },
    {
      "cell_type": "markdown",
      "metadata": {
        "id": "w3JZ1aZuuvnn"
      },
      "source": [
        "As seen above, we can use **len()** to get the number of elements in a list. Similarly, we can use the other functions **min()**, **max()**, **sum()**, **sorted()** etc., that we also used for lists."
      ]
    },
    {
      "cell_type": "markdown",
      "metadata": {
        "id": "C7Vysi3vu0Io"
      },
      "source": [
        "###**Exercise:**  Disctinct Word Count with Sets\n",
        "\n",
        "What is the number of _distinct_ words in the `nyt` variable?\n",
        "\n",
        "Text from: [New York Times](https://www.nytimes.com/2020/09/06/us/colleges-coronavirus-students.html)"
      ]
    },
    {
      "cell_type": "code",
      "metadata": {
        "id": "jx8ojUVnuu1R"
      },
      "source": [
        "nyt = \"\"\"Last month, facing a budget shortfall of at least $75 million because of the pandemic, the University of Iowa welcomed thousands of students back to its campus — and into the surrounding community.\n",
        "Iowa City braced, cautious optimism mixing with rising panic. The university had taken precautions, and only about a quarter of classes would be delivered in person. But each fresh face in town could also carry the virus, and more than 26,000 area residents were university employees.\n",
        "\"Covid has a way of coming in,\" said Bruce Teague, the city's mayor, \"even when youre doing all the right things.\"\n",
        "Within days, students were complaining that they couldn’t get coronavirus tests or were bumping into people who were supposed to be in isolation. Undergraduates were jamming sidewalks and downtown bars, masks hanging below their chins, never mind the city’s mask mandate.\n",
        "Now, Iowa City is a full-blown pandemic hot spot — one of about 100 college communities around the country where infections have spiked in recent weeks as students have returned for the fall semester. Though the rate of infection has bent downward in the Northeast, where the virus first peaked in the U.S., it continues to remain high across many states in the Midwest and South — and evidence suggests that students returning to big campuses are a major factor.\n",
        "In a New York Times review of 203 counties in the country where students comprise at least 10 percent of the population, about half experienced their worst weeks of the pandemic since Aug. 1. In about half of those, figures showed the number of new infections is peaking right now.\n",
        "Despite the surge in cases, there has been no uptick in deaths in college communities, data shows. This suggests that most of the infections are stemming from campuses, since young people who contract the virus are far less likely to die than older people. However, leaders fear that young people who are infected will contribute to a spread of the virus throughout the community.\n",
        "The surge in infections reported by county health departments comes as many college administrations are also disclosing clusters on their campuses.\n",
        "Brazos County, Tex., home to Texas A&M University, added 742 new coronavirus cases during the last week of August, the county’s worst week so far, as the university reported hundreds of new cases.\n",
        "Pitt County, N.C., site of East Carolina University, saw its coronavirus cases rise above 800 in a single week at the end of August. The Times has identified at least 846 infections involving students, faculty and staff since mid-August.\n",
        "In South Dakota’s Clay and Brookings counties, ballooning infections in the past two weeks have reflected outbreaks at the state’s major universities. In McLean County, Ill., the virus has been spreading as more than 1,200 people have contracted the virus at Illinois State University.\n",
        "At Washington State University and the University of Idaho, about eight miles apart, combined coronavirus cases have risen since early July to more than 300 infections. In the surrounding communities — rural Whitman County, Wash., and Latah County, Idaho — cases per week have climbed from low single-digits in the first three months of the pandemic, to double-digits in July, to more than 300 cases in the last week of August.\n",
        "The Times has collected infection data from both state and local health departments and individual colleges. Academic institutions generally report cases involving students, faculty and staff, while the countywide data includes infections for all residents of the county.\n",
        "It's unclear precisely how the figures overlap and how many infections in a community outside of campus are definitively tied to campus outbreaks. But epidemiologists have warned that, even with exceptional contact tracing, it would be difficult to completely contain the virus on a campus when students shop, eat and drink in town, and local residents work at the college.\n",
        "The potential spread of the virus beyond campus greens has deeply affected the workplaces, schools, governments and other institutions of local communities. The result often is an exacerbation of traditional town-and-gown tensions as college towns have tried to balance economic dependence on universities with visceral public health fears.\n",
        "In Story County, Iowa, a local outcry following a burst of new Iowa State University cases pressured the university on Wednesday to reverse plans to welcome 25,000 football fans for its Sept. 12 opener against the University of Louisiana at Lafayette. In Monroe County, Indiana, the health department quarantined 30 Indiana University fraternity and sorority houses, prompting the university to publicly recommend that members shut them down and move elsewhere.\n",
        "In Johnson County, where the University of Iowa is located, cases have more than doubled since the start of August, to more than 4,000. Over the past two weeks, Iowa City’s metro area added the fourth-most cases per capita in the country. The university has recorded more than 1,400 cases for the semester.\n",
        "With a population of roughly 75,000, Iowa City relies on the university as an economic engine. The University of Iowa is by far the community’s largest employer, and its approximately 30,000 students are a critical market. Hawkeye football alone brings $120 million a year into the community, said Nancy Bird, executive director of the Iowa City Downtown District.\n",
        "When the pandemic first hit in March, the university sent students home and pivoted to remote instruction, like most of the country’s approximately 5,000 colleges and universities. That exodus, heightened by health restrictions, has been an existential challenge for many downtown businesses, Ms. Bird said.\n",
        "Jim Rinella, who owns The Airliner bar and restaurant, said the 76-year-old landmark across the street from campus “had zero revenue the whole month of April.” May was almost as scant, he said, and in June, he shut down after a couple of employees became infected.\n",
        "By the time he reopened after July 4, too few students were in town to come close to making up the losses. He and his wife, Sherry, had hoped the campus reopening in August might be a lifeline.\n",
        "But the photos taken by the local press from outside his establishment and others were damning. In an open letter, the university president lashed out, saying he was “exceedingly disappointed” in the failure of local businesses to keep students masked and socially distanced. Days later, the governor cited high infection rates among young people as she closed bars and restricted restaurants in Johnson County and five other counties with high concentrations of students.\n",
        "Now The Airliner — where a booth is named for the University of Iowa's most famous dropout, Tom Brokaw, and a modeling scout is said to have discovered Ashton Kutcher — has to close at 10 p.m. as well as require customers to buy a meal and sit far apart if they want to drink there.\n",
        "\"I'm at a pain point,\" Mr. Rinella said. \"If my grandfather hadn't started the place, I'd question whether I want to be in the restaurant business.\" A recent lunch hour visit found one customer at the bar drinking a beer.\"\"\""
      ],
      "execution_count": null,
      "outputs": []
    },
    {
      "cell_type": "markdown",
      "metadata": {
        "id": "KBeRQRu_wohz"
      },
      "source": [
        "#### Solution  *(do not open this section before completing the exercise)*  "
      ]
    },
    {
      "cell_type": "code",
      "metadata": {
        "id": "RcXwbkB5wiY6"
      },
      "source": [
        "# your code here\n",
        "\n",
        "import string\n",
        "\n",
        "## Three-step approach \n",
        "nyt = nyt.lower()\n",
        "nyt_list = nyt.split()\n",
        "# nyt_set = set(nyt_list)\n",
        "\n",
        "## One-step approach\n",
        "nyt_set = set(nyt.split())\n",
        "\n",
        "print(\"Length of NYT list:\", len(nyt_list))\n",
        "print(\"Length of NYT set:\", len(nyt_set))"
      ],
      "execution_count": null,
      "outputs": []
    },
    {
      "cell_type": "code",
      "metadata": {
        "id": "CG8zcEQePqQc"
      },
      "source": [
        "print(min(nyt_set))"
      ],
      "execution_count": null,
      "outputs": []
    },
    {
      "cell_type": "code",
      "metadata": {
        "id": "aThYCffCRFlp"
      },
      "source": [
        "print(max(nyt_set))"
      ],
      "execution_count": null,
      "outputs": []
    },
    {
      "cell_type": "markdown",
      "metadata": {
        "id": "PG4NU6-9LpX6"
      },
      "source": [
        "We can print the **nyt_set** to scan it for any redundant words..."
      ]
    },
    {
      "cell_type": "code",
      "metadata": {
        "id": "-eJI29-3LGuW"
      },
      "source": [
        "print(sorted(nyt_set))"
      ],
      "execution_count": null,
      "outputs": []
    },
    {
      "cell_type": "markdown",
      "metadata": {
        "id": "8LV4poDpL6UW"
      },
      "source": [
        "How would we resolve the different treatment of capitalized words vs. the same word in all lower case?"
      ]
    },
    {
      "cell_type": "markdown",
      "metadata": {
        "id": "PVefhSPOU23F"
      },
      "source": [
        "#### Checking for membership in a set\n",
        "\n",
        "For sets, we can only check if an item appears within the set or not. We achieve this using the `in` operator:"
      ]
    },
    {
      "cell_type": "code",
      "metadata": {
        "id": "l1vd5mgZU9EV"
      },
      "source": [
        "my_set = {1, 2, 3, 4}"
      ],
      "execution_count": null,
      "outputs": []
    },
    {
      "cell_type": "code",
      "metadata": {
        "id": "QRlDHRqxU_JO"
      },
      "source": [
        "val = 1\n",
        "if val in my_set:\n",
        "    print(\"The value\", val ,\"appears in the set\", my_set)\n",
        "else: \n",
        "    print(\"The value\", val ,\"does not appear in the set\", my_set)"
      ],
      "execution_count": null,
      "outputs": []
    },
    {
      "cell_type": "code",
      "metadata": {
        "id": "15lUfaf3VAPN"
      },
      "source": [
        "val = 0\n",
        "if val in my_set:\n",
        "    print(\"The value\", val ,\"appears in the set\", my_set)\n",
        "else: \n",
        "    print(\"The value\", val ,\"does not appear in the set\", my_set)"
      ],
      "execution_count": null,
      "outputs": []
    },
    {
      "cell_type": "markdown",
      "metadata": {
        "id": "LlqFnNvpVEHw"
      },
      "source": [
        "We also have the `not in` operator, which behaves as expected:"
      ]
    },
    {
      "cell_type": "code",
      "metadata": {
        "id": "GROCT4DJVEqc"
      },
      "source": [
        "if val not in my_set:\n",
        "    print(\"The value\", val ,\"does not appear in the set\", my_set)\n",
        "else: \n",
        "    print(\"The value\", val ,\"appears in the set\", my_set)"
      ],
      "execution_count": null,
      "outputs": []
    },
    {
      "cell_type": "markdown",
      "metadata": {
        "id": "BelGHkOPVWUk"
      },
      "source": [
        "### Set operators: **union**, **intersection**, **difference**, **subset**. Plus, Jaccard Similarity"
      ]
    },
    {
      "cell_type": "markdown",
      "metadata": {
        "id": "f25nuCd-M7xs"
      },
      "source": [
        "See this Wikipedia entry for a definition of Jaccard Similarity:\n",
        "https://en.wikipedia.org/wiki/Jaccard_index"
      ]
    },
    {
      "cell_type": "markdown",
      "metadata": {
        "id": "VhPXBd-9VbR_"
      },
      "source": [
        "Sets also support operations that allow us to quickly compute the difference, intersection, and union of two sets. For example:\n",
        "\n",
        "+ `set_a - set_b`: elements in a but not in b. Equivalent to `set_a.difference(set_b)`\n",
        "+ `set_a | set_b`: elements in a or b. Equivalent to `set_a.union(set_b)`\n",
        "+ `set_a & set_b`: elements in both a and b. Equivalent to `set_a.intersection(set_b)`\n",
        "+ `set_a ^ set_b`: elements in a or b but not both. Equivalent to `set_a.symmetric_difference(set_b)` \n",
        "+ `set_a <= set_b`:\ttests whether every element in set_a is in set_b. Equivalent to `set_a.issubset(set_b)`"
      ]
    },
    {
      "cell_type": "markdown",
      "source": [
        "![Symmetric_Difference.jpg](data:image/jpeg;base64,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)"
      ],
      "metadata": {
        "id": "3ElFO3OVyq-N"
      }
    },
    {
      "cell_type": "code",
      "source": [
        "# set_a = set()\n",
        "set_a = {1, 2, 3, 4, 5, 6, 7, 8}\n",
        "print(\"\\nLength of set_a:\")\n",
        "print(len(set_a))\n",
        "\n",
        "# set_b = set()\n",
        "set_b = {11, 12, 13, 14, 15, 16}\n",
        "print(\"\\nLength of set_b:\")\n",
        "print(len(set_b))\n",
        "\n",
        "new_set = set_a - set_b\n",
        "print(\"\\nLength of new_set and its members:\")\n",
        "print(len(new_set))\n",
        "print(new_set)"
      ],
      "metadata": {
        "id": "ZUjTIBDLtoxD"
      },
      "execution_count": null,
      "outputs": []
    },
    {
      "cell_type": "code",
      "source": [
        "next_set = set_b - set_a\n",
        "print(\"\\nLength of next_set and its members:\")\n",
        "print(len(next_set))\n",
        "print(next_set)"
      ],
      "metadata": {
        "id": "RUxNPw4tvR9K"
      },
      "execution_count": null,
      "outputs": []
    },
    {
      "cell_type": "code",
      "source": [
        "united_set = set_a | set_b\n",
        "print(\"\\nLength of united_set and its members:\")\n",
        "print(len(united_set))\n",
        "print(united_set)"
      ],
      "metadata": {
        "id": "Rg4mpIkewnGb"
      },
      "execution_count": null,
      "outputs": []
    },
    {
      "cell_type": "code",
      "source": [
        "cold_set = set_a & set_b\n",
        "print(\"\\nLength of cold_set and its members:\")\n",
        "print(len(cold_set))\n",
        "print(cold_set)"
      ],
      "metadata": {
        "id": "kqsm0RVjw95-"
      },
      "execution_count": null,
      "outputs": []
    },
    {
      "cell_type": "code",
      "source": [
        "# just as if we had an empty list and tested its length\n",
        "empty_list = ()\n",
        "print(len(empty_list))"
      ],
      "metadata": {
        "id": "-qmCMn7rx7qI"
      },
      "execution_count": null,
      "outputs": []
    },
    {
      "cell_type": "code",
      "source": [
        "# set_c = set()\n",
        "set_c = {7, 8, 11, 12}\n",
        "print(len(set_c))\n",
        "print(set_c)"
      ],
      "metadata": {
        "id": "qYwlPdrExkpg"
      },
      "execution_count": null,
      "outputs": []
    },
    {
      "cell_type": "code",
      "source": [
        "warm_set = set_c & set_a\n",
        "print(\"\\nLength of warm_set and its members:\")\n",
        "print(len(warm_set))\n",
        "print(warm_set)"
      ],
      "metadata": {
        "id": "827DNx8OyYbJ"
      },
      "execution_count": null,
      "outputs": []
    },
    {
      "cell_type": "code",
      "source": [
        "mild_set = set_c & set_b\n",
        "print(\"\\nLength of mild_set and its members:\")\n",
        "print(len(mild_set))\n",
        "print(mild_set)"
      ],
      "metadata": {
        "id": "ozSAW8YIyswx"
      },
      "execution_count": null,
      "outputs": []
    },
    {
      "cell_type": "code",
      "source": [
        "# specific difference of set_a and set_c\n",
        "west_set = set_c ^ set_a\n",
        "print(\"\\nLength of west_set and its members:\")\n",
        "print(len(west_set))\n",
        "print(west_set)"
      ],
      "metadata": {
        "id": "W3GMKwF3zUF9"
      },
      "execution_count": null,
      "outputs": []
    },
    {
      "cell_type": "code",
      "source": [
        "# specific difference of set_b and set_c\n",
        "east_set = set_c ^ set_b\n",
        "print(\"\\nLength of east_set and its members:\")\n",
        "print(len(east_set))\n",
        "print(east_set)"
      ],
      "metadata": {
        "id": "dznZUNL6z_kn"
      },
      "execution_count": null,
      "outputs": []
    },
    {
      "cell_type": "code",
      "source": [
        "# set_d = set()\n",
        "set_d = {4, 5, 6}\n",
        "print(len(set_d))\n",
        "print(set_d)"
      ],
      "metadata": {
        "id": "QJQNKgbT1JQq"
      },
      "execution_count": null,
      "outputs": []
    },
    {
      "cell_type": "code",
      "source": [
        "d_sub_a = set_d <= set_a\n",
        "print(d_sub_a)"
      ],
      "metadata": {
        "id": "4KJksG1V1bnD"
      },
      "execution_count": null,
      "outputs": []
    },
    {
      "cell_type": "code",
      "source": [
        "a_sub_d = set_a <= set_d\n",
        "print(a_sub_d)"
      ],
      "metadata": {
        "id": "dm6fsYzD2Bv_"
      },
      "execution_count": null,
      "outputs": []
    },
    {
      "cell_type": "markdown",
      "source": [
        "\n",
        "\n",
        "---\n",
        "\n"
      ],
      "metadata": {
        "id": "FAHT2XWkEOk3"
      }
    },
    {
      "cell_type": "markdown",
      "source": [
        "### Jaccard (Coefficient) Similarity Index of Two Sets    \n",
        "    \n",
        "*from statology.org's article* [<u>A Simple Explanation of the **Jaccard Similarity Index**</u>](https://www.statology.org/jaccard-similarity/)  \n",
        "      \n",
        "The **Jaccard Similarity Index** is a measure of the similarity between two sets of data.  This measure may also be referred to as the **Jaccard Coefficient**.  Developed by Paul Jaccard, the index ranges from `0.0` to `1.0`. The closer to `1.0`, the more similar the two sets of data.    \n",
        "    \n",
        "The **Jaccard Similarity Index** is calculated as:\n",
        "    \n",
        "```    \n",
        "Jaccard Similarity = (number of observations in both sets) / (number in either set)\n",
        "```    \n",
        "Or, written in notation form:    \n",
        "    \n",
        "```\n",
        "J(A, B) = |A∩B| / |A∪B|\n",
        "```\n",
        "    \n",
        "If two datasets share the exact same members, their **Jaccard Similarity Index** will be `1.0`. Conversely, if they have no members in common then their similarity will be `0.0`.\n",
        "\n",
        "The following examples show how to calculate the Jaccard Similarity Index for a few different datasets."
      ],
      "metadata": {
        "id": "dgfjrFrvEPaL"
      }
    },
    {
      "cell_type": "markdown",
      "source": [
        "**Example 1: Jaccard Similarity**    \n",
        "     \n",
        "Suppose we have the following two sets of data:     "
      ],
      "metadata": {
        "id": "Y0iZ0JXkFUWz"
      }
    },
    {
      "cell_type": "code",
      "source": [
        "set_a = {0, 1, 2, 5, 6, 8, 9}\n",
        "set_b = {0, 2, 3, 4, 5, 7, 9}"
      ],
      "metadata": {
        "id": "Zob3FHR_FnCs"
      },
      "execution_count": 1,
      "outputs": []
    },
    {
      "cell_type": "code",
      "source": [
        "ab_union = set_a | set_b\n",
        "len(ab_union)"
      ],
      "metadata": {
        "id": "eLk7frHmN5Qi",
        "colab": {
          "base_uri": "https://localhost:8080/"
        },
        "outputId": "0d65c7e6-67f7-4329-bb55-e45817704d0f"
      },
      "execution_count": 2,
      "outputs": [
        {
          "output_type": "execute_result",
          "data": {
            "text/plain": [
              "10"
            ]
          },
          "metadata": {},
          "execution_count": 2
        }
      ]
    },
    {
      "cell_type": "code",
      "source": [
        "print(ab_union)"
      ],
      "metadata": {
        "id": "Rcg-ni9AOIrf",
        "colab": {
          "base_uri": "https://localhost:8080/"
        },
        "outputId": "45a53c86-41f0-4547-fd85-78dbf39e6de8"
      },
      "execution_count": 3,
      "outputs": [
        {
          "output_type": "stream",
          "name": "stdout",
          "text": [
            "{0, 1, 2, 3, 4, 5, 6, 7, 8, 9}\n"
          ]
        }
      ]
    },
    {
      "cell_type": "markdown",
      "source": [
        "To calculate the Jaccard Similarity between them, we first find the total number of observations in both sets, then divide by the total number of observations in either set:    \n",
        "    \n",
        "  - Number of observations in both:   `{0, 2, 5, 9} = 4`    \n",
        "  - Number of observations in either: `{0, 1, 2, 3, 4, 5, 6, 7, 8, 9} = 10`    \n",
        "  - Jaccard Similarity:   `4 / 10 = 0.4`    \n",
        "    \n",
        "The Jaccard Similarity Index turns out to be `0.4`.   \n",
        "    \n",
        "Using `set` operators that calculation looks like the following:    "
      ],
      "metadata": {
        "id": "L0EoCnoaFpvO"
      }
    },
    {
      "cell_type": "code",
      "source": [
        "jsi_ab =  len(set_a & set_b) / len(set_a | set_b)\n",
        "print('The Jaccard Similarity Index of set_a and set_b is', jsi_ab)"
      ],
      "metadata": {
        "id": "UYvVH7DrHlqB",
        "colab": {
          "base_uri": "https://localhost:8080/"
        },
        "outputId": "ae8cbd5f-0e3b-4579-cb4f-62cab8218be4"
      },
      "execution_count": 4,
      "outputs": [
        {
          "output_type": "stream",
          "name": "stdout",
          "text": [
            "The Jaccard Similarity Index of set_a and set_b is 0.4\n"
          ]
        }
      ]
    },
    {
      "cell_type": "markdown",
      "source": [
        "Writing that same calculation with set `.methods()` instead of `set` operators `&` and `|`:    "
      ],
      "metadata": {
        "id": "O_DNv4A6HdDX"
      }
    },
    {
      "cell_type": "code",
      "source": [
        "# Jaccard Similarity Index is the Intersection / Population (or union)\n",
        "jsi_ab =  len(set_a.intersection(set_b)) / len(set_a.union(set_b))\n",
        "print('The Jaccard Similarity Index of set_a and set_b is', jsi_ab)"
      ],
      "metadata": {
        "id": "egaqfjtGGJnF"
      },
      "execution_count": null,
      "outputs": []
    },
    {
      "cell_type": "markdown",
      "source": [
        "**Example 2: Jaccard Similarity (0 case)**    \n",
        "    \n",
        "Suppose we have the following two sets of data:    "
      ],
      "metadata": {
        "id": "rC604--EI8mH"
      }
    },
    {
      "cell_type": "code",
      "source": [
        "set_c = {0, 1, 2, 3, 4, 5}\n",
        "set_d = {6, 7, 8, 9, 10}"
      ],
      "metadata": {
        "id": "iFcNtvbZJEqz"
      },
      "execution_count": null,
      "outputs": []
    },
    {
      "cell_type": "markdown",
      "source": [
        "To calculate the **Jaccard Similarity** between them, we first find the total number of observations in both sets, then divide by the total number of observations in either set:\n",
        "    \n",
        "\n",
        "  - Number of observations in both:  `{} = 0`    \n",
        "  - Number of observations in either: `{0, 1, 2, 3, 4, 5, 6, 7, 8, 9, 10} = 11`    \n",
        "  - Jaccard Similarity:  `0 / 11 = 0`    \n",
        "    \n",
        "The Jaccard Similarity Index turns out to be `0`. This indicates that the two datasets share no common members.    \n"
      ],
      "metadata": {
        "id": "10Wk3JkqJQkO"
      }
    },
    {
      "cell_type": "code",
      "source": [
        "jsi_cd =  len(set_c & set_d) / len(set_c | set_d)\n",
        "print('The Jaccard Similarity Index of set_c and set_d is', jsi_cd)"
      ],
      "metadata": {
        "id": "_kb-g9t1JmtS"
      },
      "execution_count": null,
      "outputs": []
    },
    {
      "cell_type": "markdown",
      "source": [
        "Let's try that with two sets with identical values:    "
      ],
      "metadata": {
        "id": "vK6Z0aApPEtq"
      }
    },
    {
      "cell_type": "code",
      "source": [
        "set_c = {11, 12, 13, 14, 15}\n",
        "set_d = {11, 12, 13, 14, 15}\n",
        "jsi_cd =  len(set_c & set_d) / len(set_c | set_d)\n",
        "print('The Jaccard Similarity Index of set_c and set_d is', jsi_cd)"
      ],
      "metadata": {
        "id": "urawzPxVPCJS"
      },
      "execution_count": null,
      "outputs": []
    },
    {
      "cell_type": "markdown",
      "source": [
        "**Example 3: Jaccard Similarity for Characters**    \n",
        "    \n",
        "Note that we can also use the **Jaccard Similarity** index for datasets that contain characters as opposed to numbers.    \n",
        "    \n",
        "For example, suppose we have the following two sets of data:     "
      ],
      "metadata": {
        "id": "uo6IRWuaJ2Bi"
      }
    },
    {
      "cell_type": "code",
      "source": [
        "set_e = {'cat', 'dog', 'hippo', 'monkey'}\n",
        "set_f = {'monkey', 'rhino', 'ostrich', 'salmon'}"
      ],
      "metadata": {
        "id": "L_NeasZ2J-wi"
      },
      "execution_count": 9,
      "outputs": []
    },
    {
      "cell_type": "markdown",
      "source": [
        "To calculate the **Jaccard Similarity** between them, we first find the total number of observations in both sets, then divide by the total number of observations in either set:   \n",
        "    \n",
        "  - Number of observations in both:  `{‘monkey’} = 1`    \n",
        "  - Number of observations in either:  `{‘cat’, ‘dog’, hippo’, ‘monkey’, ‘rhino’, ‘ostrich’, ‘salmon’} = 7`    \n",
        "  - Jaccard Similarity:  `1 / 7 = 0.142857`    \n",
        "    \n",
        "The Jaccard Similarity Index turns out to be `0.142857`. Since this number is fairly low, it indicates that the two sets are quite dissimilar.      "
      ],
      "metadata": {
        "id": "xaoX8mzcKgF7"
      }
    },
    {
      "cell_type": "code",
      "source": [
        "jsi_ef =  len(set_e & set_f) / len(set_e | set_f)\n",
        "print('The Jaccard Similarity Index of set_e and set_f is', jsi_ef)"
      ],
      "metadata": {
        "id": "xW5gHIuEKufC",
        "colab": {
          "base_uri": "https://localhost:8080/"
        },
        "outputId": "c2938860-b8d4-4a7e-a57d-0edf575df6ec"
      },
      "execution_count": 10,
      "outputs": [
        {
          "output_type": "stream",
          "name": "stdout",
          "text": [
            "The Jaccard Similarity Index of set_e and set_f is 0.14285714285714285\n"
          ]
        }
      ]
    },
    {
      "cell_type": "markdown",
      "source": [
        "#### The **Jaccard Distance**    \n",
        "    \n",
        "The **Jaccard Distance** measures the dissimilarity between two datasets and is calculated as:     \n",
        "    \n",
        "```\n",
        "Jaccard Distance = 1 – Jaccard Similarity\n",
        "```    \n",
        "    \n",
        "This measure gives us an idea of the difference between two datasets or the difference between them.    \n",
        "     \n",
        "For example, if two datasets have a **Jaccard Similarity of 80%** then they would have a **Jaccard Distance** of `1 – 0.8 = 0.2 or 20%`."
      ],
      "metadata": {
        "id": "HF3AbDH7LBAC"
      }
    },
    {
      "cell_type": "code",
      "source": [
        "set_g = {1, 2, 3, 4, 5, 6, 7, 8, 9}\n",
        "set_h = {1, 2, 3, 4, 5, 6, 7, 8, 21}"
      ],
      "metadata": {
        "id": "mS6TbY4xLZcP"
      },
      "execution_count": null,
      "outputs": []
    },
    {
      "cell_type": "code",
      "source": [
        "jsi_gh =  len(set_g & set_h) / len(set_g | set_h)\n",
        "print('The Jaccard Similarity Index of set_g and set_h is', jsi_gh)"
      ],
      "metadata": {
        "id": "sxP0N864LwL-",
        "colab": {
          "base_uri": "https://localhost:8080/"
        },
        "outputId": "fdc29a93-6a4b-4465-fe95-3c078fa46fa0"
      },
      "execution_count": null,
      "outputs": [
        {
          "output_type": "stream",
          "name": "stdout",
          "text": [
            "The Jaccard Similarity Index of set_g and set_h is 0.8\n"
          ]
        }
      ]
    },
    {
      "cell_type": "code",
      "source": [
        "jd_gh =  (1 - len(set_g & set_h) / len(set_g | set_h))\n",
        "print('The Jaccard Distance of set_g and set_h is', jd_gh)"
      ],
      "metadata": {
        "id": "yEP9IQ1DMBp2"
      },
      "execution_count": null,
      "outputs": []
    },
    {
      "cell_type": "markdown",
      "source": [
        "How could we calculate **Jaccard Distance** without using the `1 - JSI` construct?     "
      ],
      "metadata": {
        "id": "0zj3MKkQQk3s"
      }
    },
    {
      "cell_type": "code",
      "source": [
        "jd_gh = len(set_g X? set_h) / len(set_g Y? set_h)"
      ],
      "metadata": {
        "id": "fVkN35QHQu07"
      },
      "execution_count": null,
      "outputs": []
    },
    {
      "cell_type": "code",
      "source": [
        "# Monty says:  \n",
        "jd_gh = len(set_g - set_h) / len(set_g | set_h)\n",
        "print('The Jaccard Distance of set_g and set_h is', jd_gh)"
      ],
      "metadata": {
        "id": "lIaepAGzRr8x"
      },
      "execution_count": null,
      "outputs": []
    },
    {
      "cell_type": "code",
      "source": [
        "# Fredy,Jack, Mickey, and Cher say: \n",
        "jd_gh = len((set_g|set_h)) / len((set_g & set_h) - (set_g|set_h))\n",
        "print('The Jaccard Distance of set_g and set_h is', jd_gh)"
      ],
      "metadata": {
        "id": "BmCt74ddR59y"
      },
      "execution_count": null,
      "outputs": []
    },
    {
      "cell_type": "markdown",
      "source": [
        "##### **Solution** (do not look here until you solve for that last question.    \n"
      ],
      "metadata": {
        "id": "5qv7oCa2Rano"
      }
    },
    {
      "cell_type": "code",
      "source": [
        "# The Jaccard Distance is the Specific Difference / Population (or union)\n",
        "jd_gh = len(set_g ^ set_h) / len(set_g | set_h)\n",
        "print('The Jaccard Distance of set_g and set_h is', jd_gh)"
      ],
      "metadata": {
        "id": "YDLKLPNHRjxe"
      },
      "execution_count": null,
      "outputs": []
    },
    {
      "cell_type": "markdown",
      "source": [
        "\n",
        "\n",
        "---\n",
        "\n"
      ],
      "metadata": {
        "id": "2zlY-rn4RkOl"
      }
    },
    {
      "cell_type": "markdown",
      "source": [
        "<u>*Additional Jaccard Resources</u>    \n",
        "    \n",
        "The following tutorials explain how to calculate **Jaccard Similarity** using different statistical software:     \n",
        "    \n",
        "  - [How to Calculate Jaccard Similarity in R](https://www.statology.org/jaccard-similarity-in-r/)     \n",
        "  - [How to Calculate Jaccard Similarity in Python](https://www.statology.org/jaccard-similarity-python/)    "
      ],
      "metadata": {
        "id": "yvQ6kcDJMWT_"
      }
    },
    {
      "cell_type": "markdown",
      "source": [
        "\n",
        "\n",
        "---\n",
        "\n"
      ],
      "metadata": {
        "id": "EcxYcqBaMPQ-"
      }
    },
    {
      "cell_type": "markdown",
      "source": [
        "##Set Exercises   "
      ],
      "metadata": {
        "id": "mzsjL1SrrRTA"
      }
    },
    {
      "cell_type": "markdown",
      "metadata": {
        "id": "q5Ahy-JYVg7_"
      },
      "source": [
        "###**Exercise:** set operations\n",
        "\n",
        "Try the above yourself using the `set_A` and `set_B` variables, and compute the length of the following for the two sets:    \n",
        " - the difference\n",
        " - the union\n",
        " - the intersection\n",
        " - the symmetric difference    "
      ]
    },
    {
      "cell_type": "code",
      "metadata": {
        "id": "we1PHF8XVl0n"
      },
      "source": [
        "# Your code here\n",
        "set_A = {1, 2, 3, 4, 5}\n",
        "set_B = {4, 5, 6, 7}\n",
        "\n",
        "# Set A\n",
        "# Set B\n",
        "# Difference\n",
        "# Union\n",
        "# Intersection\n",
        "# Symmetric Difference"
      ],
      "execution_count": null,
      "outputs": []
    },
    {
      "cell_type": "markdown",
      "metadata": {
        "id": "edtD5Vs-VppF"
      },
      "source": [
        "#### Solution *(do not open this section before completing the exercise)*    "
      ]
    },
    {
      "cell_type": "code",
      "metadata": {
        "id": "zEKW2m-cTYn-"
      },
      "source": [
        "set_A = {1, 2, 3, 4, 5}\n",
        "set_B = {4, 5, 6, 7}\n",
        "\n",
        "# print(\"Set A: \", set_A)\n",
        "# print(\"Set B: \", set_B)\n",
        "# print(\"Difference between Set A and Set B: \", set_A - set_B)\n",
        "# print(\"Union of Set A and Set B: \", set_A | set_B)\n",
        "# print(\"Intersection of Set A and Set B: \", set_A & set_B)\n",
        "# print(\"Symetric Difference between Set A and Set B: \", set_A ^ set_B)"
      ],
      "execution_count": null,
      "outputs": []
    },
    {
      "cell_type": "code",
      "metadata": {
        "id": "ZGb0-maZS20d"
      },
      "source": [
        "set_A ^ set_B   # symmetric difference"
      ],
      "execution_count": null,
      "outputs": []
    },
    {
      "cell_type": "markdown",
      "metadata": {
        "id": "SoumVadyWjuj"
      },
      "source": [
        "### **Exercise:** Jaccard Coefficient Calculation  \n",
        "\n",
        "Now, lets try to use the [Jaccard Similarity Index](https://en.wikipedia.org/wiki/Jaccard_index) to compute the similarity of the two sets. The Jaccard coefficient is defined as the ratio of the size of the intersection of the two sets, divided by the size of the union of the two sets."
      ]
    },
    {
      "cell_type": "code",
      "source": [
        "set_A = {1, 2, 3, 4, 5}\n",
        "set_B = {4, 5, 6, 7}\n",
        "\n",
        "# Your code here"
      ],
      "metadata": {
        "id": "PTRjPglisBOG"
      },
      "execution_count": null,
      "outputs": []
    },
    {
      "cell_type": "markdown",
      "metadata": {
        "id": "wTo-g_m1Wtcb"
      },
      "source": [
        "#### Solution  *(do not open this section before completing the exercise)*    "
      ]
    },
    {
      "cell_type": "code",
      "metadata": {
        "id": "Y4By2C9YWrnV"
      },
      "source": [
        "set_A = {1, 2, 3, 4, 5}\n",
        "set_B = {4, 5, 6, 7}\n",
        "\n",
        "# Your code here\n",
        "\n",
        "print(\"Jaccard Similarity of Set A and Set B: \", (len(set_A & set_B)) / len((set_A | set_B)))"
      ],
      "execution_count": null,
      "outputs": []
    },
    {
      "cell_type": "code",
      "metadata": {
        "id": "r6_dPdg2VNo4"
      },
      "source": [
        "2 / 7"
      ],
      "execution_count": null,
      "outputs": []
    },
    {
      "cell_type": "markdown",
      "metadata": {
        "id": "cDHUYOACXVBL"
      },
      "source": [
        "### **Exercise:** Jaccard Similarity of News Stories    \n",
        "\n",
        "Below we have two news articles discussing a security breach at Yahoo. We want to compute the similarity of these articles using the Jaccard similarity. (For the sake of simplicity, we have removed all punctuation from the text.)\n",
        "\n"
      ]
    },
    {
      "cell_type": "code",
      "metadata": {
        "id": "Wh2hbje5Xc-W"
      },
      "source": [
        "wsj_str = \"\"\"\n",
        "Yahoo Inc  disclosed a massive security breach by a  state sponsored actor  affecting at least 500 million users  potentially the largest such data breach on record and the latest hurdle for the beaten down internet company as it works through the sale of its core business \n",
        "Yahoo said certain user account information including names  email addresses  telephone numbers  dates of birth  hashed passwords and  in some cases  encrypted or unencrypted security questions and answers was stolen from the company s network in late 2014 by what it believes is a state sponsored actor \n",
        "Yahoo said it is notifying potentially affected users and has taken steps to secure their accounts by invalidating unencrypted security questions and answers so they can t be used to access an account and asking potentially affected users to change their passwords \n",
        "Yahoo recommended users who haven t changed their passwords since 2014 do so  It also encouraged users change their passwords as well as security questions and answers for any other accounts on which they use the same or similar information used for their Yahoo account \n",
        "The company  which is working with law enforcement  said the continuing investigation indicates that stolen information didn t include unprotected passwords  payment card data or bank account information \n",
        "With 500 million user accounts affected  this is the largest ever publicly disclosed data breach  according to Paul Stephens  director of policy and advocacy with Privacy Rights Clearing House  a not for profit group that compiles information on data breaches \n",
        "No evidence has been found to suggest the state sponsored actor is currently in Yahoo s network  and Yahoo didn t name the country it suspected was involved  In August  a hacker called  Peace  appeared in online forums  offering to sell 200 million of the company s usernames and passwords for about  1 900 in total  Peace had previously sold data taken from breaches at Myspace and LinkedIn Corp \n",
        "\"\"\"\n",
        "\n",
        "ust_str = \"\"\"\n",
        "SAN FRANCISCO   Information from at least 500 million Yahoo accounts was stolen from the company in 2014  and the  company said Thursday it believes that a state sponsored actor was behind the hack \n",
        "The information may have included names  email addresses  telephone numbers  dates of birth  and  in some cases  encrypted or unencrypted security questions and answers  Yahoo said \n",
        "Claims surfaced in early August that a hacker using the name  Peace  was trying to sell the usernames  passwords and dates of birth of Yahoo account users on the dark web   a black market of thousands of secret websites \n",
        "The FBI said it was aware of the matter  The compromise of public and private sector systems is something the agency takes very seriously and it said it will continue to investigate and hold accountable all who pose a threat in cyberspace  the agency said in an emailed statement \n",
        "Yahoo recommends that users who haven t changed their passwords since 2014 do so  The company said it was notifying potentially affected users and taking steps to secure their accounts  That included invalidating unencrypted security questions and answers and asking users to change their passwords \n",
        "The announcement comes as Yahoo looks to complete its  4 8  billion sale of its core Internet business to media giant Verizon Communications  which said it was notified of the Yahoo breach  within the last two days  \n",
        " We understand that Yahoo is conducting an active investigation of this matter  but we otherwise have limited information and understanding of the impact   Verizon said \n",
        "Given the unsettled nature of Yahoo s ownership just now   regulators should be concerned with who will take responsibility for the response to this compromise  It can be easy for the  right thing to do  to slip through the cracks in a multi billion dollar transition   said Tim Erlin  senior director of IT security and risk strategy at Tripwire  a computer security firm \n",
        "Yahoo Chief Executive Officer Marissa Mayer has pledged to stay on with the company through the close of the merger  which is being overseen by Verizon s Marni Walden and AOL CEO Tim Armstrong  Yahoo shares  YHOO  were flat Thursday  Verizon  VZ  shares were up 1  at  52 39 \n",
        "\"\"\""
      ],
      "execution_count": 11,
      "outputs": []
    },
    {
      "cell_type": "code",
      "source": [
        "wsj_set = set(wsj_str.lower().split())\n",
        "print(len(wsj_set))"
      ],
      "metadata": {
        "id": "9kPep-xRMVcD"
      },
      "execution_count": null,
      "outputs": []
    },
    {
      "cell_type": "code",
      "source": [
        "# Your code here  \n",
        "\n",
        "print('The Jaccard Similarity Index for the stories wsj and ust is', ?)"
      ],
      "metadata": {
        "id": "2BA1KieQYNkC"
      },
      "execution_count": null,
      "outputs": []
    },
    {
      "cell_type": "markdown",
      "metadata": {
        "id": "GgI7pK8TXgwo"
      },
      "source": [
        "#### Solution  *(do not open this section before completing the exercise)*  "
      ]
    },
    {
      "cell_type": "code",
      "metadata": {
        "id": "tu5pOcuTXewl"
      },
      "source": [
        "## your code here\n",
        "\n",
        "wsj_set = set(wsj_str.split())\n",
        "\n",
        "\n",
        "ust_set = set(ust_str.split())\n",
        "\n",
        "\n",
        "print(\"Jaccard Similarity of WSJ article and UST article: \", (len(wsj_set & ust_set)) / len((wsj_set | ust_set)))"
      ],
      "execution_count": null,
      "outputs": []
    },
    {
      "cell_type": "code",
      "metadata": {
        "id": "FwBrCZwkV-w2"
      },
      "source": [
        "len(wsj_set & ust_set)"
      ],
      "execution_count": null,
      "outputs": []
    },
    {
      "cell_type": "code",
      "metadata": {
        "id": "JlUBVa4RWDxM"
      },
      "source": [
        "len((wsj_set | ust_set))"
      ],
      "execution_count": null,
      "outputs": []
    },
    {
      "cell_type": "markdown",
      "source": [
        "\n",
        "\n",
        "---\n",
        "\n"
      ],
      "metadata": {
        "id": "ZeUR38DWQK1W"
      }
    },
    {
      "cell_type": "markdown",
      "metadata": {
        "id": "UBQKRvQD6wlo"
      },
      "source": [
        "# Moby and Sets <sup>(revised solution)</sup>\n",
        "    \n",
        "**CST2312 Updating Moby Solution With Sets**    "
      ]
    },
    {
      "cell_type": "markdown",
      "metadata": {
        "id": "SslZsQ-e7B-S"
      },
      "source": [
        "\n",
        "\n",
        "---\n",
        "\n"
      ]
    },
    {
      "cell_type": "markdown",
      "metadata": {
        "id": "WXGlCEDl7EZq"
      },
      "source": [
        "Reconsider Assignment #03, reading Herman Melville's Moby Dick from the Guttenberg Press files and counting the frequency of BIP 39 mnemonics used.  Our last solution created: \n",
        "\n",
        "1.   a bip_di dictionary for the list of words used as BIP 39 menomics\n",
        "2.   a nonbip_di dictionary for a list of unique words used in Moby Dick which are not BIP 39 mnemonics\n",
        "3.   calculations to analyze the perecentage usage\n",
        "\n",
        "While our code was able to calculate the total number of unique words in Moby Dick, because those details were captured in two separate dictionaries, analysis of the total population of words was convoluted.\n",
        "\n",
        "\n",
        "\n"
      ]
    },
    {
      "cell_type": "markdown",
      "metadata": {
        "id": "3ll_Kc6e9YHj"
      },
      "source": [
        "**Here is the problem statement again:**"
      ]
    },
    {
      "cell_type": "markdown",
      "metadata": {
        "id": "jcJtUAiD90p5"
      },
      "source": [
        "Write a working Python program which uses a dictionary based on BIP 39 mnemonics to evaluate the text of Herman Melville's novel Moby Dick and count the frequency of the use of each BIP 39 mnemonic in the book.  Reference that dictionary to print a list of the top-20 most used BIP mnemonics in Moby Dick as a tuple of (key, value) in descending order of value (frequency).  Open source, available text files include:\n",
        "\n",
        "\n",
        "1.   Project Guttenberg's Moby Dick project\n",
        "2.   bip-0039.txt\n"
      ]
    },
    {
      "cell_type": "markdown",
      "metadata": {
        "id": "MYVVXZ0X-Foj"
      },
      "source": [
        "*The source files for this notebook are available on CUNY CityTech Blackboard for class and on ProfessorPatrickSlatraigh Github repo.* "
      ]
    },
    {
      "cell_type": "markdown",
      "metadata": {
        "id": "J-faFjye8tC4"
      },
      "source": [
        "Let's streamline our approach using dictionaries and sets.  We can create two dictionaries:\n",
        "\n",
        "1.   a dictionary of BIP 39 mnemonics\n",
        "2.   a dictionary of unique words in Moby Dick with the frequency of each word's use\n",
        "\n",
        "We can then use Set operations to analyze the intersection of the two dictionaries and other relationships between membership."
      ]
    },
    {
      "cell_type": "markdown",
      "source": [
        "\n",
        "\n",
        "---\n",
        "\n"
      ],
      "metadata": {
        "id": "DIu_g-z8hWpl"
      }
    },
    {
      "cell_type": "markdown",
      "source": [
        "##Housekeeping    "
      ],
      "metadata": {
        "id": "5oJcmDOmhXPS"
      }
    },
    {
      "cell_type": "markdown",
      "source": [
        "###*Import Modules*    "
      ],
      "metadata": {
        "id": "Skcb8l96hZ9W"
      }
    },
    {
      "cell_type": "code",
      "source": [
        "import string\n",
        "from pprint import pprint"
      ],
      "metadata": {
        "id": "lv3NYIjvhdb0"
      },
      "execution_count": null,
      "outputs": []
    },
    {
      "cell_type": "markdown",
      "metadata": {
        "id": "qavRGeVX-LrX"
      },
      "source": [
        "### *Mount the drive*"
      ]
    },
    {
      "cell_type": "markdown",
      "metadata": {
        "id": "JBYCEjsi-S2F"
      },
      "source": [
        "First things, first: mounting my Google Drive to the /content/drive area in Colab as 'My Drive' (with a space between My and Drive)."
      ]
    },
    {
      "cell_type": "code",
      "metadata": {
        "id": "POHLzfp86lCi"
      },
      "source": [
        "from google.colab import drive\n",
        "drive.mount('/content/drive')"
      ],
      "execution_count": null,
      "outputs": []
    },
    {
      "cell_type": "markdown",
      "metadata": {
        "id": "WS2UQj7h-URT"
      },
      "source": [
        "### *Setup the BIP 39 Dictionary*"
      ]
    },
    {
      "cell_type": "markdown",
      "metadata": {
        "id": "C8C_A1ol-d4W"
      },
      "source": [
        "From the My Drive root of my Google Drive there is a sub-folder named \"crypto\" with a line-by-line list of BIP 39 mnemonics (English language) in alphabetic order in the file \"bip-0039.txt\"."
      ]
    },
    {
      "cell_type": "markdown",
      "metadata": {
        "id": "5eXBgHej-hyr"
      },
      "source": [
        "Open the BIP 39 file with the handle bip_handle."
      ]
    },
    {
      "cell_type": "code",
      "metadata": {
        "id": "ErrtLwPe-kzM"
      },
      "source": [
        "## SETUP - OPEN THE FILE BASED ON USER SPECIFIED FILE NAME OR bip-0039.txt\n",
        "file_name = input(\"Enter file:\")\n",
        "if len(file_name) < 1:\n",
        "    name = \"/content/drive/My Drive/crypto/bip-0039.txt\"\n",
        "else:\n",
        "    name = \"/content/drive/My Drive/crypto/\" + file_name\n",
        "try:\n",
        "    bip_handle = open(name)\n",
        "except:\n",
        "    print(\"Could not open \"+name)"
      ],
      "execution_count": null,
      "outputs": []
    },
    {
      "cell_type": "markdown",
      "metadata": {
        "id": "-bK-Q-tb-p2-"
      },
      "source": [
        "Open a the handle bip_handle file of BIP 39 mnemonics and read them, line-by-line into a dictionay as keys with an initial value of 0 (integer) for each key/value pair."
      ]
    },
    {
      "cell_type": "code",
      "source": [
        "bip_handle.seek(0)"
      ],
      "metadata": {
        "id": "B50mY8hVjYJC"
      },
      "execution_count": null,
      "outputs": []
    },
    {
      "cell_type": "code",
      "source": [
        "## bip_words - create a generator of BIP 39 mnemonics \n",
        "## yielding the mnemonic string as a key \n",
        "## and an initial value of 0 (zero) for each word\n",
        "\n",
        "def bip_words(handle):\n",
        "    handle.seek(0)\n",
        "    for key in handle:\n",
        "        key = key.rstrip()\n",
        "        value = 0\n",
        "        yield (key, value) "
      ],
      "metadata": {
        "id": "K0JqEwedcdBc"
      },
      "execution_count": null,
      "outputs": []
    },
    {
      "cell_type": "code",
      "source": [
        "## bip_di - create a dictionary of BIP 39 mnemonics \n",
        "## with the mnemonic string as a key and an initial value\n",
        "## of 0 for key/value pairs from the bip_words generator\n",
        "\n",
        "bip_di = dict(list(bip_words(bip_handle)))"
      ],
      "metadata": {
        "id": "ZXOZsCfydebQ"
      },
      "execution_count": null,
      "outputs": []
    },
    {
      "cell_type": "code",
      "source": [
        "pprint(bip_di)"
      ],
      "metadata": {
        "id": "HNmz0ktIhNzX"
      },
      "execution_count": null,
      "outputs": []
    },
    {
      "cell_type": "markdown",
      "source": [
        "<b>*Alternatively, we could use the following code:*</b>"
      ],
      "metadata": {
        "id": "rV-qshaTnXW3"
      }
    },
    {
      "cell_type": "code",
      "metadata": {
        "id": "AcRK1dNK-weX"
      },
      "source": [
        "## bip_di - create a dictionary of BIP 39 mnemonics \n",
        "## with the mnemonic string as a key and an initial value\n",
        "## use variable x to set initial value for key/value pairs\n",
        "\n",
        "bip_di = dict()\n",
        "x = 0\n",
        "\n",
        "for word in bip_handle :\n",
        "    word = word.rstrip()\n",
        "    bip_di[word] = x"
      ],
      "execution_count": null,
      "outputs": []
    },
    {
      "cell_type": "markdown",
      "source": [
        "### Process Text from Herman Melville's Moby Dick     "
      ],
      "metadata": {
        "id": "QvLKJadyQegW"
      }
    },
    {
      "cell_type": "markdown",
      "metadata": {
        "id": "8IxE6qlb-_mn"
      },
      "source": [
        "We will still want the ability to read one file from the Guttenberg collection or a range of files but instead of all the processing we did before to test for the condition of membership in bip_di, we can revert to the much simpler algorithm we have used in the past to start with an empty dictionary then build a dictionary with a word count (frequency) for each unique word read.  Let's call that dictionary moby_di."
      ]
    },
    {
      "cell_type": "code",
      "metadata": {
        "id": "CaI3P4-NAScj"
      },
      "source": [
        "## IMPORT MODULES\n",
        "\n",
        "# import string module to access string.punction list\n",
        "import string\n",
        "\n",
        "## INITIATLIZE moby_di DICTIONARY\n",
        "moby_di = dict()\n",
        "\n",
        "\n",
        "## SETUP FILES - OPEN A RANGE OF FILES BASED ON USER SPECIFIED START/FINISH\n",
        "## OR JUST OPEN A SINGLE FILE (IF series_start == series_end)\n",
        "## IF ANY ERROR, PRINT A MESSAGE AND STOP PROCESSING\n",
        "\n",
        "# initiate a Boolean to control process flow\n",
        "proceed = True\n",
        "\n",
        "print(\"Let's open one or more files in the Moby Dick series.\")\n",
        "print(\"You will be prompted to enter a start and end value.\")\n",
        "print(\"Both values must be integers between 0 and 134, inclusive.\")\n",
        "input_start = input(\"Enter Moby Dick text file start sequence: \")\n",
        "input_end = input(\"Enter Moby Dick text file end sequence: \")\n",
        "print()\n",
        "\n",
        "\n",
        "# attempt to convert inputs to integer values\n",
        "try: \n",
        "    series_start = int(input_start)\n",
        "    series_end = int(input_end)\n",
        "except:\n",
        "    print(\"Your inputs: \", input_start, \"/\", input_end, \" are not valid.\")\n",
        "    proceed = False\n",
        "\n",
        "# code to execute if inputs are valid integers\n",
        "if proceed:\n",
        "\n",
        "    # test integer values in range (0 and 134, inclusive) and logical\n",
        "    if series_start > series_end:\n",
        "        print(\"We cannot start at \", series_start, \"and end at \", series_end, \".\")\n",
        "    elif not 0 <= series_start <= 134:\n",
        "        print(\"The start value of \", series_start, \"is invalid.\")\n",
        "    elif not 0 <= series_end <= 134: \n",
        "        print(\"The end value of \", series_start, \"is invalid.\")\n",
        "\n",
        "\n",
        "## LOOPING - USE A FOR LOOP TO PROCESS EVERY FILE IN RANGE\n",
        "## OPEN EACH FILE WITH THE SAME HANDLE (moby_handle) AND\n",
        "## PROCESS EVERY NON-TRIVIAL LINE IN EACH FILE\n",
        "## CHECK EACH WORD ON EACH NON-TRIVIAL LINE\n",
        "## AND INCREASE THE COUNTERS FOR BIP 39 MNEMONIC WORDS\n",
        "\n",
        "# initiate a list of problem files not processed\n",
        "problem_files = list()\n",
        "# initiate a counter of problems detected\n",
        "problems = 0\n",
        "\n",
        "\n",
        "# Set variables for the file qualifers (path and extension)\n",
        "qualifier_pre = \"/content/drive/My Drive/moby/moby-\"\n",
        "qualifier_post = \".txt\"\n",
        "\n",
        "# work through the range of files to be processed\n",
        "for series_file in range(series_start, series_end+1):\n",
        "\n",
        "    # Build up three-character strings for series_file_str\n",
        "    if len(str(series_file)) > 3 or  len(str(series_file)) < 1:\n",
        "        print(\"Something is wrong with the series value \", series_file)\n",
        "        input(\"Escape/Break now or hit enter to continue.\") \n",
        "    elif len(str(series_file)) == 3 :\n",
        "        series_file_str = str(series_file)\n",
        "    elif len(str(series_file)) == 2 :\n",
        "        series_file_str = \"0\" + str(series_file)\n",
        "    elif len(str(series_file)) == 1 :\n",
        "        series_file_str = \"00\" + str(series_file)\n",
        "\n",
        "    # scaffolding to peek at the processing of the file name range\n",
        "    # print(\"Series file number \", series_file, \" / Series string: \", series_file_str)\n",
        "    # input(\"Type enter to continue.\")\n",
        "\n",
        "    # build up a fully qualified file name for the current file in sequence\n",
        "    qualified_file = qualifier_pre + series_file_str + qualifier_post\n",
        "\n",
        "    # open the fully qualified file name with moby_handle\n",
        "    # attempt some elegant escape if no file to open, etc.\n",
        "    try:\n",
        "        moby_handle = open(qualified_file)\n",
        "    except:\n",
        "        if not problems :\n",
        "            print()\n",
        "            print(\"There were one or problems with files in range.\")\n",
        "        problems += 1\n",
        "        problem_files.append(qualified_file)\n",
        "        print(\"Could not open \" + qualified_file)\n",
        "        print(\"Something went wrong with the series value \", series_file)\n",
        "        input(\"Escape/Break now or hit enter to continue.\") \n",
        "\n",
        "    # process lines and words on lines within this file in the series\n",
        "    for line in moby_handle :\n",
        "        if line[:2] != \"..\" :\n",
        "            line = line.rstrip()  # strip off newlines and right noise\n",
        "            line = line.replace('-',' ')   # replace dashes with spaces\n",
        "            # print(line)\n",
        "            # input(\"Type enter to continue\")\n",
        "            words = line.split()\n",
        "            for word in words :\n",
        "                word = word.lower()\n",
        "                # initiate a string variable clean_word for removing punctuation\n",
        "                clean_word=\"\"\n",
        "                for i in word:\n",
        "                    if i not in string.punctuation:\n",
        "                        clean_word = clean_word + i \n",
        "                # idiom retrieve/create/update counter\n",
        "                moby_di[clean_word] = moby_di.get(clean_word, 0) + 1\n",
        "                    \n",
        "    # scaffolding to display summary info on the file processes\n",
        "    # print(\"File \", qualified_file, \" processed.\")\n",
        "    # input(\"Type Enter to continue.\")\n"
      ],
      "execution_count": null,
      "outputs": []
    },
    {
      "cell_type": "markdown",
      "metadata": {
        "id": "Wwq3OTx8JD8c"
      },
      "source": [
        "We can use the len() function to see how many unique words were read."
      ]
    },
    {
      "cell_type": "code",
      "metadata": {
        "id": "LBJFknvxBXQq"
      },
      "source": [
        "print(len(moby_di))"
      ],
      "execution_count": null,
      "outputs": []
    },
    {
      "cell_type": "markdown",
      "source": [
        "### Using `set` Operators with BIP39 and Moby Dick     "
      ],
      "metadata": {
        "id": "vhDy3kbuQmLW"
      }
    },
    {
      "cell_type": "markdown",
      "metadata": {
        "id": "_blL6wqKJemY"
      },
      "source": [
        "We can use set operators including the Intersection (&) operator to learn how many of the unique words (keys) in moby_di are also keys in the BIP 39 mnemonic dictio ary bip_di."
      ]
    },
    {
      "cell_type": "code",
      "metadata": {
        "id": "W3yihmdRB1_8"
      },
      "source": [
        "intersection_keys = bip_di.keys() & moby_di.keys()\n",
        "print(len(intersection_keys))"
      ],
      "execution_count": null,
      "outputs": []
    },
    {
      "cell_type": "markdown",
      "metadata": {
        "id": "z1bHBh94V9xt"
      },
      "source": [
        "We can create a list of tuples for the intersection of keys between bip_di and moby_di"
      ]
    },
    {
      "cell_type": "code",
      "metadata": {
        "id": "LXsYFrF8WLkF"
      },
      "source": [
        "matched_pairs = list()\n",
        "for key in intersection_keys:\n",
        "    matched_pairs.append((key, moby_di[key]))"
      ],
      "execution_count": null,
      "outputs": []
    },
    {
      "cell_type": "markdown",
      "metadata": {
        "id": "uHv73n6vXBeT"
      },
      "source": [
        "Exploring the list matched_frequency"
      ]
    },
    {
      "cell_type": "code",
      "metadata": {
        "id": "Pr610djrXGa3"
      },
      "source": [
        "type(matched_pairs)\n",
        "print(matched_pairs[0:20])"
      ],
      "execution_count": null,
      "outputs": []
    },
    {
      "cell_type": "markdown",
      "metadata": {
        "id": "crupMCkFQAhO"
      },
      "source": [
        "Using the sorted() method on items, we can create a list of unique moby_di words used in descending order.  We use the key word lambda to assign each key of the key:value pairs to kv which is used as the sort key by sorted()"
      ]
    },
    {
      "cell_type": "code",
      "metadata": {
        "id": "Vj_Q0mK2Mero"
      },
      "source": [
        "# moby_frequency = sorted(moby_di.items(), key = lambda kv:kv[1], reverse=True)\n",
        "matched_frequency = sorted(matched_pairs, key = lambda kv:kv[1], reverse=True)"
      ],
      "execution_count": null,
      "outputs": []
    },
    {
      "cell_type": "markdown",
      "metadata": {
        "id": "UOVa3pD3Sren"
      },
      "source": [
        "Check the type of sorted_frequency"
      ]
    },
    {
      "cell_type": "code",
      "metadata": {
        "id": "VEs_WoXhSGyQ"
      },
      "source": [
        "type(matched_frequency)"
      ],
      "execution_count": null,
      "outputs": []
    },
    {
      "cell_type": "markdown",
      "metadata": {
        "id": "E0uITVpfSwgK"
      },
      "source": [
        "We see that sorted_frequency is a list and on further inspection that it is a list of tuples which represent key:value pairs from the original dictionary moby_di"
      ]
    },
    {
      "cell_type": "code",
      "metadata": {
        "id": "2yF_W5dtQm31"
      },
      "source": [
        "print(matched_frequency[0:20])"
      ],
      "execution_count": null,
      "outputs": []
    },
    {
      "cell_type": "markdown",
      "metadata": {
        "id": "qMzGKngKJ0Ai"
      },
      "source": [
        "We can report on the processing of selected text files just as we did in our prior solution but now we use the bip_di and moby_di dictionaries and Set operators."
      ]
    },
    {
      "cell_type": "code",
      "metadata": {
        "id": "Em_zli31CE3l"
      },
      "source": [
        "## Report on the results in the dictionaries bip_di and moby_di\n",
        "## Find the words (keys) of the most frequently used mnemonics in the bip_di dictionary\n",
        "## Present an advisory message about any problems encountered\n",
        "## Print the desired list of top-20 BIP 39 mnemonics in Moby Dick in descending order\n",
        "\n",
        "# We can use the list of words (keys) by descending frequency to access dictionary pairs\n",
        "# Print the mnemonic and its related count as a key/value pair tuple\n",
        "print()\n",
        "print()\n",
        "print(\"Here are the top 20 BIP 39 Mnemonics used in the Moby Dick files you selected.\")\n",
        "print(\"You chose Moby Dick text file \" + \n",
        "      str(series_start) + \" to \" + str(series_end) + \".\")\n",
        "if problems:\n",
        "    print(\"The following files were not able to be processed.\")\n",
        "    for problem_file in problem_files:\n",
        "        print(problem_file)\n",
        "print()\n",
        "print(\"(BIP 39 Word, Count)\")\n",
        "print(\" -----------  ----- \")\n",
        "\n",
        "for pair in matched_frequency[:20] :\n",
        "    print(pair)"
      ],
      "execution_count": null,
      "outputs": []
    },
    {
      "cell_type": "markdown",
      "metadata": {
        "id": "-U7CGC8qZTLl"
      },
      "source": [
        "\n",
        "\n",
        "---\n",
        "\n"
      ]
    },
    {
      "cell_type": "markdown",
      "metadata": {
        "id": "Vu9lkT5KZUH7"
      },
      "source": [
        "*Some of the other analytics produced in the original solution may be created using our Set data.*"
      ]
    },
    {
      "cell_type": "code",
      "metadata": {
        "id": "V3wdBBmNZcig"
      },
      "source": [
        "mnemonics_used = len(bip_di.keys() & moby_di.keys())\n",
        "\n",
        "print(\"There are\", len(bip_di), \" BIP39 mnemonics evaluated in the selection.\")\n",
        "print(\"Of those\", mnemonics_used, \" mnemonics were used in the selection.\")\n",
        "print(\"The {0} mnemonics used represent {1}% of the BIP 39 list.\".format(mnemonics_used, mnemonics_used/len(bip_di)))"
      ],
      "execution_count": null,
      "outputs": []
    },
    {
      "cell_type": "code",
      "metadata": {
        "id": "6R_ZthNOaEuJ"
      },
      "source": [
        "print(\"There are\", len(moby_di.keys() - bip_di.keys()), \" non-BIP39 words used in the selection.\")"
      ],
      "execution_count": null,
      "outputs": []
    },
    {
      "cell_type": "code",
      "metadata": {
        "id": "Lp22BKA6aetp"
      },
      "source": [
        "try:\n",
        "    print(\"In total, there are\", len(moby_di), \"unique words in the selection.\")\n",
        "    print(\"BIP 39 mnemonics represent {0}% of the unique words in the selection.\".format(mnemonics_used/len(moby_di)))\n",
        "    \n",
        "except:\n",
        "   pass"
      ],
      "execution_count": null,
      "outputs": []
    },
    {
      "cell_type": "markdown",
      "source": [
        "\n",
        "\n",
        "---\n",
        "\n"
      ],
      "metadata": {
        "id": "EwhcDsrnP-9X"
      }
    },
    {
      "cell_type": "markdown",
      "source": [
        "<u>**Exercise: Jaccard Measures for BIP39 and Moby Dick**</u>    \n",
        "    \n",
        "Using `set` operators (or `set` methods) calculate the following for the unique sets of words in:     \n",
        "    \n",
        "  - BIP39 words    \n",
        "  - The text of a chapter of Herman Melville's Moby Dick    \n",
        "\n"
      ],
      "metadata": {
        "id": "SO7hh_tGPamA"
      }
    },
    {
      "cell_type": "code",
      "source": [
        "# Your Solution Here \n"
      ],
      "metadata": {
        "id": "YPbmXc0kP6T0"
      },
      "execution_count": null,
      "outputs": []
    },
    {
      "cell_type": "markdown",
      "source": [
        "#<center>__</center>"
      ],
      "metadata": {
        "id": "TqCFljuqq-_r"
      }
    },
    {
      "cell_type": "markdown",
      "source": [
        "# Decorators <sup>(continued from class 12)</sup>    \n"
      ],
      "metadata": {
        "id": "JWT99MEoRkdq"
      }
    },
    {
      "cell_type": "markdown",
      "source": [
        "*from: Anmol Tomar's Next Level Python* on **decorators** with a primer on foundational concepts used.     \n",
        "     \n",
        "from [**16 Python Tricks To Learn Before You Write Your Next Code:**](https://medium.com/codex/16-python-tricks-to-learn-before-you-write-your-next-code-bb91dd955f1b)     \n",
        "**Tricks that will make your life easier as a Python developer**    \n",
        "*by Anmol Tomar in Medium.com, Feb-2022*     \n",
        "\n",
        "**Section 9 Decorators** includes examples from ['Decorators with Examples' by Geeks for Geeks](https://pythongeeks.org/python-decorators/)    \n",
        "    \n",
        "**Python.org** documentation references are also included throughout this notebook.    \n"
      ],
      "metadata": {
        "id": "1V68aThwRgCb"
      }
    },
    {
      "cell_type": "markdown",
      "source": [
        "Decorators are a way to modify the behavior of a **function** or a **class**. They are defined using the `@` symbol and can be used to add functionality to a **function**, such as:    \n",
        "     \n",
        "  - logging    \n",
        "  - timing    \n",
        "  - authentication    \n",
        "      \n",
        "Let's try an example, but first a primer on **functions** and **variables** from *Geeks for Geeks*:    \n",
        "\n",
        "9.1. Functions are Objects in Python    \n",
        "9.2. Assign Functions to Variables in Python    \n",
        "9.3. Passing a Function as an Argument in Python    \n",
        "9.4. Function Returning Another Function in Python    \n",
        "9.5. Nested Functions in Python    \n",
        "9.6. Non-local Variables and Closure in Python     \n",
        "9.7. Decorators in Python: Step-by-Step     \n"
      ],
      "metadata": {
        "id": "6POF_PObIGpO"
      }
    },
    {
      "cell_type": "markdown",
      "source": [
        "###<u>9.1. Functions are Objects in Python</u>    \n",
        "Functions are first-class objects in Python. As a result, they have all of the attributes of an object, and we may handle them as such by assigning them to variables and passing them as arguments to other functions as arguments.        \n",
        "     "
      ],
      "metadata": {
        "id": "Bgggucu1_rh_"
      }
    },
    {
      "cell_type": "markdown",
      "source": [
        "###<u>9.2. Assigning Functions to Variables in Python</u>    \n",
        "In Python, we can assign a function to a variable. We can later use that variable to call the function,    \n",
        "    \n",
        "Example of assigning function to a variable:    "
      ],
      "metadata": {
        "id": "S-fpx7Gtyp7g"
      }
    },
    {
      "cell_type": "code",
      "source": [
        "# create a `building()` function\n",
        "def building():\n",
        "    print(\"Namm\")\n",
        "\n",
        "# assign the `building()` function to the variable `place`\n",
        "place = building \n",
        "\n",
        "print('Query of the objects `building` and `place`:')\n",
        "print(f\"{building = }\")\n",
        "print(f\"{place = }\")\n",
        "\n",
        "print()\n",
        "\n",
        "print('Invoking `building()` and `place()`: ')\n",
        "print('First, invoke the function `building()` with no argument - ')\n",
        "building()\n",
        "print('Then, invoke the variable `place()` with no argument - ')\n",
        "place()"
      ],
      "metadata": {
        "id": "YZo-IExcy88d"
      },
      "execution_count": null,
      "outputs": []
    },
    {
      "cell_type": "markdown",
      "source": [
        "In the above code example, we assigned the function `building()` to the variable `place`. Then we used the `place` variable to call the function. In this way, we can assign a function to as many variables as we want."
      ],
      "metadata": {
        "id": "E9KRvIFM05SM"
      }
    },
    {
      "cell_type": "markdown",
      "source": [
        "###<u>9.3. Passing a Function as an Argument in Python</u>    \n",
        "Similar to assigning functions to variables, we can also pass functions as arguments to other functions. The functions which accept the arguments are called higher-order functions.    \n",
        "\n",
        "Let's look at an example of a function invoking another function:    "
      ],
      "metadata": {
        "id": "ZRqjJEBA2Tbf"
      }
    },
    {
      "cell_type": "code",
      "source": [
        "def top_bottom(arg_lst): \n",
        "    print('The greatest value is', max(arg_lst))\n",
        "    print('The least value is', min(arg_lst))\n",
        "\n",
        "my_lst = [1, 2, 3, 4, 5]\n",
        "\n",
        "top_bottom(my_lst)"
      ],
      "metadata": {
        "id": "HFwNjRC2fDev"
      },
      "execution_count": null,
      "outputs": []
    },
    {
      "cell_type": "markdown",
      "source": [
        "We can even invoke a function as an argument (local variable) in a function that we define:    "
      ],
      "metadata": {
        "id": "u4HOaFMhh2vs"
      }
    },
    {
      "cell_type": "code",
      "source": [
        "def you_want(arg_function, arg_lst): \n",
        "    print('The value you want is', arg_function(arg_lst))\n",
        "\n",
        "my_lst = [1, 2, 3, 4, 5]\n",
        "\n",
        "you_want(min, my_lst)"
      ],
      "metadata": {
        "id": "uET5s071f1RJ"
      },
      "execution_count": null,
      "outputs": []
    },
    {
      "cell_type": "markdown",
      "source": [
        "Now, let's build an example of a higher-order function accepting another function as its argument.  We can use functions we define for both the higher-level function and the function we invoke via an argument (local variable) of the higher level function:    "
      ],
      "metadata": {
        "id": "py2aowKze9QP"
      }
    },
    {
      "cell_type": "code",
      "source": [
        "# defining a `sqrt()` function for square root of an argument\n",
        "def sqrt(sqrt_arg_num):\n",
        "    return sqrt_arg_num**0.5\n",
        "\n",
        "# defining a `square()` function for the square of an argument\n",
        "def square(square_arg_num):\n",
        "    return square_arg_num**2\n",
        "\n",
        "# higher-order function `math()` \n",
        "def math(arg_function):\n",
        "    print(arg_function(4))\n",
        "\n",
        "print('Invoking the `math()` function with argument `sqrt`: ')\n",
        "math(sqrt)\n",
        "print('Invoking the `math()` function with argument `square`: ')\n",
        "math(square)"
      ],
      "metadata": {
        "id": "-aUZaYdK2gWE"
      },
      "execution_count": null,
      "outputs": []
    },
    {
      "cell_type": "markdown",
      "source": [
        "###<u>9.4. Function Returning Another Function in Python</u>    \n",
        "    \n",
        "Python also allows us to define a function that returns another function.    "
      ],
      "metadata": {
        "id": "h4adiwNd7J6U"
      }
    },
    {
      "cell_type": "code",
      "source": [
        "# define a function that prints a string\n",
        "def str_func():\n",
        "    print(\"Information and Data Management\")\n",
        "\n",
        "# define a function that invokes the string-printing function \n",
        "def higher_func():\n",
        "    return str_func\n",
        "\n",
        "# assign the higher-order function to a variable\n",
        "variable_1 = higher_func()\n",
        "\n",
        "# invoke the variable that has a higher-order function assigned\n",
        "variable_1()"
      ],
      "metadata": {
        "id": "imFbo9rZ7Uz_"
      },
      "execution_count": null,
      "outputs": []
    },
    {
      "cell_type": "markdown",
      "source": [
        "###<u>9.5. Nested Functions in Python</u>    \n",
        "The Python language lets us create a function within another function. These enclosed functions are called nested functions.  Let's look at an example:        "
      ],
      "metadata": {
        "id": "qRLms7tz81cV"
      }
    },
    {
      "cell_type": "code",
      "source": [
        "# defining a fruitful nested function within a void outer function\n",
        "def more_math():\n",
        "    def square_it(arg_num):\n",
        "        return arg_num**2\n",
        "    print(square_it(2))\n",
        "\n",
        "# invoking the outer function\n",
        "more_math()"
      ],
      "metadata": {
        "id": "NKnYnQQo9EDu"
      },
      "execution_count": null,
      "outputs": []
    },
    {
      "cell_type": "code",
      "source": [
        "# testing the outer function for a return value    \n",
        "# note that the print of '4\\n' is a side-effect of the function invoked\n",
        "bool(more_math())"
      ],
      "metadata": {
        "id": "NKw_ZZR_9pgv"
      },
      "execution_count": null,
      "outputs": []
    },
    {
      "cell_type": "markdown",
      "source": [
        "###<u>9.6. Non-local Variables and Closure in Python</u>    \n",
        "    \n",
        "A `nested function` is one that is defined inside another function. The variables of the enclosing scope can be accessed by nested functions. These variables are called `non-local` variables.    \n",
        "\n",
        "By default, `non-local` variables are read-only. To modify them, we need to use a keyword called `nonlocal`.     \n",
        "      \n",
        "`Closure Functions` are nested functions that can access non-local variables.    \n",
        "    \n",
        "Example of `non-local` variable and `closure function` in Python:    \n"
      ],
      "metadata": {
        "id": "s-JphWzR_Qyk"
      }
    },
    {
      "cell_type": "code",
      "source": [
        "# defining a fruitful nested function within a void outer function\n",
        "def more_math():\n",
        "    def square_it(arg_num):\n",
        "        # square's local read-only of non-local `arg_num`\n",
        "        return arg_num**2\n",
        "    print(square_it(2))\n",
        "\n",
        "# invoking the outer function\n",
        "more_math()"
      ],
      "metadata": {
        "id": "c9tBFSKK_84y"
      },
      "execution_count": null,
      "outputs": []
    },
    {
      "cell_type": "markdown",
      "source": [
        "In the above code example, the variable `arg_num` is a `non-local` variable. Although the variable `arg_num` is not in the scope of the function `square()`, it still accessed it. So, the function `square()` is called a closure function."
      ],
      "metadata": {
        "id": "KbenKZ1XASYV"
      }
    },
    {
      "cell_type": "markdown",
      "source": [
        "###<u>9.7. Decorators in Python: Step-by-Step</u>    \n",
        "Creating a Decorator in Python    \n",
        "    \n",
        "Using the concepts that we have reviewed about `functions`, we can create a simple `decorator`.\n",
        "\n",
        "Example of creating a `decorator`:    "
      ],
      "metadata": {
        "id": "X0X6IvfjCZ_F"
      }
    },
    {
      "cell_type": "code",
      "source": [
        "# defining decorator function which takes a function as an argument\n",
        "def my_decor_func(decor_arg_func):\n",
        "    # defining fruitful function `my_wrap` which prints...\n",
        "    # ... then returns the `non-local` argument (function)\n",
        "    def my_wrap_func():\n",
        "        print(\"Decorator Function - my_decor\")\n",
        "        return decor_arg_func()\n",
        "    # returning the result from the my_wrap_func local function\n",
        "    return my_wrap_func"
      ],
      "metadata": {
        "id": "FW4ydsq7Co_b"
      },
      "execution_count": null,
      "outputs": []
    },
    {
      "cell_type": "markdown",
      "source": [
        "In the above code example, we have created a decorator called `my_decor_func`. Let’s have a look at how to use that decorator.   "
      ],
      "metadata": {
        "id": "b4KzSr5EVmN7"
      }
    },
    {
      "cell_type": "markdown",
      "source": [
        "####<u>9.7(a) Using a Decorator in Python</u>    \n",
        "To use a decorator, we need to have a main function which we want to decorate and we need to assign the decorator function to a variable. Oftentimes, the name of the variable will be the same as the function which we want to decorate but in this example we will use a different name.    \n",
        "    \n",
        "Example of using a decorator:    "
      ],
      "metadata": {
        "id": "I5UqSCR2Cwzp"
      }
    },
    {
      "cell_type": "code",
      "source": [
        "# defining a main function which will be decorated \n",
        "def their_function():\n",
        "    print(\"Their Function - the main function\")"
      ],
      "metadata": {
        "id": "8sHKO0wZDB70"
      },
      "execution_count": null,
      "outputs": []
    },
    {
      "cell_type": "code",
      "source": [
        "# assigning the decorator function its argument, the main function to a variable \n",
        "my_variable = my_decor_func(their_function)"
      ],
      "metadata": {
        "id": "gak6C36ROpWL"
      },
      "execution_count": null,
      "outputs": []
    },
    {
      "cell_type": "code",
      "source": [
        "# invoking the variable that has my_decor_func() with the argument their_function assigned to it\n",
        "my_variable()"
      ],
      "metadata": {
        "id": "kqZezhatDjKI"
      },
      "execution_count": null,
      "outputs": []
    },
    {
      "cell_type": "markdown",
      "source": [
        "Here is a diagram of what we created in the last three snippets of code: "
      ],
      "metadata": {
        "id": "h8TSju-iNGx_"
      }
    },
    {
      "cell_type": "markdown",
      "source": [
        "![CST2312_Class11_DecoratorExample.png](data:image/png;base64,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)"
      ],
      "metadata": {
        "id": "9pdA6Jo3NOzv"
      }
    },
    {
      "cell_type": "markdown",
      "source": [
        "####<u>9.7(b) Decorators with Arguments in Python</u>     \n",
        "We can use a decorator even when the function has some arguments. To do so we need to define our decorator a bit differently than before.    \n",
        "    \n",
        "Example of decorator in Python:    \n",
        "\n"
      ],
      "metadata": {
        "id": "mwolHjpRNij0"
      }
    },
    {
      "cell_type": "code",
      "source": [
        "# defining decorator function which takes a function as an argument\n",
        "def my_decor_func(arg_func):\n",
        "    # defining fruitful function `my_wrap` which prints...\n",
        "    # ... then returns the `non-local` argument (function)...\n",
        "    # ... with two string arguments passed to that function <= NEW\n",
        "    def my_wrap_func(arg_str1, arg_str2):\n",
        "        print(\"Decorator Function - my decor\")\n",
        "        return arg_func(arg_str1, arg_str2)               # <= NEW\n",
        "    return my_wrap_func\n",
        "\n",
        "# defining a main function which will be decorated \n",
        "def their_function(arg_str_a, arg_str_b):\n",
        "    print(\"Their Function - the main function\")\n",
        "    print(arg_str_a + \" are \" +  arg_str_b)               # <= NEW"
      ],
      "metadata": {
        "id": "u90PbbFeNofK"
      },
      "execution_count": null,
      "outputs": []
    },
    {
      "cell_type": "code",
      "source": [
        "# assigning the decorator function its argument, the main function to a variable \n",
        "my_variable = my_decor_func(their_function)"
      ],
      "metadata": {
        "id": "FgVIL6jlOffD"
      },
      "execution_count": null,
      "outputs": []
    },
    {
      "cell_type": "code",
      "source": [
        "# invoking the variable that has my_decor_func() with the argument their_function assigned to it\n",
        "my_variable(\"Mangoes\", \"Sweet\")"
      ],
      "metadata": {
        "id": "EZtC1QaDOfS9"
      },
      "execution_count": null,
      "outputs": []
    },
    {
      "cell_type": "markdown",
      "source": [
        "####<u>9.7(c) Using the Decorator Syntax in Python</u>     \n",
        "     \n",
        "Python makes using decorators a lot easier. Instead of assigning the decorator to a variable, we can simply use the `@` sign. This is the most common method of implementing decorators.     \n",
        "\n",
        "Example of an `@` decorator in Python:    "
      ],
      "metadata": {
        "id": "qsHaZ84GR9zu"
      }
    },
    {
      "cell_type": "code",
      "source": [
        "def my_decor_func(arg_func):\n",
        "    def my_wrap_func(*args, **kwargs):\n",
        "        print(\"Decorator Function - my decor\")\n",
        "        return arg_func(*args, **kwargs)\n",
        "    return my_wrap_func"
      ],
      "metadata": {
        "id": "uyHUQRT0SLMK"
      },
      "execution_count": null,
      "outputs": []
    },
    {
      "cell_type": "code",
      "source": [
        "@my_decor_func\n",
        "def their_function(str1, str2):\n",
        "    print(\"Their Function - the main function\")\n",
        "    print(str1 + \" are \" +  str2)"
      ],
      "metadata": {
        "id": "S98oZHEwSYui"
      },
      "execution_count": null,
      "outputs": []
    },
    {
      "cell_type": "code",
      "source": [
        "their_function(\"Mangoes\", \"Delicious\")"
      ],
      "metadata": {
        "id": "3xVU1jLkSqGy"
      },
      "execution_count": null,
      "outputs": []
    },
    {
      "cell_type": "markdown",
      "source": [
        "####<u>9.7(d) Multiple Decorators in Python</u>    \n",
        "    \n",
        "In Python, we can apply several decorators to a single function. The decorators, on the other hand, will be used in the sequence that we’ve designated. This is called chaining decorators.     \n",
        "    \n",
        "Example of multiple decorators in Python:    "
      ],
      "metadata": {
        "id": "HGLcJh0FTaeo"
      }
    },
    {
      "cell_type": "code",
      "source": [
        "# first decorator function  \n",
        "def my_decor_func(arg1_func):\n",
        "    def my_wrap_func(*args, **kwargs):\n",
        "        print(\"Decorator Function 1\")\n",
        "        return arg1_func(*args, **kwargs)\n",
        "    return my_wrap_func\n",
        "\n",
        "# another decorator function \n",
        "def my_another_decor_func(arg2_func):\n",
        "    def my_wrap_func(*args, **kwargs):\n",
        "        print(\"Decorator Function 2\")\n",
        "        return arg2_func(*args, **kwargs)\n",
        "    return my_wrap_func"
      ],
      "metadata": {
        "id": "ysZ5fThGTjZ3"
      },
      "execution_count": null,
      "outputs": []
    },
    {
      "cell_type": "code",
      "source": [
        "@my_decor_func\n",
        "@my_another_decor_func\n",
        "def my_function(str1, str2):\n",
        "    print(\"Main Function\")\n",
        "    print(str1 + \" are \" +  str2)"
      ],
      "metadata": {
        "id": "m_daTik7T43g"
      },
      "execution_count": null,
      "outputs": []
    },
    {
      "cell_type": "code",
      "source": [
        "my_function(\"Mangoes\", \"Delicious\")"
      ],
      "metadata": {
        "id": "2cM_XkIWR9Y4"
      },
      "execution_count": null,
      "outputs": []
    },
    {
      "cell_type": "markdown",
      "source": [
        "####<u>9.7(e) Python Decorators Example from Anmol Tomar</u>     "
      ],
      "metadata": {
        "id": "CuMdCbXkVVHe"
      }
    },
    {
      "cell_type": "markdown",
      "source": [
        "Having reviewed all of those aspects of functions and decorators, we can look at the example provide by Anmol Tomar.  Bear in mind, that Anmol's example allows for multiple `keyword arguments` in the `wrapper` function by using the argument options `*args` and `**kwargs`.    "
      ],
      "metadata": {
        "id": "jwhlX1RLP384"
      }
    },
    {
      "cell_type": "code",
      "source": [
        "def log_function(arg_func):\n",
        "    def wrapper_func(*args, **kwargs):\n",
        "        print(f'Running {arg_func.__name__}')           # side effect displays arg function\n",
        "        result = arg_func(*args, **kwargs)\n",
        "        print(f'{arg_func.__name__} returned {result}') # side effect displays arg_func result\n",
        "        return result                                   # fruitful return of arg_func result\n",
        "    return wrapper_func                                 # return result of wrapper_func"
      ],
      "metadata": {
        "id": "n6U6-7hTxr9X"
      },
      "execution_count": null,
      "outputs": []
    },
    {
      "cell_type": "code",
      "source": [
        "@log_function\n",
        "def add_func(x, y):\n",
        "    return x + y"
      ],
      "metadata": {
        "id": "PTDAOs4eQju9"
      },
      "execution_count": null,
      "outputs": []
    },
    {
      "cell_type": "code",
      "source": [
        "print(add_func(5,7))"
      ],
      "metadata": {
        "id": "y_VAmfhVQk3t"
      },
      "execution_count": null,
      "outputs": []
    },
    {
      "cell_type": "markdown",
      "source": [
        "**Whew!**  😧"
      ],
      "metadata": {
        "id": "x5APQPTgRgP8"
      }
    },
    {
      "cell_type": "markdown",
      "metadata": {
        "id": "sIl9HRvZEEYh"
      },
      "source": [
        "\n",
        "\n",
        "---\n",
        "\n"
      ]
    }
  ]
}