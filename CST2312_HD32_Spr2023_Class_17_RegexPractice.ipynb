{
  "nbformat": 4,
  "nbformat_minor": 0,
  "metadata": {
    "colab": {
      "provenance": [],
      "collapsed_sections": [
        "OKydZwdOIiHY",
        "9nHpUMglP5v_"
      ],
      "authorship_tag": "ABX9TyN8c5vtQFzaIygqC5BOF0Br",
      "include_colab_link": true
    },
    "kernelspec": {
      "name": "python3",
      "display_name": "Python 3"
    },
    "language_info": {
      "name": "python"
    }
  },
  "cells": [
    {
      "cell_type": "markdown",
      "metadata": {
        "id": "view-in-github",
        "colab_type": "text"
      },
      "source": [
        "<a href=\"https://colab.research.google.com/github/ProfessorPatrickSlatraigh/CST2312/blob/main/CST2312_HD32_Spr2023_Class_17_RegexPractice.ipynb\" target=\"_parent\"><img src=\"https://colab.research.google.com/assets/colab-badge.svg\" alt=\"Open In Colab\"/></a>"
      ]
    },
    {
      "cell_type": "markdown",
      "metadata": {
        "id": "Sivi2IUlD10N"
      },
      "source": [
        "# **CST2312 Class17 - Regex**\n",
        "\n",
        "*this Colab notebook available with the link [bit.ly/cst2312cl17](https://bit.ly/cst2312cl17)*    "
      ]
    },
    {
      "cell_type": "markdown",
      "metadata": {
        "id": "XtosZlQIczc0"
      },
      "source": [
        "*This notebook includes CST2312 homework Assignment #4 which includes   an exercise to be completed ⚪ 4.1 at the end of the notebook.*"
      ]
    },
    {
      "cell_type": "markdown",
      "metadata": {
        "id": "o7fP5obdEAS3"
      },
      "source": [
        "\n",
        "\n",
        "---\n",
        "\n"
      ]
    },
    {
      "cell_type": "markdown",
      "source": [
        "##Raw strings    \n",
        "\n",
        "First, a reminder about *raw strings* which are delineated with the `r` character preceding the first quotation (single or double) mark of a *string*.  When a string is denoted as a *raw string* then the contents inside the quotes are interpreted exactly as they are.  That is, special control characters such as `\\n`, `\\t`, etc.  are interpreted as the text characters '\\' and 'n' or '\\' and 't' respectively and not as their control characters (new line, or tab).    \n"
      ],
      "metadata": {
        "id": "bbEtzpo24XE3"
      }
    },
    {
      "cell_type": "markdown",
      "source": [
        "#### 1. Printing a string with embedded control characters    \n"
      ],
      "metadata": {
        "id": "e8hK0Mo0SP3X"
      }
    },
    {
      "cell_type": "code",
      "source": [
        "print('This string\\nprints two lines.')"
      ],
      "metadata": {
        "id": "EUmbX59Q4ZKA"
      },
      "execution_count": null,
      "outputs": []
    },
    {
      "cell_type": "markdown",
      "source": [
        "#### 2. Printing a raw string with the same embedded control characters    \n"
      ],
      "metadata": {
        "id": "CrWWF9bASYp1"
      }
    },
    {
      "cell_type": "code",
      "source": [
        "print(r'This string\\n does not print two lines.')"
      ],
      "metadata": {
        "id": "QBSoB28D4d4w"
      },
      "execution_count": null,
      "outputs": []
    },
    {
      "cell_type": "markdown",
      "source": [
        "#### 3. Try printing a string with embedded tab control characters as an `r` string and as a string (not `r`)      \n"
      ],
      "metadata": {
        "id": "Y3IHQal_TIZy"
      }
    },
    {
      "cell_type": "code",
      "source": [],
      "metadata": {
        "id": "eYUJ_cE6TS3t"
      },
      "execution_count": null,
      "outputs": []
    },
    {
      "cell_type": "markdown",
      "metadata": {
        "id": "TBwxQCVO4csM"
      },
      "source": [
        "\n",
        "\n",
        "---\n",
        "\n"
      ]
    },
    {
      "cell_type": "markdown",
      "metadata": {
        "id": "_1eYdhLSHUn_"
      },
      "source": [
        "## ***About Regular Expressions***\n",
        "***Regex***"
      ]
    },
    {
      "cell_type": "markdown",
      "metadata": {
        "id": "RtDi8NbS6zaP"
      },
      "source": [
        "**Reading** from the required textbook: ( [https://www.py4e.com/lessons/](https://www.py4e.com/lessons/))\n",
        "\n",
        "* [Regular Expressions](https://www.py4e.com/lessons/regex) (Chapter 12)\n",
        "* [Data Science Cheat Sheet Python Regular Expressions](https://www.dataquest.io/wp-content/uploads/2019/03/python-regular-expressions-cheat-sheet.pdf)\n",
        "\n"
      ]
    },
    {
      "cell_type": "markdown",
      "metadata": {
        "id": "_sVm6Xw17i6F"
      },
      "source": [
        "So far we have been using methods like `split` and `find` to extract portions of strings or to answer a question of whether a particular item / string is part of a list-set-tuple-dictionary / longer string.\n",
        "\n",
        "Regular Expressions\n",
        "-------------------\n",
        "\n",
        "Regular expressions (regexes or re’s) constitute an extremely powerful, flexible and concise language for matching elements in text ranging from a few characters to complex patterns. While mastering the syntax of the regular expression language does require climbing a learning curve, this learning curve is not particularly steep, and a newcomer can find herself performing useful tasks with regular expressions almost immediately. Efforts spent learning regular expressions quickly pay off--tasks that are well suited for regular expressions abound. Indeed, regular expressions are one of the most useful computer skills, and an absolutely critical tool for data scientists.\n",
        "\n",
        "This document will present basic regular expression syntax and cover common use cases for regular expressions: pattern matching, filtering, data extraction, and string replacement. \n",
        "\n",
        "We will present examples using python’s standard [re regular expression library](http://docs.python.org/library/re.html).\n",
        "\n",
        "We will discuss Python libraries in detail later.\n",
        "\n",
        "Many examples from from this [Google tutorial](https://developers.google.com/edu/python/regular-expressions). Pay attention that tutorial itself uses a 2.x version of Python, thus, several statements (for example, print()) look differently than in the later versions of Python. In this notebook, the examples from the Google tutorial are converted to the current Python version. "
      ]
    },
    {
      "cell_type": "markdown",
      "metadata": {
        "id": "VJbxGwbs-c10"
      },
      "source": [
        "## <b>Searching strings using `regex` expressions</b> "
      ]
    },
    {
      "cell_type": "markdown",
      "source": [
        "### Housekeeping   "
      ],
      "metadata": {
        "id": "_9MUafMIMK6X"
      }
    },
    {
      "cell_type": "markdown",
      "metadata": {
        "id": "tt-2u13P6f-L"
      },
      "source": [
        "The regular expression library `re` must be imported into your program before you can use it. The simplest use of the regular expression library is the `search()` function. "
      ]
    },
    {
      "cell_type": "code",
      "metadata": {
        "id": "LwA_bTfx4_PZ"
      },
      "source": [
        "# first import the regular expression library\n",
        "import re"
      ],
      "execution_count": null,
      "outputs": []
    },
    {
      "cell_type": "markdown",
      "source": [
        "### Simple (relatively) Regex Examples"
      ],
      "metadata": {
        "id": "5mgrl2hzMNem"
      }
    },
    {
      "cell_type": "code",
      "source": [
        "# let's create a string variable and try to use `split` to find 'cat'\n",
        "inputStr = 'An example word:cat!!'\n",
        "input_list = inputStr.split(' ')\n",
        "for element in input_list :\n",
        "    print(element)"
      ],
      "metadata": {
        "id": "rv7Wl2HP0mwM"
      },
      "execution_count": null,
      "outputs": []
    },
    {
      "cell_type": "code",
      "source": [
        "inputStr = 'An example word:cat!!' \n",
        "search_pattern_raw = r'cat'\n",
        "\n",
        "print('Search for the pattern \"' + search_pattern_raw + '\" in \"' + inputStr + '\"')"
      ],
      "metadata": {
        "id": "eOMwjz8IalHf"
      },
      "execution_count": null,
      "outputs": []
    },
    {
      "cell_type": "code",
      "metadata": {
        "id": "ZifTlTpG481G"
      },
      "source": [
        "# the `re.search()` method returns a Match object which can be evaluated as a Boolean\n",
        "inputStr = 'An example word:cat!!'\n",
        "\n",
        "# tell me a pattern and where to look for that pattern...\n",
        "if re.search(r'cat', inputStr):   # search takes arg1 of a search pattern and arg2 of string to search\n",
        "  print('Found that pattern in the following string:')\n",
        "  print(inputStr)\n",
        "\n",
        "# then print confirmation of execution\n",
        "print (\"Done with the example\")"
      ],
      "execution_count": null,
      "outputs": []
    },
    {
      "cell_type": "code",
      "source": [
        "# The actual Match object returned by the `re.search()` method which can be evaluating as a Boolean\n",
        "inputStr = 'An example word:cat!!'\n",
        "re_returns = re.search(r'cat', inputStr)\n",
        "print(re_returns)"
      ],
      "metadata": {
        "id": "ljrPcxvjb3cW"
      },
      "execution_count": null,
      "outputs": []
    },
    {
      "cell_type": "code",
      "source": [
        "# for the last example there is no need for a raw `r` string\n",
        "inputStr = 'An example word:cat!!'\n",
        "if re.search('cat', inputStr):   # search takes arg1 of a search term and arg2 of string to search\n",
        "  print('Found that pattern in the following string:')\n",
        "  print(inputStr)\n",
        "\n",
        "print (\"Done with the example\")"
      ],
      "metadata": {
        "id": "mkba7buDaEm1"
      },
      "execution_count": null,
      "outputs": []
    },
    {
      "cell_type": "code",
      "metadata": {
        "id": "3Z60qReo5JIk"
      },
      "source": [
        "# the `re.search()` method returns a Match object which can be evaluated as a Boolean\n",
        "inputStr = 'An example word: cat!!'\n",
        "if re.search(r'dog', inputStr):\n",
        "    print(inputStr)\n",
        "else:\n",
        "    print('Sorry.  Could not find \"' + r'dog' + '\" in \"' + inputStr + '\"')"
      ],
      "execution_count": null,
      "outputs": []
    },
    {
      "cell_type": "code",
      "source": [
        "# The Match object returned by the `re.search()` method which can be evaluated as a Boolean\n",
        "inputStr = 'An example word:cat!!'\n",
        "re_returns = re.search(r'dog', inputStr)\n",
        "print(re_returns)"
      ],
      "metadata": {
        "id": "3lcQ7StQeKhN"
      },
      "execution_count": null,
      "outputs": []
    },
    {
      "cell_type": "markdown",
      "source": [
        "#### Some additional regex search patterns  "
      ],
      "metadata": {
        "id": "DNeLo7KTet_2"
      }
    },
    {
      "cell_type": "code",
      "metadata": {
        "id": "-yiq_EXBlBGT"
      },
      "source": [
        "inputStr = 'An example word: cat!!'\n",
        "if re.search(r'word: \\w\\w\\w', inputStr):\n",
        "  print('Found it in -', inputStr)\n",
        "  \n",
        "print (\"Done with the example\")"
      ],
      "execution_count": null,
      "outputs": []
    },
    {
      "cell_type": "code",
      "source": [
        "# The Match object returned by the `re.search()` method which can be evaluated as a Boolean\n",
        "inputStr = 'An example thing: cat!!'\n",
        "re_returns = re.search(r'thing: \\w\\w\\w', inputStr)\n",
        "print(re_returns)"
      ],
      "metadata": {
        "id": "1yXYinJKfQR5"
      },
      "execution_count": null,
      "outputs": []
    },
    {
      "cell_type": "code",
      "metadata": {
        "id": "1HdCJTqlm78v"
      },
      "source": [
        "inputStr = 'An example word: dog, anda, cat!!'\n",
        "if re.search(r'word: \\w\\w\\w', inputStr):\n",
        "  print('Found it in -', inputStr)\n",
        "\n",
        "print (\"Done with the example\")"
      ],
      "execution_count": null,
      "outputs": []
    },
    {
      "cell_type": "code",
      "source": [
        "# The Match object returned by the `re.search()` method which can be evaluated as a Boolean\n",
        "inputStr = 'An example word: dog, anda, cat!!'\n",
        "re_returns = re.search(r'word: \\w\\w\\w', inputStr)\n",
        "print(re_returns)"
      ],
      "metadata": {
        "id": "uQEDaGb0hBrt",
        "colab": {
          "base_uri": "https://localhost:8080/"
        },
        "outputId": "39471dd9-48a5-40e7-c68e-a701014b676d"
      },
      "execution_count": null,
      "outputs": [
        {
          "output_type": "stream",
          "name": "stdout",
          "text": [
            "<re.Match object; span=(11, 20), match='word: dog'>\n"
          ]
        }
      ]
    },
    {
      "cell_type": "code",
      "source": [
        "# What is the regular expression pattern included a space after 'word:'?\n",
        "inputStr = 'An example word:dog, anda, cat!!'\n",
        "if re.search(r'word: \\w\\w\\w', inputStr):\n",
        "    print('Found it in -', inputStr)\n",
        "else:\n",
        "    print('Sorry.  Could not find \"' + r'word: \\w\\w\\w' + '\" in \"' + inputStr + '\"')\n",
        "\n",
        "print (\"Done with the example\")"
      ],
      "metadata": {
        "id": "dlQPJKCaiHuz"
      },
      "execution_count": null,
      "outputs": []
    },
    {
      "cell_type": "code",
      "source": [
        "# The Match object returned by the `re.search()` method which can be evaluated as a Boolean\n",
        "inputStr = 'An example word:dog, anda, cat!!'\n",
        "re_returns = re.search(r'word: \\w\\w\\w', inputStr)\n",
        "print(re_returns)"
      ],
      "metadata": {
        "id": "gDmjdbpTin47"
      },
      "execution_count": null,
      "outputs": []
    },
    {
      "cell_type": "code",
      "metadata": {
        "id": "g-42g9JIncRw"
      },
      "source": [
        "the_text = 'there are many words here some with three characters and also this phrase \"stuffH dog\", plus cat!!'\n",
        "if re.search(r'stuffH \\w\\w\\w', the_text):\n",
        "  print(\"I found the pattern you asked about.\")\n",
        "\n",
        "print (\"Done with the example\")"
      ],
      "execution_count": null,
      "outputs": []
    },
    {
      "cell_type": "code",
      "source": [
        "# The Match object returned by the `re.search()` method which can be evaluated as a Boolean\n",
        "the_text = 'there are many words here some with three characters and also this phrase \"stuffH dog\", plus cat!!'\n",
        "re_returns = re.search(r'stuffH \\w\\w\\w', the_text)\n",
        "print(re_returns)"
      ],
      "metadata": {
        "id": "JvzTj7S4jV93"
      },
      "execution_count": null,
      "outputs": []
    },
    {
      "cell_type": "code",
      "source": [
        "# What if we did that but had a lower case 'h' in the raw search string?\n",
        "the_text = 'there are many words here some with three characters and also this phrase \"stuffH dog\", plus cat!!'\n",
        "if re.search(r'stuffh \\w\\w\\w', the_text):\n",
        "    print(\"I found the pattern you asked about.\")\n",
        "else:\n",
        "    print('Sorry.  Could not find \"' + r'stuffh \\w\\w\\w' + '\" in \"' + the_text + '\"')\n",
        "\n",
        "print (\"Done with the example\")"
      ],
      "metadata": {
        "id": "zyIGZLfMi9Dz"
      },
      "execution_count": null,
      "outputs": []
    },
    {
      "cell_type": "markdown",
      "source": [
        "---"
      ],
      "metadata": {
        "id": "sskBpidpm9eM"
      }
    },
    {
      "cell_type": "markdown",
      "source": [
        "### Storing `.re` Results   "
      ],
      "metadata": {
        "id": "-iVaCSLDMdZo"
      }
    },
    {
      "cell_type": "markdown",
      "metadata": {
        "id": "BkMWHgyN-z0Z"
      },
      "source": [
        "#### We can store the result of `re.search(pat, str)` in a variable.\n",
        "\n",
        "In Python a regular expression search is typically written as:\n",
        "\n",
        "`match = re.search(pat, str)`\n",
        "\n",
        "The code `match = re.search(pat, str)` stores the search result in a variable named \"match\". \n",
        "\n",
        "The `re.search()` method takes a regular expression pattern and a string and searches for that pattern within the string. If the search is successful, `search()` returns a match object or `None` otherwise.\n",
        "\n",
        "Then the `if`-statement tests the match -- if `True` the search succeeded and `match.group()` is the matching text (e.g. 'word: cat'). Otherwise if the match is `False` (`None` to be more specific), then the search did not succeed, and there is no matching text.\n",
        "\n",
        "The 'r' at the start of the pattern string designates a python \"raw\" string which passes through backslashes without change which is very handy for regular expressions. It is recommended that you always write pattern strings with the 'r' just as a habit.\n",
        "\n",
        " "
      ]
    },
    {
      "cell_type": "code",
      "metadata": {
        "id": "CxmiuzbN_IAx"
      },
      "source": [
        "inputStr = 'An example word: cat!!'\n",
        "search_result = re.search(r'word: \\w\\w\\w', inputStr) ## both 'cat' and 'dog' are 3-letter words\n",
        "# search_result\n",
        "print(search_result)"
      ],
      "execution_count": null,
      "outputs": []
    },
    {
      "cell_type": "code",
      "source": [
        "inputStr = 'An example word: ice!!'\n",
        "search_object = re.search(r'word: \\w\\w\\w', inputStr) ## both 'cat' and 'dog' are 3-letter words\n",
        "# search_object\n",
        "print(search_object)"
      ],
      "metadata": {
        "id": "lPS3YFycjyQo"
      },
      "execution_count": null,
      "outputs": []
    },
    {
      "cell_type": "markdown",
      "source": [
        "Grouping regular expression patterns with parentheses:   "
      ],
      "metadata": {
        "id": "QopdQ8eVpOnK"
      }
    },
    {
      "cell_type": "code",
      "source": [
        "inputStr = 'An example word: ice!!'\n",
        "match_object = re.match(r'(\\w+)', inputStr) ## all of 'cat'. 'ice', and 'dog' are 3-letter words\n",
        "# match_object\n",
        "print(match_object)"
      ],
      "metadata": {
        "id": "vxoYT0DhpKzq"
      },
      "execution_count": null,
      "outputs": []
    },
    {
      "cell_type": "code",
      "source": [
        "inputStr = 'A good example word: ice!!'\n",
        "match_object = re.match(r'(\\w+)', inputStr) ## all of 'cat'. 'ice', and 'dog' are 3-letter words\n",
        "# match_object\n",
        "print(match_object)"
      ],
      "metadata": {
        "id": "nSijBPU8Gl7a"
      },
      "execution_count": null,
      "outputs": []
    },
    {
      "cell_type": "code",
      "source": [
        "inputStr = 'A good example word: ice!!'\n",
        "match_object = re.match(r'\\w+', inputStr) ## all of 'cat'. 'ice', and 'dog' are 3-letter words\n",
        "# match_object\n",
        "print(match_object)"
      ],
      "metadata": {
        "id": "D_jW9L7EGysu"
      },
      "execution_count": null,
      "outputs": []
    },
    {
      "cell_type": "code",
      "source": [
        "inputStr = 'Another good example word: ice!!'\n",
        "match_object = re.match(r'\\w+', inputStr) ## all of 'cat'. 'ice', and 'dog' are 3-letter words\n",
        "# match_object\n",
        "print(match_object)"
      ],
      "metadata": {
        "id": "yRo8UsK2G91b"
      },
      "execution_count": null,
      "outputs": []
    },
    {
      "cell_type": "markdown",
      "source": [
        "#### <b>Geeks-for-Geeks</b> Regex Example"
      ],
      "metadata": {
        "id": "bKTg-qe2MkTy"
      }
    },
    {
      "cell_type": "markdown",
      "metadata": {
        "id": "WOJRnM0r38sB"
      },
      "source": [
        "See **Geeks for Geeks** on the use of arguments in the `.group()` function for `.re.search()` at --    \n",
        " o  https://www.geeksforgeeks.org/re-matchobject-group-function-in-python-regex/"
      ]
    },
    {
      "cell_type": "markdown",
      "metadata": {
        "id": "Dv9L7z164UFY"
      },
      "source": [
        "*Here is the example used by <b>Geeks for Geeks</b>*"
      ]
    },
    {
      "cell_type": "code",
      "metadata": {
        "id": "3cJlwMjT4dxl"
      },
      "source": [
        "\"\"\"We create a re.MatchObject and store it in\n",
        "   match_object variable\n",
        "   the '()' parenthesis are used to define a\n",
        "   specific group\"\"\"\n",
        "\n",
        "inputStr = 'username@geekforgeeks.org'\n",
        " \n",
        "match_object = re.match(r'(\\w+)@(\\w+)\\.(\\w+)', inputStr)\n",
        " \n",
        "# \"\"\" w in above pattern stands for alphabetical character\n",
        "#    + is used to match a consecutive set of characters\n",
        "#    satisfying a given condition\n",
        "#    so w+ will match a consecutive set of alphabetical characters\"\"\""
      ],
      "execution_count": null,
      "outputs": []
    },
    {
      "cell_type": "code",
      "source": [
        "print(match_object)"
      ],
      "metadata": {
        "id": "8RTBhwGXIDkf"
      },
      "execution_count": null,
      "outputs": []
    },
    {
      "cell_type": "markdown",
      "source": [
        "##### <u>Quick Exercise</u>     \n",
        "    "
      ],
      "metadata": {
        "id": "OKydZwdOIiHY"
      }
    },
    {
      "cell_type": "markdown",
      "source": [
        "Try that with your school email address and assign the result to `match_object2` in the following cell:    \n"
      ],
      "metadata": {
        "id": "7oROc8e8He_X"
      }
    },
    {
      "cell_type": "code",
      "source": [
        "\n",
        "inputStr = 'patrick.slattery16@citytech.cuny.edu'\n",
        " \n",
        "match_object2 = re.match(r'(\\w+)@(\\w+)\\.(\\w+)', inputStr)\n",
        " \n",
        "# \"\"\" w in above pattern stands for alphabetical character\n",
        "#    + is used to match a consecutive set of characters\n",
        "#    satisfying a given condition\n",
        "#    so w+ will match a consecutive set of alphabetical characters\"\"\""
      ],
      "metadata": {
        "id": "Ti4YrkzjHkvn"
      },
      "execution_count": null,
      "outputs": []
    },
    {
      "cell_type": "code",
      "source": [
        "print(match_object2)"
      ],
      "metadata": {
        "id": "D8fN-c3WIN5M"
      },
      "execution_count": null,
      "outputs": []
    },
    {
      "cell_type": "markdown",
      "source": [
        "#### Returned MatchObject      "
      ],
      "metadata": {
        "id": "nZyOTdWOIpO6"
      }
    },
    {
      "cell_type": "markdown",
      "source": [
        "Let's look at what `.match()` returned..."
      ],
      "metadata": {
        "id": "DRQFDAW7q5wI"
      }
    },
    {
      "cell_type": "code",
      "source": [
        "# for entire match\n",
        "# print('The full pattern match is', match_object.group()) # one way\n",
        "print('The full pattern match is', match_object.group(0))  # another way\n",
        "# also print(match_object.group(0)) can be used\n",
        " \n",
        "# for the first parenthesized subgroup\n",
        "print('The first pattern group match is', match_object.group(1))\n",
        " \n",
        "# for the second parenthesized subgroup\n",
        "print('The second pattern group match is', match_object.group(2))\n",
        " \n",
        "# for the third parenthesized subgroup\n",
        "print('The third pattern group match is', match_object.group(3))\n",
        " \n",
        "# for a tuple of all matched subgroups\n",
        "print('A tuple of all pattern group matches is', match_object.group(1, 2, 3)) "
      ],
      "metadata": {
        "id": "nXAinuD6q2sv"
      },
      "execution_count": null,
      "outputs": []
    },
    {
      "cell_type": "code",
      "source": [
        "# for a tuple of the full match and all matched subgroups\n",
        "print('A tuple of the match and all pattern group matches is', match_object.group(0, 1, 2, 3)) "
      ],
      "metadata": {
        "id": "GOwxu4vVJ1SS"
      },
      "execution_count": null,
      "outputs": []
    },
    {
      "cell_type": "code",
      "source": [
        "# What if we ask for the fourth parenthesized subgroup?\n",
        "print('The third pattern group match is', match_object.group(4))"
      ],
      "metadata": {
        "id": "6DHpoti9J-f_"
      },
      "execution_count": null,
      "outputs": []
    },
    {
      "cell_type": "markdown",
      "metadata": {
        "id": "AIQF2X_64bEm"
      },
      "source": [
        "\n",
        "\n",
        "---\n",
        "\n"
      ]
    },
    {
      "cell_type": "markdown",
      "source": [
        "#### More Regex Examples"
      ],
      "metadata": {
        "id": "gUSGGfvHMvFK"
      }
    },
    {
      "cell_type": "code",
      "metadata": {
        "id": "Oi6e3mO4_brB"
      },
      "source": [
        "inputStr = 'an example word: dog!!'\n",
        "match_object3 = re.search(r'word: \\w\\w\\w', inputStr)\n",
        "# If-statement after search() tests if it succeeded\n",
        "if match_object3:\n",
        "  # print ('found', match_object3.group()) ## 'found word:dog'\n",
        "  print ('found', match_object3.group(0)) ## 'found word:dog'\n",
        "else:\n",
        "  print ('did not find')\n",
        "print (\"Done with the example\")"
      ],
      "execution_count": null,
      "outputs": []
    },
    {
      "cell_type": "code",
      "metadata": {
        "id": "N5HdipxzA_8q"
      },
      "source": [
        "line = \"Cats are smarter than dogs\"\n",
        "\n",
        "matchObj = re.match( r'(.*) are (.*?) .*', line) # regExs within a regEx\n",
        "\n",
        "if matchObj:\n",
        "   # print (\"matchObj.group() : \", matchObj.group(0))\n",
        "   print (\"matchObj.group(0) : \", matchObj.group(0))\n",
        "   print (\"matchObj.group(1) : \", matchObj.group(1))\n",
        "   print (\"matchObj.group(2) : \", matchObj.group(2))\n",
        "else:\n",
        "   print (\"No match!!\")"
      ],
      "execution_count": null,
      "outputs": []
    },
    {
      "cell_type": "code",
      "source": [
        "line = \"My cats are smarter than your dogs\"\n",
        "\n",
        "matchObj = re.match( r'(.*) are (.*?) .*', line) # regExs within a regEx\n",
        "\n",
        "if matchObj:\n",
        "   # print (\"matchObj.group() : \", matchObj.group(0))\n",
        "   print (\"matchObj.group(0) : \", matchObj.group(0))\n",
        "   print (\"matchObj.group(1) : \", matchObj.group(1))\n",
        "   print (\"matchObj.group(2) : \", matchObj.group(2))\n",
        "else:\n",
        "   print (\"No match!!\")"
      ],
      "metadata": {
        "id": "JaVm5kDnLfT4"
      },
      "execution_count": null,
      "outputs": []
    },
    {
      "cell_type": "markdown",
      "metadata": {
        "id": "RrlqI5ic756E"
      },
      "source": [
        "### Basic Regex Patterns\n",
        "\n",
        "see [Python Documentation](https://docs.python.org/3/library/re.html)\n",
        "\n",
        "The power of regular expressions is that they can specify patterns, not just fixed characters. Here are the most basic patterns which match single chars:\n",
        "\n",
        "* **a, X, 9,** < -- ordinary characters just match themselves exactly. The meta-characters which do not match themselves because they have special meanings are: **. ^ $ * + ? { } [ ] ( ) \\ |** (details below)\n",
        "\n",
        "* **.** (a period) -- matches any single character except newline '\\n'\n",
        "\n",
        "* **\\w** -- (lowercase w) matches a \"word\" character: a letter or digit or underbar [a-zA-Z0-9_]. Note that although \"word\" is the mnemonic for this, it only matches a single word char, not a whole word. \\W (upper case W) matches any non-word character.\n",
        "\n",
        "* **\\b** -- boundary between word and non-word\n",
        "\n",
        "* **\\s** -- (lowercase s) matches a single whitespace character -- space, newline, return, tab, form [ \\n\\r\\t\\f]. \\S (upper case S) matches any non-whitespace character.\n",
        "\n",
        "* **\\t, \\n, \\r** -- tab, newline, return\n",
        "\n",
        "* **\\d** -- decimal digit [0-9] (some older regex utilities do not support but \\d, but they all support \\w and \\s)\n",
        "\n",
        "* **^** = start, **$** = end -- match the start or end of the string\n",
        "\n",
        "* \\  -- inhibit the \"specialness\" of a character. So, for example, use \\. to match a period or \\\\ to match a slash. If you are unsure if a character has special meaning, such as '@', you can put a slash in front of it, \\@, to make sure it is treated just as a character."
      ]
    },
    {
      "cell_type": "markdown",
      "metadata": {
        "id": "0ovwt0pk8mxV"
      },
      "source": [
        "### Basic Regex Pattern Examples\n",
        "\n",
        "\n",
        "The basic rules of regular expression search for a pattern within a string are:\n",
        "\n",
        "* The search proceeds through the string from start to end, stopping at the first match found\n",
        "\n",
        "* All of the pattern must be matched, but not all of the string\n",
        "\n",
        "* If `match = re.search(pat, str)` is successful, match is not `None` and in particular `match.group()` is the matching text"
      ]
    },
    {
      "cell_type": "code",
      "metadata": {
        "id": "wy7UrExh82C7"
      },
      "source": [
        "## Search for pattern 'iii' in string 'piiig'.\n",
        "## All of the pattern must match, but it may appear anywhere.\n",
        "## On success, match.group() is matched text.\n",
        "\n",
        "inputStr = 'piiig'\n",
        "\n",
        "look_for = r'iii'\n",
        "matched_string = re.search(look_for, inputStr)\n",
        "\n",
        "if matched_string:\n",
        "  print ('found, matched_string.group() == ', look_for)\n",
        "  print (matched_string.group())"
      ],
      "execution_count": null,
      "outputs": []
    },
    {
      "cell_type": "code",
      "metadata": {
        "id": "omfUFmXw-e92"
      },
      "source": [
        "# match = re.search(r'ig', 'piiig')\n",
        "match = re.search(r'igs', 'piiig')\n",
        "if not match:  \n",
        "    print ('not found, match == None')\n",
        "    print (re.search(r'igs', 'piiig'))\n",
        "else:\n",
        "    print ('found, matched_string.group() == \"ig\"')"
      ],
      "execution_count": null,
      "outputs": []
    },
    {
      "cell_type": "code",
      "metadata": {
        "id": "5U4-w19E-gZD"
      },
      "source": [
        "## . = any char but \\n\n",
        "\n",
        "inputStr = 'piiig'\n",
        "\n",
        "look_for = r'..g'\n",
        "\n",
        "match = re.search(look_for, inputStr) \n",
        "\n",
        "if match:\n",
        "  print ('found, match.group() == ', look_for)\n",
        "  print (match.group())\n",
        "\n",
        "print(\"All done.\")"
      ],
      "execution_count": null,
      "outputs": []
    },
    {
      "cell_type": "code",
      "metadata": {
        "id": "mw6Av_MR-h8b"
      },
      "source": [
        "## \\d = digit char, \\w = word char\n",
        "\n",
        "inputStr = 'p123g'\n",
        "\n",
        "look_for = r'\\d\\d\\d'\n",
        "\n",
        "match = re.search(look_for, inputStr) \n",
        "\n",
        "# match = re.search(r'\\d\\d\\d', 'p123g')\n",
        "\n",
        "if match:\n",
        "  print ('found, match.group() == ', look_for)\n",
        "  print (match.group())"
      ],
      "execution_count": null,
      "outputs": []
    },
    {
      "cell_type": "code",
      "metadata": {
        "id": "EYlaYcHc-i_L"
      },
      "source": [
        "## \\d = digit char, \\w = word char\n",
        "\n",
        "inputStr = '@@abcd!!'\n",
        "\n",
        "look_for = r'\\w\\w\\w'\n",
        "\n",
        "match = re.search(look_for, inputStr) \n",
        "\n",
        "if match:\n",
        "  print ('found, match.group() == ', look_for)\n",
        "  print (match.group())"
      ],
      "execution_count": null,
      "outputs": []
    },
    {
      "cell_type": "code",
      "source": [
        "## looking for four word characters\n",
        "\n",
        "inputStr = '@@abcd!!'\n",
        "\n",
        "look_for = r'\\w\\w\\w\\w'\n",
        "\n",
        "match = re.search(look_for, inputStr) \n",
        "\n",
        "if match:\n",
        "  print ('found, match.group() == ', look_for)\n",
        "  print (match.group())"
      ],
      "metadata": {
        "id": "DjVE1FKs8iJE"
      },
      "execution_count": null,
      "outputs": []
    },
    {
      "cell_type": "markdown",
      "metadata": {
        "id": "wXTGhHS4DtMT"
      },
      "source": [
        "### Regex Email Example 1\n",
        "\n",
        "Extract the account name and the domain from the email address:    \n",
        "\n",
        " `patrick.slattery16@citytech.cuny.edu`    \n"
      ]
    },
    {
      "cell_type": "code",
      "metadata": {
        "id": "eIOXAv3UDz0b"
      },
      "source": [
        "email = 'patrick.slattery16@citytech.cuny.edu'\n",
        "\n",
        "email_match = re.search(r'(\\w+)@(\\w+)\\.(\\w+)', email)\n",
        "\n",
        "print('found:' + email_match.group())\n",
        "\n",
        "match_list= re.split(r\"@\",email_match.group())\n",
        "\n",
        "print('the domain text are:',match_list)"
      ],
      "execution_count": null,
      "outputs": []
    },
    {
      "cell_type": "code",
      "source": [
        "# type your code here  \n"
      ],
      "metadata": {
        "id": "hDuIoOqY1LHJ"
      },
      "execution_count": null,
      "outputs": []
    },
    {
      "cell_type": "markdown",
      "metadata": {
        "id": "9nHpUMglP5v_"
      },
      "source": [
        "### ***don't look here***"
      ]
    },
    {
      "cell_type": "markdown",
      "metadata": {
        "id": "1yuTLA9KP-b0"
      },
      "source": [
        "\n",
        "\n",
        "```\n",
        "# a solution to exercise #1 \n",
        "email_match=re.search(r'\\S+@\\S+', email)\n",
        "print('found email address ' + email_match.group(0))\n",
        "match_list=re.split(r\"@\", email_match.group(0))\n",
        "print('the name and domain are: ', match_list)\n",
        "```\n",
        "\n"
      ]
    },
    {
      "cell_type": "code",
      "metadata": {
        "id": "6Bmjl0kOQvhj"
      },
      "source": [
        "email = 'patrick.slattery16@citytech.cuny.edu'\n",
        "\n",
        "# a solution to exercise #1 \n",
        "email_match=re.search(r'\\S+@\\S+', email)\n",
        "print('found email address ' + email_match.group(0))\n",
        "match_list=re.split(r\"@\", email_match.group(0))\n",
        "print('the name and domain are: ', match_list)"
      ],
      "execution_count": null,
      "outputs": []
    },
    {
      "cell_type": "markdown",
      "metadata": {
        "id": "sX_ibTqpEUGm"
      },
      "source": [
        "### Regex Email Example 2\n",
        "\n",
        "Suppose you want to find the email address inside the string 'xyz myemail@citytech.edu data  science'. \n",
        "\n",
        "Here's an attempt using the pattern `r'\\w+@\\w+'`:"
      ]
    },
    {
      "cell_type": "code",
      "metadata": {
        "id": "vXQlEEMJEo30"
      },
      "source": [
        "emailText = 'xyz my-email@citytech.edu data science'\n",
        "match = re.search(r'\\w+@\\w+', emailText)\n",
        "if match:\n",
        "  print (match.group())"
      ],
      "execution_count": null,
      "outputs": []
    },
    {
      "cell_type": "markdown",
      "metadata": {
        "id": "6Uaq36yTFH2f"
      },
      "source": [
        "The search does not get the whole email address in this case because the `\\w` does not match the `'-'` or `'.'` in the address. We'll fix this using the regular expression features below.\n",
        "\n",
        "**Square Brackets**\n",
        "\n",
        "Square brackets can be used to indicate a set of chars, so `[abc]` matches `'a'` or `'b'` or `'c'`. The codes `\\w`, `\\s` etc. work inside square brackets too with the one exception that dot (`.`) just means a literal dot. For the emails problem, the square brackets are an easy way to add `'.'` and `'-'` to the set of chars which can appear around the `@` with the pattern `r'[\\w.-]+@[\\w.-]+'` to get the whole email address:"
      ]
    },
    {
      "cell_type": "code",
      "metadata": {
        "id": "sOBiEa0EFhdl"
      },
      "source": [
        "emailText = 'xyz my-email@citytech.edu data science'\n",
        "match = re.search(r'[\\w.-]+@[\\w.-]+', emailText)\n",
        "if match:\n",
        "  print (match.group())"
      ],
      "execution_count": null,
      "outputs": []
    },
    {
      "cell_type": "markdown",
      "metadata": {
        "id": "bOUs28DRFw_k"
      },
      "source": [
        "We will use `group()` function to extract the account name and the domain from the email address\n"
      ]
    },
    {
      "cell_type": "code",
      "metadata": {
        "id": "YxbaItTOF62U"
      },
      "source": [
        "emailText = 'xyz my-email@citytech.edu data science'\n",
        "match = re.search(r'([\\w.-]+)@([\\w.-]+)', emailText)\n",
        "if match:\n",
        "  print (\"email address:\\t\", match.group())\n",
        "  print (\"email account:\\t\", match.group(1))\n",
        "  print (\"email domain:\\t\", match.group(2))"
      ],
      "execution_count": null,
      "outputs": []
    },
    {
      "cell_type": "markdown",
      "source": [
        "---\n"
      ],
      "metadata": {
        "id": "Vp4Xhd6DM6hy"
      }
    },
    {
      "cell_type": "markdown",
      "metadata": {
        "id": "3KY5kXfVHDCs"
      },
      "source": [
        "### Iteration Using Regular Expressions\n",
        "\n",
        "If we want to extract data from a string in Python we can use the `findall()` or `finditer()` methods to extract all of the substrings which match a regular expression. \n",
        "\n",
        "These two methods produce results of different types. \n",
        "\n",
        "Let’s use the example of wanting to extract anything that looks like an email address from any line regardless of format. For example, we want to pull the email addresses from each of the following lines:"
      ]
    },
    {
      "cell_type": "code",
      "metadata": {
        "id": "sZA9bmgTH0zc"
      },
      "source": [
        "emailText = '''xyz my-email@citytech.edu data science or \n",
        "your_email@citytech.edu, also we can mention their.email@citytech.edu'''"
      ],
      "execution_count": null,
      "outputs": []
    },
    {
      "cell_type": "code",
      "metadata": {
        "id": "BuSqSvWZIFhk"
      },
      "source": [
        "match = re.search(r'([\\w.-]+)@([\\w.-]+)', emailText)\n",
        "if match:\n",
        "  print (\"email address:\\t\", match.group())\n",
        "  print (\"email account:\\t\", match.group(1))\n",
        "  print (\"email domain:\\t\", match.group(2))"
      ],
      "execution_count": null,
      "outputs": []
    },
    {
      "cell_type": "markdown",
      "source": [
        "#### Using `.finditer` for Regular Expression Matches"
      ],
      "metadata": {
        "id": "KV4Bii5VNFub"
      }
    },
    {
      "cell_type": "code",
      "source": [
        "emailText = '''xyz my-email@citytech.edu data science or \n",
        "your_email@citytech.edu, also we can mention their.email@citytech.edu'''"
      ],
      "metadata": {
        "id": "mOfxnpaztGBH"
      },
      "execution_count": null,
      "outputs": []
    },
    {
      "cell_type": "code",
      "metadata": {
        "id": "Fo6nki2PIOrr"
      },
      "source": [
        "matches = re.finditer(r'[\\w.-]+@[\\w.-]+', emailText)\n",
        "for match in matches:\n",
        "    print(match.group())"
      ],
      "execution_count": null,
      "outputs": []
    },
    {
      "cell_type": "code",
      "metadata": {
        "id": "5BfpoPMSJYR8"
      },
      "source": [
        "matches = re.finditer(r'([\\w.-]+)@([\\w.-]+)', emailText)\n",
        "for match in matches:\n",
        "    print(match.group(),\"\\t\", match.group(1),\"\\t\", match.group(2))"
      ],
      "execution_count": null,
      "outputs": []
    },
    {
      "cell_type": "code",
      "metadata": {
        "id": "nBwGT4TlKvzH"
      },
      "source": [
        "print (matches)  "
      ],
      "execution_count": null,
      "outputs": []
    },
    {
      "cell_type": "markdown",
      "source": [
        "---"
      ],
      "metadata": {
        "id": "eccV9QXDt7Ke"
      }
    },
    {
      "cell_type": "markdown",
      "source": [
        "####Using `.findall()` "
      ],
      "metadata": {
        "id": "8WMkgBIjtvGs"
      }
    },
    {
      "cell_type": "code",
      "source": [
        "emailText = '''\n",
        "xyz my-email@citytech.edu data science or \n",
        "your_email@citytech.edu, \n",
        "also we can mention their.email@citytech.edu'''"
      ],
      "metadata": {
        "id": "mAd5AMHgtyXc"
      },
      "execution_count": null,
      "outputs": []
    },
    {
      "cell_type": "code",
      "metadata": {
        "id": "HJnNIOERJ1_s"
      },
      "source": [
        "# Using `.findall()` with regex groups\n",
        "matches = re.findall(r'([\\w\\.-]+)@([\\w\\.-]+)', emailText)\n",
        "print (matches)  \n",
        "print()\n",
        "for match in matches:\n",
        "  print (match[0])  ## username\n",
        "  print (match[1])  ## host"
      ],
      "execution_count": null,
      "outputs": []
    },
    {
      "cell_type": "code",
      "source": [
        "print(len(matches))"
      ],
      "metadata": {
        "id": "dFRRhySmuYZh"
      },
      "execution_count": null,
      "outputs": []
    },
    {
      "cell_type": "code",
      "metadata": {
        "id": "s_DEQvNXL56z"
      },
      "source": [
        "# Using `.findall()` without regex groups\n",
        "matches = re.findall(r'[\\w\\.-]+@[\\w\\.-]+', emailText)\n",
        "print (matches)  \n",
        "print()\n",
        "for match in matches:\n",
        "  print (match)"
      ],
      "execution_count": null,
      "outputs": []
    },
    {
      "cell_type": "code",
      "source": [
        "# Comparing use of `.search() with using `.findall()` without regex groups\n",
        "matches_one = re.search(r'[\\w\\.-]+@[\\w\\.-]+', emailText)\n",
        "print ('The search match result: ', matches_one)  \n",
        "print()\n",
        "# the result is not an iterable\n",
        "# for match in matches_one:\n",
        "#   print (match)\n",
        "\n",
        "matches_all = re.findall(r'[\\w\\.-]+@[\\w\\.-]+', emailText)\n",
        "print ('The findall match result: ', matches_all)  \n",
        "print()\n",
        "# the result is an iterable\n",
        "for match in matches_all:\n",
        "  print (match)"
      ],
      "metadata": {
        "id": "GcExOtSkvWtt"
      },
      "execution_count": null,
      "outputs": []
    },
    {
      "cell_type": "markdown",
      "source": [
        "\n",
        "\n",
        "---\n",
        "\n"
      ],
      "metadata": {
        "id": "LHAFijqjDG1q"
      }
    },
    {
      "cell_type": "markdown",
      "source": [
        "Some [practice examples](https://www.programiz.com/python-programming/regex) using different Regex patterns."
      ],
      "metadata": {
        "id": "e1KmtgBkC7-j"
      }
    },
    {
      "cell_type": "markdown",
      "metadata": {
        "id": "Zy-R_yeOT4YD"
      },
      "source": [
        "\n",
        "\n",
        "---\n",
        "\n"
      ]
    },
    {
      "cell_type": "markdown",
      "metadata": {
        "id": "aWR8uv4XVEiE"
      },
      "source": [
        "Additional reading on an 'almost perfect' regular expression approach to finding email addresses ▶ [Almost Perfect Email Regex](https://emailregex.com/) "
      ]
    },
    {
      "cell_type": "markdown",
      "metadata": {
        "id": "Tq4j2Ad0TWH1"
      },
      "source": [
        "Additional reading on the complexities of thorough regex rules for email addresses ▶ [O'Relly Regular Expressions Cookbook 4.1, Validate Email Addresses](https://www.oreilly.com/library/view/regular-expressions-cookbook/9781449327453/ch04s01.html) by Jan Goyvaerts and Steven Levithan."
      ]
    },
    {
      "cell_type": "markdown",
      "metadata": {
        "id": "Hhpc5YrHTVOD"
      },
      "source": [
        "\n",
        "\n",
        "---\n",
        "\n"
      ]
    },
    {
      "cell_type": "markdown",
      "metadata": {
        "id": "qvPV8WkbLNoz"
      },
      "source": [
        "### Create a Variable Containing a Regular Expression\n",
        "\n",
        "`re.compile()` method."
      ]
    },
    {
      "cell_type": "code",
      "metadata": {
        "id": "1Qt9zt4WHmZW"
      },
      "source": [
        "# We are looking for binary numbers\n",
        "regex = re.compile(r'[10]+')\n",
        "text = \"asddf1101110100011abd1111panos0000\"\n",
        "matches = regex.finditer(text)\n",
        "for match in matches:\n",
        "    print(match.group())"
      ],
      "execution_count": null,
      "outputs": []
    },
    {
      "cell_type": "code",
      "metadata": {
        "id": "8VSV85viMa79"
      },
      "source": [
        "emailText = '''xyz my-email@citytech.edu data science or \n",
        "your_email@citytech.edu, also we can mention their.email@citytech.edu'''"
      ],
      "execution_count": null,
      "outputs": []
    },
    {
      "cell_type": "code",
      "metadata": {
        "id": "bP7Lv4eRMep1"
      },
      "source": [
        "# We are looking for email addresses\n",
        "regex = re.compile(r'[\\w\\.-]+@[\\w\\.-]+')\n",
        "matches = regex.finditer(emailText)\n",
        "for match in matches:\n",
        "    print(match.group())"
      ],
      "execution_count": null,
      "outputs": []
    },
    {
      "cell_type": "code",
      "metadata": {
        "id": "Vldk9f7JMrsE"
      },
      "source": [
        "# We look for money figures, either integers, or with 1 or 2 decimal\n",
        "# digits\n",
        "regex = re.compile(r'\\$\\d+(\\.\\d\\d?)?')\n",
        "text = '$1200.23 is the price today. $1400 was the price yesterday'\n",
        "matches = regex.finditer(text)\n",
        "for match in matches:\n",
        "    print(match.group())"
      ],
      "execution_count": null,
      "outputs": []
    },
    {
      "cell_type": "code",
      "metadata": {
        "id": "Rh2Mm3Q2MzQW"
      },
      "source": [
        "# This code is going to generate no matches\n",
        "regex = re.compile(r'Ra*nd.*m R[egex]')\n",
        "text = \"CUNY, Citytech, Information and Data Management, my-email@citytech.edu\"\n",
        "matches = regex.finditer(text)\n",
        "for match in matches:\n",
        "    print(match.group())\n",
        "\n",
        "print (\"The end\")"
      ],
      "execution_count": null,
      "outputs": []
    },
    {
      "cell_type": "markdown",
      "source": [
        "---"
      ],
      "metadata": {
        "id": "i4tUXJNvNpuX"
      }
    },
    {
      "cell_type": "markdown",
      "source": [
        "### Case Sensitivity in Regular Expressions"
      ],
      "metadata": {
        "id": "KWwD3U7ENlve"
      }
    },
    {
      "cell_type": "markdown",
      "metadata": {
        "id": "-2fn-7EQN32V"
      },
      "source": [
        "Regular expressions are typically case-sensitive. "
      ]
    },
    {
      "cell_type": "code",
      "metadata": {
        "id": "oQjelG9xN4nu"
      },
      "source": [
        "# Regular expressions are compiled into pattern objects\n",
        "# Regular expressions are case-sensitive\n",
        "regex = re.compile(r'in.*on')\n",
        "text = \"CUNY, Citytech, Information and Data Management, my-email@citytech.edu\"\n",
        "matches = regex.finditer(text)\n",
        "for match in matches:\n",
        "    print(match.group())\n",
        "    \n",
        "print('The end')"
      ],
      "execution_count": null,
      "outputs": []
    },
    {
      "cell_type": "markdown",
      "metadata": {
        "id": "bs83uPtYONxr"
      },
      "source": [
        "But we can specify that they are case-insensitive, using the flag re.IGNORECASE"
      ]
    },
    {
      "cell_type": "code",
      "metadata": {
        "id": "LzkhDrbxOORo"
      },
      "source": [
        "# Unless we specify that they are case-insensitive, using the flag re.IGNORECASE\n",
        "regex = re.compile('in.*on',re.IGNORECASE)\n",
        "text = \"CUNY, Citytech, Information and Data Management, my-email@citytech.edu\"\n",
        "matches = regex.finditer(text)\n",
        "for match in matches:\n",
        "    print(match.group())\n",
        "    \n",
        "print('The end')"
      ],
      "execution_count": null,
      "outputs": []
    },
    {
      "cell_type": "markdown",
      "source": [
        "---"
      ],
      "metadata": {
        "id": "a7ett6InNtW_"
      }
    },
    {
      "cell_type": "markdown",
      "metadata": {
        "id": "i3DRYsWSPANf"
      },
      "source": [
        "### Greedy vs. Non-Greedy Regular Expressions\n",
        "\n",
        "Suppose you have text with tags in it: `<b>foo</b> and <i>so on</i>`\n",
        "\n",
        "Suppose you are trying to match each tag with the pattern '(<.*>)' -- what does it match first?\n",
        "\n"
      ]
    },
    {
      "cell_type": "code",
      "metadata": {
        "id": "8Nsr845IPPCX"
      },
      "source": [
        "text = \"<b>foo</b> and <i>so on</i>\"\n",
        "regex = re.compile(r'(<.*>)')\n",
        "match = regex.search(text)\n",
        "print (match.group())\n",
        "\n",
        "print('The end')"
      ],
      "execution_count": null,
      "outputs": []
    },
    {
      "cell_type": "markdown",
      "metadata": {
        "id": "0htAJHaNPOTe"
      },
      "source": [
        "\n",
        "\n",
        "The result is a little surprising, but the greedy aspect of the `.*` causes it to match the whole `<b>foo</b> and <i>so on</i>` as one big match. The problem is that the `.*` goes as far as is it can, instead of stopping at the first `>` (aka it is \"greedy\").\n",
        "\n",
        "There is an extension to regular expression where you add a `?` at the end, such as `.*?` or `.+?`, changing them to be non-greedy. Now they stop as soon as they can. So the pattern `'(<.*?>)'` will get just `'<b>'` as the first match, and `'</b>'` as the second match, and so on getting each <..> pair in turn. The style is typically that you use a `.*?`, and then immediately its right look for some concrete marker (> in this case) that forces the end of the `.*?` run.\n",
        "\n"
      ]
    },
    {
      "cell_type": "code",
      "metadata": {
        "id": "2JgchHdgQBZV"
      },
      "source": [
        "text = \"<b>foo</b> and <i>so on</i>\"\n",
        "regex = re.compile(r'(<.?>)')\n",
        "match = regex.search(text)\n",
        "print (match.group())\n",
        "\n",
        "print('The end')"
      ],
      "execution_count": null,
      "outputs": []
    },
    {
      "cell_type": "code",
      "metadata": {
        "id": "B2Tgx8slQcC7"
      },
      "source": [
        "text = \"<b>foo</b> and <i>so on</i>\"\n",
        "regex = re.compile(r'(<.?>)')\n",
        "matches = regex.finditer(text)\n",
        "for match in matches:\n",
        "    print(match.group())\n",
        "\n",
        "print('The end')"
      ],
      "execution_count": null,
      "outputs": []
    },
    {
      "cell_type": "code",
      "metadata": {
        "id": "MtCUEs2tQnSV"
      },
      "source": [
        "text = \"<b>foo</b> and <i>so on</i>\"\n",
        "regex = re.compile(r'(<.+?>)')\n",
        "matches = regex.finditer(text)\n",
        "for match in matches:\n",
        "    print(match.group())\n",
        "\n",
        "print('The end')"
      ],
      "execution_count": null,
      "outputs": []
    },
    {
      "cell_type": "markdown",
      "source": [
        "#### Using the `.group` function of `.match` for Regular Expressions"
      ],
      "metadata": {
        "id": "04I63h2XN8rw"
      }
    },
    {
      "cell_type": "markdown",
      "metadata": {
        "id": "PAG0l22y-IQ3"
      },
      "source": [
        "\n",
        "\n",
        "---\n",
        "\n"
      ]
    },
    {
      "cell_type": "markdown",
      "metadata": {
        "id": "CvatBIwDAiv-"
      },
      "source": [
        "The `re.match()` function returns a match object on success, `None` on failure. We use the `group(num)` function of a match object to get matched expression.\n",
        "\n",
        "`group(num=0)`: This method returns entire match (or specific subgroup num)"
      ]
    },
    {
      "cell_type": "code",
      "metadata": {
        "id": "p97V3tIJ5mHU"
      },
      "source": [
        "inputStr = 'An example word: cat!!'\n",
        "# If-statement after search() tests if it succeeded\n",
        "if re.search(r'word: \\w\\w\\w', inputStr):\n",
        "  print ('found', match.group()) ## 'found word:cat'\n",
        "else:\n",
        "  print ('did not find')\n",
        "print (\"Done with the example\")"
      ],
      "execution_count": null,
      "outputs": []
    },
    {
      "cell_type": "markdown",
      "source": [
        "\n",
        "\n",
        "---\n",
        "\n"
      ],
      "metadata": {
        "id": "nJS__Wwn4kKn"
      }
    },
    {
      "cell_type": "markdown",
      "metadata": {
        "id": "0iydTuaGQIff"
      },
      "source": [
        "## <b>Regular Expression Functions</b>"
      ]
    },
    {
      "cell_type": "markdown",
      "metadata": {
        "id": "CH3R8eSqmcHm"
      },
      "source": [
        "### Regex Functions for Analyzing Patterns\n",
        "    \n",
        "* `.compile()`    \n",
        "* `.finditer()`    \n",
        "* `.findall()`    \n",
        "* `.match()`    \n",
        "* `.search()`    \n",
        "* `.sub()`    \n",
        "\n",
        "[https://docs.python.org/3/library/re.html](https://docs.python.org/3/library/re.html)\n",
        "\n",
        "Let's separate these functions into four groups: \n",
        "1. `.compile()`    \n",
        "2. `.finditer()`, `.findall()`    \n",
        "3. `.match()`, `.search()`   \n",
        "4. `.sub()`    "
      ]
    },
    {
      "cell_type": "markdown",
      "metadata": {
        "id": "CMBvZfaI0rrI"
      },
      "source": [
        "### 1. `re.compile()`"
      ]
    },
    {
      "cell_type": "markdown",
      "metadata": {
        "id": "FA5hhPSE0k3h"
      },
      "source": [
        "#### Regular expression compilation\n",
        "\n",
        "Regular expression compilation produces a Python object that can be used to do all sort of regular expression operations. What is the benefit of that as long as we can use `re.match` and `re.search` directly? This technique is convenient in case we want to use a regular expression more than once. It makes our code efficient and more readable."
      ]
    },
    {
      "cell_type": "markdown",
      "metadata": {
        "id": "Q9473vr9ulue"
      },
      "source": [
        "##### `re.compile(pattern, flags=0)`\n",
        "\n",
        "Compile a regular expression pattern into a regular expression object, which can be used for matching using its `match()`, `search()` and other methods.\n"
      ]
    },
    {
      "cell_type": "markdown",
      "metadata": {
        "id": "Ok50l3tBut3p"
      },
      "source": [
        "This sequence"
      ]
    },
    {
      "cell_type": "code",
      "metadata": {
        "id": "U18fGIBzulHM"
      },
      "source": [
        "inStr = 'This is my 123 example string'\n",
        "prog = re.compile(r'\\d+')\n",
        "result = prog.search(inStr)\n",
        "result"
      ],
      "execution_count": null,
      "outputs": []
    },
    {
      "cell_type": "markdown",
      "metadata": {
        "id": "jTUkorhlvI2i"
      },
      "source": [
        "is equivalent to"
      ]
    },
    {
      "cell_type": "code",
      "metadata": {
        "id": "HzvtP8zuvJ1R"
      },
      "source": [
        "result = re.search(r'\\d+', inStr)\n",
        "result"
      ],
      "execution_count": null,
      "outputs": []
    },
    {
      "cell_type": "markdown",
      "metadata": {
        "id": "PoDqB-suvSuq"
      },
      "source": [
        "By using `re.compile()` and saving the resulting regular expression object for reuse you can make your code more efficient when the expression will be used several times in a single program."
      ]
    },
    {
      "cell_type": "markdown",
      "metadata": {
        "id": "K_skVuSN0yX6"
      },
      "source": [
        "### 2. `re.finditer()`, `re.findall()`"
      ]
    },
    {
      "cell_type": "markdown",
      "metadata": {
        "id": "bl5llsl1vtpq"
      },
      "source": [
        "#### `.finditer()` vs. `.findall()`\n",
        "\n",
        "* `.findall()` returns a **list** of all matches of a regex in a string.\n",
        "* `.finditer()` returns an iterator that yields regex matches.\n",
        "\n",
        "https://realpython.com/regex-python/\n",
        "\n",
        "https://realpython.com/regex-python-part-2/\n",
        "\n",
        "https://www.8bitavenue.com/difference-between-re-search-and-re-match-in-python/"
      ]
    },
    {
      "cell_type": "markdown",
      "metadata": {
        "id": "_mJASvSowOeo"
      },
      "source": [
        "`re.findall(<regex>, <string>)` returns a list of all non-overlapping matches of `<regex>` in `<string>`. It scans the search string from left to right and returns all matches in the order found:"
      ]
    },
    {
      "cell_type": "code",
      "metadata": {
        "id": "Vwnf2o3awM-q"
      },
      "source": [
        "re.findall(r'#(\\w+)#', '#foo#.#bar#.#baz#')"
      ],
      "execution_count": null,
      "outputs": []
    },
    {
      "cell_type": "markdown",
      "metadata": {
        "id": "7wVRRzgfwhsB"
      },
      "source": [
        "In this case, the specified regex is `#(\\w+)#`. The matching strings are `'#foo#'`, `'#bar#'`, and `'#baz#'`. But the hash (`#`) characters don’t appear in the return list because they’re outside the grouping parentheses.\n",
        "\n",
        "If `<regex>` contains more than one capturing group, then `re.findall()` returns a list of tuples containing the captured groups. The length of each tuple is equal to the number of groups specified:"
      ]
    },
    {
      "cell_type": "code",
      "metadata": {
        "id": "C-lRBhI9wtkp"
      },
      "source": [
        "re.findall(r'(\\w+),(\\w+)', 'foo,bar,baz,qux,quux,corge')"
      ],
      "execution_count": null,
      "outputs": []
    },
    {
      "cell_type": "code",
      "metadata": {
        "id": "y4bh8fYbwtrh"
      },
      "source": [
        "re.findall(r'(\\w+),(\\w+),(\\w+)', 'foo,bar,baz,qux,quux,corge')"
      ],
      "execution_count": null,
      "outputs": []
    },
    {
      "cell_type": "markdown",
      "metadata": {
        "id": "aUSkRmG2w9YT"
      },
      "source": [
        "`re.finditer(<regex>, <string>)` scans `<string>` for non-overlapping matches of `<regex>` and returns an iterator that yields the match objects from any it finds. It scans the search string from left to right and returns matches in the order it finds them:"
      ]
    },
    {
      "cell_type": "code",
      "metadata": {
        "id": "qaAC7w5ExD7y"
      },
      "source": [
        "it = re.finditer(r'\\w+', '...foo,,,,bar:%$baz//|')\n",
        "it"
      ],
      "execution_count": null,
      "outputs": []
    },
    {
      "cell_type": "code",
      "metadata": {
        "id": "EQyoAGdCxKQR"
      },
      "source": [
        "for i in re.finditer(r'\\w+', '...foo,,,,bar:%$baz//|'):\n",
        "  print(i.group())"
      ],
      "execution_count": null,
      "outputs": []
    },
    {
      "cell_type": "markdown",
      "metadata": {
        "id": "v6eCGt8_xW3Y"
      },
      "source": [
        "`re.findall()` and `re.finditer()` are very similar, but they differ in two respects:\n",
        "\n",
        "1. `re.findall()` returns a **list**, whereas `re.finditer()` returns an **iterator**.\n",
        "\n",
        "The items in the list that `re.findall()` returns are the actual matching strings, whereas the items yielded by the iterator that `re.finditer()` returns are match objects.\n",
        "\n",
        "Any task that you could accomplish with one, you could probably also manage with the other. Which one you choose will depend on the circumstances. However, a lot of useful information can be obtained from a match object. If you need that information, then `re.finditer()` will probably be the better choice. For example, you can use the `.group()` method to return Match object."
      ]
    },
    {
      "cell_type": "markdown",
      "metadata": {
        "id": "dwQIPGaR1k8Y"
      },
      "source": [
        "#### Match objects\n",
        "\n",
        "If a match is found when using `re.finditer()`, `re.match` or `re.search`, we can use some useful methods provided by the match object. Here is a short list of such methods, you may check the reference section for more details…\n",
        "\n",
        "* `group()` returns the part of the string matched by the entire regular expression\n",
        "* `group(1)` returns the text matched by the second capturing group\n",
        "* `start()` and `end()` return the indices of the start and end of the substring matched by the capturing group."
      ]
    },
    {
      "cell_type": "markdown",
      "metadata": {
        "id": "WkAB3LTD04aZ"
      },
      "source": [
        "### 3. `re.match()`, `re.search()`"
      ]
    },
    {
      "cell_type": "markdown",
      "metadata": {
        "id": "H7RAlurEymnz"
      },
      "source": [
        "#### `.match()` vs `.search()`\n",
        "\n",
        "This is the trickiest part. A good explanation is provided in this tutorial: https://www.8bitavenue.com/difference-between-re-search-and-re-match-in-python/ which is paraphrased here.\n",
        "\n",
        "Additional information can also be found at ▶\n",
        "\n",
        "https://realpython.com/regex-python/\n",
        "\n",
        "https://realpython.com/regex-python-part-2/\n",
        "\n"
      ]
    },
    {
      "cell_type": "markdown",
      "metadata": {
        "id": "S6O9JkmGzUik"
      },
      "source": [
        "When searching or matching, regular expression operations can take optional flags or modifiers. The following two modifiers are the most used ones…\n",
        "\n",
        "* `re.M multiline`\n",
        "* `re.I ignore case`"
      ]
    },
    {
      "cell_type": "markdown",
      "metadata": {
        "id": "u4wv04VDz7T5"
      },
      "source": [
        "#### .match()\n",
        "\n",
        "`re.match` matches an expression at the beginning of a string. If a match is found, a match object is returned, otherwise `None` is returned. If the input is a multiline string (i.e. starts and ends with three double quotes) that does not change the behavior of the match operation. `re.match` always tries to match the beginning of the string. In regular expressions syntax, the control character (^) is used to match the beginning of a string. If this character is used with re.match, it has no effect. The syntax for `re.match` operation is as follows…\n",
        "\n"
      ]
    },
    {
      "cell_type": "markdown",
      "metadata": {
        "id": "SGnNFm3-zmGh"
      },
      "source": [
        "`mobj = re.match(pat, str, flag)`\n",
        "\n",
        "* pat: regular expression pattern to match\n",
        "* str: string in which to search for the pattern\n",
        "* flags: one or more modifiers, for example re.M|re.I"
      ]
    },
    {
      "cell_type": "markdown",
      "metadata": {
        "id": "ZP9xW7SU1N0h"
      },
      "source": [
        "#### `.match(pattern, string, flags=0)`\n",
        "\n",
        "Looks for a regex match at the beginning of a string.\n",
        "\n",
        "If zero or more characters at the beginning of *string* match the regular expression *pattern*, return a corresponding match object. Return `None` if the string does not match the pattern; note that this is different from a zero-length match.\n",
        "\n",
        "This is identical to `re.search()`, except that `re.search()` returns a match if the regular expression *pattern* matches anywhere in *string*, whereas `re.match()` returns a match only if the regular expression *pattern* matches at the beginning of *string*."
      ]
    },
    {
      "cell_type": "markdown",
      "metadata": {
        "id": "6nVQbwzm0K2J"
      },
      "source": [
        "### .search()\n",
        "\n",
        "`re.search` attempts to find the first occurrence of the pattern anywhere in the input string as opposed to the beginning. If the search is successful, `re.search` returns a match object, otherwise it returns `None`. The syntax for re.search operation is as follows…"
      ]
    },
    {
      "cell_type": "markdown",
      "metadata": {
        "id": "K8FxcVyzzvyp"
      },
      "source": [
        "`mobj = re.search(pat, str, flag)`\n",
        "\n",
        "* pat: regular expression pattern to search for\n",
        "* str: string in which to search for the pattern\n",
        "* flags: one or more modifiers, for example re.M|re.I"
      ]
    },
    {
      "cell_type": "markdown",
      "metadata": {
        "id": "95Sya9XM1IQ5"
      },
      "source": [
        "#### `.search(pattern, string, flags=0)`\n",
        "\n",
        "Scans a string for a regex match.\n",
        "\n",
        "Scan through *string* looking for the **first** location where the regular expression *pattern* produces a match, and return a corresponding match object. Return `None` if no position in the string matches the pattern.\n",
        "\n",
        "\n",
        "You can use this function in a Boolean context like a conditional statement that checkes if a pattern is found in the input string (`True`) or not (`False`)."
      ]
    },
    {
      "cell_type": "markdown",
      "metadata": {
        "id": "-ZzlwiubQvsG"
      },
      "source": [
        "### Substitution with `.sub()`\n",
        "\n",
        "The `re.sub(pat, replacement, str)` function searches for all the instances of pattern in the given string, and replaces them. The replacement string can include `'\\1'`, `'\\2'` which refer to the text from `group(1)`, `group(2)`, and so on from the original matching text.\n",
        "\n",
        "Here's an example which searches for all the email addresses, and changes them to keep the user `(\\1)` but have `nyc.gov` as the host."
      ]
    },
    {
      "cell_type": "code",
      "metadata": {
        "id": "g2SL4hCNRAee"
      },
      "source": [
        "text = '''xyz my-email@citytech.edu data science or \n",
        "your_email@citytech.edu, also we can mention their.email@citytech.edu'''\n",
        "## re.sub(pat, replacement, str) -- returns new string with all replacements,\n",
        "## \\1 is group(1), \\2 group(2) in the replacement\n",
        "print (re.sub(r'([\\w\\.-]+)@([\\w\\.-]+)', r'\\1@nyc.gov', text))\n"
      ],
      "execution_count": null,
      "outputs": []
    },
    {
      "cell_type": "markdown",
      "metadata": {
        "id": "dB9dAxl_64_Q"
      },
      "source": [
        "\n",
        "\n",
        "---\n",
        "\n"
      ]
    },
    {
      "cell_type": "markdown",
      "metadata": {
        "id": "LpMSYMgJUCe4"
      },
      "source": [
        "### 4. `re.sub()`"
      ]
    },
    {
      "cell_type": "markdown",
      "metadata": {
        "id": "IAbeNGwQUCe4"
      },
      "source": [
        "#### Regular expression subsitution    \n",
        "\n",
        "Regular expression substitution works on an `input-string` to produce a result with all (or a specified-number) of instances matching a `regex-pattern` replaced with a `substitution-string`.    \n",
        "\n",
        "More at [PythonExamples.org](https://pythonexamples.org/python-re-sub/)    \n",
        "    \n",
        "There are also some good examples and practice exercises using `re.sub()` at [Python Regex Replace Pattern in a string using `re.sub()`](https://pynative.com/python-regex-replace-re-sub/) on **PyNative.com**.      \n"
      ]
    },
    {
      "cell_type": "markdown",
      "metadata": {
        "id": "LMGmq3W8UCe4"
      },
      "source": [
        "##### `re.sub(pattern, substitution, input, count=1 flags=0)`\n",
        "\n",
        "Evaluate a regular expression `pattern` to be replaced by a `substitution` in a `string` for `count` number of times (default=all), and any `flags` or no flags.\n"
      ]
    },
    {
      "cell_type": "markdown",
      "metadata": {
        "id": "Usvb-mOFUCe5"
      },
      "source": [
        "####Example 1: `re.sub()` – Replace Pattern Matchings with Replacement String    \n",
        "    \n",
        "In this example, we will take a string and replace patterns that contains a continuous occurrence of numbers with the string `NN`. We will do the replacement using `re.sub()` function.    "
      ]
    },
    {
      "cell_type": "code",
      "metadata": {
        "id": "jd8k_vihUCe5"
      },
      "source": [
        "pattern = '[0-9]+'\n",
        "string = 'Account Number - 12345, Amount - 586.32'\n",
        "repl = r'NN'\n",
        "\n",
        "print('Original string')\n",
        "print(string)\n",
        "\n",
        "result = re.sub(pattern, repl, string)\n",
        "\n",
        "print('After replacement')\n",
        "print(result)"
      ],
      "execution_count": null,
      "outputs": []
    },
    {
      "cell_type": "markdown",
      "metadata": {
        "id": "59_uqbIHUCe5"
      },
      "source": [
        "#### Example 2: re.sub() – Limit Maximum Number of Replacement\n",
        "\n",
        "We can limit the maximum number of replacements by re.sub() function by specifying `count` optional argument.    \n",
        "\n",
        "In this example, we will take the same `pattern`, `string`, and `replacement` as in the previous example. But, we limit the maximum number of replacements to `2`.    "
      ]
    },
    {
      "cell_type": "code",
      "metadata": {
        "id": "kO-UXgE2UCe5"
      },
      "source": [
        "pattern = '[0-9]+'\n",
        "string = 'Account Number - 12345, Amount - 586.32'\n",
        "repl = r'NN'\n",
        "\n",
        "print('Original string')\n",
        "print(string)\n",
        "\n",
        "result = re.sub(pattern, repl, string, count=2)\n",
        "\n",
        "print('After replacement')\n",
        "print(result)"
      ],
      "execution_count": null,
      "outputs": []
    },
    {
      "cell_type": "markdown",
      "metadata": {
        "id": "35MP5NomUCe5"
      },
      "source": [
        "#### Example 3: `re.sub()` – Optional Flags    \n",
        "    \n",
        "In this example, we will pass optional `flags` argument `re.IGNORECASE` to `re.sub()` function. This flag tells `re.sub()` function to ignore case while matching the pattern in the string.    "
      ]
    },
    {
      "cell_type": "code",
      "source": [
        "pattern = '[a-z]+'\n",
        "string = 'Account Number - 12345, Amount - 586.32'\n",
        "repl = r'AA'\n",
        "\n",
        "print('Original string')\n",
        "print(string)\n",
        "\n",
        "result = re.sub(pattern, repl, string, flags=re.IGNORECASE)\n",
        "\n",
        "print('After replacement')\n",
        "print(result)"
      ],
      "metadata": {
        "id": "xIsy1u73Wvko"
      },
      "execution_count": null,
      "outputs": []
    },
    {
      "cell_type": "markdown",
      "source": [
        "\n",
        "\n",
        "---\n",
        "\n"
      ],
      "metadata": {
        "id": "cHw0ZiqWWkRx"
      }
    },
    {
      "cell_type": "markdown",
      "metadata": {
        "id": "ZIs2W3Y666Uf"
      },
      "source": [
        "Another explanation of the basics of regular expressions with examples of different functions and their uses as well as descriptions of pattern-matching can be found at Geeks for Geeks post on Regular Expressions for Python here ▶ https://www.geeksforgeeks.org/regular-expression-python-examples-set-1/"
      ]
    },
    {
      "cell_type": "markdown",
      "metadata": {
        "id": "tkYUWY4b64Ku"
      },
      "source": [
        "\n",
        "\n",
        "---\n",
        "\n"
      ]
    },
    {
      "cell_type": "markdown",
      "metadata": {
        "id": "g8OL7Qq0SPl7"
      },
      "source": [
        "## <b>CST2312 - Homework Assignment 4.1</b>\n",
        "\n",
        "Imagine we want to conceal all phone numbers in a document.\n",
        "Read the below multiline string and substitute all phone numbers with \n",
        "\n",
        "'XXX-XXX-XXXX'"
      ]
    },
    {
      "cell_type": "code",
      "metadata": {
        "id": "hcUe9JdTSmT1"
      },
      "source": [
        "source_text = \"\"\"512-234-5234\n",
        "foo\n",
        "bar\n",
        "124-512-5555\n",
        "biz\n",
        "125-555-5785\n",
        "679-397-5255\n",
        "2126660921\n",
        "212-998-0902\n",
        "888-888-2222\n",
        "801-555-1211\n",
        "802 555 1212\n",
        "803.555.1213\n",
        "(804) 555-1214\n",
        "1-805-555-1215\n",
        "1(806)555-1216\n",
        "807-555-1217-1234\n",
        "808-555-1218x1234\n",
        "809-555-1219 ext. 1234\n",
        "work 1-(810) 555.1220 #1234\n",
        "\"\"\""
      ],
      "execution_count": null,
      "outputs": []
    },
    {
      "cell_type": "markdown",
      "metadata": {
        "id": "pmWzw10LSqf8"
      },
      "source": [
        "### Solution for Assignment 4.1"
      ]
    },
    {
      "cell_type": "code",
      "metadata": {
        "id": "H_qzFur0SsOe"
      },
      "source": [
        "## your solution here"
      ],
      "execution_count": null,
      "outputs": []
    },
    {
      "cell_type": "markdown",
      "metadata": {
        "id": "4r0_zm3Kcsnl"
      },
      "source": [
        "*solution provided after assignments are submitted*"
      ]
    },
    {
      "cell_type": "markdown",
      "source": [
        "---"
      ],
      "metadata": {
        "id": "RY-h8nerGE63"
      }
    },
    {
      "cell_type": "markdown",
      "source": [
        "## <b>Additional Regex Exercise</b>   \n",
        "**Regex Practice** \n",
        "\n",
        "Read text data to find the times of high tides for you to fish at Battery Park in NYC.   \n",
        "\n",
        "*This notebook uses text captured from a snapshot of the NOAA data on tides at Battery, New York as of 01-Nov-2022.*\n",
        "\n",
        "\n",
        "[A current snapshot of the NOAA tide data for Battery, NYC](https://tidesandcurrents.noaa.gov/map/index.html?id=8518750)  \n"
      ],
      "metadata": {
        "id": "S1x8MHmXizSs"
      }
    },
    {
      "cell_type": "markdown",
      "source": [
        "**References**  \n",
        "\n",
        "Review material from [Class 17 on Regex](https://bit.ly/cst2312cl12)      \n",
        "\n",
        "Use the [Regex Cheat Sheet](https://bit.ly/cst2312regex)        \n",
        "\n",
        "Practice use cases from [Class 15 Lab Exercises](https://bit.ly/cst2312cl15)    "
      ],
      "metadata": {
        "id": "d9VXmymRzt2J"
      }
    },
    {
      "cell_type": "markdown",
      "source": [
        "**Resources** \n",
        "\n",
        "The following provide interactive tools for developing and testing regular expressions:    \n",
        "\n",
        " - https://regexr.com/     \n",
        "\n",
        " - https://regexlearn.com/playground    \n",
        "\n",
        " - https://regex101.com/    \n",
        " \n"
      ],
      "metadata": {
        "id": "W4C7d8l51Jy8"
      }
    },
    {
      "cell_type": "markdown",
      "source": [
        "---"
      ],
      "metadata": {
        "id": "t9jCCFrh1IqI"
      }
    },
    {
      "cell_type": "markdown",
      "source": [
        "### Housekeeping   \n",
        "    \n",
        "**(for Additional Regex Practice)**        "
      ],
      "metadata": {
        "id": "eeSfW3y8i73f"
      }
    },
    {
      "cell_type": "markdown",
      "source": [
        "####Import libraries"
      ],
      "metadata": {
        "id": "R50lIG6yjCq_"
      }
    },
    {
      "cell_type": "code",
      "execution_count": null,
      "metadata": {
        "id": "psVd8doAiqjf"
      },
      "outputs": [],
      "source": [
        "import re"
      ]
    },
    {
      "cell_type": "markdown",
      "source": [
        "####Acess text file(s)   "
      ],
      "metadata": {
        "id": "x5R9bxEdjGze"
      }
    },
    {
      "cell_type": "code",
      "source": [
        "!curl \"https://raw.githubusercontent.com/ProfessorPatrickSlatraigh/data/680aa4214a98cff5b62ccf432d3a6029809b322c/battery-nyc-tides.txt\" -o tide-data.txt"
      ],
      "metadata": {
        "id": "Td8rorsBjKte"
      },
      "execution_count": null,
      "outputs": []
    },
    {
      "cell_type": "markdown",
      "source": [
        "###Read the file into a string variable  "
      ],
      "metadata": {
        "id": "Ww5qgB2cs678"
      }
    },
    {
      "cell_type": "code",
      "source": [
        "with open(\"tide-data.txt\", \"r\") as file:\n",
        " text_str = str(file.read())\n",
        "\n",
        "print(text_str)"
      ],
      "metadata": {
        "id": "g6Y6limynVMe"
      },
      "execution_count": null,
      "outputs": []
    },
    {
      "cell_type": "markdown",
      "source": [
        "---"
      ],
      "metadata": {
        "id": "tIzUlq_ps6Ej"
      }
    },
    {
      "cell_type": "markdown",
      "source": [
        "###Search the string variable with `re.search()` "
      ],
      "metadata": {
        "id": "68q6wGuRkdon"
      }
    },
    {
      "cell_type": "code",
      "source": [
        "# 1 - grab a substring of text and search for it\n",
        "re_searched = re.search(r'2:33 AM\thigh\t4\\.19 ft', text_str)"
      ],
      "metadata": {
        "id": "sVwCZ3rGqSUM"
      },
      "execution_count": null,
      "outputs": []
    },
    {
      "cell_type": "code",
      "source": [
        "print(re_searched)"
      ],
      "metadata": {
        "id": "J0Y1wvOo13AK"
      },
      "execution_count": null,
      "outputs": []
    },
    {
      "cell_type": "code",
      "source": [
        "# 2 - use an even smaller substring of text and search for it\n",
        "re_searched = re.search(r'2:33 AM', text_str)"
      ],
      "metadata": {
        "id": "pGcRC9O0qB8Q"
      },
      "execution_count": null,
      "outputs": []
    },
    {
      "cell_type": "code",
      "source": [
        "print(re_searched)"
      ],
      "metadata": {
        "id": "6lI6F6_m13vR"
      },
      "execution_count": null,
      "outputs": []
    },
    {
      "cell_type": "code",
      "source": [
        "# 3 - try a regex pattern for time and search for it\n",
        "re_searched = re.search(r'(\\d+:\\d+ \\wM)', text_str)"
      ],
      "metadata": {
        "id": "W2o3n4vFqu1c"
      },
      "execution_count": null,
      "outputs": []
    },
    {
      "cell_type": "code",
      "source": [
        "print(re_searched)"
      ],
      "metadata": {
        "id": "TPlh5-OR14YI"
      },
      "execution_count": null,
      "outputs": []
    },
    {
      "cell_type": "code",
      "source": [
        "# 4 - try a regex pattern for time followd by a space then 'high'\n",
        "re_searched = re.search(r'(\\d+:\\d+ \\wM high)', text_str)"
      ],
      "metadata": {
        "id": "SQcE1AJjstAO"
      },
      "execution_count": null,
      "outputs": []
    },
    {
      "cell_type": "code",
      "source": [
        "print(re_searched)"
      ],
      "metadata": {
        "id": "iFlj8bmP15E0"
      },
      "execution_count": null,
      "outputs": []
    },
    {
      "cell_type": "code",
      "source": [
        "# 5 - what went wrong with the #4 search?\n",
        "re_searched = re.search(r'(\\d+:\\d+ \\wM.high)', text_str)"
      ],
      "metadata": {
        "id": "NUqkx0vEseZG"
      },
      "execution_count": null,
      "outputs": []
    },
    {
      "cell_type": "code",
      "source": [
        "print(re_searched)"
      ],
      "metadata": {
        "id": "oy6ZSZrQqLQ4"
      },
      "execution_count": null,
      "outputs": []
    },
    {
      "cell_type": "markdown",
      "source": [
        "###Using an `|` (or) operator for high and low tides   "
      ],
      "metadata": {
        "id": "qFUpoT7o8Lf_"
      }
    },
    {
      "cell_type": "code",
      "source": [
        "# 6 - searching for high or low tides\n",
        "re_searched = re.search(r'(\\d+:\\d+ \\wM.)(high|low)', text_str)"
      ],
      "metadata": {
        "id": "lQ4A4SKe8TFv"
      },
      "execution_count": null,
      "outputs": []
    },
    {
      "cell_type": "code",
      "source": [
        "print(re_searched)"
      ],
      "metadata": {
        "id": "v96bPEXX8iZx"
      },
      "execution_count": null,
      "outputs": []
    },
    {
      "cell_type": "markdown",
      "source": [
        "####Adding the sea level to the pattern"
      ],
      "metadata": {
        "id": "1h_VsMvV9Zzs"
      }
    },
    {
      "cell_type": "code",
      "source": [
        "# 7 - adding the sea height to the search pattern\n",
        "re_searched = re.search(r'(\\d+:\\d+ \\wM.)(high|low).+(\\d+.\\d+)', text_str)"
      ],
      "metadata": {
        "id": "fOZkl6qs9eos"
      },
      "execution_count": null,
      "outputs": []
    },
    {
      "cell_type": "code",
      "source": [
        "print(re_searched)"
      ],
      "metadata": {
        "id": "fA4skvXS9gNd"
      },
      "execution_count": null,
      "outputs": []
    },
    {
      "cell_type": "markdown",
      "source": [
        "####Including the unit of measure for sea height in the search pattern   \n"
      ],
      "metadata": {
        "id": "keqNr7qv95Un"
      }
    },
    {
      "cell_type": "code",
      "source": [
        "# 8 - including the unit of measure for sea height to the search pattern\n",
        "re_searched = re.search(r'(\\d+:\\d+ \\wM.)(high|low).+(\\d+.\\d+).(\\w+)', text_str)"
      ],
      "metadata": {
        "id": "fz1435ND-DDO"
      },
      "execution_count": null,
      "outputs": []
    },
    {
      "cell_type": "code",
      "source": [
        "print(re_searched)"
      ],
      "metadata": {
        "id": "T9zhjKAK-Baw"
      },
      "execution_count": null,
      "outputs": []
    },
    {
      "cell_type": "markdown",
      "source": [
        "---"
      ],
      "metadata": {
        "id": "FTU7ZRBas3rw"
      }
    },
    {
      "cell_type": "markdown",
      "source": [
        "### Search the string for matches with `re.findall` to find all high tides  "
      ],
      "metadata": {
        "id": "DF872ko5tXye"
      }
    },
    {
      "cell_type": "code",
      "source": [
        "print(text_str)"
      ],
      "metadata": {
        "id": "ly3S8aifud9z"
      },
      "execution_count": null,
      "outputs": []
    },
    {
      "cell_type": "code",
      "source": [
        "matches = re.findall(r'(\\d+:\\d+ \\wM).+(high|low).+(\\d+.\\d+).(\\w+)', text_str)\n",
        "print(matches)  \n",
        "print()\n",
        "# iterating through the result\n",
        "for match in matches:\n",
        "  print(match)"
      ],
      "metadata": {
        "id": "w5ClBQrqvwyK"
      },
      "execution_count": null,
      "outputs": []
    },
    {
      "cell_type": "code",
      "source": [
        "print('Matches 0:', matches[0])\n",
        "print('Matches 1:', matches[1])\n",
        "print('Matches 2:', matches[2])\n",
        "print('Matches 3:', matches[3])"
      ],
      "metadata": {
        "id": "HhoX3elH6dZn"
      },
      "execution_count": null,
      "outputs": []
    },
    {
      "cell_type": "code",
      "source": [
        "# iterating through matches with an index counter\n",
        "i=0\n",
        "while i < len(matches):\n",
        "    print(matches[i])\n",
        "    i +=  1"
      ],
      "metadata": {
        "id": "b9Ctvz2R3BxA"
      },
      "execution_count": null,
      "outputs": []
    },
    {
      "cell_type": "markdown",
      "source": [
        "---"
      ],
      "metadata": {
        "id": "SLFKnnt_oB2Q"
      }
    },
    {
      "cell_type": "markdown",
      "source": [
        "### <b>Your turn:</b>     \n",
        "\n",
        "**What other `regex` searches could you perform to extract data from the text in the file?**   "
      ],
      "metadata": {
        "id": "61mwTE641dwx"
      }
    },
    {
      "cell_type": "code",
      "source": [],
      "metadata": {
        "id": "ygLv2IJl1qQH"
      },
      "execution_count": null,
      "outputs": []
    },
    {
      "cell_type": "markdown",
      "source": [
        "---"
      ],
      "metadata": {
        "id": "0FVAy9AL1ql3"
      }
    }
  ]
}