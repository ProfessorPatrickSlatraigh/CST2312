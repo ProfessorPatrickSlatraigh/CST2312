{
  "nbformat": 4,
  "nbformat_minor": 0,
  "metadata": {
    "colab": {
      "provenance": [],
      "authorship_tag": "ABX9TyN/JvS9rwuZRWMG855Qy8On",
      "include_colab_link": true
    },
    "kernelspec": {
      "name": "python3",
      "display_name": "Python 3"
    },
    "language_info": {
      "name": "python"
    }
  },
  "cells": [
    {
      "cell_type": "markdown",
      "metadata": {
        "id": "view-in-github",
        "colab_type": "text"
      },
      "source": [
        "<a href=\"https://colab.research.google.com/github/ProfessorPatrickSlatraigh/CST2312/blob/main/CST2312_HD32_Spring2023_Class09_27_Feb_2023.ipynb\" target=\"_parent\"><img src=\"https://colab.research.google.com/assets/colab-badge.svg\" alt=\"Open In Colab\"/></a>"
      ]
    },
    {
      "cell_type": "markdown",
      "metadata": {
        "id": "fZ5nHFyywfGy"
      },
      "source": [
        "# **CST2312 - Class #09**    \n",
        "    \n",
        "Covering Python for Everybody, Lesson 9 on **dictionaries**  and Lesson 10 on **tuples** using Google Colab by Professor Patrick, 27-Sep-2021 | updated: 24-Feb-2023.     \n",
        "\n"
      ]
    },
    {
      "cell_type": "markdown",
      "source": [
        "## Housekeeping    \n",
        "\n",
        "Imports and other initiatlization statements    "
      ],
      "metadata": {
        "id": "7v4_RC4PSHAb"
      }
    },
    {
      "cell_type": "code",
      "source": [
        "import numpy as np   \n",
        "import math    "
      ],
      "metadata": {
        "id": "wRiyME8SSOUn"
      },
      "execution_count": null,
      "outputs": []
    },
    {
      "cell_type": "markdown",
      "source": [
        "\n",
        "\n",
        "---\n",
        "\n"
      ],
      "metadata": {
        "id": "05McIdurM4iw"
      }
    },
    {
      "cell_type": "markdown",
      "metadata": {
        "id": "tklQ7H2uYeZ8"
      },
      "source": [
        "## Tuples Exercises    "
      ]
    },
    {
      "cell_type": "markdown",
      "metadata": {
        "id": "X3DAb80uYyLA"
      },
      "source": [
        "Try each of the following quick exercises using **tuples**.    "
      ]
    },
    {
      "cell_type": "markdown",
      "source": [
        "### Class #09 - Exercise 1: Tuple Assignment from First    \n",
        "\n",
        "Using the tuple created on line 1 of the following code, create a statement which assigns the **first** value of `x1_tuple` to the variable `x1_answer`.    "
      ],
      "metadata": {
        "id": "N_NJhw5rKu6P"
      }
    },
    {
      "cell_type": "code",
      "source": [
        "x1_tuple = ('getting', 'way', 'too', 'big', 'for', 'your', 'boots', '...', 'never', 'too', 'big')\n",
        "# complete the following assignment according to the instruction above: \n",
        "x1_answer = \n",
        "print(x1_answer)"
      ],
      "metadata": {
        "id": "qwtDOud9LTTY"
      },
      "execution_count": null,
      "outputs": []
    },
    {
      "cell_type": "markdown",
      "source": [
        "\n",
        "\n",
        "---\n",
        "\n"
      ],
      "metadata": {
        "id": "n3LfLqB9L0mU"
      }
    },
    {
      "cell_type": "markdown",
      "source": [
        "### Class #09 - Exercise 2: Tuple Assignment from Third    \n",
        "\n",
        "Using the tuple created on line 1 of the following code, create a statement which assigns the **third** value of `x2_tuple` to the variable `x2_answer`.    "
      ],
      "metadata": {
        "id": "e4L4eRcGL4Z2"
      }
    },
    {
      "cell_type": "code",
      "source": [
        "x2_tuple = ('getting', 'way', 'too', 'big', 'for', 'your', 'boots', '...', 'never', 'too', 'big')\n",
        "# complete the following assignment according to the instruction above: \n",
        "x2_answer = \n",
        "print(x2_answer)"
      ],
      "metadata": {
        "id": "RMU_Fe-AL4Z2"
      },
      "execution_count": null,
      "outputs": []
    },
    {
      "cell_type": "markdown",
      "source": [
        "\n",
        "\n",
        "---\n",
        "\n"
      ],
      "metadata": {
        "id": "XaHNu9fTMZst"
      }
    },
    {
      "cell_type": "markdown",
      "source": [
        "### Class #09 - Exercise 3: Tuple Assignment from Last    \n",
        "\n",
        "Using the tuple created on line 1 of the following code, create a statement which assigns the **fourth from last** value of `x3_tuple` to the variable `x3_answer`.    "
      ],
      "metadata": {
        "id": "xbrd4YmhMabX"
      }
    },
    {
      "cell_type": "code",
      "source": [
        "x3_tuple = ('getting', 'way', 'too', 'big', 'for', 'your', 'boots', '...', 'never', 'too', 'big')\n",
        "# complete the following assignment according to the instruction above: \n",
        "x3_answer = \n",
        "print(x3_answer)"
      ],
      "metadata": {
        "id": "cOQ8kYuXMabY"
      },
      "execution_count": null,
      "outputs": []
    },
    {
      "cell_type": "markdown",
      "source": [
        "\n",
        "\n",
        "---\n",
        "\n"
      ],
      "metadata": {
        "id": "lwlTTj5NM89a"
      }
    },
    {
      "cell_type": "markdown",
      "source": [
        "### Class #09 - Exercise 4: Tuple Element Index Position    \n",
        "\n",
        "Using the tuple created on line 1 of the following code, create a statement which determines the value of the index position (an integer) of **'big'** in the variable `x4_tuple` and assign that value to the variable `x4_answer`.    "
      ],
      "metadata": {
        "id": "gNFzZLd7NH1f"
      }
    },
    {
      "cell_type": "code",
      "source": [
        "x4_tuple = ('getting', 'way', 'too', 'big', 'for', 'your', 'boots', '...', 'never', 'too', 'big')\n",
        "# complete the following assignment according to the instruction above: \n",
        "x4_answer = \n",
        "print(x4_answer)"
      ],
      "metadata": {
        "id": "uQDIXFhDNH1g"
      },
      "execution_count": null,
      "outputs": []
    },
    {
      "cell_type": "markdown",
      "source": [
        "*[*Hint*](https://www.w3schools.com/python/python_tuples_methods.asp)    "
      ],
      "metadata": {
        "id": "mJ1KtYpIO9Ct"
      }
    },
    {
      "cell_type": "markdown",
      "source": [
        "\n",
        "\n",
        "---\n",
        "\n"
      ],
      "metadata": {
        "id": "p_WP8Kr4Occs"
      }
    },
    {
      "cell_type": "markdown",
      "source": [
        "### Class #09 - Exercise 5: Tuple Element Value Count   \n",
        "\n",
        "Using the tuple created on line 1 of the following code, create a statement which determines the value of the number of times (count) that **'too'** exists in the variable `x5_tuple` and assign that value to the variable `x5_answer`.    "
      ],
      "metadata": {
        "id": "hu6EkbPyPnVu"
      }
    },
    {
      "cell_type": "code",
      "source": [
        "x5_tuple = ('getting', 'way', 'too', 'big', 'for', 'your', 'boots', '...', 'never', 'too', 'big')\n",
        "# complete the following assignment according to the instruction above: \n",
        "x5_answer = \n",
        "print(x5_answer)"
      ],
      "metadata": {
        "id": "mBpl0ScPPnVv"
      },
      "execution_count": null,
      "outputs": []
    },
    {
      "cell_type": "markdown",
      "source": [
        "*[*Hint*](https://www.w3schools.com/python/python_tuples_methods.asp)    "
      ],
      "metadata": {
        "id": "5i8tcaabPnVv"
      }
    },
    {
      "cell_type": "markdown",
      "source": [
        "\n",
        "\n",
        "---\n",
        "\n"
      ],
      "metadata": {
        "id": "6mGHBJpmQO6m"
      }
    },
    {
      "cell_type": "markdown",
      "source": [
        "### Class #09 - Exercise 6: Tuple Elements Sums    \n",
        "\n",
        "Using the tuple created on line 1 of the following code, calculate the **sum** of the values in the variable `x6_tuple` and assign that **sum** to the variable `x6_answer`.    "
      ],
      "metadata": {
        "id": "StwlI4qiQ9p_"
      }
    },
    {
      "cell_type": "code",
      "source": [
        "x6_tuple = (1, 2, 3, 4, 5, 6, 7, 8, 9, 10, 11)\n",
        "# complete the following assignment according to the instruction above: \n",
        "x6_answer = \n",
        "print(x6_answer)"
      ],
      "metadata": {
        "id": "KKEKV4w-Q9qF"
      },
      "execution_count": null,
      "outputs": []
    },
    {
      "cell_type": "markdown",
      "source": [
        "*[*Hint*](https://datascienceparichay.com/article/python-tuple-sum/)    "
      ],
      "metadata": {
        "id": "bRbsTawYS_QK"
      }
    },
    {
      "cell_type": "markdown",
      "source": [
        "\n",
        "\n",
        "---\n",
        "\n"
      ],
      "metadata": {
        "id": "zKboWeReUMqG"
      }
    },
    {
      "cell_type": "markdown",
      "source": [
        "### Class #09 - Exercise 7: Tuple Element Value Count   \n",
        "\n",
        "Using the tuple created on line 1 of the following code, create a statement which determines the **sum** of the **length** of each element that exists in the variable `x7_tuple` and assign that value to the variable `x7_answer`.    "
      ],
      "metadata": {
        "id": "Y1ztwDduUSrE"
      }
    },
    {
      "cell_type": "code",
      "source": [
        "x7_tuple = ('getting', 'way', 'too', 'big', 'for', 'your', 'boots', '...', 'never', 'too', 'big')\n",
        "# complete the following assignment according to the instruction above: \n",
        "\n",
        "x7_answer = \n",
        "print(x7_answer)"
      ],
      "metadata": {
        "id": "jtauUpVxUSrF"
      },
      "execution_count": null,
      "outputs": []
    },
    {
      "cell_type": "markdown",
      "source": [
        "*[*Hint*](https://www.tutorialgateway.org/python-program-to-find-sum-of-tuple-items/)    "
      ],
      "metadata": {
        "id": "3oqFA4p4VN_i"
      }
    },
    {
      "cell_type": "markdown",
      "source": [
        "\n",
        "\n",
        "---\n",
        "\n"
      ],
      "metadata": {
        "id": "O9RJVbsMUEVG"
      }
    },
    {
      "cell_type": "markdown",
      "source": [
        "### Class #09 - Exercise 8: Tuple Selected Elements Sums    \n",
        "\n",
        "Using the tuple created on line 1 of the following code, calculate the **sum** of the integer values in the variable `x8_tuple` and assign that **sum** to the variable `x8_answer`.    "
      ],
      "metadata": {
        "id": "JBwKaJgATGlt"
      }
    },
    {
      "cell_type": "code",
      "source": [
        "x8_tuple = ('getting', 2, 'too', 4, 'for', 6, 'boots', 8, 'never', 10, 'big')\n",
        "# complete the following assignment according to the instruction above: \n",
        "\n",
        "x8_answer = \n",
        "print(x8_answer)"
      ],
      "metadata": {
        "id": "y-PGrh-nTGlt"
      },
      "execution_count": null,
      "outputs": []
    },
    {
      "cell_type": "markdown",
      "source": [
        "\n",
        "\n",
        "---\n",
        "\n"
      ],
      "metadata": {
        "id": "bisS5xlmVh43"
      }
    },
    {
      "cell_type": "markdown",
      "source": [
        "### Class #09 - Exercise 9: Tuple Elements Sums    \n",
        "\n",
        "Using the tuple created on line 1 of the following code, calculate the ratio of the **minimum** of the values in the variable `x9_tuple`  divided by the **maximum** of the values in the variable `x9_tuple` and assign that **ratio's value** to the variable `x9_answer`.    "
      ],
      "metadata": {
        "id": "X6Y20dshVmxK"
      }
    },
    {
      "cell_type": "code",
      "source": [
        "x9_tuple = (101, 222, 3, 420, 555, 629, 711, 88, 9, 1000, 11)\n",
        "# complete the following assignment according to the instruction above: \n",
        "x9_answer = \n",
        "print(x9_answer)"
      ],
      "metadata": {
        "id": "XJRukHbeVmxK"
      },
      "execution_count": null,
      "outputs": []
    },
    {
      "cell_type": "markdown",
      "source": [
        "*[*Hint*](https://www.geeksforgeeks.org/python-min-and-max-value-in-list-of-tuples/)    "
      ],
      "metadata": {
        "id": "2ITrVOHBVmxK"
      }
    },
    {
      "cell_type": "markdown",
      "source": [
        "\n",
        "\n",
        "---\n",
        "\n"
      ],
      "metadata": {
        "id": "rsQxl__ZWm98"
      }
    },
    {
      "cell_type": "markdown",
      "source": [
        "## Dictionaries Exercises    \n"
      ],
      "metadata": {
        "id": "JN31g2YDW5ot"
      }
    },
    {
      "cell_type": "markdown",
      "source": [],
      "metadata": {
        "id": "cmDvqKEsXBZ_"
      }
    }
  ]
}