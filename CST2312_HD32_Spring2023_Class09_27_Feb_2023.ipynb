{
  "nbformat": 4,
  "nbformat_minor": 0,
  "metadata": {
    "colab": {
      "provenance": [],
      "authorship_tag": "ABX9TyORrpFh8sT1fiJeT/UGoPaI",
      "include_colab_link": true
    },
    "kernelspec": {
      "name": "python3",
      "display_name": "Python 3"
    },
    "language_info": {
      "name": "python"
    }
  },
  "cells": [
    {
      "cell_type": "markdown",
      "metadata": {
        "id": "view-in-github",
        "colab_type": "text"
      },
      "source": [
        "<a href=\"https://colab.research.google.com/github/ProfessorPatrickSlatraigh/CST2312/blob/main/CST2312_HD32_Spring2023_Class09_27_Feb_2023.ipynb\" target=\"_parent\"><img src=\"https://colab.research.google.com/assets/colab-badge.svg\" alt=\"Open In Colab\"/></a>"
      ]
    },
    {
      "cell_type": "markdown",
      "metadata": {
        "id": "fZ5nHFyywfGy"
      },
      "source": [
        "# **CST2312 - Class #09**    \n",
        "    \n",
        "Covering Python for Everybody, Lesson 9 on **dictionaries**  and Lesson 10 on **tuples** using Google Colab by Professor Patrick, 27-Sep-2021 | updated: 24-Feb-2023.     \n",
        "\n",
        "This notebook begins with a section on:     \n",
        "    \n",
        "  - **Tuples Exercises**      \n",
        "\n",
        "Followed by a section on:    \n",
        "    \n",
        "  - **More About Dictionaries**   \n",
        "\n"
      ]
    },
    {
      "cell_type": "markdown",
      "source": [
        "## Housekeeping    \n",
        "\n",
        "Imports and other initiatlization statements    "
      ],
      "metadata": {
        "id": "7v4_RC4PSHAb"
      }
    },
    {
      "cell_type": "code",
      "source": [
        "import numpy as np   \n",
        "import math    "
      ],
      "metadata": {
        "id": "wRiyME8SSOUn"
      },
      "execution_count": null,
      "outputs": []
    },
    {
      "cell_type": "markdown",
      "source": [
        "\n",
        "\n",
        "---\n",
        "\n"
      ],
      "metadata": {
        "id": "05McIdurM4iw"
      }
    },
    {
      "cell_type": "markdown",
      "metadata": {
        "id": "tklQ7H2uYeZ8"
      },
      "source": [
        "## Tuples Exercises    "
      ]
    },
    {
      "cell_type": "markdown",
      "metadata": {
        "id": "X3DAb80uYyLA"
      },
      "source": [
        "Try each of the following quick exercises using **tuples**.    "
      ]
    },
    {
      "cell_type": "markdown",
      "source": [
        "### Class #09 - Exercise 1: Tuple Assignment from First    \n",
        "\n",
        "Using the tuple created on line 1 of the following code, create a statement which assigns the **first** value of `x1_tuple` to the variable `x1_answer`.    "
      ],
      "metadata": {
        "id": "N_NJhw5rKu6P"
      }
    },
    {
      "cell_type": "code",
      "source": [
        "x1_tuple = ('getting', 'way', 'too', 'big', 'for', 'your', 'boots', '...', 'never', 'too', 'big')\n",
        "# complete the following assignment according to the instruction above: \n",
        "x1_answer = \n",
        "print(x1_answer)"
      ],
      "metadata": {
        "id": "qwtDOud9LTTY"
      },
      "execution_count": null,
      "outputs": []
    },
    {
      "cell_type": "markdown",
      "source": [
        "\n",
        "\n",
        "---\n",
        "\n"
      ],
      "metadata": {
        "id": "n3LfLqB9L0mU"
      }
    },
    {
      "cell_type": "markdown",
      "source": [
        "### Class #09 - Exercise 2: Tuple Assignment from Third    \n",
        "\n",
        "Using the tuple created on line 1 of the following code, create a statement which assigns the **third** value of `x2_tuple` to the variable `x2_answer`.    "
      ],
      "metadata": {
        "id": "e4L4eRcGL4Z2"
      }
    },
    {
      "cell_type": "code",
      "source": [
        "x2_tuple = ('getting', 'way', 'too', 'big', 'for', 'your', 'boots', '...', 'never', 'too', 'big')\n",
        "# complete the following assignment according to the instruction above: \n",
        "x2_answer = \n",
        "print(x2_answer)"
      ],
      "metadata": {
        "id": "RMU_Fe-AL4Z2"
      },
      "execution_count": null,
      "outputs": []
    },
    {
      "cell_type": "markdown",
      "source": [
        "\n",
        "\n",
        "---\n",
        "\n"
      ],
      "metadata": {
        "id": "XaHNu9fTMZst"
      }
    },
    {
      "cell_type": "markdown",
      "source": [
        "### Class #09 - Exercise 3: Tuple Assignment from Last    \n",
        "\n",
        "Using the tuple created on line 1 of the following code, create a statement which assigns the **fourth from last** value of `x3_tuple` to the variable `x3_answer`.    "
      ],
      "metadata": {
        "id": "xbrd4YmhMabX"
      }
    },
    {
      "cell_type": "code",
      "source": [
        "x3_tuple = ('getting', 'way', 'too', 'big', 'for', 'your', 'boots', '...', 'never', 'too', 'big')\n",
        "# complete the following assignment according to the instruction above: \n",
        "x3_answer = \n",
        "print(x3_answer)"
      ],
      "metadata": {
        "id": "cOQ8kYuXMabY"
      },
      "execution_count": null,
      "outputs": []
    },
    {
      "cell_type": "markdown",
      "source": [
        "\n",
        "\n",
        "---\n",
        "\n"
      ],
      "metadata": {
        "id": "lwlTTj5NM89a"
      }
    },
    {
      "cell_type": "markdown",
      "source": [
        "### Class #09 - Exercise 4: Tuple Element Index Position    \n",
        "\n",
        "Using the tuple created on line 1 of the following code, create a statement which determines the value of the index position (an integer) of **'big'** in the variable `x4_tuple` and assign that value to the variable `x4_answer`.    "
      ],
      "metadata": {
        "id": "gNFzZLd7NH1f"
      }
    },
    {
      "cell_type": "code",
      "source": [
        "x4_tuple = ('getting', 'way', 'too', 'big', 'for', 'your', 'boots', '...', 'never', 'too', 'big')\n",
        "# complete the following assignment according to the instruction above: \n",
        "x4_answer = \n",
        "print(x4_answer)"
      ],
      "metadata": {
        "id": "uQDIXFhDNH1g"
      },
      "execution_count": null,
      "outputs": []
    },
    {
      "cell_type": "markdown",
      "source": [
        "*[*Hint*](https://www.w3schools.com/python/python_tuples_methods.asp)    "
      ],
      "metadata": {
        "id": "mJ1KtYpIO9Ct"
      }
    },
    {
      "cell_type": "markdown",
      "source": [
        "\n",
        "\n",
        "---\n",
        "\n"
      ],
      "metadata": {
        "id": "p_WP8Kr4Occs"
      }
    },
    {
      "cell_type": "markdown",
      "source": [
        "### Class #09 - Exercise 5: Tuple Element Value Count   \n",
        "\n",
        "Using the tuple created on line 1 of the following code, create a statement which determines the value of the number of times (count) that **'too'** exists in the variable `x5_tuple` and assign that value to the variable `x5_answer`.    "
      ],
      "metadata": {
        "id": "hu6EkbPyPnVu"
      }
    },
    {
      "cell_type": "code",
      "source": [
        "x5_tuple = ('getting', 'way', 'too', 'big', 'for', 'your', 'boots', '...', 'never', 'too', 'big')\n",
        "# complete the following assignment according to the instruction above: \n",
        "x5_answer = \n",
        "print(x5_answer)"
      ],
      "metadata": {
        "id": "mBpl0ScPPnVv"
      },
      "execution_count": null,
      "outputs": []
    },
    {
      "cell_type": "markdown",
      "source": [
        "*[*Hint*](https://www.w3schools.com/python/python_tuples_methods.asp)    "
      ],
      "metadata": {
        "id": "5i8tcaabPnVv"
      }
    },
    {
      "cell_type": "markdown",
      "source": [
        "\n",
        "\n",
        "---\n",
        "\n"
      ],
      "metadata": {
        "id": "6mGHBJpmQO6m"
      }
    },
    {
      "cell_type": "markdown",
      "source": [
        "### Class #09 - Exercise 6: Tuple Elements Sums    \n",
        "\n",
        "Using the tuple created on line 1 of the following code, calculate the **sum** of the values in the variable `x6_tuple` and assign that **sum** to the variable `x6_answer`.    "
      ],
      "metadata": {
        "id": "StwlI4qiQ9p_"
      }
    },
    {
      "cell_type": "code",
      "source": [
        "x6_tuple = (1, 2, 3, 4, 5, 6, 7, 8, 9, 10, 11)\n",
        "# complete the following assignment according to the instruction above: \n",
        "x6_answer = \n",
        "print(x6_answer)"
      ],
      "metadata": {
        "id": "KKEKV4w-Q9qF"
      },
      "execution_count": null,
      "outputs": []
    },
    {
      "cell_type": "markdown",
      "source": [
        "*[*Hint*](https://datascienceparichay.com/article/python-tuple-sum/)    "
      ],
      "metadata": {
        "id": "bRbsTawYS_QK"
      }
    },
    {
      "cell_type": "markdown",
      "source": [
        "\n",
        "\n",
        "---\n",
        "\n"
      ],
      "metadata": {
        "id": "zKboWeReUMqG"
      }
    },
    {
      "cell_type": "markdown",
      "source": [
        "### Class #09 - Exercise 7: Tuple Element Value Count   \n",
        "\n",
        "Using the tuple created on line 1 of the following code, create a statement which determines the **sum** of the **length** of each element that exists in the variable `x7_tuple` and assign that value to the variable `x7_answer`.    "
      ],
      "metadata": {
        "id": "Y1ztwDduUSrE"
      }
    },
    {
      "cell_type": "code",
      "source": [
        "x7_tuple = ('getting', 'way', 'too', 'big', 'for', 'your', 'boots', '...', 'never', 'too', 'big')\n",
        "# complete the following assignment according to the instruction above: \n",
        "\n",
        "x7_answer = \n",
        "print(x7_answer)"
      ],
      "metadata": {
        "id": "jtauUpVxUSrF"
      },
      "execution_count": null,
      "outputs": []
    },
    {
      "cell_type": "markdown",
      "source": [
        "*[*Hint*](https://www.tutorialgateway.org/python-program-to-find-sum-of-tuple-items/)    "
      ],
      "metadata": {
        "id": "3oqFA4p4VN_i"
      }
    },
    {
      "cell_type": "markdown",
      "source": [
        "\n",
        "\n",
        "---\n",
        "\n"
      ],
      "metadata": {
        "id": "O9RJVbsMUEVG"
      }
    },
    {
      "cell_type": "markdown",
      "source": [
        "### Class #09 - Exercise 8: Tuple Selected Elements Sums    \n",
        "\n",
        "Using the tuple created on line 1 of the following code, calculate the **sum** of the integer values in the variable `x8_tuple` and assign that **sum** to the variable `x8_answer`.    "
      ],
      "metadata": {
        "id": "JBwKaJgATGlt"
      }
    },
    {
      "cell_type": "code",
      "source": [
        "x8_tuple = ('getting', 2, 'too', 4, 'for', 6, 'boots', 8, 'never', 10, 'big')\n",
        "# complete the following assignment according to the instruction above: \n",
        "\n",
        "x8_answer = \n",
        "print(x8_answer)"
      ],
      "metadata": {
        "id": "y-PGrh-nTGlt"
      },
      "execution_count": null,
      "outputs": []
    },
    {
      "cell_type": "markdown",
      "source": [
        "\n",
        "\n",
        "---\n",
        "\n"
      ],
      "metadata": {
        "id": "bisS5xlmVh43"
      }
    },
    {
      "cell_type": "markdown",
      "source": [
        "### Class #09 - Exercise 9: Tuple Elements Sums    \n",
        "\n",
        "Using the tuple created on line 1 of the following code, calculate the ratio of the **minimum** of the values in the variable `x9_tuple`  divided by the **maximum** of the values in the variable `x9_tuple` and assign that **ratio's value** to the variable `x9_answer`.    "
      ],
      "metadata": {
        "id": "X6Y20dshVmxK"
      }
    },
    {
      "cell_type": "code",
      "source": [
        "x9_tuple = (101, 222, 3, 420, 555, 629, 711, 88, 9, 1000, 11)\n",
        "# complete the following assignment according to the instruction above: \n",
        "x9_answer = \n",
        "print(x9_answer)"
      ],
      "metadata": {
        "id": "XJRukHbeVmxK"
      },
      "execution_count": null,
      "outputs": []
    },
    {
      "cell_type": "markdown",
      "source": [
        "*[*Hint*](https://www.geeksforgeeks.org/python-min-and-max-value-in-list-of-tuples/)    "
      ],
      "metadata": {
        "id": "2ITrVOHBVmxK"
      }
    },
    {
      "cell_type": "markdown",
      "source": [
        "\n",
        "\n",
        "---\n",
        "\n"
      ],
      "metadata": {
        "id": "rsQxl__ZWm98"
      }
    },
    {
      "cell_type": "markdown",
      "source": [
        "## More About Dictionaries      \n"
      ],
      "metadata": {
        "id": "JN31g2YDW5ot"
      }
    },
    {
      "cell_type": "markdown",
      "source": [
        " \n",
        "**[Introducton to Dictionaries](https://medium.com/analytics-vidhya/an-introduction-to-python-dictionary-520302924ef8) (from Indhumathy Chelliah on Medium.com)**   \n",
        "    \n",
        "\n",
        "by Professor Patrick, 12-Oct-2022 | Updated: 24-Feb-2023        \n",
        "  "
      ],
      "metadata": {
        "id": "Tba3cwe-lYOJ"
      }
    },
    {
      "cell_type": "markdown",
      "source": [
        "\n",
        "\n",
        "---\n",
        "\n"
      ],
      "metadata": {
        "id": "TYQiihxPmsVp"
      }
    },
    {
      "cell_type": "markdown",
      "source": [
        "### Different ways of creating a dictionary using dict() constructor    \n",
        "\n",
        "\n",
        "\n",
        "```\n",
        "dict(**kwarg)\n",
        "dict(mapping, **kwarg)\n",
        "dict(iterable, **kwarg)\n",
        "```    \n",
        "\n",
        "**kwarg-arbitary number of keyword arguments\n",
        "\n"
      ],
      "metadata": {
        "id": "SgIgw0kSlNoq"
      }
    },
    {
      "cell_type": "markdown",
      "source": [
        "#### Creating a dictionary from keyword arguments:    \n",
        "\n",
        "\n",
        "```\n",
        "dict(**kwarg)\n",
        "```\n",
        "\n",
        "\n"
      ],
      "metadata": {
        "id": "Y9J2U5A3lfeC"
      }
    },
    {
      "cell_type": "code",
      "source": [
        "d=dict(red=1,blue=2,green=3)\n",
        "print (d) \n",
        "#Output:{'red': 1, 'blue': 2, 'green': 3}"
      ],
      "metadata": {
        "id": "neErwKIFlIkD"
      },
      "execution_count": null,
      "outputs": []
    },
    {
      "cell_type": "markdown",
      "source": [
        "#### Creating a dictionary using mapping:\n",
        "\n",
        "~~~\n",
        "dict(mapping,**kwarg)\n",
        "~~~\n"
      ],
      "metadata": {
        "id": "oul3qmMOlxOv"
      }
    },
    {
      "cell_type": "code",
      "source": [
        "#creating dictionary by using dict()constructor - mapping\n",
        "d=dict({'red':1,'blue':2,'green':3})\n",
        "print (d) #Output:{'red': 1, 'blue': 2, 'green': 3}\n",
        "\n",
        "\n",
        "#creating dictionary by using dict()constructor - mapping. keyword arguments can also be passed.\n",
        "d=dict({'red':1,'blue':2},green=3)\n",
        "print (d) #Output:{'red': 1, 'blue': 2, 'green': 3}\n",
        "\n",
        "\n",
        "#without dict() constructor\n",
        "d={'red':1,'blue':2,'green':3}\n",
        "print (d)#Output:{'red': 1, 'blue': 2, 'green': 3}"
      ],
      "metadata": {
        "id": "JmBn-IBAl2gH"
      },
      "execution_count": null,
      "outputs": []
    },
    {
      "cell_type": "markdown",
      "source": [
        "#### Creating dictionary using an iterable.\n",
        "\n",
        "~~~\n",
        "dict(iterable,**kwarg)\n",
        "~~~\n",
        "\n"
      ],
      "metadata": {
        "id": "YFnr4Z_Rl772"
      }
    },
    {
      "cell_type": "code",
      "source": [
        "#creating dictionary by using iterables\n",
        "d=dict([('red',1),('blue',2),('green',3)])\n",
        "print (d)#Output:{'red': 1, 'blue': 2, 'green': 3}\n"
      ],
      "metadata": {
        "id": "nIuleNWPmCqB"
      },
      "execution_count": null,
      "outputs": []
    },
    {
      "cell_type": "code",
      "source": [
        "#creating dictionary using iterables and keyword arguments\n",
        "d=dict([('red',1),('blue',2)],green=3)\n",
        "print (d)#Output:{'red': 1, 'blue': 2, 'green': 3}"
      ],
      "metadata": {
        "id": "uN2JjAIrveig"
      },
      "execution_count": null,
      "outputs": []
    },
    {
      "cell_type": "code",
      "source": [
        "#creating dictionary by using zip().zip() also creates iterbales\n",
        "d=dict(zip(['red','green','blue'],[1,2,3]))\n",
        "print (d)#Output:{'red': 1, 'green': 2, 'blue': 3}"
      ],
      "metadata": {
        "colab": {
          "base_uri": "https://localhost:8080/"
        },
        "id": "a70fmyMpvcMH",
        "outputId": "f596deaf-737c-44f5-9833-feffcb1cc5be"
      },
      "execution_count": null,
      "outputs": [
        {
          "output_type": "stream",
          "name": "stdout",
          "text": [
            "{'red': 1, 'green': 2, 'blue': 3}\n"
          ]
        }
      ]
    },
    {
      "cell_type": "markdown",
      "source": [
        "\n",
        "---\n"
      ],
      "metadata": {
        "id": "HdVoCRZrvseY"
      }
    },
    {
      "cell_type": "markdown",
      "source": [
        "### Dictionary methods.\n",
        "\n",
        "~~~    \n",
        "keys()\n",
        "Return a new view of dictionary’s keys.\n",
        "values()\n",
        "Return a new view of a dictionary’s values.\n",
        "items()\n",
        "Return a new view of dictionary’s items (key,value)pairs.\n",
        "~~~ "
      ],
      "metadata": {
        "id": "vfFwS1rOmFyz"
      }
    },
    {
      "cell_type": "code",
      "source": [
        "#creating dictionary:\n",
        "\n",
        "d={'name':'karthi',\n",
        "   'age':7,\n",
        "   'city':'chennai',\n",
        "    }\n",
        "\n",
        "#print only keys\n",
        "print (d.keys())  #Output: dict_keys(['name', 'age', 'city'])\n",
        "\n",
        "#print (key,value) pair.\n",
        "print (d.items()) #Output: dict_items([('name', 'karthi'), ('age', 7), ('city', 'chennai')])\n",
        "\n",
        "#print only values\n",
        "print (d.values()) #Output: dict_values(['karthi', 7, 'chennai'])"
      ],
      "metadata": {
        "id": "TTsQQgAOmU4H"
      },
      "execution_count": null,
      "outputs": []
    },
    {
      "cell_type": "markdown",
      "source": [
        "#### Accessing the values from a dictionary\n",
        "We can access the values by using the get method and also by indexing. If the key doesn’t exist in a dictionary means, get method returns None.\n",
        "But when we use indexing, it will raise `KeyError`.\n",
        "\n",
        "~~~\n",
        "get()\n",
        "get(key,default)\n",
        "~~~    \n",
        "\n",
        "Returns the value of that specified key. If the key doesn’t exist in a dictionary means returns None. If the default is specified, it will return the default value if the key doesn’t exist."
      ],
      "metadata": {
        "id": "WU7ZAhbsmWRe"
      }
    },
    {
      "cell_type": "code",
      "source": [
        "d={'name':'karthi',\n",
        "   'age':7,\n",
        "   'city':'chennai',\n",
        "    }\n",
        "\n",
        "#get(accessing using get method)\n",
        "print(d.get(\"name\")) # Output: karthi\n",
        "\n",
        "\n",
        "#If key doesn't exists in a dictionary means ,returns None\n",
        "print (d.get('rollno')) # Output: None\n",
        "\n",
        "\n",
        "#default is mentioned.\n",
        "print (d.get('rollno',\"Not Available\"))#Output:Not Available"
      ],
      "metadata": {
        "id": "vinSnK5bmk_B"
      },
      "execution_count": null,
      "outputs": []
    },
    {
      "cell_type": "markdown",
      "source": [
        "#### Using indexing\n",
        "\n",
        "~~~\n",
        "d[key]\n",
        "~~~\n",
        "\n",
        "Returns the value of the key. If the key doesn’t exist in a dictionary means it will raise `KeyError`."
      ],
      "metadata": {
        "id": "1nyS_WmxmscV"
      }
    },
    {
      "cell_type": "code",
      "source": [
        "d={'name':'karthi',\n",
        "   'age':7,\n",
        "   'city':'chennai',\n",
        "    }\n",
        "\n",
        "#accessing using index\n",
        "print (d['name']) #Output: karthi\n"
      ],
      "metadata": {
        "id": "AfCR20nVmxd3"
      },
      "execution_count": null,
      "outputs": []
    },
    {
      "cell_type": "code",
      "source": [
        "# If key doesn't exists in a dictionary means and if we use index, then it will raise KeyError\n",
        "print (d['rollno']) # Output: KeyError: 'rollno'"
      ],
      "metadata": {
        "id": "XcOg5whhwtiC"
      },
      "execution_count": null,
      "outputs": []
    },
    {
      "cell_type": "markdown",
      "source": [
        "\n",
        "---\n"
      ],
      "metadata": {
        "id": "pJ2GzbG6wz6q"
      }
    },
    {
      "cell_type": "markdown",
      "source": [
        "#### Assigning /Updating values\n",
        "~~~\n",
        "d[key]=value\n",
        "~~~\n",
        "\n",
        "Set `d[key]` to value. If the key already exists in a dictionary means, it will update the value. If the key doesn’t exist in a dictionary means, it will add that key, value pair."
      ],
      "metadata": {
        "id": "xXlV6RLMm0ey"
      }
    },
    {
      "cell_type": "code",
      "source": [
        "d={'name':'karthi',\n",
        "   'age':7,\n",
        "   'city':'chennai',\n",
        "    }\n",
        "print (d)#Output:{'name': 'karthi', 'age': 7, 'city': 'chennai'}\n",
        "\n",
        "\n",
        "#Assigning values. If key already exists in a dictionary means,it will update value.\n",
        "d['age']=8\n",
        "print (d)#Output:{'name': 'karthi', 'age': 8, 'city': 'chennai'}\n"
      ],
      "metadata": {
        "id": "DveFOOS6m8ar"
      },
      "execution_count": null,
      "outputs": []
    },
    {
      "cell_type": "code",
      "source": [
        "#Assigning values.If key doesn't exists in a dictionary means,it will add that key.\n",
        "d['rollno']=12\n",
        "print (d)#Output:{'name': 'karthi', 'age': 8, 'city': 'chennai', 'rollno': 12}"
      ],
      "metadata": {
        "id": "_jI-Jwmqw7PE"
      },
      "execution_count": null,
      "outputs": []
    },
    {
      "cell_type": "markdown",
      "source": [
        "\n",
        "---\n"
      ],
      "metadata": {
        "id": "nOmMxg3bxDYk"
      }
    },
    {
      "cell_type": "markdown",
      "source": [
        "#### iter()\n",
        "\n",
        "~~~\n",
        "iter(d)\n",
        "~~~\n",
        "\n",
        "Return an iterator over the keys in a dictionary."
      ],
      "metadata": {
        "id": "tAg6J8LKm_ND"
      }
    },
    {
      "cell_type": "code",
      "source": [
        "d={'name':'karthi',\n",
        "   'age':7,\n",
        "   'city':'chennai',\n",
        "  }\n",
        "\n",
        "#Return an iterator containing  keys\n",
        "i=iter(d)\n",
        "print (i)#Output:<dict_keyiterator object at 0x00D13BE0>\n"
      ],
      "metadata": {
        "id": "4R_hQ4bGnGDI"
      },
      "execution_count": null,
      "outputs": []
    },
    {
      "cell_type": "code",
      "source": [
        "#converting iterator to list object\n",
        "print (list(i))#Output:['name', 'age', 'city']"
      ],
      "metadata": {
        "id": "SKk16f1Rxapl"
      },
      "execution_count": null,
      "outputs": []
    },
    {
      "cell_type": "markdown",
      "source": [
        "\n",
        "---\n"
      ],
      "metadata": {
        "id": "jFZUU4h0xlz3"
      }
    },
    {
      "cell_type": "markdown",
      "source": [
        "#### fromkeys()\n",
        "Create a new dictionary with keys from iterable and values set to value.\n",
        "`fromkeys()` is a class method that returns a new dictionary. value defaults to `None`.\n",
        "~~~\n",
        "fromkeys(iterable,value)\n",
        "~~~"
      ],
      "metadata": {
        "id": "XlFEnStZnJF_"
      }
    },
    {
      "cell_type": "code",
      "source": [
        "#fromkeys()\n",
        "#fromkeys() method returns a dictionary with the specified keys and the specified value.\n",
        "a={'a','e','i','o','u'}\n",
        "b='vowels'\n",
        "d1=dict.fromkeys(a,b)\n",
        "print(d1)\n",
        "#Output: {'o': 'vowels', 'u': 'vowels', 'e': 'vowels', 'i': 'vowels', 'a': 'vowels'}\n",
        "#dictionary is unordered.\n",
        "\n",
        "\n",
        "#if value is not mentioned,it defaults to None.\n",
        "d2=dict.fromkeys(a)\n",
        "print (d2)#Output:{'e': None, 'a': None, 'u': None, 'i': None, 'o': None}"
      ],
      "metadata": {
        "id": "FhmYjBJPnQb9"
      },
      "execution_count": null,
      "outputs": []
    },
    {
      "cell_type": "markdown",
      "source": [
        "#### setdefault()\n",
        "`setdefault()` method returns the value of a key (if the key is in a dictionary).\n",
        "If not, it inserts a key with a value to a dictionary. If the key is only mentioned, it will insert key with value as `None`.    \n",
        "~~~\n",
        "setdefault(key,default)\n",
        "~~~"
      ],
      "metadata": {
        "id": "eBkBIdC4nTvr"
      }
    },
    {
      "cell_type": "code",
      "source": [
        "#setdefault - if key is not there , will add the key with value none\n",
        "person = {'name': 'karthi', 'age': 7}\n",
        "city = person.setdefault('city')\n",
        "print(person)\n",
        "#Output:{'name': 'karthi', 'age': 7, 'city': None}\n",
        "\n",
        "\n",
        "#setdefault- if key  is not  there , will add key and value specified\n",
        "person = {'name': 'karthi', 'age': 7}\n",
        "city = person.setdefault('city','chennai')\n",
        "print(person)\n",
        "#Output:{'name': 'karthi', 'age': 7, 'city': 'chennai'}\n",
        "\n",
        "\n",
        "#setdefault-> if key exists, returns the value of that specified key\n",
        "person = {'name': 'karthi', 'age': 7}\n",
        "age=person.setdefault('age',10)\n",
        "print(person.setdefault('age',10)) #Output:7\n",
        "print (person)\n",
        "#Output:{'name': 'karthi', 'age': 7}"
      ],
      "metadata": {
        "id": "vB1k3A2Bnet2"
      },
      "execution_count": null,
      "outputs": []
    },
    {
      "cell_type": "markdown",
      "source": [
        "### Updating the items in a dictionary "
      ],
      "metadata": {
        "id": "UqGWBniAnrfW"
      }
    },
    {
      "cell_type": "markdown",
      "source": [
        "**`update()`**    \n",
        "\n",
        "`update()` method is used to merge the second dictionary into the first dictionary. It will update the value of the first dictionary.\n",
        "It won’t create a new dictionary. It is used for merging two dictionaries.    \n",
        "\n",
        "`update()` method adds elements to a dictionary if the key is not in that dictionary. If the key is in a dictionary means, it will update the new `value.Update()` function won’t return any value.    \n",
        "\n",
        "`update(other)`\n",
        "\n",
        "`other` argument can be another dictionary object or an iterable of key/value pairs (as tuples or other iterables of length two). If keyword arguments are specified, a dictionary is then updated with those key/value pairs.   \n"
      ],
      "metadata": {
        "id": "iRdWWAodntSf"
      }
    },
    {
      "cell_type": "code",
      "source": [
        "#update() - combining - merging both dictionaries and updating first - dictionary\n",
        "first={'name':'karthi',\n",
        "   'age':7,\n",
        "   'city':'chennai',\n",
        "    }\n",
        "\n",
        "second={'name':'sarvesh',\n",
        "'age':3}  \n",
        "\n",
        "#update () function won't return any value.\n",
        "print(first.update(second))\n",
        "#Output: None\n",
        "\n",
        "print(first)\n",
        "#Output:{'name': 'sarvesh', 'age': 3, 'city': 'chennai'}"
      ],
      "metadata": {
        "id": "FQ64Gt45oKCO"
      },
      "execution_count": null,
      "outputs": []
    },
    {
      "cell_type": "markdown",
      "source": [
        "### Removing items from a dictionary"
      ],
      "metadata": {
        "id": "1WqFU55OoNKo"
      }
    },
    {
      "cell_type": "markdown",
      "source": [
        "**`popitem()`**    \n",
        "\n",
        "Remove and return a (key, value) pair from a dictionary. Pairs are returned in LIFO order. If a dictionary is empty, calling popitem() raises a KeyError. — python docs\n",
        "\n",
        "**`pop()`**    \n",
        "\n",
        "If the key is in a dictionary, remove it and return its value, else return default. If the default is not given and the key is not in a dictionary, a `KeyError` is raised.    \n",
        "\n",
        "\n",
        "**`pop(key,default)`**    \n"
      ],
      "metadata": {
        "id": "0u_wvqsroQtz"
      }
    },
    {
      "cell_type": "code",
      "source": [
        "d1 = {'name': 'karthi',\n",
        "      'age': 7,\n",
        "      'city': 'chennai',\n",
        "      }\n",
        "\n",
        "# popitem\n",
        "# The popitem() method removes and returns the last element (key, value) pair inserted into a dictionary.\n",
        "print(d1.popitem())  # Output:('city', 'chennai')\n",
        "print (type(d1.popitem()))#Output:<class 'tuple'>\n",
        "print(d1)  # Output:{'name': 'karthi', 'age': 7}\n",
        "\n",
        "\n",
        "# pop\n",
        "# pop() method removes and returns a value from a dictionary for  the given key.\n",
        "print(d1.pop('name'))  # Output:Karthi\n",
        "print(d1)  # Output: {'age': 7}\n",
        "\n",
        "\n",
        "# If key is not in dictionary and value is given as default argument means,it will return the default value.\n",
        "print(d1.pop(\"city\", \"Not found\"))  # Output: Not found\n",
        "\n",
        "\n",
        "# if key is not in dictionary  and default value not given means it will raise KeyError\n",
        "# print (d1.pop('rollno')) #Output: KeyError: 'rollno'"
      ],
      "metadata": {
        "id": "CF0N07CXohLq"
      },
      "execution_count": null,
      "outputs": []
    },
    {
      "cell_type": "markdown",
      "source": [
        "**`clear()`**    \n",
        "\n",
        "`clear()` will empty a dictionary.   Its return value is `None`.    \n",
        "\n",
        "**`del`** keyword is used to delete a dictionary itself.    \n",
        "\n",
        "We can also delete the key from a dictionary by using del keyword. If the key is not in a dictionary means, then it will raise `KeyError`.    \n"
      ],
      "metadata": {
        "id": "VoOdqTbBolGi"
      }
    },
    {
      "cell_type": "code",
      "source": [
        "d = {'name': 'karthi',\n",
        "      'age': 7,\n",
        "      'city': 'chennai',\n",
        "      }\n",
        "\n",
        "\n",
        "# If key is in dictionary means, it is removed from a dictionary.\n",
        "del d['name']\n",
        "print(d)  # Output: {'age': 7, 'city': 'chennai'}\n",
        "\n",
        "\n",
        "# If key is not in dictionary means KeyError is thrown.\n",
        "del d['state']# Output:KeyError: 'state'\n",
        "\n",
        "\n",
        "# clear - it will empty a dictionary.\n",
        "d.clear()\n",
        "# clear() method will return None.It will clear the original dictionary\n",
        "print(d.clear())  # Output: None.\n",
        "print(d)  # Output: {}\n",
        "\n",
        "# del - del keyword is used to delete a dictionary itself.\n",
        "del d\n",
        "# d1 is deleted and is not available.\n",
        "print (d) #Output: NameError: name 'd' is not defined"
      ],
      "metadata": {
        "id": "5Dj1Uhhpo4-H"
      },
      "execution_count": null,
      "outputs": []
    },
    {
      "cell_type": "markdown",
      "source": [
        "### **copy() vs deepcopy()**"
      ],
      "metadata": {
        "id": "Sr4c64Lqo83f"
      }
    },
    {
      "cell_type": "markdown",
      "source": [
        "**`copy()`** method returns the shallow copy of the existing dictionary. A shallow copy means a new dictionary value is updated with references to objects in the existing dictionary.  Akin to an alias.    \n",
        "\n",
        "If we change the value of immutable data types in the original dictionary, it is not reflected in the copied dictionary. But if we change the value of mutable datatypes like list means changes are reflected in the copied dictionary also.    \n",
        "\n",
        "To avoid this, we can use a `deep copy()`. In `deepcopy()`, if we change either mutable or immutable data types of the original dictionary, changes are not reflected in a deep copied dictionary.    \n"
      ],
      "metadata": {
        "id": "b1x2hTUJpDsf"
      }
    },
    {
      "cell_type": "code",
      "source": [
        "import copy   \n",
        "d={'Name':'karthi',\n",
        "   'Rollno':12,\n",
        "   'Marks':[100,90]\n",
        "    }\n",
        "\n",
        "d1=d.copy()\n",
        "print (d1) #Output: {'Name': 'karthi', 'Rollno': 12, 'Marks': [100, 90]}\n",
        "\n",
        "#modifying immutable data types\n",
        "d['Rollno']=5\n",
        "print (d) #Output: {'Name': 'karthi', 'Rollno': 5, 'Marks': [100, 90]}\n",
        "#changes are not reflected in copied dictionary.\n",
        "print (d1) #Output: {'Name': 'karthi', 'Rollno': 12, 'Marks': [100, 90]}\n",
        "\n",
        "# modifying mutable datatypes\n",
        "d['Marks'].append(99)\n",
        "print (d) #Output: {'Name': 'karthi', 'Rollno': 5, 'Marks': [100, 90, 99]}\n",
        "#changes are reflected in copied dictionary also.\n",
        "print (d1)#Output: {'Name': 'karthi', 'Rollno': 12, 'Marks': [100, 90, 99]}\n",
        "\n",
        "d2=copy.deepcopy(d1)\n",
        "print (d2) #Output: {'Name': 'karthi', 'Rollno': 12, 'Marks': [100, 90, 99]}\n",
        "\n",
        "#modifying immutabe data types\n",
        "d1['Rollno']=15\n",
        "print (d1) #Output:{'Name': 'karthi', 'Rollno': 15, 'Marks': [100, 90, 99]}\n",
        "#changes are not reflected in copied dictionary.\n",
        "print (d2) #Output: {'Name': 'karthi', 'Rollno': 12, 'Marks': [100, 90, 99]}\n",
        "\n",
        "# modifying mutable datatypes\n",
        "d1['Marks'].append(101)\n",
        "print (d1) #Output: {'Name': 'karthi', 'Rollno': 15, 'Marks': [100, 90, 99, 101]}\n",
        "#changes are not reflected in deep copied dictionary.\n",
        "print (d2)#Output:{'Name': 'karthi', 'Rollno': 12, 'Marks': [100, 90, 99]}"
      ],
      "metadata": {
        "id": "_VpTiR9opY-1"
      },
      "execution_count": null,
      "outputs": []
    },
    {
      "cell_type": "markdown",
      "source": [
        "### Dictionary view objects"
      ],
      "metadata": {
        "id": "WBS7c-Bepc-R"
      }
    },
    {
      "cell_type": "markdown",
      "source": [
        "The objects returned by:\n",
        " - `dict.keys()`\n",
        " - `dict.values()`\n",
        " - `dict.items()`     \n",
        " are view objects. They provide a dynamic view of a dictionary’s entries, which means that when a dictionary changes, the view reflects these changes.-python docs\n",
        "\n",
        "Dictionary views can be iterated over to yield their respective data and support membership tests.    \n",
        "\n",
        "\n",
        "**`iter(dictview)`**    \n",
        "\n",
        "Return an iterator over the keys, values, or items in a dictionary"
      ],
      "metadata": {
        "id": "a9hYx7_LpgPd"
      }
    },
    {
      "cell_type": "code",
      "source": [
        "# creating dictionary\n",
        "\n",
        "d = {'name': 'karthi',\n",
        "     'age': 7,\n",
        "     'city': 'chennai',\n",
        "     }\n",
        "\n",
        "#Returns key iterator object\n",
        "k=d.keys()\n",
        "print (iter(k))#Output:<dict_keyiterator object at 0x00A1E028>\n",
        "#converting iterator to list object\n",
        "print (list(iter(k)))#Output:['name', 'age', 'city']\n",
        "\n",
        "\n",
        "#Returns items iterator object\n",
        "i=d.items()\n",
        "print (iter(i))#Output:<dict_itemiterator object at 0x00A1E028>\n",
        "#looping through the iterator\n",
        "for i in iter(i):\n",
        "    print (i)\n",
        "'''\n",
        "('name', 'karthi')\n",
        "('age', 7)\n",
        "('city', 'chennai')\n",
        "'''\n",
        "\n",
        "\n",
        "#Return values iterator object\n",
        "v=d.values()\n",
        "print (iter(v))#Output:<dict_valueiterator object at 0x00A1E028>\n",
        "#converting iterator to list object\n",
        "print (list(iter(v)))#Output:['karthi', 7, 'chennai']"
      ],
      "metadata": {
        "id": "Amqo1Eqpp3Tk"
      },
      "execution_count": null,
      "outputs": []
    },
    {
      "cell_type": "markdown",
      "source": [
        "**`reversed(dictview)`**\n",
        "\n",
        "Return a reverse iterator over the keys, values, or items of a dictionary. The view will be iterated in reverse order of the insertion.-python docs"
      ],
      "metadata": {
        "id": "7HFQYFN0p-GW"
      }
    },
    {
      "cell_type": "code",
      "source": [
        "i = 7\n",
        "print (i)"
      ],
      "metadata": {
        "id": "R5jU3n4rAtkw"
      },
      "execution_count": null,
      "outputs": []
    },
    {
      "cell_type": "code",
      "source": [
        "# creating dictionary\n",
        "\n",
        "d = {'name': 'karthi',\n",
        "     'age': 7,\n",
        "     'city': 'chennai',\n",
        "     }\n",
        "\n",
        "#Returns reversed key iterator object\n",
        "k=d.keys()\n",
        "print (reversed(k))#Output:<dict_reversekeyiterator object at 0x010C3BB8>\n",
        "#converting iterator to list object\n",
        "print (list(reversed(k)))#Output:['city', 'age', 'name']\n",
        "\n",
        "\n",
        "#Returns reversed items iterator object\n",
        "i=d.items()\n",
        "print (reversed(i))#Output:<dict_itemiterator object at 0x00A1E028>\n",
        "\n",
        "#looping through the iterator\n",
        "for i in  reversed(i):\n",
        "    print (i)\n",
        "'''\n",
        "('city', 'chennai')\n",
        "('age', 7)\n",
        "('name', 'karthi')\n",
        "'''\n",
        "\n",
        "\n",
        "#Return reversed values iterator object\n",
        "v=d.values()\n",
        "print (reversed(v))#Output:<dict_reversevalueiterator object at 0x01143BE0>\n",
        "#converting iterator to list object\n",
        "print (list(reversed(v)))#Output:['chennai', 7, 'karthi']\n"
      ],
      "metadata": {
        "id": "Y11C6QvCqIhd"
      },
      "execution_count": null,
      "outputs": []
    },
    {
      "cell_type": "markdown",
      "source": [
        "### Looping through a dictionary\n"
      ],
      "metadata": {
        "id": "9cZ2cyuDqNNw"
      }
    },
    {
      "cell_type": "code",
      "source": [
        "#creating dictionary\n",
        "\n",
        "d={'name':'karthi',\n",
        "   'age':7,\n",
        "   'city':'chennai',\n",
        "    }\n",
        "    \n",
        "#Print only the keys\n",
        "\n",
        "for i in d:\n",
        "    print (i)\n",
        "'''    \n",
        "Output:  \n",
        "name\n",
        "age\n",
        "city\n",
        "'''\n",
        "\n",
        "#will print the (key,value) as a tuple   \n",
        "for i in d.items():\n",
        "    print (i)\n",
        "    \n",
        "'''\n",
        "Output:\n",
        "('name', 'karthi')\n",
        "('age', 7)\n",
        "('city', 'chennai')\n",
        "'''\n",
        "\n",
        "#will print the key,value in the format specified\n",
        "for i,j in d.items():\n",
        "    print(i,j)\n",
        "'''\n",
        "Output:\n",
        "name karthi\n",
        "age 7\n",
        "city chennai\n",
        "'''\n",
        "\n",
        "#will print only the keys    \n",
        "for i in d.keys():\n",
        "    print(i)\n",
        "'''\n",
        "Output:\n",
        "name\n",
        "age\n",
        "city\n",
        "'''\n",
        "    \n",
        "#will print only the values    \n",
        "for i in d.values():\n",
        "    print(i)\n",
        "    \n",
        "'''\n",
        "Output:\n",
        "karthi\n",
        "7\n",
        "chennai\n",
        "'''\n",
        "    "
      ],
      "metadata": {
        "id": "R2q1wA8PsR3s"
      },
      "execution_count": null,
      "outputs": []
    },
    {
      "cell_type": "markdown",
      "source": [
        "### Dictionary Operations"
      ],
      "metadata": {
        "id": "IKoWGwYOqXI6"
      }
    },
    {
      "cell_type": "markdown",
      "source": [
        "#### Membership Test\n",
        "**in, not in**\n",
        "\n",
        "`in` — Returns True if the key is present in a dictionary. Checks only key and not values."
      ],
      "metadata": {
        "id": "eoztcO_UqYhp"
      }
    },
    {
      "cell_type": "code",
      "source": [
        "d=dict([('red',1),('blue',2),('green',3)])\n",
        "print (d)#Output:{'red': 1, 'blue': 2, 'green': 3}\n",
        "\n",
        "\n",
        "#Checking whether the particular key is in dictionary or not.\n",
        "if 'red' in d:\n",
        "    print (\"True\")#Output:True\n",
        "\n",
        "\n",
        "if 'yellow' in d:\n",
        "    print (\"True\")\n",
        "else:\n",
        "    print (\"False\") #Output:False\n",
        "\n",
        "\n",
        "if \"yellow\" not in d:\n",
        "    print (\"True\")#Output:True"
      ],
      "metadata": {
        "id": "2w1RIQPJqiHu"
      },
      "execution_count": null,
      "outputs": []
    },
    {
      "cell_type": "markdown",
      "source": [
        "### Dictionary built-in functions   "
      ],
      "metadata": {
        "id": "h0WE7nRQqlxu"
      }
    },
    {
      "cell_type": "markdown",
      "source": [
        "1. `len()` — Returns the length (no of items) of a dictionary.    \n",
        "2. `list()`-Returns the list of all keys in a dictionary    \n",
        "3. `sorted()`-Returns the sorted list of keys in a dictionary.    \n",
        "4. `reversed()`-Return a reversed iterator over the keys of a dictionary.    "
      ],
      "metadata": {
        "id": "RFFyCgRZqp-i"
      }
    },
    {
      "cell_type": "code",
      "source": [
        "#creating dictionary by using iterables\n",
        "d=dict([('red',1),('blue',2),('green',3)])\n",
        "print (d)#Output:{'red': 1, 'blue': 2, 'green': 3}\n",
        "\n",
        "\n",
        "#Returns the length(number of keys)of dictionary\n",
        "print (len(d))#Output:3\n",
        "\n",
        "\n",
        "#Returns the list of keys in a dictionary\n",
        "print(list(d))#Output:['red', 'blue', 'green']\n",
        "\n",
        "\n",
        "#Returns the sorted list of keys in a dictionary(by default ascending order)\n",
        "print (sorted(d))#Output:['blue', 'green', 'red']\n",
        "\n",
        "\n",
        "#Returns the sorted list of keys in a dictionary in descending order.\n",
        "print (sorted(d,reverse=True))#Output:['red', 'green', 'blue']\n",
        "\n",
        "\n",
        "#Returns the reversed list of keys in a dictionary.Returns an iterator object.\n",
        "print (reversed(d))#Output:<dict_reversekeyiterator object at 0x005DEB90>\n",
        "#Iterator object is converted to list object\n",
        "print (list(reversed(d)))#Output:['green', 'blue', 'red']\n"
      ],
      "metadata": {
        "id": "4DjHPqJ-q4Vi"
      },
      "execution_count": null,
      "outputs": []
    },
    {
      "cell_type": "markdown",
      "source": [
        "4. `all()`: Returns True if all keys(not values) in a dictionary is `True` or if a dictionary is empty."
      ],
      "metadata": {
        "id": "cefxu_kQq5wb"
      }
    },
    {
      "cell_type": "markdown",
      "source": [
        "5. `any()`:Returns `True` if any `key`(not values) in a dictionary is `True`. If dictionary is empty returns `False`.  "
      ],
      "metadata": {
        "id": "1tK2Wg7HrDM8"
      }
    },
    {
      "cell_type": "code",
      "source": [
        "#Creating dictionary in which all keys are True.\n",
        "d={1:'apple',2:'orange',3:'banana'}\n",
        "print (all(d)) #Output:True\n",
        "print (any(d))#Output: True\n",
        "\n",
        "\n",
        "#Empty dictionary\n",
        "d1={}\n",
        "print (all(d1))#Output: True\n",
        "print (any(d1))#Output:False\n",
        "\n",
        "\n",
        "#Creating dictionary in which one key is False\n",
        "d2={0:'grapes',1:'apple',2:'orange',3:'banana'}\n",
        "print (all(d2))#Output:False\n",
        "print (any(d2))#Output:True\n",
        "\n",
        "\n",
        "#Creating dictionary in which all keys are False\n",
        "d3={0:'hello'}\n",
        "print (all(d3))#Output:False\n",
        "print (any(d3))#Output:False\n"
      ],
      "metadata": {
        "id": "4Qw__67xrAqy"
      },
      "execution_count": null,
      "outputs": []
    },
    {
      "cell_type": "markdown",
      "source": [
        "**Conclusion**     \n",
        "\n",
        "- Return type is view object    \n",
        "`keys()`    \n",
        "`values()`    \n",
        "`items()`    \n",
        "\n",
        "- Return type is List    \n",
        "`list(d)`,`sorted(d)`    \n",
        "\n",
        "- Return type is iterator    \n",
        "`iter(d)`, `reversed(d)`, `iter(dictview)`    \n",
        "\n",
        "- Return type is dictionary    \n",
        "`copy()`, `deepcopy()`, `fromkeys()`    \n",
        "\n",
        "- Return type is tuple    \n",
        "`popitem()`     \n",
        "\n",
        "- Return type is None    \n",
        "`clear()`- Doesn’t return anything. It will clear the original dictionary.    \n",
        "`update()`-Doesn’t return anything.It will update the original dictionary.   \n",
        " \n",
        "\n",
        "- Return type is integer    \n",
        "len()    \n",
        "\n",
        "- Return type is Boolean\n",
        "any(),all()    \n",
        "reversed(d)- supported from Python version 3.8     \n"
      ],
      "metadata": {
        "id": "VFo2QOPOrQjg"
      }
    },
    {
      "cell_type": "markdown",
      "source": [
        "\n",
        "\n",
        "---\n",
        "\n"
      ],
      "metadata": {
        "id": "8oZlsYTlaUPJ"
      }
    }
  ]
}