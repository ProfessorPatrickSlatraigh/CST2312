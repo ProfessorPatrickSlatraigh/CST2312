{
  "nbformat": 4,
  "nbformat_minor": 0,
  "metadata": {
    "colab": {
      "provenance": [],
      "authorship_tag": "ABX9TyNeIlCw4bqR67v0ADAI++UG",
      "include_colab_link": true
    },
    "kernelspec": {
      "name": "python3",
      "display_name": "Python 3"
    },
    "language_info": {
      "name": "python"
    }
  },
  "cells": [
    {
      "cell_type": "markdown",
      "metadata": {
        "id": "view-in-github",
        "colab_type": "text"
      },
      "source": [
        "<a href=\"https://colab.research.google.com/github/ProfessorPatrickSlatraigh/CST2312/blob/main/CST2312_LabExercises_regex.ipynb\" target=\"_parent\"><img src=\"https://colab.research.google.com/assets/colab-badge.svg\" alt=\"Open In Colab\"/></a>"
      ]
    },
    {
      "cell_type": "markdown",
      "source": [
        "# Lab Exercises: Regular Expressions   \n",
        "**CST2312**    \n",
        "**Group Assignments**       \n",
        "    \n",
        "Use Cases for Regular Expressions     \n",
        "    \n",
        "*Refer to the Colab notebook [CST2312 Class 17](https://bit.ly/cst2312cl17) as a reference.*    \n",
        "\n",
        "*Refer to the Cheatsheet for [regex](https://bit.ly/cst2312regex_cheatsheet)*   \n",
        "  \n"
      ],
      "metadata": {
        "id": "_6SPoRwVXW51"
      }
    },
    {
      "cell_type": "markdown",
      "source": [
        "Each group is assigned a use case:\n",
        "\n",
        " - Group 1: Password Validity    \n",
        " - Group 2: Email Format Checker\n",
        " - Group 3: URL Validity     \n",
        " - Group 4: Matching an HTML tag   \n",
        "\n",
        " See the details of your group's use case in the following sections of this notebook.  Organize your group to develop, test, and be ready to demonstrate a working use of regular expressions to satisfy the use case assigned to your group.   \n",
        "\n",
        " "
      ],
      "metadata": {
        "id": "kkPlsrHWkgHB"
      }
    },
    {
      "cell_type": "markdown",
      "source": [
        "##1. Password Validity   \n",
        "\n",
        "Write Python code which checks the validity of a password entered by the user according to the following requirements:    \n",
        "\n",
        " - Must have at least **8 characters**    \n",
        " - Must at least have an **upper case letter**    \n",
        " - Must at least have a **lowercase letter**    \n",
        " - Must at least have a **number**    \n",
        " - Must at least have a **symbol**     \n"
      ],
      "metadata": {
        "id": "U7bi8fegXltg"
      }
    },
    {
      "cell_type": "markdown",
      "source": [
        "*Write your Python code in the following code cell.*    \n",
        "*Add more code and text cells if you like.*    "
      ],
      "metadata": {
        "id": "n6pAQIC-ZEgB"
      }
    },
    {
      "cell_type": "code",
      "execution_count": null,
      "metadata": {
        "id": "iS3WPxsDXR9H"
      },
      "outputs": [],
      "source": []
    },
    {
      "cell_type": "markdown",
      "source": [
        "---"
      ],
      "metadata": {
        "id": "3qVcIwZyZQtu"
      }
    },
    {
      "cell_type": "markdown",
      "source": [
        "## 2. Email Format Checker    \n",
        "\n",
        "How many times have you seen the message “Invalid Email format” in a sign-up form?     \n",
        "\n",
        "If you are working on a back-end validation, Regular Expressions can help you validate this format in a single line of code, instead of having several different IF statements. \n",
        "\n",
        "Write Python code which asks the user for an email address and checks the validity of the email address entered.   \n",
        "\n"
      ],
      "metadata": {
        "id": "yPlFIV7FaIJ_"
      }
    },
    {
      "cell_type": "markdown",
      "source": [
        "*Write your Python code in the following code cell.*    \n",
        "*Add more code and text cells if you like.*    "
      ],
      "metadata": {
        "id": "PouBPP4UameY"
      }
    },
    {
      "cell_type": "code",
      "execution_count": null,
      "metadata": {
        "id": "_gLa66rwameZ"
      },
      "outputs": [],
      "source": []
    },
    {
      "cell_type": "markdown",
      "source": [
        "---"
      ],
      "metadata": {
        "id": "uvx3udlIameZ"
      }
    },
    {
      "cell_type": "markdown",
      "source": [
        "## 3. URL Validity      \n",
        "\n",
        "Write Python code which checks the validity of a URL entered by the user according to the following requirements:    \n",
        "\n",
        " - Must start with `http` or `https` or `ftp` followed by `://` \n",
        "    \n",
        " - Must match a valid domain name\n",
        "\n",
        " - Could contain a port specification (`http://www.cuny.com:80`)    \n",
        "\n",
        " - Could contain digit, letter, dots, hyphens, forward slashes, multiple times    \n"
      ],
      "metadata": {
        "id": "1vTX8T0BbsY3"
      }
    },
    {
      "cell_type": "markdown",
      "source": [
        "*Write your Python code in the following code cell.*    \n",
        "*Add more code and text cells if you like.*    "
      ],
      "metadata": {
        "id": "qoUEcKjldgKd"
      }
    },
    {
      "cell_type": "code",
      "execution_count": null,
      "metadata": {
        "id": "FiE8SjIYdgKd"
      },
      "outputs": [],
      "source": []
    },
    {
      "cell_type": "markdown",
      "source": [
        "---"
      ],
      "metadata": {
        "id": "jxsGQEN8dgKd"
      }
    },
    {
      "cell_type": "markdown",
      "source": [
        "## 4. Matching an HTML Tag    \n",
        "\n",
        "Write Python code which can read an HTML file and match an HTML tag.\n",
        "\n",
        "Copy the source code for a web page to test your code.   \n",
        "\n",
        "You may want to try Dr. Chuck Severance's simple web page at `https://dr-chuck.com/page1` as a first test. \n",
        "\n",
        "\n",
        " - The start tag must begin with `<` followed by one or more characters and end with `>`    \n",
        "\n",
        " - The end tag must start with `</` followed by one or more characters and end with `>`    \n",
        "\n",
        " - We must match the content inside a **TAG** element            \n"
      ],
      "metadata": {
        "id": "aIt6QRGmfGbv"
      }
    },
    {
      "cell_type": "markdown",
      "source": [
        "*Write your Python code in the following code cell.*    \n",
        "*Add more code and text cells if you like.*    "
      ],
      "metadata": {
        "id": "JjTosKEth8Wz"
      }
    },
    {
      "cell_type": "code",
      "execution_count": null,
      "metadata": {
        "id": "HvUEgjHSh8Wz"
      },
      "outputs": [],
      "source": []
    },
    {
      "cell_type": "markdown",
      "source": [
        "---"
      ],
      "metadata": {
        "id": "_4iT_yq9h8Wz"
      }
    }
  ]
}