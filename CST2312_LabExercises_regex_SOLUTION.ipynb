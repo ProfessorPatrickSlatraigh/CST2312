{
  "nbformat": 4,
  "nbformat_minor": 0,
  "metadata": {
    "colab": {
      "provenance": [],
      "collapsed_sections": [
        "CrXd1opkjbBE",
        "EntTyxRGjttE",
        "9rdG5qK3kDb3",
        "OBaPF5ijkZ7D"
      ],
      "authorship_tag": "ABX9TyNl2oX0sIJhyYTcacqVtdMn",
      "include_colab_link": true
    },
    "kernelspec": {
      "name": "python3",
      "display_name": "Python 3"
    },
    "language_info": {
      "name": "python"
    }
  },
  "cells": [
    {
      "cell_type": "markdown",
      "metadata": {
        "id": "view-in-github",
        "colab_type": "text"
      },
      "source": [
        "<a href=\"https://colab.research.google.com/github/ProfessorPatrickSlatraigh/CST2312/blob/main/CST2312_LabExercises_regex_SOLUTION.ipynb\" target=\"_parent\"><img src=\"https://colab.research.google.com/assets/colab-badge.svg\" alt=\"Open In Colab\"/></a>"
      ]
    },
    {
      "cell_type": "markdown",
      "source": [
        "# Lab Exercises: Regular Expressions  \n",
        "# **SOLUTION NOTEBOOK**    \n",
        "**CST2312 D222, Fall 2022**   \n",
        "\n",
        "Use Cases for Regular Expressions    \n",
        "\n",
        "*Refer to the Colab notebook [CST2312 Class 12](https://bit.ly/cst2312cl12) as a reference.*    \n",
        "\n",
        "*Refer to the Cheatsheet for [regex](https://bit.ly/cst2312regex_cheatsheet)*   \n",
        "  \n"
      ],
      "metadata": {
        "id": "_6SPoRwVXW51"
      }
    },
    {
      "cell_type": "markdown",
      "source": [
        "##1. Password Validity   \n",
        "\n",
        "Write Python code which checks the validity of a password entered by the user according to the following requirements:    \n",
        "\n",
        " - Must have at least **8 characters**    \n",
        " - Must at least have an **upper case letter**    \n",
        " - Must at least have a **lowercase letter**    \n",
        " - Must at least have a **number**    \n",
        " - Must at least have a **symbol**     \n"
      ],
      "metadata": {
        "id": "U7bi8fegXltg"
      }
    },
    {
      "cell_type": "markdown",
      "source": [
        "*Write your Python code in the following code cell.*    \n",
        "*Add more code and text cells if you like.*    "
      ],
      "metadata": {
        "id": "n6pAQIC-ZEgB"
      }
    },
    {
      "cell_type": "code",
      "execution_count": null,
      "metadata": {
        "id": "iS3WPxsDXR9H"
      },
      "outputs": [],
      "source": []
    },
    {
      "cell_type": "markdown",
      "source": [
        "#### Solution to 1. Password Validity"
      ],
      "metadata": {
        "id": "CrXd1opkjbBE"
      }
    },
    {
      "cell_type": "code",
      "source": [
        "r\"/^(?=.*[a-z])(?=.*[A-Z])(?=.*\\d)(?=.*\\W).{8,}$/g\""
      ],
      "metadata": {
        "id": "TIJ9QrwhjghL"
      },
      "execution_count": null,
      "outputs": []
    },
    {
      "cell_type": "markdown",
      "source": [
        "Essentially, we’re using something called “positive lookaheads” and are sections of the expression that the engine will search for inside the text, no matter where they are. Everything inside the `(?=...)` is the section of the expression that we care about.\n",
        "\n",
        "`(?=.*[a-z])` essentially means that it’ll match any character that is followed by a lowercase letter.    \n",
        "`(?=.*[A-Z])` just like the previous one, but instead of lowercase, it’ll match if the following character was uppercase.    \n",
        "`(?=.*\\d)` will match anything that is followed by a digit (a number).    \n",
        "`(?=.*\\W)` matches any character (other than a line break) that is followed by a symbol.    \n",
        "`.{8,}` makes sure the length of the match is at least, 8 characters (any character thanks to the dot there).    \n",
        "`^` and `$` make sure the match starts at the beginning of a word (thanks to the caret at the start of the expression) and ends with the word (thanks to the dollar sign). Essentially, only whole word matches are allowed. Partial matches aren’t considered.    \n",
        "\n",
        "If all the above conditions are met, then the match is returned, otherwise it won’t be a valid password.  "
      ],
      "metadata": {
        "id": "B4t1eEokjmyH"
      }
    },
    {
      "cell_type": "markdown",
      "source": [
        "---"
      ],
      "metadata": {
        "id": "3qVcIwZyZQtu"
      }
    },
    {
      "cell_type": "markdown",
      "source": [
        "## 2. Email Format Checker    \n",
        "\n",
        "How many times have you seen the message “Invalid Email format” in a sign-up form?     \n",
        "\n",
        "If you are working on a back-end validation, Regular Expressions can help you validate this format in a single line of code, instead of having several different IF statements. \n",
        "\n",
        "Write Python code which asks the user for an email address and checks the validity of the email address entered.   \n",
        "\n"
      ],
      "metadata": {
        "id": "yPlFIV7FaIJ_"
      }
    },
    {
      "cell_type": "markdown",
      "source": [
        "*Write your Python code in the following code cell.*    \n",
        "*Add more code and text cells if you like.*    "
      ],
      "metadata": {
        "id": "PouBPP4UameY"
      }
    },
    {
      "cell_type": "code",
      "execution_count": null,
      "metadata": {
        "id": "_gLa66rwameZ"
      },
      "outputs": [],
      "source": []
    },
    {
      "cell_type": "markdown",
      "source": [
        "#### Solution to 2. Email Format Checker    \n"
      ],
      "metadata": {
        "id": "EntTyxRGjttE"
      }
    },
    {
      "cell_type": "code",
      "source": [
        "r\"/^[a-zA-Z0-9.!#$%&’*+/=?^_`{|}~-]+@[a-zA-Z0-9-]+(?:\\.[a-zA-Z0-9-]+)*$/\""
      ],
      "metadata": {
        "id": "hdg-VehGjxvQ"
      },
      "execution_count": null,
      "outputs": []
    },
    {
      "cell_type": "markdown",
      "source": [
        "That is a lot, but if you look closely, you can identify all three parts of the address expected format in there:    \n",
        "\n",
        "First, we check if the username is valid, this is simply checking that all valid characters are being used and that at least one of them was added (that’s what the “+” at the end means):    \n",
        "\n",
        "`^[a-zA-Z0-9.!#$%&’*+/=?^_`{|}~-]+`    \n",
        "\n",
        "Then, we’re checking for the @ character and the host name:    \n",
        "\n",
        "`@[a-zA-Z0-9-]+`    \n",
        "\n",
        "Again, nothing fancy, the host name needs to be alphanumeric and have at least one character.    \n",
        "\n",
        "The last, optional part, takes care of checking the TLD (Top Level Domain), or basically the domain name extension:    \n",
        "\n",
        "`(?:\\.[a-zA-Z0-9-]+)*$/`    \n",
        "\n",
        "And you can tell this part is optional, because of the * at the end. That means 0 or more instances of that group (the group is delimited by the parenthesis) are required (so .com would match, but also .co.uk ). "
      ],
      "metadata": {
        "id": "zkFyKVW_j6uz"
      }
    },
    {
      "cell_type": "markdown",
      "source": [
        "---"
      ],
      "metadata": {
        "id": "uvx3udlIameZ"
      }
    },
    {
      "cell_type": "markdown",
      "source": [
        "## 3. URL Validity      \n",
        "\n",
        "Write Python code which checks the validity of a URL entered by the user according to the following requirements:    \n",
        "\n",
        " - Must start with `http` or `https` or `ftp` followed by `://` \n",
        "    \n",
        " - Must match a valid domain name\n",
        "\n",
        " - Could contain a port specification (`http://www.cuny.com:80`)    \n",
        "\n",
        " - Could contain digit, letter, dots, hyphens, forward slashes, multiple times    \n"
      ],
      "metadata": {
        "id": "1vTX8T0BbsY3"
      }
    },
    {
      "cell_type": "markdown",
      "source": [
        "*Write your Python code in the following code cell.*    \n",
        "*Add more code and text cells if you like.*    "
      ],
      "metadata": {
        "id": "qoUEcKjldgKd"
      }
    },
    {
      "cell_type": "code",
      "execution_count": null,
      "metadata": {
        "id": "FiE8SjIYdgKd"
      },
      "outputs": [],
      "source": []
    },
    {
      "cell_type": "markdown",
      "source": [
        "#### Solution to 3. URL Validity    \n"
      ],
      "metadata": {
        "id": "9rdG5qK3kDb3"
      }
    },
    {
      "cell_type": "code",
      "source": [
        "r\"^(http|https|ftp):[\\/]{2}([a-zA-Z0-9\\-\\.]+\\.[a-zA-Z]{2,4})(:[0-9]+)?\\/?([a-zA-Z0-9\\-\\._\\?\\,\\'\\/\\\\\\+&amp;%\\$#\\=~]*)\""
      ],
      "metadata": {
        "id": "44aMuorGkHUg"
      },
      "execution_count": null,
      "outputs": []
    },
    {
      "cell_type": "markdown",
      "source": [
        "The first scenario is pretty easy to solve with `^(http|https|ftp):[\\/]{2}`.\n",
        "To match the domain name we need to bear in mind that to be valid it can only contain letters, digits, hyphen and dots. In my example, I limited the number of characters after the punctuation from 2 to 4, but could be extended for new domains like .rocks or .codes. The domain name is matched by `([a-zA-Z0-9\\-\\.]+\\.[a-zA-Z]{2,4})`.\n",
        "\n",
        "The optional port specification is matched by the simple (:[0-9]+)?.\n",
        "\n",
        "A URL can contain multiple slashes and multiple characters repeated many times (see RFC3986), this is matched by using a range of characters in a group ([a-zA-Z0-9\\-\\._\\?\\,\\'\\/\\\\\\+&amp;%\\$#\\=~]*).\n",
        "It’s really useful to match every important element with a group capture (), because it will return only the matches we need. Remember that certain characters need to be escaped with \\.\n",
        "\n",
        "Below, every single subpattern explained:\n",
        "\n",
        " 1. `^` asserts position at start of the string    \n",
        "\n",
        " 2. capturing group `(http|https|ftp)`, captures `http` or `https` or `ftp`    \n",
        " \n",
        " 3. `:` escaped character, matches the character : literally    \n",
        "\n",
        " 4. `[\\/]{2}` matches exactly 2 times the escaped character /      \n",
        "\n",
        " 5. capturing group `([a-zA-Z0-9\\-\\.]+\\.[a-zA-Z]{2,4})`:    \n",
        "\n",
        " - `[a-zA-Z0-9\\-\\.]+` matches one and unlimited times character in the range between a and z, A and Z, 0 and 9, the character `-` literally and the character `.` literally    \n",
        "\n",
        " - `\\.` matches the character `.` literally    \n",
        "\n",
        " - `[a-zA-Z]{2,4}` matches a single character between 2 and 4 times between a and z or A and Z (case sensitive)    \n",
        "\n",
        " 6. capturing group `(:[0-9]+)?`:  \n",
        " - quantifier ? matches the group between zero or more times    \n",
        "\n",
        " - `:` matches the character : literally    \n",
        "\n",
        " ` `[0-9]+` matches a single character between 0 and 9 one or more times    \n",
        "\n",
        " 7. `\\/?` matches the character / literally zero or one time\n",
        "\n",
        " 8. capturing group ([a-zA-Z0-9\\-\\._\\?\\,\\'\\/\\\\\\+&amp;%\\$#\\=~]*):    \n",
        "\n",
        " -  `[a-zA-Z0-9\\-\\._\\?\\,\\'\\/\\\\\\+&amp;%\\$#\\=~]*` matches between zero and unlimited times a single character in the range a-z, A-Z, 0-9, the characters: `-._?,'/\\+&amp;%$#=~.`    \n"
      ],
      "metadata": {
        "id": "nUzqThUckK-q"
      }
    },
    {
      "cell_type": "markdown",
      "source": [
        "---"
      ],
      "metadata": {
        "id": "jxsGQEN8dgKd"
      }
    },
    {
      "cell_type": "markdown",
      "source": [
        "## 4. Matching an HTML Tag    \n",
        "\n",
        "Write Python code which cane read an HTML file and match an HTML tag.\n",
        "\n",
        "Copy the source code for a web page to test your code.   \n",
        "\n",
        "You may want to try Dr. Chuck Severance's simple web page at `https://dr-chuck.com/page1` as a first test. \n",
        "\n",
        "\n",
        " - The start tag must begin with `<` followed by one or more characters and end with `>`    \n",
        "\n",
        " - The end tag must start with `</` followed by one or more characters and end with `>`    \n",
        "\n",
        " - We must match the content inside a **TAG** element            \n"
      ],
      "metadata": {
        "id": "aIt6QRGmfGbv"
      }
    },
    {
      "cell_type": "markdown",
      "source": [
        "*Write your Python code in the following code cell.*    \n",
        "*Add more code and text cells if you like.*    "
      ],
      "metadata": {
        "id": "JjTosKEth8Wz"
      }
    },
    {
      "cell_type": "code",
      "execution_count": null,
      "metadata": {
        "id": "HvUEgjHSh8Wz"
      },
      "outputs": [],
      "source": []
    },
    {
      "cell_type": "markdown",
      "source": [
        "#### Solution to 4. Matching an HTML Tag    \n"
      ],
      "metadata": {
        "id": "OBaPF5ijkZ7D"
      }
    },
    {
      "cell_type": "code",
      "source": [
        "r\"<([\\w]+).*>(.*?)<\\/\\1>\""
      ],
      "metadata": {
        "id": "76c5NMwKkepp"
      },
      "execution_count": null,
      "outputs": []
    },
    {
      "cell_type": "markdown",
      "source": [
        "Matching the start tag and the content inside it’s pretty easy with `<([\\w]+).*>` and `(.*?)`, but in the pattern above I have added a useful thing: the reference to a capturing group.    \n",
        "Every capturing group defined by parentheses `()` could be referred to using its position number, `first)``(second)``(third)`, which will allow for further operations.    \n",
        "\n",
        "\n",
        "The expression above could be explained as:    \n",
        "\n",
        " - Start with `<`\n",
        " - Capture the tag name    \n",
        " - Followed by one or more chars    \n",
        " - Capture the content inside the tag    \n",
        " - The closing tag must be `</`tag name captured before`>`    \n",
        "\n",
        "Including only two capture groups in the expression, the tag name and the content, will return a very clear match, a list of tag names with related content.    \n",
        "\n",
        "Digging a little deeper to explain the subpatterns:\t\t\t\t\n",
        "\n",
        " 1. `<` matches the character `<` literally    \n",
        "\n",
        " 2. capturing group `([\\w]+)` matches any word character a-zA-Z0-9_ one or more times    \n",
        "\n",
        " 3. `.*` matches any character (except newline) between zero or more times     \n",
        "\n",
        " 4. `>` matches the character `>` literally    \n",
        "\n",
        " 5. capturing group `(.*?)`, matches any character (except newline), zero and more times    \n",
        "\n",
        " 6. `<` matches the characters `<` literally    \n",
        "\n",
        " 7. `\\/` matches the character / literally    \n",
        "\n",
        " 8. `\\1` matches the same text matched by the first capturing group: `([\\w]+)`    \n",
        "\n",
        " 9. `>` matches the characters > literally    \n",
        " "
      ],
      "metadata": {
        "id": "eXRHIUUdkjFe"
      }
    },
    {
      "cell_type": "markdown",
      "source": [
        "---"
      ],
      "metadata": {
        "id": "_4iT_yq9h8Wz"
      }
    }
  ]
}