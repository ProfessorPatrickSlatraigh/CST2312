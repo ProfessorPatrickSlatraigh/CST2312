{
  "cells": [
    {
      "cell_type": "markdown",
      "metadata": {
        "id": "view-in-github",
        "colab_type": "text"
      },
      "source": [
        "<a href=\"https://colab.research.google.com/github/ProfessorPatrickSlatraigh/CST2312/blob/main/CST2312_MidtermReview.ipynb\" target=\"_parent\"><img src=\"https://colab.research.google.com/assets/colab-badge.svg\" alt=\"Open In Colab\"/></a>"
      ]
    },
    {
      "cell_type": "markdown",
      "id": "9ec923b2",
      "metadata": {
        "id": "9ec923b2"
      },
      "source": [
        "# Midterm Review\n",
        "\n",
        "This notebook provides a conceptual review of Python programming topics covered on the midterm exam for CST2312. There are brief explanations and illustrative examples for each topic.\n",
        "  \n",
        "*This notebook can be accessed with the link -- https://bit.ly/cst2312midtermReview*\n"
      ]
    },
    {
      "cell_type": "markdown",
      "source": [
        "\n",
        "\n",
        "---\n",
        "\n"
      ],
      "metadata": {
        "id": "WbC_1Zcyr7NS"
      },
      "id": "WbC_1Zcyr7NS"
    },
    {
      "cell_type": "markdown",
      "id": "1d85beec",
      "metadata": {
        "id": "1d85beec"
      },
      "source": [
        "## Variables/Types - Variable assignment\n",
        "\n",
        "**Concept:** Review how to use variable assignment in the context of variables/types."
      ]
    },
    {
      "cell_type": "code",
      "execution_count": null,
      "id": "4c14dca6",
      "metadata": {
        "execution": {
          "iopub.execute_input": "2025-03-24T18:35:10.908526Z",
          "iopub.status.busy": "2025-03-24T18:35:10.908187Z",
          "iopub.status.idle": "2025-03-24T18:35:10.929861Z",
          "shell.execute_reply": "2025-03-24T18:35:10.928588Z"
        },
        "id": "4c14dca6"
      },
      "outputs": [],
      "source": [
        "x = 5\n",
        "y = 'Hello'\n",
        "print(type(x), type(y))"
      ]
    },
    {
      "cell_type": "code",
      "source": [
        "# Python example of use of the dir() function"
      ],
      "metadata": {
        "id": "kK0QxBNmm38m"
      },
      "id": "kK0QxBNmm38m",
      "execution_count": null,
      "outputs": []
    },
    {
      "cell_type": "code",
      "source": [
        "age = 30"
      ],
      "metadata": {
        "id": "fo6dEXTysDGc"
      },
      "id": "fo6dEXTysDGc",
      "execution_count": null,
      "outputs": []
    },
    {
      "source": [
        "price = 29.99"
      ],
      "cell_type": "code",
      "metadata": {
        "id": "gIcXSSTysSFo"
      },
      "id": "gIcXSSTysSFo",
      "execution_count": null,
      "outputs": []
    },
    {
      "cell_type": "code",
      "source": [
        "is_active = True"
      ],
      "metadata": {
        "id": "1DE17z9asZb-"
      },
      "id": "1DE17z9asZb-",
      "execution_count": null,
      "outputs": []
    },
    {
      "cell_type": "markdown",
      "source": [
        "\n",
        "\n",
        "---\n",
        "\n"
      ],
      "metadata": {
        "id": "fwfnD-RIm2jv"
      },
      "id": "fwfnD-RIm2jv"
    },
    {
      "cell_type": "markdown",
      "id": "e71e15c9",
      "metadata": {
        "id": "e71e15c9"
      },
      "source": [
        "## Functions - Defining functions\n",
        "\n",
        "**Concept:** Review how to use defining functions in the context of functions."
      ]
    },
    {
      "cell_type": "code",
      "execution_count": null,
      "id": "b406e631",
      "metadata": {
        "execution": {
          "iopub.execute_input": "2025-03-24T18:35:10.761024Z",
          "iopub.status.busy": "2025-03-24T18:35:10.760657Z",
          "iopub.status.idle": "2025-03-24T18:35:10.765858Z",
          "shell.execute_reply": "2025-03-24T18:35:10.764962Z"
        },
        "id": "b406e631"
      },
      "outputs": [],
      "source": [
        "def add(a, b):\n",
        "    return a + b\n",
        "print(add(2, 3))"
      ]
    },
    {
      "cell_type": "markdown",
      "id": "17374139",
      "metadata": {
        "id": "17374139"
      },
      "source": [
        "## Functions - Parameters and arguments\n",
        "\n",
        "**Concept:** Review how to use parameters and arguments in the context of functions."
      ]
    },
    {
      "cell_type": "code",
      "execution_count": null,
      "id": "d2e844e7",
      "metadata": {
        "execution": {
          "iopub.execute_input": "2025-03-24T18:35:10.779116Z",
          "iopub.status.busy": "2025-03-24T18:35:10.778724Z",
          "iopub.status.idle": "2025-03-24T18:35:10.783553Z",
          "shell.execute_reply": "2025-03-24T18:35:10.782859Z"
        },
        "id": "d2e844e7"
      },
      "outputs": [],
      "source": [
        "def add(a, b):\n",
        "    return a + b\n",
        "print(add(2, 3))"
      ]
    },
    {
      "cell_type": "code",
      "source": [
        "def passargs(x, y=0):\n",
        "    print(f\"The value of x is {x}, and the value of y is {y}\")\n",
        "passargs(1)"
      ],
      "metadata": {
        "id": "puChcn4inxkA"
      },
      "id": "puChcn4inxkA",
      "execution_count": null,
      "outputs": []
    },
    {
      "cell_type": "markdown",
      "source": [
        "Use of keyword arguments:"
      ],
      "metadata": {
        "id": "qWauUMuMstTl"
      },
      "id": "qWauUMuMstTl"
    },
    {
      "cell_type": "code",
      "source": [
        "def calculate_area(shape, **kwargs):\n",
        "    \"\"\"Calculates the area of a given shape.\n",
        "\n",
        "    Args:\n",
        "        shape: The type of shape ('rectangle', 'circle', or 'triangle').\n",
        "        **kwargs: Keyword arguments specific to the shape:\n",
        "            - rectangle: width and height\n",
        "            - circle: radius\n",
        "            - triangle: base and height\n",
        "\n",
        "    Returns:\n",
        "        The area of the shape, or None if the shape is invalid.\n",
        "    \"\"\"\n",
        "\n",
        "    if shape == 'rectangle':\n",
        "        width = kwargs.get('width')\n",
        "        height = kwargs.get('height')\n",
        "        if width is not None and height is not None:\n",
        "            return width * height\n",
        "    elif shape == 'circle':\n",
        "        radius = kwargs.get('radius')\n",
        "        if radius is not None:\n",
        "            return 3.14159 * radius**2  # Using pi approximation\n",
        "    elif shape == 'triangle':\n",
        "        base = kwargs.get('base')\n",
        "        height = kwargs.get('height')\n",
        "        if base is not None and height is not None:\n",
        "            return 0.5 * base * height\n",
        "\n",
        "    return None  # Invalid shape or missing arguments"
      ],
      "metadata": {
        "id": "Vi_hdWCwseeo"
      },
      "id": "Vi_hdWCwseeo",
      "execution_count": null,
      "outputs": []
    },
    {
      "cell_type": "code",
      "source": [
        "# Example usage:\n",
        "area1 = calculate_area('rectangle', width=5, height=3)\n",
        "area2 = calculate_area('circle', radius=2)\n",
        "area3 = calculate_area('triangle', base=4, height=6)\n",
        "\n",
        "print(f\"Area of rectangle: {area1}\")\n",
        "print(f\"Area of circle: {area2}\")\n",
        "print(f\"Area of triangle: {area3}\")"
      ],
      "metadata": {
        "id": "jxTWHXtcszek"
      },
      "id": "jxTWHXtcszek",
      "execution_count": null,
      "outputs": []
    },
    {
      "cell_type": "markdown",
      "source": [
        "\n",
        "\n",
        "---\n",
        "\n"
      ],
      "metadata": {
        "id": "GxmTbPhBpCLL"
      },
      "id": "GxmTbPhBpCLL"
    },
    {
      "cell_type": "markdown",
      "id": "4eff682f",
      "metadata": {
        "id": "4eff682f"
      },
      "source": [
        "## Files - File modes\n",
        "\n",
        "**Concept:** Review how to use file modes in the context of files."
      ]
    },
    {
      "cell_type": "code",
      "execution_count": null,
      "id": "83a9ebc0",
      "metadata": {
        "execution": {
          "iopub.execute_input": "2025-03-24T18:35:10.769673Z",
          "iopub.status.busy": "2025-03-24T18:35:10.769194Z",
          "iopub.status.idle": "2025-03-24T18:35:10.775064Z",
          "shell.execute_reply": "2025-03-24T18:35:10.774357Z"
        },
        "id": "83a9ebc0"
      },
      "outputs": [],
      "source": [
        "with open('data.txt', 'w') as f:\n",
        "    f.write('Sample data for file read example.\\nSample 2nd line.\\nSample third line.')\n",
        "\n",
        "with open('data.txt', 'r') as f:\n",
        "    content = f.read()\n",
        "    print(content)"
      ]
    },
    {
      "cell_type": "code",
      "source": [
        "with open('data.txt', 'r') as f:\n",
        "    next(f)  # Skip the first line\n",
        "    content = f.read()\n",
        "    # Process the remaining content\n",
        "    print(content)"
      ],
      "metadata": {
        "id": "d7bQru-htOoq"
      },
      "id": "d7bQru-htOoq",
      "execution_count": null,
      "outputs": []
    },
    {
      "cell_type": "markdown",
      "source": [
        "\n",
        "\n",
        "---\n",
        "\n"
      ],
      "metadata": {
        "id": "MxOsZGIRpgPm"
      },
      "id": "MxOsZGIRpgPm"
    },
    {
      "cell_type": "markdown",
      "id": "d610a8ec",
      "metadata": {
        "id": "d610a8ec"
      },
      "source": [
        "## For Loops - Nested loops\n",
        "\n",
        "**Concept:** Review how to use nested loops in the context of for loops."
      ]
    },
    {
      "cell_type": "code",
      "execution_count": null,
      "id": "a11692a8",
      "metadata": {
        "execution": {
          "iopub.execute_input": "2025-03-24T18:35:10.742679Z",
          "iopub.status.busy": "2025-03-24T18:35:10.742295Z",
          "iopub.status.idle": "2025-03-24T18:35:10.747365Z",
          "shell.execute_reply": "2025-03-24T18:35:10.746584Z"
        },
        "id": "a11692a8"
      },
      "outputs": [],
      "source": [
        "for i in range(3):\n",
        "    print(i)"
      ]
    },
    {
      "cell_type": "code",
      "source": [
        "for letter in 'Python':\n",
        "    if letter == 'h':\n",
        "        continue\n",
        "    print(letter)"
      ],
      "metadata": {
        "id": "J9Q_cGkfpjr6"
      },
      "id": "J9Q_cGkfpjr6",
      "execution_count": null,
      "outputs": []
    },
    {
      "cell_type": "code",
      "source": [
        "data = [[1, 2, 3], [4, 5, 6], [7, 8, 9]]\n",
        "\n",
        "# Calculate the sum of elements in each sublist\n",
        "sublist_sums = []\n",
        "for sublist in data:\n",
        "    total = 0\n",
        "    for item in sublist:\n",
        "        total += item\n",
        "    sublist_sums.append(total)\n",
        "\n",
        "print(sublist_sums)  # Output: [6, 15, 24]"
      ],
      "metadata": {
        "id": "C0PN1FOWtefz"
      },
      "id": "C0PN1FOWtefz",
      "execution_count": null,
      "outputs": []
    },
    {
      "cell_type": "markdown",
      "source": [
        "\n",
        "\n",
        "---\n",
        "\n"
      ],
      "metadata": {
        "id": "PvzT4nu6piBC"
      },
      "id": "PvzT4nu6piBC"
    },
    {
      "cell_type": "markdown",
      "id": "5459ea29",
      "metadata": {
        "id": "5459ea29"
      },
      "source": [
        "## Lists - List comprehensions\n",
        "\n",
        "**Concept:** Review how to use list comprehensions in the context of lists."
      ]
    },
    {
      "cell_type": "code",
      "execution_count": null,
      "id": "a10c4fa4",
      "metadata": {
        "execution": {
          "iopub.execute_input": "2025-03-24T18:35:10.706130Z",
          "iopub.status.busy": "2025-03-24T18:35:10.705666Z",
          "iopub.status.idle": "2025-03-24T18:35:10.719236Z",
          "shell.execute_reply": "2025-03-24T18:35:10.718574Z"
        },
        "id": "a10c4fa4"
      },
      "outputs": [],
      "source": [
        "[x**2 for x in range(5)]"
      ]
    },
    {
      "cell_type": "code",
      "execution_count": null,
      "id": "30626667",
      "metadata": {
        "execution": {
          "iopub.execute_input": "2025-03-24T18:35:10.838253Z",
          "iopub.status.busy": "2025-03-24T18:35:10.837886Z",
          "iopub.status.idle": "2025-03-24T18:35:10.841908Z",
          "shell.execute_reply": "2025-03-24T18:35:10.841238Z"
        },
        "id": "30626667"
      },
      "outputs": [],
      "source": [
        "# Python example using the .get() method"
      ]
    },
    {
      "cell_type": "markdown",
      "source": [
        "\n",
        "\n",
        "---\n",
        "\n"
      ],
      "metadata": {
        "id": "XampMeeNtiL8"
      },
      "id": "XampMeeNtiL8"
    },
    {
      "cell_type": "markdown",
      "id": "b48e4abb",
      "metadata": {
        "id": "b48e4abb"
      },
      "source": [
        "## Lists - List methods\n",
        "\n",
        "**Concept:** Review how to use list methods in the context of lists."
      ]
    },
    {
      "cell_type": "code",
      "execution_count": null,
      "id": "41f7a8a9",
      "metadata": {
        "execution": {
          "iopub.execute_input": "2025-03-24T18:35:10.787909Z",
          "iopub.status.busy": "2025-03-24T18:35:10.787246Z",
          "iopub.status.idle": "2025-03-24T18:35:10.792842Z",
          "shell.execute_reply": "2025-03-24T18:35:10.791967Z"
        },
        "id": "41f7a8a9"
      },
      "outputs": [],
      "source": [
        "fruits = ['apple', 'banana']\n",
        "fruits.append('cherry')\n",
        "print(fruits)"
      ]
    },
    {
      "cell_type": "code",
      "source": [
        "fruits = ['apple', 'banana', 'cherry']\n",
        "fruits.insert(1, 'orange')  # Insert 'orange' at index 1\n",
        "print(fruits)  # Output: ['apple', 'orange', 'banana', 'cherry']"
      ],
      "metadata": {
        "id": "LXNDfkT7t_lO"
      },
      "id": "LXNDfkT7t_lO",
      "execution_count": null,
      "outputs": []
    },
    {
      "cell_type": "code",
      "source": [
        "fruits = ['apple', 'banana']\n",
        "more_fruits = ['cherry', 'orange']\n",
        "fruits.extend(more_fruits)\n",
        "print(fruits)  # Output: ['apple', 'banana', 'cherry', 'orange']"
      ],
      "metadata": {
        "id": "DBMIcx0JuCGF"
      },
      "id": "DBMIcx0JuCGF",
      "execution_count": null,
      "outputs": []
    },
    {
      "cell_type": "code",
      "source": [
        "fruits = ['apple', 'banana', 'cherry', 'banana']\n",
        "fruits.remove('banana')  # Removes the first 'banana'\n",
        "print(fruits)  # Output: ['apple', 'cherry', 'banana']"
      ],
      "metadata": {
        "id": "6-qzi1u7uDlS"
      },
      "id": "6-qzi1u7uDlS",
      "execution_count": null,
      "outputs": []
    },
    {
      "cell_type": "code",
      "source": [
        "fruits = ['apple', 'banana', 'cherry']\n",
        "removed_fruit = fruits.pop(1)  # Remove and return element at index 1\n",
        "print(removed_fruit)  # Output: banana\n",
        "print(fruits)  # Output: ['apple', 'cherry']"
      ],
      "metadata": {
        "id": "v1i0_1J5uFLq"
      },
      "id": "v1i0_1J5uFLq",
      "execution_count": null,
      "outputs": []
    },
    {
      "cell_type": "code",
      "source": [
        "my_list = [7, 8, 3, 3, 1, 4, 5]\n",
        "my_list.sort()\n",
        "print(my_list)  # Output: [1, 3, 3, 4, 5, 7, 8]"
      ],
      "metadata": {
        "id": "GJh9lDb0l9Y6"
      },
      "id": "GJh9lDb0l9Y6",
      "execution_count": null,
      "outputs": []
    },
    {
      "cell_type": "code",
      "source": [
        "my_list = [7, 8, 3, 3, 1, 4, 5]\n",
        "my_list.reverse()\n",
        "print(my_list)  # Output: [5, 4, 1, 3, 3, 8, 7]"
      ],
      "metadata": {
        "id": "gxHDWIBSuPsj"
      },
      "id": "gxHDWIBSuPsj",
      "execution_count": null,
      "outputs": []
    },
    {
      "cell_type": "code",
      "source": [
        "fruits = ['apple', 'banana', 'cherry']\n",
        "index = fruits.index('banana')\n",
        "print(index)  # Output: 1"
      ],
      "metadata": {
        "id": "9THuv_QRt5-4"
      },
      "id": "9THuv_QRt5-4",
      "execution_count": null,
      "outputs": []
    },
    {
      "cell_type": "code",
      "source": [
        "fruits = ['apple', 'banana', 'cherry', 'banana']\n",
        "count = fruits.count('banana')\n",
        "print(count)  # Output: 2"
      ],
      "metadata": {
        "id": "ZiPQ688NuKbS"
      },
      "id": "ZiPQ688NuKbS",
      "execution_count": null,
      "outputs": []
    },
    {
      "cell_type": "markdown",
      "id": "d0f320b1",
      "metadata": {
        "id": "d0f320b1"
      },
      "source": [
        "## Lists - List indexing and slicing\n",
        "\n",
        "**Concept:** Review how to use list indexing and slicing in the context of lists."
      ]
    },
    {
      "cell_type": "code",
      "execution_count": null,
      "id": "501b5e12",
      "metadata": {
        "execution": {
          "iopub.execute_input": "2025-03-24T18:35:10.805907Z",
          "iopub.status.busy": "2025-03-24T18:35:10.805591Z",
          "iopub.status.idle": "2025-03-24T18:35:10.810994Z",
          "shell.execute_reply": "2025-03-24T18:35:10.810352Z"
        },
        "id": "501b5e12"
      },
      "outputs": [],
      "source": [
        "fruits = [['apple', 'banana'], ['cherry'], ['mango'], ['pizza']]\n",
        "print(fruits[1])\n",
        "print(fruits[:2])"
      ]
    },
    {
      "cell_type": "markdown",
      "source": [
        "\n",
        "\n",
        "---\n",
        "\n"
      ],
      "metadata": {
        "id": "2ZlsjzQ_l5EC"
      },
      "id": "2ZlsjzQ_l5EC"
    },
    {
      "cell_type": "markdown",
      "id": "a791c84a",
      "metadata": {
        "id": "a791c84a"
      },
      "source": [
        "## Strings - String formatting\n",
        "\n",
        "**Concept:** Review how to use string formatting in the context of strings."
      ]
    },
    {
      "cell_type": "code",
      "execution_count": null,
      "id": "88e953ad",
      "metadata": {
        "execution": {
          "iopub.execute_input": "2025-03-24T18:35:10.797442Z",
          "iopub.status.busy": "2025-03-24T18:35:10.796997Z",
          "iopub.status.idle": "2025-03-24T18:35:10.802259Z",
          "shell.execute_reply": "2025-03-24T18:35:10.801662Z"
        },
        "id": "88e953ad"
      },
      "outputs": [],
      "source": [
        "greeting = 'Hello'\n",
        "print(greeting.upper()) # Output: HELLO"
      ]
    },
    {
      "cell_type": "code",
      "source": [
        "shout = \"I'M EXCITED!\"\n",
        "print(shout.lower())  # Output: i'm excited!"
      ],
      "metadata": {
        "id": "BJkZAVKKuhiD"
      },
      "id": "BJkZAVKKuhiD",
      "execution_count": null,
      "outputs": []
    },
    {
      "cell_type": "code",
      "source": [
        "text = \"   extra spaces   \"\n",
        "print(text.strip())  # Output: extra spaces"
      ],
      "metadata": {
        "id": "gOsyMKJ_uv9i"
      },
      "id": "gOsyMKJ_uv9i",
      "execution_count": null,
      "outputs": []
    },
    {
      "cell_type": "code",
      "source": [
        "words = \"This is a sentence.\"\n",
        "print(words.split())  # Output: ['This', 'is', 'a', 'sentence.']"
      ],
      "metadata": {
        "id": "6QcyHzyiu2t7"
      },
      "id": "6QcyHzyiu2t7",
      "execution_count": null,
      "outputs": []
    },
    {
      "cell_type": "code",
      "source": [
        "words = ['This', 'is', 'a', 'sentence.']\n",
        "print(' '.join(words))  # Output: This is a sentence."
      ],
      "metadata": {
        "id": "7KmHpRpSu4-w"
      },
      "id": "7KmHpRpSu4-w",
      "execution_count": null,
      "outputs": []
    },
    {
      "cell_type": "code",
      "source": [
        "sentence = \"I like cats.\"\n",
        "print(sentence.replace(\"cats\", \"dogs\"))  # Output: I like dogs."
      ],
      "metadata": {
        "id": "Ywbls5Lxuyn9"
      },
      "id": "Ywbls5Lxuyn9",
      "execution_count": null,
      "outputs": []
    },
    {
      "cell_type": "code",
      "source": [
        "text = \"Hello world\"\n",
        "print(text.startswith(\"Hello\"))  # Output: True"
      ],
      "metadata": {
        "id": "NaKBX8Bju7VE"
      },
      "id": "NaKBX8Bju7VE",
      "execution_count": null,
      "outputs": []
    },
    {
      "cell_type": "code",
      "source": [
        "text = \"This is a test.\"\n",
        "print(text.find(\"is\"))  # Output: 2"
      ],
      "metadata": {
        "id": "waUDXsb0u_lp"
      },
      "id": "waUDXsb0u_lp",
      "execution_count": null,
      "outputs": []
    },
    {
      "cell_type": "code",
      "source": [
        "text = \"This is a test.\"\n",
        "print(text.count(\"is\"))  # Output: 2"
      ],
      "metadata": {
        "id": "enF-zEidvDMW"
      },
      "id": "enF-zEidvDMW",
      "execution_count": null,
      "outputs": []
    },
    {
      "cell_type": "markdown",
      "source": [
        "What other string methods do you know?"
      ],
      "metadata": {
        "id": "z6Q-XJTOlB_S"
      },
      "id": "z6Q-XJTOlB_S"
    },
    {
      "cell_type": "markdown",
      "source": [
        "\n",
        "\n",
        "---\n",
        "\n"
      ],
      "metadata": {
        "id": "K0_W1BG7l088"
      },
      "id": "K0_W1BG7l088"
    },
    {
      "cell_type": "markdown",
      "id": "8a74823c",
      "metadata": {
        "id": "8a74823c"
      },
      "source": [
        "## Conditionals - Boolean expressions\n",
        "\n",
        "**Concept:** Review how to use boolean expressions in the context of conditionals."
      ]
    },
    {
      "cell_type": "code",
      "execution_count": null,
      "id": "fd823b7d",
      "metadata": {
        "execution": {
          "iopub.execute_input": "2025-03-24T18:35:10.899692Z",
          "iopub.status.busy": "2025-03-24T18:35:10.899291Z",
          "iopub.status.idle": "2025-03-24T18:35:10.904543Z",
          "shell.execute_reply": "2025-03-24T18:35:10.903740Z"
        },
        "id": "fd823b7d"
      },
      "outputs": [],
      "source": [
        "x = 10\n",
        "if x > 5:\n",
        "    print('Greater than 5')"
      ]
    },
    {
      "cell_type": "markdown",
      "source": [
        "What conditional operators and terms are available?"
      ],
      "metadata": {
        "id": "vG0qIKIirHQo"
      },
      "id": "vG0qIKIirHQo"
    },
    {
      "cell_type": "code",
      "source": [
        "# Python example of boolean evaluation of tuples"
      ],
      "metadata": {
        "id": "bJalawI6muuv"
      },
      "id": "bJalawI6muuv",
      "execution_count": null,
      "outputs": []
    },
    {
      "cell_type": "markdown",
      "source": [
        "\n",
        "\n",
        "---\n",
        "\n"
      ],
      "metadata": {
        "id": "LWnpfnHgm0fy"
      },
      "id": "LWnpfnHgm0fy"
    },
    {
      "cell_type": "markdown",
      "id": "bb920657",
      "metadata": {
        "id": "bb920657"
      },
      "source": [
        "## While Loops - Loop conditions\n",
        "\n",
        "**Concept:** Review how to use loop conditions in the context of while loops."
      ]
    },
    {
      "cell_type": "code",
      "execution_count": null,
      "id": "82edde54",
      "metadata": {
        "execution": {
          "iopub.execute_input": "2025-03-24T18:35:10.872756Z",
          "iopub.status.busy": "2025-03-24T18:35:10.872375Z",
          "iopub.status.idle": "2025-03-24T18:35:10.877559Z",
          "shell.execute_reply": "2025-03-24T18:35:10.876525Z"
        },
        "id": "82edde54"
      },
      "outputs": [],
      "source": [
        "i = 0\n",
        "while i < 3:\n",
        "    print(i)\n",
        "    i += 1"
      ]
    },
    {
      "cell_type": "code",
      "source": [
        "# Python example using while True:"
      ],
      "metadata": {
        "id": "3qAWs-l9mVm0"
      },
      "id": "3qAWs-l9mVm0",
      "execution_count": null,
      "outputs": []
    },
    {
      "cell_type": "markdown",
      "id": "1ea5d7aa",
      "metadata": {
        "id": "1ea5d7aa"
      },
      "source": [
        "## While Loop Statements - Break\n",
        "\n",
        "**Concept:** Review how to use break in the context of statements."
      ]
    },
    {
      "cell_type": "code",
      "execution_count": null,
      "id": "45374692",
      "metadata": {
        "execution": {
          "iopub.execute_input": "2025-03-24T18:35:10.943946Z",
          "iopub.status.busy": "2025-03-24T18:35:10.943652Z",
          "iopub.status.idle": "2025-03-24T18:35:10.949049Z",
          "shell.execute_reply": "2025-03-24T18:35:10.948342Z"
        },
        "id": "45374692"
      },
      "outputs": [],
      "source": [
        "for i in range(5):\n",
        "    if i == 3:\n",
        "        break\n",
        "    print(i)"
      ]
    },
    {
      "cell_type": "markdown",
      "metadata": {
        "id": "J1KLtOMzvTQ_"
      },
      "source": [
        "## While Loop Statements - Continue\n",
        "\n",
        "**Concept:** Review how to use continue in the context of statements."
      ],
      "id": "J1KLtOMzvTQ_"
    },
    {
      "cell_type": "code",
      "execution_count": null,
      "metadata": {
        "execution": {
          "iopub.execute_input": "2025-03-24T18:35:10.943946Z",
          "iopub.status.busy": "2025-03-24T18:35:10.943652Z",
          "iopub.status.idle": "2025-03-24T18:35:10.949049Z",
          "shell.execute_reply": "2025-03-24T18:35:10.948342Z"
        },
        "id": "rWadMT_TvTQ_"
      },
      "outputs": [],
      "source": [
        "for i in range(5):\n",
        "    if i == 3:\n",
        "        continue\n",
        "    print(i)"
      ],
      "id": "rWadMT_TvTQ_"
    },
    {
      "cell_type": "markdown",
      "source": [
        "\n",
        "\n",
        "---\n",
        "\n"
      ],
      "metadata": {
        "id": "cUoO3LvPlsuG"
      },
      "id": "cUoO3LvPlsuG"
    },
    {
      "cell_type": "markdown",
      "id": "59eadde5",
      "metadata": {
        "id": "59eadde5"
      },
      "source": [
        "## Dictionaries - Creating dictionaries\n",
        "\n",
        "**Concept:** Review how to use creating dictionaries in the context of dictionaries."
      ]
    },
    {
      "cell_type": "code",
      "execution_count": null,
      "id": "abe7d66b",
      "metadata": {
        "execution": {
          "iopub.execute_input": "2025-03-24T18:35:10.991532Z",
          "iopub.status.busy": "2025-03-24T18:35:10.990959Z",
          "iopub.status.idle": "2025-03-24T18:35:10.995100Z",
          "shell.execute_reply": "2025-03-24T18:35:10.994523Z"
        },
        "id": "abe7d66b"
      },
      "outputs": [],
      "source": [
        "employee = {\n",
        "    \"name\": \"Alice\",\n",
        "    \"age\": 30,\n",
        "    \"role\": \"Engineer\"\n",
        "}"
      ]
    },
    {
      "cell_type": "code",
      "source": [
        "student = dict(name=\"Bob\", age=22, major=\"Computer Science\")"
      ],
      "metadata": {
        "id": "7tdPEISdv_OR"
      },
      "id": "7tdPEISdv_OR",
      "execution_count": null,
      "outputs": []
    },
    {
      "cell_type": "code",
      "source": [
        "data = {}  # Create an empty dictionary\n",
        "data[\"city\"] = \"New York\"\n",
        "data[\"population\"] = 8_500_000  # Using underscores for readability\n",
        "data[\"country\"] = \"USA\""
      ],
      "metadata": {
        "id": "wuxtgmjEwYAJ"
      },
      "id": "wuxtgmjEwYAJ",
      "execution_count": null,
      "outputs": []
    },
    {
      "cell_type": "markdown",
      "id": "5cb50ec4",
      "metadata": {
        "id": "5cb50ec4"
      },
      "source": [
        "## Dictionaries - Accessing/modifying items\n",
        "\n",
        "**Concept:** Review how to use accessing/modifying items in the context of dictionaries."
      ]
    },
    {
      "cell_type": "markdown",
      "source": [
        "Using the key to access a value:"
      ],
      "metadata": {
        "id": "YAP_JUiWx_uJ"
      },
      "id": "YAP_JUiWx_uJ"
    },
    {
      "cell_type": "code",
      "execution_count": null,
      "id": "07cae671",
      "metadata": {
        "execution": {
          "iopub.execute_input": "2025-03-24T18:35:10.983161Z",
          "iopub.status.busy": "2025-03-24T18:35:10.982742Z",
          "iopub.status.idle": "2025-03-24T18:35:10.987117Z",
          "shell.execute_reply": "2025-03-24T18:35:10.986357Z"
        },
        "id": "07cae671"
      },
      "outputs": [],
      "source": [
        "employee = {\"name\": \"Alice\", \"age\": 30, \"role\": \"Engineer\"}\n",
        "name = employee[\"name\"]\n",
        "print(name)  # Output: Alice"
      ]
    },
    {
      "cell_type": "markdown",
      "source": [
        "Using the get() method:"
      ],
      "metadata": {
        "id": "mnXXtKk_yD5L"
      },
      "id": "mnXXtKk_yD5L"
    },
    {
      "cell_type": "code",
      "source": [
        "employee = {\"name\": \"Alice\", \"age\": 30, \"role\": \"Engineer\"}\n",
        "age = employee.get(\"age\")\n",
        "print(age)  # Output: 30\n",
        "\n",
        "department = employee.get(\"department\", \"Unknown\")\n",
        "print(department)  # Output: Unknown"
      ],
      "metadata": {
        "id": "5NpVW-UjxSNp"
      },
      "id": "5NpVW-UjxSNp",
      "execution_count": null,
      "outputs": []
    },
    {
      "cell_type": "markdown",
      "source": [
        "Adding a new key-value pair:"
      ],
      "metadata": {
        "id": "3bR7I2bJyJAI"
      },
      "id": "3bR7I2bJyJAI"
    },
    {
      "cell_type": "code",
      "source": [
        "employee = {\"name\": \"Alice\", \"age\": 30}\n",
        "employee[\"role\"] = \"Engineer\"\n",
        "print(employee)  # Output: {'name': 'Alice', 'age': 30, 'role': 'Engineer'}"
      ],
      "metadata": {
        "id": "LrHOgW56x1BX"
      },
      "id": "LrHOgW56x1BX",
      "execution_count": null,
      "outputs": []
    },
    {
      "cell_type": "markdown",
      "source": [
        "Updating an existing value:"
      ],
      "metadata": {
        "id": "GKlbmQGqyMIm"
      },
      "id": "GKlbmQGqyMIm"
    },
    {
      "cell_type": "code",
      "source": [
        "employee = {\"name\": \"Alice\", \"age\": 30}\n",
        "employee[\"age\"] = 31\n",
        "print(employee)  # Output: {'name': 'Alice', 'age': 31}"
      ],
      "metadata": {
        "id": "2Us6FF0Sx3hg"
      },
      "id": "2Us6FF0Sx3hg",
      "execution_count": null,
      "outputs": []
    },
    {
      "cell_type": "markdown",
      "source": [
        "Deleting a key-value pair:"
      ],
      "metadata": {
        "id": "sIDnD1fuyOvB"
      },
      "id": "sIDnD1fuyOvB"
    },
    {
      "cell_type": "code",
      "source": [
        "employee = {\"name\": \"Alice\", \"age\": 30, \"role\": \"Engineer\"}\n",
        "del employee[\"age\"]\n",
        "print(employee)  # Output: {'name': 'Alice', 'role': 'Engineer'}"
      ],
      "metadata": {
        "id": "Ymks6ccSx5vv"
      },
      "id": "Ymks6ccSx5vv",
      "execution_count": null,
      "outputs": []
    },
    {
      "cell_type": "markdown",
      "source": [
        "Using the update() method to add or update multiple items:"
      ],
      "metadata": {
        "id": "EeYyFXJayRQE"
      },
      "id": "EeYyFXJayRQE"
    },
    {
      "cell_type": "code",
      "source": [
        "employee = {\"name\": \"Alice\", \"age\": 30}\n",
        "employee.update({\"role\": \"Engineer\", \"department\": \"Development\"})\n",
        "print(employee)\n",
        "# Output: {'name': 'Alice', 'age': 30, 'role': 'Engineer', 'department': 'Development'}"
      ],
      "metadata": {
        "id": "CE5D6WjYx8QG"
      },
      "id": "CE5D6WjYx8QG",
      "execution_count": null,
      "outputs": []
    },
    {
      "cell_type": "markdown",
      "source": [
        "\n",
        "\n",
        "---\n",
        "\n"
      ],
      "metadata": {
        "id": "u2s9LuRnrajM"
      },
      "id": "u2s9LuRnrajM"
    },
    {
      "cell_type": "markdown",
      "source": [
        "## Statements - Import\n",
        "\n",
        "**Concept:** Review how to use libraries"
      ],
      "metadata": {
        "id": "M5BDQ4nMyZwm"
      },
      "id": "M5BDQ4nMyZwm"
    },
    {
      "cell_type": "markdown",
      "source": [
        "Importing the entire math library:"
      ],
      "metadata": {
        "id": "a7UT-NacyhSM"
      },
      "id": "a7UT-NacyhSM"
    },
    {
      "cell_type": "code",
      "source": [
        "import math\n",
        "result = math.sqrt(25)\n",
        "print(result)"
      ],
      "metadata": {
        "id": "H04BhTFWywCa"
      },
      "id": "H04BhTFWywCa",
      "execution_count": null,
      "outputs": []
    },
    {
      "cell_type": "markdown",
      "source": [
        "This imports all functions and constants defined in the math library. You can then access them using the `math.` prefix."
      ],
      "metadata": {
        "id": "9COyGhLp0N_4"
      },
      "id": "9COyGhLp0N_4"
    },
    {
      "cell_type": "markdown",
      "source": [
        " Importing specific elements from the math library:"
      ],
      "metadata": {
        "id": "5yEEJGMuy3sx"
      },
      "id": "5yEEJGMuy3sx"
    },
    {
      "cell_type": "code",
      "source": [
        "from math import sqrt, pi\n",
        "result = sqrt(25)\n",
        "print(result)\n",
        "print(pi)"
      ],
      "metadata": {
        "id": "-WodXv4Qy4bR"
      },
      "id": "-WodXv4Qy4bR",
      "execution_count": null,
      "outputs": []
    },
    {
      "cell_type": "markdown",
      "source": [
        "This imports only the sqrt function and the pi constant from the math library. You can use them directly without the `math.` prefix."
      ],
      "metadata": {
        "id": "uBwsZEW_0HW4"
      },
      "id": "uBwsZEW_0HW4"
    },
    {
      "cell_type": "markdown",
      "source": [
        "Importing a library with an alias:"
      ],
      "metadata": {
        "id": "tpeeS-2szD0Y"
      },
      "id": "tpeeS-2szD0Y"
    },
    {
      "cell_type": "code",
      "source": [
        "import numpy as np\n",
        "array = np.array([1, 2, 3])\n",
        "print(array)"
      ],
      "metadata": {
        "id": "PBIvzUJCzEm9"
      },
      "id": "PBIvzUJCzEm9",
      "execution_count": null,
      "outputs": []
    },
    {
      "cell_type": "markdown",
      "source": [
        "This imports the numpy library and assigns it the alias np. This is a common convention for numpy and makes it shorter to use in your code."
      ],
      "metadata": {
        "id": "AzuPGuIF0CDg"
      },
      "id": "AzuPGuIF0CDg"
    },
    {
      "cell_type": "markdown",
      "source": [
        "Importing a module from a package:"
      ],
      "metadata": {
        "id": "vA1eHtIvzNu_"
      },
      "id": "vA1eHtIvzNu_"
    },
    {
      "cell_type": "code",
      "source": [
        "from os import path"
      ],
      "metadata": {
        "id": "PEe-eaYWzOd1"
      },
      "id": "PEe-eaYWzOd1",
      "execution_count": null,
      "outputs": []
    },
    {
      "cell_type": "code",
      "source": [
        "print(path.exists(\"data.txt\"))"
      ],
      "metadata": {
        "id": "RwBzW781zRCA"
      },
      "id": "RwBzW781zRCA",
      "execution_count": null,
      "outputs": []
    },
    {
      "cell_type": "markdown",
      "source": [
        "This imports the path module from the os package. This allows you to use functions and classes defined in the path module, such as `path.exists()` to check if a file exists."
      ],
      "metadata": {
        "id": "aHXunar9zz3M"
      },
      "id": "aHXunar9zz3M"
    },
    {
      "cell_type": "markdown",
      "source": [
        "Importing all elements from a module:"
      ],
      "metadata": {
        "id": "Yl3LiZlVzraD"
      },
      "id": "Yl3LiZlVzraD"
    },
    {
      "cell_type": "code",
      "source": [
        "from collections import *"
      ],
      "metadata": {
        "id": "Qealo1SiztRB"
      },
      "id": "Qealo1SiztRB",
      "execution_count": null,
      "outputs": []
    },
    {
      "cell_type": "markdown",
      "source": [
        "This imports all elements (functions, classes, variables) from the collections module. However, this is generally discouraged as it can lead to naming conflicts and make your code harder to read."
      ],
      "metadata": {
        "id": "DN-MeDRhzvmZ"
      },
      "id": "DN-MeDRhzvmZ"
    },
    {
      "cell_type": "markdown",
      "source": [
        "\n",
        "\n",
        "---\n",
        "\n"
      ],
      "metadata": {
        "id": "iVZ1WO5c0Zz6"
      },
      "id": "iVZ1WO5c0Zz6"
    }
  ],
  "metadata": {
    "language_info": {
      "name": "python"
    },
    "colab": {
      "provenance": [],
      "include_colab_link": true
    },
    "kernelspec": {
      "name": "python3",
      "display_name": "Python 3"
    }
  },
  "nbformat": 4,
  "nbformat_minor": 5
}