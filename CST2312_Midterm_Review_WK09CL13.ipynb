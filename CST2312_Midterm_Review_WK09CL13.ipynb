{
  "nbformat": 4,
  "nbformat_minor": 0,
  "metadata": {
    "colab": {
      "name": "CST2312_Midterm-Review_WK09CL13.ipynb",
      "provenance": [],
      "collapsed_sections": [],
      "include_colab_link": true
    },
    "kernelspec": {
      "name": "python3",
      "display_name": "Python 3"
    }
  },
  "cells": [
    {
      "cell_type": "markdown",
      "metadata": {
        "id": "view-in-github",
        "colab_type": "text"
      },
      "source": [
        "<a href=\"https://colab.research.google.com/github/ProfessorPatrickSlatraigh/CST2312/blob/main/CST2312_Midterm_Review_WK09CL13.ipynb\" target=\"_parent\"><img src=\"https://colab.research.google.com/assets/colab-badge.svg\" alt=\"Open In Colab\"/></a>"
      ]
    },
    {
      "cell_type": "markdown",
      "metadata": {
        "id": "geogQir6sKrY"
      },
      "source": [
        "# **CST2312 Midterm Review**\n",
        "**Week 09, Class 13**\n",
        "\n",
        "\n",
        "\n",
        "*   Literals\n",
        "*   Strings\n",
        "*   Lists\n",
        "*   Tuples\n",
        "*   Files\n",
        "\n",
        "\n"
      ]
    },
    {
      "cell_type": "markdown",
      "metadata": {
        "id": "UHzZNTIlsKM9"
      },
      "source": [
        "\n",
        "\n",
        "---\n",
        "\n"
      ]
    },
    {
      "cell_type": "markdown",
      "metadata": {
        "id": "OvnP6p6KUut2"
      },
      "source": [
        "# **Readings** from the  textbook: ( [https://www.py4e.com/lessons/](https://www.py4e.com/lessons/))\n",
        "\n",
        "\n",
        "\n",
        "* [Variables](https://)...  (Chapter 3)\n",
        "* [Strings](https://www.py4e.com/lessons/strings) (Chapter 7)\n",
        "* [Lists](https://www.py4e.com/lessons/lists) (Chapter 9)\n",
        "* [Tuples](https://www.py4e.com/lessons/tuples) (Chapter 11)\n"
      ]
    },
    {
      "cell_type": "markdown",
      "metadata": {
        "id": "v83ddP-WsL3H"
      },
      "source": [
        ""
      ]
    },
    {
      "cell_type": "markdown",
      "metadata": {
        "id": "fA3cw0WfsLNb"
      },
      "source": [
        ""
      ]
    },
    {
      "cell_type": "markdown",
      "metadata": {
        "id": "7M5GCbmssLFC"
      },
      "source": [
        ""
      ]
    },
    {
      "cell_type": "markdown",
      "metadata": {
        "id": "W-tk0b7-hRE2"
      },
      "source": [
        "# **String Variables**"
      ]
    },
    {
      "cell_type": "markdown",
      "metadata": {
        "id": "yC6FtaqV6pKk"
      },
      "source": [
        "String variables are used to store textual data, characters and sequences of characters. Can be specified by surrounding some text with single ' or double \" quotes.\n",
        "\n"
      ]
    },
    {
      "cell_type": "code",
      "metadata": {
        "id": "UubHr1jG60AT"
      },
      "source": [
        "str_1 = 'Hello World!'\n",
        "print(str_1)"
      ],
      "execution_count": null,
      "outputs": []
    },
    {
      "cell_type": "code",
      "metadata": {
        "id": "xvBpLz2O61x7"
      },
      "source": [
        "str_2 = \"Hello World!\"\n",
        "print(str_2)"
      ],
      "execution_count": null,
      "outputs": []
    },
    {
      "cell_type": "code",
      "metadata": {
        "id": "mRIs6f_AVT0N"
      },
      "source": [
        "str_1 == str_2\n"
      ],
      "execution_count": null,
      "outputs": []
    },
    {
      "cell_type": "markdown",
      "metadata": {
        "id": "rKX05V4v65Nt"
      },
      "source": [
        "*Multiline strings, or docstrings*\n",
        "\n",
        "If we have a piece of text with multiple lines, then triple quotes (either ' ' ' or \" \" \") can be used to surround the text.  By encapsulating text in triple quotes we are able to define a string with more than one line -- essentially a string which may include newline (/n) characters.\n",
        "\n",
        "Later, we will see how the first docstring in a function definition is used by the help() function to provide information on a function's operation.\n",
        "\n",
        "A docstring may be encapsulated with either triple single-quotes or triple double-quotes so long as the beginning and ending triple quotes are the same type (single or double)."
      ]
    },
    {
      "cell_type": "code",
      "metadata": {
        "id": "AdvXQs6164Js"
      },
      "source": [
        "str_2 = \"\"\"\n",
        "Now, as other Europeans mull how to restart their \n",
        "economies while still protecting human life, the Spanish \n",
        "have become an early bellwether for how a second wave \n",
        "might happen, how hard it might hit and how it could be contained.\n",
        "\n",
        "\"Perhaps Spain is the canary in the coal mine,\" said Prof. Antoni Trilla, \n",
        "an epidemiologist at the Barcelona Institute for Global Health, \n",
        "a research group. \"Many countries may follow us — but hopefully \n",
        "not at the same speed or with the same number of cases that we are facing.\"\n",
        "\n",
        "The median age of sufferers has dropped to around 37 from 60. \n",
        "Asymptomatic cases account for more than 50 percent of positive \n",
        "results, which is partly because of a fourfold rise in testing. \n",
        "And the health institutions feel much better prepared.\n",
        "\"\"\"\n",
        "print(str_2)"
      ],
      "execution_count": null,
      "outputs": []
    },
    {
      "cell_type": "code",
      "metadata": {
        "id": "3W68Jf2u7mmj"
      },
      "source": [
        "str_3 = \"\"\"\n",
        "If we want to have multiple lines in the string\n",
        "then we can use triple quotes: This is a multiline\n",
        "string!\n",
        "\"\"\"\n",
        "print(str_3)"
      ],
      "execution_count": null,
      "outputs": []
    },
    {
      "cell_type": "markdown",
      "metadata": {
        "id": "8diPi-2c7pCr"
      },
      "source": [
        "**Operations on Strings**"
      ]
    },
    {
      "cell_type": "code",
      "metadata": {
        "id": "NeJ0g7qe7qdD"
      },
      "source": [
        "# concatenation\n",
        "\n",
        "# note that + concatenates strings\n",
        "\n",
        "str1 = \"hello\"\n",
        "str2 = \"world\"\n",
        "message = str1 + \" \" + str2 + \"!\"\n",
        "print(message)"
      ],
      "execution_count": null,
      "outputs": []
    },
    {
      "cell_type": "code",
      "metadata": {
        "id": "vNMboqvf7yZr"
      },
      "source": [
        "# Notice the difference of the + operation when operating on text vs. numeric variables:\n",
        "\n",
        "x = 41\n",
        "x = x + 1\n",
        "print(x)\n",
        "print (type(x))"
      ],
      "execution_count": null,
      "outputs": []
    },
    {
      "cell_type": "code",
      "metadata": {
        "id": "AWVUCXzdWs5C"
      },
      "source": [
        "x = 41.0\n",
        "x = x + 1\n",
        "print(x)\n",
        "print (type(x))"
      ],
      "execution_count": null,
      "outputs": []
    },
    {
      "cell_type": "code",
      "metadata": {
        "id": "8aMNxtyS73Fb"
      },
      "source": [
        "x = \"41\"\n",
        "x = x + \"1\"\n",
        "print(x)\n",
        "print(type(x))"
      ],
      "execution_count": null,
      "outputs": []
    },
    {
      "cell_type": "code",
      "metadata": {
        "id": "7W7RMgPk77kb"
      },
      "source": [
        "# string length\n",
        "\n",
        "word = \"Python is the word. And on and on and on....\"\n",
        "print(len(word))"
      ],
      "execution_count": null,
      "outputs": []
    },
    {
      "cell_type": "code",
      "metadata": {
        "id": "8_ZEnEzi8BAD"
      },
      "source": [
        "print(word)\n",
        "print(\"The length of the text above is \", len(word), \"characters\")"
      ],
      "execution_count": null,
      "outputs": []
    },
    {
      "cell_type": "markdown",
      "metadata": {
        "id": "afBphs-Z9A-b"
      },
      "source": [
        "**Special characters**\n",
        "\n",
        "When we use strings, you will notice that we often want to use some \"special characters\". These special characters consist of the backslash character (\\\\) followed by another character.\n",
        "\n",
        "**Tab character** \\t: For example, if we want to create an output of multiple columns, with each columns being separated with a tab from each other, we can use the tab character, which is represented as \\t."
      ]
    },
    {
      "cell_type": "code",
      "metadata": {
        "id": "uTXfOqyF9DhE"
      },
      "source": [
        "# Example: List the first name, last name, and email of a person, in columns\n",
        "# Separate the columns using a tab character\n",
        "str_a =\"First Name\\tLast Name\\tEmail\"\n",
        "str_b =\"Aaron\\tRodgers\\taaron@nfl.com\"\n",
        "str_c =\"Giannis\\tAntetokounmpo\\tgiannis@nba.com\"\n",
        "print(str_a)\n",
        "print(str_b)\n",
        "print(str_c)"
      ],
      "execution_count": null,
      "outputs": []
    },
    {
      "cell_type": "markdown",
      "metadata": {
        "id": "3TzqJMqe9rAE"
      },
      "source": [
        "**New line character** \\n: This is a special character that we use to represent a new line.\n",
        "\n"
      ]
    },
    {
      "cell_type": "code",
      "metadata": {
        "id": "0f9L11pR9qe0"
      },
      "source": [
        "# Notice that we end the strings below with the \\n character, \n",
        "# which is the \"new line\" special character\n",
        "str_d = \"Hello World!\\nHello World Twice!\"\n",
        "print(str_d)"
      ],
      "execution_count": null,
      "outputs": []
    },
    {
      "cell_type": "markdown",
      "metadata": {
        "id": "v719BNtw94UW"
      },
      "source": [
        "**Backslash character** \\\\: In general, backslash (\\\\) is used to introduce special characters. If we want to type the backslash character itself, we do it by typing backslash twice in a row: \\\\."
      ]
    },
    {
      "cell_type": "code",
      "metadata": {
        "id": "xtRwadLA97Zj"
      },
      "source": [
        "print(\"I want to print backslash: \\\\\")\n"
      ],
      "execution_count": null,
      "outputs": []
    },
    {
      "cell_type": "code",
      "metadata": {
        "id": "XwESlLA398-b"
      },
      "source": [
        "str3 = 'This is a string within single quotes that can contain \"double quotes\" as part of the string'\n",
        "print(str3)"
      ],
      "execution_count": null,
      "outputs": []
    },
    {
      "cell_type": "code",
      "metadata": {
        "id": "2pm1AeLa-C-F"
      },
      "source": [
        "\n",
        "str4 = 'If we want to have \\'single quotes\\' in single quoted string we should escape them'\n",
        "print(str4)"
      ],
      "execution_count": null,
      "outputs": []
    },
    {
      "cell_type": "code",
      "metadata": {
        "id": "RHyEtfec-GDk"
      },
      "source": [
        "str5 = \"Similarly, if we want to have \\\"double quotes\\\" in double quoted string we should escape them\\n\"\n",
        "print(str5)"
      ],
      "execution_count": null,
      "outputs": []
    },
    {
      "cell_type": "markdown",
      "metadata": {
        "id": "5nDDDAhx-K2T"
      },
      "source": [
        "**Splitting Strings: split and join**\n",
        "\n",
        "Since we talked about special characters, let’s talk now about splitting strings, using the split() function.\n",
        "\n",
        "* longstring.split(separator): split the first string (longstring) at every occurrence of the second string (separator) Outputs a list (see below).\n",
        "* connector.join(list): join is the \"reverse\" of split, and joins all the elements of the list, using the connector string in front."
      ]
    },
    {
      "cell_type": "code",
      "metadata": {
        "id": "0jN7V4Fd-RBU"
      },
      "source": [
        "print(\"practical data science\".split(\" \"))"
      ],
      "execution_count": null,
      "outputs": []
    },
    {
      "cell_type": "markdown",
      "metadata": {
        "id": "cxuLOfoWi3gu"
      },
      "source": [
        "By default, the split() method will split on spaces (if no split character is specified)."
      ]
    },
    {
      "cell_type": "code",
      "metadata": {
        "id": "ZOQ15pO6i8o1"
      },
      "source": [
        "print(\"practical data science\".split())"
      ],
      "execution_count": null,
      "outputs": []
    },
    {
      "cell_type": "markdown",
      "metadata": {
        "id": "IOiteKKZjKl8"
      },
      "source": [
        "The split() method will use another character as a delimiter when the string of that character is passed as an argument."
      ]
    },
    {
      "cell_type": "code",
      "metadata": {
        "id": "yWIBlyvm-ST0"
      },
      "source": [
        "print(\"billgates@microsoft.com\".split(\"@\"))\n"
      ],
      "execution_count": null,
      "outputs": []
    },
    {
      "cell_type": "markdown",
      "metadata": {
        "id": "bSrQGQLKlEqJ"
      },
      "source": [
        "*ProTip: split()*"
      ]
    },
    {
      "cell_type": "markdown",
      "metadata": {
        "id": "JWjnOmiojVYf"
      },
      "source": [
        "Their is a second, optional argument to the split() method which is an integer of the maximum items to return from the split."
      ]
    },
    {
      "cell_type": "code",
      "metadata": {
        "id": "P_Uh0bFcjqAe"
      },
      "source": [
        "print(\"practical data science is your friend\".split(\" \", 1))"
      ],
      "execution_count": null,
      "outputs": []
    },
    {
      "cell_type": "markdown",
      "metadata": {
        "id": "6asGV5MCkrZ0"
      },
      "source": [
        "Notice that after the maximum number of split items is reached, the remainder of the string is included as the final item in the list."
      ]
    },
    {
      "cell_type": "code",
      "metadata": {
        "id": "awQBdOOTk7E-"
      },
      "source": [
        "print(\"practical data science is your friend\".split(\" \", 2))"
      ],
      "execution_count": null,
      "outputs": []
    },
    {
      "cell_type": "code",
      "metadata": {
        "id": "rw0Hrw76-Ywr"
      },
      "source": [
        "str_a =\"First Name\\tLast Name\\tEmail\"\n",
        "str_b =\"Aaron\\tRodgers\\taaron@nfl.com\"\n",
        "str_c =\"Giannis\\tAntetokounmpo\\tgiannis@nba.com\"\n",
        "print(str_a.split('\\t'))\n",
        "print(str_b.split('\\t'))\n",
        "print(str_c.split('\\t'))"
      ],
      "execution_count": null,
      "outputs": []
    },
    {
      "cell_type": "code",
      "metadata": {
        "id": "UI8oUEP6-g08",
        "colab": {
          "base_uri": "https://localhost:8080/"
        },
        "outputId": "cca4b846-33f9-49fa-c742-03a64bf03a8b"
      },
      "source": [
        "#Notice that when we split a string and the delimeter \n",
        "#character does not appear, then we get back the string \n",
        "#itself, but converted into a list with a single element.\n",
        "\n",
        "print(\"hello\".split(\" \"))\n"
      ],
      "execution_count": 6,
      "outputs": [
        {
          "output_type": "stream",
          "name": "stdout",
          "text": [
            "['hello']\n"
          ]
        }
      ]
    },
    {
      "cell_type": "markdown",
      "metadata": {
        "id": "Y90q7Y-A-w97"
      },
      "source": [
        "**Exercise**\n",
        "\n",
        "Consider the string billgates@microsoft.com. Write code that finds the username of the email address and the domain of the email address, using the split() command."
      ]
    },
    {
      "cell_type": "code",
      "metadata": {
        "id": "CYEGia-kZh2J"
      },
      "source": [
        "# here is a solution"
      ],
      "execution_count": null,
      "outputs": []
    },
    {
      "cell_type": "markdown",
      "metadata": {
        "id": "s_LQxSBH-_OM"
      },
      "source": [
        "**Indexing and Slicing: Accessing parts of the string**\n",
        "\n",
        "*Indexing*\n",
        "\n",
        "Strings can be indexed (subscripted), with the first character having index 0."
      ]
    },
    {
      "cell_type": "code",
      "metadata": {
        "id": "NMutrhpW_JHj"
      },
      "source": [
        "word = \"Python\"\n",
        "print(word)"
      ],
      "execution_count": null,
      "outputs": []
    },
    {
      "cell_type": "code",
      "metadata": {
        "id": "eA-1-Daz_KIm"
      },
      "source": [
        "word[0]  # character in position 0\n",
        "print(word[0])"
      ],
      "execution_count": null,
      "outputs": []
    },
    {
      "cell_type": "code",
      "metadata": {
        "id": "h_UxzEBS_LFz"
      },
      "source": [
        "word[1]\n",
        "print(word[1])"
      ],
      "execution_count": null,
      "outputs": []
    },
    {
      "cell_type": "code",
      "metadata": {
        "id": "RJFLNtXq_NyE"
      },
      "source": [
        "word[5]  # character in position 5\n",
        "print(word[5])"
      ],
      "execution_count": null,
      "outputs": []
    },
    {
      "cell_type": "markdown",
      "metadata": {
        "id": "m6QKaXak_P4b"
      },
      "source": [
        "**Negative indexing**\n",
        "\n",
        "Indices may also be negative numbers, to start counting from the right:"
      ]
    },
    {
      "cell_type": "code",
      "metadata": {
        "id": "jVKMT9Pu_Swt"
      },
      "source": [
        "word[-1]  # last character \n",
        "print(word[-1])"
      ],
      "execution_count": null,
      "outputs": []
    },
    {
      "cell_type": "code",
      "metadata": {
        "id": "0uhFwRg8_TSC"
      },
      "source": [
        "word[-2]  # second-last character\n",
        "print(word[-2])"
      ],
      "execution_count": null,
      "outputs": []
    },
    {
      "cell_type": "code",
      "metadata": {
        "id": "LipPotqg_WV8"
      },
      "source": [
        "word[-6]\n",
        "print(word[-6])"
      ],
      "execution_count": null,
      "outputs": []
    },
    {
      "cell_type": "markdown",
      "metadata": {
        "id": "YNLK2BcR_dZ0"
      },
      "source": [
        "**Slicing**\n",
        "\n",
        "In addition to indexing, slicing is also supported. While indexing is used to obtain individual characters, slicing allows you to obtain a substring:"
      ]
    },
    {
      "cell_type": "code",
      "metadata": {
        "id": "lEGnRmcc_hec"
      },
      "source": [
        "word[0:2]  # characters from position 0 (included) to 2 (excluded)\n",
        "print(word)\n",
        "print(word[0:2])"
      ],
      "execution_count": null,
      "outputs": []
    },
    {
      "cell_type": "code",
      "metadata": {
        "id": "c-vZ4enO_ikd"
      },
      "source": [
        "word[2:5]  # characters from position 2 (included) to 5 (excluded)\n",
        "print(word)\n",
        "print(word[2:5])"
      ],
      "execution_count": null,
      "outputs": []
    },
    {
      "cell_type": "code",
      "metadata": {
        "id": "QqDml4cM_jhl"
      },
      "source": [
        "word[2:]  # characters from position 2 (included) to the end\n",
        "print(word[2:])"
      ],
      "execution_count": null,
      "outputs": []
    },
    {
      "cell_type": "code",
      "metadata": {
        "id": "-SR2fWR6_kbc"
      },
      "source": [
        "word[:3]  # characters from beginning (position 0) to position 3 (excluded)\n",
        "print(word[:3])"
      ],
      "execution_count": null,
      "outputs": []
    },
    {
      "cell_type": "code",
      "metadata": {
        "id": "Dk2UmwqS_lZs"
      },
      "source": [
        "word[-3:]  # last three characters\n",
        "print(word[-3:])"
      ],
      "execution_count": null,
      "outputs": []
    },
    {
      "cell_type": "code",
      "metadata": {
        "id": "RlmeDtZp_mVe"
      },
      "source": [
        "word[-3:-1]  # penultimate two characters\n",
        "print(word[-3:-1])"
      ],
      "execution_count": null,
      "outputs": []
    },
    {
      "cell_type": "code",
      "metadata": {
        "id": "wrmj4CjM_nbN"
      },
      "source": [
        "word[1:-1]\n",
        "print(word[1:-1])"
      ],
      "execution_count": null,
      "outputs": []
    },
    {
      "cell_type": "markdown",
      "metadata": {
        "id": "UXMIUOSh_sEu"
      },
      "source": [
        "**Exercise**\n",
        "\n",
        "Assign the string 'Information and Data Management' to a Python variable.\n",
        "Print the word 'Information' by using the indexing/slicing approach.\n",
        "Print the word 'Data' by using the negative indexing/slicing approach."
      ]
    },
    {
      "cell_type": "code",
      "metadata": {
        "id": "en6pJjjoAIWs"
      },
      "source": [
        "# here is my solution"
      ],
      "execution_count": null,
      "outputs": []
    },
    {
      "cell_type": "markdown",
      "metadata": {
        "id": "xEvodtGj5KMv"
      },
      "source": [
        "**Complex Data Structures: Lists (and Tuples)**\n",
        "\n",
        "Python’s primitive data types: numeric types, strings, and booleans. We are now going to examine how these basic types can be composed together, in more complex structures. We will start by reviewing lists.\n",
        "\n",
        "**Basics of Lists**\n",
        "\n",
        "\n",
        "*Creating Lists*\n",
        "\n",
        "A list, sometimes called and array, or a vector, is an ordered collection of values.\n",
        "\n",
        "In Python, lists are specified by square brackets, [ ], containing zero or more values, separated by commas.\n",
        "\n",
        "For example:"
      ]
    },
    {
      "cell_type": "code",
      "metadata": {
        "id": "le9BBI3Y5i20"
      },
      "source": [
        "number_list = [1, 2, 3, 0, 5, 10, 11]\n",
        "print(number_list)"
      ],
      "execution_count": null,
      "outputs": []
    },
    {
      "cell_type": "code",
      "metadata": {
        "id": "6fwzl6Zs5k2l"
      },
      "source": [
        "name_list = [\"Elena\", \"Candido\", \"Ashwin\", \"Hong\"]\n",
        "print(name_list)"
      ],
      "execution_count": null,
      "outputs": []
    },
    {
      "cell_type": "code",
      "metadata": {
        "id": "djQjqcSZ5t1s"
      },
      "source": [
        "mixed_list = [\"Elena\", 44, \"Candido\", 53]\n",
        "print(mixed_list)\n"
      ],
      "execution_count": null,
      "outputs": []
    },
    {
      "cell_type": "code",
      "metadata": {
        "id": "m-PIVAx_5z4T"
      },
      "source": [
        "empty_list = []\n",
        "print(empty_list)"
      ],
      "execution_count": null,
      "outputs": []
    },
    {
      "cell_type": "code",
      "metadata": {
        "id": "0wiBEyQP508N"
      },
      "source": [
        "empty_list1 = list()\n",
        "print(empty_list1)"
      ],
      "execution_count": null,
      "outputs": []
    },
    {
      "cell_type": "code",
      "metadata": {
        "id": "mNEJWtXKfidj"
      },
      "source": [
        "empty_list == empty_list1"
      ],
      "execution_count": null,
      "outputs": []
    },
    {
      "cell_type": "markdown",
      "metadata": {
        "id": "CQNpUWgeg_Iz"
      },
      "source": [
        "Iterating over lists: **for** loops.\n",
        "\n",
        "Given the department names and the numbers of the introdution level courses, create a list of all the introduction courses for all the departments. "
      ]
    },
    {
      "cell_type": "code",
      "metadata": {
        "id": "xDrGuRLAgwe5"
      },
      "source": [
        "dept = [\"CST\", \"CET\", \"ENG\"]\n",
        "intro_courses = [\"1101\", \"1201\"]\n",
        "\n",
        "# iterating over the list elements\n",
        "for i in dept: \n",
        "  for j in intro_courses: \n",
        "    print (i+j)"
      ],
      "execution_count": null,
      "outputs": []
    },
    {
      "cell_type": "code",
      "metadata": {
        "id": "n86JZ4MnhfLQ"
      },
      "source": [
        "# iterating through the lists using indecies\n",
        "\n",
        "for i in range(len(dept)): \n",
        "  for j in range(len(intro_courses)): \n",
        "    print (dept[i]+dept[j])"
      ],
      "execution_count": null,
      "outputs": []
    },
    {
      "cell_type": "markdown",
      "metadata": {
        "id": "9sxwXsDB52G8"
      },
      "source": [
        "Lists are a very common data structure, and are often generated as a result of other functions, for instance, the split(\" \") command for a string, will split a string on space, and then return a list of the smaller substrings.\n",
        "\n",
        "Strings are special types of lists. Strings are unmutable lists.\n"
      ]
    },
    {
      "cell_type": "code",
      "metadata": {
        "id": "AFNpFZnH52rd"
      },
      "source": [
        "my_string = \"Wow these data structures make for exciting dinner conversation\"\n",
        "list_of_words = my_string.split(\" \")\n",
        "print(list_of_words)"
      ],
      "execution_count": null,
      "outputs": []
    },
    {
      "cell_type": "markdown",
      "metadata": {
        "id": "jhN3OZIN6KME"
      },
      "source": [
        "**Accessing parts of a list: Indexing and Slicing revisited**\n",
        "\n",
        "We can retrieve the value of a particular element of a list by writing in square brackets the location of the element. In python, like most programming languages, list indices start at 0, that is, to get the first element in a list, request the element at index 0."
      ]
    },
    {
      "cell_type": "code",
      "metadata": {
        "id": "CCsFJaYU6Ouz"
      },
      "source": [
        "another_list = [\"a\", \"b\", \"c\", \"d\", \"e\", \"f\"]\n",
        "print(another_list[1])"
      ],
      "execution_count": null,
      "outputs": []
    },
    {
      "cell_type": "markdown",
      "metadata": {
        "id": "W4a9gBoA6P-E"
      },
      "source": [
        "\n",
        "Negative indices can be used to traverse the list from the right.\n",
        "\n"
      ]
    },
    {
      "cell_type": "code",
      "metadata": {
        "id": "iCWdXvhI6Q77"
      },
      "source": [
        "print(another_list[-2])\n"
      ],
      "execution_count": null,
      "outputs": []
    },
    {
      "cell_type": "markdown",
      "metadata": {
        "id": "VOPW-c966TQz"
      },
      "source": [
        "If you remember the case with strings and accessing the individual characters, the concept is exactly the same. In fact, strings are treated in Python as lists of characters.\n",
        "\n",
        "This also means that the slicing operator works for accessing parts of the list as well:"
      ]
    },
    {
      "cell_type": "code",
      "metadata": {
        "id": "ySb427sP6VnE"
      },
      "source": [
        "# Retrieves the elements at positions 2, 3, and 4.\n",
        "# Remember these are the 3rd, 4th, and 5th elements of the list\n",
        "print(another_list[2:5])"
      ],
      "execution_count": null,
      "outputs": []
    },
    {
      "cell_type": "code",
      "metadata": {
        "id": "yv0qNPgg6WyD"
      },
      "source": [
        "# Retrieved the last 3 elements of the list\n",
        "print(another_list[-3:])"
      ],
      "execution_count": null,
      "outputs": []
    },
    {
      "cell_type": "markdown",
      "metadata": {
        "id": "o_Y-4CkoAUYt"
      },
      "source": [
        "**Exercise**\n",
        "\n",
        "You are given a list of names as one big, multiline string. Each line contains one name. "
      ]
    },
    {
      "cell_type": "code",
      "metadata": {
        "id": "YT1zzVKGAZHz"
      },
      "source": [
        "# Governers of the US States: Alabama through Hawaii\n",
        "names_string = \"\"\"Kay Ivey\n",
        "Mike Dunleavy\n",
        "Doug Ducey\n",
        "Asa Hutchinson\n",
        "Gavin Newsom\n",
        "Jared Polis\n",
        "Ned Lamont\n",
        "John Carney\n",
        "Ron DeSantis\n",
        "Brian Kemp\n",
        "David Ige\"\"\""
      ],
      "execution_count": null,
      "outputs": []
    },
    {
      "cell_type": "code",
      "metadata": {
        "id": "2ldDigqQhyaP"
      },
      "source": [
        "list_n = names_string.split(\"\\n\")\n",
        "len(list_n)"
      ],
      "execution_count": null,
      "outputs": []
    },
    {
      "cell_type": "markdown",
      "metadata": {
        "id": "o5tjaHiyA_mc"
      },
      "source": [
        "* Use the split command, appropriately configured, to separate names into a list of names.\n",
        "* Extract the 3rd name from the list\n",
        "* Extract the second from the last name, using negative indexing\n",
        "* Retrieve the 6th to 8th names from the list (inclusive, we want a list of 3 names, 6th, 7th, and 8th)\n",
        "* Retrieve the last 3 names."
      ]
    },
    {
      "cell_type": "code",
      "metadata": {
        "id": "K3CYDWlVYBpx"
      },
      "source": [
        "# here is my solution"
      ],
      "execution_count": null,
      "outputs": []
    },
    {
      "cell_type": "markdown",
      "metadata": {
        "id": "_JkApgkHBf55"
      },
      "source": [
        "**More on Lists and Strings**"
      ]
    },
    {
      "cell_type": "markdown",
      "metadata": {
        "id": "n2ltDAppBvGn"
      },
      "source": [
        "*Equality comparison*"
      ]
    },
    {
      "cell_type": "code",
      "metadata": {
        "id": "MlCZbI__BqQB"
      },
      "source": [
        "str1 = \"hello\""
      ],
      "execution_count": null,
      "outputs": []
    },
    {
      "cell_type": "code",
      "metadata": {
        "id": "BE6FtIp4Bx2f"
      },
      "source": [
        "print(str1 == \"hello\")\n"
      ],
      "execution_count": null,
      "outputs": []
    },
    {
      "cell_type": "code",
      "metadata": {
        "id": "Itn9z2cLBy7w"
      },
      "source": [
        "print(str1 == \"Hello\")\n"
      ],
      "execution_count": null,
      "outputs": []
    },
    {
      "cell_type": "markdown",
      "metadata": {
        "id": "rpy2xeuxB2vo"
      },
      "source": [
        "Notice that **capitalization matters** when comparsing strings in Python. If we want to make the comparison case-insensitive we typically first convert both sides of the equality to the same case:"
      ]
    },
    {
      "cell_type": "code",
      "metadata": {
        "id": "W82c6yKxB5ja"
      },
      "source": [
        "print(str1.lower() == \"Hello\".lower())\n"
      ],
      "execution_count": null,
      "outputs": []
    },
    {
      "cell_type": "markdown",
      "metadata": {
        "id": "J-fy7Q3MB-yC"
      },
      "source": [
        "The opposite operator for equality is the inequality operator: !=. For example:"
      ]
    },
    {
      "cell_type": "code",
      "metadata": {
        "id": "GiwO9enbCAhw"
      },
      "source": [
        "email1 = \"efilatova@citytech.cuny.edu\"\n",
        "email2 = \" billgates@microsoft.com\"\n",
        "print(\"Are the emails different?\", email1 != email2)"
      ],
      "execution_count": null,
      "outputs": []
    },
    {
      "cell_type": "markdown",
      "metadata": {
        "id": "RZIrKsm8CMeD"
      },
      "source": [
        "**Ordering Strings**\n",
        "\n",
        "String also allow for inequality comparisons. When we compare strings, the string that is \"smaller\" is the one that is coming first in the dictionary. Let's see an example:"
      ]
    },
    {
      "cell_type": "code",
      "metadata": {
        "id": "kBOfk4o4CQlY"
      },
      "source": [
        "name1 = \"Abraham\"\n",
        "name2 = \"Bill\"\n",
        "\n",
        "# Abraham is lexicographically before Bill\n",
        "print(name1 < name2)"
      ],
      "execution_count": null,
      "outputs": []
    },
    {
      "cell_type": "code",
      "metadata": {
        "id": "7Sp4psQQCSZT"
      },
      "source": [
        "name1 = \"Giannis\"\n",
        "name2 = \"Bill\"\n",
        "\n",
        "# Giannis is lexicographically after Bill\n",
        "print(name1 < name2)"
      ],
      "execution_count": null,
      "outputs": []
    },
    {
      "cell_type": "code",
      "metadata": {
        "id": "7lk0mbzrCXFf"
      },
      "source": [
        "# Space, followed by numbers, followed by uppercase, followed by lowercase\n",
        "sorted([\"Bill\", \"  ZZ TOP!!! \", \"HAHA\", \"lol\", \"LOL!\", \"ZZZZZ\", \"zzzzz\", \"123\", \"345\"])"
      ],
      "execution_count": null,
      "outputs": []
    },
    {
      "cell_type": "markdown",
      "metadata": {
        "id": "DoP-6yZmCdVY"
      },
      "source": [
        "**Finding text within string variables**\n",
        "\n",
        "*in* operator\n",
        "\n",
        "* The in operator, needle in haystack: reports if the string needle appears in the string haystack\n",
        "\n",
        "For example, string \"New York\" appears within \"City University of New York\", so the following operator returns True:"
      ]
    },
    {
      "cell_type": "code",
      "metadata": {
        "id": "Pec63gOYCoHY"
      },
      "source": [
        "\"New York\" in \"City University of New York\""
      ],
      "execution_count": null,
      "outputs": []
    },
    {
      "cell_type": "markdown",
      "metadata": {
        "id": "i84F5hchCuHQ"
      },
      "source": [
        "But, unlike reality, \"City University of New York\" is not in \"New York\" :-)"
      ]
    },
    {
      "cell_type": "code",
      "metadata": {
        "id": "Yv5gOz3NCx-X"
      },
      "source": [
        "\"City University of New York\" in \"New York\"\n"
      ],
      "execution_count": null,
      "outputs": []
    },
    {
      "cell_type": "markdown",
      "metadata": {
        "id": "QOAyxvBUCzg8"
      },
      "source": [
        "**find function**\n",
        "\n",
        "* The find function, haystack.find(needle): searches haystack for needle, prints the position of the first occurrence, indexed from 0; returns -1 if not found.\n",
        "\n",
        "For example:"
      ]
    },
    {
      "cell_type": "code",
      "metadata": {
        "id": "BLUGVjQjC6wr"
      },
      "source": [
        "word = \"Python is the word. And on and on and on and on...\"\n",
        "position = word.find(\"on\")  # The 'on' appears at the end of 'Python'\n",
        "print(position)"
      ],
      "execution_count": null,
      "outputs": []
    },
    {
      "cell_type": "code",
      "metadata": {
        "id": "mFG2ZzkLC8cR"
      },
      "source": [
        "print(\"The first time that we see the string \\\"on\\\" is at position\", word.find(\"on\"))\n"
      ],
      "execution_count": null,
      "outputs": []
    },
    {
      "cell_type": "markdown",
      "metadata": {
        "id": "Wn9apvWzDF-A"
      },
      "source": [
        "**count function**\n",
        "\n",
        "str_1.count(str_2): counts the number of occurrences of one string in another."
      ]
    },
    {
      "cell_type": "code",
      "metadata": {
        "id": "E8uHRM_4DKUR"
      },
      "source": [
        "word = \"Python is the word. And on and on and on and on...\"\n",
        "lookfor = \"on\"\n",
        "count = word.count(lookfor)\n",
        "print(\"We see the string '\", lookfor, \"' that many times: \", count)"
      ],
      "execution_count": null,
      "outputs": []
    },
    {
      "cell_type": "code",
      "metadata": {
        "id": "10jYObhbDMLP"
      },
      "source": [
        "word = \"Python is the word. And on and on and on and on...\"\n",
        "lookfor = \"Python\"\n",
        "count = word.count(lookfor)\n",
        "print(\"We see the string '\", lookfor, \"' that many times: \", count)"
      ],
      "execution_count": null,
      "outputs": []
    },
    {
      "cell_type": "code",
      "metadata": {
        "id": "Oit9CUfhDNf1"
      },
      "source": [
        "word = \"Python is the word. And on and on and on and on...\"\n",
        "lookfor = \"PYTHON\"\n",
        "count = word.count(lookfor)\n",
        "print(\"We see the string '\", lookfor, \"' that many times: \", count)"
      ],
      "execution_count": null,
      "outputs": []
    },
    {
      "cell_type": "markdown",
      "metadata": {
        "id": "80a-lANVDTs4"
      },
      "source": [
        "**Exercise**\n",
        "\n",
        "Consider the news article from [CBSnews] [link text](https://www.cbsnews.com/news/biden-covid-19-schools-open-trump-administration/), which is given below, and stored in the string variable article.\n",
        "\n",
        "* Count how many times the word Biden appears in the article. \n",
        "* Count how many times the word Trump appears in the article.\n",
        "* Now sum up the occurences of Biden and Trump and display the percentage of coverage for each of the two strings. (For example, if Biden appears 2 times and Trump 3 times, then Biden is 40% and Trump is 60%.)"
      ]
    },
    {
      "cell_type": "code",
      "metadata": {
        "id": "wz7mu-JODhlh"
      },
      "source": [
        "article = \"\"\"\n",
        "Joe Biden condemned President Trump's response to the coronavirus pandemic on \n",
        "Wednesday, saying that if Mr. Trump and his administration had \"done their jobs,\" \n",
        "more schools would be able to reopen to in-person learning this fall.\n",
        "\n",
        "\"If President Trump and his administration had done their jobs early on in \n",
        "this crisis, American schools would be open. And they'd be open safely,\" \n",
        "Biden said in a speech in Wilmington, Delaware. \"Donald Trump and [Education \n",
        "Secretary Betsy] DeVos have not stepped up.\"\n",
        "\n",
        "Biden accused Mr. Trump of \"starving schools of the needed funding, \n",
        "funding they need now.\" He slammed the president and Republicans for being \n",
        "unwilling to consider a Democratic proposal passed in the House in May that \n",
        "would have provided additional financial help for schools.\n",
        "\n",
        "\"Mr. President, where are you? Where are you? Why aren't you \n",
        "working on this?\" Biden said, making a personal entreaty to the president. \n",
        "He urged Mr. Trump to \"get off Twitter\" and invite congressional leaders \n",
        "to the Oval Office.\n",
        "\n",
        "\"You always talk about your ability to negotiate. \n",
        "Negotiate a deal — a deal for somebody other than yourself,\" Biden said.\n",
        "\n",
        "Biden said there should be \"universal guidance\" for \n",
        "reopening schools and daycare centers, and added that the federal \n",
        "government should provide assistance to parents whose children are \n",
        "forced to undergo remote learning.\n",
        "\n",
        "\"The idea that you're able to get the economy back on track \n",
        "without getting COVID under control, it's completely counterintuitive,\" \n",
        "Biden said. \"There's going to be no need in my view to be able to shut down the whole economy.\"\n",
        "\n",
        "He also said he would pressure governors and local officials to impose a \n",
        "mask mandate, saying there's a \"question under the Constitution\" about \n",
        "whether a president can institute a national mandate. Biden has previously \n",
        "said he supports making wearing a mask a national requirement for three months.\n",
        "\n",
        "\"Why do you wear a mask? To protect your neighbor? To keep someone else \n",
        "from getting sick and maybe dying. I call that patriotic. This is the \n",
        "United States of America. Every generation has made sacrifices to help \n",
        "others in moments of crisis,\" Biden said.\n",
        "\n",
        "Biden also took questions from reporters, his first time doing \n",
        "so since he formally accepted the Democratic nomination for president last month.\n",
        "\n",
        "Biden's campaign also announced on Wednesday that he would be \n",
        "traveling to Kenosha, Wisconsin on Thursday. On Tuesday, Mr. Trump \n",
        "visited the city, which has been roiled by protests since the police \n",
        "shooting of a Black man and the deaths of two people by a suspected vigilante\n",
        "shooter at a subsequent demonstration. Biden said that local leaders and \n",
        "members of Congress had asked him to come to Kenosha.\n",
        "\n",
        "\"There have been overwhelming requests that I do come,\" he told reporters. \n",
        "\"What we want to do is we've got to heal, we've got to put things together, \n",
        "bring people together. My purpose in going is to do just that, to be a positive influence.\"\n",
        "\n",
        "He also said he would be meeting with local community and business \n",
        "leaders and law enforcement.\n",
        "\n",
        "The Democratic presidential nominee drew a contrast between himself \n",
        "and Mr. Trump, whom he has accused of fanning the flames of dissension. \n",
        "Earlier this week, the president declined to denounce suspected vigilante \n",
        "shooter Kyle Rittenhouse, the 17-year-old who has been charged with \n",
        "killing two people during protests in Wisconsin.\n",
        "\n",
        "\"I wouldn't incite violence. I would condemn it when it occurred,\" \n",
        "Biden said, adding that he supported law enforcement and believes \n",
        "that the majority of law enforcement officers are good people. \n",
        "\"What I'd be doing is I'd be bringing people together in the White \n",
        "House right now,\" he said.\n",
        "\n",
        "Mr. Trump did not meet with the family of Jacob Blake, the seven \n",
        "times in the back by a police officer. His family has been vocal in \n",
        "denouncing violent protests since Jacob Blake was shot on August 23. \n",
        "The 29-year-old father of six remains hospitalized and is paralyzed \n",
        "from his injuries, his family lawyers have said. \n",
        "\n",
        "It is unclear whether Biden will meet with the Blake family while in Kenosha.\n",
        "\"\"\""
      ],
      "execution_count": null,
      "outputs": []
    },
    {
      "cell_type": "code",
      "metadata": {
        "id": "RaA8JJzBEv1j"
      },
      "source": [
        "# here is my solution"
      ],
      "execution_count": null,
      "outputs": []
    },
    {
      "cell_type": "markdown",
      "metadata": {
        "id": "zCELH2FdE4DK"
      },
      "source": [
        "**Finding items in lists**\n",
        "\n",
        "Common functions\n",
        "\n",
        "* x in list: checks if x appears in the list\n",
        "* list.index(x): looks through the list to find the specified element, returning it's position if it's found, else throws an error\n",
        "* list.count(x): counts the number of occurrences of the input element"
      ]
    },
    {
      "cell_type": "code",
      "metadata": {
        "id": "flYflQRyFzlP"
      },
      "source": [
        "names = [\"Jane\", \"John\", \"Chris\", \"Josh\", \"Mary\", \"Anna\", \"John\"]\n"
      ],
      "execution_count": null,
      "outputs": []
    },
    {
      "cell_type": "code",
      "metadata": {
        "id": "naC9D4JbF4ZJ"
      },
      "source": [
        "\"Chris\" in names\n"
      ],
      "execution_count": null,
      "outputs": []
    },
    {
      "cell_type": "code",
      "metadata": {
        "id": "JR8jXXppF5YQ"
      },
      "source": [
        "\"Peter\" in names\n"
      ],
      "execution_count": null,
      "outputs": []
    },
    {
      "cell_type": "code",
      "metadata": {
        "id": "wkOEVvtgF7kQ"
      },
      "source": [
        "# Index\n",
        "name = \"Chris\"\n",
        "print(\"Location of\", name, \"in the list:\", names.index(name))"
      ],
      "execution_count": null,
      "outputs": []
    },
    {
      "cell_type": "code",
      "metadata": {
        "id": "5sWPBoIPF9FL"
      },
      "source": [
        "# Count\n",
        "print(names)\n",
        "print(\"# of John  in the list\", names.count(\"John\"))\n",
        "print(\"# of Jane in the list\", names.count(\"Jane\"))\n",
        "print(\"# of Peter  in the list\", names.count(\"Peter\"))"
      ],
      "execution_count": null,
      "outputs": []
    },
    {
      "cell_type": "markdown",
      "metadata": {
        "id": "yv4TP2mcGAhF"
      },
      "source": [
        "**Exercise**\n",
        "\n",
        "* Find the name \"Josh\" in the list. In what position does the name appear?\n",
        "* Try to find a name that does not exist in the list. What do you get?\n",
        "\n",
        "Now let's practice the if-else command:\n",
        "\n",
        "* Define a variable search with the name that you want to search for.\n",
        "* Check if the name appears in the list\n",
        "** If yes, then return the index number for its first apperance, and the number of times that you see the name in the list\n",
        "** If not, print that the name does not appear in the list"
      ]
    },
    {
      "cell_type": "code",
      "metadata": {
        "id": "Gg0QSduiGSXx"
      },
      "source": [
        "names = [\"Jane\", \"John\", \"Chris\", \"Josh\", \"Mary\", \"Anna\", \"John\"]\n"
      ],
      "execution_count": null,
      "outputs": []
    },
    {
      "cell_type": "code",
      "metadata": {
        "id": "hckLre5eGZe6"
      },
      "source": [
        "# here is my solution"
      ],
      "execution_count": null,
      "outputs": []
    },
    {
      "cell_type": "markdown",
      "metadata": {
        "id": "B-dAPh--GzOQ"
      },
      "source": [
        "Besides lists, Python has two additional data structures that can store multiple objects. These data structures are *dictionaries* and *tuples*. "
      ]
    },
    {
      "cell_type": "markdown",
      "metadata": {
        "id": "b-IJTYycGg9g"
      },
      "source": [
        "**Tuples**\n",
        "\n",
        "Tuples are defined in Python by enclosing elements in parenthesis ( ). \n",
        "\n",
        "A tuple is similar to a list and consists of a number of values separated by commas. For instance:"
      ]
    },
    {
      "cell_type": "code",
      "metadata": {
        "id": "sZbkZwTIGjcl"
      },
      "source": [
        "t = (12345, 54321, 54321, \"hello!\")\n",
        "print(t)"
      ],
      "execution_count": null,
      "outputs": []
    },
    {
      "cell_type": "markdown",
      "metadata": {
        "id": "h9gO0UQDGlTa"
      },
      "source": [
        "The usual slicing and indexing operators still apply:\n",
        "\n"
      ]
    },
    {
      "cell_type": "code",
      "metadata": {
        "id": "cL-5Ui6xGktG"
      },
      "source": [
        "print(t[3])\n"
      ],
      "execution_count": null,
      "outputs": []
    },
    {
      "cell_type": "markdown",
      "metadata": {
        "id": "xk9kt-v0GoZp"
      },
      "source": [
        "And similarly, we can use the count and index functions.\n",
        "\n"
      ]
    },
    {
      "cell_type": "code",
      "metadata": {
        "id": "k4cLz63KGp3h"
      },
      "source": [
        "t.index(\"hello!\")\n"
      ],
      "execution_count": null,
      "outputs": []
    },
    {
      "cell_type": "code",
      "metadata": {
        "id": "KKJnVdNWoDTd"
      },
      "source": [
        "list_v = [0, 1, 2, 3, 4]\n",
        "list_v[0] =100\n",
        "print(list_v)"
      ],
      "execution_count": null,
      "outputs": []
    },
    {
      "cell_type": "code",
      "metadata": {
        "id": "Nh-vTsqxoRz_"
      },
      "source": [
        "str_v = \"01234\"\n",
        "str_v[0] = \"9\"\n",
        "print(str_v)"
      ],
      "execution_count": null,
      "outputs": []
    },
    {
      "cell_type": "markdown",
      "metadata": {
        "id": "BFODaFEOGrzH"
      },
      "source": [
        "However, a tuple but is *immutable*. This means that we cannot modify its contents. So the other operators that modify a list do not apply to a tuple.\n",
        "\n",
        "Elements of a list can be modified, but elements in a tuple can only be accessed, not modified. The name tuple does not mean that only two values can be stored in this data structure."
      ]
    },
    {
      "cell_type": "code",
      "metadata": {
        "id": "oUNksdUyI1zv"
      },
      "source": [
        "l_var = [3,4,5]  # a list\n",
        "print (\"Initial list:\", l_var)\n",
        "l_var[0]= 8\n",
        "print(\"New list:\", l_var)"
      ],
      "execution_count": null,
      "outputs": []
    },
    {
      "cell_type": "code",
      "metadata": {
        "id": "F2IDbopXJA-4"
      },
      "source": [
        "t_var = (3,4,5)  # a tuple\n",
        "print (\"Initial tuple:\", t_var)\n",
        "\n",
        "t_var[0]= 8\n",
        "print (\"New tuple:\", t_var)\n",
        "\n",
        "\n"
      ],
      "execution_count": null,
      "outputs": []
    },
    {
      "cell_type": "code",
      "metadata": {
        "id": "7zHr5Z_Go2On"
      },
      "source": [
        "new_t = (\"John\", 44)\n",
        "print(new_t)"
      ],
      "execution_count": null,
      "outputs": []
    },
    {
      "cell_type": "markdown",
      "metadata": {
        "id": "M66Fb6e8m7J3"
      },
      "source": [
        "*ProTip: Single Value Tuple*"
      ]
    },
    {
      "cell_type": "markdown",
      "metadata": {
        "id": "kb87t1v3JQMR"
      },
      "source": [
        "To create a tuple that just contains one numerical value, the number must be followed by a comma. Without a comma, the variable is defined as a number."
      ]
    },
    {
      "cell_type": "code",
      "metadata": {
        "id": "anLL1SwSJQ2X"
      },
      "source": [
        "num = (5)\n",
        "type(num)"
      ],
      "execution_count": null,
      "outputs": []
    },
    {
      "cell_type": "markdown",
      "metadata": {
        "id": "POLaJ30bJUnv"
      },
      "source": [
        "When a comma is included after the number, the variable is defined as a tuple.\n",
        "\n"
      ]
    },
    {
      "cell_type": "code",
      "metadata": {
        "id": "P5g18hN9JTaI"
      },
      "source": [
        "t_var = (5,)\n",
        "type(t_var)"
      ],
      "execution_count": null,
      "outputs": []
    },
    {
      "cell_type": "markdown",
      "metadata": {
        "id": "_Bqou8kMMlJF"
      },
      "source": [
        "**Exercise**"
      ]
    },
    {
      "cell_type": "code",
      "metadata": {
        "id": "bjyUHd84Mnhm"
      },
      "source": [
        "# Given multiline strings: names_gov with the names of governers \n",
        "# of the US States: Alabama through Hawaii;\n",
        "# and names_state, create a list that consists out of\n",
        "# the tuples with two elements: state's name and state's governor's name\n",
        "#\n",
        "# Assume that the order of the governers corresponds to the order\n",
        "# of the states and the number of governers is the same as the number of states.\n",
        "#\n",
        "names_gov = \"\"\"Kay Ivey\n",
        "Mike Dunleavy\n",
        "Doug Ducey\n",
        "Asa Hutchinson\n",
        "Gavin Newsom\n",
        "Jared Polis\n",
        "Ned Lamont\n",
        "John Carney\n",
        "Ron DeSantis\n",
        "Brian Kemp\n",
        "David Ige\"\"\"\n",
        "\n",
        "names_state = \"\"\"Alabama \n",
        "Alaska\n",
        "Arizona\n",
        "Arkansas \n",
        "California\n",
        "Colorado\n",
        "Connecticut\n",
        "Delaware\n",
        "Florida\n",
        "Georgia\n",
        "Hawaii\"\"\""
      ],
      "execution_count": null,
      "outputs": []
    },
    {
      "cell_type": "code",
      "metadata": {
        "id": "_MQ4ackJP-lX"
      },
      "source": [
        "# Let us confirm that the lists have the\n",
        "# same number of elements\n",
        "\n",
        "list_govs = names_gov.split(\"\\n\")\n",
        "list_states = names_state.split(\"\\n\")\n",
        "print (len(list_govs),len(list_states))\n",
        "print (list_states)"
      ],
      "execution_count": null,
      "outputs": []
    },
    {
      "cell_type": "code",
      "metadata": {
        "id": "y_Xuq6l1GcQY"
      },
      "source": [
        "for i in list_states:\n",
        "  print(i)"
      ],
      "execution_count": null,
      "outputs": []
    },
    {
      "cell_type": "code",
      "metadata": {
        "id": "sO15VOIGGlLh"
      },
      "source": [
        "for i in range(len(list_states)):\n",
        "  print(list_states[i])"
      ],
      "execution_count": null,
      "outputs": []
    },
    {
      "cell_type": "code",
      "metadata": {
        "id": "XolLS6t1Qk-l"
      },
      "source": [
        "# What governer - state pairs do we have? \n",
        "\n",
        "for i in range(len(list_states)):\n",
        "  print (list_govs[i], \"--\", list_states[i])"
      ],
      "execution_count": null,
      "outputs": []
    },
    {
      "cell_type": "code",
      "metadata": {
        "id": "MlwXE2UtW8HS"
      },
      "source": [
        "# Create a list of tuples\n",
        "\n",
        "governer_name_list = []\n",
        "\n",
        "# Populate the list of tuples\n",
        "\n",
        "for i in range(len(list_states)):\n",
        "  governer_name_list.append (   (list_govs[i],list_states[i])    )\n",
        "\n",
        "# Output the list of tuples elements\n",
        "# What is the difference between the two for loops \n",
        "# in this cell? \n",
        "\n",
        "for i in governer_name_list:\n",
        "  print (\"Election Year\", \":\", i)\n",
        "\n"
      ],
      "execution_count": null,
      "outputs": []
    },
    {
      "cell_type": "code",
      "metadata": {
        "id": "vgfuu8Z0Iqli"
      },
      "source": [
        "governer_name_list"
      ],
      "execution_count": null,
      "outputs": []
    },
    {
      "cell_type": "code",
      "metadata": {
        "id": "5pf1-oFrWlWC"
      },
      "source": [
        "# Let us define the variables once again\n",
        "# and try to re-run the above code\n",
        "\n",
        "names_gov = \"\"\"Kay Ivey\n",
        "Mike Dunleavy\n",
        "Doug Ducey\n",
        "Asa Hutchinson\n",
        "Gavin Newsom\n",
        "Jared Polis\n",
        "Ned Lamont\n",
        "John Carney\n",
        "Ron DeSantis\n",
        "Brian Kemp\n",
        "David Ige\"\"\"\n",
        "\n",
        "names_state = \"\"\"Alabama \n",
        "Alaska\n",
        "Arizona\n",
        "Arkansas \n",
        "California\n",
        "Colorado\n",
        "Connecticut\n",
        "Delaware\n",
        "Florida\n",
        "Georgia\n",
        "Hawaii\n",
        "\"\"\""
      ],
      "execution_count": null,
      "outputs": []
    },
    {
      "cell_type": "code",
      "metadata": {
        "id": "Ftd7P4DTJAc5"
      },
      "source": [
        "# Let us confirm that the lists have the\n",
        "# same number of elements\n",
        "\n",
        "list_govs = names_gov.split(\"\\n\")\n",
        "list_states = names_state.split(\"\\n\")\n",
        "print (len(list_govs),len(list_states))\n"
      ],
      "execution_count": null,
      "outputs": []
    },
    {
      "cell_type": "code",
      "metadata": {
        "id": "IWB-y1PWJKEa"
      },
      "source": [
        "# What governer - state pairs do we have? \n",
        "\n",
        "for i in range(len(list_states)):\n",
        "  print (list_govs[i], \"--\", list_states[i])"
      ],
      "execution_count": null,
      "outputs": []
    },
    {
      "cell_type": "code",
      "metadata": {
        "id": "FNy-CWoaKWA0"
      },
      "source": [
        "for j in range(5):\n",
        "  print (j)"
      ],
      "execution_count": null,
      "outputs": []
    }
  ]
}