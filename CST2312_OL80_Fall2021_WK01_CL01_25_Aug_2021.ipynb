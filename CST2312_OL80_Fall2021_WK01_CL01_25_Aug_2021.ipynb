{
  "nbformat": 4,
  "nbformat_minor": 0,
  "metadata": {
    "colab": {
      "name": "CST2312-OL80_Fall2021_WK01-CL01_25-Aug-2021.ipynb",
      "provenance": [],
      "authorship_tag": "ABX9TyOyCb72Yp1elMv/i914s3be",
      "include_colab_link": true
    },
    "kernelspec": {
      "name": "python3",
      "display_name": "Python 3"
    },
    "language_info": {
      "name": "python"
    }
  },
  "cells": [
    {
      "cell_type": "markdown",
      "metadata": {
        "id": "view-in-github",
        "colab_type": "text"
      },
      "source": [
        "<a href=\"https://colab.research.google.com/github/ProfessorPatrickSlatraigh/CST2312/blob/main/CST2312_OL80_Fall2021_WK01_CL01_25_Aug_2021.ipynb\" target=\"_parent\"><img src=\"https://colab.research.google.com/assets/colab-badge.svg\" alt=\"Open In Colab\"/></a>"
      ]
    },
    {
      "cell_type": "markdown",
      "metadata": {
        "id": "aCMs-5kNEuuM"
      },
      "source": [
        "**Constants**\n"
      ]
    },
    {
      "cell_type": "code",
      "metadata": {
        "id": "kCqTbdWzA3uV"
      },
      "source": [
        "print(123)"
      ],
      "execution_count": null,
      "outputs": []
    },
    {
      "cell_type": "code",
      "metadata": {
        "id": "euYeIYyyA8AN"
      },
      "source": [
        "print(98.6)"
      ],
      "execution_count": null,
      "outputs": []
    },
    {
      "cell_type": "code",
      "metadata": {
        "id": "J88IunMBARMN"
      },
      "source": [
        "print(\"Hello World!\")"
      ],
      "execution_count": null,
      "outputs": []
    },
    {
      "cell_type": "markdown",
      "metadata": {
        "id": "A7KCc8c_E6tV"
      },
      "source": [
        "**Variables**"
      ]
    },
    {
      "cell_type": "code",
      "metadata": {
        "id": "ouRgqFwlFKwm"
      },
      "source": [
        "x = 12.2"
      ],
      "execution_count": null,
      "outputs": []
    },
    {
      "cell_type": "code",
      "metadata": {
        "id": "s1YloyyMFNHX"
      },
      "source": [
        "y = 14"
      ],
      "execution_count": null,
      "outputs": []
    },
    {
      "cell_type": "code",
      "metadata": {
        "id": "wE7it3GbFP8P"
      },
      "source": [
        "x"
      ],
      "execution_count": null,
      "outputs": []
    },
    {
      "cell_type": "code",
      "metadata": {
        "id": "eFxlebIwFQq1"
      },
      "source": [
        "y"
      ],
      "execution_count": null,
      "outputs": []
    },
    {
      "cell_type": "markdown",
      "metadata": {
        "id": "bujG7pj2FfQW"
      },
      "source": [
        "**Mnemonic**"
      ]
    },
    {
      "cell_type": "code",
      "metadata": {
        "id": "d2csQM-LFmyD"
      },
      "source": [
        "a = 35"
      ],
      "execution_count": 6,
      "outputs": []
    },
    {
      "cell_type": "code",
      "metadata": {
        "id": "IJG0RbM-FrgG"
      },
      "source": [
        "b = 12.50"
      ],
      "execution_count": 7,
      "outputs": []
    },
    {
      "cell_type": "code",
      "metadata": {
        "id": "lZmvkMIbFtHv"
      },
      "source": [
        "c = a*b"
      ],
      "execution_count": 8,
      "outputs": []
    },
    {
      "cell_type": "code",
      "metadata": {
        "id": "FviAbvi_Fw5l"
      },
      "source": [
        "print(c)\n"
      ],
      "execution_count": null,
      "outputs": []
    },
    {
      "cell_type": "markdown",
      "metadata": {
        "id": "oT87mvPyGC2r"
      },
      "source": [
        "**Assignment Statements**"
      ]
    },
    {
      "cell_type": "code",
      "metadata": {
        "id": "THzargZeGFb4"
      },
      "source": [
        "x = 3.9 * x * (1-x)"
      ],
      "execution_count": null,
      "outputs": []
    },
    {
      "cell_type": "markdown",
      "metadata": {
        "id": "00bEimVgGWtA"
      },
      "source": [
        "**Numeric Expressions**"
      ]
    },
    {
      "cell_type": "code",
      "metadata": {
        "id": "fDOXodfwGaUL"
      },
      "source": [
        "xx = 2"
      ],
      "execution_count": null,
      "outputs": []
    },
    {
      "cell_type": "code",
      "metadata": {
        "id": "ShiMOymxGfyw"
      },
      "source": [
        "xx = xx +2"
      ],
      "execution_count": null,
      "outputs": []
    },
    {
      "cell_type": "code",
      "metadata": {
        "id": "mvaUWBSMGkFe"
      },
      "source": [
        "print(xx)"
      ],
      "execution_count": null,
      "outputs": []
    },
    {
      "cell_type": "code",
      "metadata": {
        "id": "ynmwUKHIGmPa"
      },
      "source": [
        "yy = 440 * 12"
      ],
      "execution_count": null,
      "outputs": []
    },
    {
      "cell_type": "code",
      "metadata": {
        "id": "k_8wLsd2GpfQ"
      },
      "source": [
        "print(yy)"
      ],
      "execution_count": null,
      "outputs": []
    },
    {
      "cell_type": "code",
      "metadata": {
        "id": "vBS9X-DBGtKI"
      },
      "source": [
        "zz = yy / 1000"
      ],
      "execution_count": null,
      "outputs": []
    },
    {
      "cell_type": "code",
      "metadata": {
        "id": "w7RvEjnxGxZq"
      },
      "source": [
        "print(zz)"
      ],
      "execution_count": null,
      "outputs": []
    },
    {
      "cell_type": "markdown",
      "metadata": {
        "id": "uaXJ0jd6HCno"
      },
      "source": [
        "**Type**"
      ]
    },
    {
      "cell_type": "code",
      "metadata": {
        "id": "_zM6zdc6GzE-"
      },
      "source": [
        "ddd = 1 + 4 "
      ],
      "execution_count": null,
      "outputs": []
    },
    {
      "cell_type": "code",
      "metadata": {
        "id": "SdcCP7Z7HJF_"
      },
      "source": [
        "print(ddd)"
      ],
      "execution_count": null,
      "outputs": []
    },
    {
      "cell_type": "code",
      "metadata": {
        "id": "dvAYCvRsHK8-"
      },
      "source": [
        "eee = 'hello' + 'there'"
      ],
      "execution_count": null,
      "outputs": []
    },
    {
      "cell_type": "code",
      "metadata": {
        "id": "yoZ2Jh7IHQ6r"
      },
      "source": [
        "print(eee)"
      ],
      "execution_count": null,
      "outputs": []
    },
    {
      "cell_type": "markdown",
      "metadata": {
        "id": "O1WfnKz_Hbaf"
      },
      "source": [
        "**Types of Numbers**"
      ]
    },
    {
      "cell_type": "code",
      "metadata": {
        "id": "hiYxVNFoHjWG"
      },
      "source": [
        "xx = 1"
      ],
      "execution_count": null,
      "outputs": []
    },
    {
      "cell_type": "code",
      "metadata": {
        "id": "1l2oGFU7Hl66"
      },
      "source": [
        "type(x)"
      ],
      "execution_count": null,
      "outputs": []
    },
    {
      "cell_type": "code",
      "metadata": {
        "id": "v2uPZdGoHnIz"
      },
      "source": [
        "temp = 98.6"
      ],
      "execution_count": null,
      "outputs": []
    },
    {
      "cell_type": "code",
      "metadata": {
        "id": "fyMWd9ZeHqOG"
      },
      "source": [
        "type(temp)"
      ],
      "execution_count": null,
      "outputs": []
    },
    {
      "cell_type": "code",
      "metadata": {
        "id": "Wgcr1F6xHv__"
      },
      "source": [
        "type(1)"
      ],
      "execution_count": null,
      "outputs": []
    },
    {
      "cell_type": "code",
      "metadata": {
        "id": "rRvBEQMnHxwt"
      },
      "source": [
        "type(1.0)"
      ],
      "execution_count": null,
      "outputs": []
    },
    {
      "cell_type": "markdown",
      "metadata": {
        "id": "3t1zELECH8wv"
      },
      "source": [
        "**Integer Division**"
      ]
    },
    {
      "cell_type": "code",
      "metadata": {
        "id": "x3O_06mmH_pe"
      },
      "source": [
        "print(10/2)"
      ],
      "execution_count": null,
      "outputs": []
    },
    {
      "cell_type": "code",
      "metadata": {
        "id": "Ycz8v8suICiK"
      },
      "source": [
        "print(9/2)"
      ],
      "execution_count": null,
      "outputs": []
    },
    {
      "cell_type": "code",
      "metadata": {
        "id": "po2pSYN-IGoE"
      },
      "source": [
        "print(99/100)"
      ],
      "execution_count": null,
      "outputs": []
    },
    {
      "cell_type": "code",
      "metadata": {
        "id": "0KBqI1GDILOt"
      },
      "source": [
        "print(10/2)"
      ],
      "execution_count": null,
      "outputs": []
    },
    {
      "cell_type": "code",
      "metadata": {
        "id": "GXBJO9sDINki"
      },
      "source": [
        "print(99.0/100.0)\n"
      ],
      "execution_count": null,
      "outputs": []
    },
    {
      "cell_type": "markdown",
      "metadata": {
        "id": "27rnOTbCIURL"
      },
      "source": [
        "**String Conversions**"
      ]
    },
    {
      "cell_type": "code",
      "metadata": {
        "id": "Si1SK4aZIXmJ"
      },
      "source": [
        "svail = '123'"
      ],
      "execution_count": null,
      "outputs": []
    },
    {
      "cell_type": "code",
      "metadata": {
        "id": "yD01skiyIc9V"
      },
      "source": [
        "type(svail)"
      ],
      "execution_count": null,
      "outputs": []
    },
    {
      "cell_type": "code",
      "metadata": {
        "id": "kFaeGcGRIggY"
      },
      "source": [
        "print(svail)"
      ],
      "execution_count": null,
      "outputs": []
    },
    {
      "cell_type": "code",
      "metadata": {
        "id": "KJajrUMkIi9V"
      },
      "source": [
        "print(svail+1)"
      ],
      "execution_count": null,
      "outputs": []
    },
    {
      "cell_type": "code",
      "metadata": {
        "id": "1apGEsHcI0qx"
      },
      "source": [
        "ival = int(sval)"
      ],
      "execution_count": null,
      "outputs": []
    },
    {
      "cell_type": "code",
      "metadata": {
        "id": "SzZ_QUwUI24o"
      },
      "source": [
        "type(ival)"
      ],
      "execution_count": null,
      "outputs": []
    },
    {
      "cell_type": "code",
      "metadata": {
        "id": "3-co7u-QI6Yb"
      },
      "source": [
        "print(ival + 1)"
      ],
      "execution_count": null,
      "outputs": []
    },
    {
      "cell_type": "code",
      "metadata": {
        "id": "vZ3IrhWiI_9R"
      },
      "source": [
        "nsv = 'hello bob'"
      ],
      "execution_count": null,
      "outputs": []
    },
    {
      "cell_type": "code",
      "metadata": {
        "id": "zaf81zVGJE0L"
      },
      "source": [
        "niv = int(nsv)"
      ],
      "execution_count": null,
      "outputs": []
    },
    {
      "cell_type": "markdown",
      "metadata": {
        "id": "GpaTAHN8JLQo"
      },
      "source": [
        "**User Input**"
      ]
    },
    {
      "cell_type": "code",
      "metadata": {
        "id": "195HyCfWJOOE"
      },
      "source": [
        "name = input('Who are you? ')"
      ],
      "execution_count": null,
      "outputs": []
    },
    {
      "cell_type": "code",
      "metadata": {
        "id": "SMe-lAzXJUi7"
      },
      "source": [
        "print('Welcome', nam)"
      ],
      "execution_count": null,
      "outputs": []
    },
    {
      "cell_type": "markdown",
      "metadata": {
        "id": "Cxh6VlyIJdTW"
      },
      "source": [
        "**Converting User Input**"
      ]
    },
    {
      "cell_type": "code",
      "metadata": {
        "id": "iLFPf9nvJhm8"
      },
      "source": [
        "inp = input(\"Europe floor? \")"
      ],
      "execution_count": null,
      "outputs": []
    },
    {
      "cell_type": "code",
      "metadata": {
        "id": "IFMMpbltJpV3"
      },
      "source": [
        "usf = int(inp) + 1 "
      ],
      "execution_count": 11,
      "outputs": []
    },
    {
      "cell_type": "code",
      "metadata": {
        "id": "uksIKfoZJw2Y"
      },
      "source": [
        "print('US floor: ', usf)"
      ],
      "execution_count": null,
      "outputs": []
    }
  ]
}