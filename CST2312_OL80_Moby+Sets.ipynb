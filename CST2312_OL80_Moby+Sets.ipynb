{
  "nbformat": 4,
  "nbformat_minor": 0,
  "metadata": {
    "colab": {
      "name": "CST2312-OL80_Moby+Sets.ipynb",
      "provenance": [],
      "authorship_tag": "ABX9TyPb4mpizpAsKSObtSpaWU4x",
      "include_colab_link": true
    },
    "kernelspec": {
      "name": "python3",
      "display_name": "Python 3"
    },
    "language_info": {
      "name": "python"
    }
  },
  "cells": [
    {
      "cell_type": "markdown",
      "metadata": {
        "id": "view-in-github",
        "colab_type": "text"
      },
      "source": [
        "<a href=\"https://colab.research.google.com/github/ProfessorPatrickSlatraigh/CST2312/blob/main/CST2312_OL80_Moby%2BSets.ipynb\" target=\"_parent\"><img src=\"https://colab.research.google.com/assets/colab-badge.svg\" alt=\"Open In Colab\"/></a>"
      ]
    },
    {
      "cell_type": "markdown",
      "metadata": {
        "id": "UBQKRvQD6wlo"
      },
      "source": [
        "# **CST2312 Updating Moby Solution With Sets**"
      ]
    },
    {
      "cell_type": "markdown",
      "metadata": {
        "id": "SslZsQ-e7B-S"
      },
      "source": [
        "\n",
        "\n",
        "---\n",
        "\n"
      ]
    },
    {
      "cell_type": "markdown",
      "metadata": {
        "id": "WXGlCEDl7EZq"
      },
      "source": [
        "Reconsider Assignment #05, reading Herman Melville's Moby Dick from the Guttenberg Press files and counting the frequency of BIP 39 mnemonics used.  Our last solution created: \n",
        "\n",
        "1.   a bip_di dictionary for the list of words used as BIP 39 menomics\n",
        "2.   a nonbip_di dictionary for a list of unique words used in Moby Dick which are not BIP 39 mnemonics\n",
        "3.   calculations to analyze the perecentage usage\n",
        "\n",
        "While our code was able to calculate the total number of unique words in Moby Dick, because those details were captured in two separate dictionaries, analysis of the total population of words was convoluted.\n",
        "\n",
        "\n",
        "\n"
      ]
    },
    {
      "cell_type": "markdown",
      "metadata": {
        "id": "3ll_Kc6e9YHj"
      },
      "source": [
        "**Here is the problem statement again:**"
      ]
    },
    {
      "cell_type": "markdown",
      "metadata": {
        "id": "jcJtUAiD90p5"
      },
      "source": [
        "Write a working Python program which uses a dictionary based on BIP 39 mnemonics to evaluate the text of Herman Melville's novel Moby Dick and count the frequency of the use of each BIP 39 mnemonic in the book.  Reference that dictionary to print a list of the top-20 most used BIP mnemonics in Moby Dick as a tuple of (key, value) in descending order of value (frequency).  Open source, available text files include:\n",
        "\n",
        "\n",
        "1.   Project Guttenberg's Moby Dick project\n",
        "2.   bip-0039.txt\n"
      ]
    },
    {
      "cell_type": "markdown",
      "metadata": {
        "id": "MYVVXZ0X-Foj"
      },
      "source": [
        "*The source files for this notebook are available on CUNY CityTech Blackboard for class and on ProfessorPatrickSlatraigh Github repo.* "
      ]
    },
    {
      "cell_type": "markdown",
      "metadata": {
        "id": "J-faFjye8tC4"
      },
      "source": [
        "Let's streamline our approach using dictionaries and sets.  We can create two dictionaries:\n",
        "\n",
        "1.   a dictionary of BIP 39 mnemonics\n",
        "2.   a dictionary of unique words in Moby Dick with the frequency of each word's use\n",
        "\n",
        "We can then use Set operations to analyze the intersection of the two dictionaries and other relationships between membership."
      ]
    },
    {
      "cell_type": "markdown",
      "metadata": {
        "id": "qavRGeVX-LrX"
      },
      "source": [
        "# *Mount the drive*"
      ]
    },
    {
      "cell_type": "markdown",
      "metadata": {
        "id": "JBYCEjsi-S2F"
      },
      "source": [
        "First things, first: mounting my Google Drive to the /content/drive area in Colab as 'My Drive' (with a space between My and Drive)."
      ]
    },
    {
      "cell_type": "code",
      "metadata": {
        "colab": {
          "base_uri": "https://localhost:8080/"
        },
        "id": "POHLzfp86lCi",
        "outputId": "8f589530-43d2-464d-850b-dc9328e26906"
      },
      "source": [
        "from google.colab import drive\n",
        "drive.mount('/content/drive')"
      ],
      "execution_count": 1,
      "outputs": [
        {
          "output_type": "stream",
          "name": "stdout",
          "text": [
            "Mounted at /content/drive\n"
          ]
        }
      ]
    },
    {
      "cell_type": "markdown",
      "metadata": {
        "id": "WS2UQj7h-URT"
      },
      "source": [
        "# *Setup the BIP 39 Dictionary*"
      ]
    },
    {
      "cell_type": "markdown",
      "metadata": {
        "id": "C8C_A1ol-d4W"
      },
      "source": [
        "From the My Drive root of my Google Drive there is a sub-folder named \"crypto\" with a line-by-line list of BIP 39 mnemonics (English language) in alphabetic order in the file \"bip-0039.txt\"."
      ]
    },
    {
      "cell_type": "markdown",
      "metadata": {
        "id": "5eXBgHej-hyr"
      },
      "source": [
        "Open the BIP 39 file with the handle bip_handle."
      ]
    },
    {
      "cell_type": "code",
      "metadata": {
        "colab": {
          "base_uri": "https://localhost:8080/"
        },
        "id": "ErrtLwPe-kzM",
        "outputId": "5ccd0006-e200-44cf-903d-728518b46871"
      },
      "source": [
        "## SETUP - OPEN THE FILE BASED ON USER SPECIFIED FILE NAME OR bip-0039.txt\n",
        "file_name = input(\"Enter file:\")\n",
        "if len(file_name) < 1:\n",
        "    name = \"/content/drive/My Drive/crypto/bip-0039.txt\"\n",
        "else:\n",
        "    name = \"/content/drive/My Drive/crypto/\" + file_name\n",
        "try:\n",
        "    bip_handle = open(name)\n",
        "except:\n",
        "    print(\"Could not open \"+name)"
      ],
      "execution_count": 2,
      "outputs": [
        {
          "name": "stdout",
          "output_type": "stream",
          "text": [
            "Enter file:\n"
          ]
        }
      ]
    },
    {
      "cell_type": "markdown",
      "metadata": {
        "id": "-bK-Q-tb-p2-"
      },
      "source": [
        "Open a the handle bip_handle file of BIP 39 mnemonics and read them, line-by-line into a dictionay as keys with an initial value of 0 (integer) for each key/value pair."
      ]
    },
    {
      "cell_type": "code",
      "metadata": {
        "id": "AcRK1dNK-weX"
      },
      "source": [
        "## bip_di - create a dictionary of BIP 39 mnemonics \n",
        "## with the mnemonic string as a key and an initial value\n",
        "## use variable x to set initial value for key/value pairs\n",
        "\n",
        "bip_di = dict()\n",
        "x = 0\n",
        "\n",
        "for word in bip_handle :\n",
        "    word = word.rstrip()\n",
        "    bip_di[word] = x"
      ],
      "execution_count": 3,
      "outputs": []
    },
    {
      "cell_type": "markdown",
      "metadata": {
        "id": "bpPT51_7-6hW"
      },
      "source": [
        "*So far, our approach has been the same.*"
      ]
    },
    {
      "cell_type": "markdown",
      "metadata": {
        "id": "8IxE6qlb-_mn"
      },
      "source": [
        "We will still want the ability to read one file from the Guttenberg collection or a range of files but instead of all the processing we did before to test for the condition of membership in bip_di, we can revert to the much simpler algorithm we have used in the past to start with an empty dictionary then build a dictionary with a word count (frequency) for each unique word read.  Let's call that dictionary moby_di."
      ]
    },
    {
      "cell_type": "markdown",
      "metadata": {
        "id": "WsJkwkAOAEeS"
      },
      "source": [
        "DRAFT DRAFT DRAFT "
      ]
    },
    {
      "cell_type": "code",
      "metadata": {
        "colab": {
          "base_uri": "https://localhost:8080/"
        },
        "id": "CaI3P4-NAScj",
        "outputId": "e797fac4-ee5f-47b4-e47b-e1939ee434f4"
      },
      "source": [
        "## IMPORT MODULES\n",
        "\n",
        "# import string module to access string.punction list\n",
        "import string\n",
        "\n",
        "## INITIATLIZE moby_di DICTIONARY\n",
        "moby_di = dict()\n",
        "\n",
        "\n",
        "## SETUP FILES - OPEN A RANGE OF FILES BASED ON USER SPECIFIED START/FINISH\n",
        "## OR JUST OPEN A SINGLE FILE (IF series_start == series_end)\n",
        "## IF ANY ERROR, PRINT A MESSAGE AND STOP PROCESSING\n",
        "\n",
        "# initiate a Boolean to control process flow\n",
        "proceed = True\n",
        "\n",
        "print(\"Let's open one or more files in the Moby Dick series.\")\n",
        "print(\"You will be prompted to enter a start and end value.\")\n",
        "print(\"Both values must be integers between 0 and 134, inclusive.\")\n",
        "input_start = input(\"Enter Moby Dick text file start sequence: \")\n",
        "input_end = input(\"Enter Moby Dick text file end sequence: \")\n",
        "print()\n",
        "\n",
        "\n",
        "# attempt to convert inputs to integer values\n",
        "try: \n",
        "    series_start = int(input_start)\n",
        "    series_end = int(input_end)\n",
        "except:\n",
        "    print(\"Your inputs: \", input_start, \"/\", input_end, \" are not valid.\")\n",
        "    proceed = False\n",
        "\n",
        "# code to execute if inputs are valid integers\n",
        "if proceed:\n",
        "\n",
        "    # test integer values in range (0 and 134, inclusive) and logical\n",
        "    if series_start > series_end:\n",
        "        print(\"We cannot start at \", series_start, \"and end at \", series_end, \".\")\n",
        "    elif not 0 <= series_start <= 134:\n",
        "        print(\"The start value of \", series_start, \"is invalid.\")\n",
        "    elif not 0 <= series_end <= 134: \n",
        "        print(\"The end value of \", series_start, \"is invalid.\")\n",
        "\n",
        "\n",
        "## LOOPING - USE A FOR LOOP TO PROCESS EVERY FILE IN RANGE\n",
        "## OPEN EACH FILE WITH THE SAME HANDLE (moby_handle) AND\n",
        "## PROCESS EVERY NON-TRIVIAL LINE IN EACH FILE\n",
        "## CHECK EACH WORD ON EACH NON-TRIVIAL LINE\n",
        "## AND INCREASE THE COUNTERS FOR BIP 39 MNEMONIC WORDS\n",
        "\n",
        "# initiate a list of problem files not processed\n",
        "problem_files = list()\n",
        "# initiate a counter of problems detected\n",
        "problems = 0\n",
        "\n",
        "\n",
        "# Set variables for the file qualifers (path and extension)\n",
        "qualifier_pre = \"/content/drive/My Drive/moby/moby-\"\n",
        "qualifier_post = \".txt\"\n",
        "\n",
        "# work through the range of files to be processed\n",
        "for series_file in range(series_start, series_end+1):\n",
        "\n",
        "    # Build up three-character strings for series_file_str\n",
        "    if len(str(series_file)) > 3 or  len(str(series_file)) < 1:\n",
        "        print(\"Something is wrong with the series value \", series_file)\n",
        "        input(\"Escape/Break now or hit enter to continue.\") \n",
        "    elif len(str(series_file)) == 3 :\n",
        "        series_file_str = str(series_file)\n",
        "    elif len(str(series_file)) == 2 :\n",
        "        series_file_str = \"0\" + str(series_file)\n",
        "    elif len(str(series_file)) == 1 :\n",
        "        series_file_str = \"00\" + str(series_file)\n",
        "\n",
        "    # scaffolding to peek at the processing of the file name range\n",
        "    # print(\"Series file number \", series_file, \" / Series string: \", series_file_str)\n",
        "    # input(\"Type enter to continue.\")\n",
        "\n",
        "    # build up a fully qualified file name for the current file in sequence\n",
        "    qualified_file = qualifier_pre + series_file_str + qualifier_post\n",
        "\n",
        "    # open the fully qualified file name with moby_handle\n",
        "    # attempt some elegant escape if no file to open, etc.\n",
        "    try:\n",
        "        moby_handle = open(qualified_file)\n",
        "    except:\n",
        "        if not problems :\n",
        "            print()\n",
        "            print(\"There were one or problems with files in range.\")\n",
        "        problems += 1\n",
        "        problem_files.append(qualified_file)\n",
        "        print(\"Could not open \" + qualified_file)\n",
        "        print(\"Something went wrong with the series value \", series_file)\n",
        "        input(\"Escape/Break now or hit enter to continue.\") \n",
        "\n",
        "    # process lines and words on lines within this file in the series\n",
        "    for line in moby_handle :\n",
        "        if line[:2] != \"..\" :\n",
        "            line = line.rstrip()  # strip off newlines and right noise\n",
        "            line = line.replace('-',' ')   # replace dashes with spaces\n",
        "            # print(line)\n",
        "            # input(\"Type enter to continue\")\n",
        "            words = line.split()\n",
        "            for word in words :\n",
        "                word = word.lower()\n",
        "                # initiate a string variable clean_word for removing punctuation\n",
        "                clean_word=\"\"\n",
        "                for i in word:\n",
        "                    if i not in string.punctuation:\n",
        "                        clean_word = clean_word + i \n",
        "                # idiom retrieve/create/update counter\n",
        "                moby_di[clean_word] = moby_di.get(clean_word, 0) + 1\n",
        "                    \n",
        "    # scaffolding to display summary info on the file processes\n",
        "    # print(\"File \", qualified_file, \" processed.\")\n",
        "    # input(\"Type Enter to continue.\")\n"
      ],
      "execution_count": 4,
      "outputs": [
        {
          "output_type": "stream",
          "name": "stdout",
          "text": [
            "Let's open one or more files in the Moby Dick series.\n",
            "You will be prompted to enter a start and end value.\n",
            "Both values must be integers between 0 and 134, inclusive.\n",
            "Enter Moby Dick text file start sequence: 1\n",
            "Enter Moby Dick text file end sequence: 1\n",
            "\n"
          ]
        }
      ]
    },
    {
      "cell_type": "code",
      "metadata": {
        "id": "LBJFknvxBXQq"
      },
      "source": [
        "print(len(moby_di))\n"
      ],
      "execution_count": null,
      "outputs": []
    },
    {
      "cell_type": "code",
      "metadata": {
        "id": "W3yihmdRB1_8"
      },
      "source": [
        "intersection_keys = bip_di.keys() & moby_di.keys()\n",
        "print(intersection_keys)\n",
        "for key in intersection_keys:\n",
        "    print(key, moby_di[key])"
      ],
      "execution_count": null,
      "outputs": []
    },
    {
      "cell_type": "code",
      "metadata": {
        "id": "Em_zli31CE3l"
      },
      "source": [
        ""
      ],
      "execution_count": null,
      "outputs": []
    }
  ]
}