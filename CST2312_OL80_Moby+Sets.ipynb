{
  "nbformat": 4,
  "nbformat_minor": 0,
  "metadata": {
    "colab": {
      "name": "CST2312-OL80_Moby+Sets.ipynb",
      "provenance": [],
      "authorship_tag": "ABX9TyP5qE/8C+j2X932G0ScUGhI",
      "include_colab_link": true
    },
    "kernelspec": {
      "name": "python3",
      "display_name": "Python 3"
    },
    "language_info": {
      "name": "python"
    }
  },
  "cells": [
    {
      "cell_type": "markdown",
      "metadata": {
        "id": "view-in-github",
        "colab_type": "text"
      },
      "source": [
        "<a href=\"https://colab.research.google.com/github/ProfessorPatrickSlatraigh/CST2312/blob/main/CST2312_OL80_Moby%2BSets.ipynb\" target=\"_parent\"><img src=\"https://colab.research.google.com/assets/colab-badge.svg\" alt=\"Open In Colab\"/></a>"
      ]
    },
    {
      "cell_type": "markdown",
      "metadata": {
        "id": "UBQKRvQD6wlo"
      },
      "source": [
        "# **CST2312 Updating Moby Solution With Sets**"
      ]
    },
    {
      "cell_type": "markdown",
      "metadata": {
        "id": "SslZsQ-e7B-S"
      },
      "source": [
        "\n",
        "\n",
        "---\n",
        "\n"
      ]
    },
    {
      "cell_type": "markdown",
      "metadata": {
        "id": "WXGlCEDl7EZq"
      },
      "source": [
        "Reconsider Assignment #05, reading Herman Melville's Moby Dick from the Guttenberg Press files and counting the frequency of BIP 39 mnemonics used.  Our last solution created: \n",
        "\n",
        "1.   a bip_di dictionary for the list of words used as BIP 39 menomics\n",
        "2.   a nonbip_di dictionary for a list of unique words used in Moby Dick which are not BIP 39 mnemonics\n",
        "3.   calculations to analyze the perecentage usage\n",
        "\n",
        "While our code was able to calculate the total number of unique words in Moby Dick, because those details were captured in two separate dictionaries, analysis of the total population of words was convoluted.\n",
        "\n",
        "\n",
        "\n"
      ]
    },
    {
      "cell_type": "markdown",
      "metadata": {
        "id": "3ll_Kc6e9YHj"
      },
      "source": [
        "**Here is the problem statement again:**"
      ]
    },
    {
      "cell_type": "markdown",
      "metadata": {
        "id": "jcJtUAiD90p5"
      },
      "source": [
        "Write a working Python program which uses a dictionary based on BIP 39 mnemonics to evaluate the text of Herman Melville's novel Moby Dick and count the frequency of the use of each BIP 39 mnemonic in the book.  Reference that dictionary to print a list of the top-20 most used BIP mnemonics in Moby Dick as a tuple of (key, value) in descending order of value (frequency).  Open source, available text files include:\n",
        "\n",
        "\n",
        "1.   Project Guttenberg's Moby Dick project\n",
        "2.   bip-0039.txt\n"
      ]
    },
    {
      "cell_type": "markdown",
      "metadata": {
        "id": "MYVVXZ0X-Foj"
      },
      "source": [
        "*The source files for this notebook are available on CUNY CityTech Blackboard for class and on ProfessorPatrickSlatraigh Github repo.* "
      ]
    },
    {
      "cell_type": "markdown",
      "metadata": {
        "id": "J-faFjye8tC4"
      },
      "source": [
        "Let's streamline our approach using dictionaries and sets.  We can create two dictionaries:\n",
        "\n",
        "1.   a dictionary of BIP 39 mnemonics\n",
        "2.   a dictionary of unique words in Moby Dick with the frequency of each word's use\n",
        "\n",
        "We can then use Set operations to analyze the intersection of the two dictionaries and other relationships between membership."
      ]
    },
    {
      "cell_type": "markdown",
      "metadata": {
        "id": "qavRGeVX-LrX"
      },
      "source": [
        "# *Mount the drive*"
      ]
    },
    {
      "cell_type": "markdown",
      "metadata": {
        "id": "JBYCEjsi-S2F"
      },
      "source": [
        "First things, first: mounting my Google Drive to the /content/drive area in Colab as 'My Drive' (with a space between My and Drive)."
      ]
    },
    {
      "cell_type": "code",
      "metadata": {
        "colab": {
          "base_uri": "https://localhost:8080/"
        },
        "id": "POHLzfp86lCi",
        "outputId": "1aab69db-cd7b-44f8-f48d-b95d1ac56c43"
      },
      "source": [
        "from google.colab import drive\n",
        "drive.mount('/content/drive')"
      ],
      "execution_count": 9,
      "outputs": [
        {
          "output_type": "stream",
          "name": "stdout",
          "text": [
            "Drive already mounted at /content/drive; to attempt to forcibly remount, call drive.mount(\"/content/drive\", force_remount=True).\n"
          ]
        }
      ]
    },
    {
      "cell_type": "markdown",
      "metadata": {
        "id": "WS2UQj7h-URT"
      },
      "source": [
        "# *Setup the BIP 39 Dictionary*"
      ]
    },
    {
      "cell_type": "markdown",
      "metadata": {
        "id": "C8C_A1ol-d4W"
      },
      "source": [
        "From the My Drive root of my Google Drive there is a sub-folder named \"crypto\" with a line-by-line list of BIP 39 mnemonics (English language) in alphabetic order in the file \"bip-0039.txt\"."
      ]
    },
    {
      "cell_type": "markdown",
      "metadata": {
        "id": "5eXBgHej-hyr"
      },
      "source": [
        "Open the BIP 39 file with the handle bip_handle."
      ]
    },
    {
      "cell_type": "code",
      "metadata": {
        "colab": {
          "base_uri": "https://localhost:8080/"
        },
        "id": "ErrtLwPe-kzM",
        "outputId": "03d1d08f-3f56-40b5-cd8d-1375f638beb6"
      },
      "source": [
        "## SETUP - OPEN THE FILE BASED ON USER SPECIFIED FILE NAME OR bip-0039.txt\n",
        "file_name = input(\"Enter file:\")\n",
        "if len(file_name) < 1:\n",
        "    name = \"/content/drive/My Drive/crypto/bip-0039.txt\"\n",
        "else:\n",
        "    name = \"/content/drive/My Drive/crypto/\" + file_name\n",
        "try:\n",
        "    bip_handle = open(name)\n",
        "except:\n",
        "    print(\"Could not open \"+name)"
      ],
      "execution_count": 14,
      "outputs": [
        {
          "name": "stdout",
          "output_type": "stream",
          "text": [
            "Enter file:\n"
          ]
        }
      ]
    },
    {
      "cell_type": "markdown",
      "metadata": {
        "id": "-bK-Q-tb-p2-"
      },
      "source": [
        "Open a the handle bip_handle file of BIP 39 mnemonics and read them, line-by-line into a dictionay as keys with an initial value of 0 (integer) for each key/value pair."
      ]
    },
    {
      "cell_type": "code",
      "metadata": {
        "id": "AcRK1dNK-weX"
      },
      "source": [
        "## bip_di - create a dictionary of BIP 39 mnemonics \n",
        "## with the mnemonic string as a key and an initial value\n",
        "## use variable x to set initial value for key/value pairs\n",
        "\n",
        "bip_di = dict()\n",
        "x = 0\n",
        "\n",
        "for word in bip_handle :\n",
        "    word = word.rstrip()\n",
        "    bip_di[word] = x"
      ],
      "execution_count": 15,
      "outputs": []
    },
    {
      "cell_type": "markdown",
      "metadata": {
        "id": "bpPT51_7-6hW"
      },
      "source": [
        "*So far, our approach has been the same.*"
      ]
    },
    {
      "cell_type": "markdown",
      "metadata": {
        "id": "8IxE6qlb-_mn"
      },
      "source": [
        "We will still want the ability to read one file from the Guttenberg collection or a range of files but instead of all the processing we did before to test for the condition of membership in bip_di, we can revert to the much simpler algorithm we have used in the past to start with an empty dictionary then build a dictionary with a word count (frequency) for each unique word read.  Let's call that dictionary moby_di."
      ]
    },
    {
      "cell_type": "markdown",
      "metadata": {
        "id": "WsJkwkAOAEeS"
      },
      "source": [
        "DRAFT DRAFT DRAFT "
      ]
    },
    {
      "cell_type": "code",
      "metadata": {
        "colab": {
          "base_uri": "https://localhost:8080/"
        },
        "id": "CaI3P4-NAScj",
        "outputId": "a5cb0bf0-bf6c-4235-bd9b-8f52d5c4a82d"
      },
      "source": [
        "## IMPORT MODULES\n",
        "\n",
        "# import string module to access string.punction list\n",
        "import string\n",
        "\n",
        "## INITIATLIZE moby_di DICTIONARY\n",
        "moby_di = dict()\n",
        "\n",
        "\n",
        "## SETUP FILES - OPEN A RANGE OF FILES BASED ON USER SPECIFIED START/FINISH\n",
        "## OR JUST OPEN A SINGLE FILE (IF series_start == series_end)\n",
        "## IF ANY ERROR, PRINT A MESSAGE AND STOP PROCESSING\n",
        "\n",
        "# initiate a Boolean to control process flow\n",
        "proceed = True\n",
        "\n",
        "print(\"Let's open one or more files in the Moby Dick series.\")\n",
        "print(\"You will be prompted to enter a start and end value.\")\n",
        "print(\"Both values must be integers between 0 and 134, inclusive.\")\n",
        "input_start = input(\"Enter Moby Dick text file start sequence: \")\n",
        "input_end = input(\"Enter Moby Dick text file end sequence: \")\n",
        "print()\n",
        "\n",
        "\n",
        "# attempt to convert inputs to integer values\n",
        "try: \n",
        "    series_start = int(input_start)\n",
        "    series_end = int(input_end)\n",
        "except:\n",
        "    print(\"Your inputs: \", input_start, \"/\", input_end, \" are not valid.\")\n",
        "    proceed = False\n",
        "\n",
        "# code to execute if inputs are valid integers\n",
        "if proceed:\n",
        "\n",
        "    # test integer values in range (0 and 134, inclusive) and logical\n",
        "    if series_start > series_end:\n",
        "        print(\"We cannot start at \", series_start, \"and end at \", series_end, \".\")\n",
        "    elif not 0 <= series_start <= 134:\n",
        "        print(\"The start value of \", series_start, \"is invalid.\")\n",
        "    elif not 0 <= series_end <= 134: \n",
        "        print(\"The end value of \", series_start, \"is invalid.\")\n",
        "\n",
        "\n",
        "## LOOPING - USE A FOR LOOP TO PROCESS EVERY FILE IN RANGE\n",
        "## OPEN EACH FILE WITH THE SAME HANDLE (moby_handle) AND\n",
        "## PROCESS EVERY NON-TRIVIAL LINE IN EACH FILE\n",
        "## CHECK EACH WORD ON EACH NON-TRIVIAL LINE\n",
        "## AND INCREASE THE COUNTERS FOR BIP 39 MNEMONIC WORDS\n",
        "\n",
        "# initiate a list of problem files not processed\n",
        "problem_files = list()\n",
        "# initiate a counter of problems detected\n",
        "problems = 0\n",
        "\n",
        "\n",
        "# Set variables for the file qualifers (path and extension)\n",
        "qualifier_pre = \"/content/drive/My Drive/moby/moby-\"\n",
        "qualifier_post = \".txt\"\n",
        "\n",
        "# work through the range of files to be processed\n",
        "for series_file in range(series_start, series_end+1):\n",
        "\n",
        "    # Build up three-character strings for series_file_str\n",
        "    if len(str(series_file)) > 3 or  len(str(series_file)) < 1:\n",
        "        print(\"Something is wrong with the series value \", series_file)\n",
        "        input(\"Escape/Break now or hit enter to continue.\") \n",
        "    elif len(str(series_file)) == 3 :\n",
        "        series_file_str = str(series_file)\n",
        "    elif len(str(series_file)) == 2 :\n",
        "        series_file_str = \"0\" + str(series_file)\n",
        "    elif len(str(series_file)) == 1 :\n",
        "        series_file_str = \"00\" + str(series_file)\n",
        "\n",
        "    # scaffolding to peek at the processing of the file name range\n",
        "    # print(\"Series file number \", series_file, \" / Series string: \", series_file_str)\n",
        "    # input(\"Type enter to continue.\")\n",
        "\n",
        "    # build up a fully qualified file name for the current file in sequence\n",
        "    qualified_file = qualifier_pre + series_file_str + qualifier_post\n",
        "\n",
        "    # open the fully qualified file name with moby_handle\n",
        "    # attempt some elegant escape if no file to open, etc.\n",
        "    try:\n",
        "        moby_handle = open(qualified_file)\n",
        "    except:\n",
        "        if not problems :\n",
        "            print()\n",
        "            print(\"There were one or problems with files in range.\")\n",
        "        problems += 1\n",
        "        problem_files.append(qualified_file)\n",
        "        print(\"Could not open \" + qualified_file)\n",
        "        print(\"Something went wrong with the series value \", series_file)\n",
        "        input(\"Escape/Break now or hit enter to continue.\") \n",
        "\n",
        "    # process lines and words on lines within this file in the series\n",
        "    for line in moby_handle :\n",
        "        if line[:2] != \"..\" :\n",
        "            line = line.rstrip()  # strip off newlines and right noise\n",
        "            line = line.replace('-',' ')   # replace dashes with spaces\n",
        "            # print(line)\n",
        "            # input(\"Type enter to continue\")\n",
        "            words = line.split()\n",
        "            for word in words :\n",
        "                word = word.lower()\n",
        "                # initiate a string variable clean_word for removing punctuation\n",
        "                clean_word=\"\"\n",
        "                for i in word:\n",
        "                    if i not in string.punctuation:\n",
        "                        clean_word = clean_word + i \n",
        "                # idiom retrieve/create/update counter\n",
        "                moby_di[clean_word] = moby_di.get(clean_word, 0) + 1\n",
        "                    \n",
        "    # scaffolding to display summary info on the file processes\n",
        "    # print(\"File \", qualified_file, \" processed.\")\n",
        "    # input(\"Type Enter to continue.\")\n"
      ],
      "execution_count": 16,
      "outputs": [
        {
          "output_type": "stream",
          "name": "stdout",
          "text": [
            "Let's open one or more files in the Moby Dick series.\n",
            "You will be prompted to enter a start and end value.\n",
            "Both values must be integers between 0 and 134, inclusive.\n",
            "Enter Moby Dick text file start sequence: 1\n",
            "Enter Moby Dick text file end sequence: 1\n",
            "\n"
          ]
        }
      ]
    },
    {
      "cell_type": "markdown",
      "metadata": {
        "id": "Wwq3OTx8JD8c"
      },
      "source": [
        "We can use the len() function to see how many unique words were read."
      ]
    },
    {
      "cell_type": "code",
      "metadata": {
        "id": "LBJFknvxBXQq",
        "colab": {
          "base_uri": "https://localhost:8080/"
        },
        "outputId": "81de668f-f0ae-49f9-8b14-a49421a03335"
      },
      "source": [
        "print(len(moby_di))\n"
      ],
      "execution_count": 17,
      "outputs": [
        {
          "output_type": "stream",
          "name": "stdout",
          "text": [
            "851\n"
          ]
        }
      ]
    },
    {
      "cell_type": "markdown",
      "metadata": {
        "id": "_blL6wqKJemY"
      },
      "source": [
        "We can use set operators including the Intersection (&) operator to learn how many of the unique words (keys) in moby_di are also keys in the BIP 39 mnemonic dictio ary bip_di."
      ]
    },
    {
      "cell_type": "code",
      "metadata": {
        "id": "W3yihmdRB1_8",
        "colab": {
          "base_uri": "https://localhost:8080/"
        },
        "outputId": "1b0e54c0-2485-4a87-fd9a-0439fa45c96b"
      },
      "source": [
        "intersection_keys = bip_di.keys() & moby_di.keys()\n",
        "print(len(intersection_keys))\n"
      ],
      "execution_count": 24,
      "outputs": [
        {
          "output_type": "stream",
          "name": "stdout",
          "text": [
            "238\n"
          ]
        }
      ]
    },
    {
      "cell_type": "markdown",
      "metadata": {
        "id": "z1bHBh94V9xt"
      },
      "source": [
        "We can create a list of tuples for the intersection of keys between bip_di and moby_di"
      ]
    },
    {
      "cell_type": "code",
      "metadata": {
        "id": "LXsYFrF8WLkF"
      },
      "source": [
        "matched_pairs = list()\n",
        "for key in intersection_keys:\n",
        "    matched_pairs.append((key, moby_di[key]))\n"
      ],
      "execution_count": 58,
      "outputs": []
    },
    {
      "cell_type": "markdown",
      "metadata": {
        "id": "uHv73n6vXBeT"
      },
      "source": [
        "Exploring the list matched_frequency"
      ]
    },
    {
      "cell_type": "code",
      "metadata": {
        "colab": {
          "base_uri": "https://localhost:8080/"
        },
        "id": "Pr610djrXGa3",
        "outputId": "60649637-d7ab-4831-d2b1-92303a90528e"
      },
      "source": [
        "type(matched_pairs)\n",
        "print(matched_pairs[0:20])\n"
      ],
      "execution_count": 59,
      "outputs": [
        {
          "output_type": "stream",
          "name": "stdout",
          "text": [
            "[('way', 6), ('such', 5), ('image', 3), ('first', 4), ('path', 1), ('mind', 1), ('soul', 3), ('enjoy', 1), ('find', 2), ('strong', 2), ('can', 6), ('just', 2), ('because', 4), ('enough', 1), ('between', 2), ('chief', 2), ('enter', 1), ('soon', 1), ('second', 1), ('knee', 1)]\n"
          ]
        }
      ]
    },
    {
      "cell_type": "markdown",
      "metadata": {
        "id": "crupMCkFQAhO"
      },
      "source": [
        "Using the sorted() method on items, we can create a list of unique moby_di words used in descending order.  We use the key word lambda to assign each key of the key:value pairs to kv which is used as the sort key by sorted()"
      ]
    },
    {
      "cell_type": "code",
      "metadata": {
        "id": "Vj_Q0mK2Mero"
      },
      "source": [
        "# moby_frequency = sorted(moby_di.items(), key = lambda kv:kv[1], reverse=True)\n",
        "matched_frequency = sorted(matched_pairs, key = lambda kv:kv[1], reverse=True)"
      ],
      "execution_count": 60,
      "outputs": []
    },
    {
      "cell_type": "markdown",
      "metadata": {
        "id": "UOVa3pD3Sren"
      },
      "source": [
        "Check the type of sorted_frequency"
      ]
    },
    {
      "cell_type": "code",
      "metadata": {
        "colab": {
          "base_uri": "https://localhost:8080/"
        },
        "id": "VEs_WoXhSGyQ",
        "outputId": "2805e88e-3ecc-42c6-e4ab-8b837344c12e"
      },
      "source": [
        "type(matched_frequency)"
      ],
      "execution_count": 61,
      "outputs": [
        {
          "output_type": "execute_result",
          "data": {
            "text/plain": [
              "list"
            ]
          },
          "metadata": {},
          "execution_count": 61
        }
      ]
    },
    {
      "cell_type": "markdown",
      "metadata": {
        "id": "E0uITVpfSwgK"
      },
      "source": [
        "We see that sorted_frequency is a list and on further inspection that it is a list of tuples which represent key:value pairs from the original dictionary moby_di"
      ]
    },
    {
      "cell_type": "code",
      "metadata": {
        "colab": {
          "base_uri": "https://localhost:8080/"
        },
        "id": "2yF_W5dtQm31",
        "outputId": "2b2d0d48-eac8-4797-b7d3-0edfd7d5576b"
      },
      "source": [
        "print(matched_frequency[0:20])\n"
      ],
      "execution_count": 62,
      "outputs": [
        {
          "output_type": "stream",
          "name": "stdout",
          "text": [
            "[('that', 31), ('you', 23), ('all', 23), ('this', 17), ('there', 16), ('sea', 13), ('they', 12), ('one', 10), ('what', 9), ('upon', 9), ('into', 9), ('water', 8), ('have', 8), ('about', 7), ('way', 6), ('can', 6), ('like', 6), ('more', 6), ('voyage', 6), ('time', 6)]\n"
          ]
        }
      ]
    },
    {
      "cell_type": "markdown",
      "metadata": {
        "id": "qMzGKngKJ0Ai"
      },
      "source": [
        "We can report on the processing of selected text files just as we did in our prior solution but now we use the bip_di and moby_di dictionaries and Set operators."
      ]
    },
    {
      "cell_type": "code",
      "metadata": {
        "id": "Em_zli31CE3l",
        "colab": {
          "base_uri": "https://localhost:8080/"
        },
        "outputId": "b67464b6-3fc2-41f2-866c-d613b06796c8"
      },
      "source": [
        "## Report on the results in the dictionaries bip_di and moby_di\n",
        "## Find the words (keys) of the most frequently used mnemonics in the bip_di dictionary\n",
        "## Present an advisory message about any problems encountered\n",
        "## Print the desired list of top-20 BIP 39 mnemonics in Moby Dick in descending order\n",
        "\n",
        "\n",
        "\n",
        "# We can use the list of words (keys) by descending frequency to access dictionary pairs\n",
        "# Print the mnemonic and its related count as a key/value pair tuple\n",
        "print()\n",
        "print()\n",
        "print(\"Here are the top 20 BIP 39 Mnemonics used in the Moby Dick files you selected.\")\n",
        "print(\"You chose Moby Dick text file \" + \n",
        "      str(series_start) + \" to \" + str(series_end) + \".\")\n",
        "if problems:\n",
        "    print(\"The following files were not able to be processed.\")\n",
        "    for problem_file in problem_files:\n",
        "        print(problem_file)\n",
        "print()\n",
        "print(\"(BIP 39 Word, Count)\")\n",
        "print(\" -----------  ----- \")\n",
        "\n",
        "for pair in matched_frequency[:20] :\n",
        "    print(pair)"
      ],
      "execution_count": 64,
      "outputs": [
        {
          "output_type": "stream",
          "name": "stdout",
          "text": [
            "\n",
            "\n",
            "Here are the top 20 BIP 39 Mnemonics used in the Moby Dick files you selected.\n",
            "You chose Moby Dick text file 1 to 1.\n",
            "\n",
            "(BIP 39 Word, Count)\n",
            " -----------  ----- \n",
            "('that', 31)\n",
            "('you', 23)\n",
            "('all', 23)\n",
            "('this', 17)\n",
            "('there', 16)\n",
            "('sea', 13)\n",
            "('they', 12)\n",
            "('one', 10)\n",
            "('what', 9)\n",
            "('upon', 9)\n",
            "('into', 9)\n",
            "('water', 8)\n",
            "('have', 8)\n",
            "('about', 7)\n",
            "('way', 6)\n",
            "('can', 6)\n",
            "('like', 6)\n",
            "('more', 6)\n",
            "('voyage', 6)\n",
            "('time', 6)\n"
          ]
        }
      ]
    },
    {
      "cell_type": "markdown",
      "metadata": {
        "id": "-U7CGC8qZTLl"
      },
      "source": [
        "\n",
        "\n",
        "---\n",
        "\n"
      ]
    },
    {
      "cell_type": "markdown",
      "metadata": {
        "id": "Vu9lkT5KZUH7"
      },
      "source": [
        "*Some of the other analytics produced in the original solution may be created using our Set data.*"
      ]
    },
    {
      "cell_type": "code",
      "metadata": {
        "colab": {
          "base_uri": "https://localhost:8080/"
        },
        "id": "V3wdBBmNZcig",
        "outputId": "8e0c089b-f1b7-440d-c847-71e1387a10dc"
      },
      "source": [
        "mnemonics_used = len(bip_di.keys() & moby_di.keys())\n",
        "\n",
        "print(\"There are\", len(bip_di), \" BIP39 mnemonics evaluated in the selection.\")\n",
        "print(\"Of those\", mnemonics_used, \" mnemonics were used in the selection.\")\n",
        "print(\"The {0} mnemonics used represent {1}% of the BIP 39 list.\".format(mnemonics_used, mnemonics_used/len(bip_di)))\n"
      ],
      "execution_count": 66,
      "outputs": [
        {
          "output_type": "stream",
          "name": "stdout",
          "text": [
            "There are 2048  BIP39 mnemonics evaluated in the selection.\n",
            "Of those 238  mnemonics were used in the selection.\n",
            "The 238 mnemonics used represent 0.1162109375% of the BIP 39 list.\n"
          ]
        }
      ]
    },
    {
      "cell_type": "code",
      "metadata": {
        "colab": {
          "base_uri": "https://localhost:8080/"
        },
        "id": "6R_ZthNOaEuJ",
        "outputId": "20af576e-2a54-4adc-a188-085c49319a26"
      },
      "source": [
        "print(\"There are\", len(moby_di.keys() - bip_di.keys()), \" non-BIP39 words used in the selection.\")"
      ],
      "execution_count": 67,
      "outputs": [
        {
          "output_type": "stream",
          "name": "stdout",
          "text": [
            "There are 613  non-BIP39 words used in the selection.\n"
          ]
        }
      ]
    },
    {
      "cell_type": "code",
      "metadata": {
        "colab": {
          "base_uri": "https://localhost:8080/"
        },
        "id": "Lp22BKA6aetp",
        "outputId": "bd325e5e-c609-4488-9abc-ee306eb08a09"
      },
      "source": [
        "try:\n",
        "    print(\"In total, there are\", len(moby_di), \"unique words in the selection.\")\n",
        "    print(\"BIP 39 mnemonics represent {0}% of the unique words in the selection.\".format(mnemonics_used/len(moby_di)))\n",
        "    \n",
        "except:\n",
        "   pass"
      ],
      "execution_count": 69,
      "outputs": [
        {
          "output_type": "stream",
          "name": "stdout",
          "text": [
            "In total, there are 851 unique words in the selection.\n",
            "BIP 39 mnemonics represent 0.2796709753231492% of the unique words in the selection.\n"
          ]
        }
      ]
    }
  ]
}