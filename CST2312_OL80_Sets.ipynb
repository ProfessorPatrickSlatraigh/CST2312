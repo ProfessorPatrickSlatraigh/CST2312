{
  "nbformat": 4,
  "nbformat_minor": 0,
  "metadata": {
    "colab": {
      "name": "CST2312-OL80_Sets.ipynb",
      "provenance": [],
      "collapsed_sections": [],
      "include_colab_link": true
    },
    "kernelspec": {
      "name": "python3",
      "display_name": "Python 3"
    },
    "language_info": {
      "name": "python"
    }
  },
  "cells": [
    {
      "cell_type": "markdown",
      "metadata": {
        "id": "view-in-github",
        "colab_type": "text"
      },
      "source": [
        "<a href=\"https://colab.research.google.com/github/ProfessorPatrickSlatraigh/CST2312/blob/main/CST2312_OL80_Sets.ipynb\" target=\"_parent\"><img src=\"https://colab.research.google.com/assets/colab-badge.svg\" alt=\"Open In Colab\"/></a>"
      ]
    },
    {
      "cell_type": "markdown",
      "metadata": {
        "id": "zQVqGgEEHXUB"
      },
      "source": [
        "# **CST2312 Complex Data Strucures: Sets**"
      ]
    },
    {
      "cell_type": "markdown",
      "metadata": {
        "id": "hY7hJbpqHfjb"
      },
      "source": [
        "\n",
        "\n",
        "---\n",
        "\n"
      ]
    },
    {
      "cell_type": "markdown",
      "metadata": {
        "id": "REcbnaVdp8Ar"
      },
      "source": [
        "A set is a data structure where all elements are unique. While they are similar \n",
        "to lists, in sets there is **no order** among the items in a set, and sets do **not** support indexing. Sets are ideal for membership queries, i.e., checking if an items appears in the set or not."
      ]
    },
    {
      "cell_type": "markdown",
      "metadata": {
        "id": "7SfL2S5DrwRO"
      },
      "source": [
        " **Reading** \n",
        "\n",
        "This lesson is not a part of the Python for Everybody (py4e.com) lesson set.  You can read about **Sets** at the following link from the book \"Think Python 2020\": \n",
        "\n",
        "[Sets](https://greenteapress.com/thinkpython2/html/thinkpython2020.html#sec227) "
      ]
    },
    {
      "cell_type": "markdown",
      "metadata": {
        "id": "gMrBzzoNIMuh"
      },
      "source": [
        "\n",
        "\n",
        "---\n",
        "\n"
      ]
    },
    {
      "cell_type": "markdown",
      "metadata": {
        "id": "5GfzItlBuP0a"
      },
      "source": [
        "## Creating Sets"
      ]
    },
    {
      "cell_type": "markdown",
      "metadata": {
        "id": "1R3cNucEuRgw"
      },
      "source": [
        "Sets are specified by curly braces, `{ }`, containing one or more comma separated values. To specify an empty list, you can use the alternative construct, `set()`.  Note that creating sets using curly braces differs from creating dictionaries with curly braces as the elements separated by commas are not key:value pairs."
      ]
    },
    {
      "cell_type": "code",
      "metadata": {
        "id": "bBVvkjpsuO7Z"
      },
      "source": [
        "# creating sets\n",
        "one_set = {4, 2, 1, 3}\n",
        "print(one_set)"
      ],
      "execution_count": null,
      "outputs": []
    },
    {
      "cell_type": "code",
      "metadata": {
        "id": "hOjTaSeep7ew"
      },
      "source": [
        "two_set = {6, 5, 4, -2}\n",
        "print(two_set)"
      ],
      "execution_count": null,
      "outputs": []
    },
    {
      "cell_type": "code",
      "metadata": {
        "id": "P-ku1DVOuar4"
      },
      "source": [
        "three_set = {5, 0, -3, 4, 4, 4, 4}\n",
        "print(three_set)"
      ],
      "execution_count": null,
      "outputs": []
    },
    {
      "cell_type": "code",
      "metadata": {
        "id": "46bOXpp1udj4"
      },
      "source": [
        "# creating an empty set; notice that we do *not* use the \"empty set = {}\" command\n",
        "# as someone would expect based on the way that we create an empty list\n",
        "empty_set = set()\n",
        "print(empty_set)"
      ],
      "execution_count": null,
      "outputs": []
    },
    {
      "cell_type": "markdown",
      "metadata": {
        "id": "dQHsGAyiukzx"
      },
      "source": [
        "We can also create a set from a list:"
      ]
    },
    {
      "cell_type": "code",
      "metadata": {
        "id": "_ZjEvwNbumF4"
      },
      "source": [
        "my_list = [1, 2, 3, 0, 5, 10, 11, 1, 5]\n",
        "my_set = set(my_list)\n",
        "print(my_list)\n",
        "print(my_set)"
      ],
      "execution_count": null,
      "outputs": []
    },
    {
      "cell_type": "markdown",
      "metadata": {
        "id": "Y6QWytY0un9I"
      },
      "source": [
        "**As expected, the set created from a list does not contain any duplicate elements.**"
      ]
    },
    {
      "cell_type": "markdown",
      "metadata": {
        "id": "C16P90MHIqK6"
      },
      "source": [
        "This is a fast, easy, and reliable way to prepare to analyze membership in a list or lists, and to evaluate like subsets (intersections) or differences between lists. "
      ]
    },
    {
      "cell_type": "code",
      "metadata": {
        "id": "zeWd_iSWurph"
      },
      "source": [
        "print(\"Length of list:\", len(my_list))\n",
        "print(\"Length of set:\", len(my_set))"
      ],
      "execution_count": null,
      "outputs": []
    },
    {
      "cell_type": "markdown",
      "metadata": {
        "id": "w3JZ1aZuuvnn"
      },
      "source": [
        "As seen above, we can use **len()** to get the number of elements in a list. Similarly, we can use the other functions **min()**, **max()**, **sum()**, **sorted()** etc., that we also used for lists."
      ]
    },
    {
      "cell_type": "markdown",
      "metadata": {
        "id": "C7Vysi3vu0Io"
      },
      "source": [
        "**Exercise**\n",
        "\n",
        "What is the number of _distinct_ words in the `nyt` variable?\n",
        "\n",
        "Text from: [New York Times](https://www.nytimes.com/2020/09/06/us/colleges-coronavirus-students.html)"
      ]
    },
    {
      "cell_type": "code",
      "metadata": {
        "id": "jx8ojUVnuu1R"
      },
      "source": [
        "nyt = \"\"\"Last month, facing a budget shortfall of at least $75 million because of the pandemic, the University of Iowa welcomed thousands of students back to its campus — and into the surrounding community.\n",
        "Iowa City braced, cautious optimism mixing with rising panic. The university had taken precautions, and only about a quarter of classes would be delivered in person. But each fresh face in town could also carry the virus, and more than 26,000 area residents were university employees.\n",
        "\"Covid has a way of coming in,\" said Bruce Teague, the city's mayor, \"even when youre doing all the right things.\"\n",
        "Within days, students were complaining that they couldn’t get coronavirus tests or were bumping into people who were supposed to be in isolation. Undergraduates were jamming sidewalks and downtown bars, masks hanging below their chins, never mind the city’s mask mandate.\n",
        "Now, Iowa City is a full-blown pandemic hot spot — one of about 100 college communities around the country where infections have spiked in recent weeks as students have returned for the fall semester. Though the rate of infection has bent downward in the Northeast, where the virus first peaked in the U.S., it continues to remain high across many states in the Midwest and South — and evidence suggests that students returning to big campuses are a major factor.\n",
        "In a New York Times review of 203 counties in the country where students comprise at least 10 percent of the population, about half experienced their worst weeks of the pandemic since Aug. 1. In about half of those, figures showed the number of new infections is peaking right now.\n",
        "Despite the surge in cases, there has been no uptick in deaths in college communities, data shows. This suggests that most of the infections are stemming from campuses, since young people who contract the virus are far less likely to die than older people. However, leaders fear that young people who are infected will contribute to a spread of the virus throughout the community.\n",
        "The surge in infections reported by county health departments comes as many college administrations are also disclosing clusters on their campuses.\n",
        "Brazos County, Tex., home to Texas A&M University, added 742 new coronavirus cases during the last week of August, the county’s worst week so far, as the university reported hundreds of new cases.\n",
        "Pitt County, N.C., site of East Carolina University, saw its coronavirus cases rise above 800 in a single week at the end of August. The Times has identified at least 846 infections involving students, faculty and staff since mid-August.\n",
        "In South Dakota’s Clay and Brookings counties, ballooning infections in the past two weeks have reflected outbreaks at the state’s major universities. In McLean County, Ill., the virus has been spreading as more than 1,200 people have contracted the virus at Illinois State University.\n",
        "At Washington State University and the University of Idaho, about eight miles apart, combined coronavirus cases have risen since early July to more than 300 infections. In the surrounding communities — rural Whitman County, Wash., and Latah County, Idaho — cases per week have climbed from low single-digits in the first three months of the pandemic, to double-digits in July, to more than 300 cases in the last week of August.\n",
        "The Times has collected infection data from both state and local health departments and individual colleges. Academic institutions generally report cases involving students, faculty and staff, while the countywide data includes infections for all residents of the county.\n",
        "It's unclear precisely how the figures overlap and how many infections in a community outside of campus are definitively tied to campus outbreaks. But epidemiologists have warned that, even with exceptional contact tracing, it would be difficult to completely contain the virus on a campus when students shop, eat and drink in town, and local residents work at the college.\n",
        "The potential spread of the virus beyond campus greens has deeply affected the workplaces, schools, governments and other institutions of local communities. The result often is an exacerbation of traditional town-and-gown tensions as college towns have tried to balance economic dependence on universities with visceral public health fears.\n",
        "In Story County, Iowa, a local outcry following a burst of new Iowa State University cases pressured the university on Wednesday to reverse plans to welcome 25,000 football fans for its Sept. 12 opener against the University of Louisiana at Lafayette. In Monroe County, Indiana, the health department quarantined 30 Indiana University fraternity and sorority houses, prompting the university to publicly recommend that members shut them down and move elsewhere.\n",
        "In Johnson County, where the University of Iowa is located, cases have more than doubled since the start of August, to more than 4,000. Over the past two weeks, Iowa City’s metro area added the fourth-most cases per capita in the country. The university has recorded more than 1,400 cases for the semester.\n",
        "With a population of roughly 75,000, Iowa City relies on the university as an economic engine. The University of Iowa is by far the community’s largest employer, and its approximately 30,000 students are a critical market. Hawkeye football alone brings $120 million a year into the community, said Nancy Bird, executive director of the Iowa City Downtown District.\n",
        "When the pandemic first hit in March, the university sent students home and pivoted to remote instruction, like most of the country’s approximately 5,000 colleges and universities. That exodus, heightened by health restrictions, has been an existential challenge for many downtown businesses, Ms. Bird said.\n",
        "Jim Rinella, who owns The Airliner bar and restaurant, said the 76-year-old landmark across the street from campus “had zero revenue the whole month of April.” May was almost as scant, he said, and in June, he shut down after a couple of employees became infected.\n",
        "By the time he reopened after July 4, too few students were in town to come close to making up the losses. He and his wife, Sherry, had hoped the campus reopening in August might be a lifeline.\n",
        "But the photos taken by the local press from outside his establishment and others were damning. In an open letter, the university president lashed out, saying he was “exceedingly disappointed” in the failure of local businesses to keep students masked and socially distanced. Days later, the governor cited high infection rates among young people as she closed bars and restricted restaurants in Johnson County and five other counties with high concentrations of students.\n",
        "Now The Airliner — where a booth is named for the University of Iowa's most famous dropout, Tom Brokaw, and a modeling scout is said to have discovered Ashton Kutcher — has to close at 10 p.m. as well as require customers to buy a meal and sit far apart if they want to drink there.\n",
        "\"I'm at a pain point,\" Mr. Rinella said. \"If my grandfather hadn't started the place, I'd question whether I want to be in the restaurant business.\" A recent lunch hour visit found one customer at the bar drinking a beer.\"\"\""
      ],
      "execution_count": null,
      "outputs": []
    },
    {
      "cell_type": "markdown",
      "metadata": {
        "id": "KBeRQRu_wohz"
      },
      "source": [
        "#### Solution"
      ]
    },
    {
      "cell_type": "code",
      "metadata": {
        "id": "RcXwbkB5wiY6"
      },
      "source": [
        "# your code here\n",
        "\n",
        "## Two-step approach \n",
        "# nyt_list = nyt.split()\n",
        "# nyt_set = set(nyt_list)\n",
        "\n",
        "## One-step approach\n",
        "nyt_set = set(nyt.split())\n",
        "\n",
        "print(\"Length of NYT set:\", len(nyt_set))"
      ],
      "execution_count": null,
      "outputs": []
    },
    {
      "cell_type": "markdown",
      "metadata": {
        "id": "PG4NU6-9LpX6"
      },
      "source": [
        "We can print the **nyt_set** to scan it for any redundant words..."
      ]
    },
    {
      "cell_type": "code",
      "metadata": {
        "id": "-eJI29-3LGuW"
      },
      "source": [
        "print(sorted(nyt_set))"
      ],
      "execution_count": null,
      "outputs": []
    },
    {
      "cell_type": "markdown",
      "metadata": {
        "id": "8LV4poDpL6UW"
      },
      "source": [
        "How would we resolve the different treatment of capitalized words vs. the same word in all lower case?"
      ]
    },
    {
      "cell_type": "markdown",
      "metadata": {
        "id": "PVefhSPOU23F"
      },
      "source": [
        "#### Checking for membership in a set\n",
        "\n",
        "For sets, we can only check if an item appears within the set or not. We achieve this using the `in` operator:"
      ]
    },
    {
      "cell_type": "code",
      "metadata": {
        "id": "l1vd5mgZU9EV"
      },
      "source": [
        "my_set = {1, 2, 3, 4}"
      ],
      "execution_count": null,
      "outputs": []
    },
    {
      "cell_type": "code",
      "metadata": {
        "id": "QRlDHRqxU_JO",
        "colab": {
          "base_uri": "https://localhost:8080/"
        },
        "outputId": "3bff140e-0f86-4d40-d710-e86bc1a0b157"
      },
      "source": [
        "val = 1\n",
        "if val in my_set:\n",
        "    print(\"The value\", val ,\"appears in the set\", my_set)\n",
        "else: \n",
        "    print(\"The value\", val ,\"does not appear in the set\", my_set)"
      ],
      "execution_count": null,
      "outputs": [
        {
          "output_type": "stream",
          "name": "stdout",
          "text": [
            "The value 1 appears in the set {1, 2, 3, 4}\n"
          ]
        }
      ]
    },
    {
      "cell_type": "code",
      "metadata": {
        "id": "15lUfaf3VAPN"
      },
      "source": [
        "val = 0\n",
        "if val in my_set:\n",
        "    print(\"The value\", val ,\"appears in the set\", my_set)\n",
        "else: \n",
        "    print(\"The value\", val ,\"does not appear in the set\", my_set)"
      ],
      "execution_count": null,
      "outputs": []
    },
    {
      "cell_type": "markdown",
      "metadata": {
        "id": "LlqFnNvpVEHw"
      },
      "source": [
        "We also have the `not in` operator, which behaves as expected:"
      ]
    },
    {
      "cell_type": "code",
      "metadata": {
        "id": "GROCT4DJVEqc"
      },
      "source": [
        "if val not in my_set:\n",
        "    print(\"The value\", val ,\"does not appear in the set\", my_set)\n",
        "else: \n",
        "    print(\"The value\", val ,\"appears in the set\", my_set)"
      ],
      "execution_count": null,
      "outputs": []
    },
    {
      "cell_type": "markdown",
      "metadata": {
        "id": "BelGHkOPVWUk"
      },
      "source": [
        "### Set operators: **union**, **intersection**, **difference**, **subset**. Plus, Jaccard Similarity"
      ]
    },
    {
      "cell_type": "markdown",
      "metadata": {
        "id": "f25nuCd-M7xs"
      },
      "source": [
        "See this Wikipedia entry for a definition of Jaccard Similarity:\n",
        "https://en.wikipedia.org/wiki/Jaccard_index"
      ]
    },
    {
      "cell_type": "markdown",
      "metadata": {
        "id": "VhPXBd-9VbR_"
      },
      "source": [
        "Sets also support operations that allow us to quickly compute the difference, intersection, and union of two sets. For example:\n",
        "\n",
        "+ `set_a - set_b`: elements in a but not in b. Equivalent to `set_a.difference(set_b)`\n",
        "+ `set_a | set_b`: elements in a or b. Equivalent to `set_a.union(set_b)`\n",
        "+ `set_a & set_b`: elements in both a and b. Equivalent to `set_a.intersection(set_b)`\n",
        "+ `set_a ^ set_b`: elements in a or b but not both. Equivalent to `set_a.symmetric_difference(set_b)` \n",
        "+ `set_a <= set_b`:\ttests whether every element in set_a is in set_b. Equivalent to `set_a.issubset(set_b)`"
      ]
    },
    {
      "cell_type": "markdown",
      "metadata": {
        "id": "q5Ahy-JYVg7_"
      },
      "source": [
        "**Exercise**\n",
        "\n",
        "Try the above yourself using the `set_A` and `set_B` variables, and compute the difference, union, intersection, and symmetric difference, between the two sets."
      ]
    },
    {
      "cell_type": "code",
      "metadata": {
        "id": "we1PHF8XVl0n"
      },
      "source": [
        "# Your code here\n",
        "set_A = {1, 2, 3, 4, 5}\n",
        "set_B = {4, 5, 6, 7}\n",
        "\n",
        "# Set A\n",
        "# Set B\n",
        "# Difference\n",
        "# Union\n",
        "# Intersection\n",
        "# Symmetric Difference\n"
      ],
      "execution_count": null,
      "outputs": []
    },
    {
      "cell_type": "markdown",
      "metadata": {
        "id": "edtD5Vs-VppF"
      },
      "source": [
        "#### Solution"
      ]
    },
    {
      "cell_type": "code",
      "metadata": {
        "id": "zEKW2m-cTYn-"
      },
      "source": [
        "set_A = {1, 2, 3, 4, 5}\n",
        "set_B = {4, 5, 6, 7}\n",
        "\n",
        "# print(\"Set A: \", set_A)\n",
        "# print(\"Set B: \", set_B)\n",
        "# print(\"Difference between Set A and Set B: \", set_A - set_B)\n",
        "# print(\"Union of Set A and Set B: \", set_A | set_B)\n",
        "# print(\"Intersection of Set A and Set B: \", set_A & set_B)\n",
        "# print(\"Symetric Difference between Set A and Set B: \", set_A ^ set_B)"
      ],
      "execution_count": null,
      "outputs": []
    },
    {
      "cell_type": "markdown",
      "metadata": {
        "id": "SoumVadyWjuj"
      },
      "source": [
        "#### Exercise cont.\n",
        "\n",
        "Now, lets try to use the [Jaccard index similarity](https://en.wikipedia.org/wiki/Jaccard_index) to compute the similarity of the two sets. The Jaccard coefficient is defined as the ratio of the size of the intersection of the two sets, divided by the size of the union of the two sets."
      ]
    },
    {
      "cell_type": "markdown",
      "metadata": {
        "id": "wTo-g_m1Wtcb"
      },
      "source": [
        "#### Solution"
      ]
    },
    {
      "cell_type": "code",
      "metadata": {
        "id": "Y4By2C9YWrnV"
      },
      "source": [
        "set_A = {1, 2, 3, 4, 5}\n",
        "set_B = {4, 5, 6, 7}\n",
        "\n",
        "# Your code here\n",
        "\n",
        "# print(\"Jaccard Similarity of Set A and Set B: \", (len(set_A & set_B)) / len((set_A | set_B)))"
      ],
      "execution_count": null,
      "outputs": []
    },
    {
      "cell_type": "markdown",
      "metadata": {
        "id": "cDHUYOACXVBL"
      },
      "source": [
        "#### Exercise\n",
        "\n",
        "Below we have two news articles discussing a security breach at Yahoo. We want to compute the similarity of these articles using the Jaccard similarity. (For the sake of simplicity, we have removed all punctuation from the text.)\n",
        "\n"
      ]
    },
    {
      "cell_type": "code",
      "metadata": {
        "id": "Wh2hbje5Xc-W"
      },
      "source": [
        "wsj = \"\"\"\n",
        "Yahoo Inc  disclosed a massive security breach by a  state sponsored actor  affecting at least 500 million users  potentially the largest such data breach on record and the latest hurdle for the beaten down internet company as it works through the sale of its core business \n",
        "Yahoo said certain user account information including names  email addresses  telephone numbers  dates of birth  hashed passwords and  in some cases  encrypted or unencrypted security questions and answers was stolen from the company s network in late 2014 by what it believes is a state sponsored actor \n",
        "Yahoo said it is notifying potentially affected users and has taken steps to secure their accounts by invalidating unencrypted security questions and answers so they can t be used to access an account and asking potentially affected users to change their passwords \n",
        "Yahoo recommended users who haven t changed their passwords since 2014 do so  It also encouraged users change their passwords as well as security questions and answers for any other accounts on which they use the same or similar information used for their Yahoo account \n",
        "The company  which is working with law enforcement  said the continuing investigation indicates that stolen information didn t include unprotected passwords  payment card data or bank account information \n",
        "With 500 million user accounts affected  this is the largest ever publicly disclosed data breach  according to Paul Stephens  director of policy and advocacy with Privacy Rights Clearing House  a not for profit group that compiles information on data breaches \n",
        "No evidence has been found to suggest the state sponsored actor is currently in Yahoo s network  and Yahoo didn t name the country it suspected was involved  In August  a hacker called  Peace  appeared in online forums  offering to sell 200 million of the company s usernames and passwords for about  1 900 in total  Peace had previously sold data taken from breaches at Myspace and LinkedIn Corp \n",
        "\"\"\"\n",
        "\n",
        "ust = \"\"\"\n",
        "SAN FRANCISCO   Information from at least 500 million Yahoo accounts was stolen from the company in 2014  and the  company said Thursday it believes that a state sponsored actor was behind the hack \n",
        "The information may have included names  email addresses  telephone numbers  dates of birth  and  in some cases  encrypted or unencrypted security questions and answers  Yahoo said \n",
        "Claims surfaced in early August that a hacker using the name  Peace  was trying to sell the usernames  passwords and dates of birth of Yahoo account users on the dark web   a black market of thousands of secret websites \n",
        "The FBI said it was aware of the matter  The compromise of public and private sector systems is something the agency takes very seriously and it said it will continue to investigate and hold accountable all who pose a threat in cyberspace  the agency said in an emailed statement \n",
        "Yahoo recommends that users who haven t changed their passwords since 2014 do so  The company said it was notifying potentially affected users and taking steps to secure their accounts  That included invalidating unencrypted security questions and answers and asking users to change their passwords \n",
        "The announcement comes as Yahoo looks to complete its  4 8  billion sale of its core Internet business to media giant Verizon Communications  which said it was notified of the Yahoo breach  within the last two days  \n",
        " We understand that Yahoo is conducting an active investigation of this matter  but we otherwise have limited information and understanding of the impact   Verizon said \n",
        "Given the unsettled nature of Yahoo s ownership just now   regulators should be concerned with who will take responsibility for the response to this compromise  It can be easy for the  right thing to do  to slip through the cracks in a multi billion dollar transition   said Tim Erlin  senior director of IT security and risk strategy at Tripwire  a computer security firm \n",
        "Yahoo Chief Executive Officer Marissa Mayer has pledged to stay on with the company through the close of the merger  which is being overseen by Verizon s Marni Walden and AOL CEO Tim Armstrong  Yahoo shares  YHOO  were flat Thursday  Verizon  VZ  shares were up 1  at  52 39 \n",
        "\"\"\""
      ],
      "execution_count": null,
      "outputs": []
    },
    {
      "cell_type": "markdown",
      "metadata": {
        "id": "GgI7pK8TXgwo"
      },
      "source": [
        "#### Solution"
      ]
    },
    {
      "cell_type": "code",
      "metadata": {
        "id": "tu5pOcuTXewl"
      },
      "source": [
        "## your code here\n",
        "\n",
        "wsj_set = set(wsj.split())\n",
        "ust_set = set(ust.split())\n",
        "\n",
        "# print(\"Jaccard Similarity of WSJ article and UST article: \", (len(wsj_set & ust_set)) / len((wsj_set | ust_set)))"
      ],
      "execution_count": null,
      "outputs": []
    },
    {
      "cell_type": "markdown",
      "metadata": {
        "id": "lFvHmx8PXLIk"
      },
      "source": [
        "\n",
        "\n",
        "---\n",
        "\n"
      ]
    },
    {
      "cell_type": "markdown",
      "metadata": {
        "id": "axq2KerWXMzq"
      },
      "source": [
        "*This lessons notebook files are available on Github and on Blackboard.*"
      ]
    }
  ]
}