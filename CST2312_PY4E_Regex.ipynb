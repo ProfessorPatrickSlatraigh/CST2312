{
  "nbformat": 4,
  "nbformat_minor": 0,
  "metadata": {
    "colab": {
      "name": "CST2312_PY4E_Regex.ipynb",
      "provenance": [],
      "authorship_tag": "ABX9TyNwce+r9MBFdhRgMa8XilyK",
      "include_colab_link": true
    },
    "kernelspec": {
      "name": "python3",
      "display_name": "Python 3"
    },
    "language_info": {
      "name": "python"
    }
  },
  "cells": [
    {
      "cell_type": "markdown",
      "metadata": {
        "id": "view-in-github",
        "colab_type": "text"
      },
      "source": [
        "<a href=\"https://colab.research.google.com/github/ProfessorPatrickSlatraigh/CST2312/blob/main/CST2312_PY4E_Regex.ipynb\" target=\"_parent\"><img src=\"https://colab.research.google.com/assets/colab-badge.svg\" alt=\"Open In Colab\"/></a>"
      ]
    },
    {
      "cell_type": "markdown",
      "metadata": {
        "id": "UNt9bOXws6Bd"
      },
      "source": [
        "# CST2312 - Class #14, from Charles Severance, Python for Everybody, Lesson 12 - Regular Expressions\n",
        "updated by Professor Patrick, 25-Oct-2021"
      ]
    },
    {
      "cell_type": "markdown",
      "metadata": {
        "id": "WTXExnfnurjJ"
      },
      "source": [
        "\n",
        "This notebook works with a Github repository in ProfessorPatrickSlatraigh/CST2312. \n",
        "\n",
        "That repository includes the files \"mbox-short.txt\" and \"mbox.txt\". \n",
        "The repo can be cloned to be used in Google Colab as a resource or a URL for a file in the Github repo, or Google Drive can be used to open a Python handle for a file which will persist beyond the current Colab session.  Before working with the file in Github or Google Drive, the first section of this notebook describes how local files can be uploaded to a Colab session. Files which are uploaded as resources to the content area of Colab do not persist after the Colab notebook is closed.\n",
        "\n"
      ]
    },
    {
      "cell_type": "markdown",
      "metadata": {
        "id": "jNdHv_40rqxV"
      },
      "source": [
        "Here is the mbox-short.txt file as a reference: https://www.py4e.com/code3/mbox-short.txt , which is a shortened version of the file: https://www.py4e.com/code3/mbox.txt .  Both files are text files which contain a series of email messages.  The files are used as references in exercises in the Charles Severance book Python for Everybody (py4e.com)."
      ]
    },
    {
      "cell_type": "markdown",
      "metadata": {
        "id": "cJJIu3-nq2qt"
      },
      "source": [
        "\n",
        "\n",
        "---\n",
        "\n"
      ]
    },
    {
      "cell_type": "markdown",
      "metadata": {
        "id": "qYyfpxTNqhOe"
      },
      "source": [
        "The following code snippet imports pandas which is needed for the file loading processes from Github and Googe Drive (gdrive) which are described at the bottom of this notebook."
      ]
    },
    {
      "cell_type": "code",
      "metadata": {
        "id": "0O0HiewLxiKU"
      },
      "source": [
        "# let's import pandas as pd so that we have it available\n",
        "import pandas as pd\n"
      ],
      "execution_count": 1,
      "outputs": []
    },
    {
      "cell_type": "markdown",
      "metadata": {
        "id": "_R5WKlNikK9u"
      },
      "source": [
        "The following code snippet imports re -- the regular expressios libary in Python, which we will use in this notebook"
      ]
    },
    {
      "cell_type": "code",
      "metadata": {
        "id": "vJ6EFBkIkTbE"
      },
      "source": [
        "# let's import the regular expressions library so that we have it available\n",
        "import re"
      ],
      "execution_count": 2,
      "outputs": []
    },
    {
      "cell_type": "markdown",
      "metadata": {
        "id": "C6OJASJYq0vG"
      },
      "source": [
        "\n",
        "\n",
        "---\n",
        "\n"
      ]
    },
    {
      "cell_type": "markdown",
      "metadata": {
        "id": "k0CvFDYJ75yp"
      },
      "source": [
        "## **UPLOADING TO COLAB EVERY TIME**"
      ]
    },
    {
      "cell_type": "markdown",
      "metadata": {
        "id": "OQ0h2ndg1yi2"
      },
      "source": [
        "The first example reads \"mbox-short.txt\" from the Google Colab content folder \"sample_data\".  In order to do that, the \"mbox-short.txt\" file needs to be uploaded to the \"sample_data\" folder.  That upload is temporary for the Google Colab session - the \"mbox-short.txt\" file will go away after you finish with your active Colab notebook.  Note that this method does not require pandas.\n"
      ]
    },
    {
      "cell_type": "markdown",
      "metadata": {
        "id": "ICw2gpL72jWh"
      },
      "source": [
        "Use the panel on the left of your Colab session to navigate to the content area and the \"sample_data\" folder.  Then use the three vertical dots to the right of the name \"sample_data\" to choose 'Upload' and navigate to the \"mbox-short.txt\" file on your computer.\n"
      ]
    },
    {
      "cell_type": "markdown",
      "metadata": {
        "id": "atdHRQxq3L6j"
      },
      "source": [
        "Use the three vertical dots to your uploaded \"mbox_short.txt\" file in the \"sample_data\" content folder to choose \"Copy path\" and that will put the full path (URL) in your clipboard.  If the path is not the same as in the following call to the open() command then replace the string for the file name with the URL from your clipboard - paste it in as the argument to open()."
      ]
    },
    {
      "cell_type": "code",
      "metadata": {
        "id": "ycr3eAH-ulWy"
      },
      "source": [
        "colab_handle = open(\"/content/sample_data/mbox-short.txt\")"
      ],
      "execution_count": null,
      "outputs": []
    },
    {
      "cell_type": "markdown",
      "metadata": {
        "id": "QO_ySoup3xxp"
      },
      "source": [
        "Now you can use the print function to see the attributes of the new colab_handle you created to the \"mbox-short.txt\" file in the content folder \"sample_data\" on Google Colab.\n"
      ]
    },
    {
      "cell_type": "code",
      "metadata": {
        "id": "DdVHbqrYwd0_",
        "colab": {
          "base_uri": "https://localhost:8080/"
        },
        "outputId": "1d276fe5-fbcb-4868-ab00-567c26a8eb84"
      },
      "source": [
        "print(colab_handle)"
      ],
      "execution_count": null,
      "outputs": [
        {
          "output_type": "stream",
          "name": "stdout",
          "text": [
            "<_io.TextIOWrapper name='/content/sample_data/mbox-short.txt' mode='r' encoding='UTF-8'>\n"
          ]
        }
      ]
    },
    {
      "cell_type": "markdown",
      "metadata": {
        "id": "IWvYtdPR4FWg"
      },
      "source": [
        "You can use a for loop to print the contents of \"mbox_short.txt\""
      ]
    },
    {
      "cell_type": "code",
      "metadata": {
        "id": "3IGLcShb4PFR"
      },
      "source": [
        "for line in colab_handle :\n",
        "    print(line)\n"
      ],
      "execution_count": null,
      "outputs": []
    },
    {
      "cell_type": "markdown",
      "metadata": {
        "id": "OhXCcpar8JW0"
      },
      "source": [
        "# **READING FILES FROM GITHUB**"
      ]
    },
    {
      "cell_type": "markdown",
      "metadata": {
        "id": "RIM3KiFX42h8"
      },
      "source": [
        "Now let's try reading the same file from a Github repository (repo).  We will use the CST2312 repo in the ProfessorPatrickSlatraigh account on Github.  The file \"mbox-short.txt\" was uploaded to that repo.  "
      ]
    },
    {
      "cell_type": "markdown",
      "metadata": {
        "id": "GKU8fZ7m5KPB"
      },
      "source": [
        "From Github we navigated to the \"mbox-short.txt\" file and viewed it in it's raw format using the \"raw\" button to the right of the file name.  While in raw viewing mode in a browser, we copied the URL from the browser to the clipboard.  Please note that this works with open repos, not private repos.\n"
      ]
    },
    {
      "cell_type": "code",
      "metadata": {
        "id": "t8tQhmd-5sOI"
      },
      "source": [
        "git_handle = pd.read_fwf(\"https://raw.githubusercontent.com/ProfessorPatrickSlatraigh/CST2312/main/mbox-short.txt\")"
      ],
      "execution_count": null,
      "outputs": []
    },
    {
      "cell_type": "code",
      "metadata": {
        "id": "s9i2BihH6gVq"
      },
      "source": [
        "print(git_handle)"
      ],
      "execution_count": null,
      "outputs": []
    },
    {
      "cell_type": "markdown",
      "metadata": {
        "id": "mtMb0lof7DbV"
      },
      "source": [
        "Storing files in Github gives us persistence.  That is, when we are done with our Google Colab session the files on Github remain and can be used again.  And our Google Colab notebooks should work each time we open them without the need for use to upload files to the content area on Google Colab for every session."
      ]
    },
    {
      "cell_type": "markdown",
      "metadata": {
        "id": "Ua1ElAyX9NfR"
      },
      "source": [
        "# **READING FILES FROM GOOGLE DRIVE**"
      ]
    },
    {
      "cell_type": "markdown",
      "metadata": {
        "id": "D7PS3mc99dJm"
      },
      "source": [
        "We can also have persistent files stored in Google Drive.  To read files from Google Drive we will need to import the drive module from google.colab.  We will also need to have Google Drive give stream access to Google Colab.  If the files are on a different Google Drive account from the Google Colab account then be sure to have permission of the Google Drive owner for access to the file."
      ]
    },
    {
      "cell_type": "markdown",
      "metadata": {
        "id": "LGdJZ8ua-EV_"
      },
      "source": [
        "You can use the drive module from google.colab to mount your entire Google Drive to Colab by:\n",
        "\n",
        "1. Executing the below code which will provide you with an authentication link"
      ]
    },
    {
      "cell_type": "code",
      "metadata": {
        "colab": {
          "base_uri": "https://localhost:8080/"
        },
        "id": "KEXi3F2F-Ows",
        "outputId": "aa774046-e984-40a0-ff90-fef7caa9d298"
      },
      "source": [
        "from google.colab import drive\n",
        "drive.mount('/content/gdrive')"
      ],
      "execution_count": 3,
      "outputs": [
        {
          "output_type": "stream",
          "name": "stdout",
          "text": [
            "Mounted at /content/gdrive\n"
          ]
        }
      ]
    },
    {
      "cell_type": "markdown",
      "metadata": {
        "id": "DM8kUpGh-T1A"
      },
      "source": [
        "2. Open the link\n",
        "\n",
        "3. Choose the Google account whose Drive you want to mount\n",
        "\n",
        "4. Allow Google Drive Stream access to your Google Account\n",
        "\n",
        "5. Copy the code displayed, paste it in the text box as shown below, and press Enter"
      ]
    },
    {
      "cell_type": "markdown",
      "metadata": {
        "id": "7DBRkyFa-k4G"
      },
      "source": [
        "Once the Drive is mounted, you’ll get the message “Mounted at /content/gdrive”, and you’ll be able to browse through the contents of your Drive from the file-explorer pane."
      ]
    },
    {
      "cell_type": "markdown",
      "metadata": {
        "id": "pUf2blkN-u0l"
      },
      "source": [
        "You can even write directly to Google Drive from Colab using the usual file/directory operations."
      ]
    },
    {
      "cell_type": "code",
      "metadata": {
        "id": "kdzlvDgR-a0Q"
      },
      "source": [
        "!touch \"/content/gdrive/My Drive/sample_file.txt\""
      ],
      "execution_count": null,
      "outputs": []
    },
    {
      "cell_type": "markdown",
      "metadata": {
        "id": "QM6okRJs-0rL"
      },
      "source": [
        "This will create a file in your Google Drive, and will be visible in the file-explorer pane once you refresh it.  Notice that the path within the content area is different from the \"sample_data\" folder we used earlier for fles uploaded directly to Google Colab.  The content area will have a \"gdrive\" folder after you have authenticated with Google Drive.  Within the \"gdrive\" folder there should be a folder structure according to your Google Drive folders."
      ]
    },
    {
      "cell_type": "markdown",
      "metadata": {
        "id": "qvpxW4XI_6iK"
      },
      "source": [
        "If your Google Drive folder had the file \"mbox-short.txt\" within the \"My Drive\" folder then you would be able to open that file with the following code:"
      ]
    },
    {
      "cell_type": "code",
      "metadata": {
        "id": "JL-5khF1AUJn"
      },
      "source": [
        "gdrive_handle = open(\"/content/gdrive/My Drive/mbox-short.txt\")"
      ],
      "execution_count": 4,
      "outputs": []
    },
    {
      "cell_type": "markdown",
      "metadata": {
        "id": "MPLSoz45Au8C"
      },
      "source": [
        "Now you can use the print function to see the attributes of the new gdrive_handle you created to the \"mbox-short.txt\" file in the content folder \"gdrive/My Drive/\" on Google Drive.\n"
      ]
    },
    {
      "cell_type": "code",
      "metadata": {
        "id": "oSWMlGdSAu8D",
        "colab": {
          "base_uri": "https://localhost:8080/"
        },
        "outputId": "dd449c0d-1ca2-4489-d01d-d036132a2480"
      },
      "source": [
        "print(gdrive_handle)"
      ],
      "execution_count": null,
      "outputs": [
        {
          "output_type": "stream",
          "name": "stdout",
          "text": [
            "<_io.TextIOWrapper name='/content/gdrive/My Drive/mbox-short.txt' mode='r' encoding='UTF-8'>\n"
          ]
        }
      ]
    },
    {
      "cell_type": "markdown",
      "metadata": {
        "id": "At6KzL_LAu8D"
      },
      "source": [
        "As in the earlier Google Colab example, you can now use a for loop to print the contents of \"mbox_short.txt\" in Google Drive"
      ]
    },
    {
      "cell_type": "code",
      "metadata": {
        "id": "I5sednyGAu8D"
      },
      "source": [
        "for line in gdrive_handle :\n",
        "    print(line)\n"
      ],
      "execution_count": null,
      "outputs": []
    },
    {
      "cell_type": "markdown",
      "metadata": {
        "id": "2rC9YZ3DGQ39"
      },
      "source": [
        "# **Reading Pastebin and Other HTTP with GET**"
      ]
    },
    {
      "cell_type": "markdown",
      "metadata": {
        "id": "xnyCb8R4GarG"
      },
      "source": [
        "This section reads the \"mail-short.txt\" file from a Pastebin posting using the RAW format in Pastebin and the HTTP GET from the request module.  The source file is online at: https://pastebin.com/raw/ADPQe6BM "
      ]
    },
    {
      "cell_type": "markdown",
      "metadata": {
        "id": "vUdLfivQHAvm"
      },
      "source": [
        "First import the request module as rq"
      ]
    },
    {
      "cell_type": "code",
      "metadata": {
        "id": "rNK_Nf7RG7Gj"
      },
      "source": [
        "import requests as rq"
      ],
      "execution_count": null,
      "outputs": []
    },
    {
      "cell_type": "markdown",
      "metadata": {
        "id": "mLwxybgMHK30"
      },
      "source": [
        "The use the GET command to read the RAW text file on Pastebin"
      ]
    },
    {
      "cell_type": "code",
      "metadata": {
        "id": "rbV2BKYQG2Qk"
      },
      "source": [
        "http_handle = rq.get('https://pastebin.com/raw/ADPQe6BM')\n",
        "list_of_lines = http_handle.text.splitlines()"
      ],
      "execution_count": null,
      "outputs": []
    },
    {
      "cell_type": "markdown",
      "metadata": {
        "id": "rmpgfVedJbop"
      },
      "source": [
        "Print the response to check that the HTTP request worked"
      ]
    },
    {
      "cell_type": "code",
      "metadata": {
        "colab": {
          "base_uri": "https://localhost:8080/"
        },
        "id": "k0J6CeNGJLK1",
        "outputId": "73722107-6a8d-41dc-c419-2cdd87c1c9a0"
      },
      "source": [
        "print(http_handle)"
      ],
      "execution_count": null,
      "outputs": [
        {
          "output_type": "stream",
          "name": "stdout",
          "text": [
            "<Response [200]>\n"
          ]
        }
      ]
    },
    {
      "cell_type": "markdown",
      "metadata": {
        "id": "2IPvxmziHhCE"
      },
      "source": [
        "And print the result"
      ]
    },
    {
      "cell_type": "code",
      "metadata": {
        "id": "W1e2hx1-HnFn"
      },
      "source": [
        "for line in list_of_lines:\n",
        "    print(line)"
      ],
      "execution_count": null,
      "outputs": []
    },
    {
      "cell_type": "markdown",
      "metadata": {
        "id": "mPsUG3qd833a"
      },
      "source": [
        "\n",
        "\n",
        "---\n",
        "\n"
      ]
    },
    {
      "cell_type": "markdown",
      "metadata": {
        "id": "HEmpTEVsky_c"
      },
      "source": [
        "# **Using Regular Expressions**"
      ]
    },
    {
      "cell_type": "markdown",
      "metadata": {
        "id": "BA2IZZMbk3ak"
      },
      "source": [
        "\n",
        "\n",
        "---\n",
        "\n"
      ]
    },
    {
      "cell_type": "markdown",
      "metadata": {
        "id": "MEt_ca83q2AF"
      },
      "source": [
        "# Using re.search()"
      ]
    },
    {
      "cell_type": "markdown",
      "metadata": {
        "id": "N-lPBxE4k4_G"
      },
      "source": [
        " In PY4E Chapter 12 (Regular Expressions), Part I, the search() method is used to process lines in our mbox-short.txt file and return True where there is a match."
      ]
    },
    {
      "cell_type": "code",
      "metadata": {
        "id": "XlMKlUmTlkN2"
      },
      "source": [
        "# gdrive_handle should already have mbox-short.txt open\n",
        "# be sure that the pointer of gdrive_handle is at the start of the file\n",
        "\n",
        "for line in gdrive_handle :\n",
        "    line = line.rstrip()\n",
        "    if re.search('^From:', line) :\n",
        "        print(line)\n"
      ],
      "execution_count": null,
      "outputs": []
    },
    {
      "cell_type": "markdown",
      "metadata": {
        "id": "o2ybpVHUmQiZ"
      },
      "source": [
        "Let's do a little quick housekeeping -- remember that we can use the seek() method on a file handle to change the pointer position in the file.  Let's reset the gdrive_handle pointer to the start of the file so that we do not need to open it again.\n"
      ]
    },
    {
      "cell_type": "code",
      "metadata": {
        "id": "NiWUa3IWm7j7"
      },
      "source": [
        "gdrive_handle.seek(0)"
      ],
      "execution_count": null,
      "outputs": []
    },
    {
      "cell_type": "markdown",
      "metadata": {
        "id": "oK4RX9TCnazW"
      },
      "source": [
        "Give it a try and see if you can process the file again but this time, add the housekeeping exercise of resetting the file at the end of the snippet."
      ]
    },
    {
      "cell_type": "code",
      "metadata": {
        "id": "xc4_7GGJnef4"
      },
      "source": [
        "for line in gdrive_handle :\n",
        "    line = line.rstrip()\n",
        "    if re.search('^From:', line) :\n",
        "        print(line)\n",
        "\n",
        "gdrive_handle.seek(0)\n"
      ],
      "execution_count": null,
      "outputs": []
    },
    {
      "cell_type": "markdown",
      "metadata": {
        "id": "X5wK42r-n8J2"
      },
      "source": [
        "This example looks for the first character as an 'X' then any number of characters followed by a colon ':'.  Let's insert a counter 'i' to stop after the first twenty instances of a match.  And let's conclude with some housekeeping to reset the file pointer. "
      ]
    },
    {
      "cell_type": "code",
      "metadata": {
        "id": "tbEAGNVdoxT6"
      },
      "source": [
        "i = 0\n",
        "for line in gdrive_handle :\n",
        "    line = line.rstrip()\n",
        "    if re.search('^X.*:', line) :\n",
        "        print(line)\n",
        "        i += 1\n",
        "        if i > 20:\n",
        "            break\n",
        "\n",
        "gdrive_handle.seek(0)\n"
      ],
      "execution_count": null,
      "outputs": []
    },
    {
      "cell_type": "markdown",
      "metadata": {
        "id": "WBl8c241pr9Y"
      },
      "source": [
        "Refining that last snippet to select only lines which begin with 'X-' and then some number of non-whitespace '\\S' characters followed by a colon ':'.  "
      ]
    },
    {
      "cell_type": "code",
      "metadata": {
        "id": "cRUhUY2QqFMu"
      },
      "source": [
        "i = 0\n",
        "for line in gdrive_handle :\n",
        "    line = line.rstrip()\n",
        "    if re.search('^X-\\S.+:', line) :\n",
        "        print(line)\n",
        "        i += 1\n",
        "        if i > 20:\n",
        "            break\n",
        "\n",
        "gdrive_handle.seek(0)\n"
      ],
      "execution_count": null,
      "outputs": []
    },
    {
      "cell_type": "markdown",
      "metadata": {
        "id": "N4ijlvvHq9CP"
      },
      "source": [
        "\n",
        "\n",
        "---\n",
        "\n"
      ]
    },
    {
      "cell_type": "markdown",
      "metadata": {
        "id": "52NlvV-Kq-v4"
      },
      "source": [
        "# Using re.findall()"
      ]
    },
    {
      "cell_type": "markdown",
      "metadata": {
        "id": "hJxeeL0SrCJh"
      },
      "source": [
        "In PY4E Chapter 12 (Regular Expressions), Part II, the findall() method is used to process lines in our mbox-short.txt file and return a list of matches."
      ]
    },
    {
      "cell_type": "code",
      "metadata": {
        "colab": {
          "base_uri": "https://localhost:8080/"
        },
        "id": "xeSTNXtFrfnc",
        "outputId": "855ff5db-1260-491d-e03e-85b9b60b15dd"
      },
      "source": [
        "x = 'My 2 favorite numbers are 19 and 42.'\n",
        "y = re.findall('[0-9]+', x)\n",
        "print(y)\n"
      ],
      "execution_count": 20,
      "outputs": [
        {
          "output_type": "stream",
          "name": "stdout",
          "text": [
            "['2', '19', '42']\n"
          ]
        }
      ]
    },
    {
      "cell_type": "markdown",
      "metadata": {
        "id": "v6YBANvmsTAc"
      },
      "source": [
        "The next example searches the string x for any uppercase vowel and returns a list of those found."
      ]
    },
    {
      "cell_type": "code",
      "metadata": {
        "colab": {
          "base_uri": "https://localhost:8080/"
        },
        "id": "8KTWUKSrsZno",
        "outputId": "03e422b7-f63f-4849-bb7e-3282bf707390"
      },
      "source": [
        "y = re.findall('[AEIOU]+', x)\n",
        "print(y)"
      ],
      "execution_count": 21,
      "outputs": [
        {
          "output_type": "stream",
          "name": "stdout",
          "text": [
            "[]\n"
          ]
        }
      ]
    },
    {
      "cell_type": "markdown",
      "metadata": {
        "id": "A-w_QN1ztM2O"
      },
      "source": [
        "*Now, greedy matching.*"
      ]
    },
    {
      "cell_type": "code",
      "metadata": {
        "id": "XcDkU9vHsuu-"
      },
      "source": [
        "x = 'From: Using the: character'\n",
        "y = re.findall('^F.+:', x)\n",
        "print(y)\n"
      ],
      "execution_count": null,
      "outputs": []
    },
    {
      "cell_type": "markdown",
      "metadata": {
        "id": "q8EghOonuNKi"
      },
      "source": [
        "A non-greedy version of that last example."
      ]
    },
    {
      "cell_type": "code",
      "metadata": {
        "id": "h2GY4T68uRmx"
      },
      "source": [
        "x = 'From: Using the: character'\n",
        "y = re.findall('^F.+?:', x)\n",
        "print(y)"
      ],
      "execution_count": null,
      "outputs": []
    },
    {
      "cell_type": "markdown",
      "metadata": {
        "id": "o6VT1HSPukCk"
      },
      "source": [
        "Greedy is the default for '+' and '*' -- they must be followed by a '?' to be non-greedy, which is to select the shortest matching string, not the longest."
      ]
    },
    {
      "cell_type": "markdown",
      "metadata": {
        "id": "am0pWVD6uxxD"
      },
      "source": [
        "Using greedy matching to find email addresses in the mailbox-short.txt file.  (Again, we will limit our process to the first twenty instances.)"
      ]
    },
    {
      "cell_type": "code",
      "metadata": {
        "id": "r8Kya0zuvLEQ"
      },
      "source": [
        "i = 0\n",
        "for line in gdrive_handle :\n",
        "    line = line.rstrip()\n",
        "    address = re.findall('\\S+@\\S+', line) \n",
        "    if address :\n",
        "        print(address)\n",
        "        i += 1\n",
        "    if i > 20:\n",
        "        break\n",
        "\n",
        "gdrive_handle.seek(0)"
      ],
      "execution_count": null,
      "outputs": []
    },
    {
      "cell_type": "markdown",
      "metadata": {
        "id": "0Q6jY64Cwk1u"
      },
      "source": [
        "Fine tuning that last snippet to only look for lines which begin with 'From ' -- including the space.  The regular expression in the parentheses is the extraction pattern which must be present, but the pattern outside of the parenteses must also be present, including any spaces."
      ]
    },
    {
      "cell_type": "code",
      "metadata": {
        "id": "hYiHohO9w8R0"
      },
      "source": [
        "i = 0\n",
        "for line in gdrive_handle :\n",
        "    line = line.rstrip()\n",
        "    address = re.findall('^From (\\S+@\\S+)', line) \n",
        "    if address :\n",
        "        print(address)\n",
        "        i += 1\n",
        "    if i > 20:\n",
        "        break\n",
        "\n",
        "gdrive_handle.seek(0)"
      ],
      "execution_count": null,
      "outputs": []
    },
    {
      "cell_type": "markdown",
      "metadata": {
        "id": "zNJniBZ-xFlm"
      },
      "source": [
        "How would you print the email addresses without the string quotes and list brackets?  Try your code in the following cell."
      ]
    },
    {
      "cell_type": "code",
      "metadata": {
        "id": "EDNMHZtnxPZ8"
      },
      "source": [
        "# your code here "
      ],
      "execution_count": null,
      "outputs": []
    },
    {
      "cell_type": "markdown",
      "metadata": {
        "id": "Hx0gux_4xRu5"
      },
      "source": [
        "\n",
        "\n",
        "---\n",
        "\n"
      ]
    },
    {
      "cell_type": "markdown",
      "metadata": {
        "id": "BMhj-5f2xyfd"
      },
      "source": [
        "# Regular Expressions for String Extraction"
      ]
    },
    {
      "cell_type": "markdown",
      "metadata": {
        "id": "fQ3FnDAFysMl"
      },
      "source": [
        "In PY4E Chapter 12 (Regular Expressions), Part III, the application of regular expressions to string extraction is discussed."
      ]
    },
    {
      "cell_type": "markdown",
      "metadata": {
        "id": "WdkyWk33y43Z"
      },
      "source": [
        ""
      ]
    },
    {
      "cell_type": "markdown",
      "metadata": {
        "id": "Ce9f7aDQyt66"
      },
      "source": [
        "\n",
        "\n",
        "---\n",
        "\n"
      ]
    },
    {
      "cell_type": "markdown",
      "metadata": {
        "id": "AYk6CJa78qHo"
      },
      "source": [
        "*With thanks to this reference article:  \n",
        "Neptune.ai blogs - How to Deal with Files in Google Colab: Everything You Need to Know,* https://neptune.ai/blog/google-colab-dealing-with-files-2\n",
        "\n",
        "\n",
        "*And, of course to Charles Severance and his work Python for Everybody at* https://py4e.com\n",
        "\n",
        "---\n",
        "\n"
      ]
    }
  ]
}