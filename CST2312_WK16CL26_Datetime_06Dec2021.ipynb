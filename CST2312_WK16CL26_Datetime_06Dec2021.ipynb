{
  "nbformat": 4,
  "nbformat_minor": 0,
  "metadata": {
    "colab": {
      "name": "CST2312_WK16CL26_Datetime_06Dec2021.ipynb",
      "provenance": [],
      "collapsed_sections": [
        "xMpUwYC2Fs9U",
        "yPa9-4M3AqKx",
        "t4NTlE10kSBy"
      ],
      "include_colab_link": true
    },
    "kernelspec": {
      "name": "python3",
      "display_name": "Python 3"
    },
    "language_info": {
      "name": "python"
    }
  },
  "cells": [
    {
      "cell_type": "markdown",
      "metadata": {
        "id": "view-in-github",
        "colab_type": "text"
      },
      "source": [
        "<a href=\"https://colab.research.google.com/github/ProfessorPatrickSlatraigh/CST2312/blob/main/CST2312_WK16CL26_Datetime_06Dec2021.ipynb\" target=\"_parent\"><img src=\"https://colab.research.google.com/assets/colab-badge.svg\" alt=\"Open In Colab\"/></a>"
      ]
    },
    {
      "cell_type": "markdown",
      "metadata": {
        "id": "g5TZ2WCl2E3K"
      },
      "source": [
        "# **Datetime and NYC OpenData Film Permits**\n",
        "*as of: 06-Dec-2021*\n",
        "\n"
      ]
    },
    {
      "cell_type": "markdown",
      "metadata": {
        "id": "QkdhbpWA2M2g"
      },
      "source": [
        "Attach Google Drive MyDocuments/data to /gdrive in Contents of Colab\n",
        "\n",
        "The following files will be accessed using Google Drive from this notebook: \n",
        "\n",
        "*   avocado.csv\n",
        "*   family.csv\n",
        "*   Film_Permits_RuhRoh_03DEC2021.csv\n",
        "*   Film_Permits_03DEC2021.csv\n",
        "\n",
        "In addition, the following file will be accessed using an internet URL in this notebook: \n",
        "\n",
        "*   http://bit.ly/uforeports\n"
      ]
    },
    {
      "cell_type": "code",
      "metadata": {
        "id": "6vgaHIjl1_ds",
        "colab": {
          "base_uri": "https://localhost:8080/"
        },
        "outputId": "ce1f761b-212d-43ca-ee37-c693d5f33531"
      },
      "source": [
        "from google.colab import drive\n",
        "drive.mount('/content/gdrive')"
      ],
      "execution_count": 1,
      "outputs": [
        {
          "output_type": "stream",
          "name": "stdout",
          "text": [
            "Mounted at /content/gdrive\n"
          ]
        }
      ]
    },
    {
      "cell_type": "markdown",
      "metadata": {
        "id": "RI9v7_sM2mh6"
      },
      "source": [
        "Import Pandas and Numpy libraries"
      ]
    },
    {
      "cell_type": "code",
      "metadata": {
        "id": "DUkaixwg2p2O"
      },
      "source": [
        "import pandas as pd\n",
        "import numpy as np"
      ],
      "execution_count": 2,
      "outputs": []
    },
    {
      "cell_type": "markdown",
      "metadata": {
        "id": "xMpUwYC2Fs9U"
      },
      "source": [
        "## **Working with Dates and Times**\n",
        "*using avocado.csv of price data as an example*"
      ]
    },
    {
      "cell_type": "markdown",
      "metadata": {
        "id": "ZrqD4OG9F7qF"
      },
      "source": [
        "One challenge in acquiring, scrubbing, and ETL (extract, translate, and load) of source date is the formatting of dates and times.\n",
        "\n",
        "This section references examples from: \n",
        "1.   \"DateTime in Pandas read_csv()\" by Paritosh Sharma Ghimire on medium.com -- https://bit.ly/333qcnF\n",
        "2.   Version 1 of \"Avocado Prices: Historical data on avocado prices and sales volume in multiple US markets\" by Justin Kiggins on Kaggle -- https://www.kaggle.com/neuromusic/avocado-prices"
      ]
    },
    {
      "cell_type": "markdown",
      "metadata": {
        "id": "7g71BnXHHUF9"
      },
      "source": [
        "To begin, the file **avocados.csv** is uploaded and available in Google Drive at **content/gdrive/MyDrive/data/avocados.csv**\n",
        "\n",
        "The small file **family.csv** is also uploaded and available in Google Drive in the same folder.  This file is used later in this notebook.\n",
        "\n",
        "*See the google.colab import of drive() and the MyDrive mount to gdrive earlier*"
      ]
    },
    {
      "cell_type": "markdown",
      "metadata": {
        "id": "carFESs0IJIs"
      },
      "source": [
        "We should also import the Python datetime libary.\n",
        "\n",
        "To save typing, you could \n",
        "\n",
        "```\n",
        "import datetime as dt\n",
        "```\n",
        "\n",
        "***For demonstration puroses in this notebook the datetime library is imported with its full name*** "
      ]
    },
    {
      "cell_type": "code",
      "metadata": {
        "id": "nZ8p_-tRIj7d"
      },
      "source": [
        "import datetime"
      ],
      "execution_count": null,
      "outputs": []
    },
    {
      "cell_type": "markdown",
      "metadata": {
        "id": "Jeb8VPwhHmzg"
      },
      "source": [
        "As strings are represented as string objects, integers as Integer objects, floats as floating point objects in python, dates should be of type Datetime."
      ]
    },
    {
      "cell_type": "code",
      "metadata": {
        "id": "1mfA456uIiV9",
        "colab": {
          "base_uri": "https://localhost:8080/"
        },
        "outputId": "708cced9-f173-4069-b870-bc188016f0fa"
      },
      "source": [
        "print(\"The type of 5 is: \", type(5))\n",
        "# <class 'int'>\n",
        "\n",
        "print(\"The type of 'Nepal' is: \", type('Nepal'))\n",
        "# <class 'str'>\n",
        "\n",
        "print(\"The type of datetime.date(2051,7,14) is: \", type(datetime.date(2051,7,14)))\n",
        "# <class 'datetime.date'>"
      ],
      "execution_count": null,
      "outputs": [
        {
          "output_type": "stream",
          "name": "stdout",
          "text": [
            "The type of 5 is:  <class 'int'>\n",
            "The type of 'Nepal' is:  <class 'str'>\n",
            "The type of datetime.date(2051,7,14) is:  <class 'datetime.date'>\n"
          ]
        }
      ]
    },
    {
      "cell_type": "markdown",
      "metadata": {
        "id": "eVXf3YPqJOHQ"
      },
      "source": [
        "Reminder: the following libraries should be imported by now - \n",
        "*   pandas as pd\n",
        "*   numpy as np\n",
        "*   datetime"
      ]
    },
    {
      "cell_type": "markdown",
      "metadata": {
        "id": "AlDi8H2BJasa"
      },
      "source": [
        "Datetime objects are unique. For python to recognize an object as string, the value must be inside single/double quotes. For python to recognize Datetime objects, they must be created using **datetime.datetime() method**. \n",
        "\n",
        "Here is the link to the python documentation on datetime and basic date and time types:\n",
        "\n",
        "https://docs.python.org/3/library/datetime.html\n",
        "\n",
        "Datetime variables in Python cane be **aware** or **naive**.  The distinction is that **aware** datetime information is defined to include its relative time zone and can be used in conjunction with other **aware** datetime values whereas **naive** datetime information does not have its time zone defined and cannot be comingled with other datetime information from other time zones.\n",
        "\n",
        "The specific class of variable is supplied by the datetime module. This class can represent simple timezones (aware) or not (naive) and includes the following: \n",
        "\n",
        "*   **class datetime.date** - An idealized naive date, assuming the current Gregorian calendar always was, and always will be, in effect. Attributes: year, month, and day.\n",
        "\n",
        "*   **class datetime.time** - An idealized time, independent of any particular day, assuming that every day has exactly 24*60*60 seconds. (There is no notion of “leap seconds” here.) Attributes: hour, minute, second, microsecond, and tzinfo.\n",
        "\n",
        "*   **class datetime.datetime** - A combination of a date and a time. Attributes: year, month, day, hour, minute, second, microsecond, and tzinfo.\n",
        "\n",
        "*   **class datetime.timedelta** - A duration expressing the difference between two date, time, or datetime instances to microsecond resolution.\n",
        "\n",
        "*   **class datetime.tzinfo** - An abstract base class for time zone information objects. These are used by the datetime and time classes to provide a customizable notion of time adjustment (for example, to account for time zone and/or daylight saving time).\n",
        "\n",
        "*   **class datetime.timezone** - A class that implements the tzinfo abstract base class as a fixed offset from the UTC.\n"
      ]
    },
    {
      "cell_type": "markdown",
      "metadata": {
        "id": "oADDYU9kMB6b"
      },
      "source": [
        "Use the **.tzinfo** attribute of a datetime object to determine whether that object is **aware** or **naive**.\n",
        "\n",
        "1.   A datetime object **d** is **aware** if both of the following hold:\n",
        "```\n",
        "d.tzinfo is not None\n",
        "d.tzinfo.utcoffset(d) does not return None\n",
        "```\n",
        "Otherwise, **d** is **naive**.\n",
        "\n",
        "\n",
        "2.   A time object **t** is aware if both of the following hold:\n",
        "```\n",
        "t.tzinfo is not None\n",
        "t.tzinfo.utcoffset(None) does not return None.\n",
        "```\n",
        "Otherwise, **t** is **naive**.\n",
        "\n",
        "\n",
        "The distinction between **aware** and **naive** doesn’t apply to **timedelta** objects.\n"
      ]
    },
    {
      "cell_type": "markdown",
      "metadata": {
        "id": "CdVkFHG5OTQE"
      },
      "source": [
        "Working with dates and parsing them is one of the biggest challenges for programmers.\n",
        "\n",
        "Let's use an example to illustrate the point. We will be using the Avocado Prices dataset in a CSV file. You can download the data from the link presented earlier."
      ]
    },
    {
      "cell_type": "markdown",
      "metadata": {
        "id": "h1NZNAxXNzHC"
      },
      "source": [
        "Let's read the avocado.csv file to df_av with pd.read_csv()"
      ]
    },
    {
      "cell_type": "code",
      "metadata": {
        "id": "S-8TwoXJN8Cs"
      },
      "source": [
        "df_av = pd.read_csv('/content/gdrive/MyDrive/data/avocado.csv')"
      ],
      "execution_count": null,
      "outputs": []
    },
    {
      "cell_type": "markdown",
      "metadata": {
        "id": "QNMUVI9EO1Vh"
      },
      "source": [
        "Let's use head() to look at some of the file's contents"
      ]
    },
    {
      "cell_type": "code",
      "metadata": {
        "id": "lAEwZ13DIDOz",
        "colab": {
          "base_uri": "https://localhost:8080/",
          "height": 310
        },
        "outputId": "1b0d11b3-3ce6-482e-9a08-e10fbe12c164"
      },
      "source": [
        "df_av.head()"
      ],
      "execution_count": null,
      "outputs": [
        {
          "output_type": "execute_result",
          "data": {
            "text/html": [
              "<div>\n",
              "<style scoped>\n",
              "    .dataframe tbody tr th:only-of-type {\n",
              "        vertical-align: middle;\n",
              "    }\n",
              "\n",
              "    .dataframe tbody tr th {\n",
              "        vertical-align: top;\n",
              "    }\n",
              "\n",
              "    .dataframe thead th {\n",
              "        text-align: right;\n",
              "    }\n",
              "</style>\n",
              "<table border=\"1\" class=\"dataframe\">\n",
              "  <thead>\n",
              "    <tr style=\"text-align: right;\">\n",
              "      <th></th>\n",
              "      <th>Unnamed: 0</th>\n",
              "      <th>Date</th>\n",
              "      <th>AveragePrice</th>\n",
              "      <th>Total Volume</th>\n",
              "      <th>4046</th>\n",
              "      <th>4225</th>\n",
              "      <th>4770</th>\n",
              "      <th>Total Bags</th>\n",
              "      <th>Small Bags</th>\n",
              "      <th>Large Bags</th>\n",
              "      <th>XLarge Bags</th>\n",
              "      <th>type</th>\n",
              "      <th>year</th>\n",
              "      <th>region</th>\n",
              "    </tr>\n",
              "  </thead>\n",
              "  <tbody>\n",
              "    <tr>\n",
              "      <th>0</th>\n",
              "      <td>0</td>\n",
              "      <td>2015-12-27</td>\n",
              "      <td>1.33</td>\n",
              "      <td>64236.62</td>\n",
              "      <td>1036.74</td>\n",
              "      <td>54454.85</td>\n",
              "      <td>48.16</td>\n",
              "      <td>8696.87</td>\n",
              "      <td>8603.62</td>\n",
              "      <td>93.25</td>\n",
              "      <td>0.0</td>\n",
              "      <td>conventional</td>\n",
              "      <td>2015</td>\n",
              "      <td>Albany</td>\n",
              "    </tr>\n",
              "    <tr>\n",
              "      <th>1</th>\n",
              "      <td>1</td>\n",
              "      <td>2015-12-20</td>\n",
              "      <td>1.35</td>\n",
              "      <td>54876.98</td>\n",
              "      <td>674.28</td>\n",
              "      <td>44638.81</td>\n",
              "      <td>58.33</td>\n",
              "      <td>9505.56</td>\n",
              "      <td>9408.07</td>\n",
              "      <td>97.49</td>\n",
              "      <td>0.0</td>\n",
              "      <td>conventional</td>\n",
              "      <td>2015</td>\n",
              "      <td>Albany</td>\n",
              "    </tr>\n",
              "    <tr>\n",
              "      <th>2</th>\n",
              "      <td>2</td>\n",
              "      <td>2015-12-13</td>\n",
              "      <td>0.93</td>\n",
              "      <td>118220.22</td>\n",
              "      <td>794.70</td>\n",
              "      <td>109149.67</td>\n",
              "      <td>130.50</td>\n",
              "      <td>8145.35</td>\n",
              "      <td>8042.21</td>\n",
              "      <td>103.14</td>\n",
              "      <td>0.0</td>\n",
              "      <td>conventional</td>\n",
              "      <td>2015</td>\n",
              "      <td>Albany</td>\n",
              "    </tr>\n",
              "    <tr>\n",
              "      <th>3</th>\n",
              "      <td>3</td>\n",
              "      <td>2015-12-06</td>\n",
              "      <td>1.08</td>\n",
              "      <td>78992.15</td>\n",
              "      <td>1132.00</td>\n",
              "      <td>71976.41</td>\n",
              "      <td>72.58</td>\n",
              "      <td>5811.16</td>\n",
              "      <td>5677.40</td>\n",
              "      <td>133.76</td>\n",
              "      <td>0.0</td>\n",
              "      <td>conventional</td>\n",
              "      <td>2015</td>\n",
              "      <td>Albany</td>\n",
              "    </tr>\n",
              "    <tr>\n",
              "      <th>4</th>\n",
              "      <td>4</td>\n",
              "      <td>2015-11-29</td>\n",
              "      <td>1.28</td>\n",
              "      <td>51039.60</td>\n",
              "      <td>941.48</td>\n",
              "      <td>43838.39</td>\n",
              "      <td>75.78</td>\n",
              "      <td>6183.95</td>\n",
              "      <td>5986.26</td>\n",
              "      <td>197.69</td>\n",
              "      <td>0.0</td>\n",
              "      <td>conventional</td>\n",
              "      <td>2015</td>\n",
              "      <td>Albany</td>\n",
              "    </tr>\n",
              "  </tbody>\n",
              "</table>\n",
              "</div>"
            ],
            "text/plain": [
              "   Unnamed: 0        Date  AveragePrice  ...          type  year  region\n",
              "0           0  2015-12-27          1.33  ...  conventional  2015  Albany\n",
              "1           1  2015-12-20          1.35  ...  conventional  2015  Albany\n",
              "2           2  2015-12-13          0.93  ...  conventional  2015  Albany\n",
              "3           3  2015-12-06          1.08  ...  conventional  2015  Albany\n",
              "4           4  2015-11-29          1.28  ...  conventional  2015  Albany\n",
              "\n",
              "[5 rows x 14 columns]"
            ]
          },
          "metadata": {},
          "execution_count": 6
        }
      ]
    },
    {
      "cell_type": "markdown",
      "metadata": {
        "id": "hnqqDhntPD_1"
      },
      "source": [
        "... and have a look at the data type for each Variable (column) in the df_av DataFrame"
      ]
    },
    {
      "cell_type": "code",
      "metadata": {
        "id": "9D526U6DPKrR",
        "colab": {
          "base_uri": "https://localhost:8080/"
        },
        "outputId": "dba32a40-5966-4b39-ee96-89e8581dd142"
      },
      "source": [
        "df_av.info()"
      ],
      "execution_count": null,
      "outputs": [
        {
          "output_type": "stream",
          "name": "stdout",
          "text": [
            "<class 'pandas.core.frame.DataFrame'>\n",
            "RangeIndex: 18249 entries, 0 to 18248\n",
            "Data columns (total 14 columns):\n",
            " #   Column        Non-Null Count  Dtype  \n",
            "---  ------        --------------  -----  \n",
            " 0   Unnamed: 0    18249 non-null  int64  \n",
            " 1   Date          18249 non-null  object \n",
            " 2   AveragePrice  18249 non-null  float64\n",
            " 3   Total Volume  18249 non-null  float64\n",
            " 4   4046          18249 non-null  float64\n",
            " 5   4225          18249 non-null  float64\n",
            " 6   4770          18249 non-null  float64\n",
            " 7   Total Bags    18249 non-null  float64\n",
            " 8   Small Bags    18249 non-null  float64\n",
            " 9   Large Bags    18249 non-null  float64\n",
            " 10  XLarge Bags   18249 non-null  float64\n",
            " 11  type          18249 non-null  object \n",
            " 12  year          18249 non-null  int64  \n",
            " 13  region        18249 non-null  object \n",
            "dtypes: float64(9), int64(2), object(3)\n",
            "memory usage: 1.9+ MB\n"
          ]
        }
      ]
    },
    {
      "cell_type": "markdown",
      "metadata": {
        "id": "vY328FqrSssE"
      },
      "source": [
        "### **Parsing dates as datetime during read_csv()**"
      ]
    },
    {
      "cell_type": "markdown",
      "metadata": {
        "id": "HZoQXlxcQKBP"
      },
      "source": [
        "We see the data type of the ‘Date’ column is not ‘DateTime’, but 'Object' which is the pandas equivalent of python’s String and is interchangeable with it in most cases.\n",
        "\n",
        "For python to treat an object as datetime object instead of str,int, float; the object should be created or parsed using **datetime.datetime()** or a **datetime parser**.\n",
        "\n",
        "By default, the date columns have been read as strings(objects) by the pandas **read_csv()** method and not as datetime objects.  We want pandas to read columns with dates not as strings(objects) but as datetime objects.\n",
        "\n",
        "We can achive this by parsing the dates as datetime at the time of reading the data.\n",
        "\n",
        "Set **parse_dateparameter** of **read_csv()** to the label/index of the column you want to parse(convert string date into datetime object).\n",
        "\n",
        "Only booleans, lists, and dictionaries are accepted for the 'parse_dates' parameter.\n",
        "\n",
        "\n",
        "```\n",
        "parse_date = ['Date'] or parse_date = [1]\n",
        "```\n"
      ]
    },
    {
      "cell_type": "code",
      "metadata": {
        "id": "mxt5uH10Qez-"
      },
      "source": [
        "df_av_parsed = pd.read_csv('/content/gdrive/MyDrive/data/avocado.csv', parse_dates=['Date'])"
      ],
      "execution_count": null,
      "outputs": []
    },
    {
      "cell_type": "markdown",
      "metadata": {
        "id": "A_RE6bMURNkC"
      },
      "source": [
        "Let's have a looked at our new DataFrame **df_av_parsed** with parsed '**Date**' variable (column)"
      ]
    },
    {
      "cell_type": "code",
      "metadata": {
        "id": "71aHQ0R2RGkg",
        "colab": {
          "base_uri": "https://localhost:8080/"
        },
        "outputId": "94a7d386-5350-46ad-bc04-23b6cbc1c385"
      },
      "source": [
        "df_av_parsed.info()"
      ],
      "execution_count": null,
      "outputs": [
        {
          "output_type": "stream",
          "name": "stdout",
          "text": [
            "<class 'pandas.core.frame.DataFrame'>\n",
            "RangeIndex: 18249 entries, 0 to 18248\n",
            "Data columns (total 14 columns):\n",
            " #   Column        Non-Null Count  Dtype         \n",
            "---  ------        --------------  -----         \n",
            " 0   Unnamed: 0    18249 non-null  int64         \n",
            " 1   Date          18249 non-null  datetime64[ns]\n",
            " 2   AveragePrice  18249 non-null  float64       \n",
            " 3   Total Volume  18249 non-null  float64       \n",
            " 4   4046          18249 non-null  float64       \n",
            " 5   4225          18249 non-null  float64       \n",
            " 6   4770          18249 non-null  float64       \n",
            " 7   Total Bags    18249 non-null  float64       \n",
            " 8   Small Bags    18249 non-null  float64       \n",
            " 9   Large Bags    18249 non-null  float64       \n",
            " 10  XLarge Bags   18249 non-null  float64       \n",
            " 11  type          18249 non-null  object        \n",
            " 12  year          18249 non-null  int64         \n",
            " 13  region        18249 non-null  object        \n",
            "dtypes: datetime64[ns](1), float64(9), int64(2), object(2)\n",
            "memory usage: 1.9+ MB\n"
          ]
        }
      ]
    },
    {
      "cell_type": "markdown",
      "metadata": {
        "id": "T-Jy36oASJKV"
      },
      "source": [
        "We can check the type of an element in the new DataFrame **df_av_parsed** for the variable '**Date**'"
      ]
    },
    {
      "cell_type": "code",
      "metadata": {
        "id": "2BhjOyD8R239",
        "colab": {
          "base_uri": "https://localhost:8080/"
        },
        "outputId": "b0bd4062-c464-42d1-d951-81bb7af34c02"
      },
      "source": [
        "type(df_av_parsed['Date'][0])"
      ],
      "execution_count": null,
      "outputs": [
        {
          "output_type": "execute_result",
          "data": {
            "text/plain": [
              "pandas._libs.tslibs.timestamps.Timestamp"
            ]
          },
          "metadata": {},
          "execution_count": 10
        }
      ]
    },
    {
      "cell_type": "markdown",
      "metadata": {
        "id": "I-pNXVA9Swks"
      },
      "source": [
        "\n",
        "**Timestamp** is the Pandas equivalent of python’s **Datetime** and is interchangeable with it in most cases.\n",
        "\n",
        "The benefits of using a datetime object instead of String objects include:\n",
        "\n",
        "*   chronological ordering of dates/times\n",
        "*   calculating differential time\n",
        "*   dealing with time zones\n",
        "*   daylight saving time\n",
        "*   accomodating different written date formats\n",
        "*   other date-specific logic\n",
        "\n"
      ]
    },
    {
      "cell_type": "markdown",
      "metadata": {
        "id": "Bd5dZtH3Tlvv"
      },
      "source": [
        "### **Converting String Dates to Datetime Objects in a Pandas DataFrame**"
      ]
    },
    {
      "cell_type": "markdown",
      "metadata": {
        "id": "7anXAztyTyzo"
      },
      "source": [
        "Pandas has a built-in function called **to_datetime(**) that can be used to convert strings to datetime object.\n",
        "\n",
        "```\n",
        "df['Date] = pd.to_datetime(df['Date'])\n",
        "```\n"
      ]
    },
    {
      "cell_type": "code",
      "metadata": {
        "id": "APZBfjTDzlXa"
      },
      "source": [
        "df_av.info()"
      ],
      "execution_count": null,
      "outputs": []
    },
    {
      "cell_type": "code",
      "metadata": {
        "id": "W2Kr6daDUc_v"
      },
      "source": [
        "df_av['Date'] = pd.to_datetime(df_av['Date'])"
      ],
      "execution_count": null,
      "outputs": []
    },
    {
      "cell_type": "markdown",
      "metadata": {
        "id": "-aIGaveBUsta"
      },
      "source": [
        "Let's look at our original DataFrame df_av which had read in the 'Date' column as a String(Object)."
      ]
    },
    {
      "cell_type": "code",
      "metadata": {
        "id": "mWsIUMxFU3oL",
        "colab": {
          "base_uri": "https://localhost:8080/"
        },
        "outputId": "2cf102d3-d5d1-465e-9680-1f0f1fbaa45c"
      },
      "source": [
        "df_av.info()"
      ],
      "execution_count": null,
      "outputs": [
        {
          "output_type": "stream",
          "name": "stdout",
          "text": [
            "<class 'pandas.core.frame.DataFrame'>\n",
            "RangeIndex: 18249 entries, 0 to 18248\n",
            "Data columns (total 14 columns):\n",
            " #   Column        Non-Null Count  Dtype         \n",
            "---  ------        --------------  -----         \n",
            " 0   Unnamed: 0    18249 non-null  int64         \n",
            " 1   Date          18249 non-null  datetime64[ns]\n",
            " 2   AveragePrice  18249 non-null  float64       \n",
            " 3   Total Volume  18249 non-null  float64       \n",
            " 4   4046          18249 non-null  float64       \n",
            " 5   4225          18249 non-null  float64       \n",
            " 6   4770          18249 non-null  float64       \n",
            " 7   Total Bags    18249 non-null  float64       \n",
            " 8   Small Bags    18249 non-null  float64       \n",
            " 9   Large Bags    18249 non-null  float64       \n",
            " 10  XLarge Bags   18249 non-null  float64       \n",
            " 11  type          18249 non-null  object        \n",
            " 12  year          18249 non-null  int64         \n",
            " 13  region        18249 non-null  object        \n",
            "dtypes: datetime64[ns](1), float64(9), int64(2), object(2)\n",
            "memory usage: 1.9+ MB\n"
          ]
        }
      ]
    },
    {
      "cell_type": "markdown",
      "metadata": {
        "id": "_QMPaadZWzWB"
      },
      "source": [
        "We can look at some of the values..."
      ]
    },
    {
      "cell_type": "code",
      "metadata": {
        "id": "lot16AvJU-H2",
        "colab": {
          "base_uri": "https://localhost:8080/"
        },
        "outputId": "01dd5678-4acb-4643-8d10-b949d2f9f672"
      },
      "source": [
        "selection = df_av.iloc[:10,1]\n",
        "print(\"The first ten rows of the parsed Date value: \\n\",selection)"
      ],
      "execution_count": null,
      "outputs": [
        {
          "output_type": "stream",
          "name": "stdout",
          "text": [
            "The first ten rows of the parsed Date value: \n",
            " 0   2015-12-27\n",
            "1   2015-12-20\n",
            "2   2015-12-13\n",
            "3   2015-12-06\n",
            "4   2015-11-29\n",
            "5   2015-11-22\n",
            "6   2015-11-15\n",
            "7   2015-11-08\n",
            "8   2015-11-01\n",
            "9   2015-10-25\n",
            "Name: Date, dtype: datetime64[ns]\n"
          ]
        }
      ]
    },
    {
      "cell_type": "markdown",
      "metadata": {
        "id": "ILMN-XauWw56"
      },
      "source": [
        "... or ..."
      ]
    },
    {
      "cell_type": "code",
      "metadata": {
        "id": "nZ57pLdfWkNq",
        "colab": {
          "base_uri": "https://localhost:8080/"
        },
        "outputId": "9e6008a7-6ed5-446e-eab1-9974359c1113"
      },
      "source": [
        "selection = df_av['Date']\n",
        "print(selection[:10])"
      ],
      "execution_count": null,
      "outputs": [
        {
          "output_type": "stream",
          "name": "stdout",
          "text": [
            "0   2015-12-27\n",
            "1   2015-12-20\n",
            "2   2015-12-13\n",
            "3   2015-12-06\n",
            "4   2015-11-29\n",
            "5   2015-11-22\n",
            "6   2015-11-15\n",
            "7   2015-11-08\n",
            "8   2015-11-01\n",
            "9   2015-10-25\n",
            "Name: Date, dtype: datetime64[ns]\n"
          ]
        }
      ]
    },
    {
      "cell_type": "markdown",
      "metadata": {
        "id": "q-X24AZ5XEiL"
      },
      "source": [
        "### **Custom Date Formats**"
      ]
    },
    {
      "cell_type": "markdown",
      "metadata": {
        "id": "X9MCc6IGXJtL"
      },
      "source": [
        "Sometimes, dates might be in a custom format, for example, YYYY-DD-MM HH:MM:SS. \n"
      ]
    },
    {
      "cell_type": "code",
      "metadata": {
        "id": "rNjCDgXqXXd2",
        "colab": {
          "base_uri": "https://localhost:8080/",
          "height": 143
        },
        "outputId": "757506e1-75cb-4ac5-8f97-62c84e917746"
      },
      "source": [
        "df_x = pd.DataFrame({'Date':['1994-10-31 12:30:00', '1995-11-23 15:30:00', '2004-1-1 00:30:00'], 'name':['psg','aw','prw']})\n",
        "df_x"
      ],
      "execution_count": null,
      "outputs": [
        {
          "output_type": "execute_result",
          "data": {
            "text/html": [
              "<div>\n",
              "<style scoped>\n",
              "    .dataframe tbody tr th:only-of-type {\n",
              "        vertical-align: middle;\n",
              "    }\n",
              "\n",
              "    .dataframe tbody tr th {\n",
              "        vertical-align: top;\n",
              "    }\n",
              "\n",
              "    .dataframe thead th {\n",
              "        text-align: right;\n",
              "    }\n",
              "</style>\n",
              "<table border=\"1\" class=\"dataframe\">\n",
              "  <thead>\n",
              "    <tr style=\"text-align: right;\">\n",
              "      <th></th>\n",
              "      <th>Date</th>\n",
              "      <th>name</th>\n",
              "    </tr>\n",
              "  </thead>\n",
              "  <tbody>\n",
              "    <tr>\n",
              "      <th>0</th>\n",
              "      <td>1994-10-31 12:30:00</td>\n",
              "      <td>psg</td>\n",
              "    </tr>\n",
              "    <tr>\n",
              "      <th>1</th>\n",
              "      <td>1995-11-23 15:30:00</td>\n",
              "      <td>aw</td>\n",
              "    </tr>\n",
              "    <tr>\n",
              "      <th>2</th>\n",
              "      <td>2004-1-1 00:30:00</td>\n",
              "      <td>prw</td>\n",
              "    </tr>\n",
              "  </tbody>\n",
              "</table>\n",
              "</div>"
            ],
            "text/plain": [
              "                  Date name\n",
              "0  1994-10-31 12:30:00  psg\n",
              "1  1995-11-23 15:30:00   aw\n",
              "2    2004-1-1 00:30:00  prw"
            ]
          },
          "metadata": {},
          "execution_count": 16
        }
      ]
    },
    {
      "cell_type": "code",
      "metadata": {
        "colab": {
          "base_uri": "https://localhost:8080/"
        },
        "id": "7_lp026c044E",
        "outputId": "b3b73877-a609-469f-aaa2-774395f76a74"
      },
      "source": [
        "df_x.info()"
      ],
      "execution_count": null,
      "outputs": [
        {
          "output_type": "stream",
          "name": "stdout",
          "text": [
            "<class 'pandas.core.frame.DataFrame'>\n",
            "RangeIndex: 3 entries, 0 to 2\n",
            "Data columns (total 2 columns):\n",
            " #   Column  Non-Null Count  Dtype \n",
            "---  ------  --------------  ----- \n",
            " 0   Date    3 non-null      object\n",
            " 1   name    3 non-null      object\n",
            "dtypes: object(2)\n",
            "memory usage: 176.0+ bytes\n"
          ]
        }
      ]
    },
    {
      "cell_type": "markdown",
      "metadata": {
        "id": "VQ77TWvDXpRP"
      },
      "source": [
        "\n",
        "Pandas **to_datetime()** has a parameter called **format** that allows you to pass a custom format as the argument:"
      ]
    },
    {
      "cell_type": "code",
      "metadata": {
        "id": "2WAyJmCNXqHp"
      },
      "source": [
        "df_x['Date'] = pd.to_datetime(df_x['Date'], format='%Y-%m-%d  %H:%M:%S')"
      ],
      "execution_count": null,
      "outputs": []
    },
    {
      "cell_type": "code",
      "metadata": {
        "colab": {
          "base_uri": "https://localhost:8080/"
        },
        "id": "e5TfqYdB1RoX",
        "outputId": "ad5985e4-a127-4937-9bf0-6ce7db6d8316"
      },
      "source": [
        "df_x.info()"
      ],
      "execution_count": null,
      "outputs": [
        {
          "output_type": "stream",
          "name": "stdout",
          "text": [
            "<class 'pandas.core.frame.DataFrame'>\n",
            "RangeIndex: 3 entries, 0 to 2\n",
            "Data columns (total 2 columns):\n",
            " #   Column  Non-Null Count  Dtype         \n",
            "---  ------  --------------  -----         \n",
            " 0   Date    3 non-null      datetime64[ns]\n",
            " 1   name    3 non-null      object        \n",
            "dtypes: datetime64[ns](1), object(1)\n",
            "memory usage: 176.0+ bytes\n"
          ]
        }
      ]
    },
    {
      "cell_type": "code",
      "metadata": {
        "id": "chf67X0cXwYd",
        "colab": {
          "base_uri": "https://localhost:8080/",
          "height": 143
        },
        "outputId": "9a906efc-c242-41f2-894d-c717d3f75c92"
      },
      "source": [
        "df_x.head()"
      ],
      "execution_count": null,
      "outputs": [
        {
          "output_type": "execute_result",
          "data": {
            "text/html": [
              "<div>\n",
              "<style scoped>\n",
              "    .dataframe tbody tr th:only-of-type {\n",
              "        vertical-align: middle;\n",
              "    }\n",
              "\n",
              "    .dataframe tbody tr th {\n",
              "        vertical-align: top;\n",
              "    }\n",
              "\n",
              "    .dataframe thead th {\n",
              "        text-align: right;\n",
              "    }\n",
              "</style>\n",
              "<table border=\"1\" class=\"dataframe\">\n",
              "  <thead>\n",
              "    <tr style=\"text-align: right;\">\n",
              "      <th></th>\n",
              "      <th>Date</th>\n",
              "      <th>name</th>\n",
              "    </tr>\n",
              "  </thead>\n",
              "  <tbody>\n",
              "    <tr>\n",
              "      <th>0</th>\n",
              "      <td>1994-10-31 12:30:00</td>\n",
              "      <td>psg</td>\n",
              "    </tr>\n",
              "    <tr>\n",
              "      <th>1</th>\n",
              "      <td>1995-11-23 15:30:00</td>\n",
              "      <td>aw</td>\n",
              "    </tr>\n",
              "    <tr>\n",
              "      <th>2</th>\n",
              "      <td>2004-01-01 00:30:00</td>\n",
              "      <td>prw</td>\n",
              "    </tr>\n",
              "  </tbody>\n",
              "</table>\n",
              "</div>"
            ],
            "text/plain": [
              "                 Date name\n",
              "0 1994-10-31 12:30:00  psg\n",
              "1 1995-11-23 15:30:00   aw\n",
              "2 2004-01-01 00:30:00  prw"
            ]
          },
          "metadata": {},
          "execution_count": 20
        }
      ]
    },
    {
      "cell_type": "markdown",
      "metadata": {
        "id": "BfD8jjAaX8pL"
      },
      "source": [
        "### **Sourcing Date Components from Separate Variables**"
      ]
    },
    {
      "cell_type": "markdown",
      "metadata": {
        "id": "wagcmLKJYBwM"
      },
      "source": [
        "\n",
        "What if year, month and day are in separate columns? Can we assemble them into a single column as datetime objects?\n",
        "\n",
        "\n",
        "Set the **parameterparse_date** to a dictionary in the **read_csv()** method.\n",
        "\n",
        "The **key** in the dictionay should be the name of the column and the **value** should be a list with the index of the columns you want to combine.\n",
        "\n",
        "This will collapse the existing columns into the newly defined timedate object.  That means there will not be columns in the resultant DataFrame for the variables which were included as part of the value in the dictionary used to creat the parsed datetime variable. \n"
      ]
    },
    {
      "cell_type": "code",
      "metadata": {
        "id": "bCyvm-I1YfsV"
      },
      "source": [
        "df_fam = pd.read_csv('/content/gdrive/MyDrive/data/family.csv', parse_dates={'date_of_birth':[0,1,2]},)"
      ],
      "execution_count": null,
      "outputs": []
    },
    {
      "cell_type": "code",
      "metadata": {
        "id": "3I-2TngRaZd3",
        "colab": {
          "base_uri": "https://localhost:8080/"
        },
        "outputId": "6c5c88ef-36ab-43cf-c088-072d7fe2f464"
      },
      "source": [
        "df_fam.info()"
      ],
      "execution_count": null,
      "outputs": [
        {
          "output_type": "stream",
          "name": "stdout",
          "text": [
            "<class 'pandas.core.frame.DataFrame'>\n",
            "RangeIndex: 3 entries, 0 to 2\n",
            "Data columns (total 2 columns):\n",
            " #   Column         Non-Null Count  Dtype         \n",
            "---  ------         --------------  -----         \n",
            " 0   date_of_birth  3 non-null      datetime64[ns]\n",
            " 1   name           3 non-null      object        \n",
            "dtypes: datetime64[ns](1), object(1)\n",
            "memory usage: 176.0+ bytes\n"
          ]
        }
      ]
    },
    {
      "cell_type": "code",
      "metadata": {
        "id": "hCnuOedOac5Z",
        "colab": {
          "base_uri": "https://localhost:8080/",
          "height": 143
        },
        "outputId": "7b7c5921-49d8-4984-cc14-e638cc2513fe"
      },
      "source": [
        "df_fam"
      ],
      "execution_count": null,
      "outputs": [
        {
          "output_type": "execute_result",
          "data": {
            "text/html": [
              "<div>\n",
              "<style scoped>\n",
              "    .dataframe tbody tr th:only-of-type {\n",
              "        vertical-align: middle;\n",
              "    }\n",
              "\n",
              "    .dataframe tbody tr th {\n",
              "        vertical-align: top;\n",
              "    }\n",
              "\n",
              "    .dataframe thead th {\n",
              "        text-align: right;\n",
              "    }\n",
              "</style>\n",
              "<table border=\"1\" class=\"dataframe\">\n",
              "  <thead>\n",
              "    <tr style=\"text-align: right;\">\n",
              "      <th></th>\n",
              "      <th>date_of_birth</th>\n",
              "      <th>name</th>\n",
              "    </tr>\n",
              "  </thead>\n",
              "  <tbody>\n",
              "    <tr>\n",
              "      <th>0</th>\n",
              "      <td>1994-02-19</td>\n",
              "      <td>psg</td>\n",
              "    </tr>\n",
              "    <tr>\n",
              "      <th>1</th>\n",
              "      <td>1995-10-15</td>\n",
              "      <td>aw</td>\n",
              "    </tr>\n",
              "    <tr>\n",
              "      <th>2</th>\n",
              "      <td>1996-12-16</td>\n",
              "      <td>prw</td>\n",
              "    </tr>\n",
              "  </tbody>\n",
              "</table>\n",
              "</div>"
            ],
            "text/plain": [
              "  date_of_birth name\n",
              "0    1994-02-19  psg\n",
              "1    1995-10-15   aw\n",
              "2    1996-12-16  prw"
            ]
          },
          "metadata": {},
          "execution_count": 23
        }
      ]
    },
    {
      "cell_type": "markdown",
      "metadata": {
        "id": "0Z6VCAMTbAHl"
      },
      "source": [
        "As mentioned above, the syntax used did not create columns in the resultant DataFrame for the variables which were included as part of the value in the dictionary used to creat the parsed datetime variable. \n",
        " If you want to keep the existing columns then set:\n",
        "\n",
        "`keep_date_col = True`"
      ]
    },
    {
      "cell_type": "code",
      "metadata": {
        "id": "2QoALpj0bC54"
      },
      "source": [
        "df_fam = pd.read_csv('/content/gdrive/MyDrive/data/family.csv', parse_dates={'date_of_birth':[0,1,2]}, keep_date_col=True)"
      ],
      "execution_count": null,
      "outputs": []
    },
    {
      "cell_type": "code",
      "metadata": {
        "id": "AQQ6P_FGbQZc",
        "colab": {
          "base_uri": "https://localhost:8080/"
        },
        "outputId": "08f07ff5-e6ca-4134-d310-8548fcc50042"
      },
      "source": [
        "df_fam.info()"
      ],
      "execution_count": null,
      "outputs": [
        {
          "output_type": "stream",
          "name": "stdout",
          "text": [
            "<class 'pandas.core.frame.DataFrame'>\n",
            "RangeIndex: 3 entries, 0 to 2\n",
            "Data columns (total 5 columns):\n",
            " #   Column         Non-Null Count  Dtype         \n",
            "---  ------         --------------  -----         \n",
            " 0   date_of_birth  3 non-null      datetime64[ns]\n",
            " 1   year           3 non-null      object        \n",
            " 2   month          3 non-null      object        \n",
            " 3   day            3 non-null      object        \n",
            " 4   name           3 non-null      object        \n",
            "dtypes: datetime64[ns](1), object(4)\n",
            "memory usage: 248.0+ bytes\n"
          ]
        }
      ]
    },
    {
      "cell_type": "code",
      "metadata": {
        "id": "vsHq75tSbWzI",
        "colab": {
          "base_uri": "https://localhost:8080/",
          "height": 143
        },
        "outputId": "d5d9355b-1f8f-4058-981b-d593d54df9a8"
      },
      "source": [
        "df_fam"
      ],
      "execution_count": null,
      "outputs": [
        {
          "output_type": "execute_result",
          "data": {
            "text/html": [
              "<div>\n",
              "<style scoped>\n",
              "    .dataframe tbody tr th:only-of-type {\n",
              "        vertical-align: middle;\n",
              "    }\n",
              "\n",
              "    .dataframe tbody tr th {\n",
              "        vertical-align: top;\n",
              "    }\n",
              "\n",
              "    .dataframe thead th {\n",
              "        text-align: right;\n",
              "    }\n",
              "</style>\n",
              "<table border=\"1\" class=\"dataframe\">\n",
              "  <thead>\n",
              "    <tr style=\"text-align: right;\">\n",
              "      <th></th>\n",
              "      <th>date_of_birth</th>\n",
              "      <th>year</th>\n",
              "      <th>month</th>\n",
              "      <th>day</th>\n",
              "      <th>name</th>\n",
              "    </tr>\n",
              "  </thead>\n",
              "  <tbody>\n",
              "    <tr>\n",
              "      <th>0</th>\n",
              "      <td>1994-02-19</td>\n",
              "      <td>1994</td>\n",
              "      <td>2</td>\n",
              "      <td>19</td>\n",
              "      <td>psg</td>\n",
              "    </tr>\n",
              "    <tr>\n",
              "      <th>1</th>\n",
              "      <td>1995-10-15</td>\n",
              "      <td>1995</td>\n",
              "      <td>10</td>\n",
              "      <td>15</td>\n",
              "      <td>aw</td>\n",
              "    </tr>\n",
              "    <tr>\n",
              "      <th>2</th>\n",
              "      <td>1996-12-16</td>\n",
              "      <td>1996</td>\n",
              "      <td>12</td>\n",
              "      <td>16</td>\n",
              "      <td>prw</td>\n",
              "    </tr>\n",
              "  </tbody>\n",
              "</table>\n",
              "</div>"
            ],
            "text/plain": [
              "  date_of_birth  year month day name\n",
              "0    1994-02-19  1994     2  19  psg\n",
              "1    1995-10-15  1995    10  15   aw\n",
              "2    1996-12-16  1996    12  16  prw"
            ]
          },
          "metadata": {},
          "execution_count": 26
        }
      ]
    },
    {
      "cell_type": "markdown",
      "metadata": {
        "id": "ZM9Eif7scBHp"
      },
      "source": [
        "**parse_dates** accepts the following types of arguments: bool or list of int or names or list of lists or dict.  The default argument is the Boolean False.\n",
        "\n",
        "The behavior of **parse_dates** arguments: \n",
        "\n",
        "*   boolean. If True -> try parsing the index.\n",
        "*   list of int or names. e.g. If [1, 2, 3] -> try parsing columns 1, 2, 3 each as a separate date column.\n",
        "*   list of lists. e.g. If [[1, 3]] -> combine columns 1 and 3 and parse as a single date column.\n",
        "*   dict, e.g. {‘foo’ : [1, 3]} -> parse columns 1, 3 as date and call result ‘foo’\n"
      ]
    },
    {
      "cell_type": "markdown",
      "metadata": {
        "id": "QxKJtLR2calf"
      },
      "source": [
        "### **Assembling a Datetime from Columns Already in a DataFrame**"
      ]
    },
    {
      "cell_type": "markdown",
      "metadata": {
        "id": "VnBVjJTZc17I"
      },
      "source": [
        "\n",
        "We can use the pd.to_datetime() method to assemble a datetime in a single column (varible)  and convert them to datetime object.  By default, the existing columns will not be collapsed and will remain there.\n"
      ]
    },
    {
      "cell_type": "code",
      "metadata": {
        "id": "hMc9gBpPcjjg"
      },
      "source": [
        "df_fam2 = pd.read_csv('/content/gdrive/MyDrive/data/family.csv')"
      ],
      "execution_count": null,
      "outputs": []
    },
    {
      "cell_type": "code",
      "metadata": {
        "id": "Nx52R6S0cmoY",
        "colab": {
          "base_uri": "https://localhost:8080/",
          "height": 143
        },
        "outputId": "66173d38-e136-40a8-f204-136b1f426b51"
      },
      "source": [
        "df_fam2"
      ],
      "execution_count": null,
      "outputs": [
        {
          "output_type": "execute_result",
          "data": {
            "text/html": [
              "<div>\n",
              "<style scoped>\n",
              "    .dataframe tbody tr th:only-of-type {\n",
              "        vertical-align: middle;\n",
              "    }\n",
              "\n",
              "    .dataframe tbody tr th {\n",
              "        vertical-align: top;\n",
              "    }\n",
              "\n",
              "    .dataframe thead th {\n",
              "        text-align: right;\n",
              "    }\n",
              "</style>\n",
              "<table border=\"1\" class=\"dataframe\">\n",
              "  <thead>\n",
              "    <tr style=\"text-align: right;\">\n",
              "      <th></th>\n",
              "      <th>year</th>\n",
              "      <th>month</th>\n",
              "      <th>day</th>\n",
              "      <th>name</th>\n",
              "    </tr>\n",
              "  </thead>\n",
              "  <tbody>\n",
              "    <tr>\n",
              "      <th>0</th>\n",
              "      <td>1994</td>\n",
              "      <td>2</td>\n",
              "      <td>19</td>\n",
              "      <td>psg</td>\n",
              "    </tr>\n",
              "    <tr>\n",
              "      <th>1</th>\n",
              "      <td>1995</td>\n",
              "      <td>10</td>\n",
              "      <td>15</td>\n",
              "      <td>aw</td>\n",
              "    </tr>\n",
              "    <tr>\n",
              "      <th>2</th>\n",
              "      <td>1996</td>\n",
              "      <td>12</td>\n",
              "      <td>16</td>\n",
              "      <td>prw</td>\n",
              "    </tr>\n",
              "  </tbody>\n",
              "</table>\n",
              "</div>"
            ],
            "text/plain": [
              "   year  month  day name\n",
              "0  1994      2   19  psg\n",
              "1  1995     10   15   aw\n",
              "2  1996     12   16  prw"
            ]
          },
          "metadata": {},
          "execution_count": 28
        }
      ]
    },
    {
      "cell_type": "code",
      "metadata": {
        "colab": {
          "base_uri": "https://localhost:8080/"
        },
        "id": "MxEJshdO3k6p",
        "outputId": "1ed03a46-8a8e-4ef1-eb53-70e100dbc88d"
      },
      "source": [
        "df_fam2.info()"
      ],
      "execution_count": null,
      "outputs": [
        {
          "output_type": "stream",
          "name": "stdout",
          "text": [
            "<class 'pandas.core.frame.DataFrame'>\n",
            "RangeIndex: 3 entries, 0 to 2\n",
            "Data columns (total 4 columns):\n",
            " #   Column  Non-Null Count  Dtype \n",
            "---  ------  --------------  ----- \n",
            " 0   year    3 non-null      int64 \n",
            " 1   month   3 non-null      int64 \n",
            " 2   day     3 non-null      int64 \n",
            " 3   name    3 non-null      object\n",
            "dtypes: int64(3), object(1)\n",
            "memory usage: 224.0+ bytes\n"
          ]
        }
      ]
    },
    {
      "cell_type": "markdown",
      "metadata": {
        "id": "VRYs1RH5dGHo"
      },
      "source": [
        "Let's create a new datetime variable called 'Date'"
      ]
    },
    {
      "cell_type": "code",
      "metadata": {
        "id": "TBvO9FtSdhMM"
      },
      "source": [
        "df_fam2['Date'] = pd.to_datetime(df_fam2[['year','month','day']])"
      ],
      "execution_count": null,
      "outputs": []
    },
    {
      "cell_type": "code",
      "metadata": {
        "id": "EVd0UH4rdph0",
        "colab": {
          "base_uri": "https://localhost:8080/"
        },
        "outputId": "04b91ec9-e5dc-4626-b0c8-641d45179fb2"
      },
      "source": [
        "df_fam2.info()"
      ],
      "execution_count": null,
      "outputs": [
        {
          "output_type": "stream",
          "name": "stdout",
          "text": [
            "<class 'pandas.core.frame.DataFrame'>\n",
            "RangeIndex: 3 entries, 0 to 2\n",
            "Data columns (total 5 columns):\n",
            " #   Column  Non-Null Count  Dtype         \n",
            "---  ------  --------------  -----         \n",
            " 0   year    3 non-null      int64         \n",
            " 1   month   3 non-null      int64         \n",
            " 2   day     3 non-null      int64         \n",
            " 3   name    3 non-null      object        \n",
            " 4   Date    3 non-null      datetime64[ns]\n",
            "dtypes: datetime64[ns](1), int64(3), object(1)\n",
            "memory usage: 248.0+ bytes\n"
          ]
        }
      ]
    },
    {
      "cell_type": "code",
      "metadata": {
        "id": "XGHlXGBydsvh",
        "colab": {
          "base_uri": "https://localhost:8080/",
          "height": 143
        },
        "outputId": "c2bd0267-11e6-4ed0-f7b1-9732308049a6"
      },
      "source": [
        "df_fam2"
      ],
      "execution_count": null,
      "outputs": [
        {
          "output_type": "execute_result",
          "data": {
            "text/html": [
              "<div>\n",
              "<style scoped>\n",
              "    .dataframe tbody tr th:only-of-type {\n",
              "        vertical-align: middle;\n",
              "    }\n",
              "\n",
              "    .dataframe tbody tr th {\n",
              "        vertical-align: top;\n",
              "    }\n",
              "\n",
              "    .dataframe thead th {\n",
              "        text-align: right;\n",
              "    }\n",
              "</style>\n",
              "<table border=\"1\" class=\"dataframe\">\n",
              "  <thead>\n",
              "    <tr style=\"text-align: right;\">\n",
              "      <th></th>\n",
              "      <th>year</th>\n",
              "      <th>month</th>\n",
              "      <th>day</th>\n",
              "      <th>name</th>\n",
              "      <th>Date</th>\n",
              "    </tr>\n",
              "  </thead>\n",
              "  <tbody>\n",
              "    <tr>\n",
              "      <th>0</th>\n",
              "      <td>1994</td>\n",
              "      <td>2</td>\n",
              "      <td>19</td>\n",
              "      <td>psg</td>\n",
              "      <td>1994-02-19</td>\n",
              "    </tr>\n",
              "    <tr>\n",
              "      <th>1</th>\n",
              "      <td>1995</td>\n",
              "      <td>10</td>\n",
              "      <td>15</td>\n",
              "      <td>aw</td>\n",
              "      <td>1995-10-15</td>\n",
              "    </tr>\n",
              "    <tr>\n",
              "      <th>2</th>\n",
              "      <td>1996</td>\n",
              "      <td>12</td>\n",
              "      <td>16</td>\n",
              "      <td>prw</td>\n",
              "      <td>1996-12-16</td>\n",
              "    </tr>\n",
              "  </tbody>\n",
              "</table>\n",
              "</div>"
            ],
            "text/plain": [
              "   year  month  day name       Date\n",
              "0  1994      2   19  psg 1994-02-19\n",
              "1  1995     10   15   aw 1995-10-15\n",
              "2  1996     12   16  prw 1996-12-16"
            ]
          },
          "metadata": {},
          "execution_count": 32
        }
      ]
    },
    {
      "cell_type": "markdown",
      "metadata": {
        "id": "Vu-6x2MvAv_p"
      },
      "source": [
        "\n",
        "\n",
        "---\n",
        "\n"
      ]
    },
    {
      "cell_type": "markdown",
      "metadata": {
        "id": "yPa9-4M3AqKx"
      },
      "source": [
        "\n",
        "## **The Concept of Time Zones in Python**\n",
        "\n",
        "A time zone represents the standardized time depending on which part of the world is being considered.\n",
        "\n",
        "\n",
        "In simple terms, timezone refers to the local time of a region. UTC (Coordinated Universal Time) is the astronomical time based on earth’s rotation, is the standard against which the world’s region-based time is coordinated.\n",
        "\n",
        "*Note: UTC – Coordinated Universal Time is the common time standard across the world. So, in Python, to work with the timezone without any issues, it is recommended to use the UTC as your base timezone*\n",
        "\n",
        "For example, CT(Central Time) in North and South America is either 5 or 6 hours behind and represented as UTC-5 or UTC-6 based on the Day Light Saving. \n",
        "\n",
        "The following illustration shows a few examples.\n"
      ]
    },
    {
      "cell_type": "markdown",
      "metadata": {
        "id": "uZBnwg_wAu2e"
      },
      "source": [
        "![TimeZoneExamples.png](data:image/png;base64,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)"
      ]
    },
    {
      "cell_type": "markdown",
      "metadata": {
        "id": "gfcHVW68BW1q"
      },
      "source": [
        "\n",
        "Python provides the **datetime.tzinfo** abstract base class which provides methods to handle timezone. But this class is an abstract base class and should not be instantiated directly. We need to define a subclass of tzinfo to capture information about a particular time zone.\n",
        "\n",
        "The **pytz** library has implemented a timezone class for handling arbitrary fixed offsets from UTC and timezones. This library allows accurate and cross-platform timezone calculations and also solves the issue of ambiguous times at the end of daylight saving time.\n",
        "\n",
        "**pytz** is a concrete implementation of the abstract base class **tzinfo** and is used to create timezone-aware datetime objects.\n",
        "\n",
        "For example, The **datetime.now()** function returns the current local date-time without any timezone information. Using the **pytz** library, we can pass the timezone name to this function to get the current datetime in the given timezone.\n",
        "\n",
        "We can use the following attributes and methods of the pytz module to work with timezone in Python.\n",
        "\n",
        "*   **pytz.utc** - Get the standard UTC timezone\n",
        "*   **pytz.timezone('region')** - Create the timezone object of a particular region\n",
        "*   **pytz.astimezone()** - Convert the time of a particular time zone into another time zone\n"
      ]
    },
    {
      "cell_type": "markdown",
      "metadata": {
        "id": "3586f84zDXCo"
      },
      "source": [
        "\n",
        "**Create Timezone Aware Datetime Object**\n",
        "\n",
        "\n",
        "In Python, a date object can be mentioned with (aware) or without (naive) timezones. Based on that, an object is known as Naive or Aware. A date object, by default, is naive. A datetime or time object is aware if it holds the timezone(tz) value.\n",
        "\n",
        "Follow the below steps to create a timezone aware Datetime Object in Python: –\n",
        "\n",
        "1.   Install **pytz** module if not installed using the pip install pytz command.\n",
        "\n",
        "\n",
        "```pip install pytz``` \n",
        "\n",
        "```import pytz```\n",
        "\n",
        "2.   Use the **pytz.timezone('region_name')** function to create the timezone object\n",
        "\n",
        "3.   Use the **datetime.now(timezone_obj)** or **datetime.datetime('timezone')** function to create the timezone aware current datetime.\n"
      ]
    },
    {
      "cell_type": "markdown",
      "metadata": {
        "id": "sfOg29u8ERXX"
      },
      "source": [
        "![TimeZoneAwareDiagram.png](data:image/png;base64,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)"
      ]
    },
    {
      "cell_type": "code",
      "metadata": {
        "id": "mB8Ap3QKD9KE",
        "colab": {
          "base_uri": "https://localhost:8080/"
        },
        "outputId": "ee20cc09-ac8c-4ed3-8c19-e584f2e41d07"
      },
      "source": [
        "\n",
        "# from datetime import datetime - if you want to save typing\n",
        "# import datetime as dt - another way to save typing\n",
        "import datetime\n",
        "import pytz\n",
        "\n",
        "# current local Datetime unaware\n",
        "unaware = datetime.datetime.now()\n",
        "print('Local - Timezone naive:\\t', unaware)\n",
        "\n",
        "# Standard UTC timezone aware Datetime\n",
        "aware = datetime.datetime.now(pytz.utc)\n",
        "print('UTC - Timezone aware:\\t', aware)\n",
        "\n",
        "# US/Central timezone datetime\n",
        "aware_us_central = datetime.datetime.now(pytz.timezone('US/Central'))\n",
        "print('US Central - Timezone DateTime\\t', aware_us_central)\n",
        "\n",
        "# US/Eastern timezone datetime\n",
        "aware_us_eastern = datetime.datetime.now(pytz.timezone('US/Eastern'))\n",
        "print('US Eastern - Timezone DateTime\\t', aware_us_eastern)"
      ],
      "execution_count": null,
      "outputs": [
        {
          "output_type": "stream",
          "name": "stdout",
          "text": [
            "Local - Timezone naive:\t 2021-12-06 18:09:01.617220\n",
            "UTC - Timezone aware:\t 2021-12-06 18:09:01.619198+00:00\n",
            "US Central - Timezone DateTime\t 2021-12-06 12:09:01.649253-06:00\n",
            "US Eastern - Timezone DateTime\t 2021-12-06 13:09:01.651660-05:00\n"
          ]
        }
      ]
    },
    {
      "cell_type": "markdown",
      "metadata": {
        "id": "2AliWjxtETeC"
      },
      "source": [
        "Let's use the **dir()** function to look at each variable..."
      ]
    },
    {
      "cell_type": "code",
      "metadata": {
        "id": "iJwTcZ1OGWp8",
        "colab": {
          "base_uri": "https://localhost:8080/"
        },
        "outputId": "a74757ed-e9d6-47d2-e171-cdae473b9b5d"
      },
      "source": [
        "# Current local unaware Datetime tzinfo\n",
        "print('\\nLocal - Timezone Naive unaware.tzinfo:\\n', unaware.tzinfo)\n",
        "\n",
        "# Standard UTC aware Datetime tzinfo\n",
        "print('\\n\\nUTC - Timezone Aware aware.tzinfo:\\n', aware.tzinfo)\n",
        "\n",
        "# US/Central timezone aware datetime tzinfo\n",
        "print('\\n\\nUS Central DateTime Aware aware_us_central.tzinfo:\\n', aware_us_central.tzinfo)\n",
        "\n",
        "# US/Eastern timezone aware datetime tzinfo\n",
        "print('\\n\\nUS Eastern DateTime Aware aware_us_eastern.tzinfo:\\n', aware_us_eastern.tzinfo)\n",
        "\n",
        "# Rules for aware datetime:\n",
        "# d.tzinfo is not None\n",
        "# d.tzinfo.utcoffset(d) does not return None"
      ],
      "execution_count": null,
      "outputs": [
        {
          "output_type": "stream",
          "name": "stdout",
          "text": [
            "\n",
            "Local - Timezone Naive unaware.tzinfo:\n",
            " None\n",
            "\n",
            "\n",
            "UTC - Timezone Aware aware.tzinfo:\n",
            " UTC\n",
            "\n",
            "\n",
            "US Central DateTime Aware aware_us_central.tzinfo:\n",
            " US/Central\n",
            "\n",
            "\n",
            "US Eastern DateTime Aware aware_us_eastern.tzinfo:\n",
            " US/Eastern\n"
          ]
        }
      ]
    },
    {
      "cell_type": "markdown",
      "metadata": {
        "id": "GdDtREC8Jiit"
      },
      "source": [
        "Refer to [list all time zones in Python](https://pynative.com/list-all-timezones-in-python/) if you do not know the exact name of the timezone you would like to reference. "
      ]
    },
    {
      "cell_type": "markdown",
      "metadata": {
        "id": "yVUZxR3RKll3"
      },
      "source": [
        "To make an old/existing datetime timezone aware, use the **timezone.replace()** method."
      ]
    },
    {
      "cell_type": "code",
      "metadata": {
        "id": "SwVi4WVfJwBK",
        "colab": {
          "base_uri": "https://localhost:8080/"
        },
        "outputId": "d3178996-9f09-4758-9ba7-09043f82af13"
      },
      "source": [
        "unaware = datetime.datetime(2021, 12, 6, 12, 45, 17, 5)\n",
        "print('Timezone naive:', unaware, \"\\t\\t unaware.tzinfo: \", unaware.tzinfo)\n",
        "\n",
        "# Convert unaware Datetime to UTC timezone aware Datetime\n",
        "aware = unaware.replace(tzinfo=pytz.UTC)\n",
        "print('Timezone aware:', aware, \"\\t aware.tzinfo:\\t \", aware.tzinfo)\n"
      ],
      "execution_count": null,
      "outputs": [
        {
          "output_type": "stream",
          "name": "stdout",
          "text": [
            "Timezone naive: 2021-12-06 12:45:17.000005 \t\t unaware.tzinfo:  None\n",
            "Timezone aware: 2021-12-06 12:45:17.000005+00:00 \t aware.tzinfo:\t  UTC\n"
          ]
        }
      ]
    },
    {
      "cell_type": "markdown",
      "metadata": {
        "id": "tWmdpn8nMSXG"
      },
      "source": [
        "\n",
        "\n",
        "**Get Current Time in Different Timezone**\n",
        "\n",
        "Using the **pytz** module we can get the current date and time of any timezone by passsing the timezone **region_name** as an argument to the **timezone()** method.\n",
        "\n",
        "\n",
        "Steps:\n",
        "\n",
        "1.   Use the **pytz.timezone('region_name')** function to create the timezone object(timezone_obj).\n",
        "\n",
        "2.   Use **datetime.now(timezone_obj)** function to get the current datetime of the given timezone.\n",
        "\n",
        "*Note: UTC – Coordinated Universal Time is the common time standard across the world. To avoid confusion , it is recommended to use the UTC as the base timezone for analysis then translate to the desired timezone for any reporting or other uses.*\n"
      ]
    },
    {
      "cell_type": "markdown",
      "metadata": {
        "id": "GeXi-7GvMox1"
      },
      "source": [
        "In the next example, we get the current datetime (date and time) in the following TimeZones of United States."
      ]
    },
    {
      "cell_type": "code",
      "metadata": {
        "id": "i9laGJ0aMXB6"
      },
      "source": [
        "dt_us_eastern = datetime.datetime.now(pytz.timezone('America/New_York'))\n",
        "print(\"US Eastern timezone DateTime:\\t\", dt_us_eastern.strftime(\"%Y:%m:%d %H:%M:%S %Z %z\"))\n",
        "\n",
        "dt_us_central = datetime.datetime.now(pytz.timezone('America/Mexico_City'))\n",
        "print(\"US Central timezone DateTime:\\t\", dt_us_central.strftime(\"%Y:%m:%d %H:%M:%S %Z %z\"))\n",
        "\n",
        "dt_us_mountain = datetime.datetime.now(pytz.timezone('America/Chihuahua'))\n",
        "print(\"US Mountain timezone DateTime:\\t\", dt_us_mountain.strftime(\"%Y:%m:%d %H:%M:%S %Z %z\"))\n",
        "\n",
        "dt_us_pacific = datetime.datetime.now(pytz.timezone('America/Tijuana'))\n",
        "print(\"US Pacific timezone DateTime:\\t\", dt_us_pacific.strftime(\"%Y:%m:%d %H:%M:%S %Z %z\"))\n"
      ],
      "execution_count": null,
      "outputs": []
    },
    {
      "cell_type": "markdown",
      "metadata": {
        "id": "YlKqek6pNe3-"
      },
      "source": [
        "Let's try some international time zone regions...\n"
      ]
    },
    {
      "cell_type": "code",
      "metadata": {
        "id": "BQRASf-hNjcH"
      },
      "source": [
        "dt_japan = datetime.datetime.now(pytz.timezone('Asia/Tokyo'))\n",
        "print(\"Japan DateTime:\\t\\t\\t\", dt_japan.strftime(\"%Y:%m:%d %H:%M:%S %Z %z\"))\n",
        "\n",
        "dt_brazil = datetime.datetime.now(pytz.timezone('America/Sao_Paulo'))\n",
        "print(\"Brazil DateTime:\\t\\t\", dt_brazil.strftime(\"%Y:%m:%d %H:%M:%S %Z %z\"))\n",
        "\n",
        "dt_uk = datetime.datetime.now(pytz.timezone('Europe/London'))\n",
        "print(\"Uk DateTime:\\t\\t\\t\", dt_uk.strftime(\"%Y:%m:%d %H:%M:%S %Z %z\"))\n",
        "\n",
        "dt_germany = datetime.datetime.now(pytz.timezone('Europe/Berlin'))\n",
        "print(\"Germany DateTime:\\t\\t\", dt_germany.strftime(\"%Y:%m:%d %H:%M:%S %Z %z\"))\n",
        "\n",
        "dt_aus = datetime.datetime.now(pytz.timezone('Australia/Canberra'))\n",
        "print(\"Australia Oceanic DateTime:\\t\", dt_aus.strftime(\"%Y:%m:%d %H:%M:%S %Z %z\"))\n",
        "\n",
        "dt_africa = datetime.datetime.now(pytz.timezone('Africa/Maputo'))\n",
        "print(\"Central Africa DateTime:\\t\", dt_africa.strftime(\"%Y:%m:%d %H:%M:%S %Z %z\"))\n"
      ],
      "execution_count": null,
      "outputs": []
    },
    {
      "cell_type": "markdown",
      "metadata": {
        "id": "5bk9_LPSPIf_"
      },
      "source": [
        "\n",
        "**Get TimeZone Information Using tzinfo**\n",
        "\n",
        "\n",
        "The **datetime.tzinfo** is an abstract base class containing information about the date or time object passed to them.\n",
        "\n",
        "The tzinfo generally contains the following information: –\n",
        "\n",
        "*   The time zone name (region_name) of a Datetime\n",
        "*   Offset from the UTC (Coordinated Universal Time)\n",
        "*   The DST(Daylight Saving Time) status\n",
        "\n",
        "\n",
        "The **tzinfo** class provides the following method to get the timezone information: –\n",
        "\n",
        "*   **tzinfo.tzname(dt)** - Returns the time zone name corresponding to the datetime object dt. This method returns the name that is used while creating the timezone object\n",
        "\n",
        "*   **tzinfo.utcoffset(dt)** - This method returns the total offset from the UTC which should be a timedelta object. The values of the timedelta is positive if it is east of UTC and negative for the west of UTC. The total offset includes both timezone and the DST(Day light savings) values. The range of the timedelta is therfore between -timedelta(hours=24) to timedelta(hours=24)\n",
        "\n",
        "*   **tzinfo.dst(dt)** - This method returns dst offset in the zones where dst is in effect. In other cases it will return only timedelta(0). The dst information is already part of the the utcoffset therefore the **tz.utcoffset(dt)** - **tz.dst(dt)** should return the standard offset of the timezone irrespective of the date and time but only on the geographic location.\n",
        "\n"
      ]
    },
    {
      "cell_type": "code",
      "metadata": {
        "id": "C1rWcqI7PO0e"
      },
      "source": [
        "# example using US Eastern time\n",
        "\n",
        "# timezone: US Eastern Time\n",
        "dt_us_eastern = datetime.datetime.now(pytz.timezone('America/New_York'))\n",
        "print(\"US Eastern DateTime:\", dt_us_eastern.strftime(\"%Y:%m:%d %H:%M:%S %Z %z\"))\n",
        "\n",
        "# Get current TimeZone name\n",
        "print(\"Current time zone (region_name) name: \", dt_us_eastern.tzname())\n",
        "\n",
        "# Get UTC Offset\n",
        "print(\"Current time zone offset from UTC: \", dt_us_eastern.utcoffset())\n",
        "\n",
        "# Get the daylight saving time (DST offset) adjustment\n",
        "print(\"Current time zone DST adjustment: \", dt_us_eastern.dst())"
      ],
      "execution_count": null,
      "outputs": []
    },
    {
      "cell_type": "markdown",
      "metadata": {
        "id": "9hrDjEWNQcUG"
      },
      "source": [
        "The datetime modules have the **timezone** class, which in turn is the subclass of the abstract base class **tzinfo**"
      ]
    },
    {
      "cell_type": "markdown",
      "metadata": {
        "id": "M9pE2mdmQdM5"
      },
      "source": [
        "**Converting Between Timezones**\n",
        "\n",
        "Use the **datetime.astimezone()** method to convert the datetime from one timezone to another. \n",
        "\n",
        "This method uses an instance of the datetime object and returns a new datetime of a given timezone."
      ]
    },
    {
      "cell_type": "code",
      "metadata": {
        "id": "jlHBI2cUQ0kj",
        "colab": {
          "base_uri": "https://localhost:8080/"
        },
        "outputId": "88d85384-f747-4122-c191-7ab6e4ced202"
      },
      "source": [
        "# UTC timezone Datetime\n",
        "dt_local = datetime.datetime.now(pytz.utc)\n",
        "print(\"UTC DateTime:\\t\\t\", dt_local.strftime(\"%Y:%m:%d %H:%M:%S %Z %z\"))\n",
        "\n",
        "# convert UTC timezone to 'US/Central'\n",
        "dt_us_central = dt_local.astimezone(pytz.timezone('US/Central'))\n",
        "print(\"US Central DateTime:\\t\", dt_us_central.strftime(\"%Y:%m:%d %H:%M:%S %Z %z\"))\n",
        "\n",
        "# Convert 'US/Central' timezone to US/Eastern\n",
        "dt_us_eastern = dt_us_central.astimezone(pytz.timezone('America/New_York'))\n",
        "print(\"US Eastern DateTime:\\t\", dt_us_eastern.strftime(\"%Y:%m:%d %H:%M:%S %Z %z\"))\n",
        "\n",
        "# Convert US/Eastern timezone to IST (India) timezone\n",
        "dt_ind = dt_us_eastern.astimezone(pytz.timezone('Asia/Kolkata'))\n",
        "print(\"India DateTime:\\t\\t\", dt_ind.strftime(\"%Y:%m:%d %H:%M:%S %Z %z\"))"
      ],
      "execution_count": null,
      "outputs": [
        {
          "output_type": "stream",
          "name": "stdout",
          "text": [
            "UTC DateTime:\t\t 2021:12:06 18:21:32 UTC +0000\n",
            "US Central DateTime:\t 2021:12:06 12:21:32 CST -0600\n",
            "US Eastern DateTime:\t 2021:12:06 13:21:32 EST -0500\n",
            "India DateTime:\t\t 2021:12:06 23:51:32 IST +0530\n"
          ]
        }
      ]
    },
    {
      "cell_type": "markdown",
      "metadata": {
        "id": "xxOwW9TORigR"
      },
      "source": [
        "\n",
        "\n",
        "---\n",
        "\n"
      ]
    },
    {
      "cell_type": "markdown",
      "metadata": {
        "id": "YBAwCmScRiz1"
      },
      "source": [
        "**Reference:  Timezones in Python**\n",
        "\n",
        "*Finding a time zone:*\n",
        "\n",
        "Also, see [Working with Time Zones in Python](https://pynative.com/python-timezone/) by PyNative.\n",
        "\n",
        "**pytz** is based on the Olson time zone database. \n",
        "\n",
        "Some of the following examples are sourced from [pvlib python](https://pvlib-python.readthedocs.io/en/stable/timetimezones.html)\n",
        "\n",
        "We can obtain a list of all valid time zone strings with pytz.all_timezones. \n",
        "\n",
        "The Olson time zone list is long, so we only print every 20th time zone in the following example.\n"
      ]
    },
    {
      "cell_type": "code",
      "metadata": {
        "id": "whWefHAfRiz1",
        "colab": {
          "base_uri": "https://localhost:8080/"
        },
        "outputId": "b40e9401-a2ca-4cf1-aff1-3d8a024c3a8e"
      },
      "source": [
        "import pytz\n",
        "\n",
        "print(len(pytz.all_timezones))\n",
        "\n",
        "print(pytz.all_timezones[::20])\n"
      ],
      "execution_count": null,
      "outputs": [
        {
          "output_type": "stream",
          "name": "stdout",
          "text": [
            "592\n",
            "['Africa/Abidjan', 'Africa/Douala', 'Africa/Mbabane', 'America/Argentina/Catamarca', 'America/Belize', 'America/Curacao', 'America/Guatemala', 'America/Kentucky/Louisville', 'America/Mexico_City', 'America/Port-au-Prince', 'America/Sitka', 'Antarctica/Casey', 'Asia/Ashkhabad', 'Asia/Dubai', 'Asia/Khandyga', 'Asia/Qatar', 'Asia/Tomsk', 'Atlantic/Reykjavik', 'Australia/Queensland', 'Canada/Yukon', 'Etc/GMT+7', 'Etc/UCT', 'Europe/Guernsey', 'Europe/Paris', 'Europe/Vienna', 'Indian/Cocos', 'NZ', 'Pacific/Honolulu', 'Pacific/Samoa', 'US/Eastern']\n"
          ]
        }
      ]
    },
    {
      "cell_type": "markdown",
      "metadata": {
        "id": "8ljLWcxt9zhh"
      },
      "source": [
        "Let's use **pytz** to look at Timezone **Region_Names** in the USA."
      ]
    },
    {
      "cell_type": "code",
      "metadata": {
        "id": "FoQVg_l2Riz2",
        "colab": {
          "base_uri": "https://localhost:8080/"
        },
        "outputId": "8284cb6a-a0af-4be0-8382-127ebbc1c66a"
      },
      "source": [
        "print(pytz.country_timezones('US'))"
      ],
      "execution_count": null,
      "outputs": [
        {
          "output_type": "stream",
          "name": "stdout",
          "text": [
            "['America/New_York', 'America/Detroit', 'America/Kentucky/Louisville', 'America/Kentucky/Monticello', 'America/Indiana/Indianapolis', 'America/Indiana/Vincennes', 'America/Indiana/Winamac', 'America/Indiana/Marengo', 'America/Indiana/Petersburg', 'America/Indiana/Vevay', 'America/Chicago', 'America/Indiana/Tell_City', 'America/Indiana/Knox', 'America/Menominee', 'America/North_Dakota/Center', 'America/North_Dakota/New_Salem', 'America/North_Dakota/Beulah', 'America/Denver', 'America/Boise', 'America/Phoenix', 'America/Los_Angeles', 'America/Anchorage', 'America/Juneau', 'America/Sitka', 'America/Metlakatla', 'America/Yakutat', 'America/Nome', 'America/Adak', 'Pacific/Honolulu']\n"
          ]
        }
      ]
    },
    {
      "cell_type": "markdown",
      "metadata": {
        "id": "ivBpJv6WSS5M"
      },
      "source": [
        "[Wikipedia's List of tz](https://en.wikipedia.org/wiki/List_of_tz_database_time_zones) database of time zones is also good reference.\n",
        "\n"
      ]
    },
    {
      "cell_type": "markdown",
      "metadata": {
        "id": "nufa9TLwkRAI"
      },
      "source": [
        "\n",
        "\n",
        "---\n",
        "\n"
      ]
    },
    {
      "cell_type": "markdown",
      "metadata": {
        "id": "t4NTlE10kSBy"
      },
      "source": [
        "## **Working with Dates and Times in Pandas**\n",
        "*from Geeks for Geeks*\n",
        "\n",
        "see: https://www.geeksforgeeks.org/python-working-with-date-and-time-using-pandas/\n",
        "\n",
        "Let's look at some of what we can do with dates and times when we have them available in Pandas DataFrame variables. "
      ]
    },
    {
      "cell_type": "markdown",
      "metadata": {
        "id": "fm4ZuuIUzO7v"
      },
      "source": [
        "We should also import the Python datetime libary.\n",
        "\n",
        "To save typing, you could \n",
        "\n",
        "```\n",
        "import datetime as dt\n",
        "```\n",
        "\n",
        "***For demonstration puroses in this notebook the datetime library is imported with its full name*** "
      ]
    },
    {
      "cell_type": "code",
      "metadata": {
        "id": "I5GaE3bizO7w"
      },
      "source": [
        "import datetime"
      ],
      "execution_count": null,
      "outputs": []
    },
    {
      "cell_type": "markdown",
      "metadata": {
        "id": "hshMR7FC0M4g"
      },
      "source": [
        "**Accessing the Current Datetime Information**\n",
        "\n",
        "There are several means of accessing the current system date and time using Datetime in Python.\n",
        "\n",
        "*Remember that datetime information may be aware or naive.*"
      ]
    },
    {
      "cell_type": "markdown",
      "metadata": {
        "id": "KE3W4rx324MJ"
      },
      "source": [
        "***When running on Colab, local time is the same as UTC time zone.*** "
      ]
    },
    {
      "cell_type": "markdown",
      "metadata": {
        "id": "7FtRHU8g0fKg"
      },
      "source": [
        "**Accessing Current Local Datetime**\n",
        "\n",
        "The **datetime.now(**) method provides the current date and time."
      ]
    },
    {
      "cell_type": "code",
      "metadata": {
        "id": "q3BUi7y_0p8W",
        "colab": {
          "base_uri": "https://localhost:8080/"
        },
        "outputId": "1c4638df-5dc7-4767-feeb-efbbe2dba0d1"
      },
      "source": [
        "date_time_local = datetime.datetime.now()\n",
        "print(\"The current local date and time as of the execution of this code was: \", date_time_local)"
      ],
      "execution_count": null,
      "outputs": [
        {
          "output_type": "stream",
          "name": "stdout",
          "text": [
            "The current local date and time as of the execution of this code was:  2021-12-06 18:26:32.843349\n"
          ]
        }
      ]
    },
    {
      "cell_type": "markdown",
      "metadata": {
        "id": "8Pj7VpUI1HRy"
      },
      "source": [
        "\n",
        "**Accessing Current UTC Datetime**\n",
        "\n",
        "The following example uses the time zone argument in the datetime.now() function and displays the time in UTC (Universal Time Coordinated):\n"
      ]
    },
    {
      "cell_type": "code",
      "metadata": {
        "id": "TuIV5mTu1Ihw",
        "colab": {
          "base_uri": "https://localhost:8080/"
        },
        "outputId": "697d04e3-b535-4ea8-a251-1d317fb4f82d"
      },
      "source": [
        "date_time_utc = datetime.datetime.now(datetime.timezone.utc)\n",
        "print(\"The current UTC date and time as of the execution of this code was: \", date_time_utc)"
      ],
      "execution_count": null,
      "outputs": [
        {
          "output_type": "stream",
          "name": "stdout",
          "text": [
            "The current UTC date and time as of the execution of this code was:  2021-12-06 18:26:38.361340+00:00\n"
          ]
        }
      ]
    },
    {
      "cell_type": "markdown",
      "metadata": {
        "id": "zm68RGRA19xO"
      },
      "source": [
        "**Accessing Current Date Only**\n",
        "\n",
        "In the prior examples, we accessed the date and time as using the **now()** method. To only access the current date, use the **date()** method as in the next example:"
      ]
    },
    {
      "cell_type": "code",
      "metadata": {
        "id": "ksmheCAt2Gft",
        "colab": {
          "base_uri": "https://localhost:8080/"
        },
        "outputId": "6bb57c5b-c0d7-4d57-ad9c-9c4a5a1fee67"
      },
      "source": [
        "date_only_local = datetime.datetime.now().date()\n",
        "print(\"The current local date as of the execution of this code was: \", date_only_local)"
      ],
      "execution_count": null,
      "outputs": [
        {
          "output_type": "stream",
          "name": "stdout",
          "text": [
            "The current local date as of the execution of this code was:  2021-12-06\n"
          ]
        }
      ]
    },
    {
      "cell_type": "markdown",
      "metadata": {
        "id": "u1Hv2YZi3G-y"
      },
      "source": [
        "**Accessing Current Time Only**\n",
        "\n",
        "In a similar manner to accessing only the date with the **.now().date()** method we can access only the time with the **.now().time()** method. "
      ]
    },
    {
      "cell_type": "code",
      "metadata": {
        "id": "U8_Karmz3YDT",
        "colab": {
          "base_uri": "https://localhost:8080/"
        },
        "outputId": "b2a58149-0da9-4ce1-f4a1-358c2386dbd7"
      },
      "source": [
        "time_only_local = datetime.datetime.now().time()\n",
        "print(\"The current local time as of the execution of this code was: \", time_only_local)"
      ],
      "execution_count": null,
      "outputs": [
        {
          "output_type": "stream",
          "name": "stdout",
          "text": [
            "The current local time as of the execution of this code was:  18:27:17.725728\n"
          ]
        }
      ]
    },
    {
      "cell_type": "markdown",
      "metadata": {
        "id": "OurFCPEX4Lif"
      },
      "source": [
        "**Accessing Current UTC Time Only**\n",
        "\n",
        "Similarly, the current time only in UTC time (or any other time zone) can be accessed. \n"
      ]
    },
    {
      "cell_type": "code",
      "metadata": {
        "id": "uOZ4s2aj4hRu",
        "colab": {
          "base_uri": "https://localhost:8080/"
        },
        "outputId": "d9a463c1-98c7-4c93-acb9-d2624b948a7e"
      },
      "source": [
        "time_only_utc = datetime.datetime.now(datetime.timezone.utc).time()\n",
        "print(\"The current UTC time as of the execution of this code was: \", time_only_utc)"
      ],
      "execution_count": null,
      "outputs": [
        {
          "output_type": "stream",
          "name": "stdout",
          "text": [
            "The current UTC time as of the execution of this code was:  18:28:00.111507\n"
          ]
        }
      ]
    },
    {
      "cell_type": "markdown",
      "metadata": {
        "id": "2d_LqZor3Ans"
      },
      "source": [
        "\n",
        "\n",
        "---\n",
        "\n"
      ]
    },
    {
      "cell_type": "markdown",
      "metadata": {
        "id": "Z5UoCJ1zksSx"
      },
      "source": [
        "**Working with Datetime Variables and Transformations in Pandas**\n",
        "\n",
        "Examples in this section are derived from [Working with Date and Time Using Pandas](https://www.geeksforgeeks.org/python-working-with-date-and-time-using-pandas/) from Geeks for Geeks.\n",
        "\n",
        "\n",
        "First, let's create a Series df_dates with dates and a frequency of 'H'"
      ]
    },
    {
      "cell_type": "code",
      "metadata": {
        "id": "LxLujHNcyP6e"
      },
      "source": [
        "ds_dates = pd.date_range('12/6/2021', periods = 10, freq ='H')"
      ],
      "execution_count": null,
      "outputs": []
    },
    {
      "cell_type": "code",
      "metadata": {
        "id": "lYvIM35MyUXW"
      },
      "source": [
        "ds_dates"
      ],
      "execution_count": null,
      "outputs": []
    },
    {
      "cell_type": "code",
      "metadata": {
        "id": "Nay3Iomey3hz"
      },
      "source": [
        "# Create a date and time dataframe and show basic features\n",
        "ds_dates = pd.date_range('12/6/2011', periods = 10, freq ='H')\n",
        "  \n",
        "x = datetime.datetime.now()\n",
        "x.month, x.year"
      ],
      "execution_count": null,
      "outputs": []
    },
    {
      "cell_type": "markdown",
      "metadata": {
        "id": "Ay1fagEfzOqH"
      },
      "source": [
        "\n",
        "**Datetime** features can be divided into two categories.\n",
        "\n",
        "1.   The first one time moments in a period\n",
        "\n",
        "2.   The second one is the time passed since a particular period\n",
        "\n",
        "These features are useful to understand patterns in time-related data.\n",
        "\n",
        "Datetime Series features:\n",
        "\n",
        "*   **pandas.Series.dt.year** - returns the year of the date time.\n",
        "*   **pandas.Series.dt.month** - returns the month of the date time.\n",
        "*   **pandas.Series.dt.day** - returns the day of the date time.\n",
        "*   **pandas.Series.dt.hour** - returns the hour of the date time.\n",
        "*   **pandas.Series.dt.minute** - returns the minute of the date time.\n"
      ]
    },
    {
      "cell_type": "code",
      "metadata": {
        "id": "jyWQWmDlaYRV"
      },
      "source": [
        "# Create date and time with dataframe\n",
        "df_rng = pd.DataFrame()\n",
        "df_rng['date'] = pd.date_range('12/6/2011', periods = 72, freq ='H')\n",
        "  \n",
        "# Print the dates in dd-mm-yy format\n",
        "df_rng[:5]\n",
        "  \n",
        "# Create features for year, month, day, hour, and minute\n",
        "df_rng['year'] = df_rng['date'].dt.year\n",
        "df_rng['month'] = df_rng['date'].dt.month\n",
        "df_rng['day'] = df_rng['date'].dt.day\n",
        "df_rng['hour'] = df_rng['date'].dt.hour\n",
        "df_rng['minute'] = df_rng['date'].dt.minute\n",
        "  \n",
        "# Print the dates divided into features\n",
        "print(\"The first three rows of df_rng:\")\n",
        "print(df_rng.head(3))\n",
        "print(\"\\nThe last three rows of df_rng:\")\n",
        "print(df_rng.tail(3))\n"
      ],
      "execution_count": null,
      "outputs": []
    },
    {
      "cell_type": "markdown",
      "metadata": {
        "id": "i5sdY4zSzOga"
      },
      "source": [
        "**To Create a Timestamp**\n",
        "\n",
        "To get the present time, use **Timestamp.now()** and then convert timestamp to datetime and directly access year, month or day.\n",
        "\n",
        "In older versions of Python or code you may see tslib as a member of Pandas but now it is in the _lib. member of Pandas as:  \n",
        "\n",
        "```\n",
        "pandas._libs.tslib\n",
        "```\n",
        "So invoking **Timestamp.now()** takes the following form: \n",
        "\n",
        "```\n",
        "pandas._libs.tslib.Timestamp.now()\n",
        "# or, with an alias of pd for pandas as: \n",
        "pd._libs.tslib.Timestamp.now()\n",
        "```\n"
      ]
    },
    {
      "cell_type": "code",
      "metadata": {
        "id": "5JHNDtHta_DL"
      },
      "source": [
        "# Input present datetime using Timestamp from the tslib library in Pandas\n",
        "ts = pd._libs.tslib.Timestamp.now()\n",
        "print(\"Timestamp generated at code execution: \", ts)"
      ],
      "execution_count": null,
      "outputs": []
    },
    {
      "cell_type": "markdown",
      "metadata": {
        "id": "mr1M9LDOdxYI"
      },
      "source": [
        "Then convert the timestamp variable **ts** to **Datetime** with the in-place **to_datetime64()** method"
      ]
    },
    {
      "cell_type": "code",
      "metadata": {
        "id": "wJEwV0lxb2_p"
      },
      "source": [
        "ts.to_datetime64()\n",
        "print(\"Timestamp converted to Datetime: \", ts)"
      ],
      "execution_count": null,
      "outputs": []
    },
    {
      "cell_type": "markdown",
      "metadata": {
        "id": "9liwJJ50elpT"
      },
      "source": [
        "Now you can directly access the features of the **ts** Datetime variable."
      ]
    },
    {
      "cell_type": "code",
      "metadata": {
        "id": "DpLrbstjeq-H"
      },
      "source": [
        "# Directly access and print the ts Datetime features\n",
        "print(\"Timestamp ts year:\\t\", ts.year)\n",
        "print(\"Timestamp ts month:\\t\", ts.month)\n",
        "print(\"Timestamp ts day:\\t\", ts.day)\n",
        "print(\"Timestamp ts hour:\\t\", ts.hour)\n",
        "print(\"Timestamp ts minute:\\t\", ts.minute)\n",
        "print(\"Timestamp ts second:\\t\", ts.second)"
      ],
      "execution_count": null,
      "outputs": []
    },
    {
      "cell_type": "markdown",
      "metadata": {
        "id": "z0Y2FHY_fZSN"
      },
      "source": [
        "Let’s work this approach on a real dataset uforeports."
      ]
    },
    {
      "cell_type": "code",
      "metadata": {
        "id": "GXLxlZ_Gfc0r"
      },
      "source": [
        "url = 'http://bit.ly/uforeports'\n",
        "  \n",
        "# read csv file\n",
        "df_uf = pd.read_csv(url)           \n",
        "df_uf.head()"
      ],
      "execution_count": null,
      "outputs": []
    },
    {
      "cell_type": "markdown",
      "metadata": {
        "id": "axK60vsvgUPK"
      },
      "source": [
        "Let's look at the type of variable in each column of the **df_uf** Dataframe.\n"
      ]
    },
    {
      "cell_type": "code",
      "metadata": {
        "id": "069OVNtVgXT5"
      },
      "source": [
        "# show the type of each variable(column)\n",
        "df_uf.dtypes"
      ],
      "execution_count": null,
      "outputs": []
    },
    {
      "cell_type": "markdown",
      "metadata": {
        "id": "9GRTRA0Vf5Nx"
      },
      "source": [
        "Let's convert the **Time** object(String) variable to Timedate in the **df_uf** Dataframe."
      ]
    },
    {
      "cell_type": "code",
      "metadata": {
        "id": "f9xRkm2lfso4"
      },
      "source": [
        "# Convert the Time column to datatime format\n",
        "df_uf['Time'] = pd.to_datetime(df_uf.Time)\n",
        "  \n",
        "df_uf.head()"
      ],
      "execution_count": null,
      "outputs": []
    },
    {
      "cell_type": "markdown",
      "metadata": {
        "id": "x3uCI5EFgl7U"
      },
      "source": [
        "Let's look again at the type of variable in each column of the **df_uf** Dataframe."
      ]
    },
    {
      "cell_type": "code",
      "metadata": {
        "id": "aIUMIR_TgoT4"
      },
      "source": [
        "# show the type of each variable(column)\n",
        "df_uf.dtypes"
      ],
      "execution_count": null,
      "outputs": []
    },
    {
      "cell_type": "markdown",
      "metadata": {
        "id": "2ka7UklUg-Q6"
      },
      "source": [
        "\n",
        "We can extract the hour information from the Datetime variable **Time**"
      ]
    },
    {
      "cell_type": "code",
      "metadata": {
        "id": "CLNjjxwhg_I2"
      },
      "source": [
        "# Get hour detail from Time variable in df_uf Dataframe\n",
        "df_uf.Time.dt.hour.head()"
      ],
      "execution_count": null,
      "outputs": []
    },
    {
      "cell_type": "markdown",
      "metadata": {
        "id": "_35EBTc2hWVo"
      },
      "source": [
        "We can even derive the name of each date from the Datetime variable **Time** using the **dt.day_name()** method.\n",
        "\n",
        "Note that older versions of Pandas may have a method **dt.weekday_name()** which has been deprecated and replaced by **dt.day_name()**"
      ]
    },
    {
      "cell_type": "code",
      "metadata": {
        "id": "YNhiGnHuhXKa"
      },
      "source": [
        "# Get name of each date for the Time variable in the df_uf Dataframe\n",
        "df_uf.Time.dt.day_name().head()"
      ],
      "execution_count": null,
      "outputs": []
    },
    {
      "cell_type": "markdown",
      "metadata": {
        "id": "S-XbMnyyi3X2"
      },
      "source": [
        "The ordinal day of the year is the sequential number of the day of the year from January 1st.  That is: \n",
        "*   01-Jan = 1, \n",
        "*   02-Jan = 2, \n",
        "*   03-Jan = 3, \n",
        "*   ... \n",
        "*   01-Feb = 32, \n",
        "*   02-Feb = 33, \n",
        "*   etc.\n",
        "\n",
        "We can retrieve the ordinal day of a Datetime variable with the **dt.dayofyear()** method which is useful for plots and analysis."
      ]
    },
    {
      "cell_type": "code",
      "metadata": {
        "id": "B3EkhRpMjp1E"
      },
      "source": [
        "# Get the ordinal day of the year for the **Time** variable in the **df_uf** Dataframe\n",
        "df_uf.Time.dt.dayofyear.head()"
      ],
      "execution_count": null,
      "outputs": []
    },
    {
      "cell_type": "markdown",
      "metadata": {
        "id": "J2hgxZdDl0FI"
      },
      "source": [
        "You may also want to explore examples of working with dates and times in Pandas at [Dates in Pandas Cheatsheet](https://dzone.com/articles/dates-in-pandas-cheatsheet) by Giuseppe Vettigli on DZone.\n"
      ]
    },
    {
      "cell_type": "markdown",
      "metadata": {
        "id": "8kLwqy7hmHyA"
      },
      "source": [
        "*Let's try working with an open data file from NYC on film permist to see what we can do with Datetime variables...*"
      ]
    },
    {
      "cell_type": "markdown",
      "metadata": {
        "id": "9Ss7rFngHS77"
      },
      "source": [
        "\n",
        "\n",
        "---\n",
        "\n"
      ]
    },
    {
      "cell_type": "markdown",
      "metadata": {
        "id": "s6I5xMChFhhL"
      },
      "source": [
        "## **Analyzing NYC Film Permits**\n",
        "*from the NYC OpenData Collection*"
      ]
    },
    {
      "cell_type": "markdown",
      "metadata": {
        "id": "95JbPRdp_ttG"
      },
      "source": [
        "First, let's read the unedited version of the NYC OpenData Film Permits CSV file from: \n",
        "*   Film_Permits_RuhRoh_03DEC2021.csv"
      ]
    },
    {
      "cell_type": "code",
      "metadata": {
        "id": "5JxUDwzpADxc"
      },
      "source": [
        "df_fp = pd.read_csv('gdrive/MyDrive/data/Film_Permits_RuhRoh_03DEC2021.csv', sep=\",\")"
      ],
      "execution_count": 4,
      "outputs": []
    },
    {
      "cell_type": "code",
      "metadata": {
        "id": "12XVgptpJ56k"
      },
      "source": [
        "df_fp.head(3)"
      ],
      "execution_count": null,
      "outputs": []
    },
    {
      "cell_type": "code",
      "metadata": {
        "id": "_vT8Yb4r6bsx"
      },
      "source": [
        "# use this snippet to read the file as a text file and explore its contents\n",
        "# handle_fp = open('gdrive/MyDrive/data/Film_Permits_RuhRoh_03DEC2021.csv', \"r\")\n",
        "# or look at the file in Google Drive, or downloaded to a text editor"
      ],
      "execution_count": null,
      "outputs": []
    },
    {
      "cell_type": "markdown",
      "metadata": {
        "id": "jZgXTRw029HG"
      },
      "source": [
        "Now, read the edited Film_Permits_03DEC2021.csv file into DataFrame df_fp"
      ]
    },
    {
      "cell_type": "code",
      "metadata": {
        "id": "k0GhQFAq3G_V"
      },
      "source": [
        "df_fp = pd.read_csv('gdrive/MyDrive/data/Film_Permits_03DEC2021.csv', sep=\",\")"
      ],
      "execution_count": 7,
      "outputs": []
    },
    {
      "cell_type": "markdown",
      "metadata": {
        "id": "NFp4Bdpa7MyD"
      },
      "source": [
        "Inspect the DataFrame **df_fp**"
      ]
    },
    {
      "cell_type": "code",
      "source": [
        "df_fp.head(3)"
      ],
      "metadata": {
        "id": "1nkNw0FQEU5m"
      },
      "execution_count": null,
      "outputs": []
    },
    {
      "cell_type": "code",
      "metadata": {
        "id": "X13dkydw7W34"
      },
      "source": [
        "df_fp.info()"
      ],
      "execution_count": null,
      "outputs": []
    },
    {
      "cell_type": "code",
      "metadata": {
        "id": "ItpfkOGL7PqL",
        "colab": {
          "base_uri": "https://localhost:8080/",
          "height": 300
        },
        "outputId": "292cbce0-5d70-4097-8c93-684186a5827f"
      },
      "source": [
        "df_fp.describe()"
      ],
      "execution_count": 11,
      "outputs": [
        {
          "output_type": "execute_result",
          "data": {
            "text/html": [
              "<div>\n",
              "<style scoped>\n",
              "    .dataframe tbody tr th:only-of-type {\n",
              "        vertical-align: middle;\n",
              "    }\n",
              "\n",
              "    .dataframe tbody tr th {\n",
              "        vertical-align: top;\n",
              "    }\n",
              "\n",
              "    .dataframe thead th {\n",
              "        text-align: right;\n",
              "    }\n",
              "</style>\n",
              "<table border=\"1\" class=\"dataframe\">\n",
              "  <thead>\n",
              "    <tr style=\"text-align: right;\">\n",
              "      <th></th>\n",
              "      <th>EventID</th>\n",
              "    </tr>\n",
              "  </thead>\n",
              "  <tbody>\n",
              "    <tr>\n",
              "      <th>count</th>\n",
              "      <td>72063.000000</td>\n",
              "    </tr>\n",
              "    <tr>\n",
              "      <th>mean</th>\n",
              "      <td>301498.570723</td>\n",
              "    </tr>\n",
              "    <tr>\n",
              "      <th>std</th>\n",
              "      <td>158318.188570</td>\n",
              "    </tr>\n",
              "    <tr>\n",
              "      <th>min</th>\n",
              "      <td>42069.000000</td>\n",
              "    </tr>\n",
              "    <tr>\n",
              "      <th>25%</th>\n",
              "      <td>165958.500000</td>\n",
              "    </tr>\n",
              "    <tr>\n",
              "      <th>50%</th>\n",
              "      <td>300861.000000</td>\n",
              "    </tr>\n",
              "    <tr>\n",
              "      <th>75%</th>\n",
              "      <td>440174.000000</td>\n",
              "    </tr>\n",
              "    <tr>\n",
              "      <th>max</th>\n",
              "      <td>600697.000000</td>\n",
              "    </tr>\n",
              "  </tbody>\n",
              "</table>\n",
              "</div>"
            ],
            "text/plain": [
              "             EventID\n",
              "count   72063.000000\n",
              "mean   301498.570723\n",
              "std    158318.188570\n",
              "min     42069.000000\n",
              "25%    165958.500000\n",
              "50%    300861.000000\n",
              "75%    440174.000000\n",
              "max    600697.000000"
            ]
          },
          "metadata": {},
          "execution_count": 11
        }
      ]
    },
    {
      "cell_type": "markdown",
      "metadata": {
        "id": "fPS57jJT71Ka"
      },
      "source": [
        "By default, describe() won’t give us any information on the variables of object data type (categorical variables). To get their summary statistics, submit the **np.object** data type to the include argument."
      ]
    },
    {
      "cell_type": "code",
      "metadata": {
        "id": "GbIrJahN72Wt",
        "colab": {
          "base_uri": "https://localhost:8080/",
          "height": 264
        },
        "outputId": "c7bc49f2-ff50-4f40-821e-b3d676dd7fa1"
      },
      "source": [
        "df_fp.describe(include=np.object)"
      ],
      "execution_count": 12,
      "outputs": [
        {
          "output_type": "execute_result",
          "data": {
            "text/html": [
              "<div>\n",
              "<style scoped>\n",
              "    .dataframe tbody tr th:only-of-type {\n",
              "        vertical-align: middle;\n",
              "    }\n",
              "\n",
              "    .dataframe tbody tr th {\n",
              "        vertical-align: top;\n",
              "    }\n",
              "\n",
              "    .dataframe thead th {\n",
              "        text-align: right;\n",
              "    }\n",
              "</style>\n",
              "<table border=\"1\" class=\"dataframe\">\n",
              "  <thead>\n",
              "    <tr style=\"text-align: right;\">\n",
              "      <th></th>\n",
              "      <th>EventType</th>\n",
              "      <th>StartDateTime</th>\n",
              "      <th>EndDateTime</th>\n",
              "      <th>EnteredOn</th>\n",
              "      <th>EventAgency</th>\n",
              "      <th>ParkingHeld</th>\n",
              "      <th>Borough</th>\n",
              "      <th>CommunityBoards</th>\n",
              "      <th>PolicePrecincts</th>\n",
              "      <th>Category</th>\n",
              "      <th>SubCategoryName</th>\n",
              "      <th>Country</th>\n",
              "      <th>ZipCodes</th>\n",
              "    </tr>\n",
              "  </thead>\n",
              "  <tbody>\n",
              "    <tr>\n",
              "      <th>count</th>\n",
              "      <td>72063</td>\n",
              "      <td>72063</td>\n",
              "      <td>72063</td>\n",
              "      <td>72063</td>\n",
              "      <td>72063</td>\n",
              "      <td>72063</td>\n",
              "      <td>72063</td>\n",
              "      <td>72045</td>\n",
              "      <td>72045</td>\n",
              "      <td>72063</td>\n",
              "      <td>72063</td>\n",
              "      <td>72063</td>\n",
              "      <td>72045</td>\n",
              "    </tr>\n",
              "    <tr>\n",
              "      <th>unique</th>\n",
              "      <td>4</td>\n",
              "      <td>28383</td>\n",
              "      <td>34784</td>\n",
              "      <td>68833</td>\n",
              "      <td>1</td>\n",
              "      <td>41995</td>\n",
              "      <td>5</td>\n",
              "      <td>863</td>\n",
              "      <td>2708</td>\n",
              "      <td>10</td>\n",
              "      <td>30</td>\n",
              "      <td>10</td>\n",
              "      <td>5312</td>\n",
              "    </tr>\n",
              "    <tr>\n",
              "      <th>top</th>\n",
              "      <td>Shooting Permit</td>\n",
              "      <td>11/13/2018 6:00</td>\n",
              "      <td>12/4/2019 22:00</td>\n",
              "      <td>11/3/2017 14:54</td>\n",
              "      <td>Mayor's Office of Film, Theatre &amp; Broadcasting</td>\n",
              "      <td>WEST   48 STREET between 6 AVENUE and 7 AVENUE</td>\n",
              "      <td>Manhattan</td>\n",
              "      <td>1</td>\n",
              "      <td>94</td>\n",
              "      <td>Television</td>\n",
              "      <td>Episodic series</td>\n",
              "      <td>United States of America</td>\n",
              "      <td>11222</td>\n",
              "    </tr>\n",
              "    <tr>\n",
              "      <th>freq</th>\n",
              "      <td>63167</td>\n",
              "      <td>24</td>\n",
              "      <td>16</td>\n",
              "      <td>10</td>\n",
              "      <td>72063</td>\n",
              "      <td>1469</td>\n",
              "      <td>34647</td>\n",
              "      <td>16266</td>\n",
              "      <td>8079</td>\n",
              "      <td>40454</td>\n",
              "      <td>23847</td>\n",
              "      <td>71995</td>\n",
              "      <td>7194</td>\n",
              "    </tr>\n",
              "  </tbody>\n",
              "</table>\n",
              "</div>"
            ],
            "text/plain": [
              "              EventType    StartDateTime  ...                   Country ZipCodes\n",
              "count             72063            72063  ...                     72063    72045\n",
              "unique                4            28383  ...                        10     5312\n",
              "top     Shooting Permit  11/13/2018 6:00  ...  United States of America    11222\n",
              "freq              63167               24  ...                     71995     7194\n",
              "\n",
              "[4 rows x 13 columns]"
            ]
          },
          "metadata": {},
          "execution_count": 12
        }
      ]
    },
    {
      "cell_type": "markdown",
      "metadata": {
        "id": "2R0JH90umeXv"
      },
      "source": [
        "It seems that we are having trouble with the Datetime information in the following variables \n",
        "\n",
        "*   StartDateTime[1]\n",
        "*   EndDateTime[2]\n",
        "*   EnteredOn[3]\n",
        "\n",
        "Let's read the CSV file again and apply Datetime to the appropriate columns."
      ]
    },
    {
      "cell_type": "code",
      "metadata": {
        "id": "Gg6sVUSCnFzH"
      },
      "source": [
        "df_fp = pd.read_csv('gdrive/MyDrive/data/Film_Permits_03DEC2021.csv', sep=\",\", parse_dates=['StartDateTime', 'EndDateTime', 'EnteredOn'])"
      ],
      "execution_count": 13,
      "outputs": []
    },
    {
      "cell_type": "markdown",
      "metadata": {
        "id": "uLeZmCwBoJjs"
      },
      "source": [
        "Now, let's inspect the Dataframe **df_fp** again..."
      ]
    },
    {
      "cell_type": "code",
      "metadata": {
        "id": "BA-I-CVloOCO",
        "colab": {
          "base_uri": "https://localhost:8080/"
        },
        "outputId": "e3c5e226-66de-4fb9-f019-5420b8488240"
      },
      "source": [
        "df_fp.info()"
      ],
      "execution_count": 14,
      "outputs": [
        {
          "output_type": "stream",
          "name": "stdout",
          "text": [
            "<class 'pandas.core.frame.DataFrame'>\n",
            "RangeIndex: 72063 entries, 0 to 72062\n",
            "Data columns (total 14 columns):\n",
            " #   Column           Non-Null Count  Dtype         \n",
            "---  ------           --------------  -----         \n",
            " 0   EventID          72063 non-null  int64         \n",
            " 1   EventType        72063 non-null  object        \n",
            " 2   StartDateTime    72063 non-null  datetime64[ns]\n",
            " 3   EndDateTime      72063 non-null  datetime64[ns]\n",
            " 4   EnteredOn        72063 non-null  datetime64[ns]\n",
            " 5   EventAgency      72063 non-null  object        \n",
            " 6   ParkingHeld      72063 non-null  object        \n",
            " 7   Borough          72063 non-null  object        \n",
            " 8   CommunityBoards  72045 non-null  object        \n",
            " 9   PolicePrecincts  72045 non-null  object        \n",
            " 10  Category         72063 non-null  object        \n",
            " 11  SubCategoryName  72063 non-null  object        \n",
            " 12  Country          72063 non-null  object        \n",
            " 13  ZipCodes         72045 non-null  object        \n",
            "dtypes: datetime64[ns](3), int64(1), object(10)\n",
            "memory usage: 7.7+ MB\n"
          ]
        }
      ]
    },
    {
      "cell_type": "code",
      "metadata": {
        "id": "ed-JfUPtoS_1",
        "colab": {
          "base_uri": "https://localhost:8080/",
          "height": 264
        },
        "outputId": "05228e2b-06a2-4205-973f-0efbb34ec4cc"
      },
      "source": [
        "df_fp.describe(include=np.object)"
      ],
      "execution_count": 15,
      "outputs": [
        {
          "output_type": "execute_result",
          "data": {
            "text/html": [
              "<div>\n",
              "<style scoped>\n",
              "    .dataframe tbody tr th:only-of-type {\n",
              "        vertical-align: middle;\n",
              "    }\n",
              "\n",
              "    .dataframe tbody tr th {\n",
              "        vertical-align: top;\n",
              "    }\n",
              "\n",
              "    .dataframe thead th {\n",
              "        text-align: right;\n",
              "    }\n",
              "</style>\n",
              "<table border=\"1\" class=\"dataframe\">\n",
              "  <thead>\n",
              "    <tr style=\"text-align: right;\">\n",
              "      <th></th>\n",
              "      <th>EventType</th>\n",
              "      <th>EventAgency</th>\n",
              "      <th>ParkingHeld</th>\n",
              "      <th>Borough</th>\n",
              "      <th>CommunityBoards</th>\n",
              "      <th>PolicePrecincts</th>\n",
              "      <th>Category</th>\n",
              "      <th>SubCategoryName</th>\n",
              "      <th>Country</th>\n",
              "      <th>ZipCodes</th>\n",
              "    </tr>\n",
              "  </thead>\n",
              "  <tbody>\n",
              "    <tr>\n",
              "      <th>count</th>\n",
              "      <td>72063</td>\n",
              "      <td>72063</td>\n",
              "      <td>72063</td>\n",
              "      <td>72063</td>\n",
              "      <td>72045</td>\n",
              "      <td>72045</td>\n",
              "      <td>72063</td>\n",
              "      <td>72063</td>\n",
              "      <td>72063</td>\n",
              "      <td>72045</td>\n",
              "    </tr>\n",
              "    <tr>\n",
              "      <th>unique</th>\n",
              "      <td>4</td>\n",
              "      <td>1</td>\n",
              "      <td>41995</td>\n",
              "      <td>5</td>\n",
              "      <td>863</td>\n",
              "      <td>2708</td>\n",
              "      <td>10</td>\n",
              "      <td>30</td>\n",
              "      <td>10</td>\n",
              "      <td>5312</td>\n",
              "    </tr>\n",
              "    <tr>\n",
              "      <th>top</th>\n",
              "      <td>Shooting Permit</td>\n",
              "      <td>Mayor's Office of Film, Theatre &amp; Broadcasting</td>\n",
              "      <td>WEST   48 STREET between 6 AVENUE and 7 AVENUE</td>\n",
              "      <td>Manhattan</td>\n",
              "      <td>1</td>\n",
              "      <td>94</td>\n",
              "      <td>Television</td>\n",
              "      <td>Episodic series</td>\n",
              "      <td>United States of America</td>\n",
              "      <td>11222</td>\n",
              "    </tr>\n",
              "    <tr>\n",
              "      <th>freq</th>\n",
              "      <td>63167</td>\n",
              "      <td>72063</td>\n",
              "      <td>1469</td>\n",
              "      <td>34647</td>\n",
              "      <td>16266</td>\n",
              "      <td>8079</td>\n",
              "      <td>40454</td>\n",
              "      <td>23847</td>\n",
              "      <td>71995</td>\n",
              "      <td>7194</td>\n",
              "    </tr>\n",
              "  </tbody>\n",
              "</table>\n",
              "</div>"
            ],
            "text/plain": [
              "              EventType  ... ZipCodes\n",
              "count             72063  ...    72045\n",
              "unique                4  ...     5312\n",
              "top     Shooting Permit  ...    11222\n",
              "freq              63167  ...     7194\n",
              "\n",
              "[4 rows x 10 columns]"
            ]
          },
          "metadata": {},
          "execution_count": 15
        }
      ]
    },
    {
      "cell_type": "markdown",
      "metadata": {
        "id": "oQ8PKwW-8X5t"
      },
      "source": [
        "By default, the **describe(**) methods displays:\n",
        "\n",
        "*   the count of non-null occurrences (**count**),\n",
        "*   the number of unique values (**unique**),\n",
        "*   the mode (**top**) and\n",
        "*   the number of times the mode was observed (**freq**).\n",
        "\n",
        "The **describe()** method ignores missing values when calculating the summary statistics.\n",
        "\n",
        "Use the following Pandas DataFrame methods for specific metrics: \n",
        "\n",
        "*   **count()**: The number of non-null values\n",
        "*   **sum():** The total of the values\n",
        "*   **cumsum():** The cumulative sum\n",
        "*   **mean():** The average of the values\n",
        "*   **median():** The median of the values\n",
        "*   **min():** The minimum of the values\n",
        "*   **max():** The maximum of the values\n",
        "*   **abs():** The absolute value of the values\n",
        "*   **std():** The standard deviation\n",
        "*   **var():** The variance\n",
        "*   **cov():** Pairwise covariance of columns\n",
        "*   **corr():** Pairwise correlation of columns\n",
        "*   **quantile(q=0.7):** 70% quantile\n",
        "\n",
        "By default, the calculations will be done column-wise (**axis=0**). If you want to get row-wise calculations, specify the axis parameter to 1"
      ]
    },
    {
      "cell_type": "markdown",
      "metadata": {
        "id": "azpuKEpp-Jd6"
      },
      "source": [
        "**Graphical Descriptions of a Pandas DataFrame**\n",
        "\n",
        "With the Pandas plot() method we can easily create:\n",
        "\n",
        "*   vertical bar plots\n",
        "*   pie charts\n",
        "*   boxplots\n",
        "*   density plots\n",
        "*   scatter plots\n"
      ]
    },
    {
      "cell_type": "markdown",
      "metadata": {
        "id": "zfOVxUQu-Ltk"
      },
      "source": [
        "**Vertical Bar Plots**\n",
        "\n",
        "A vertical bar plot presents categorical data with rectangular bars that have bar heights proportional to the values represented by the variable."
      ]
    },
    {
      "cell_type": "code",
      "metadata": {
        "id": "LHJYbbFh9qJi",
        "colab": {
          "base_uri": "https://localhost:8080/",
          "height": 330
        },
        "outputId": "f88e1f56-a032-4d09-d862-7899e6807703"
      },
      "source": [
        "# plot with vertical bars of permit count by Borough\n",
        "df_fp.Borough.value_counts().plot(kind=\"bar\",\n",
        "                           title=\"Permits by Boro\",\n",
        "                           rot=15,\n",
        "                           xlabel=\"Borough\",\n",
        "                           ylabel=\"Count\")"
      ],
      "execution_count": 16,
      "outputs": [
        {
          "output_type": "execute_result",
          "data": {
            "text/plain": [
              "<matplotlib.axes._subplots.AxesSubplot at 0x7fb9d0138790>"
            ]
          },
          "metadata": {},
          "execution_count": 16
        },
        {
          "output_type": "display_data",
          "data": {
            "image/png": "[encoded data removed]",
            "text/plain": [
              "<Figure size 432x288 with 1 Axes>"
            ]
          },
          "metadata": {
            "needs_background": "light"
          }
        }
      ]
    },
    {
      "cell_type": "markdown",
      "metadata": {
        "id": "ZP2iSmiZ_gn6"
      },
      "source": [
        "Stacked Vertical Bar Plots\n",
        "\n",
        "We can use the **groupby()** method to summarize totals and subtotals by categorical variables and use the result to created a stacked bar plot with the **plot()** method. \n",
        "\n",
        "The following example shows our **df_fp** DataFrame grouped by Category of permit then Borough to produce a stacked bar plot."
      ]
    },
    {
      "cell_type": "code",
      "metadata": {
        "id": "9eiIPG0J_hBu",
        "colab": {
          "base_uri": "https://localhost:8080/",
          "height": 390
        },
        "outputId": "ebdefd16-9adb-4679-e783-6c5b27dbc784"
      },
      "source": [
        "df_fp.groupby(['Category', 'Borough']).size().unstack().plot(kind='bar', stacked=True)"
      ],
      "execution_count": 17,
      "outputs": [
        {
          "output_type": "execute_result",
          "data": {
            "text/plain": [
              "<matplotlib.axes._subplots.AxesSubplot at 0x7fb9d0276350>"
            ]
          },
          "metadata": {},
          "execution_count": 17
        },
        {
          "output_type": "display_data",
          "data": {
            "image/png": "[encoded data removed]",
            "text/plain": [
              "<Figure size 432x288 with 1 Axes>"
            ]
          },
          "metadata": {
            "needs_background": "light"
          }
        }
      ]
    },
    {
      "cell_type": "code",
      "source": [
        "df_fp.groupby(['Borough', 'Category']).size().unstack().plot(kind='bar', stacked=True)"
      ],
      "metadata": {
        "colab": {
          "base_uri": "https://localhost:8080/",
          "height": 352
        },
        "id": "HEENuFYwHiY3",
        "outputId": "8c8ebddc-7471-440d-99bf-2a160e2f6dd1"
      },
      "execution_count": 20,
      "outputs": [
        {
          "output_type": "execute_result",
          "data": {
            "text/plain": [
              "<matplotlib.axes._subplots.AxesSubplot at 0x7fb9d1100810>"
            ]
          },
          "metadata": {},
          "execution_count": 20
        },
        {
          "output_type": "display_data",
          "data": {
            "image/png": "[encoded data removed]",
            "text/plain": [
              "<Figure size 432x288 with 1 Axes>"
            ]
          },
          "metadata": {
            "needs_background": "light"
          }
        }
      ]
    },
    {
      "cell_type": "markdown",
      "metadata": {
        "id": "poo9-n-MBfL5"
      },
      "source": [
        "**Pie Charts**\n",
        "\n",
        "A pie chart uses the **plot()** method to present categorical data with pie slices as a relative size of a category's value as a proportion of a circle whose circumference represents the value of the total of all categories' values."
      ]
    },
    {
      "cell_type": "code",
      "metadata": {
        "id": "Mdi1tdXABlkY",
        "colab": {
          "base_uri": "https://localhost:8080/",
          "height": 282
        },
        "outputId": "1fa4425b-1741-44ea-d250-6afe3dbc2e8f"
      },
      "source": [
        "df_fp.Borough.value_counts().plot(kind=\"pie\",\n",
        "                           title=\"Permits by Boro\")"
      ],
      "execution_count": 21,
      "outputs": [
        {
          "output_type": "execute_result",
          "data": {
            "text/plain": [
              "<matplotlib.axes._subplots.AxesSubplot at 0x7fb9cfee4310>"
            ]
          },
          "metadata": {},
          "execution_count": 21
        },
        {
          "output_type": "display_data",
          "data": {
            "image/png": "[encoded data removed]",
            "text/plain": [
              "<Figure size 432x288 with 1 Axes>"
            ]
          },
          "metadata": {}
        }
      ]
    },
    {
      "cell_type": "markdown",
      "metadata": {
        "id": "j3Phujx-B0g2"
      },
      "source": [
        "*Notice from the plot() output header lines that Pandas is invoking matplotlib for graphical representation of results.*"
      ]
    },
    {
      "cell_type": "markdown",
      "source": [
        "\n",
        "\n",
        "---\n",
        "\n"
      ],
      "metadata": {
        "id": "BPIixLiE7qAg"
      }
    },
    {
      "cell_type": "markdown",
      "source": [
        "For simplicity, let's create a new variable 'Date' in the **df_fp** DataFrame.  We can use the .date part of 'StartDateTime' to create 'Date' "
      ],
      "metadata": {
        "id": "ZuxbgrLq5vxG"
      }
    },
    {
      "cell_type": "code",
      "source": [
        "df_fp['Date'] = df_fp['StartDateTime'].dt.date"
      ],
      "metadata": {
        "id": "3pYNzedH6IN0"
      },
      "execution_count": 22,
      "outputs": []
    },
    {
      "cell_type": "markdown",
      "metadata": {
        "id": "IyreOqAppsJ4"
      },
      "source": [
        "Let's calculate the duration in hours from **StartDateTime** to **EndDateTime** as a new variable **OnLocationHours**"
      ]
    },
    {
      "cell_type": "code",
      "metadata": {
        "id": "a3VYY51yqcxW"
      },
      "source": [
        "df_fp['OnLocationDelta'] = df_fp['EndDateTime'] - df_fp['StartDateTime']\n",
        "df_fp['OnLocationTime'] = df_fp['OnLocationDelta'].astype('timedelta64[h]')"
      ],
      "execution_count": 23,
      "outputs": []
    },
    {
      "cell_type": "code",
      "source": [
        "df_fp.describe()"
      ],
      "metadata": {
        "id": "nbmTVGyr86o5",
        "colab": {
          "base_uri": "https://localhost:8080/",
          "height": 300
        },
        "outputId": "3de00964-ae47-42ba-d6a3-c0dca27a05f5"
      },
      "execution_count": 24,
      "outputs": [
        {
          "output_type": "execute_result",
          "data": {
            "text/html": [
              "<div>\n",
              "<style scoped>\n",
              "    .dataframe tbody tr th:only-of-type {\n",
              "        vertical-align: middle;\n",
              "    }\n",
              "\n",
              "    .dataframe tbody tr th {\n",
              "        vertical-align: top;\n",
              "    }\n",
              "\n",
              "    .dataframe thead th {\n",
              "        text-align: right;\n",
              "    }\n",
              "</style>\n",
              "<table border=\"1\" class=\"dataframe\">\n",
              "  <thead>\n",
              "    <tr style=\"text-align: right;\">\n",
              "      <th></th>\n",
              "      <th>EventID</th>\n",
              "      <th>OnLocationDelta</th>\n",
              "      <th>OnLocationTime</th>\n",
              "    </tr>\n",
              "  </thead>\n",
              "  <tbody>\n",
              "    <tr>\n",
              "      <th>count</th>\n",
              "      <td>72063.000000</td>\n",
              "      <td>72063</td>\n",
              "      <td>72063.000000</td>\n",
              "    </tr>\n",
              "    <tr>\n",
              "      <th>mean</th>\n",
              "      <td>301498.570723</td>\n",
              "      <td>0 days 19:57:57.253236751</td>\n",
              "      <td>19.803700</td>\n",
              "    </tr>\n",
              "    <tr>\n",
              "      <th>std</th>\n",
              "      <td>158318.188570</td>\n",
              "      <td>2 days 20:50:38.405627108</td>\n",
              "      <td>68.802816</td>\n",
              "    </tr>\n",
              "    <tr>\n",
              "      <th>min</th>\n",
              "      <td>42069.000000</td>\n",
              "      <td>0 days 00:01:00</td>\n",
              "      <td>0.000000</td>\n",
              "    </tr>\n",
              "    <tr>\n",
              "      <th>25%</th>\n",
              "      <td>165958.500000</td>\n",
              "      <td>0 days 13:30:00</td>\n",
              "      <td>13.000000</td>\n",
              "    </tr>\n",
              "    <tr>\n",
              "      <th>50%</th>\n",
              "      <td>300861.000000</td>\n",
              "      <td>0 days 15:00:00</td>\n",
              "      <td>15.000000</td>\n",
              "    </tr>\n",
              "    <tr>\n",
              "      <th>75%</th>\n",
              "      <td>440174.000000</td>\n",
              "      <td>0 days 16:00:00</td>\n",
              "      <td>16.000000</td>\n",
              "    </tr>\n",
              "    <tr>\n",
              "      <th>max</th>\n",
              "      <td>600697.000000</td>\n",
              "      <td>361 days 23:58:00</td>\n",
              "      <td>8687.000000</td>\n",
              "    </tr>\n",
              "  </tbody>\n",
              "</table>\n",
              "</div>"
            ],
            "text/plain": [
              "             EventID            OnLocationDelta  OnLocationTime\n",
              "count   72063.000000                      72063    72063.000000\n",
              "mean   301498.570723  0 days 19:57:57.253236751       19.803700\n",
              "std    158318.188570  2 days 20:50:38.405627108       68.802816\n",
              "min     42069.000000            0 days 00:01:00        0.000000\n",
              "25%    165958.500000            0 days 13:30:00       13.000000\n",
              "50%    300861.000000            0 days 15:00:00       15.000000\n",
              "75%    440174.000000            0 days 16:00:00       16.000000\n",
              "max    600697.000000          361 days 23:58:00     8687.000000"
            ]
          },
          "metadata": {},
          "execution_count": 24
        }
      ]
    },
    {
      "cell_type": "code",
      "metadata": {
        "id": "Mq4xJ8QbuYT-",
        "colab": {
          "base_uri": "https://localhost:8080/",
          "height": 441
        },
        "outputId": "f60b2557-870f-475f-96bf-b172e8fab8a7"
      },
      "source": [
        "df_fp.head(3)"
      ],
      "execution_count": 25,
      "outputs": [
        {
          "output_type": "execute_result",
          "data": {
            "text/html": [
              "<div>\n",
              "<style scoped>\n",
              "    .dataframe tbody tr th:only-of-type {\n",
              "        vertical-align: middle;\n",
              "    }\n",
              "\n",
              "    .dataframe tbody tr th {\n",
              "        vertical-align: top;\n",
              "    }\n",
              "\n",
              "    .dataframe thead th {\n",
              "        text-align: right;\n",
              "    }\n",
              "</style>\n",
              "<table border=\"1\" class=\"dataframe\">\n",
              "  <thead>\n",
              "    <tr style=\"text-align: right;\">\n",
              "      <th></th>\n",
              "      <th>EventID</th>\n",
              "      <th>EventType</th>\n",
              "      <th>StartDateTime</th>\n",
              "      <th>EndDateTime</th>\n",
              "      <th>EnteredOn</th>\n",
              "      <th>EventAgency</th>\n",
              "      <th>ParkingHeld</th>\n",
              "      <th>Borough</th>\n",
              "      <th>CommunityBoards</th>\n",
              "      <th>PolicePrecincts</th>\n",
              "      <th>Category</th>\n",
              "      <th>SubCategoryName</th>\n",
              "      <th>Country</th>\n",
              "      <th>ZipCodes</th>\n",
              "      <th>Date</th>\n",
              "      <th>OnLocationDelta</th>\n",
              "      <th>OnLocationTime</th>\n",
              "    </tr>\n",
              "  </thead>\n",
              "  <tbody>\n",
              "    <tr>\n",
              "      <th>0</th>\n",
              "      <td>446040</td>\n",
              "      <td>Shooting Permit</td>\n",
              "      <td>2018-10-19 14:00:00</td>\n",
              "      <td>2018-10-20 04:00:00</td>\n",
              "      <td>2018-10-16 11:57:00</td>\n",
              "      <td>Mayor's Office of Film, Theatre &amp; Broadcasting</td>\n",
              "      <td>THOMPSON STREET between PRINCE STREET and SPRI...</td>\n",
              "      <td>Manhattan</td>\n",
              "      <td>2</td>\n",
              "      <td>1</td>\n",
              "      <td>Television</td>\n",
              "      <td>Cable-episodic</td>\n",
              "      <td>United States of America</td>\n",
              "      <td>10012</td>\n",
              "      <td>2018-10-19</td>\n",
              "      <td>0 days 14:00:00</td>\n",
              "      <td>14.0</td>\n",
              "    </tr>\n",
              "    <tr>\n",
              "      <th>1</th>\n",
              "      <td>446168</td>\n",
              "      <td>Shooting Permit</td>\n",
              "      <td>2018-10-19 14:00:00</td>\n",
              "      <td>2018-10-20 02:00:00</td>\n",
              "      <td>2018-10-16 19:03:00</td>\n",
              "      <td>Mayor's Office of Film, Theatre &amp; Broadcasting</td>\n",
              "      <td>MARBLE HILL AVENUE between WEST  227 STREET an...</td>\n",
              "      <td>Manhattan</td>\n",
              "      <td>12, 8</td>\n",
              "      <td>34, 50</td>\n",
              "      <td>Film</td>\n",
              "      <td>Feature</td>\n",
              "      <td>United States of America</td>\n",
              "      <td>10034, 10463</td>\n",
              "      <td>2018-10-19</td>\n",
              "      <td>0 days 12:00:00</td>\n",
              "      <td>12.0</td>\n",
              "    </tr>\n",
              "    <tr>\n",
              "      <th>2</th>\n",
              "      <td>186438</td>\n",
              "      <td>Shooting Permit</td>\n",
              "      <td>2014-10-30 07:00:00</td>\n",
              "      <td>2014-10-31 02:00:00</td>\n",
              "      <td>2014-10-27 12:14:00</td>\n",
              "      <td>Mayor's Office of Film, Theatre &amp; Broadcasting</td>\n",
              "      <td>LAUREL HILL BLVD between REVIEW AVENUE and RUS...</td>\n",
              "      <td>Queens</td>\n",
              "      <td>2, 5</td>\n",
              "      <td>104, 108</td>\n",
              "      <td>Television</td>\n",
              "      <td>Episodic series</td>\n",
              "      <td>United States of America</td>\n",
              "      <td>11378</td>\n",
              "      <td>2014-10-30</td>\n",
              "      <td>0 days 19:00:00</td>\n",
              "      <td>19.0</td>\n",
              "    </tr>\n",
              "  </tbody>\n",
              "</table>\n",
              "</div>"
            ],
            "text/plain": [
              "   EventID        EventType  ... OnLocationDelta OnLocationTime\n",
              "0   446040  Shooting Permit  ... 0 days 14:00:00           14.0\n",
              "1   446168  Shooting Permit  ... 0 days 12:00:00           12.0\n",
              "2   186438  Shooting Permit  ... 0 days 19:00:00           19.0\n",
              "\n",
              "[3 rows x 17 columns]"
            ]
          },
          "metadata": {},
          "execution_count": 25
        }
      ]
    },
    {
      "cell_type": "code",
      "source": [
        "del df_fp['OnLocationDelta'] "
      ],
      "metadata": {
        "id": "GS76z_xLKdtA"
      },
      "execution_count": 26,
      "outputs": []
    },
    {
      "cell_type": "code",
      "source": [
        "df_fp.describe()"
      ],
      "metadata": {
        "colab": {
          "base_uri": "https://localhost:8080/",
          "height": 300
        },
        "id": "zNORGL8IKknm",
        "outputId": "29e008ea-18ac-4e5b-9615-fde16664bbbc"
      },
      "execution_count": 27,
      "outputs": [
        {
          "output_type": "execute_result",
          "data": {
            "text/html": [
              "<div>\n",
              "<style scoped>\n",
              "    .dataframe tbody tr th:only-of-type {\n",
              "        vertical-align: middle;\n",
              "    }\n",
              "\n",
              "    .dataframe tbody tr th {\n",
              "        vertical-align: top;\n",
              "    }\n",
              "\n",
              "    .dataframe thead th {\n",
              "        text-align: right;\n",
              "    }\n",
              "</style>\n",
              "<table border=\"1\" class=\"dataframe\">\n",
              "  <thead>\n",
              "    <tr style=\"text-align: right;\">\n",
              "      <th></th>\n",
              "      <th>EventID</th>\n",
              "      <th>OnLocationTime</th>\n",
              "    </tr>\n",
              "  </thead>\n",
              "  <tbody>\n",
              "    <tr>\n",
              "      <th>count</th>\n",
              "      <td>72063.000000</td>\n",
              "      <td>72063.000000</td>\n",
              "    </tr>\n",
              "    <tr>\n",
              "      <th>mean</th>\n",
              "      <td>301498.570723</td>\n",
              "      <td>19.803700</td>\n",
              "    </tr>\n",
              "    <tr>\n",
              "      <th>std</th>\n",
              "      <td>158318.188570</td>\n",
              "      <td>68.802816</td>\n",
              "    </tr>\n",
              "    <tr>\n",
              "      <th>min</th>\n",
              "      <td>42069.000000</td>\n",
              "      <td>0.000000</td>\n",
              "    </tr>\n",
              "    <tr>\n",
              "      <th>25%</th>\n",
              "      <td>165958.500000</td>\n",
              "      <td>13.000000</td>\n",
              "    </tr>\n",
              "    <tr>\n",
              "      <th>50%</th>\n",
              "      <td>300861.000000</td>\n",
              "      <td>15.000000</td>\n",
              "    </tr>\n",
              "    <tr>\n",
              "      <th>75%</th>\n",
              "      <td>440174.000000</td>\n",
              "      <td>16.000000</td>\n",
              "    </tr>\n",
              "    <tr>\n",
              "      <th>max</th>\n",
              "      <td>600697.000000</td>\n",
              "      <td>8687.000000</td>\n",
              "    </tr>\n",
              "  </tbody>\n",
              "</table>\n",
              "</div>"
            ],
            "text/plain": [
              "             EventID  OnLocationTime\n",
              "count   72063.000000    72063.000000\n",
              "mean   301498.570723       19.803700\n",
              "std    158318.188570       68.802816\n",
              "min     42069.000000        0.000000\n",
              "25%    165958.500000       13.000000\n",
              "50%    300861.000000       15.000000\n",
              "75%    440174.000000       16.000000\n",
              "max    600697.000000     8687.000000"
            ]
          },
          "metadata": {},
          "execution_count": 27
        }
      ]
    },
    {
      "cell_type": "code",
      "source": [
        "df_fp.info()"
      ],
      "metadata": {
        "colab": {
          "base_uri": "https://localhost:8080/"
        },
        "id": "kN0Sx2Z4Kp4k",
        "outputId": "5837c4e3-555f-4a17-d5b8-3b039ef53882"
      },
      "execution_count": 29,
      "outputs": [
        {
          "output_type": "stream",
          "name": "stdout",
          "text": [
            "<class 'pandas.core.frame.DataFrame'>\n",
            "RangeIndex: 72063 entries, 0 to 72062\n",
            "Data columns (total 16 columns):\n",
            " #   Column           Non-Null Count  Dtype         \n",
            "---  ------           --------------  -----         \n",
            " 0   EventID          72063 non-null  int64         \n",
            " 1   EventType        72063 non-null  object        \n",
            " 2   StartDateTime    72063 non-null  datetime64[ns]\n",
            " 3   EndDateTime      72063 non-null  datetime64[ns]\n",
            " 4   EnteredOn        72063 non-null  datetime64[ns]\n",
            " 5   EventAgency      72063 non-null  object        \n",
            " 6   ParkingHeld      72063 non-null  object        \n",
            " 7   Borough          72063 non-null  object        \n",
            " 8   CommunityBoards  72045 non-null  object        \n",
            " 9   PolicePrecincts  72045 non-null  object        \n",
            " 10  Category         72063 non-null  object        \n",
            " 11  SubCategoryName  72063 non-null  object        \n",
            " 12  Country          72063 non-null  object        \n",
            " 13  ZipCodes         72045 non-null  object        \n",
            " 14  Date             72063 non-null  object        \n",
            " 15  OnLocationTime   72063 non-null  float64       \n",
            "dtypes: datetime64[ns](3), float64(1), int64(1), object(11)\n",
            "memory usage: 8.8+ MB\n"
          ]
        }
      ]
    },
    {
      "cell_type": "markdown",
      "source": [
        "\n",
        "\n",
        "---\n",
        "\n"
      ],
      "metadata": {
        "id": "Mdv8TXZE7rY6"
      }
    },
    {
      "cell_type": "markdown",
      "metadata": {
        "id": "-tZVEZsbouKp"
      },
      "source": [
        "\n",
        "**Create Boxplots**\n",
        "\n",
        "A boxplot shows the summary statistics of a continuous variable."
      ]
    },
    {
      "cell_type": "code",
      "metadata": {
        "id": "wfHMFLLWpTSH",
        "colab": {
          "base_uri": "https://localhost:8080/",
          "height": 298
        },
        "outputId": "050cc074-ce68-45dd-d166-2c774f277cf9"
      },
      "source": [
        "df_fp.plot(y=\"OnLocationTime\",\n",
        "        kind=\"box\",\n",
        "        title=\"Boxplot - Time on Location\")"
      ],
      "execution_count": 30,
      "outputs": [
        {
          "output_type": "execute_result",
          "data": {
            "text/plain": [
              "<matplotlib.axes._subplots.AxesSubplot at 0x7fb9cfc70e90>"
            ]
          },
          "metadata": {},
          "execution_count": 30
        },
        {
          "output_type": "display_data",
          "data": {
            "image/png": "[encoded data removed]",
            "text/plain": [
              "<Figure size 432x288 with 1 Axes>"
            ]
          },
          "metadata": {
            "needs_background": "light"
          }
        }
      ]
    },
    {
      "cell_type": "markdown",
      "metadata": {
        "id": "F8PyXzFyuoMN"
      },
      "source": [
        "**Create Density Plots**\n",
        "\n",
        "A density plot shows the distribution (Kernel Density Estimation Curve) of a continuous variable.\n"
      ]
    },
    {
      "cell_type": "code",
      "metadata": {
        "id": "nU2MRYg2u6A-",
        "colab": {
          "base_uri": "https://localhost:8080/",
          "height": 298
        },
        "outputId": "c66c4a59-5255-41e7-f390-8dd2e5d8b174"
      },
      "source": [
        "df_fp.plot(y=\"OnLocationTime\",\n",
        "        kind=\"density\",\n",
        "        title=\"Density plot - Time on Location\")"
      ],
      "execution_count": 31,
      "outputs": [
        {
          "output_type": "execute_result",
          "data": {
            "text/plain": [
              "<matplotlib.axes._subplots.AxesSubplot at 0x7fb9cfbe0d10>"
            ]
          },
          "metadata": {},
          "execution_count": 31
        },
        {
          "output_type": "display_data",
          "data": {
            "image/png": "[encoded data removed]",
            "text/plain": [
              "<Figure size 432x288 with 1 Axes>"
            ]
          },
          "metadata": {
            "needs_background": "light"
          }
        }
      ]
    },
    {
      "cell_type": "markdown",
      "source": [
        "\n",
        "\n",
        "---\n",
        "\n"
      ],
      "metadata": {
        "id": "VGPjZhD-BqkE"
      }
    },
    {
      "cell_type": "markdown",
      "metadata": {
        "id": "r9cVd8LXv0H6"
      },
      "source": [
        "Let's add another variable for the ordinal day of the **StartDateTime** to estimate the time of year when on location work will begin.  We can assign values to the new variable **OrdinalStartDay** using the **.dt.dayofyear()** method on the **StartDateTime** variable. "
      ]
    },
    {
      "cell_type": "code",
      "metadata": {
        "id": "4cBuWfyewkuA"
      },
      "source": [
        "df_fp['OrdinalStartDay'] = df_fp.StartDateTime.dt.dayofyear\n"
      ],
      "execution_count": 32,
      "outputs": []
    },
    {
      "cell_type": "code",
      "metadata": {
        "id": "i007-MALw7cO",
        "colab": {
          "base_uri": "https://localhost:8080/",
          "height": 300
        },
        "outputId": "97de4da0-60ee-4497-e00c-3f1db5cf3a18"
      },
      "source": [
        "df_fp.describe()"
      ],
      "execution_count": 33,
      "outputs": [
        {
          "output_type": "execute_result",
          "data": {
            "text/html": [
              "<div>\n",
              "<style scoped>\n",
              "    .dataframe tbody tr th:only-of-type {\n",
              "        vertical-align: middle;\n",
              "    }\n",
              "\n",
              "    .dataframe tbody tr th {\n",
              "        vertical-align: top;\n",
              "    }\n",
              "\n",
              "    .dataframe thead th {\n",
              "        text-align: right;\n",
              "    }\n",
              "</style>\n",
              "<table border=\"1\" class=\"dataframe\">\n",
              "  <thead>\n",
              "    <tr style=\"text-align: right;\">\n",
              "      <th></th>\n",
              "      <th>EventID</th>\n",
              "      <th>OnLocationTime</th>\n",
              "      <th>OrdinalStartDay</th>\n",
              "    </tr>\n",
              "  </thead>\n",
              "  <tbody>\n",
              "    <tr>\n",
              "      <th>count</th>\n",
              "      <td>72063.000000</td>\n",
              "      <td>72063.000000</td>\n",
              "      <td>72063.000000</td>\n",
              "    </tr>\n",
              "    <tr>\n",
              "      <th>mean</th>\n",
              "      <td>301498.570723</td>\n",
              "      <td>19.803700</td>\n",
              "      <td>190.400677</td>\n",
              "    </tr>\n",
              "    <tr>\n",
              "      <th>std</th>\n",
              "      <td>158318.188570</td>\n",
              "      <td>68.802816</td>\n",
              "      <td>102.416548</td>\n",
              "    </tr>\n",
              "    <tr>\n",
              "      <th>min</th>\n",
              "      <td>42069.000000</td>\n",
              "      <td>0.000000</td>\n",
              "      <td>1.000000</td>\n",
              "    </tr>\n",
              "    <tr>\n",
              "      <th>25%</th>\n",
              "      <td>165958.500000</td>\n",
              "      <td>13.000000</td>\n",
              "      <td>99.000000</td>\n",
              "    </tr>\n",
              "    <tr>\n",
              "      <th>50%</th>\n",
              "      <td>300861.000000</td>\n",
              "      <td>15.000000</td>\n",
              "      <td>200.000000</td>\n",
              "    </tr>\n",
              "    <tr>\n",
              "      <th>75%</th>\n",
              "      <td>440174.000000</td>\n",
              "      <td>16.000000</td>\n",
              "      <td>282.000000</td>\n",
              "    </tr>\n",
              "    <tr>\n",
              "      <th>max</th>\n",
              "      <td>600697.000000</td>\n",
              "      <td>8687.000000</td>\n",
              "      <td>366.000000</td>\n",
              "    </tr>\n",
              "  </tbody>\n",
              "</table>\n",
              "</div>"
            ],
            "text/plain": [
              "             EventID  OnLocationTime  OrdinalStartDay\n",
              "count   72063.000000    72063.000000     72063.000000\n",
              "mean   301498.570723       19.803700       190.400677\n",
              "std    158318.188570       68.802816       102.416548\n",
              "min     42069.000000        0.000000         1.000000\n",
              "25%    165958.500000       13.000000        99.000000\n",
              "50%    300861.000000       15.000000       200.000000\n",
              "75%    440174.000000       16.000000       282.000000\n",
              "max    600697.000000     8687.000000       366.000000"
            ]
          },
          "metadata": {},
          "execution_count": 33
        }
      ]
    },
    {
      "cell_type": "markdown",
      "source": [
        "\n",
        "\n",
        "---\n",
        "\n"
      ],
      "metadata": {
        "id": "FTeDOzpYBse3"
      }
    },
    {
      "cell_type": "markdown",
      "metadata": {
        "id": "nRGktq0BxExD"
      },
      "source": [
        "**Create Scatter Plot**\n",
        "\n",
        "A scatter plot shows the relationship between two continuous variables."
      ]
    },
    {
      "cell_type": "code",
      "metadata": {
        "id": "iZoC2uEBxJYm",
        "colab": {
          "base_uri": "https://localhost:8080/",
          "height": 312
        },
        "outputId": "774199ba-6156-41fb-c362-21741323714c"
      },
      "source": [
        "df_fp.plot(x=\"OnLocationTime\",\n",
        "        y=\"OrdinalStartDay\",\n",
        "        kind=\"scatter\",\n",
        "        title=\"Time on Location vs. Ordinal Start Day\")"
      ],
      "execution_count": 34,
      "outputs": [
        {
          "output_type": "execute_result",
          "data": {
            "text/plain": [
              "<matplotlib.axes._subplots.AxesSubplot at 0x7fb9bf222250>"
            ]
          },
          "metadata": {},
          "execution_count": 34
        },
        {
          "output_type": "display_data",
          "data": {
            "image/png": "[encoded data removed]",
            "text/plain": [
              "<Figure size 432x288 with 1 Axes>"
            ]
          },
          "metadata": {
            "needs_background": "light"
          }
        }
      ]
    },
    {
      "cell_type": "markdown",
      "metadata": {
        "id": "gsGHK7E8xVbD"
      },
      "source": [
        "**Create Histogram**\n",
        "\n",
        "A histogram of a continuous variable presents the distribution of the values of that variable. Instead of the **plot()** method, here we use the hist() method from **pyplot** in the **matplotlib** library on the Pandas DataFrame."
      ]
    },
    {
      "cell_type": "code",
      "metadata": {
        "id": "pZj2maR9yUFg",
        "colab": {
          "base_uri": "https://localhost:8080/",
          "height": 312
        },
        "outputId": "eec35a78-1b1f-4b0f-f2fa-f3b7f3832317"
      },
      "source": [
        "#import pyplot from matplotlib library \n",
        "import matplotlib.pyplot as mplot\n",
        "\n",
        "# create a histogram of TimeOnLocation by OrdinalStartDay\n",
        "df_fp.hist(column=\"OrdinalStartDay\",\n",
        "        bins=366,\n",
        "        grid=False)\n",
        "mplot.title(\"Histogram - Time on Location by Ordinal Start Day\")\n",
        "mplot.xlabel(\"TimeOnLocation\")\n"
      ],
      "execution_count": 35,
      "outputs": [
        {
          "output_type": "execute_result",
          "data": {
            "text/plain": [
              "Text(0.5, 0, 'TimeOnLocation')"
            ]
          },
          "metadata": {},
          "execution_count": 35
        },
        {
          "output_type": "display_data",
          "data": {
            "image/png": "[encoded data removed]",
            "text/plain": [
              "<Figure size 432x288 with 1 Axes>"
            ]
          },
          "metadata": {
            "needs_background": "light"
          }
        }
      ]
    },
    {
      "cell_type": "markdown",
      "metadata": {
        "id": "RdJd67T6zh6o"
      },
      "source": [
        "**Create a Heatmap**\n",
        "\n",
        "A heatmap can be used to visualize the correlation coefficients of continuous variables with a beautiful colourmap. Pairwise correlations between the variables can be calculated using the Pandas DataFrame **corr()** method. Then we use the Seaborn **heatmap()** function to create the heatmap.\n"
      ]
    },
    {
      "cell_type": "markdown",
      "metadata": {
        "id": "FNp3MAsT0l54"
      },
      "source": [
        "First things to do in creating a heatmap is to create an array for the heatmap to use.  That array should be wide not long, so we will want to pivot from the current df_fp Dataframe.\n"
      ]
    },
    {
      "cell_type": "code",
      "metadata": {
        "id": "U-0HawVC04MQ"
      },
      "source": [
        "# pivot the dataframe from long to wide form\n",
        "df_result = df_fp.groupby(['Borough']).mean()"
      ],
      "execution_count": 36,
      "outputs": []
    },
    {
      "cell_type": "code",
      "metadata": {
        "id": "XWIfSHeI2JjG",
        "colab": {
          "base_uri": "https://localhost:8080/",
          "height": 238
        },
        "outputId": "1c2ed7b8-d59c-49ae-99bb-163a6fbee633"
      },
      "source": [
        "df_result.head(5)"
      ],
      "execution_count": 37,
      "outputs": [
        {
          "output_type": "execute_result",
          "data": {
            "text/html": [
              "<div>\n",
              "<style scoped>\n",
              "    .dataframe tbody tr th:only-of-type {\n",
              "        vertical-align: middle;\n",
              "    }\n",
              "\n",
              "    .dataframe tbody tr th {\n",
              "        vertical-align: top;\n",
              "    }\n",
              "\n",
              "    .dataframe thead th {\n",
              "        text-align: right;\n",
              "    }\n",
              "</style>\n",
              "<table border=\"1\" class=\"dataframe\">\n",
              "  <thead>\n",
              "    <tr style=\"text-align: right;\">\n",
              "      <th></th>\n",
              "      <th>EventID</th>\n",
              "      <th>OnLocationTime</th>\n",
              "      <th>OrdinalStartDay</th>\n",
              "    </tr>\n",
              "    <tr>\n",
              "      <th>Borough</th>\n",
              "      <th></th>\n",
              "      <th></th>\n",
              "      <th></th>\n",
              "    </tr>\n",
              "  </thead>\n",
              "  <tbody>\n",
              "    <tr>\n",
              "      <th>Bronx</th>\n",
              "      <td>352808.472282</td>\n",
              "      <td>16.203266</td>\n",
              "      <td>184.736571</td>\n",
              "    </tr>\n",
              "    <tr>\n",
              "      <th>Brooklyn</th>\n",
              "      <td>310922.674249</td>\n",
              "      <td>16.088093</td>\n",
              "      <td>192.590652</td>\n",
              "    </tr>\n",
              "    <tr>\n",
              "      <th>Manhattan</th>\n",
              "      <td>287260.126504</td>\n",
              "      <td>23.868964</td>\n",
              "      <td>187.886715</td>\n",
              "    </tr>\n",
              "    <tr>\n",
              "      <th>Queens</th>\n",
              "      <td>314805.090411</td>\n",
              "      <td>15.981764</td>\n",
              "      <td>194.500771</td>\n",
              "    </tr>\n",
              "    <tr>\n",
              "      <th>Staten Island</th>\n",
              "      <td>308689.884534</td>\n",
              "      <td>15.185381</td>\n",
              "      <td>193.784958</td>\n",
              "    </tr>\n",
              "  </tbody>\n",
              "</table>\n",
              "</div>"
            ],
            "text/plain": [
              "                     EventID  OnLocationTime  OrdinalStartDay\n",
              "Borough                                                      \n",
              "Bronx          352808.472282       16.203266       184.736571\n",
              "Brooklyn       310922.674249       16.088093       192.590652\n",
              "Manhattan      287260.126504       23.868964       187.886715\n",
              "Queens         314805.090411       15.981764       194.500771\n",
              "Staten Island  308689.884534       15.185381       193.784958"
            ]
          },
          "metadata": {},
          "execution_count": 37
        }
      ]
    },
    {
      "cell_type": "code",
      "source": [
        "del df_result['EventID']"
      ],
      "metadata": {
        "id": "ZABDa4V_N1KD"
      },
      "execution_count": 38,
      "outputs": []
    },
    {
      "cell_type": "code",
      "source": [
        "df_result.head(5)"
      ],
      "metadata": {
        "colab": {
          "base_uri": "https://localhost:8080/",
          "height": 238
        },
        "id": "r3ibUV2jOBCc",
        "outputId": "16f31ee5-ab48-43e1-bed6-203631fec8a0"
      },
      "execution_count": 39,
      "outputs": [
        {
          "output_type": "execute_result",
          "data": {
            "text/html": [
              "<div>\n",
              "<style scoped>\n",
              "    .dataframe tbody tr th:only-of-type {\n",
              "        vertical-align: middle;\n",
              "    }\n",
              "\n",
              "    .dataframe tbody tr th {\n",
              "        vertical-align: top;\n",
              "    }\n",
              "\n",
              "    .dataframe thead th {\n",
              "        text-align: right;\n",
              "    }\n",
              "</style>\n",
              "<table border=\"1\" class=\"dataframe\">\n",
              "  <thead>\n",
              "    <tr style=\"text-align: right;\">\n",
              "      <th></th>\n",
              "      <th>OnLocationTime</th>\n",
              "      <th>OrdinalStartDay</th>\n",
              "    </tr>\n",
              "    <tr>\n",
              "      <th>Borough</th>\n",
              "      <th></th>\n",
              "      <th></th>\n",
              "    </tr>\n",
              "  </thead>\n",
              "  <tbody>\n",
              "    <tr>\n",
              "      <th>Bronx</th>\n",
              "      <td>16.203266</td>\n",
              "      <td>184.736571</td>\n",
              "    </tr>\n",
              "    <tr>\n",
              "      <th>Brooklyn</th>\n",
              "      <td>16.088093</td>\n",
              "      <td>192.590652</td>\n",
              "    </tr>\n",
              "    <tr>\n",
              "      <th>Manhattan</th>\n",
              "      <td>23.868964</td>\n",
              "      <td>187.886715</td>\n",
              "    </tr>\n",
              "    <tr>\n",
              "      <th>Queens</th>\n",
              "      <td>15.981764</td>\n",
              "      <td>194.500771</td>\n",
              "    </tr>\n",
              "    <tr>\n",
              "      <th>Staten Island</th>\n",
              "      <td>15.185381</td>\n",
              "      <td>193.784958</td>\n",
              "    </tr>\n",
              "  </tbody>\n",
              "</table>\n",
              "</div>"
            ],
            "text/plain": [
              "               OnLocationTime  OrdinalStartDay\n",
              "Borough                                       \n",
              "Bronx               16.203266       184.736571\n",
              "Brooklyn            16.088093       192.590652\n",
              "Manhattan           23.868964       187.886715\n",
              "Queens              15.981764       194.500771\n",
              "Staten Island       15.185381       193.784958"
            ]
          },
          "metadata": {},
          "execution_count": 39
        }
      ]
    },
    {
      "cell_type": "code",
      "source": [
        "df_result['ReallyLong'] = df_result['OnLocationTime']*10"
      ],
      "metadata": {
        "id": "cpkO-dBUOPTl"
      },
      "execution_count": 41,
      "outputs": []
    },
    {
      "cell_type": "code",
      "source": [
        "del df_result['OnLocationTime']"
      ],
      "metadata": {
        "id": "Fhdy5XCZOlKw"
      },
      "execution_count": 42,
      "outputs": []
    },
    {
      "cell_type": "code",
      "source": [
        "df_result.head(5)"
      ],
      "metadata": {
        "colab": {
          "base_uri": "https://localhost:8080/",
          "height": 238
        },
        "id": "cyyNkkirOoeh",
        "outputId": "5494eb7c-c396-4742-9515-14da140bb951"
      },
      "execution_count": 43,
      "outputs": [
        {
          "output_type": "execute_result",
          "data": {
            "text/html": [
              "<div>\n",
              "<style scoped>\n",
              "    .dataframe tbody tr th:only-of-type {\n",
              "        vertical-align: middle;\n",
              "    }\n",
              "\n",
              "    .dataframe tbody tr th {\n",
              "        vertical-align: top;\n",
              "    }\n",
              "\n",
              "    .dataframe thead th {\n",
              "        text-align: right;\n",
              "    }\n",
              "</style>\n",
              "<table border=\"1\" class=\"dataframe\">\n",
              "  <thead>\n",
              "    <tr style=\"text-align: right;\">\n",
              "      <th></th>\n",
              "      <th>OrdinalStartDay</th>\n",
              "      <th>ReallyLong</th>\n",
              "    </tr>\n",
              "    <tr>\n",
              "      <th>Borough</th>\n",
              "      <th></th>\n",
              "      <th></th>\n",
              "    </tr>\n",
              "  </thead>\n",
              "  <tbody>\n",
              "    <tr>\n",
              "      <th>Bronx</th>\n",
              "      <td>184.736571</td>\n",
              "      <td>162.032660</td>\n",
              "    </tr>\n",
              "    <tr>\n",
              "      <th>Brooklyn</th>\n",
              "      <td>192.590652</td>\n",
              "      <td>160.880926</td>\n",
              "    </tr>\n",
              "    <tr>\n",
              "      <th>Manhattan</th>\n",
              "      <td>187.886715</td>\n",
              "      <td>238.689641</td>\n",
              "    </tr>\n",
              "    <tr>\n",
              "      <th>Queens</th>\n",
              "      <td>194.500771</td>\n",
              "      <td>159.817637</td>\n",
              "    </tr>\n",
              "    <tr>\n",
              "      <th>Staten Island</th>\n",
              "      <td>193.784958</td>\n",
              "      <td>151.853814</td>\n",
              "    </tr>\n",
              "  </tbody>\n",
              "</table>\n",
              "</div>"
            ],
            "text/plain": [
              "               OrdinalStartDay  ReallyLong\n",
              "Borough                                   \n",
              "Bronx               184.736571  162.032660\n",
              "Brooklyn            192.590652  160.880926\n",
              "Manhattan           187.886715  238.689641\n",
              "Queens              194.500771  159.817637\n",
              "Staten Island       193.784958  151.853814"
            ]
          },
          "metadata": {},
          "execution_count": 43
        }
      ]
    },
    {
      "cell_type": "code",
      "metadata": {
        "id": "CFRb-q9szjeW",
        "colab": {
          "base_uri": "https://localhost:8080/",
          "height": 265
        },
        "outputId": "b9adb5e3-06e9-4f88-cb3b-b6346b327fed"
      },
      "source": [
        "# import pyplot from matplotlib library \n",
        "import matplotlib.pyplot as mplot\n",
        "# import seaborn as sns\n",
        "import seaborn as sns\n",
        "\n",
        "# create a heatmap using Seaborn (sns)\n",
        "sns.heatmap(df_result, annot=True, fmt=\"g\", cmap='viridis')\n",
        "mplot.show()"
      ],
      "execution_count": 44,
      "outputs": [
        {
          "output_type": "display_data",
          "data": {
            "image/png": "[encoded data removed]",
            "text/plain": [
              "<Figure size 432x288 with 2 Axes>"
            ]
          },
          "metadata": {
            "needs_background": "light"
          }
        }
      ]
    },
    {
      "cell_type": "markdown",
      "metadata": {
        "id": "L4aBrqbI7a0w"
      },
      "source": [
        "**Create a Scatter Matrix**\n",
        "\n",
        "\n",
        "A scatter matrix contains pairwise scatter plots between the continuous variables. They are very useful in machine learning to see which variable are useful in building a model. By default, the diagonal of the scatter matrix contains histograms of each continuous variable itself. The Pandas plotting subpackage provides the **scatter_matrix()** function that can be used to create a scatter matrix."
      ]
    },
    {
      "cell_type": "code",
      "metadata": {
        "id": "NmKuAgC17cFq",
        "colab": {
          "base_uri": "https://localhost:8080/",
          "height": 1000
        },
        "outputId": "a4a9def3-a197-423c-cc96-75a414e1cb0b"
      },
      "source": [
        "from pandas.plotting import scatter_matrix\n",
        "\n",
        "scatter_matrix(df_fp, figsize=(15,15))"
      ],
      "execution_count": 46,
      "outputs": [
        {
          "output_type": "execute_result",
          "data": {
            "text/plain": [
              "array([[<matplotlib.axes._subplots.AxesSubplot object at 0x7fb9b1800790>,\n",
              "        <matplotlib.axes._subplots.AxesSubplot object at 0x7fb9b1790790>,\n",
              "        <matplotlib.axes._subplots.AxesSubplot object at 0x7fb9b1760c10>],\n",
              "       [<matplotlib.axes._subplots.AxesSubplot object at 0x7fb9b1723250>,\n",
              "        <matplotlib.axes._subplots.AxesSubplot object at 0x7fb9b16d6850>,\n",
              "        <matplotlib.axes._subplots.AxesSubplot object at 0x7fb9b168be50>],\n",
              "       [<matplotlib.axes._subplots.AxesSubplot object at 0x7fb9b164f510>,\n",
              "        <matplotlib.axes._subplots.AxesSubplot object at 0x7fb9b1607a50>,\n",
              "        <matplotlib.axes._subplots.AxesSubplot object at 0x7fb9b1607a90>]],\n",
              "      dtype=object)"
            ]
          },
          "metadata": {},
          "execution_count": 46
        },
        {
          "output_type": "display_data",
          "data": {
            "image/png": "[encoded data removed]",
            "text/plain": [
              "<Figure size 1080x1080 with 9 Axes>"
            ]
          },
          "metadata": {
            "needs_background": "light"
          }
        }
      ]
    },
    {
      "cell_type": "markdown",
      "metadata": {
        "id": "MYp850YH7yC5"
      },
      "source": [
        "Given our source data, some of the aforementioned plots and graphical representations are not appropriate but they do provide examples of discovery analysis which may be used against other data sets.\n",
        "\n",
        "For more information see [Pandas Visualization Tools](https://pbpython.com/dataframe-gui-overview.html) by Chris Moffitt in Practical Business Python. "
      ]
    },
    {
      "cell_type": "markdown",
      "metadata": {
        "id": "vb5EpUVn9Odg"
      },
      "source": [
        "\n",
        "\n",
        "---\n",
        "\n"
      ]
    },
    {
      "cell_type": "markdown",
      "source": [
        "**Create an Area Plot**\n",
        "\n",
        "An area chart, plot, or  graph displays graphically quantitative data. It is based on the line chart. The area between axis and line are commonly emphasized with colors, textures and hatchings. Commonly one compares two or more quantities with an area chart."
      ],
      "metadata": {
        "id": "7SGIV0kjGg9n"
      }
    },
    {
      "cell_type": "markdown",
      "source": [
        "Let's  create new **df_fp** variables 'PermitsNYC', 'PermitsSI', 'PermitsBK', 'PermitsQNS','PermitsBX' which each have a value of 1 for each row where a permit was issued in there respective Borough."
      ],
      "metadata": {
        "id": "eljJZXzM7uD6"
      }
    },
    {
      "cell_type": "code",
      "source": [
        "df_fp['PermitsNYC'] = np.where(df_fp['Borough'] == \"Manhattan\",     1, 0)\n",
        "\n",
        "df_fp['PermitsSI'] = np.where(df_fp['Borough']  == \"Staten Island\", 1, 0)\n",
        "\n",
        "df_fp['PermitsBK'] = np.where(df_fp['Borough']  == \"Brooklyn\",      1, 0)\n",
        "\n",
        "df_fp['PermitsQNS'] = np.where(df_fp['Borough'] == \"Queens\",        1, 0)\n",
        "\n",
        "df_fp['PermitsBX'] = np.where(df_fp['Borough']  == \"Bronx\",         1, 0)"
      ],
      "metadata": {
        "id": "0uLvN3VL8FRA"
      },
      "execution_count": 48,
      "outputs": []
    },
    {
      "cell_type": "code",
      "source": [
        "df_fp.info()"
      ],
      "metadata": {
        "colab": {
          "base_uri": "https://localhost:8080/"
        },
        "id": "gmpLaef1QkaJ",
        "outputId": "6253d0a7-ce2c-49d2-d3d7-5d56eee07844"
      },
      "execution_count": 49,
      "outputs": [
        {
          "output_type": "stream",
          "name": "stdout",
          "text": [
            "<class 'pandas.core.frame.DataFrame'>\n",
            "RangeIndex: 72063 entries, 0 to 72062\n",
            "Data columns (total 22 columns):\n",
            " #   Column           Non-Null Count  Dtype         \n",
            "---  ------           --------------  -----         \n",
            " 0   EventID          72063 non-null  int64         \n",
            " 1   EventType        72063 non-null  object        \n",
            " 2   StartDateTime    72063 non-null  datetime64[ns]\n",
            " 3   EndDateTime      72063 non-null  datetime64[ns]\n",
            " 4   EnteredOn        72063 non-null  datetime64[ns]\n",
            " 5   EventAgency      72063 non-null  object        \n",
            " 6   ParkingHeld      72063 non-null  object        \n",
            " 7   Borough          72063 non-null  object        \n",
            " 8   CommunityBoards  72045 non-null  object        \n",
            " 9   PolicePrecincts  72045 non-null  object        \n",
            " 10  Category         72063 non-null  object        \n",
            " 11  SubCategoryName  72063 non-null  object        \n",
            " 12  Country          72063 non-null  object        \n",
            " 13  ZipCodes         72045 non-null  object        \n",
            " 14  Date             72063 non-null  object        \n",
            " 15  OnLocationTime   72063 non-null  float64       \n",
            " 16  OrdinalStartDay  72063 non-null  int64         \n",
            " 17  PermitsNYC       72063 non-null  int64         \n",
            " 18  PermitsSI        72063 non-null  int64         \n",
            " 19  PermitsBK        72063 non-null  int64         \n",
            " 20  PermitsQNS       72063 non-null  int64         \n",
            " 21  PermitsBX        72063 non-null  int64         \n",
            "dtypes: datetime64[ns](3), float64(1), int64(7), object(11)\n",
            "memory usage: 12.1+ MB\n"
          ]
        }
      ]
    },
    {
      "cell_type": "markdown",
      "source": [
        "Let's create a DataFrame **df_boro** with ['Date', 'Borough', 'PermitsNYC',  'PermitsSI', 'PermitsBK', 'PermitsQNS', 'PermitsBX'] for film permits in **df_fp**"
      ],
      "metadata": {
        "id": "y3kN9HX13quX"
      }
    },
    {
      "cell_type": "code",
      "source": [
        "df_boro = df_fp[['Date', 'PermitsBK', 'PermitsBX', 'PermitsSI', 'PermitsQNS', 'PermitsNYC']]"
      ],
      "metadata": {
        "id": "hrnFXKhV7Y2O"
      },
      "execution_count": 50,
      "outputs": []
    },
    {
      "cell_type": "code",
      "source": [
        "df_boro.info()"
      ],
      "metadata": {
        "colab": {
          "base_uri": "https://localhost:8080/"
        },
        "id": "izy0WwoFQ3BG",
        "outputId": "0b534d6a-47c0-42f9-bea8-78e6221919d9"
      },
      "execution_count": 51,
      "outputs": [
        {
          "output_type": "stream",
          "name": "stdout",
          "text": [
            "<class 'pandas.core.frame.DataFrame'>\n",
            "RangeIndex: 72063 entries, 0 to 72062\n",
            "Data columns (total 6 columns):\n",
            " #   Column      Non-Null Count  Dtype \n",
            "---  ------      --------------  ----- \n",
            " 0   Date        72063 non-null  object\n",
            " 1   PermitsBK   72063 non-null  int64 \n",
            " 2   PermitsBX   72063 non-null  int64 \n",
            " 3   PermitsSI   72063 non-null  int64 \n",
            " 4   PermitsQNS  72063 non-null  int64 \n",
            " 5   PermitsNYC  72063 non-null  int64 \n",
            "dtypes: int64(5), object(1)\n",
            "memory usage: 3.3+ MB\n"
          ]
        }
      ]
    },
    {
      "cell_type": "code",
      "source": [
        "df_boro.head()"
      ],
      "metadata": {
        "colab": {
          "base_uri": "https://localhost:8080/",
          "height": 206
        },
        "id": "TMuXTroPQ7C5",
        "outputId": "974e4014-9772-46d7-9b09-f23ab80cfe8a"
      },
      "execution_count": 57,
      "outputs": [
        {
          "output_type": "execute_result",
          "data": {
            "text/html": [
              "<div>\n",
              "<style scoped>\n",
              "    .dataframe tbody tr th:only-of-type {\n",
              "        vertical-align: middle;\n",
              "    }\n",
              "\n",
              "    .dataframe tbody tr th {\n",
              "        vertical-align: top;\n",
              "    }\n",
              "\n",
              "    .dataframe thead th {\n",
              "        text-align: right;\n",
              "    }\n",
              "</style>\n",
              "<table border=\"1\" class=\"dataframe\">\n",
              "  <thead>\n",
              "    <tr style=\"text-align: right;\">\n",
              "      <th></th>\n",
              "      <th>Date</th>\n",
              "      <th>PermitsBK</th>\n",
              "      <th>PermitsBX</th>\n",
              "      <th>PermitsSI</th>\n",
              "      <th>PermitsQNS</th>\n",
              "      <th>PermitsNYC</th>\n",
              "    </tr>\n",
              "  </thead>\n",
              "  <tbody>\n",
              "    <tr>\n",
              "      <th>0</th>\n",
              "      <td>2018-10-19</td>\n",
              "      <td>0</td>\n",
              "      <td>0</td>\n",
              "      <td>0</td>\n",
              "      <td>0</td>\n",
              "      <td>1</td>\n",
              "    </tr>\n",
              "    <tr>\n",
              "      <th>1</th>\n",
              "      <td>2018-10-19</td>\n",
              "      <td>0</td>\n",
              "      <td>0</td>\n",
              "      <td>0</td>\n",
              "      <td>0</td>\n",
              "      <td>1</td>\n",
              "    </tr>\n",
              "    <tr>\n",
              "      <th>2</th>\n",
              "      <td>2014-10-30</td>\n",
              "      <td>0</td>\n",
              "      <td>0</td>\n",
              "      <td>0</td>\n",
              "      <td>1</td>\n",
              "      <td>0</td>\n",
              "    </tr>\n",
              "    <tr>\n",
              "      <th>3</th>\n",
              "      <td>2018-10-20</td>\n",
              "      <td>1</td>\n",
              "      <td>0</td>\n",
              "      <td>0</td>\n",
              "      <td>0</td>\n",
              "      <td>0</td>\n",
              "    </tr>\n",
              "    <tr>\n",
              "      <th>4</th>\n",
              "      <td>2013-11-16</td>\n",
              "      <td>0</td>\n",
              "      <td>0</td>\n",
              "      <td>0</td>\n",
              "      <td>0</td>\n",
              "      <td>1</td>\n",
              "    </tr>\n",
              "  </tbody>\n",
              "</table>\n",
              "</div>"
            ],
            "text/plain": [
              "         Date  PermitsBK  PermitsBX  PermitsSI  PermitsQNS  PermitsNYC\n",
              "0  2018-10-19          0          0          0           0           1\n",
              "1  2018-10-19          0          0          0           0           1\n",
              "2  2014-10-30          0          0          0           1           0\n",
              "3  2018-10-20          1          0          0           0           0\n",
              "4  2013-11-16          0          0          0           0           1"
            ]
          },
          "metadata": {},
          "execution_count": 57
        }
      ]
    },
    {
      "cell_type": "markdown",
      "source": [
        "Now we can sort our new **df_boro** DataFrame by 'Date'."
      ],
      "metadata": {
        "id": "OrnEapK1CCs7"
      }
    },
    {
      "cell_type": "code",
      "source": [
        "df_boro_sorted = df_boro.sort_values('Date')"
      ],
      "metadata": {
        "id": "pp9x6n88CKhG"
      },
      "execution_count": 53,
      "outputs": []
    },
    {
      "cell_type": "code",
      "source": [
        "df_boro_sorted.head()"
      ],
      "metadata": {
        "colab": {
          "base_uri": "https://localhost:8080/",
          "height": 206
        },
        "id": "XCGrJ9T2RLFx",
        "outputId": "f5222fcb-0fb5-4bda-bcd1-f69e3db2886a"
      },
      "execution_count": 56,
      "outputs": [
        {
          "output_type": "execute_result",
          "data": {
            "text/html": [
              "<div>\n",
              "<style scoped>\n",
              "    .dataframe tbody tr th:only-of-type {\n",
              "        vertical-align: middle;\n",
              "    }\n",
              "\n",
              "    .dataframe tbody tr th {\n",
              "        vertical-align: top;\n",
              "    }\n",
              "\n",
              "    .dataframe thead th {\n",
              "        text-align: right;\n",
              "    }\n",
              "</style>\n",
              "<table border=\"1\" class=\"dataframe\">\n",
              "  <thead>\n",
              "    <tr style=\"text-align: right;\">\n",
              "      <th></th>\n",
              "      <th>Date</th>\n",
              "      <th>PermitsBK</th>\n",
              "      <th>PermitsBX</th>\n",
              "      <th>PermitsSI</th>\n",
              "      <th>PermitsQNS</th>\n",
              "      <th>PermitsNYC</th>\n",
              "    </tr>\n",
              "  </thead>\n",
              "  <tbody>\n",
              "    <tr>\n",
              "      <th>6313</th>\n",
              "      <td>2012-01-01</td>\n",
              "      <td>0</td>\n",
              "      <td>0</td>\n",
              "      <td>0</td>\n",
              "      <td>0</td>\n",
              "      <td>1</td>\n",
              "    </tr>\n",
              "    <tr>\n",
              "      <th>27195</th>\n",
              "      <td>2012-01-02</td>\n",
              "      <td>1</td>\n",
              "      <td>0</td>\n",
              "      <td>0</td>\n",
              "      <td>0</td>\n",
              "      <td>0</td>\n",
              "    </tr>\n",
              "    <tr>\n",
              "      <th>14506</th>\n",
              "      <td>2012-01-02</td>\n",
              "      <td>0</td>\n",
              "      <td>0</td>\n",
              "      <td>0</td>\n",
              "      <td>0</td>\n",
              "      <td>1</td>\n",
              "    </tr>\n",
              "    <tr>\n",
              "      <th>3483</th>\n",
              "      <td>2012-01-02</td>\n",
              "      <td>0</td>\n",
              "      <td>0</td>\n",
              "      <td>0</td>\n",
              "      <td>0</td>\n",
              "      <td>1</td>\n",
              "    </tr>\n",
              "    <tr>\n",
              "      <th>23603</th>\n",
              "      <td>2012-01-02</td>\n",
              "      <td>0</td>\n",
              "      <td>0</td>\n",
              "      <td>0</td>\n",
              "      <td>0</td>\n",
              "      <td>1</td>\n",
              "    </tr>\n",
              "  </tbody>\n",
              "</table>\n",
              "</div>"
            ],
            "text/plain": [
              "             Date  PermitsBK  PermitsBX  PermitsSI  PermitsQNS  PermitsNYC\n",
              "6313   2012-01-01          0          0          0           0           1\n",
              "27195  2012-01-02          1          0          0           0           0\n",
              "14506  2012-01-02          0          0          0           0           1\n",
              "3483   2012-01-02          0          0          0           0           1\n",
              "23603  2012-01-02          0          0          0           0           1"
            ]
          },
          "metadata": {},
          "execution_count": 56
        }
      ]
    },
    {
      "cell_type": "code",
      "source": [
        "df_boro_sorted.tail()"
      ],
      "metadata": {
        "colab": {
          "base_uri": "https://localhost:8080/",
          "height": 206
        },
        "id": "m2j4hlwARkj1",
        "outputId": "86d7797c-042c-4e9e-bce4-da98179c7840"
      },
      "execution_count": 59,
      "outputs": [
        {
          "output_type": "execute_result",
          "data": {
            "text/html": [
              "<div>\n",
              "<style scoped>\n",
              "    .dataframe tbody tr th:only-of-type {\n",
              "        vertical-align: middle;\n",
              "    }\n",
              "\n",
              "    .dataframe tbody tr th {\n",
              "        vertical-align: top;\n",
              "    }\n",
              "\n",
              "    .dataframe thead th {\n",
              "        text-align: right;\n",
              "    }\n",
              "</style>\n",
              "<table border=\"1\" class=\"dataframe\">\n",
              "  <thead>\n",
              "    <tr style=\"text-align: right;\">\n",
              "      <th></th>\n",
              "      <th>Date</th>\n",
              "      <th>PermitsBK</th>\n",
              "      <th>PermitsBX</th>\n",
              "      <th>PermitsSI</th>\n",
              "      <th>PermitsQNS</th>\n",
              "      <th>PermitsNYC</th>\n",
              "    </tr>\n",
              "  </thead>\n",
              "  <tbody>\n",
              "    <tr>\n",
              "      <th>72036</th>\n",
              "      <td>2021-09-03</td>\n",
              "      <td>0</td>\n",
              "      <td>0</td>\n",
              "      <td>0</td>\n",
              "      <td>0</td>\n",
              "      <td>1</td>\n",
              "    </tr>\n",
              "    <tr>\n",
              "      <th>72034</th>\n",
              "      <td>2021-09-03</td>\n",
              "      <td>0</td>\n",
              "      <td>0</td>\n",
              "      <td>0</td>\n",
              "      <td>0</td>\n",
              "      <td>1</td>\n",
              "    </tr>\n",
              "    <tr>\n",
              "      <th>72032</th>\n",
              "      <td>2021-09-03</td>\n",
              "      <td>1</td>\n",
              "      <td>0</td>\n",
              "      <td>0</td>\n",
              "      <td>0</td>\n",
              "      <td>0</td>\n",
              "    </tr>\n",
              "    <tr>\n",
              "      <th>72018</th>\n",
              "      <td>2021-09-03</td>\n",
              "      <td>1</td>\n",
              "      <td>0</td>\n",
              "      <td>0</td>\n",
              "      <td>0</td>\n",
              "      <td>0</td>\n",
              "    </tr>\n",
              "    <tr>\n",
              "      <th>72037</th>\n",
              "      <td>2021-09-03</td>\n",
              "      <td>0</td>\n",
              "      <td>0</td>\n",
              "      <td>0</td>\n",
              "      <td>1</td>\n",
              "      <td>0</td>\n",
              "    </tr>\n",
              "  </tbody>\n",
              "</table>\n",
              "</div>"
            ],
            "text/plain": [
              "             Date  PermitsBK  PermitsBX  PermitsSI  PermitsQNS  PermitsNYC\n",
              "72036  2021-09-03          0          0          0           0           1\n",
              "72034  2021-09-03          0          0          0           0           1\n",
              "72032  2021-09-03          1          0          0           0           0\n",
              "72018  2021-09-03          1          0          0           0           0\n",
              "72037  2021-09-03          0          0          0           1           0"
            ]
          },
          "metadata": {},
          "execution_count": 59
        }
      ]
    },
    {
      "cell_type": "code",
      "source": [
        "df_boro_ready = df_boro_sorted.groupby('Date').sum()"
      ],
      "metadata": {
        "id": "IDnDKbLnCzhy"
      },
      "execution_count": 60,
      "outputs": []
    },
    {
      "cell_type": "code",
      "source": [
        "df_boro_ready.info()"
      ],
      "metadata": {
        "colab": {
          "base_uri": "https://localhost:8080/"
        },
        "id": "xERN68OERwcQ",
        "outputId": "57c963fa-23ad-44e5-cd8e-5ec4886ecb25"
      },
      "execution_count": 61,
      "outputs": [
        {
          "output_type": "stream",
          "name": "stdout",
          "text": [
            "<class 'pandas.core.frame.DataFrame'>\n",
            "Index: 3335 entries, 2012-01-01 to 2021-09-03\n",
            "Data columns (total 5 columns):\n",
            " #   Column      Non-Null Count  Dtype\n",
            "---  ------      --------------  -----\n",
            " 0   PermitsBK   3335 non-null   int64\n",
            " 1   PermitsBX   3335 non-null   int64\n",
            " 2   PermitsSI   3335 non-null   int64\n",
            " 3   PermitsQNS  3335 non-null   int64\n",
            " 4   PermitsNYC  3335 non-null   int64\n",
            "dtypes: int64(5)\n",
            "memory usage: 156.3+ KB\n"
          ]
        }
      ]
    },
    {
      "cell_type": "markdown",
      "source": [
        "Let's look at that new **df_boro_ready** DataFrame."
      ],
      "metadata": {
        "id": "sp2UutCq_vTI"
      }
    },
    {
      "cell_type": "code",
      "source": [
        "df_boro_ready.head(10)"
      ],
      "metadata": {
        "id": "di2tP9WI4aK7",
        "colab": {
          "base_uri": "https://localhost:8080/",
          "height": 394
        },
        "outputId": "5c6da4ad-8ecb-4db4-978f-b98bdeb13d7e"
      },
      "execution_count": 62,
      "outputs": [
        {
          "output_type": "execute_result",
          "data": {
            "text/html": [
              "<div>\n",
              "<style scoped>\n",
              "    .dataframe tbody tr th:only-of-type {\n",
              "        vertical-align: middle;\n",
              "    }\n",
              "\n",
              "    .dataframe tbody tr th {\n",
              "        vertical-align: top;\n",
              "    }\n",
              "\n",
              "    .dataframe thead th {\n",
              "        text-align: right;\n",
              "    }\n",
              "</style>\n",
              "<table border=\"1\" class=\"dataframe\">\n",
              "  <thead>\n",
              "    <tr style=\"text-align: right;\">\n",
              "      <th></th>\n",
              "      <th>PermitsBK</th>\n",
              "      <th>PermitsBX</th>\n",
              "      <th>PermitsSI</th>\n",
              "      <th>PermitsQNS</th>\n",
              "      <th>PermitsNYC</th>\n",
              "    </tr>\n",
              "    <tr>\n",
              "      <th>Date</th>\n",
              "      <th></th>\n",
              "      <th></th>\n",
              "      <th></th>\n",
              "      <th></th>\n",
              "      <th></th>\n",
              "    </tr>\n",
              "  </thead>\n",
              "  <tbody>\n",
              "    <tr>\n",
              "      <th>2012-01-01</th>\n",
              "      <td>0</td>\n",
              "      <td>0</td>\n",
              "      <td>0</td>\n",
              "      <td>0</td>\n",
              "      <td>1</td>\n",
              "    </tr>\n",
              "    <tr>\n",
              "      <th>2012-01-02</th>\n",
              "      <td>1</td>\n",
              "      <td>0</td>\n",
              "      <td>0</td>\n",
              "      <td>0</td>\n",
              "      <td>6</td>\n",
              "    </tr>\n",
              "    <tr>\n",
              "      <th>2012-01-03</th>\n",
              "      <td>1</td>\n",
              "      <td>1</td>\n",
              "      <td>0</td>\n",
              "      <td>3</td>\n",
              "      <td>3</td>\n",
              "    </tr>\n",
              "    <tr>\n",
              "      <th>2012-01-04</th>\n",
              "      <td>2</td>\n",
              "      <td>0</td>\n",
              "      <td>0</td>\n",
              "      <td>3</td>\n",
              "      <td>7</td>\n",
              "    </tr>\n",
              "    <tr>\n",
              "      <th>2012-01-05</th>\n",
              "      <td>3</td>\n",
              "      <td>0</td>\n",
              "      <td>0</td>\n",
              "      <td>2</td>\n",
              "      <td>5</td>\n",
              "    </tr>\n",
              "    <tr>\n",
              "      <th>2012-01-06</th>\n",
              "      <td>9</td>\n",
              "      <td>0</td>\n",
              "      <td>0</td>\n",
              "      <td>1</td>\n",
              "      <td>4</td>\n",
              "    </tr>\n",
              "    <tr>\n",
              "      <th>2012-01-07</th>\n",
              "      <td>1</td>\n",
              "      <td>0</td>\n",
              "      <td>0</td>\n",
              "      <td>0</td>\n",
              "      <td>0</td>\n",
              "    </tr>\n",
              "    <tr>\n",
              "      <th>2012-01-08</th>\n",
              "      <td>2</td>\n",
              "      <td>0</td>\n",
              "      <td>0</td>\n",
              "      <td>0</td>\n",
              "      <td>3</td>\n",
              "    </tr>\n",
              "    <tr>\n",
              "      <th>2012-01-09</th>\n",
              "      <td>7</td>\n",
              "      <td>1</td>\n",
              "      <td>0</td>\n",
              "      <td>1</td>\n",
              "      <td>7</td>\n",
              "    </tr>\n",
              "    <tr>\n",
              "      <th>2012-01-10</th>\n",
              "      <td>6</td>\n",
              "      <td>1</td>\n",
              "      <td>0</td>\n",
              "      <td>0</td>\n",
              "      <td>10</td>\n",
              "    </tr>\n",
              "  </tbody>\n",
              "</table>\n",
              "</div>"
            ],
            "text/plain": [
              "            PermitsBK  PermitsBX  PermitsSI  PermitsQNS  PermitsNYC\n",
              "Date                                                               \n",
              "2012-01-01          0          0          0           0           1\n",
              "2012-01-02          1          0          0           0           6\n",
              "2012-01-03          1          1          0           3           3\n",
              "2012-01-04          2          0          0           3           7\n",
              "2012-01-05          3          0          0           2           5\n",
              "2012-01-06          9          0          0           1           4\n",
              "2012-01-07          1          0          0           0           0\n",
              "2012-01-08          2          0          0           0           3\n",
              "2012-01-09          7          1          0           1           7\n",
              "2012-01-10          6          1          0           0          10"
            ]
          },
          "metadata": {},
          "execution_count": 62
        }
      ]
    },
    {
      "cell_type": "code",
      "source": [
        "df_boro_ready.tail(10)"
      ],
      "metadata": {
        "colab": {
          "base_uri": "https://localhost:8080/",
          "height": 394
        },
        "id": "Hh6qt2arSGtf",
        "outputId": "f2457522-043a-417f-8fda-fff5437a6297"
      },
      "execution_count": 64,
      "outputs": [
        {
          "output_type": "execute_result",
          "data": {
            "text/html": [
              "<div>\n",
              "<style scoped>\n",
              "    .dataframe tbody tr th:only-of-type {\n",
              "        vertical-align: middle;\n",
              "    }\n",
              "\n",
              "    .dataframe tbody tr th {\n",
              "        vertical-align: top;\n",
              "    }\n",
              "\n",
              "    .dataframe thead th {\n",
              "        text-align: right;\n",
              "    }\n",
              "</style>\n",
              "<table border=\"1\" class=\"dataframe\">\n",
              "  <thead>\n",
              "    <tr style=\"text-align: right;\">\n",
              "      <th></th>\n",
              "      <th>PermitsBK</th>\n",
              "      <th>PermitsBX</th>\n",
              "      <th>PermitsSI</th>\n",
              "      <th>PermitsQNS</th>\n",
              "      <th>PermitsNYC</th>\n",
              "    </tr>\n",
              "    <tr>\n",
              "      <th>Date</th>\n",
              "      <th></th>\n",
              "      <th></th>\n",
              "      <th></th>\n",
              "      <th></th>\n",
              "      <th></th>\n",
              "    </tr>\n",
              "  </thead>\n",
              "  <tbody>\n",
              "    <tr>\n",
              "      <th>2021-08-25</th>\n",
              "      <td>11</td>\n",
              "      <td>3</td>\n",
              "      <td>0</td>\n",
              "      <td>4</td>\n",
              "      <td>8</td>\n",
              "    </tr>\n",
              "    <tr>\n",
              "      <th>2021-08-26</th>\n",
              "      <td>7</td>\n",
              "      <td>2</td>\n",
              "      <td>0</td>\n",
              "      <td>7</td>\n",
              "      <td>12</td>\n",
              "    </tr>\n",
              "    <tr>\n",
              "      <th>2021-08-27</th>\n",
              "      <td>8</td>\n",
              "      <td>2</td>\n",
              "      <td>0</td>\n",
              "      <td>6</td>\n",
              "      <td>9</td>\n",
              "    </tr>\n",
              "    <tr>\n",
              "      <th>2021-08-28</th>\n",
              "      <td>3</td>\n",
              "      <td>0</td>\n",
              "      <td>0</td>\n",
              "      <td>1</td>\n",
              "      <td>1</td>\n",
              "    </tr>\n",
              "    <tr>\n",
              "      <th>2021-08-29</th>\n",
              "      <td>1</td>\n",
              "      <td>0</td>\n",
              "      <td>0</td>\n",
              "      <td>0</td>\n",
              "      <td>3</td>\n",
              "    </tr>\n",
              "    <tr>\n",
              "      <th>2021-08-30</th>\n",
              "      <td>8</td>\n",
              "      <td>1</td>\n",
              "      <td>0</td>\n",
              "      <td>7</td>\n",
              "      <td>8</td>\n",
              "    </tr>\n",
              "    <tr>\n",
              "      <th>2021-08-31</th>\n",
              "      <td>5</td>\n",
              "      <td>1</td>\n",
              "      <td>0</td>\n",
              "      <td>7</td>\n",
              "      <td>10</td>\n",
              "    </tr>\n",
              "    <tr>\n",
              "      <th>2021-09-01</th>\n",
              "      <td>13</td>\n",
              "      <td>1</td>\n",
              "      <td>0</td>\n",
              "      <td>7</td>\n",
              "      <td>4</td>\n",
              "    </tr>\n",
              "    <tr>\n",
              "      <th>2021-09-02</th>\n",
              "      <td>9</td>\n",
              "      <td>1</td>\n",
              "      <td>0</td>\n",
              "      <td>5</td>\n",
              "      <td>14</td>\n",
              "    </tr>\n",
              "    <tr>\n",
              "      <th>2021-09-03</th>\n",
              "      <td>11</td>\n",
              "      <td>1</td>\n",
              "      <td>0</td>\n",
              "      <td>4</td>\n",
              "      <td>10</td>\n",
              "    </tr>\n",
              "  </tbody>\n",
              "</table>\n",
              "</div>"
            ],
            "text/plain": [
              "            PermitsBK  PermitsBX  PermitsSI  PermitsQNS  PermitsNYC\n",
              "Date                                                               \n",
              "2021-08-25         11          3          0           4           8\n",
              "2021-08-26          7          2          0           7          12\n",
              "2021-08-27          8          2          0           6           9\n",
              "2021-08-28          3          0          0           1           1\n",
              "2021-08-29          1          0          0           0           3\n",
              "2021-08-30          8          1          0           7           8\n",
              "2021-08-31          5          1          0           7          10\n",
              "2021-09-01         13          1          0           7           4\n",
              "2021-09-02          9          1          0           5          14\n",
              "2021-09-03         11          1          0           4          10"
            ]
          },
          "metadata": {},
          "execution_count": 64
        }
      ]
    },
    {
      "cell_type": "code",
      "source": [
        "# do not reset the index or the Date will be lost for plotting\n",
        "# df_boro_ready = df_boro_ready.reset_index()"
      ],
      "metadata": {
        "id": "ejMqu2nDHX2s"
      },
      "execution_count": null,
      "outputs": []
    },
    {
      "cell_type": "markdown",
      "source": [
        "We can use the **df_boro_ready** DataFrame to plot an area chart of the number of permits by Borough over time."
      ],
      "metadata": {
        "id": "qrzCmr-09jxy"
      }
    },
    {
      "cell_type": "code",
      "source": [
        "df_boro_ready.plot.area(figsize=(8, 6), title='Area Plot')"
      ],
      "metadata": {
        "id": "c_mbTJy-9uLY",
        "colab": {
          "base_uri": "https://localhost:8080/",
          "height": 422
        },
        "outputId": "ae04a476-3b97-4024-ae8f-4308fa3cbcf7"
      },
      "execution_count": 65,
      "outputs": [
        {
          "output_type": "execute_result",
          "data": {
            "text/plain": [
              "<matplotlib.axes._subplots.AxesSubplot at 0x7fb9b14109d0>"
            ]
          },
          "metadata": {},
          "execution_count": 65
        },
        {
          "output_type": "display_data",
          "data": {
            "image/png": "[encoded data removed]",
            "text/plain": [
              "<Figure size 576x432 with 1 Axes>"
            ]
          },
          "metadata": {
            "needs_background": "light"
          }
        }
      ]
    },
    {
      "cell_type": "markdown",
      "source": [
        "**Pandas Area Plot**\n",
        "courtesy of Rashida Nasrin Sucky in [Towards Data Science](https://towardsdatascience.com/an-ultimate-cheat-sheet-for-data-visualization-in-pandas-f7bc239c9937)"
      ],
      "metadata": {
        "id": "kif_Gdct3U-I"
      }
    },
    {
      "cell_type": "markdown",
      "source": [
        "\n",
        "\n",
        "---\n",
        "\n"
      ],
      "metadata": {
        "id": "Kn-670PhGRfw"
      }
    }
  ]
}