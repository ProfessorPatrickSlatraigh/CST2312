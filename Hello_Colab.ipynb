{
  "nbformat": 4,
  "nbformat_minor": 0,
  "metadata": {
    "colab": {
      "name": "Hello_Colab.ipynb",
      "provenance": [],
      "authorship_tag": "ABX9TyNoObnGffWPavvMqlODju4b",
      "include_colab_link": true
    },
    "kernelspec": {
      "name": "python3",
      "display_name": "Python 3"
    },
    "language_info": {
      "name": "python"
    }
  },
  "cells": [
    {
      "cell_type": "markdown",
      "metadata": {
        "id": "view-in-github",
        "colab_type": "text"
      },
      "source": [
        "<a href=\"https://colab.research.google.com/github/ProfessorPatrickSlatraigh/CST2312/blob/main/Hello_Colab.ipynb\" target=\"_parent\"><img src=\"https://colab.research.google.com/assets/colab-badge.svg\" alt=\"Open In Colab\"/></a>"
      ]
    },
    {
      "cell_type": "code",
      "execution_count": null,
      "metadata": {
        "colab": {
          "base_uri": "https://localhost:8080/"
        },
        "id": "p-DDC6hdHzFy",
        "outputId": "a80dded1-cae4-4609-c81d-feb657ca0c9f"
      },
      "outputs": [
        {
          "output_type": "stream",
          "name": "stdout",
          "text": [
            "Hello Colab!\n"
          ]
        }
      ],
      "source": [
        "print('Hello Colab!')"
      ]
    },
    {
      "cell_type": "markdown",
      "source": [
        "That^ code was my first line of Python in Colab."
      ],
      "metadata": {
        "id": "s_pZLxoaITcD"
      }
    },
    {
      "cell_type": "code",
      "source": [
        "def hello_colab(x):\n",
        "    print(x)\n",
        "\n",
        "# now call that function\n",
        "x = input('Print what? ')\n",
        "hello_colab(x)\n"
      ],
      "metadata": {
        "colab": {
          "base_uri": "https://localhost:8080/"
        },
        "id": "xc5xlz79IX4j",
        "outputId": "246bf92f-30c6-4ac4-e1da-81a0ed336839"
      },
      "execution_count": null,
      "outputs": [
        {
          "output_type": "stream",
          "name": "stdout",
          "text": [
            "Print what? Hello CST2312\n",
            "Hello CST2312\n"
          ]
        }
      ]
    }
  ]
}