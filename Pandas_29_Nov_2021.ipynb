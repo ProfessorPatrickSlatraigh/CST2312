{
  "nbformat": 4,
  "nbformat_minor": 0,
  "metadata": {
    "colab": {
      "name": "Pandas_29-Nov-2021.ipynb",
      "provenance": [],
      "authorship_tag": "ABX9TyMXuFTwrVrmxsVMkfPEBTEF",
      "include_colab_link": true
    },
    "kernelspec": {
      "name": "python3",
      "display_name": "Python 3"
    },
    "language_info": {
      "name": "python"
    }
  },
  "cells": [
    {
      "cell_type": "markdown",
      "metadata": {
        "id": "view-in-github",
        "colab_type": "text"
      },
      "source": [
        "<a href=\"https://colab.research.google.com/github/ProfessorPatrickSlatraigh/CST2312/blob/main/Pandas_29_Nov_2021.ipynb\" target=\"_parent\"><img src=\"https://colab.research.google.com/assets/colab-badge.svg\" alt=\"Open In Colab\"/></a>"
      ]
    },
    {
      "cell_type": "markdown",
      "metadata": {
        "id": "8BwhTvv5hxTO"
      },
      "source": [
        "# **Pandas**"
      ]
    },
    {
      "cell_type": "markdown",
      "metadata": {
        "id": "_-_E6A-Eh3KT"
      },
      "source": [
        "Pandas is an open-source Python library that provides powerful, flexible and high-performance tools to process data. It was developed in 2008 by Wes McKinney.\n",
        "\n",
        "Some of Pandas features include:\n",
        "\n",
        "*   High-performance DataFrame objects with effective indexing.\n",
        "*   Tools for loading data into memory with multiple file formats.\n",
        "*   High performance for operations such as data merges and joins.\n",
        "*   Manipulation of time series data.\n",
        "*   Easy to manipulate row and column data.\n",
        "*   SQL-like operations.\n",
        "*   Vectorized operations.\n",
        "*   Label-based slicing, indexing, and subsetting of large data sets."
      ]
    },
    {
      "cell_type": "markdown",
      "metadata": {
        "id": "jqSUnFwvjV-R"
      },
      "source": [
        "**Pandas topics covered in this notebook.**\n",
        "\n",
        "1.   How to manipulate Tabular data.\n",
        "2.   Aggregation data on multiple dimensions.\n",
        "3.   SQL-like data join, group, and sort.\n",
        "4.   Powerful data filtering.\n",
        "5.   I/O of multiple file formats.\n",
        "6.   Extensive type support, such as int, float, string, and datetime.\n",
        "7.   Advanced usage of pandas, such as memory usage reduction, sped up file loading and sped up operations."
      ]
    },
    {
      "cell_type": "markdown",
      "metadata": {
        "id": "BfaObOQXidZh"
      },
      "source": [
        "The standard Python installation does not include the Pandas library.\n",
        "\n",
        "You can install Pandas using pip on a local machine:\n",
        "\n",
        "```\n",
        "pip install pandas\n",
        "```\n",
        "\n",
        "*Pandas is available on Colab without the need to pip install it.*\n",
        "\n",
        "In Colab you can just import pandas.  We typically **import pandas as pd** to save typing later.\n"
      ]
    },
    {
      "cell_type": "code",
      "metadata": {
        "id": "KUtsgbbuhsOb"
      },
      "source": [
        "import pandas as pd"
      ],
      "execution_count": 2,
      "outputs": []
    },
    {
      "cell_type": "markdown",
      "metadata": {
        "id": "SE4ulFxQsCyZ"
      },
      "source": [
        "Later, we will need to **import numpy** as np.\n",
        "\n",
        "We can import **numpy as np** now, if we prefer text"
      ]
    },
    {
      "cell_type": "code",
      "metadata": {
        "id": "l9Zl4dCjsJhB"
      },
      "source": [
        "import numpy as np"
      ],
      "execution_count": 3,
      "outputs": []
    },
    {
      "cell_type": "markdown",
      "metadata": {
        "id": "IGQ1MRxSsMT2"
      },
      "source": [
        "*We will come back to the subject of **numpy** in a future class.  Let's focus on **Pandas** first as it will prove useful in your final lab project and many data science projects.  **Numpy** is very powerful also.  We will come back to that.*"
      ]
    },
    {
      "cell_type": "markdown",
      "metadata": {
        "id": "svZS7BT7jn2P"
      },
      "source": [
        "## Pandas Data Structures"
      ]
    },
    {
      "cell_type": "markdown",
      "metadata": {
        "id": "Oxbi6U5tjvfG"
      },
      "source": [
        "### Series in Pandas\n",
        "\n",
        "A Series is a one-dimensional array consisting of elements of multiple data types such as int, float, string, and object.\n",
        "\n",
        "A series is just like an N-dimensional NumPy array (ndarray) with an index. You can explicitly specify an index for a Series object, which can be either int or string type. When the specified index is not provided, Series automatically starts at zero and creates an index for the data with a step size of one.\n",
        "\n",
        "A Series can be created using any of the following:\n",
        "\n",
        "*   **Dictionary** or **list**\n",
        "*   **Numpy ndarray**\n",
        "*   **Scalar** value"
      ]
    },
    {
      "cell_type": "markdown",
      "metadata": {
        "id": "JXs49R1XkTb8"
      },
      "source": [
        "\n",
        "**Dictionaries** are data structures more generally known as associative arrays which are used to store data values in key:value pairs. A dictionary is a collection which is ordered, changeable and does not allow duplicates.\n",
        "\n",
        "**Lists** are used to store multiple items in a single variable in Python.  A list is a data structure in Python that is a mutable, or changeable, ordered sequence of elements.\n",
        "\n",
        "An **ndarray** is a (usually fixed-size) multidimensional container of items of the same type and size. The number of dimensions and items in an array is defined by its shape , which is a tuple of N non-negative integers that specify the sizes of each dimension.\n",
        "\n",
        "**Scalars** are single values representing one unit of data, such as an integer or bool , as opposed to data structures like a list or tuple , which are composed of scalars.\n"
      ]
    },
    {
      "cell_type": "markdown",
      "metadata": {
        "id": "LckTOUp3jzxT"
      },
      "source": [
        "### Dataframes in Pandas"
      ]
    },
    {
      "cell_type": "markdown",
      "metadata": {
        "id": "NkGSFviOmBFE"
      },
      "source": [
        "DataFrame is a two-dimensional data structure with columns of different types. You can think of it like an MS Excel or SQL table, or a dictionary of series type objects.\n",
        "\n",
        "Pandas provides many APIs to manipulate the data frame objects using slices, indexing, aggregation, and statistical operations.\n",
        "\n",
        "DataFrame can be created from:\n",
        "\n",
        "*   **Dictionary** of lists and **dictionary** of Series.\n",
        "\n",
        "*   **CSV**, **TSV**, or **MS Excel**.\n",
        "\n",
        "A **CSV** is a comma-separated values file which allows data to be saved in a tabular format. **TSV** is similar to CSV, but the separator is tab instead of a comma.\n",
        "\n",
        "*   A **Numpy ndarray** -- se the definition in the section on Series above."
      ]
    },
    {
      "cell_type": "markdown",
      "metadata": {
        "id": "qpF0q7fPmekm"
      },
      "source": [
        "**Creating a Series**\n",
        "\n",
        "*(one-dimensional array)*\n",
        "\n"
      ]
    },
    {
      "cell_type": "markdown",
      "metadata": {
        "id": "lLvP9NxKnLtM"
      },
      "source": [
        "**Create a Series from a list without an index**\n",
        "\n",
        "Create a Series (**series1**) from the Python List (**list1**) below. \n",
        "\n",
        "By default the index starts at zero.  We use an arbitrary counter (**i**) to reference index numbers for printing. \n",
        "\n"
      ]
    },
    {
      "cell_type": "code",
      "metadata": {
        "id": "wChKMg_knPol"
      },
      "source": [
        "# creating a pandas series and printing a range of values in the series\n",
        "\n",
        "list1 = range(1, 10)\n",
        "\n",
        "series1 = pd.Series(list1)\n",
        "print(\"The pandas series series1 is: \" )\n",
        "print(series1)\n",
        "\n",
        "print(\"\\n------------------\\n\")\n",
        "\n",
        "i=3  # index value to start the while loop\n",
        "print(\"Beginning with the element at index {}, the values through the end of series1 are: \".format(i))\n",
        "while i < len(series1):\n",
        "    print(\"For index {} -> the value in series1 is {}\".format(i, series1[i]))\n",
        "    i += 1"
      ],
      "execution_count": null,
      "outputs": []
    },
    {
      "cell_type": "markdown",
      "metadata": {
        "id": "LoSHMAh9pdQD"
      },
      "source": [
        "In the output of **print(series1)**, we can see two columns. The first column is the index number and the second column is the corresponding data value.\n",
        "\n",
        "We acess a specific value of the series using its index, as in the while loop above where we are accessing the **i**th value of the series.\n",
        "\n"
      ]
    },
    {
      "cell_type": "markdown",
      "metadata": {
        "id": "2MouNSjxqoel"
      },
      "source": [
        "**Creating a Series from a list with a specified index**\n",
        "\n",
        "In the last example, we created a series without a specified index. Here is a Series where the index is not int64, but rather, a string type. \n",
        "\n",
        "A value of the series can be accessed by a string index just like we did with an integer index. The only exception is that now we write the string value in brackets, [], when accessing an element.\n",
        "\n",
        "\n",
        "\n",
        "\n"
      ]
    },
    {
      "cell_type": "code",
      "metadata": {
        "id": "3Ab00tM5qlI7"
      },
      "source": [
        "list2 = range(1, 6)\n",
        "# list2 is [1, 2, 3, 4, 5]\n",
        "\n",
        "index2 = [\"aa\", \"bb\", \"ccc\", \"dddd\", \"eeeeee\"]\n",
        "series2 = pd.Series(list2, index2)\n",
        "\n",
        "print(\"The pandas series series2 is: \" )\n",
        "print(series2)\n",
        "\n",
        "print(\"\\n------------------\\n\")\n",
        "\n",
        "i = \"ccc\"    # this is moot unless we comment out the for loop header\n",
        "\n",
        "for i in index2 :\n",
        "    print(\"the index {} -> value in series2 is {}\".format(i, series2[i]))\n"
      ],
      "execution_count": null,
      "outputs": []
    },
    {
      "cell_type": "markdown",
      "metadata": {
        "id": "Pb6X9tugriRn"
      },
      "source": [
        "A DataFrame object is created where two parameters are passed. The first one is a list of values from lines 1 to 5 (**list2**). The second is an index list (**index2**).\n",
        "\n",
        "In the output of print(**series2**) we can see two columns. The first column is the index and the second column is the corresponding data value.\n",
        "\n",
        "We access a specific value of the series using its index.  In the example above we access the value of index **ccc**."
      ]
    },
    {
      "cell_type": "markdown",
      "metadata": {
        "id": "coBJEhSlr-6P"
      },
      "source": [
        "**Create a Series from a Python dict**\n",
        "\n",
        "\n",
        "In the last section, we accessed the value **series2[“ccc”]** very much like the Python dict type. We can also create a series directly from a dict."
      ]
    },
    {
      "cell_type": "code",
      "metadata": {
        "id": "wX71vz6PsDPW"
      },
      "source": [
        "dict3 = {'bb': 1, 'a': 0, 'ccc': 2}\n",
        "series3 = pd.Series(dict3)\n",
        "\n",
        "print(\"The pandas series series3 is: \" )\n",
        "print(series3)\n",
        "\n",
        "print(\"\\n------------------\\n\")\n",
        "\n",
        "i = \"ccc\"  # this is moot unless we comment out the for loop header\n",
        "\n",
        "for i in dict3 :\n",
        "    print(\"the index {} -> value in series 3 is {}\".format(i, series3[i]))"
      ],
      "execution_count": null,
      "outputs": []
    },
    {
      "cell_type": "markdown",
      "metadata": {
        "id": "Alvx9dmStb2-"
      },
      "source": [
        "A Series is created from **dict3**, which is a normal Python dict object.\n",
        "\n",
        "In the output of print(**series3**) we can see two columns. The first column is the index, and the second column is the corresponding data value.\n",
        "\n",
        "You can access a specific value of the series using its index, just as we access the value of index **ccc**."
      ]
    },
    {
      "cell_type": "markdown",
      "metadata": {
        "id": "QbYsziCOt7ZM"
      },
      "source": [
        "**Create a Series From a Numpy ndarray and a Scalar Value**\n",
        "\n",
        "Creating a Series from a Numpy ndarray is very similar to creating a Series from a Python list."
      ]
    },
    {
      "cell_type": "markdown",
      "metadata": {
        "id": "1VNoIGjrubz9"
      },
      "source": [
        "*First, let's import numpy as np*"
      ]
    },
    {
      "cell_type": "code",
      "metadata": {
        "id": "iHbk_ZBuugK5"
      },
      "source": [
        "import numpy as np"
      ],
      "execution_count": null,
      "outputs": []
    },
    {
      "cell_type": "code",
      "metadata": {
        "id": "8aV7jTeuuizp"
      },
      "source": [
        "list4 = np.arange(1, 10)\n",
        "\n",
        "print(type(list4))\n",
        "\n",
        "print(\"\\n----------------------------\\n\")\n",
        "\n",
        "series4 = pd.Series(list4)\n",
        "print(\"The pandas series series4 is: \" )\n",
        "print(series4)\n",
        "\n",
        "print(\"\\n----------------------------\\n\")\n",
        "\n",
        "i = 3   \n",
        "\n",
        "print(\"the index {} -> value is {}\".format(i, series4[i]))"
      ],
      "execution_count": null,
      "outputs": []
    },
    {
      "cell_type": "markdown",
      "metadata": {
        "id": "vKsRs1TmzWyL"
      },
      "source": [
        "**Create a Series from a scalar value**\n",
        "\n",
        "\n",
        "A Series can be also created from a scalar value. If indices are not provided, then the series only contains a value. If indices are provided, the number of values of the series is the same as the length of the index range.\n"
      ]
    },
    {
      "cell_type": "code",
      "metadata": {
        "id": "WbcB9Wzezixh"
      },
      "source": [
        "series5 = pd.Series(5)\n",
        "\n",
        "print(\"The pandas series series5 is: \" )\n",
        "print(series5)\n",
        "\n",
        "print(\"\\n----------------------------\\n\")\n",
        "\n",
        "series6 = pd.Series(5, index=range(1,4))\n",
        "\n",
        "print(\"The pandas series series6 is: \" )\n",
        "print(series6)"
      ],
      "execution_count": null,
      "outputs": []
    },
    {
      "cell_type": "markdown",
      "metadata": {
        "id": "_G32k2Ix0dkR"
      },
      "source": [
        "A Series with only one element is created from a scalar value in series5. Meanwhile, if you pass a list of indexes like series6, you would get a Series with the same length as the list of indexes.\n"
      ]
    },
    {
      "cell_type": "markdown",
      "metadata": {
        "id": "-ZTIokmJ0eqK"
      },
      "source": [
        "\n",
        "\n",
        "---\n",
        "\n"
      ]
    },
    {
      "cell_type": "markdown",
      "metadata": {
        "id": "G3mD9y4I0fk2"
      },
      "source": [
        "### **Manipulating Series Objects**\n",
        "\n",
        "We can use slicing and vectorization operations to manipulate Series objects.\n"
      ]
    },
    {
      "cell_type": "markdown",
      "metadata": {
        "id": "rI0ijX5M1NzD"
      },
      "source": [
        "**Integer Index**\n",
        "\n",
        "With the [] operation, we can access the specified value by its location, which is an integer index. Just like accessing an element in a native Python list.\n"
      ]
    },
    {
      "cell_type": "markdown",
      "metadata": {
        "id": "H-dTI-vJ1QSv"
      },
      "source": [
        "**Slice object**\n",
        "\n",
        "**start:stop:step** is an object that contains a portion of a sequence.\n",
        "\n",
        "*   If only stop is provided, it generates a portion of a sequence from index 0 to stop, where stop is excluded.\n",
        "\n",
        "*   If only start is provided, it generates a portion of the sequence after the index start until the last element.\n",
        "\n",
        "*   If both start and stop are provided, it generates a portion of the sequence after the index start until the stop where the stop is excluded.\n",
        "\n",
        "*   If start, stop, and step are provided, it generates a portion of the sequence after the index start until stop with an increment of index step.\n",
        "\n"
      ]
    },
    {
      "cell_type": "markdown",
      "metadata": {
        "id": "zHTo0-bT1n8h"
      },
      "source": [
        "**List of indexes**\n",
        "\n",
        "Sometimes, we want to get multiple elements from a Series with multiple indexes; however, there is no pattern between them. You can pass a list of indexes to a Series object with the [] operation to get those elements.\n"
      ]
    },
    {
      "cell_type": "code",
      "metadata": {
        "id": "8513a4pK1plZ"
      },
      "source": [
        "print(\"The pandas series series7 is: \" )\n",
        "series7 = pd.Series(range(1, 20))\n",
        "print(series7)\n",
        "\n",
        "print(\"\\n-----------------\\n\")\n",
        "\n",
        "# integer index\n",
        "print(\"The second value of series7 is {}\".format(series7[1]))\n",
        "\n",
        "print(\"\\n-----------------\\n\")\n",
        "\n",
        "# tuple index\n",
        "print(\"The second and sixth value of series7 is {}\".format(series7[[1, 5]].values))\n",
        "\n",
        "print(\"\\n-----------------\\n\")\n",
        "\n",
        "# to the end elements\n",
        "print(\"All elements of series7 from the sixth index onwards are {}\".format(series7[5:].values))\n",
        "\n",
        "print(\"\\n-----------------\\n\")\n",
        "\n",
        "# [start:stop:step]\n",
        "print(\"All elements of series7 from index=1 to the index=10\"\n",
        "      \"with step=2 onwards are {}\".format(series7[1:10:2].values))\n",
        "\n",
        "print(\"\\n-----------------\\n\")"
      ],
      "execution_count": null,
      "outputs": []
    },
    {
      "cell_type": "markdown",
      "metadata": {
        "id": "tCOpHXyP2_8k"
      },
      "source": [
        "The first example above shows how to access the fifth element from a Series object by passing **5** to the [] operation.\n",
        "\n",
        "The second example above shows how to get two elements from a Series object one time. Just pass a list like **[1, 5**] to the [] operation.\n",
        "\n",
        "The third example above shows how to use a slice object. **5:** means all elements from the index 5.\n",
        "\n",
        "The last example above shows another form of a slice object. **1:10:2** means that after index 1 you go to 10 with an increment of index 2.\n",
        "\n"
      ]
    },
    {
      "cell_type": "markdown",
      "metadata": {
        "id": "ViNQdZPT3hNs"
      },
      "source": [
        "**Advanced Series slicing**\n",
        "\n",
        "The series object in pandas also supports some advanced indexing. It can be used if you want to pick up elements from a series without knowing their exact position or value. You need to know what kind of element you want and what numerical criteria it should meet. In this case, a Boolean index can be used with a series object.\n",
        "\n",
        "As the snippet below shows, we can get all elements that are larger than the median of this data set."
      ]
    },
    {
      "cell_type": "code",
      "metadata": {
        "id": "VtpV-owJ3i8N"
      },
      "source": [
        "print(\"The pandas series series8 is: \" )\n",
        "series8 = pd.Series(range(1, 20))\n",
        "print(series8)\n",
        "print(\"\\n-----------------\\n\")\n",
        "\n",
        "# get all even number\n",
        "s1 = series8[series8 % 2 == 0]\n",
        "print(\"All even numbers in the series are {}\".format(s1.values))\n",
        "print(\"\\n-----------------\\n\")\n",
        "\n",
        "s2 = series8[series8 > 8]\n",
        "print(\"All numbers which are larger than 8 in the series are {}\".format(s2.values))\n",
        "print(\"\\n-----------------\\n\")\n",
        "\n",
        "s3 = series8[series8 > series8.mean()]\n",
        "print(\"All numbers which are larger than the mean of the series are {}\".format(s3.values))\n",
        "print(\"\\n-----------------\\n\")"
      ],
      "execution_count": null,
      "outputs": []
    },
    {
      "cell_type": "markdown",
      "metadata": {
        "id": "S46ZhbZ65l7s"
      },
      "source": [
        "In the example above, **[series8 % 2== 0]** means we only get even numbers from the series.\n",
        "\n",
        "In the example above, **[series8 > 8]** means we only get numbers larger than eight from the series.\n",
        "\n",
        "In the example above, **[series8 > series8.mean()]** means we only get numbers larger than the mean of the series."
      ]
    },
    {
      "cell_type": "markdown",
      "metadata": {
        "id": "Cvx18_ew6FWD"
      },
      "source": [
        "**Series Vectorization operations**\n",
        "\n",
        "Pandas supports most of the Numpy functions. You can manipulate the series just like a Numpy ndarray. This is a very important feature because Vectorization is a more efficient operation, and in most cases, it performs much faster than pure for loops.\n"
      ]
    },
    {
      "cell_type": "code",
      "metadata": {
        "id": "HCzLcKBIrv2a"
      },
      "source": [
        "print(\"The pandas series series9 is: \" )\n",
        "series9 = pd.Series(range(1, 8))\n",
        "print(series9)\n",
        "\n",
        "print(\"\\n-----------------\\n\")\n",
        "\n",
        "vectored1 = series9 * 2\n",
        "print(\"Multiplying all elements by 2.\\nThe original series is {}.\\n\"\n",
        "      \"The new series is {}\".format(series9.values, vectored1.values))\n",
        "\n",
        "print(\"\\n-----------------\\n\")\n",
        "\n",
        "vectored2 = series9 + series9 \n",
        "print(\"Adding two series objects.\\nThe original series is {}.\\n\"\n",
        "      \"The new series is {}\".format(series9.values, vectored2.values))\n",
        "\n",
        "print(\"\\n-----------------\\n\")\n",
        "\n",
        "vectored3 = np.sin(series9)\n",
        "print(\"Applying sin() to all elements.\\nThe original series is {}.\\n\"\n",
        "      \"The new series is {}\".format(series9.values, vectored3.values))"
      ],
      "execution_count": null,
      "outputs": []
    },
    {
      "cell_type": "markdown",
      "metadata": {
        "id": "0bjNgoFJ7xpf"
      },
      "source": [
        "The example shows how to do normal math operations on a Series object. As you can see, you can add two Series objects directly without a for loop.\n",
        "\n",
        "It also shows how to apply a **sin** (**Nump**y function) operation to the entire series object."
      ]
    },
    {
      "cell_type": "markdown",
      "metadata": {
        "id": "11Gk7ljftEai"
      },
      "source": [
        "\n",
        "\n",
        "---\n",
        "\n"
      ]
    },
    {
      "cell_type": "markdown",
      "metadata": {
        "id": "K1gxFAXWtFM_"
      },
      "source": [
        "### **Creating a DataFrame From Arrays and Lists**\n",
        "\n",
        "*   Creating a Pandas DataFrame from a Numpy ndarray\n",
        "\n",
        "*   Creating a Pandas DataFrame from a dictionary of lists"
      ]
    },
    {
      "cell_type": "markdown",
      "metadata": {
        "id": "cUfTW1trtv_f"
      },
      "source": [
        "**Creating a Pandas DataFrame from a Numpy ndarray**\n",
        "\n",
        "A Pandas DataFrame is similar to a 2D **Numpy** array which simpifies creating one from a **Numpy** **ndarray**.\n",
        "\n",
        "Remember that the input **Numpy ndarray** array must be a two-dimensional (2D) array or you will get a ValueError.\n",
        "\n",
        "If we pass a raw **Numpy ndarray** to **Pandas**, the index and column names start at 0 by default. We can also assign different column names to the data which will be discussed later.\n",
        "\n"
      ]
    },
    {
      "cell_type": "code",
      "metadata": {
        "id": "RiKea1Pqu7M0"
      },
      "source": [
        "# create a 2x3 Numpy ndarray of random float values\n",
        "nda1 = np.random.normal(size=(2,3))\n",
        "print(\"The original Numpy array\")\n",
        "print(nda1)\n",
        "\n",
        "print(\"\\n---------------------\\n\")\n",
        "\n",
        "# create a Pandas DataFrame from the ndarry da1\n",
        "df1 = pd.DataFrame(nda1)\n",
        "print(\"The DataFrame \")\n",
        "print(df1)\n"
      ],
      "execution_count": null,
      "outputs": []
    },
    {
      "cell_type": "markdown",
      "metadata": {
        "id": "oDobCCQ9vg3i"
      },
      "source": [
        "In the example above, the 2x3 Numpy ndarray (**nda1**) of random values is passed to Pandas to create a DataFrame (**df1**) with the same content. "
      ]
    },
    {
      "cell_type": "markdown",
      "metadata": {
        "id": "xOnuq_5-v8Mk"
      },
      "source": [
        "**Creating a Pandas DataFrame from a dictionary of lists**\n",
        "\n",
        "We have already created a Pandas Series from a dictionary. We can also create a DataFrame object from a dictionary of lists. The difference is that in a series, the key is the index whereas, in a DataFrame, object, the key is the column name.\n",
        "\n",
        "To specify an index for each column value, only the rows with the same index value will be joined; otherwise, a new row is created, and its columns are filled by NaN if the type is int or float.\n",
        "\n",
        "We can specify an index for each column value by nesting a dictionary in another dictionary.\n",
        "\n",
        "The example code below shows both single and multi-level indexing in the DataFrame."
      ]
    },
    {
      "cell_type": "markdown",
      "metadata": {
        "id": "3_qss4rCznEF"
      },
      "source": [
        "![python-dict_to_pandas-df.png](data:image/png;base64,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)"
      ]
    },
    {
      "cell_type": "code",
      "metadata": {
        "id": "NPCyO91Ky8aa"
      },
      "source": [
        "\n",
        "# example 1: init a dataframe by dict without index\n",
        "dict2 = {\"a\": [1, 2, 3, 4], \"b\": [2, 4, 6, 8]}\n",
        "print(\"The dict2 dictionary \")\n",
        "print(dict2)\n",
        "\n",
        "\n",
        "\n",
        "df2 = pd.DataFrame(dict2)\n",
        "print(\"The df2 DataFrame \")\n",
        "print(df2)\n",
        "\n",
        "print(\"\\n---------------------\\n\")\n",
        "\n",
        "print(\"The values of column a in df2 are {}\".format(df2[\"a\"].values))\n",
        "\n",
        "print(\"\\n---------------------\\n\")\n",
        "\n",
        "# example 2: init a dataframe by dict with different index\n",
        "dict3 = {\"a\": {\"a1\":1, \"a2\":2, \"c\":3}, \"b\":{\"b1\":2, \"b2\":4, \"c\":9}}\n",
        "df3 = pd.DataFrame(dict3)\n",
        "print(\"The df3 DataFrame \")\n",
        "print(df3)\n"
      ],
      "execution_count": null,
      "outputs": []
    },
    {
      "cell_type": "markdown",
      "metadata": {
        "id": "lUQO-UOn0z1f"
      },
      "source": [
        "\n",
        "In the **df2** example, a Python dict is created then is passed to pd.DataFrame to create a DataFrame object.\n",
        "\n",
        "In the **df3** example, a nested Python dictionary is created, then is passed to pd.DataFrame to create a DataFrame object."
      ]
    },
    {
      "cell_type": "markdown",
      "metadata": {
        "id": "csbWWRf904Om"
      },
      "source": [
        "**Creating a DataFrame From a Series**\n",
        "\n",
        "\n",
        "*   Create a DataFrame from a dictionary of series\n",
        "\n",
        "*   Create DataFrame using from_dict"
      ]
    },
    {
      "cell_type": "markdown",
      "metadata": {
        "id": "IddPWM7k1d0H"
      },
      "source": [
        "**Create a DataFrame from a dictionary of series**\n",
        "\n",
        "A DataFrame can be created from a list of series or a dictionary of series.\n",
        "\n",
        "If two series objects have different indexes, they wouldn’t be joined by an index, as the second example below shows.\n"
      ]
    },
    {
      "cell_type": "code",
      "metadata": {
        "id": "5KuNauLw1iw_"
      },
      "source": [
        "\n",
        "# example 1: series without index\n",
        "series1 = {\"a\": pd.Series(range(1, 3)), \"b\": pd.Series(range(2, 4))}\n",
        "print(\"Series1 \")\n",
        "print(series1)\n",
        "\n",
        "print(\"\\n--------------------\\n\")\n",
        "\n",
        "df1 = pd.DataFrame(series1)\n",
        "print(\"dataframe df1 created from dict of series1 Series\")\n",
        "print(df1)\n",
        "\n",
        "print(\"\\n--------------------\\n\")\n",
        "\n",
        "# example 2: series with index\n",
        "\n",
        "series2 = {\n",
        "    \"a\": pd.Series(range(1, 3), index=[\"a\", \"b\"]),\n",
        "    \"b\": pd.Series(range(2, 4), index=[\"b\", \"c\"])\n",
        "}\n",
        "\n",
        "print(\"Series2 \")\n",
        "print(series2)\n",
        "\n",
        "\n",
        "print(\"\\n--------------------\\n\")\n",
        "\n",
        "df2 = pd.DataFrame(series2)\n",
        "print(\"dataframe df2 created from dict of series2 Series with index\")\n",
        "print(df2)\n"
      ],
      "execution_count": null,
      "outputs": []
    },
    {
      "cell_type": "markdown",
      "metadata": {
        "id": "rNSeeQqe22fM"
      },
      "source": [
        "**NaN** - stands for not a number, is a numeric data type used to represent any value that is undefined or unpresentable.  \n",
        "\n",
        "In many cases, **NaN** can be treated as missing data."
      ]
    },
    {
      "cell_type": "markdown",
      "metadata": {
        "id": "5H8fFn6J3tuv"
      },
      "source": [
        "A Python dict series1 is created as a Series object that is then passed to pd.DataFrame to create df1, a DataFrame object.\n",
        "\n",
        "The second example above also creates a Python dict that is a Series object with an index.\n"
      ]
    },
    {
      "cell_type": "markdown",
      "metadata": {
        "id": "w6PsAYOb4aAA"
      },
      "source": [
        "**Create a DataFrame using from_dict**\n",
        "\n",
        "DataFrame provides many constructors to create a new DataFrame.  We have created a DataFrame using the default constructor from dict.\n",
        "\n",
        "DataFrame also has a **from_dict()** function, which takes a dict of dicts or a dict of array-like sequences and returns a DataFrame.\n",
        "\n",
        "The **from_dict()** function provides the ability to use an orient parameter to re-orient the default value columns. Using the value index we can make the dict keys row labels."
      ]
    },
    {
      "cell_type": "code",
      "metadata": {
        "id": "pHj8ejIJ4i_e"
      },
      "source": [
        "\n",
        "dict4 = {\"a\": [1, 2, 3, 4], \"b\": [2, 4, 6, 8]}\n",
        "print(\"Dictionary dict4 \")\n",
        "print(dict4)\n",
        "\n",
        "print(\"\\n--------------------\\n\")\n",
        "\n",
        "df4 = pd.DataFrame.from_dict(dict4)\n",
        "print(\"dataframe df4 created using from_dict(dict4) \")\n",
        "print(df4)\n",
        "\n",
        "print(\"\\n--------------------\\n\")\n",
        "\n",
        "df5 = pd.DataFrame.from_dict(dict4, orient=\"index\")\n",
        "print(\"dataframe df5 created using from_dict(dict4) and realigning the orientation\")\n",
        "print(df5)\n"
      ],
      "execution_count": null,
      "outputs": []
    },
    {
      "cell_type": "code",
      "metadata": {
        "id": "WUvbEQbQ6HUt"
      },
      "source": [
        ""
      ],
      "execution_count": null,
      "outputs": []
    },
    {
      "cell_type": "markdown",
      "metadata": {
        "id": "JU9t9IPx563b"
      },
      "source": [
        "\n",
        "\n",
        "---\n",
        "\n"
      ]
    },
    {
      "cell_type": "markdown",
      "metadata": {
        "id": "lmXSMD5857im"
      },
      "source": [
        "### **Creating a DataFrame from a file**\n",
        "\n",
        "*   reading a CSV file into a Pandas DataFrame\n"
      ]
    }
  ]
}