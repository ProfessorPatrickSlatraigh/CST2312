{
  "nbformat": 4,
  "nbformat_minor": 0,
  "metadata": {
    "colab": {
      "name": "Pandas_29-Nov-2021.ipynb",
      "provenance": [],
      "authorship_tag": "ABX9TyMxM6zEINmFX2mGo7vu0xd0",
      "include_colab_link": true
    },
    "kernelspec": {
      "name": "python3",
      "display_name": "Python 3"
    },
    "language_info": {
      "name": "python"
    }
  },
  "cells": [
    {
      "cell_type": "markdown",
      "metadata": {
        "id": "view-in-github",
        "colab_type": "text"
      },
      "source": [
        "<a href=\"https://colab.research.google.com/github/ProfessorPatrickSlatraigh/CST2312/blob/main/Pandas_29_Nov_2021.ipynb\" target=\"_parent\"><img src=\"https://colab.research.google.com/assets/colab-badge.svg\" alt=\"Open In Colab\"/></a>"
      ]
    },
    {
      "cell_type": "markdown",
      "metadata": {
        "id": "8BwhTvv5hxTO"
      },
      "source": [
        "# **Pandas**"
      ]
    },
    {
      "cell_type": "markdown",
      "metadata": {
        "id": "_-_E6A-Eh3KT"
      },
      "source": [
        "Pandas is an open-source Python library that provides powerful, flexible and high-performance tools to process data. It was developed in 2008 by Wes McKinney.\n",
        "\n",
        "Some of Pandas features include:\n",
        "\n",
        "*   High-performance DataFrame objects with effective indexing.\n",
        "*   Tools for loading data into memory with multiple file formats.\n",
        "*   High performance for operations such as data merges and joins.\n",
        "*   Manipulation of time series data.\n",
        "*   Easy to manipulate row and column data.\n",
        "*   SQL-like operations.\n",
        "*   Vectorized operations.\n",
        "*   Label-based slicing, indexing, and subsetting of large data sets."
      ]
    },
    {
      "cell_type": "markdown",
      "metadata": {
        "id": "jqSUnFwvjV-R"
      },
      "source": [
        "**Pandas topics covered in this notebook.**\n",
        "\n",
        "1.   How to manipulate Tabular data.\n",
        "2.   Aggregation data on multiple dimensions.\n",
        "3.   SQL-like data join, group, and sort.\n",
        "4.   Powerful data filtering.\n",
        "5.   I/O of multiple file formats.\n",
        "6.   Extensive type support, such as int, float, string, and datetime.\n",
        "7.   Advanced usage of pandas, such as memory usage reduction, sped up file loading and sped up operations."
      ]
    },
    {
      "cell_type": "markdown",
      "metadata": {
        "id": "BfaObOQXidZh"
      },
      "source": [
        "The standard Python installation does not include the Pandas library.\n",
        "\n",
        "You can install Pandas using pip on a local machine:\n",
        "\n",
        "```\n",
        "pip install pandas\n",
        "```\n",
        "\n",
        "*Pandas is available on Colab without the need to pip install it.*\n",
        "\n",
        "In Colab you can just import pandas.  We typically **import pandas as pd** to save typing later.\n"
      ]
    },
    {
      "cell_type": "code",
      "metadata": {
        "id": "KUtsgbbuhsOb"
      },
      "source": [
        "import pandas as pd"
      ],
      "execution_count": 2,
      "outputs": []
    },
    {
      "cell_type": "markdown",
      "metadata": {
        "id": "SE4ulFxQsCyZ"
      },
      "source": [
        "Later, we will need to **import numpy** as np.\n",
        "\n",
        "We can import **numpy as np** now, if we prefer text"
      ]
    },
    {
      "cell_type": "code",
      "metadata": {
        "id": "l9Zl4dCjsJhB"
      },
      "source": [
        "import numpy as np"
      ],
      "execution_count": 3,
      "outputs": []
    },
    {
      "cell_type": "markdown",
      "metadata": {
        "id": "IGQ1MRxSsMT2"
      },
      "source": [
        "*We will come back to the subject of **numpy** in a future class.  Let's focus on **Pandas** first as it will prove useful in your final lab project and many data science projects.  **Numpy** is very powerful also.  We will come back to that.*"
      ]
    },
    {
      "cell_type": "markdown",
      "metadata": {
        "id": "o9ZFaf4G_awl"
      },
      "source": [
        "We will also work with some files to read such as **sample_pandas**.csv.\n",
        "\n",
        "For purposes of this notebook, any files to read are accessed by mounting Google Drive to the Content area of this notebook then opening files in the **data/** folder of **My Drive/**\n",
        "\n",
        "We can mount Google Drive, and **/content/gdrive/My Drive/data/** now.\n"
      ]
    },
    {
      "cell_type": "code",
      "metadata": {
        "colab": {
          "base_uri": "https://localhost:8080/"
        },
        "id": "ENOMvBOu_96w",
        "outputId": "fa9bfb09-2e04-4bcf-c147-47ceb5b75bb1"
      },
      "source": [
        "from google.colab import drive\n",
        "drive.mount('/content/gdrive')"
      ],
      "execution_count": 19,
      "outputs": [
        {
          "output_type": "stream",
          "name": "stdout",
          "text": [
            "Mounted at /content/gdrive\n"
          ]
        }
      ]
    },
    {
      "cell_type": "markdown",
      "metadata": {
        "id": "quFUOh65ARzG"
      },
      "source": [
        "In the event this notebook is not being run on Colab, the content of the **sample_pandas.csv** file is pasted into the next cell."
      ]
    },
    {
      "cell_type": "markdown",
      "metadata": {
        "id": "ih68ifSRAc0P"
      },
      "source": [
        "\n",
        "\n",
        "```\n",
        "animal,uniq_id,water_need\n",
        "elephant,1001,500\n",
        "elephant,1002,600\n",
        "elephant,1003,550\n",
        "tiger,1004,300\n",
        "tiger,1005,320\n",
        "tiger,1006,330\n",
        "tiger,1007,290\n",
        "tiger,1008,310\n",
        "zebra,1009,200\n",
        "zebra,1010,220\n",
        "zebra,1011,240\n",
        "zebra,1012,230\n",
        "zebra,1013,220\n",
        "zebra,1014,100\n",
        "zebra,1015,80\n",
        "lion,1016,420\n",
        "lion,1017,600\n",
        "lion,1018,500\n",
        "lion,1019,390\n",
        "kangaroo,1020,410\n",
        "kangaroo,1021,430\n",
        "kangaroo,1022,410\n",
        "```\n",
        "\n"
      ]
    },
    {
      "cell_type": "markdown",
      "metadata": {
        "id": "cwFMFnNYAbY3"
      },
      "source": [
        "\n",
        "\n",
        "---\n",
        "\n"
      ]
    },
    {
      "cell_type": "markdown",
      "metadata": {
        "id": "svZS7BT7jn2P"
      },
      "source": [
        "## Pandas Data Structures"
      ]
    },
    {
      "cell_type": "markdown",
      "metadata": {
        "id": "Oxbi6U5tjvfG"
      },
      "source": [
        "### Series in Pandas\n",
        "\n",
        "A Series is a one-dimensional array consisting of elements of multiple data types such as int, float, string, and object.\n",
        "\n",
        "A series is just like an N-dimensional NumPy array (ndarray) with an index. You can explicitly specify an index for a Series object, which can be either int or string type. When the specified index is not provided, Series automatically starts at zero and creates an index for the data with a step size of one.\n",
        "\n",
        "A Series can be created using any of the following:\n",
        "\n",
        "*   **Dictionary** or **list**\n",
        "*   **Numpy ndarray**\n",
        "*   **Scalar** value"
      ]
    },
    {
      "cell_type": "markdown",
      "metadata": {
        "id": "JXs49R1XkTb8"
      },
      "source": [
        "\n",
        "**Dictionaries** are data structures more generally known as associative arrays which are used to store data values in key:value pairs. A dictionary is a collection which is ordered, changeable and does not allow duplicates.\n",
        "\n",
        "**Lists** are used to store multiple items in a single variable in Python.  A list is a data structure in Python that is a mutable, or changeable, ordered sequence of elements.\n",
        "\n",
        "An **ndarray** is a (usually fixed-size) multidimensional container of items of the same type and size. The number of dimensions and items in an array is defined by its shape , which is a tuple of N non-negative integers that specify the sizes of each dimension.\n",
        "\n",
        "**Scalars** are single values representing one unit of data, such as an integer or bool , as opposed to data structures like a list or tuple , which are composed of scalars.\n"
      ]
    },
    {
      "cell_type": "markdown",
      "metadata": {
        "id": "LckTOUp3jzxT"
      },
      "source": [
        "### Dataframes in Pandas"
      ]
    },
    {
      "cell_type": "markdown",
      "metadata": {
        "id": "NkGSFviOmBFE"
      },
      "source": [
        "DataFrame is a two-dimensional data structure with columns of different types. You can think of it like an MS Excel or SQL table, or a dictionary of series type objects.\n",
        "\n",
        "Pandas provides many APIs to manipulate the data frame objects using slices, indexing, aggregation, and statistical operations.\n",
        "\n",
        "DataFrame can be created from:\n",
        "\n",
        "*   **Dictionary** of lists and **dictionary** of Series.\n",
        "\n",
        "*   **CSV**, **TSV**, or **MS Excel**.\n",
        "\n",
        "A **CSV** is a comma-separated values file which allows data to be saved in a tabular format. **TSV** is similar to CSV, but the separator is tab instead of a comma.\n",
        "\n",
        "*   A **Numpy ndarray** -- se the definition in the section on Series above."
      ]
    },
    {
      "cell_type": "markdown",
      "metadata": {
        "id": "qpF0q7fPmekm"
      },
      "source": [
        "**Creating a Series**\n",
        "\n",
        "*(one-dimensional array)*\n",
        "\n"
      ]
    },
    {
      "cell_type": "markdown",
      "metadata": {
        "id": "lLvP9NxKnLtM"
      },
      "source": [
        "**Create a Series from a list without an index**\n",
        "\n",
        "Create a Series (**series1**) from the Python List (**list1**) below. \n",
        "\n",
        "By default the index starts at zero.  We use an arbitrary counter (**i**) to reference index numbers for printing. \n",
        "\n"
      ]
    },
    {
      "cell_type": "code",
      "metadata": {
        "id": "wChKMg_knPol"
      },
      "source": [
        "# creating a pandas series and printing a range of values in the series\n",
        "\n",
        "list1 = range(1, 10)\n",
        "\n",
        "series1 = pd.Series(list1)\n",
        "print(\"The pandas series series1 is: \" )\n",
        "print(series1)\n",
        "\n",
        "print(\"\\n------------------\\n\")\n",
        "\n",
        "i=3  # index value to start the while loop\n",
        "print(\"Beginning with the element at index {}, the values through the end of series1 are: \".format(i))\n",
        "while i < len(series1):\n",
        "    print(\"For index {} -> the value in series1 is {}\".format(i, series1[i]))\n",
        "    i += 1"
      ],
      "execution_count": null,
      "outputs": []
    },
    {
      "cell_type": "markdown",
      "metadata": {
        "id": "LoSHMAh9pdQD"
      },
      "source": [
        "In the output of **print(series1)**, we can see two columns. The first column is the index number and the second column is the corresponding data value.\n",
        "\n",
        "We acess a specific value of the series using its index, as in the while loop above where we are accessing the **i**th value of the series.\n",
        "\n"
      ]
    },
    {
      "cell_type": "markdown",
      "metadata": {
        "id": "2MouNSjxqoel"
      },
      "source": [
        "**Creating a Series from a list with a specified index**\n",
        "\n",
        "In the last example, we created a series without a specified index. Here is a Series where the index is not int64, but rather, a string type. \n",
        "\n",
        "A value of the series can be accessed by a string index just like we did with an integer index. The only exception is that now we write the string value in brackets, [], when accessing an element.\n",
        "\n",
        "\n",
        "\n",
        "\n"
      ]
    },
    {
      "cell_type": "code",
      "metadata": {
        "id": "3Ab00tM5qlI7"
      },
      "source": [
        "list2 = range(1, 6)\n",
        "# list2 is [1, 2, 3, 4, 5]\n",
        "\n",
        "index2 = [\"aa\", \"bb\", \"ccc\", \"dddd\", \"eeeeee\"]\n",
        "series2 = pd.Series(list2, index2)\n",
        "\n",
        "print(\"The pandas series series2 is: \" )\n",
        "print(series2)\n",
        "\n",
        "print(\"\\n------------------\\n\")\n",
        "\n",
        "i = \"ccc\"    # this is moot unless we comment out the for loop header\n",
        "\n",
        "for i in index2 :\n",
        "    print(\"the index {} -> value in series2 is {}\".format(i, series2[i]))\n"
      ],
      "execution_count": null,
      "outputs": []
    },
    {
      "cell_type": "markdown",
      "metadata": {
        "id": "Pb6X9tugriRn"
      },
      "source": [
        "A DataFrame object is created where two parameters are passed. The first one is a list of values from lines 1 to 5 (**list2**). The second is an index list (**index2**).\n",
        "\n",
        "In the output of print(**series2**) we can see two columns. The first column is the index and the second column is the corresponding data value.\n",
        "\n",
        "We access a specific value of the series using its index.  In the example above we access the value of index **ccc**."
      ]
    },
    {
      "cell_type": "markdown",
      "metadata": {
        "id": "coBJEhSlr-6P"
      },
      "source": [
        "**Create a Series from a Python dict**\n",
        "\n",
        "\n",
        "In the last section, we accessed the value **series2[“ccc”]** very much like the Python dict type. We can also create a series directly from a dict."
      ]
    },
    {
      "cell_type": "code",
      "metadata": {
        "id": "wX71vz6PsDPW"
      },
      "source": [
        "dict3 = {'bb': 1, 'a': 0, 'ccc': 2}\n",
        "series3 = pd.Series(dict3)\n",
        "\n",
        "print(\"The pandas series series3 is: \" )\n",
        "print(series3)\n",
        "\n",
        "print(\"\\n------------------\\n\")\n",
        "\n",
        "i = \"ccc\"  # this is moot unless we comment out the for loop header\n",
        "\n",
        "for i in dict3 :\n",
        "    print(\"the index {} -> value in series 3 is {}\".format(i, series3[i]))"
      ],
      "execution_count": null,
      "outputs": []
    },
    {
      "cell_type": "markdown",
      "metadata": {
        "id": "Alvx9dmStb2-"
      },
      "source": [
        "A Series is created from **dict3**, which is a normal Python dict object.\n",
        "\n",
        "In the output of print(**series3**) we can see two columns. The first column is the index, and the second column is the corresponding data value.\n",
        "\n",
        "You can access a specific value of the series using its index, just as we access the value of index **ccc**."
      ]
    },
    {
      "cell_type": "markdown",
      "metadata": {
        "id": "QbYsziCOt7ZM"
      },
      "source": [
        "**Create a Series From a Numpy ndarray and a Scalar Value**\n",
        "\n",
        "Creating a Series from a Numpy ndarray is very similar to creating a Series from a Python list."
      ]
    },
    {
      "cell_type": "markdown",
      "metadata": {
        "id": "1VNoIGjrubz9"
      },
      "source": [
        "*First, let's import numpy as np*"
      ]
    },
    {
      "cell_type": "code",
      "metadata": {
        "id": "iHbk_ZBuugK5"
      },
      "source": [
        "import numpy as np"
      ],
      "execution_count": null,
      "outputs": []
    },
    {
      "cell_type": "code",
      "metadata": {
        "id": "8aV7jTeuuizp"
      },
      "source": [
        "list4 = np.arange(1, 10)\n",
        "\n",
        "print(type(list4))\n",
        "\n",
        "print(\"\\n----------------------------\\n\")\n",
        "\n",
        "series4 = pd.Series(list4)\n",
        "print(\"The pandas series series4 is: \" )\n",
        "print(series4)\n",
        "\n",
        "print(\"\\n----------------------------\\n\")\n",
        "\n",
        "i = 3   \n",
        "\n",
        "print(\"the index {} -> value is {}\".format(i, series4[i]))"
      ],
      "execution_count": null,
      "outputs": []
    },
    {
      "cell_type": "markdown",
      "metadata": {
        "id": "vKsRs1TmzWyL"
      },
      "source": [
        "**Create a Series from a scalar value**\n",
        "\n",
        "\n",
        "A Series can be also created from a scalar value. If indices are not provided, then the series only contains a value. If indices are provided, the number of values of the series is the same as the length of the index range.\n"
      ]
    },
    {
      "cell_type": "code",
      "metadata": {
        "id": "WbcB9Wzezixh"
      },
      "source": [
        "series5 = pd.Series(5)\n",
        "\n",
        "print(\"The pandas series series5 is: \" )\n",
        "print(series5)\n",
        "\n",
        "print(\"\\n----------------------------\\n\")\n",
        "\n",
        "series6 = pd.Series(5, index=range(1,4))\n",
        "\n",
        "print(\"The pandas series series6 is: \" )\n",
        "print(series6)"
      ],
      "execution_count": null,
      "outputs": []
    },
    {
      "cell_type": "markdown",
      "metadata": {
        "id": "_G32k2Ix0dkR"
      },
      "source": [
        "A Series with only one element is created from a scalar value in series5. Meanwhile, if you pass a list of indexes like series6, you would get a Series with the same length as the list of indexes.\n"
      ]
    },
    {
      "cell_type": "markdown",
      "metadata": {
        "id": "-ZTIokmJ0eqK"
      },
      "source": [
        "\n",
        "\n",
        "---\n",
        "\n"
      ]
    },
    {
      "cell_type": "markdown",
      "metadata": {
        "id": "G3mD9y4I0fk2"
      },
      "source": [
        "### **Manipulating Series Objects**\n",
        "\n",
        "We can use slicing and vectorization operations to manipulate Series objects.\n"
      ]
    },
    {
      "cell_type": "markdown",
      "metadata": {
        "id": "rI0ijX5M1NzD"
      },
      "source": [
        "**Integer Index**\n",
        "\n",
        "With the [] operation, we can access the specified value by its location, which is an integer index. Just like accessing an element in a native Python list.\n"
      ]
    },
    {
      "cell_type": "markdown",
      "metadata": {
        "id": "H-dTI-vJ1QSv"
      },
      "source": [
        "**Slice object**\n",
        "\n",
        "**start:stop:step** is an object that contains a portion of a sequence.\n",
        "\n",
        "*   If only stop is provided, it generates a portion of a sequence from index 0 to stop, where stop is excluded.\n",
        "\n",
        "*   If only start is provided, it generates a portion of the sequence after the index start until the last element.\n",
        "\n",
        "*   If both start and stop are provided, it generates a portion of the sequence after the index start until the stop where the stop is excluded.\n",
        "\n",
        "*   If start, stop, and step are provided, it generates a portion of the sequence after the index start until stop with an increment of index step.\n",
        "\n"
      ]
    },
    {
      "cell_type": "markdown",
      "metadata": {
        "id": "zHTo0-bT1n8h"
      },
      "source": [
        "**List of indexes**\n",
        "\n",
        "Sometimes, we want to get multiple elements from a Series with multiple indexes; however, there is no pattern between them. You can pass a list of indexes to a Series object with the [] operation to get those elements.\n"
      ]
    },
    {
      "cell_type": "code",
      "metadata": {
        "id": "8513a4pK1plZ"
      },
      "source": [
        "print(\"The pandas series series7 is: \" )\n",
        "series7 = pd.Series(range(1, 20))\n",
        "print(series7)\n",
        "\n",
        "print(\"\\n-----------------\\n\")\n",
        "\n",
        "# integer index\n",
        "print(\"The second value of series7 is {}\".format(series7[1]))\n",
        "\n",
        "print(\"\\n-----------------\\n\")\n",
        "\n",
        "# tuple index\n",
        "print(\"The second and sixth value of series7 is {}\".format(series7[[1, 5]].values))\n",
        "\n",
        "print(\"\\n-----------------\\n\")\n",
        "\n",
        "# to the end elements\n",
        "print(\"All elements of series7 from the sixth index onwards are {}\".format(series7[5:].values))\n",
        "\n",
        "print(\"\\n-----------------\\n\")\n",
        "\n",
        "# [start:stop:step]\n",
        "print(\"All elements of series7 from index=1 to the index=10\"\n",
        "      \"with step=2 onwards are {}\".format(series7[1:10:2].values))\n",
        "\n",
        "print(\"\\n-----------------\\n\")"
      ],
      "execution_count": null,
      "outputs": []
    },
    {
      "cell_type": "markdown",
      "metadata": {
        "id": "tCOpHXyP2_8k"
      },
      "source": [
        "The first example above shows how to access the fifth element from a Series object by passing **5** to the [] operation.\n",
        "\n",
        "The second example above shows how to get two elements from a Series object one time. Just pass a list like **[1, 5**] to the [] operation.\n",
        "\n",
        "The third example above shows how to use a slice object. **5:** means all elements from the index 5.\n",
        "\n",
        "The last example above shows another form of a slice object. **1:10:2** means that after index 1 you go to 10 with an increment of index 2.\n",
        "\n"
      ]
    },
    {
      "cell_type": "markdown",
      "metadata": {
        "id": "ViNQdZPT3hNs"
      },
      "source": [
        "**Advanced Series slicing**\n",
        "\n",
        "The series object in pandas also supports some advanced indexing. It can be used if you want to pick up elements from a series without knowing their exact position or value. You need to know what kind of element you want and what numerical criteria it should meet. In this case, a Boolean index can be used with a series object.\n",
        "\n",
        "As the snippet below shows, we can get all elements that are larger than the median of this data set."
      ]
    },
    {
      "cell_type": "code",
      "metadata": {
        "id": "VtpV-owJ3i8N"
      },
      "source": [
        "print(\"The pandas series series8 is: \" )\n",
        "series8 = pd.Series(range(1, 20))\n",
        "print(series8)\n",
        "print(\"\\n-----------------\\n\")\n",
        "\n",
        "# get all even number\n",
        "s1 = series8[series8 % 2 == 0]\n",
        "print(\"All even numbers in the series are {}\".format(s1.values))\n",
        "print(\"\\n-----------------\\n\")\n",
        "\n",
        "s2 = series8[series8 > 8]\n",
        "print(\"All numbers which are larger than 8 in the series are {}\".format(s2.values))\n",
        "print(\"\\n-----------------\\n\")\n",
        "\n",
        "s3 = series8[series8 > series8.mean()]\n",
        "print(\"All numbers which are larger than the mean of the series are {}\".format(s3.values))\n",
        "print(\"\\n-----------------\\n\")"
      ],
      "execution_count": null,
      "outputs": []
    },
    {
      "cell_type": "markdown",
      "metadata": {
        "id": "S46ZhbZ65l7s"
      },
      "source": [
        "In the example above, **[series8 % 2== 0]** means we only get even numbers from the series.\n",
        "\n",
        "In the example above, **[series8 > 8]** means we only get numbers larger than eight from the series.\n",
        "\n",
        "In the example above, **[series8 > series8.mean()]** means we only get numbers larger than the mean of the series."
      ]
    },
    {
      "cell_type": "markdown",
      "metadata": {
        "id": "Cvx18_ew6FWD"
      },
      "source": [
        "**Series Vectorization operations**\n",
        "\n",
        "Pandas supports most of the Numpy functions. You can manipulate the series just like a Numpy ndarray. This is a very important feature because Vectorization is a more efficient operation, and in most cases, it performs much faster than pure for loops.\n"
      ]
    },
    {
      "cell_type": "code",
      "metadata": {
        "id": "HCzLcKBIrv2a"
      },
      "source": [
        "print(\"The pandas series series9 is: \" )\n",
        "series9 = pd.Series(range(1, 8))\n",
        "print(series9)\n",
        "\n",
        "print(\"\\n-----------------\\n\")\n",
        "\n",
        "vectored1 = series9 * 2\n",
        "print(\"Multiplying all elements by 2.\\nThe original series is {}.\\n\"\n",
        "      \"The new series is {}\".format(series9.values, vectored1.values))\n",
        "\n",
        "print(\"\\n-----------------\\n\")\n",
        "\n",
        "vectored2 = series9 + series9 \n",
        "print(\"Adding two series objects.\\nThe original series is {}.\\n\"\n",
        "      \"The new series is {}\".format(series9.values, vectored2.values))\n",
        "\n",
        "print(\"\\n-----------------\\n\")\n",
        "\n",
        "vectored3 = np.sin(series9)\n",
        "print(\"Applying sin() to all elements.\\nThe original series is {}.\\n\"\n",
        "      \"The new series is {}\".format(series9.values, vectored3.values))"
      ],
      "execution_count": null,
      "outputs": []
    },
    {
      "cell_type": "markdown",
      "metadata": {
        "id": "0bjNgoFJ7xpf"
      },
      "source": [
        "The example shows how to do normal math operations on a Series object. As you can see, you can add two Series objects directly without a for loop.\n",
        "\n",
        "It also shows how to apply a **sin** (**Nump**y function) operation to the entire series object."
      ]
    },
    {
      "cell_type": "markdown",
      "metadata": {
        "id": "11Gk7ljftEai"
      },
      "source": [
        "\n",
        "\n",
        "---\n",
        "\n"
      ]
    },
    {
      "cell_type": "markdown",
      "metadata": {
        "id": "K1gxFAXWtFM_"
      },
      "source": [
        "### **Creating a DataFrame From Arrays and Lists**\n",
        "\n",
        "*   Creating a Pandas DataFrame from a Numpy ndarray\n",
        "\n",
        "*   Creating a Pandas DataFrame from a dictionary of lists"
      ]
    },
    {
      "cell_type": "markdown",
      "metadata": {
        "id": "cUfTW1trtv_f"
      },
      "source": [
        "**Creating a Pandas DataFrame from a Numpy ndarray**\n",
        "\n",
        "A Pandas DataFrame is similar to a 2D **Numpy** array which simpifies creating one from a **Numpy** **ndarray**.\n",
        "\n",
        "Remember that the input **Numpy ndarray** array must be a two-dimensional (2D) array or you will get a ValueError.\n",
        "\n",
        "If we pass a raw **Numpy ndarray** to **Pandas**, the index and column names start at 0 by default. We can also assign different column names to the data which will be discussed later.\n",
        "\n"
      ]
    },
    {
      "cell_type": "code",
      "metadata": {
        "id": "RiKea1Pqu7M0"
      },
      "source": [
        "# create a 2x3 Numpy ndarray of random float values\n",
        "nda1 = np.random.normal(size=(2,3))\n",
        "print(\"The original Numpy array\")\n",
        "print(nda1)\n",
        "\n",
        "print(\"\\n---------------------\\n\")\n",
        "\n",
        "# create a Pandas DataFrame from the ndarry da1\n",
        "df1 = pd.DataFrame(nda1)\n",
        "print(\"The DataFrame \")\n",
        "print(df1)\n"
      ],
      "execution_count": null,
      "outputs": []
    },
    {
      "cell_type": "markdown",
      "metadata": {
        "id": "oDobCCQ9vg3i"
      },
      "source": [
        "In the example above, the 2x3 Numpy ndarray (**nda1**) of random values is passed to Pandas to create a DataFrame (**df1**) with the same content. "
      ]
    },
    {
      "cell_type": "markdown",
      "metadata": {
        "id": "xOnuq_5-v8Mk"
      },
      "source": [
        "**Creating a Pandas DataFrame from a dictionary of lists**\n",
        "\n",
        "We have already created a Pandas Series from a dictionary. We can also create a DataFrame object from a dictionary of lists. The difference is that in a series, the key is the index whereas, in a DataFrame, object, the key is the column name.\n",
        "\n",
        "To specify an index for each column value, only the rows with the same index value will be joined; otherwise, a new row is created, and its columns are filled by NaN if the type is int or float.\n",
        "\n",
        "We can specify an index for each column value by nesting a dictionary in another dictionary.\n",
        "\n",
        "The example code below shows both single and multi-level indexing in the DataFrame."
      ]
    },
    {
      "cell_type": "markdown",
      "metadata": {
        "id": "3_qss4rCznEF"
      },
      "source": [
        "![python-dict_to_pandas-df.png](data:image/png;base64,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)"
      ]
    },
    {
      "cell_type": "code",
      "metadata": {
        "id": "NPCyO91Ky8aa"
      },
      "source": [
        "\n",
        "# example 1: init a dataframe by dict without index\n",
        "dict2 = {\"a\": [1, 2, 3, 4], \"b\": [2, 4, 6, 8]}\n",
        "print(\"The dict2 dictionary \")\n",
        "print(dict2)\n",
        "\n",
        "\n",
        "\n",
        "df2 = pd.DataFrame(dict2)\n",
        "print(\"The df2 DataFrame \")\n",
        "print(df2)\n",
        "\n",
        "print(\"\\n---------------------\\n\")\n",
        "\n",
        "print(\"The values of column a in df2 are {}\".format(df2[\"a\"].values))\n",
        "\n",
        "print(\"\\n---------------------\\n\")\n",
        "\n",
        "# example 2: init a dataframe by dict with different index\n",
        "dict3 = {\"a\": {\"a1\":1, \"a2\":2, \"c\":3}, \"b\":{\"b1\":2, \"b2\":4, \"c\":9}}\n",
        "df3 = pd.DataFrame(dict3)\n",
        "print(\"The df3 DataFrame \")\n",
        "print(df3)\n"
      ],
      "execution_count": null,
      "outputs": []
    },
    {
      "cell_type": "markdown",
      "metadata": {
        "id": "lUQO-UOn0z1f"
      },
      "source": [
        "\n",
        "In the **df2** example, a Python dict is created then is passed to pd.DataFrame to create a DataFrame object.\n",
        "\n",
        "In the **df3** example, a nested Python dictionary is created, then is passed to pd.DataFrame to create a DataFrame object."
      ]
    },
    {
      "cell_type": "markdown",
      "metadata": {
        "id": "csbWWRf904Om"
      },
      "source": [
        "**Creating a DataFrame From a Series**\n",
        "\n",
        "\n",
        "*   Create a DataFrame from a dictionary of series\n",
        "\n",
        "*   Create DataFrame using from_dict"
      ]
    },
    {
      "cell_type": "markdown",
      "metadata": {
        "id": "IddPWM7k1d0H"
      },
      "source": [
        "**Create a DataFrame from a dictionary of series**\n",
        "\n",
        "A DataFrame can be created from a list of series or a dictionary of series.\n",
        "\n",
        "If two series objects have different indexes, they wouldn’t be joined by an index, as the second example below shows.\n"
      ]
    },
    {
      "cell_type": "code",
      "metadata": {
        "id": "5KuNauLw1iw_"
      },
      "source": [
        "\n",
        "# example 1: series without index\n",
        "series1 = {\"a\": pd.Series(range(1, 3)), \"b\": pd.Series(range(2, 4))}\n",
        "print(\"Series1 \")\n",
        "print(series1)\n",
        "\n",
        "print(\"\\n--------------------\\n\")\n",
        "\n",
        "df1 = pd.DataFrame(series1)\n",
        "print(\"dataframe df1 created from dict of series1 Series\")\n",
        "print(df1)\n",
        "\n",
        "print(\"\\n--------------------\\n\")\n",
        "\n",
        "# example 2: series with index\n",
        "\n",
        "series2 = {\n",
        "    \"a\": pd.Series(range(1, 3), index=[\"a\", \"b\"]),\n",
        "    \"b\": pd.Series(range(2, 4), index=[\"b\", \"c\"])\n",
        "}\n",
        "\n",
        "print(\"Series2 \")\n",
        "print(series2)\n",
        "\n",
        "\n",
        "print(\"\\n--------------------\\n\")\n",
        "\n",
        "df2 = pd.DataFrame(series2)\n",
        "print(\"dataframe df2 created from dict of series2 Series with index\")\n",
        "print(df2)\n"
      ],
      "execution_count": null,
      "outputs": []
    },
    {
      "cell_type": "markdown",
      "metadata": {
        "id": "rNSeeQqe22fM"
      },
      "source": [
        "**NaN** - stands for not a number, is a numeric data type used to represent any value that is undefined or unpresentable.  \n",
        "\n",
        "In many cases, **NaN** can be treated as missing data."
      ]
    },
    {
      "cell_type": "markdown",
      "metadata": {
        "id": "5H8fFn6J3tuv"
      },
      "source": [
        "A Python dict series1 is created as a Series object that is then passed to pd.DataFrame to create df1, a DataFrame object.\n",
        "\n",
        "The second example above also creates a Python dict that is a Series object with an index.\n"
      ]
    },
    {
      "cell_type": "markdown",
      "metadata": {
        "id": "w6PsAYOb4aAA"
      },
      "source": [
        "**Create a DataFrame using from_dict**\n",
        "\n",
        "DataFrame provides many constructors to create a new DataFrame.  We have created a DataFrame using the default constructor from dict.\n",
        "\n",
        "DataFrame also has a **from_dict()** function, which takes a dict of dicts or a dict of array-like sequences and returns a DataFrame.\n",
        "\n",
        "The **from_dict()** function provides the ability to use an orient parameter to re-orient the default value columns. Using the value index we can make the dict keys row labels."
      ]
    },
    {
      "cell_type": "code",
      "metadata": {
        "id": "pHj8ejIJ4i_e"
      },
      "source": [
        "\n",
        "dict4 = {\"a\": [1, 2, 3, 4], \"b\": [2, 4, 6, 8]}\n",
        "print(\"Dictionary dict4 \")\n",
        "print(dict4)\n",
        "\n",
        "print(\"\\n--------------------\\n\")\n",
        "\n",
        "df4 = pd.DataFrame.from_dict(dict4)\n",
        "print(\"dataframe df4 created using from_dict(dict4) \")\n",
        "print(df4)\n",
        "\n",
        "print(\"\\n--------------------\\n\")\n",
        "\n",
        "df5 = pd.DataFrame.from_dict(dict4, orient=\"index\")\n",
        "print(\"dataframe df5 created using from_dict(dict4) and realigning the orientation\")\n",
        "print(df5)\n"
      ],
      "execution_count": null,
      "outputs": []
    },
    {
      "cell_type": "code",
      "metadata": {
        "id": "WUvbEQbQ6HUt"
      },
      "source": [
        ""
      ],
      "execution_count": null,
      "outputs": []
    },
    {
      "cell_type": "markdown",
      "metadata": {
        "id": "JU9t9IPx563b"
      },
      "source": [
        "\n",
        "\n",
        "---\n",
        "\n"
      ]
    },
    {
      "cell_type": "markdown",
      "metadata": {
        "id": "lmXSMD5857im"
      },
      "source": [
        "### **Creating a DataFrame from a file**\n",
        "\n",
        "*   reading a CSV file into a Pandas DataFrame\n",
        "\n"
      ]
    },
    {
      "cell_type": "markdown",
      "metadata": {
        "id": "90D6VLnJ-Cs_"
      },
      "source": [
        "**Creating a DataFrame From CSV Files**\n",
        "\n",
        "*   Create a DataFrame reading a CSV/TSV/Excel file\n",
        "\n",
        "Most data is stored in files. For data analysis purposes, it is common to share data in CSV (comma-separated values), TSV (tab-separated values), or Excel files\n",
        "\n",
        "Pandas supports multiple file types, including CSV, TSV, and Excel.\n",
        "\n",
        "Pandas **read_csv()** function includes use of the following optional parameters:\n",
        "\n",
        "*   **sep** - If sep is None, Python will automatically detect the separator. The default separator is a comma (,).\n",
        "\n",
        "*   **header** - If no names are passed, the behavior is identical to header=0 and column names are inferred from the first line of the file.  If the column names are passed explicitly, then the behavior is identical to the header=None.\n",
        "\n",
        "*   **names** - List of column names provided. If the file contains a header row and you want to specify other column names with names then you need to specify the header=0 parameter to override the names in row 0.\n",
        "\n",
        "*   **nrows** - Specifies the number of rows to read.\n",
        "\n",
        "*   **usecols** - Return a subset of the columns. This parameter can be passed the column names such as [\"a\", \"b\"]\n",
        "\n",
        "*   **head() function** - Used to show the first n rows of the file read.  The default head() value is 10 rows of data to display."
      ]
    },
    {
      "cell_type": "markdown",
      "metadata": {
        "id": "5JSPZH2A-z2J"
      },
      "source": [
        "![pandas_read_csv.png](data:image/png;base64,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)"
      ]
    },
    {
      "cell_type": "code",
      "metadata": {
        "id": "TvEd9S9H-bSl"
      },
      "source": [
        "\n",
        "# example: read all the files, use original column names\n",
        "df6 = pd.read_csv(\"/content/gdrive/My Drive/data/sample_pandas.csv\", sep=\",\")\n",
        "print(\"Print the first row\")\n",
        "print(df6.head(1))\n",
        "\n",
        "print(\"\\n--------------------\\n\")\n",
        "\n",
        "df7 = pd.read_csv(\"/content/gdrive/My Drive/data/sample_pandas.csv\", sep=\",\", nrows=10)\n",
        "print(\"only read 10 rows\")\n",
        "print(\"The number of rows in this dataframe is {}\".format(df7.shape[0]))\n",
        "\n",
        "print(\"\\n--------------------\\n\")\n",
        "\n",
        "df8 = pd.read_csv(\"/content/gdrive/My Drive/data/sample_pandas.csv\", sep=\",\", header=0, names=[\"a\", \"b\", \"c\"])\n",
        "print(\"use the new column names\")\n",
        "print(df8.head(1))\n",
        "\n",
        "print(\"\\n--------------------\\n\")\n",
        "\n",
        "df9 = pd.read_csv(\"/content/gdrive/My Drive/data/sample_pandas.csv\", sep=\",\", header=0, usecols=[\"animal\"])\n",
        "print(\"only read the animal column\")\n",
        "print(df9.head(1))\n"
      ],
      "execution_count": null,
      "outputs": []
    },
    {
      "cell_type": "markdown",
      "metadata": {
        "id": "lilPyYL5-2_4"
      },
      "source": [
        "The **df6** example shows how to load a CSV file by calling **pd.read_csv()**.\n",
        "\n",
        "To load part of a file, such as the first 10 lines, see the **df7** example that pass the parameter nrows=10.\n",
        "\n",
        "The **df8** example shows how to load a CSV file and assign column names for each column by setting names.\n",
        "\n",
        "The **df9** example shows how to load a subset column from a file by setting parameter usecols=['animal']. In this example, only the animal column is loaded."
      ]
    },
    {
      "cell_type": "markdown",
      "metadata": {
        "id": "7KBfHxeoDgU-"
      },
      "source": [
        "Let's use Pandas red_csv() to read the addresses.csv file from our earlier class. "
      ]
    },
    {
      "cell_type": "code",
      "metadata": {
        "id": "P6W5VdLBDsAD"
      },
      "source": [
        "# example: read all the files, use original column names\n",
        "df6 = pd.read_csv(\"/content/gdrive/My Drive/data/addresses.csv\", sep=\",\")\n",
        "\n",
        "print(\"Printing the df6 DataFrame \")\n",
        "print(df6)\n",
        "\n",
        "print(\"\\n--------------------\\n\")\n",
        "\n",
        "print(\"Remember that addresses.csv had blank spaces after each comma on row 0.\")\n",
        "\n",
        "print(\"Printing each column name (field) \\n\")\n",
        "\n",
        "for column in df6 :\n",
        "    print(column)\n",
        "    for character in column:\n",
        "         print(character)\n",
        "    print(\"--------------------\\n\")\n"
      ],
      "execution_count": null,
      "outputs": []
    },
    {
      "cell_type": "markdown",
      "metadata": {
        "id": "85Qk4Y9jFkos"
      },
      "source": [
        "\n",
        "\n",
        "---\n",
        "\n"
      ]
    }
  ]
}