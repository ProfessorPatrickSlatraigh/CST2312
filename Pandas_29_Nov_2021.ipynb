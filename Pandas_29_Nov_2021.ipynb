{
  "nbformat": 4,
  "nbformat_minor": 0,
  "metadata": {
    "colab": {
      "name": "Pandas_29-Nov-2021.ipynb",
      "provenance": [],
      "authorship_tag": "ABX9TyNswxhGPIyOiUvDTnCBnI7o",
      "include_colab_link": true
    },
    "kernelspec": {
      "name": "python3",
      "display_name": "Python 3"
    },
    "language_info": {
      "name": "python"
    }
  },
  "cells": [
    {
      "cell_type": "markdown",
      "metadata": {
        "id": "view-in-github",
        "colab_type": "text"
      },
      "source": [
        "<a href=\"https://colab.research.google.com/github/ProfessorPatrickSlatraigh/CST2312/blob/main/Pandas_29_Nov_2021.ipynb\" target=\"_parent\"><img src=\"https://colab.research.google.com/assets/colab-badge.svg\" alt=\"Open In Colab\"/></a>"
      ]
    },
    {
      "cell_type": "markdown",
      "metadata": {
        "id": "8BwhTvv5hxTO"
      },
      "source": [
        "# **Pandas**"
      ]
    },
    {
      "cell_type": "markdown",
      "metadata": {
        "id": "_-_E6A-Eh3KT"
      },
      "source": [
        "Pandas is an open-source Python library that provides powerful, flexible and high-performance tools to process data. It was developed in 2008 by Wes McKinney.\n",
        "\n",
        "Some of Pandas features include:\n",
        "\n",
        "*   High-performance DataFrame objects with effective indexing.\n",
        "*   Tools for loading data into memory with multiple file formats.\n",
        "*   High performance for operations such as data merges and joins.\n",
        "*   Manipulation of time series data.\n",
        "*   Easy to manipulate row and column data.\n",
        "*   SQL-like operations.\n",
        "*   Vectorized operations.\n",
        "*   Label-based slicing, indexing, and subsetting of large data sets."
      ]
    },
    {
      "cell_type": "markdown",
      "metadata": {
        "id": "jqSUnFwvjV-R"
      },
      "source": [
        "**Pandas topics covered in this notebook.**\n",
        "\n",
        "1.   How to manipulate Tabular data.\n",
        "2.   Aggregation data on multiple dimensions.\n",
        "3.   SQL-like data join, group, and sort.\n",
        "4.   Powerful data filtering.\n",
        "5.   I/O of multiple file formats.\n",
        "6.   Extensive type support, such as int, float, string, and datetime.\n",
        "7.   Advanced usage of pandas, such as memory usage reduction, sped up file loading and sped up operations."
      ]
    },
    {
      "cell_type": "markdown",
      "metadata": {
        "id": "BfaObOQXidZh"
      },
      "source": [
        "The standard Python installation does not include the Pandas library.\n",
        "\n",
        "You can install Pandas using pip on a local machine:\n",
        "\n",
        "```\n",
        "pip install pandas\n",
        "```\n",
        "\n",
        "*Pandas is available on Colab without the need to pip install it.*\n",
        "\n",
        "In Colab you can just import pandas.  We typically **import pandas as pd** to save typing later.\n"
      ]
    },
    {
      "cell_type": "code",
      "metadata": {
        "id": "KUtsgbbuhsOb"
      },
      "source": [
        "import pandas as pd"
      ],
      "execution_count": 2,
      "outputs": []
    },
    {
      "cell_type": "markdown",
      "metadata": {
        "id": "svZS7BT7jn2P"
      },
      "source": [
        "## Pandas Data Structures"
      ]
    },
    {
      "cell_type": "markdown",
      "metadata": {
        "id": "Oxbi6U5tjvfG"
      },
      "source": [
        "### Series in Pandas\n",
        "\n",
        "A Series is a one-dimensional array consisting of elements of multiple data types such as int, float, string, and object.\n",
        "\n",
        "A series is just like an N-dimensional NumPy array (ndarray) with an index. You can explicitly specify an index for a Series object, which can be either int or string type. When the specified index is not provided, Series automatically starts at zero and creates an index for the data with a step size of one.\n",
        "\n",
        "A Series can be created using any of the following:\n",
        "\n",
        "*   **Dictionary** or **list**\n",
        "*   **Numpy ndarray**\n",
        "*   **Scalar** value"
      ]
    },
    {
      "cell_type": "markdown",
      "metadata": {
        "id": "JXs49R1XkTb8"
      },
      "source": [
        "\n",
        "**Dictionaries** are data structures more generally known as associative arrays which are used to store data values in key:value pairs. A dictionary is a collection which is ordered, changeable and does not allow duplicates.\n",
        "\n",
        "**Lists** are used to store multiple items in a single variable in Python.  A list is a data structure in Python that is a mutable, or changeable, ordered sequence of elements.\n",
        "\n",
        "An **ndarray** is a (usually fixed-size) multidimensional container of items of the same type and size. The number of dimensions and items in an array is defined by its shape , which is a tuple of N non-negative integers that specify the sizes of each dimension.\n",
        "\n",
        "**Scalars** are single values representing one unit of data, such as an integer or bool , as opposed to data structures like a list or tuple , which are composed of scalars.\n"
      ]
    },
    {
      "cell_type": "markdown",
      "metadata": {
        "id": "LckTOUp3jzxT"
      },
      "source": [
        "### Dataframes in Pandas"
      ]
    },
    {
      "cell_type": "markdown",
      "metadata": {
        "id": "NkGSFviOmBFE"
      },
      "source": [
        "DataFrame is a two-dimensional data structure with columns of different types. You can think of it like an MS Excel or SQL table, or a dictionary of series type objects.\n",
        "\n",
        "Pandas provides many APIs to manipulate the data frame objects using slices, indexing, aggregation, and statistical operations.\n",
        "\n",
        "DataFrame can be created from:\n",
        "\n",
        "*   **Dictionary** of lists and **dictionary** of Series.\n",
        "\n",
        "*   **CSV**, **TSV**, or **MS Excel**.\n",
        "\n",
        "A **CSV** is a comma-separated values file which allows data to be saved in a tabular format. **TSV** is similar to CSV, but the separator is tab instead of a comma.\n",
        "\n",
        "*   A **Numpy ndarray** -- se the definition in the section on Series above."
      ]
    },
    {
      "cell_type": "markdown",
      "metadata": {
        "id": "qpF0q7fPmekm"
      },
      "source": [
        "**Creating a Series**\n",
        "\n",
        "*(one-dimensional array)*\n",
        "\n"
      ]
    },
    {
      "cell_type": "markdown",
      "metadata": {
        "id": "lLvP9NxKnLtM"
      },
      "source": [
        "**Create a Series from a list without an index**\n",
        "\n",
        "Create a Series (**series1**) from the Python List (**list1**) below. \n",
        "\n",
        "By default the index starts at zero.  We use an arbitrary counter (**i**) to reference index numbers for printing. \n",
        "\n"
      ]
    },
    {
      "cell_type": "code",
      "metadata": {
        "id": "wChKMg_knPol"
      },
      "source": [
        "# creating a pandas series and printing a range of values in the series\n",
        "\n",
        "list1 = range(1, 10)\n",
        "\n",
        "series1 = pd.Series(list1)\n",
        "print(\"The pandas series series1 is: \" )\n",
        "print(series1)\n",
        "\n",
        "print(\"\\n------------------\\n\")\n",
        "\n",
        "i=3  # index value to start the while loop\n",
        "print(\"Beginning with the element at index {}, the values through the end of series1 are: \".format(i))\n",
        "while i < len(series1):\n",
        "    print(\"For index {} -> the value is {}\".format(i, series1[i]))\n",
        "    i += 1"
      ],
      "execution_count": null,
      "outputs": []
    },
    {
      "cell_type": "markdown",
      "metadata": {
        "id": "LoSHMAh9pdQD"
      },
      "source": [
        "In the output of **print(series1)**, we can see two columns. The first column is the index number and the second column is the corresponding data value.\n",
        "\n",
        "We acess a specific value of the series using its index, as in the while loop above where we are accessing the **i**th value of the series.\n",
        "\n"
      ]
    },
    {
      "cell_type": "markdown",
      "metadata": {
        "id": "2MouNSjxqoel"
      },
      "source": [
        "**Creating a Series from a list with a specified index**\n",
        "\n",
        "In the last example, we created a series without a specified index. Here is a Series where the index is not int64, but rather, a string type. \n",
        "\n",
        "A value of the series can be accessed by a string index just like we did with an integer index. The only exception is that now we write the string value in brackets, [], when accessing an element.\n",
        "\n",
        "\n",
        "\n",
        "\n"
      ]
    },
    {
      "cell_type": "code",
      "metadata": {
        "colab": {
          "base_uri": "https://localhost:8080/"
        },
        "id": "3Ab00tM5qlI7",
        "outputId": "c9eb71e1-7403-4abe-9a39-b34531a068ba"
      },
      "source": [
        "list2 = range(1, 6)\n",
        "# list2 is [1, 2, 3, 4, 5]\n",
        "\n",
        "index2 = [\"aa\", \"bb\", \"ccc\", \"dddd\", \"eeeeee\"]\n",
        "series2 = pd.Series(list2, index2)\n",
        "\n",
        "print(\"The pandas series series2 is: \" )\n",
        "print(series2)\n",
        "\n",
        "print(\"\\n------------------\\n\")\n",
        "\n",
        "i = \"ccc\"\n",
        "print(\"the index {} -> value is {}\".format(i, series2[i]))\n"
      ],
      "execution_count": 9,
      "outputs": [
        {
          "output_type": "stream",
          "name": "stdout",
          "text": [
            "The pandas series series2 is: \n",
            "aa        1\n",
            "bb        2\n",
            "ccc       3\n",
            "dddd      4\n",
            "eeeeee    5\n",
            "dtype: int64\n",
            "\n",
            "------------------\n",
            "\n",
            "the index ccc -> value is 3\n"
          ]
        }
      ]
    },
    {
      "cell_type": "markdown",
      "metadata": {
        "id": "Pb6X9tugriRn"
      },
      "source": [
        "A DataFrame object is created where two parameters are passed. The first one is a list of values from lines 1 to 5 (**list2**). The second is an index list (**index2**).\n",
        "\n",
        "In the output of print(**series2**) we can see two columns. The first column is the index and the second column is the corresponding data value.\n",
        "\n",
        "We access a specific value of the series using its index.  In the example above we access the value of index **ccc**."
      ]
    }
  ]
}