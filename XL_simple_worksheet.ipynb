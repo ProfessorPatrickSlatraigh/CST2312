{
  "nbformat": 4,
  "nbformat_minor": 0,
  "metadata": {
    "colab": {
      "name": "XL_simple-worksheet.ipynb",
      "provenance": [],
      "authorship_tag": "ABX9TyPjGQyPxwhssFrjrwYAYXrd",
      "include_colab_link": true
    },
    "kernelspec": {
      "name": "python3",
      "display_name": "Python 3"
    },
    "language_info": {
      "name": "python"
    }
  },
  "cells": [
    {
      "cell_type": "markdown",
      "metadata": {
        "id": "view-in-github",
        "colab_type": "text"
      },
      "source": [
        "<a href=\"https://colab.research.google.com/github/ProfessorPatrickSlatraigh/CST2312/blob/main/XL_simple_worksheet.ipynb\" target=\"_parent\"><img src=\"https://colab.research.google.com/assets/colab-badge.svg\" alt=\"Open In Colab\"/></a>"
      ]
    },
    {
      "cell_type": "markdown",
      "metadata": {
        "id": "FRTzh_KEUAlV"
      },
      "source": [
        "# **Excel - Create a Simple Worksheet**\n",
        "\n",
        "*using openpyxl*\n"
      ]
    },
    {
      "cell_type": "markdown",
      "metadata": {
        "id": "EQI9oif2UGEu"
      },
      "source": [
        "\n",
        "\n",
        "---\n",
        "\n"
      ]
    },
    {
      "cell_type": "markdown",
      "metadata": {
        "id": "QJiGW_hbUKEF"
      },
      "source": [
        "Mount Google Drive.\n",
        "\n",
        "Workbooks and related files will be stored in the **excel** folder of **My Drive**."
      ]
    },
    {
      "cell_type": "code",
      "metadata": {
        "colab": {
          "base_uri": "https://localhost:8080/"
        },
        "id": "Ns8F3wKYTwOn",
        "outputId": "7943a237-159b-4e0a-f2aa-e259d2e0344a"
      },
      "source": [
        "from google.colab import drive\n",
        "drive.mount('/content/gdrive')"
      ],
      "execution_count": 29,
      "outputs": [
        {
          "output_type": "stream",
          "name": "stdout",
          "text": [
            "Drive already mounted at /content/gdrive; to attempt to forcibly remount, call drive.mount(\"/content/gdrive\", force_remount=True).\n"
          ]
        }
      ]
    },
    {
      "cell_type": "markdown",
      "metadata": {
        "id": "aE-hniRjXUz0"
      },
      "source": [
        "Not necessary, but check the default directory on Colab and list the files in content/gdrive/MyDrive/excel."
      ]
    },
    {
      "cell_type": "code",
      "metadata": {
        "colab": {
          "base_uri": "https://localhost:8080/"
        },
        "id": "CSBuZwwFXeGA",
        "outputId": "dccc492b-4737-4c71-f86a-568e2be8f43d"
      },
      "source": [
        "print(\"The current working directory is: \")\n",
        "! pwd\n",
        "print(\"\\nThe contents of /content/gdrive/excel/ -\")\n",
        "! ls /content/gdrive/MyDrive/excel/ -a"
      ],
      "execution_count": 30,
      "outputs": [
        {
          "output_type": "stream",
          "name": "stdout",
          "text": [
            "The current working directory is: \n",
            "/content\n",
            "\n",
            "The contents of /content/gdrive/excel/ -\n",
            " CUNY_campuses_BACKUP.xlsx  'New Microsoft Excel Worksheet.xlsx'\n"
          ]
        }
      ]
    },
    {
      "cell_type": "markdown",
      "metadata": {
        "id": "iaUsAkRIbX4F"
      },
      "source": [
        "Install **openpyxl** module for Python, if it is needed.\n",
        "\n",
        "Try the cell with the import of **openpyxl** before pip installing the module."
      ]
    },
    {
      "cell_type": "code",
      "metadata": {
        "id": "QwXtXrXnbSTW"
      },
      "source": [
        "# You only need to try running this cell if the next cell throws an Exception\n",
        "! pip install openpyxl"
      ],
      "execution_count": null,
      "outputs": []
    },
    {
      "cell_type": "markdown",
      "metadata": {
        "id": "HbpSHpHhUZFT"
      },
      "source": [
        "Import **openpyxl** module."
      ]
    },
    {
      "cell_type": "code",
      "metadata": {
        "id": "pCw4vqHnVxJ9"
      },
      "source": [
        "try:\n",
        "    import openpyxl\n",
        "except:\n",
        "    raise Exception(\"Unable to import pyxl module.  Check pip import openpyxl.\")"
      ],
      "execution_count": 31,
      "outputs": []
    },
    {
      "cell_type": "markdown",
      "metadata": {
        "id": "I-mUebMsciR2"
      },
      "source": [
        "At this point you should have access to the **excel** directory in the **content** folder of your **Colab** environment and you should have the **openpyxl** module imported.\n",
        "\n",
        "You are ready to work on **Excel** sheets and workbooks in **Python**!\n"
      ]
    },
    {
      "cell_type": "markdown",
      "metadata": {
        "id": "iejLR513c6lB"
      },
      "source": [
        "\n",
        "\n",
        "---\n",
        "\n"
      ]
    },
    {
      "cell_type": "markdown",
      "metadata": {
        "id": "v-LIAJovc70n"
      },
      "source": [
        "Create an **openpyxl** Workbook object named **wb**\n",
        "\n",
        "Create an **openpyxl** worksheet object named **ws** as the active worksheet in the workbook **wb**.\n"
      ]
    },
    {
      "cell_type": "code",
      "metadata": {
        "colab": {
          "base_uri": "https://localhost:8080/"
        },
        "id": "KJt-9Lb-d1JD",
        "outputId": "6501888c-e561-40d9-bc9c-9b60e9ccc58a"
      },
      "source": [
        "wb = openpyxl.Workbook()\n",
        "ws = wb.active\n",
        "\n",
        "print(\"The type of wb is: \", type(wb))\n",
        "print(\"The type of ws is: \", type(ws))\n",
        "print(\"The active worksheet is: ws in the workbook: wb.\")"
      ],
      "execution_count": 32,
      "outputs": [
        {
          "output_type": "stream",
          "name": "stdout",
          "text": [
            "The type of wb is:  <class 'openpyxl.workbook.workbook.Workbook'>\n",
            "The type of ws is:  <class 'openpyxl.worksheet.worksheet.Worksheet'>\n",
            "The active worksheet is: ws in the workbook: wb.\n"
          ]
        }
      ]
    },
    {
      "cell_type": "markdown",
      "metadata": {
        "id": "zs9OUBPLeaPy"
      },
      "source": [
        "We have an active worksheet in a workbook, in memory now -- it has not been saved to a filename on disk yet!  "
      ]
    },
    {
      "cell_type": "markdown",
      "metadata": {
        "id": "wmzPp_S-eiIp"
      },
      "source": [
        "Create a matrix as a list of lists with some data which we will add to the ws worksheet.\n",
        "\n",
        "For this example, use the names of CUNY campuses and their street adddress, and borough in New York City.\n",
        "\n",
        "Store that data as a matrix of lists (rows) within a list (range).\n",
        "\n",
        "Each row list will have three elements, representing three columns in a sheet.\n",
        "\n",
        "The matrix_range list will begin with a list of the three column headings.\n"
      ]
    },
    {
      "cell_type": "code",
      "metadata": {
        "id": "Hc--M0rVe0Xk"
      },
      "source": [
        "matrix_range = [\n",
        "[\"Campus\",\"Address\",\"Borough\"], \n",
        "[\"Baruch College\",\"55 Lexington Avenue\",\"Manhattan\"], \n",
        "[\"Borough of Mahattan Community College\",\"199 Chambers Street\",\"Manhattan\"], \n",
        "[\"Bronx Community College\",\"2155 University Avenue\",\"Bronx\"], \n",
        "[\"Brooklyn College\",\"2900 Bedford Avenue\",\"Brooklyn\"], \n",
        "[\"College of Staten Island\",\"2800 Victory Boulevard\",\"Staten Island\"], \n",
        "[\"Craig Newmark Graduate School of Journalism\",\"219 W 40th Street\",\"Manhattan\"], \n",
        "[\"CUNY Graduate Center\",\"365 Fifth Avenue\",\"Manhattan\"], \n",
        "[\"CUNY Graduate School of Public Health and Health Policy\",\"55 W 125th Street\",\"Manhattan\"], \n",
        "[\"CUNY School of Labor and Urban Studies\",\"25 W 23rd Street\",\"Manhattan\"], \n",
        "[\"CUNY School of Law\",\"2 Court Square\",\"Queens\"], \n",
        "[\"CUNY School of Professional Studies\",\"119 W 31st Street\",\"Manhattan\"], \n",
        "[\"Guttman Community College\",\"50 W 40th Street\",\"Manhattan\"], \n",
        "[\"Hostos Community College\",\"500 Grand Concourse\",\"Bronx\"], \n",
        "[\"Hunter College\",\"695 Park Avenue\",\"Manhattan\"], \n",
        "[\"John Jay College of Criminal Justice\",\"524 W 59th Street\",\"Manhattan\"], \n",
        "[\"Kingsborough Community College\",\"2001 Oriental Boulevard\",\"Brooklyn\"], \n",
        "[\"LaGuardia Community College\",\"31-10 Thomson Avenue\",\"Queens\"], \n",
        "[\"Lehman College\",\"250 Bedford Park Blvd West\",\"Bronx\"], \n",
        "[\"Macaulay Honors College\",\"35 W 67th Street\",\"Manhattan\"], \n",
        "[\"Medgar Evars College\",\"1650 Bedford Avenue\",\"Brooklyn\"], \n",
        "[\"New York City College of Technology\",\"300 Jay Street\",\"Brooklyn\"], \n",
        "[\"Queens College\",\"65-30 Kissena Boulevard\",\"Queens\"], \n",
        "[\"Queensborough Community College\",\"220-05 56th Avenue\",\"Queens\"], \n",
        "[\"The City College of New York\",\"160 Convent Avenue\",\"Manhattan\"], \n",
        "[\"York College\",\"94-20 Guy R. Brewer Boulevard\",\"Queens\"]\n",
        "]"
      ],
      "execution_count": 33,
      "outputs": []
    },
    {
      "cell_type": "markdown",
      "metadata": {
        "id": "Mi2E5TFVkuM2"
      },
      "source": [
        "Check the matrix."
      ]
    },
    {
      "cell_type": "code",
      "metadata": {
        "colab": {
          "base_uri": "https://localhost:8080/"
        },
        "id": "o3kzxYl2kxiG",
        "outputId": "73b9f9af-d7ec-4396-c613-89fb0427e439"
      },
      "source": [
        "print(\"The length of matrix_range is: \", len(matrix_range))\n",
        "\n",
        "print(\"\\nThe rows of matrix_range are: \")\n",
        "i = 0\n",
        "for row in matrix_range:\n",
        "    print(\"Row #\", i, \"\\t\",row)\n",
        "    i +=1\n"
      ],
      "execution_count": 34,
      "outputs": [
        {
          "output_type": "stream",
          "name": "stdout",
          "text": [
            "The length of matrix_range is:  26\n",
            "\n",
            "The rows of matrix_range are: \n",
            "Row # 0 \t ['Campus', 'Address', 'Borough']\n",
            "Row # 1 \t ['Baruch College', '55 Lexington Avenue', 'Manhattan']\n",
            "Row # 2 \t ['Borough of Mahattan Community College', '199 Chambers Street', 'Manhattan']\n",
            "Row # 3 \t ['Bronx Community College', '2155 University Avenue', 'Bronx']\n",
            "Row # 4 \t ['Brooklyn College', '2900 Bedford Avenue', 'Brooklyn']\n",
            "Row # 5 \t ['College of Staten Island', '2800 Victory Boulevard', 'Staten Island']\n",
            "Row # 6 \t ['Craig Newmark Graduate School of Journalism', '219 W 40th Street', 'Manhattan']\n",
            "Row # 7 \t ['CUNY Graduate Center', '365 Fifth Avenue', 'Manhattan']\n",
            "Row # 8 \t ['CUNY Graduate School of Public Health and Health Policy', '55 W 125th Street', 'Manhattan']\n",
            "Row # 9 \t ['CUNY School of Labor and Urban Studies', '25 W 23rd Street', 'Manhattan']\n",
            "Row # 10 \t ['CUNY School of Law', '2 Court Square', 'Queens']\n",
            "Row # 11 \t ['CUNY School of Professional Studies', '119 W 31st Street', 'Manhattan']\n",
            "Row # 12 \t ['Guttman Community College', '50 W 40th Street', 'Manhattan']\n",
            "Row # 13 \t ['Hostos Community College', '500 Grand Concourse', 'Bronx']\n",
            "Row # 14 \t ['Hunter College', '695 Park Avenue', 'Manhattan']\n",
            "Row # 15 \t ['John Jay College of Criminal Justice', '524 W 59th Street', 'Manhattan']\n",
            "Row # 16 \t ['Kingsborough Community College', '2001 Oriental Boulevard', 'Brooklyn']\n",
            "Row # 17 \t ['LaGuardia Community College', '31-10 Thomson Avenue', 'Queens']\n",
            "Row # 18 \t ['Lehman College', '250 Bedford Park Blvd West', 'Bronx']\n",
            "Row # 19 \t ['Macaulay Honors College', '35 W 67th Street', 'Manhattan']\n",
            "Row # 20 \t ['Medgar Evars College', '1650 Bedford Avenue', 'Brooklyn']\n",
            "Row # 21 \t ['New York City College of Technology', '300 Jay Street', 'Brooklyn']\n",
            "Row # 22 \t ['Queens College', '65-30 Kissena Boulevard', 'Queens']\n",
            "Row # 23 \t ['Queensborough Community College', '220-05 56th Avenue', 'Queens']\n",
            "Row # 24 \t ['The City College of New York', '160 Convent Avenue', 'Manhattan']\n",
            "Row # 25 \t ['York College', '94-20 Guy R. Brewer Boulevard', 'Queens']\n"
          ]
        }
      ]
    },
    {
      "cell_type": "markdown",
      "metadata": {
        "id": "jbSynRazlmjw"
      },
      "source": [
        "At this point we have an empty worksheet **ws** as the active worksheet in a workbook **wb** and a **matrix** of data in memory. "
      ]
    },
    {
      "cell_type": "markdown",
      "metadata": {
        "id": "5O_sy7FVlzqC"
      },
      "source": [
        "Use the **openpyxl** **append** method on the object **ws** to append the rows of the object **matrix**."
      ]
    },
    {
      "cell_type": "code",
      "metadata": {
        "id": "BaS1FVyHmjWq"
      },
      "source": [
        "for row in matrix_range:\n",
        "    ws.append(row)"
      ],
      "execution_count": 35,
      "outputs": []
    },
    {
      "cell_type": "markdown",
      "metadata": {
        "id": "0tHb4HJlnHWR"
      },
      "source": [
        "Give the active worksheet **ws** a title (the name on the worksheet tab) of \"CampusLocations\".\n",
        "\n",
        "*Note: this step could have been done before appending the data from **matrix**.  The worksheet name could be assigned at anytime when the worksheet is open.*\n"
      ]
    },
    {
      "cell_type": "code",
      "metadata": {
        "id": "PCRkj-VknWjq"
      },
      "source": [
        "ws.title = \"CampusLocations\""
      ],
      "execution_count": 36,
      "outputs": []
    },
    {
      "cell_type": "markdown",
      "metadata": {
        "id": "VBQ-p18Tn7-P"
      },
      "source": [
        "Now save the workbook **wb** to the **excel** folder in **/content/gdrive/MyDrive/** with the filename \"CUNY_campuses.xlsx\".\n",
        "\n",
        "*Note: the workbook **wb** contains only one worksheet (**ws**).*"
      ]
    },
    {
      "cell_type": "code",
      "metadata": {
        "id": "Isyl-wNnoTnN"
      },
      "source": [
        "wb.save(\"/content/gdrive/MyDrive/excel/CUNY_campuses.xlsx\")\n"
      ],
      "execution_count": 37,
      "outputs": []
    },
    {
      "cell_type": "markdown",
      "metadata": {
        "id": "ET1y_EPNpGKH"
      },
      "source": [
        "Go to **Google Drive** and the **excel** folder to open and inspect the new workbook in **Google Sheets** or download it to view it in **Excel**."
      ]
    }
  ]
}