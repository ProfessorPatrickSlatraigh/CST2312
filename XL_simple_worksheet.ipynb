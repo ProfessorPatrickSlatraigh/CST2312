{
  "nbformat": 4,
  "nbformat_minor": 0,
  "metadata": {
    "colab": {
      "name": "XL_simple-worksheet.ipynb",
      "provenance": [],
      "authorship_tag": "ABX9TyPhgeuMbQa11vpeRlqaF/Wk",
      "include_colab_link": true
    },
    "kernelspec": {
      "name": "python3",
      "display_name": "Python 3"
    },
    "language_info": {
      "name": "python"
    }
  },
  "cells": [
    {
      "cell_type": "markdown",
      "metadata": {
        "id": "view-in-github",
        "colab_type": "text"
      },
      "source": [
        "<a href=\"https://colab.research.google.com/github/ProfessorPatrickSlatraigh/CST2312/blob/main/XL_simple_worksheet.ipynb\" target=\"_parent\"><img src=\"https://colab.research.google.com/assets/colab-badge.svg\" alt=\"Open In Colab\"/></a>"
      ]
    },
    {
      "cell_type": "markdown",
      "metadata": {
        "id": "FRTzh_KEUAlV"
      },
      "source": [
        "# **Excel - Create a Simple Worksheet**\n",
        "\n",
        "*using openpyxl*\n"
      ]
    },
    {
      "cell_type": "markdown",
      "metadata": {
        "id": "EQI9oif2UGEu"
      },
      "source": [
        "\n",
        "\n",
        "---\n",
        "\n"
      ]
    },
    {
      "cell_type": "markdown",
      "metadata": {
        "id": "QJiGW_hbUKEF"
      },
      "source": [
        "Mount Google Drive.\n",
        "\n",
        "Workbooks and related files will be stored in the **excel** folder of **My Drive**."
      ]
    },
    {
      "cell_type": "code",
      "metadata": {
        "colab": {
          "base_uri": "https://localhost:8080/"
        },
        "id": "Ns8F3wKYTwOn",
        "outputId": "592b199c-1bc2-4fb4-816b-ea3f51c11a5f"
      },
      "source": [
        "from google.colab import drive\n",
        "drive.mount('/content/gdrive')"
      ],
      "execution_count": 1,
      "outputs": [
        {
          "output_type": "stream",
          "name": "stdout",
          "text": [
            "Mounted at /content/gdrive\n"
          ]
        }
      ]
    },
    {
      "cell_type": "markdown",
      "metadata": {
        "id": "aE-hniRjXUz0"
      },
      "source": [
        "Not necessary, but check the default directory on Colab and list the files in content/gdrive/MyDrive/excel."
      ]
    },
    {
      "cell_type": "code",
      "metadata": {
        "colab": {
          "base_uri": "https://localhost:8080/"
        },
        "id": "CSBuZwwFXeGA",
        "outputId": "9cf719b0-92d5-4c56-8a2d-bd382e63846a"
      },
      "source": [
        "print(\"The current working directory is: \")\n",
        "! pwd\n",
        "print(\"\\nThe contents of /content/gdrive/excel/ -\")\n",
        "! ls /content/gdrive/MyDrive/excel/ -a"
      ],
      "execution_count": 11,
      "outputs": [
        {
          "output_type": "stream",
          "name": "stdout",
          "text": [
            "The current working directory is: \n",
            "/content\n",
            "\n",
            "The contents of /content/gdrive/excel/ -\n",
            " CUNY_campuses2.xlsx\t     CUNY_campuses.xlsx\n",
            " CUNY_campuses_BACKUP.xlsx  'New Microsoft Excel Worksheet.xlsx'\n"
          ]
        }
      ]
    },
    {
      "cell_type": "markdown",
      "metadata": {
        "id": "iaUsAkRIbX4F"
      },
      "source": [
        "Install **openpyxl** module for Python, if it is needed.\n",
        "\n",
        "Try the cell with the import of **openpyxl** before pip installing the module."
      ]
    },
    {
      "cell_type": "code",
      "metadata": {
        "id": "QwXtXrXnbSTW"
      },
      "source": [
        "# You only need to try running this cell if the next cell throws an Exception\n",
        "! pip install openpyxl"
      ],
      "execution_count": null,
      "outputs": []
    },
    {
      "cell_type": "markdown",
      "metadata": {
        "id": "HbpSHpHhUZFT"
      },
      "source": [
        "Import **openpyxl** module."
      ]
    },
    {
      "cell_type": "code",
      "metadata": {
        "id": "pCw4vqHnVxJ9"
      },
      "source": [
        "try:\n",
        "    import openpyxl\n",
        "except:\n",
        "    raise Exception(\"Unable to import pyxl module.  Check pip import openpyxl.\")"
      ],
      "execution_count": 4,
      "outputs": []
    },
    {
      "cell_type": "markdown",
      "metadata": {
        "id": "I-mUebMsciR2"
      },
      "source": [
        "At this point you should have access to the **excel** directory in the **content** folder of your **Colab** environment and you should have the **openpyxl** module imported.\n",
        "\n",
        "You are ready to work on **Excel** sheets and workbooks in **Python**!\n"
      ]
    },
    {
      "cell_type": "markdown",
      "metadata": {
        "id": "iejLR513c6lB"
      },
      "source": [
        "\n",
        "\n",
        "---\n",
        "\n"
      ]
    },
    {
      "cell_type": "markdown",
      "metadata": {
        "id": "v-LIAJovc70n"
      },
      "source": [
        "Create an **openpyxl** Workbook object named **wb**\n",
        "\n",
        "Create an **openpyxl** worksheet object named **ws** as the active worksheet in the workbook **wb**.\n"
      ]
    },
    {
      "cell_type": "code",
      "metadata": {
        "colab": {
          "base_uri": "https://localhost:8080/"
        },
        "id": "KJt-9Lb-d1JD",
        "outputId": "5ebcb790-3d67-4aa0-e161-1db9c616f9a8"
      },
      "source": [
        "wb = openpyxl.Workbook()\n",
        "ws = wb.active\n",
        "\n",
        "print(\"The type of wb is: \", type(wb))\n",
        "print(\"The type of ws is: \", type(ws))\n",
        "print(\"The active worksheet is: ws in the workbook: wb.\")"
      ],
      "execution_count": 5,
      "outputs": [
        {
          "output_type": "stream",
          "name": "stdout",
          "text": [
            "The type of wb is:  <class 'openpyxl.workbook.workbook.Workbook'>\n",
            "The type of ws is:  <class 'openpyxl.worksheet.worksheet.Worksheet'>\n",
            "The active worksheet is: ws in the workbook: wb.\n"
          ]
        }
      ]
    },
    {
      "cell_type": "markdown",
      "metadata": {
        "id": "zs9OUBPLeaPy"
      },
      "source": [
        "We have an active worksheet in a workbook, in memory now -- it has not been saved to a filename on disk yet!  "
      ]
    },
    {
      "cell_type": "markdown",
      "metadata": {
        "id": "wmzPp_S-eiIp"
      },
      "source": [
        "Create a matrix as a list of lists with some data which we will add to the ws worksheet.\n",
        "\n",
        "For this example, use the names of CUNY campuses and their street adddress, and borough in New York City.\n",
        "\n",
        "Store that data as a matrix of lists (rows) within a list (range).\n",
        "\n",
        "Each row list will have three elements, representing three columns in a sheet.\n",
        "\n",
        "The matrix_range list will begin with a list of the three column headings.\n"
      ]
    },
    {
      "cell_type": "code",
      "metadata": {
        "id": "Hc--M0rVe0Xk"
      },
      "source": [
        "matrix_range = [\n",
        "[\"Campus\",\"Address\",\"Borough\"], \n",
        "[\"Baruch College\",\"55 Lexington Avenue\",\"Manhattan\"], \n",
        "[\"Borough of Mahattan Community College\",\"199 Chambers Street\",\"Manhattan\"], \n",
        "[\"Bronx Community College\",\"2155 University Avenue\",\"Bronx\"], \n",
        "[\"Brooklyn College\",\"2900 Bedford Avenue\",\"Brooklyn\"], \n",
        "[\"College of Staten Island\",\"2800 Victory Boulevard\",\"Staten Island\"], \n",
        "[\"Craig Newmark Graduate School of Journalism\",\"219 W 40th Street\",\"Manhattan\"], \n",
        "[\"CUNY Graduate Center\",\"365 Fifth Avenue\",\"Manhattan\"], \n",
        "[\"CUNY Graduate School of Public Health and Health Policy\",\"55 W 125th Street\",\"Manhattan\"], \n",
        "[\"CUNY School of Labor and Urban Studies\",\"25 W 23rd Street\",\"Manhattan\"], \n",
        "[\"CUNY School of Law\",\"2 Court Square\",\"Queens\"], \n",
        "[\"CUNY School of Professional Studies\",\"119 W 31st Street\",\"Manhattan\"], \n",
        "[\"Guttman Community College\",\"50 W 40th Street\",\"Manhattan\"], \n",
        "[\"Hostos Community College\",\"500 Grand Concourse\",\"Bronx\"], \n",
        "[\"Hunter College\",\"695 Park Avenue\",\"Manhattan\"], \n",
        "[\"John Jay College of Criminal Justice\",\"524 W 59th Street\",\"Manhattan\"], \n",
        "[\"Kingsborough Community College\",\"2001 Oriental Boulevard\",\"Brooklyn\"], \n",
        "[\"LaGuardia Community College\",\"31-10 Thomson Avenue\",\"Queens\"], \n",
        "[\"Lehman College\",\"250 Bedford Park Blvd West\",\"Bronx\"], \n",
        "[\"Macaulay Honors College\",\"35 W 67th Street\",\"Manhattan\"], \n",
        "[\"Medgar Evars College\",\"1650 Bedford Avenue\",\"Brooklyn\"], \n",
        "[\"New York City College of Technology\",\"300 Jay Street\",\"Brooklyn\"], \n",
        "[\"Queens College\",\"65-30 Kissena Boulevard\",\"Queens\"], \n",
        "[\"Queensborough Community College\",\"220-05 56th Avenue\",\"Queens\"], \n",
        "[\"The City College of New York\",\"160 Convent Avenue\",\"Manhattan\"], \n",
        "[\"York College\",\"94-20 Guy R. Brewer Boulevard\",\"Queens\"]\n",
        "]"
      ],
      "execution_count": 6,
      "outputs": []
    },
    {
      "cell_type": "markdown",
      "metadata": {
        "id": "Mi2E5TFVkuM2"
      },
      "source": [
        "Check the matrix."
      ]
    },
    {
      "cell_type": "code",
      "metadata": {
        "colab": {
          "base_uri": "https://localhost:8080/"
        },
        "id": "o3kzxYl2kxiG",
        "outputId": "6b28bebc-436f-4495-b7ab-9454183978ed"
      },
      "source": [
        "print(\"The length of matrix_range is: \", len(matrix_range))\n",
        "\n",
        "print(\"\\nThe rows of matrix_range are: \")\n",
        "i = 0\n",
        "for row in matrix_range:\n",
        "    print(\"Row #\", i, \"\\t\",row)\n",
        "    i +=1\n"
      ],
      "execution_count": 7,
      "outputs": [
        {
          "output_type": "stream",
          "name": "stdout",
          "text": [
            "The length of matrix_range is:  26\n",
            "\n",
            "The rows of matrix_range are: \n",
            "Row # 0 \t ['Campus', 'Address', 'Borough']\n",
            "Row # 1 \t ['Baruch College', '55 Lexington Avenue', 'Manhattan']\n",
            "Row # 2 \t ['Borough of Mahattan Community College', '199 Chambers Street', 'Manhattan']\n",
            "Row # 3 \t ['Bronx Community College', '2155 University Avenue', 'Bronx']\n",
            "Row # 4 \t ['Brooklyn College', '2900 Bedford Avenue', 'Brooklyn']\n",
            "Row # 5 \t ['College of Staten Island', '2800 Victory Boulevard', 'Staten Island']\n",
            "Row # 6 \t ['Craig Newmark Graduate School of Journalism', '219 W 40th Street', 'Manhattan']\n",
            "Row # 7 \t ['CUNY Graduate Center', '365 Fifth Avenue', 'Manhattan']\n",
            "Row # 8 \t ['CUNY Graduate School of Public Health and Health Policy', '55 W 125th Street', 'Manhattan']\n",
            "Row # 9 \t ['CUNY School of Labor and Urban Studies', '25 W 23rd Street', 'Manhattan']\n",
            "Row # 10 \t ['CUNY School of Law', '2 Court Square', 'Queens']\n",
            "Row # 11 \t ['CUNY School of Professional Studies', '119 W 31st Street', 'Manhattan']\n",
            "Row # 12 \t ['Guttman Community College', '50 W 40th Street', 'Manhattan']\n",
            "Row # 13 \t ['Hostos Community College', '500 Grand Concourse', 'Bronx']\n",
            "Row # 14 \t ['Hunter College', '695 Park Avenue', 'Manhattan']\n",
            "Row # 15 \t ['John Jay College of Criminal Justice', '524 W 59th Street', 'Manhattan']\n",
            "Row # 16 \t ['Kingsborough Community College', '2001 Oriental Boulevard', 'Brooklyn']\n",
            "Row # 17 \t ['LaGuardia Community College', '31-10 Thomson Avenue', 'Queens']\n",
            "Row # 18 \t ['Lehman College', '250 Bedford Park Blvd West', 'Bronx']\n",
            "Row # 19 \t ['Macaulay Honors College', '35 W 67th Street', 'Manhattan']\n",
            "Row # 20 \t ['Medgar Evars College', '1650 Bedford Avenue', 'Brooklyn']\n",
            "Row # 21 \t ['New York City College of Technology', '300 Jay Street', 'Brooklyn']\n",
            "Row # 22 \t ['Queens College', '65-30 Kissena Boulevard', 'Queens']\n",
            "Row # 23 \t ['Queensborough Community College', '220-05 56th Avenue', 'Queens']\n",
            "Row # 24 \t ['The City College of New York', '160 Convent Avenue', 'Manhattan']\n",
            "Row # 25 \t ['York College', '94-20 Guy R. Brewer Boulevard', 'Queens']\n"
          ]
        }
      ]
    },
    {
      "cell_type": "markdown",
      "metadata": {
        "id": "jbSynRazlmjw"
      },
      "source": [
        "At this point we have an empty worksheet **ws** as the active worksheet in a workbook **wb** and a **matrix** of data in memory. "
      ]
    },
    {
      "cell_type": "markdown",
      "metadata": {
        "id": "5O_sy7FVlzqC"
      },
      "source": [
        "Use the **openpyxl** **append** method on the object **ws** to append the rows of the object **matrix**."
      ]
    },
    {
      "cell_type": "code",
      "metadata": {
        "id": "BaS1FVyHmjWq"
      },
      "source": [
        "for row in matrix_range:\n",
        "    ws.append(row)"
      ],
      "execution_count": 8,
      "outputs": []
    },
    {
      "cell_type": "markdown",
      "metadata": {
        "id": "0tHb4HJlnHWR"
      },
      "source": [
        "Give the active worksheet **ws** a title (the name on the worksheet tab) of \"CampusLocations\".\n",
        "\n",
        "*Note: this step could have been done before appending the data from **matrix**.  The worksheet name could be assigned at anytime when the worksheet is open.*\n"
      ]
    },
    {
      "cell_type": "code",
      "metadata": {
        "id": "PCRkj-VknWjq"
      },
      "source": [
        "ws.title = \"CampusLocations\""
      ],
      "execution_count": 9,
      "outputs": []
    },
    {
      "cell_type": "markdown",
      "metadata": {
        "id": "VBQ-p18Tn7-P"
      },
      "source": [
        "Now save the workbook **wb** to the **excel** folder in **/content/gdrive/MyDrive/** with the filename \"CUNY_campuses.xlsx\".\n",
        "\n",
        "*Note: the workbook **wb** contains only one worksheet (**ws**).*"
      ]
    },
    {
      "cell_type": "code",
      "metadata": {
        "id": "Isyl-wNnoTnN"
      },
      "source": [
        "wb.save(\"/content/gdrive/MyDrive/excel/CUNY_campuses.xlsx\")\n"
      ],
      "execution_count": 10,
      "outputs": []
    },
    {
      "cell_type": "markdown",
      "metadata": {
        "id": "ET1y_EPNpGKH"
      },
      "source": [
        "Go to **Google Drive** and the **excel** folder to open and inspect the new workbook in **Google Sheets** or download it to view it in **Excel**."
      ]
    },
    {
      "cell_type": "markdown",
      "metadata": {
        "id": "X393PwatBI4-"
      },
      "source": [
        "\n",
        "\n",
        "---\n",
        "\n"
      ]
    },
    {
      "cell_type": "markdown",
      "metadata": {
        "id": "ER-aExJODGUx"
      },
      "source": [
        "### **Formatting Excel Sheets**\n"
      ]
    },
    {
      "cell_type": "markdown",
      "metadata": {
        "id": "twCCKx4gDQRO"
      },
      "source": [
        "We can adjust column widths and format our column headings.\n",
        "\n",
        "We can also create a named range for our table of data.\n"
      ]
    },
    {
      "cell_type": "markdown",
      "metadata": {
        "id": "0DN_8a1SDYSw"
      },
      "source": [
        "\n",
        "\n",
        "---\n",
        "\n"
      ]
    },
    {
      "cell_type": "markdown",
      "metadata": {
        "id": "RsWivUrrDZMP"
      },
      "source": [
        "### **Creating Excel Tables**"
      ]
    },
    {
      "cell_type": "markdown",
      "metadata": {
        "id": "u5eduoH9DgvC"
      },
      "source": [
        "We can add a sheet with a dynamic table based on our worksheet with data."
      ]
    },
    {
      "cell_type": "markdown",
      "metadata": {
        "id": "yx8CXhb6Dp1i"
      },
      "source": [
        "Let's start by importing the objects we need from **openpyxl**.\n",
        "\n",
        "*   **Table** - for Excel tables, with filtering, formatting, etc.\n",
        "*   **TableStyleInfo** - to created a named style to be applied to a table\n",
        "*   **Image** - \n",
        "\n"
      ]
    },
    {
      "cell_type": "code",
      "metadata": {
        "id": "EobqShLGD9oY"
      },
      "source": [
        "from openpyxl.worksheet.table import Table, TableStyleInfo"
      ],
      "execution_count": 12,
      "outputs": []
    },
    {
      "cell_type": "markdown",
      "metadata": {
        "id": "TMGXe6-aEPl5"
      },
      "source": [
        "If we want to access an Excel workbook which already exists, stored on an accessible drive, we should import the **load_workbook** method from **openpyxl**."
      ]
    },
    {
      "cell_type": "code",
      "metadata": {
        "id": "HscMicbcFOLA"
      },
      "source": [
        "from openpyxl import load_workbook"
      ],
      "execution_count": 34,
      "outputs": []
    },
    {
      "cell_type": "markdown",
      "metadata": {
        "id": "iSkHH_1uFgKt"
      },
      "source": [
        "Open an existing Excel workbook and create an active worksheet **ws**."
      ]
    },
    {
      "cell_type": "code",
      "metadata": {
        "id": "NbCWlAjFFn2U"
      },
      "source": [
        "wb = load_workbook(\"/content/gdrive/MyDrive/excel/CUNY_campuses.xlsx\")\n",
        "ws = wb.active"
      ],
      "execution_count": 35,
      "outputs": []
    },
    {
      "cell_type": "markdown",
      "metadata": {
        "id": "bbOHxjIJF5-0"
      },
      "source": [
        "Create a table object named **tabl_1** with the display name '**Table1**'.\n",
        "\n",
        "*   Table names must be unique within a workbook. \n",
        "\n",
        "*   By default tables are created with a header from the first row. \n",
        "\n",
        "*   Table filters for all the columns must always contain strings. \n",
        "\n",
        "*   Table headers and table column headings must always contain strings.\n"
      ]
    },
    {
      "cell_type": "code",
      "metadata": {
        "id": "B4L6zgSXGIHA"
      },
      "source": [
        "tabl_1 = Table(displayName=\"Table1\", ref=\"A1:C26\")"
      ],
      "execution_count": 36,
      "outputs": []
    },
    {
      "cell_type": "markdown",
      "metadata": {
        "id": "SdhABwxIHAK5"
      },
      "source": [
        "Create a style in an object **style_basic** and give the style the name **TableStyleBasic** then apply that style the table **tabl_1**.\n",
        "\n",
        "Styles are managed using the the **TableStyleInfo object**. This allows you to stripe rows or columns and apply the different color schemes.\n"
      ]
    },
    {
      "cell_type": "code",
      "metadata": {
        "id": "CkruNT2KHZX3"
      },
      "source": [
        "style_clean = TableStyleInfo(name=\"TableStyleMedium9\", showFirstColumn=False, showLastColumn= False, showRowStripes=True, showColumnStripes=False)\n",
        "tabl_1.tableStyleInfo = style_clean\n"
      ],
      "execution_count": 37,
      "outputs": []
    },
    {
      "cell_type": "markdown",
      "metadata": {
        "id": "7qRNAKuWJUn_"
      },
      "source": [
        "Now the table can be added to the worksheet using **ws.add_table()**.\n",
        "\n",
        "*   Table must be added using ws.add_table() method to avoid duplicate names.\n",
        "*   Using this method ensures table name is unque through out defined names and all other table name."
      ]
    },
    {
      "cell_type": "code",
      "metadata": {
        "id": "hscptOvLNIZh"
      },
      "source": [
        "ws.add_table(tabl_1)"
      ],
      "execution_count": 38,
      "outputs": []
    },
    {
      "cell_type": "markdown",
      "metadata": {
        "id": "BuIEsZGUNR1r"
      },
      "source": [
        "Then the workbook can be saved as an **Excel** document.\n"
      ]
    },
    {
      "cell_type": "code",
      "metadata": {
        "id": "McYeu9G2NWBr"
      },
      "source": [
        "wb.save(\"/content/gdrive/MyDrive/excel/CUNY_campuses_withTable.xlsx\")"
      ],
      "execution_count": 39,
      "outputs": []
    },
    {
      "cell_type": "code",
      "metadata": {
        "id": "rK3i4hT5R7cw"
      },
      "source": [
        "# to see the table tabl_1 created in the worksheet ws\n",
        "print(ws.tabl_1)"
      ],
      "execution_count": null,
      "outputs": []
    },
    {
      "cell_type": "markdown",
      "metadata": {
        "id": "tmttJeLgKgZ4"
      },
      "source": [
        "\n",
        "\n",
        "---\n",
        "\n"
      ]
    },
    {
      "cell_type": "markdown",
      "metadata": {
        "id": "YLJg4u5cQu-4"
      },
      "source": [
        "**Functions and Attributes of Tables**"
      ]
    },
    {
      "cell_type": "code",
      "metadata": {
        "id": "-sYf1wcoQ1Oz"
      },
      "source": [
        "# CHECK THIS IN THE CURRENT VERSION OF OPENPYXL\n",
        "# from openpyxl import tables"
      ],
      "execution_count": null,
      "outputs": []
    },
    {
      "cell_type": "code",
      "metadata": {
        "id": "ZriLQcw4OXcb"
      },
      "source": [
        "# to query the contents of the ws object\n",
        "dir(ws)"
      ],
      "execution_count": null,
      "outputs": []
    },
    {
      "cell_type": "markdown",
      "metadata": {
        "id": "CeqGOhEWJw5e"
      },
      "source": [
        "**ws.tables** ???was??? is a dictionary-like object of all the tables in a particular worksheet.\n",
        "\n",
        "**ws._tables** is a list object of tables in a worksheet.\n",
        "\n"
      ]
    },
    {
      "cell_type": "markdown",
      "metadata": {
        "id": "fbAu9wt0L7oS"
      },
      "source": [
        "You can query all of the tables in a worksheet."
      ]
    },
    {
      "cell_type": "code",
      "metadata": {
        "id": "97_X6kNJKFRk"
      },
      "source": [
        "# you can query all of the tables in a worksheet with the list ._tables\n",
        "print(ws._tables)"
      ],
      "execution_count": null,
      "outputs": []
    },
    {
      "cell_type": "markdown",
      "metadata": {
        "id": "jx_f5nSEL37b"
      },
      "source": [
        "??? You can get a table by its name or range"
      ]
    },
    {
      "cell_type": "code",
      "metadata": {
        "id": "lQe-A2PpKiWW"
      },
      "source": [
        "# CHECK THIS IN THE CURRENT VERSION OF OPENPYXL\n",
        "# references a table by its name or a range\n",
        "ws.tables[\"Table1\"]\n",
        "# or\n",
        "ws.tables[\"A1:C26\"]"
      ],
      "execution_count": null,
      "outputs": []
    },
    {
      "cell_type": "markdown",
      "metadata": {
        "id": "N0j8VRd8LUUX"
      },
      "source": [
        "You can get a count of the number of tables in a worksheet."
      ]
    },
    {
      "cell_type": "code",
      "metadata": {
        "id": "iL6WvKmqLXff"
      },
      "source": [
        "# returns integer count of the number of tables in the worksheet\n",
        "print(len(ws._tables))"
      ],
      "execution_count": null,
      "outputs": []
    },
    {
      "cell_type": "markdown",
      "metadata": {
        "id": "2K2aS3r0LD8e"
      },
      "source": [
        "You can get table names and their ranges of all tables in a worksheet."
      ]
    },
    {
      "cell_type": "code",
      "metadata": {
        "id": "opzzr58fK0eF"
      },
      "source": [
        "# returns a list of table names and their ranges.\n",
        "# print(ws.tables.items())\n",
        "print(ws._tables)"
      ],
      "execution_count": null,
      "outputs": []
    },
    {
      "cell_type": "markdown",
      "metadata": {
        "id": "mS0VGvukMFQj"
      },
      "source": [
        "You can delete a table from a worksheet."
      ]
    },
    {
      "cell_type": "code",
      "metadata": {
        "id": "svJ_lvOkMIMh"
      },
      "source": [
        "# CHECK THIS IN THE CURRENT VERSION OF OPENPYXL\n",
        "# del ws.tables[\"Table1\"]"
      ],
      "execution_count": null,
      "outputs": []
    }
  ]
}