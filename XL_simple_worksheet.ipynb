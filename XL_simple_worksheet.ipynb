{
  "nbformat": 4,
  "nbformat_minor": 0,
  "metadata": {
    "colab": {
      "name": "XL_simple-worksheet.ipynb",
      "provenance": [],
      "authorship_tag": "ABX9TyMi+tRSZpXXgyGQpjx7LpQf",
      "include_colab_link": true
    },
    "kernelspec": {
      "name": "python3",
      "display_name": "Python 3"
    },
    "language_info": {
      "name": "python"
    }
  },
  "cells": [
    {
      "cell_type": "markdown",
      "metadata": {
        "id": "view-in-github",
        "colab_type": "text"
      },
      "source": [
        "<a href=\"https://colab.research.google.com/github/ProfessorPatrickSlatraigh/CST2312/blob/main/XL_simple_worksheet.ipynb\" target=\"_parent\"><img src=\"https://colab.research.google.com/assets/colab-badge.svg\" alt=\"Open In Colab\"/></a>"
      ]
    },
    {
      "cell_type": "markdown",
      "metadata": {
        "id": "FRTzh_KEUAlV"
      },
      "source": [
        "# **Excel - Create a Simple Worksheet**\n",
        "\n",
        "*using openpyxl*\n"
      ]
    },
    {
      "cell_type": "markdown",
      "metadata": {
        "id": "EQI9oif2UGEu"
      },
      "source": [
        "\n",
        "\n",
        "---\n",
        "\n"
      ]
    },
    {
      "cell_type": "markdown",
      "metadata": {
        "id": "QJiGW_hbUKEF"
      },
      "source": [
        "Mount Google Drive.\n",
        "\n",
        "Workbooks and related files will be stored in the **excel** folder of **My Drive**."
      ]
    },
    {
      "cell_type": "code",
      "metadata": {
        "id": "Ns8F3wKYTwOn"
      },
      "source": [
        "from google.colab import drive\n",
        "drive.mount('/content/gdrive')"
      ],
      "execution_count": null,
      "outputs": []
    },
    {
      "cell_type": "markdown",
      "metadata": {
        "id": "aE-hniRjXUz0"
      },
      "source": [
        "Not necessary, but check the default directory on Colab and list the files in content/gdrive/MyDrive/excel."
      ]
    },
    {
      "cell_type": "code",
      "metadata": {
        "id": "CSBuZwwFXeGA"
      },
      "source": [
        "print(\"The current working directory is: \")\n",
        "! pwd\n",
        "print(\"\\nThe contents of /content/gdrive/excel/ -\")\n",
        "! ls /content/gdrive/MyDrive/excel/ -a"
      ],
      "execution_count": null,
      "outputs": []
    },
    {
      "cell_type": "markdown",
      "metadata": {
        "id": "iaUsAkRIbX4F"
      },
      "source": [
        "Install **openpyxl** module for Python, if it is needed.\n",
        "\n",
        "Try the cell with the import of **openpyxl** before pip installing the module."
      ]
    },
    {
      "cell_type": "code",
      "metadata": {
        "id": "QwXtXrXnbSTW"
      },
      "source": [
        "# You only need to try running this cell if the next cell throws an Exception\n",
        "! pip install openpyxl"
      ],
      "execution_count": null,
      "outputs": []
    },
    {
      "cell_type": "markdown",
      "metadata": {
        "id": "HbpSHpHhUZFT"
      },
      "source": [
        "Import **openpyxl** module."
      ]
    },
    {
      "cell_type": "code",
      "metadata": {
        "id": "pCw4vqHnVxJ9"
      },
      "source": [
        "try:\n",
        "    import openpyxl\n",
        "except:\n",
        "    raise Exception(\"Unable to import pyxl module.  Check pip import openpyxl.\")"
      ],
      "execution_count": 13,
      "outputs": []
    },
    {
      "cell_type": "markdown",
      "metadata": {
        "id": "I-mUebMsciR2"
      },
      "source": [
        "At this point you should have access to the **excel** directory in the **content** folder of your **Colab** environment and you should have the **openpyxl** module imported.\n",
        "\n",
        "You are ready to work on **Excel** sheets and workbooks in **Python**!\n"
      ]
    },
    {
      "cell_type": "markdown",
      "metadata": {
        "id": "iejLR513c6lB"
      },
      "source": [
        "\n",
        "\n",
        "---\n",
        "\n"
      ]
    },
    {
      "cell_type": "markdown",
      "metadata": {
        "id": "v-LIAJovc70n"
      },
      "source": [
        "Create an **openpyxl** Workbook object named **wb**\n",
        "\n",
        "Create an **openpyxl** worksheet object named **ws** as the active worksheet in the workbook **wb**.\n"
      ]
    },
    {
      "cell_type": "code",
      "metadata": {
        "colab": {
          "base_uri": "https://localhost:8080/"
        },
        "id": "KJt-9Lb-d1JD",
        "outputId": "6c031898-3cf3-42a8-aaff-5a351900d5af"
      },
      "source": [
        "wb = openpyxl.Workbook()\n",
        "ws = wb.active\n",
        "\n",
        "print(\"The type of wb is: \", type(wb))\n",
        "print(\"The type of ws is: \", type(ws))\n",
        "print(\"The active worksheet is: ws in the workbook: wb.\")"
      ],
      "execution_count": 16,
      "outputs": [
        {
          "output_type": "stream",
          "name": "stdout",
          "text": [
            "The type of wb is:  <class 'openpyxl.workbook.workbook.Workbook'>\n",
            "The type of ws is:  <class 'openpyxl.worksheet.worksheet.Worksheet'>\n",
            "The active worksheet is: ws in the workbook: wb.\n"
          ]
        }
      ]
    },
    {
      "cell_type": "markdown",
      "metadata": {
        "id": "zs9OUBPLeaPy"
      },
      "source": [
        "We have an active worksheet in a workbook, in memory now -- it has not been saved to a filename on disk yet!  "
      ]
    },
    {
      "cell_type": "markdown",
      "metadata": {
        "id": "wmzPp_S-eiIp"
      },
      "source": [
        "Create a list with some data which we will add to the ws worksheet.\n",
        "\n",
        "For this example, use the names of CUNY campuses and their street adddress, and borough in New York City.\n",
        "\n",
        "Store that data as a matrix of lists within a list.\n",
        "\n",
        "Each row list will have three elements.\n",
        "\n",
        "The matrix list will begin with a list of the three column headings.\n"
      ]
    },
    {
      "cell_type": "code",
      "metadata": {
        "id": "Hc--M0rVe0Xk"
      },
      "source": [
        "matrix = [\n",
        "[\"Campus\",\"Address\",\"Borough\"], \n",
        "[\"Baruch College\",\"55 Lexington Avenue\",\"Manhattan\"], \n",
        "[\"Borough of Mahattan Community College\",\"199 Chambers Street\",\"Manhattan\"], \n",
        "[\"Bronx Community College\",\"2155 University Avenue\",\"Bronx\"], \n",
        "[\"Brooklyn College\",\"2900 Bedford Avenue\",\"Brooklyn\"], \n",
        "[\"College of Staten Island\",\"2800 Victory Boulevard\",\"Staten Island\"], \n",
        "[\"Craig Newmark Graduate School of Journalism\",\"219 W 40th Street\",\"Manhattan\"], \n",
        "[\"CUNY Graduate Center\",\"365 Fifth Avenue\",\"Manhattan\"], \n",
        "[\"CUNY Graduate School of Public Health and Health Policy\",\"55 W 125th Street\",\"Manhattan\"], \n",
        "[\"CUNY School of Labor and Urban Studies\",\"25 W 23rd Street\",\"Manhattan\"], \n",
        "[\"CUNY School of Law\",\"2 Court Square\",\"Queens\"], \n",
        "[\"CUNY School of Professional Studies\",\"119 W 31st Street\",\"Manhattan\"], \n",
        "[\"Guttman Community College\",\"50 W 40th Street\",\"Manhattan\"], \n",
        "[\"Hostos Community College\",\"500 Grand Concourse\",\"Bronx\"], \n",
        "[\"Hunter College\",\"695 Park Avenue\",\"Manhattan\"], \n",
        "[\"John Jay College of Criminal Justice\",\"524 W 59th Street\",\"Manhattan\"], \n",
        "[\"Kingsborough Community College\",\"2001 Oriental Boulevard\",\"Brooklyn\"], \n",
        "[\"LaGuardia Community College\",\"31-10 Thomson Avenue\",\"Queens\"], \n",
        "[\"Lehman College\",\"250 Bedford Park Blvd West\",\"Bronx\"], \n",
        "[\"Macaulay Honors College\",\"35 W 67th Street\",\"Manhattan\"], \n",
        "[\"Medgar Evars College\",\"1650 Bedford Avenue\",\"Brooklyn\"], \n",
        "[\"New York City College of Technology\",\"300 Jay Street\",\"Brooklyn\"], \n",
        "[\"Queens College\",\"65-30 Kissena Boulevard\",\"Queens\"], \n",
        "[\"Queensborough Community College\",\"220-05 56th Avenue\",\"Queens\"], \n",
        "[\"The City College of New York\",\"160 Convent Avenue\",\"Manhattan\"], \n",
        "[\"York College\",\"94-20 Guy R. Brewer Boulevard\",\"Queens\"]\n",
        "]"
      ],
      "execution_count": 18,
      "outputs": []
    },
    {
      "cell_type": "markdown",
      "metadata": {
        "id": "Mi2E5TFVkuM2"
      },
      "source": [
        "Check the matrix."
      ]
    },
    {
      "cell_type": "code",
      "metadata": {
        "id": "o3kzxYl2kxiG"
      },
      "source": [
        "print(\"The length of matrix is: \", len(matrix))\n",
        "\n",
        "print(\"\\nThe rows of matrix are: \")\n",
        "i = 0\n",
        "for row in matrix:\n",
        "    print(\"Row #\", i, \"\\t\",row)\n",
        "    i +=1\n"
      ],
      "execution_count": null,
      "outputs": []
    },
    {
      "cell_type": "markdown",
      "metadata": {
        "id": "jbSynRazlmjw"
      },
      "source": [
        "At this point we have an empty worksheet **ws** as the active worksheet in a workbook **wb** and a **matrix** of data in memory. "
      ]
    },
    {
      "cell_type": "markdown",
      "metadata": {
        "id": "5O_sy7FVlzqC"
      },
      "source": [
        ""
      ]
    }
  ]
}