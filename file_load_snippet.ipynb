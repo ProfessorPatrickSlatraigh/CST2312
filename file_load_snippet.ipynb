{
  "nbformat": 4,
  "nbformat_minor": 0,
  "metadata": {
    "colab": {
      "name": "file_load_snippet.ipynb",
      "provenance": [],
      "collapsed_sections": [],
      "authorship_tag": "ABX9TyN4qqrMzZdoFkYH6MF4GQ7p",
      "include_colab_link": true
    },
    "kernelspec": {
      "name": "python3",
      "display_name": "Python 3"
    },
    "language_info": {
      "name": "python"
    }
  },
  "cells": [
    {
      "cell_type": "markdown",
      "metadata": {
        "id": "view-in-github",
        "colab_type": "text"
      },
      "source": [
        "<a href=\"https://colab.research.google.com/github/ProfessorPatrickSlatraigh/CST2312/blob/main/file_load_snippet.ipynb\" target=\"_parent\"><img src=\"https://colab.research.google.com/assets/colab-badge.svg\" alt=\"Open In Colab\"/></a>"
      ]
    },
    {
      "cell_type": "markdown",
      "source": [
        "This snippet prompts the user with a clickable link to search local directories for a file to upload"
      ],
      "metadata": {
        "id": "2eMnlGWcbl8E"
      }
    },
    {
      "cell_type": "code",
      "execution_count": null,
      "metadata": {
        "id": "O8jv1Bp-beMq"
      },
      "outputs": [],
      "source": [
        "from google.colab import files\n",
        "\n",
        "try:\n",
        "    uploaded_handle = files.upload()\n",
        "except:\n",
        "    print(\"Well that did not work.  What next?\")"
      ]
    }
  ]
}