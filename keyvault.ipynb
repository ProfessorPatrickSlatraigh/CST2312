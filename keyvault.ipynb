{
  "nbformat": 4,
  "nbformat_minor": 0,
  "metadata": {
    "colab": {
      "provenance": [],
      "collapsed_sections": [
        "rqCadIRaKHnx",
        "ni0DEB5eMi3b",
        "g8yNJDwsea_I",
        "CIPElNQbea_J"
      ],
      "authorship_tag": "ABX9TyNm8fMxVuzNmnhysJRJyQTQ",
      "include_colab_link": true
    },
    "kernelspec": {
      "name": "python3",
      "display_name": "Python 3"
    },
    "language_info": {
      "name": "python"
    }
  },
  "cells": [
    {
      "cell_type": "markdown",
      "metadata": {
        "id": "view-in-github",
        "colab_type": "text"
      },
      "source": [
        "<a href=\"https://colab.research.google.com/github/ProfessorPatrickSlatraigh/CST2312/blob/main/keyvault.ipynb\" target=\"_parent\"><img src=\"https://colab.research.google.com/assets/colab-badge.svg\" alt=\"Open In Colab\"/></a>"
      ]
    },
    {
      "cell_type": "markdown",
      "source": [
        "#Key Vault     \n",
        "\n",
        "API key vault upload to DataFrame in Google Colab   \n",
        "\n",
        "Created by Professor Patrick under MIT License with no warranty as to fit of purpose or functionality.  This notebook is an example of concepts and not intended to be relied upon for controls or data protection.  \n",
        "\n",
        "[Available on GitHub](https://github.com/ProfessorPatrickSlatraigh/notebooks/blob/fa4314026c2293a4ad206b3377df2e33edd95808/keyvault.ipynb). \n",
        "\n",
        "*note: this notebook uses **Google `files`**, `sqlite3`, `pandas`, and **[VeraCrypt](https://www.veracrypt.fr/en/Home.html)** to load API keys from an encrypted drive into a **DataFrame** in a **Colab** session.*   "
      ],
      "metadata": {
        "id": "bJt2eSygGgNV"
      }
    },
    {
      "cell_type": "markdown",
      "source": [
        "**Two different platforms for key storage are demonstrated:**    \n",
        "\n",
        "1. Use of a `.csv` file in an encrypted drive    \n",
        "2. Use of a **SQLite** database in an encrypted drive    \n",
        "\n",
        "Both platforms demonstrated require the mounting of the encrypted **[VeraCrypt](https://www.veracrypt.fr/en/Home.html)** drive before excecution of the Python code.    \n",
        "\n",
        "*note: while the examples in this notebook work with the [VeraCrypt](https://www.veracrypt.fr/en/Home.html) application to store plaintext files (*.csv, or *.db) inside an encrypted file, the same approach and techniques may be used with other encryption applications or schemes.*    \n"
      ],
      "metadata": {
        "id": "tmNk-kcGnA3h"
      }
    },
    {
      "cell_type": "markdown",
      "source": [
        "\n",
        "\n",
        "---\n",
        "\n"
      ],
      "metadata": {
        "id": "cLZ14G4xtNij"
      }
    },
    {
      "cell_type": "markdown",
      "source": [
        "![VeraCrypt_EncryptedKeys.png](data:image/png;base64,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)"
      ],
      "metadata": {
        "id": "VUU8gLv6tOaT"
      }
    },
    {
      "cell_type": "markdown",
      "source": [
        "The example encrypted file `file_name` which includes the `.csv' and **SQLite** data files used in this notebook is [available on GitHub](https://github.com/ProfessorPatrickSlatraigh/data/blob/main/file_name).    \n"
      ],
      "metadata": {
        "id": "bYHtcCZ44m1K"
      }
    },
    {
      "cell_type": "markdown",
      "source": [
        "\n",
        "\n",
        "---\n",
        "\n"
      ],
      "metadata": {
        "id": "rLSEGMcuBkW1"
      }
    },
    {
      "cell_type": "markdown",
      "source": [
        "##Housekeeping    \n",
        "\n",
        "Import required modules"
      ],
      "metadata": {
        "id": "AUmrbeXMHH4i"
      }
    },
    {
      "cell_type": "code",
      "execution_count": null,
      "metadata": {
        "id": "9UaM8fA4GbpR"
      },
      "outputs": [],
      "source": [
        "import pandas as pd    \n",
        "from google.colab import files\n",
        "import sqlite3\n",
        "import requests"
      ]
    },
    {
      "cell_type": "markdown",
      "source": [
        "###Pull a sample encrypted file `file_name` from GitHub    \n",
        "\n",
        "You may use the following `URL` to pull the file `fie_name` which is a 2mb file encrypted with **VeraCrypt**:    \n",
        "\n",
        "```\n",
        "https://github.com/ProfessorPatrickSlatraigh/data/blob/01bcba0b179af70d6550994ec39e3e048b820fb8/file_name    \n",
        "```    \n"
      ],
      "metadata": {
        "id": "p1wRRVNB4DAw"
      }
    },
    {
      "cell_type": "markdown",
      "source": [
        "\n",
        "\n",
        "---\n",
        "\n"
      ],
      "metadata": {
        "id": "WJb5LxivCC2k"
      }
    },
    {
      "cell_type": "markdown",
      "source": [
        "##1. Loading API Keys from a .CSV to a DataFrame"
      ],
      "metadata": {
        "id": "wDPGTb2zCHAp"
      }
    },
    {
      "cell_type": "markdown",
      "source": [
        "###Select the .CSV file with API key information"
      ],
      "metadata": {
        "id": "6S8pfTs7JLQi"
      }
    },
    {
      "cell_type": "markdown",
      "source": [
        "Select the `.csv` file with the API Key DataFrame elements to be uploaded to the `/content` folder in the Colab session.\n",
        "\n",
        "*note: the encrypted drive should be mounted to a local drive letter using **VeraCrypt** before attempting the following upload.*   \n"
      ],
      "metadata": {
        "id": "_RvvWEJfHY-S"
      }
    },
    {
      "cell_type": "code",
      "source": [
        "# select a file to upload from the mounted local drive\n",
        "try: \n",
        "    file_uploaded = files.upload()\n",
        "except:\n",
        "    print(\"Nothing uploaded.\")"
      ],
      "metadata": {
        "id": "1pLYq0PSJDFq"
      },
      "execution_count": null,
      "outputs": []
    },
    {
      "cell_type": "code",
      "source": [
        "# confirm the name and details of the file uploaded\n",
        "print(file_uploaded)"
      ],
      "metadata": {
        "id": "1BQA3Qo3LIQb"
      },
      "execution_count": null,
      "outputs": []
    },
    {
      "cell_type": "markdown",
      "source": [
        "Choose the file to be read into the `api_keys` **DataFrame**"
      ],
      "metadata": {
        "id": "_oMjE_J0ReX9"
      }
    },
    {
      "cell_type": "code",
      "source": [
        "try: \n",
        "    i=0\n",
        "    fname_list=[]\n",
        "    print(\"Type the desired file number to select a file: \")\n",
        "    for fname in file_uploaded.keys():\n",
        "        print('File #{seq} \"{name}\" with length {length} bytes'.format(seq=i,\n",
        "        name=fname, length=len(file_uploaded[fname])))\n",
        "        fname_list.append(fname)\n",
        "        i+=1\n",
        "    selected = int(input(\"\\n\"))\n",
        "    file_selected = fname_list[selected]\n",
        "except:\n",
        "    print(\"\\nError selecting file to process for keys.\")"
      ],
      "metadata": {
        "id": "A3h_G1t8NfdQ"
      },
      "execution_count": null,
      "outputs": []
    },
    {
      "cell_type": "code",
      "source": [
        "print(file_selected)"
      ],
      "metadata": {
        "id": "vFEUTUDPyqop"
      },
      "execution_count": null,
      "outputs": []
    },
    {
      "cell_type": "markdown",
      "source": [
        "###Populate a DataFrame with the API key information"
      ],
      "metadata": {
        "id": "HPourRrwJR81"
      }
    },
    {
      "cell_type": "markdown",
      "source": [
        "Populate a DataFrame using the uploaded `.csv` file."
      ],
      "metadata": {
        "id": "2bA45i15KMrN"
      }
    },
    {
      "cell_type": "code",
      "source": [
        "df_keys = pd.read_csv(file_selected, index_col=0)"
      ],
      "metadata": {
        "id": "IQsZ0sp6KUIo"
      },
      "execution_count": null,
      "outputs": []
    },
    {
      "cell_type": "code",
      "source": [
        "df_keys.head()"
      ],
      "metadata": {
        "id": "nMrY4eaMKdtg"
      },
      "execution_count": null,
      "outputs": []
    },
    {
      "cell_type": "markdown",
      "source": [
        "###Example use of API key information from DataFrame"
      ],
      "metadata": {
        "id": "WYin_y-ZJiQo"
      }
    },
    {
      "cell_type": "markdown",
      "source": [
        "####Call IPstack.com API using information for DataFrame"
      ],
      "metadata": {
        "id": "rqCadIRaKHnx"
      }
    },
    {
      "cell_type": "code",
      "source": [
        "print('The URL is: ', df_keys.loc['ipstack','url'])"
      ],
      "metadata": {
        "id": "im_8foibKkBS"
      },
      "execution_count": null,
      "outputs": []
    },
    {
      "cell_type": "code",
      "source": [
        "print('The API key is: ', df_keys.loc['ipstack','key'])"
      ],
      "metadata": {
        "id": "Ah7yxzpGMHdr"
      },
      "execution_count": null,
      "outputs": []
    },
    {
      "cell_type": "code",
      "source": [
        "# Want to know more about ipstack and look at the comments  \n",
        "print('More info about this service: ', df_keys.loc['ipstack','comments'])"
      ],
      "metadata": {
        "id": "5a2uYIvL_seI"
      },
      "execution_count": null,
      "outputs": []
    },
    {
      "cell_type": "code",
      "source": [
        "url = df_keys.loc['ipstack','url']\n",
        "api_key = df_keys.loc['ipstack','key']\n",
        "arg = url+api_key\n",
        "resp = requests.get(arg)"
      ],
      "metadata": {
        "id": "jZe1Bf2RB-9L"
      },
      "execution_count": null,
      "outputs": []
    },
    {
      "cell_type": "code",
      "source": [
        "resp"
      ],
      "metadata": {
        "id": "8Ge38k45LKGA"
      },
      "execution_count": null,
      "outputs": []
    },
    {
      "cell_type": "code",
      "source": [
        "resp.json()"
      ],
      "metadata": {
        "id": "XIe9pmAjLOWV"
      },
      "execution_count": null,
      "outputs": []
    },
    {
      "cell_type": "markdown",
      "source": [
        "####Call OpenWeatherMap with API key information   "
      ],
      "metadata": {
        "id": "ni0DEB5eMi3b"
      }
    },
    {
      "cell_type": "code",
      "source": [
        "print('The URL is: ', df_keys.loc['openweathermap','url'])"
      ],
      "metadata": {
        "id": "ESFq3MYQMyUd"
      },
      "execution_count": null,
      "outputs": []
    },
    {
      "cell_type": "code",
      "source": [
        "url = df_keys.loc['openweathermap','url']"
      ],
      "metadata": {
        "id": "FDItNNsyOf6L"
      },
      "execution_count": null,
      "outputs": []
    },
    {
      "cell_type": "code",
      "source": [
        "print('The params are: ', df_keys.loc['openweathermap','params'])"
      ],
      "metadata": {
        "id": "MfN_xPfoNTbo"
      },
      "execution_count": null,
      "outputs": []
    },
    {
      "cell_type": "code",
      "source": [
        "params = df_keys.loc['openweathermap','params']"
      ],
      "metadata": {
        "id": "TLVxfweJOkAZ"
      },
      "execution_count": null,
      "outputs": []
    },
    {
      "cell_type": "code",
      "source": [
        "type(params)"
      ],
      "metadata": {
        "id": "zdTv9Hlf2ZDc"
      },
      "execution_count": null,
      "outputs": []
    },
    {
      "cell_type": "code",
      "source": [
        "print('The API key is: ', df_keys.loc['openweathermap','key'])"
      ],
      "metadata": {
        "id": "bydixQ9DM8HW"
      },
      "execution_count": null,
      "outputs": []
    },
    {
      "cell_type": "code",
      "source": [
        "api_key = df_keys.loc['openweathermap','key']"
      ],
      "metadata": {
        "id": "Iev_1JD7OoZf"
      },
      "execution_count": null,
      "outputs": []
    },
    {
      "cell_type": "code",
      "source": [
        "# Insert the API key into the `parama` string (replace 'API_key?')\n",
        "params_str = params.replace('API_key?', api_key)\n",
        "# use the `eval()` method to evaluate a string in assignment to dictionary\n",
        "parameters = eval(params_str)\n",
        "print('The parameters with API key are: ', parameters)"
      ],
      "metadata": {
        "id": "5WhSjI58N5-4"
      },
      "execution_count": null,
      "outputs": []
    },
    {
      "cell_type": "code",
      "source": [
        "print('\\nparams_str:', params_str, ' is a ', type(params_str))\n",
        "print('\\nparameters:', parameters, ' is a ', type(parameters))"
      ],
      "metadata": {
        "id": "17dGjhSgDu89"
      },
      "execution_count": null,
      "outputs": []
    },
    {
      "cell_type": "code",
      "source": [
        "print(url, parameters)"
      ],
      "metadata": {
        "id": "_V1MvJ77QAiT"
      },
      "execution_count": null,
      "outputs": []
    },
    {
      "cell_type": "code",
      "source": [
        "# resp = requests.get(url, params=params_str)\n",
        "resp = requests.get(url, params=parameters)\n",
        "print(resp)\n",
        "data = resp.json()\n",
        "print(data)"
      ],
      "metadata": {
        "id": "DD2zmX1xPSYO"
      },
      "execution_count": null,
      "outputs": []
    },
    {
      "cell_type": "markdown",
      "source": [
        "\n",
        "\n",
        "---\n",
        "\n"
      ],
      "metadata": {
        "id": "MBl6JikeZIZb"
      }
    },
    {
      "cell_type": "markdown",
      "source": [
        "##2. Loading API Keys from a SQLite database to a DataFrame"
      ],
      "metadata": {
        "id": "GxRt-yTDY54J"
      }
    },
    {
      "cell_type": "markdown",
      "source": [
        "###Select the database file with API key information"
      ],
      "metadata": {
        "id": "qwUxc8QhY6M2"
      }
    },
    {
      "cell_type": "markdown",
      "source": [
        "Select the **SQLite** database file with the API Key DataFrame elements to be uploaded to the `/content` folder in the Colab session.\n",
        "\n",
        "*note: the encrypted drive should be mounted to a local drive letter using **VeraCrypt** before attempting the following upload.*   \n"
      ],
      "metadata": {
        "id": "PhH9JKF6Y6M2"
      }
    },
    {
      "cell_type": "code",
      "source": [
        "# select a file to upload from the mounted local drive\n",
        "try: \n",
        "    file_uploaded = files.upload()\n",
        "except:\n",
        "    print(\"Nothing uploaded.\")"
      ],
      "metadata": {
        "id": "BKgmbopCY6M3"
      },
      "execution_count": null,
      "outputs": []
    },
    {
      "cell_type": "code",
      "source": [
        "# confirm the name and details of the file uploaded\n",
        "print(file_uploaded)"
      ],
      "metadata": {
        "id": "QlGromBAY6M3"
      },
      "execution_count": null,
      "outputs": []
    },
    {
      "cell_type": "markdown",
      "source": [
        "Choose the file to be read into the `api_keys` **DataFrame**"
      ],
      "metadata": {
        "id": "6v0v3lv_Y6M3"
      }
    },
    {
      "cell_type": "code",
      "source": [
        "for fname in file_uploaded.keys():\n",
        "    print('File #{seq} \"{name}\" with length {length} bytes'.format(seq=i,\n",
        "    name=fname, length=len(file_uploaded[fname])))"
      ],
      "metadata": {
        "id": "1uinlaE9Y6M3"
      },
      "execution_count": null,
      "outputs": []
    },
    {
      "cell_type": "code",
      "source": [
        "try: \n",
        "    i=0\n",
        "    fname_list=[]\n",
        "    print(\"Type the desired file number to select a file: \")\n",
        "    for fname in file_uploaded.keys():\n",
        "        print('File #{seq} \"{name}\" with length {length} bytes'.format(seq=i,\n",
        "        name=fname, length=len(file_uploaded[fname])))\n",
        "        fname_list.append(fname)\n",
        "        i+=1\n",
        "    selected = int(input(\"\\n\"))\n",
        "    file_selected = fname_list[selected]\n",
        "except:\n",
        "    print(\"\\nError selecting file to process for keys.\")"
      ],
      "metadata": {
        "id": "Yx7_i6OfY6M3"
      },
      "execution_count": null,
      "outputs": []
    },
    {
      "cell_type": "markdown",
      "source": [
        "Open a connection to the file chosen."
      ],
      "metadata": {
        "id": "Dp5QX5DJZ21G"
      }
    },
    {
      "cell_type": "code",
      "source": [
        "# Create a connection to the database file selected.\n",
        "conn = sqlite3.connect(file_selected) \n"
      ],
      "metadata": {
        "id": "wsaP2E8sZrvb"
      },
      "execution_count": null,
      "outputs": []
    },
    {
      "cell_type": "markdown",
      "source": [
        "###Populate a DataFrame with the API key information"
      ],
      "metadata": {
        "id": "s3AsTA1PY6M3"
      }
    },
    {
      "cell_type": "markdown",
      "source": [
        "Populate a DataFrame using the uploaded **SQLite** database file.\n",
        "\n",
        "*note: the code prompts for a table name and defaults to the first available table as the table name if the user just hits enter.*"
      ],
      "metadata": {
        "id": "dlCCDT8iY6M3"
      }
    },
    {
      "cell_type": "code",
      "source": [
        "# using the open connection, print the available table names\n",
        "table_list = conn.execute(\"SELECT name FROM sqlite_master WHERE type='table';\")\n",
        "print('\\nTables available: ')\n",
        "for name in table_list.fetchall():\n",
        "    print('\\t\\t  -',name[0])"
      ],
      "metadata": {
        "id": "32cO9Z6hauIY"
      },
      "execution_count": null,
      "outputs": []
    },
    {
      "cell_type": "code",
      "source": [
        "table_list = conn.execute(\"SELECT name FROM sqlite_master WHERE type='table';\")\n",
        "full_list = table_list.fetchall()"
      ],
      "metadata": {
        "id": "_U6TrPxscbyZ"
      },
      "execution_count": null,
      "outputs": []
    },
    {
      "cell_type": "code",
      "source": [
        "active_table = input('Enter the desired table name: ')\n",
        "if len(active_table) < 1 :\n",
        "    table_list = conn.execute(\"SELECT name FROM sqlite_master WHERE type='table';\")\n",
        "    full_list = table_list.fetchall()\n",
        "    active_table = full_list[0][0]\n",
        "print(\"Proceeding with table: \", active_table, '.')"
      ],
      "metadata": {
        "id": "LEexMJahcG8p"
      },
      "execution_count": null,
      "outputs": []
    },
    {
      "cell_type": "markdown",
      "source": [
        "*note: one additional step to display the field (column) names in the selected table (`active_table`) and to request the desired field to be used as an index when creating the DataFrame. If no field is chosen for the index, then the first field in the table is selected as the index for the DataFrame. "
      ],
      "metadata": {
        "id": "TD65hMBig-5U"
      }
    },
    {
      "cell_type": "code",
      "source": [
        "# Creating a cursor object using the cursor() method\n",
        "cursor = conn.cursor()\n",
        "  \n",
        "# Display columns\n",
        "print('\\nFields in the selected table', active_table, ':')\n",
        "sql_field_query = \"SELECT * FROM \" + active_table\n",
        "data=cursor.execute(sql_field_query)\n",
        "t = 0\n",
        "columns = list()\n",
        "for column in data.description:\n",
        "    if t==0:\n",
        "        index_default = column[0]\n",
        "    print('\\t\\t\\t\\t\\t', t, '-',column[0])\n",
        "    columns.append(column[0])\n",
        "    t += 1\n",
        "index_column = input('Enter a field name to use as the DataFrame index: ')\n",
        "if len(index_column) < 1:\n",
        "    index_column = index_default\n",
        "print('You entered \"{ic}\" as the desired index column.'.format(ic=index_column))\n",
        "try:\n",
        "    if int(index_column) > -1:\n",
        "        index_column = columns[int(index_column)]\n",
        "except:\n",
        "    print('Please be sure that \"{ic}\" is a valid field name.'.format(ic=index_column))\n",
        "print('Using the field \"{ic}\" as the DataFrame index'.format(ic=index_column))"
      ],
      "metadata": {
        "id": "v4SwRnnziZHG"
      },
      "execution_count": null,
      "outputs": []
    },
    {
      "cell_type": "markdown",
      "source": [
        "The following snippet of code resets `df_keys` to an empty DataFrame (to avoid confusion with the `.csv` loaded data above."
      ],
      "metadata": {
        "id": "VDYv-wRkesyW"
      }
    },
    {
      "cell_type": "code",
      "source": [
        "df_keys = pd.DataFrame()"
      ],
      "metadata": {
        "id": "9TP81nVme5iC"
      },
      "execution_count": null,
      "outputs": []
    },
    {
      "cell_type": "code",
      "source": [
        "df_keys"
      ],
      "metadata": {
        "id": "8aeVPpalGmNT"
      },
      "execution_count": null,
      "outputs": []
    },
    {
      "cell_type": "markdown",
      "source": [
        "Using the `active_table` selected in the **SQLite** database on `conn` connection, populate the `df_keys` DataFrame using the `pd.read_sql_query()` method."
      ],
      "metadata": {
        "id": "VMAyhBAefCB1"
      }
    },
    {
      "cell_type": "code",
      "source": [
        "query_statement = 'SELECT * FROM ' + active_table \n",
        "df_keys = pd.read_sql_query(query_statement, conn, index_col=index_column)"
      ],
      "metadata": {
        "id": "lwW6ip9tY6M3"
      },
      "execution_count": null,
      "outputs": []
    },
    {
      "cell_type": "code",
      "source": [
        "df_keys.head()"
      ],
      "metadata": {
        "id": "8dMZa47uY6M4"
      },
      "execution_count": null,
      "outputs": []
    },
    {
      "cell_type": "markdown",
      "source": [
        "###Example use of API key information from DataFrame"
      ],
      "metadata": {
        "id": "7PAela21ea_H"
      }
    },
    {
      "cell_type": "markdown",
      "source": [
        "####Call IPstack.com API using information for DataFrame"
      ],
      "metadata": {
        "id": "g8yNJDwsea_I"
      }
    },
    {
      "cell_type": "code",
      "source": [
        "print('The URL is: ', df_keys.loc['ipstack','url'])"
      ],
      "metadata": {
        "id": "VnkYLOTEea_I"
      },
      "execution_count": null,
      "outputs": []
    },
    {
      "cell_type": "code",
      "source": [
        "print('The API key is: ', df_keys.loc['ipstack','key'])"
      ],
      "metadata": {
        "id": "33V8hmr5ea_I"
      },
      "execution_count": null,
      "outputs": []
    },
    {
      "cell_type": "code",
      "source": [
        "url = df_keys.loc['ipstack','url']\n",
        "api_key = df_keys.loc['ipstack','key']\n",
        "arg = url+api_key\n",
        "resp = requests.get(arg)"
      ],
      "metadata": {
        "id": "WWhDjniKea_I"
      },
      "execution_count": null,
      "outputs": []
    },
    {
      "cell_type": "code",
      "source": [
        "resp"
      ],
      "metadata": {
        "id": "WWu7uMnEea_I"
      },
      "execution_count": null,
      "outputs": []
    },
    {
      "cell_type": "code",
      "source": [
        "resp.json()"
      ],
      "metadata": {
        "id": "RO4qI2Ohea_J"
      },
      "execution_count": null,
      "outputs": []
    },
    {
      "cell_type": "markdown",
      "source": [
        "####Call OpenWeatherMap with API key information   "
      ],
      "metadata": {
        "id": "CIPElNQbea_J"
      }
    },
    {
      "cell_type": "code",
      "source": [
        "print('The URL is: ', df_keys.loc['openweathermap','url'])"
      ],
      "metadata": {
        "id": "DsCCI6XWea_J"
      },
      "execution_count": null,
      "outputs": []
    },
    {
      "cell_type": "code",
      "source": [
        "url = df_keys.loc['openweathermap','url']"
      ],
      "metadata": {
        "id": "hGE3dUORea_J"
      },
      "execution_count": null,
      "outputs": []
    },
    {
      "cell_type": "code",
      "source": [
        "print('The params are: ', df_keys.loc['openweathermap','params'])"
      ],
      "metadata": {
        "id": "7pZLcSQjea_J"
      },
      "execution_count": null,
      "outputs": []
    },
    {
      "cell_type": "code",
      "source": [
        "params = df_keys.loc['openweathermap','params']"
      ],
      "metadata": {
        "id": "L72q_PsCea_J"
      },
      "execution_count": null,
      "outputs": []
    },
    {
      "cell_type": "code",
      "source": [
        "print('The API key is: ', df_keys.loc['openweathermap','key'])"
      ],
      "metadata": {
        "id": "q1ROc9CIea_J"
      },
      "execution_count": null,
      "outputs": []
    },
    {
      "cell_type": "code",
      "source": [
        "api_key = df_keys.loc['openweathermap','key']"
      ],
      "metadata": {
        "id": "09dsmvayea_J"
      },
      "execution_count": null,
      "outputs": []
    },
    {
      "cell_type": "code",
      "source": [
        "# Insert the API key into the `parama` string (replace 'API_key?')\n",
        "params_str = params.replace('API_key?', api_key)\n",
        "# use the `eval()` method to evaluate a string in assignment to dictionary\n",
        "parameters = eval(params_str)\n",
        "print('The parameters with API key are: ', parameters)"
      ],
      "metadata": {
        "id": "vXOJc_k3ea_J"
      },
      "execution_count": null,
      "outputs": []
    },
    {
      "cell_type": "code",
      "source": [
        "print(url, parameters)"
      ],
      "metadata": {
        "id": "uj_uL9Jiea_J"
      },
      "execution_count": null,
      "outputs": []
    },
    {
      "cell_type": "code",
      "source": [
        "resp = requests.get(url, params=parameters)\n",
        "data = resp.json()\n",
        "data"
      ],
      "metadata": {
        "id": "fpWpa0s3ea_K"
      },
      "execution_count": null,
      "outputs": []
    },
    {
      "cell_type": "code",
      "source": [],
      "metadata": {
        "id": "PefEp8W-ILPO"
      },
      "execution_count": null,
      "outputs": []
    },
    {
      "cell_type": "markdown",
      "source": [
        "\n",
        "\n",
        "---\n",
        "\n"
      ],
      "metadata": {
        "id": "Dcb9WsRkQGbR"
      }
    },
    {
      "cell_type": "markdown",
      "source": [
        "![WARNING_delete-plaintext.png](data:image/png;base64,iVBORw0KGgoAAAANSUhEUgAAAYAAAADACAIAAACCiiMwAAAAAXNSR0IArs4c6QAAAARnQU1BAACxjwv8YQUAAAAJcEhZcwAADsMAAA7DAcdvqGQAAP+lSURBVHhe7P2Hd1zZdSaK6++YURMASQBVhULOqXIVKqFQCYVINhUseWxJlqw0kizZsjSyWvZYlq1gWVboVqubJAJJoAqBOSIDRM4AAwLZ9mi9GcseW7Lf9O/79rlVKACk7HlrfuvNWm9qnVXr3n33PnGf7+x9zrnnvmehu3/p1p13dh8/XlqYvZJY6kksXErM9iY2p6afP99ZHRmb7UksXhpY7EnMxYeebK7tP9mav3p9rje+1Dsw30PZv9l98nhxcfbygJJ9eKl/c3rqnWdPVx+MzPb0z1N2YDY+/GRjbf/x9vzwDUuW3pGVZ83U2YvLW2PNgYYG8ymDI9NgO2kwnTR4zbaWttaGqjpzpsF6Ks+eZbCczgt5vbFwyGoospEtz3RS7ygobYtG/U6n5aQBPLZTeeZMnbvW1NLa7CqvtmTqwAa66XRek9fb3NRk1RXYMw0OkbUai1tDIb/dYT5pcGbmMcJMnau6NhaLOkorIMt0TxoQc5PDFfU3mnPzEZX9ZB74LfqClqagz2wBG0txKg8Xrorq5nDIVlhqydQjNgfSPalH/FG313wa8TNdK2Rz85t9/oa6+jRZvaOkIhJotOWXoFospyBLot9kCTldptOsEyVryjFGXO6GyhrUW0MmspdnzdLbC0pRM6wWqSUSM/We6rqgxY6aVLL4Rx7CFoertBIxO7NYXsjajMUBu8Mm1cK6OpmHDHhLqwPVJtMpUrSQZQhWmRxF5YgQPKoSrPrCUI3FkpOvZe9UngmyRZWNFXUoeFKWGWiqqENLmU/qlSyqFCkiQnOO0apSEVl3YbmvrDpNlulStrAMskgiJRtGurn5vE7KeosrA5X1yBV4QERmUF3hWouzpAIRKiLVJq8o4HCq8qbqyl1V22S2SXmT9ZxtjKKeq2qhTi5Vz6i0ovJoY6Mjv8SWyTaibmTp/RZb1OeHbiCrKntoiNZA0G+zI8+QRbqmLOhkfUtbrKEa+kyddGTmWbLzmxobm5ujjoIytAhkHSf0rvKq5vZYuCkARUVfELU3Bt3e6KvtAbfHcsqIHLLpiyubW1uiZzp9Fgfy4Mo0oOCNDa7ms+0tbe3uyjpUCNichWXRlljw1c5IrMVZWGnL0IsyN0Q728NnOyOhsMVQbEGixjJko+lMW6SzPeTx2bLzR7r652dmt/afre/ubuzvL00vjnYlpoZubm1vb+7urO3sbu7vL4xNj12ML07ObO7truzsLO/vPX6yM3P93tjAtc3NzXUQnz5d393b3H48MnhzfmRqe29veWdn9enTrb39taXV0aEbm6vrG/s7yztPlnefvgfgMncpsTB0ba5/kBfAi0sDS72JuSuDC8M3cAug0f5BHBheTFwFGIEyf5l0iCwOXZ+LDydlE4siu0jZBKUATEo2cXUpcQ2yaAa0Iv+hRoYi6LHSJ7SEqndbXjGbSrqKK0uI0BtdoRVAA7qoFLuBodCSjYahzuEfXQuKZTMUUpkgJRQoB+Ejt0BpiSZ7ymDNLYCs1gckLWTJoqMySRflv1M01Yb8pLIneUaGrdRg4qNKl+CSYwTuqDyr1IF9NmEjRWTBBiywnEJO0mTRi05T4Rj5KVIQmEPVx9JkIYigiOh7UhYDsVvSRTwQhN6DoupTuoqSFehkDJQFBZyUpQbnOdM4U7JpgSoOuhJURHbUk+iKB5lBYPyQlSRSAV1RRUhZYfu3yyqiypiiUJYwfUiWNcMkkkShI4n0PGt1JT2WbZSqK01W40FQ9cx6QMwSv7Sp1LMMYCDiH+JoNapHsnQIEIRSgYhItHShuogHIwR0UoCesUEnoc96jqaITdCQ2XAWlFp1hcgSywVxyObku0qrgAuEJCZBNkdJpaeizixqyUSRt9x8f63ZVQoE19hMJ3UY2II2l6OgHKV2IM4sQ3220W+yhx0eoA9SAacJHaqgNOL1+xyuuhwjoHnqYmK8O7E4NrWxvTU7MjHWnZjoSkxcjE8M3FheXdvYfjx7a3S0awDEsa747Ojk9tOdjfXNiet3xy4mJi70T/RfW11a2Xy2v7S6PtV/Y/rt+Fj3wOzI5PaTp9u7ewszC+OXhyfe7p/ou7q0tLy5v7f95AkBiADRExf7hXgBCvHlUmK+J45rAM3clYG5y7yY702Ac6VHoOeKBkyL3emygyJOWf5DVgIepWRRuWIXSEeFCSANg0qXumOLYsxRXZQaII+oJdIGuFVsvIZCCFH1H6VktAuUCPRAxKENR2R5QUVkS2tJqCAoQNkDIlsOF4pNiQMsgE1ILi1diVDYBGJ4QS1UEaYEk7K4ULIIQAelSSlZle5xWXYAAThmRoU0WekM8hR5Tqs9TRYgJWwIuFWciA0BKWrNAWJaidKDikQJpi7SQ4rhZY9wkZ6f1NMU5Tg99QgX/6osrsmj1cmLHqlKUIYnyisUqXwtpPilnjVoUIISDuqZRNJZz3ikeA5kj+kz7Ca0JoiQ1XQDt9B8FaHExrY4ofUFMgiRaAi7SWRtMm4xD6CcgAWtpcKAkfKEThlT4JGs0lyyZOgcGYI+lKXumWDBgS3ZHZhEpp7mcLIbjvUmxrrjD7r6J3oHps73T3YnRnsHprsGJi/ERy4PTl2+OglM6RkA28MLifELBKaJy8NjF8A5MNEzAKga6x18eOP+eO/QOGCrOwFEG7nYPzF8a/b6fYLUxQRkR7v6AW1zt0ZAf88yEOTSwEP4SsAgMX8IFldgyMQXu/oAIguX4YIBX3BBrJnv7td4xLSBvUM/q7dfk700OH95EPbOAmw5sYlgTGniPf1zPf24YLFlGEE1wS5FFcg1a4QmCWzIE7lWWuMwQ1ibbAxUUwYtWBVUbdKmTfoUWktAb07opAcycsYGPcjQ25SsalfGwHaFEqieBg2gRiKtDE1WWjeZLoIIKlmIMM9JVVbpUr1OIAmKsCBCZIuKR8agOCGLxlayioh/yCIJ0S0VJ0JKVlMUYabWSp6TdSV0jKJJWRZEZYb5TwoqflKOyaK6kjwIeMqoktVyEAiFEqGS0oLodFpQxDSGtJBWgQfMR25fHo7LHo0KQfG8KE5eJ+kpQVyw55OBedb4NUpaSPKnGhf6ppillkhUISnLegaDFqG6YN+WNsJT2LY0ptjnlSnHeCQGuFSqKUFUcbIplU4K+jBCiBBZcpVua/GjH4EN3UEiZ/xgztQDbtTQa6EvT62G6gqiQaVVljjYW07Sa0OWwDbeMzDZlQDczPQMjnYJggiywN6Z7B2c7ruqsGa8JzHREx/pik8N3Zq4MgzbZ6wXRGLW2OWBmTsPxi4Njl/sH++NT3XFxy70TVy//fD2g3EAUFdivDcxBf7uBCysqet33gOAmL8ysHbn3hKcJgCHMnkuxRfjw5u3H8z1DwFHluBYXUrMXoqvXLu1euvu7GWxd8T8gezq3fsLV2/SwFG2D2QHhrfuPIBfhuuFS8A1Epdu3Fq9fW/uMl0wNga9rbyG8hpHfqmoOOvRckoPx8pbXmPJLUC9O2jOwPrVuwrKGkoq4aurDqNk3WXVDiNlVcMQs3QFvjLI5uPaIRBmomypu7giZbejUdG0iM0OR09k2fZgzs33lFQm5zUoi3SdxhIknbLSkUkwu4oq7AaRpZaw/1tz8t2F5cofVL2XFruhGOJIV1MmIp3BXlCKTGp5RmyI+bTRlVdiysatoSFTMnPK4MwpsIvdrhJleREJKNlw9JTOEcLgCTp1RWK/0GeELP0OGOfZ+aq84BRmgw3lOk0nkelqmcmD24hr4k6y81hRBJaCeU7JwilWt/g/uJDCMhsSAwKH96QVxiBxIoeqn6vYJEItOXXNwFtWo3abDKqt00UUW/L61wWwHUtXk03epsKRdCmoZFEocLJBQUkrmioviybWUFp+oAlGuufJesY/WseKFuc1Bx5SoAY5BQ5d4YFOSnPYCkqsek4ggMJ8QlFz850lFYhTlFbwApEUlXmg5BKhiBvMOUZvrclVUqnmKBgtAKWg1O90qQ5CSMIjdDeLJehogAZS4REbHhlLwr5Gv9WBSECZ7BoYhW3yYHx769HMg3HAxBQgoys+Hr+2vrK2uf1k8uYDEAFSIz0JMGzu7KxvbE4N3RztjgNcJpUL9nx/eXkV7tjERQBN/8M7o5tPd7b29pan5ghMwLLLQ8tzixvPnm0/2X0PbJ+FO3f/y3/Z39lYnb1CiwYBvtL2wsKz//a36xPTC10AEU5CLySu7u0+fv43e0vXb8330A6C7Mr9B3/782c7WxuzfYMQBJwt9cSfLi1CdvPhw9me+ByMqZ7E0sD13b0nz/92f/nmHcAtqtKUqXNW17ad64yEQiy8GmYz9UG3N/bBcz6ry6ImoWHT6ouisWjsTLsDOEJZzhk7q2raz3WGg0Eli7qzZ+qCDW7Iei0OM2wKaAxGHl0hZFs62x2F5ZIuZR0VVR2vdkQCAXQtNC1Dhr7J4Yp94FW3yQYbla2LOHMLItFIS0ebLb9EvEJOedpKK9rPdIT8/uQMscF+Quez2Fre3+mqqUP2oJSIEP+hYKC1pdliKISJSyVGDPklnW2tjS5XvTQ/tSdD56s1dXS2OcurIEs2dICThrDH0xwOAdcUVFGxdAXt4YjXYjNlsRQMGbqG0qq2WNQKxRUzDfqNgjfaHFGvTyEa1RF6lm1s9fjdNXXmLM2KRBldhWVtXr8trwgMiA1Jo2Yaa0xBm6PuFFcJQNQyY3M6yqowPgtFMmMoCpntSmVVD0TNeEqrAjWmQxPJJw2hinpX/sEkNPoP+h6IVoCa1n+YQ7exzF9cBbaULFJpLK5yGorxVKNANjsfRNXtFRFPGwwl3sKK47IYAFKyyIk92xgoqREwTaaLPOeX+Uuq02TZJyXPnPxWeWYH1hUE66zE64Py6jxlVU21FpQXVSc1w7qK2F2OymrUpFBkkaGgrMPfZDMWIzlQpI10AZsj1hioz2ahKA5F1Rd1xJr9Tmc925dE2PIN9aaW93V6quusGUqv9KiBcDTUcrbdUQR9Fp1kP0JfONPcHLXqCmnywNLJzgs2BVo+cC7qazKfYlVbMvQNpdWxsx2R958N2Fw0l+CRnTIE/f7I+860nu30VddbMnPH4Dddv/N4b2/9+bPN/b3pG/fGL/SPdiWW55e23nm+uQ/IeDoZvzZ+vm/y6q1Hu7tre7urf/NsZX0dhtL4+fj8AtnWnu48ev7O6uziyIW+yaFbj57uru/ugbj9/Nn8yOToW1cWpx4+ev58/fHO8v6+WED9Q+tjY0s3bwuCiG8FyLh2a3NyZiUB02Zg5srAcg89rJXRsa2xqYUrQ5x7hgUEVOof2piYXL51D9YTKPMwjnrjCzdub83MriVucu1MZAFhqw9Gt8em5vuG0E6oX3gZaFd0XVdZNfUDrSXWhK2owm91uXVljkyOHs5M1Hueq7rOX2e1ZufTsoAZjAbLLfBDtrwG9ajGBxiWtqJyv9Xp1pehRU1JWUdVna/OYj3NqW6kQu8mp8BXb3aVVkIQIwO1GZ2qoNRrsrl1JWBQstAVZ2Wtt9oM2wF5S8oavTUmZ1EF04WSMV2DJb/EU2dy5xSKLI0RXNhLK2DKgYc9B0qG9s4xNlTVOAtKlRNOVcbwZSxqqKxxZtMsMp9OZqaozFlSqQwWNRpD/5BhR14xYxYiZXUFrpIK1ykjVBbarFKxGItcKcNQUkE12o0l9tyC1PQTKhxWEgBRQbDiZCvoCp16Wl6MSnUhFFBfBL13HcjmoUI4qif9EQliZIndmoxNQk5++mQ/i4yBAcQ0g4Ii4AExyaaFbKOZsslbXCDAuEsDIInQyKnfY7KSrsajyUq6h2RfmG5OAbAmRWT9nDLSbk0vL9QG5dWxvIqCpxQxFIF+pJ6JPqepToxNZNHoXFMTOAOFFi7aqKTCJu1LTmUB6Qrc5dWubKZSn01dBdFRykloljrZF5Cip84s/QhSkuhJg6uwImB12QjNqhR5luwCdKImu9tiwKgjwwkizC8Lev0em0Mt9U5dhMM1CJhY39hauDfBaR0gS9fgdPzm4vLK6sbm/LX7Yz2cqAZ99v745qMn62sbk9fucK4aof/6ytzSxu7u8tzSVP81GDsTXYOzN0dXHz/e3Hm6MD49dnlo4mJ8tP/q/MP5rd3dzccyCQ3cSc0BAX1kLjkx1xuf7Y7TKSMlAWRBANtcdz8wC4CiJqHhcz3s7p/vhps2KBPV4I/P9/aTSFmgUhxE2EELZOtHWqgO1jsdH0N9ps6awRoXLUGzcRYZDi2rRijQXQTlu6KC0DCqzdgkJCZlqQcGS5YOAwKHaGoPBhzKYrCCeKrfInXQyZacBUSAIWPN4qQd+y1TpCwumG4GJ/wOZMWRtjI2pd98hBQtJ3Qcx1Rjyz9GPDFqqGTS36g9TEIGLpGl3QEpREjvUpZmhJPmEmSVV4V0wY8ANjBDBBTQcYFCWWWOANdcLlTFSc5bsctJYVVmFCRR0anxrECOz8pxk0RBR4uw9iQelSgiAVFFcsCGVGS5UMkyQiUrtQGeVABFVRGvIXVAlMhVkGpUSaSHQ2xaWUhk0ZI86WU8HA5kVXXh4kWyL0uXeUZgnpltDjOoYTzVKjDJRn6pK8oKJ1oZt6rVCCVgkH0nZBBBpgtVEfUDJcWJFldTNlpuJTbYQVL/0A1knjhly9DbTug/5cgb/QPDV0Nseuok9Ar9SGKD3lLroEKwm5AQ+wIpYEMSaHSmLst84LdngBNJS/OdMkx2D8DnGuP0zSD+J7r7x3oTU92DExfio72J8UsDIMLYmexOjPcMjF5MTPXdGL88OH6xbwouWE9irKt/vHtgZuj2fTBf7JsmTiXGLvRPx288vHrrQVffRFf/RE8cbKNd8dnr96YGbrwHoAMcmb+UWO5FEADSppNhyxBo1PX8Za5qAT5oJcH2ESkub4l3ttTDxS9C0mVtwig1JQQKA2MDnMVxrVpCqQX0GN1bdQMQ6dGw7ljjbF3UnVQfrRuEZK8gM2TZf1jpKVmAjuo/HJClSzMeKAT7vIrzcLopWbm1UUtkuJZEIQKjF+nigs0MWdUDmT1tikEFRi7pqmsVwGPlOEM6UkG2yYDMaDlUsiw7Rydu9NBGQqTFzMi0DohISJVaMVNTpQipSFSX0NBKrhWdIY0txaw9YipCSRYklUkVfyqeVFqKrqrigDkNldQF/tODRkmmcigkRVQ49OgYXV0gXZWf/7fCr0/9hdnjbB2IafT0cqXoB0RVt8mo8K8eHTCczNv6U/0vfqT/+V/RrVOJKt1Q1yCCU1NvPtJwDdpIVZfI0V4qQvQF6CSIoABWxOrhPLSgDBEEqMRFrotxuGPqmnPVgKrugbHz/cI5ALMIAASRiYv9cLJgDU1REESywWUbfesyI+zlKhhlLw6MvH1l5HwfAQj+1MMrxCBl2ggGJWaBI1cG6YuJY0VY6U0AcRYvD4ppQ2AiDPUkFvuH5y9xAgiCYgElZq+QuNRNJJqjLNnm+gbhr8GwkoqQygIY6wo1L0BqCpAPN8SZW+TIYGUpIxOAzXk4GMaCQaCwswFTdIUwoZXdIZXORYQGXTEoEEQ8Sdl8R04hZF+QrkI6yspGD/hQGWw8C2UBWzLgZOcT1JQsI9TTAZGGZOOxIblTxn7aSONZa2bazzTIETMywPiTG5pOc6ghg3ByTMNtFnMiFHp/zIwEeprJCMFWf0pvIVCSAl1BVODhxFaSTQXWUoYY2JIuHyE2YeMYntQ8pAIzEP9yTUEyo3QZMn+h8ZAOWRRN7ayDLCsBsmqqQiBMtQhyiNFVSaUCMgP6AUVSUW2hrrVUaL2msQkniAi4To8TsWlZPQgaW3oQyguJhyj/y2VZCcn2TSeqPKfoEKRsekGk4VSEabI0ZHCLGlb/CNSNLP13Og0AoK6PaErI2UnVvkhOi5ZtpCpfixBJIEIZa5UU/qGlJjUVJfUPZBkTAJq5NDxCsCB8THVxaWziyvAkvSraPgggAmWmh25O9F+dvEhMgeA47KBLg/M37o9fGoKbBvwivSs+c/X24q3REVhDPVxWmwb69A4ujk0/vPXgPdwBNHjtna2NzZnpGS5acSpnoTu+Njq6t/to4e7dWZgtgk2zfYOPV5f3tjcXBq7N98KxGpiD7M3bz58+erywAAgTWZnAnp7e23+6Oj7xUPyvxd44d1FvrO09ebQ0fJNajpJDrcsqm1tjQa8Prj7qyw6nKYtzqM3tbe5ai1msANggVl1hKNgUbW52FXDijfWYqXdVVMco61frVpCFW+t3OJo72jx1Fmk2Ighlm4KQdRSUSbrsJM6yKqTblJ5upt5vtkXbWt11FpPYujCaEHOT3x+JROxGbZaXPktxeSwaaXI0WKSNgXr2DJ231hRtjTqqaqAZVLWsPMQc8HjCgYCaF0SezcihsTgWDvmtNtmJJ2qRoXNX1DSHw5bSCtWloQrQkoDdGfR4uJ6lVBxKk1sYg69u4qwnKdCqDL2rqDzq83MSWlQKcIAM+GtN3Aktc+TUM8R52hi2Ol3lVdwEoNQRWZKJZFkQEWtccNldWuWrrpP9bJRldSEzNSZ7UZlWNMmMVVfQWG2y5MjspkI9wKWxxFNUgQuVPcgiV/7CCoe+CGyMTTAFSO3JLwd6qg6gcujSFTUYSg7JyuwyRh3ajEmi/ZTRrS/WspEkOrMLXLmF4E8nguI4TcVIESHbkFuEPKQoeAoeF5I4IptT4GDNpyhJ2TQK2FS66bKqIA6JMD3PnrxSledUeZ25he5j5fUWlHMCLllePMXY6S+t5gwXrpOji7uo3F9Wo9RAcUI2UGO2F3PPoUZE++YVRW2uVPtihDBDyWtNYUcD/H20L9PFiJhtbPE1ek2WelmgAF5MnO+fun1va+/J5K278LxAUWteq0tLjx8/Gk9c477E7oGRrvjktds7uzvrq6ujvQQjGDhw0JZmZh/9/J3Fmbnxi3Hx5uKTiRvbT54+fv587t74xIV+INdod2JhZnbzb5492tsjAM0nrj5dWFgfGQWsiMPFfYmr9x483VhZuX4LYATKcg8MnMGtubmdxaWl/qvc93x5YKk7vjh84+nayvbUDHjEgCIArY6M7jzaWr87Mk8provN9w1tLy7urq0vD/BVDFZTht5RVBYOhwJ2FxwfALD1FABb7623RiJRb0U9vFO6QtB7AIHH19wYchlKuXwIxRUgENkGNHBSVuett0SiEW9FHRsA6oX/nIImjz+qZA+lG4asLSWbpffWWaJRpgtZtKgD6WYbGxvcEV+TQ1eMdNH8DrjZ+SXBYFOjxeGgRQBZvT1T566sDQcDDSUVyBiSwCPrKaPf7gw3eDkvK2ML/q2GorDX66upJzKKStkyda6SirDH58wnPmpqwfdRLHxPQtYvSEEMuQVBu9NdWSM7LYlovCgoCdqcDgN7OLo0QSRL31BR01hr4nq81g2oZIE6i7OoHEUT+0Vm03UF3pp6Ww6nHikLOobQonJvabWCM00WmSmrcRhLmAeUgh1JZj1LqxAtrkEkZ5bBaSh2G9FAqggMiMdtLONMrepUBCD8GxuMJebDAIROi76XJsvMg4KEcKHsLAZ0JGDNERDJznfmHJn85j6GIyACWcGaNApkT+dDHBeHiNn5QMlDxBfKviRduzaqpYh5QCWV5/Tychn+sKzLUIxWZsxCYV2dRl2VonWULOoBjeU0FJEosioVROgurOgwO7/Qeu4vPv6ZP//4Z36/4wOv2j0NZVUooGpfcqL1i8u9ZdXg1/IjjzxVtc7icugk4geyTFxMTMWvL45NTSWujwFBYAR1wbRJTN8fWRqbmrhM04bTQLB64teWJqbn747ScZNpaRBnbtxdXliavX4fkAR7B5SJS8Pz03OrC6vTA7cmuLdoYAwW1s17G+ubq/Mr76HPBRespx/OEaFHAmBovicOAye1M0jonJnm9mh5O0x5YfCt4JGJrBBFFoYP9wrJRmoVkMQc2PB/SZsDQo3Q5jxNdCcF6M6JMTHFTxmB5crgRE0Jg+pyGme6LCqRDSYzPpQ9TVkVP+NMRc5oeYFbyKLeYcqi24CNfhDTJcRAFpRUukQN+ddkJR7QxV8gEYKSLh0NgBTzrCaDcQsbCnGqDEjANQYuFg3uuqIwFT18HOZT8qYCeGTJ/IAIWbApgzzFhoypyW9VWBKlCOJbHbAhgILMpG5VDhEhk5BsIPACGT7iRiGHsmSrkqB5T84D2VRgkdOSUOFIDUg45m2J7DG2lxKPUBDhC4lHsofwb2R7OfE45SjxRUm8gAgKicnGPURMoyD+I63GhoNOHqvn3wk0X/jan/S89s3utPC51lcRQ3prIja2ZhoFgeonao9rAhDQBNhxvg/eFq8JLgyjF/tHL/QTaIRCW6krAYrMVWs8CHC4OIcNK0lkFRuJfKWDHpmi0z7qGQSWEYAUanBbs1woigQ1rcMgK1yk0MlST9Onq+VWcfICdJnShtTsFSUosrJUj3KqqkQnROdBHWE8VCAttZDCBep6OlHVl6KwAws6KBeAPV+xJSdiwMn4k+2qYkuJa7Jp4zADe3JycFBsVIgk+qTYBH0O55lEXKjMKIpKN12QuJNkU0mrXGlEiRDMKoCCpypCdSviWuSQUhTequypkExLRZIKKebUI3WdCoqoqjF1ezQkk/g/4X+r8PGmWDrupIcvdX7gCPOvD+lQ8v8s0GVT1pACqSSFG6xxm0Q0EkHpSgKQvE5xsLzFIO9YADVITGITzaLufkKPwhRiTWJGrCfFpmLA7cPufq6OyUoZ6ACjh718FQMYhHIqRScEcPlQfAqUX3AEYGzK4qwnrtW6L/onzYEMmW0VHvQQwXJuIVc9n3QuZOphYtDJkv4MOuKBRcBtVyKruhatFchmcOOfooisLiWrpUtZyZ5YQOBEoFnEmdqkmZBMt15makWWZZE8c0IXF7yVgPKauTKqDUGgcO6Wb+jonCKLOEEhJ5dL1R581ecJeWBTW+aYtAICkYUVpt0K/WWjHEZOlQ3cMgYlKyOkPYlrKBrKkpJSAREyJ4eIUgmHKEJ8kWnDzB+CLaEc3P564hEKwr+d+P+J4DeWwfY5gjvpIVZuOiJyLBzUngIRBLXT53DgitgRIq2kNKKClVHYO6m1M0EcWEAwoOipCfpQsHvgQVf/SHdcA6CNW/eWrt4gBsm777MwagavPRoZnxvga+7KLAJx4/a9jQej2oZpWT6biw89nphauXOPIsIG4tKNW49mH85LhDB/1OLa+vj41szMXP8QVB+dlqppKAo6XdxADOeZphDNS1dZVdDjcRaWsTPIRAZcLa/F1uhyWfSckmSHB+jkFYfcngaTGTwiSw/IVVHT5PM6SzgVCjqAA7I+m72xocFiKIQsuhke2YzFQbfbXW/GtUuTNTRA1q/JEoBE1muVdOXlCcri31gcdnvcdSawJfOsd5VWBdxu5hk+EaBKAMtTb/ZbbRY5rkGV16ovCFjtropqyIKiyusoLEMOHcn3QhBMpzjt4qsxmfniBYngt2YbAzUm+PBqhy6IcCFRCY3V9cgeIldEcLqLKjyl1TIHRApKZ0dBSqo4lX4wv2Bw5BaAKK+tSCmAXKiNvJKGtFdPRDUNHmOZQ8dZXiQhqdDPdeeVHsyRS4TOnIIGfbGKLSXOyWBOshxQ4F/L3G2KQiLXELO1nKSIFDw2j3N0ZgdZOmU8OmUjxMOolyQeppDnGNv/XuGF2UsjfqHtHIHmG0dxB6FHiF/9wG+lmJN1dSB+pJ41KOkZmL48nAILwYsEKNNXrh4GpsRs//VJWfBKUSYvD83fuDcmU0Wk9HDKeWb49uzN+6O9hCeuyncnxi4PLj2YmLl57z0wYWb7BvcWF1cfjMzJ2+qADF7cuvPO9ubitZswZ7j6LjM4T+bm9tdWZ/v5uikAiItcw9f+y6Pt7blZXANoIPuwN74xNvFfnu2u3UOEgJ7BRcR5ZWhnfW3/6aO54etAFq6jwzooqWhvbw16vdw9LO6POcsQsLnaz3Z46ix8lQ5Vlsm522g00tLe5iiugGngRCfP0DVU1rR3tkf4KgYPK0A9otsEGzxt5zr9FrtZoIFWD2Sbo63t7a7iSozkICJdV1VN69mOcFOTRZPVozOL7Bm/1W46kC1uhmxHm7OoHDYFu98JHXCq7Ux7ONBoyuG6O9I1nTQ0Olztr3Ym82y0Z+ZZdYXRUKi1tcVawIN+UF4YTYCPzrZWwCsgRiELbD1vvbm9sw3FkVkVGiOm03lhr781FCbwyfwOTDNLXlFHONJoRdE0qwpZaqiobo9GAWHKHgEdnAG7o9mNKhXdEmiw5Bhjbp86kobnH8Gty+SBSlGvH/WDJJTrB9vHU1XbZOIiHRJVUIVaDdfbXMDl1G46QLO+MFBvsWdzgpMUWeNz55elVmdUALz6i6vs8kqEIJegf06+t7hSszFRXsmhQ8fd25yVS8nKpKxVTcqmOZ4NuqOrUeg/x1eynNkFx1GJ283TbhFe1CH/9wovBM10FP7mRz6pYc0xDOr54z/D/19+5veSzC9a9cOQn1eSGsM0HOkdnB++o94vpRUjMzuzAzfnr9+DzaIoQBbgyPr9ianhWyBqgjy44/rmwvJE4tqELNiDeaQrvjgxvb20MnJ5EMSpLsSWGItffbK1vTq3wH1AxKDL3LADO0UZO3SdLiUe9gF3SKHJQw+L71UsXuaWHzhfipOC/YOyK1rz4JZ6ZMJo4CpASk0DgW0BF/1DS3ES1dwHlI96mVdkzjUqzaPSszMY0Tdwq9SOUAWN54udpbxITrJAhOc56QvRmUWWa17WHL6aYD0FaDiQteUVu/I5yc+uqNJF/wemGIqS6cqCfXa+EwB3RFZeRkUjqVkb9HCmW4h0C5iuDETcRgggA9uBrBG92qovchlK6DaimZPpIjOp87TAiTKiK1rz5LwYobjk9RFTbgHKomwiEPEPi4bWiqywoAZAQQ4RIcAFuSLACQVlMWWruSTKpno4xZOJKjqICgcRECFkXUhX7WkSNsWJR8AUEPkKhZp4UhGqs3VYKNIRED+CypsWkkQVGx/JU8RGqWQSEmS+7OCWgbLyBoySlZhfwCYlPU48FkT8KPF/9/CvZ/inf/C1A9B5kR2EcFgkLU5pBbaatBG0ESCiXCf4UGMCH+lwA+KBWST+FKBnlJsVNTZYNzCCRnr4CiuvYUl1MYz0DgDO1DQQ44FThv++4dHLg/IqBlEjbReizCITYpSfJVPLQBZcczELrpZgihJkkNV3sAGGNLgBjxAhyAgFqiAIcfBTL7X9vrIoLl00TXFl85X0CqiponPaX15rAAU9VlWWTV5rYCWyYxgRIZGCdgSh4aisdGZQlCxsGcjiViiaLKeKRFbRNVmZ7sGt6mlKVs1GKR4JBjVVRDaZXSYR/lqG/sj+fa61JyEJFASWV9YgIEVBlS4iFKcP14qNIZN2otbnk7IgsiqS6TJQwySJNFlUspxtksybFpgEKCrCVJCYtdhUPpGouk09wgUCBFOZSQUVSSocEA+yrV2roBiQhPYoLahHuFA5SX/0f4IK3/nk547AzZEAhDoicjyoykdQ4KKBThr6pN/KovtBAFEF3goq0RETtjQbim+KcfFe6AhqIX/qYuI9Ck3m+aqXhhQKNZLIQgqu+VQgieAiFPVIAomKIrLCIwvzCDyLQ94jW+qJy8K8tgyvdBoDKfqtKj9u5eAS7QwU7gZUFQTN46Qsz0BRisguJ5OyNlmtFzb6/HxzQs4SElnVCXk0gSUzR42lIsguasnIBV2LX8kCy07kWuDsnFaygBglq83yIiEVoXqfi0gkeUZafE3kRC63YuNaBHkhsrhlnpPmCf2sZHkRJx7Ri5HyMntSamZe5tcRj2JjQG9HKsk3sFRA5ORkisns4QIAJxiXLB2Jat+AogAymC6uBTGZrsQJNmSG+TnCJrWRyjMeSVoHsvgXNsWpLg4C2FTkh+iCXMn4//WQlsT/CYfClzo/cARxjoQ//g8fT+Nn+x6rSaXwvD5AFs4ua9cKMhSIAF+St4Is8LmSnLxVbBf6YeaAoowgProQH7vQzz3Wgkekd/GgsrGL/dokNI0XebmUuJNEHL48oWAlRbwyuNg3JMiiUcjQP7RwZVAZUCpQcOCqoJh4YbSMEkv9w4uD1yCLclIjqeIGnoHC94xZftFUzhG4C8tNcvSBOpCMXg9cocJyNdgioAPAIzh0HhBj0Nv0BZ7yGjtnPWEZiXNxUg9vy11WxbSUHsNzOZ3nqayD00QnS2SBOzZDkb+SE7oCN2wSmKaOkgp3eQ34wSOynC5xV9Q48umXSUNKuoZCb0WtjVMMFASOmE/yDCN3SWVqMlh5Oq7iSruhRAGEQis7yltcZZINgSwvQBk5zytGkVWeiQvJurLJdLiKkLhz2ug0FMPnAgNMLcRP2ZwChJTjIwnlcTdgtlHdIuCCRG7zSwGrEE8b1dQyn2p0bbNCugmJC6kT7Rr/CGidVAOlAvhVVIpHIx6KXwVWxWGKZsppwHcQA9nSY3thEFmNLZmHo/FLeAFRAbqWxLESHQ4vjJNVmsqeXBzPMyhpsloqx9mO1hUeQRNATPGcqXNoWKOmgb7xzZ7XGDTKa9/8LU8w1QQK9FMJqYGER5TAQpf2VVACfJm8PESnqXtg5uLAaO8A/KzJS0MTfcPjaSYMPbLEtfG+YYKOCOJi/PLg7PAdvvXO/YqgJ0a74zODN+eu3+OGacXZlRgFmNwfm7l+VzYi9iYe3X6wNHQdXpIGK3C+Bq89nZrhfHMSbh729m89GHsyNT19SdthSI/sysCzpaWVBw9m5YQgxtYTX7nJCeyH127gepl+HDcrPl1a3Ntan+0b1Kov02A3yBkoDodJfBAST+i8deb2sx3Oqhq+yXIaIAKTxBgONbW2tfKsaNkmh0e20oqOs53hxoAJusK6g7+ja3I28Dwgk53vAaMrwj3JLQy3RFsQYRHPEkKNc827urb93JlomOcQQZZdK0sf8Hqjv3HOb2uwZUiTZxgc+pJoW0vL2TOukirYI+AU2RqeYSSygkEGRwbPMGr+4Pv8FqclQzZMo2i5yXOIeG4LTS3IOsqrtDxLe3PYycj1W22t7zvTUGOCcaTyDBQINwXaYjxLCJYLTQz4d3nFna0tPC8mNcuLuqqsbW9vtfMgfRKdmbSSgk5XLBDgeUCiUkAiAE17IOipM6nt9iRm6p2FZe3+gNWoHZrDmsnieUChY+cBhSwOZxkPtNf6FaI1FPFtDx3XrVhXYsm6iyp4KD3MNJU9EW8qq3XmHXrnAMPD0XN5Thpc+mJPQTlGmiQbnF+DN7+cr/sddDZZzssvS8EckoasM7ewQZ9+9A9l+RqHTGBDVhXEfsroNXBu8YAN6eYU8N2Oo7LFR2QByh5DCZJjYQ9kCykrlZySdeeV2GVCN0mkLPMMEJfYECirKzqyaxyc6rUVECVRUuzZxqbSGowcICJpymbq3QXlgbJataKiwh/9xkeu/Nm3e/7zt7pf+9ODvYh//GdX/vy7f/Hpz6sI0aDQf19FLRqu7rTW3ZATZCzqdLuq0XDUUqLDxfjU8K3HaxtTAzfkWFXCEEyVlZnZzfX10cuDRJYuOFDxifi1p48frywsPuAktJg85/uXx6Ye/5fns6OTMHnGexJcp++7tvHo0aN3nj+89WCcWxkH7nf1Pxyf2P7bZ492djQLCFYMoIF+ltwuibEzlxiG27UiC/PySF4x7R/WRITIHc9D1xfjw8uyPZp20+UEYGt5+MbiFYIXBdVK/LUbi9dvwYlTrYgaMZ/Og4mBrkWkQHWQzjUvb3lNg5yPY8rmMjme2koqPGU1kEIXZW1yztjoqTHRoJB1IhkW9OpMH5ec6YOaRRIQcVXV+Wst1mxO/SIVxqYr8JltDWU1RAEaDgQgR2G53+Jq0MMs4jqUyBobqk3+Olu6LOw1r9nmQmbEAkK6eGQrKm8UWQcgIHmWENL11Vigf5oGIN2cfF+dBXCmJm6QLvJsyS/x1pjc2UVgqM8mJ3t4WYWnogYdGypCWVhe2UZXeZUjn7Pakq5oj6EQ5pgzmxqv8owSWQtgLZaxJqWe8c96Lii163lckZLlU4Bvfol6nUJxUuNfdB4QxgmuNEmhwAk6INKiL8CwCQqrRTZY2mBhyZsTEpUW+ApxtvZCCVNR4ei5PMRcdrMkJGkBFOKUlhMGiJComQx4pMV5fCULOUzaaCnxFyx4IfLjy0zHZJmK5IQXKbYXyBJuXprn9AhfUF5WIGWPpIsKTM7uCZHvwdCeTatnj67om7/zqe4/Ju4QgNRU9De++Z3PfqGxuBKto3FiMMstdEn7KgrSQuQ8K0qnnRUFL4lHIF4eGr92a6J3cOqiZtrgYnL45vSNu5PicMH8ARusmId3HkwP31JbnMUvi48NXp+bmJ7pvzF5MTHSm5jsGkSYuT++PDk3cfmqtj8I0cavrc0vLY5OawAEWwb/mgkjMIR/ENW2IJg5eERU4uSONt2Df3Ux1xtXs0VzMnMkgJWYle/2KDaIM86eODjxFCVX7YGq4SyJ6smKgqpHZxP7RRjwiBfAexgXqirRf1RLaOcBqXYCG3FEZz2h45INTAm+8Ml34q2ILYOpQJatKF2X5xCJrBillEUS5gxOsoABiYKYlMVQwxwqDQCaqKN2kRmmK1M2kFXpUilVTiCO7GWknUOEIDaUSlfJwlnTiFJSVVhwSnl16eVlJKgrMUOkvFJXmdzZqLw8uGCgMBUgnRhiAjSSH8iqzYQgynQ4V804Ya/tsUxyyoJIqqJER/GUeRNiqo34mpKYZikimKVLsGiUOggUVFEhTpVzcKoLLWjX5DwcNFktJ9rFUeKvCYonle7/VEjJphP/1UBdOpw9uWAlJ69TQSOmgsKUlKz6R4ukWgdBKv+QC5YMhk9F2r79yc8p9Pn+Z37vC23nnKfz0UYUkRg0WeluuNViECuSai9NSXQQT4qHb8ihP9Nd8po7wOVifLQrzpfgYRDRO5MFdVg0fOlUoY82uTN2Pj51kbfqNA+E0YvxsQtx4g5kkzPQMK/GU3NAvy4IHqXg5oWBj5ILXsAp/OM6xU8sk3U0dcuSJ2sE16oiUnost7RfcIFRl3ROQJCo+jyC0nLUJhBKEZUseFjFvCUE8FwxDODJ/qOCak7WuKp0LSfS+RUbdUjjp6DYuipjKiE0IdNN3koP1x+cYSSyzExSliHZyQW5uOgmtwJAkmcRQR5gGyNIhiUJ0JGKFE3yDOa0ikLZwaliJqZo1ajlASElm7oAMwWTMagiyAS5xoOgZFXgrVZMjVkxpG5VwC1iTqVyNCQ51dMUW3oMLwxabP8a2wvDr5P9n0k3da2aQ6vAQ1r3ooCnSQaEFDMuUsVPD4qimNmgaTyqfZW+qXgQ1DWCakrV4rhNSUmghvOCfgOGLlGMZF9gcVRsWl+gIgmI8A0JGDW4Bnao9yo49wyf62I/v5AhyCJsCoDUEWVEHP5fJABRvIcvoyriGAGon8tegkdjPK6MH9U4mIRWEz1HgjKLVFBoAso8jB0BGi3A5+qNc20+eSucfI0DbheNpuSaGiwgfgQx+S4Y/tHxuCrEFWKpCKlBjOdchkd/ltpRwES7Q+pONQbdATn0B3TBJq0xyKOmYNhs7N7sn6eN9tM800c1DxuM3lABl/PRGFqjcqcMzyEijkBEOj8cLu0sIYlWdXLkTVcIE5qRSLpEH55DVAQKs5QmaxfZlAJBlhb1Ke0UVIyWUAt4Yc6cQsjSklLnEDHPtPlRXomf1g0iBFGMHU2B8AjFp+okc0KKbORREKmIrArUXhatJ+YfEQoaoq5gUiVzQiLFgZgyywai+keAgQai2k+gIkTG2HBi77BK5VtmSMWclE0FszqSRkpBThIpCxHVcAxSECYtbAdEmIHJwvIRn4qxqV1rdFT+UVkU+UWvj/ybZI+kK9kGm5oiURQUluVFMx0rr1VsXimm1CouxMJVdYVbKgPShSaAUyjJGFgtdqlnCKrApkwa0VpsiIErpLTKFQ8iQW5NHAIPVmaRCk+PgoKJbqiFXTvKBUpSryCo9Bk6mdJnrlKpt9gHbo6Jn8XXuARBJuPXZgdvEUq4mJWYxEX3wNz1B1MDN2Hg0PbpGeCHNOLX50emxuI8kX6Gb3sNPOhOzN0dXZ54OHp5CAyM8Hz/WPz64vziwtiUAqDEct/w4mVtvllRFq8MriWuJ2+JIECflcS11cEbB3DDi8Tm9btLiWsAJqIM8AgglRh+dH9svo9fOqTtw2+oxtfu3NsaGXuY/CoGa/C0MWJzucq0c2pQI/YMTo5GvX5rPs+4ER2ligQstqDbgx6oOgz1Na+ouanJb7PXS59khBl6T01dcyziKKtkhOgq6LTZxqDPFw2FZMuvOCZop+LyWKw5wO3CnAGR84B0jRZbrKNNzgMCG1vOqisMNwWbYzGnnEMksvwIaqytJej1m9POIfLZeQ6RN3kOERtYO4dIk4VCoBSOkopYS3PA4zVpJzZw55HXZGlub22oNilZok8O8xwJBq1w16EWctwUKiQaDvrtDqga1AiVgPK6K2pikbCVZwmJmSb7JJusjgjqSpYRyQaEyi1obvB6a+q5TVkQhBuUCsvCHq/FWMy9TlL5qDRvdX3AZJW9nVKl0ObTxmC91Vkip74r9EGW9IXBOosth5PQaBTWTBZX/fzlNfRDRVAlHSit4cHyHGAlNvDn5PvKasSO0zjRmi5Dsbcg/SwhmpnaJLSSZfdj5yGbpKgipKzu4HgKCcy8J7/MoTt6DpG/qFJktcxQVl8EznRZJOdTZxgl04WsLTvfX1pjk5EDSVM2y+DKL/UUV6aVl+k2ltXYC0tRz5AlvkBdUVf1Vrsc3AE1ABEN3VBa1VhrTu6hlXRPG0Nmu6u8WvUFiqON8kvDaEojVReC6A5oBV+9OexsUJN3lEVz5Bagy/hMFjxlbqV9PRU1zdGws6KKgCUNCpVo8nqj4bDDWJrUZ72jtCIaiwZ9fot8vHOyKw7rZnlmjp8znZ4f6R0c7aGvND10a/3Ro439vQWAC3i64yO98cWZuc39vc0nTx/eHiFCXYjPDN3a3N5ee74H5umrt+BhAa1Wpma35Dura+ubEwCmt/umyMbY1p7taRbQ0pWhwwBEKFnpv6qugSwKgJbiw8sD19IACCGxOnxzITFMzBIpgk58aP3WvYXkJDQng3riyzdubdy+h6eoIA1Zso2NNSYoLno7qpKDA1rdWNJksTthUKDx1FAAXayuBxEaoCqdj3QFIWeDp7pOlFvGWIweZVVhv9+tzh47Jed1J8/lgSGj2gbtai8oCQG8LA4bhjICv86apXPXmMKhkLu8ljiFVJBETkGT2xf1h5w8O4oNhj4PEAmFgo12F/c9Ux11MGG8deZwJOwprwMDzV2aPwUAOMiqM4yg4hjcHAWl4WDAb3NIDUDWgLS8VXXhYMgN/RasoQmGrmJ3hV1eDk0CuPi3GopCPq+vzqxsNGYG5S2pjHi9zoJSlle0Fjn3yoFkMp1JWVQpbDHUXkN5FeqKFJF15LOeHXJeGjuGDIYNZVX+Sr6axxxKx0CP9Vfx88q0FERWoLkA2VZnzRx0SCM75BEg8BZW2OW4InYVIXL1oKiCJU2iEkTQ3IdBhJwNedx2kJJlceR8HO4dTwMgR25h+sczNFmjbFlQsgpEThvd+WVHZJGuy5i+SMeqdqszjNJkkWc38qyO7lT1nGVw5r3oALbiKkceARe1BzbWj9QVbHBccwQFJ0zRonJ/Ra2SlXqmpe9HXyipBDQoCtrFgb5gdQCF2YiSbUCMu6YODacQnLFxxMpvcjWg3RGzYA0V1VleFQ40uvj2Esc/WsSnjY3Ohog/IN8LoT5zdRXjUDgUhLJxwsgw1gPISCxNPtzYebo0Mau8MM7yDNxc3dzafLozf3ccAESc6k4sTExv7u1tPnry8Pp9fvOL72HcWF/f3Hy2v76xNTV4c1K+/zU/Pr0JAHr2bG1xbazvKtyuKbJtre/vb+ztp7tg6bBCSroLpgJdsGPEud7jxIT6BmE6kZ4aP5dKFywZ5DBtQR+0NKoJlYJWUYfSg5LixLAgNr92S34xWdVwoThBRF2rCV3VhBobLE/Z7qhSYUCbgQ6vWIwswS+xz4UZsoKPonl8RG1TqSAGsCGfVB2NSAYoHEYwzQyBoGKgrFGTFTpl0aVJIRFsjFzwDumCQTLDdMmJOIVNBcSD+Jk9NdmsUpFqYVrJumIq6RsgNTqrFAnhqWJDQITa3LxUO4mw+Q/XswTWM6wk8CAgBpVDYZPsqVSklo4kgcDhN60UEui5HKZoRT5EVLV6XPYImyZ7UAMq/M/IcqxKJ4LyAtnjeUYFHpdFeZMtzoBqoazm6uJW1Q8EpY2SbBLYlGk51OoZbYSmFNxEu4OIJFSEjEpVPnIisgeVL7pB1Urt1FU5QfyomVSjCxvGKh7vKb2GEzfyysVU37URma9RvhXPP7w8PB2/gQs1JQRP7UFXfPr63anEDZ5zKKtgdND6hhceTAjQaKcp3u/qn7k7ujT+cEw+l6ocupG+4aXZeThr/4ZJ6P/VIVXFh4KqSqms9JCiaPV4OKR4tAplH2ZLY6DDkKJ40H4SNDYExkbU48gvNrlKmlYPHuEWQUXLNoNsWsaQDb4PgVaU5W31iPGLLCNUFNXeR2TVcjXoyF5Sn/g0ma6WGYlQ07CUrBQNF6k8k1MsFxKlvIqiRPCfukWgeJKuiAe3ipIUPCAmg5JN3Sqe9JAiHorz/wQJrBZpo1TNqOvjdZUipujahWpEUa2kejBoOiDxp5JQIkk6MUUpjBKBXkEtjza3gLWKPDmdTHMG2EFMkdcptEno8/0zahUMANTNtfnR830aEQzdA7iYvNh//+1LMjOdGOuNT3cnpi8m7l+4MvLW5Ql5G0MFxMZD6d++8v8AgI5aQEJR4YB43FACAyewDwMQcTrZSxGkAWgOKEdd1SYCsfzYEKQGf8XGGgdqoCpPaCvuIDqlYaxJiyCZipg/aefyKE7kJO1MH9LRfrSnkt/hVsqB3DJd2VsICuLXZLM4g3hIlkOQNvSlZK0ZOti9Sl2E7ZCsQiVnJvcE0sRIyiKodFOVQDaZB0UO1QtiKjZeYITksEmKCpAFmzKymK7UFYZBEDkrqYhCV6NrsqK0oEb1FJtcSGaSsooOHk4nHZaVCaaD9pULGkopBhVYM1LYQ0RSXkg8RBGe/3/KSubVTNnhkLSC04Ime6gSlPVETlVRCKgBIaZ4GFJWjGpNRKIaLtVGKlCW7+5QW5IJkY0TfMkkqDBKn6FsaTppztJRA5HJpDGLvkBrEaarNDFNG+BLV3zkEjFimrt+EtPAF+DFpYGJy0MwdhTWAERGL/ZPJK6NXR6CRaOW4Tkz3Tvw8MbdkUs8H3qym18QG7vQPz18a+bWg1HcquM4EFtPYvnBxMyt+78OgGRWKJ2SAGVJZnbSiXzH4gjx8uBK4tpC2mIZ8GglfnU1cQ0XUmVaxbnzSg6dNYOqySnwlFRZ5MBzVSmoI1c+X2vQJl9FEN5NY0UtX0wXWQCQ+STfYGisNcvHSLUJbPMpg7e8xldrMmmbnkXXdQUBsy39XB6k6yiu8Ltc9nwefkwgEE3y1JkCNod2po9SLznDCH44ZHm0hRBdZVUBj5vHYlCW9hEa2GuyNDqcam4vJdvkcDUcPv/IWVLR6HI5CjgviHQVYLlrTX6LDb69JgstQZ4th/IMWaToV2cJycQQiFp55SwhFRVk4fw3VZtcnEhmXZENF4aixqp6i54vbYCCgIuGgjJPaZWstUm1SOCUjWyYVrJIyJ5T4C2tNksbgYLKZ4kMxcfOEsrz5JU60s5/UJk5fpaQK7ewQeaMFUUCFxYhe4goh9If6d7cJHn8UHrIHjns+ZSx4d8meyxdTmC7DSXpsnjK3cwGHrGUIoIT5eWp1Wmytpx8ThUld2Nq+mzk58KP1LM6swlwoNqXFa4r5FRR8nOPqGeTnPfkq6wDpmAYoOZDN3KMAX6YsMokUMXYEElRmd/hgD4DiZL6nOetN1Mn9doMF13XvKKQ2+OxWuGIQSe5Rt6dmLs/urqxNnt3lKYQYYXfXF5eWtrY3ITPBXiaAjB1JR7eG9l48mhtdZV7poUy3nd1ZXF5e293aXF5vP/65EVgzcDM3bH1p0+39vYXZ+bHLg8CpCb6ry4vLm7u76zvpnZCvygsw507ROFi2Ur/1XTrBkbNyvCNhQSJi2rPNJ72D23eujebfLkMSDR7Kb5x/c7mnfsPL8VZQQyoEUO4zuoqPjhrhmNjfkm4wQ2MQCWixkHHyOCvM4cdLrU6o3XInPxWX6On3gxDA7YAAUiWqNqiUQdPX5fRHoP8aUPQ640FgyYdO7OLsXHDdHusOeByYdBQDWPO1PtM1vbOdnd1vawl82ANS05BOBhsicXUVzEQoQPWUGlFW0dr2OeDBqj5YDnDyNl+ttNbr51hBDqURs4DauWZISozSrazPeRvhEKog9CQ50azvf1Mh5uvYiTTzc4PB5paYs1copK1c+a5sLSjJRZoaIAKqjxj0PPWmtrbWxsqasSaI16zvB5PSzAIwFJT+8Aaq6GoIxTmUUdZ/NghNQ91VVbVGg7bBfgwnKJWUZNAvYjLnf5FDQBZs8vjquJxRUnA5TemuTojbUTQlIbzVNYG6rkQg1uyoY1OGkK1Fp58kmxftqmcJWRLnrWGXg0RT2HFkbOEwBkoq+ULcZITUBAhOjPfQkg79R1PG4yl3qLKdFlAs7+k+mWyuD6QzTsqK+nWOPK57AA2BLDxiwBV/AoI0oWmUZwrABX+KrUGIkkICgdrzOnl5aiDHu7g1ynS6krnqaoLWh1qFUzpM9QJ9eyu5te91ReQYLE6iytaAk2qjVBRkEVWMeS0+ANqcAIl1b5N1OekbmTpfHLOFCJEw4Fiy8wz5xREwqHW9lbmUBEz2GVazrRFIyG0C/SWb2n1Dq4vrWz/7bP1xeWxHp7gA1tm9vr97d3d7XfeWZqaG+3qh1c11pNYW1zafGf/0f6z+XsTPPDwYv/M9TuPdndXn+8/2t17eP3B2AVYOgOrC8ubz56t7e9vPX46OXRz7O0rMzfuIrbV3R0Q/+dcMIBLOvqowGUvdRiQAJCEBBBHbYxWAKRWx7h8djnNBZM2Yw3K2ILaJJRwU4O8xiWNCgoCxgrqAQMbjK0I/eZMCtsAjQ0iOyoilHPCGI9SFMQPiny0SyUKOlPUFcAmUiaVigEaYM0rZlcU1eE/TFZ0Y1kLp3ohM6KOHKbkayeaLHfoGHkekEiBgtQha9UXOeW9UyWLHFK2oNQin0MAG0cwKCVsAZ5VCFnod1q6uoMvtKg82/SFKEtansVv13OJhJ/NFKIqL0ZsoA9jEyJrL8fIAkqdILB+UM/ZXNJCiqCDExeAHsQJQSWLgAuKJxNVdKSidB3XkEVsQHZQkEnFw4B4JNuQZZySNNMCG7qWtK+iKzVgfSaTVhcAplQlKzZcowdCCpRUQpps8lYFJAGiYkMOXyybSjcleDxdEUcRUrKgIOdaeWWKl4IqSIRSZN6CWavnkygvyw46+EFklSbnjEHBhVJ72kQii38Qme5pKglTwaAlc4gmtGPaepwdZpG0LxVJYmOACqF3yPqjyALuRScNRU6jdkaVygwyzNcV84qQSRA5AQRD5srw7O2RcThcsGt6EpPd8dHu/umb9xbujQOe1JvuMJRGrgwuj8/M3hkdFY8MDhegavrG3dWlFVkX45afKQDTpcHF2fn1lbWpgZucSOrmma1TN+5tbT9eX1r7XzAJDYgB+mhYk3aR7oIpogqs32RQ9YU2RlDtgcBqFSIrUbWH9FXFoJ6qWkYfFv04ULJUj0pFqJQM/LhVnGDgB3YUJCXZ0FS0m8TsUukyEjSzzM6kIoT20K8WWVAYA4PmRYOiTQaDCA3jZjOqoyoF04UdJKOZio2RKFlVkLR07WL7HOQZ4ofzLOKcOlGyoCsiImT/SaMgQDAly38JSrMhm17PEuRpSla9pn+ovNojUJKCSDf5FJQkkdkWNgTwky2ZeQimZBVFMaQHyCqiSlpjSEqlLo4LIhxE+D8v++J01YVkmyVKEsmTjE2VF7eqmOopGghESKkxQHFy+NEutEBAB0wk40/GSTYqRtpE8pG+wABrN6l+rFXKKt1gVFqEuEY7Zsh+1GTRkGL62VicWhYM4quk3JHITc+yFzEBA2fifB+dL1kFU67Z2Pk+LqvLqWOKjUvvF/pHADHdiRnBr9HuOHFH3uQgJOG2JzFxPj55aRjx/y8AoPSgIEauuQNInU+WRmSQSkwF1lGqvVFxvJCqVHRWJa5RcVKbGpsEerBJZOEtW4j9llAi4qre2fHECVJSKhI6NdL9krKIX8+TxiiLhPgvO3p4GL7aW8GmIjMnkhUq4RbxQ5bvwSbPISID2HDBOWOeQ4TMsCBpsipR60mYM4JTcpbQ0XTFqxKpVJ61HQaauKoWOUsIt6Cnl1cJ4hYBFxhvVXkVkXWF+syg86UY1L/IMsMqCQbEwPhZ+YpNcaa3UZIoZVfX8khESNTyrJIQoiYrVSpsilNdHA4SocSf5EyjMM7U9eGgFe3Io7TeqMUjF4d4VE5EVnFKJqUG0jgFL8iZSkWyl1Ze9UiI6kLVPzlFn3mRpCCk6hmBGZOREsiSLotrUqR9U7LkT+qz4kEZlW6osmAUVHpFnUzTZzJjuErboiHgkhjrAoj0cb8P8QIgwnWxcfkCDwwfgJTCKS66w+rp6p9Q+5vBDMwC6FwenrjA2WseAt09OHk+PnZ5aLLv2sT5/vGe+Mil+DTiudA/NXx7In711wOQ5m0pBBEQOep/IaiXLXBxADSEHp6RqIwgZR/xVCB5KzWttdATeBgYG1JqnFV52iifo8M1q0mCvAF86IQEVDFnE+DYQ1ZRUJWQdRqKzdkUaZD3yGALcD4yj3OoiF8lgeZxFJbBo1FKoJLg5HdxpfLz2WC0h/UuY0lDYTkNCmHjIHM6z11a7cgrYQOzsQE3OqucQ4QYgCN2wRHKFpY1lFSqj2SkyValzjCCrAW4o8v3lVbTpYehTq+KRKTrKipTyIIAXQGzq7iC+7lBTKl1Tr6zsEydnaSUj7aevoin/IqsVl7ATX4Jp9KTETLm00aX1BUYYNtTFjnPybfnHjpLiPnJzbfwLCEtXRWhNTcfkUtU/CcnUklOLSfFuYUPpcY1mNkrNE46C+oa2UbAI4ono1IhRVSxgQ2RKCNCySYDV5HTbklBEQj9BzlhIFtSFpFoIVmuZBCLVfKsuiiZJTMpQdAlz5qrpQVVG1LMFBEiiJ+lUOKpR9lGW3KOHHRN1XPyocAK1BCYt9N5Dl0higxOZbbAR7PnFPDUDikdo5WRAF68DW57el/IMbqhumpDvOgkBkhHQam7pJL8Kl3OAOR5q+udRRXKXAKIjHf1Tw7dWJ58ODXAN9pBUVCyMDKxOj031s832olKMGoGb64urc5PPRy7PDApGDTaMzA7Orm59XhuZArX4Jy4mEA8q6vrm9tP5m6NjvbEx3poHM2PTG7t7G5sbSsASqwcXcniqxjrAzc0ikDJvLyKsTZ0k1M5GtvAfG9868a9pcGD7dFgW+wbenrv4FUMEOd64xu37z16MKYmoaWaUIOGsNXBNyfUlBgaL4uvYrR5/Rb9wXcj67N0AZOt2eOr4/FArCY+yi1oD4a8Fqspiy8WMcIT/MxxW1uLvYTn40iHpCKGfb5YcyQ1a0OwLyzrbG9tksPh0TBsiRM6v9UW+0Cnq66ehgZaKJPz3OFIuKW9Db1XjTmmTN13//SbyyvLiwsL965eP+fwQdyRoWtyNTR/8JzXbIcsdTfT8JHYmR//5MddvT1v/OVf/eTPvv36t77z4z/79hs/+OueS72vfe1roWqz6ArPMPrr736v68qlN3/8+h9+9JNIglvCsvM/+clPvnnh7de/+30l+4UP/XbAYu840x72+w9miDP4GkfruY4vfOJ3EflPvvWdN/7sO2C+8PZb3RcvfjDUzPUUFA3lzSvuiMXUWUJuffFnz3349W9++80f/LCnp/v17/9AJQHZb3/lj4JO1x9/9Wsf6zz3ibZXP9F2rtXkBIK0+QOe+mNnCfkCn/3N30ailJXSvfXDH59//Y0f/TkpH/JH0AfQWyJ2F9r3jN373a98HfSfIIff+cu/eO2P3x9sBkODoeSz7/vwj7/17Te//9dv//DHP5bYVADnn37hyy22BjWrjfDZcx/6yV987/xf//gnf/5dpKuSRuZ/9t2/+p22V8GmsofwqsP313/yrTe+833F89qnv/Ab/jCwNVhex+EtqVfmLH20xvrW93/4cGwcPNFK8+zYRPcPX//hn/75GXcjniJRiIOCvh2st6rOTFzgapTeXVIVqDHh4jtf+ToEEe4PX/9ox6uO0goQWfNoI6CDvjBqd/FopySsQ9v91fUhm7PulFY0gtQpQ4vb566ph46p7PF1meKKlmjYViiT0HT/OXMEZWsNhUw6HhEDWVq7xuL2lljA7ZazoqR00GeTreX9Z9wmC9qL6AkfLacg3BxpOdvpKqlUb6IhrYba+tb3nWluiXECNFPPJarLg1sbm1s//5v19a2Ry8PAoPHz/XP3xref72/87fPV+aUR+FAwkcC2vrH+/NnWO88XgEEX4+MX4rP3xh/vP1ve39sE8cHkxNv945eGNtc315/tL+/tPdp/Nnfj/tjPrsyNTm49f7bydAecSQsoaa2kh0PL8ASgAb5dcWWQFwchsQCgAVHE+S9hsX+Y9o7wLPfKeUD9QyACnrTRQOqdU7zZ+WpNWg130HiuOmEowHVyjLIbitLPtUJrmU7nOYvKQYfXIGf6SCsaChvKqx3yUXDN38Z4UlzmLKsShaCPjbTM2UZXZQ2PyFFWq7BZ8ovddSZXDtcCIMtZw8w8e3m1p6oeAztSRJ69ucW//Kd/ejf5e/t7P6AFlKW38hwiu0vH6T2YPO93+DWOl/wgqIwat67ol//0S0X8xX/7Oxl4uRD2i7/7hSKmfn/6pT/01GCkKkdWqbKqvMYib0393NikxpT26/7R66w3DuNSHNSAnCX0u23nNI5jv2c7u9aCkrnJKe1efj//m7/96z/7C3dhBTWYNS9Vmp3/ud/8iMbxot/m0gpKh3TRQPbs/Keb29qD5A/RogZ+TWbU72ff/2vV6ABNjfSi38byimYRSHjyouRgTcDEUDqGgjQVVaGKUq0JoGk3udS1+iHO+1evq2tadjp+SkjNyknQrPIG/WGV+P4PHWLFSPsiLVqatrwi2jJJe4rjh46fokYDqczAwoLaOIzckgKU0eoZOpxrdBSVueQdNFM2zS5c8LwnaL4IIj/QZ1iUPCuKb+QctJHVWOKuM7tz0EFoNjL1LIOrstZXZz1yNlajzempUd8OM4z3JMa74w9vPVhZWZ+6NTrRxe8ywy8b7bu6OLe4sbIxNXR7gnt5yDZ16/769uPVxbXJ+PVRGDtgvkS2zf291YdLk31XR+RAspmb95efPtnc21uemB29NMj5oL5ry/PLW3vPNnZSAPRrgiBLyr06vgqmKNrTJDOJcq1uEWgNgdiruWAMClzE5lSaIXamWiDQhhpUHIgcSWQQAEVVPdlASdY4OaV5MLwosFBHeRAgMvl6AXQCPEyFMZBNzeOoCHkBDILPLM2PyBnQhbLkTJ+svA6TS3Qib2NpRdO1d9/94m9+DDyRKpM1S2d9JZfLHzBPTnEmqO9n5zWmY7+lmdlgYRXSBdsn2l/VqPL7kD+sNO+3Qi3oM4oI/f7BH/PDBhivUBZkD7K4VXk2Z+iO9zf8AAHgUXlGeVVdqfJixE7vM6kfASjLAJtCu0/7odSB4irEhtTZCbMMjQUVgNEXxqN+f/Z7X2YG0LhZBhhTgFftgUDt5859WGUPltHLIhnsvtRYVCnNkYfU3/q1yX1TklPheHKws5hcssOjNdMrDcYLzB88AgZ95WOfQgNpD5I/IgVn4qk86MzgRE3SPBSIP6QSH/4omi9cZVZ1xQqHJgseMQNJ+ENOFPqoWzQQn8o8HZ8mHUDCDe0XEnGrKTCaUrYXIjMaJ0SUPmuop3RDbzmRy84lZj6V+TRioz4zS+IqQhYpQq/oMYisOmdj9GI/38OQeZyRSzK5w5fgE2O9gzBz1DwRMehCfKrv+njvkBzTwW3TgKExeGFDd+CywUqaAkh1x0cv8u3TuRsP+BoHAlGpf7RncPHB9Oz1B4cBSBkvCk3SDvFRF3ypPYkvByJpTzWK8IACuuLH/5wYUDM9A+NyIJnCIJZfhbR2BVFBEi7Q5KqKQVFDHOoIgW0jTcuhRoiUVY5YUslwkToPCLUMIkOq3rlYliZLqdRmXF5r/KBk6l/79OehW1DZVrPztyPtStWWZ2YRFaABvQKP3PzYHppZpCSgPyvOI79vfOrzKUWB86JR5YfeqIln6j8SalXE73z169pEEtBH8ox0cYs8C7IYUgP1kV+gqApsKiEURJ1DJLeGB8MvEEGGVV192B/RSGm/8Tv3PPoSqVitepEN1MbLQAEACn4mLeEDjRHFCTj4sC+iiIgH+YEzq0TSf2DmsaqqL0mj4/ojvzY5d1py8AFTyeFaZRuRILZzTn86POEHhpQgAuIZ6r6kPZOfoqPV8K8U8huf/gLoaHdgGXKl2JYeziKJH3xDVGJrG/GodPEPOnRDXRBE0pJL7wvqXzEgqwigKI3lMKwpP1WanMleI1Kiz0m9EkRLqj06DoZhRceAzYGcdEgpIod2GYyREMAFyEJH7DzPTkVvlWV4bd8zX7yQVbDxnvgkwsX4yPm+sQt9XO0CHsku6onz8bG3+0cRg0wVTXUPwgiC7NjF/gkAFnCthxg0diE+fml4tDu5CjarzvRJ2iyCOwdn+oACN4rHy8sLpUcAaA5sPYmVHl4Da/g0+VlnXIMye2lgGoiIPF2II4usFAlAEH77ONPglLpQgXYED0bRIEBVMQZSOPnKisEtK+skP2sFyFDjEuoOj0xSs84MNYygr7INGAM8f5EFnY2KGpeTLtnftGbgiOTKLbbDbjpFQwZsyBjYHLqilDHyfGcXI//wpSvQsA95w699hlqoft/6yh9ZELNECFk0avfrb2rPDv+6f/JTxiwZnh0d16jyA5SwaMiervADvjAoqhtT9aEihmKa/UlZ2s9IMa/kL77ydSV+5AcDjeWFUsJJzD10DtFQd6/GlPYDAGk2Qqbhhej5pQ9/DOmiqjlWU5VZz90/ekN7fOwHH0faV9spCggDse/N8yY5JAiyqvJh6Sj+9B8yACsVLZWcINe6WdcPX9c4jv2QE3CqYM7Sa8n97AJuIUuFkWkd2DuKP/VLB0ol69IXwwXTHhOAaDKrHg4G/KdUAvmENwfAgkr8hj/y9U99TtHx+9MvflnlWaZ1RKOSes4KVOcBiT6TLklo5RUehPS+gFv1j4KgO4AfdQJObg6S8wxARw6TnFwGcUB72Rc4eDMnmXQbHblyRpUa11EtWXqnsZQOJrSOFtDAWDcXreZvjoxeHp6Qg37QZ0cu9s9cu7N0ZwwGjnLBxrr6R64MLU88fHh3VJ0JzRX6C/GHNx+sLa7M3LjPFzV4lEcCsS3NLWyurk0P3UI8nNU+3z974/7Go0ery2vvme7h6+xqIhkukgIXXMzHhzbvPFBHaqjVdB6oeu3Wxq17s5f4UrsWehPbD0blA6pJ16wnsTjEA+0X+oZmehMAUR7deDE+f3tk6cEE8oo6QslRg9ZsY8ThclUcnIFiz+BJBRGvT31QlJ0HVXnSELDYQg1uqyyySFXyVLCWxgB39ybRHX3eXV0XbQ47yqv4HpbYPpac/Ca/LxIO2w080J7th/5QUsHzgA7O5dFbTup9NnWmj9XKfiUr2YbicDj8Hz7y25pCyW9lcfG3f+cjvd09n/2N30ofjW/dvROwNdSfFi8MSRSUvfaNb2jPDv8ebW8jZpTOwwmgQ+M5RmbIOgrKwtHoN/7kT0CBQyR51vGoo/aWUKAJusK9yNxfb/C7Gr722muf+s2PKvEjv7e++1coHa3rssrmluYmr5cH6YvdNNT1IgDa3QNPuCloMxQdQUb1+8m3voN6hv3vrqiJhoLWMp5D5NWVpHrjkR9K9zvv+2BDZQ3YIAiXDcTvvvYnUacbSXC/nxizgy/MzM5uoMbMT1GjKZNd1KYvjJjsvyY5WDfM4UlDY0n12z/4EYhJo5I7of2lNeljRuoHBRMesmGg8hdXOQ3Fvx1p0x6/+y60yF/Ow+HZ7U/ntZkPzRbBFobvBg/xs+c+9MtfajN6+AGVgB2W3IKmOotdXqdgeaXPeypqGmtNaic09RnpnjaGLQ5U7KG+UFAW9fmthewLaDXUlemkvtFqj3p96vUgQAbRxFgUC/KsqHr0BdVBMnS+WlOsrcVVYwLcoy8QfXQFoaamaEuLo4iHfiAzeOSGXnW0RCJhG98C0cNFGr8yuL6yuvV8f21lfezKMBfaL/bP3x7d2N1Zf76/PLsAX4wH/fQNb6xsbD7b39rfW5qcpfN1sX9uZHx7d3dtf2/12e7syMT4+f7x/qsb6xube7ur+7truzsPbz8AcWFsamOPtyC+h7ZTV2J26NZU/CrwYj75OsV8/9D6jTsAIHXeM20ZvnVxc+367fRVMADQ5q17S8M3gDsUhLfVnZiOX114MDZxaZCnq8nHPQClM9fvLNweQUZV/bI9so0BOewK1SHNwLHXUVAatDkc6iwu0QxAu6fWFLDY5QxwBUBSmw1ub61JOdiMEKNHeXW4sbGhkOcBod9iZEC7+h2uiNvvzOX3BtBgaFc7z+VparS5bCe1M30AQN46SyQa9VaYGDlSETOkyd/4wXMfTJ8nnhwZ/dIf/H7Q7Xv9z7+3meb8D1275jM5aGdBmdDn80o6Ozp/9atfaY8P/4LldYj/E21ntfu03ydaX3UYS8OhUKI/gduPtb3KasnQN5RXRWLRoMfnyC4Q24eD6gdaO8YnJprMziNApn4PR8chy22TRWXhcDDgcKH4rJNThpf0+T2eneTxo+APR4+aCfjBpkCtcpQurQx5ver9Na++5M9+78sax7Hf6N17YAYIooFeF3/zG5//UmO9xS5virCNTua9GA13dn3lNQ55CQalACcrNjc/WG3+5hf/UGM69oMJKTpj8BSUv/6dvwQFvhLEQQF8uIsqALKKM/1HxRD1Y0JZlLXJDHHKVoLh4CmuhC4pLY1WmlMVDpWYuHPvE23nULcA6K3VdUXHD8YXazv34OwkgBetHoxPxRXeshqVrooTjxprza6SCjrLKjPoC8YS9AWgIXVSwJqKWlMPqEJxIK71BX1h2O3x1ZmlL0hZMBhX1PJ8qzJ1zhRdAWt2QaPbGw1GXEa+q8SkM+QIrVg01BiApQ/ieHf/RO/AyuzC+v7u8uziZO8wuvDkhf756/c3njzZ2N1bmng43pOYvhCf6B1aml/e3H+2+XR3/sHkhJzxPH3z3uajx+vPn20+fjJ36wH3KF4eXp9fAiTxVYzNxzPX7o5e6J+7M7r55Onq3h5SAQDJ+/U85kPbYkQ/sGcAYDTTHYddM9fL6RtlGQF6YAcpTw10hksDYJtGnpQHqGLr5lfHECG3MMmmSfyPdsXFKju0EZETYID8pCEqzUOTFc2PW6q7EDGEwgrQKlcFmTzDcIGnCoBkNODRPwiKyBgAc0JB26iWxj8ppCM2GUPEhuLtaWNq/CFdnoJ4xuGDOQ0DG4/O2n2v/8X3PuiPfPMLX0bfg5//mXMf+qNPfx6YIg6glgrisWfnz46/YH0Kv9c+/XnkUHXIIz8oMVeUTxs3l1eh5S75GgwiZB/mca4ym8MkmBbiQQfAqHjcrcAP4moagsXnmS/a3AEieZnXg1RYD1kHfS/9p9wZpA5QoFsh/i/sGsSZjsVHfp859xuQQlDlRZ6VS6IqGeHIhIv6SWbonis25FnqwfAzmnWH5n2P/D6rprez9KhJ3L6mARA14bfC2rTakZ9iSAVWl6jfFz/8sSSDzOKn8cDU+tPf+/IHfSHkDdco2oegEr/3ZVdukVtX/B/PfRimVmOxLDVQ9uA8ICVODTwcIQJcMNBTtyg4lFYtjCgKtfQ0Kx8RKvDS6PQupS/AHUvvC5ziIPQzKqXPqHaM4qIGKtBHlm/GqQ6Crjouu36mhm5xF49sZYbTRCgZuPHw6l3N20KP7uInmOfvjk1du/dAzqVXntrk0M3V6bmpQXpbhJSL8ZHuxOLEzOr88lj/NRCBX2MX+qaGb6+vbS4/XNQACMIqCgCE9mZ9WkjxIGhsaYHEY5yppwxpEeIiVXEIqYrgregZ/tUtrlNzbKi+FFFRUrgDCltFU1BQWI/qVomgeahPSUElKwrB6SHIKgqfylScioc8uIYG0Jsj8Ssf+xSMbajj7OjEJ9q4eoXOjz4JgxxRYfQQY0rLoWjAi1eU8EP/R7oPX9TJ0fMh7i+qxLWyOFS2mR+ZhFZJKPpNsZI66l0vm4j53bZzqfKyJ4gsKC/r8yyIaPYLAUgtbKWyhIDYnu3ufqL9XGpu/vgP2KSYNQvo019QtwiIBxX18swIQ5JNXYAOcyM173v8B2xSnEm80wAIAV6S4jnySzEcCYBvuHtHc5IWUktmqC7kChdKJeCRMcMSUEziQqq8ybKnU1J0RUzR1YWmVNLoqvkUUTEgQAq6hwu2r9p9oh7JWIVbBMVJHUiOxGAGHUOI84R2BDso6PuchO7qHzt/ZeoiZ4tHeuOccqZJ0Tf69hVO9CiIQAAGvXV57Hwfp3VobfAAoNELV8beJBG3E0Ar/COet/rGzvff74L9EZ/u6ufLZYi/d3i0K0EXDKAwJrPWKmoEgkUX3xnTrlNQwldjwZm8lQC7Bk4ceIiLGrN8d1Vi1oKclkYL6DAAKdTXakf1K3QVObJEVRMrSF4H51AgtaYxy6Sdss8RUNEusGXxezuwe3GrVo7Q9hxvj53pw9iQisqG8swxqqfO5VGolMkBhMZqpgFaJbrK343+REu9XbsRQ+MD/hD3B8psK2QRJ5ALHv6HvJxIPv6DTiP+l5otuuLPy7TOd//w60qDEWAWcdKEIyRLh4C0oO7oIcjz7yfH6iO/N771HRZHVSl8TwEXhOGuF/T55zu79Vk6ZZ4cz9vTzW1tshbNhNH1hDaqoyzAZeTwRh/R8IW/737l62BIt4Bojkm5EMNLLSBliUh3SgbOjqPP4/pm/4DGeuz3na98HfV/HICOr6+rX4pBBcgqFEaAtyWLiakV0oOQvtMCmUnfRoRGVCtrUkBlPVFclRdBrJgXW0DgQZPhlvXDzy7lohIUEcosfUHOipIIQcQj6jP7AjuIElRdBqYxGh1SSiehzzDSWaUqaQE1M67Fm0O/Q2zowsAd7vGJX+M7FuqFUlmYn4hfmxm8hQsgAzcH0bSJz9+4Pz108wGRhQA0AVhJ8LtgE4kb4/Jhwomu+FhXYm50cvnh/MSVq7B9gEqjF/rGB2+sL60uTc8pCygxO3hroo8TTrglggBQLg/PwWG7xJdfQUHA02maYbdHiW0KWYhZ8zfuTQxcBwYxW2LCTfZdXYQHeGUohUG4mB2+PXfjHmRVNbEGTxkDFXVOnunDegf6oCLkTB+T2XBwqApcJE9FjZ9n3FAK1YRH1tx8OdOniiLK24KBUFTmdzrTz/Sxnszz1Jn8Vrs6voCy0CQ506ehth4xa3sgTxpcFdVNPq+jmKevE4Age9ros9kDbrdFXwirR1Oud98dGhho9jdqN/L78mc/FwoGGsqrle5ydiM339/gCvp8v/i7Qyu+qd/77D70E+3m8O/jne//yh/8Pi4+FG5R1jLrp6Ak7PN5LBaUC3lGDfyWzJLeuH6dMzIV9SJ69Hf/6nWABcvrQHnrzOqsopdPu7hr6vwmCwzyIxO9KMXH2l5FTlRd2dFGdRaLge+yALYgCM1ud3jTp2DTf4gtVmlW5f3Gf/yit6SKr3ck2/dl/qA3v8yZPFhekjbYTxuf7+0/29mDVPpEzJEfkmuts3/3P3ERIAlAIvuiCSD8UpqmOF9wDpF2HpAxRcHTdP8a41NAjNbU70sf5hIkYrPl5HuLK19wHlBRhba7QoVTeY1lNc4Cvn+j9JlT44aixmqTVXZRKyDGU3dFja/OrNYTlD5bdYVNNgeP8qAs4wQbz6jyeZ2llQA1AhAUKSe/0elsavTbCvkykCuTso7Sykg42Oj1WA38rAs6/uiV4aWZ+e0nTxZm5sYuX526OAAEmbpxb3Nze2NnZ3Z8erx3EOgzfmV4cXZ2ff/pxpPH8/fGx2UaZxpsW4+2959tbD+ZuTUydjExceXa8vzS+v4ewtrG1vQ1Hif08M7I5iPOKG3s7b0HeIGwPjYzdf02PD2efiZHlk0M3libXQCI0OpRn4K+2L/wYHxt8iF8P0APKBDkjuy5penb92HgTF8US6crPnn11vbKKlAJ12oSGsbU8sT05tziSC8ASHUqzs+1+gPeejOGRFQ6AAjQ3lBR3dqsnenDhuH5A8kzbmTmH7KAdpuxuCMaDbjSzsfJ0nvrLTzTp6qOuH7oTJ9m9BkiFMYBnstT2dbZytcasjksID+wEZocDa3nOr0Wu0lio1FqKIo2R1va21zFlfD2YW4o3frrn/wwGg7//G+1Lor+E/T4Ws51Njp4IAvzjITyS6KtsdiZjttXrym2I7/v/OEffcgX0m4O/17/7vfPvf99f/8P/+AqrdLGugydp6a+9WwH0kWlSZ71P5YR/nt//X2/1WHiwvkLehfybD+hgxa2d7bJaxwsLyrhxZPQu3sRf+MffvFL967f1EjymxofP9Mc4+sFUjOoW7RRW3PUWcw2AlIgIJ8Bq/3NH/9Ekzn26/3hG8qj+cYX/6DZ50fdwq5UI/NLMrMbNttdJQdnRaHpbfrCd549Qz5VTn7wjW9q3Md+fW9f8JRXMznx+KhsuoKX4SPVSaGApBIor3UUlKL/o3sjKNlQtVmdQwQeRGjL0P9WW+ff/0LbsC7OqSGF2ijRQZ7zisMNHMN4LRPJqCtvnSnqaODhG9IXgBeWHGOLz4++gKeUlb7gLK9qizVDXZW5hEERZjX6Qns0igqE0pIIfS4ub+1sjQYaMWQqfYYeBhrcre8/C500kw1Wjw4jfaytNXburKfeCouJW6iz9AGXK3aus7Wjs6Gcp0rxKNWhm9tPd9bfebb9dG9q6M74hfiD7vjK7ML2s/21Z8+2tx/DFII/9XDo9qOnO0vPeNr81srGeO8QjCOy7T9bfrqz+ez5+sLaSFdi5tqd7d2d1d0dELefP1+dXXjQm9iYX97a3wdleXdHVsGAIxJwoQwW2DK4HpHTGAk9/GAr37iH/QI2mkjJeR+wkSg2kUYHYEG2l/sCproHAUCQRRjtlU8sdmuvYii1gArKJgWtsWk6npITbWSCEzz4R8vxfUu+rplsfnSDUzwk8PD5OHC7jABy3DpOcrBiQ2ZpZ/rQKhEvV53pYzOWmHX5ogEiK/vZHYXlbMJkuhxb8opd+WWU5fZWU/+b57t+9LqvohbND4sAhvdXPvYpZBXmFcCCqyRylBRioHLkl7oKK9QmxuM/2ianDClQS/9xFiO/9Kff+wG6KGJTu/hRTIJyXnFyzdigjLJwPT8WAoah7stK/Mjvw/4IyssVK1RXsgJf6IIRR3IL0gf2J5vbX/jNj1q1Nxi0NlKZQYcBCqCWIAUjCNdAN1deCW414cM/5ZXAVaQLhrJwI6g2B/GyzAAXqCHiKbCNpNFVcsgMsgSX8Nck9wF/+Isf/lhyFYydXHt27KeMi+4fvfHC2FAJsN1k04CqedYAso3MhCtNsH0gKM6p4ePt5673J778sU/xtQ/JM7VINqxBBPlHeXkh5y6BrmBU1SpuzfLdN0iBDXTIIkWTvEKMa9BhsxCDcvPtukJa6DLjA1nqc0EJ2heRqLKgeq05Be6yamt2vl2gEF2Ms9Qlld5Kk0VWk8kpPauRngSXUBAV55u7+qdu3FldXpm6SmsFjtXURe6BXpyZ31henxi4QQujm8fUT12783jj0fLiykj/tcmLwiZH/2zu7y3NLk5cGiYFpsyt+1uPn2zv7M5PzSGe6fNx2FCL80ub+/tbT59qk9AEC/m+KjcaCQUBuSHEgKgOptaIGtCoCwSRJQCleCRoshru8JF8cbH74G14Blo0hyZWGZITQGlEbdvbgSAClFi6aIoINu6RURHKwSi4oFuUnF1GABuakx/ngaykq8QpmynHcSQ5ecE5oOTqm1CgPTy1Q0Yk4ZGlWbVaIY2q5Rn/4MnQddY7NUU+/EMPaTCUvGwio7GgPJBfrtJVOcE1bDemK/EHiqoQA6DKKvNloHz7qy926L7z1a9T6VV5k7G9bNoFGjx0DA6Akq9/6zvIbapKVXMgWni4MFUgyFyx6gyplaPjP1kj5+sOFJecqMp/WWaYbWFDAL+0UR7QB4GyYj29bPILPyQHkQ4mR1lE9TKXTcX8wik59euX5T8VVLaZqzQK/lUOj+RZMahHFEyulkAWmqYY1FMGALpMX6pqwQXFVV9QUkJnPQuREYKiQE3OqAJRVQsomk6KbnBPnKpzUGARi4UFWVAgZcrIhbXFa/kqhkwb949e6IfhAwSYlp00fKsLUCJr7VM0U9iReWbQpaFRgMAFdnawcRNjV/9c/OYorRABry4ujY0P3Xx47d7o+X64U+O9iXFODA0sPpievHGPAARhFaMCFLnViAAOXMhpQ4ooVpIQccsgRo2CG9wqrEmXRQ4UG0BKA6BkhWq1KdCL8vOWRNYveYRICmoKFCEqNhWIDjKtk5RlLfPEE82kAhwwsNMKETxsGOGHtalkcYuW4O5BxCYTfhDR2h4imTqLOtMnKQsGc2auJYvbWCVdmlpMQp0HdODVQzbXmpGDnGAI1RT58O93296ndvQf/33xQ78NWR4zdDhdgUjefkk63ut/9m2kC3cM+f+Q/8UT3mprDHVRUBjiqNKXTbvYZS7zs+c+pJHSfhN37sGHgqyouHx+XoBezQGxGwDgBJfBqckc+8nmbDal0n4aCC/PDFNJ0w0EXIDOfCaJ+Fc7nl/4AxoqQRUgqD04/EsxvHBxDSiPgiPPKlEE5BkB5VV9HiEVA0e7QzqJC1ZLqrxkw7WqK+kC6h9P4dtyUibJw4DYTqTOexLVAhE1n8EXHpkHlYpqX3lpEQmBjnqzZkF1qajsC1qHYkfg641QdVUEdgQ9nYksdAeeJINui35Kw+fyVcAKp4TgwaD/XuDr7xP9V0cvchYZyIK+zBmbq7cn4zzoh7sT0cdxcXlo+s4ozB+IkAIj6EL/9K378/fH6GbJMvzE+b6xy8OL0/OzDyY1CwimkZqsYWIqiPGCKNQtcARPCXK9GkUhDtAHORsXWTADgEgHDF0a1FBJiyEx0Ts4eWkIF6iLZLPxVA2beD1SQQxwhWhMSoMhSBVztgj+Pyo61bSoaPgjEGcDazrBt7T54To5vEY1Nj15A9yoUtQyG0YUAo3nKq6w58nZOhIb2zg331uinQfENuMjvaOQh+ErDUCgbLbRXVFj5wGsikg2eGS+qnpkBpzm00iacOYoq3JX1oKn+0cvfnvgB9/4Zkfdi+2jnrfOe6pqqW2qvHAkc4ye5LktIKolmE+c+6A/mS4w6IUjPHodqtRdXm03shdBFvUw+JJXMZzq/KNTLwZNNaHLCs82OlGl8JTFJGESqPCcAruBn5P8cPI9rOM/RNsgnyGAvwZZdfjxywDImm2kbkjNS7r0Rp/t7uGR0gEJhg8Goi9L7imSk41U5D/14n0P+KmmBA/SSs3jpH4w0Gj6QTEkHqWBqCIH8padD1smXSepqOpzANLDqXKnjU5dkVo/oQ8ljqQjt8BhKMKFKgWI4OQZVeq8J61oeluukRP2/AKt3ik6iXpGA3nKaqDkSj3Aj4bw1ZldpVyQkUQJKPaisqCzwQlFBdxInFBdv8kSdDWos0EQP430/NKgP+C3O1FAe5YOFsZoz8Dc6NTW9uP50WlcsxfzTJ+bq2trm4+fzN4eHenhMhk450cnN3d2Nre2p27eBbhM8PuFt9ZXNzafPVtd35wa0r6MujAyvfV0F34ZnDXOHwG2hm+DYWN/b2tXdkID59YfTE5evfWgh0vsRI2LCQDb6tj0CGBP3nNFGOnqX7g9snJ/YoSbkRQAyQT21Ow0ciCfHCMkwSMbvLH9cGFUltVARIAZtnR/fHXy4f2eOKqbNc4+kxdz+xqqamEBqkpHjQAaWkMhcxG3wKqTdOtP6oM2Z8zfWJ+tXDZxenWFHeGIz2rj2rnSgBM6b1VdR0ero6wSBg7HHPTbU4ZgoLElFrXoeSo42OAJW4vK2jvagl5v/Sm2DcVP6BttjpYPnHXXmzEmQJaDmzo/pbOdaxMyttfD8KmqaT/XGQkF1UQVx5ZMfcDrbf7Q+wI2ty1DtAdjo7G0pbW15dUzrvKaz579DU2XD/++8enPm0/lvfPOO9p92m9icjJ27qy7oo57BeCoZ+rcdaa2952JNqMgnM5EJ4Rn1BwO9w4m5mfnHo5OoHe9rB+eCUeR53Cwia+eoBKyXrIKtrvH84862qCUL3wVA6iH0sED9dWY2s+2uyqqUS3ICQEoSx9ye5ojIbXa+GteEPva536vPRzhifGyOoP2fdkkdMztdVXVouxsXDQ6MD2/5G+ev4N8QgFAhCxa319j6u/u0cSO/b7ysU8RCyBrLLn09gWNevinzuWh+r3ISkL2oABt3kZ+GoSdmelCwbwmS5Rf905u70Tnz8lvDwS9Fiu/syTABMMEtXSmJeYsKkdWoVec+oU+ezyt0Ui6TpqLSts7WkN+Xz2NaGqRPUMXoE6+6rE60EGIZdArXXG0JQbdaKiolX0khrosncdiaXl/Z6y9lSeO0y3Q23UFsUgk8v6zkWiUZ5BD5zN03npL86udsVfPRnwBDJO0enT5sXA4fLaj+dUzfocTmj9+IT7/YFI70+e5dqYPzJmt9a3UmT6z1++N/+zK3AjP9Fl9urP8bG9zd2cWbtelodXtR1v7z9YeP117tr+19Wj08tD8/fHt589Xnu6uPdnZBP/y2mT8xjbY9vbXHz9d2knOAU1fGp7qoc3CW1oxfIdrvP8qrpX/JeCS4DnVV4bF51IUMZH6rsK6meHhaWoKCbKD44lr6i0wFT+Ik31Xp8DZndAaW50Xk1dszy1Aq7AJ6ZdydpPnZstrX6x0BTcGfkI3ZYmADSMAGhXDCN1mseRpfegLXGVVTjkPyJTNARY4Yi0ucxdXKCnoBPgxKDXQikmdTCgOc34JOnnDofNT8hxl1d7Kem0bMVQKseXme+otzpIqiEi6NHachRV+k6PBUA4RxEYFPWX0Vpn8dTZzboHr8JExqR93MGYa4l0v6Dzf/9a3AyanOZcjFfJMNNQVAiJdYlK1m2g33Ru+7iiqSC3E/Jrfa5/7os9iRc0k8/zSfUBy/pHJdsr4QmMBtoCqZ5OxyFVZ40I9AwplDgid0FZY6iypQJcAT3Ol+bgpoX6v/ccv2krKxezlCITSHZ91wg9xOvJL0ZGUm8PhBE1/2vhsb4+rYKIGbDsZilrqXvqCGJxc5TOiEc/5X7zsqA1CognHAQilhmVtzy+BIUkTWHKC8lry5ID3ZE5Ah9rwwCZZzyYdnIAbFKGiygbzUN6LJj3LgCGwoawKBh10EhSYzMieu6qW4gJJyAkubAWlXrPdrS9FJXAFMwvpGl01pkaL0yafGgcFj5Bi0OX211tRPygL4sQjTyU/+e2qrIdONoAHGdYVBnz+pnDEWVQlU6VwovXOyppIcyzsb3LklZhOGnimz+VrS5wh3lubXZq4cpXHj3WrM30eb+7tLY3PAlZgoODR0tzSxrNnG0935h5McO7l4sDMzQcbj5+swwJ68mT25oMpeGF9w5xv3ttHWN/Ymhm+MwoouH53bfvR9s4ejCANgGDmEH3EXdKQRawbhSAp74yGluw5PGCTOSA1Ca1cNjpxIHbJ98yEqJghC05coLVQxUqHBLCJAqpdxW/i6iDbSZoBbLhGP1QrkWwYoVAEY+PhSTu2N20fNiH0W2MD/Gdyygay0EX1iEOKrMqrCJkZ7nXMlcxAkB4Nt2lk8AxdFRVTUd2PE0OyX1GZuzxmRW99Ba41DW/x3agBcOktGdy7DOLx/ryxzA27iPaLH3rByV4f9AYxeEI2lWdkzCS715Dun36R717h35Vb+InYWTm98NVPtr2q6Md/8HHqk3lmeV+++Vg7/yjzxa9iIB6trqDNcqwMagBS6PyIkxUoWzFZ56d56pAmdvj32qc/b8ug4YmcICoU7WUu2At1QyWnqgWP5Cl3CX73Jcl9/TN0G9l1UfYsw/Gj0fBj9UpOEI4DEMCaqIrak6YED2uA5U3O4yCILC5oX6s8q8lgVVcn1DyO2MtSHFQU61mkqFdyIXpF0ympkzKPoz60yQkEpIV/LmZxzliiAifThT7Lux1KYcAGRAOPGYh5gspcn01mR4aey3PZRmXOI0LqeYbeqSuxns5HH3FlGdBzARDjPYOzQ3fkOLH+ye5+bh282AcvbO76/RHZsQwDBQ4Xz/S5PzVz9e44z+6gyTJ2vh+e18rU3MPEzfELfaO9/ZMX+8YvxmfHplZnFmC7cB8j3Le3r0wmbiwvryxMTicBSIU0AFIXKZRRlF8TiESH2ZSs2EQCQLiQGSIU/khArWmVrtRXVWva0/RbBNymAm5TuohbNKqKCuYP6CKr6Tr0gxeii9AGgYlUJGwnet1C5yOYNnTRaeDIU7KpmGVumEROXYOu2KCOyWjByeTQzIJxoB/fsaLOjkCEgcJDG9jwg28lsrIf5KA2qFKgI2b1Rgjf/BYgwD9HwpN5jcVVKoYjvyeb29wYJbIqPy8DIAyM6APoJy8EINoCJw3NVSYwWIH1p/LchmL1KFplZtmlrlgPNGZf/IIYAYhTIUbVncD5ssxwbBeMY4SM0+DWp5IzQRZlUTWjEk0/QCP10zYiJuvwM+97wcmKeISGULpxHICQPUmIWoQg8WjMTFdlTymYJIGg8qykGGQAEwVjPoUCOGP/Fzpjo6x49IhW3TqFDfWcilYuFNBzyTVd1spFBrUOyxQ5CmbpTQJeuAVGg4cxn9BZX8kR8DJK5RPiTSdyLSdylReiei7Pnz8fV1gD24ImRfJMHzwi+nCuJgG4Ge8eHOuK84MZ9IoGYRmNdPVPJa5zx3NX30RP/3RXfOx833ji+szQrdG3ryjw4lsW5/tnb41MDN7QAGisS9sEpFBDgkyGH9wSPmDF0Ag6DDTMgcgyCMpAVr3GoThhRiHQApLjRbR6lICKg56pxku2Lk0M1BEbONXk6D8yYoBNeGiJKAvIJQ2GALihs8bv3rAqwaOACQMpAoiqqRAt2GBtqhUHcCpxE79pIcvVFGQTIg/s/Ke0s4SQOgZhjh65BRhJkDSzgfZG/Pg3lFiVPSyaQfNKV9hgKOGQeIrnY2nqnPx96cMfQ+lonWUbt1bXNKr87g5fd+aVuAvKOaYpFwxactLQUFJlNxR/wKv5ES5dkTUn311aTdcgWYdPNrfU0yO/sMkBQ10ZQUh38EVeDywLeMQNeaVgu5L26knqB0BRk99wHl3GMtPJvE+2aic6/uFHP2nNKXDlMgnV/ZDQJ5JP039f//TnrbpC9Ctl0aCAL3TBxKoycoo36ZKgUT6WPD/gqx/7FO1TJiTflZPG+kT7Cw54hQsmsjJHQxTWXtFI/3lzi8Gjmvi4KzfYc4m6gU6rDFLhRKDRIYCLa5SX5/jIfjGFI9RAsvEcK27UyqBGWZVecdNZnh1GR5peUcN1hWxK2juMn3qF1jeWWbRKYBNTr/RFrvwypA42pIKAGvAUVzryikFkuqgTmE76An+N2ZrLg34UrpmyeI6Kr85SD0+NCkM2Uy6PZPVW18N+N50yEB0uxB/eHllbXJ25wd3FRBZu8BniBh9+2+sWIAZEINHU9XtrW9sri0sTfcOj/DYG0GpwZXp+c3d3fnoOrs8Yv67RPzV8Z23r0ebOztKDSeAMUAz/8+MzYNt8/BgAROiZTdyYvDyM6yQAJSZhhg3cTNkv+AeCzPRde5i4QQzS2Mg5P3hrsu+qcq+AOLzoHVy4ekfWy7QJbCQ5M3BzHsSu1JdRWVON5bW2AjqfqDj2DdS+vihYa+HmN2lawnam3l1W5a85dH4KmjBscbjKKtkSQgR2OAtKwx6vtYCfA9R8gSxDwGyDh4ymhRQTRXvoi5r9fp/JopIA0XFC76uqj0bDrooaGXMEVnLyAz5fOBx2GmUSGsoH2bKqaCwa9PrR39TwgjEn4HA1t7UGLE7kEGBENp7pEwm3tXor63CLCI/sOQwUVBLC9AWhxsaLPYemgf7yT78VbYmFO9s9JivVF3VyOq/J7ox2tH704x9/vrev2N766x+FgoFYR3vIF5BP0OnhkT19/Fg9PfL78U/fiDQ3O0qqLJkGb27Rxsqq9uDw72Of+ES4vdVfY/nT3/sDjXTs9/O//dvmYDDW3vbBjlefJV9u+MXf/d3vfvKT4VgMgIi64vCQpXdV1YxPHLWkvvnaN2ItLb46KxoddeXRFW0svzgzv/PRjwQcDdJAbJGOWvvz/WfqESrzQ/4wezJMSKcr4vNb5aMD948drvjaZz5P3TjBM+SjTQFbSTmsvCMHQv52rEOaMu+c3aeRkj8YRB/yhKB+zcEmyHIkEzgwo9FtDh5cpSug8Qs8QnGMRUii0WqzcHpFdDVDh74djTU7a+ppwKrhKtsY8PoikYjdKJ+lVXpVWtHc0gy6+saJOqOq0eFC+wZsLpPsUaTqGksj0Ui0s91bVa/qGeDoNluina3NsZijSE62gb7lFYXDoeiZ9nAwZMvj3DlCoMbc3NEWPdMRdvuQB4zfVn1RNBCKdXQ0d7b7HS5bVh5smdnRCX62VM70mR+ZmDjfP3plaHVldUvO9FnfeTp7/d7kW1ce3h3d3MPt7tr+7ub21kzixsilgcXV1Y39/fUnO+vP9tdW1sYvD03ferCxs7P5dG/96dPV53uLD+dAXF1Y2tjfW376dHmXk9BAk8R0/BonmNMAaKJncDp+XS26pwBoqu8q31I7DEBIe/wKwEvYxPwBAM0O3T60YA8Ail+fHbgFeCIKCIgg+Ior7eg8SWOEeiDfw4ZdgKGAACSQ4SquAFRBwwgWIgsACtRZXEUVAvASIfTAWBywOxCh0gmII2ZfnanJ6sCttCuTwOAQ8np9NTz6Rw1o9gxDQ2VdNByGlUFZDEoYzbIFgJpCDp6HLzCXwQ/yAh0CHr/1NE+0UaVodDRE0IQWB4wg3BIKjaXBaDTa3u6tqDNlcY0vfeEJI4njBL02u64gHAh88etf0x7I77faX422tUY7O/0mG/SGs+Yn8/wu11/8gAfcpP8WFxeiZ8+EAyFHbqEHsPLyQyrwu9jV3VBc3ZhfeXyQT/89evzYV2Nx6opeOF3yy3/6p89+4DeD/sb/8Lsff+f5c40qv1/96lef/+IXPSU1XF6RSmioqPngb/3mrw6/AAEAAlj7anjwW6DoX8nM5z/xKQeX6g1tZscR5wg5+Ui4DRDmszsibq9VviZ0/AUxuGCEsEy9s7Qy7PPZZJ3IrS+BHZTiBJxFK00fibQfSeLe1evwam1odDn/SPtEsgKgkwav2RJ2uTFSKqyhOaMvRBL+eotSDJrPmTx7LBIMNpRWc4WUAMT55kZnQ9QXdOhFr6h+fI0RkBFwuJNnVBGAoFGRttZGM/UKxhRSdxhKQsFgtDnmZj3T3kE9u6vrIu0t4WAY5hI0Gc4XNDzsawSsNPkDjlx5DSBTD1UMt7VEOjsabS7Yj0w0p7DJ7Y90dkZb23y1VigkzJOHtx9sPn7CFyy2H8/CCLrQP9E7uPpwYY3vc+1vbmxPDd/m1p5rdze3H23s7a/v7a2urE3Er6Hjr0zNbQGSYNrs7q3OLo73DkwP3Vrf3Frn8WNPt58+XRifHrk0uDg2vfV0Z22Hr2gk54BkEvrwPA4PKuNFmhEE+CD6HPDwKSigp4hwsmDIHX+THrGNyyZutBbhQEwPWgfKXhUrBgHNybFCrlOchHCZnyMlGThpp0YkYeNIclJvzsxVMxGEFXmEIQLGJ6JVFARoqrKfQUkRoVJmJiTKxP3N9GvMMN1Pc91UeXOIjSnmFkKHNLVDDBA8zU8zm5ENAhAUCMMLX+NoKJAD/aSk6AmaXr/7bvcPX7fCvzgFNr0FGJR2ohg6A8rlKqnyVdTXS0GQKJKoP234qz//9pFXW2cnJqMu9D14NPoGQ/HL3vbG7+9/8YueN9+2ZOg/5I++bGMkfr/85S/vDF9T3ug5p//ITNDG8son2t7Haskp+I3mtqWHh5J7sv3o87/5UVj1nFwg1tPCd+YV/eQvvqtxyO+PPvN5HvclQ86vzwywCf4aDcCTeWddjUsP57QH8gM+fvbch1AzwDvLyYMzXo94WKh2AAFdMDREBr/sqJobBYQjOX5b28SI69RhiWiCG30J9Tq7ajtUL9Qvbfw7IFINhIepY2wTvVI5YRDVVXTFhggRD7IhRMqCWekVjHROSkoOqXUwpdH6ukIx/OkxAb9QUnu20aEr0PRKXARcOwCsgGAgVDJRS47RA9QTb0vcN05ZOAvK3PwGvzit4Myk2+WrtThLq+rZvwwTPTx2Y2LoJqBkauAmX4JHL76YGOmOz45PAYbGL3Mimb0e/wPXV5dX5icejncPjl8ECPBA6Ll742sbm/P3xul/dccnz/fDOllYXlrf2Ji9eocTSd39Y+f7Zm492H70ZG1pTQMgNU2jgUUScVJB8ajrA7Y0uoBOkg7YOt8/9faVibeujJ2/MnbhCtxF+XaixqBaS9W7ahL1z7aRa9QpmySJDqBoQWpcCSLggiIy06wMKATYC8r5QjdApbPeT3G5EZWbih8MHBNEnxAkCVzrbQAvjkhse9XkFlBO5HBjYTIPGJ0sJ3Ksmbkqco5piDlTZ3olG2MRKEiXk9OI4b25lvfmqK7IWxCzdOb3ZltfQSpcYmNHBfOJHMu/z+GaFzMsqQPvXsmBLKKlID8yZbBl5JJ4IpcGmiQKZusJJgHVkcKmZMGZC20TWclkRq75lezUNxK0nJ/Itb43F2Cn2BRq2N6bY0aeCeuS51OGc3bvx5s7Px4789Fwu4sjMyvHfkJn+XenkQTYpHI46+E4KK9WV0gOebZlcO+/WKlSFVzZyZHvU2v1zIBsZOQgNtVGbFDEwJ3BXLjBLWGdlc+5eUSialjpCREKqUs7arIyGUds4jq3al8GzjbKjCH7rdIf2FYm5yfazzUYSmA9/W7buY9G2lEWMCtZJiqcIB7En9QZiKvYyKA4UUVs3APZVLpKVgSZLgKuEUBknKgf5bpKDahHrBlZDFX51/gF+JQgXDPGj+sT6rgV3ioK6tl0ItuuqosLXmxTM5TtvTkusalVosibCY3ObwJTkO5LT2L8Qt+Dty6PyPnNk93xsV5aJ0CN0bevqO1+aoEbdtDYeQbYFlzslqPLRnjgxuDo231T7PLcM82PrOLp5eH7F65M9MRnOIUUf3D+yuTgrdFLgxoAcbYpub6etFxoxcC6wTWnwdWji3EiX8oFE6iS6XHOLnMx/q0rE29emnijd/wn3RM/7Z342aXJNy9N/ZRh/Kc9428jc3TBVNugutEBYO9QfZUyoWFQv/KxataItA2NW4xdUHpqrdYw3NZFreWYBiLrnUuPnLdjhNo8tCxGqg6GritqiphBtMurrWw26VSgIDMuQxHdJXV4EDAlM5cf888vBRG5QpyACbrcJZV2Y5E5I1c+oKw3I2ZDkdqRrHLuAMSg15VXe2vMMI5MGTmMLSPHqssPWOyuyjp4H673ctnCkpHrKqn0u908BiQDJcq1Qfa00WOxNtldGP2sJ3LQ2+shm18UdHvcJgv3kryiQ+rInquyptHvc5VWccN+Ri6gDd3Ga7UHnW6HroiyyDBSzy8ONrjd9RbYaI73khN2orOs0u/zOYsrmSIKAlQ9afCYLH6b05KTT7RC0ZjnAuS5AY4k9R6DOeAj115Y5jdZXXpUgk4OQmJbuMprvFUmjupyBg1qDKOrp6zGZiyt55Y5NgcKyC92FlcAQQCv6BvAL0RoMRTw67XIhoISEDN0rpxCrgBomsBXamhe6Qu4qYKtJpqgNsicMtpPaN0PvZcGL9UmaVyTkyfSc48fHXZNFqmgNalpxHSh0BBm90bzQVbrpYgzK+1sHeGEMtCIlgwndVJkCZG0W6mQ7OGcEKQJA69csI+cWYZ6Dor0UnELosoz+JVlpIjIHpIw5+ZT97Q8sza4Ay67wHGCxg5zIrsi7YYivpgtDgGTlo7gzC+B8qPeiPunUAO5NmNxQ2EFtJ05RK9BTk7qPWXVDrQRiPwqRmLiQt94/9WFkcmpK9cAMaOXBqYvJmDITN++P/9gAmYOrCEAytT5/slLQ8tTD2fujo50xWcuJIA4oxf6Zq7fXV1ambx+F9dAHx7c0Z1YmHq4urA00X9t7GIfTyMDJA3dXFtZW9bOA+Ky/23uklZzQIQVngc0e+3u2OUhTioL3ODpzNCtmeTssmAQp3vmb9ybGrwBcAHKAH3G3uyd7E3MX7vNt9He7BVi7+hbl2YT12ev3gIRhUc1EewNhd5ak6usKnnQAYcsV0mFz2y1FZdL+wmbvtBfZ/ZabZxdTrKhxwZcDfDDUfXS/Nxn5a23hv0BV53ZqiuCH2Q/le8sqWry+EKNAVdVrZWvLOQBLNzw3iOhJp/PVc4dYujwzqKKJrc32hLzeTyOkkpLdj6gx1NniUSi0dZWn93FQ/JzCxzoeA0NkY7WSHPUY7JZ8kuthhL0unA4Ej7THgqFPdVm+BeOwnK/2xNub4u1d3CLV0WtNa/EW2kKh8LwwCPt7Y1unx09v7DM53BGW+mWN8davVaHrajcWV4TDgSj7W3hzvZwJOKqMdnyS301FqQY6myPdLQHGpsc5TWOkqpGpzva1gq2lpa2gKPBUlTuKKsJBprCnW1gi0ajrlqz1Vjmr7OGY1GwRds7Ar6AA2hVWBZwupAuiEzX4rAYS4CDAb8fSTS3d0YDYWdFjcVQ7K6sD4dCUeS5rd3v9DjySq36Iq/FFo3FUN5wNKp2LTpAdLjC7a3N7R2NDV5rfilgyIGkPd4ocxJz15jEv+BcXrAxEGtvC3h9dmMZ2Cwn89zltaFIJBxrQYXDtyUcnDa660zh5khTIMDtiKCgf+YW+O2ucHPUZ7LZThXQ283MsxtKGn2+YFOTvbgcvdelzrgpqQgFGv1OJ0SAFNSNUwZ3TX1TMMBFBmV9wETKyfc5HE0ejy2vSHV7dFp7fknI7fGYLdQxYhD9IFdFdcDvdZVWInKABUEn24h6aHQ3WJKycOFt+SVhjxeKCn1W6SKhhsqapoC/QdIFNHDAyy3wupxBv5+vsMvQy3SLy1Fav9MF9NdkMZaYLKHmsKfeDAaqLoZVQwmaCerG0xcANygFSl1dG26htN3Ib08iP+gLTQ2eWHurv8END53n0mQZnKXVUehzWxtVF3allAI1EOlsjcSiDeU1oIx3xSeu3lrf2Nzef7a2vjU5fIeftegZnBub3tjd2drbX51fBlDAEJlO3FjjlPPuxt7uwtQsMIQLTQ/GN5/ucB5adify5dW+a8tLK5u7u5wq2tqevn5v/EJ85vaD9cdPQFnbl/OAeKbPwvLMvRGYPDCuuGh1sR9I9nhjcwLIAjuINlFitDuxOju/vboGfoARF8guxKcGbz59+mRl+uHoT3smYfIAa97oWbo3tvP0ydyt+yNv9MACokHUk9heW3/86PHDxHUBYO5S91qtre8729bSassvw0BBjyOvqCXaHHvfWfQf9uQMWiuNFnvb2TOxV89GA9zpb83QOYwlLS2x0KvcQh7x+NE2EA86G9rOnAl1tLecPRt0eTFiA1Za29oIDR1trWfPNNqcdafzot7G2KtnAujhHe3tnZ3ALGdlXTuQoqO9qbUVWNDa3gaECvkbY2fPNLW3BVs5H4wu53d7Y+3t4c6OQGtbU1tbDN0yGg2GI82dneHWtmAsFmxvJTHc3NzWHjrT0dTaEmppCbe3N3d0RGItsc7OUFs7Ymtq5QpXM+htbZHO9kBba7ClNdyCVNoRP9iaOtvQG4MtLU3o0sCmVkYbQhItItvRHuvoBLThEWILxSjbjAjB1t4RZCkoGwT8IduozM7OINJtoTiSAMgGo83RM51BZA+poHRnO9BbUeGoqIAQox0dzc0tbquzuRW11NGEdNtaUbeNVqerxoxK40pZWyx4BgWOWQ3F/hpL65nOpvaWINqS9eyqy9SH7A0tZ8/421tDqNJIs81QDCMi5PU1n+0MtLfiUcBkQ+Ni3G4G4J7tDHd2tpANhhs/QBRrjjada4+d7WwkG98TdhSVt7S1gTMWbbYbSi2wQTJ1/ioTUoydexV5oxWWQauh0eFsPXcGzBgJuOlRJkQigabY+88EvT7tMAqYUfmlLW3MSQNXKrnJAxG6a+raX+2MRsI2XaGTGyZpvwTd3tb3nwk4G4gyImvPK26ONVO2nC8SEdQydJ7qurazHc2RCGCaS1EydRj2N0IWMXCKUGSdBWWxthYoobuWJ2E5YVln6rwWa8u5zlhrq62wnEYfxHUF0XAo8v7OaFPQmi2v+2Xm+irqWs60R88hM27aO6iEU4aQ3xd5tSN2ptNbY2JmUJbiChQ/fLYdEToKK2wZnG9qcjSAJ3S2MxrmCz1WGGV5JbFYc/BMW/OZjpDLC5gbvdg3Nz65/XxvZW9ne39/cXSaHtaV4Y0Nfl55bXdve3f/4c0HEz/rm7s3trW/u7qzAxDZ3H482X99pCexurK6uf9seYfnAW0ub4zAWbt2e3t3Z313B5wbz58tTz4cvRhfebiw+WwfbMt7u++B6wQMggs3Sk9Pm6aZAgz1DsD8mZQZH0ASgIkvtl7hqxhw1jhXLUQeBpSgZTX+Zu/4z2gBTb3Ry0kmwOTbVybFJoIRRLOo/+rswE3csiplGIFa+OqtjtJqtKuyYqCjMEDCLp+jqBLVwSEo01CvK2h0uUO+gBU4xdGGbK6y6pZINOBrNBu56I6WsOgLmjzeWEcbkMKRW4ihoP6UwVVTH4vFMA57XC6MeC64V/qixkY/bIRYa4vfIkPBybwGGDuwCIBKra3eOrgq7AOwRELt7aG21saWqKO8Ghn21pojra3gQQ8MhYL2ojKTsbixMdDcih7eEuhsa/L5Yew4a8wArGhLKwAo1N7qszks+SU+txtgRGRpa8FT2A4oeARGTisAqCXY0RYJBJ1l1bBHmiHY2kIsgKXgdNuLKhq9fpGNhdpiMAHcVXUwZMLhcBRQ2NoCwAr6G+0F5a4aSxTwIeLcAWCy0iq0EUdCAJHO1mA4yNlKXSEMEIyExK/2Vo/VxjkLY2kwEIC+ItEgul9RuSkjt6GkKhSNIn6YWo02B18gytQ3VNWFW1ml0VCYn82Bd3kqr8FkaW5taUaiVgdtBxCz87w2B7pBKBgyFZSpY7HY4nZHtK3Fa7Zxbgs9Ge4b2tfnDQearHxBDNaxEfoAkzPq9XtNtnqqili4WToYy01ut3xAhntqoAnofu7q+sZ6GxwT6BW0CP8ANX+dBUYiEoV9Ae+D7pi+0FdTb1VfsxHXD/0cQ5SnlCM/RkSaGDRwDG4YF8aSlE6SmFvA4y6zYZvA66Fa0i0qKHMXQyvAwwkjeluwlWDO55egljgRySk5HlforarjqxgyGUyXE7JFFd6yWlh/YFBmEZrAU11vK67U8szy6q15xXB1uYEL8cjkHTy1hsraRpPdlCwvHsFNC9qcDVX13M7CyVDWlaO0ssnrdRaVqy5jhweak9dodUQafLBtpXRGzkYXlDT7A1CSuhxabfC2YHDA/9rYfjQ7OgWjBl4OF6P6rsKQWd/cnrl2f1wO34DbNX1nZPPxk9XltfHEDX5JFfhweXBxbn57d3d+doHoITM2k1dvr21tbT/dWXgwCbYxeGrd3Ae0vbu3ubn9HsSFAHBRr1MAVhQGAZXUrBAsHcATEUf5XOAUBgQlO/HWZYAOLJ0xNePz5iWA0dgb3bCGCElCRBgH5Sfd0z/tZWPLrA1RQ2Z2MPjQKZNZT9yaMPJw45aiUC2g5TYMjNxXznYlG7z0nALu0RJnmGzwe4E4BegSVDjLaTak+ZVcKJm3sr6eXr3Odhp+ey7qPeL2u6rr60/koGEIiO/NwVDGTyZBayHC+Q5d3Wlj0BeIRJsd+mLLiRzbSZ3llRxHRXUE6BNoMsHlxrB8ApyGRrcXllGjw83Zhwyd9b1MNIhe2t4O76nuRI7jlVxrRq7P5oQt1hyNYVCq4xxwjk1XFAyHg/C2AkEzjLtXcutfyYXbhZ4MT81vcdYh2+/NhboTgjvbYs3N9sJyRMj9rDkF4aYQnKagx08FPcF0XUWVwZYYZD0VdbUZnAC2vTcHEQK/Io20H80ZnJ/ikGt3wf5yV9UjG+gAthM6dPXGxsZIMGzJLWTROMnNHDYHQsCXugzWFTvGiVzkP9zgM3GKKpdvaQPrgewllb7yemTYAmQ5qUcdotWcGM9zCzitptqII4relV0oVgOIjFBNxMhgo81rQDfYmkAxWdFPNTpzfiKH/JyakX6F/JCo5tclCdEr1oYWm9gskM3SWVAhXOBLrhJAFtmQOXJIYVAEPzc9yEQe8yBTNgjUkORkMHRMqSXiR36gY5I9SRcMaP2kPoPC+R0AhJpR4oQmZZkBTv9RVk0AqXRZENYDi6ayRz+Ryw7MDKRS5UXpkFYqXbCJLIlMl9mjqcUKPMnZN1VXyANnTmWWirIijtwCf5ku/T5+mnmkl6gx0z00IpuTp2RxfLQ7zqOge/hp5vHuQRgrDzkxFB/tuzrWOzh1nrNC9JOAON3xmfiNiQuQjY/3EkAedPVP9l19GL85eoGndoxB9oJ893no1ljf1feoieQxmStSi1m87eVi1qS84qGABpkgBl2IT1wgUbGBwmNB3ugZf6NHTQABboA7E290j73eNfbT7sk3e4FHoNM+eqNr9I2LY292o45QHax6TvtTz6jZ0qgOTp7pMWhwIhNPWemyzVxX4MgrIgyxKlFlOhgpDaVVPGj1hHrRJo8TscYSt8lm15dwdhmc8OBO5Xks1oDdRbRik0uLGkubgiGgPgY94kUGEs3zWuxwTzz1Vug3NBWKbi8oAzqEY82uSr6TbT6Rg3HDbbFFYDuEI9aictsruRYAUEEJbAd4RgHYaIYi04lstLG33gIfByaV38E9kOjkJn2B3+ujkdXSAtsbpTajS5dXheHHAdHCYWAWV8ROGvw2ByjhtrYmtw8jtuWVbLORVhvMLpG1mFEulKK0AvYTIgwEg3ZjKdfIsnTuWhOAD3DTKLsiTZxazvPbnFF4heFme3EFis+lED2MIC8i9NldGHtBZDXmlzSFguFoBAY8zB9qMHpdcWUoEvW73DaUQqb86dtW1YaCQYyxKAK6NOoZ2XbXm30Wu/W0kZ0QrYkucTof5qSjpBwAoXDEcUJn5suZNfSDyEAi6lBN9qNO2JRc3mIXdegKbDJXzdgQkDSgJzvffkJ1SHhSRu4aRS8llGgLFFQYXNOj19Y0pftR2VTQ0IFdl5FzXlwQjeoHWRaQXoz0diZB1WJVaGfrsCej30KWmpOLgoNBbBZiDdFBtFQyQ1mVBGSRE6X2lD2cLhFQPEr2BUlCCkIQAadZQ2FNVhExxKrCIs/QNyZNNgK66jXsXKeMGCCRBzQxCmKHI4YYZAsi61PiZJ3r8pk3aQ70aHUo/XT/9TFAjDoREWbLxf7RvsHpOKelx9D3edIYvzExo86S53oZUUIh0dTNexPdg1MX4sAp+FL8yvPQjYfX7shqeGJCDiQb7eILrpODN2gBAZYmh26O99O3AqwQWbrjE31Dc5yEHpzgF+ZJh483M3Rr7vpdOYBVAybg38L1u9MAQk4AEX3Gf9o9dWVo5f7YFOymn/YQj37KSeiF2/eXR8Ynuvrhk9u5z0rnKCyD79Bos9uz0XisKfupfJ/VAV/DbxJVRgXJzGUoHAq3NEObYevCPTblGn1OVwyjejTqqoI2c30EThnn2M50hCNRd1m11GxBwOPljGxHe4T+QgXayVtZG25uDra3wTwJ+wMwpGHiNsElwW1LS3N7OwxXYAr8eTj5cGRCrWKMONz2woomj8YG8Ugs1lhjbqipQ8bozrTE4Lwg6YZaC6wVUMAGhwvABHPJU2eG+0MEicWa2lpgQwWdHq/dCb8PLlgIxPZWeE9+qzPoD0Q58aTmj9oiwZDPbAvB2xHZgCbr9trs8IPgDEKWbNGYu17SBRuILa3IZ9Drd6Kw8BAp2xJqa4sAv2oszvKaKDLaTr+MbP6ArbAMbl00hmoBWwt8QE+d1ZRb4DNZm+EhtreiDsP+JnteqTmnwCfbviNItLXFXWcyndJZDAVn29r/8Gv/6dvf/96br78Rf/PtscTglbcvvvWzn/3Vj370jT/5k/c1t3B/ADClqBweWXNnB3xnGx0BIo67tIabNltaPHAiYJsA0fiR2/pQrDnk9Tv0hcLGT5vBcYuGo+4aE3009G2oB5rY5Q77/PTLiAWyDpVfGnb7fCaLKZsb/2hoZNE5Cnq8TkCw2HEI6Ja+OnOT1S6rEwrj9BZ46Fanu7IOSQgbX8RxFJYGbA67HCGCTgt8FNevLlBv5ZZiwQvgI31JrhjWmk4lx84sfhUy6GiAmiXT5Z5mb0090rXo8sVaFFfAUAR321NjSm5NkDyXVIY9PmdJpcANsgdfz+i32INuj1n8MgzGnJ4vKA36GmFfm+W8GrKdNHhq6qOhEPxlbqanrIHmttsbbQrBqZd02bmc5dUYcoJen6pn+j29Q4tTs/SYJh6id9MFuxgHPqyvb2w/fvJQzgOCmQPO2ZGJrZ2djc1tOFlc7eqKT/ZfW11cWXu2tzq/PNV3jdPHYLt5f+vRo63d3cWxGXk/Iz5xeXhpdmFzb09exbgYnxq6ubO7s7KwoL46RmQ5378yPfv4538zPzrNrZAwji7Ep+M3Np88ffT8ndmbDwhm3Yn73f1zU9Nbe0+21tcnLw3ADpp8o3u6K769srax83RrcRXQOPFGD9yxxbujm08erz95sjWzQPcVumgojsViwTMdkVfPBNweh5zz5nVxniwAi+DcmSa7C+Owq6g8hlv0gdbW6Ktn/Ga7OVMP9Yqe6QzHWpva22JnOrw1JnhGMQBNK3ChtbGzLdrZ1mi1h5qCTWc6gi2cqQU6QMUbA43RjrYguiJneWNBcHJOpwWODHojQqCtNdzRhqjgUgEU0G+jQIdWzsu2dHQEIdsCSgsxSFagop0duCBYxFqaWmO4jnV2IIYA0AFs6PaCVqGz7ejYvCZkINpWpnimHWCUlG1B0vCJgp3IgyYbREDZk7JNRBYmjXTDkG2N4RYFwUVTWyvnwjs5i0yGFuYZdlDsbGcTIgTMxVo5/93W2iKz100diArifBTuaEV1IWmUF8AHTgZOZjc3I+eMkLKRzo5opDkYAnygrpgZNNMn/+NnfvxXP9ic5Y7E/z4z8w/x+K/+6vvvfuMb7/b1vfvaa7/6zrf/8eLF/3b//r/89/++v7Z2/oc/+fJXv0IEj7VEznRGmoLcQVdSgTqEuQfcRNP7KupgLbpq6pBzNFP4bCcA1InunaHz2RyxM2caUednOz0VtTDZ0M04crzaGT1zBp6jOcdoy8x15OQ3h8OBc52xs2cb66xiVuhtxRWtba2cwG5psRmLYbJR2WpMMci+72zI7oZCArzqT+kxYkXffxYK4CqR5WruVi9sjkYj7z8bDkWAv1xmOqF3l9W0okLed7bR6hBZrmcHXA3R93fGOttcpZCl62TXF3EYe//ZCExmtSR3QgesR+mi73s14GiAiwRoANiFUJD3nUGc3vIamtsCoy1QznOdrbEWR14JhliYVxiNUN7ms8kzfU7qLDnGaDAYerWj5Wyn32TllpEMfiK4VRQs2omCVMJmtJw0cvg824majzY382OEMIQLimOyJBI619nU2AjwGj8fX5h8+Pj588W9nc13ni+OTE283T9+eXhzc2tzf39ld297b3/22t3xn12ZuvNg+9mz9ae7q8/217cfzfAjX/H51ZWt58/WnjyF7NriCsycicGbj3Z21vd2V5/ubD1/Pnd/fOytKwS458/XH+8s7+++Bz7UyOXB2ftj04Qx+lb0tuBYXb21MDn7sP8m33CVE+YnegZnxqcXpxbGryTf/LqoPp4xv3h7ZPxnl2HpcPbnZ72zt+6vL6/NXL8/xhno3kn4aJcGVucXN1fWp4duobqVw+mxONCxI8GoXabK0GCOwnK4JM0Al2DIXsg3sOynjW6nC4ZJpKOjEWa/oQTNH7HYvv7Zj7/5jS8hfOPTH20zWa3Z+X43jJ0ONao3erxmQ6G7oi7WDOTi8hZq2etssBSURjyNHPZbgSCxSFsr8uCqtTQDFGSZCUoPxHFbHE0+WCIytQxY6WgLh6NepwvGDvoJ+jw6OSyIxhB6RxOMHeICV5RagIDBpiAsrJCgEsS5vNXS6g+HmlsIIgEBoFhLO1fNoNYH4NUCzw52CbAjKHBDektrpKW1MRKGGYJrkW2JtbRBsCkUioosLCCVbqCxKQhxwCKRJYYLmEUet5dAA06Vvfb2gMfvdjUgXRSE5aXl1ew0WRrd3hgX6YgsTQAyr99VUgUbCiJMBb03FnNV1tmKKtDVQx3tX/2TP9lZXv7l//V//d3Pfvbu1772q+9975+Wl//55z8HEv3yF7/4l1/96leyaftXP//5P62svPutb737hS+8+5//8z+srP7d/v73f/LjppaYu6TaeUJn48YlJ+xEICAsOAuMEeBFbmGjy8tVvOaYo7SKc6VQD0NxAOYhRhSXFw41bZYsgxtmKRzRllZvGW0WFxQmix4iqjTgDchqFI0gGA5umwNV4a+1ybQLI4QREUCfDIQdBfwWE60JaCAKGAgGbE7uIVaWCKyJ6nrYr86KOruckGeFiZFT0Oho4Ft4+bS8YMUgIUdBaRgWvdVh47YSmVs8mQd7DX6tq6LOkSkTTLC8YCg1eMI+Os6wXxgh6MUVwWDQ72iw5fAjznb5wgL8ffQGOuxwD7Ng9NFXbfL6Q6GIq0iZRUAWvb28GhYkGgtmFCJkKtn5XocLY7bf7LDJ14SQZ1d+WVMYA0izr6wWVhgdQBStzowxGG2KgqMPTl4cmOq7vry4os4Dmuy7OqrOA7p1f/Xx462dvcWRaZpFFxPjl4YWJue2dvfXHz2Zvv0ANhF8t5nEzQ05EXFldX1y8Ka8zZ6Yvz++uvt0fX9/aXoetg/YxuLXFvg62P7mE3kVg2/HX+inoSXoAwpnnuRN1smLwJ3EOPc4gi5Hul7snyKR80RcQZPPDY6/wbmesbcQeid/2jPyZs/4hb6Jn/RMcgeQuGav90yc5+ZIWEN8z+U0686caYAWOvRF3ER3ShzUDC6xByx2vluYmQNPjXOHmTr4AgGXx3I6H4PSR/2+a9/52q3vv5Ye/mMsjMHKb3eFYH1YnKhKjhgnOCnbJJ6Uv9ZqgS7KVj3OGcNdkh7Fc3xekbmYZrIB/lzFlfZ/nwM2v9vDjgr3CmiYV2L799kNxRXh5gjsERg1fq/Pfjofjre0NJ0mtrfFZYazXVDOnUHo4YSMmKzyGrwmSxjIAmurrTUYCtvzy9DNQt5GJErZtrYml8+SU+iQhSdYUsrecVfxNWVPvSUEewfGCJibmtAV4Y+gQpAuLZ3WVq/JgcoEnfuAWmG2tAGgHIUVlldQAxWhSAS+FTwmn92JSgbRXW2CHQenLBRpdhZV2f59rjnL4LXaZSmwNeBww8GxvJINF4b7ntpbgtEwd2a9N9d6Ivd3zrx/ZWzsH548+eUf//E/d3f/y9///bOl5Z6/+tHnv/B7v/1bvx2oNJkyc9mZT+R4yms//OHf/N6f/fnPvvNXzxYW//kf/uGfe3re/exn//HuvZ9vbr32mc9ZTusc0r6eqrpALRcf6S/AeYHZcjLPV2V2Gsth6XBqQyZurTn53pJqNA1GfhsXGTgt5dAVuQxceCKPLI1ZMwzO3GKADlpHJoDkvULUT24hGoJumsw9wegGdhBoOF3Ctx/olcAbOl1gUXvlOWEs08Nc0+Ab7eixqBOwYQSVFxr4FqEgmvZGu+UUEpU8cN5Kyapzedjb+Rmok0ZnhqyOneLUkkqCc0+IB+nKC0AsCOdDIWvg6+zcr8h08e/I0HH5L5smIeJHP0JmpGhF6B1wXXmLfkRHzMDFE8K0+IPIDyw1WGG6IjUZqlYA0O7OvDJbDlLh9BO6P6eDewbnhmW738X+aXpF8ZGL/TOJG3NDd0dlxzKgYBIdvyvx8MaDqYGb49zizK+eTqDX911dvD8+wUPL+qa6+ye7INs3e/XOwu1ROlgS4XhX3wg/6zw+c/Xue5DYZPcgZ5fl1XsCEA8VQwL9Y5yE5oQTAAhYwy1CIHKrtZoDYuA+JYDXW5eBNWNqGf6nvaPAoDd6pn7SPflmDwBo6s3LU69fGv1p79ibPROvA4DYPCitBS2Koew0J+pQF6DAhIZh6SwoY8WBCJzisSY5jtIKb1WdJUP/Ea/3CPSkwu+1RJ01dTRqyurQx2DcordgRG0Mh2CDuAurTCe4FGXOyHGbLBEYNdFmW0G59b18xcFkKIqEMLC3BoJBs64IPa0ebGZLMwCovR22FbTN9u+4LTgYagq1c3amwWo38/WI7IYaE4ygRvTwllZXhakeSXP3RwA5AY7AWuGa7r/LsZdWhlujwBHOEPv8ppN5KJfX5oi0c+cOYvDU2WpP5JpyjGGACGXbQtFmkT1tKy4Lt0ThKkba23wNbpjopveedteZuacR6cZanCU1pn+fU5ep8zvdnNxBnDDR4bn8u2zz6bxAoJHL/K2tzso603tz4ONY84qj4ShdxUDAdLrA/l6d+ZUcW0lFpCUWbeMKGm+RyivZjqoaOK2IoP50vuO9umsXun/585//6lvf+peLF//pv/7XH/+nb5yxetC76jP1Pocr7A3Uy24advsTOlRao8PFz1q9kguNP2Np+N5XX/vHn//8H7t73v30p/9xbHx9bLzT7DSjXXSFzrzi5GIWOga3ekM3zLAOZLswdINzfwCmbKP0H06jcq8pOrM4WbSbOHsiUxsZXHjSjpeTmWmxMhCnTjZMs0NCVlt4OiEvD8qUDS0FIAuGwwwd9zSiJ8syE5eKXuHWcORNXmugPULnTmVYqS67ep6s6qInU0qyzQgtr+gEp4iPyAmginnWCquJw7aCLNJFzJTS0qUsgA8M6BegMF15KQfDLeeVkShiyOKZPkDqBskzAJqygNf36kwCZ4wfmaEs0wU8AZQRFXsisBVal8HMgEcmdvkqFc+Z59E/8WnxdfiyhXwqgyjBlSzOC49fADEOQIAFQynZvgMprrWf75+Sc6O5oUedJQSnSjtLiGHsQnyMa/n971Ecs0N3xvuuislEIwgX433D87dGxi8Nc5JIsvWgq3/m5r25e2P3eyHCHIBtpO/q8tTs9N0H99/u5WL8T3th/swO3dwAceA67B0AE82fi4nlyZmN2fmpxDUzcDoDyqR315hhYzcFAraCUlU18M+DjYGorCg5jKWmV3TmU0afySbbdtvwqP+bXz6CO6lw7bt/1HnuDGdzW9sarS6LrtBVVt0cCqPjNcEHaWuBGWUzlngaXFHZiQPDoTkaa6izwGKPhsLo85y4aW+Fu+6sNfEkBLhprZxM4bJXY9BltoWETfkp3IPj8fvg9sNp4gyO+Dgtrb4GTygA9OHUDJ0XeE+RaMDtCzeTTXEiEqBMo98XbhO7hmyUbfT4wsFgmIlSFjmE6+d3ucPNQC56TJzNwYW3kdYZs8HYKNsc89idnBBhNihLZ9Df5Ki30CWkPQV6a0tzi89sA0xHI7DjpLyomUDQUlblrbO0NsNZY4YRs9ditxlK/FZnVDKDGvjw+39jbXzyH7u6/vknP/m///mfL3d1dbx6jmfOorMZikMeP1fuEBqb7AVlZiAOLNlAY6izjfvL5fANdBJYl60trRd6e/7ll79894c/fPerX/3F3/zt53/nk9FIs0xpmzmYE7n07lpTc6w54G/k5iBuy9DDVAnAZ2+Ousy0lYAagA+brjDg5iQ01wG5oE5cgHUZcgPjrbTjZOoXHd5ZUYP6cRZVwEAjWMg7HN5as99iN+fmA20FF/Tm3IKA2e6qqEEe4EPBNmGEBWUBk91iLCYwCeLUn9Q3qLN1YIzA65EkTPDLaq1wXfkWsUx+I0JkLGByWA0lkEX24Fvhqbui1l9nkSO6RRajbE6+32RzVVTX0RlkupB1IF2zg54a0yWCIF13VR04wY+6YvaydCZdIfw+d1WtGGUkEsj4qoAHxjjxmuDIbXG+ekvA7uI2C0AqcAqdTo8K9HjrLcpoAtYAJrhTeWV9+uZ9flGHtgi/C7YwM7vOU+Wv3+/ily2muLZ1a3V9fXnq4Xgvt0GDEx7S7P2xjc2t2btjkOWnMi7Exy8PL88vbq5tTA3eApHGDeBp+A7YVmYX3sOpo/Hpzf3d9a1Hk0O3YdHAuJoYuLa+sbH1bH9tdX28n7PZIz3x+bGp7d2dLTiHCytjl4eQGKyvzXXOTm3s7S7PzAOqRt/sWbg/urm5tfpoe31ra/ne2MQb3VN9Q2srq5tbj1aePl7d3eFOv2xjk9Md6mz3d7Q2dba1xGK+GrOjqjYSa8aoHmrhwhN6rNvmDDQGIh3t6BUg/v4nP3oEdI6EP/nc74ZjrY00W9rgPBMsOJEcQw8HBnG1qBUjPBGEe/9aYwGYD1wO4wwoOzynVNjtSeGMLPueQg1ExSkhEGXeNyzTQJy1kekkXIOCGHANHxAgCKQgXYhqHY1IFBNZUGSOBrEFAEDaRLIAU3sbiUqWU0hqDU5mgpmoTPqkp6tyglQQOWqpXQGN5KSFzqPKMwslSeARt18jFaSuyot/sHFVCzaXTMxLKdQqXqCTW7ejzS1f+PKX/+vf/M2vvve9f7x7d3rkwfs/9GFkxtdB85AvjkRgTKHaBfja2yPNMZhpoViUOY+1BDAkwCJz+zw2BwcSbstufd9v/ubYvXv/ODLy7ic/+T/+x//469ffQJbCnZy8U2tYzRiEkKVOZCXmLq0x55eEQkEOQmiIjnZuaM42ukoqQ7FIFAXsaAdquytrYQMCuZgKauNMe9Df6MrmkeweuyOGYkKwoxWgAziDaRz2+GDchc90RJrCGJnq4TkWlKrXZZrhYtucPB0BEVZyg1jobCd99lKursIYCdicMZSrsz3sbYT5BqJNXxRpDEY7O2LwxOttJiVbWt0ci4XOdkSam13FFZQ9ZQhYHTFoXWcHZJGNlGzkjKRrsgNHQPRU1DajKc92cPatuBIUyylDk93VjDHyTHuksQngC2sIQB8NRcLIc0d7k83FzY2ZOldVHecN0XztLXz7JEOHHhd0eVjezg7uIM2TrSpFZTCE0TrcBN/gcWbKeUDjk492dvkl5f29+fsTAAt0dnUeECirjx5ND9+eeKtv+vrdzSdPObv8bG91eXW6ZwjmyOw0txeu75K4MDYNM2o8fm1jY2MTbAg7T6dv3B1/68r0nQfruztruztgew+cr7mRCSDIxsajqcQt9TEgiK2vbay/s7+6tjHZd20K9hJwamxqc39v49mz5dml0V56bVPxG+vrW5xM2t1bnJmHN8dT9cG2/Xh989HW5vby3XEYQdP9V4Fm6zt7a093kD8C0Km8kMvL7gHzhO8QtXtrLa6KOlFQdtQmtWhldoT8jfAUuLcl1vL9r3zuCOIcCW/98ZfQbdBhwpymkV6E+KVDspcCVjpk2YtLYOyQCHzbgE4Qiey37KXSmaWLgiJE2inoTsALXPNWJnqJbpwJ1kAKgQmpHcZJ2TCwRk0DiyAQTXV7lJrEJBtyggzAbKHVI3ihUme07cAXyhKtJGnKIjAPWroIhOxWdngtfkQI7CCsUBYYhwhpQBGAWO2UFTZck8KVO1ng43R1jPHTliQKf/Ubr3E6+Zvf/NXeXn9vL/owcVlSQfzcOqSmz6QC0XDN0ZaAywuLJoT6jwFPuaYWdPt9tga+vIak2b6t0Zbmt3/8+i/feefdj33s//77v//pz34W7egIunywvELeRoogCbK1oNtbDcXRphCIXKbs7IDBBV/DXVQBgwiIz10Rra0wSeDFeKvqibDoaYjBH+ASe5YefR7o09TRDpXzVXMTljXbGOb2US53NgcinFbLyHXmlURCkdCZzhh8W57Cw91MDeU1ME7DZzoBrK4iHg8EKwN2U4RrkR2ch84pgGfnyC2C3x0824kkGmusFshm6hqKKzkQQjYSdWrvhRhgv3AGoLMz4PZbcrityZFbiHgoC1++2gJZ5LChpAqGbRjESNRFWW5Z8JspGznTySnnnHwQHbriUCAEfESpG+tscOVopsH25/t6HUgd8dCFPJXXCH+fk/2dYW5YK6TBaCgNByPIXnNHB6xdOG4TF/rn74xuPtlZff5s6/HO3M0RTvv2Dq48XFh7Bkh6trW2Nc1JH579vL65zROC9vaXHi5M9PCD8fMjkxs8omxv8+nuwr0JeF6Tl4fX55dBAefW+iNIwTubvnoH5s763t7m3t574FuNdsdnhmVDEd+gH1TvlY31XZ27Ozp+aYg2kUxU3++OP7w7ujgyxRfBuvv5kv6F/rH+q6sLy/MjUw+4CZKzQkh19sHE1tYjbhlQRPh+8RurAKFHj1EkbvSC/ZylR5lplUSjrtKqOp4eoHOWVDXLUg5GVUdJBQ+ROJ0XbPDQ9Ghr6/rj3z+COEfC0He+xq4IFfc3ci9PjakZbgV7Edezmxq8XNkJBBB/RDoG4cnmdlsd6Gaq34IzFIt5HQ1NUCbluZBIVygAfW2O4ho8xBE8CoYDgWBKEMw0cAJh+FyMR3ABIRyNNTWF1HJVI8wcoBIu4AQ1hXGtBJEKZENNGH8510M6okUkzTE/fNKokkW35xsejaGQP9CkZFXSGJz9bm8QmREKgQDoFgr7bM5wOEz0VBYQSuTweCyOIIZl+nRMAtl1VNX57M6ICAqwtjQ63Y780ka3+yO/+4l//G//7d2v88j37/7BV22GIpgVwHfuSEJsdpf5JF/g/PGPfvTpz30u3NqOisJQb35vDto0TEev7T+99toPvvuXcKDgYsPbjaBDwspD+xaVW17J+U+f+hxifvejH/2Xf/iHP/r9P4ThwImeU3kBh5uQGuZLIXDPrei62QVBtxfdzO9o4DjP/aI6h6EkGOQuIvGtOI1KYmk1km5q8FhOG81cPJIXtWotqFtXWS1i47QIvK1TBq/NAWfNnsOTZPlRSbgk9Ok80BwzKDLDotwZJO0wlOLaJrMz9bI0FrDY4cfJrLPMQGcb/VaHq6KWbCJrgbtXUBqwuQCgiJC+FVyhLFhVdY31tjrOplMWfQEWCkDNVVaD/CN+ymbk2vNLm4ALnGKnGwVZdJOGqjoAjVm+1ILMAFwsOZCl+5aU5YuW3H/kcivPFE4ZXD84dyhXk8VhZp5ZCVZUta7A72pw15qtPMmMHyYcB0Bcv7e6tDo9fAfuGKdsuhIjPQlYNDxj7ApPXx3rjY9f7BuLc9cP6KPw0aTvE1zgvq1tzFy/B+QiRAABegbmph6uLa7AlAE4cOczLaMbq/8/wv6DO67jyhpA9Sve930WiUAAnZBz6ty3c7qdIyjLM/Z4bDnL2R6ncZaVg+UgW4EiAWZEJhBMyDkSmSQiJdsz9liRksW3d11Q9ni9tR5XL6zm7apbdevW2bXPqXNOLSzNjUzeN8wTL7qGDousPcILceRYDxHnSMfAoZNDTIsvCpwQOt6rpwdePQ3AQreEPakb3R1u6xw40j4i9svwGWvtoKbX3cuLIFMnuiaOdg2+emr0wuWZa8NXDp+S8rUSZ48KSmlYDkHzN32kgM7QB3TG+wvtRlPkYNpdrzfcX8idwn1FVlVpSMSCn/rF/x8AuvDcT7C0QiAZp/5/CvQ5Kr/bFwHnB+JEohZ1uf7/HDBX1UIRI5UAFgRl/QGdfl9RkPtiXHKhoch2b8P9KmtZHdZeBRqwlvr0Vv1HCunzBgIMtQJ1k0lrZaMea6bAOAErNPc0aSs9eiuVDgV90imvy9uoLot6aFreU68yaXuD0VxSCzTZQx9Rt7Gk0q23QFlAGVyU0a7D3ZhfLLsDuI+COLFEUqpo0KsqQJ5J0xRS45UbIaLldXFRhoiZxhgamv8/+U6DCfoR6VIqEZJlQ0Fx80cKAg63osShLXeTGcNiyNXKPvSQOqAcDhshuv/ngF5Tcmt+/s5TT9354x9/+v3/NP3fAtP9hcaSSsA6GpVDEUNhibRPdeJ3L7+3zrxiz/761+4Gox4vMU+rv79AatI/8/zzuP7+H/5w5tUj1nwt3q8H3OFgGlKk31doO6C15Wq+89AX3gPGff7z7/71rw86fJA0kBFION1E65vNHymkCQPAlKMyacpkyQWQopeNcHE27C+yVNR4oBndz0gRcyFmkda4TyWV1ehVxdYcYbIp1CnHSzjVlYYc+jRaxYEQFD9AG6QaKyL3xSCTwnTN/CcaOosIKzIUH0OuiimWhHs96hKq8GUfc+sw1kFx3eZJW2rbRwot+1TQ0SzcBWN/TKj7kSIBDbjIDbgP65JhCU9o2ozztZaPqJihCejAK+KGoq7YB1TuJsAUde9XAbPQPVrKuYejFe0WMfWVsGrvtYuSYm9LuRvxVLQL9LEf0GFksLoz0Pd+lWm/CnCMIYVQMxqjtR1QMnSEqTN4KgYxqBNqFy72H+V/x8lUCFVgJ3tiLmSfQMHN7u5BXDwOlOgcPU7DEIAMnOYac3EADVgXtxo93gM8uo+cBcrbuctQu0S6aW6381jVznNT/UMjp84OAcNOMCcIgAZX5kYmhk704KZAHxq3e3oX5xZmRsahf00c5lZa/4muuaHxldW1icHR4aM0Vg22knStLq2srt+Y6B82HdBi1lpUJV6Hk0Q9GnE26UXmGg1Wj0g4AuKNv66GZr42XYXP64lx5U/85vtf/SfE+adP2y++Q78brO0+v62m3mW2QWhpRoEelEz4PF6poTnk95O8UG+icuS1OzxWG2PBhejSVBSN+2xOsHfaREguhDyHw16nMxAP41bxGK+TOwRCAX8QCALioFSnpuMLyuEI7Rfiv/xEYn5/kI4/CkUSZpFwMCz7ZQWklOrg2zKKhcOBNEuiGJ8FzMvj98VjeAq0y/LooU/2+wKsJXiNHzpaPB5wesCL8FBKXRQLBWW3VfJHadWO0AM7js777E6PxUqrjcC+IOqGw85Gvc8qiUcgVIEKMQi2qvbK2XN/bWt7e3j4ZFtrJBQCsbeX1ZIBKRgH/ig5LZryZx99/IO33oImdWdz86lfPmevaZDytFiQn3rm6bd3d3H9neXlF3/yCDiLq9lIFon3K4ddVQ36PB5dDZXkUOuRdyYm7n7rWzdn52z71LaiUp/dxQeRQ05hNjbmqEF2gl4fZoLH5bJBc9mvgmSCRoWDwUgEJI7hMtJ+plizNTTHQmEQZx7iCOkFryko9kLxCUfcjUawCcWAbVGVBuyOkAdKXwXABesiY99KKgMer8tgseYVc98dBCpH7aqqB/+1VtQJedZKmJZ5WnezKWCWrEWlvGEBz2u0CiZCTRB9IC3SWRk3V+OVHNYS2lwImiBWeYoh2QIkBQiK/Xvu7vmNVkctGRB3x0RdUEuPzW4V9hpRlxwNdb0GiyB3VKzwgGReVskpmBegEFDFLHplNR472q2+VxfjoPU0GQMmCeWBm9wsy9Ga1eV+yeFqNFjyGHomGFD71LkrizPzkNmhIzzHgiyGaeTHFqdmwYCUzSxiSueF6zPz00Njg4CVIwwWu3a0Y+LywOLi0kRfv9gdY+TW0Mme+fEpoMRo5wXgDjf1W9tHzvYtgwGNT92Hn2fHJ1a2N5bX16cuXEVjw0c7xs5fBlqsQutbWRs/e4X7bafOzk4x3z1zgiwtjfVcHGntZMZp5oWFgre9dH15pOvicDtZGVQ7kRd2Z2Hm+lD3xZn+0dWNzes7W7QBbW778S4bmoKBIE0PiSRYejSd9ID3OlyM206laJGhZTTh9fnkCG2ZVBYSiUe+8aV/Qpx/+jz7va9AisRmVjzGqIUU0Ye2iRiFP5WmdRmKg3B63oMM6IC4v0ABwoeQcFZMQ7ZpOsF1khHIc5ahDCjgSyt48b/sOLhCecYN6YZD9AEK4Do6Qw1ImKJ4c4FBvCGEUPAXpRv4sAO4Irax9noiYC6kGKFFMfwlMAGD0vQAwhXlbihA84qoy5IKd0MTGfpV4r/QN1kM3QZdyqT+wQOb3YsChjKsQuS6t/H36OOPv7G6+t6hQ+MXLwoCxZdCpsam98xPTEUci0YSyV//7nfUpL70pb/cvt3ysQc/+dCnP/35z/339jau4PIrv/1NMCT7/X4QLg6OeOlYe3xOV4BhdCB3ySsXL75z7Nj7nZ2//eXzQSi3mUw4zhbxUF6L3dFshqquGA3xF1TOWt/kMVpjYiTRt1gq7bHaraXVPpsDzyjsfeloCIp8g6WsRgS4pGVxMSA5bYVljNoNh8IixVI4GnPV6aHWgZeBa6NMJMuMRVZNBSTca7LGMDLZDAAXbJG0RVPudbqimTS9zwMhhlnk6hzldaGQHMEN0ymPzWEpLOUNm42AfjqRR+NogmpOEVQeaJepWCYTcHssxRVEjZIqOeiPZvFoCa/ZKjENm8be0BSJx6LZLBYwqGYACAvq0gidimYyQZ+faYyUugEfDVLptNfqkApKTQc03OiMxWnnjsedaBd1VUwpgUGIZLNyIGgto+cU+izyPXEQgPi2wvKhYz0TQ6OrtzYg5ksbt6b6h5lotePCvEgjvwrZX1kbu3AZsDLZdw2IwXCKbZ65DMEfPnFmdmxyZZOpf5a3tmZHJ8Fxxnr65peXARErW9vLN25OXx6CgjV9bWT55sYyrvBgwvbzq2tri7e313d3F0eneBBiW8fc8NjNnd1F3P327fnBSeJW94X19RtLAJHNrfXtXVqYWtvnJ6bWd3cWNzYXt7dubm5PXB4cPX/lxsYmzeC3Nhe3ttc3toA+i/PX15gE/9bixq3VrW2Irt/jo9in0uE4BSmUAW3hKo3JDTnZ2+4BTcgI+6gQHnyy2RYoWf8EOv/4+bd/eRB1hWTGhf0VEi5MzkKoCEbAC36/B0CUIpbhr/cIBeUcZVLCYCxAZO9zT9r9QnoVjGCtewXE3cQXgUTKdShrFFRRGB/l4l6xe18+/K50Cf9Fefz9h+2w/1X3wy/Kd6WA8ldpV/lJeRalz9ytFw/44XV833teXBcWbgI3aRcuEhm3l5fv/uxnb/7hD4lsy14tjKd4QfgvPuwDugoB5kKSONzW9s7Jk3+bnwfi3Pnv/37vjTf+5+zZ91pbwZ4w5pTMlqyy0YbBZxMiYxFlWLwLYM1fX3/97he/CEWs5V//VU6mQwwfiUfSyZiye8gtOTaKTxQAEQxEARb4gouAqnQaUAu+EOdb5sIGzE1mM1A2HSZbPJOhuoq66RQuWytqghZ7/GAWT423zOxIHp9BXUrvrZaMHw+bTqYyKUdNg0lXEY/GIwALTKQWpmqDcgqKl8gQ44JYJg9mfeAj+9V+s8RUR1yo0ol4wlZSbSzUhf0BIAjqRltawk6fkTvr1fFEPJDlHige39VoNO1TefSmeAtDYVA3HokC+Iw8vpm+4JicsZaWoN1jQN2SqmQ0JrZZU7Fshid3o26TMZ7lnkmIMBeTNBVQAIMBH0OCMLAHs7LTZ87T2Uur42DBWW7R4rbM1blf7TFa0C6XBLSbSDhLaqDrLK6srO7sLm1sXH9te3lxeQiazcWrN7a2uGm1uQVAWBidgjK0MDWzdhsgtXl9e/vm1vZE77WBrnNrN28Aj5ZvbS7t7KzeuDXSeWHm2sjq7R3wj6WNrcXXbi/PLo6cOofbrtzeXb61cX1r8z5u4HeeX56cQ9F+KHKKCtbWMXN1aHlldeLqMNQohYaNgXEtLjHuo7d/oI2mqaFjndMjE+tbW8C44fOXaGFq7Rjr6V1eXl4FMC2vTJ7pGzncce1Uz8L49PrmJonSwpKtuMqco3bXNIUY/UiUCQR8oL4gzOTYDAhIMrGW12cpq6abn4jVxOSLptI/+9JD/wQ6H36e+95XxewkoGBh9Ls9UGew0oqLjG/ALA+E5BA0ETGhhUQJUYeCg+X9HmHBQhdHAaIS13khqDT9EhzJd/6OSqAJmIUfiiILc2OIM8n3D/vreMHioQSgCIzAF9yfZpR7EqV8AMqoyz6IdkXdxId1lXZxkUZ6sWmF/354Byz7GExhqGY3UBjEhNDAR2Oflev0uwf+3kMu3i0BCaeK+uHz4p5P//KXb46Pv3vx4ssvvICnYF1IYDgalEOsfg+DcDefxycL96jes2f/9j//c/dTn4Im9d7zv7r77W/f/fzn35ue7j7Tg2IeyeEwmOlmoYwDYEUOO6sa3UYrmhY6XeI3v/vd21euvPfqq22vHubjoGSWeQKk0lqLuiLg8oLA4iJWJq9Vop9OSWUoGATi0HQVidjKa8z7Va6yWhq/00lQQo8kQfuAUuNsMHArHdQmQk93XDEWFovEBgkgo8/lNqtKpBw1dChMG8h2PBZ31DbSMp1LR55wQIY8B3w+i7rMJnQoZ3VjNBaLJ1M+ZdPqAB2j3QZrMpmOBkPgXEKj4clO4PugGF6bg7YeKE3gHaU14F6Y1a5aushbWFfraDIAtkL+oKmEudboBl1UjP6jh16LBDJFvSxPC1UuIAcjsZirGpyIxiMoYvb6ZtwNCri1uBrdYPxaQYnHbpczCSqJNNjT4MWTWkAt4zFHnd4EvQ/dzke7RvD6sD8IZQ11Ieajp88tzC6sbm3OTEwNnTwD8R862jl54crS2trKzVsz10YHlAMIj3dNDY3duLW5vLw20gvNSWxJdUEBWmA+IHoM9Y4d6Rpq65q8NLC6dmNtY3N2aBJwRpPQqZ658UkCwvrafUPH9zI94yM8GgUAHescPNoB9jV2mN6QtDCJlB0Mrj95hntbIjvHJBqAQnim70PNkDpk6+nh9jOzV4fRe57oiitHu/rbOqb7R+YnZgaPd5uFq74xV2UuqYyGIwErc9kZ80Ue9TydV3KBsvrNdnBdJj/fr7ZVNYTAY9NphsgXFT/ybx/9J+jB57kvfipAqkwyH02mMKyGHJVFWx4KyjRV0Gac4BZDjsajN1OAiT5J5voprzNrKyKQISFXQCLUMJRUu5vNzM4lRBRrtd/tM5fXRXy8mwIiECq3xeHQWzANIc8UDCJOXDJYAm4/foV4oySXl1DYZraC51PSBIjgV6/b65Ac+MIyyieZdNgcsje4Vxc3BN6FIjaTqEu1ke2CxHldHqfVHhc8kcUEzbHqzX6nF3WViwCyYEC2Vjdh0QZk4ArEHiPj0ltxMRa9twuGoQhH9CVVzgZj7N7zArb+dPPW3R//+L9v3gQ5RV08dTQctegqGXLp9VHBSdCDwWd26PerjerSxx599K3dnbtf+xroz/lXW88fb+84Jo4h+o//eHt09LknnzbvU1vuL7JX1oPOAC9CkQgDl/apjAw9NdDqBw3CYN1dWr775S9/8Le/pcJRQENUjpixpNOOw0waUHzAg3wGq2Wf8EvOAY6UBILBWDiGl4gZhXllzlGZtLTQQ26NzEbCzQ3bPo2joiESCBnLqi371U4RlqXPUUPnCpokugtj7hUyzQuE399ssVbUmXJUwp5CtxrmUWsw0GSbj6lLD0NDHjPbOUtr0DcgCEiHA1CSQ7T6MP8RnZIPEJvcumrABNM/0B5cTE/xwlJJXWHKRd+K79XVWLUMHwFC0SbNulpzvsapotOgUtd2oBjjzyQbqjK0ZT1QYhZ10RwemcEiOVp0UoRxaFhFAx1NazmgnFMi2mXdchAx3AQXXTnss6mYkT1KXcZXtYJYdI939Y61do4c7Rw4uZdSY7Dj7HjH+WF8YbBE10QbnQzHunqHT50ZBO0QmQvFSRhdkzx9SwnpEKkNWffcRBeNNviVdmh6VHeMne0b6jzHbXjAHv4PzYvQI6zZQBxago6fGRDhZCiDuxOn2s+OdZwH1BFogEHHuhgkcuHKWEfv6BFxFCrwiyexnp8ZGodaCFTiPQGibfQPWpiaHTrZQxMdXkyO2lJRG47FPNwuFbEtuTpTQQmzKWPFsDtxkTFiOSqsNgzRTKexihoxS/YVPRT0vfyjbyrQc+jH3/h6PMq4eZMFM5t+IqmUx8B0n9bSKqb7otpFAHI2MjOxxyqFabUV9masBjWN5qqaUCSsIAvEMixHLNWNHquDYCRghWYjT8DeYKSJWBiVKJOppM/udlodIEf/AARxt+QK+IPEDkExcEOsdi67CyCCMgp44SYoAwxS6u59QBM8XixRrCLAi61Eom6H+8O6e+36Ah7QgX9oNxpPuCVnwBfcgxVcRwfksMtokyOMLNvrMwiLzeUyS8RBBTTxOCAFjUavzRmm9zZb+cHPf/rGzMzbw8NPPvE49wrvjZW7rpnKS0heHB29vbX1r595KODy2TQVjur6N/74R/AdAM4zv/wlI+wOFNubDY899eQHH3wAQPnra6+J7HHMpvTxT/77HzY3FybGnXWNzH9UVCwSY9MqBDL1o698453R0fe6up564kka7GJYrpuxbAAOwHeCfj9j/cQpYMxqlIvFqS4YCYHDclWH6OZyY8te2wzS56MRpxyCDUzB2u4SGb4dDXrFC4TXC0t8kj3gdEHlQS1h99VYdFU+p8epF7ZqlBQXpfIazD1zaRUTJ3ELHxe1jromT5NBIRc2ZUv7QLGnwYAhQjHe7UCxtJ/73I5Gg62wjFZq1M2nn4G1rMpZwZNvQUMgC7Y8DTpvr6qnWUcUQ10HrcvF1uo6AI2UpwVO4SL7qatwlHBjHv9l3XytMZ+WIJ5QRskSISCivFRei+6BdtEIjbroITqjq0TnUUa0okW7dEpkXV4k/2jrGgK+9PQOMJKLjssQYbCTsVM9Yx3nIO+QcQDC8HEGiBENTvYQEAQjIWAd6+QZYSBEqHUCYML8zsMne8ba9+oqNxwEm2nvHT5x9j6Gm3ZdWJ6Znx0cHdjLNk9+NTMwurq2PnZtaJCJyohQKLa4vLp6Y2P84jVAHaNaT3RNj4wzteLajbELPPUUDY9duLq2duPGzu7y6trYucujrR0Dp3pmp2ZRbGV7a2lpBbiAd+CqbqTRJyXsgoGApKvCWhf0+eMKzYbC7wuAIrn1ZjICkoJ4GIq3x+esbw6K3DqoLifjMaKD3wOim2SCG9SFCobvAT9YOQj/ngEb1+nlGI0qLs4UZkWtgHAqWomABtp9oIKlUkI/EjtKKMZ+0vaJn3BRQSV8uDWeVlQ8gTUKQOAKzQ1UZ3gFfwFMotheGfFBi6LDvPLhh3VFT/ARDyLARWiRyn/Fh52hPvi/67KJe+0qDaG36DOr3LuCD+62p8iI/yo/QctTWlE+53t67jz11N/eey/OnCd7KicQHC8C3U4/+ODf7tx579e/fuXIET5FPP7QZz7L2Pef/vTs8ePQ+1AsEGIEPzrfdvIkA+Vv3frSw18OBIIgTS8fOvT2iy9+8O67qWwLd+64F8G3xibS6Ug4+t4770CJmxoawiIB6IxC4bLYnc2mSCxKVQvTAC9CDturGjxGcyRF5RFPiscH5eGeqTBCYw4AqsCv7WV1Zk05VjUmVEjSNRzFTBDs0mo0TUfETAoqm72mwQh9pJr54WgzTtNWbVWV8mAPYQQIHcwQDasbGORcWAKGzhtm09Cw6OsIkkIHIk8ykwXFA7Gi5Ofp7NAHg6FYS1b2BW2QfNQ9oFP0wVg65TFZmf8IAFHI9LU0k6EnVXVM3YmPloHv4RY2AfimxgTyVVkXjUTAzZ1MisS0kyBKToMJox0JhiBZwFaWVNPUHYfSYHNaikoZbQt8Ka9hMqZEkivxAa1EUkbVjymAA2ELuFu+luHip87MTc5AWqfGmA9ojCpY12jPxeWlldWbt8buBb4PHesYvzKwdmtzaXGFiHOUu2Aoz1Qbm5szI9C26DwIjkJ4AXCgLnDjWNc4VaLO8Uv9qLu4sHxf//Guhbm55T/trt/enrh4ld5AIFTnL9/a2l6+vbu6tTV2po8E7FgXs9vf3l3e3l27uTHKlM/tQKIbIifI0u726g2RE+Tkmetra+vbu7Ryo/rq2iCw7Nrw2mu3aau+tbHy2i79O0qqaXfI0NAYZCKYTNgb8Hp8n/n4F3/1hedf+MJvvvCxhzEPQokYpIWJmYW6AUmIZzIRTAUgEaWCqz3h4GA22pJVRBdlKGx4Hy0ZEHteEWLGtR1wQ2/mPQkXV1gSH+U7SuLz4Xewhg//i/L4y+s0CfG/yocXxReUVP6L8spnr9Y/lFH+/v3ivesffj6s+P+7lvLT//71w4/y0z9e4cV7X5RH45V/6NuHH6Wu8sF//7K7e/cnP7ne388rSnUxFEoBSPsH779/93OfmxkdxX9Bjn7y6C/+cuXK21euPPLYY3t3E5iCKk8/+9xfe3v/trv7xLPPQnGDGjg7MKBwpcjBlnA2JVQ8Aj0aCqJuOjU2PAwA+tv77yfSWcwNvK9EJqtkieKDK5sASsr9bCYAMqt0D/jInSD+RS0auYG2gCqsUpFwMs20UD6q3kzYJHt9sWg0eJAXUVfOpmKJOJa6cIqafljkTop+NBs0S866psgDNGBHYjQhYbWz6SqY2OCjLZE4/bzlB1tkyWXO1TGzxwMtuCGoeiKTdlbUmYtKZei6gKRoQn4gGw7KQBB7ZZ1ILEXbXPxg1tOgt9yvcpsssQdaeDca2qN2xnZofT5f+IEsRix5sIWZg8B9NBWxaAw4Fcikkum0A01Aga1pTGSzuBI+mIkEAlDKjHlqv9WeONjizYgUWnqLdR/IVFkkFIZQBDI8+8BeVgNVVKqoS6TpIM534fObC3RDre1zg2MiH9DW2u3bM1eG6RB0/MzydWE23tkWsn9h5HDHSM/FmxvC2AzRnpmn63Jr59TV4Y2d29dR7PbuxMV+RrQe7VqYmQdurOzsrq3eGDx9Zuho+2j72fX19cXbLHYfydKZ3sXZeahI0I8U0Bo80T05NLa4sooeCMUKahpYWd/C8srq2s3ZCwMDQv8aOdYzMzRBE/fyyigYELhSW/fEmcsLy6uL6O7CyviZPnotnuyZG51a3N5a3eGxHiA7NJXVNMhYbTIZrEJ+lxs6fKbJ1/3N9g8/X0p+xlxa7WwwhmMMSsIkwMrmtbukqgbZx6zyYbxsECiG7ThcFhsIDhBH7MEn44mkF6qcLMcJNyJuACs/plqQNlRhkKZXMUoCB/ElqFg6ADo00HCrnhRDTGJF8ECImC6HwVZkBIEUxYDE4R7FUP5CDHhRZOfAB7JB8cBsTok8iv94kariHhQqH1RHK4Jk7ZVEx0AiaDH533iBMix2j2TtXcQN/5E94Qv53d/rogN7xUiU9i7ig+8YWNQN0jcq8ZVvfvPdra03Ozt//cILoDMcnHuQijGBfKLK4vz83YceeufPf0YtjMDXv/udN1dW3nvllfHJye/99Mf/+dOfPvLoY48+8/TTzz+/eevW26+++s7qyn9857t8X+nkm//1X6i7NTsLzgIFE+SC/REdDoOhxBNPPPHEu2fOQBH76SO/QKO4f8jr9zLJpPLURDeQX7vR6nd4EjyhJEn/cmFLZgpBD/M9cbSx/CQTrjqDraJODjGMg7CCv24vz9KpYdoTPo5gxG6aeErwF9MMbxAE3O/12jTlJqhpFglsBYslXi7YkDVfZ1WX+R1uTF0gYITURiQDKa0OBOUozz5JuoxmqktMadgQikRDD2SDcshezmPEoZp59JZghhngQNZMKtITsCfckHXF4fr098nT0cnbFwCsyNBztRUmmpOK7bVNcpxHRfmaLHvO0AdKPAYbJlg0GLaX1+oLtRYwI3UFeBNGOCi5LErupLxiu/A8iMfinjqD8V5dV5OZc94XtJdWGQo0I0e7xk6enZucXdnYXBiZHjnJU7mGjnZPdF9aEBtQc72Dg3uy3z15eXh5/ebi7MJY5wUQlJGj3WMnzk6PTC7dvDU7yLRBw7TbdI919M7NLwBMps5dYTEmGOocuXBlaXl1YXKW+YDoagjFj7SKOhstPrTadAwLk7VwhRRZWVtpvh49zRSw+C+vgLC1dY139/GojCOn6aB9XMTynz430zc4LAJWmSjkKH2jZ/oG5vtHQYgYXnxAa4WerKvAALmajIYDPB3hmQcf+UcAeuUzv7HkqhkiX1zF/dFwiMkuwRuh/BfoPGYr93TDYVdNE25ozFPx8G+ZqUsx25xVtDeDiDIqEhKYTEX8QUdlHYDPXa8PR8NyMhZKJaDxSWV11uJqJnlKYbGlZiS7/bayem+TJRKL03otBN7n8Dhr9EFvgIuhsKdADn0Wh9sohUWcxB6tiMacFino9mGKKGV4w1DYZXdBucAMpqQBzhJJvz8Y8AaIifcAAh+v1xeS92zG+LB8NObxB7CME4kEiODXgByit6NSTCAp6noCASYku1cX5YHvbp8/REftvfuzblD2ef1s916jAGinwyX7ZKVd4M7bhw//7Z13DqZbwiHhnwmkhsoQT3ocHhdUj2j8RPvpO7/4xZ3XXvviF74kNRoTgcgHf/vb3UTizqOPvvWr59/+/e/fevGlt196+e2X+cF1MKaE3Wcrqf3Mv3/6zp/+dPfHPz5/6lTA7jGrKmzldbIcEnY67rLZqxsitXrwozvPPnuo7UgklfBJDnNBMaaBC5oL0AoLQzgilTeY9zFtoIeZkohcAebA1pp4dgCTaoMK8QiQyjqadXLUEMKgyx3FsmGRLEqERI4KUu0HywjJzrIaQ57aRP89taO8NhgIeLl5BKFV2/KZO9FV1yx7fPiJ7sUFGlwHuHj05oDFboEk04BNM7ZZVeo1Wl1VjegtixUIZ0JdpRcchMdnayQqPhpDvsZd2eCrZbJUm4jPgO7DmVmjtxfXiLp0tkZ55hWrajQWlZjzeUYAStKQrK1wltTQxElfbW6imfK0rpI6q7qSv6LbGC7GFRSjGFEmnyYq/JdV1GUO3Ye51XFRZ87VOrRVPK1A1KXJBrIPRamzV2x/M+qCFh/hT8j8ZCJpDz4Eprau0VPnBk92Dbe1j4tEGqgIiMFFWmPEkao0Konk0MMnu3ETYTyiTRl1h0+cHTjWdZ8gOD1AjVEmJBNGaAWG2jqHj7QDq3BxjFtj/PCU1SOnWUyUxHVQnkEewdwOXZH33bNDdwwdah9uZcQGPowva+scbO0Q+/SdnAGFWp5PIjDCBPTJ1dgPFB/94qF/BCB8rCJhVfP+IoCUbLXrMb3ylIQvaqOqLBqNcTt2f5GFqf+1hn1FmDcg2E6zVb+vyJmrM+1TGUtrCPAiBlq/r9Caq9HnqQJuD5g/6DS0cVw0fqRAqm3AAktf4XRSqm3W/98CY74mwqAnyCTNT+aymqb/my/VoRjlmWbdSNSoLmvKV4cCQcWag2Ut5JebsEzV6XE3ooAI6/fbPU1FZbKH4RQsRmNKytlkNtc0ganxbhShZCyWMNc2+RkDxexCZAS4SUC21jSjLZYRaIWbeCUX1n/gBVFPoBI+Zr0p4PLh1z2XH4h0IGStaQqHInwEsamPX10QrQajcvKP0m4kGjNU1vvMNJ2g7olTp+8+8cT777zTrK6QvYybI4WkZ0JCqm7S65hI6CePPPLm8PD7J08+9/QzDQeKv/3Fr7z7xz/e/fKX3zx//u2VlbeWl99aXOLflZX3r1+/+6Uv3dnd/fanPoehfvynP3+zu/vta9ceefxxZ53R8BFVU57K53CSDYFLegIG8Iv7VXfefPPuD3/Ye+4scNxW02jcp7LhVapKsMDQZc7jNeRp7Tka036VsaQSLArgCJpjzCmyY33aV2SuqAHW+JwuqC1gE7Z8nj4s1TVFE3FrWQ3UFgJBnrYpR+U2WkJ2lz6X544ALwgEuVpvk5kZRYAdijCL01+ZZRxSzRAQHuBhytWY1GWStsyUU2TlzhR3xDGfLUV0UBZMhzEW3E3HJD9Qgr9iG4vGYIuSlydXg0ZxkYnBCDcsiUZxc26/MAUimtYaUV3wJgEZIh+QOFaAe+3sHuvaUHcfLoodOkASOoMP8wGJtLB4LgFAkDijyCXElInihuiMlMeTY0y5Sl3mA4LsU1pfVYKr9nbAuQcFDFIco2lv5gnOo0e7hw63c6NJISgMI2Xd4VfbaVkWEEEAIg/qAJjwitjOwpWxoz0ikkPJB9TWzZNR94JRucfGPIynz073Xhs4yT1/pc7A0Y7JC1fm+gYIjUoKoqOdg6fOLAxPjF+81k+o6gYkcXPuwlWoWhM9l9DpYeZVo3Vqfmp6ZX5xpOO8nkE33GJ3VDcywaDLAxgCtfntvz39j+gDPDIzwa3GVdOsCI/fzABlXKETvT9A2plMek1WvEi8UZeB++sg5FDAfHpzE+aKrjLmD4mL8XAy7mgwGPN1uAk0HdoIoNNF41h2pMr6MPgV5RbqQCIigjP9Dp4dqrjGQNTDwZDbbAtHIMwUb/zlRV8g4PHwrC5gnEAHUJvIhwGlgmVApPEF9Ae/KtCAZyEGxXB9j5vgJ3zETRj8jSv44L98apRk3KzoSTwOXQOfKFq5Z7faAyBxHBg++KLcUHEmAtCAxCkehihPikdziQKO/9AuKoqLKDN0qe/uj370l50dDI6oSwakpAEA9wlHo7j40Y9/nJTnq199569/vdR3iVtgqRRozsmOji9965tf/frXH/78l776ja8//K1vHD91kpvxX/3qG3/606WzZ9/+61/vfu1rf7tz518+9e90DjZZA05XROGP6IZIsWStbvivjc273/rW3PAw3mY8ihentwBTCPRUweJ4dqdLryuTqusZcgGYTifDsZiTkZxaR32zEmqLNQArjUlVZszTeJh1F0pZmqlga5shqwboVmZHnGZp0FsXI8sBcyKxb5RHJ0WZEigP7EljK65ilC80Jo8XfAdrGBiHrRzqjDgxpbYRjIZ6WQ4mahMqyi63FYSCJl6ajT1GSxRUtN6wt9FGB59SYq7Pb4VilcewLKamLa4K+v08BSxPBMECv3J4+B3UT2ZfZUApkdRwQMtE+jaHXlNmhqoFccjTGrUVAavDVa+HZAkcKUFdqbzGLzml4iruL+Mi0Cdf62hsRn94VDTTuYqjOIpKA3rmMDKSYRWTAYGIdF6YGxof7DjHBIbCNQfUgbJ/ZWgIYMSD4YkA15jVcGjs7KV+KEkKAJETnZ25Mjxw6qzADVH3aOf4mb6ZC9d4prOAJHxwn+kLV8e6LtwH0FHyAa2srY+e6QOAjYFltZ9dXlxiPqD5pcHTZ4FH3Ee/MrSyvblye+f62DTPIzzWMXyqZ2VhcfX2Dl2Pro3wICF09FL/+sYmg/c3NyYuXgUbGjh9ZmlhcV2cxLp044ZUUmXdp3bWNVG1BpXIpsNB2aYu/6LnE/8IQD/9xA/BvTGscW4/0aoSacl4HU6zpizqD3IDIpX0pZPRlnTAbHMYzVDvaVEWQMDjCd1uwIqcYZ52KhGQZMxIIAEjCWikREngBSYWd9yEgZOQAckUieUj9PQTztACDuRUCq0rxRSAgEDSfJAFa6CN6e8Wa3AQkZeH5k9xB5YXhIiiLnwgPxR+5W5734WrDj64ouCI8lF+Qt0PL+516V515YMW2aj4ld343xCjdI8lxZV/aheYslc3nlidnr773e9uzc1B+MVT7HVY1CVqKzD63p07d8+epdvhl7/8dmvr3YcfHuztxfOKj2JBYzHc8/L58wCd91pb3/3611H+/TNn3r9zB8NCNKQXNWkXGkLhAF5KOhVPpdbmZu9+/eu7q6toHciIF8ehFqPKnlMRw52ZA0R4qBJeUQz/9YVlFOZsYYfjmGAMAfHSg5H3ifEUAyjpIM5hrz+WEUfL4qVwBgYttVDhCTScMOlEMpV0NxqtFTUxLCfieNhoOhMOyNzJrm3EGhZNihxP2bSnyWjJVXtMTLPJGdKSAlNzqGm18bldMWV2ZVN+g5mnEqlL5UCAif3xiUVtwi+JEW3xGK5wMksuZkfM0zAzPyhzC4Yoaa9pAAaZCnRByREXxcL+ICgYwEXSVESBhQeziUyGSc6wZoNYVdQl4vHIwbSciFrKqqAeAn2Abjx94GBGdrhMTGgPqsWcJNGDzEPkqGsGsELvASisrq6vvr67tLI63HmOqZnbOqYvDVD2X99dgOwLMzHQZG5kfH13d3Vzi/bfNpGpuf3c4vLy8uu7y/NLoyeEE2Nbx8S5y2sbG6u7O3P9o/T1OU5ImhkeW7u9vbp+477R1q6p/uHlrc3l5dWxzt4x5gPqHDnVszi3sLyzszAxN3q8h1faOkGIeKzF1vbswPgA9C/g1Inu+amZ5d2d1Rsb0xcHyNnaOifOi2Qft3dXV9YnzigkiJ7QDBvZ2V2eWwLw07cCgw6EEFuefrvLWlhqLyr/yce+r6DP059/OmR1YYwc5TV4naEs501c5C3DYuUzS9w2Biik09Fw2F7bYK+si4J5pJmUnvZCOcR4PyWlg9ie5/v2BwD/chTF0hAqJqVnstGAX6RexwSlcxBDtFJ+XzAUjeEi5jGnMud0IsDJfU+AIZnCcAsBQ08gGIoAi3mZAjWD9ArTDJZiBo7jVgxzEzK/9zeTFn37O6JRQnBFiK5SjB8ANEoKvqM0QRgSCsve9w9RJi1yGOG70mf8RbdpOuVF8Ka9i6xLN8K9+4vq0IBQl+KdTPxhY+Pur389039NqasUoIQLBsGNS9GNhz73+St9fX+8eZMEp6PjzZ6ep5//ZSgZ4yOL96I4QOCeTzz77LuAqhP0S/yvW7fGens/88UvQsiBFxirSEqEAuz1hFgTicfGrl29+4Mf/GVriz1MpyKxOEklRiaRlMW2KTTloC8QCkc5jGIQAhCtaDQgOSnJ6CdoI7fw0yGHx7WXCI0PyBcRjTobmoWdSITygWNhGtgcYDpMiiBs1cxgS0/lZhCTvTgyvGs8u8dnVZU4y2oiEUxdHvmNFQXFjHlqF1Q8jFI6w0At8DgVE6HxEAu8BaxnyYSn0QhoAIcKopNZxmRFPUGblgfb0d4MfpfNxFIpj1EkmQQAVdXTa+RgNhqK2Mtq6cVzgDnkY6kk48gkl6Ww1CaylATsNGCDKbtrm9EE1a6SKizqPLzbH7DpxDnRDA9uCifieBafhYfc0tR9oARYzGCXcMxRXg9CBEkf6jy/vLC0vrW9MLswDCJztHO4rZMZfG7cWL21OXNlZOgoZJ/u0VMDPAl+aXFtrPsisxgCbk6dmZuaWdnavD42w6w+oEWo231xcXllZf3WVG8/t6SgJ7V2gaYs3ryxMH+dRmiA2Vh3L5McKioY1KijXYMne8bPXRLGbepy0PEIcj0XgWcD6BMZF3UrUKGpSwMjPX30LGJdYb3u6gWrGm4/P9LK9nARVUCg5gbHB05048WA7FGT0pUHHW5nM2BbGQ4m/QVwRAJBuzichFqusBMFPN4wLpbQ8RSvAT85Gwwg55gQJi04NhPi0hHD7QU/DzjdWKboBUtCrgc5jyVSHqvDBP18vwp6WdDjx7yHRPGUfuZ20LmaTMyqkeIR7+4GkQtGV4mZx102CCExrpF0TG9kMIFQWLAY2ivqxZFMPkxuxvugpMtnraij7xIj5gl8uAiGbwOXdvsULMCKjcntsdidRitkhntDQvbwHSoJs7KymFIyIQdlt1kCUvNseGW5TiR9PuH3dI/UoBiE0O/wyH5ZHCGPi2R8AGS3wyXsR1TiUAx1/b6Az+39sC5BDRqr0wMBoFE/mVifm4Pwr42Pe+xOZucSbBFl4vGkz+3DRTrF4G6oC9GKxTtPd7z7n//53l/+8qkvfB6PRiDzBe2NRhksVXT43z770Ptvvnn3P/7j/MnTEagt4oYER38Qyi93YWK8FZqGlgSJNevKFwYH0YedhQWimByyldVaVHRswXukR3gy6THZTPk8SwswFE2IAGZZxrsw7mcUeCgoE7gTCbeJx9QYc9VgEMyLBJxFoyVVmBuYMw4ensEdJY/JCtUGbAJqiMdgwZNGgmH6NEMzyuXZltBlgCMes0T7DnQr7oiLkx2DslRWKxyLdSjMVAF+2Wt20Ogj8hBhojpqGwhblUxXRNMMVKEDOqfBxKMTGHQqZCGP+YACJiu0SBSzCC9B2rZLKv1GK2NiaaKimQmP46yq9zTo2WElD5G4oauu2caYWObogNTQK1JT5qpvNvMILBqkbAdK6HNYWuOobDCggLAoQTVjFEhFrY0HQ7AYVbCjnZD9yXOXhWMhLT74DBztmOg4P9nVO3DvDEIK9bHOUYEbQCgWU3DjWNdEV2//cbIkxXYMvgM2NHb6HL2axd1wEa2MnD47dKL7PmhldLU+3DFKmzF/xt3HUfNox0Dr6VFgjchBzdQeaLKtfejw6XFap3gqBkoSC189PXKEURpKt2i1au0YOnQSSDTKG3ZBjcT1a0dOD6Lk0S7FSKacImDYX2TKKYKCKoxndGk35jLNAiaN4qmJMeJ2AF5nQbE+j2dd2qmsak371cAIY0ExTz0WaVAc+zVQbqGymaFm56nFoXRa80cKbQ3NXovdsE9Fa3eBzr5P5JqRw069xbCvyMYdAa3x/iKpyYB1CVq3aR/6o5H2qYwFJQGGPolTmfYVWZhopoh7MZkUIMkIJXw/N1P0RcWRgAyeEvD5QXSl+1XN+wulRgNWszA0QaebNs77VfpCHY+sSKdAd4FQaJHG7/pGps5klp+Erbre8JECfb6GJwIJzhWORky6Cv3/PWCrqOMaLrax/YGAAWr//YVMAs/TuxLxVNpvcjR/pNCsKWUyEwFeqC5VNDT/nwP2hmY0AcSB9hEMhTBi+n2FfpebieuF0wDqNn2kiIot0SE+NTR093vf++PKqv7/c0CqaQCgoy5TlIl2DR8p9Fh5is6PH3nkj1tb7/71r3977z0oVu/+5S/0EoSuEYkY1OWfDiTN2nJAKipG0wluvf/4xyj5zv/8zzt//evPH38MP5l05ZaPFOrvL+SxSCRNKazGzeIY6+35hbvf+c7yyAi0LXNxFcM4RLYWv9cXOZgNmh3GfTwp27ZfZSosgVodi8UdmkquLpDbfSpDcUU0kQBq8P2KzFt4cZbKWnBfk7YCxTBh6Ib3kUJ7k95rFXOD1lytM0dj2K9yNJksJdVWNCF2o5goJl/rqmhAByyoVUhzNTPDYx0tLBFzUucQKa7oAA1FKYfHpZpEZnhgATdtcX9gVgFknvMZ0xJ9QEOY1QIv+KEs7FPRVp1PCzTmMySCmLivCKiH7/yv+CsS/RTa8ygRbIVZ93VGTkWtPb9EqWunsUmjzynkFhhVLQoXWjEBmHJU9nzciq3gLxZ+5ttnvmpeATQQNYAjItU8MOjDY9mBMsNHOsRe096VibbusSMdQANUARqwLkAAtT6MlBDF8AFpGua+2N5/cQdiRRt9FxmKQWrTfm7wJGFJ+W20jTgy1nWelAmMS2y6oxh0vInOXhFg0U3rsshUP3n28ojIdSbq0gw00H5m8uI1GqQFguJWAE5Qp6mL/YBD6MaEc3qLF/uaDFIlN0GBQQ68D+jDZdU+yWHT0e3djFETTpwukzkgOSyqUsaRFWjNeSpLSVXI6/eZbSjDDU4QqFwt47zAI5j0l+ldsMpJ2grZ7w9Fo+6qRuaaos+7xt1s4uIsh6TSKrwPsVdaAQWNLrk+v0VbbsgtMuSrPaBFUHNSSb/TZVKVWO4vsmrLg4EAzc+JBCiMlMttBdCimAiXBfn3NhkxP1AMfSORSSUw6R1MfKN2NRlAfIJgGSgZCAr/9xIZqyiupNBKQna5rFi16poiIvAiIAznfrMNGmvA7sSSjkaJLGilwWCvrsOKLtgE1cawHAF+ecw8vYdlUBJKitPjqKz3Q58ECtC8xf0sn97sbGgKA2wELaJBJxSRaps8Fms4iXbjl3t7737/++/85S+O8jqfx426isd5KBHzNBjt1Q2hUOgnjzxCzevpp+9+5jP8fO5zf7x5Q2kXkn+pq+f9N94Y7DmDh6KBLJ14fXUVZe5+9rP8PPUUqj7y2KNByYH1xlZWTbM9xyoeioadVQ0Q4Df/9CcA0MjFPgKfwy0dgJyrmOyZLJW5ohzVDcacQvMBDZRxcj005OA74hZPYWnA4aYOhZlQ3cCIH3x03HFnLgS7x1JUasxXA7wc4EphTA3Feo1FTmvKU/PYWHBGl9esFpvf+TwZmTbsUFjiuSxiY56LVrHXJoVcHklVDnCUOAlVJk0pHsrVyMxEjlyGjHFfv6TKZ7WDd2NOAgg4UfdrwMg84sAli8AgkvoCnaemUSquJkZwhSbwmdSljGspKIFyJFKmkVLZSiqhA5IfKZAEJpivtYtTnszkYgQgSg1gsbTajNVarO74oIpFXSq8HNl/wYDE3jxAWSFKACBGb1G9GmnnQYNkQKAjIChtnQyT4JbU33GEgHByT89SuMt4GzFk6FQPQABgRFTC9aPgSvTsYXCZADgABYgSLqIJMqDJa4MrN9evLyyMdJ7n/hl6cPrswuTs6satGbpjnx1rI5SMXbi6ssqI2LGL/ddeOtH/67bLv2qF8jU3PT8zPDFwpKP/d8eGDp0a6e5dur68uoNlbHG0o3e0tXvoWPfU1eG1WxurOztzY1MKLbRRsXKHW5j7Geox3gHmE1N2xuN7OVCqmxgrrBJn74ozSEGtmXsFq0QN1WNq+MJhTOKhSGVQN6Ipmh4i9EB3mLAOlNdgTgNWuE0OCq038/xCqx2LLdQoGdXjMXdNk1RZF8KkFp6HsXQ6zMxbDViNoeFDMKDd4IZQxxxNxlAojEbDcZSkWQe6jNtBck7ZjgMgktFUwuNxCXektB9CJbarook4UECkYaQuA2GWMzyuB2SBZgiacogjNKzGIhAn3A1XFP0ICgKN2UxpiJ6gIao/FCRgJSCJB7eiGMWSTIpmDuIUgEZOxAmUKKY0wbsRm6JK/iNurlP5ovMhbSUsyT4kEqfaO8BWgBHZBx9EK7hCD13cU7SLYj9+VKDPQw+9s7IyPzT4ARjQJz5xa3wcdwsLr8WdlRVwoj+sr6HP8Rh7Pj81iTIfvP8+yr9748bdT3+aGPT4o3JIphKa2ovsZ4eB0YEg7//Tn144fRrtgm35/H6PwxEBTItxJgYl4y6rNeByM9MzayXoYegN2Oqa/DLYaCYaSwXxpvDSG41SVQM9HmnRS4ZoFgnaiquc0M0xsHzpqWgq5dFbIOdummxoxcN8k+WgpKsEw/LbXZgVspJPmgYaccax18cDP2htFEe8iQTvoZDM43nTaQ+9jTjJ7fVNoGecz+GoVFHPvDxoxWhFxzCfwdEgCwQXVakfD9iCVyxOFQfrh65XUgmFMZ7JBHwBi7aKlun8YkdNEyY+3pfLYGIOQ6EZ0DM7HUfr9G8WSiIPJXd5Yqkk09eqyqy0auusNKcG0YTU0AR4IofK1zkpcZGAzwstDD2B3gTKMzc6vnpzfXpkdEiEUwATRjvOL8zPL6+sjF24DCgAJNESdPHKyurK/NQ0TwETWg7BZGB4aX116toQgAl3I56cPjs3Nb20cH2suxdQRboEzOrpXZ5bmB2buA/tLS4srL6+s769PdnXT1QDep3tW9/YWH5td339Fj2vhZvi9ZGp5e3t+cW16fNDF5959erjr1z+ZevM1dHJ6bn5iYXRExd6n3ip74kXh0+dW725sbjLTEVTvf2gS2hieWFx5fbO4u4ObojXj1XOVVEXx7KPt9iSDfsC1gPM0uZ1OhNZnskbackGbC4TdNqSqng8hmKK97230WzarwGIxDGTIOHZdDKZtFfVG3Xl0VgUehCmexjzLxIDD/cYTHFlDwJztCUT9vpt5bUxWr7TAaz/uGEm6xfBmVCLBMWA4sNdGFCeKEAky8xbkGQ0HQVG+IMRBhkBtriPBklmPhrIj9CDRGgIQITZF1mMjQofa5AglBSgw10eBYBStPsqxSA8IkF1IkRtBRJOeydQD5IPvGCBLPcKKTw0f+yBCBqlyYZAo1wXx7creWAF3AhjcCLMvDPsG1pBu8JNnADNoWMZYX4C1eL5FsI1IZH8+aOPvjEw8NbU5I9/8XOlrrDykgSh3Z899uge+qyuHj9yBINGn53PfW5+aEgU4y7eHgCtrYkAGo7Daxsbd7/whffffReP82prKzHooYcUDCIuiAcRTQDBU//5wx+9tbDw9sjIj372CDsp8gGh/9ysJE4ROqNAcFmOxmL4FQ/FR06l4vGk3+XFWInYHT4OD4pwez12J76QZKEzmVQsmXA06LGqRXlDblNGsowEMhdXxsSxFngEkMpkOs0sZcVVwPhImvmAIsARv2wsLHZU1cUFZHMNaMm4mkxQEr1GszLZmOU+FLFoKkCdZIcLM9mfSWFW86gMcpAy8F9ms89moNxaeRqaxlFSg0keOJiOtWRDVpdRsBVXfXMCD9KSgYrtqGq05GpN+bqA1cEAvYMtYb9sYpAXT9aLyHLooxkebN1sNtHezB0e6M6Rg5l4NGbVMb8HmsavsZZM7IGDst3NLfw8HbSHoNsVfyCLhyUNzNMOH+0Y6Ti3ura+/Ifd1aWVkZNnSUfa2qd7r97c3lp/7bbIAN1BAGrrmB0bX39te/3WLUZrATcE9+Hu+R92F+cWho7zXHkgznhPH8qs396ZujIINCDDauuYujq4sbu9trZ2H5SswfYzCyOTE339IEXClNPVf6xj9MLlpYm50e6+QcXlp7X90u+PAlwmT/f1PXfk8hOv9D/56qUnXrn8m6PTPdeGjp7tffrQlacOXXrqld4nX+o/3DE3MDF69jIo1oSwmQ+2n12cnl+cWxzo6sU4kkwe0EhV9bFg2C+BPDNU2ibSoHjN1nAi5hOp5zBA0NQkJY9JNOqspSc0ddoDWpfeFMeaGQyZy2vEoGutzJfuw6zimaWackkcLyU16qEfMSpPcpgLi0G8oR8FfL4YMzDFXU1GI1oRrq4RwNzBNIiJq7rJmKMxacqCTncM8ymTCslkXpgorupGbrJglRPpimyaCmtRWdDhhmQGwLOYL91h0JRJ1Y0gXpiggAAQE4/BYtaWeyQHCZpQjiKxmLNWb62sB8pR8olcafA7a3WD1yjFISeQSQE0WMekmka65Cv+BLhhPO4xSy69GXMLwoaLIH3xSNShNwecnrg4KxUXKR6BgFNvjMghACjrJuNxLIl2l8ds46n8e3WTMTyy2RJ0eHjoczKR+dePEWJ+8pMzx45zZqdT3EFD3WTy8/9O1AB2vLu6euzIkYMf//ijv3j07T//5e4DD7yxu0vsww3Tqe2lJQAQ1C48lNJnpkb82Mfe+etfH3300Qc/8YlD/4BBn/v4J6FpQlkT24UJj8F8+sWX7zzxBH7KfvSjpIpy0FFSbVGVe3n0NlkqmoBmCilVXOQxSoAVpg2qqDXtVzsr6pRVAe/OK0k0x1CY9VC15IOZYCQildVCLzOKVIeJRAJzw2t3gInYoKkVleB7ggd7RGw1DZxX3Coh3wG18dBdiIHpoDZoC6poVOT0UfLe0/xX3wwlMeD1mzUVUg7ddiyFxT6zLRSPgj7zpExMSOhQPNXWCZXfUso0HVCFMAktZVUxT8BnlIxQuKC7QTnKp6aGph0V9fd8EbX6Im6EhSSXRVMO9LHn09pt1pSFbE43m0CjNAmxbmWdbHdayveawEVDgc7RYPAbbKbCUsUITdVPVQKt3F7dCGYHnZEGGXCZrl6eCt9+fqRNMdnQMXCs9+r05SHACjegBDMaONE1eWVg+BwgQiTqAeVB3fZzU5cGhvY4kUjH0dY52nNx6vxV/ipsQ+KGXRPnLg13nRdHM4PgHOkAx0Fp5UZkU22dg0c6eUqPUPauPvvq5adeuQiO89hLV4A7Tx26/DQ/l558mRefeOnKk69c5cVX8Lny+EuXH3/5wjOvjBymhzS6i7Z5Uj24XGsXlF56cGJAc7VmHoyrc+TQ+5MOoAe0eE/2InFAON4WyhQw5ZJUUGKjR5mWFp8CnStXyx2K4krGuYiTM/HCAPx43y4QXW4r0OaHATVCty+rcVU18BWCmhZqFQXY22DggfS0+QktOldlK6uWbU4lMwPeFhBNn6/1mKwhh4e+8CKHkSlXbSmuBOv2miUo3pxS3BPRMpN8IumAIpmjce7X2vZrjJi1WKLjcamywZBHGyouYhaC84eCIYsOHFBj3a9B/2WPHwwf2MGhEJnPpdom0AEqkpiO6PN+tZRXHHC4oRJCP7XWNBpz6M9qAaMOR7mdFwqbSyppfKWxzAqtDSLqc3mgPljvV2GFlH1BXAEUugwWPc875SGoUA3AGqKRKO6DKwaskFZHjAps6sbs7N2vfvW/b97Ccg2FhQSQ4demX3zze++9/jq4z4lXD//0UVKht65ceffb34ZK9e7Ozo8e+Rn6HLA6N2fnAECvXV/E0gJ4/eGPfvTO669T7frGN/585SpqPfLUk4defPmdtbX3N7ee/PYPoBr4Ezwm31XbrM8t+uP6jbvf/vbN0VE8b8gXMKlKOIAQ+/0ar9EGuGEWwRyMic6aA4EsAUZH/bJBzc1Q5R2ZNOWyz+82mM14XwdoK6GdtaQqLLl5hpfiMZynM+RCl2/0NpgINPmYPEydw7dZ3WjBeKIJTj+SERNYT3kdLSzCpE3IwGQrKuUxxznMrWMq1DlFf2yqcqhFmLGKEdqKG+apnAd4misbxdqJGx5gKn48EWBib+oqh1vgSp4WCKJYpoWA0GFaWXRRF3/p1Z3Hi1itUQb6Fw1GYhE10e5JixJnPiewhuMm6qIJ5YZ4FkwwAVJslNfpgc1UXBAW1B1h6AIgg4AABFEMycALfGhaphGaV6CaQZMaRzFxpDu+4wOg4AcEByVFXRTDX3FDhriLzSheHFXsSijW1nkf/jMkttWHmJGeW10KvOG/jDprZYbWK8+92vf0q5eefAUoA+i5+ORLRJmn+AH04Pulp16+/OTLCvoAp/pQ8tkjlx5/5cozhwaE1Wq0lZnth0/0oLvixXDXgFgA7iNojvImMF7AIIeGia/wBUOG6zTL6ZjHBGPHMtwdw1Bq7RW1Vi2TP9GeX1AMymNVlbpqod/ytG/AGeSWw11VJ/KEa2nzQ12gXkEpprJU3UAU446AjtnIK6oDLjcWItqqBQDhxXskSXZ7BQCJKBu8qpKqSDjssdqM+Wo65tPUrXGbrJAfZ5OS8Bzzg2FuYB5QhRhJkKuSctXc99UboWQFwxFzabV9nwZ3M2pKISpQLnw+H3Oy7FdBfrBcU9XCksu8f8AplbFI53PzPPtIIulsMHDG7FdJlVjqY4z/iITpz7avCD1xmul4AuUu6PGZVKVAJSzgoYBM95+U2L2GOOWoHHVNtIhnkqEYw6/MOSoaQXnmB1XdttbWO08++e7u7qdSLYBRUrZkkuaPPM2vf/7YI9/9QSQWvz4+xoSHJ0++98Ybf3vnnbtf/vLO6sq/fOYhv8O9B0CLiwGP518+9e/bi4vvPPzwnZ2d995885329rvPP399Zhq49pOvfevlnz8GZHfUNoIjAA3devN3P/OFt2+/9rf5+SO/+S0zqwbD1hKm18GbMpGeOCPppAv0B+sQlha8el1FwO8Lg/6U19KeSgFTm8tq8MRucl4eHm+BAoI1rK4x5PNJlbV4HcAFyDbWfICUzyIpxcQ0UJtVZXibUg3mBmi1Mjc0WHVAOa0gHSjABBoUWmtFjUuwJNxfEXjgjqOizqZkwscVTMtclNc6eNQ4IQYTlZu/OVowYjvmM/rGYtwXwzhIGh5Tzikkpj2gAT0Ey+axzqAqRRCQEmsuj423FtEhm8hCNBTbxKgIeUETYsMLYiKcA4p5FLXY3mJnMP8hBcxzpnAiIg6+88NGubtHABIbXuAfZCR/D8Pi5hJ0McaRir0tIghYBfOIKTEWgJUefFistV05OZnkQ6mLK62nAS9/r8stdYLXfXQ0OtO3tLA4MzI2dGKvDgjS1NWh5aWVsb7+y88fuSpw59Ivj0z2XJ2+MNj322MXn3r5KkDniZevvHhytm9krKvv4nOHLuMK0OfpQ8Mnzs9enRhoO9MHkHr+CAPPxBFCK0uro2cvCbJHR0yppinGHQe67UCSOUBgpzYH2D7UBCAI3gRQAytkJBSKxROOesbvgQMDszBLQJUjobCtogavh8V0JOTQopmvW1dBboIZ1miIJuNQuHySE2spkY4eHNDUMljV3dDeBerZ65pisTgtBXElF6fGrC4NiKMTaVcKymTL0NSqGqA9QUqpbbk90PPNRaV+ycnDfIQVJmhzGgp1UlVdLMzEQ1DBoFY4m42g7h6bHXejZUeoYFD0MIPlED13aTxC00HZVlHHROsp7sHT/JFNyS6Po6p+L3N7nL7IoFpQwRx6E3SxEK3OIuwgGncbLEEGQCtGaKhgpFouowVwCXCEchRIJaigOTweyR5DAWEGwt9oIum2OcA1osIYjItf/OpX//buu3d//OOJ/muALWE/or8lHhmKJDrw8U99CkTm7he/uDQw8C/Zg8da297qu3j3pz/9y+3bjz/99M7ysmIDevSpJ/9rd/fOY4+9f/TomeMnHkimRwcH7z788AfvvffJz302EopCI/BZ7YrPgaJy9l/su/Psc7j3pz7zWZp70mm8F0+dniqPzMxBIUUz9XrMZZVYV6BYhTJJaHBQKvE2oct79WZ6OaWpJof9ARochQ8RoB/kjjseBrMRBBwrhMuHMpFsKhwIAsEB31IFfYjimQxK+syStbAUJZmRIxKJtqQxkngXpnxikKfZDARHf/ySg8l6xBqJVriJEY06ahq4DoEulVQy9Qc67BTk6wDYh9bJqPQwppuvwWjkaTncqHI10cUsxKOoK1ERxawieV4oEfMZrYQPkCngZnEVA6dl2V5Rh3lLZwLM3qr6cDDEg0yw5IhlG7Oa554Hw856pkzD/SlcqjI/XrTbZympogwSNLWW0ipc8RotitsKxB/KysTFq0tzC2PnLwMcyEjAUU50zw6OLIxNDp0+QxxRmE77ufmxqcnL/YP3QjFQd/RM7+Lo5Hh3L7e9gEFt3O0av3Rttn8Y/APFwHjYyomemSuD4+cv3zd8qmdteXXltds3d18T4RT0vB6/cHVji4egLq/fvPrb49CnLj3xynjX5dnphdnJhbmLwxefOdT35EtXftU63z8xPTm/MHV95HQv2NClx17uP9y9OLYwOTE/OzF/9aXTl3Hl5dMLjNjYxTY9mKAAAPZ7SURBVA1X1tb5wrCqlFUlk/Rkjz6QhUqMlQTs12eSki0tvmwqdrDF22CEkmJWl0XDEfp0ZtOJdJoRyftUzrrmJDOcp4IPZCDpjoJSS36xPxikk0gygbohlwc6BdTgZDqNJZ0244+2+JkYRQ2agwK0wqZTyUzWVdmAVTQO1iB2SQAi8UQCs5Oq+0cPig0gZvaOBmSocuFELJbOyPGEP5VEP2Wn122R4oA8sTtDG2pLhlszkYh8MCNMsAnaUDNpX5j7I4ozISQcbQGewsk4ugfxVk7pQNMQLRRWNssUCy7+y6mfTaMMe4KLaEvkPxKWaeCFwJFUKn6wBa3THC4uBtBQNh17oAXAIaxCvBta57MczAKk0ARN3dxiT+IKmxDWXKV6/5Urd3/4wzt/+MO3v/99NsE9e27coDqA7IUXX3zj1Km3r1x54tlnY6Lu7NjYO52dd3/wgzcGBpkFEQj1wQdvDwzc+fa33zx7dnNmBnXxdh558sk7/f3vHTny+0OvcPyzmVg2FWT+bAasfPN73333z3++8+tfXe7ukvGkcQX7aNbFJ5QRjunxpD8JvE7G0olohtt5YlgYVQM0CSSiGDFUCdGeleRGVSwqR8KYP3hYDgteRzYte72haNR/Lx9QsCUVjUc9TBFNI30sJgbqgSxUNu79H2TIIZr2t6Tj6SRjrMw2TCG89DDe2gNZnhNdWBL1BcT04zZCPJt21jSaNGVonUbJFFNWJXwyBF6qruOLTvF8kfjBrFckpQcRw3d6vWYz8VBYKuJ5zcAsjC19LD6aDZglsGNJVRYD3cWrz6SA2lJZDeYzqB9z+AFJIUcetwRFLEfj0puS2WxQ7B27qhvBuUwQEOiqD2QjLdmoHMaKSJhTl6I5+aNZTB5IBygkWM/I+cs3Njchreu3NkbFvhVozszAyPrt3bXXXluenGMMlthEX5yeW3v9tZvbu1MXrqHMELSo9rOra2trf3x9eWl16OQZKlJtHWPnLt/Y2l5//fXp/lHFRaj/aMfU0MjNP+yu3rx5H8jSaO/V1eUbCxPzg+3n8DNjOk70TI1OLK/fGO/q64O29eQr0L8u//bYeO/A5JXRay+euvTUK1ehc+Fva9d0/+TkGRCltov47xOHrjxzZKjz0vTg1MiJC33PvMqSz7eNdffNLS8vra1Pn7sKSBYkU+dsNHK59nCZAqm25RXbVRV+N3gHsytAx6bFB1Bd3SBHwfqT3gYzj21D3YJSn9kO8cVQgm7whnk6e0mNHAhGIIQen01XifUBRNRNswvWzHTQ6rSKU3pBp/20KWax5DrBqwuYGMVdR4dp+WAW89KJF4a66jKv5MJciWQzwUBQmAB09iqRw4gu82lQCZOuyqguC1gdvD8pFcNlMe1s1Q3hUASLIdAHooWV2aqp8FgkTG4gBe4ZjkTttc3Wyjoa13lIDt38ZV/AVlHv1VsjiYQvS6DBbb1OFx4fC6OCjwEoXOkUGBB6LnJT0MqLK5FoXLLYwFASEBXFGIxWAiHwKQwdKZs4ywxfgi4vc+tAOIkp5FBgQC6HE8/IM3OIPiz2ta987f3/+Z+7X/va/MSEQIEEHifoB/NgXNWNhYW7n/nM3+7cyRx8wOPy4CmwyL96tI206Pnn7/7oR3e/9S2A0ftQuD74oPPECdqzfH6f0w0UvvPWW3cfemhn8TrbtdkDfj9uyHSX8cTs+NgdcQTrv3/2M3i0WDTBKGKgjM3tMUq0bdHPm/FiIAuS3ui3uxJJwg2jyVpS0PgclfXM3ILBRJ8Z6hEHgkALjoZASAEEdLOI+IPmsmrMPXQgnKRrNRYDt9FKFw2sOpm0n1wpzaQfZXVYLH0eD28oXofPYseclEqqeIatyCsGLdhR2YC1E68JaB5JEyt9dpe1qMx0oNjTxHyeLBZP2OuayayZB5ZuJSgme/zQxWid1FaAgcayWRRGhzEhyegr6iLhCJa3SDAsMWO8FkqZq95IDM1kMP8NUMRIZEq9Znskmw1FItaqOqgInL2aioDXjwVJtnusRaXUGfOZnlGO8phcT40eRAnsCSUdDTz5PugLYBnG/cfovHNmamxyeWNjrn+MZ/IIQBjqOL8wd315eX3szCXQIlqCoCqdv7S4vDo3MTd66hzKjOLisa7JK4NAn4m+wdE2oU6R7JyZH5lcmro+JNIGgQHhp+GOswuT01PXhu8DTVJyc+A3bsIJKoW/dEE8dfYSFKunX+p75qWrUKYef6nv2UOXnzvc98TLl2iBBga90vf4y5efa7tIazTL4DoQhzag59v6aKtG3ZevPXNopLVj+NSZMZFLSCifxCATEEdTTQ1cxAQDLzBMUHGdxdV8ATT40Z8Q+rldU+HQgSQLqxBUXGqtOmdZnY0JwFUoBvWVeizmUFWTgeiulmh91IBXu8pq3VWNQHeLMDQymUshgYkJ5URgh7WAx7RKpdVBo02ipYkusDbMlTytu9HoN1ihGNK+UKClq6u2Akqip8nIHoLBsidaOpV4/Y6aRiPNfhp0SQkdkH0+we3paWrJ0ThqmrAagyJJappC0WGezijZQay8tEQU02s2h3nqwmE5HItCf8R8wkVo9ZANaHNQ2eiqR7dgNe4c8gfC6UTA57dhxPbjhtwclJOxcCoOWDSrymhv1pYHPZ5QBnwn5ms2m/KF82RdM0CQFvFw1FnVbN6vMxeWMXQOCzhgyMNA7audPXcvXHj3xo3nfvvraCLus0jGohJjvuaT6QfuiKD2kYsX3XVGcw64fbnf6QGWffJzn3vp9y9ebDu2cm1gtL3z2Wef+eSXPgdawQUcQgUdtsl4pbf37re/fee//uuTqY9a92nNhaUeB9t9+pe/fGtj484vf9l76IhDWxEMBLj4i0SFEG/TfpWtph59pu8CPUjpqQzW7NJbsIZBxwxY7ZgboAkYRow8VdFoxF5dT6uNcEQEvoMQBVwUSBpf8DrK6wNYTpIJXy0TRUMmcdHVYIA+GPQHJVUF2qWg5mq9Zhu0PK/egopUo3I0UmEZJDwMtqKrwuugKQcXi6tR0WOyWXMp27iovHSodY4yTDam8sC8MubrcKug1cFdgjymy+D+CXR5s8OJZQm9hYaIT44aC3PAZLNoKzBVJAAQJ4PWUdHgrmdeB2UVt9Kmo/NW6206uiNxEOgVyaAzD5CRCzZQj/s5kDKbptwBnZTmIXo2iu0XrUNTZS4qNeXTygndSth/O0fbzw9x+5s5fUaO95CUHO8epQ2XBy4L/6Bu4MbQCR7jzgMImUieW1g8uBlfjgBGuvpPCoWrrevasQ7uo9G9mdrcmMCgQZGG7L7xo/hP98CRdtwaYIQKNFwD+XD3w+1XCDSAm1euPHWI9p3HX+x77PckRE8fArIQlZ54te+xly49TvRRAIh26Cde6vvFi5efeOXK069cfIZ1gYUkaUfo3w2gwTDRfpZXbN6nNudyu0ESJn1+RB4TSx4LCBsbc6BQXPerSGp4hXADyqPPUUGWeCoAB10Y9gEo++jrrLwbXskTqVtyGdSDWsqbACPF+zPRMRpNCAM2ionVCQ3h/gzVE3cD4bIwUQN7yGkB0MQ8gwpdVIy5ZTuAJQhziCEg7pomE+accNRGlwz71VJVg6eumR734mEx1fR5WmZIqKrnURD5PJgBAGEpq47JIXMxQwTsIstvU646IDmjgQCz2+WoAc3m/UXG4opYPI41vxnzeC/HTZHLaI60pB16E27ozKWLrV5TGgqHo8mEtaLWuL/Qjr7tK7Q3NtPSEY6YVGU8dzRHYzigCXl5mh2Ag5tBeNJ9KlShE1M67Wo2G/YV/YvNS7byla+Aknz3e9+3ltbwvexXdZ889f7i4ns3b/7wP39owNDtU6MnUk0jwSuT9hhteigL+zXGHBWAgDt3UGkrmTzUBshQl/wn1LTFxb/NzRkKSxz3q037isy1Df/x3e+SPT322B/Xb8jFtajrsVp5Klw0biqtgZJi3a/WF+rABKFheV0eLEXM975PBS4jx2MgDp6aZtSiJXhfEZ83Q093o3heK3cAVD6bBG3IZbAYIeGQZ0w8kJFgMAryqKtmhp184peltDIai3glByGJi5baiqerawR82yvqGcaBuZqDV6lx26SQ22ssKMFMEJKsNhcx0NRe22jCLBLbuGyrpCooOcyaMi5stGByE8BeVeeqp8M0kIITNVfNrd7qBjpM79/bGEG3TUU6R1U90Y0yIjJA56ot2nKxTKKYwCmmrNHasKTxZAsNxUEgGi1QaqhyhEIUUwCIxntMcmHABgbRNpRD/OLyzA4zFIMA1NoxwFyDneJEHGE5BpFhPqB2cBTGWh2jLyJDQXFFCDVAR9newsXhw53D1KIAN7QfjZLi0DJNloQC3GgDM+rmZllb5324OniiZ+7y0DgDShlOQZSCKth5fqZ/9OJvj159guBy+alDvU++NPhy+9jhbqpjgB5cfPLl3ucOjx471//iqV5qZIcITE+8dOW3x0ZPXuh7vu3K4wCpQ9eePjR4tBPcjHnvj3fhsTEcGCDMj6BJstc06sV+JGUeQ1lR55dcmBMEbAx9vk5foHWDb1skUBsa3kRdcNeAw8VjCfK0JoFTwAusNmFPwF5ZTzaE90pXKzBeR9jFUy4hdcQvvLmympAsB6wS2BbpLt8NkxWE41GXHtSGtIikGutPwI9FF5MAcwWzx5KrAfdJQEkJBEwllVhJiGvq8pCbggEVg3QXyzXYWa2eBoJ0yme0kWSJTZwA83gquWaU1I5qW1V9CEwkmw6Fwo4yCh7z1FidkCgaifxM9wnxw09YbEExlAyBlkKmm3FbbMJ8Sx3Ko7foMfN0VTFfkCbnVEK4GjWhh+B6inc19MFgMGgtrjKry2SnK8YkGPEY9BenW68tc1Y3RKNRn3I+ajLhMlowfR/50Y/v7O7e/cIX/vr665/49KfwpswlVT/4zneAFbcmJ9lJX8BYXuVq0CeiMai6UIW4X2axm4qroIZwGwtlksl4OOZoMFiq6yOyHEnGFyYncIcffOe75soaZ5PxE5/4xJ93d+/87Ge4+PUvPgzEAXLh5tAu6V0VYWoeW0VtGHRPnJ5IvuP1mcuqIMPoM1qEthXMMKZUUpWJmJI4qBM0NTkUslfUWXUVAej16AneSCrlc7iNmnLQzGhQFmOVBIQ56vXWvBJPg1FORBm5At3Z46MndFGJx2pDE0zpGwMJsupB2HVVIYeXCnWaeq5UXgcBdoG3hkKhFjo6go6ZVKXcRW0wAEOpcIXDzuomI+ZGUSmU8WiKKq3f4TZryrmhqS33uV2RbBKPA5JoYNYxjb28Rg4EAJrQj+w6MFwsGzpHgx5lYnjjIOaYpTkqE+i8yRrD8+LlYtUBlGCJUjN+AN122xzWQppcATp2QKHPFwmHpep6dJgnbeRBZBojgSAgkm4u+VracY52TV8bXlxcmro0MCDgZriN4amzIxOLk7NDneeARBPQtqDTdJy/PgY1aqhfqGmAjoG2jvEzlxZHpod7+oAvKAbmgZtMXbw2d3WYeZyFZXr4WGf/iZ6ZvgFgzn0DJ7rnZ2ZXb++s3doY771G2MOnu3d1fX359s7s0MSl549cevLlvidfHmk7Mzs2MzM5P9Fx6SLIzlMvXXru1enz/bgyOzrTf7jr4hMvX3785f7fn5gbnJianJu+Onb510cvPfFy33OvLgyNr+9sre5uL07NgRbyACZNacQfgJoaT6c8jSYKZJ4GMpPARKF1MGYrr6EfhMiBEsMC3pKOQFPFSgIsAB2A8kAbW9oL7s39RY3TYFLyp8jZJKYs+YuqFEpQAho4JDwahSKN9dBe0wClFyuz3EI3E0dhGfDL43bFRdYLkAJoWGyivDoaj9IREWKfSbkb9VhzvJiLuD9NNvQIRA+N2jKmAclkgqybDcshk6acGxDMwEC/vtBBsAyXuaQi6gugG74049QTeGSjxVHfxImOPsdpRQZtcZrMsscXvZenhjtfgD80moijAAUyRcc5TBiv1xvFr9A+4kyKRBMS5DMaFf7WwjMYw7iXHwfF9kLkAVi0NMfpyy8nafcVRlO0FRNG8STDvkTdaJq2YRTrae94p6vrzk9/ujoz89FPfVIJyIi14AUpe22ozn4CKWTcX3GbRmfSiYSwuPsh3hiEJBMtR4VRDO2yrgBEKEoPfvxflyYm7jzxxLtTU6/+/vehNOqm4kkavIRBHcMl8gFB/UwDRtlnpd0ovbqTH/23f/3kxz9OAzM6n0oFE1EqX8IKxgfBFYaYKLEsiVgM37kqxMQZbQFeZL4n6nrojxzGHZRBQBUazqKxYCRML3xgXDzpJ+KkeDSjSNWC14FORpntO+4NBqClEs6Ygo4TJiKHoUWifCiZDoszpvGifR5fKCCHMMdYkpYmAJPH7lAChtBn9ATAJDu9HpsDSM3qolgkFnebmeoXnef0w1vDTXw+R21T2Ofnd1TPMBzHY7Bg8gOWOSX4cjOYnszQYDCH8EJRF4OZSfqw+oKvWSW6+2cpCwAmd0nN0Kmehfn59a2tla3txd3t6+PTY61dY929i8srvLizvbR+Y/zc5cEjp8cuXOax7Dyveev65CyTb7R1TF0bXN3YAG4s37o1fuEKCE3/ia650Ym1rc3Vne3FmfnBU1DZOgZPdi9Oz6+h7q0NOiLOjoyvbG8tr94YO3sZDAq8aKjz/NL1pfWdnfnRmcv0eyayDB/qmhmenh2ZHT1+oe+pl6/h4tOvjHZdmh2fn+ufGnixHToX4ObyC8dmLo/Oj89P9Q5dBgl64uUrvz82dXVoZWtzRYkFK9DxeH9VScAF1E8z2XAt1h8qKQ6sS5FolGfghqBd03RyQOc1WiEJEGl666lKQYCt9DTjobfRZMrTbGaIjUh3wvOwW7JcbyvqCCKFJUE7c6+Es1maujUiD1E58xBFmHJMJH8qLLXk6zwGczzJPQhgEE8RAMPXVWL9ITcRgR0gCLihu0EfI3ileXK5X5a0lRa8RayugAzuzfOGeK/u6kYm9wBAcOc76TdamSoEK9KeLZP+hND27WXCm5ZzNCG3MCeWs6rea7ZikoHsUG6zSb/L5axpCPl8EHLihdhLDlgdboMFGhkkEGJAUYnHPVYpgPktfIUp4UBnORyw2EOxKKPeRCwY2/IGKAaQEEoa41HoQ+D2yyK3DoqhLtgENA5m/k/Gv/2D73/w/vsgQXcef/xP2ztf/8Y3CYu4v9j1Qwcgt9xIopOkCPggNCR47HqaKCOgIc4AhXgcawAfTalL02/qa9/4xh83N9/73e/eGRwcOH8B5cFTZAZY0DasGM4xsFDiRBIy4gUqUnQhSPE4Cn/5C1/42he/qCAahBxcBgOOuugb8SsFrEkwKzZHj8CHixR1kQUFoojRQ3+wIBGsYxGCNXcMOQiYWjLgOBoTPhYEPjw1+hAMyZFYFOiJDvB5BWYFgzI6wz4wqob7j1E5EvQHOVXERpuPrArj7ANLwiCwInMYpcPRuN+m5DDCACr4mA65fB7JibbQKzGkdAR1Gy1g0MALjAkXHsxVb4A5RZmmlmmwFPDyNFvsIjEj15h700AqrfE0mDi2uJjidqFICVTM7Twx2YBWkUhUKqsZPtGzNDMPOV3Y3lrd2r4+MjXU1jXR0bu6uLoI9NneXV/fGAdKHD49ca5vGQC0vbO6vT03MTNyrGf0SMfk5YGVjQ1UX12/OX7+CrNiHO2aGRpbJQDtLoBAnegeY7L5rrnJaUDS6o1bjIaHvjd5/vJw53lgmPAREiGtp89OgRAd677yzKvQra4+Sd3q6gvHFW0L+hd0K+hivU+/Mni4EzpX3+Mv0U70NN0U+351ZBia2rOHwZsuP3cItyU3O3958lL/tWOd1KKhMeXrjIU6HuRWzowqDB0GpQSB1FX4mkw27kTSaoOLYJXu2mZvk8kADVb4egJuqNEYrdC5DPecGFEMlES2MJKe6FNAVy6mSjGa/dCDCkrof1XAYlDfZLvL1WQ25dFZEXUNJF9MfwmdiPeB0pSnpZe608VDFKC+5dNuBxJkr6gPK+Ej0KVxkaZoAZGxOKCQurSwZUJ98wcDkXDEU9HIFvNpdcLk4HGmPqEH0clVC20oKIIG/U6eDgyljKxY5DACQLiMVuMBrZVJJ4p9didIBOars8GA4QJFd1Qyxw3EOByQpfIafa4KDwv1BxUxcYNuHstHI3QJk13xIpZHG3Otoz8OvSkWA9MB+Yq7Go10WtNWQDwe+MTHUx97MCjCGvAUX/rkp997++13H374nclJ8KC7X/oSDTU/ewRKH0kBwNrioBWsvAbrejRBUZRjUXdds6Wg2Gkw0qIEQgQwDcq2shqzpkx28fg2onAy9ehPf/7B3/5252c/f3d1tevkSYV68MxydRmUKYIOgIDB+uhMnaW4EjoRSCVElILk9Ji0FXj7n/74v332c5/DDVHXrTejrs9kFaH/3AWTIXvldZhRqItagAaChcPNdM54j6GorHQGo9pk1Bdxa4IcUAwgqIqlpBqaVEByYvSUdv1Wh6mg2FpWDcRhciLxvNxxz9PYGXfKQwHwvAGPx6Qpg8YEeq6MVTCRcDeZMKQWdWnAxZRPgLBAIICZYNlHO6Asy3FxQ6fVhplvzFFLDcwFzp6Ew/aqOkMO3q/Wg5mGUU2m/HY3CD4uiinkBXfDDHQ26DGTaR5iNis/+A6PLVOV0gKAOcmgXB4J7W4wGGhn0BoZhAT1OcH9OE05xAoqEkR+ZmRi+eat6asj0IeGjjO7zgg0punZxfml8Y6Lg22dwye6htraRzrPL84szAyMD7V1M2jjeA/EfPTcpcWJ2dEu5swAtowe7e5v6xy/eHX2yuAAla8upvoRzkGTvVdHui8wKf0YQOdwOwCMX4QNCDWHj3b0Hzk1KizHfc/SxfkqQzF+3/fY7xRjc98zhy49Q8v0xV/8/vJjL117kgYgQtVTL/c98eKFR3/PiI2nX7l2+MS4cGcaOHJ65BCTWivGZgIEdF2RAwUIIkBEWI4hhPcX4R0QBQq0DhE4xnOW76eZELWUuhgsw74ivCfUEh/uEUD7NdxPh2BamvFfkcGApsr7VQAjIJfSkAXCj4v71JYDxaBjgDlLAV65yrxfjRuyXeEVyr0JUDDMBsKZzq6kVuFGQwklFq9QeJ0Cgwy5Goem0kgnd3YbreNuFsxyXRUT6YsrwuSslmqa8KZteBaaA2mQMkKH15vNIoeRqZAGbDy+raHZo7eY7ldZDmhMRfTcN+VqwMAdNc1m/CoGCg9F16RIxFhSadqHi7RHGvarfXZXOCjTyp6n5mkNmN+aCsgkQNO4r8icj6fWmj5S5NKboy2Mt2Su/gO684eP/mVnh2Tn7t0/3rz1q5888oXMR++89dY7X/rSO1NT3cdPdB868vbq2t2vfOXd27evnL/w+W98LWh10sSOUdpXaC6pYqRrJuWpbeYN8zWm+wuBy6Cf4AvGYvRQRZfuAl0oKD/01S9fPnf+nT/+8e43v3nnz3/+/SOPQ4PAWg31oWlfoZ0W8SKv5IDuE03E8IwckH0qY1EJ9Bqqe3g6kOh9KsP9hVJdE/UUtGu2Ne8vkvZr0JAP9AE0LQkduZa+4PtV5oJicDJ2xi8bMFVw5SOFtsp64rJIz4Q+O9Du/YUeyYFi4D14ItSV9qv1BzRBqLfZNORcz40LtXlfkbWkGrQIFz0YwPsL8d6NHyl0ipRSWHWwdJlzMOW0+v0q7vEdzPrNdhTj6QmYeIUl3mgYOOLSVPGNFOJVFprLqkmv3F7OnHyxmfX/Cu0N+nAmaa+ow2DypeeJAxokO8aQixBGHu83R63P14psDSY8lMRVVgdQYzCjw2U+UGzCylSE2YtWisxVtWDxeGuYA7Rq52vxHcAEFMN4ouLQCToiDrR2TLT3XmvtGFaM0MeIQdxEOko0mDjazTMwjnfSMfpw+/Cr7XSJFibnMZQ80jHw6mkg0dixTnwUi/XIq6eHDp1SgsiUPa5RVDl8GoWVfECd4x3nh0Q+IPxGozfPde6aOHNx6BhNQkMvn+KO+xMvXX7+SP+v22hmfoqhp4Cbi0++PPC7E5d/eYS/CgC6/MRLl549NPjiqb6nDw28eILb/MwH1A5NcuIsM7QCd+z5An3ytZ7KBpuukhJOaGAOFKyTjvpmCzUjogAAAr/ay2tBgiClCo6QARXo/HV6qazaILKUoa4Fb664AgqUxOO0uZPlyKX1184jdI2YsqAhqEujNbQ/sw0qG6QaAk+0ylHZsYw73RId//leJfCvPK3LaGIeIh69wjgj/DUXV4CzuAxm8wGNU+xEYM2BGDNBItPZCUDMpRur3+FilH8JExvZuQWmtlbVxeQwtEILJij+i6cGLYIeHo+BYLNF7mio7OAsYE+RiMj1qYG6CmbkwOSGfhQIOsieVAAXSVXGkzPTdG62qcoINzlqV01zOBoDfXCbwJ4gpWpQS7An0HiwKqbIywHIcsNLDsnUI/zBYL3+v3dvvzM+wSwc3/set71+9KM3u7o++OCDd774JXCf7vZ2rOHo4aNf+w86Gf7Hf9wV3jpnz549GIgYc4vMqmLMdeFWkwjKQWsZ87c5ymrkiDjJOpnwOVzSAW70tsQTF7q6Ufe9559/7+WX77zxxmNf/YZCT8gmwiFHZT0gHrACfY13S8d9HubcMRYUeyw2rN5+anZxL8affsYVsj8AUkmjD/cKGkgMGzACgokkE36fzw69u7DYabNSY6U1Ku4xmiF+5pIKuiBBWUslguGQs4LtgsVAY42As0Ajc3vZbqHOaQWlYl05EfM0gy2qzdpSULmYeF4wF1tFDeDGVVEH7SwobDQ+yaHMUlCqaCSKu+FxMN+MeHGFOh/tOwkMvt/jBRnnWGnJ76AfgZB69CZuV2FC0puMXuwhvPTSGgITCEujQY7T7u6x2LlFy53TEvCsIIoFQ87yOobC5aqlojJMPzHyTqkI66WaI1NSHQoEoiJBFbee8zSYk1JNI+ekiLPFnKT5pa1zqn9keXl18jKD1wEu4kz37tnR8etTM8OnzwKJuOne2j7cfnZxbGriygBUqIlWkTKstR3cZ35oYuz0eXwfPEn0gciPnu2bvHAN2hxwBwyI6ENz9cWR9rP3MepiYGj11o3F69dHu3tHUaita7j93PWZ+bWtzdnx6ZGTzAc08PLpa692zlwdmxma6j/azRiLJ1+5+Myh4dPnZ0anpi4PX/vdCSpc+Py6beLCwNzE/PTwJLOyHmXqkIlLA6s3bq5ubk4NjoI1SFjwi0q8NimSTYajYWd1g7ABaWxYBwIiJYI/aNVVWfOKTXQqN0JLp+JqtTMKBuxDUxZwuyItyWg8hiVI6EFavjBw1mwWxNtWVmdBE4WlPMpCsR+5PGYtk3jbiivlgC/UksKr9Rqs3HrP1zkb9dAXaDmOxh21zKloVTFdbCSTimbT0CDodYq61XVsQjlM0emyqsusBSXUelJYhHkeoUdwGVtJDapQ1U+nIfboGKAWJF9Zb1E3FJK5l68p9/p8dI1L0DsRUmopKnXUNDAwSuj/kXSaUa+acrfNzoqg6Lxh1FXDXSGs6DGRA5uGqnDYUVHHQ2Yy6ZDIsgyt3u/wWKvq/Uy0lmEOI3GICJiCvZle/0SuZCLzsQc3l5ffPnr0vV/96q0//uFsR8fVvr6/bG+997vfQeEC+lw4cyYUT4USKUaNe7yf/uS/31pcfHNl5e43vsGEZHfvXh8ZeeG3v/3cl78s05+bBqlwJOq2O2Q0wby3KTmR+uzDD//mN79FSZR/61e/uvOzn/3t7bcvd3dnshmADvpMk1CcYf3heNwH3YEKFC/KvCF9Av1iPGkXExpNNJ30yX6e6J9O0eaSoH4k6vqEyqO0i9FOh8ORIP0khYkXJVEXKpIcCAv/TMVBHO+Fzp/AozjUUrRLvQx1g6FwIBgQBntxamsyGSOoeeSwjLr3upcEXfK5PbRn0wjF69FUKiAHPV4fvlBX5dkkBGKv3SEs04phiE3IobDTYkMnaTNmu4zyAXa4LDaU57yKM3EVlihHs9FL/yZax/A6mNjI45dqm33AlEwmGk+HMJGSCcxAqa6ZoR40/CXlljQg0l5WC0WbPUR14YTtxsyHumq0MlU5KCQmucg6wNw9k7Nrm9vLW9urW9tzI5PDx7rHOy8sLFxf2dle2d5ZWlkfP3tl5EjX6PnLS6trqzsouTkzOgn9a7ita7yvf3ntxtrO7tKKOJa9TUS99w+v3txY29qZHZ2iDQha3onuqZGx5e1bS6sr9w2d6FlavL7y+s6NnR2exCriVscuXAb6LN/eXb+xMdJ9kapgW+fCyOTizVuz04vTF5gP6Mq9fEATIh/QmMgHdOmJlwaPdC4trV3f2Vnf3J44x7Oeh4TX9urtnaXbuyvLa3hySw6TbETjUf8DqdjBrAzVmrtgaqwwiWwmmE3HshkmOoDqUVjC87kwji2ZeDQOQmHKYcqFeIp5yGMt2bDbZy6go6BPskcPZgKZVLwl69NbUcyiLY+GwxhchhSl0vaqBgtzqjbFMymejtCSjcsRs7ocqjXWnxiQCzMMf+0efZ4W3CoVj4cyNNoxD1GTGWuI1yoxKASzNptOJBJQ3cHX4pg+SlqslmwsEDIB9aBXEwi4ukZbsgGr01hYImM64tGSDAFNgfbX662VImkLZiF3OjKxeMJMN38prkRFJMVpDeBQVXUQNMAWZzw7Q1O3y0yvFqzzDBZJM4TdY5YiNMynhZQyuCwaS3gkF7kAcCpOYWMy2aAc8GPK0hye+uiDazMzb/3610CfjYmJj376k1QrEonkgx+93Nv77rlz7/32t+d6eoQwU9LCiSjBMZP64SM/X56YeHtn5+53vgOceu/w4Tt/+csfNjbWJydHrlzu7O4en5ho7+keuHp1dXr6j7duvfs///PG8ePgTe+98MJ7t28vjo197dvfwg3x7NwaY4fjMvMB0WcdEogm8LB8NO6CcccaI0wekSAA0Ugs4jAUoz5qESBoXeauKM3wqMtNtHs3zCjJgIggtMuiLpQstqvckPZgYEEEF4EgrIh7xvnuMIZibxQF+H65WZmIoRg3PdkimxaBNZGWNF4BXxA/TBon6nJrgjeP0waE542lU7yYQkU+L+6AbpBJZdKBFMCXSwKmRxzXxRtkb5XuZZPQZGN8lbw/2qV9PZniSb+YP7SX8/1GsqmIHILCGGnJ8OkYuMMVFCw74lXmBtvFXAIPstc0JLgbk/YDVdPxVDYD8BrpvXxzc5NbYBubizvba+s3BtvPTV8avLmzs7i1sYhXvLu7MDQ5eKRjdmRybXf3+ubm0s72+tqNkY7z4EFLU7Nrt3fntjdv7OwuDI7zKMCTPUsLi6u7u8viaOahjvM8LvD0udW1tcXXtm/s7t4HdGCynvHpCWEloqcQAz06xi9cXpycHTnTB+ihg+LRrv4T3TND49dHpq+92t7/q7aBpw9feuKVS79um+6+OnTsHNhQ/69aB1483n+0ffLi1dWZ6yMXrgDOJoQ7dv+pnvnRqeWp+cH282Ac0oESYz4D4aIeP2AYBNsqnK/MB8BaDdGgzNzM+Tz2CFzJSG3WDVE0l1SLXELFhgMaqbIuEQj7JJdeVUq9LI9BfT6jORKNgDHRdwsfhp5WBL2+CA2Z9YrzKKg7bp4Ix2SPz6hjum96IRYVe+wgMgmvWbjtiH19G5QIkbITjEOpazqgdRiM3GcJyGamxaSbLDAIi12cfkAei6qczkd5OnokxWJxkCyjzSCOzbRCiQBEZlPRSESqaSDJytVKpVURWY62ZPx+v6SrpEnoQDEjg0SeGuYwosejyqItu5fDCEucyXiAzpauumYQQEAzZpGzgtqHWVhMY2IbGMoawNosEo9imYV4gAX4HVAnmd7EZbKmP/bg2uws0eeXz68PDHpr9RFfkNtkkP8oe7g+OXX3a18DZ4k90ILqQT8DXKxMUOmGIEGY/+NHP5y9evXd//nr2+vrd1944e73v3/34YcJSb/4xVsvvHDnRz/ilR/+8O5jj9155pl3Nzb+a/1Ge2vb1771LcptNiV7/daSGkejEcs7KA/zAYHXWByWkios9QQdbgDRocldb7RWNwQj3CaX41x4oOgxob3BSggWGATM4tkqFXU+j1cAE/O0xuNxFxhBbROz0HGTniG1kVDIVtf0z3mXnB5rZV2AKi3rsl0QliYz1Go0C+JAsEilomATNY2gD4R1pd00HYssFXV+l4d1gRepRATtNhhtlfXQoeK09CeC2RQmsF15XoGqYZH/iEn4NWVQBcDLouREKTkatlfU8agvn18JjsFFv91hLSqVyutAbbgDyF38GBRVM1MdcRqQxKWTAbfbquLJiG6TJZwmlkHxZAZ76HRFJUG7i3nUsID5/VZtOeaVpKtQXI1okGoymg7ooHONn7+yvLq+urtzfXFlpKt3tJWJdMauDK7duHljY2umf5T5DI9CKeucHBhe39hcXlwZ7O4F/aGjMyBibGJx4+b04Ojw0Y6xox3jrZ3Dp3rmpmcBQ0NdF4R3dTduONh1fmlqbmZg9D56WIu8HgAaoAzNz4oxSWxdQScUJ5PhCoEJZYaPsJhiq6ZJ6Shj1QA0YzRN0Xqt1BUXRUi+Amr0R6LnNdr60BgMgDAzEa9GuCbSCE1v41xaRvTCrEPrTEExNCyMKd1/c4k+tPgU6Cy5Wos4ewDwYaUtudgocv048nlygNhoE3WhmuXqpAIeYELzcwHztgBcIKsW9EHc0EJ3RHqOOlTl6Ay+oy6uG/I1tqJSu5qnx5lpM9a6ADe5GkiIWcWMRewMoJPR+cXOsjoojOiqDVcOFOvzeNaKq6zenMOgfGMR+slkEY6qerNwYxUPUszEHdoyL01UIg8DlNN8HaaLVFUPGsV9QBoacQf0qhi0Dteh4dPUTV81NXf9JKdZW2Gkbyv9udGuo1EfEG7+tFsxyoQpJkDx3M0my738OF5N1fLYONDnzi9/eaN/MKCDgqnVFzLrUDQgGzXlplzVr3/y87deevmN2dnvf+/7hEJu5DG1hTVHyyB7kZcHD4LBfEhOPv/I40sDA3+6efOvt2/feeMNwBb+vXH79o2ZmZHunkOPPfXpaBoVpbxiP/eSMwGLk84TeNf71dbSan+M1iJ3rR79p9t6jsZpsACkIqGItaTaIKxgwL6gLxABA3Uw+BPFLPs19soGGr8hok0WsQGklnJ1PosdeBSJxiyVdcBlNGHUlUMpBqjhDgZxmoBpP/MucT9bybuEod7Pul6rne1GmEFVj3b3q7lnKuoGvH4jpg0eeZ8GbNqfpBrra7YaMDnRSo7GY5G47R2J2crq0GcLHq2wFC2GGKLsxSRBXes+NRa2QDwCHKEBO09lzVNLzISvR7vcelOXiRHAooVF0Qkdym2w4F1jmqEJI/SmQCAWjvI8ZaxMeJv7VRhA8CO/8F/DVKEc7VdjCYxFopaqOi5Cwniqz9dASQ86PeDjVsyEQoie2lRQHDBLWG+475avg/yCtgy3n1u4OsqDvVpp7oFoDwAfunsnz10dOsJ9saETXVOtnUNHOoa7LzD32BFIunBgpux3Th47yzCL47RDo/oAzdVEEnwYhEEkoZVZYE4H/YCGAStUshgIhh7QRo1+EOR6RhnTsYc1ABGe/kNfSXYLZfBhLcIQEzKKKyJOn0byM4Ab1B3into/5gPqwADR3gwyAugpKgFzEd7ixBFAD8RVUoGYMAzVXChwClhTVGLDu8c7IKxA/DjvmXOjsJgcRDnKFkCA2xZXAZXIp3CFJmeNWVsGpKcPOx2mhfkJEl5WhRtKmEzCi9qxXwMSBGXHml9sw30YJsMzeW0lVc7yGjNDewheFrGbbq9usBZXQHhwBX2279eAodgbmi2FJTQYF3LDizOyqg4k5UPDOSaQ8YCOKYpFIjTxIJBAtbmkwmeRrDqxMY/OoHu5tKTSnMQhEiODmacq80tuR8PeAZvcv2PUWE3Q7aYmKHIYYSiA1B6TVcaaXMTNVyApipmKKzGzXSB3grJ5i2sXB4Zoi3n++RsjIy7wGmB6jhbzkscfySEz9Nxc9Y8+9+U3h4beHJ/47g++73O58XR0Is/TGvAUZht4Fr0EBKpaRLAVKsrMl8as8g4MqbZCajRA76BZWsf1FiNmVJXQKTmd8dndzESRq+JuUUVtiBaZpKvZxBvmqPHXZbZSSxIgAqFFdRNAJBCEhIMaWFRleC48tbOuOSScaLxmCaq0CcUKdD6HE9AQjsfBdDDUkEBzaRUTdWdSAVlGV1ksV+1pMIB2hWhbdDCGc78KXNXrcFAHjMclvDsRAGQuY100EQSp1FbgCuTW3aCns3Uq5RXZxxmYxrrijGnWbQI4WvarLCWVAK8QKJvXTx/aHJU5V+WobZRp5ku5hZsFRg/g7jZbcSUYCllLq/Di0G2And/FZJtQoLhXy6A2DX5lAHM8JtXSvYPbo5jMtY20f7m9PN+V70h4nzSbo7E4JgyHFCsWZ2axx2pjxg+MgIjGYEO6Sr/b4zaYKFx5Wkg3QyvO9s1PTI+A1/AsZhHDdaRjrO/q9LXhIRGBIbCGlumpvv7Rnt6RI9xxh7CPUcx7Js5dGWYIGNFn7GgP4IlxoO3naNJmMWGubusYPcmY0/uIKd29yzPXwZoGThJ6GGamRLUuLo9evAbWxO15XDx19vrkzOLc/FDXeRQQTKdz9NzllaWVubFJnl2v8Kvj3dMDoysr6+NXhgYVSAISdZznSYeLK6NnL0GM7QzVY/CLYoG3aEqtzIECxCnxWqQ4fWosdLig3BJTQv5AFItSZR14iu2A1ligdTTo6bLh9dq05Zw9B3T2QiXtSypgYSYqalKQN3CEMH0fnLVNUNwIdpAfg5n+skHZXlrFFQP9gaYG+t3CzIRWETSP6tDUolC8UymfHp2h7mYt5FkIsQwTCaLzbCKf6aZCmNwHs2FPQNJWYkrhuq/BEE7FQW6DVicdMaiplftcnniGth5ng8EEBEHd6gYstnS8DEVEwL3GXFTiM0vxZJppJVweJpHBU3AEgnS8xHQ0WIE+RlC5Rj13Z1rSwrNDD70MZB79h9xCB6FzEHAkT8s0siJFKa5jqL3l9UuDwwr6bExNtTz4oA8LLIYFIOUP0j4KDQ7DVdfcd+L0nccff/f11z/7xS/RKAO9WFvNIFuPB3QgnGD+EL/dySyl1Q1hjFSSG0ChdMLdzOT/XisPj6RJOM09IGdlg7m0GmBEz7d4giYtP3PfgK+B/0ep0cQjmaTfakdPKHh04KbjHIbLVW9gggGqYEnmqEbrchiNeii0qEjHPDwdfamq6uj/IsxqUJGgZEEFtjfqMcZogsaUNM0fUkOTzyrFU4y2l5Nx5jbw+IAaoq5ws0RdepDaHE2GPeNLnLEdZEYNzT4b6/IYDyh5GFW3T6TNZV2hgtEi7jPapEY9PYNSySAeMJWKyVRsvSYL7hZMoc88uJVqY1kNz4OmpZljRYeyBqOF+Y9kYf+m+2jYxyQ+DqCtOA+Wimc6CVXdXFRKpIZeSUNSCtjkKKkxq8u8biAXD2jAT4wiBtYr75c+tHR6BugDuZyV9RgYsjb03O4G+eo/1jFDbevW0u7O8o2bE71XGVx6ontuaGJ1c2t1Z4fOhKfOkJ2c7Jmfmlvf3llbvzl28QrwiASnXYj57vbC5NzIyTPcd4dq1n1xaQla3Y0x3I1782Qwo71XVlfWFqZm7xs62b26tLL8+u7N3d2ZywOKLjbWe2Vjc2vl9s7q5uZYD89rBkVamJxZeX139fbt1evLgKrBo+2jHedurt9Yur299tru7Og4UA3VJy4P3treXdzdQXfpDQnOdrRnYe766u3d5d3dtdV1i7rUnKeylVYlaQtgPqCg0wVpBMD7jNZkS0sgm44dbKGZFsSksDQaCEWZxDsNhRaUBOshFBlIMq0VBzMBOYDF2ZKj9dqdiYMtmDrRB1p8UK2B7tqKGGQPcz2dZtptSPg+ldSkjx/MUoE/mI2Gw/bCUqi+HtkvsuQwbRCklB49FbUJgBReKlPtZD2NBtM+ld8iJQ+20KYIsU8mnZoqqNag04CGcCwRwQ19QSp9NY3xFjpVy5goD7YETDZ0hkL1QAuNlPfyEJl1FRGmrE9DqOSWDLoKPR/EJ/zRg1FuPCWDD7aEHR5bQWlExghk2W4qGTuY9TYYMQLRg5kwJDyakDNMQOOqbfQ7XRGliUSSGXDkEHpC4wLtKXTDS33iX1bHJ6h5AX0mJxMPPhgQSXkCZpssB8Mt2T0f5Uz66CuvvLWxcffb314bn2BPEolYJhMOhQP+QDrNNDo++mqzlVBITjD8IhNARe4i0QLlF/mPMJ4UKmFPJXZQ5AgNfuGYF+ZBAzyVNER/X1GXraQBYQyIweiJlEBgGfRQz9LKG6CbcioSEwEQePyWDC0493In8TEP0myMJiJiADkZ8GoeyNIDWHhR+1PCCH0Q1dE95YR+8cjZDN5ynE7PfC62LupyVgBrhBe1n7ahJN4sRpt2ImHsx8CC0GEOg7+gDHrCG2IQWrKYD8JmTHN1UOiJ6F6k5e/Dgg9GlXHCWKiUvS3UBZrgYfFOhfHIz3HDkGLaMMUKJhX6zGLsXhqqK0YMN8QVWqnwPRoDXUsx20zSJ54ijvcL1hmOBEX+I7qGZjHuMfBNEc5C4AviVWLmSK6Jvmvru9urG1sLtzYWdrbXNzbHOs7PgE+8/tryxtbyzU0AxeLkLNFA2JuXbm0ubm/f2Nic6LrYf6xrbnFp5fbu4q2N9ddug0NBmxs6dW51dX3p9s7C7vb6rU06KB5pH+rpxfeVne0bt3d4NvzIxatLK2v0pz51Zlzs1YNHTY+OL6/fmLk2Ar0JV5iKsfvCwsLi0ur6xPmr0AMZg3+sa+LywMrNm4szCwCjweM8SGj0xNmZiZmVjc35YdIiBQUnzlxaWF2le+XFARAEG5Pm6px6E1aDiA9rdbWB2kcxlC+f24OpxvQ9qlLhvKMDTaCQJxK+JrNBHGMiHSjxmCWMXSQUcVXwSFkaX3RVYS+Dy3wer8SU3cyfAuLjZ5aptFfPHXeqeFjD7a54Jgt6D+6KK9D87eV1ERDblmwgwOREqAvy5W428lQsCIPFgZUfrYCB+z0+zi2wmEajifnDdaAY0XAUFwN0IK5DXQCix2LDU0SzGdnlJW/HxZJK3BxXMBGZsUHkIXLWNzNoAzAajzprmugKpCaLocSipI+GZBN6WFEXCkfizDXD1OjWojJzQTF4HIkDhEGcOASV0wY6HeQqB1EMxKIMys3XAcchP7iS/JcHVyYn3wT3ee65jfGJzL98LJhOJZJpkA6DphTaHA2cmI7p9JGXX35rc1NJGv/Vb39L7LKl5UiEB8uUVPm9PMmaAoDF3+UxlXJljodBENJBLOCppNdkA8nH2g6BAQRACKEgKCyGnkECgyhLQdlWVQdCh4XaB6DnbhczB+JhZQwyBYNsAtXBJpwNdB3A81K88d4jjG71iwNLfWmxRQUZ9gfokAU1RmAQwDqYTUG98ugtwuhLLACC4D4ug1l2YpqlURcPwi4FQy69GSNAmKAjNeqm/Q6X22wDYAknINRlyItksoCwEEmVi2grGPI0mkDKZDwFIYPLakByuU1WbmbhVmgdy0As4TCYcR3jBvhmFAhUQn8Aowe6Sm4iFhi04jNKrgba5sX5vexeNBS21zZhYCEvAUa3JUHMA5LTVlIdsLtQF1fINOMxR00TbUwBkRSJlmn6T5qLKxTXKsxJFkvGXQ0GzEBnA5P/4v4YsQCDb6sGT3bPjIwvbm+ubm5DhGeuDQ8e57k616fml3Z2VnZ2lueXxrp6AUBQm+avL67t7AKtJvpHoCExauzMpWVAye7u/Pz10c7zLHa0e/LC1YUb62sbm3NXRqAeCRt298SV4eVbG4sLi/cxPWJr18iJs9TuRKwqdDkgC9MsMn0PUKZz8ISwJbd2DJ/sHjt1hrocrUKKLtc12t47fOIMWNI4biUawGeio1e4NYK/kXTRmnX6LN0d2zqlv+cD0jmKa6jPQ4+lTYRaCaQXNBLQA6WM5p4DtIlAhh0lPLMNteideEBnydO5Suus1FBou1VMRcAsT1UjvjOLQgGVNaj69pJqV3k9jSnC8GTN0zBTVLXeVlzNrDrQPgqYjgC38tbpaZzOY+oDtG7IU7sq6ry10G4AcHt5W0wAlwYTAMucQ5BiZ0QG6KDeSnUJ30WGBBPqAvsaTbRkiQcRZr8S6DuuGhomuE9XwFw/oFpByengQYwqS6GGeYjAyPTmoEmy0pCssRRoLbRVV2DCuZh2mro6PaRFaudQIAAivWePRDGeY+WUvT50SXhFirQypTXxWGx5bFxBn5uDw+6SaoYdhMMuMDvaCDRW9ERTDnBpfeF35D7i6K7vPfQFTGgU83s86IAFpFKkUvbZ7LFkgqdCMkMAE+7YSniEfzQu3O1ww1wN7Rpgc8m4HAraS6tp6chRW6Eker1hrOfQLtWlxlwVyKazVg8UZsIdoQzioqVA57c5oCZDdcISwkbRRFl1WJbpGBHgwV4m2mI0Xp4xCa0kIVzpSo37ioDgDLlC3USMaZtyaRiikhiGNpSWxflcpn1q2uOErw34V8Dthdqi5E5iim4iThydwVDTNFvbiG7QxycctVc0WPZxBNwWG2PuQXDcPtZFu9oy2ecjfUvEvXQHE+3WUDklVef57g3mfcww7zYwWAR1A+KkFkOOikGLDjeuhDGA9c0fPi/UXgKrj+mZaA7P0WB4USaSjGOGGMVbwwzxGC2g0kGZXq8k/hjqwmJMA2hwyq6uOY9GNKxPgWAAmqyjvBYz33xAg4v28loobvSww9qcp6HAtp6eujIIpWniwhWwlZHjHYzeauuaGhi9PjZFStHWPnasc6itnVrYtbHJ89eGjwif6RM0FY20n5u9OgwGM9KKuuQoPGS14/ykSLaB/yq2Y57k3gHcOHsfN7naugZRs1XJB0QQIb60dQ4d7qD5RvhT05AMZMFNaZcSGT1EBnvWPdwOfEFdAg1drXtQa+hVdhrFPqyLfgwdOS12wQgigAOeLJrD3Fr2PCIIDcn4yxnDLF/EGm5miWQ94pXQpkMQoZHYlkMTGqagkGSUVDaVMKZM7QqgwQdEiTZdITYALIKUIvYQD8wtiKvSCnMJsQkjLbvM7SLqCp9pKIb53Kwhcol8QAzgEgFlgCS0yHsyL73aUlRKOcRL/YdcQphYNAqie+J5iTtK1l5gpXhevHXuv4j85IAeYA1HIEdrVJdxo3Q/8xApdTFQ4ImYWLgh749iTO+iBcxB1Jkev4AgjtlsK69hsnSIEy3x9P+2ayuXR8fe/NWv7zz77M2hYR/gOEfNEy8kp15dYslVAXDx1M05qpefeuZtcB+BPt//zJcwvIZ8XdjllRqaDNBexWYlBbWiJh6OmEoqzfuLnIJCNuVpmBs7ENQXChs/ur2fp1NEo1Gf5DCgz8JVAoLqNJpi2bSzngEBHGpxskUoEAS5oPEbF/Gw+4us1fWMGg0E8FLwyHiPeF9+hzPaknZbJQNwgW+WjukRkaVMqmlELVBI/GUeVch8JGrRVDAfUI7acEArbHwZkBduMmLm4CnKa2hES6cdzSZ0zJ6j0eeo3GYrfX/ocVZjofFbrS/S0YE4k/Z5fIYDOjujPYqU3EmgHq5mM+pKueqm3EK3xSLsgzFLcTXqol2exy3COPxOj1HkXQIqmUuroiKe3lGnx2Ciz8y40mCg+qnkMNqP52VskM8mQVUEYOE7npf5ngpLwoFALMax4kXIwv4ic0lFLB7zSA49oF+MM00NdY14Oms5g1EwpLiI98vMai6vXqxhlJE8rSFPC6x3cPQw2YonoP1ARTrVMzs4KqLA2kfFZha3xjrOTwBEDp8GZRkVyMJdsFNnB6AbtQIKlBgLujgPnugBR+EWGPGEiaIHKPvt+AIcULbGRtq6ARG4eB80qf6TPbPXRibOXR4QGRFxo0GQl57euaGJoY5zI20d47xRd//xTkDjzODotRN0BMDFoaMdA6fPXB+ZnLh47dpRWsJprm6ll+TC5OxY10UBTCRW1453zQyMLIxN9Z8+A5FwEG61RhAHh8vVZOBJ+xgjcWAAPWg8AdprFLHP0xkKuVMYEslTeEoEBBKYUlwV8Pl8RgsBAsXIpzS0TAdke3UDAYIb5Drggs/uCLuhBzF9D96EDcJQzgznfstePiBBUrhcR8IRKCyoy02HPEaKBjyeaCAo4WUrQpXD/ddIJCxTD2JSHlS35hfzgOAEXU6IBSymtYGwYLVRfDqwUnEVYpRpJB5lCmFtmfEANESt40BJkGfXJLEac6U6wBM1pBLFcB5zVzM9PgAOf6mxp5iHCKxbD96BOaQqx9INDdEDNlEIqCUc26saw7EYiDrUVXZP8CnuuL/wArjPrdExT0kNigHLQsrqGghatEwSAEXv5aefe2d7e4/7fO5hpi4rKmWEfTalLLkGxp2oaTiPxqChhCJRB54uRwX12W9xQBuSodH4fGYtg2Cl0mo5FApmqJQFrQ4jj1HXuI1CbYRqkEh6oFBjYdBURD0Mm6SSEo7wcIsctau+GQoIrctQN3x+M9hcQbHPAU4k7CbJlN9iB4WRymqhM/nBiaAPxqBW6PGwXoOgXWglleKp06V1aCLi8aGJgJL/yOXW68oceI/RyF7dZNJjtEKx9ZuZ+BWqH/WUKHTYBiuPHvPRMzsRjydTiu+Ys6YRwOrP0AwEDcsFhVpd5gUnAnWCzgW1ESPDGKOqMFBPtBuHIuZyG3RlPNcgItrF8yYSLj0UeZ1Pb6aylhAOPqGQVFbDPEQuJkWicxANyQ4CcUlVlKckMU0SlFCe+KQclBCJ4grH3+42FpXo8zWeJlMMCl06FcS0rG027VdDiPxWCbyVzlZQnFUlNgCTqszv9uL9JjB6jQZ9vnYERKS7d2lxZXlnZ+76EugMRJiBXeeuLq3fWN3YmLoyBMQh32ntmL40uHrjxuL8wnDn+X7QEUFlpgdHV9dvTF8dEqkReQVsiM5B03M8aIxJgoA+HcOnzy2NzgBP7hs60b04M0/T8ubWxKV+UCPg2fiZvtWbN5df21leXRvpOs8UHm2di0PjazvbK7vbS1NzUMp4l/azK9eXV3d317e2oS4KT5+Oib5+uift7izeujl6tg9Noh/XJ6ZXd2jVXr6+ZFJzV0gqrsKEw6KE9ZCplIWIAoyYYbuFOdudtY3AIFNhsex0R7NplAyHwtAsuB5W1EZjMWi53LdyuOw8tVbrtliZgj6TAsNnkD1ASlMGiWU2eEhLLGorqwKP5d4WXlWGmYNCXp/9QIkpX+O225PQmbHkHkwHMBcJcBXhkMy059lUKBV3VjWAjzibjfTxE8UiQZl+Q4XFXp+XBlraHTNQpgCsIM+YoHEhVJFU0l3TiPWQsofnwsUsFuewSHZV7A/QPRoCSXuq0wMFRKquiyUgJwyMDrek3HoT8MIvsvmhWDCbwq9MXaYtg2YUTWfovJ/JAnYxpSCBWPmjSWGVPJiGomQuKnnxhRfe6O8H+mxOTz/44MecdXoruidWfmG4zWA1tpTXvPrc8x+iz2NPPwVNxFRVQydJ2he4W4SxxfpJEz6fKyXcglPARKfJHHJ7afqlXTYezSRRS9IbALXoDPAimErQIO0NeJ0uui8Li6kXwJROU1eKRPDK0ARKRvHU8bjH56WDOI2y+HAPSI5FAyE5jmHnQaYU8kg6xVQD8XiEeMFcGcARKjXREPQODJTMuiKlBt41H5YGbFzEXxQLJaAWcS+J40DJT+C1BlJMioT70J4CdgPcJExQYtEuDcwoie80KTIKDK2LusIWxs0Emr0JSbiOumgFCwbtNTQVsdu4W4KbYoSVmEhsRB/IpD8RDhPLlJJM2RNIxgJRvFzaxXBPWrgwvKEQaNOH+Z4Ar1E8ji/AGZWk3SoIeMU4B2S/x8s5xlaYbgV98NrsYZ+fk5l5RfCO0sFgwNrQxMy/tPfT6xLvyGuWJvqurd28tby1ff3W5srWzurajZGeizP9Iytb2ysbW8vM9bM9NzIBMZ8dnVje2V7a3Fze2Vq+cWOss3fgeNf87Oza9vbi1tbi7Z35kYnRIx1Dp88sXV9c39pC4dXVdaBbPxSx7t7VlTVAxPr2jsgHNDq1uo3GboIEQfOCAjXc1bu8uHJje2dx7vro6XPgO7g+c7F/eXNjdWtnbnhy8HjXeGvnyMkz89NzKzu7qzc3pi72i7qd4+cur6zeWN3Z4aZ7Zy9dA451gTetbm2ubG8vTMxyuYYOoqmQsfSJFDyuJhP0BazqQAcsfeGD2ZgcgXYKYaY2a3NgyLid4fZDcQBOcWM+IMey2Wgq5TJZLaBOeVqIH1mxiNjgSYS5GmtRiSwSgEdQ0hOAUoOLdlorIryS5hHyIqcqMy5iWjDHSiLhxkIK3qEqg1wBpJhmDKyqlEGqjhou/iiGugGH21ZUBvbkt9rpGYxWUkkvkxNpbTyKi8Q7nMmIlaoOBMpZ3xxF97jlScGzqctp6ZCY0F7OZKKptN8oQTuzlVZCH2HG8r08RI0gbh5mUKe9M4Ib+mRJU8k8RDwplBt8NDRKLqh+jsqacBTyDPgGTpFimApLmFb1C194609/+vhnH4LM2svqLLrKsD+IIVVi0LFKv/izR9/e3FLQ59Enn4AMYEmAYhiwO7kdTtlO8Siher1UWQ/SAfmnNKJuMOiorvcwXzVgmnFPYGRBtwePTEOyAE1lW9prsDqajLE4c4NB0nAHYLTLYAk4eN4ZilF6gcV+2aO3hNAGMJ1bQgKnHB6v5BCmGRqhsbDjNfmtTtkbxLBT5iGQmCGhSMDqAAHEmKB7SkK1kC/g83ix3ih1yRQg5y6vHGL4FYqhOoAG4xZwu4U5iQxI4AWeLuzn1jXqcuMpiJ/AKZgKOsIbgiglmNWMRmufH7RLbOfxhrSgy+EA3RroTCCAgJ7KmPChMOqmCd/xeECkQJRdHjmJPvOGgVQcIxP2AURoxgoJrKHxG5TW7uIhkcwHxFb4luWw12QDnwKC80HQOmDU4XZbJM40YB+AlRmRotBJoSCLLV2RFhLTxuUFN8c7wkvkDUWomrvRyHyGyyvLAJENSuvywtJox/mp3msr6zeWtreWtzbWb92avjoMOjJ7bXjtFsM1wJWWF5bH2s8PH+2cHRlf3eKV1Y3NGZHNY/hEz+LkLNAHKLE0tzTUcZ5OQ+3nri8sLu/urt7ahApGV+uJ85fJdPbyAfXgytDps9O91xSDDl2MjnVDuxs/d2ny4jWFbtH3Edrd8a7pSwMjZy7iV2pbUN/AjDrPz10bHjklbNgiHh8sbqL36tTlQehiwBpaOvJ1oA/+ZrOtqp5qOUCEge9qrM9+cBANE3FT28rnqXLu2mafwQpxojFYmD+w4AfNklPJByROeqSWVFELTU0qrcF3q7CwQGtw6k1Bs13JB4R2qZVoyqBDOcW5zNCNUReahVRdT2NHOcHCxlxCPNwSmhEgzEwzOdU3kBFIr+z2QkgsuVS+LOLcRIALj6Cqoeon1EbmEvI6HMwlJGL9cRHF8GiYqR6TjW6WdOCmdcnVZAyFwjx1Oo+ukqJuqc8lIul1VP2gD9IyVVEPzA3aXNbCMpPY9QPSuQwmkCnMGwwRNbVcNbQVaKZhWWZgNKhTVdMH771394c/7Dp+IujymngGA81hloISgC/kCtjxux///O2NPbvPI488Eo1E3Aw9YUZk3MEF7INQBYLWUh7ZSE6qLQ+Is678dhdwEN1GJ6GVyNEICIXHYOEGQo7aWKhzW6HRpCLhKPQdY66ag1xeS8MqxNgXYBaEHJWR6M8zzmKJlNfuAjs271PRVg3tMiXC2WhtpQnMXosVmw7EIML2qnrUxTv1YoEBFwDT8frNxZVU/coYCUy4wdNJzFSP7tn1RgAoLobiMSxUJgw1mnAxkT4+jGgvqwE7xhwA9kHacdHrgpZdotibY8K9APTEYzDTU19Laz3JF2iLyJ0Eykx7M7on1Ci/y21Wl9LObbbGBU0D9XAbTJzSmvIgtFo8hdJuOdu1VdYBckU6gaTH4bAWFptymbMJRIl9BvTX6Y05asx/rFhACjwybgLdmZm8iyuhpQpOGncZaJmGDsvTQfAkwLKADF0YY0WPMLGzFk3GvRaJ72i/eEdAKzwIlN/KWlOuGggwcKqHW+xAkPHpIdqCO2hI6bgwv7i4sro2deYKvaKP0wA0du7K4tLq7PiMiESFXtY91NoJDrW0sDh+/qridkgb8bGuqaHR+dEp2oZAZRh60Tl4ont2YHTs/JX76LN4tGv41dPCCE0v6eFjPQJc9vIBAUGGTijWo67B1tNDh0+x/HFmt2f/gF+vngKq7dXlma3UzvoPn0RdfB860TkhjkkcOHJ6+NAp3AfQQAONYoK9lw+IVmRuZokUOfcXASzswt6s5APSYwT3FdHA9g9hHB/mA+L+FJQXseNjEKcM09YjDKv41bRfhTmtoI/yofl2v4r2TkIhc/qYCrWmXFGMnWFd/s3TWvar6FCfi2IlKIkPJTBHeNnje6EAEeYeV4EfMR4CPSlQcgkx5TMKQ8Ac+SUuwA3glTZysUlB8GVdNERbeD4gRs1MLniEAhEpgpIiJgP/dbAzWjNzlYv4A8EK0WfLAY0hTyUVlipO9Hxedk8NUmYrLNHnqtEZR772nddfv/OLXxz+7e9pNNlPR236eeeKfMAlNS/88Gcfcp8fPPRFaHZ0icDj8F0wCzoGyl7dCMiWMNcLhPmfXuMlzByWyyT8piIOCxMSVdZCtvHu8C5MRVopV4N34bXY7RUNpn0qSyGH1IIR1lQE/QGTuswkMiUBNw33FwJJg06PAbDFOBithJd4QCeHwm69xfiRQtyQ0Pz/CgHxIAXWshruOmGc85j/iPm9QmFTQYmyfWbeVwQUBmgG7G7MLpFbR2v6SCHWIeY/qtcb9hVyh3S/Sn9AFwjK8VjMrqkw7mdeHtP9hdbKOqr23gDGx5SvsuYzOZELKvDBDLAVXbWKzSNDUYkPWhJYQ0mtcV8h2sVtpdpGRQkycKODdZv3F3nsjsjBNE/+E3WtTC8n6t7LB4S5x5+q6si5PH68YnM+poTW/P8KmbMpm4bWjHYxyMC+5jy13+sF1PPQRDyvyPdkKioFWfZYJPYhn5PQjLdQXhuORo0lzCmOscLsMv+/IoCaT7JjnlMECpkhH+/XY5bEzmAR3hH3rVo7+skqBoePQKHpUHbAh45wz2u0/fy11vaRY5To0eNi56qtm6e6M8sqd5wg3QOtp+n+I2I4cDfUZfj74dP9h0+Dyii26rGjPCpj4NXTaELJB9Qx0dU7dOosg7+4BQYEYeTEOHgNXXu420UWcxTK2/mJnl5wHIFHe0bvqTOXRtrPsa5gQDy441TPRO+VgRNdygmtw+grwKjnIlQ8bsPnF9uBIECfAzpvdRP0KWGmFVtUtEqWuRsMtoJSyDCGEq8WK5ijqt5VK46doKTR4gPw9kEjYD4gjjgmtxUTurjCa7DYVOWU4ULeEHDmqGuCCsNl/14+IHNRSaDJaK+sM+Rzz8uO6zSaVnms1DuwmqFRMCPqXM0Gr8mKyS0YENoF8yoF81I2mx0MJUMx5hLy2514EAYl3Msl5DSYmHm3sBSLDzfacFt1WVByOBv1RCWAGmAIC11VPZZihlMoYg/Uw2JlNAckekLRJwCzOU9l0lWAqzNnPu6cQ/Ay5qtdNQ2gVJAZ3IfwjYaw6lol2emWwNrEGcR/WF27+/DDry0t+802xZ+bcWTgHQ2GI7954e2tPbvPDz77MB5Ndrihs5gZ26FRchiBn8aDYdq2CkW0Gh9N5xPHjblE5hpGwOCt6SoiXj+Dfnk2kcaO/mD0Grm/HvD4sexjdUV1W2Gp1+WGegidEW+chDdH5eD6L9OK3GjEBDCBfIHzmkSgKXP11zCNDviOjsgFlRBKEJM9Qvxy1R5xoBsDR0W8AgBOArlzuakiRWPu+mZl+x8qIdU66EEB2Ykb5nCF8xltUJfkNM3SJk0Z8/KoywEBNA/F4z4DtGmuFs7aJrBCEJZQhOf8oC5eU8BsV7bwg14wkXLLviIGdjJtPrShOIgP3gWDsMSpquRZ4bCjugF18Qq8VtZFu36PF3XRLhBQ9gWEFraXD4h1q0jH0JmILGMQuFufq/E0m2hoSyahUoGh43kdBaV+h4tqKVStmkaOM1ZlnaBFUOJcXmabxzjvV7tAosGz4lEn1olcNdMi4x2BvEdjjG7BCOSpQTvAWWaGx1du3Ji+NgLuAxmnaeV4z/zkzNL84ghUrdb20WMdQ22nBzvPLU7NTdP42zEhAj9JRLp7ZyemRzouoC7B62jX6OGO0fOXpi72c1scZQhABJOJs5fGTp+/b/B419Tg8MrGrcWlJWAEGgNzGe44tzC7sLq1OTc1O8xTx8CduicuXltdv4GSk/3De/btkz0z1PqY1wPamfA7oofS0sLS6s7W/NwCujvWRk1t8vLg6o2bK1tbU8PjYo9JB47qcdgjLclwLOqsbqBKgglaTneSWDYb9DEfEC6a6BDIrZNINu0VVlXKAPmzK6rkA6rXA8twEbQ8Eo7EWrIhOcwj5YAghaUu0718QA4XWlQMNLLPGzkI3h4HMHHvCWyL7hUxuq6Go1IlQ9UBHJwozAeUgaoMAaP8lFaFgiJ6OM19EyUalmKGZTSbxSrkqGlimHtRmXAPo0tryC+i0nM1Unl1KCSLvA1pr4VnFZjzi7Esx3n8aZapUeuaQbUsIg8R7Q6oK4s8RCBlWB7D9HmNZlJehsgzktZjsmIF5nIN3t4AYNJZtZUhrz8kPGupp1TUQcXrfPXwe7/5zTs9Pae7OgNeL48kKyzx2hytL73MfBpAnw8++P7nviwJRx42mkkzFKOe3k/MxAQUSDOrvxwM2ourzapyn8cnjO5sxUfvmzJwHHB4WiLS9P3HyPDsB+hfqJjAxQx+dVY2WEqrwTiE4Zyex7I3YNdVuZoMoRSttiHREBiTraTK72QkQVh4jUOe3Vgt6poAebStxJM0f4TDzromHoyjGHeEXSPg9kn1zQEazpn/KEgbeRLdsBvN0KEYSQ8dh3eIOY1m4CDzKAnHZVxkoInRQj1IyZ2k5OVxuV02u9DIWBediScSbkkC6DCrhrBb0ZaPzpisgCfeJ54KJVNxDILH47BJgFrFIk47Dh7EKlFBRv9REQ+CUQXCmq3U3dgxthtJpwCgToyeYghPJOhGBNTAeubgpKJShlHNZOg6WNccCNJiGMHzovV0wqc3Q1eVY1EMYFR4actyyFZeKw5HofmMZqB0kgdPq8r5jmjj48Gq9A8qqxk6dWZudn59a3t5c2txZ3tudAocZ6zr4vXF5VWRIWhxdW3sbB83y871iXxAOyvbW9Mj40CW4dbOsd6ryzdu8ETl5fXRHgBCN3HjytDyxgZKzg5PDAiWNHysa2ZodHV7Y3l55b7BU2eXFpeWX9tZ39mZoXkJtKp9/MLl9U2RD2h9Y6y7D8gydLTr+ujU6u2dldu3l+eWBsHHWrtAyVZEXg/UZfoPqovt05cH1oUZ/MbGNsPSjtAIvTQ9T8ft2+jZ6t93wWKxwAPpf8wH5NWbEpia2TSmuKtGeGQVFkd46G1mLx9QsZIPqDaeigez6Xg2G3Z6mXcyT+ODrn4wE8imEpmMt5Hpe7BOYk3mFlgmnYwnrWVQhtXu6sY4Fp+scLT3BhhXna8NSI5oS9afSSWyLX6zg6xKVxGPRkMtfDexdNpR0wji6m7SJ7LcBaOpW45Y1eWoK3s8sZYMgyRasgHJhfUfIhSPx3jYQDrFB6nXo64HYtCSpiEzQ0d4C3hfoS7s88eYJCjJSAunzwgoLKtJJPFonLj4ia50+xkCwjPvIaV8kLi1pNqoLolC0rIZP+pmW6Ie2ZSvc1bVJ9G3NM2lkZYWEeStiQeCf9zcuPuNb7x95cr1iYlHv//Db3z6s1fOn39nd1c5QPmJXzxmVJUBwsQ+IO2vvK3dpVeXht0+9MGfZDL8VDrtrjdYymuZvwZzHX8zmXg8Ya6o9ZslZnFK0f6KukycUsHj/MXWGPeD8KvXLNmbjDEgI1NqJIFKsWTK3WSWXV4AumJIpsyEaZkWLjY82zogbhjyBgBJwF/eDcKcgoTTTTnEY3C4SSdzfyodR3kXt73DAkTE5lEKmBIUe3khUQx3YFgDVpFYFOBFBiR2lJiXC0CC50oBlcTT0SWaifTxvlAMQIC6WHjCwEHFBZFXROQXZDgapWUX9Ad1cSu0iy7F6Si01wRXUKy1e3VpM8ZH1A0J9FGSqCkbXpFoLAQ+Q5xCMVrimYteDqIVpc+sjrFKJIG5eN5/+/inDn3/2U9/8rNY8DD4jCzDnE+JiA2AZopRr0GPjwel0hrFhPbRQMhaURdl8j/uggUzyUQ65W40Dp+5uH7jJtPRb2ws7+6sXF8dPn5mEsxjaxPsYWlza2VnZ/rK8NCr7VPXhtd4eMYW97uvL42e4KkYgJX17e3lnS38NAklrpW5n+fHptd3dld3dhfnFgdP9YDiDJ/sWZybW7u9vb65cR/oyfDps9eHJ8f7+vuFvw8VuaMdY+cvLU7MDHf3KmrUqMgHND04tjA8NXTyLOjPxNEecKqhzvPLPIFnmLmEmKaDCt1439XrcwsTZ6lwUX072tl/umdhbGppcm6o/RxoiD0ffF5HvwaXz2tgPiDoBVAfQL9dDc0RfwB8Fd+ZDyhXK7Lb7uUDQi1aHKA6AYP8IZ/NoVeVQl3CB2ozhDwUjYBhQk9hZg/a/Mp4LmiQJ7tD77CJPEQgtwk57HO4DZoyhqqTfPFcsEiMpzKREwkjjqStJKkOMwSBvYXWc0Bjr28GDsoevxHKmqhLW7XkYG4Xow3EBMWomJSAK8nRaNRZ1USbMetqHU3GRDwh+4PQzEHuqKkVlfqcLsx1n9VpKSgFn0LP7cK9hTaCGh7shf6QjBgsCZCOgGwurRbtMg9RwO2JZxicYSniIGBgJXClaCQOTtRkRi06TBdov/zZz7/95z/fffbZu9/85l+6e/565eqbzz139ytf+eCDD37+05+Dc0k5UMp0oA/xWDyeTrnMVtMBrT2HBiOPZI/TuS5sE4dJgVKBlAHWQeX+KYdRQuQw8pClFkOxsmhKA0yTlAIWU+tk3hW1o7oeK234YJq22/JaKAtUpa0SloRoNgWCZtaWQxXF6AUCAcBHHLqVWTIU0nzmajRQ6wENjCVcdQbmytCUyw4PBAwCDO2MhuQcKhp4ZRhS7nC7qMYy1o/7dFz/6SFltDQf0GIBiIr8R3TIoG7VQLVUxNZjgYnQ/8iLRchUVCKOAxCJDTMpjIaxqIQjIEzp0I+Yl6ehGe+InuUAHSJIUpYDeAQ6FjGxEYPdABxKXRtersjuiLpYgKnL8/gwhkQEMqwbQLvQ6aBIWiRunGVEnw0WPaa9riKEJQF4B1wTvIaLcVlt6w9+2f/0iZ5fvOy32jCeWHWgFkDVkg9mghCH6ka6+xYU+8y2BFY1vCOGEJfa9qutYquEgx+OWGsa0BNmX+1gqvkbG5tTUzNDJ89B0nlkaU/f7PLS0voN5Rj4YeEJDaVn9frSwtj04Kkzg8JKg5KTfdeWZufHzl8eVGT/WOe1E4xsnxsYHzjZI2ItxNmHJ7pnLw2OnbvEfEC4SiOTOJUQH9yIhpu9fED8/qHFZ6i1Y+hIhwCavRwdzAeEi2ILjGVoeWLQBkoOCORSqqMJgBqK4YaKEzAUaZpUxFYL0EdSbEAHmDcAwq8XJlVJZNWwYO7S2VcHDYX/LRAHVAjJJB7d86KGpOFWuA/+4la0ztCgywQUtPKKnxRrN6QI5SHtQB+lrrlAi85AnRZ1aS5FQ8SCvGJbQYk5Fy0WM3gNfQCxUpcTaIQ3My0jdAvUOIvKiXqiXVwXPSmxQc8SeYtQl0dW5mgtukooUCSAoieoi1pOTRXdoFiXtnlMIKmwVNJUQCTwCEpdSw7wGhpQKbPqiLqAVwClo6QGWEbvahrCinnEo6bCUcywFdpE0OdcuiOGLfYLx0/evXv37dm5O4uL72xsbE1Offlf/t0qtEhmNckvhpADphm2ju5hwDHO+Rp8d1U1WEoqIdvi0YSdW1sO7dXI4VUL2xPT8tsq6+jzxtHWWAs5JrizT6QfgZwoCwzNUsBNg5XxN4yDIZIy5KVRD/HgqSeYDAVolOnrGaHS0Ew2ytfEnTVHWa3s9pkINBq8GimXu5wuvTlodzcXYsxF3u5ctUldBqSGiioyXdBX3rJfA0INemWtaQQ1tmM8Rf4jv8MdYf4jWsRt3D9SWbAoRiJ0ocrTGPMZr4C20EQ4mbDXNlty6NKNVwB6SHgNRcTRzColrEGqqIN+F3C5MPKGfBWaxmzBygGS4qjT068dkyFH08ycJN64HMZkMIp28bwMNImEPZJEoeDBAcx25KxV+tzAbVCxwACGPCZbyOk1FmGuMu4Hz3vqB78CAPU+dtjETM/3ckWVVAaMNu4mi30VXOe8qmlw1+sxryBimBt4v5y6pTUWFKPfb7EAEe5nTXUyxxj0npHjPcAEQsGJnjEwDyhfICgnIe8U52snQTg6x1sJKMQNlG/tgPgPHKOZeEK4PgMugFkABOIGIyWIG/jOuI1WJSn9UQFp4q9AEGFdFvmARloFsIk6NGILMxJKEmUEshBTjotD5bnBJgIvAGdAnFNnlbqDJwBq1NeGTvSIfECdEB6OCOFDZVP9Yz4gsBjKoV3NfED4L8gFZRKvragESxnGiGUYr8BDShmdBMnhQk0QsYvUX9DRgFOYspBkKZ/YwR0cXSUEEsLMVoSuZyvFAsWjbFERH+bxKdBJ5TUWyInoDPMBcdO9wlFKYSaycCuBcIliPJMeVWjnLnbkaEyqYmt1nQIKeK/gd9zLKKt0VNSyz2IjDz+RfFXXY30Da1Dwwr5fY1aXSHWN1gIe8cw+iLrQFl10gxJoKPpsOlDsrGuCcocZzEE4UCztp8He0aC3FJby5kU865n4WFnrrGnAoIlBIL6QAjTqbeXVLk3FF9Mf/fHDX/+ES7boymjS5uH67DNmLWd5TYOnwUBEY1CeOCOgoNSjtzCuFcUgyXhrGPDSKq9FwuRmhjMBQOiqs6HZywQ3lBM+L+qqynxWBwmpWANEXbWtoibgZA4KSAvqQiaxingMFmivtG3h2bG65Io0YF6/mzmMMHSiLgCrpj4kByUmnxe7n7laLOwuqxTyBYjswnWe+wBMZRnx2l2YDzxFjnnatA69CaTS0WAQUsqBMqlKfV4v1Dhuq3EvksJsq22SE3Gf2239p/xHySSjLoApkF50Ui2ixmJRa2UdDbpYDnPUUnUDlEfwOE5XlIHMA4LNtijqKqFbGFVRN+jzQZ9S2sUqC2ziGdPRqN/l4kxDGRGj42w2hmMxG7PZi83ZXC0w2i3Zw16/Gasgiokh/UL44OUnjn7v4w8Ta/BoWFTwU0V1wOG0FlcCuEWoDeMi+X7B8YWUgd46crmEO2oaJG0FN0kKdJDfsdZORlecYSwnIQOyLAScTII5MMRekyL7ABF8gACijLjI5GLEmtZOFBsC0BxjnkKAFC4SngTFESwHFztQ9z5ucp3pW15YmhkZB4yNAUdw62Nd0KpWFlcmLg2gDbSNi0yCPzW7vLA43NOLArzY1jl2/srK0sr8OPQyoJqoe6JnZmh8be3mFHRF0RLoz0jHhcW56ytLq6NnL2G55qYgSH5tYywcBYuGIGHZtOHih/mAmIKHXjZ4E9DUoApFwhEaYsSeNBQEF0km8wFJ4MnQtvJFPiC7E0zbb5agkuBFkjSV14ZDIZS01zXRz5h5iHSeZmMUerU/aMfyhTeB62DLUIWyab/0/23vvb8jT447wfk7TjPdDTQaKBQKQMH78t57B9M9pIZDUqJ04sqRFFe7S4oaihJFSUuKEkU/5LSfNjDtfcN779rB9oxImfvhNKPle3efT+S3CmhDiafT7rv3TvW+r963sjLSREZERkRmRroFllTrkN0ZyXQGtjHUEDTPcbhCfKtZ2CA2Yz0sQRAZpFsoEOCNqS6fDRM76uURecaWh/odANViqkGBDAflgGGPjjjqGgmLAuUCjFhPJ1Rre7kRLQRJ+Rpa42nehwdNAfVyIbkUhoAL1laSJ/ibqe+AyavqY+EofUOwPhiGjV0LNJlhBcRh2FscMIU4M5ca0LWUBDPhQUf0F7Yt7xGOJbq7YCc6DXUQGSY0r53O/mRnZ8jlhWBColU2raQ6u4iENjMX0Yr1LjQvkUh1MYaRs4YxjKwMBetJZRmSGXO7VU7/8yhGKJLo5IZPKCPAMx5PczuaEe3uTCRTbtltBPs65OLhcjrsYSlXQqHQuasbgSU6y2SPJU97HmYUpyRsGd7Vk4a9A5OWZ0f9IZSPEYERoWLceBpbuUc5x8DSYX/QUV5Lj7jdCXzGs3QtM3RZid5WWQfsMVuW+6FhCoEt3eJ05wafTsa0denrIUP9XoagVX5uEJip1ADsJaIxmEv0N2XSgLIUV0h0C27kIWwk4qog7DOxkxzujiMVMN9A81JvmkdPpV6MCyQXLDXYXDFfgFGlMBxoM2DRHol2ANqA4gmhjKJgcsYjkJt1QKCTFM4wBuig3+ZkJKxD5UACOhXv7ozHExwjkFCx3t9uBdmDisJ29oJb6g7zRg1gPslLDerNxTpIg5Hzlxdm5h5tbs2PTnGfDdic/Ht1ZWFpbW199PJNBgiDNACzi9yYG51U6o9weu/4jduLc/OTl27SrpJVMPw1fvve3L0RKFN4h/QZh0g62w9jbWzg5isj5wcerj9YeW/38dOnc/dHoWuNnOidvH5vY2tn9enu+vbW+CVxQp/sW5qZX3t/d+3p7sPlNd7hc5LxgB4+erT8dOfhe0/nx6ZooJ3gnR5Pdp4u7+w83N2dvHaX8YBODywtLKt4QGsPH1lB3Jgeq+vTGQb3Txzt5hIVpM9ePKBssqfL05iPBxRmPKBIVw75nZX1tlfLMCGnOzsjnbnoMbBQGKoE5livS4sHlDzW44f6zUCFRnAsHZC5bDab48Elroy2ZcB4MKR7uiBfYCVhYgmCUHq6oulMsqc76HBhwoEqnkqn6B3MZtNdXRAK4ki2po52c3UGQ5tKukqrMeH7omG6kFPp2NGukMdH57exIdGZ4e64TCZxtIuXAr1WCpMezePtl12dyUyae0BKDEFo2F2dgI33dMX9IRqMtU1Jnr3imYD4sS4/iPvVUjQpLc0LdeUy2SwvaSmr4g3LgE2mo0e7EqEIRBKoOdXdHc9w/3H8GIMiQVOA9EHXwpk0kJDp7OT9M+VVMZ6Z6GRgsJ6uZDRmOWyAkEVTyXvpTOz1nojdBT0oEggkeroiaXpPgDQ/RgQWCuQv0CJhZSBNoCTyLsCjPXS+pjJAQswXhP0IEyPe3RVBfwUJ/hYT+bY7RymANucgXDLgRu4FP9bDKlA10BiJYogxagy9qqLeHOuOuLye1o4ExDRYNCkXxnflvC3tYZ+f8XqQLc0VpTiXxtpiOW5ElvhHaUjnSCAEVSglLnzmRIE9GCYvppAIusYdyQyLkUpnfE53OksfObIBllcMROIhXyDdJfeOMpYQYDuhfSTjyXBPLkI3czrcybW2gMuTBk5kkS4I2J6uRDgmsBw1wIbkPuuw2wPJJXF5CCv+nTQ0uDT6TlheoMrRdAe4xIlRg8AFSjNZiHtnUys0R9CnNE/iDYUjdkMdt392coyAllRPd6DJBDWZR16kwFhXVzKeMB8xeOpb0JiwOPKZrc1i+aVST4cF70gJH81FEzEY/uD9hem5R0/fW9jeBFNz0/Pxi0On+5fml9bf213f3VlfezB0bmDo1AVIgAcra6t/u/vo6c7szfs0siBxeq+sPXr04CfvP1x+QIuHBl0f9JuHW1uP/va9SQk3BgEE62rs1t2NpzurK6uvwOwav3lvff3R4vTC8AX6nLhwfvbS7MT06uMnc4NjkFW0qmDOXbq5vLK6+uDh1NW7VItoo/VO3B1ae7KxOr8y3nuNjqhT/ePvXpmbmlPxgGBzUTSe7Ju8fHvp4YPVx4/nbgzRd0AjwuBpt4Li4wGe9pR4QAZnWU0QVNWZC9lcmFeZE6pN7V48IDAtlEwVD4hTXyTmqG2k0nFI7yyvjebjAdl11fQNHaqAuAlnJNp5u810hCF4IHECNncMrJtIeGpbAEi9Q64DSoLogyFHRS0mB8wYmGYjnTLvWZwYQrSEc5rDk8SszoXqNlhMYHu3sZGLFiCvSASWHTfywC7osHBq7ewMOjxWCSANgzHAlQjAZtzNJouclUUDQEDxns5gNGKrrkdpMOu8FlucS/i8itpeVk0LtAJKVijZ1QVadHVYRDGsgAaRSCSj4KJ4HGKLCkuJwStogRYT9vBmVLqlZPEbNIpZ18s4RJXUYkR/BI+FUzztwYDZ6JrdxXOnnZ0xb9DGbQcSTzIa4SGYzpzf5rBLnEmuzafT0GKAWDA8bShdtY8hcjq56BuKuOROJKuxIRKLpXNd0Ct9LjfKx+TMiz0x4tw6wI3/QDIUWD/0R4lhFI7FPDXNsKocja3hRJziACqV3K3WUcoTv5jkMQ9BxQjCNINOWlkbxqhRA8qFMklXXQvqhcUn0b+oPUUD4Y6qOnO5Mergun5AzsGAtGCV26GixuL4SWdwmluQoCj526xcq4ZMQXo4ajU2WvQ1UU8ABAkRnM7kQk6PSW9keEaJrUN3dSbjaukAaflbqHuGAIsJLxK1GBu5dcstEfIhvgHrcJtgfXN3D+tFL2KYw5rbGeClqSPGK1jQ32wgCORDazPAeoUQwZSDmcxPXbiCujYU0lwnxjcQjzmrG8EL0BZD3KLRBRHsd7gdGF8VLTORwsCFE9yGTs8AVMg2C1pCerYTAyS2siq/3YW2Qd+kp6lIP3ayf+zitYXZhbWtrYXxmeFzl2HrkNn7rs8vLy2tr09duUMHi5xHHbt2e2llbW5iekSioUrc1L6ZG/dXZ5cmrt2H9aNMraGzAxBkCyPTQ+eviOXUP3Gyb/jcwPS9kYkrtxkPiM6ac1cJIHuXR870Q3TBAhwHAA08LaYPw4KcGxg7dxliknkY8JXxgCSux6VROTSPdApCZO6FDdk3Rm8RneHc0XT+8iSE1Mle5QAC8TEekL5ObunTOUUkmekQNbgxw8OYp94o22cP6mCjavGA6JbmKhWQ5alqAo9ZkUj/kRYPyAuZQlhxjhbzbIe7otZbzT2HJHf8xUU0va+uFYIG9dK0LpZIOqVV3sY2G+yvojL7YVbdcajMW9Pso6VQzjjw4otBw7zNJp5TO1hqQzbxAoJdg61maHY2iQNPI/FQGaywQFMH6qLZKO5VkBpI3Glsht2OZrAXaACES5sFRqjlUKmthB5c2hENrYFmk7mYDnhxluksJZWBNpunpoV7qVEaYA/Qk8WI4nQ0lloEVlZAOkLtPA8BKAVrPVIVMjk8DW30iAHP6MiBMmgfIavDWV5jOVQGWAey8TCwiXGIuPGSDk4r+ghVy+72NbbTLwNEFdPZYa9tDDs9HkM9gwExhhH3dvtNtpDVuRfDiNF/jGG3D2WCAVi+nPXHVBzx+qCNAkWEZbEVAZsTag5NLfFqo3kMJ+Dzo0yMLCwIOmUPlrmb2yKhkKeuBeUgxYZeM9qBO+r1YzTplEVOwFbVRwLBgM0BWgLxAIfQr6GHJiDgoI2iJSAPlCChS2PhkEs5pIB5UFpNUywSCbrcmGzoUDsEe1/PgDuJuFxgSyyxinJj0O+LRcKgBOU/QgmYKTEjBty0GelZO6RTliPqpZkmSEDXQLRBjzcaDEJVMcmGaTqwK9HmgN/K/rLNxRxKd1N71B9U9wjaihWu9F6zLeLwOI7Qi4+BA1psZdUhixMWA+YMuplkHzZMYNgTpI1DZdYSrUBvdZO/jpYvKuXJAXS5qNxV3YjZkcxVrIe8oLlzpn+i/wb4d4TxWGWHIYybd/tHVSwwsrny//YNnbmk4oghBbCQOJAYQ5AvXLzCT9pfeKAfcVFMfEBi1tFko7F1su8VlA6tZ+gdBuyAQEERdDkjB6SMFg+IV5sqy40LXu/wJlbxOYnH+mTf4PGLgJ2UI2MKFhJq+B2WzhYILOoeOs4qACsCSPkp6a6nb0xWwXhtAPQCHlYoZ5QckSAORokns9EJymyEtcKGP4hE4hQsAcRh2OxFXHuC9YQSIALoHC2WEIgw95AoQYIwNvgGH0L2KYwTkLVwjYBSDyQobUO90CnUKrgkCt9SaJabD/PiDWg6TGS9XPiEFcMlElnroUkogORkVE15wUbSfVti4PATlgteEEOAtapYQiBEFUvooK6jhIIYHUEV6IsGe6SSQTzUChoPsjAOEeQm+MEB2MOERVM7jlRAEDOx0Gagjs4prjDSqU/liyuGdqg5Ui9kjROiH1WUVtrL0Bgekii0GcwGdQOtAloADn7uKNY5ZXelndJf5xTz2aozOvW1KBBQNkb1Z72Oqgau+rEjPGoDJgRPeqBZAJD1Etv0KBvq3DXN5tfkHAkegSXjYYJ5LQ97kHfLQC5D2EGiAS2ogsdQjI3cJf9qKaDQZXTTdEAHfcQK3efVUifG8TAD+FvKDBGHuwOzHeMfYaTK2w6UQgEJmu3tQII4zjHi7QfLwzYXdBwTYA+RNjog5iqMMa+/QzCDBqPe9gOlkCkRm1MuaxZiPlRuOlgesbm5ng1Ln5Qg9eqqoi4PfS6Elf3lr5U6McG0mVEI2szJqQi1cOawMMRSGdqMMQKKzCV6X2ObLAFzYmPvDujMOiOEi/VVriFaMetwKuLSJ1AnkzHXbRRNmtFZxQsYPq5yEIcUoBpz8bQT+KgDggxohNJ6uAL8y7XsE71DPxbeP0PeB0eLuAGbSzAgZDgD3qdiMczTGJBQmrJD9ocwgugQLzVli0o/xVMd6l1l4zvKP9X3yvDpi0MXLi+OTE7evHePMca0Foxfub04OQdFhutqkCOn+lVMn4XRycFzA2pz0NCpi0MXryyNz0zfGbpPrUzUsOMXx6/fXZpZmOy/BViWdqrv/pm+uaGxxfHpwfOXgQKiEojQ10ScHrrlSTekPIgJWBYwAZyKRiUaGQQT9H81Q3JzULHeCYKurA9jljNZiXcAkucrPG2WaCjqquehDWXjgKN4RwLDTdYgEVU4QdASBS5odVgPG777NV7vuf/zZP3Bb+SOgp5QXcjrvXfnjvbHvs93vvlXnOplNQEyjrEyc9kTb//on/7Pf1IZnjx49LnPfAZTn7ehbXF6Bilzo+MwdpIxzIbsyLWLfUjc3djMBMOxdPLWtesCt/f525/87de//MeUdESL7taVa9of+z7f/sY3acuYbWxGMS/b+Yef/p3237Off/7nf/7Y0WNWvfGL/+l31heXtdT/6//66U9+ev5Hx0PGJstBvaOyMRKJxZMMQkgpKQzpazXfu39fy53/bG5sfPv734ONwIBKQPWh8hsDV7T/9n3++i++Hs9m7t25i/eZsQmUhnk77OUp+ZDDc+PigMq2//OdP/2Lv//pT7Ufz34+/ODDX379o/eGhrTf+z7fe/uHoQ7bdUHp/s/Go8d/9vtftGIOqKiFbUiDLhRSEV3AnzCEVdf+9v33U+0OyF8YPlFfYG19HYm72zuBah6Tfuuz//nRo0dSHj8/ee/9c28fj7uDqTRd2hG3b3F6Fumz4xMhuc6Mu3saWq5dYGN2tra7u7rR3zsvUNHf/uQn3/yzv+DAcZOO3m91pBlqNgYbjcvkmDXLqlW4CJi30J2ZAolfWR+NxhIZes3RNkxCAPc2tifTqQh0Ph3vlaIoKdLDkE+mkl6JeCmyiTc+BJ2uuC9g0VPfAR+BxWBjgrO87SZUCrEF9oeSMT5wE0w90nd95PhFuZWr//6pixPX7szcBptzmRu2DvQPvE9fuzvWR7OGbE7rh7diTF26PQhBdpIhw5DOE+nnLk9euAbBpMSLlnj+8sjZgVdGe6+ur64zNsfW9vzg+KCIuqlbezF9xq/clGMd/cvTcxIPaGdtYWWE0VovjvVfe7D+YG1n++H29sLYNGCRc+bu8MPNreXd7ZWNJ5PX7hRgeYsrYFfWLRU1DN1WXZ+gr5Fhuv0OF9QcCCaP2ZLJySmEzoy7sZVO6FLeKZru5CpJJB7jmezXeLSHAZwENuz2OIFc6NgOV6aT3oooCmwxcVwx+YRC3EHLTfdJGB1WTC8NjAdEe7unE/rtzYu8qvy5z8/+x88++8lfj8eimaPdq0KOz32+86MfxkJh1xHGFfP5vcmu3N3B57l0aXk5lsuke7qW5xfwc35mNoFKcxKHKBa90XcJiU+fPj325huxTObe0KAAPf/566/9OWanoMOx9uAlzfjej96O0nfbCRqCePW2dvzjP/6j9t+zHwqgX//U7du3td/PfnY2NiNWnjlIZWTZpSvna+lAvX67I9rzkq6pz3vvv9+dzkEGeVo6FNM+90HzIpn0Xena3OQ0hgMjyLMO6Uzy9WOrq6sq2/7P29/93s8TQOjCr37606trL6nouz/8QeRo7s7NW9rvZz+QAseOvR7LqfhHXEm0VNUG2i2pXOcf/vGfqDzf/ta3zBXGRCD01te+qlJ++PYPYXNd7X0JeeCDvnd99KPRdDp9rGd1ZQUpSwsLFKw8IJbOZDO3rnLCeO+993reeCOWytwbfPn4fvuv/xriICZ7l0MMmJ/BB8aU2VCTEFcRvebAWChiKa/iHYSZNO/FzKSiXRm/yQoJwqtBJM4G1wfjcXdFnemIPuD3gtgindlwdxZGuv1AOcRuNBxOdPIW5lgiwStYqDw2JOIJ8BFKgN4HLUnx/urjx8tPd1YfPpq4epsHTSWczsPNTbL55Iw4hXkrxuLE7IPtbWQeu3aXNhc0mguXlxeWHmxtLc3MD50boLcIsmng5sr6+uqTJww3dpr2HaTP1M27a48eLi4svTJ2/vLy4jIXvJ5szt4akYX93qlrd9YfPkbi6uqD8T4oQdRu5kcn17e3H2zv0l19boBbki5cWV5aWWdg6s3pe2PUqU5cnL5xb/3REwULS3KMsP3zo1Or21urO7src8tWXTXEOVSSaCgS7+6KZbPedisEENRgCB2GIOhmKByXHGWCksIgL5A1jAcU4t4fxvSpYwRiiemDAYC8BzgXSlKpRHcnb0+va0EVUFKiLi/vDu3qjDIeEKc+iKFYJJbs6ornckGb64YIoN2dnaMf+Siq+PpfflNRRv/pdyMeX/JYj2KtuckpzJA8k5VIgCBQb9DltZZUwh7xmyy//ZnPfPDhh8h2+WIfaMJdWX/21KnJ2RnUm06ml+bmWcLUdJwb9jvjnRCavhu9nP+f7uwe++U3ol2dd2UqhiAIN3VAaP7GZ37nH/8PipLdre1gZWOg3bq2toafi8vLEW8AegTUkyAv5yI9cRWmzUJDgMfcghTfXZ337t5D/tmxcU9jWzyVRLa3/lRjrdmxCcY3zmZTR3tu52fmgbPneEkmBD2eBE/nYZL0NtNXrSTIe0+fRprNlpKKT7z+0dGxMQV1tX8Ac7i3tllJEzQvnkp4eGNnub+5I5nmDah3hffmJqYsRxgBg0zVmcv09KwuUREDYrmKLEvLqVTa09xhYrx9K6ShAlxaXHRW1FvLqsM+fzo/HyzOzVtLDe5aOoMx5UDQp1Kp21epRQKlRz/6y9Fc9lO/9ZsjIyNIwef61auoIpRj7PqYF5pCFaw2Rg7q1MQroIKN7UG7S0mKp++/33P06H/5T78j0JxLut74KGBT4cjV870q8dqtm7FsOtfdpTqyMDePrsXUOYxE/Nblq0gE0o6+8UYoq/UFo5m0e2Pp1K//7m+rqULVCwqnMpXlEj6jlxibrOU82oo2QwAxTJU3YC+tlFO7PHMX4ckiwRVVVFMyk+EpPLU2X1FrOayPUBfrDCGxszNkdkC7ceiqE6FwqIeTcTKWdFY1YHYnLyRJG1wtsbutxRUwX6YhgDY3l3a3Hz56Mnnl9ggsr9N9c6MTawwouLsE3j8DWQMTbGBxZnH16dOHG1vT1+Sg6ck+CJNVXrHzdHVhZZSrYL1g/6lLt1Y3nkBKzN0egc1E++tE78ydwQdPt1dX1+Vq5ncH5gfHxq7eGYS44u2m/XQ19V+fH54YvcAw8jTnTvbBQJu6NTh/d5Raklh3EFUKdvzanfuEHRg7zSMhAjtZgIXOdvf0xck7QwvDk4Nn+6GtwKqnl6S0MmS2OSWMDn09xdyDZ6+uD9qcVs1DDBOswlSkd7V2iLVFKCRSdSyrDFsd7sZ20yHxExVXcE9XTSPsbcCCeWAM00dwWO8xWTEJQInN18t4QGGHR+5s09+4QAEEzo9ZHDGXL9BkUjNw/4kzHRJ9XZEXmBawaKelwhh2ed1tlg56Imj4dBwq+0TX0Q8++ADZ/vsX3kIKN8iVVHhtduR0GOqVCTY7Om6tkBPtJou5CPWKir6xGbfTQrxxiSYMLLJwdSMXTW32OzeprVA3MTbbj1QqKTY/O2ctMnCNKR+HKBoIOuopLJSlxv0jDheE1HXRsObGJugiraxNRCLLS0uqwGBNC9DI+G3BsIPGAjnqww8+SFmcfidhreVqUx+rcFTV3b1NIbWzsRWs5lVogHW3me7epWEFqHS7zVlSuThDM2RxYcFRwRhG1sMV9IgZ6yOR8O0bN/EXEAhYtNzTbo7EYhCpBbSYy6qCHm9cbi42HyzjrvQDPIWvqpgdn5S9iNzlFHQ4V0UQQ7DS2wqrRG8MBvxgPHd14/U8SmM2Dyb2iMdvLTMqUwjtPJbp5Dl12ZFk4eZj2mVgyd/8rd/64J9oOH/9i2+9EYip9+9869uO6qYlsa12N7cgr2Hq0uSUkACqImhkb37848Fms9YRyPoWUzLJozawa66fl8ZsbmUEViGByK9sBPOHYpG79zhDICVg5BkXrksmU4zyo6+xHigHohi1w+FmvRYH0V5cDpTa9DXBSCgOTcfYRGo8TM8d4/DGEiG3lwvH6JrgGUKc8QBaGD4B2YBAzMd+jweau7NcMQj3dloNNfFgCFWYxA1CBw1MsBt3oVhMXL5NOSA7DMG/0/dHYJcNQazQ5cx4GrBs5semJq/f5xITNyHTdTPce2V2ZGLk/BXII/H1DNBAu3Jr9sZ9BnpWviHGILs4ee322MUrchTjZO/gj88NHr+Av/mwrN6R4xdGfviuKnpM4kvjGfnxeeRU0gdt5ffJ3vuEPU8/kcoDcMC+fQ6twc/hs/RVM4LRj8+P/Og8NClwMiULvg+Wm3/piOXVUvyk1w2jW0KkWP63IxhmIojOM7p4TK+VWn/piE181eoBQk2vHrG8xoDbkrOcz4Eyyy+VkrbE72sF3ovKUT4e5C/Awtaz/NIRhg0v1l8XDWhnczNQVQ/YL//W5/DzZz/72Wff+KSqbnFKPDgigAjLMDdHTAckoDpGukSOSuiq//4nFFsAvPCj4+HaZkZjQL2vlblLqhQdowQ0zIwWvkYSKdTrF8NQ0SsEUKS2BbAfdQZUgapeT5lxKc+uaDNqRAdtdN+yCvrd8ZMpRAtXxA6UKiZhpUDsQd3HfDHln+o7dUZyMsY7aNd0oOx7f0YvGFr+uY9+kgg8yABjqNR1qMIqkbGuy5xPVoFeKQH8AfX5N3hpD6He+CS6rzUP8i4Py3niQBlktOoa/lJtpkDE0B82KBCFFgw31Nh2WXpz0u1Vjn4p5RSAXJqg013vKDEsz8xJ4rjmlOVymN4u8Y9u5N1q/soGm87YXqK3H9D9/pu/hkQO6Ec/4SmXW57FYa+aZz1icOqMSqkB4NB1GnHQU/z1rZ/wxj4QjA2cOA0Nwl3FW565UnZE/wPxG6LMz//qb6AvhfHtACXXNkOeOl4t3WtMdaPH2KQJx83NmLEZRPt6JPEPf0dvHaBcEgeqHZRc3WAurXT+UhnbhiE+xK3znny93HbAkFJcvHMYalsPgmv0blK1xGzS1ZgPY7AYd4l4PgTa0Ll1tYy6XYwUej+5ZAlmOVLJWFHFeifXNHn6BF3gnAFOKZGd0GD2d85DvnDJCJxOf7NsO3znwsg7F4a0UDx9I2f7hk9egEDgnRS8bpDZhs4yHhA4ncflKUb4UCy8c2H4nfNyK6FsjD4r3qIfnxs6fv4Vqlhn+5fvMSj9Pe6zhtToHYVA6b/OU/YXGEJx5CwdybQPb0MDGlGm3STjz9MUXLo/NnX1jgZ75iJhB67Pjk6OqvCLyHyKgUIACyE6dKZflpZljanUEGq3OGub28XlCXoqxOWxiKkFVHL9+wCvKoZBLnOX0mIIG2y3OGq5vs4FEQVr2IMFkTFeDyOetPrbzIBV9XJCOFIRIGwTSP+mUMb+z8/+x8/+5it/6hZYX7t5ZZGKw/4PZntXXWN7kYwiuOLVMtT7ta/8sfa3fEZv3425vb4OC1RfRaBgJPORipDF7mpoBVffFM0LBBptswYcLuUSeu4Deg0am9Bm2FxLomLs/8yNjru4kc+NmRz9haBxQFM4WO5qa/eZrUrAoVJIeUyMn37zE2pu/6svfBm4ssq5KsYwMtR+/g3GA1ICyN1uCtjsEHAmiIASrseB3O/cuIEM1CyqmqFsAmlOY+Nv/MqnNMXhS1/2HNH6uP+D5sHSiThcN8UbAh0e9ULBcdU2R/wBIEFJ9v2fufFJzA3AKichvfHuLYoDdMF9gPKi4xCj4ayuPO85Wpibi7i99tKq66LKUctoNUOphG0OGfQJf1zJkb/+s/8eD3OBgmIRGOBKEAMMIufH41mVR32+++3vhByuN8JJlQjNyAfVJhJztjBWr+uQ/vMf04TvH/63LzjrWpakIzNQymoaE6EoYGEeFhqT8gQAq5Dw3Gd3aysIWbm3hB8NM9YK9zHwioGicvQ3FYm5WzqIliL6jCE+gi5PnBcl1AEK3IEpzSHn2tEXwDop9MvbIblaTbBt3U3tyAYZRBF/xBB0uWOBALRUDCInsEOltuo6KNGMplRicL1WDmPl3qkLU7fvry6vTty4Rw2I23RoN82NTy1Nz432Xh08ScEEJWP84hWkzA6NQxrwzi4REdPQnmYXxq/eGQIsJA6+T/bODo8vTs0On7+MxBEoWRBPF6+AACAQXhnrv7a4BFtua33jydz9MQgX2E0TsAMfPX6wu7u2/mjiyt3R41BkLs2OT69vbT3Y2VmcXRi+cJmqWt+1peWl1afbDzY2NdhTFydu3SPszu7q2sOxK3egiQ2fHZgem3ygYGfmJRwH41qGgv5YTw4WLF2eFC5lzvqmeCKR6OqKRuP26kYrmOdwBY8yM65FV9DtM+t4XMhebgwHAJtNZNL+FhMmTwomBmxOJAXWAVhx+3t5fyFj+oShoHIHNu+riAT8CVVvq1kx6ouf/pNnfRbuXX7Rvbq4spwgrEkp846GZhjSie6u//03Pn3vxp4f9L333z/25seS/tCSTNrgrkgggDYnMylfm0kt2exub/ccOwYjXynk+z8A/1jPMfAw+us2Nqyu0tO5/zM3PROjz6srHuP9DbTLoLQzhhHjZyu7CVIAIiYSDv725z/7wYc0Er/xB3/E4z+MYZSmEy2RVJ4OsNMXfu8/M/5RJ+MfcSMixog3kYeUg/zpzm64thVC3NnWkUhnfudzv6eszm984ctOfd3q8t7KmvrMTU1FY5F4l+Z/nR2bxBC7OyzJNPdnpjo7lxcWVc7CZ3Fx0VFZz9O2tc3ReEIBLszNcyEf5rDJmut6+XDQDRSN3VRmLFB69CgIJt6VjXj9b8aySvX73g/fjuVyiSzPhcCoh9SOhCLAFWAjyeRNcdngs7i0xIWCruynf/3XlYT9m2/+VVL8VnGG5XeYDht+/9d+E+nA2Jf+5I9TudzyPDsyPzMbzzBcf5xnSsI31SLD7u7RN94Id+ZedEJjfN/8+CcZqqVYOwSDeiNd2XAkAlNUVm95hWFUtlkG7S5YZI6qxlgkqvxlsWTK1QSuqfC2mRkHljsbGbOJke1Kq0Oy8ZL9RZttTnNJJVeNI1wHRApjvzV2WIsqPM3cAAlAlBkNhu2G+pFzl+fHp9Y3Nle3t9c2t+ZGp0bOXprov7kELO8wsPzaw0cTN+8Pne6fvD20+vDh+jaDBC3MLUDbGDl3ZXFydp1h6ndWNzZnhyaGzwyMQUTMLxFwe4cO5Rt3B88MTN+4vyqLV4B9ZfbO0CPIhS1G+ni4/AAtgKm2ODu//nR3cWvzwe7T+dEZxl7svfrw0WM0Ynlr69Hm9vi1O4PvXJi9M/xwZxvZAPtg5QH3TZ66uDQzD8m1tLm5DtixmUHobL3X1h8/Xtol7MPNLUdNo/m1Um9Da6Yzy5je3V3JQATMYy7ShVzcNc+ALxLOxgKjV1ediMcwMNy8n8kK7BFvfXOmM8cdq4zpE4agwXQB6Z7s7gzlGJcn2MHbkC26qng0Gumm4y2dykCimV4r89e1pnPZYBdh44GwEkAklE+8GezMdh17/fY1TvgffvDBxz/2ZvL1HuX1nJucMh044qtr2oNVsYSKdQGnCz8ZeKWry99m7bH6BsV9g8933367K9eluW+mplMabOcz9X78zXAuq1aXMWGGmzp++zd/U7m0l5eWMbmZXjsSam5XjLe0soI51lpahf6GUK/0F/WGLE66z/TGZCIOXEVyGsXPjoy7m9uTXZlPf1Zzk/efftdcXB72eHmIDKK5u/ud7/0Q6WCnL7/1lsBmU7lO7ip+tRSCMpVf4Hvv6Xvhxg7ARnx+SPk//BNqfID6XehNxsaCjxwMyTM0gG23JLt4a6vyv85OTJoP6xOBEFobzmQyr7++ukyRCsRmUimpN4NifS1m66s8kYPm3ZF6l5aWbJV1UHhT4Uj26FE1HEsLi6biCmdtI6/oAN9mGFDpjgwcUPo6UJpNRzoz2XTm93/jt5GIdr71x3/C0x4gmHDMVGLwNLamO7NRZMtm4j1dn37zV5Wc+v6PfhTOpMNdmc9+9rNKAN24fgNMG8pkol1dqVjSrDO+/a3vqDK/+JU/yr1+THVkcX4BwxHMarGT1LYJroJ97I1IGlJYxndrK+0JfuZzn1WyG6MZ8fhNuqpEIPzGm7/+l3/wzsc/8Z9A2NyWXV2XkhNtPBTSlcO7xVAbaLemMJXmGIcIuCJseXUiGAZFIRvSCdtqslTXpdPpWI4BlVTMJnNFrb/dkurWYDEEUU/ApKuOB3hVrwbb1QkjY/jyzcePefHEIgPO7zx6vDHaex06zuOdneXNjcXNjYc7u0uzi/fOXVqdX1rf3V3c2Fja2nyysw2lCbAPH2+sbu8sPdlcEdjhvuuz90cf7e4sbW0sb2w83N1dmVu6d/7S2uIKRcTGxuLWxit3z/RO3Bl59HhzaWF55PzViRO0mGCULU7OrG9uwJJSt6mOnOzlJfPgg0ePJ67dGz0hbumzfRN3h1ATYIcvEBYq3OC7/XNT02tbGzPD4zT/oMKd5Fbu5ZVVwI5fvQs1xFlU0V6scza3ZRN0vJnKjfZDeh7mLq4I2XjrJsNrQ09WqrLeCNEei8dt1Y22g3pXkb7jsM7R2JqJJ0Mef4euGrCwPhxFep/VFs6loNdAIRIrWu7eCAQxPVqMDdzQDLWzSOeqa8pEE9CnAFtwBqeC4Wgq4WkzvxFMQPcGeX3uE5+KhcNqfYe2TLHeRNiWdCQe3BdLCI/PZIukk/6mDtjtlpJyn77272U/zvVr1y1V9XvOUasjHYmhXltlfcFxAHMpkk7cFnqFzRWubkKb3/nRj/ATbfjML38Slou9tFKt5S/MLwBXNqmUSoHZGkvGoVaAt4Er9Fd0w2AsFldebXpYDpW76pu7s7l/+Id/QArdTNXNtsPAsyOWSkL3VttY0LxIqxV4jieT7lqJ68gt4+XOpvb792SFbnMrVN2MemGa+ewOtYMGYjrTZnfCQpylkIWw2IMtLnc1t6eTKaWLEYGHaAwG3G5G83L7CxhwVNXxwEcq5Wtox8DBXoABiIG4L1XMTk6xvzzwURkLBpUgnh2flGP0OkxIsUQcWpWv2VTAc9If5Fp1JGKrblCJH37w4RvHPgJhGuCNrBg47o2GDR5PJlLZrL/VogYdOf/m63+JOSYRi/nbLGo5AlKjizes58L+INDrKalSGINwef2jH3WZbddkLsHYpSKRVGcmkYh7W00qD9f4QiHMi2ofEF1Cxmag5eTJk/iJ8f3sxz7pZFyeyr/+wju93xg88dVLzqY2ECrVT1mu5ezCAP619gMgXb2rzZRMpxh3iUZTheNAGVGK6QSqTTIJWJ4lOMjlrSj0nZ5cKBJ2VAJWZynSuzGdQPoA1u4ELIw1DiWmbcCmkg7UW6yHWTN2iaEOV3e3F1dXxwaujx+/eP903+S9kYdPNtZ3tucmZobf7Z+ARvLuwALUlJ3tB082pu4MMnjGid7RgRurmCJ2tldW18b7r4/xHFnf1ODoQ0if7e2F6TkIlonjF0bPXwIlP9jaXt148sr4KZhkfWPnr8JQkn1E3FA0cvoidJlJOYoxJifxkQhdZvzspfHzVwa5tsVDXuOnYAr2jgssLwXjodj+0VM8ZT957soQj3FwvyIS8T5xZmD8HENH01fKbbt04NvLqtWOQbAEd6wWMxiKs7SaZjBdNtydSTY4bHAcqeIGLcCK58UG5egIY00pWDosYOjCICploAwIC2RjmYfKhVcNXImkm0kcnLCHeWKAbKw8naDaYHWDqxi1VCr3IVeF2mwF7wb4BGXSPcGlhwrA2hkQmm0G53/uzV958uDhb6R7GLH8cPlXfvf3AILPN2nvlH8/v9fxypnzwdoWwH7/T7WU/pNneNViieGGckJDACFDUXlAX6e2FJI/YbmU7Xl50WZVr/kwY+54itA19lfbegsZhAyHtQKR33WIXhtT6d6Wy9E794Lc7VbmLa9Fk1QiTDPQPWPvc48/8MwYRir+0XXZMQDmCde0oN6jDt/ls+cUVP/J06y6zKhtthyflBurDZD+Altu1RmVrkdRKLGTMEZuXY2jdA+xHYIBBrE+QM+duaRcwWoLeXQe0QmNzjp0VcuiTnIV7DDXBDpAEmXVzopa00GdZtXKSpO1srbHEy70rv/EadTuMfKyfDSAvsXiinYUqK9xVzUAtiCAvv6Ft+zGBh7oP6D7/te+rsCBsYTZaS2ucJRWXn43j7GvfNVtbDYf0H2vML5nzycsDquh5rtf/QuVwnpLKzwNrQoJGN+IsQXV+ZtN//B3f48UdJ9HXop0P/jiGQigM1+7jgIdRSRyLnKVVwdazLCzSLESqoWbD40NXkhqhlspt5UQn6AoX2M7jC+5noCrBJBBllKDv7kDiLUd5J54x6GKDgi12iZIah4zkO3vnC8P6QOtZpuxHrD2Ij2YevjEheELl5cHJ0YY5PCC4t97Jy5M3Lg3fX9UvEK9I2d7uYH5VO/84Pjo9TuD+UMUPJJ68fLy6NTwuUtDJ8+PccG+797JC1wBH50aRB5G7+kdOcVgYYsTs5M3778yLmETx27eHemjz5jrcGf6IfbQiInb9+VaHjqSJ0/2DaLuyzemrtxSW61Hz/aNn6CEg12Xh6WcIuz5S+O37vMkKmDP9E0AFhUDlnHSLlqAIDl8hEnSWddk01dDEoGywT+8u7bM4Gxo4XlL4BqIYwR1nc1Q46qso2+SZywqMPtBkXEY6+26KsDK2SiymfWIwWNs7gChU9nhMjwMEwWLQiApHIe5LmYq0mOKgFpB7hKqffEzcPIsZJazumFZ5vbnPt/4w68AVrUZesd3/0yj1P2fuYlJl2wIcFB8kNme++xubIWrG0FYbkN9YWM0CJRN1RuVEwGT5O+98SuuUsy6z7ts8fn6l/7IVdUAAqXuw/5y4dyiB0PWFFbBuA5YpHNW1Xkq65S79MUPGEzB2gxGN/GsrQmATKH03bx0Wcv37Gf09r1wVSOY2VOqCaDnPl//4pddtU03+p/3r+9u7yRabC/FyTe+SB85/bLFFWorDZ3ZMg9hGsdk/qLnCJ+/+tM/g+RVyuyLH/QuXNlo0RuhVVl4uFeOvByS+a+20dtMreHNgCaA/vsffNnb0kEZdEDnzkvJFz+jt++6Glqg6QD5zpf54PGBzhiubAD5+c02JUyp4Rp5Y527se227H2nov2xT9oPlv9q6M1zf3HnMx/5HFsFLYbr62WEtTsshhrrAd5sYRNecDW1+du1LSlWLhRA2a/0WezkGgwc5iEeziiDAhWwu+w8McPjdWAZaxH3yjFOi5zX44TKwzfVQbvbQ/86z5GBr7nwffnm/Mzc6JVbEEZjjBTWO3yyd3ZwdI53w1/iPhuudEPWXFuYWZgeGlUnLcj+xy9OXruzuLA0eu22LKLxltPB072zoxOLUH8uKKWkb/Sdi6N9NxYllMcrI+8OzE/NPNjZWX3waPzaHS7yn+obv3RzdWX9Icw52GV91xiB7HTf7J3hlY2NB1ub8yOMHARhNnx+YG5adkM+ejR58y6y4RHYtbXd3YXF5bGL15jtdC9E4OqTJ+vbWxCE5iPckmMtNQQcrqTs2nLUNQE7nOIqa2OhMNTdkM8PwQQGgLRyNfHmA16BYrJiHoPgN0O6O1zpbC4Ri8Oe4rFVSBxDLawt7ih1M8AQT04W8WBHlHch8XopTOkOGTO/xZ7IZRn5wdjwna9pk1XhA13mz//LF60MHtYSTSZePIiAz3e/8x2IMAhQNNuhM8KWfvfChfeePlX//uS993tPvdtz9Bgj17SZqUqUVWHm/OCfaPnj89O//dsLbx8PGZtpMXFvXlbt4oUiFqppdte2xBLJ3/7dzygfxABm0SMVt68/f1YDn+/89bcSvIvOYytjfwttTqbTaifu3Ng4avdZbIyGE4l561p//M1v7W5uKXB8Njc2/+KLb2E4oEh66lsYwyiT8bVZINMZZIv3Rtmec6CCZ7Y2N7/zg++HvIw6YIfIKy6/eUVz4u7//M03v5nqzN17mX+9K5t76cIfRCoKNJUZAi73fakX5jwXoYt09ire1PrSLePfe/uHAatDKbOFD9q58fgxh/KQzim3YiS6uyLhiIPxj7iq7WszxxkgmefU34yklAD69l9/K9XZiYHztLajX9CIT3z3B++/954qE58n6w/+/L9+KWCyM/5RJ4nNoqt2Ham6cr5XeXbw+elPfnL+x8eDNU3u2mZGO+juuiv7Qqlo17XKsf7cb//e51T+/hNnYHSHeOqiK8mD71aq2EXlGI54IhHt6YzKiXaq3kcMAaszlZG4S3IvGBXeCpB9mGGec1nuGBJ/qIoHFOvpjCfkbkvuHjAwZlOObY4EQjbusyu3V9ZHQpFkZyf6ErA5wVZQasDm6xsbK7vbDx5vzN4eYiDT85cWp+cfbm3DtlpeXh3tuw49aPLK7dX1h+s7O7CkYFvRdwxBc3cYFtnyzvb6k425e6O8xPmCXG8hvuq19Yf0HXOl7P7ao8erSNnaemUeEuTp7vLG5sr2zsPNzYmBm8PnLy89fry6s7P8eGN9d/fB0hoKmr51/9HO7vLm1srG5tr7uwuQQe9cWJxjqPnVx5soa317k5GDzl+GoFnb3l57vMkd0ivrvHXjzhD9TxtbK08215/u+m0OaJIRpxf2bUSif8MOd2Im11XFUozFHc5kIj2diVAEFhbmCvrMMowIlaJ32QYdNezyME4NIyfkYO27Khn8iZtEMTCM5MK46Kbicnddc0r2g9JT290ZaLOYXyvFDJDs6QplMxHx7dkrasyHDfFwhOEvVJgVbwCD7TI2YlQijFJO+9/X3MGYPmY7o8kAtjMLkWjXGyEQ46FwolMCy/d0xTx+zFH2qjq0KpLLhgXW09hmerVUvICM8MKtqMkEY2UU66OUmIRNdnfFHF4urFbVcgNxAVaOWQY66H2U7fa5RCJuK68GZmJBehDDDNveFXf5MK+CRUHBaLPAdqp6FSyqiHZmE6hXYKMCC1yhv2gzaBHylG3uRL1Z5Pc2taFeYJt+fdXflPT3sD4mwfBZIPrrC0ChcBI2y2jz6IgE0geugGfiimVijNIusD3wHGGkeg3WH8SMDbOIkXQkdlKypzNotsEW4B0BCjaXTTJsUANM5lg8lqQzOB0Ds4Ui0Gehg2i0kUpjTAMWwkYZ/aeTEYLQkc4sw3GVVsVTSYxmWGIYYdJCaZ6mtnR3N2MYpRnIKexwWw+Wh7w+3oySImyyO+dqaIURFMukUG88mcYox5MJc1kliCElsLFUJnasO+TyQnyD5EiTEkM+A4JpaLNV1TGsCled2OZkKmXSVQE5qZ5udg0tPNYd8fjtRYaoP4iBiMqtGKmeLk9zOwQEBAoXvJJsM4YG2hD9+oy7lImilmPdUW8A1m4sFFFtJqEe7Q60W3kzeCfXxVgvkJ/N2CtrAzZH4mg3cBUGxyF/MGwvr0lH43hHYzAiabx0WCev3V3b2V7Z2lp/uLGyzSNWE1dvL0zOrL//HkTE4gaZem1lfeTyrdXHjx9s76w+3ljc3Fx/7+nK2MzM3eHV93idxvqjDS437e7M3h9Zmue17xARy082eTvzo8fURTaeQB6tPEaBG68MD1xfXFl7uLOLWmeGx2gEnuqbujUE+beyu7P4+NHE9bu0qs5dnp1ZeLC1syZq0WgvdzlD4qysP1jb3l3Z2Zkdn2bEs1N98/fGHm5sLm9vL29uwIjjJoJzl+dnF9d2dle3d5ZX15VHzVLTCLrhYiE4weEBdYIhgWKQcjzDu2ih+IBAraVVmBxiEn4sEothYGwHym3VDfFEKp7JJXO8vwFS33RI7zbbQMoxnpTJOJvawRiMuekLIE8coiQUxkxF9xAm0lQKI5HIdfqdbthQ1kN6Z7sZBMpjUNmso76FlmCJIeDxJ7OAZYA7c3k1vU6GWu79Z2C9nNdq17S21naGi5d6AQu11lSi98uZg3guGw1HzGVVchinhrCsN+ex2UXpKLc3t2vXwKfT9pom1MtziYytw8BdaLO5tIpBRcuNEK8K1m21UfeGwtzcRrYXWAdhGZ/U72ZcHulvxKwTWNQbV23OuiwW6p4wtfKw8UzGXteM5gmsFzOzgjWhzQcFFhVneS+IF7YA69U5WtoBy5hn6Yy9thkoNZVUBNy+eK6T563CUeIKsBWAjceyOcwBPsyuDEugdzV3CK54l6mzoRXjSzwXYKMxGEocXwZITiQw1Xd2BhxumDkmTEWtZqJUxsjZ2MbGlFQStrMzCtqIRO0SIR+0AZWBC9VdnQGML0OLwPQwx3IERJcxpXF14khV0ONn8CM84SgjulIKE5YXckCMutzW0kquc7fwQhs0L5JN8+ok7iNjm9E25IReyUU6keBR9LerCw83Zx02MFxshxUaJQ/H8OREO53fZZWst6sTzYuGItBBFCxwxTNfuRxUP25ozsddQrZIOgVYuv/LqnweL8aCVQssnQlGKnfQYiBrAhCFZdWMASLr+qiF1z01d8AUgI7s87LNIA+5EaARaLHVNeE9IbGEoEfbS6uGzvZP3x/lMjyUnY0neIdAGL94dW5+aW1rG8rO0qNHU9fvQURMXr+7+PAh5cjO9qJc4H7//MDs+NRD6Ci8Hn5zfphepLH+60tLq5AbyLn45PHkzfsjp/unbt5ffvIE2bgMD4sOAmJxdBp60dCJ86OnJSTQ8QuQOyszC7yw8MT5kbNyR+Lp/vmRqeWJueGzA7TlznCH0mjvtcX55blBbkZiSGk6sS5O3h5cXl6ZvHp76MSF4bO8aGz4DIy1uZXFlZGLVzFXw8434xu4i0SDNpe9iEEeaOpjSmw3x4C1Jh6GtB6WGPUlVcFAMB6LOyvq6JnjbmmuRsXSKSjA9EAXcbsnpkTo4ZgrPB0WqBKOYvrYrGXVEAFcIICWJMYwTGt3czvIMRQIgpIYUILLW+UhuyuZy/qsDmiwhIXsKxcWSqecRsb9BazttTJXYyv3iQQjkHqkYzkQH3F5oRV7bA5ko4McsHqIqiS4hRG2GJAF9nYZLHDuuQjHVIgyNBjKSMTthRXgdbjQNYEttxnqAQsWZYQK1AvY1wgLKomFY7ZShpJCm8HSqLcAq9qMaS0BmzabgdIu9ZaregU2Clg7XfKsNyywHrsDKhuGg/xcboyjwxCjPBwA5OstB0p5Og/sHYyAY+ne5i5BXcDuinZn/SYb3cYqykdpdQR8kEpSGwVKD5fbDpQ5a5ui2QyMBbqQ8+ML+xd6gafdQj8FxheZS6pC4UgsmSiMEb6Bc9jdXDEUVxS+Ua+XZ8TS3mYT3kEbvFrvsCHoC8SjMV70zKIIa6+sA1tRCqCzUi/q8rTAkI87GV9ZbgpF5iIYeryI0S73gIvbRWc31IUDIb/JzoFQ9crdhLwFvxbDUSrxj+hqwXBHfH4JuEOnEuOf6GvCnkCg3cZ1D6kXkxYvrfYFGN2BF7cypg/SfYD1SABfgSWR64xojK/VjHeanBJQCQgM+XzO6gbubgfsoTIM01uf+9ytC2evn3znT37rd1zcrlVm1VVD1HpbTXbGeAYs4y656ppDHp+rqoHb5QlLH6jPZJMLL6VeGSPGEkK9bRY02FJUJpuQyfuLC4sTV24NHz8/cubiKLj4VN/M8Pjy9Nyo+HG4u/j4hZHeq4uzC3ND48M8lXWRgcNOnJ+6dX95cRmaFGCRMoYSzlIwrcwujPdeGzzJbdNqn/PS/OLc2CTjAQ0f54XQg6e5Z3FMO2DRd//URQCMHL84zqBEvIRn+PiFwd7L433Xhlh0HwXQKQYDmrx6B1YichLwDM+SDL07MHdnhAESId3OXpw41Tt4/MLYjbvzd0fuHz9vh9gWRyMMsZDV5WAgGO2WZAodQw2U847yKomfwijO7QfKgLioy8sz9Hggaw5x5oTS62o38VQEGKNIzwsG6ptgw1mq6zFgYGYHbxHQcfdnKNx+hKconODSA7xlNJFI+OwOFlhE2I4DpbwzB4pufbM6ZgFm7iipiPgDiVjMpKObHAVaXiu1VtfDRAq4vR1Uf3gIFgPs7TCncllHawdMABf0mgNl7aUGnu1Mxi2GGjPXF3hCgjtlyZB+c7GETxMfud9sS3blnB3mjoOlElW+vKO0MkKhmeLUyh33OvOBI7baRogVMDNdzoDFfAhYkw1mmqvD0gFiBaysdkm9CUtlrelQqY2XOhyx1TSAb8EGJrqrVZuBUmuabW5Hf1W97SUVYQj6RNJcYUSnGGPotVIoI8lMOuDymA5C0GDUeA4DaE/kMlBhyMwYowO69sPlYJVENGoqqwSnOcF+rzGMTjKR8NucvDNDG6MyiABYvrbaJlThwhgdLG8r0gVcLlrNJVxJUJMEtNdYMOwxWQGL8cWIWF4rs0swZktVvTSPp5fbD5V5TZao29ehLW6CNsqgAiAFGrTpNbUqVIGBsxmMEZ/PrNEV4/IAae7mjpDZ1gGhILIVNAlVOtBhc7B5dAZzRQk0qTdifrLwWgQRXqojdc0+VAEeLpJgdRIPyN3QxmOMqFfOG0EAmY9Ah+rgUi9lK+MQEaS6wcuLUkuBT8opnowpdzL+kdH2mtxGRcWcqjTklyjLAltcPvCD728vThee8SsDnjIMFuMuQVkGlXJVhHXpTMXlrppGzC5ycwlhMeigfEc1sCcxm3jMgHGXnMYmGAeYS9BZ8u/Ji4Nn+6au3x0+1Tt24sI4r1fupUe57/rU1ds8ZsHzGTxgQd6/cnfkwlXuimagaPI+YGdvcVV+5OSFsTPQZsj7owPXp67dGXqHB7a4rHaq9/4752duDKHMV2BeQVytP3y0Mj03eLZ/kH/3jZ3qXxifWdvcnB2ZhByB1jR6vI8XJK6vrT1+PA3xduLiGFSek73Twzynv7y+NjJwY4iho3vHLlxdWVxd392dn1+CbsUAa8h2cwga3erW5uLQBNgPgpxzl9MDnTAK9aSuCdM1VQDowOLKgUbNYOm8LBxi2w47BUp1wONjnLpXdc5ybmONdmVT6VSw3Qr9BaoH1GPeCN6VVU67DpgzRypDqELuYIrKVavmV8tclQ2xaJzb7TLZkNXdAVX5UHmgjcFhA130Jngb29sxfrqqmNcfz6UjuXQsErNXNaBAcQ+nYGxDjjCWfglVZZ/NHsNPWP6pjK/d1gYZBwHnj/C+umwaKgUGGMPsamyHPgxlHvwc8rIjgJW7n+j+AGzAZG8FHRtqE8EwZA3KjMfZEfNBbqiBIgarh3dd+fywj2j1OJyxXDqcTacBa7a3g+wq6iC5whIsPRFPuOt55oMufJicSMllwoJAHli1OYFP2KFojY93TqHNtZA+kU52LYn+1jRCOruhZiaS6Bpj2np8sCXRZi+veaAZBRMMpk07ZGu5MeIN8BIr4DkchZiA1HDxIuCEOrcdsbvNRyox3wRaLQm0FnhOZ3xNHR1g2rKqsMuHSrmfMBjG9GN+tRRqFMwxhmrOZEIWZ8dhLj/7m00yvrloIumpbTUdwAzBnd+0cXJZOmV1VZZXjzjUTig6rVJ+0IacXAMaYeKArlCsS64P410XHfaEhIv3u9zQZx2/VGovMUDngjKbhNXTakLXwKsO2PtQKru7QJMOQx0YtaOo3NViTqYyUJm9difmQvurYHIDVFFoi/F43F7fjAZDmNoraiFG4z1dwWDIXs7N5SA2Vz1GJI0h9nfYGFwNiTCaLI40CCYWw0xDVQ6CGB3xBWFG+X1+qMxI+W+f/NR+6aOe73zpD33tViAqzjiw9Vxix/xUWhVx+2Gsway28RooNsZp5P5yLsjAvKDyDpVHDxGPXkCFxMwKY5B2zIUrjAC9szM/tzjy7iVYOXKa9O7Kw0frm5tz98YYKRHZTvXODk2sb22trz4Yv3TzHm/p6Z04d3VpYXnl6c7C7MLou5chwqAuAXaVlx1uzg+ODUH94ZIZD2fQU7z+4JWJW/dRCmy2lafby4sr42cvDZ/um59feLCzQ3/z7s7S5CyKHr1888HjJw82t1Y3uCN7+u4QhOLixPSD3Z2Frc3V7a1Hj5+MXro5fOHy+vpDmHzL9FftrC2v3T83MHVn6MH2zgrk1MaTlfd2oPIBoVF/MNbdFchmwBvpbMbd3Oasb06S8bJRDE8uB+FirW0I21wp2TsbAa1AMIVC5trGJCyjTvojQ7lUpisXsDudZkuSG1vlpl36OzJuszXmZ3wJdZMkN90n4k6bTa6mzEbS6SBjm3eGvUG/ywMdhL69VIa+oc4cD2dHIrHOTDiTiqaZP5FKQWqQT7L0oYYy3AwWjkaD4VCqkxa+CjyOWsJBKBGJiDQPtUAMwRoPhELkkwyvvuTd3p3ZUCIWisrFeFIvvuPchh+Op5KRrizKZ9xyMHk2E4hEuIaV4XWdaAzIJZIAsUWSnSwK2cKot4uNiSdTiSzjoisXLKpWsIV6U8BtHGYcYNlfZEM6DKJQhJsw6bFKp8JodmcWnAmegaEayzD+PNucy0USsUgkDF0vDiRDjvDcRpbO13iCAWUEz8RVOhPwyw2lvO0zE8ym0DxABoIB1AUxKh5T3loBYRrj9RK83VRgc9BMA2BjSOosxyiU5cBBoPh9Pt4OStrgEGAgoJTFg7zyVI0vCkHXPBZbPJlAOUIbjF0PM8Rjs4MegBDA0iWcSYPrIm5fspN+fVTNkkMhR1ML7CxWJzuD0U1MD67WdkwY6JSiSQgmV0t72O7GxMn1BK4AwD4NWuoaouGQ6ghlbpZi3dFEXQ9QwLN0LemoaQxYHHQA0YmWjvZgTvVY9NVxuR42hNmuk7yA+cZSVZeCHivXWDOEC/S+cuPlk+88J33wTNy6Sr5AablMJp121bVQwWeEEy4U0J8VpVfO3dgWJynmYsjZnQ3anZbD+hBw2M0rbaOdgIXZ3jLYe+XB2sN18O+TzfXtHQiX4YtXp+8Mr21tr21srWxsQEosTM4Mnelbmp5b36WIWN7efLjxZPrqnaHeq6sPHj3c2ll9vLmyu7u2uj5y7tLkzftrW1sa7HvbM2MTgycvcpPz7jZExPLO1it0JC+vUVhsbs6PTo0zyGvv5ODI+pMnSFx9/Hjm9hAX+XuvLM4vrG1vIXFl7cHkldujJ3qnbw2uPXiEhq7u7CzNLo2fvzry7sDC9Cwvct3ehrxcGJsaPtM3cfkWQOgD396EquVr6bAeroAJAFLAwEQxHuGIq7rBbqiFVCKD5UidIY/Xrq/2NPGySsYPk5tM/GarXW/kVQr8yWyY2TwNbQ5jY4SrUZRBpPJg0FXb5O2wxOQmXGoT2UzQ4UQi7HaNDQCbTvnaLRybWAwMxuBemCQjEU9Te8DmAiAlGkcxC93B29jGw1wUN4xbjr8CZgdUAB5AoxxJ33l2hfhnP/vZ1Mx0z5sfDXv9UMLvSnCJxaVl9A6iIWxze8y2KAPmg9MyiWM9KtAEPtdv3USlbCEIKxBCCwuwYTB/NvPO93l4Ap/33n+/5/WPEjmJJKzUH//wbWZbXs4eParCCb34+fDDD4+lcy/fW/D228dPn8ILWv6lL3wR82okEsl+5CMqcs29wUG1l/rFD8r82K/9Kiib9xFDIgRCQAv0Bbp405mvfePrj548VjkFJzPdH/kIkB9PxH3t5q/+0VcK/+Lzdz/9u96z57o6uxKdXRBzQPKJ06fVXxLc65eVrMF4/fBveB6CnT3W8y+EYXs9mVWnIp77fOvr34DKpvqLz9Pdp1GTHXMM25/JvCPp89OzvjbLv1D4G7/6K5gyQ1Yn18I9PkhDRVfc1d1sslc3gJYo0ahC8tJkHpZubI+nKeJBzBBtvEKqrCpgdYq+zCtPoTK7appt5TXIT1hQC4r1QgmqXBq685z0UQ9mHcUykFPOygZraTXMbcAikeLP5bOpWEIJ6IDZSCc0Zt7vYIYyK75qXubRlYtHYi5Dw/C5y0tzi3Qtc418ewmKzLnLsLxWHzxc3dlaAf8+ejxzZ1iFKFvf2OCRMTzLqxN9N2DuLE1zf/PK9g5gF8dneJfhpRvLq2tchofoePhw+sZ9mk13htYePV6DgNvefoUm0rlL88PjkzfuQjhxh6EKyyghWUcu3eL+Q4bs4H7FmaHxuYmZoXMMh6iyjfRehSycHhzDvyMnee384KmLU3eHVhaXx2/eu49sUNigxZ2/PD89tzK3PNZ73SJhAWBz2WsbE+Go3+ExH4GGycie5sN6v5l39TtbzWaY5VAdD+gsvBMiCDvIQYeujvuAYKw1tSfiKd6TKZqt9QA3B8EqSUCmWO3mwxUANEEHNmJqikBEuBpbaQ/DDC7We9otKRB3QO5rRmNg5OuMIejemWxAtDMo3pYD5c6GVki3VDLtbue5ENtrZeaSCi/93Flwl7W2kXsRX9VZIDd9QSTevvWSeIO7OzuBmmbrq6VqP/HS0jImJ3sDY8vDLrNU14POUtncr/2advSRINs7PceOQcN3W+ymEoP11TINdnk5Ek/YG1tVgAv1+cEP3w4GgraKWhga35UN1otLS909R//h73+OsPjgg06zSx1Pe+7z13/+37Pd3Yrfdja3Ivp62Fxf+C//FT8hOP7g87//84OlftAVTQLJwKrXJqGXXiuFrRdweG5LPNbnPpCwEX/AVlFz+Yy2o/q5j4TRSSQzvCpebUdUn+98+9u8GINBc4zf+eqfI2Vueibb1fnzZAQkY6fF/eKxe3y+/sW3MG/tPwP8jS+8JQamA2Rw/PhxpMyOjnt12qmaFz8f/vM/v/nJT/gaGRWMrt8iPQzwVJK3vPAOW6FJxmCDlgFrywaNgxuaaYxX1UPlhK7nrWVYVRAkbB9XU0cS1n2enunj46VdDsyRfpMd/GIpKr999vR+uaOexfu3Yd3H4smwJ2BhVP9yHksurvCJMuhvs5Dsi9CYUqhaQZ8vAUHDCLx0QdIHWtccj8RDLp9VeHDkVN99sPngGOyYqfsj4GUqH7I3en52bmV5FVYOrCoYSRALY1duri4uz49PD3HPNAwrnmOfujO8vLI2cWsIhhuPYZ24CPEyNz69PLs02ssNRGqdaqT/2tLM/Mzw+Cvjp/vHTvbdf+c8/c2yDRqSZfwUM93/8fnx4zxLwQvGTnND870TFwbfOT9+gjueuWGasL33j58fOn5hnPGHGEho9HTvyPHzw+9cEMlF2LHTAxMn0OILdFYdl6MYsm0XiDZzIzllCj2FJRUwhiEOnIcoPpRzDulWjoesocAgxzcDwTDciaW0GpY8hBTdwyqCxKEyV5kRgwr7ls5RkRpc6tIZIVO4rFNCr7bl1TKnvtbElalS3ph82ABhB+JzVzbwZmH6p1g179KtqHVVNYK3LcU6XncB2Nd0bmMzRtrOMEbMiea1l1S461r2At8w2IqhsAP463/wZfthLQLZ/NQMmMf2Kn23XO45oGvnlnmT+vfGxT4eQ/sfP/u9T/2Gq761HW2WXmiw07M2Q63tNS3WzPajJ/iGgPPWNjvp9dSrMwFzk1PQ4NoPlO6HXZiZhbSlEx3YK69SW6LnZ2c7DvN2VoYHLi43vcrLhX8oJy3x+caXvuwpqVTc23/2vPXVI6q/jrxAnBmf4DIKN5frGdSpvhn6AgoxHWY294Hyz0qgD3zAyTz8UaJ/3eK9fO7C5YFLbSX6zxf+HRmP2JzeNou9yHD5rHbQoffEaZ/V6TA2qWhEW4/ZWQimVDjaUQKSKPuuhDECrLWh2dNuNr9aCptCYWYGgsNstxsb0SqnTotkMjs+wWU7NPUQJhIG4QeIOjG3+Ygq2O7mZqKyyfRamavV9N2vMzAmhhJ0hWkGNfqaO9TmcvSa9IbqDDWu2mbgGcMNPDsPldPnXavRhhAb1zRJV5g4JQ4RMABUW18rNZVXOQx1bQLrElc3YG2GetMRgwMvAmst4mkMd3ldO2QZMV/+V//tC89JHzxnvvmXZoCUGU3cLE4yACxG03ywlPfW0d9M3iF/oZxDOsfhChPDBqHN9EwzOhVvJNc7MFsf1oNbIVzAzmOn+sGwY7xhGRzNsF9gXm6pOS7qCHj/lLicobK8A96XmF9nobv0Dp+4AL0Ezxg0ErmQArx//8T5+yhNrkul3DjFAu/xlgq5mhlybvLKrVEJ86wEEIMEnRuYu3Zv9PQAj36wIN6tMX755uzVu8jGuzVELYIyNndrUFbrZWGea/MXRi9eWbg3Nn6WBXLPNDpz8uLkzXuz94bvneZRDDnBAExVhNotLonp4yiucBYJBqtqQ04Xw0FwxZ2hrWwHde72jqDFxiMXRTq5d5y3QUTtHndzOzQpp5was4N0ahpDPp+1sk75+bmXt6g8aLaFHC5ZNefyMBeYy40xj9/TYWov5voUx+aAzlvXEg+ELHQByihC1hTrg1a1XFopB2rKua6kN8b9Idg7FJ0M6UQCBcPHIhEVDmJubMIK2MMVn/7EJ/NbXU87DutV4MGlhUVMTRK2TmBfY9jTXDb7D3/395A7/+1Xfl2d+bp26bJsFeOFuWiMgl1cXPTbHaZi7fjIlTPn1bmEv/rTP5dtB3pNA5qfj4a4zQzSoQC7tLgUtLt4kKVY5ynVBNDS0pKHG2rYNcG2IeL2YmZWJ0t3Nje//FufxQtsjY90dYOszdJmTJ4qhP789Iw2JWAKOVIZ8vujMS4dQMNFgY4Sw9I8y3m6uxuoawb7yXAwWDq0yoDJrnq6s7EZqW8PBfzReMwt9/xoZ/E+/PDjb34clu91icp89ex5ddzh+z/4gY/asU6dsFNBTiLxKI+kHNBg56am0Yuwx28pq3SUapHPFmbnYqmkp8MCMnBBTYDmW151V4JkX+3tV3L261/4Q1d9C+y7d8SYZdgzUSiglcPQviUhXzm+6IiuioGcoQhX1QMJKLC9qMwmGj33NJYaLEU8WmUqKve2mZPRuKOlnWo7aF728UdcnlgIihLPSZDYQK6VdRjxII+Yksg51R0sd7V0xCJ7MYxcpVXTN6/ulz6Pp8eSTW1WQ03CFwyYbRD9DogY1HuwzNXYEgmG7LxTm7DcfgEdzWKLOBmuCBzklAnbrKuKOjy+FuhxFFXQM8Z/zMMM8zNzwwPXh09eoPJxkjdNTN0dnBseG4KSwRVwSpDBM33z90a420YW5gkLmXLx8iwSz15mhne18KoTAzdmr94R8QKpRMWFfp5Lt8bOX3kFxc0Mja5tPVlZXRnv52VeVJx6ry4vLq/v7syLEQgVSXYnDq4+ebK6vTXLlX9m4zGO6ZmVp5urjx9xaYzHOLg7cXX1wdrT3cXltfHeGzxef7pvenB0ZYtuaViG5iMVkO62sioIi2gP712DwczlACiiNY2JRDze0wk7xVnVwGBahysCVkesixf1RTx+4AvyyKWvieDT0wkLXLauY1z1rmZY17z2N5pMumpbrLDpjhiCTjdgYeLG/EFzeTUmAY+hLhqNhgGbk/uL1bb3VhNscu5RTqXdDa28RAwWhMcb6RILPE8rzqp68AmyITFgd3IL0iHGuKFzujOn4jpTA+LdD/5PMwSPRMA4ew5akhJPi8vLiVwWAtHGELF6t4m35b71VYZGh+Xlq278/l98A++MSfyxN+LRuKWqFsLxVgG2MxtyutWZA6jEXxbA9957L+nyQ/f+/p//JbOtoApeNcfQMAf3YOlQcHnk2Ge1Cs/KArMMbISZ1lFWDWMw3J2N5XJvvfVH+LfwuXbrFt2cXh/bXKz3WR335JAETELGRS/SO3Q14XAYuKIbO5V01jTCwPzE0deV/AV4KBjgWVMYOE4X0B7LZv/T72khKQbOnItEuaCJxGg65a5t/p6c5ITR94d/9JVo/j4JYPUL/5XGoApwEbS5vicnRReXFmWHIV3snvpWpe6hX+K5y0UiYW9Vg9KAeEdAhnuLRRDr7VV1sVhURRqBIP6vv/W7eGFo8F/+aDybfecMHU9zE5MMseT2pXKdaJ4WV2RswlHJc+ooKprLxkBsEgPb09IRpyeYUbojoZBTZ4RA9zvd6K94MHMSWbXCrueN1WhbFOnJpAOiGfTc2IZy6CfqykGO8zxwcYXXJtdJYyhzWS+IHBJEV9OdzV08dVxJn0vHf9TZanfUSZxyienDS/ePVGJEIGeTGfrvI9mMh1FZeT1MyO0lI3R1xkNR0DM34lXWxaJRnjoATUI9PFwxBLkANn/8ZHV3d/Xh48krdxh08HT/7PDE6hZjui9NL4ycGxiBynPu0uLc3PLTzbWNJ7M3B9XSGATI8ura6ns7S8trozyGxcSJm/d4DGtre/b+GG+dhypzund6cGR9e2Nlde0VSCleefjezuOt7enbQ1BVIKgmrt5+uLG58t7O+sPH4303lXW3NDbDUPNPn67Nr8DqGz3RN3bx2vr6g+X3th9CsoxMiRvo4vSdoUdb26s72w82t6ev3R97h1rVytzi2tOdtZ3dh6sPeIblgM5pqE+mEqGeHHfT2z3QVDEJB0zWFMYPgiDX6ZW9iJZSQywUUoHl03FujTFB46hpTubS4BYujvqCPH5dVO7n7emd4lHrCnYwlhCM3gQQTNhcJpmxGxs6DpQGGttSuUyYEq0rFgzzkH1xecDrTXQRNtnZFbJwX59dX5OErOnOgnpSmaxTdm34WzpSjEwEicYtsOBkkDLEKPeh5nIqps8MCLSitjOl3QYBRvrPn/4ty2tlt+VwFnkDsNEYCRSwfn+yq1OxwdWByxAin0x1gjPpBv7jP05mc66mdijY6uAiWQiwsfjNXhp3CwsL2WNafJzvfPNbFEDfoOHAAF3oSC7naTaZXytX4Y20emNxR3mNo7xaXeSw/wPDLZ1MKAGU6zlaOPPJyMef+hSYKhFPeMprIdOjgaA6pbW0shJ1ByxFFS5jYyybQp44j0d1+tqspoPlv/axTyj5+50fvR1PJr0V9Zh4whGuS0Yzmd/Mn4T6q69+LSnrjFwX6+oMdNg/l483+KU/+kq4W/OXz45PJpIJFYvjuz/6USwY/Y4cAAZOojlZUwOsxXFd4kwurSyjClJROh1oaF+aZUC4/Z+Z8Ul3Y2sqH6sIHYm5tPAg3/vR2xBePxYBND85bdFXYcpB4aGsFllNwYK9QQaRDCNDhawuc3FF2OmRlSyQVi6TSruMTSZdJWQc+5vORHpAbBHLYYOrvhnkF+E9FqRABr06WM6Fv+7OOLJJmz2GemhJ0Ug4JR5xHi3yBSFWgOdkhvHDQKiYj6Fbga78JkuC4ptLFlDTXOW15mJ9OBAgW0E0d3eGnX4TZndDTSoeByNEOnPJTNbV0Ap69qIjWR71QAcjgZC9pAq6zOzE1IOd7WXw787u7D0efx9+d2B1fonHRXd3H6w9Gum9yhgYvdfXHjxYUrw/muf9G3cfbWyuPt2GCJu4dHvsBO83nR8chzRY3X26NDUPBWriZD/Ul4XJ6Qc7Ww8eP3mFp0/PX1ocHJ+4dg+lyEbEvvunL45eubk8NjXKk6gqsHzvvbNUZCBoht+9BNk2cWoAYm/44pWV8ZmZOyP3xXtNS+3UxQkJy8ig1vRV83Tr0LsDSyNTK5PzwxeuQoOFtUWJXlmbcPt5aXIJLz6Goggln8HSAyFY17BTYBtz93opL+ekf66ilrAqtkZ1PZQav9VpgsintcWcnnYTTCFfPe9yg71N15Js9Iz4Q7bKeujSUHchXDCQiVAk4HCbShnQA6oytNNAhwVywdXMu0ypsh4sh1IAEwCKsa2qQWIY6TuKda665qTAmnU8VMXtcPQ+mkGl6vznc5+x+0MwsGFyKg/C0uJiyOk1lfFSee7NK66Ie3z/+I//CH777Bu/gtJcJZWKYa5fvQYdENYNGqPOygM2wDhExsJJd5gGv/nbv/nBP/0TDJmwsfn7f0rdYXF+IRaOOo2NQMIz9bp9Jl01jAL3yyOoTlgMNRF/IB6OhlqtBX8zGvbWH3wpBN2TRx+JZyD29nUKNahgCvPcVFLJbUTUWxlvBFat/vc+prl4vvOtv7HoazFkdK6VGIJ2ZyyT+NTH3lSHPxlQ0VDnj4Yxjftq25Dt829qAuitt96CUnZjgGfx0VlYeb/xK7/6wYcfwKYL17V9T+xNyM1QNBJPprwNhNWcZTMzCQi1YMRmqAMBvNhZOndABlUNd+7RR74wPcsD8cE4miT3o7x+4sfvqGxoswWquscXz6Vv3WRgeZpg0FmqGoKJaCKT8TeZgFLuqWEMI1MqneYVOlX1RILEMAp5PIls2u9wWY9w6zzSHcbGUIwbTT2NHaRkGGXFOndrRyqVigbCFkMdKRCmHyOoeuK5jM/qtB420IYCAg21oQhx5WHcJTp3GN+qqS0Ri4e9AVNFDffxH2LwAJ5AZlQjE/2qMPYPMrZf0OMDWuxVjagX9AwWAx8l/aGAzdVRQtWJAXZO9c7cG15ZXJ7Mh5EfOd17/9zA3PD48vjM8IUrI+R9Xq0zdPHK4tjU9J2RQVhk3IgovH/p5vLguJIb3J14qpehoK/fnbs1zLuXT/VNnhIXM6yiq3dG+69LUHr8Pn6RGhT+EyGCh+6bExfGeZcYbSiUjm9acdyCSDnF+33O8M5DysiTvHdVwY6e6Rs7cXH0eO99XnNIQGRmjGvZkYjWgyuAIDz0s8iQgP/BipJOp7LjIFhd3DrFEocBCCX5cgBUNrF9uHxgg518ECzBW1UxkLBs5boIZCMPWCQuB0qjl1SkgFUi1bNS7hbVOwUWVXB/arEOxTro/JZgZqyCY2mjrGS9DPctahrEJRrjOqDVC3MdsPYSw819i1P4/OS99//mK19zHEC9BtMRzRlMx+0hvXMPVv/Zj2uM+txnl8EcmtAS0xEtcPXsONhGj+4UIux0HNbZjmihf77xB3/0PVEKkG4rqeRuNEjbEr2CRb3WogrVXyhfiifnxid5WIyIEiclOlJSARnx/a+StyECnsq5ecDSzjrIseBTrF0LMTs2bj5Mx6pD4qgQpSUMmItKzSXlnwyQn5Gt/+TZAqy4gcAJVW8G8iHfT56l++mIwXmkynaA04byLsvVbL8G1BUCGznYo3J1hv4bX/yyyjY3Om4qo1GpjuAp7xhv2qgwojHonaPQ2bEJd7mRAQxIG9ymbD6kUw4mFGIFLR3W31KY/PKfFDCJNpPti/WucqOaBpCoQpdYy6pc5TXoL12Th/VeUA4evdHKjX9CqCRdOvsceiMbX6QDGQAW2UylBkxvClfWEjqwgQQrYEsM9gN0O6h6IdRQhRBwOWAxbfOUImBLqxyvAVcVpiPl4s9CYhUo374PzxAuwAyKBX2ia0g0FQujFRkYmFh4jaTOpWcCKnqWkF7UZbgwJfw7KZIFP5VtNArjSxzJeKB/cEUMmdV1qSIi6D4+foEBOgoR6ZXc4JkKbfGKmgrej3OJ7RVAjqiFMdFW6EVWVxee6kWVML5UfaOnB1jHiV4IIC2beKbpoj5xYT8sEgE7LPcEoT46oQF4qo/mHzvWC3RAOkC+AK2Y4dUkT4zjwQvlCDGiEjmQRQyvR3UGf8n6FGEpkgiOnwJIhNIbKhNyPhthgXceRGLIZFRBwUQnMUUST2OhfGZjvTqVGc1D+UhEUVxZgyg8SFkGAcSgX5yvGNQKsoN5SGdIBGyFugEGBMoy0QzC4i+0hOUr/yjnXnBgXuDiUYLppR+wGbKhwZpvVeZttFldJYSiMMeiGb+spu6NrVPf+i7SYQOifFJtsQHghbslIF9Uva59PMnZ+zAZDC2RNusLobkGTp75/Tc/hRdIos+88UnkAQMIfevzAojB0ni9L+dYGSAZPnuxAXl8hjqlRintzCVHIhi58VC5u7jSw6CR/Hd3YzNkbETh9iNkOU9ZjWqbck4jf0HdU7CfiGT+iZ3dVJ2ln7iEccIgEYjMfGftZVUYMhTo5oUiLBCJLjlxKgPHGyYwEDdEADG8WbEBVPSm9B2i/8S3v6cqRZnACR6nfl+IJc5hOkepwamrknoNgkCuptuhpJcalO8SBXJSLC53VtRCqYF6S7oVKnVA0OiqgHwHx4jyi6rQEbaZphYEDeplLWWOkkpMxphQebqFC44anjma5A7O03gHVahvIWYOEyZyNIMCl3MGkQ/ZB6mEBnNaxfzKpUBiwwTlCJkFipxOrQIaSS9sJbAzlAyuYp8agOpAPQO8LIxP3sdD6SNakiZuCAJwZFMPV7FOD3DZi3n4ryQqEQb50EsTbPjCZVhxkzfuDYuLiJmgDV29tTg9O9F3nfrRWQY/RPr04AhywiaEzEIK5CJMsKWp2ek7Q3KHNKUjZOTEzXsL84swAuk8OoOcFEPTY5PLU3OjFy5zeRjkCCxU1MQ8fn87o88oHqBm0dQaDgXdxkY5kgcNvwLTo9fBS7vsumoSumSzG2phGPtM9EBrsEV6T0tHJBT2MEK7yBEIHcA6XVGJXKNgaetV1sb8IR932TBomRyFpQ87Eom46lvUsUkejzpS6XW5or4AN9GroUWxVbWxUMhrtcsKHSc0yCNPc1s8ErmhAmiNTWBCQ71+l5v+qXKjLIdrgmZpYcEvu3vQLzTGW1H3D3/PyHjf/OqfU1qJFPBUNqgtf3MTkyA4VKFIf3FhUWArNIUIHNXSHo1ylUQVvi1r1fPz8xG2uQadAnUq2CXAWh3sL8ov1XhycXGRKywgXDkWBDwH3G4VQfXDDz7Itdud+fvIFubmpM2cOdBOdcfD/NQMcA48Y54Hw8NO4fFuQx3Fn+hT3/vLv0I2fEbv3otWNxHV5dXXL12enppyt5kKERrH7t7PwXKJxd11rYVl+L/86tcS8QTKVEv+lJVHKtAF2Ck3xSOmFuaBokgwiJyOmibUqDAzNzWdSqSAfKvOWLA30YV0JuM126BkcWUa1ofeePeuhO6fmgYsRhzsekMCG+3s7DBdwmASLXZXKptVhicFUJEOMiUqYWQddS0UGTLfOJvakplMOBC2ltfYDolAl8MigPVwDZeKNustN0ZCoVgy6ahpRr1AC2tvaEGbQ96ApcxI2kBisRxqTyVdrSZBqewCKcUYecS6rAWhUngV6a2G2ngg5LfYML5IwQMGcde3woB1QbijGeAFjBTa2WGGCczDGRSFZBkUGDLZXFym5OREoQDtoe/q9ODo+LtXoKcoBQKcPnrpOm/yEjmgbJ0hsHb/9bFzlyEiaEgpxQU61IUr6ie+AYvEkbMDIyI0mKgeZDg7gO9X7p+6CJw++snThxtPRvuvjpySizjevfRg7cHDv/vb5YUVGHiiIvVOX7/3aHfnwU/emx0aozLGPUu9C9Mz6z99+nB7c/zyjeGTF6ihXbz64PHj9Z+8v778YPDcpSE09ETvzO2hh0931376/vzopPlQGXpuKtaHYVp/pCfVlXPXNmFKAXs79bXJTDrxeg/PHJYaqGscLPc1m1LHupEzYnNqekpJRSQQiH60O9Wd80isJkgcZ0UdTwm83pOKJ2xyasl+QB9os6SOdieO9fAwIScrwkaDwfhHutNdOU9dsxUqNKaUqnoeU3i9Jx1PWiRiDlTcYKsF9RLW7VXqK5TVeCCQeL0r093pbpTQhZi4KuuS2XT8WLeKvEW9ALCoV4P10LjjRWDkjf0fTuMSEP6f//mfP/nxT9p0RmkzYe8P05/9zx9+mGqzghaV8r+4upLq6fTUt2hT8eRUMpeJob+JlK+mWSkU+CytrsQ+0hN2+0CaINlnYCVoXiGE83Ofv/mLr//O739eW7k7ecYu+1aO//jH+Akl6Pd/87e5UgvwynrlhF5eWsIUQswcLA+Y7UBp/FhP1BvgPiBQdokhG4+99EbpxZWVdCbrrmtWgZNf/EBgpaKx2NGuTE+XcsBDSXE1tma7u2I9XV0ffV1dqoXP4tx8/PXuZHdXKhyDbaIuw1laWkp0d6Z7ugJWp4P3snGJ/bkPtMuY23dX8Ly0uGTRVVkOltr1xu7ursImclQKmnG3dmS7uiPdnWqRAfYdeBUTZ+z1rnhPVzqasOgqLQfLbPrqVDIR68mB3rjQBiUIuGpqzXR1RXq6El2dFJEHdTB/Ig43qCXZ050MRCBVYaNhukpGIvGjneigv9UimwnpZsqAJo918+yu6FDQkvzghaNdsY8cjTg81Peh1BTzREUS9NyZcVU3gCChIllKKxmb4CPH4r4QTy9TJEE7q0ln0umjXVy2E5WHiy1NLbmjXfEwoztAJ6BYOXlhbmR84/2nE3eHuLeGPiAuZgHV6w/WhyE1RAZxu9C5gSeLKzODozSVRLWBNjPad+3h9MJQ7xVk4BlSsaWmr9xeuDMkS2BKANEvPH/59vjFq6+Mn+wbu3hlYXx6+vaQKFG8vBlVTl2/tzA9P3L59thJ2TiEgt69ND80sTQ2M3TxCoQf5SLq67/Gu4HujWiwEFVn+qFM0Ql97S7aKhpX38i5y4sjk0uTc0O9V2lPiYHjqKyPUAOy2kqUEgsVvcLT2B7xh1y1LVQ6RGxbSqtCFkfU6YORrGlAYK3qBszzvg4NFtMLJIu3uSMaCHnqWqGL0scGJRYzs80Z9PisFTUF7clRVR/xBzwWOyY3TFNQMQDOK0pQb30rCke9hNVVh2wuTMLUqyURsFZjXZh3TtlhYEtOBdseCYZuXdI0IBP0W8I6BbZGaXwvmlo7m5v35RqfxYUFTP7Qk2HjqHq/9PnfV3m+/gdfLsAuzi8ETDY6feQnTC2FK8x1mOJ+kI8zfbV/IOzycm80tTbN96Rg6WIQMXrtZVeef+OtP74jk/zu1pa/tpl7eQ6VB5o6/lHUsdnxCWAVjbQcNtySww1z0IAEz8CAWVcdsDoiLq9DXysDxzGyGesxM5/60Tu7W9usQATZ+PBITyrrbmzHDOw7Uv3jb/5N4V98nqw//Iv/8kUaGsZGzE/Q+K71aRqQvaTS02oK+QO+hvZCtOa+M+8GnK6Q14cxRb2qs9Bowv5A0Oqw6RgcRxmwz32+/gd/ZKmoUReWQpRLm3mDqLWu8cdv80YAfPpOngFN2g9XutsskWBYXRyAlnBeNNRo9VY3EFZMdWttI5oXsNgx/8FgBKphYblazaFAyNfQAUsNxAYEmsur/TZH0O1xVNQBlts7oYRWgxd8fpPVVFoJQO4YgrFc38qDFLVNtK2g6QD5pZWBdmvI4rTo6c+Cpgl1iaE8LHbGKhJZw15gXCrruYXaoKoQNb+4wl3T7G1sNx0xiE5UwVpKKqB8gRMVIyguhlIzc+XO2NnL+EmPilxLMXn+ykT/dSVoKA3O9A+d7R+5eGX03KWJvFOYwuXswNCFy9CDREui6MDD6MzvwhaTDPkHicjGndCQRtw3fUIqO6t2CiknNH3GNMqkHZBK6rw7ZBbgUR9rPdk7dLJvJA+LdAU7BEVOls/ELuPDRNRyspdqrTh3rFB6D/FbYY0GCN17dJ3ICg7HBg8YGLoG9BRaQOBPgbXQQcNvjJZ4fKh8yuZAlAnpDkB+Y3pholjO4EbaxgJlKWKcKowTLQgZNmTTnDv0RjMoBEgKgOI/EskFFZqwkg1tpsoqritoVUW6DhR1UFVB5ZZtZr2MH6KyCSyD+Ei94vAirHRNuQ8ogqWDxQSkFSn9JSyoR3DFeqXNxBWbwcagdmkw+4sS8JO6HnPSP8Um8fAKwLX+amQK2CJmzuMK/9IVyuWSZ2AJSOSLik6/EhrDfb1sueBKkMP1hDJzEYN2s/vSX9Yr83YBFh1BFZCMrEhgkY2uvYNlSKF6Cyh6tYFMIgpTdAFWVgPYZlWvXQ0cCUMeIIHZOCiAxYQB/AMW5TOdaJf+5utVbeaO1ny9ghlWKg/bLLAGigy6cmRHPlFNygQIClSw0jwiVhyLrAgDx34BRKhRBh1VcHEDmAHqgCs8dB2CKrgCwLlNdU26wDYDVjQmEjDaLIPLqP7QQ8WGQEs0XiAscSgZ6OgUBAL53PqsBpf9JRUdLLccgClHh5caI05IMuLIgNLA6VxuUgJBxAQZX7YOMvE016lUuvwli1+iZCjpMyHiRhL5UyXiXwgySA/mf+ahuKATmvBSEIURRSCFCGXHSa0gEUByv4UcpS+ULkKubwh6kGhJ4sEiIGEhkpgNrUdPWDJ90lIg0SSIA965RF0kqBHvpsaEahFB3pmCv0T7gIKgYPGNB+OqJYoUINLxCKxAqRSyrv0gskFRIhTqQgYkOg/ynaWpnBBkhKU+JRJN6ABVHBRCVAMmsCQvTBfaYEsKMiNRmsc2yNCS6OllVF0jLKsDOwllIwWZ0U48ymGMStkMqVqpfsiPbHlc0Rsq+TVYFMJugvIAIrAU4gKOB2hhw9g7aTwAxbVJ2EKb0ULBuUId8Y9KhRb3YAEilarGqBT+q8l9Bcu/AIsH7+qnyskM0hL0gnlEbqpsqu8qD9QodJnFClbxIu9MzHu+BRZdAIezcC0zHkzjSMQL8gAWfUQ2wR7xrPLgKcCqZqvMeGGzBRYP86BqmdXQfpajtYeUpsESXDWG9SqUElYSlaas6kWi1MsxQkXqQSH4l4mS8xlY6S8qVYmAJYg0L48oZlOJQioarMrJPNrISgnoI6G0R5Up5bAovKuW7IfFO/gaXEyZcEp8xvKuHDri/aFwQLoSSSJQNLFCEPlL3glLZ5CCVYWoR5bO8ZMCQR5NAxq5cHmEZya0CvACpWvs4lXNihOxwgWvc5fGzl+BhGMjlHsJIMh2ljuDmJMnv/jvRO91BQuJxsqQ7fzl8QtXkV+wo40Bo/aXVmmESy7inO+qqNPQhxQhJquu2qGnV1UhHfn5r8DiX0GoRjSMPazQKjxJEMDqCAtApFNgIVFgFQFhCuKoHK5w6msVLErjAAOkrMquMz4Ha9FXcylUiJ7MIMPp0FWrlqifbExpJcBJuCR0DdZaVsnMkpPZUAvITna+qp/4Vo3hyrRoxSApNBL9RaWiOUstsHpKKJJcZBLSqAf6kSzto2F5ymO9LAqwopYrjkIVyIkUtEchTSqVdHCIwCo6VrBqI8lzsMCJGrUCrOiP5LRnYEX9ZPulFpWN0/LzsFR7C8yDF/zskFqItzw4YVEvOojCASuJyAmxrpCGnwpXL4VlHoFFIqpANsDiG43BTzxEJk1UpqsUlRlQRLvIIHQfVeAnG4MCQQ8yvi7xOitYZpZKkY6ftsMGp1zixKIEllXzeoVnYPGuwQpdSX69XQYUpWG4Vb0yzQgd7od9oc3oPsAVbKE0JsrAqZwv9lcJDoYSlCUm/hSZwhdYNhRAwvsigKDUDJ5hIt4pYgqw+4wkJYBgDI3ITh2878Ge4tafV3jg9dqtJ08eL8/MDcL+Ev1l5OTF2bGJB7tbU/eGGXdVKh46f2l1ZfXho8djfddRB+SLwN5+srGxOr84dFZ5ubmRaX586uHT3enBsdETmt40fOHy6urqw8ePx/tvcNIurugo0rkaW3K5bMQfMB0hdjgwh3QBuyPd0+VpNyuLhpnLqhLRSCqTclTWabDFOmdjS7YzGwkQljREshbYo52edpOVPjbgmiF4E5FIGrCGWlEWCGuvbczmMmGfD6gXTqCG7LdY0z2drpZ2Gy9mQjpPcsRCwVQyadPXKFiu6BvrM5lU0O2mw1iGDbDuDlO6O+NobIH9AkbFcEKoRX2+RCxqExkEgiCPGYzZRDxos/MmrAJsSxu6ZqlvAiwXUw7TPR9xuhORMBoPikG9KNCqq8pGoj6LtQBLf3BDczIRc1TXU6sn2ZG3gQSgBY0nqQmb2UqrMv6Qt91EY03ozH6w3FPTmA6FrFW8HQGUDV6FCRA0WeNuL4cjD2stNaS8fndrO53NeVi3sSEVJCzs0/2wMZenQ4YS2dBmiOCk2+tp69gPy2j/gK2uo++fHEWsBizWmNtjEpUEOVE7YFM+P4ZSwfJBvbWNqVDIBlguAJEbBdYW83jN0l9mQ7FlVSlfwGey7KtX56ltTkejttoG1V+MHQRr0O6IB4Omch4TAZ7Jn+XVqAJ4BixSAIt6XU2tyXjMVt+k2gyaAeUEnM5YMGDRVakxAgashpp0JAL8o2RVL88JNramknFbfSN3PLAjlFwhpysaCYGwn4GNRgKgDZp4hMVQuprbkqmEo74ZnSJWpd6gy5UIhwr1suWGmlQk4rfanmlzc1sCtFHXiHIK/Q3ZHAmwm457d5GT/dVVob9eswW0gXmXusnx3ulrdx6uro1evTl8kpt3YLUMnu5dHJtcB5ufv0TZBIkDEXP+8oOFpdnhMcY/FDk1foL+5gdLy6NXACv7Ck9BJPXOD4+tTs8Nn9Mc2Pw+d2ltem763tArKGi8/9rK7Pzs/REl4SjwTvVO3xlcnluYvnybm3rUgbSzA7PjU8uTc6Pnr0DWUK9BHf3XlwE7OEZ9h5oRBdDULcAuTV/h6TAIxQnYk2cHZsYnFqdmRy9cAVlzYsesYqiNuD2+djNkChAE3gNBuxtbo96Ap7oJODKVyIRQYvBZbGGHC7oMUAZsYjwclbVht8fbauJocSQI62poDnk8nupGEKjpCNiAkw+QG7Y5IQhETnE2s+uNYbvL28wL6RVNQNy46ppCTrfbUI/CIT7U1OHpMIcsDjt3eQmsEGjIYgNVKVgkUmOvaQApu8RXTQog9+rBtOBJx2HadGgzCyytCpqtLtCTYm/OY+XOqvqQxZ7X75gOcJTvhwgGiaha8FdpZcBkcdU3iVWvYInAkNnm0BtVNj4CGwBKhZmZE4gtNSDFVdtInItSQCRU1KBAKG5IREVKQUPbAkCLyDKBrYDaFZQDw8S5Bsv1FNa7H/aQ3g3kt5pkWmZ/Ua+ChdTYB6vHwAGBdiiM4gtDOjDpbm4Ld1jZqfyIcHnYbHPXkfcULPBjr6oL2xzoL+otwHpb2qMmG5qhwUI1KKuM2By+hlbVXxZ7iHiOOF3AGAcCsCIiva0dYavDWirL0gpWVxV2uXzN7ZCV0hIys7OmMeLxonYgX/UXjfF0mCKypK0hH0NfXo0q0B685/tL2LDH4+TcyWzAKv71dphCdqe9xFCARb0RB2iyXaNw0pXAehUsJYsaI2+HWerluTytXl112CltFrQgJxrvrG0ELxRgUa/qb8Ri57qNUCAZp6wSLfE0tSIbugY5Mnaid+LyzZXp2fG+a2BwipVTVGFm7g2tjExy7VzMLhpJ5y8tTUzP3h6EvgOBQH0HAuHKzZXZOYgFaDfQd/KwwyvjU4TNC6Dhc5eWp2Zn70AAUdxwR2PB7aQeCDCutUspeKhi0d3DRGo6IvB+EVh2SWAHZWcjYIVWiBHgmi46ccUVHk7m4sZDNoU4EIfKxtH6l2FlR6mCJRcJUSLFQvfhHizeAciceUAksl564wiLR+rlhlep4llYrtxrsEjZB7uXDc/LYVlvnrIlER1RzQPrqv7iQR4NNp8N7yYUiFlUmqfKRI2WA892DQUKElAUHi0bEHhQJ9tG1E+pAnaKoJTCQrLhBbM06tWYB48Ukvdl7iUClv5RaZ6WjpyoFx3ZnyJVADkoGWUiHaXBXGKBAqs4jQVq/RVYaQwyoL+ARYp6mE0hUITjPlgNz8wjKQVYVa+WbT+scpARV0Ibz8JCNweekUerAo90DSOl6lWZVZtVR9Sj6tVgC/0V6sU3ClcpTMyPr0rBX3gnoT5LG+iCdITZCg/ycHxFhVFlknhkNwnbgMIlXQ0HRbBAERWElUCxL2szfx6mD4j8e4r7nsGqYF7Fv3jA4+B0lbgnEE5elLUmjfHxAoHAxXtZF1MpUiBhlXLDRww6VgETTCUhn/JmKwCVsv8ppECkqZ+Fp5BYSFfveyl5aaV+FjqPh6iRoSIe8ylAkEpRifgm+vJEU3iY/u8Mu/doef6fwL748gys8FUhsZCuvci/hYfZ9uXZn/5cfjXj7X9UupYn/1MBFsBVNlUF3s3iTVDv+EZ6AYQYyL/j2YMVHgOtK0/Ec88erHRWZQPgHqwkol6VUgBRL6pSGsLIVvKSbKoolV+9F9CLR1WKRMCiFpX4C8LSVf9vajOel/dX3FKElY4URuS5pwCrHqTk69WE1P7GaI8Urt6RByXsB+RLvoOFlELh+x+VqNIVq9K4ybOtehTzqnQlgArpygGkWJs/C/JBhJd6VGaVUoAFIDJrAoiyTVbBCKzEm0hBCCoWKnnwAvOKmpX8zD9UiyAXNVj1DbVIEvGuElEmTTmB3d95iG3I4ALuFCLUxFJACh5MPtR+8z/VI4ujhMWDn8yPWQ7mtMDujQfmB8383huwF2ExjWAqoDM7D4hvaA0v1ovS9jePL6peDVbTCwC7f0JTVXMyVDPzXqJM14UCkQJqUyuy+daqZ382jaREm0AJLDBPvmpWZ1H5B62FJmKStdi9dOhNB/ZmSKj3eDi75mHzjdRgkVJIB054ARHXFtkSfLu4zV8tcmuqDTKjXg5lHglIZBWSzSFri2AqNBuJSvOipfkCLN7Vw7qK2BjaJsCkCD6AE1Fyc4aCxQNY9oLXPDAPWsjEonKoNuivBotEjtozsKpe0UTQkX1tPsQbXBx0SkqbkXjo57RZtMX9sKrNXE8ArMIVYXVAQoFUpJ0vjBGGGCbVvjFST0FrU7UogkFpoMACLL+5Nq/RBqEUXWlamwBqj6YtKti8gBDe59KT8K8kgn+RmOd6LVE0oD3e56PkhvyrwPFAaMiexjygvCAbrCIIINpTs9fujvVfU3IE//Hl/OW5G/eHz9G1rEqBMJq6dHP6yu0hWarXngKsOKsU7Oi5S0iEmcd3yQbYyYGb09fuDMEE29d/r7GR5/eAJk3t19vLqnx1LZZSmtYKm+A6V2Wd29hoFt9e/tH7apoIW7C3kb+0ylfbbCnVTGsgnbCGWo/sUnsJ7L56HWVV/roWs8Du1QvY5+o9XOEFbMUeLF9Um8u0NuNRbfbU7IelEo7mOSprCSKJbJWuKtDYpmBZGubYYr3H2OCtb5FDA3uwocY2td1ONQ/Z7HpjqMVkER+qBntYj+b5m9rAY4o3+FeJIdxqdtY2KfrWYA01oQ6LRU+3WiHR09ASaDOZlSMZzAOOKqtENld9szjdmQ2Uba+qC9jsjooa8IZSMZDT3dIWMFuBfIg2YAYpFl1VyGJ3NbWiZPrykA1/GesDDieRIFanpOs9re1+ixVI0GDxl64qYnfxzvJiORaDjhTpnTWNQbfbUcXTHhQrUqa33YTGoJ3PwNoc7uY2wCKFzYbcycNaZSFM1fs8rLQ5YnMCVtrM/kJy7bUZAhr93ddmEMzP6a+CJa58Vpu9ogbZ0F82pkjvbqaPz3KE+0KRgnaiHAbnA55lGgOsjFEtxwjEhmyogssgem9tU6C5vTC+qBfjG2rqcBgbCCKwyAYSDbWareXVyIDEPF01+hpbC85+woKuGtqdRm6nRDbFqmMXrizeHhq+cFnjXwia031g/Nlb94e4zJ1n87MDi7eGxi/dwLvifcCO9l5dvDcycpE7oSl6zvCinemrd+ZuDUIqKTMLicNn+5Ft8vpdBiQbfLd/fXJ28sZdaCgTSojArhu4vjIzN3KBBz0IidJP9s7eG14anRikAJKCNNiZZ2Ch5gxcXy3AylkSBbs8Ojl4mhsR1fAAiTGb0yWLC5gZiBHMeFW1EafbquP6uhow/OtraQ+bbAX8AnF4Yh02Z12TMrmRSPdNZW3Y6QIdEFYxxqFyTxMdnGp+2IM1PQfLwY5KvWSqffVGLHZZ1MgPrdZmnv/Ya3NlbczjxWCrejnXAbbVFLFqCyJIQaXmI4aEy0vGQH8PERYvYImkPwBpiDaoNmM6CpgsMZfbJPsDFCwYO+0NgOgxg3H1FPSEQmob0+EIageIajN6xJUOn99UukfcQEg2FAa3YOJV/cWk52psyaQSjtpGOhSoT3F1BthLRcJgSDXrIsWqN+aisYDNAeGl2owGQC5kMimFBKSgIjQ14vOlo1El0VALWmKrqs0lEkGnC0gAw5N/inS+dnMul3GDSwErzAy0RAL+TCIOTkNH2F8MZVVdLp0KezzaQoT4p/wdlmxnBrXL3M7zdICNBoO8DM7AlUqlrdiq6zoB6/OyXhFe6K/fZMl1ZfOwFQJbSdhkwmqooZQBh2Moq1lvxOvdV6/O32HOoV5IJWkzygS2oz5fJh4zi3TQ6q2qzaYSofwKKXn+kM7b0p7LpoFt4lnh6rAe/UpHIopQMUbIb63Yj2etXmApm0466jBGmgaKf0MOZyoQxAytYLm6WlaZCYb8ZiuqI/akXkBlYjFwE2CRIqPJFcOkx8cVQ6Fn0kZpZcYf9JrMqA69oKw51Tt+5dbD5ZUxSBZZ7AbvQ1WZGx5bn5kflOPyivehnTxeWJ4dHJHFMsopCoGrtx8ur45dohMasMgJlp8fn3wwvzT07sCY2rUI2AuXniytzI9NaKfhh+QUBYrgI1VSuHDjI3UiEV3c5ghhVvA5IeV5WJX+LCykHQAJe4bxW5EN6EDn2f/DJHpgAYMK/JIsZCZhLA4QsaASSMEDvIP+AKKyIb/CMmDxggeJyPYcLBiV6q5UkYfl0FIW/DxYMJ5MNVq9bOGeRs1CZCZ5sc1ooaqXAkhrM00/VS9S8MJ65UFKIV1gSesarCRKvcjGnHuwsl9jD1YICHyiCRrVZvBVCQSZBqtycpOI7DHBT5avzIrDeggpZMM78uAbbQBpUoVROSWdneXOfbwTM3iQk72A1iDNBh6kFs7hdu3AKgGBQ3ahtBJVo/FIVGWyMeVVChZ5CrAMMaE0HUEse6qrQtWAVW0GLLsGAScpko3/mkorAQuJqY2IqL12XTV6J3jQ6sVsZ8nrvKqKAizqRUuQiJz76yUgYYlPC2YXgQUgEsH8+9vM0qS/vJssvyEA2UB++/rL8oE9yqDSCoYHkmyCAaqukAX78cx2llRwMhDaQB7QMxqDEecS5x7mWQWjjArhIQUPcqIjaAnyKzyzI8UVHQwXjUo1WDxWwJZQJqr+Kv4FO9+HppPnX8XpSCGbixMaP8n7Z/ogj5hB6USSk7BQUAQWiRL9R2AlEeyvpAd+QjXBt7YTekL2KKMIGm+SA0++GupL+N6fqF5QB75/Dmxe19qXSHPvdL8iFNV/oAxDooYfierJo+aZRO1BSj5RDRKy4Sn8uwcrPgI88i9H+l+FRTbAotKX1JtvFR61P5BV7MumnN+q3kKZKn/hBQ+oQTE88+yBa7BkEg0cKUx8BpbbvtmRPVgtJ1P2NYYiSctWAKeQ0thMpfMRycXEvTZr4mwPUMEKEe+Dlf1s+6rANyiYnC8/ma6IHvJIwe6rgvqmtBAPMIn85BYRK3gHElQ6siEzYaU0BUtjJD9zqHoJm2+zaiEw7Dyo6T4AxF940DyoOXx5DlbqxbuqlwLiZfWiMRg7eWe/AK5gVeGqXvYFsJINpeVrUW1mUQUEktvzbVYl8CngSrKpnFRFC8SWb4zCnpZBHg7Hs/XykSoIK874fH6tMQVYJaTwE4kF7lasCuYdophQ7A+O1pgaf6mcEFJkf+QUEfEcLHlfY3+KM7w8B4sCJSCZAtv3n5YipeCnsq0K0mvvRR7uAHoJLA03/KQglA7IX2wE+//Co3CR/6kZI6QMQZz6Fy9EYh536qfKhu88LHGtErX8+cR/AVZlwzeGCi+sV34Wii28MF0elbg/XdWr5Asq0v7aVwgeskG+SXgpvGttVrAolqRDmigUgkflVyn73llgAZbvJCaNRfGoLiOFhLu/QElEvXhBosrMehUtqjwaOBMLiGKZIoDkZS8RRCysqyUSh8CnFKhg8RPZWIUES2OePK4oLPapTiqdx8oKsJLOemX1AD/JM1BwDvMQjJVW1V5O1gubZR8sq5B692DxQgOtXB3WU+Wr/DQen4UlTva1GTmZmW3WtOPCo2A1GtCefW3O44qIegGWhifqFYmMPEKK7J36VzVGq1eQrx40D+kQhchcqBeZ2SlxCGiwkpNI2De+ClzaptGGYl7oE9BWlLBQiowkakKET35tS+lEyIOfkEGS7QVY8D4BtUV99RekAewkJKpVMP6n5EXhQbrKXfj5kkfK2p9tL+dzsMiJn5Jf6z8f4lHxXuHhgKlB0n7+3EehT8smiGZiniH/VViVLU9nHJVC4s+FlVqgAMu47uNngd0bbHns0jz1nn/EFBIZp2DxEDCfkk+njm3lKX8FJY9kw/yGDGizyolE3nAgjVEpeAgI9X5fY9gv2BRKtgqNkjqRgRvwCCsl8AUpdhUsJl8a3u1lVTbYVnnCRSIbrKtS9SpYoh3mDHLubwn+gtWDMvOAzFliYGAwcUNoTiUIgrIqR7mRFpOUhkZSHzHU2sryx3QooxndyV1Rq1wYZLbDtFWdOqPbwCP4KhuQQ4qqqrOJ0cREVWZJpaeqXlmddKIVC2y50WWoUwOHbKgXtdDJve9gDQs5UumqYpxmdKFQr0MH2Fq2WbIBpYStrt9fLwwcoM5TUaf1twBbVu0EEvKwwC0XKww1VjG4FCz7C1wBLTJwSrggm13wjH8VklEsawHmaXAxj3rUGLFT+RTmRJ7SZ8YIL0IbGizYE8IComDk3GW+C/MqLuaJ9nOXyMv5FLyMvMsT7fxXBFAhkcwueZQMYhAPnoan/FLpeEFpKJMCaORU39yVO2MXr4o8k/8g1c5dnr9yd7/xhX+n+2/MXr5NV46WjTkXrt4d792DhWAbe/fS4vX7z8P2XZ+9cnvoVG8eHVxfCNQ0OzASeeoBanjBS10r0JfnCkp3DKHP2ChuES0RFB8kLEOF5RMJi8SXwFY/A4ucUu9zsIZgbcvzsAYFuzdZQZ1+rl60BPWG69sAq5EyYIvKvZX1qIVT4j5YZHMaalFggXpAJZGmDhAK3hU4QHy1zaHGdtMeLGezWLMZvGFieAA2khOXrjpqkUUcaQwKNBfpvA0toQ4Lr3svECid7rw+wZx3nNPXW1GTcnnVChqygUxNh3SBlo6IzdEuh8Xx4C80KeX2uZrb8K+URlhndX1nIGSpYEQIVUt7sS5ssSW9/vYjaAkbQ9gjhlww7O0w85YRgbUf0LlqmzKphK1adhWLrEGBEZc7FQqrEznsGphQV9UZi/ttdq6dq44c0HkbWzuzaeU4ByxsYcBGPd5sLGbSMbw3a4G6oTfmUsmgy4VWoUB25JDO027KdOfUcRm2pJiOj4jfl0knzXSca85vHpfJpADbwa5JgQd0vjZTtifnamgmLKSbOJIBm04lTBXV0PIAS1Wl3NiVUrDPtjmXEUcyYVWbI25PJhZTq2/aUJZV5WJxn81W6C9w5a5tyqaSNmM9VTwRJRjBoM2e9AcKK1kKz1l/EHjWCAbCC92pwhiFbRUSBFKNb5Eu2GqKO9yF8UW9INqEw+1q0caXrHqqd6z/+uPZxWGJ6YMUyIuhkxfnbg2ujk3d106b0+6BHFgbn5m4dRf/KpkCSTLae/XB5NzwxcuARU4IoMFTF2du3V8embx/hu5jgWUws7WJmcnb97V9QEqSKXnBb9Ff9ieqdIbwQOL+ZXgNduAXhn1WAzpisJSoOVw4n5MGRfJ+QcCUEgOwXGBvLf2IQfnetJR/BVaIKf/sz8bvfwVWS5EH8+HzsHwkW2GHhYLl/VDPwL7QZhAQxJamifABQ1LXKDEUNJHCg6kP6XwRekJO6mI6nm5VYkWKZfNklhMQ+eYGpdIqewlPtyIn26map69G7fumTR4W4anafL3IRp+C3gj2oDcHraWGKM3DdF1Qi0DxSCznrA6aZjOkChZeWQtRUoBFyfSqVtc7JVysHByj/8JSWQMVQ5UmvRBYY7293AhY9pS41Zt1Vc7aRlcJMdPBqB2UBZaqWghE1WbkpN8XsHWNUKDoVVH1UqJVu+uanCXc7gDuBR5oB1XXu2sagR8qL/QZM7+rrsleWYuSqYpKvR0V1ZBc7hKqJ5CSqEVg6wDLBisJLlob6lWnPYhV1ebyKld9M+plmwGr+ltV6zI22PdGLd9fvbHgYUR+C/pb0+g6zAVNwKIW9rfCiDmsAIjvPTyzzdosCErjiet9qisagzxQGBWuFKyMbzXGnQgprgB7Uk8BO/ddBVPvc9z0jZ27PHHuitJiVCK34/ReHTt3aVK5gRSzAxbqyFmxxRTjA+TcpYnzVyCP9mDP9o1cvAJYTQCpcpUYY0FSFiCl7vyjvT8jfQopvzis6nz+IS7Qc3wTcQp3iogLebR3DWuFhwjNw+bz/KKw/2/qfR5We9/XGDxMR8rzsPvbjLryhWgUrGrHO7KB1Eis+x9hif0pyI+cpHVpCQvRqmCBSFTfUqzA4kWyMR3veW8FKFhlphwRIlY/1Yvy4/BFYDVhJ0e0UDISKQgEVik1+3DCqZjMjxepgjnxc8+PI3nAA1AEZKLGT5SJbHjox0Etqv0KV8gmQeBVUUhkXZAFB7n8rIpCNrAc1Y09TtZgLQLL8gucj5bI+WFkUL1D86Bl7NWrKpJErc1S0X5Y/FSwWr0FKaA6IpsJgRy+5zEmsESgKop/SX8h1/gi4lvyEy2qv0pAsF6FQFWOdI3VUffZh2dUBPnFMeKgq0Q8sOA0j3geEC/sV77N4GJtM01+CWxIDCvKF3C06D74F9/qBdmUkEI2ZKbBBYlzitdmIAOkgcqplsD47z5YSAPAFgTQ/7pH4eL/p4/QFr6fTy88v9hfLOSFRDyKpH7ug8yKk/OPRoI/p7T9j2o28oMxVEqB9xT/IMNeOfmHO1/y/+Knesd3gU+YRyQCW5IH318L3gvFMl1A8GhyUGNULZE5lRx5tiK8qAxoLd4VLHLiBSyq/i1wqcrzQptpjSpYpLNetLkAm68UUgDpeAqwKlEV7lK+LRRC59czMwcegKgXpCBdtV/VS1gJIq4y46eGq3wtfJcHFQkUH7awkDNfLJ6Cnq6yqXfVX7CnEiJ4lLyALgN5gXfIl2dUin1P4S/kVO8F9UfL8zJAJYn+DQLo5RrQC89LszFRdTj/UGy/8LyYiJSXJj6Xoub/5xJfAivZXpr4TMr/S9gXE5FCLeNZuqHLY18eeV4CSxVDVJsCVeGFiXvUzwd5WGCe2tSDGXIPVnvojFB8oj2iT3EufTbRXCTXe+QTQamAhUagOI0p8gJA5W7QAOWBRgAVwK12XSrmgRUDNUE0ApXIetFgLQrdXguVJqIcxqqdaEYBVsuG6R1tVktF+RaiFyY0Rrl1RFjg4UYbNE8wU+g128y1eaIaiSgTsPRYoV5pMxLB0twoCFkDVSsPy3Q1lDJ2e7CiYhSEI3pnYgpVG9U8JYmgVNIV/Rys1EtY5JSKuJUs32YUpQrEcBS0RfUAFriy78OVKhC4wjdzCiDLBKLy2mKhBIwRmqf6q3QW8OmQCsQhnAtpgkcdpZJ/9x6eTgdT5+ULBZDsWlQ/NQEkVhjAnxFDZ1AgVar/hwKIK1nPx3YdP0un9z6Jw5fxs5rDvJCIbJK4/yiG3nmkys6AFYWUCvx05l0Y+UfvKKmUxP08yauy7RIQupACFLtKq/flYSJhj/yrsKzXXQbzuJAHzy9Yr8DStC7kwcMwY64y7prbn4hs9nwAB6EAPWA95TX78pB0UCly7ofFu1tfa5fGAFBRD5rhqagFwfFdHmRz6YweCcy8H9ZXWa9CpilAFlJi8Fc3CT9oiQBBFb4q7srPw1LkaQsFhdkeibqqUFO7VXbroQQyRhGDBPnrWzWHvTQJ4KHmDruEK9IKBB/qjdEOm4pwojwv4DFPfUuw3VIIhQNAMEzMbHfXN7NAxVHgusrahMOtLilBpeBVMJ6vVRznsmtcwVpLDHGHW4thJLCOg+WuqvqEP2CpREcomAhbXB4wW6OufBwitBl9LK1KenzeNtPe6gEY28g4RIxhJDuJIDhQcsBii3t8ZllWYzaICcYwCtAZnPfNMy6PsaEAq+Q16g2arBGPR7QhrV7AJlxeX5vEP5I2M3YS2uzzW+TYiioQrfK3mqI2pynfX6AR/Y1ZHJ7G1n1t5s5+4MrGq9A4RpTFwLMctYHs05onQxBqNfMYh8xGYFU6Ty5cXr43SjcuBIfYVhAfk5dvzd24//wC1LV7k328z10JJnqd3700f+3eqGyYVtlQyGTvtdlLt+TSHQXIWmb6b45fuPLvIIBeTEHdY4wb8kwiUiTxmbNgDnAyiVWGUD1Qbul/zf/kA0FgkMR92cjhlSK89idWvEx4GSBHnoPNC75CIung3wrLNr8c9oU2IxuFV15kMPHnCc0XBJ+zrFpdqELqVIklBogb0E1BBoEcuT1X7n3eD+vS13DRfc+vREcyV5EhPvKlAcSpM7oqnhFeyOmprGckprycIsWXGjzGRrqihTFUosNQ667mcaQCIB5fbTOPQYlzFz1lfl2Vr7EVHcQ7GQNmAjm8gYfpBFa4lH/5m9qcVfVQH1SBVCL0xkC7GTICIgASimUCtrYp2MQjY8wjOcHYIcYhasK/Wn8hWfIxjNAYoIsqG7rW3IacMhzS7CJ2jee5Gng7E0ojbrmiVBey2h16IzKgXgXram4FLDdM5GEtRwxhi51XjxQcZOhvVW3I5rAX3PPAcxHrDZgshNoHi+bxdIvqL3IeIkrDqFfazHrzQoRxlyhENIGL/gZbTXIDj6b0AbcQ0wpXhJWLJ4FAp7HBV6+FslKYgWLorW9BRQrPNKAggM5dmr1+j+vueSFCt07/dZ4DLQgg0TmmB24yIGreN8T8ZwemL90SWJXSDwE0fv4KZBB1pXwiciJl9Pzlfxcf0P5yC8/PTSR+9x4ZgOefFxOJ7pclPpeC5xcv8LkUPP92WI0Kn3mQ8nyiZHtp4jMpyPNi4r8dFlz0kgLF2nomhdnIM88mIttLYJXVs+/BLP1igchG42VfCoqibZUXZ3jwAsAXC0S2F2GVCbY/UWC5sr7/ASyNl30pChbfTFQiGwJCTpa/mO2ZjiAb2nyQd0mpFJUfKoPqiJatAPtsR9AFM6pQIjj/5GH3Ul5SL7rGeiXeEzKI8GLiC7B4mKL6W7C2fkFcwabbh+cCnzKe1x7b8oEMggkmcmfvgWYE6bM/RSU+l0Khhmz/DibYv8fzTP//4/mP53/+A+7S+FBZN/lEaAF4tL/yD9PFfVtIV++Fp5Dyctj8v4WU/U8hRVWh8hRy/sv17n8KUC95RAA9n/iLPc+x6v+C5z8E0H88/599MPPv07yEqTCx76Vojzjdn02UbOJekZ/CsXtO9308/KxiCPEk+g4SlWzKZ1bxnvYA8Y1KC+Zh4WEVz8JCfzEz3PLzsC9qfM/B4oEl9Vy9fFjv8/1VbX4u8cVsz/c3n1h415j0GZfu/9znPwTQfzz/Kx/SunjQnklHivja9ieKj+/FRYay6mend2Zzle539uOFzv79DjjuHS8xeAx1FrVbXUwwMO1LfF5Fek8Vj1OgwDzPswp/TbM5f0QeD0Bc+lrPMz4vwvqMjXYGFXkGNlALWMrEZ2AlfM/LYPN+K+QvMfAAgNSLFLRctZlnO/bB4l9PeY1D/Pr4KVUTV1zceAmunvctIrGAZ41Jz7y4iPQ/5znd/38D9oRsOOEVd9UAAAAASUVORK5CYII=)"
      ],
      "metadata": {
        "id": "18U3bIP_qnBH"
      }
    },
    {
      "cell_type": "markdown",
      "source": [
        "**Final bit of housekeeping...**"
      ],
      "metadata": {
        "id": "xQCufP8_B2oo"
      }
    },
    {
      "cell_type": "markdown",
      "source": [
        "##Remove the unencrypted contents from Colab    \n",
        "\n",
        "*note: the following statement removes all files in the `\\content` folder*    \n"
      ],
      "metadata": {
        "id": "ORcgg4bFQHhn"
      }
    },
    {
      "cell_type": "code",
      "source": [
        "# Clear any uploaded plaintext files\n",
        "!rm * \n",
        "\n",
        "# Overwrite any variables with plaintext content \n",
        "file_uploaded = False\n",
        "df_keys = False\n",
        "api_key = False\n",
        "params_str = False\n",
        "parameters = False "
      ],
      "metadata": {
        "id": "4cDrUFfoQxx4"
      },
      "execution_count": null,
      "outputs": []
    },
    {
      "cell_type": "markdown",
      "source": [
        "**REMEMBER TO DISMOUNT YOUR ENCRYPTED DRIVE ON YOUR LOCAL MACHINE**"
      ],
      "metadata": {
        "id": "cQInfWP-0S_u"
      }
    },
    {
      "cell_type": "markdown",
      "source": [
        "\n",
        "\n",
        "---\n",
        "\n"
      ],
      "metadata": {
        "id": "nqq51S8JRRYG"
      }
    },
    {
      "cell_type": "markdown",
      "source": [
        "####***notes:*** \n"
      ],
      "metadata": {
        "id": "hvs93EMGx1i-"
      }
    },
    {
      "cell_type": "markdown",
      "source": [
        "\n",
        "**NOTES AS OF APR-2022**\n",
        "\n",
        "The file `file_name` is an encrypted drive file created using VeraCrypt.    \n",
        "\n",
        "The password to open `file_name` is 'password'.    \n",
        "\n",
        "The encrypted file and its contents are designed to be used with the Jupyter notebook `keyvault.ipynb` by Professor Patrick (Apr-2022 version) which is available on GitHub at:    \n",
        "\n",
        "* https://github.com/ProfessorPatrickSlatraigh/notebooks/blob/fa4314026c2293a4ad206b3377df2e33edd95808/keyvault.ipynb\n",
        "\n",
        "The `keyvault.ipynb` Jupyter notebook is also available inside the encrypted drive file 'file_name' which can be accessed at:    \n",
        "\n",
        "[file_name](https://github.com/ProfessorPatrickSlatraigh/data/blob/main/file_name)      \n",
        "    \n",
        "\n",
        "The encrypted drive (`file_name`) also contains the following plaintext files:    \n",
        "\n",
        "* api_keys.csv - a comma-separated values file of API key data    \n",
        "* api_keys.db - a SQLite database with a table `api_keys` of API key data    \n",
        "* api_keys.xlsx - the Microsoft Excel workbook used to create `api_keys.csv`     \n",
        "\n",
        "Update the files with your own API keys for the example services and/or add services.     \n",
        "\n",
        "**FILES DO NOT CONTAIN REAL/ACTIVE API KEYS**    \n",
        "\n",
        "\n",
        "*Tweet comments and suggestions to @patrickslattery.*       \n",
        "*Connect on LinkedIn at: linkedin.com/in/patrickslattery.*     \n",
        "\n"
      ],
      "metadata": {
        "id": "bP5w8rcmx-P5"
      }
    },
    {
      "cell_type": "markdown",
      "source": [
        "\n",
        "\n",
        "---\n",
        "\n"
      ],
      "metadata": {
        "id": "EA0_GUeO5r3L"
      }
    }
  ]
}